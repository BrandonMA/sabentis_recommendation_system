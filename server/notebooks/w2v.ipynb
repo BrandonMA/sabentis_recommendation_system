{
 "cells": [
  {
   "cell_type": "code",
   "execution_count": 38,
   "metadata": {},
   "outputs": [],
   "source": [
    "import numpy as np\n",
    "from gensim.models import Word2Vec\n",
    "import re\n",
    "from nltk.corpus import stopwords\n",
    "from nltk.tokenize import word_tokenize\n",
    "import unidecode\n",
    "import numpy as np\n",
    "from scipy import spatial\n",
    "import numpy as np\n",
    "import plotly.express as px\n",
    "from sklearn.decomposition import PCA\n",
    "from sklearn.manifold import TSNE\n",
    "import os\n",
    "from gensim.models import KeyedVectors\n",
    "import numpy as np\n",
    "\n",
    "# !MARK: - Constants\n",
    "\n",
    "file_paths = {\n",
    "    \"Auditorias\": \"../chunks/auditorias.txt\",\n",
    "    \"Ausentismo\": \"../chunks/ausentismo.txt\",\n",
    "    \"Estructura Organizativa\": \"../chunks/estructura organizativa.txt\",\n",
    "    \"Riesgos\": \"../chunks/riesgos.txt\",\n",
    "    \"Información\": \"../chunks/información.txt\",\n",
    "    \"Emergencia\": \"../chunks/emergencia.txt\"\n",
    "}\n",
    "\n",
    "questions = [\n",
    "    \"¿Cómo se diferencia la ubicación física de la operativa?\",  # Manual Estructura Organizativa pág. 60 y 73.\n",
    "    \"¿Qué información se incluye en el informe de la evaluación de riesgos que ofrece la plataforma y cuál es su utilidad para la gestión de riesgos en la empresa?\",  # Manual Identificación y Evaluación de Riesgos (IER); pág. 24 - 26.\n",
    "    \"¿Hay indicadores relativos al cumplimiento de normas?\",  # Manual Auditorías pág. 16 17 30 y 31.\n",
    "    \"¿Qué papel juega la estructura organizativa en la funcionalidad general de la plataforma y cómo interactúa con otros módulos?\",  # Manual Estructura Organizativa\n",
    "    \"¿Qué permite realizar la evaluación de riesgos?\",  # Manual Identificación y Evaluación de Riesgos (IER)\n",
    "    \"¿Qué tipo de documentos se pueden almacenar y compartir en el espacio denominado 'Documentos' y cuál es su importancia dentro del contexto de la gestión empresarial en la plataforma?\",  # Manual del Repositorio documental\n",
    "    \"¿Se pueden llevar a cabo auditorías internas?\",  # Manual Auditorías\n",
    "    \"¿Cuál es la tasa de adopción de esta plataforma en el mercado?\",\n",
    "    \"¿Cómo se compara esta plataforma con otras soluciones de gestión de SST?\",\n",
    "    \"¿Qué día hará mañana?\"\n",
    "]\n",
    "\n",
    "# !MARK: - Classes\n",
    "\n",
    "class TextUtils:\n",
    "    @staticmethod\n",
    "    def clean_and_tokenize(text, language):\n",
    "        text = unidecode.unidecode(text.lower())\n",
    "        stop_words = set(stopwords.words(language))\n",
    "        text = re.sub(r'[^a-zA-Z\\s]', '', text, re.I | re.A)\n",
    "        tokens = word_tokenize(text, language=language)\n",
    "        return [token for token in tokens if token not in stop_words]\n",
    "\n",
    "class Model:\n",
    "    def __init__(self, original_paragraphs, preprocessed_paragraphs, language='spanish'):\n",
    "        self.original_paragraphs = original_paragraphs\n",
    "        self.preprocessed_paragraphs = preprocessed_paragraphs\n",
    "        self.language = language\n",
    "\n",
    "    def predict(self, query, similarity_threshold):\n",
    "        raise NotImplementedError(\"Subclasses should implement this method\")\n",
    "    \n",
    "    @staticmethod\n",
    "    def _cosine_similarity(vec1, vec2):\n",
    "        if np.all(vec1 == 0) or np.all(vec2 == 0):\n",
    "            return -1\n",
    "        return 1 - spatial.distance.cosine(vec1, vec2)\n",
    "\n",
    "class Word2VecModel(Model):\n",
    "    def __init__(self, original_paragraphs, language='spanish'):\n",
    "        super().__init__(original_paragraphs, [], language)\n",
    "        self.embeddings_path = 'w2v_embeddings.npy'  # Path to save embeddings\n",
    "        self.model = self._train_model()\n",
    "\n",
    "    def _train_model(self):\n",
    "        sentences = [TextUtils.clean_and_tokenize(paragraph, self.language) for paragraph in self.original_paragraphs]\n",
    "        model = Word2Vec(sentences, vector_size=100, window=5, min_count=1, workers=4)\n",
    "        model.save(\"word2vec.model\")  # Save the entire model\n",
    "        return model\n",
    "\n",
    "    def _get_sentence_embedding(self, sentence):\n",
    "        words = TextUtils.clean_and_tokenize(sentence, self.language)\n",
    "        word_vectors = [self.model.wv[word] for word in words if word in self.model.wv]\n",
    "        if len(word_vectors) == 0:\n",
    "            return np.zeros(self.model.vector_size)\n",
    "        sentence_embedding = np.mean(word_vectors, axis=0)\n",
    "        np.save(self.embeddings_path, sentence_embedding)  # Save the sentence embedding\n",
    "        return sentence_embedding\n",
    "\n",
    "    def predict(self, query, similarity_threshold):\n",
    "        query_embedding = self._get_sentence_embedding(query)\n",
    "        similarities = [(self._cosine_similarity(query_embedding, self._get_sentence_embedding(' '.join(TextUtils.clean_and_tokenize(para, self.language)))), para) for para in self.original_paragraphs]\n",
    "        filtered_and_sorted = sorted([sim for sim in similarities if sim[0] > similarity_threshold], key=lambda x: x[0], reverse=True)\n",
    "        return filtered_and_sorted, query_embedding\n",
    "\n",
    "# !MARK: - File Contents\n",
    "\n",
    "file_contents = {}\n",
    "\n",
    "for key, path in file_paths.items():\n",
    "    with open(path, 'r') as file:\n",
    "        file_contents[key] = file.read().split('\\n\\n')\n",
    "\n",
    "\n",
    "# !MARK: - Model Initialization\n",
    "\n",
    "models = {}\n",
    "\n",
    "for key, path in file_paths.items():\n",
    "    with open(path, 'r') as file:\n",
    "        file_contents[key] = file.read().split('\\n\\n')\n",
    "    models[key] = Word2VecModel(file_contents[key])\n"
   ]
  },
  {
   "cell_type": "code",
   "execution_count": 39,
   "metadata": {},
   "outputs": [
    {
     "name": "stdout",
     "output_type": "stream",
     "text": [
      "'¿Cómo se diferencia la ubicación física de la operativa?' does not have enough similarity\n",
      "Question: ¿Qué información se incluye en el informe de la evaluación de riesgos que ofrece la plataforma y cuál es su utilidad para la gestión de riesgos en la empresa?\n",
      "Closest Model: Emergencia\n",
      "Similarity: 0.93\n",
      "\n",
      "'¿Hay indicadores relativos al cumplimiento de normas?' does not have enough similarity\n",
      "'¿Qué papel juega la estructura organizativa en la funcionalidad general de la plataforma y cómo interactúa con otros módulos?' does not have enough similarity\n",
      "Question: ¿Qué permite realizar la evaluación de riesgos?\n",
      "Closest Model: Emergencia\n",
      "Similarity: 0.96\n",
      "\n",
      "Question: ¿Qué tipo de documentos se pueden almacenar y compartir en el espacio denominado 'Documentos' y cuál es su importancia dentro del contexto de la gestión empresarial en la plataforma?\n",
      "Closest Model: Emergencia\n",
      "Similarity: 0.90\n",
      "\n",
      "Question: ¿Se pueden llevar a cabo auditorías internas?\n",
      "Closest Model: Emergencia\n",
      "Similarity: 0.91\n",
      "\n",
      "'¿Cuál es la tasa de adopción de esta plataforma en el mercado?' does not have enough similarity\n",
      "Question: ¿Cómo se compara esta plataforma con otras soluciones de gestión de SST?\n",
      "Closest Model: Emergencia\n",
      "Similarity: 0.82\n",
      "\n",
      "'¿Qué día hará mañana?' does not have enough similarity\n"
     ]
    },
    {
     "data": {
      "application/vnd.plotly.v1+json": {
       "config": {
        "plotlyServerURL": "https://plot.ly"
       },
       "data": [
        {
         "customdata": [
          [
           "Auditorias"
          ],
          [
           "Auditorias"
          ],
          [
           "Auditorias"
          ],
          [
           "Auditorias"
          ],
          [
           "Auditorias"
          ],
          [
           "Auditorias"
          ],
          [
           "Auditorias"
          ],
          [
           "Auditorias"
          ],
          [
           "Auditorias"
          ],
          [
           "Auditorias"
          ],
          [
           "Auditorias"
          ],
          [
           "Auditorias"
          ],
          [
           "Auditorias"
          ],
          [
           "Auditorias"
          ],
          [
           "Auditorias"
          ],
          [
           "Auditorias"
          ],
          [
           "Auditorias"
          ],
          [
           "Auditorias"
          ],
          [
           "Auditorias"
          ],
          [
           "Auditorias"
          ],
          [
           "Auditorias"
          ],
          [
           "Auditorias"
          ],
          [
           "Auditorias"
          ],
          [
           "Auditorias"
          ],
          [
           "Auditorias"
          ],
          [
           "Auditorias"
          ],
          [
           "Auditorias"
          ],
          [
           "Auditorias"
          ],
          [
           "Auditorias"
          ],
          [
           "Auditorias"
          ]
         ],
         "hovertemplate": "color=Auditorias<br>PCA Component 1=%{x}<br>PCA Component 2=%{y}<br>label=%{customdata[0]}<extra></extra>",
         "legendgroup": "Auditorias",
         "marker": {
          "color": "#636efa",
          "symbol": "circle"
         },
         "mode": "markers",
         "name": "Auditorias",
         "orientation": "v",
         "showlegend": true,
         "type": "scatter",
         "x": [
          -0.6694428,
          -0.66560435,
          -0.66115993,
          -0.6676102,
          -0.66137356,
          -0.6633156,
          -0.66348624,
          -0.6619346,
          -0.6611391,
          -0.66363823,
          -0.66240203,
          -0.6566467,
          -0.6641058,
          -0.6618365,
          -0.66137356,
          -0.66190636,
          -0.6615354,
          -0.6754276,
          -0.6633294,
          -0.6745296,
          -0.6564618,
          -0.6663982,
          -0.6564618,
          -0.66368806,
          -0.66605526,
          -0.6664291,
          -0.66345805,
          -0.66439426,
          -0.6709473,
          -0.6646848
         ],
         "xaxis": "x",
         "y": [
          -0.0031871528,
          -0.0019145148,
          0.0002883098,
          -0.005934457,
          -0.0057275733,
          -0.0028642614,
          0.0077234106,
          -0.001778003,
          -0.0010114637,
          -0.0008758428,
          -0.0010254129,
          0.0018990337,
          0.0044651395,
          -0.0018353394,
          -0.005727573,
          -0.0036689416,
          -0.00075899955,
          0.0009105581,
          0.0007676079,
          0.0033000368,
          -0.00020795825,
          -0.0009254552,
          -0.00020796194,
          -0.0023339554,
          -0.0050674216,
          -0.0054990216,
          -0.00027494685,
          -0.0024652814,
          -0.017797608,
          -0.0047692843
         ],
         "yaxis": "y"
        },
        {
         "customdata": [
          [
           "Ausentismo"
          ],
          [
           "Ausentismo"
          ],
          [
           "Ausentismo"
          ],
          [
           "Ausentismo"
          ],
          [
           "Ausentismo"
          ],
          [
           "Ausentismo"
          ],
          [
           "Ausentismo"
          ],
          [
           "Ausentismo"
          ],
          [
           "Ausentismo"
          ],
          [
           "Ausentismo"
          ],
          [
           "Ausentismo"
          ],
          [
           "Ausentismo"
          ],
          [
           "Ausentismo"
          ],
          [
           "Ausentismo"
          ],
          [
           "Ausentismo"
          ],
          [
           "Ausentismo"
          ],
          [
           "Ausentismo"
          ],
          [
           "Ausentismo"
          ],
          [
           "Ausentismo"
          ],
          [
           "Ausentismo"
          ],
          [
           "Ausentismo"
          ],
          [
           "Ausentismo"
          ],
          [
           "Ausentismo"
          ],
          [
           "Ausentismo"
          ],
          [
           "Ausentismo"
          ],
          [
           "Ausentismo"
          ],
          [
           "Ausentismo"
          ],
          [
           "Ausentismo"
          ],
          [
           "Ausentismo"
          ],
          [
           "Ausentismo"
          ],
          [
           "Ausentismo"
          ],
          [
           "Ausentismo"
          ],
          [
           "Ausentismo"
          ],
          [
           "Ausentismo"
          ],
          [
           "Ausentismo"
          ],
          [
           "Ausentismo"
          ],
          [
           "Ausentismo"
          ],
          [
           "Ausentismo"
          ],
          [
           "Ausentismo"
          ],
          [
           "Ausentismo"
          ],
          [
           "Ausentismo"
          ],
          [
           "Ausentismo"
          ],
          [
           "Ausentismo"
          ],
          [
           "Ausentismo"
          ],
          [
           "Ausentismo"
          ]
         ],
         "hovertemplate": "color=Ausentismo<br>PCA Component 1=%{x}<br>PCA Component 2=%{y}<br>label=%{customdata[0]}<extra></extra>",
         "legendgroup": "Ausentismo",
         "marker": {
          "color": "#EF553B",
          "symbol": "circle"
         },
         "mode": "markers",
         "name": "Ausentismo",
         "orientation": "v",
         "showlegend": true,
         "type": "scatter",
         "x": [
          -0.67018116,
          -0.68261987,
          -0.66952884,
          -0.6679136,
          -0.6664415,
          -0.66543585,
          -0.66255563,
          -0.66808873,
          -0.6733951,
          -0.6628302,
          -0.66582924,
          -0.6675776,
          -0.6763186,
          -0.665118,
          -0.66414404,
          -0.6709363,
          -0.6640303,
          -0.6651283,
          -0.6646704,
          -0.664409,
          -0.6617911,
          -0.6614967,
          -0.66148657,
          -0.66745424,
          -0.66484165,
          -0.6763185,
          -0.66755545,
          -0.65256405,
          -0.66204673,
          -0.6682383,
          -0.66327643,
          -0.6617911,
          -0.6627522,
          -0.6652223,
          -0.6695643,
          -0.675632,
          -0.6714393,
          -0.67090815,
          -0.675632,
          -0.6714393,
          -0.671804,
          -0.6729765,
          -0.67217207,
          -0.66594803,
          -0.6617911
         ],
         "xaxis": "x",
         "y": [
          -0.015911577,
          -0.019850453,
          -0.0020824233,
          -0.0015283175,
          -0.0032492378,
          -0.0026676871,
          -0.0030696283,
          -0.0016013297,
          -0.01145282,
          -0.002436527,
          -0.0029180555,
          -0.0035161918,
          -0.006506874,
          -0.0017213323,
          -0.0013052002,
          -0.004428397,
          -0.0027317465,
          -0.014392054,
          -0.01047474,
          -0.00986236,
          -0.003738606,
          -0.0044136173,
          -0.0044368966,
          -0.015195393,
          -0.004390749,
          -0.0065068756,
          -0.0035664195,
          0.015181446,
          -0.0021664137,
          -0.010178911,
          -0.0046853316,
          -0.0037386054,
          -0.0020339056,
          -0.0025254474,
          -0.010297405,
          -0.014046429,
          -0.0019119938,
          -0.008574407,
          -0.014046428,
          -0.0019119928,
          -0.007425744,
          -0.0038767105,
          -0.0018312983,
          -0.0040109754,
          -0.0037386059
         ],
         "yaxis": "y"
        },
        {
         "customdata": [
          [
           "Estructura Organizativa"
          ],
          [
           "Estructura Organizativa"
          ],
          [
           "Estructura Organizativa"
          ],
          [
           "Estructura Organizativa"
          ],
          [
           "Estructura Organizativa"
          ],
          [
           "Estructura Organizativa"
          ],
          [
           "Estructura Organizativa"
          ],
          [
           "Estructura Organizativa"
          ],
          [
           "Estructura Organizativa"
          ],
          [
           "Estructura Organizativa"
          ],
          [
           "Estructura Organizativa"
          ],
          [
           "Estructura Organizativa"
          ],
          [
           "Estructura Organizativa"
          ],
          [
           "Estructura Organizativa"
          ],
          [
           "Estructura Organizativa"
          ],
          [
           "Estructura Organizativa"
          ],
          [
           "Estructura Organizativa"
          ],
          [
           "Estructura Organizativa"
          ],
          [
           "Estructura Organizativa"
          ],
          [
           "Estructura Organizativa"
          ],
          [
           "Estructura Organizativa"
          ],
          [
           "Estructura Organizativa"
          ],
          [
           "Estructura Organizativa"
          ],
          [
           "Estructura Organizativa"
          ],
          [
           "Estructura Organizativa"
          ],
          [
           "Estructura Organizativa"
          ],
          [
           "Estructura Organizativa"
          ],
          [
           "Estructura Organizativa"
          ],
          [
           "Estructura Organizativa"
          ],
          [
           "Estructura Organizativa"
          ],
          [
           "Estructura Organizativa"
          ],
          [
           "Estructura Organizativa"
          ],
          [
           "Estructura Organizativa"
          ],
          [
           "Estructura Organizativa"
          ],
          [
           "Estructura Organizativa"
          ],
          [
           "Estructura Organizativa"
          ],
          [
           "Estructura Organizativa"
          ],
          [
           "Estructura Organizativa"
          ],
          [
           "Estructura Organizativa"
          ],
          [
           "Estructura Organizativa"
          ],
          [
           "Estructura Organizativa"
          ],
          [
           "Estructura Organizativa"
          ],
          [
           "Estructura Organizativa"
          ],
          [
           "Estructura Organizativa"
          ],
          [
           "Estructura Organizativa"
          ],
          [
           "Estructura Organizativa"
          ],
          [
           "Estructura Organizativa"
          ],
          [
           "Estructura Organizativa"
          ],
          [
           "Estructura Organizativa"
          ],
          [
           "Estructura Organizativa"
          ],
          [
           "Estructura Organizativa"
          ],
          [
           "Estructura Organizativa"
          ],
          [
           "Estructura Organizativa"
          ],
          [
           "Estructura Organizativa"
          ],
          [
           "Estructura Organizativa"
          ],
          [
           "Estructura Organizativa"
          ],
          [
           "Estructura Organizativa"
          ],
          [
           "Estructura Organizativa"
          ],
          [
           "Estructura Organizativa"
          ],
          [
           "Estructura Organizativa"
          ],
          [
           "Estructura Organizativa"
          ],
          [
           "Estructura Organizativa"
          ],
          [
           "Estructura Organizativa"
          ],
          [
           "Estructura Organizativa"
          ],
          [
           "Estructura Organizativa"
          ],
          [
           "Estructura Organizativa"
          ],
          [
           "Estructura Organizativa"
          ],
          [
           "Estructura Organizativa"
          ],
          [
           "Estructura Organizativa"
          ],
          [
           "Estructura Organizativa"
          ],
          [
           "Estructura Organizativa"
          ],
          [
           "Estructura Organizativa"
          ],
          [
           "Estructura Organizativa"
          ],
          [
           "Estructura Organizativa"
          ],
          [
           "Estructura Organizativa"
          ],
          [
           "Estructura Organizativa"
          ],
          [
           "Estructura Organizativa"
          ]
         ],
         "hovertemplate": "color=Estructura Organizativa<br>PCA Component 1=%{x}<br>PCA Component 2=%{y}<br>label=%{customdata[0]}<extra></extra>",
         "legendgroup": "Estructura Organizativa",
         "marker": {
          "color": "#00cc96",
          "symbol": "circle"
         },
         "mode": "markers",
         "name": "Estructura Organizativa",
         "orientation": "v",
         "showlegend": true,
         "type": "scatter",
         "x": [
          0.7743743,
          0.0046849614,
          -0.6117832,
          0.16695403,
          0.42589697,
          0.78408825,
          0.854815,
          1.1886358,
          0.92826873,
          1.4953688,
          1.0554824,
          1.1995157,
          1.1765432,
          1.0925602,
          1.2899257,
          1.4647853,
          1.2557647,
          1.1457515,
          1.1842468,
          1.1379743,
          1.1668203,
          1.4568651,
          1.6243331,
          1.0694084,
          1.2244735,
          1.0664979,
          1.975217,
          1.5597568,
          1.2708144,
          1.4263538,
          1.5779673,
          1.2019248,
          1.3010299,
          1.3616892,
          1.1516984,
          1.0675387,
          1.1927817,
          0.41154528,
          1.6930536,
          0.9394777,
          0.70262164,
          0.8815272,
          1.2075022,
          0.3112309,
          1.1884797,
          1.3060051,
          1.096896,
          1.1436485,
          1.1479107,
          0.982502,
          0.8662018,
          0.88179964,
          0.83908695,
          0.5168702,
          1.26869,
          1.139448,
          1.3199557,
          1.263006,
          1.1463089,
          1.2861937,
          1.201007,
          1.2448697,
          1.3027505,
          1.1379743,
          1.2053659,
          0.5474826,
          1.2865973,
          1.1474189,
          1.2429634,
          1.1540318,
          1.1526353,
          1.1379744,
          1.1449083,
          1.135459,
          0.6659497,
          1.0130723,
          1.1790955
         ],
         "xaxis": "x",
         "y": [
          0.00093838526,
          -0.0065009063,
          -0.02684889,
          -0.005986653,
          -0.005163072,
          -0.0054435423,
          -0.0062575205,
          -0.0021096747,
          0.0006462668,
          -0.0041978965,
          -0.00083633594,
          -0.0023160721,
          0.0034144216,
          0.002553298,
          0.0031370062,
          -0.00043107782,
          0.0033503063,
          0.00042603593,
          0.004319742,
          0.0042239954,
          0.0011014584,
          -0.0029049283,
          -0.005060456,
          0.0011785235,
          0.0017096853,
          0.0062357914,
          -0.0036322114,
          -0.0011827273,
          0.0024057452,
          -0.0029847245,
          -0.006694998,
          0.0027881071,
          0.00049627456,
          -0.0030377167,
          -0.003947644,
          -0.0015964308,
          -0.003868277,
          -0.004371702,
          -0.008118772,
          -0.00016688649,
          -0.0013746442,
          0.0014209428,
          0.00090883794,
          0.0024331494,
          0.0012112829,
          -0.0025838148,
          -0.0015421951,
          -0.00092588295,
          -0.013307016,
          -0.00463897,
          0.00015811015,
          -0.00006207745,
          -0.00093756453,
          -0.004027602,
          -0.0005668678,
          0.0028288583,
          0.0028053084,
          0.0027674597,
          0.00050530914,
          0.0035711876,
          0.000992965,
          0.0040748925,
          0.0032930968,
          0.004223996,
          0.0016987022,
          -0.0035090058,
          -0.00096212444,
          0.004450985,
          0.0041640205,
          0.004800312,
          0.004750223,
          0.004223994,
          0.003318143,
          0.002608584,
          -0.0012733408,
          0.0025019946,
          0.0011937647
         ],
         "yaxis": "y"
        },
        {
         "customdata": [
          [
           "Riesgos"
          ],
          [
           "Riesgos"
          ],
          [
           "Riesgos"
          ],
          [
           "Riesgos"
          ],
          [
           "Riesgos"
          ],
          [
           "Riesgos"
          ],
          [
           "Riesgos"
          ],
          [
           "Riesgos"
          ],
          [
           "Riesgos"
          ],
          [
           "Riesgos"
          ],
          [
           "Riesgos"
          ],
          [
           "Riesgos"
          ],
          [
           "Riesgos"
          ],
          [
           "Riesgos"
          ],
          [
           "Riesgos"
          ],
          [
           "Riesgos"
          ],
          [
           "Riesgos"
          ],
          [
           "Riesgos"
          ],
          [
           "Riesgos"
          ],
          [
           "Riesgos"
          ],
          [
           "Riesgos"
          ]
         ],
         "hovertemplate": "color=Riesgos<br>PCA Component 1=%{x}<br>PCA Component 2=%{y}<br>label=%{customdata[0]}<extra></extra>",
         "legendgroup": "Riesgos",
         "marker": {
          "color": "#ab63fa",
          "symbol": "circle"
         },
         "mode": "markers",
         "name": "Riesgos",
         "orientation": "v",
         "showlegend": true,
         "type": "scatter",
         "x": [
          -0.66550446,
          -0.6794678,
          -0.672025,
          -0.67222846,
          -0.66493756,
          -0.6564243,
          -0.65983826,
          -0.65732765,
          -0.6435187,
          -0.66164076,
          -0.66903865,
          -0.6683205,
          -0.6612636,
          -0.66285086,
          -0.656048,
          -0.6601204,
          -0.66109467,
          -0.6643419,
          -0.6621277,
          -0.6556272,
          -0.6553665
         ],
         "xaxis": "x",
         "y": [
          -0.011100004,
          -0.0009989454,
          -0.003461637,
          -0.0038112213,
          -0.0027046574,
          0.00011348236,
          0.0016518662,
          0.0023293772,
          0.0060556857,
          -0.0022280647,
          -0.0022892782,
          -0.0016752592,
          -0.000039351107,
          -0.00054430746,
          -0.0019735233,
          -0.006973248,
          -0.007782443,
          -0.01047977,
          -0.0021629368,
          -0.00077978073,
          -0.0006384801
         ],
         "yaxis": "y"
        },
        {
         "customdata": [
          [
           "Información"
          ],
          [
           "Información"
          ],
          [
           "Información"
          ],
          [
           "Información"
          ],
          [
           "Información"
          ],
          [
           "Información"
          ],
          [
           "Información"
          ],
          [
           "Información"
          ],
          [
           "Información"
          ]
         ],
         "hovertemplate": "color=Información<br>PCA Component 1=%{x}<br>PCA Component 2=%{y}<br>label=%{customdata[0]}<extra></extra>",
         "legendgroup": "Información",
         "marker": {
          "color": "#FFA15A",
          "symbol": "circle"
         },
         "mode": "markers",
         "name": "Información",
         "orientation": "v",
         "showlegend": true,
         "type": "scatter",
         "x": [
          -0.6764678,
          -0.67195404,
          -0.6811735,
          -0.6739952,
          -0.6782988,
          -0.6770037,
          -0.674003,
          -0.6719856,
          -0.6786313
         ],
         "xaxis": "x",
         "y": [
          -0.005471961,
          -0.00061597134,
          -0.006831098,
          -0.0050900104,
          -0.0005291804,
          -0.00818889,
          -0.0069543007,
          -0.005275846,
          -0.006226512
         ],
         "yaxis": "y"
        },
        {
         "customdata": [
          [
           "Emergencia"
          ],
          [
           "Emergencia"
          ],
          [
           "Emergencia"
          ],
          [
           "Emergencia"
          ],
          [
           "Emergencia"
          ],
          [
           "Emergencia"
          ],
          [
           "Emergencia"
          ],
          [
           "Emergencia"
          ],
          [
           "Emergencia"
          ],
          [
           "Emergencia"
          ],
          [
           "Emergencia"
          ]
         ],
         "hovertemplate": "color=Emergencia<br>PCA Component 1=%{x}<br>PCA Component 2=%{y}<br>label=%{customdata[0]}<extra></extra>",
         "legendgroup": "Emergencia",
         "marker": {
          "color": "#19d3f3",
          "symbol": "circle"
         },
         "mode": "markers",
         "name": "Emergencia",
         "orientation": "v",
         "showlegend": true,
         "type": "scatter",
         "x": [
          -0.64443487,
          -0.6331993,
          -0.6314444,
          -0.6195572,
          -0.6120458,
          -0.60455835,
          -0.6108228,
          -0.600716,
          -0.6030384,
          -0.6017633,
          -0.60557705
         ],
         "xaxis": "x",
         "y": [
          0.0122619765,
          0.01783018,
          0.019473763,
          0.026158616,
          0.027406398,
          0.031807706,
          0.025693351,
          0.029462932,
          0.027727863,
          0.028369237,
          0.02467782
         ],
         "yaxis": "y"
        },
        {
         "customdata": [
          [
           "Question: ¿Cómo se diferencia la ubicación física de la operativa?<br>Closest Model: Emergencia<br>Similarity: 0.49<br>Chunk: ¿QUÉ ES UN SIMULACRO?\nUn simulacro es un ensayo o "
          ],
          [
           "Question: ¿Qué información se incluye en el informe de la evaluación de riesgos que ofrece la plataforma y cuál es su utilidad para la gestión de riesgos en la empresa?<br>Closest Model: Emergencia<br>Similarity: 0.93<br>Chunk: Una vez iniciada la vigencia el estado del plan ca"
          ],
          [
           "Question: ¿Hay indicadores relativos al cumplimiento de normas?<br>Closest Model: Emergencia<br>Similarity: 0.39<br>Chunk: ¿QUÉ ES UN SIMULACRO?\nUn simulacro es un ensayo o "
          ],
          [
           "Question: ¿Qué papel juega la estructura organizativa en la funcionalidad general de la plataforma y cómo interactúa con otros módulos?<br>Closest Model: Riesgos<br>Similarity: 0.38<br>Chunk: Nota: Cuando se cierra la evaluación solo se puede"
          ],
          [
           "Question: ¿Qué permite realizar la evaluación de riesgos?<br>Closest Model: Emergencia<br>Similarity: 0.96<br>Chunk: El usuario accede a la pestaña “Directorio externo"
          ],
          [
           "Question: ¿Qué tipo de documentos se pueden almacenar y compartir en el espacio denominado 'Documentos' y cuál es su importancia dentro del contexto de la gestión empresarial en la plataforma?<br>Closest Model: Emergencia<br>Similarity: 0.90<br>Chunk: Una vez iniciada la vigencia el estado del plan ca"
          ],
          [
           "Question: ¿Se pueden llevar a cabo auditorías internas?<br>Closest Model: Emergencia<br>Similarity: 0.91<br>Chunk: La pestaña evaluación de aspectos legales permite "
          ],
          [
           "Question: ¿Cuál es la tasa de adopción de esta plataforma en el mercado?<br>Closest Model: Riesgos<br>Similarity: 0.38<br>Chunk: Nota: Cuando se cierra la evaluación solo se puede"
          ],
          [
           "Question: ¿Cómo se compara esta plataforma con otras soluciones de gestión de SST?<br>Closest Model: Emergencia<br>Similarity: 0.82<br>Chunk: Versión  Fecha  Comentarios  Autor  Preliminar 0.1"
          ],
          [
           "Question: ¿Qué día hará mañana?<br>Closest Model: Riesgos<br>Similarity: 0.53<br>Chunk: Documento  Manual de uso del módulo IER PYMES.  De"
          ]
         ],
         "hovertemplate": "color=Question<br>PCA Component 1=%{x}<br>PCA Component 2=%{y}<br>label=%{customdata[0]}<extra></extra>",
         "legendgroup": "Question",
         "marker": {
          "color": "#FF6692",
          "symbol": "circle"
         },
         "mode": "markers",
         "name": "Question",
         "orientation": "v",
         "showlegend": true,
         "type": "scatter",
         "x": [
          -0.6518052,
          -0.6313844,
          -0.6686479,
          -0.66821146,
          -0.5985235,
          -0.630853,
          -0.62704444,
          -0.66821146,
          -0.6351305,
          -0.6548761
         ],
         "xaxis": "x",
         "y": [
          0.011636163,
          0.022010304,
          0.0047423057,
          0.012957849,
          0.03310437,
          0.021472173,
          0.019077232,
          0.012957849,
          0.026018197,
          0.0076502594
         ],
         "yaxis": "y"
        }
       ],
       "layout": {
        "annotations": [
         {
          "arrowhead": 2,
          "showarrow": true,
          "text": "Q1",
          "x": -0.6518052220344543,
          "y": 0.011636163108050823
         },
         {
          "arrowhead": 2,
          "showarrow": true,
          "text": "Q2",
          "x": -0.6313843727111816,
          "y": 0.022010304033756256
         },
         {
          "arrowhead": 2,
          "showarrow": true,
          "text": "Q3",
          "x": -0.6686478853225708,
          "y": 0.004742305725812912
         },
         {
          "arrowhead": 2,
          "showarrow": true,
          "text": "Q4",
          "x": -0.6682114601135254,
          "y": 0.012957848608493805
         },
         {
          "arrowhead": 2,
          "showarrow": true,
          "text": "Q5",
          "x": -0.5985234975814819,
          "y": 0.03310437127947807
         },
         {
          "arrowhead": 2,
          "showarrow": true,
          "text": "Q6",
          "x": -0.630852997303009,
          "y": 0.021472172811627388
         },
         {
          "arrowhead": 2,
          "showarrow": true,
          "text": "Q7",
          "x": -0.6270444393157959,
          "y": 0.019077232107520103
         },
         {
          "arrowhead": 2,
          "showarrow": true,
          "text": "Q8",
          "x": -0.6682114601135254,
          "y": 0.012957848608493805
         },
         {
          "arrowhead": 2,
          "showarrow": true,
          "text": "Q9",
          "x": -0.6351305246353149,
          "y": 0.02601819671690464
         },
         {
          "arrowhead": 2,
          "showarrow": true,
          "text": "Q10",
          "x": -0.6548761129379272,
          "y": 0.007650259416550398
         }
        ],
        "legend": {
         "title": {
          "text": "color"
         },
         "tracegroupgap": 0
        },
        "template": {
         "data": {
          "bar": [
           {
            "error_x": {
             "color": "#2a3f5f"
            },
            "error_y": {
             "color": "#2a3f5f"
            },
            "marker": {
             "line": {
              "color": "#E5ECF6",
              "width": 0.5
             },
             "pattern": {
              "fillmode": "overlay",
              "size": 10,
              "solidity": 0.2
             }
            },
            "type": "bar"
           }
          ],
          "barpolar": [
           {
            "marker": {
             "line": {
              "color": "#E5ECF6",
              "width": 0.5
             },
             "pattern": {
              "fillmode": "overlay",
              "size": 10,
              "solidity": 0.2
             }
            },
            "type": "barpolar"
           }
          ],
          "carpet": [
           {
            "aaxis": {
             "endlinecolor": "#2a3f5f",
             "gridcolor": "white",
             "linecolor": "white",
             "minorgridcolor": "white",
             "startlinecolor": "#2a3f5f"
            },
            "baxis": {
             "endlinecolor": "#2a3f5f",
             "gridcolor": "white",
             "linecolor": "white",
             "minorgridcolor": "white",
             "startlinecolor": "#2a3f5f"
            },
            "type": "carpet"
           }
          ],
          "choropleth": [
           {
            "colorbar": {
             "outlinewidth": 0,
             "ticks": ""
            },
            "type": "choropleth"
           }
          ],
          "contour": [
           {
            "colorbar": {
             "outlinewidth": 0,
             "ticks": ""
            },
            "colorscale": [
             [
              0,
              "#0d0887"
             ],
             [
              0.1111111111111111,
              "#46039f"
             ],
             [
              0.2222222222222222,
              "#7201a8"
             ],
             [
              0.3333333333333333,
              "#9c179e"
             ],
             [
              0.4444444444444444,
              "#bd3786"
             ],
             [
              0.5555555555555556,
              "#d8576b"
             ],
             [
              0.6666666666666666,
              "#ed7953"
             ],
             [
              0.7777777777777778,
              "#fb9f3a"
             ],
             [
              0.8888888888888888,
              "#fdca26"
             ],
             [
              1,
              "#f0f921"
             ]
            ],
            "type": "contour"
           }
          ],
          "contourcarpet": [
           {
            "colorbar": {
             "outlinewidth": 0,
             "ticks": ""
            },
            "type": "contourcarpet"
           }
          ],
          "heatmap": [
           {
            "colorbar": {
             "outlinewidth": 0,
             "ticks": ""
            },
            "colorscale": [
             [
              0,
              "#0d0887"
             ],
             [
              0.1111111111111111,
              "#46039f"
             ],
             [
              0.2222222222222222,
              "#7201a8"
             ],
             [
              0.3333333333333333,
              "#9c179e"
             ],
             [
              0.4444444444444444,
              "#bd3786"
             ],
             [
              0.5555555555555556,
              "#d8576b"
             ],
             [
              0.6666666666666666,
              "#ed7953"
             ],
             [
              0.7777777777777778,
              "#fb9f3a"
             ],
             [
              0.8888888888888888,
              "#fdca26"
             ],
             [
              1,
              "#f0f921"
             ]
            ],
            "type": "heatmap"
           }
          ],
          "heatmapgl": [
           {
            "colorbar": {
             "outlinewidth": 0,
             "ticks": ""
            },
            "colorscale": [
             [
              0,
              "#0d0887"
             ],
             [
              0.1111111111111111,
              "#46039f"
             ],
             [
              0.2222222222222222,
              "#7201a8"
             ],
             [
              0.3333333333333333,
              "#9c179e"
             ],
             [
              0.4444444444444444,
              "#bd3786"
             ],
             [
              0.5555555555555556,
              "#d8576b"
             ],
             [
              0.6666666666666666,
              "#ed7953"
             ],
             [
              0.7777777777777778,
              "#fb9f3a"
             ],
             [
              0.8888888888888888,
              "#fdca26"
             ],
             [
              1,
              "#f0f921"
             ]
            ],
            "type": "heatmapgl"
           }
          ],
          "histogram": [
           {
            "marker": {
             "pattern": {
              "fillmode": "overlay",
              "size": 10,
              "solidity": 0.2
             }
            },
            "type": "histogram"
           }
          ],
          "histogram2d": [
           {
            "colorbar": {
             "outlinewidth": 0,
             "ticks": ""
            },
            "colorscale": [
             [
              0,
              "#0d0887"
             ],
             [
              0.1111111111111111,
              "#46039f"
             ],
             [
              0.2222222222222222,
              "#7201a8"
             ],
             [
              0.3333333333333333,
              "#9c179e"
             ],
             [
              0.4444444444444444,
              "#bd3786"
             ],
             [
              0.5555555555555556,
              "#d8576b"
             ],
             [
              0.6666666666666666,
              "#ed7953"
             ],
             [
              0.7777777777777778,
              "#fb9f3a"
             ],
             [
              0.8888888888888888,
              "#fdca26"
             ],
             [
              1,
              "#f0f921"
             ]
            ],
            "type": "histogram2d"
           }
          ],
          "histogram2dcontour": [
           {
            "colorbar": {
             "outlinewidth": 0,
             "ticks": ""
            },
            "colorscale": [
             [
              0,
              "#0d0887"
             ],
             [
              0.1111111111111111,
              "#46039f"
             ],
             [
              0.2222222222222222,
              "#7201a8"
             ],
             [
              0.3333333333333333,
              "#9c179e"
             ],
             [
              0.4444444444444444,
              "#bd3786"
             ],
             [
              0.5555555555555556,
              "#d8576b"
             ],
             [
              0.6666666666666666,
              "#ed7953"
             ],
             [
              0.7777777777777778,
              "#fb9f3a"
             ],
             [
              0.8888888888888888,
              "#fdca26"
             ],
             [
              1,
              "#f0f921"
             ]
            ],
            "type": "histogram2dcontour"
           }
          ],
          "mesh3d": [
           {
            "colorbar": {
             "outlinewidth": 0,
             "ticks": ""
            },
            "type": "mesh3d"
           }
          ],
          "parcoords": [
           {
            "line": {
             "colorbar": {
              "outlinewidth": 0,
              "ticks": ""
             }
            },
            "type": "parcoords"
           }
          ],
          "pie": [
           {
            "automargin": true,
            "type": "pie"
           }
          ],
          "scatter": [
           {
            "fillpattern": {
             "fillmode": "overlay",
             "size": 10,
             "solidity": 0.2
            },
            "type": "scatter"
           }
          ],
          "scatter3d": [
           {
            "line": {
             "colorbar": {
              "outlinewidth": 0,
              "ticks": ""
             }
            },
            "marker": {
             "colorbar": {
              "outlinewidth": 0,
              "ticks": ""
             }
            },
            "type": "scatter3d"
           }
          ],
          "scattercarpet": [
           {
            "marker": {
             "colorbar": {
              "outlinewidth": 0,
              "ticks": ""
             }
            },
            "type": "scattercarpet"
           }
          ],
          "scattergeo": [
           {
            "marker": {
             "colorbar": {
              "outlinewidth": 0,
              "ticks": ""
             }
            },
            "type": "scattergeo"
           }
          ],
          "scattergl": [
           {
            "marker": {
             "colorbar": {
              "outlinewidth": 0,
              "ticks": ""
             }
            },
            "type": "scattergl"
           }
          ],
          "scattermapbox": [
           {
            "marker": {
             "colorbar": {
              "outlinewidth": 0,
              "ticks": ""
             }
            },
            "type": "scattermapbox"
           }
          ],
          "scatterpolar": [
           {
            "marker": {
             "colorbar": {
              "outlinewidth": 0,
              "ticks": ""
             }
            },
            "type": "scatterpolar"
           }
          ],
          "scatterpolargl": [
           {
            "marker": {
             "colorbar": {
              "outlinewidth": 0,
              "ticks": ""
             }
            },
            "type": "scatterpolargl"
           }
          ],
          "scatterternary": [
           {
            "marker": {
             "colorbar": {
              "outlinewidth": 0,
              "ticks": ""
             }
            },
            "type": "scatterternary"
           }
          ],
          "surface": [
           {
            "colorbar": {
             "outlinewidth": 0,
             "ticks": ""
            },
            "colorscale": [
             [
              0,
              "#0d0887"
             ],
             [
              0.1111111111111111,
              "#46039f"
             ],
             [
              0.2222222222222222,
              "#7201a8"
             ],
             [
              0.3333333333333333,
              "#9c179e"
             ],
             [
              0.4444444444444444,
              "#bd3786"
             ],
             [
              0.5555555555555556,
              "#d8576b"
             ],
             [
              0.6666666666666666,
              "#ed7953"
             ],
             [
              0.7777777777777778,
              "#fb9f3a"
             ],
             [
              0.8888888888888888,
              "#fdca26"
             ],
             [
              1,
              "#f0f921"
             ]
            ],
            "type": "surface"
           }
          ],
          "table": [
           {
            "cells": {
             "fill": {
              "color": "#EBF0F8"
             },
             "line": {
              "color": "white"
             }
            },
            "header": {
             "fill": {
              "color": "#C8D4E3"
             },
             "line": {
              "color": "white"
             }
            },
            "type": "table"
           }
          ]
         },
         "layout": {
          "annotationdefaults": {
           "arrowcolor": "#2a3f5f",
           "arrowhead": 0,
           "arrowwidth": 1
          },
          "autotypenumbers": "strict",
          "coloraxis": {
           "colorbar": {
            "outlinewidth": 0,
            "ticks": ""
           }
          },
          "colorscale": {
           "diverging": [
            [
             0,
             "#8e0152"
            ],
            [
             0.1,
             "#c51b7d"
            ],
            [
             0.2,
             "#de77ae"
            ],
            [
             0.3,
             "#f1b6da"
            ],
            [
             0.4,
             "#fde0ef"
            ],
            [
             0.5,
             "#f7f7f7"
            ],
            [
             0.6,
             "#e6f5d0"
            ],
            [
             0.7,
             "#b8e186"
            ],
            [
             0.8,
             "#7fbc41"
            ],
            [
             0.9,
             "#4d9221"
            ],
            [
             1,
             "#276419"
            ]
           ],
           "sequential": [
            [
             0,
             "#0d0887"
            ],
            [
             0.1111111111111111,
             "#46039f"
            ],
            [
             0.2222222222222222,
             "#7201a8"
            ],
            [
             0.3333333333333333,
             "#9c179e"
            ],
            [
             0.4444444444444444,
             "#bd3786"
            ],
            [
             0.5555555555555556,
             "#d8576b"
            ],
            [
             0.6666666666666666,
             "#ed7953"
            ],
            [
             0.7777777777777778,
             "#fb9f3a"
            ],
            [
             0.8888888888888888,
             "#fdca26"
            ],
            [
             1,
             "#f0f921"
            ]
           ],
           "sequentialminus": [
            [
             0,
             "#0d0887"
            ],
            [
             0.1111111111111111,
             "#46039f"
            ],
            [
             0.2222222222222222,
             "#7201a8"
            ],
            [
             0.3333333333333333,
             "#9c179e"
            ],
            [
             0.4444444444444444,
             "#bd3786"
            ],
            [
             0.5555555555555556,
             "#d8576b"
            ],
            [
             0.6666666666666666,
             "#ed7953"
            ],
            [
             0.7777777777777778,
             "#fb9f3a"
            ],
            [
             0.8888888888888888,
             "#fdca26"
            ],
            [
             1,
             "#f0f921"
            ]
           ]
          },
          "colorway": [
           "#636efa",
           "#EF553B",
           "#00cc96",
           "#ab63fa",
           "#FFA15A",
           "#19d3f3",
           "#FF6692",
           "#B6E880",
           "#FF97FF",
           "#FECB52"
          ],
          "font": {
           "color": "#2a3f5f"
          },
          "geo": {
           "bgcolor": "white",
           "lakecolor": "white",
           "landcolor": "#E5ECF6",
           "showlakes": true,
           "showland": true,
           "subunitcolor": "white"
          },
          "hoverlabel": {
           "align": "left"
          },
          "hovermode": "closest",
          "mapbox": {
           "style": "light"
          },
          "paper_bgcolor": "white",
          "plot_bgcolor": "#E5ECF6",
          "polar": {
           "angularaxis": {
            "gridcolor": "white",
            "linecolor": "white",
            "ticks": ""
           },
           "bgcolor": "#E5ECF6",
           "radialaxis": {
            "gridcolor": "white",
            "linecolor": "white",
            "ticks": ""
           }
          },
          "scene": {
           "xaxis": {
            "backgroundcolor": "#E5ECF6",
            "gridcolor": "white",
            "gridwidth": 2,
            "linecolor": "white",
            "showbackground": true,
            "ticks": "",
            "zerolinecolor": "white"
           },
           "yaxis": {
            "backgroundcolor": "#E5ECF6",
            "gridcolor": "white",
            "gridwidth": 2,
            "linecolor": "white",
            "showbackground": true,
            "ticks": "",
            "zerolinecolor": "white"
           },
           "zaxis": {
            "backgroundcolor": "#E5ECF6",
            "gridcolor": "white",
            "gridwidth": 2,
            "linecolor": "white",
            "showbackground": true,
            "ticks": "",
            "zerolinecolor": "white"
           }
          },
          "shapedefaults": {
           "line": {
            "color": "#2a3f5f"
           }
          },
          "ternary": {
           "aaxis": {
            "gridcolor": "white",
            "linecolor": "white",
            "ticks": ""
           },
           "baxis": {
            "gridcolor": "white",
            "linecolor": "white",
            "ticks": ""
           },
           "bgcolor": "#E5ECF6",
           "caxis": {
            "gridcolor": "white",
            "linecolor": "white",
            "ticks": ""
           }
          },
          "title": {
           "x": 0.05
          },
          "xaxis": {
           "automargin": true,
           "gridcolor": "white",
           "linecolor": "white",
           "ticks": "",
           "title": {
            "standoff": 15
           },
           "zerolinecolor": "white",
           "zerolinewidth": 2
          },
          "yaxis": {
           "automargin": true,
           "gridcolor": "white",
           "linecolor": "white",
           "ticks": "",
           "title": {
            "standoff": 15
           },
           "zerolinecolor": "white",
           "zerolinewidth": 2
          }
         }
        },
        "title": {
         "text": "Embeddings Visualization with 2D PCA"
        },
        "xaxis": {
         "anchor": "y",
         "domain": [
          0,
          1
         ],
         "title": {
          "text": "PCA Component 1"
         }
        },
        "yaxis": {
         "anchor": "x",
         "domain": [
          0,
          1
         ],
         "title": {
          "text": "PCA Component 2"
         }
        }
       }
      }
     },
     "metadata": {},
     "output_type": "display_data"
    },
    {
     "data": {
      "application/vnd.plotly.v1+json": {
       "config": {
        "plotlyServerURL": "https://plot.ly"
       },
       "data": [
        {
         "customdata": [
          [
           "Auditorias"
          ],
          [
           "Auditorias"
          ],
          [
           "Auditorias"
          ],
          [
           "Auditorias"
          ],
          [
           "Auditorias"
          ],
          [
           "Auditorias"
          ],
          [
           "Auditorias"
          ],
          [
           "Auditorias"
          ],
          [
           "Auditorias"
          ],
          [
           "Auditorias"
          ],
          [
           "Auditorias"
          ],
          [
           "Auditorias"
          ],
          [
           "Auditorias"
          ],
          [
           "Auditorias"
          ],
          [
           "Auditorias"
          ],
          [
           "Auditorias"
          ],
          [
           "Auditorias"
          ],
          [
           "Auditorias"
          ],
          [
           "Auditorias"
          ],
          [
           "Auditorias"
          ],
          [
           "Auditorias"
          ],
          [
           "Auditorias"
          ],
          [
           "Auditorias"
          ],
          [
           "Auditorias"
          ],
          [
           "Auditorias"
          ],
          [
           "Auditorias"
          ],
          [
           "Auditorias"
          ],
          [
           "Auditorias"
          ],
          [
           "Auditorias"
          ],
          [
           "Auditorias"
          ]
         ],
         "hovertemplate": "color=Auditorias<br>t-SNE Component 1=%{x}<br>t-SNE Component 2=%{y}<br>label=%{customdata[0]}<extra></extra>",
         "legendgroup": "Auditorias",
         "marker": {
          "color": "#636efa",
          "symbol": "circle"
         },
         "mode": "markers",
         "name": "Auditorias",
         "orientation": "v",
         "showlegend": true,
         "type": "scatter",
         "x": [
          -13.938914,
          -12.915583,
          -11.33579,
          -13.193301,
          -10.661786,
          -11.850242,
          -10.470719,
          -12.521981,
          -11.521294,
          -12.362397,
          -9.995251,
          -10.428078,
          -11.261781,
          -11.894293,
          -10.66176,
          -11.619815,
          -12.406754,
          -14.572988,
          -11.66189,
          -14.632005,
          -8.71724,
          -12.61044,
          -8.71724,
          -12.605487,
          -12.825225,
          -12.8404875,
          -9.958018,
          -10.01083,
          -15.204465,
          -13.124852
         ],
         "xaxis": "x",
         "y": [
          1.4653114,
          1.3365557,
          2.2641208,
          2.945281,
          6.9283485,
          1.8030311,
          -1.7580839,
          1.9452354,
          1.1774435,
          2.0429125,
          0.3802252,
          3.064574,
          3.476115,
          2.4930272,
          6.928222,
          2.0874004,
          1.8793672,
          -3.955369,
          1.1959441,
          -4.13685,
          2.6596935,
          5.3419867,
          2.6596935,
          5.36209,
          3.850791,
          3.7768548,
          -0.7324676,
          -0.7204881,
          4.024856,
          2.0450597
         ],
         "yaxis": "y"
        },
        {
         "customdata": [
          [
           "Ausentismo"
          ],
          [
           "Ausentismo"
          ],
          [
           "Ausentismo"
          ],
          [
           "Ausentismo"
          ],
          [
           "Ausentismo"
          ],
          [
           "Ausentismo"
          ],
          [
           "Ausentismo"
          ],
          [
           "Ausentismo"
          ],
          [
           "Ausentismo"
          ],
          [
           "Ausentismo"
          ],
          [
           "Ausentismo"
          ],
          [
           "Ausentismo"
          ],
          [
           "Ausentismo"
          ],
          [
           "Ausentismo"
          ],
          [
           "Ausentismo"
          ],
          [
           "Ausentismo"
          ],
          [
           "Ausentismo"
          ],
          [
           "Ausentismo"
          ],
          [
           "Ausentismo"
          ],
          [
           "Ausentismo"
          ],
          [
           "Ausentismo"
          ],
          [
           "Ausentismo"
          ],
          [
           "Ausentismo"
          ],
          [
           "Ausentismo"
          ],
          [
           "Ausentismo"
          ],
          [
           "Ausentismo"
          ],
          [
           "Ausentismo"
          ],
          [
           "Ausentismo"
          ],
          [
           "Ausentismo"
          ],
          [
           "Ausentismo"
          ],
          [
           "Ausentismo"
          ],
          [
           "Ausentismo"
          ],
          [
           "Ausentismo"
          ],
          [
           "Ausentismo"
          ],
          [
           "Ausentismo"
          ],
          [
           "Ausentismo"
          ],
          [
           "Ausentismo"
          ],
          [
           "Ausentismo"
          ],
          [
           "Ausentismo"
          ],
          [
           "Ausentismo"
          ],
          [
           "Ausentismo"
          ],
          [
           "Ausentismo"
          ],
          [
           "Ausentismo"
          ],
          [
           "Ausentismo"
          ],
          [
           "Ausentismo"
          ]
         ],
         "hovertemplate": "color=Ausentismo<br>t-SNE Component 1=%{x}<br>t-SNE Component 2=%{y}<br>label=%{customdata[0]}<extra></extra>",
         "legendgroup": "Ausentismo",
         "marker": {
          "color": "#EF553B",
          "symbol": "circle"
         },
         "mode": "markers",
         "name": "Ausentismo",
         "orientation": "v",
         "showlegend": true,
         "type": "scatter",
         "x": [
          -15.974115,
          -15.432612,
          -14.026095,
          -12.998389,
          -13.668242,
          -12.94782,
          -12.152024,
          -13.575403,
          -17.62734,
          -12.137437,
          -12.228123,
          -12.241675,
          -11.468584,
          -12.583788,
          -12.44953,
          -14.654085,
          -12.400754,
          -8.116147,
          -8.325405,
          -8.356304,
          -11.514548,
          -11.56686,
          -11.5931635,
          -14.380392,
          -12.987355,
          -11.468584,
          -13.117667,
          -10.161877,
          -11.944449,
          -14.633529,
          -14.03989,
          -11.514548,
          -12.130788,
          -12.692883,
          -17.74203,
          -19.290358,
          -17.318611,
          -17.974253,
          -19.290045,
          -17.318596,
          -18.077957,
          -18.21254,
          -12.782396,
          -17.03614,
          -11.514548
         ],
         "xaxis": "x",
         "y": [
          2.9410217,
          -0.14400482,
          0.1280624,
          -1.4534132,
          0.16531566,
          0.7576588,
          0.40877932,
          1.0406624,
          0.38354114,
          -0.9132127,
          -3.226454,
          -3.213347,
          -5.5565906,
          -0.66760194,
          -0.7026186,
          2.5351787,
          0.45410317,
          -2.1807992,
          -1.9781153,
          -1.9522834,
          8.4254875,
          -0.4319561,
          -0.4111491,
          -1.4603592,
          -0.2723248,
          -5.5565906,
          -0.3787466,
          3.3933854,
          0.5315914,
          3.98355,
          3.5628114,
          8.4254875,
          0.25835148,
          0.5216905,
          -2.8025692,
          2.0968945,
          4.8872614,
          -2.295249,
          2.0973082,
          4.887279,
          -2.099076,
          -1.7630074,
          -3.28315,
          4.871074,
          8.4254875
         ],
         "yaxis": "y"
        },
        {
         "customdata": [
          [
           "Estructura Organizativa"
          ],
          [
           "Estructura Organizativa"
          ],
          [
           "Estructura Organizativa"
          ],
          [
           "Estructura Organizativa"
          ],
          [
           "Estructura Organizativa"
          ],
          [
           "Estructura Organizativa"
          ],
          [
           "Estructura Organizativa"
          ],
          [
           "Estructura Organizativa"
          ],
          [
           "Estructura Organizativa"
          ],
          [
           "Estructura Organizativa"
          ],
          [
           "Estructura Organizativa"
          ],
          [
           "Estructura Organizativa"
          ],
          [
           "Estructura Organizativa"
          ],
          [
           "Estructura Organizativa"
          ],
          [
           "Estructura Organizativa"
          ],
          [
           "Estructura Organizativa"
          ],
          [
           "Estructura Organizativa"
          ],
          [
           "Estructura Organizativa"
          ],
          [
           "Estructura Organizativa"
          ],
          [
           "Estructura Organizativa"
          ],
          [
           "Estructura Organizativa"
          ],
          [
           "Estructura Organizativa"
          ],
          [
           "Estructura Organizativa"
          ],
          [
           "Estructura Organizativa"
          ],
          [
           "Estructura Organizativa"
          ],
          [
           "Estructura Organizativa"
          ],
          [
           "Estructura Organizativa"
          ],
          [
           "Estructura Organizativa"
          ],
          [
           "Estructura Organizativa"
          ],
          [
           "Estructura Organizativa"
          ],
          [
           "Estructura Organizativa"
          ],
          [
           "Estructura Organizativa"
          ],
          [
           "Estructura Organizativa"
          ],
          [
           "Estructura Organizativa"
          ],
          [
           "Estructura Organizativa"
          ],
          [
           "Estructura Organizativa"
          ],
          [
           "Estructura Organizativa"
          ],
          [
           "Estructura Organizativa"
          ],
          [
           "Estructura Organizativa"
          ],
          [
           "Estructura Organizativa"
          ],
          [
           "Estructura Organizativa"
          ],
          [
           "Estructura Organizativa"
          ],
          [
           "Estructura Organizativa"
          ],
          [
           "Estructura Organizativa"
          ],
          [
           "Estructura Organizativa"
          ],
          [
           "Estructura Organizativa"
          ],
          [
           "Estructura Organizativa"
          ],
          [
           "Estructura Organizativa"
          ],
          [
           "Estructura Organizativa"
          ],
          [
           "Estructura Organizativa"
          ],
          [
           "Estructura Organizativa"
          ],
          [
           "Estructura Organizativa"
          ],
          [
           "Estructura Organizativa"
          ],
          [
           "Estructura Organizativa"
          ],
          [
           "Estructura Organizativa"
          ],
          [
           "Estructura Organizativa"
          ],
          [
           "Estructura Organizativa"
          ],
          [
           "Estructura Organizativa"
          ],
          [
           "Estructura Organizativa"
          ],
          [
           "Estructura Organizativa"
          ],
          [
           "Estructura Organizativa"
          ],
          [
           "Estructura Organizativa"
          ],
          [
           "Estructura Organizativa"
          ],
          [
           "Estructura Organizativa"
          ],
          [
           "Estructura Organizativa"
          ],
          [
           "Estructura Organizativa"
          ],
          [
           "Estructura Organizativa"
          ],
          [
           "Estructura Organizativa"
          ],
          [
           "Estructura Organizativa"
          ],
          [
           "Estructura Organizativa"
          ],
          [
           "Estructura Organizativa"
          ],
          [
           "Estructura Organizativa"
          ],
          [
           "Estructura Organizativa"
          ],
          [
           "Estructura Organizativa"
          ],
          [
           "Estructura Organizativa"
          ],
          [
           "Estructura Organizativa"
          ],
          [
           "Estructura Organizativa"
          ]
         ],
         "hovertemplate": "color=Estructura Organizativa<br>t-SNE Component 1=%{x}<br>t-SNE Component 2=%{y}<br>label=%{customdata[0]}<extra></extra>",
         "legendgroup": "Estructura Organizativa",
         "marker": {
          "color": "#00cc96",
          "symbol": "circle"
         },
         "mode": "markers",
         "name": "Estructura Organizativa",
         "orientation": "v",
         "showlegend": true,
         "type": "scatter",
         "x": [
          14.365134,
          11.592467,
          -6.0464253,
          11.872175,
          12.694379,
          14.465046,
          14.988657,
          21.131989,
          15.654812,
          26.446539,
          17.335861,
          21.599062,
          20.61596,
          18.156553,
          24.162315,
          26.215136,
          23.338804,
          19.657976,
          20.935677,
          19.275284,
          20.368835,
          26.154713,
          26.830719,
          17.62824,
          22.454363,
          17.511507,
          26.917303,
          26.71896,
          23.707205,
          25.8771,
          26.757345,
          21.762377,
          24.347878,
          25.20814,
          19.891497,
          17.575994,
          21.373041,
          12.638835,
          26.901138,
          15.765201,
          13.9641285,
          15.189174,
          21.962538,
          12.286706,
          21.08376,
          24.464962,
          18.24737,
          19.401234,
          19.536283,
          16.262392,
          15.094251,
          15.19207,
          14.81085,
          13.0650015,
          23.627405,
          19.216951,
          24.706684,
          23.498314,
          19.658123,
          24.073616,
          21.548826,
          23.030865,
          24.422064,
          19.275284,
          21.727222,
          13.195831,
          24.021416,
          19.775118,
          22.994509,
          20.10609,
          20.015705,
          19.275284,
          19.524855,
          19.060295,
          13.7531805,
          16.697714,
          20.76131
         ],
         "xaxis": "x",
         "y": [
          -3.354166,
          -2.80724,
          4.366507,
          -2.850463,
          -2.9781885,
          -3.0868852,
          -3.030777,
          -3.5655048,
          -3.2449887,
          -3.124021,
          -3.3954163,
          -3.409639,
          -2.4598083,
          -3.622158,
          -3.5330677,
          -3.0350616,
          -3.5422795,
          -3.2325308,
          -3.749197,
          -2.4735742,
          -2.9351149,
          -3.0043404,
          -3.6943207,
          -3.440396,
          -3.29223,
          -3.8772726,
          -4.436035,
          -3.3956661,
          -3.4916914,
          -2.9464498,
          -3.48654,
          -3.5332854,
          -2.873199,
          -2.907483,
          -4.396492,
          -3.089269,
          -4.0240874,
          -2.968018,
          -3.9422216,
          -3.3490782,
          -3.1358955,
          -3.514302,
          -3.6112366,
          -2.9131775,
          -2.9419427,
          -2.659601,
          -3.3498113,
          -3.4201162,
          -4.765902,
          -3.3683577,
          -3.044985,
          -3.5142283,
          -3.4567702,
          -3.0288815,
          -2.718535,
          -3.839282,
          -3.2679315,
          -3.011849,
          -3.7698436,
          -3.5231621,
          -2.8531384,
          -2.9878764,
          -3.284445,
          -2.4735742,
          -2.8725643,
          -3.054317,
          -2.615207,
          -3.8017707,
          -3.3871179,
          -3.7590249,
          -3.4259803,
          -2.4735742,
          -3.3074594,
          -3.4976614,
          -3.1293273,
          -3.4080627,
          -3.07174
         ],
         "yaxis": "y"
        },
        {
         "customdata": [
          [
           "Riesgos"
          ],
          [
           "Riesgos"
          ],
          [
           "Riesgos"
          ],
          [
           "Riesgos"
          ],
          [
           "Riesgos"
          ],
          [
           "Riesgos"
          ],
          [
           "Riesgos"
          ],
          [
           "Riesgos"
          ],
          [
           "Riesgos"
          ],
          [
           "Riesgos"
          ],
          [
           "Riesgos"
          ],
          [
           "Riesgos"
          ],
          [
           "Riesgos"
          ],
          [
           "Riesgos"
          ],
          [
           "Riesgos"
          ],
          [
           "Riesgos"
          ],
          [
           "Riesgos"
          ],
          [
           "Riesgos"
          ],
          [
           "Riesgos"
          ],
          [
           "Riesgos"
          ],
          [
           "Riesgos"
          ]
         ],
         "hovertemplate": "color=Riesgos<br>t-SNE Component 1=%{x}<br>t-SNE Component 2=%{y}<br>label=%{customdata[0]}<extra></extra>",
         "legendgroup": "Riesgos",
         "marker": {
          "color": "#ab63fa",
          "symbol": "circle"
         },
         "mode": "markers",
         "name": "Riesgos",
         "orientation": "v",
         "showlegend": true,
         "type": "scatter",
         "x": [
          -15.902127,
          -14.369361,
          -15.288897,
          -14.82133,
          -12.3944845,
          -10.097046,
          -9.545896,
          -9.489289,
          -8.921435,
          -11.126843,
          -14.123705,
          -13.781019,
          -10.546923,
          -10.651279,
          -9.721505,
          -8.792665,
          -8.776659,
          -8.206345,
          -11.152882,
          -10.2378435,
          -10.44778
         ],
         "xaxis": "x",
         "y": [
          -1.3896334,
          1.8484873,
          -0.99097127,
          1.361895,
          1.1137393,
          1.9224703,
          4.796363,
          4.7176023,
          3.9197226,
          0.79894626,
          -0.7237945,
          -2.2478173,
          1.2177931,
          0.35725695,
          1.6920124,
          0.7922846,
          0.6876148,
          0.14262831,
          1.430215,
          1.96328,
          1.8732316
         ],
         "yaxis": "y"
        },
        {
         "customdata": [
          [
           "Información"
          ],
          [
           "Información"
          ],
          [
           "Información"
          ],
          [
           "Información"
          ],
          [
           "Información"
          ],
          [
           "Información"
          ],
          [
           "Información"
          ],
          [
           "Información"
          ],
          [
           "Información"
          ]
         ],
         "hovertemplate": "color=Información<br>t-SNE Component 1=%{x}<br>t-SNE Component 2=%{y}<br>label=%{customdata[0]}<extra></extra>",
         "legendgroup": "Información",
         "marker": {
          "color": "#FFA15A",
          "symbol": "circle"
         },
         "mode": "markers",
         "name": "Información",
         "orientation": "v",
         "showlegend": true,
         "type": "scatter",
         "x": [
          -16.940916,
          -10.27357,
          -15.570005,
          -15.230282,
          -16.45478,
          -15.965076,
          -15.210566,
          -14.461555,
          -16.543789
         ],
         "xaxis": "x",
         "y": [
          1.658712,
          -3.2242212,
          1.7607452,
          0.83948517,
          0.065318435,
          0.38853255,
          0.4840378,
          0.7577369,
          1.0220041
         ],
         "yaxis": "y"
        },
        {
         "customdata": [
          [
           "Emergencia"
          ],
          [
           "Emergencia"
          ],
          [
           "Emergencia"
          ],
          [
           "Emergencia"
          ],
          [
           "Emergencia"
          ],
          [
           "Emergencia"
          ],
          [
           "Emergencia"
          ],
          [
           "Emergencia"
          ],
          [
           "Emergencia"
          ],
          [
           "Emergencia"
          ],
          [
           "Emergencia"
          ]
         ],
         "hovertemplate": "color=Emergencia<br>t-SNE Component 1=%{x}<br>t-SNE Component 2=%{y}<br>label=%{customdata[0]}<extra></extra>",
         "legendgroup": "Emergencia",
         "marker": {
          "color": "#19d3f3",
          "symbol": "circle"
         },
         "mode": "markers",
         "name": "Emergencia",
         "orientation": "v",
         "showlegend": true,
         "type": "scatter",
         "x": [
          -5.783518,
          -5.1118774,
          -4.9683537,
          -4.0927734,
          -3.9237785,
          -3.4785485,
          -3.9945168,
          -3.4967532,
          -3.6376357,
          -3.5909576,
          -3.806101
         ],
         "xaxis": "x",
         "y": [
          3.161992,
          3.4724991,
          3.4946344,
          3.5836694,
          3.8374937,
          3.858724,
          3.9313223,
          4.1337814,
          4.088653,
          4.257248,
          4.2651443
         ],
         "yaxis": "y"
        },
        {
         "customdata": [
          [
           "Question: ¿Cómo se diferencia la ubicación física de la operativa?<br>Closest Model: Emergencia<br>Similarity: 0.49<br>Chunk: ¿QUÉ ES UN SIMULACRO?\nUn simulacro es un ensayo o "
          ],
          [
           "Question: ¿Qué información se incluye en el informe de la evaluación de riesgos que ofrece la plataforma y cuál es su utilidad para la gestión de riesgos en la empresa?<br>Closest Model: Emergencia<br>Similarity: 0.93<br>Chunk: Una vez iniciada la vigencia el estado del plan ca"
          ],
          [
           "Question: ¿Hay indicadores relativos al cumplimiento de normas?<br>Closest Model: Emergencia<br>Similarity: 0.39<br>Chunk: ¿QUÉ ES UN SIMULACRO?\nUn simulacro es un ensayo o "
          ],
          [
           "Question: ¿Qué papel juega la estructura organizativa en la funcionalidad general de la plataforma y cómo interactúa con otros módulos?<br>Closest Model: Riesgos<br>Similarity: 0.38<br>Chunk: Nota: Cuando se cierra la evaluación solo se puede"
          ],
          [
           "Question: ¿Qué permite realizar la evaluación de riesgos?<br>Closest Model: Emergencia<br>Similarity: 0.96<br>Chunk: El usuario accede a la pestaña “Directorio externo"
          ],
          [
           "Question: ¿Qué tipo de documentos se pueden almacenar y compartir en el espacio denominado 'Documentos' y cuál es su importancia dentro del contexto de la gestión empresarial en la plataforma?<br>Closest Model: Emergencia<br>Similarity: 0.90<br>Chunk: Una vez iniciada la vigencia el estado del plan ca"
          ],
          [
           "Question: ¿Se pueden llevar a cabo auditorías internas?<br>Closest Model: Emergencia<br>Similarity: 0.91<br>Chunk: La pestaña evaluación de aspectos legales permite "
          ],
          [
           "Question: ¿Cuál es la tasa de adopción de esta plataforma en el mercado?<br>Closest Model: Riesgos<br>Similarity: 0.38<br>Chunk: Nota: Cuando se cierra la evaluación solo se puede"
          ],
          [
           "Question: ¿Cómo se compara esta plataforma con otras soluciones de gestión de SST?<br>Closest Model: Emergencia<br>Similarity: 0.82<br>Chunk: Versión  Fecha  Comentarios  Autor  Preliminar 0.1"
          ],
          [
           "Question: ¿Qué día hará mañana?<br>Closest Model: Riesgos<br>Similarity: 0.53<br>Chunk: Documento  Manual de uso del módulo IER PYMES.  De"
          ]
         ],
         "hovertemplate": "color=Question<br>t-SNE Component 1=%{x}<br>t-SNE Component 2=%{y}<br>label=%{customdata[0]}<extra></extra>",
         "legendgroup": "Question",
         "marker": {
          "color": "#FF6692",
          "symbol": "circle"
         },
         "mode": "markers",
         "name": "Question",
         "orientation": "v",
         "showlegend": true,
         "type": "scatter",
         "x": [
          -7.2665677,
          -4.85211,
          -11.583876,
          -14.760761,
          -3.040355,
          -4.7635193,
          -5.0119324,
          -14.760761,
          -4.976334,
          -15.399429
         ],
         "xaxis": "x",
         "y": [
          2.4129028,
          3.2028785,
          -1.9272642,
          6.955477,
          4.2247953,
          2.8339183,
          4.0832496,
          6.955477,
          2.351255,
          -2.245797
         ],
         "yaxis": "y"
        }
       ],
       "layout": {
        "annotations": [
         {
          "arrowhead": 2,
          "showarrow": true,
          "text": "Q1",
          "x": -7.266567707061768,
          "y": 2.41290283203125
         },
         {
          "arrowhead": 2,
          "showarrow": true,
          "text": "Q2",
          "x": -4.852109909057617,
          "y": 3.202878475189209
         },
         {
          "arrowhead": 2,
          "showarrow": true,
          "text": "Q3",
          "x": -11.58387565612793,
          "y": -1.9272642135620117
         },
         {
          "arrowhead": 2,
          "showarrow": true,
          "text": "Q4",
          "x": -14.760761260986328,
          "y": 6.955477237701416
         },
         {
          "arrowhead": 2,
          "showarrow": true,
          "text": "Q5",
          "x": -3.0403549671173096,
          "y": 4.224795341491699
         },
         {
          "arrowhead": 2,
          "showarrow": true,
          "text": "Q6",
          "x": -4.763519287109375,
          "y": 2.833918333053589
         },
         {
          "arrowhead": 2,
          "showarrow": true,
          "text": "Q7",
          "x": -5.011932373046875,
          "y": 4.083249568939209
         },
         {
          "arrowhead": 2,
          "showarrow": true,
          "text": "Q8",
          "x": -14.760761260986328,
          "y": 6.955477237701416
         },
         {
          "arrowhead": 2,
          "showarrow": true,
          "text": "Q9",
          "x": -4.976334095001221,
          "y": 2.351254940032959
         },
         {
          "arrowhead": 2,
          "showarrow": true,
          "text": "Q10",
          "x": -15.399429321289062,
          "y": -2.2457969188690186
         }
        ],
        "legend": {
         "title": {
          "text": "color"
         },
         "tracegroupgap": 0
        },
        "template": {
         "data": {
          "bar": [
           {
            "error_x": {
             "color": "#2a3f5f"
            },
            "error_y": {
             "color": "#2a3f5f"
            },
            "marker": {
             "line": {
              "color": "#E5ECF6",
              "width": 0.5
             },
             "pattern": {
              "fillmode": "overlay",
              "size": 10,
              "solidity": 0.2
             }
            },
            "type": "bar"
           }
          ],
          "barpolar": [
           {
            "marker": {
             "line": {
              "color": "#E5ECF6",
              "width": 0.5
             },
             "pattern": {
              "fillmode": "overlay",
              "size": 10,
              "solidity": 0.2
             }
            },
            "type": "barpolar"
           }
          ],
          "carpet": [
           {
            "aaxis": {
             "endlinecolor": "#2a3f5f",
             "gridcolor": "white",
             "linecolor": "white",
             "minorgridcolor": "white",
             "startlinecolor": "#2a3f5f"
            },
            "baxis": {
             "endlinecolor": "#2a3f5f",
             "gridcolor": "white",
             "linecolor": "white",
             "minorgridcolor": "white",
             "startlinecolor": "#2a3f5f"
            },
            "type": "carpet"
           }
          ],
          "choropleth": [
           {
            "colorbar": {
             "outlinewidth": 0,
             "ticks": ""
            },
            "type": "choropleth"
           }
          ],
          "contour": [
           {
            "colorbar": {
             "outlinewidth": 0,
             "ticks": ""
            },
            "colorscale": [
             [
              0,
              "#0d0887"
             ],
             [
              0.1111111111111111,
              "#46039f"
             ],
             [
              0.2222222222222222,
              "#7201a8"
             ],
             [
              0.3333333333333333,
              "#9c179e"
             ],
             [
              0.4444444444444444,
              "#bd3786"
             ],
             [
              0.5555555555555556,
              "#d8576b"
             ],
             [
              0.6666666666666666,
              "#ed7953"
             ],
             [
              0.7777777777777778,
              "#fb9f3a"
             ],
             [
              0.8888888888888888,
              "#fdca26"
             ],
             [
              1,
              "#f0f921"
             ]
            ],
            "type": "contour"
           }
          ],
          "contourcarpet": [
           {
            "colorbar": {
             "outlinewidth": 0,
             "ticks": ""
            },
            "type": "contourcarpet"
           }
          ],
          "heatmap": [
           {
            "colorbar": {
             "outlinewidth": 0,
             "ticks": ""
            },
            "colorscale": [
             [
              0,
              "#0d0887"
             ],
             [
              0.1111111111111111,
              "#46039f"
             ],
             [
              0.2222222222222222,
              "#7201a8"
             ],
             [
              0.3333333333333333,
              "#9c179e"
             ],
             [
              0.4444444444444444,
              "#bd3786"
             ],
             [
              0.5555555555555556,
              "#d8576b"
             ],
             [
              0.6666666666666666,
              "#ed7953"
             ],
             [
              0.7777777777777778,
              "#fb9f3a"
             ],
             [
              0.8888888888888888,
              "#fdca26"
             ],
             [
              1,
              "#f0f921"
             ]
            ],
            "type": "heatmap"
           }
          ],
          "heatmapgl": [
           {
            "colorbar": {
             "outlinewidth": 0,
             "ticks": ""
            },
            "colorscale": [
             [
              0,
              "#0d0887"
             ],
             [
              0.1111111111111111,
              "#46039f"
             ],
             [
              0.2222222222222222,
              "#7201a8"
             ],
             [
              0.3333333333333333,
              "#9c179e"
             ],
             [
              0.4444444444444444,
              "#bd3786"
             ],
             [
              0.5555555555555556,
              "#d8576b"
             ],
             [
              0.6666666666666666,
              "#ed7953"
             ],
             [
              0.7777777777777778,
              "#fb9f3a"
             ],
             [
              0.8888888888888888,
              "#fdca26"
             ],
             [
              1,
              "#f0f921"
             ]
            ],
            "type": "heatmapgl"
           }
          ],
          "histogram": [
           {
            "marker": {
             "pattern": {
              "fillmode": "overlay",
              "size": 10,
              "solidity": 0.2
             }
            },
            "type": "histogram"
           }
          ],
          "histogram2d": [
           {
            "colorbar": {
             "outlinewidth": 0,
             "ticks": ""
            },
            "colorscale": [
             [
              0,
              "#0d0887"
             ],
             [
              0.1111111111111111,
              "#46039f"
             ],
             [
              0.2222222222222222,
              "#7201a8"
             ],
             [
              0.3333333333333333,
              "#9c179e"
             ],
             [
              0.4444444444444444,
              "#bd3786"
             ],
             [
              0.5555555555555556,
              "#d8576b"
             ],
             [
              0.6666666666666666,
              "#ed7953"
             ],
             [
              0.7777777777777778,
              "#fb9f3a"
             ],
             [
              0.8888888888888888,
              "#fdca26"
             ],
             [
              1,
              "#f0f921"
             ]
            ],
            "type": "histogram2d"
           }
          ],
          "histogram2dcontour": [
           {
            "colorbar": {
             "outlinewidth": 0,
             "ticks": ""
            },
            "colorscale": [
             [
              0,
              "#0d0887"
             ],
             [
              0.1111111111111111,
              "#46039f"
             ],
             [
              0.2222222222222222,
              "#7201a8"
             ],
             [
              0.3333333333333333,
              "#9c179e"
             ],
             [
              0.4444444444444444,
              "#bd3786"
             ],
             [
              0.5555555555555556,
              "#d8576b"
             ],
             [
              0.6666666666666666,
              "#ed7953"
             ],
             [
              0.7777777777777778,
              "#fb9f3a"
             ],
             [
              0.8888888888888888,
              "#fdca26"
             ],
             [
              1,
              "#f0f921"
             ]
            ],
            "type": "histogram2dcontour"
           }
          ],
          "mesh3d": [
           {
            "colorbar": {
             "outlinewidth": 0,
             "ticks": ""
            },
            "type": "mesh3d"
           }
          ],
          "parcoords": [
           {
            "line": {
             "colorbar": {
              "outlinewidth": 0,
              "ticks": ""
             }
            },
            "type": "parcoords"
           }
          ],
          "pie": [
           {
            "automargin": true,
            "type": "pie"
           }
          ],
          "scatter": [
           {
            "fillpattern": {
             "fillmode": "overlay",
             "size": 10,
             "solidity": 0.2
            },
            "type": "scatter"
           }
          ],
          "scatter3d": [
           {
            "line": {
             "colorbar": {
              "outlinewidth": 0,
              "ticks": ""
             }
            },
            "marker": {
             "colorbar": {
              "outlinewidth": 0,
              "ticks": ""
             }
            },
            "type": "scatter3d"
           }
          ],
          "scattercarpet": [
           {
            "marker": {
             "colorbar": {
              "outlinewidth": 0,
              "ticks": ""
             }
            },
            "type": "scattercarpet"
           }
          ],
          "scattergeo": [
           {
            "marker": {
             "colorbar": {
              "outlinewidth": 0,
              "ticks": ""
             }
            },
            "type": "scattergeo"
           }
          ],
          "scattergl": [
           {
            "marker": {
             "colorbar": {
              "outlinewidth": 0,
              "ticks": ""
             }
            },
            "type": "scattergl"
           }
          ],
          "scattermapbox": [
           {
            "marker": {
             "colorbar": {
              "outlinewidth": 0,
              "ticks": ""
             }
            },
            "type": "scattermapbox"
           }
          ],
          "scatterpolar": [
           {
            "marker": {
             "colorbar": {
              "outlinewidth": 0,
              "ticks": ""
             }
            },
            "type": "scatterpolar"
           }
          ],
          "scatterpolargl": [
           {
            "marker": {
             "colorbar": {
              "outlinewidth": 0,
              "ticks": ""
             }
            },
            "type": "scatterpolargl"
           }
          ],
          "scatterternary": [
           {
            "marker": {
             "colorbar": {
              "outlinewidth": 0,
              "ticks": ""
             }
            },
            "type": "scatterternary"
           }
          ],
          "surface": [
           {
            "colorbar": {
             "outlinewidth": 0,
             "ticks": ""
            },
            "colorscale": [
             [
              0,
              "#0d0887"
             ],
             [
              0.1111111111111111,
              "#46039f"
             ],
             [
              0.2222222222222222,
              "#7201a8"
             ],
             [
              0.3333333333333333,
              "#9c179e"
             ],
             [
              0.4444444444444444,
              "#bd3786"
             ],
             [
              0.5555555555555556,
              "#d8576b"
             ],
             [
              0.6666666666666666,
              "#ed7953"
             ],
             [
              0.7777777777777778,
              "#fb9f3a"
             ],
             [
              0.8888888888888888,
              "#fdca26"
             ],
             [
              1,
              "#f0f921"
             ]
            ],
            "type": "surface"
           }
          ],
          "table": [
           {
            "cells": {
             "fill": {
              "color": "#EBF0F8"
             },
             "line": {
              "color": "white"
             }
            },
            "header": {
             "fill": {
              "color": "#C8D4E3"
             },
             "line": {
              "color": "white"
             }
            },
            "type": "table"
           }
          ]
         },
         "layout": {
          "annotationdefaults": {
           "arrowcolor": "#2a3f5f",
           "arrowhead": 0,
           "arrowwidth": 1
          },
          "autotypenumbers": "strict",
          "coloraxis": {
           "colorbar": {
            "outlinewidth": 0,
            "ticks": ""
           }
          },
          "colorscale": {
           "diverging": [
            [
             0,
             "#8e0152"
            ],
            [
             0.1,
             "#c51b7d"
            ],
            [
             0.2,
             "#de77ae"
            ],
            [
             0.3,
             "#f1b6da"
            ],
            [
             0.4,
             "#fde0ef"
            ],
            [
             0.5,
             "#f7f7f7"
            ],
            [
             0.6,
             "#e6f5d0"
            ],
            [
             0.7,
             "#b8e186"
            ],
            [
             0.8,
             "#7fbc41"
            ],
            [
             0.9,
             "#4d9221"
            ],
            [
             1,
             "#276419"
            ]
           ],
           "sequential": [
            [
             0,
             "#0d0887"
            ],
            [
             0.1111111111111111,
             "#46039f"
            ],
            [
             0.2222222222222222,
             "#7201a8"
            ],
            [
             0.3333333333333333,
             "#9c179e"
            ],
            [
             0.4444444444444444,
             "#bd3786"
            ],
            [
             0.5555555555555556,
             "#d8576b"
            ],
            [
             0.6666666666666666,
             "#ed7953"
            ],
            [
             0.7777777777777778,
             "#fb9f3a"
            ],
            [
             0.8888888888888888,
             "#fdca26"
            ],
            [
             1,
             "#f0f921"
            ]
           ],
           "sequentialminus": [
            [
             0,
             "#0d0887"
            ],
            [
             0.1111111111111111,
             "#46039f"
            ],
            [
             0.2222222222222222,
             "#7201a8"
            ],
            [
             0.3333333333333333,
             "#9c179e"
            ],
            [
             0.4444444444444444,
             "#bd3786"
            ],
            [
             0.5555555555555556,
             "#d8576b"
            ],
            [
             0.6666666666666666,
             "#ed7953"
            ],
            [
             0.7777777777777778,
             "#fb9f3a"
            ],
            [
             0.8888888888888888,
             "#fdca26"
            ],
            [
             1,
             "#f0f921"
            ]
           ]
          },
          "colorway": [
           "#636efa",
           "#EF553B",
           "#00cc96",
           "#ab63fa",
           "#FFA15A",
           "#19d3f3",
           "#FF6692",
           "#B6E880",
           "#FF97FF",
           "#FECB52"
          ],
          "font": {
           "color": "#2a3f5f"
          },
          "geo": {
           "bgcolor": "white",
           "lakecolor": "white",
           "landcolor": "#E5ECF6",
           "showlakes": true,
           "showland": true,
           "subunitcolor": "white"
          },
          "hoverlabel": {
           "align": "left"
          },
          "hovermode": "closest",
          "mapbox": {
           "style": "light"
          },
          "paper_bgcolor": "white",
          "plot_bgcolor": "#E5ECF6",
          "polar": {
           "angularaxis": {
            "gridcolor": "white",
            "linecolor": "white",
            "ticks": ""
           },
           "bgcolor": "#E5ECF6",
           "radialaxis": {
            "gridcolor": "white",
            "linecolor": "white",
            "ticks": ""
           }
          },
          "scene": {
           "xaxis": {
            "backgroundcolor": "#E5ECF6",
            "gridcolor": "white",
            "gridwidth": 2,
            "linecolor": "white",
            "showbackground": true,
            "ticks": "",
            "zerolinecolor": "white"
           },
           "yaxis": {
            "backgroundcolor": "#E5ECF6",
            "gridcolor": "white",
            "gridwidth": 2,
            "linecolor": "white",
            "showbackground": true,
            "ticks": "",
            "zerolinecolor": "white"
           },
           "zaxis": {
            "backgroundcolor": "#E5ECF6",
            "gridcolor": "white",
            "gridwidth": 2,
            "linecolor": "white",
            "showbackground": true,
            "ticks": "",
            "zerolinecolor": "white"
           }
          },
          "shapedefaults": {
           "line": {
            "color": "#2a3f5f"
           }
          },
          "ternary": {
           "aaxis": {
            "gridcolor": "white",
            "linecolor": "white",
            "ticks": ""
           },
           "baxis": {
            "gridcolor": "white",
            "linecolor": "white",
            "ticks": ""
           },
           "bgcolor": "#E5ECF6",
           "caxis": {
            "gridcolor": "white",
            "linecolor": "white",
            "ticks": ""
           }
          },
          "title": {
           "x": 0.05
          },
          "xaxis": {
           "automargin": true,
           "gridcolor": "white",
           "linecolor": "white",
           "ticks": "",
           "title": {
            "standoff": 15
           },
           "zerolinecolor": "white",
           "zerolinewidth": 2
          },
          "yaxis": {
           "automargin": true,
           "gridcolor": "white",
           "linecolor": "white",
           "ticks": "",
           "title": {
            "standoff": 15
           },
           "zerolinecolor": "white",
           "zerolinewidth": 2
          }
         }
        },
        "title": {
         "text": "Embeddings Visualization with 2D t-SNE"
        },
        "xaxis": {
         "anchor": "y",
         "domain": [
          0,
          1
         ],
         "title": {
          "text": "t-SNE Component 1"
         }
        },
        "yaxis": {
         "anchor": "x",
         "domain": [
          0,
          1
         ],
         "title": {
          "text": "t-SNE Component 2"
         }
        }
       }
      }
     },
     "metadata": {},
     "output_type": "display_data"
    },
    {
     "data": {
      "application/vnd.plotly.v1+json": {
       "config": {
        "plotlyServerURL": "https://plot.ly"
       },
       "data": [
        {
         "customdata": [
          [
           "Auditorias"
          ],
          [
           "Auditorias"
          ],
          [
           "Auditorias"
          ],
          [
           "Auditorias"
          ],
          [
           "Auditorias"
          ],
          [
           "Auditorias"
          ],
          [
           "Auditorias"
          ],
          [
           "Auditorias"
          ],
          [
           "Auditorias"
          ],
          [
           "Auditorias"
          ],
          [
           "Auditorias"
          ],
          [
           "Auditorias"
          ],
          [
           "Auditorias"
          ],
          [
           "Auditorias"
          ],
          [
           "Auditorias"
          ],
          [
           "Auditorias"
          ],
          [
           "Auditorias"
          ],
          [
           "Auditorias"
          ],
          [
           "Auditorias"
          ],
          [
           "Auditorias"
          ],
          [
           "Auditorias"
          ],
          [
           "Auditorias"
          ],
          [
           "Auditorias"
          ],
          [
           "Auditorias"
          ],
          [
           "Auditorias"
          ],
          [
           "Auditorias"
          ],
          [
           "Auditorias"
          ],
          [
           "Auditorias"
          ],
          [
           "Auditorias"
          ],
          [
           "Auditorias"
          ]
         ],
         "hovertemplate": "color=Auditorias<br>PCA Component 1=%{x}<br>PCA Component 2=%{y}<br>PCA Component 3=%{z}<br>label=%{customdata[0]}<extra></extra>",
         "legendgroup": "Auditorias",
         "marker": {
          "color": "#636efa",
          "symbol": "circle"
         },
         "mode": "markers",
         "name": "Auditorias",
         "scene": "scene",
         "showlegend": true,
         "type": "scatter3d",
         "x": [
          -0.6694428,
          -0.66560435,
          -0.66115993,
          -0.6676102,
          -0.66137356,
          -0.6633156,
          -0.66348624,
          -0.6619346,
          -0.6611391,
          -0.66363823,
          -0.66240203,
          -0.6566467,
          -0.6641058,
          -0.6618365,
          -0.66137356,
          -0.66190636,
          -0.6615354,
          -0.6754276,
          -0.6633294,
          -0.6745296,
          -0.6564618,
          -0.6663982,
          -0.6564618,
          -0.66368806,
          -0.66605526,
          -0.6664291,
          -0.66345805,
          -0.66439426,
          -0.6709473,
          -0.6646848
         ],
         "y": [
          -0.0031871528,
          -0.0019145148,
          0.0002883098,
          -0.005934457,
          -0.0057275733,
          -0.0028642614,
          0.0077234106,
          -0.001778003,
          -0.0010114637,
          -0.0008758428,
          -0.0010254129,
          0.0018990337,
          0.0044651395,
          -0.0018353394,
          -0.005727573,
          -0.0036689416,
          -0.00075899955,
          0.0009105581,
          0.0007676079,
          0.0033000368,
          -0.00020795825,
          -0.0009254552,
          -0.00020796194,
          -0.0023339554,
          -0.0050674216,
          -0.0054990216,
          -0.00027494685,
          -0.0024652814,
          -0.017797608,
          -0.0047692843
         ],
         "z": [
          -0.0015136381,
          -0.0028839973,
          -0.0013629581,
          -0.003968281,
          0.028309226,
          -0.00043044658,
          0.0012196767,
          -0.0022262563,
          -0.001980815,
          -0.0021273864,
          0.00012804104,
          -0.0019718145,
          -0.0047340025,
          -0.0010561211,
          0.028309217,
          0.0004038736,
          -0.0023779862,
          -0.0037247292,
          -0.0022465745,
          -0.0045862934,
          -0.0037314226,
          -0.0046195462,
          -0.003731422,
          -0.0046306346,
          -0.000687171,
          -0.000064515014,
          0.0016124208,
          0.00034039936,
          -0.008563761,
          -0.002805004
         ]
        },
        {
         "customdata": [
          [
           "Ausentismo"
          ],
          [
           "Ausentismo"
          ],
          [
           "Ausentismo"
          ],
          [
           "Ausentismo"
          ],
          [
           "Ausentismo"
          ],
          [
           "Ausentismo"
          ],
          [
           "Ausentismo"
          ],
          [
           "Ausentismo"
          ],
          [
           "Ausentismo"
          ],
          [
           "Ausentismo"
          ],
          [
           "Ausentismo"
          ],
          [
           "Ausentismo"
          ],
          [
           "Ausentismo"
          ],
          [
           "Ausentismo"
          ],
          [
           "Ausentismo"
          ],
          [
           "Ausentismo"
          ],
          [
           "Ausentismo"
          ],
          [
           "Ausentismo"
          ],
          [
           "Ausentismo"
          ],
          [
           "Ausentismo"
          ],
          [
           "Ausentismo"
          ],
          [
           "Ausentismo"
          ],
          [
           "Ausentismo"
          ],
          [
           "Ausentismo"
          ],
          [
           "Ausentismo"
          ],
          [
           "Ausentismo"
          ],
          [
           "Ausentismo"
          ],
          [
           "Ausentismo"
          ],
          [
           "Ausentismo"
          ],
          [
           "Ausentismo"
          ],
          [
           "Ausentismo"
          ],
          [
           "Ausentismo"
          ],
          [
           "Ausentismo"
          ],
          [
           "Ausentismo"
          ],
          [
           "Ausentismo"
          ],
          [
           "Ausentismo"
          ],
          [
           "Ausentismo"
          ],
          [
           "Ausentismo"
          ],
          [
           "Ausentismo"
          ],
          [
           "Ausentismo"
          ],
          [
           "Ausentismo"
          ],
          [
           "Ausentismo"
          ],
          [
           "Ausentismo"
          ],
          [
           "Ausentismo"
          ],
          [
           "Ausentismo"
          ]
         ],
         "hovertemplate": "color=Ausentismo<br>PCA Component 1=%{x}<br>PCA Component 2=%{y}<br>PCA Component 3=%{z}<br>label=%{customdata[0]}<extra></extra>",
         "legendgroup": "Ausentismo",
         "marker": {
          "color": "#EF553B",
          "symbol": "circle"
         },
         "mode": "markers",
         "name": "Ausentismo",
         "scene": "scene",
         "showlegend": true,
         "type": "scatter3d",
         "x": [
          -0.67018116,
          -0.68261987,
          -0.66952884,
          -0.6679136,
          -0.6664415,
          -0.66543585,
          -0.66255563,
          -0.66808873,
          -0.6733951,
          -0.6628302,
          -0.66582924,
          -0.6675776,
          -0.6763186,
          -0.665118,
          -0.66414404,
          -0.6709363,
          -0.6640303,
          -0.6651283,
          -0.6646704,
          -0.664409,
          -0.6617911,
          -0.6614967,
          -0.66148657,
          -0.66745424,
          -0.66484165,
          -0.6763185,
          -0.66755545,
          -0.65256405,
          -0.66204673,
          -0.6682383,
          -0.66327643,
          -0.6617911,
          -0.6627522,
          -0.6652223,
          -0.6695643,
          -0.675632,
          -0.6714393,
          -0.67090815,
          -0.675632,
          -0.6714393,
          -0.671804,
          -0.6729765,
          -0.67217207,
          -0.66594803,
          -0.6617911
         ],
         "y": [
          -0.015911577,
          -0.019850453,
          -0.0020824233,
          -0.0015283175,
          -0.0032492378,
          -0.0026676871,
          -0.0030696283,
          -0.0016013297,
          -0.01145282,
          -0.002436527,
          -0.0029180555,
          -0.0035161918,
          -0.006506874,
          -0.0017213323,
          -0.0013052002,
          -0.004428397,
          -0.0027317465,
          -0.014392054,
          -0.01047474,
          -0.00986236,
          -0.003738606,
          -0.0044136173,
          -0.0044368966,
          -0.015195393,
          -0.004390749,
          -0.0065068756,
          -0.0035664195,
          0.015181446,
          -0.0021664137,
          -0.010178911,
          -0.0046853316,
          -0.0037386054,
          -0.0020339056,
          -0.0025254474,
          -0.010297405,
          -0.014046429,
          -0.0019119938,
          -0.008574407,
          -0.014046428,
          -0.0019119928,
          -0.007425744,
          -0.0038767105,
          -0.0018312983,
          -0.0040109754,
          -0.0037386059
         ],
         "z": [
          -0.0036423372,
          -0.0050854846,
          -0.00021171967,
          -0.0017237908,
          -0.0012809233,
          -0.00033649724,
          -0.00084858725,
          -0.0032052645,
          -0.0059059435,
          -0.0011130971,
          0.0011610943,
          -0.00029778073,
          -0.007592156,
          -0.002442251,
          -0.0019944313,
          -0.002695926,
          -0.0017460518,
          -0.0051618638,
          -0.004374467,
          0.00084801106,
          0.053072777,
          0.0036244818,
          0.001919371,
          -0.0056254184,
          -0.00134443,
          -0.0075921556,
          -0.0023225143,
          0.0071186274,
          -0.00053624733,
          -0.001433914,
          -0.002042429,
          0.053072777,
          -0.00014064407,
          -0.0015783183,
          0.0045875357,
          0.006060489,
          -0.0035273568,
          0.004388,
          0.006060488,
          -0.0035273563,
          0.0042549768,
          0.0025876823,
          0.00011627445,
          -0.00013343812,
          0.053072777
         ]
        },
        {
         "customdata": [
          [
           "Estructura Organizativa"
          ],
          [
           "Estructura Organizativa"
          ],
          [
           "Estructura Organizativa"
          ],
          [
           "Estructura Organizativa"
          ],
          [
           "Estructura Organizativa"
          ],
          [
           "Estructura Organizativa"
          ],
          [
           "Estructura Organizativa"
          ],
          [
           "Estructura Organizativa"
          ],
          [
           "Estructura Organizativa"
          ],
          [
           "Estructura Organizativa"
          ],
          [
           "Estructura Organizativa"
          ],
          [
           "Estructura Organizativa"
          ],
          [
           "Estructura Organizativa"
          ],
          [
           "Estructura Organizativa"
          ],
          [
           "Estructura Organizativa"
          ],
          [
           "Estructura Organizativa"
          ],
          [
           "Estructura Organizativa"
          ],
          [
           "Estructura Organizativa"
          ],
          [
           "Estructura Organizativa"
          ],
          [
           "Estructura Organizativa"
          ],
          [
           "Estructura Organizativa"
          ],
          [
           "Estructura Organizativa"
          ],
          [
           "Estructura Organizativa"
          ],
          [
           "Estructura Organizativa"
          ],
          [
           "Estructura Organizativa"
          ],
          [
           "Estructura Organizativa"
          ],
          [
           "Estructura Organizativa"
          ],
          [
           "Estructura Organizativa"
          ],
          [
           "Estructura Organizativa"
          ],
          [
           "Estructura Organizativa"
          ],
          [
           "Estructura Organizativa"
          ],
          [
           "Estructura Organizativa"
          ],
          [
           "Estructura Organizativa"
          ],
          [
           "Estructura Organizativa"
          ],
          [
           "Estructura Organizativa"
          ],
          [
           "Estructura Organizativa"
          ],
          [
           "Estructura Organizativa"
          ],
          [
           "Estructura Organizativa"
          ],
          [
           "Estructura Organizativa"
          ],
          [
           "Estructura Organizativa"
          ],
          [
           "Estructura Organizativa"
          ],
          [
           "Estructura Organizativa"
          ],
          [
           "Estructura Organizativa"
          ],
          [
           "Estructura Organizativa"
          ],
          [
           "Estructura Organizativa"
          ],
          [
           "Estructura Organizativa"
          ],
          [
           "Estructura Organizativa"
          ],
          [
           "Estructura Organizativa"
          ],
          [
           "Estructura Organizativa"
          ],
          [
           "Estructura Organizativa"
          ],
          [
           "Estructura Organizativa"
          ],
          [
           "Estructura Organizativa"
          ],
          [
           "Estructura Organizativa"
          ],
          [
           "Estructura Organizativa"
          ],
          [
           "Estructura Organizativa"
          ],
          [
           "Estructura Organizativa"
          ],
          [
           "Estructura Organizativa"
          ],
          [
           "Estructura Organizativa"
          ],
          [
           "Estructura Organizativa"
          ],
          [
           "Estructura Organizativa"
          ],
          [
           "Estructura Organizativa"
          ],
          [
           "Estructura Organizativa"
          ],
          [
           "Estructura Organizativa"
          ],
          [
           "Estructura Organizativa"
          ],
          [
           "Estructura Organizativa"
          ],
          [
           "Estructura Organizativa"
          ],
          [
           "Estructura Organizativa"
          ],
          [
           "Estructura Organizativa"
          ],
          [
           "Estructura Organizativa"
          ],
          [
           "Estructura Organizativa"
          ],
          [
           "Estructura Organizativa"
          ],
          [
           "Estructura Organizativa"
          ],
          [
           "Estructura Organizativa"
          ],
          [
           "Estructura Organizativa"
          ],
          [
           "Estructura Organizativa"
          ],
          [
           "Estructura Organizativa"
          ],
          [
           "Estructura Organizativa"
          ]
         ],
         "hovertemplate": "color=Estructura Organizativa<br>PCA Component 1=%{x}<br>PCA Component 2=%{y}<br>PCA Component 3=%{z}<br>label=%{customdata[0]}<extra></extra>",
         "legendgroup": "Estructura Organizativa",
         "marker": {
          "color": "#00cc96",
          "symbol": "circle"
         },
         "mode": "markers",
         "name": "Estructura Organizativa",
         "scene": "scene",
         "showlegend": true,
         "type": "scatter3d",
         "x": [
          0.7743743,
          0.0046849614,
          -0.6117832,
          0.16695403,
          0.42589697,
          0.78408825,
          0.854815,
          1.1886358,
          0.92826873,
          1.4953688,
          1.0554824,
          1.1995157,
          1.1765432,
          1.0925602,
          1.2899257,
          1.4647853,
          1.2557647,
          1.1457515,
          1.1842468,
          1.1379743,
          1.1668203,
          1.4568651,
          1.6243331,
          1.0694084,
          1.2244735,
          1.0664979,
          1.975217,
          1.5597568,
          1.2708144,
          1.4263538,
          1.5779673,
          1.2019248,
          1.3010299,
          1.3616892,
          1.1516984,
          1.0675387,
          1.1927817,
          0.41154528,
          1.6930536,
          0.9394777,
          0.70262164,
          0.8815272,
          1.2075022,
          0.3112309,
          1.1884797,
          1.3060051,
          1.096896,
          1.1436485,
          1.1479107,
          0.982502,
          0.8662018,
          0.88179964,
          0.83908695,
          0.5168702,
          1.26869,
          1.139448,
          1.3199557,
          1.263006,
          1.1463089,
          1.2861937,
          1.201007,
          1.2448697,
          1.3027505,
          1.1379743,
          1.2053659,
          0.5474826,
          1.2865973,
          1.1474189,
          1.2429634,
          1.1540318,
          1.1526353,
          1.1379744,
          1.1449083,
          1.135459,
          0.6659497,
          1.0130723,
          1.1790955
         ],
         "y": [
          0.00093838526,
          -0.0065009063,
          -0.02684889,
          -0.005986653,
          -0.005163072,
          -0.0054435423,
          -0.0062575205,
          -0.0021096747,
          0.0006462668,
          -0.0041978965,
          -0.00083633594,
          -0.0023160721,
          0.0034144216,
          0.002553298,
          0.0031370062,
          -0.00043107782,
          0.0033503063,
          0.00042603593,
          0.004319742,
          0.0042239954,
          0.0011014584,
          -0.0029049283,
          -0.005060456,
          0.0011785235,
          0.0017096853,
          0.0062357914,
          -0.0036322114,
          -0.0011827273,
          0.0024057452,
          -0.0029847245,
          -0.006694998,
          0.0027881071,
          0.00049627456,
          -0.0030377167,
          -0.003947644,
          -0.0015964308,
          -0.003868277,
          -0.004371702,
          -0.008118772,
          -0.00016688649,
          -0.0013746442,
          0.0014209428,
          0.00090883794,
          0.0024331494,
          0.0012112829,
          -0.0025838148,
          -0.0015421951,
          -0.00092588295,
          -0.013307016,
          -0.00463897,
          0.00015811015,
          -0.00006207745,
          -0.00093756453,
          -0.004027602,
          -0.0005668678,
          0.0028288583,
          0.0028053084,
          0.0027674597,
          0.00050530914,
          0.0035711876,
          0.000992965,
          0.0040748925,
          0.0032930968,
          0.004223996,
          0.0016987022,
          -0.0035090058,
          -0.00096212444,
          0.004450985,
          0.0041640205,
          0.004800312,
          0.004750223,
          0.004223994,
          0.003318143,
          0.002608584,
          -0.0012733408,
          0.0025019946,
          0.0011937647
         ],
         "z": [
          0.028829206,
          -0.0011421527,
          -0.01562241,
          -0.0008212886,
          -0.00027951287,
          -0.0016553821,
          0.00030597416,
          0.001876453,
          0.00095181953,
          -0.0006585746,
          0.00048559718,
          0.002521693,
          -0.002225562,
          0.0018164756,
          0.0019072995,
          -0.0010593872,
          0.0012213512,
          0.0015115651,
          0.0033137032,
          -0.0045284047,
          0.00012467771,
          -0.002539229,
          -0.00091190636,
          0.0012282201,
          0.0041011954,
          -0.00029633168,
          -0.00451603,
          0.00046946545,
          0.0012573785,
          -0.0020387885,
          -0.0010000061,
          0.0023523474,
          0.002273457,
          -0.0061804997,
          -0.008798097,
          -0.007225141,
          -0.011224299,
          -0.0026045674,
          -0.013191782,
          0.001449194,
          -0.0033089416,
          0.00029714676,
          0.0011019309,
          -0.0047184075,
          0.0009131914,
          -0.0013651021,
          0.0030137596,
          0.0010947702,
          -0.010344419,
          -0.0020570292,
          0.0023891432,
          0.0035117664,
          0.0033292123,
          0.005415926,
          0.0014521404,
          0.004230042,
          0.0010964257,
          0.00038347166,
          0.0017276525,
          0.0020504468,
          -0.00062431133,
          0.0012501844,
          0.0012465017,
          -0.0045284047,
          -0.0010849643,
          0.00417355,
          0.0026848614,
          0.0033876465,
          0.0023704201,
          0.0038908673,
          0.0031587654,
          -0.004528403,
          0.0016064957,
          0.0018643078,
          0.0019595902,
          0.0013151559,
          -0.00049075385
         ]
        },
        {
         "customdata": [
          [
           "Riesgos"
          ],
          [
           "Riesgos"
          ],
          [
           "Riesgos"
          ],
          [
           "Riesgos"
          ],
          [
           "Riesgos"
          ],
          [
           "Riesgos"
          ],
          [
           "Riesgos"
          ],
          [
           "Riesgos"
          ],
          [
           "Riesgos"
          ],
          [
           "Riesgos"
          ],
          [
           "Riesgos"
          ],
          [
           "Riesgos"
          ],
          [
           "Riesgos"
          ],
          [
           "Riesgos"
          ],
          [
           "Riesgos"
          ],
          [
           "Riesgos"
          ],
          [
           "Riesgos"
          ],
          [
           "Riesgos"
          ],
          [
           "Riesgos"
          ],
          [
           "Riesgos"
          ],
          [
           "Riesgos"
          ]
         ],
         "hovertemplate": "color=Riesgos<br>PCA Component 1=%{x}<br>PCA Component 2=%{y}<br>PCA Component 3=%{z}<br>label=%{customdata[0]}<extra></extra>",
         "legendgroup": "Riesgos",
         "marker": {
          "color": "#ab63fa",
          "symbol": "circle"
         },
         "mode": "markers",
         "name": "Riesgos",
         "scene": "scene",
         "showlegend": true,
         "type": "scatter3d",
         "x": [
          -0.66550446,
          -0.6794678,
          -0.672025,
          -0.67222846,
          -0.66493756,
          -0.6564243,
          -0.65983826,
          -0.65732765,
          -0.6435187,
          -0.66164076,
          -0.66903865,
          -0.6683205,
          -0.6612636,
          -0.66285086,
          -0.656048,
          -0.6601204,
          -0.66109467,
          -0.6643419,
          -0.6621277,
          -0.6556272,
          -0.6553665
         ],
         "y": [
          -0.011100004,
          -0.0009989454,
          -0.003461637,
          -0.0038112213,
          -0.0027046574,
          0.00011348236,
          0.0016518662,
          0.0023293772,
          0.0060556857,
          -0.0022280647,
          -0.0022892782,
          -0.0016752592,
          -0.000039351107,
          -0.00054430746,
          -0.0019735233,
          -0.006973248,
          -0.007782443,
          -0.01047977,
          -0.0021629368,
          -0.00077978073,
          -0.0006384801
         ],
         "z": [
          -0.00025327742,
          -0.0020511688,
          -0.0019992748,
          -0.00065396656,
          -0.003344552,
          -0.00042209757,
          -0.007895921,
          -0.0066162655,
          0.0004218076,
          -0.0013735321,
          -0.003067031,
          -0.0014275102,
          -0.0042391447,
          0.00030823523,
          -0.004692761,
          -0.00040035488,
          -0.0015783324,
          -0.0055049397,
          -0.002955914,
          -0.001868106,
          -0.0026007849
         ]
        },
        {
         "customdata": [
          [
           "Información"
          ],
          [
           "Información"
          ],
          [
           "Información"
          ],
          [
           "Información"
          ],
          [
           "Información"
          ],
          [
           "Información"
          ],
          [
           "Información"
          ],
          [
           "Información"
          ],
          [
           "Información"
          ]
         ],
         "hovertemplate": "color=Información<br>PCA Component 1=%{x}<br>PCA Component 2=%{y}<br>PCA Component 3=%{z}<br>label=%{customdata[0]}<extra></extra>",
         "legendgroup": "Información",
         "marker": {
          "color": "#FFA15A",
          "symbol": "circle"
         },
         "mode": "markers",
         "name": "Información",
         "scene": "scene",
         "showlegend": true,
         "type": "scatter3d",
         "x": [
          -0.6764678,
          -0.67195404,
          -0.6811735,
          -0.6739952,
          -0.6782988,
          -0.6770037,
          -0.674003,
          -0.6719856,
          -0.6786313
         ],
         "y": [
          -0.005471961,
          -0.00061597134,
          -0.006831098,
          -0.0050900104,
          -0.0005291804,
          -0.00818889,
          -0.0069543007,
          -0.005275846,
          -0.006226512
         ],
         "z": [
          -0.0117369965,
          0.00017846876,
          -0.013167123,
          0.0011020417,
          -0.001226193,
          0.0040488504,
          0.003034776,
          -0.0016915399,
          -0.004009552
         ]
        },
        {
         "customdata": [
          [
           "Emergencia"
          ],
          [
           "Emergencia"
          ],
          [
           "Emergencia"
          ],
          [
           "Emergencia"
          ],
          [
           "Emergencia"
          ],
          [
           "Emergencia"
          ],
          [
           "Emergencia"
          ],
          [
           "Emergencia"
          ],
          [
           "Emergencia"
          ],
          [
           "Emergencia"
          ],
          [
           "Emergencia"
          ]
         ],
         "hovertemplate": "color=Emergencia<br>PCA Component 1=%{x}<br>PCA Component 2=%{y}<br>PCA Component 3=%{z}<br>label=%{customdata[0]}<extra></extra>",
         "legendgroup": "Emergencia",
         "marker": {
          "color": "#19d3f3",
          "symbol": "circle"
         },
         "mode": "markers",
         "name": "Emergencia",
         "scene": "scene",
         "showlegend": true,
         "type": "scatter3d",
         "x": [
          -0.64443487,
          -0.6331993,
          -0.6314444,
          -0.6195572,
          -0.6120458,
          -0.60455835,
          -0.6108228,
          -0.600716,
          -0.6030384,
          -0.6017633,
          -0.60557705
         ],
         "y": [
          0.0122619765,
          0.01783018,
          0.019473763,
          0.026158616,
          0.027406398,
          0.031807706,
          0.025693351,
          0.029462932,
          0.027727863,
          0.028369237,
          0.02467782
         ],
         "z": [
          -0.0020931456,
          -0.0016901968,
          -0.0022027483,
          0.000231493,
          -0.001779685,
          0.0013877557,
          -0.00045928865,
          -0.0020128957,
          -0.0024005221,
          -0.0032775397,
          -0.0037391982
         ]
        },
        {
         "customdata": [
          [
           "Question: ¿Cómo se diferencia la ubicación física de la operativa?<br>Closest Model: Emergencia<br>Similarity: 0.49<br>Chunk: ¿QUÉ ES UN SIMULACRO?\nUn simulacro es un ensayo o "
          ],
          [
           "Question: ¿Qué información se incluye en el informe de la evaluación de riesgos que ofrece la plataforma y cuál es su utilidad para la gestión de riesgos en la empresa?<br>Closest Model: Emergencia<br>Similarity: 0.93<br>Chunk: Una vez iniciada la vigencia el estado del plan ca"
          ],
          [
           "Question: ¿Hay indicadores relativos al cumplimiento de normas?<br>Closest Model: Emergencia<br>Similarity: 0.39<br>Chunk: ¿QUÉ ES UN SIMULACRO?\nUn simulacro es un ensayo o "
          ],
          [
           "Question: ¿Qué papel juega la estructura organizativa en la funcionalidad general de la plataforma y cómo interactúa con otros módulos?<br>Closest Model: Riesgos<br>Similarity: 0.38<br>Chunk: Nota: Cuando se cierra la evaluación solo se puede"
          ],
          [
           "Question: ¿Qué permite realizar la evaluación de riesgos?<br>Closest Model: Emergencia<br>Similarity: 0.96<br>Chunk: El usuario accede a la pestaña “Directorio externo"
          ],
          [
           "Question: ¿Qué tipo de documentos se pueden almacenar y compartir en el espacio denominado 'Documentos' y cuál es su importancia dentro del contexto de la gestión empresarial en la plataforma?<br>Closest Model: Emergencia<br>Similarity: 0.90<br>Chunk: Una vez iniciada la vigencia el estado del plan ca"
          ],
          [
           "Question: ¿Se pueden llevar a cabo auditorías internas?<br>Closest Model: Emergencia<br>Similarity: 0.91<br>Chunk: La pestaña evaluación de aspectos legales permite "
          ],
          [
           "Question: ¿Cuál es la tasa de adopción de esta plataforma en el mercado?<br>Closest Model: Riesgos<br>Similarity: 0.38<br>Chunk: Nota: Cuando se cierra la evaluación solo se puede"
          ],
          [
           "Question: ¿Cómo se compara esta plataforma con otras soluciones de gestión de SST?<br>Closest Model: Emergencia<br>Similarity: 0.82<br>Chunk: Versión  Fecha  Comentarios  Autor  Preliminar 0.1"
          ],
          [
           "Question: ¿Qué día hará mañana?<br>Closest Model: Riesgos<br>Similarity: 0.53<br>Chunk: Documento  Manual de uso del módulo IER PYMES.  De"
          ]
         ],
         "hovertemplate": "color=Question<br>PCA Component 1=%{x}<br>PCA Component 2=%{y}<br>PCA Component 3=%{z}<br>label=%{customdata[0]}<extra></extra>",
         "legendgroup": "Question",
         "marker": {
          "color": "#FF6692",
          "symbol": "circle"
         },
         "mode": "markers",
         "name": "Question",
         "scene": "scene",
         "showlegend": true,
         "type": "scatter3d",
         "x": [
          -0.6518052,
          -0.6313844,
          -0.6686479,
          -0.66821146,
          -0.5985235,
          -0.630853,
          -0.62704444,
          -0.66821146,
          -0.6351305,
          -0.6548761
         ],
         "y": [
          0.011636163,
          0.022010304,
          0.0047423057,
          0.012957849,
          0.03310437,
          0.021472173,
          0.019077232,
          0.012957849,
          0.026018197,
          0.0076502594
         ],
         "z": [
          0.003509912,
          -0.0025028032,
          -0.0027789166,
          -0.0058158496,
          -0.0029293136,
          0.00011532646,
          -0.005550318,
          -0.0058158496,
          -0.0017068473,
          0.0030694336
         ]
        },
        {
         "mode": "markers+text",
         "showlegend": false,
         "text": "Q1",
         "textposition": "top center",
         "type": "scatter3d",
         "x": [
          -0.6518052220344543
         ],
         "y": [
          0.011636163108050823
         ],
         "z": [
          0.0035099119413644075
         ]
        },
        {
         "mode": "markers+text",
         "showlegend": false,
         "text": "Q2",
         "textposition": "top center",
         "type": "scatter3d",
         "x": [
          -0.6313843727111816
         ],
         "y": [
          0.022010304033756256
         ],
         "z": [
          -0.002502803225070238
         ]
        },
        {
         "mode": "markers+text",
         "showlegend": false,
         "text": "Q3",
         "textposition": "top center",
         "type": "scatter3d",
         "x": [
          -0.6686478853225708
         ],
         "y": [
          0.004742305725812912
         ],
         "z": [
          -0.002778916619718075
         ]
        },
        {
         "mode": "markers+text",
         "showlegend": false,
         "text": "Q4",
         "textposition": "top center",
         "type": "scatter3d",
         "x": [
          -0.6682114601135254
         ],
         "y": [
          0.012957848608493805
         ],
         "z": [
          -0.005815849639475346
         ]
        },
        {
         "mode": "markers+text",
         "showlegend": false,
         "text": "Q5",
         "textposition": "top center",
         "type": "scatter3d",
         "x": [
          -0.5985234975814819
         ],
         "y": [
          0.03310437127947807
         ],
         "z": [
          -0.002929313573986292
         ]
        },
        {
         "mode": "markers+text",
         "showlegend": false,
         "text": "Q6",
         "textposition": "top center",
         "type": "scatter3d",
         "x": [
          -0.630852997303009
         ],
         "y": [
          0.021472172811627388
         ],
         "z": [
          0.00011532646021805704
         ]
        },
        {
         "mode": "markers+text",
         "showlegend": false,
         "text": "Q7",
         "textposition": "top center",
         "type": "scatter3d",
         "x": [
          -0.6270444393157959
         ],
         "y": [
          0.019077232107520103
         ],
         "z": [
          -0.00555031793192029
         ]
        },
        {
         "mode": "markers+text",
         "showlegend": false,
         "text": "Q8",
         "textposition": "top center",
         "type": "scatter3d",
         "x": [
          -0.6682114601135254
         ],
         "y": [
          0.012957848608493805
         ],
         "z": [
          -0.005815849639475346
         ]
        },
        {
         "mode": "markers+text",
         "showlegend": false,
         "text": "Q9",
         "textposition": "top center",
         "type": "scatter3d",
         "x": [
          -0.6351305246353149
         ],
         "y": [
          0.02601819671690464
         ],
         "z": [
          -0.001706847338937223
         ]
        },
        {
         "mode": "markers+text",
         "showlegend": false,
         "text": "Q10",
         "textposition": "top center",
         "type": "scatter3d",
         "x": [
          -0.6548761129379272
         ],
         "y": [
          0.007650259416550398
         ],
         "z": [
          0.003069433616474271
         ]
        }
       ],
       "layout": {
        "legend": {
         "title": {
          "text": "color"
         },
         "tracegroupgap": 0
        },
        "scene": {
         "domain": {
          "x": [
           0,
           1
          ],
          "y": [
           0,
           1
          ]
         },
         "xaxis": {
          "title": {
           "text": "PCA Component 1"
          }
         },
         "yaxis": {
          "title": {
           "text": "PCA Component 2"
          }
         },
         "zaxis": {
          "title": {
           "text": "PCA Component 3"
          }
         }
        },
        "template": {
         "data": {
          "bar": [
           {
            "error_x": {
             "color": "#2a3f5f"
            },
            "error_y": {
             "color": "#2a3f5f"
            },
            "marker": {
             "line": {
              "color": "#E5ECF6",
              "width": 0.5
             },
             "pattern": {
              "fillmode": "overlay",
              "size": 10,
              "solidity": 0.2
             }
            },
            "type": "bar"
           }
          ],
          "barpolar": [
           {
            "marker": {
             "line": {
              "color": "#E5ECF6",
              "width": 0.5
             },
             "pattern": {
              "fillmode": "overlay",
              "size": 10,
              "solidity": 0.2
             }
            },
            "type": "barpolar"
           }
          ],
          "carpet": [
           {
            "aaxis": {
             "endlinecolor": "#2a3f5f",
             "gridcolor": "white",
             "linecolor": "white",
             "minorgridcolor": "white",
             "startlinecolor": "#2a3f5f"
            },
            "baxis": {
             "endlinecolor": "#2a3f5f",
             "gridcolor": "white",
             "linecolor": "white",
             "minorgridcolor": "white",
             "startlinecolor": "#2a3f5f"
            },
            "type": "carpet"
           }
          ],
          "choropleth": [
           {
            "colorbar": {
             "outlinewidth": 0,
             "ticks": ""
            },
            "type": "choropleth"
           }
          ],
          "contour": [
           {
            "colorbar": {
             "outlinewidth": 0,
             "ticks": ""
            },
            "colorscale": [
             [
              0,
              "#0d0887"
             ],
             [
              0.1111111111111111,
              "#46039f"
             ],
             [
              0.2222222222222222,
              "#7201a8"
             ],
             [
              0.3333333333333333,
              "#9c179e"
             ],
             [
              0.4444444444444444,
              "#bd3786"
             ],
             [
              0.5555555555555556,
              "#d8576b"
             ],
             [
              0.6666666666666666,
              "#ed7953"
             ],
             [
              0.7777777777777778,
              "#fb9f3a"
             ],
             [
              0.8888888888888888,
              "#fdca26"
             ],
             [
              1,
              "#f0f921"
             ]
            ],
            "type": "contour"
           }
          ],
          "contourcarpet": [
           {
            "colorbar": {
             "outlinewidth": 0,
             "ticks": ""
            },
            "type": "contourcarpet"
           }
          ],
          "heatmap": [
           {
            "colorbar": {
             "outlinewidth": 0,
             "ticks": ""
            },
            "colorscale": [
             [
              0,
              "#0d0887"
             ],
             [
              0.1111111111111111,
              "#46039f"
             ],
             [
              0.2222222222222222,
              "#7201a8"
             ],
             [
              0.3333333333333333,
              "#9c179e"
             ],
             [
              0.4444444444444444,
              "#bd3786"
             ],
             [
              0.5555555555555556,
              "#d8576b"
             ],
             [
              0.6666666666666666,
              "#ed7953"
             ],
             [
              0.7777777777777778,
              "#fb9f3a"
             ],
             [
              0.8888888888888888,
              "#fdca26"
             ],
             [
              1,
              "#f0f921"
             ]
            ],
            "type": "heatmap"
           }
          ],
          "heatmapgl": [
           {
            "colorbar": {
             "outlinewidth": 0,
             "ticks": ""
            },
            "colorscale": [
             [
              0,
              "#0d0887"
             ],
             [
              0.1111111111111111,
              "#46039f"
             ],
             [
              0.2222222222222222,
              "#7201a8"
             ],
             [
              0.3333333333333333,
              "#9c179e"
             ],
             [
              0.4444444444444444,
              "#bd3786"
             ],
             [
              0.5555555555555556,
              "#d8576b"
             ],
             [
              0.6666666666666666,
              "#ed7953"
             ],
             [
              0.7777777777777778,
              "#fb9f3a"
             ],
             [
              0.8888888888888888,
              "#fdca26"
             ],
             [
              1,
              "#f0f921"
             ]
            ],
            "type": "heatmapgl"
           }
          ],
          "histogram": [
           {
            "marker": {
             "pattern": {
              "fillmode": "overlay",
              "size": 10,
              "solidity": 0.2
             }
            },
            "type": "histogram"
           }
          ],
          "histogram2d": [
           {
            "colorbar": {
             "outlinewidth": 0,
             "ticks": ""
            },
            "colorscale": [
             [
              0,
              "#0d0887"
             ],
             [
              0.1111111111111111,
              "#46039f"
             ],
             [
              0.2222222222222222,
              "#7201a8"
             ],
             [
              0.3333333333333333,
              "#9c179e"
             ],
             [
              0.4444444444444444,
              "#bd3786"
             ],
             [
              0.5555555555555556,
              "#d8576b"
             ],
             [
              0.6666666666666666,
              "#ed7953"
             ],
             [
              0.7777777777777778,
              "#fb9f3a"
             ],
             [
              0.8888888888888888,
              "#fdca26"
             ],
             [
              1,
              "#f0f921"
             ]
            ],
            "type": "histogram2d"
           }
          ],
          "histogram2dcontour": [
           {
            "colorbar": {
             "outlinewidth": 0,
             "ticks": ""
            },
            "colorscale": [
             [
              0,
              "#0d0887"
             ],
             [
              0.1111111111111111,
              "#46039f"
             ],
             [
              0.2222222222222222,
              "#7201a8"
             ],
             [
              0.3333333333333333,
              "#9c179e"
             ],
             [
              0.4444444444444444,
              "#bd3786"
             ],
             [
              0.5555555555555556,
              "#d8576b"
             ],
             [
              0.6666666666666666,
              "#ed7953"
             ],
             [
              0.7777777777777778,
              "#fb9f3a"
             ],
             [
              0.8888888888888888,
              "#fdca26"
             ],
             [
              1,
              "#f0f921"
             ]
            ],
            "type": "histogram2dcontour"
           }
          ],
          "mesh3d": [
           {
            "colorbar": {
             "outlinewidth": 0,
             "ticks": ""
            },
            "type": "mesh3d"
           }
          ],
          "parcoords": [
           {
            "line": {
             "colorbar": {
              "outlinewidth": 0,
              "ticks": ""
             }
            },
            "type": "parcoords"
           }
          ],
          "pie": [
           {
            "automargin": true,
            "type": "pie"
           }
          ],
          "scatter": [
           {
            "fillpattern": {
             "fillmode": "overlay",
             "size": 10,
             "solidity": 0.2
            },
            "type": "scatter"
           }
          ],
          "scatter3d": [
           {
            "line": {
             "colorbar": {
              "outlinewidth": 0,
              "ticks": ""
             }
            },
            "marker": {
             "colorbar": {
              "outlinewidth": 0,
              "ticks": ""
             }
            },
            "type": "scatter3d"
           }
          ],
          "scattercarpet": [
           {
            "marker": {
             "colorbar": {
              "outlinewidth": 0,
              "ticks": ""
             }
            },
            "type": "scattercarpet"
           }
          ],
          "scattergeo": [
           {
            "marker": {
             "colorbar": {
              "outlinewidth": 0,
              "ticks": ""
             }
            },
            "type": "scattergeo"
           }
          ],
          "scattergl": [
           {
            "marker": {
             "colorbar": {
              "outlinewidth": 0,
              "ticks": ""
             }
            },
            "type": "scattergl"
           }
          ],
          "scattermapbox": [
           {
            "marker": {
             "colorbar": {
              "outlinewidth": 0,
              "ticks": ""
             }
            },
            "type": "scattermapbox"
           }
          ],
          "scatterpolar": [
           {
            "marker": {
             "colorbar": {
              "outlinewidth": 0,
              "ticks": ""
             }
            },
            "type": "scatterpolar"
           }
          ],
          "scatterpolargl": [
           {
            "marker": {
             "colorbar": {
              "outlinewidth": 0,
              "ticks": ""
             }
            },
            "type": "scatterpolargl"
           }
          ],
          "scatterternary": [
           {
            "marker": {
             "colorbar": {
              "outlinewidth": 0,
              "ticks": ""
             }
            },
            "type": "scatterternary"
           }
          ],
          "surface": [
           {
            "colorbar": {
             "outlinewidth": 0,
             "ticks": ""
            },
            "colorscale": [
             [
              0,
              "#0d0887"
             ],
             [
              0.1111111111111111,
              "#46039f"
             ],
             [
              0.2222222222222222,
              "#7201a8"
             ],
             [
              0.3333333333333333,
              "#9c179e"
             ],
             [
              0.4444444444444444,
              "#bd3786"
             ],
             [
              0.5555555555555556,
              "#d8576b"
             ],
             [
              0.6666666666666666,
              "#ed7953"
             ],
             [
              0.7777777777777778,
              "#fb9f3a"
             ],
             [
              0.8888888888888888,
              "#fdca26"
             ],
             [
              1,
              "#f0f921"
             ]
            ],
            "type": "surface"
           }
          ],
          "table": [
           {
            "cells": {
             "fill": {
              "color": "#EBF0F8"
             },
             "line": {
              "color": "white"
             }
            },
            "header": {
             "fill": {
              "color": "#C8D4E3"
             },
             "line": {
              "color": "white"
             }
            },
            "type": "table"
           }
          ]
         },
         "layout": {
          "annotationdefaults": {
           "arrowcolor": "#2a3f5f",
           "arrowhead": 0,
           "arrowwidth": 1
          },
          "autotypenumbers": "strict",
          "coloraxis": {
           "colorbar": {
            "outlinewidth": 0,
            "ticks": ""
           }
          },
          "colorscale": {
           "diverging": [
            [
             0,
             "#8e0152"
            ],
            [
             0.1,
             "#c51b7d"
            ],
            [
             0.2,
             "#de77ae"
            ],
            [
             0.3,
             "#f1b6da"
            ],
            [
             0.4,
             "#fde0ef"
            ],
            [
             0.5,
             "#f7f7f7"
            ],
            [
             0.6,
             "#e6f5d0"
            ],
            [
             0.7,
             "#b8e186"
            ],
            [
             0.8,
             "#7fbc41"
            ],
            [
             0.9,
             "#4d9221"
            ],
            [
             1,
             "#276419"
            ]
           ],
           "sequential": [
            [
             0,
             "#0d0887"
            ],
            [
             0.1111111111111111,
             "#46039f"
            ],
            [
             0.2222222222222222,
             "#7201a8"
            ],
            [
             0.3333333333333333,
             "#9c179e"
            ],
            [
             0.4444444444444444,
             "#bd3786"
            ],
            [
             0.5555555555555556,
             "#d8576b"
            ],
            [
             0.6666666666666666,
             "#ed7953"
            ],
            [
             0.7777777777777778,
             "#fb9f3a"
            ],
            [
             0.8888888888888888,
             "#fdca26"
            ],
            [
             1,
             "#f0f921"
            ]
           ],
           "sequentialminus": [
            [
             0,
             "#0d0887"
            ],
            [
             0.1111111111111111,
             "#46039f"
            ],
            [
             0.2222222222222222,
             "#7201a8"
            ],
            [
             0.3333333333333333,
             "#9c179e"
            ],
            [
             0.4444444444444444,
             "#bd3786"
            ],
            [
             0.5555555555555556,
             "#d8576b"
            ],
            [
             0.6666666666666666,
             "#ed7953"
            ],
            [
             0.7777777777777778,
             "#fb9f3a"
            ],
            [
             0.8888888888888888,
             "#fdca26"
            ],
            [
             1,
             "#f0f921"
            ]
           ]
          },
          "colorway": [
           "#636efa",
           "#EF553B",
           "#00cc96",
           "#ab63fa",
           "#FFA15A",
           "#19d3f3",
           "#FF6692",
           "#B6E880",
           "#FF97FF",
           "#FECB52"
          ],
          "font": {
           "color": "#2a3f5f"
          },
          "geo": {
           "bgcolor": "white",
           "lakecolor": "white",
           "landcolor": "#E5ECF6",
           "showlakes": true,
           "showland": true,
           "subunitcolor": "white"
          },
          "hoverlabel": {
           "align": "left"
          },
          "hovermode": "closest",
          "mapbox": {
           "style": "light"
          },
          "paper_bgcolor": "white",
          "plot_bgcolor": "#E5ECF6",
          "polar": {
           "angularaxis": {
            "gridcolor": "white",
            "linecolor": "white",
            "ticks": ""
           },
           "bgcolor": "#E5ECF6",
           "radialaxis": {
            "gridcolor": "white",
            "linecolor": "white",
            "ticks": ""
           }
          },
          "scene": {
           "xaxis": {
            "backgroundcolor": "#E5ECF6",
            "gridcolor": "white",
            "gridwidth": 2,
            "linecolor": "white",
            "showbackground": true,
            "ticks": "",
            "zerolinecolor": "white"
           },
           "yaxis": {
            "backgroundcolor": "#E5ECF6",
            "gridcolor": "white",
            "gridwidth": 2,
            "linecolor": "white",
            "showbackground": true,
            "ticks": "",
            "zerolinecolor": "white"
           },
           "zaxis": {
            "backgroundcolor": "#E5ECF6",
            "gridcolor": "white",
            "gridwidth": 2,
            "linecolor": "white",
            "showbackground": true,
            "ticks": "",
            "zerolinecolor": "white"
           }
          },
          "shapedefaults": {
           "line": {
            "color": "#2a3f5f"
           }
          },
          "ternary": {
           "aaxis": {
            "gridcolor": "white",
            "linecolor": "white",
            "ticks": ""
           },
           "baxis": {
            "gridcolor": "white",
            "linecolor": "white",
            "ticks": ""
           },
           "bgcolor": "#E5ECF6",
           "caxis": {
            "gridcolor": "white",
            "linecolor": "white",
            "ticks": ""
           }
          },
          "title": {
           "x": 0.05
          },
          "xaxis": {
           "automargin": true,
           "gridcolor": "white",
           "linecolor": "white",
           "ticks": "",
           "title": {
            "standoff": 15
           },
           "zerolinecolor": "white",
           "zerolinewidth": 2
          },
          "yaxis": {
           "automargin": true,
           "gridcolor": "white",
           "linecolor": "white",
           "ticks": "",
           "title": {
            "standoff": 15
           },
           "zerolinecolor": "white",
           "zerolinewidth": 2
          }
         }
        },
        "title": {
         "text": "Embeddings Visualization with 3D PCA"
        }
       }
      }
     },
     "metadata": {},
     "output_type": "display_data"
    },
    {
     "data": {
      "application/vnd.plotly.v1+json": {
       "config": {
        "plotlyServerURL": "https://plot.ly"
       },
       "data": [
        {
         "customdata": [
          [
           "Auditorias"
          ],
          [
           "Auditorias"
          ],
          [
           "Auditorias"
          ],
          [
           "Auditorias"
          ],
          [
           "Auditorias"
          ],
          [
           "Auditorias"
          ],
          [
           "Auditorias"
          ],
          [
           "Auditorias"
          ],
          [
           "Auditorias"
          ],
          [
           "Auditorias"
          ],
          [
           "Auditorias"
          ],
          [
           "Auditorias"
          ],
          [
           "Auditorias"
          ],
          [
           "Auditorias"
          ],
          [
           "Auditorias"
          ],
          [
           "Auditorias"
          ],
          [
           "Auditorias"
          ],
          [
           "Auditorias"
          ],
          [
           "Auditorias"
          ],
          [
           "Auditorias"
          ],
          [
           "Auditorias"
          ],
          [
           "Auditorias"
          ],
          [
           "Auditorias"
          ],
          [
           "Auditorias"
          ],
          [
           "Auditorias"
          ],
          [
           "Auditorias"
          ],
          [
           "Auditorias"
          ],
          [
           "Auditorias"
          ],
          [
           "Auditorias"
          ],
          [
           "Auditorias"
          ]
         ],
         "hovertemplate": "color=Auditorias<br>t-SNE Component 1=%{x}<br>t-SNE Component 2=%{y}<br>t-SNE Component 3=%{z}<br>label=%{customdata[0]}<extra></extra>",
         "legendgroup": "Auditorias",
         "marker": {
          "color": "#636efa",
          "symbol": "circle"
         },
         "mode": "markers",
         "name": "Auditorias",
         "scene": "scene",
         "showlegend": true,
         "type": "scatter3d",
         "x": [
          -53.472473,
          -35.50766,
          -25.962484,
          -32.03828,
          -5.855638,
          -32.870495,
          -40.465935,
          -18.426762,
          -4.6625733,
          -16.460915,
          -44.841347,
          -14.050294,
          -16.160318,
          -35.41895,
          -17.50452,
          -22.273857,
          -19.908405,
          -46.746845,
          -35.705322,
          -48.60467,
          6.955302,
          -16.847273,
          6.955302,
          -11.236504,
          -37.040012,
          -48.45962,
          15.202346,
          5.196924,
          -85.45548,
          -34.826134
         ],
         "y": [
          -26.280233,
          -6.9516516,
          -28.371876,
          -0.00015611947,
          63.243477,
          1.1382692,
          -0.9218614,
          -23.686241,
          -21.863853,
          -8.968433,
          -36.54917,
          -42.244892,
          -20.995644,
          -14.91259,
          60.4877,
          11.681619,
          -31.468895,
          -55.294136,
          -39.86472,
          -67.82846,
          -67.873825,
          20.51368,
          -67.873825,
          17.164808,
          22.406998,
          16.392466,
          -38.045376,
          -27.946686,
          14.305285,
          -37.216293
         ],
         "z": [
          -5.194127,
          -38.487103,
          32.897934,
          46.539516,
          22.586956,
          21.866585,
          -68.73709,
          16.354557,
          -6.586046,
          28.144987,
          41.9559,
          31.83239,
          47.90581,
          33.15528,
          19.07201,
          20.183208,
          3.744099,
          5.4593687,
          15.789404,
          -4.423975,
          13.160363,
          55.90701,
          13.160363,
          67.60528,
          37.461636,
          31.896847,
          -31.015194,
          -31.25682,
          -16.440718,
          -5.238884
         ]
        },
        {
         "customdata": [
          [
           "Ausentismo"
          ],
          [
           "Ausentismo"
          ],
          [
           "Ausentismo"
          ],
          [
           "Ausentismo"
          ],
          [
           "Ausentismo"
          ],
          [
           "Ausentismo"
          ],
          [
           "Ausentismo"
          ],
          [
           "Ausentismo"
          ],
          [
           "Ausentismo"
          ],
          [
           "Ausentismo"
          ],
          [
           "Ausentismo"
          ],
          [
           "Ausentismo"
          ],
          [
           "Ausentismo"
          ],
          [
           "Ausentismo"
          ],
          [
           "Ausentismo"
          ],
          [
           "Ausentismo"
          ],
          [
           "Ausentismo"
          ],
          [
           "Ausentismo"
          ],
          [
           "Ausentismo"
          ],
          [
           "Ausentismo"
          ],
          [
           "Ausentismo"
          ],
          [
           "Ausentismo"
          ],
          [
           "Ausentismo"
          ],
          [
           "Ausentismo"
          ],
          [
           "Ausentismo"
          ],
          [
           "Ausentismo"
          ],
          [
           "Ausentismo"
          ],
          [
           "Ausentismo"
          ],
          [
           "Ausentismo"
          ],
          [
           "Ausentismo"
          ],
          [
           "Ausentismo"
          ],
          [
           "Ausentismo"
          ],
          [
           "Ausentismo"
          ],
          [
           "Ausentismo"
          ],
          [
           "Ausentismo"
          ],
          [
           "Ausentismo"
          ],
          [
           "Ausentismo"
          ],
          [
           "Ausentismo"
          ],
          [
           "Ausentismo"
          ],
          [
           "Ausentismo"
          ],
          [
           "Ausentismo"
          ],
          [
           "Ausentismo"
          ],
          [
           "Ausentismo"
          ],
          [
           "Ausentismo"
          ],
          [
           "Ausentismo"
          ]
         ],
         "hovertemplate": "color=Ausentismo<br>t-SNE Component 1=%{x}<br>t-SNE Component 2=%{y}<br>t-SNE Component 3=%{z}<br>label=%{customdata[0]}<extra></extra>",
         "legendgroup": "Ausentismo",
         "marker": {
          "color": "#EF553B",
          "symbol": "circle"
         },
         "mode": "markers",
         "name": "Ausentismo",
         "scene": "scene",
         "showlegend": true,
         "type": "scatter3d",
         "x": [
          -93.54611,
          -78.33721,
          -54.767662,
          -49.24845,
          -21.399088,
          -40.717743,
          -20.858131,
          -51.99463,
          -23.041746,
          -17.381014,
          -45.774345,
          -41.531734,
          -80.08751,
          -32.529408,
          -32.23399,
          -55.49296,
          -36.085457,
          -8.444518,
          -13.929101,
          -23.103693,
          -23.285137,
          -9.044195,
          -8.516922,
          -49.671894,
          -25.93981,
          -80.08751,
          -46.658073,
          -21.576565,
          -21.43279,
          -75.87341,
          -16.182627,
          -23.285137,
          -24.67429,
          -38.579502,
          -44.36061,
          -62.68387,
          -9.448464,
          -35.86557,
          -66.973724,
          -21.560867,
          -27.158005,
          -38.20497,
          -54.28697,
          -17.869371,
          -23.285137
         ],
         "y": [
          -4.7203064,
          1.5696783,
          12.826231,
          25.143211,
          -20.456669,
          3.7213528,
          -17.100304,
          -12.43329,
          32.307934,
          25.08419,
          43.02146,
          30.873623,
          -52.114075,
          12.368471,
          17.24823,
          -2.0793934,
          -16.272991,
          -62.37415,
          -57.60791,
          -51.751488,
          53.71589,
          10.112001,
          2.1278784,
          -47.458927,
          -4.9435945,
          -52.114075,
          1.1418695,
          -44.751377,
          -7.7964664,
          27.294054,
          -35.057552,
          53.71589,
          0.0967824,
          -10.173796,
          55.523247,
          42.650402,
          -34.349743,
          57.61235,
          32.479763,
          -35.345863,
          57.579582,
          68.63362,
          37.867496,
          -16.502249,
          53.71589
         ],
         "z": [
          0.48987058,
          23.944178,
          -9.5912895,
          -29.073374,
          -39.125435,
          3.9351745,
          -10.046853,
          19.761833,
          -35.252296,
          -18.43878,
          12.34924,
          7.869643,
          7.03333,
          -25.14486,
          -10.385466,
          -39.43773,
          6.3310394,
          -43.44131,
          -27.496178,
          -35.48077,
          46.39096,
          -2.868211,
          -16.130909,
          -24.3153,
          -22.683548,
          7.03333,
          -23.125689,
          52.70475,
          7.3632145,
          -25.724615,
          -21.899567,
          46.39096,
          -5.541192,
          -8.722646,
          -34.832073,
          42.085117,
          -62.384754,
          -21.257673,
          47.901295,
          -66.511665,
          -10.892834,
          -3.078586,
          -7.185263,
          -61.422527,
          46.39096
         ]
        },
        {
         "customdata": [
          [
           "Estructura Organizativa"
          ],
          [
           "Estructura Organizativa"
          ],
          [
           "Estructura Organizativa"
          ],
          [
           "Estructura Organizativa"
          ],
          [
           "Estructura Organizativa"
          ],
          [
           "Estructura Organizativa"
          ],
          [
           "Estructura Organizativa"
          ],
          [
           "Estructura Organizativa"
          ],
          [
           "Estructura Organizativa"
          ],
          [
           "Estructura Organizativa"
          ],
          [
           "Estructura Organizativa"
          ],
          [
           "Estructura Organizativa"
          ],
          [
           "Estructura Organizativa"
          ],
          [
           "Estructura Organizativa"
          ],
          [
           "Estructura Organizativa"
          ],
          [
           "Estructura Organizativa"
          ],
          [
           "Estructura Organizativa"
          ],
          [
           "Estructura Organizativa"
          ],
          [
           "Estructura Organizativa"
          ],
          [
           "Estructura Organizativa"
          ],
          [
           "Estructura Organizativa"
          ],
          [
           "Estructura Organizativa"
          ],
          [
           "Estructura Organizativa"
          ],
          [
           "Estructura Organizativa"
          ],
          [
           "Estructura Organizativa"
          ],
          [
           "Estructura Organizativa"
          ],
          [
           "Estructura Organizativa"
          ],
          [
           "Estructura Organizativa"
          ],
          [
           "Estructura Organizativa"
          ],
          [
           "Estructura Organizativa"
          ],
          [
           "Estructura Organizativa"
          ],
          [
           "Estructura Organizativa"
          ],
          [
           "Estructura Organizativa"
          ],
          [
           "Estructura Organizativa"
          ],
          [
           "Estructura Organizativa"
          ],
          [
           "Estructura Organizativa"
          ],
          [
           "Estructura Organizativa"
          ],
          [
           "Estructura Organizativa"
          ],
          [
           "Estructura Organizativa"
          ],
          [
           "Estructura Organizativa"
          ],
          [
           "Estructura Organizativa"
          ],
          [
           "Estructura Organizativa"
          ],
          [
           "Estructura Organizativa"
          ],
          [
           "Estructura Organizativa"
          ],
          [
           "Estructura Organizativa"
          ],
          [
           "Estructura Organizativa"
          ],
          [
           "Estructura Organizativa"
          ],
          [
           "Estructura Organizativa"
          ],
          [
           "Estructura Organizativa"
          ],
          [
           "Estructura Organizativa"
          ],
          [
           "Estructura Organizativa"
          ],
          [
           "Estructura Organizativa"
          ],
          [
           "Estructura Organizativa"
          ],
          [
           "Estructura Organizativa"
          ],
          [
           "Estructura Organizativa"
          ],
          [
           "Estructura Organizativa"
          ],
          [
           "Estructura Organizativa"
          ],
          [
           "Estructura Organizativa"
          ],
          [
           "Estructura Organizativa"
          ],
          [
           "Estructura Organizativa"
          ],
          [
           "Estructura Organizativa"
          ],
          [
           "Estructura Organizativa"
          ],
          [
           "Estructura Organizativa"
          ],
          [
           "Estructura Organizativa"
          ],
          [
           "Estructura Organizativa"
          ],
          [
           "Estructura Organizativa"
          ],
          [
           "Estructura Organizativa"
          ],
          [
           "Estructura Organizativa"
          ],
          [
           "Estructura Organizativa"
          ],
          [
           "Estructura Organizativa"
          ],
          [
           "Estructura Organizativa"
          ],
          [
           "Estructura Organizativa"
          ],
          [
           "Estructura Organizativa"
          ],
          [
           "Estructura Organizativa"
          ],
          [
           "Estructura Organizativa"
          ],
          [
           "Estructura Organizativa"
          ],
          [
           "Estructura Organizativa"
          ]
         ],
         "hovertemplate": "color=Estructura Organizativa<br>t-SNE Component 1=%{x}<br>t-SNE Component 2=%{y}<br>t-SNE Component 3=%{z}<br>label=%{customdata[0]}<extra></extra>",
         "legendgroup": "Estructura Organizativa",
         "marker": {
          "color": "#00cc96",
          "symbol": "circle"
         },
         "mode": "markers",
         "name": "Estructura Organizativa",
         "scene": "scene",
         "showlegend": true,
         "type": "scatter3d",
         "x": [
          14.43436,
          8.669634,
          30.932785,
          8.619032,
          -2.5247293,
          9.222807,
          28.031925,
          59.612103,
          34.71115,
          75.92641,
          27.383509,
          34.606606,
          22.993736,
          10.894408,
          87.18905,
          91.97486,
          57.909428,
          21.539276,
          53.883194,
          27.337334,
          33.671635,
          75.208694,
          88.14556,
          4.5119805,
          53.981655,
          10.610386,
          74.69085,
          70.149216,
          76.34646,
          86.89754,
          84.07648,
          38.807384,
          91.00207,
          94.86399,
          44.634914,
          23.61792,
          48.419743,
          19.995527,
          75.42885,
          20.473331,
          23.600983,
          37.403847,
          59.16098,
          3.3669176,
          40.796528,
          77.116486,
          17.279024,
          34.60469,
          28.043032,
          20.409525,
          27.754654,
          11.831884,
          9.731713,
          13.452043,
          70.75809,
          16.108,
          79.77858,
          67.071266,
          -102.488625,
          74.69119,
          50.08816,
          51.228462,
          92.91369,
          27.337334,
          42.85541,
          6.8558865,
          77.00366,
          32.45201,
          60.277496,
          49.633587,
          44.77445,
          11.531257,
          46.37305,
          28.2724,
          -0.7791709,
          5.408264,
          39.785828
         ],
         "y": [
          48.792538,
          75.882675,
          -50.53066,
          77.634285,
          66.0637,
          34.008724,
          36.15574,
          27.400064,
          8.050305,
          -15.6717825,
          5.378783,
          4.1832304,
          20.298462,
          30.598022,
          -7.303632,
          -4.5370917,
          -17.21778,
          25.329824,
          14.842889,
          45.683746,
          9.266896,
          -0.47259623,
          11.263466,
          17.877087,
          1.0329838,
          -2.2537801,
          26.730467,
          2.3860097,
          9.633188,
          13.719756,
          -6.0362453,
          -8.542711,
          -18.11886,
          -1.3075198,
          45.781013,
          23.875479,
          -5.299305,
          62.44565,
          11.17699,
          17.853968,
          47.202015,
          26.384508,
          20.940836,
          60.804142,
          25.142292,
          6.352037,
          12.436074,
          17.814808,
          43.955776,
          -2.7335439,
          20.688833,
          11.047393,
          29.922762,
          65.226974,
          -27.617512,
          7.601728,
          -14.277025,
          -3.5026493,
          30.453104,
          -8.369915,
          10.26602,
          -24.433187,
          2.1238992,
          45.683746,
          14.223773,
          49.05038,
          -24.70072,
          36.34886,
          -8.132045,
          35.55488,
          5.260034,
          36.890938,
          24.95619,
          -2.644084,
          50.663635,
          7.213277,
          26.336481
         ],
         "z": [
          -76.496254,
          -20.922014,
          24.136919,
          -36.16886,
          -47.740116,
          -62.83949,
          -74.65488,
          3.5756347,
          -70.522766,
          -27.554659,
          -45.18097,
          19.003227,
          11.443799,
          -26.95375,
          34.098145,
          -23.415379,
          28.10875,
          -10.192368,
          -10.576601,
          -6.205215,
          -1.8506274,
          -16.252808,
          -36.007473,
          -41.087738,
          23.574644,
          -39.77448,
          -36.84129,
          -33.88808,
          26.897459,
          -13.957332,
          -42.92587,
          6.89765,
          15.635424,
          -2.3263512,
          6.657279,
          -42.209442,
          -9.511633,
          -40.068962,
          -49.90789,
          -63.526894,
          -58.178272,
          -62.743443,
          22.388548,
          -30.718166,
          17.603365,
          6.341979,
          -28.109203,
          -19.135809,
          18.883585,
          -63.01693,
          -83.67979,
          -78.84,
          -80.95771,
          -57.744656,
          11.790048,
          -8.618391,
          -0.20360993,
          38.700546,
          1.0565387,
          19.217255,
          7.7987537,
          11.610049,
          17.443981,
          -6.205215,
          33.109234,
          -46.72535,
          30.563318,
          -24.87404,
          7.7195377,
          -15.002857,
          -28.111355,
          2.1305244,
          -31.993177,
          -20.513275,
          -64.39384,
          -57.045235,
          -0.24115603
         ]
        },
        {
         "customdata": [
          [
           "Riesgos"
          ],
          [
           "Riesgos"
          ],
          [
           "Riesgos"
          ],
          [
           "Riesgos"
          ],
          [
           "Riesgos"
          ],
          [
           "Riesgos"
          ],
          [
           "Riesgos"
          ],
          [
           "Riesgos"
          ],
          [
           "Riesgos"
          ],
          [
           "Riesgos"
          ],
          [
           "Riesgos"
          ],
          [
           "Riesgos"
          ],
          [
           "Riesgos"
          ],
          [
           "Riesgos"
          ],
          [
           "Riesgos"
          ],
          [
           "Riesgos"
          ],
          [
           "Riesgos"
          ],
          [
           "Riesgos"
          ],
          [
           "Riesgos"
          ],
          [
           "Riesgos"
          ],
          [
           "Riesgos"
          ]
         ],
         "hovertemplate": "color=Riesgos<br>t-SNE Component 1=%{x}<br>t-SNE Component 2=%{y}<br>t-SNE Component 3=%{z}<br>label=%{customdata[0]}<extra></extra>",
         "legendgroup": "Riesgos",
         "marker": {
          "color": "#ab63fa",
          "symbol": "circle"
         },
         "mode": "markers",
         "name": "Riesgos",
         "scene": "scene",
         "showlegend": true,
         "type": "scatter3d",
         "x": [
          -78.82993,
          -64.21343,
          -72.203186,
          -59.516186,
          -36.97556,
          -1.7368177,
          -35.140785,
          -24.660969,
          16.152462,
          -2.623959,
          -77.32435,
          -19.897476,
          -15.871476,
          -16.005157,
          16.053564,
          6.159424,
          -0.82205635,
          0.63713866,
          103.13594,
          2.1922932,
          0.6182964
         ],
         "y": [
          -34.52184,
          17.73058,
          -20.210413,
          -33.53764,
          -23.777489,
          -40.993607,
          -64.67692,
          -66.42261,
          -49.825645,
          -9.111865,
          -21.044947,
          -74.25065,
          -53.136555,
          31.228424,
          -24.97707,
          1.286646,
          13.573098,
          31.409727,
          -29.745728,
          -22.050268,
          -35.411407
         ],
         "z": [
          -18.58098,
          -53.17049,
          5.296396,
          17.097967,
          -19.61877,
          -5.614737,
          32.742134,
          24.025612,
          -5.112413,
          6.7951255,
          32.537804,
          -5.6436076,
          3.3085635,
          9.059879,
          8.386633,
          25.955463,
          30.222553,
          33.023983,
          -7.754678,
          23.38358,
          11.644214
         ]
        },
        {
         "customdata": [
          [
           "Información"
          ],
          [
           "Información"
          ],
          [
           "Información"
          ],
          [
           "Información"
          ],
          [
           "Información"
          ],
          [
           "Información"
          ],
          [
           "Información"
          ],
          [
           "Información"
          ],
          [
           "Información"
          ]
         ],
         "hovertemplate": "color=Información<br>t-SNE Component 1=%{x}<br>t-SNE Component 2=%{y}<br>t-SNE Component 3=%{z}<br>label=%{customdata[0]}<extra></extra>",
         "legendgroup": "Información",
         "marker": {
          "color": "#FFA15A",
          "symbol": "circle"
         },
         "mode": "markers",
         "name": "Información",
         "scene": "scene",
         "showlegend": true,
         "type": "scatter3d",
         "x": [
          -78.830185,
          -55.64141,
          -56.65606,
          -72.647446,
          -76.369446,
          -72.61173,
          -60.791264,
          -57.326336,
          -71.37962
         ],
         "y": [
          -6.1232677,
          -7.1751633,
          -23.500599,
          2.6638234,
          36.603416,
          20.480053,
          6.3295736,
          -7.3754973,
          -11.828642
         ],
         "z": [
          -31.919806,
          40.989635,
          -27.772766,
          -0.5743999,
          13.354129,
          7.58504,
          12.046889,
          -1.7781721,
          -15.09631
         ]
        },
        {
         "customdata": [
          [
           "Emergencia"
          ],
          [
           "Emergencia"
          ],
          [
           "Emergencia"
          ],
          [
           "Emergencia"
          ],
          [
           "Emergencia"
          ],
          [
           "Emergencia"
          ],
          [
           "Emergencia"
          ],
          [
           "Emergencia"
          ],
          [
           "Emergencia"
          ],
          [
           "Emergencia"
          ],
          [
           "Emergencia"
          ]
         ],
         "hovertemplate": "color=Emergencia<br>t-SNE Component 1=%{x}<br>t-SNE Component 2=%{y}<br>t-SNE Component 3=%{z}<br>label=%{customdata[0]}<extra></extra>",
         "legendgroup": "Emergencia",
         "marker": {
          "color": "#19d3f3",
          "symbol": "circle"
         },
         "mode": "markers",
         "name": "Emergencia",
         "scene": "scene",
         "showlegend": true,
         "type": "scatter3d",
         "x": [
          9.090872,
          22.48317,
          16.224457,
          40.330196,
          12.599031,
          21.06092,
          26.805906,
          28.087873,
          38.614143,
          43.606564,
          29.928434
         ],
         "y": [
          -46.12184,
          -37.881294,
          -45.23319,
          -36.57786,
          -38.260227,
          -20.263258,
          -32.59827,
          -36.248306,
          -19.975658,
          -37.145313,
          -49.54871
         ],
         "z": [
          34.57152,
          39.502975,
          51.079823,
          50.2922,
          70.382385,
          73.83077,
          61.389366,
          81.32012,
          64.10333,
          70.71547,
          68.13011
         ]
        },
        {
         "customdata": [
          [
           "Question: ¿Cómo se diferencia la ubicación física de la operativa?<br>Closest Model: Emergencia<br>Similarity: 0.49<br>Chunk: ¿QUÉ ES UN SIMULACRO?\nUn simulacro es un ensayo o "
          ],
          [
           "Question: ¿Qué información se incluye en el informe de la evaluación de riesgos que ofrece la plataforma y cuál es su utilidad para la gestión de riesgos en la empresa?<br>Closest Model: Emergencia<br>Similarity: 0.93<br>Chunk: Una vez iniciada la vigencia el estado del plan ca"
          ],
          [
           "Question: ¿Hay indicadores relativos al cumplimiento de normas?<br>Closest Model: Emergencia<br>Similarity: 0.39<br>Chunk: ¿QUÉ ES UN SIMULACRO?\nUn simulacro es un ensayo o "
          ],
          [
           "Question: ¿Qué papel juega la estructura organizativa en la funcionalidad general de la plataforma y cómo interactúa con otros módulos?<br>Closest Model: Riesgos<br>Similarity: 0.38<br>Chunk: Nota: Cuando se cierra la evaluación solo se puede"
          ],
          [
           "Question: ¿Qué permite realizar la evaluación de riesgos?<br>Closest Model: Emergencia<br>Similarity: 0.96<br>Chunk: El usuario accede a la pestaña “Directorio externo"
          ],
          [
           "Question: ¿Qué tipo de documentos se pueden almacenar y compartir en el espacio denominado 'Documentos' y cuál es su importancia dentro del contexto de la gestión empresarial en la plataforma?<br>Closest Model: Emergencia<br>Similarity: 0.90<br>Chunk: Una vez iniciada la vigencia el estado del plan ca"
          ],
          [
           "Question: ¿Se pueden llevar a cabo auditorías internas?<br>Closest Model: Emergencia<br>Similarity: 0.91<br>Chunk: La pestaña evaluación de aspectos legales permite "
          ],
          [
           "Question: ¿Cuál es la tasa de adopción de esta plataforma en el mercado?<br>Closest Model: Riesgos<br>Similarity: 0.38<br>Chunk: Nota: Cuando se cierra la evaluación solo se puede"
          ],
          [
           "Question: ¿Cómo se compara esta plataforma con otras soluciones de gestión de SST?<br>Closest Model: Emergencia<br>Similarity: 0.82<br>Chunk: Versión  Fecha  Comentarios  Autor  Preliminar 0.1"
          ],
          [
           "Question: ¿Qué día hará mañana?<br>Closest Model: Riesgos<br>Similarity: 0.53<br>Chunk: Documento  Manual de uso del módulo IER PYMES.  De"
          ]
         ],
         "hovertemplate": "color=Question<br>t-SNE Component 1=%{x}<br>t-SNE Component 2=%{y}<br>t-SNE Component 3=%{z}<br>label=%{customdata[0]}<extra></extra>",
         "legendgroup": "Question",
         "marker": {
          "color": "#FF6692",
          "symbol": "circle"
         },
         "mode": "markers",
         "name": "Question",
         "scene": "scene",
         "showlegend": true,
         "type": "scatter3d",
         "x": [
          -1.3976971,
          9.527348,
          -50.91429,
          -31.767382,
          39.50644,
          24.93065,
          30.949429,
          -31.767382,
          11.874196,
          19.937725
         ],
         "y": [
          -63.810852,
          -29.068523,
          -31.073376,
          -12.024621,
          -20.878801,
          -19.181396,
          -55.566994,
          -12.024621,
          -9.1884985,
          26.864273
         ],
         "z": [
          38.79464,
          49.855682,
          -51.596943,
          74.51574,
          83.48728,
          43.84572,
          45.470535,
          74.51574,
          52.55117,
          56.532394
         ]
        },
        {
         "mode": "markers+text",
         "showlegend": false,
         "text": "Q1",
         "textposition": "top center",
         "type": "scatter3d",
         "x": [
          -1.3976970911026
         ],
         "y": [
          -63.81085205078125
         ],
         "z": [
          38.794639587402344
         ]
        },
        {
         "mode": "markers+text",
         "showlegend": false,
         "text": "Q2",
         "textposition": "top center",
         "type": "scatter3d",
         "x": [
          9.527347564697266
         ],
         "y": [
          -29.068523406982422
         ],
         "z": [
          49.855682373046875
         ]
        },
        {
         "mode": "markers+text",
         "showlegend": false,
         "text": "Q3",
         "textposition": "top center",
         "type": "scatter3d",
         "x": [
          -50.91429138183594
         ],
         "y": [
          -31.073375701904297
         ],
         "z": [
          -51.59694290161133
         ]
        },
        {
         "mode": "markers+text",
         "showlegend": false,
         "text": "Q4",
         "textposition": "top center",
         "type": "scatter3d",
         "x": [
          -31.76738166809082
         ],
         "y": [
          -12.02462100982666
         ],
         "z": [
          74.51573944091797
         ]
        },
        {
         "mode": "markers+text",
         "showlegend": false,
         "text": "Q5",
         "textposition": "top center",
         "type": "scatter3d",
         "x": [
          39.506439208984375
         ],
         "y": [
          -20.878801345825195
         ],
         "z": [
          83.4872817993164
         ]
        },
        {
         "mode": "markers+text",
         "showlegend": false,
         "text": "Q6",
         "textposition": "top center",
         "type": "scatter3d",
         "x": [
          24.93065071105957
         ],
         "y": [
          -19.181396484375
         ],
         "z": [
          43.84571838378906
         ]
        },
        {
         "mode": "markers+text",
         "showlegend": false,
         "text": "Q7",
         "textposition": "top center",
         "type": "scatter3d",
         "x": [
          30.94942855834961
         ],
         "y": [
          -55.566993713378906
         ],
         "z": [
          45.47053527832031
         ]
        },
        {
         "mode": "markers+text",
         "showlegend": false,
         "text": "Q8",
         "textposition": "top center",
         "type": "scatter3d",
         "x": [
          -31.76738166809082
         ],
         "y": [
          -12.02462100982666
         ],
         "z": [
          74.51573944091797
         ]
        },
        {
         "mode": "markers+text",
         "showlegend": false,
         "text": "Q9",
         "textposition": "top center",
         "type": "scatter3d",
         "x": [
          11.87419605255127
         ],
         "y": [
          -9.188498497009277
         ],
         "z": [
          52.551170349121094
         ]
        },
        {
         "mode": "markers+text",
         "showlegend": false,
         "text": "Q10",
         "textposition": "top center",
         "type": "scatter3d",
         "x": [
          19.937725067138672
         ],
         "y": [
          26.864273071289062
         ],
         "z": [
          56.53239440917969
         ]
        }
       ],
       "layout": {
        "legend": {
         "title": {
          "text": "color"
         },
         "tracegroupgap": 0
        },
        "scene": {
         "domain": {
          "x": [
           0,
           1
          ],
          "y": [
           0,
           1
          ]
         },
         "xaxis": {
          "title": {
           "text": "t-SNE Component 1"
          }
         },
         "yaxis": {
          "title": {
           "text": "t-SNE Component 2"
          }
         },
         "zaxis": {
          "title": {
           "text": "t-SNE Component 3"
          }
         }
        },
        "template": {
         "data": {
          "bar": [
           {
            "error_x": {
             "color": "#2a3f5f"
            },
            "error_y": {
             "color": "#2a3f5f"
            },
            "marker": {
             "line": {
              "color": "#E5ECF6",
              "width": 0.5
             },
             "pattern": {
              "fillmode": "overlay",
              "size": 10,
              "solidity": 0.2
             }
            },
            "type": "bar"
           }
          ],
          "barpolar": [
           {
            "marker": {
             "line": {
              "color": "#E5ECF6",
              "width": 0.5
             },
             "pattern": {
              "fillmode": "overlay",
              "size": 10,
              "solidity": 0.2
             }
            },
            "type": "barpolar"
           }
          ],
          "carpet": [
           {
            "aaxis": {
             "endlinecolor": "#2a3f5f",
             "gridcolor": "white",
             "linecolor": "white",
             "minorgridcolor": "white",
             "startlinecolor": "#2a3f5f"
            },
            "baxis": {
             "endlinecolor": "#2a3f5f",
             "gridcolor": "white",
             "linecolor": "white",
             "minorgridcolor": "white",
             "startlinecolor": "#2a3f5f"
            },
            "type": "carpet"
           }
          ],
          "choropleth": [
           {
            "colorbar": {
             "outlinewidth": 0,
             "ticks": ""
            },
            "type": "choropleth"
           }
          ],
          "contour": [
           {
            "colorbar": {
             "outlinewidth": 0,
             "ticks": ""
            },
            "colorscale": [
             [
              0,
              "#0d0887"
             ],
             [
              0.1111111111111111,
              "#46039f"
             ],
             [
              0.2222222222222222,
              "#7201a8"
             ],
             [
              0.3333333333333333,
              "#9c179e"
             ],
             [
              0.4444444444444444,
              "#bd3786"
             ],
             [
              0.5555555555555556,
              "#d8576b"
             ],
             [
              0.6666666666666666,
              "#ed7953"
             ],
             [
              0.7777777777777778,
              "#fb9f3a"
             ],
             [
              0.8888888888888888,
              "#fdca26"
             ],
             [
              1,
              "#f0f921"
             ]
            ],
            "type": "contour"
           }
          ],
          "contourcarpet": [
           {
            "colorbar": {
             "outlinewidth": 0,
             "ticks": ""
            },
            "type": "contourcarpet"
           }
          ],
          "heatmap": [
           {
            "colorbar": {
             "outlinewidth": 0,
             "ticks": ""
            },
            "colorscale": [
             [
              0,
              "#0d0887"
             ],
             [
              0.1111111111111111,
              "#46039f"
             ],
             [
              0.2222222222222222,
              "#7201a8"
             ],
             [
              0.3333333333333333,
              "#9c179e"
             ],
             [
              0.4444444444444444,
              "#bd3786"
             ],
             [
              0.5555555555555556,
              "#d8576b"
             ],
             [
              0.6666666666666666,
              "#ed7953"
             ],
             [
              0.7777777777777778,
              "#fb9f3a"
             ],
             [
              0.8888888888888888,
              "#fdca26"
             ],
             [
              1,
              "#f0f921"
             ]
            ],
            "type": "heatmap"
           }
          ],
          "heatmapgl": [
           {
            "colorbar": {
             "outlinewidth": 0,
             "ticks": ""
            },
            "colorscale": [
             [
              0,
              "#0d0887"
             ],
             [
              0.1111111111111111,
              "#46039f"
             ],
             [
              0.2222222222222222,
              "#7201a8"
             ],
             [
              0.3333333333333333,
              "#9c179e"
             ],
             [
              0.4444444444444444,
              "#bd3786"
             ],
             [
              0.5555555555555556,
              "#d8576b"
             ],
             [
              0.6666666666666666,
              "#ed7953"
             ],
             [
              0.7777777777777778,
              "#fb9f3a"
             ],
             [
              0.8888888888888888,
              "#fdca26"
             ],
             [
              1,
              "#f0f921"
             ]
            ],
            "type": "heatmapgl"
           }
          ],
          "histogram": [
           {
            "marker": {
             "pattern": {
              "fillmode": "overlay",
              "size": 10,
              "solidity": 0.2
             }
            },
            "type": "histogram"
           }
          ],
          "histogram2d": [
           {
            "colorbar": {
             "outlinewidth": 0,
             "ticks": ""
            },
            "colorscale": [
             [
              0,
              "#0d0887"
             ],
             [
              0.1111111111111111,
              "#46039f"
             ],
             [
              0.2222222222222222,
              "#7201a8"
             ],
             [
              0.3333333333333333,
              "#9c179e"
             ],
             [
              0.4444444444444444,
              "#bd3786"
             ],
             [
              0.5555555555555556,
              "#d8576b"
             ],
             [
              0.6666666666666666,
              "#ed7953"
             ],
             [
              0.7777777777777778,
              "#fb9f3a"
             ],
             [
              0.8888888888888888,
              "#fdca26"
             ],
             [
              1,
              "#f0f921"
             ]
            ],
            "type": "histogram2d"
           }
          ],
          "histogram2dcontour": [
           {
            "colorbar": {
             "outlinewidth": 0,
             "ticks": ""
            },
            "colorscale": [
             [
              0,
              "#0d0887"
             ],
             [
              0.1111111111111111,
              "#46039f"
             ],
             [
              0.2222222222222222,
              "#7201a8"
             ],
             [
              0.3333333333333333,
              "#9c179e"
             ],
             [
              0.4444444444444444,
              "#bd3786"
             ],
             [
              0.5555555555555556,
              "#d8576b"
             ],
             [
              0.6666666666666666,
              "#ed7953"
             ],
             [
              0.7777777777777778,
              "#fb9f3a"
             ],
             [
              0.8888888888888888,
              "#fdca26"
             ],
             [
              1,
              "#f0f921"
             ]
            ],
            "type": "histogram2dcontour"
           }
          ],
          "mesh3d": [
           {
            "colorbar": {
             "outlinewidth": 0,
             "ticks": ""
            },
            "type": "mesh3d"
           }
          ],
          "parcoords": [
           {
            "line": {
             "colorbar": {
              "outlinewidth": 0,
              "ticks": ""
             }
            },
            "type": "parcoords"
           }
          ],
          "pie": [
           {
            "automargin": true,
            "type": "pie"
           }
          ],
          "scatter": [
           {
            "fillpattern": {
             "fillmode": "overlay",
             "size": 10,
             "solidity": 0.2
            },
            "type": "scatter"
           }
          ],
          "scatter3d": [
           {
            "line": {
             "colorbar": {
              "outlinewidth": 0,
              "ticks": ""
             }
            },
            "marker": {
             "colorbar": {
              "outlinewidth": 0,
              "ticks": ""
             }
            },
            "type": "scatter3d"
           }
          ],
          "scattercarpet": [
           {
            "marker": {
             "colorbar": {
              "outlinewidth": 0,
              "ticks": ""
             }
            },
            "type": "scattercarpet"
           }
          ],
          "scattergeo": [
           {
            "marker": {
             "colorbar": {
              "outlinewidth": 0,
              "ticks": ""
             }
            },
            "type": "scattergeo"
           }
          ],
          "scattergl": [
           {
            "marker": {
             "colorbar": {
              "outlinewidth": 0,
              "ticks": ""
             }
            },
            "type": "scattergl"
           }
          ],
          "scattermapbox": [
           {
            "marker": {
             "colorbar": {
              "outlinewidth": 0,
              "ticks": ""
             }
            },
            "type": "scattermapbox"
           }
          ],
          "scatterpolar": [
           {
            "marker": {
             "colorbar": {
              "outlinewidth": 0,
              "ticks": ""
             }
            },
            "type": "scatterpolar"
           }
          ],
          "scatterpolargl": [
           {
            "marker": {
             "colorbar": {
              "outlinewidth": 0,
              "ticks": ""
             }
            },
            "type": "scatterpolargl"
           }
          ],
          "scatterternary": [
           {
            "marker": {
             "colorbar": {
              "outlinewidth": 0,
              "ticks": ""
             }
            },
            "type": "scatterternary"
           }
          ],
          "surface": [
           {
            "colorbar": {
             "outlinewidth": 0,
             "ticks": ""
            },
            "colorscale": [
             [
              0,
              "#0d0887"
             ],
             [
              0.1111111111111111,
              "#46039f"
             ],
             [
              0.2222222222222222,
              "#7201a8"
             ],
             [
              0.3333333333333333,
              "#9c179e"
             ],
             [
              0.4444444444444444,
              "#bd3786"
             ],
             [
              0.5555555555555556,
              "#d8576b"
             ],
             [
              0.6666666666666666,
              "#ed7953"
             ],
             [
              0.7777777777777778,
              "#fb9f3a"
             ],
             [
              0.8888888888888888,
              "#fdca26"
             ],
             [
              1,
              "#f0f921"
             ]
            ],
            "type": "surface"
           }
          ],
          "table": [
           {
            "cells": {
             "fill": {
              "color": "#EBF0F8"
             },
             "line": {
              "color": "white"
             }
            },
            "header": {
             "fill": {
              "color": "#C8D4E3"
             },
             "line": {
              "color": "white"
             }
            },
            "type": "table"
           }
          ]
         },
         "layout": {
          "annotationdefaults": {
           "arrowcolor": "#2a3f5f",
           "arrowhead": 0,
           "arrowwidth": 1
          },
          "autotypenumbers": "strict",
          "coloraxis": {
           "colorbar": {
            "outlinewidth": 0,
            "ticks": ""
           }
          },
          "colorscale": {
           "diverging": [
            [
             0,
             "#8e0152"
            ],
            [
             0.1,
             "#c51b7d"
            ],
            [
             0.2,
             "#de77ae"
            ],
            [
             0.3,
             "#f1b6da"
            ],
            [
             0.4,
             "#fde0ef"
            ],
            [
             0.5,
             "#f7f7f7"
            ],
            [
             0.6,
             "#e6f5d0"
            ],
            [
             0.7,
             "#b8e186"
            ],
            [
             0.8,
             "#7fbc41"
            ],
            [
             0.9,
             "#4d9221"
            ],
            [
             1,
             "#276419"
            ]
           ],
           "sequential": [
            [
             0,
             "#0d0887"
            ],
            [
             0.1111111111111111,
             "#46039f"
            ],
            [
             0.2222222222222222,
             "#7201a8"
            ],
            [
             0.3333333333333333,
             "#9c179e"
            ],
            [
             0.4444444444444444,
             "#bd3786"
            ],
            [
             0.5555555555555556,
             "#d8576b"
            ],
            [
             0.6666666666666666,
             "#ed7953"
            ],
            [
             0.7777777777777778,
             "#fb9f3a"
            ],
            [
             0.8888888888888888,
             "#fdca26"
            ],
            [
             1,
             "#f0f921"
            ]
           ],
           "sequentialminus": [
            [
             0,
             "#0d0887"
            ],
            [
             0.1111111111111111,
             "#46039f"
            ],
            [
             0.2222222222222222,
             "#7201a8"
            ],
            [
             0.3333333333333333,
             "#9c179e"
            ],
            [
             0.4444444444444444,
             "#bd3786"
            ],
            [
             0.5555555555555556,
             "#d8576b"
            ],
            [
             0.6666666666666666,
             "#ed7953"
            ],
            [
             0.7777777777777778,
             "#fb9f3a"
            ],
            [
             0.8888888888888888,
             "#fdca26"
            ],
            [
             1,
             "#f0f921"
            ]
           ]
          },
          "colorway": [
           "#636efa",
           "#EF553B",
           "#00cc96",
           "#ab63fa",
           "#FFA15A",
           "#19d3f3",
           "#FF6692",
           "#B6E880",
           "#FF97FF",
           "#FECB52"
          ],
          "font": {
           "color": "#2a3f5f"
          },
          "geo": {
           "bgcolor": "white",
           "lakecolor": "white",
           "landcolor": "#E5ECF6",
           "showlakes": true,
           "showland": true,
           "subunitcolor": "white"
          },
          "hoverlabel": {
           "align": "left"
          },
          "hovermode": "closest",
          "mapbox": {
           "style": "light"
          },
          "paper_bgcolor": "white",
          "plot_bgcolor": "#E5ECF6",
          "polar": {
           "angularaxis": {
            "gridcolor": "white",
            "linecolor": "white",
            "ticks": ""
           },
           "bgcolor": "#E5ECF6",
           "radialaxis": {
            "gridcolor": "white",
            "linecolor": "white",
            "ticks": ""
           }
          },
          "scene": {
           "xaxis": {
            "backgroundcolor": "#E5ECF6",
            "gridcolor": "white",
            "gridwidth": 2,
            "linecolor": "white",
            "showbackground": true,
            "ticks": "",
            "zerolinecolor": "white"
           },
           "yaxis": {
            "backgroundcolor": "#E5ECF6",
            "gridcolor": "white",
            "gridwidth": 2,
            "linecolor": "white",
            "showbackground": true,
            "ticks": "",
            "zerolinecolor": "white"
           },
           "zaxis": {
            "backgroundcolor": "#E5ECF6",
            "gridcolor": "white",
            "gridwidth": 2,
            "linecolor": "white",
            "showbackground": true,
            "ticks": "",
            "zerolinecolor": "white"
           }
          },
          "shapedefaults": {
           "line": {
            "color": "#2a3f5f"
           }
          },
          "ternary": {
           "aaxis": {
            "gridcolor": "white",
            "linecolor": "white",
            "ticks": ""
           },
           "baxis": {
            "gridcolor": "white",
            "linecolor": "white",
            "ticks": ""
           },
           "bgcolor": "#E5ECF6",
           "caxis": {
            "gridcolor": "white",
            "linecolor": "white",
            "ticks": ""
           }
          },
          "title": {
           "x": 0.05
          },
          "xaxis": {
           "automargin": true,
           "gridcolor": "white",
           "linecolor": "white",
           "ticks": "",
           "title": {
            "standoff": 15
           },
           "zerolinecolor": "white",
           "zerolinewidth": 2
          },
          "yaxis": {
           "automargin": true,
           "gridcolor": "white",
           "linecolor": "white",
           "ticks": "",
           "title": {
            "standoff": 15
           },
           "zerolinecolor": "white",
           "zerolinewidth": 2
          }
         }
        },
        "title": {
         "text": "Embeddings Visualization with 3D t-SNE"
        }
       }
      }
     },
     "metadata": {},
     "output_type": "display_data"
    }
   ],
   "source": [
    "# Collecting sentence embeddings for each model\n",
    "model_embeddings = []\n",
    "model_labels = []\n",
    "models_list = []\n",
    "\n",
    "for key, model in models.items():\n",
    "    for paragraph in model.original_paragraphs:\n",
    "        embedding = model._get_sentence_embedding(paragraph)\n",
    "        model_embeddings.append(embedding)\n",
    "        model_labels.append(key)\n",
    "    models_list.append(key)\n",
    "\n",
    "# Collecting embeddings for questions and finding the closest model for each question\n",
    "question_embeddings = []\n",
    "question_closest_models = []\n",
    "question_similarities = []\n",
    "question_closest_paragraphs = []\n",
    "\n",
    "for question in questions:\n",
    "    query_embedding = model._get_sentence_embedding(question)\n",
    "    question_embeddings.append(query_embedding)\n",
    "    \n",
    "    # Find the closest model\n",
    "    closest_model = None\n",
    "    highest_similarity = -1\n",
    "    closest_paragraph = \"\"\n",
    "    for model_name, model in models.items():\n",
    "        similarities = [\n",
    "            (model._cosine_similarity(query_embedding, model._get_sentence_embedding(paragraph)), paragraph)\n",
    "            for paragraph in model.original_paragraphs\n",
    "        ]\n",
    "        max_similarity, best_paragraph = max(similarities, key=lambda x: x[0])\n",
    "        if max_similarity > highest_similarity:\n",
    "            highest_similarity = max_similarity\n",
    "            closest_model = model_name\n",
    "            closest_paragraph = best_paragraph\n",
    "    \n",
    "    question_closest_models.append(closest_model)\n",
    "    question_similarities.append(highest_similarity)\n",
    "    question_closest_paragraphs.append(closest_paragraph)\n",
    "\n",
    "# Printing questions and their related data based on similarity\n",
    "for question, closest_model, similarity in zip(questions, question_closest_models, question_similarities):\n",
    "    if similarity > 0.75:\n",
    "        print(f\"Question: {question}\")\n",
    "        print(f\"Closest Model: {closest_model}\")\n",
    "        print(f\"Similarity: {similarity:.2f}\")\n",
    "        print()\n",
    "    else:\n",
    "        print(f\"'{question}' does not have enough similarity\")\n",
    "\n",
    "# Combining model embeddings and question embeddings\n",
    "all_embeddings = np.array(model_embeddings + question_embeddings)\n",
    "labels = model_labels + [\"Question\"] * len(questions)\n",
    "hover_texts = model_labels + [\n",
    "    f\"Question: {question}<br>Closest Model: {closest_model}<br>Similarity: {similarity:.2f}<br>Chunk: {closest_paragraph[:100]}...\"\n",
    "    for question, closest_model, similarity, closest_paragraph in zip(questions, question_closest_models, question_similarities, question_closest_paragraphs)\n",
    "]\n",
    "\n",
    "# Reducing dimensionality using PCA for 2D and 3D plots\n",
    "pca_2d = PCA(n_components=2)\n",
    "pca_2d_result = pca_2d.fit_transform(all_embeddings)\n",
    "\n",
    "pca_3d = PCA(n_components=3)\n",
    "pca_3d_result = pca_3d.fit_transform(all_embeddings)\n",
    "\n",
    "# Reducing dimensionality using t-SNE for 2D and 3D plots\n",
    "tsne_2d = TSNE(n_components=2, random_state=42)\n",
    "tsne_2d_result = tsne_2d.fit_transform(all_embeddings)\n",
    "\n",
    "tsne_3d = TSNE(n_components=3, random_state=42)\n",
    "tsne_3d_result = tsne_3d.fit_transform(all_embeddings)\n",
    "\n",
    "# Plotting with 2D PCA\n",
    "fig_pca = px.scatter(\n",
    "    x=pca_2d_result[:, 0], \n",
    "    y=pca_2d_result[:, 1], \n",
    "    color=labels, \n",
    "    hover_data={'label': hover_texts},\n",
    "    labels={'x': 'PCA Component 1', 'y': 'PCA Component 2'},\n",
    "    title=\"Embeddings Visualization with 2D PCA\"\n",
    ")\n",
    "\n",
    "# Adding annotations for questions in 2D PCA plot\n",
    "for i, question in enumerate(questions):\n",
    "    fig_pca.add_annotation(\n",
    "        x=pca_2d_result[len(model_embeddings) + i, 0], \n",
    "        y=pca_2d_result[len(model_embeddings) + i, 1], \n",
    "        text=f\"Q{i+1}\", \n",
    "        showarrow=True,\n",
    "        arrowhead=2\n",
    "    )\n",
    "\n",
    "# Plotting with 2D t-SNE\n",
    "fig_tsne = px.scatter(\n",
    "    x=tsne_2d_result[:, 0], \n",
    "    y=tsne_2d_result[:, 1], \n",
    "    color=labels, \n",
    "    hover_data={'label': hover_texts},\n",
    "    labels={'x': 't-SNE Component 1', 'y': 't-SNE Component 2'},\n",
    "    title=\"Embeddings Visualization with 2D t-SNE\"\n",
    ")\n",
    "\n",
    "# Adding annotations for questions in 2D t-SNE plot\n",
    "for i, question in enumerate(questions):\n",
    "    fig_tsne.add_annotation(\n",
    "        x=tsne_2d_result[len(model_embeddings) + i, 0], \n",
    "        y=tsne_2d_result[len(model_embeddings) + i, 1], \n",
    "        text=f\"Q{i+1}\", \n",
    "        showarrow=True,\n",
    "        arrowhead=2\n",
    "    )\n",
    "\n",
    "# Plotting with 3D PCA\n",
    "fig_pca_3d = px.scatter_3d(\n",
    "    x=pca_3d_result[:, 0], \n",
    "    y=pca_3d_result[:, 1], \n",
    "    z=pca_3d_result[:, 2], \n",
    "    color=labels, \n",
    "    hover_data={'label': hover_texts},\n",
    "    labels={'x': 'PCA Component 1', 'y': 'PCA Component 2', 'z': 'PCA Component 3'},\n",
    "    title=\"Embeddings Visualization with 3D PCA\"\n",
    ")\n",
    "\n",
    "# Adding annotations for questions in 3D PCA plot\n",
    "for i, question in enumerate(questions):\n",
    "    fig_pca_3d.add_trace(go.Scatter3d(\n",
    "        x=[pca_3d_result[len(model_embeddings) + i, 0]],\n",
    "        y=[pca_3d_result[len(model_embeddings) + i, 1]],\n",
    "        z=[pca_3d_result[len(model_embeddings) + i, 2]],\n",
    "        text=f\"Q{i+1}\",\n",
    "        mode='markers+text',\n",
    "        textposition='top center',\n",
    "        showlegend=False\n",
    "    ))\n",
    "\n",
    "# Plotting with 3D t-SNE\n",
    "fig_tsne_3d = px.scatter_3d(\n",
    "    x=tsne_3d_result[:, 0], \n",
    "    y=tsne_3d_result[:, 1], \n",
    "    z=tsne_3d_result[:, 2], \n",
    "    color=labels, \n",
    "    hover_data={'label': hover_texts},\n",
    "    labels={'x': 't-SNE Component 1', 'y': 't-SNE Component 2', 'z': 't-SNE Component 3'},\n",
    "    title=\"Embeddings Visualization with 3D t-SNE\"\n",
    ")\n",
    "\n",
    "# Adding annotations for questions in 3D t-SNE plot\n",
    "for i, question in enumerate(questions):\n",
    "    fig_tsne_3d.add_trace(go.Scatter3d(\n",
    "        x=[tsne_3d_result[len(model_embeddings) + i, 0]],\n",
    "        y=[tsne_3d_result[len(model_embeddings) + i, 1]],\n",
    "        z=[tsne_3d_result[len(model_embeddings) + i, 2]],\n",
    "        text=f\"Q{i+1}\",\n",
    "        mode='markers+text',\n",
    "        textposition='top center',\n",
    "        showlegend=False\n",
    "    ))\n",
    "\n",
    "# Show plots\n",
    "fig_pca.show()\n",
    "fig_tsne.show()\n",
    "fig_pca_3d.show()\n",
    "fig_tsne_3d.show()\n"
   ]
  },
  {
   "cell_type": "markdown",
   "metadata": {},
   "source": [
    "# Conclusiones de la visualización:\n",
    "\n",
    "Las visualizaciones utilizando tanto PCA como t-SNE muestran que los clusters de las categorías están bastante cerca uno del otro. A pesar de que las preguntas parecen tener buenos valores de similitud, al analizar las respuestas obtenidas, observamos que no tienen mucho sentido en relación a las preguntas planteadas."
   ]
  },
  {
   "cell_type": "markdown",
   "metadata": {},
   "source": []
  },
  {
   "cell_type": "code",
   "execution_count": 40,
   "metadata": {},
   "outputs": [],
   "source": [
    "# !MARK: - Classes\n",
    "\n",
    "class PretrainedModel(Model):\n",
    "    def __init__(self, original_paragraphs, language='spanish', model_path='sbw_vectors.bin'):\n",
    "        super().__init__(original_paragraphs, [], language)\n",
    "        self.model = self._load_pretrained_model(model_path)\n",
    "\n",
    "    def _load_pretrained_model(self, model_path):\n",
    "        if os.path.exists(model_path):\n",
    "            return KeyedVectors.load_word2vec_format(model_path, binary=True)\n",
    "        else:\n",
    "            raise FileNotFoundError(f\"El modelo preentrenado no se encuentra en la ruta: {model_path}\")\n",
    "\n",
    "    def predict(self, query, similarity_threshold):\n",
    "        query_embedding = self._get_sentence_embedding_pretrained(query)\n",
    "        similarities = [(self._cosine_similarity(query_embedding, self._get_sentence_embedding_pretrained(' '.join(TextUtils.clean_and_tokenize(para, self.language)))), para) for para in self.original_paragraphs]\n",
    "        filtered_and_sorted = sorted([sim for sim in similarities if sim[0] > similarity_threshold], key=lambda x: x[0], reverse=True)\n",
    "        return filtered_and_sorted\n",
    "\n",
    "    def _get_sentence_embedding_pretrained(self, sentence):\n",
    "        words = TextUtils.clean_and_tokenize(sentence, self.language)\n",
    "        word_vectors = [self.model[word] for word in words if word in self.model]\n",
    "        if len(word_vectors) == 0:\n",
    "            return np.zeros(self.model.vector_size)\n",
    "        return np.mean(word_vectors, axis=0)\n",
    "\n",
    "# !MARK: - Model Initialization\n",
    "\n",
    "models = {}\n",
    "\n",
    "for key, path in file_paths.items():\n",
    "    with open(path, 'r') as file:\n",
    "        file_contents[key] = file.read().split('\\n\\n')\n",
    "    models[key] = PretrainedModel(file_contents[key])"
   ]
  },
  {
   "cell_type": "code",
   "execution_count": 45,
   "metadata": {},
   "outputs": [
    {
     "name": "stdout",
     "output_type": "stream",
     "text": [
      "'¿Cómo se diferencia la ubicación física de la operativa?' does not have enough similarity\n",
      "Question: ¿Qué información se incluye en el informe de la evaluación de riesgos que ofrece la plataforma y cuál es su utilidad para la gestión de riesgos en la empresa?\n",
      "Closest Model: Riesgos\n",
      "Similarity: 0.88\n",
      "\n",
      "'¿Hay indicadores relativos al cumplimiento de normas?' does not have enough similarity\n",
      "Question: ¿Qué papel juega la estructura organizativa en la funcionalidad general de la plataforma y cómo interactúa con otros módulos?\n",
      "Closest Model: Estructura Organizativa\n",
      "Similarity: 0.86\n",
      "\n",
      "Question: ¿Qué permite realizar la evaluación de riesgos?\n",
      "Closest Model: Riesgos\n",
      "Similarity: 0.86\n",
      "\n",
      "Question: ¿Qué tipo de documentos se pueden almacenar y compartir en el espacio denominado 'Documentos' y cuál es su importancia dentro del contexto de la gestión empresarial en la plataforma?\n",
      "Closest Model: Información\n",
      "Similarity: 0.87\n",
      "\n",
      "Question: ¿Se pueden llevar a cabo auditorías internas?\n",
      "Closest Model: Emergencia\n",
      "Similarity: 0.77\n",
      "\n",
      "'¿Cuál es la tasa de adopción de esta plataforma en el mercado?' does not have enough similarity\n",
      "Question: ¿Cómo se compara esta plataforma con otras soluciones de gestión de SST?\n",
      "Closest Model: Estructura Organizativa\n",
      "Similarity: 0.84\n",
      "\n",
      "'¿Qué día hará mañana?' does not have enough similarity\n"
     ]
    },
    {
     "data": {
      "application/vnd.plotly.v1+json": {
       "config": {
        "plotlyServerURL": "https://plot.ly"
       },
       "data": [
        {
         "customdata": [
          [
           "Auditorias"
          ],
          [
           "Auditorias"
          ],
          [
           "Auditorias"
          ],
          [
           "Auditorias"
          ],
          [
           "Auditorias"
          ],
          [
           "Auditorias"
          ],
          [
           "Auditorias"
          ],
          [
           "Auditorias"
          ],
          [
           "Auditorias"
          ],
          [
           "Auditorias"
          ],
          [
           "Auditorias"
          ],
          [
           "Auditorias"
          ],
          [
           "Auditorias"
          ],
          [
           "Auditorias"
          ],
          [
           "Auditorias"
          ],
          [
           "Auditorias"
          ],
          [
           "Auditorias"
          ],
          [
           "Auditorias"
          ],
          [
           "Auditorias"
          ],
          [
           "Auditorias"
          ],
          [
           "Auditorias"
          ],
          [
           "Auditorias"
          ],
          [
           "Auditorias"
          ],
          [
           "Auditorias"
          ],
          [
           "Auditorias"
          ],
          [
           "Auditorias"
          ],
          [
           "Auditorias"
          ],
          [
           "Auditorias"
          ],
          [
           "Auditorias"
          ],
          [
           "Auditorias"
          ]
         ],
         "hovertemplate": "color=Auditorias<br>PCA Component 1=%{x}<br>PCA Component 2=%{y}<br>label=%{customdata[0]}<extra></extra>",
         "legendgroup": "Auditorias",
         "marker": {
          "color": "#636efa",
          "symbol": "circle"
         },
         "mode": "markers",
         "name": "Auditorias",
         "orientation": "v",
         "showlegend": true,
         "type": "scatter",
         "x": [
          -0.052444547,
          -0.19224973,
          -0.20323475,
          0.14081632,
          -0.3414985,
          -0.11217057,
          -0.27851325,
          -0.19050492,
          -0.18058899,
          -0.14303105,
          -0.30506963,
          -0.13422564,
          -0.11913497,
          -0.1644733,
          -0.3415015,
          -0.10612544,
          -0.23256557,
          -0.49486986,
          -0.311664,
          -1.0506867,
          -0.19571103,
          -0.27680627,
          -0.19571103,
          -0.018846055,
          -0.098226294,
          -0.11145629,
          -0.43599603,
          -0.37528962,
          0.04965692,
          -0.28757188
         ],
         "xaxis": "x",
         "y": [
          -0.18464488,
          -0.1936503,
          -0.10349806,
          -0.071725555,
          -0.8380425,
          -0.10365521,
          -0.0053624804,
          -0.11549992,
          -0.061742187,
          -0.11230143,
          0.034488805,
          0.09634092,
          -0.09435962,
          -0.19904512,
          -0.8380411,
          -0.066238165,
          -0.108752415,
          -0.11855685,
          -0.037372693,
          0.109982826,
          0.16845733,
          -0.33926392,
          0.16845733,
          -0.48901266,
          -0.26611218,
          -0.22896218,
          -0.018517403,
          -0.017599633,
          -0.011176321,
          -0.13041224
         ],
         "yaxis": "y"
        },
        {
         "customdata": [
          [
           "Ausentismo"
          ],
          [
           "Ausentismo"
          ],
          [
           "Ausentismo"
          ],
          [
           "Ausentismo"
          ],
          [
           "Ausentismo"
          ],
          [
           "Ausentismo"
          ],
          [
           "Ausentismo"
          ],
          [
           "Ausentismo"
          ],
          [
           "Ausentismo"
          ],
          [
           "Ausentismo"
          ],
          [
           "Ausentismo"
          ],
          [
           "Ausentismo"
          ],
          [
           "Ausentismo"
          ],
          [
           "Ausentismo"
          ],
          [
           "Ausentismo"
          ],
          [
           "Ausentismo"
          ],
          [
           "Ausentismo"
          ],
          [
           "Ausentismo"
          ],
          [
           "Ausentismo"
          ],
          [
           "Ausentismo"
          ],
          [
           "Ausentismo"
          ],
          [
           "Ausentismo"
          ],
          [
           "Ausentismo"
          ],
          [
           "Ausentismo"
          ],
          [
           "Ausentismo"
          ],
          [
           "Ausentismo"
          ],
          [
           "Ausentismo"
          ],
          [
           "Ausentismo"
          ],
          [
           "Ausentismo"
          ],
          [
           "Ausentismo"
          ],
          [
           "Ausentismo"
          ],
          [
           "Ausentismo"
          ],
          [
           "Ausentismo"
          ],
          [
           "Ausentismo"
          ],
          [
           "Ausentismo"
          ],
          [
           "Ausentismo"
          ],
          [
           "Ausentismo"
          ],
          [
           "Ausentismo"
          ],
          [
           "Ausentismo"
          ],
          [
           "Ausentismo"
          ],
          [
           "Ausentismo"
          ],
          [
           "Ausentismo"
          ],
          [
           "Ausentismo"
          ],
          [
           "Ausentismo"
          ],
          [
           "Ausentismo"
          ]
         ],
         "hovertemplate": "color=Ausentismo<br>PCA Component 1=%{x}<br>PCA Component 2=%{y}<br>label=%{customdata[0]}<extra></extra>",
         "legendgroup": "Ausentismo",
         "marker": {
          "color": "#EF553B",
          "symbol": "circle"
         },
         "mode": "markers",
         "name": "Ausentismo",
         "orientation": "v",
         "showlegend": true,
         "type": "scatter",
         "x": [
          0.11391813,
          -0.77049893,
          0.30307797,
          -0.15322931,
          0.24392892,
          0.11864338,
          -0.07942969,
          -0.107331045,
          0.91220254,
          -0.016753977,
          0.18766929,
          0.09947412,
          -0.3415015,
          -0.17004596,
          -0.15371688,
          0.035382103,
          -0.2432897,
          0.111882634,
          0.005005762,
          0.33527222,
          3.3076708,
          0.20596375,
          0.08666726,
          0.543258,
          -0.040244825,
          -0.3415015,
          -0.07153869,
          -1.0506867,
          -0.10088426,
          0.024993727,
          -0.04428449,
          3.3076708,
          -0.1315029,
          -0.10933212,
          -0.2654692,
          0.7647131,
          0.6848787,
          0.6352019,
          0.7647131,
          0.6848787,
          1.2356491,
          1.1219277,
          1.0364842,
          0.9309276,
          3.3076708
         ],
         "xaxis": "x",
         "y": [
          1.7070984,
          0.48910972,
          -0.27889532,
          -0.20321389,
          -0.21140946,
          -0.1580076,
          -0.0641767,
          -0.04430154,
          0.0731306,
          -0.10399449,
          -0.14024569,
          -0.2565449,
          -0.8380412,
          -0.1410534,
          -0.07467353,
          -0.32629696,
          0.03686612,
          1.2731371,
          0.47461495,
          0.43287846,
          0.057251077,
          0.060783383,
          0.060919,
          1.223661,
          0.149825,
          -0.8380412,
          -0.15726328,
          0.109982826,
          0.034243822,
          0.09985977,
          0.015803145,
          0.057251077,
          0.026723748,
          -0.005083024,
          -0.0048158383,
          -0.35860124,
          -0.6032675,
          -0.20592019,
          -0.35860124,
          -0.6032675,
          -0.3399901,
          -0.38981134,
          -0.3516866,
          -0.39911282,
          0.057251077
         ],
         "yaxis": "y"
        },
        {
         "customdata": [
          [
           "Estructura Organizativa"
          ],
          [
           "Estructura Organizativa"
          ],
          [
           "Estructura Organizativa"
          ],
          [
           "Estructura Organizativa"
          ],
          [
           "Estructura Organizativa"
          ],
          [
           "Estructura Organizativa"
          ],
          [
           "Estructura Organizativa"
          ],
          [
           "Estructura Organizativa"
          ],
          [
           "Estructura Organizativa"
          ],
          [
           "Estructura Organizativa"
          ],
          [
           "Estructura Organizativa"
          ],
          [
           "Estructura Organizativa"
          ],
          [
           "Estructura Organizativa"
          ],
          [
           "Estructura Organizativa"
          ],
          [
           "Estructura Organizativa"
          ],
          [
           "Estructura Organizativa"
          ],
          [
           "Estructura Organizativa"
          ],
          [
           "Estructura Organizativa"
          ],
          [
           "Estructura Organizativa"
          ],
          [
           "Estructura Organizativa"
          ],
          [
           "Estructura Organizativa"
          ],
          [
           "Estructura Organizativa"
          ],
          [
           "Estructura Organizativa"
          ],
          [
           "Estructura Organizativa"
          ],
          [
           "Estructura Organizativa"
          ],
          [
           "Estructura Organizativa"
          ],
          [
           "Estructura Organizativa"
          ],
          [
           "Estructura Organizativa"
          ],
          [
           "Estructura Organizativa"
          ],
          [
           "Estructura Organizativa"
          ],
          [
           "Estructura Organizativa"
          ],
          [
           "Estructura Organizativa"
          ],
          [
           "Estructura Organizativa"
          ],
          [
           "Estructura Organizativa"
          ],
          [
           "Estructura Organizativa"
          ],
          [
           "Estructura Organizativa"
          ],
          [
           "Estructura Organizativa"
          ],
          [
           "Estructura Organizativa"
          ],
          [
           "Estructura Organizativa"
          ],
          [
           "Estructura Organizativa"
          ],
          [
           "Estructura Organizativa"
          ],
          [
           "Estructura Organizativa"
          ],
          [
           "Estructura Organizativa"
          ],
          [
           "Estructura Organizativa"
          ],
          [
           "Estructura Organizativa"
          ],
          [
           "Estructura Organizativa"
          ],
          [
           "Estructura Organizativa"
          ],
          [
           "Estructura Organizativa"
          ],
          [
           "Estructura Organizativa"
          ],
          [
           "Estructura Organizativa"
          ],
          [
           "Estructura Organizativa"
          ],
          [
           "Estructura Organizativa"
          ],
          [
           "Estructura Organizativa"
          ],
          [
           "Estructura Organizativa"
          ],
          [
           "Estructura Organizativa"
          ],
          [
           "Estructura Organizativa"
          ],
          [
           "Estructura Organizativa"
          ],
          [
           "Estructura Organizativa"
          ],
          [
           "Estructura Organizativa"
          ],
          [
           "Estructura Organizativa"
          ],
          [
           "Estructura Organizativa"
          ],
          [
           "Estructura Organizativa"
          ],
          [
           "Estructura Organizativa"
          ],
          [
           "Estructura Organizativa"
          ],
          [
           "Estructura Organizativa"
          ],
          [
           "Estructura Organizativa"
          ],
          [
           "Estructura Organizativa"
          ],
          [
           "Estructura Organizativa"
          ],
          [
           "Estructura Organizativa"
          ],
          [
           "Estructura Organizativa"
          ],
          [
           "Estructura Organizativa"
          ],
          [
           "Estructura Organizativa"
          ],
          [
           "Estructura Organizativa"
          ],
          [
           "Estructura Organizativa"
          ],
          [
           "Estructura Organizativa"
          ],
          [
           "Estructura Organizativa"
          ],
          [
           "Estructura Organizativa"
          ]
         ],
         "hovertemplate": "color=Estructura Organizativa<br>PCA Component 1=%{x}<br>PCA Component 2=%{y}<br>label=%{customdata[0]}<extra></extra>",
         "legendgroup": "Estructura Organizativa",
         "marker": {
          "color": "#00cc96",
          "symbol": "circle"
         },
         "mode": "markers",
         "name": "Estructura Organizativa",
         "orientation": "v",
         "showlegend": true,
         "type": "scatter",
         "x": [
          0.11391813,
          -0.46746275,
          -0.77049893,
          -0.15851791,
          0.03343723,
          -0.31814626,
          0.04496727,
          -0.22411902,
          -0.2417126,
          -0.22280122,
          -0.092232294,
          -0.1469905,
          1.2506812,
          -0.19068296,
          -0.22612828,
          -0.29769936,
          -0.14386886,
          -0.12974142,
          -0.39001742,
          0.10771977,
          0.015757577,
          -0.16880105,
          -0.1588488,
          -0.09595531,
          -0.3011027,
          0.03813255,
          0.40829584,
          -0.118614405,
          -0.16962762,
          -0.13718817,
          -0.07269733,
          -0.15398625,
          -0.15995488,
          0.18001562,
          0.881389,
          0.38305452,
          0.27876043,
          0.41756606,
          0.4739668,
          -0.18932612,
          0.32302585,
          0.062497783,
          -0.05049682,
          0.08124538,
          -0.077270485,
          -0.18616624,
          -0.24426407,
          -0.027652636,
          0.881389,
          0.12934774,
          -0.06899338,
          -0.07236619,
          -0.06756446,
          0.21878059,
          -0.17843217,
          -0.2627128,
          -0.18291211,
          -0.27501407,
          -0.21209033,
          -0.23542854,
          -0.08943434,
          -0.23328154,
          -0.19131525,
          0.10771977,
          -0.055205993,
          0.31207943,
          -0.16092432,
          -0.28371274,
          -0.26332805,
          -0.3104845,
          -0.29057014,
          0.10771977,
          -0.24105674,
          -0.16050096,
          -0.1490248,
          -0.15108559,
          -0.02529071
         ],
         "xaxis": "x",
         "y": [
          1.7070984,
          -0.17546897,
          0.48910972,
          -0.30453438,
          -0.25606984,
          -0.20619832,
          -0.09419316,
          -0.08339311,
          0.13920192,
          -0.082304865,
          -0.07545526,
          -0.119968444,
          -0.5339791,
          -0.014422734,
          -0.011897069,
          -0.15661646,
          0.12838669,
          -0.07377898,
          -0.028747309,
          2.5283425,
          0.26569623,
          -0.16440062,
          -0.02778672,
          0.049557168,
          -0.006298306,
          -0.029864235,
          -0.11860189,
          -0.008031661,
          0.101788566,
          -0.16167793,
          -0.07733404,
          0.049007133,
          -0.019894017,
          -0.2643731,
          -0.10696883,
          -0.060611308,
          -0.23756407,
          -0.24040098,
          -0.17104094,
          -0.17200257,
          0.07541424,
          0.12382799,
          0.15286532,
          1.7329237,
          0.38044518,
          -0.1019787,
          -0.10127418,
          -0.0575736,
          -0.10696883,
          -0.13714436,
          0.1328325,
          -0.003992256,
          -0.026316358,
          -0.3933334,
          -0.12067048,
          -0.034635082,
          0.060690686,
          -0.07377921,
          -0.12318835,
          0.07443765,
          0.23689863,
          -0.017824536,
          0.059195943,
          2.5283425,
          0.26458457,
          -0.321915,
          -0.08386313,
          0.027388653,
          0.07485418,
          0.04237314,
          0.16075262,
          2.5283425,
          0.09509868,
          -0.019618472,
          -0.14490396,
          -0.04747051,
          0.31807727
         ],
         "yaxis": "y"
        },
        {
         "customdata": [
          [
           "Riesgos"
          ],
          [
           "Riesgos"
          ],
          [
           "Riesgos"
          ],
          [
           "Riesgos"
          ],
          [
           "Riesgos"
          ],
          [
           "Riesgos"
          ],
          [
           "Riesgos"
          ],
          [
           "Riesgos"
          ],
          [
           "Riesgos"
          ],
          [
           "Riesgos"
          ],
          [
           "Riesgos"
          ],
          [
           "Riesgos"
          ],
          [
           "Riesgos"
          ],
          [
           "Riesgos"
          ],
          [
           "Riesgos"
          ],
          [
           "Riesgos"
          ],
          [
           "Riesgos"
          ],
          [
           "Riesgos"
          ],
          [
           "Riesgos"
          ],
          [
           "Riesgos"
          ],
          [
           "Riesgos"
          ]
         ],
         "hovertemplate": "color=Riesgos<br>PCA Component 1=%{x}<br>PCA Component 2=%{y}<br>label=%{customdata[0]}<extra></extra>",
         "legendgroup": "Riesgos",
         "marker": {
          "color": "#ab63fa",
          "symbol": "circle"
         },
         "mode": "markers",
         "name": "Riesgos",
         "orientation": "v",
         "showlegend": true,
         "type": "scatter",
         "x": [
          0.11391813,
          -0.27675712,
          -0.32628337,
          -0.6625945,
          0.00880332,
          -0.08863448,
          -0.39161196,
          -0.2848283,
          0.30248177,
          -0.18810442,
          0.43764156,
          0.12893514,
          -0.010646589,
          -0.025649004,
          -0.17836842,
          -0.41625795,
          -0.108374484,
          0.91790324,
          -0.059377797,
          -0.2284944,
          0.041695356
         ],
         "xaxis": "x",
         "y": [
          1.7070984,
          -0.3495345,
          -0.024675068,
          -0.25812298,
          -0.29507992,
          -0.17155641,
          -0.1042942,
          -0.099414304,
          -0.07257472,
          -0.20023976,
          -0.42637208,
          -0.15275136,
          -0.19569124,
          0.09677537,
          -0.18160227,
          -0.14918408,
          -0.20704919,
          -0.39993325,
          -0.005856056,
          -0.09569358,
          -0.21203366
         ],
         "yaxis": "y"
        },
        {
         "customdata": [
          [
           "Información"
          ],
          [
           "Información"
          ],
          [
           "Información"
          ],
          [
           "Información"
          ],
          [
           "Información"
          ],
          [
           "Información"
          ],
          [
           "Información"
          ],
          [
           "Información"
          ],
          [
           "Información"
          ]
         ],
         "hovertemplate": "color=Información<br>PCA Component 1=%{x}<br>PCA Component 2=%{y}<br>label=%{customdata[0]}<extra></extra>",
         "legendgroup": "Información",
         "marker": {
          "color": "#FFA15A",
          "symbol": "circle"
         },
         "mode": "markers",
         "name": "Información",
         "orientation": "v",
         "showlegend": true,
         "type": "scatter",
         "x": [
          0.11391813,
          -0.27675712,
          -0.77049893,
          -0.2263785,
          -0.53980744,
          -0.5079578,
          -0.6002361,
          -0.14787121,
          -0.20920548
         ],
         "xaxis": "x",
         "y": [
          1.7070984,
          -0.3495345,
          0.48910972,
          -0.15514271,
          0.29606834,
          -0.04766224,
          0.03633993,
          0.07027786,
          0.09504804
         ],
         "yaxis": "y"
        },
        {
         "customdata": [
          [
           "Emergencia"
          ],
          [
           "Emergencia"
          ],
          [
           "Emergencia"
          ],
          [
           "Emergencia"
          ],
          [
           "Emergencia"
          ],
          [
           "Emergencia"
          ],
          [
           "Emergencia"
          ],
          [
           "Emergencia"
          ],
          [
           "Emergencia"
          ],
          [
           "Emergencia"
          ],
          [
           "Emergencia"
          ]
         ],
         "hovertemplate": "color=Emergencia<br>PCA Component 1=%{x}<br>PCA Component 2=%{y}<br>label=%{customdata[0]}<extra></extra>",
         "legendgroup": "Emergencia",
         "marker": {
          "color": "#19d3f3",
          "symbol": "circle"
         },
         "mode": "markers",
         "name": "Emergencia",
         "orientation": "v",
         "showlegend": true,
         "type": "scatter",
         "x": [
          -0.1175729,
          0.21662943,
          0.08598771,
          -0.24990548,
          0.057762977,
          -0.03590703,
          -0.15883245,
          -0.11374739,
          -0.113210686,
          -0.2651644,
          -0.2330233
         ],
         "xaxis": "x",
         "y": [
          -0.26769498,
          -0.20095116,
          -0.25214738,
          -0.19048105,
          -0.08375739,
          -0.12593196,
          -0.16159706,
          -0.12742378,
          -0.11997992,
          0.026056051,
          -0.022335717
         ],
         "yaxis": "y"
        },
        {
         "customdata": [
          [
           "Question: ¿Cómo se diferencia la ubicación física de la operativa?<br>Closest Model: Riesgos<br>Similarity: 0.70<br>Chunk: DOCUMENTOS\nEl usuario accede a la pestaña Documentos y visualiza el listado de informes generados ta..."
          ],
          [
           "Question: ¿Qué información se incluye en el informe de la evaluación de riesgos que ofrece la plataforma y cuál es su utilidad para la gestión de riesgos en la empresa?<br>Closest Model: Riesgos<br>Similarity: 0.88<br>Chunk: CONTENIDO\nSabentis es la nueva plataforma de gestión especializada en el ámbito de seguridad y salud..."
          ],
          [
           "Question: ¿Hay indicadores relativos al cumplimiento de normas?<br>Closest Model: Auditorias<br>Similarity: 0.71<br>Chunk: Versión  Fecha  Comentarios  Autor  1.0  29/09/2022  Redacción  Núria Zaragoza\nSabentis es la nueva ..."
          ],
          [
           "Question: ¿Qué papel juega la estructura organizativa en la funcionalidad general de la plataforma y cómo interactúa con otros módulos?<br>Closest Model: Estructura Organizativa<br>Similarity: 0.86<br>Chunk: El usuario puede acceder al módulo Estructura Organizativa (EO), desde las opciones:  •  La entrada ..."
          ],
          [
           "Question: ¿Qué permite realizar la evaluación de riesgos?<br>Closest Model: Riesgos<br>Similarity: 0.86<br>Chunk: CONTENIDO\nSabentis es la nueva plataforma de gestión especializada en el ámbito de seguridad y salud..."
          ],
          [
           "Question: ¿Qué tipo de documentos se pueden almacenar y compartir en el espacio denominado 'Documentos' y cuál es su importancia dentro del contexto de la gestión empresarial en la plataforma?<br>Closest Model: Información<br>Similarity: 0.87<br>Chunk: 3. REPOSITORIO DOCUMENTAL DE LA EMPRESA\nEl usuario accede al cardboard “Repositorio documental” y vi..."
          ],
          [
           "Question: ¿Se pueden llevar a cabo auditorías internas?<br>Closest Model: Emergencia<br>Similarity: 0.77<br>Chunk: La pestaña evaluación de aspectos legales permite al usuario evaluar los cuestionarios  aplicables a..."
          ],
          [
           "Question: ¿Cuál es la tasa de adopción de esta plataforma en el mercado?<br>Closest Model: Información<br>Similarity: 0.72<br>Chunk: Sabentis es la nueva plataforma de gestión especializada en el ámbito de Seguridad y Salud en  el Tr..."
          ],
          [
           "Question: ¿Cómo se compara esta plataforma con otras soluciones de gestión de SST?<br>Closest Model: Estructura Organizativa<br>Similarity: 0.84<br>Chunk: Sabentis es la nueva plataforma de gestión especializada en el ámbito de Seguridad y Salud  en el Tr..."
          ],
          [
           "Question: ¿Qué día hará mañana?<br>Closest Model: Estructura Organizativa<br>Similarity: 0.63<br>Chunk: Documento  Manual de uso: Estructura organizativa (GE).  Descripción  Manual guía de usuario del mód..."
          ]
         ],
         "hovertemplate": "color=Question<br>PCA Component 1=%{x}<br>PCA Component 2=%{y}<br>label=%{customdata[0]}<extra></extra>",
         "legendgroup": "Question",
         "marker": {
          "color": "#FF6692",
          "symbol": "circle"
         },
         "mode": "markers",
         "name": "Question",
         "orientation": "v",
         "showlegend": true,
         "type": "scatter",
         "x": [
          -0.28758565,
          -0.16001411,
          0.5239876,
          -0.29693615,
          0.0855951,
          -0.18165609,
          0.3050268,
          -0.034642026,
          -0.44171375,
          -0.6426304
         ],
         "xaxis": "x",
         "y": [
          -0.6211244,
          -0.16184439,
          0.2856797,
          -0.17688219,
          -0.2567163,
          0.22497363,
          -0.13201836,
          -0.26298404,
          -0.33773002,
          -0.7143853
         ],
         "yaxis": "y"
        }
       ],
       "layout": {
        "annotations": [
         {
          "arrowhead": 2,
          "showarrow": true,
          "text": "Q1",
          "x": -0.28758564591407776,
          "y": -0.6211243867874146
         },
         {
          "arrowhead": 2,
          "showarrow": true,
          "text": "Q2",
          "x": -0.1600141078233719,
          "y": -0.1618443876504898
         },
         {
          "arrowhead": 2,
          "showarrow": true,
          "text": "Q3",
          "x": 0.5239875912666321,
          "y": 0.2856796979904175
         },
         {
          "arrowhead": 2,
          "showarrow": true,
          "text": "Q4",
          "x": -0.29693615436553955,
          "y": -0.17688219249248505
         },
         {
          "arrowhead": 2,
          "showarrow": true,
          "text": "Q5",
          "x": 0.08559510111808777,
          "y": -0.2567163109779358
         },
         {
          "arrowhead": 2,
          "showarrow": true,
          "text": "Q6",
          "x": -0.1816560924053192,
          "y": 0.2249736338853836
         },
         {
          "arrowhead": 2,
          "showarrow": true,
          "text": "Q7",
          "x": 0.3050267994403839,
          "y": -0.13201835751533508
         },
         {
          "arrowhead": 2,
          "showarrow": true,
          "text": "Q8",
          "x": -0.03464202582836151,
          "y": -0.262984037399292
         },
         {
          "arrowhead": 2,
          "showarrow": true,
          "text": "Q9",
          "x": -0.44171375036239624,
          "y": -0.3377300202846527
         },
         {
          "arrowhead": 2,
          "showarrow": true,
          "text": "Q10",
          "x": -0.642630398273468,
          "y": -0.7143852710723877
         }
        ],
        "legend": {
         "title": {
          "text": "color"
         },
         "tracegroupgap": 0
        },
        "template": {
         "data": {
          "bar": [
           {
            "error_x": {
             "color": "#2a3f5f"
            },
            "error_y": {
             "color": "#2a3f5f"
            },
            "marker": {
             "line": {
              "color": "#E5ECF6",
              "width": 0.5
             },
             "pattern": {
              "fillmode": "overlay",
              "size": 10,
              "solidity": 0.2
             }
            },
            "type": "bar"
           }
          ],
          "barpolar": [
           {
            "marker": {
             "line": {
              "color": "#E5ECF6",
              "width": 0.5
             },
             "pattern": {
              "fillmode": "overlay",
              "size": 10,
              "solidity": 0.2
             }
            },
            "type": "barpolar"
           }
          ],
          "carpet": [
           {
            "aaxis": {
             "endlinecolor": "#2a3f5f",
             "gridcolor": "white",
             "linecolor": "white",
             "minorgridcolor": "white",
             "startlinecolor": "#2a3f5f"
            },
            "baxis": {
             "endlinecolor": "#2a3f5f",
             "gridcolor": "white",
             "linecolor": "white",
             "minorgridcolor": "white",
             "startlinecolor": "#2a3f5f"
            },
            "type": "carpet"
           }
          ],
          "choropleth": [
           {
            "colorbar": {
             "outlinewidth": 0,
             "ticks": ""
            },
            "type": "choropleth"
           }
          ],
          "contour": [
           {
            "colorbar": {
             "outlinewidth": 0,
             "ticks": ""
            },
            "colorscale": [
             [
              0,
              "#0d0887"
             ],
             [
              0.1111111111111111,
              "#46039f"
             ],
             [
              0.2222222222222222,
              "#7201a8"
             ],
             [
              0.3333333333333333,
              "#9c179e"
             ],
             [
              0.4444444444444444,
              "#bd3786"
             ],
             [
              0.5555555555555556,
              "#d8576b"
             ],
             [
              0.6666666666666666,
              "#ed7953"
             ],
             [
              0.7777777777777778,
              "#fb9f3a"
             ],
             [
              0.8888888888888888,
              "#fdca26"
             ],
             [
              1,
              "#f0f921"
             ]
            ],
            "type": "contour"
           }
          ],
          "contourcarpet": [
           {
            "colorbar": {
             "outlinewidth": 0,
             "ticks": ""
            },
            "type": "contourcarpet"
           }
          ],
          "heatmap": [
           {
            "colorbar": {
             "outlinewidth": 0,
             "ticks": ""
            },
            "colorscale": [
             [
              0,
              "#0d0887"
             ],
             [
              0.1111111111111111,
              "#46039f"
             ],
             [
              0.2222222222222222,
              "#7201a8"
             ],
             [
              0.3333333333333333,
              "#9c179e"
             ],
             [
              0.4444444444444444,
              "#bd3786"
             ],
             [
              0.5555555555555556,
              "#d8576b"
             ],
             [
              0.6666666666666666,
              "#ed7953"
             ],
             [
              0.7777777777777778,
              "#fb9f3a"
             ],
             [
              0.8888888888888888,
              "#fdca26"
             ],
             [
              1,
              "#f0f921"
             ]
            ],
            "type": "heatmap"
           }
          ],
          "heatmapgl": [
           {
            "colorbar": {
             "outlinewidth": 0,
             "ticks": ""
            },
            "colorscale": [
             [
              0,
              "#0d0887"
             ],
             [
              0.1111111111111111,
              "#46039f"
             ],
             [
              0.2222222222222222,
              "#7201a8"
             ],
             [
              0.3333333333333333,
              "#9c179e"
             ],
             [
              0.4444444444444444,
              "#bd3786"
             ],
             [
              0.5555555555555556,
              "#d8576b"
             ],
             [
              0.6666666666666666,
              "#ed7953"
             ],
             [
              0.7777777777777778,
              "#fb9f3a"
             ],
             [
              0.8888888888888888,
              "#fdca26"
             ],
             [
              1,
              "#f0f921"
             ]
            ],
            "type": "heatmapgl"
           }
          ],
          "histogram": [
           {
            "marker": {
             "pattern": {
              "fillmode": "overlay",
              "size": 10,
              "solidity": 0.2
             }
            },
            "type": "histogram"
           }
          ],
          "histogram2d": [
           {
            "colorbar": {
             "outlinewidth": 0,
             "ticks": ""
            },
            "colorscale": [
             [
              0,
              "#0d0887"
             ],
             [
              0.1111111111111111,
              "#46039f"
             ],
             [
              0.2222222222222222,
              "#7201a8"
             ],
             [
              0.3333333333333333,
              "#9c179e"
             ],
             [
              0.4444444444444444,
              "#bd3786"
             ],
             [
              0.5555555555555556,
              "#d8576b"
             ],
             [
              0.6666666666666666,
              "#ed7953"
             ],
             [
              0.7777777777777778,
              "#fb9f3a"
             ],
             [
              0.8888888888888888,
              "#fdca26"
             ],
             [
              1,
              "#f0f921"
             ]
            ],
            "type": "histogram2d"
           }
          ],
          "histogram2dcontour": [
           {
            "colorbar": {
             "outlinewidth": 0,
             "ticks": ""
            },
            "colorscale": [
             [
              0,
              "#0d0887"
             ],
             [
              0.1111111111111111,
              "#46039f"
             ],
             [
              0.2222222222222222,
              "#7201a8"
             ],
             [
              0.3333333333333333,
              "#9c179e"
             ],
             [
              0.4444444444444444,
              "#bd3786"
             ],
             [
              0.5555555555555556,
              "#d8576b"
             ],
             [
              0.6666666666666666,
              "#ed7953"
             ],
             [
              0.7777777777777778,
              "#fb9f3a"
             ],
             [
              0.8888888888888888,
              "#fdca26"
             ],
             [
              1,
              "#f0f921"
             ]
            ],
            "type": "histogram2dcontour"
           }
          ],
          "mesh3d": [
           {
            "colorbar": {
             "outlinewidth": 0,
             "ticks": ""
            },
            "type": "mesh3d"
           }
          ],
          "parcoords": [
           {
            "line": {
             "colorbar": {
              "outlinewidth": 0,
              "ticks": ""
             }
            },
            "type": "parcoords"
           }
          ],
          "pie": [
           {
            "automargin": true,
            "type": "pie"
           }
          ],
          "scatter": [
           {
            "fillpattern": {
             "fillmode": "overlay",
             "size": 10,
             "solidity": 0.2
            },
            "type": "scatter"
           }
          ],
          "scatter3d": [
           {
            "line": {
             "colorbar": {
              "outlinewidth": 0,
              "ticks": ""
             }
            },
            "marker": {
             "colorbar": {
              "outlinewidth": 0,
              "ticks": ""
             }
            },
            "type": "scatter3d"
           }
          ],
          "scattercarpet": [
           {
            "marker": {
             "colorbar": {
              "outlinewidth": 0,
              "ticks": ""
             }
            },
            "type": "scattercarpet"
           }
          ],
          "scattergeo": [
           {
            "marker": {
             "colorbar": {
              "outlinewidth": 0,
              "ticks": ""
             }
            },
            "type": "scattergeo"
           }
          ],
          "scattergl": [
           {
            "marker": {
             "colorbar": {
              "outlinewidth": 0,
              "ticks": ""
             }
            },
            "type": "scattergl"
           }
          ],
          "scattermapbox": [
           {
            "marker": {
             "colorbar": {
              "outlinewidth": 0,
              "ticks": ""
             }
            },
            "type": "scattermapbox"
           }
          ],
          "scatterpolar": [
           {
            "marker": {
             "colorbar": {
              "outlinewidth": 0,
              "ticks": ""
             }
            },
            "type": "scatterpolar"
           }
          ],
          "scatterpolargl": [
           {
            "marker": {
             "colorbar": {
              "outlinewidth": 0,
              "ticks": ""
             }
            },
            "type": "scatterpolargl"
           }
          ],
          "scatterternary": [
           {
            "marker": {
             "colorbar": {
              "outlinewidth": 0,
              "ticks": ""
             }
            },
            "type": "scatterternary"
           }
          ],
          "surface": [
           {
            "colorbar": {
             "outlinewidth": 0,
             "ticks": ""
            },
            "colorscale": [
             [
              0,
              "#0d0887"
             ],
             [
              0.1111111111111111,
              "#46039f"
             ],
             [
              0.2222222222222222,
              "#7201a8"
             ],
             [
              0.3333333333333333,
              "#9c179e"
             ],
             [
              0.4444444444444444,
              "#bd3786"
             ],
             [
              0.5555555555555556,
              "#d8576b"
             ],
             [
              0.6666666666666666,
              "#ed7953"
             ],
             [
              0.7777777777777778,
              "#fb9f3a"
             ],
             [
              0.8888888888888888,
              "#fdca26"
             ],
             [
              1,
              "#f0f921"
             ]
            ],
            "type": "surface"
           }
          ],
          "table": [
           {
            "cells": {
             "fill": {
              "color": "#EBF0F8"
             },
             "line": {
              "color": "white"
             }
            },
            "header": {
             "fill": {
              "color": "#C8D4E3"
             },
             "line": {
              "color": "white"
             }
            },
            "type": "table"
           }
          ]
         },
         "layout": {
          "annotationdefaults": {
           "arrowcolor": "#2a3f5f",
           "arrowhead": 0,
           "arrowwidth": 1
          },
          "autotypenumbers": "strict",
          "coloraxis": {
           "colorbar": {
            "outlinewidth": 0,
            "ticks": ""
           }
          },
          "colorscale": {
           "diverging": [
            [
             0,
             "#8e0152"
            ],
            [
             0.1,
             "#c51b7d"
            ],
            [
             0.2,
             "#de77ae"
            ],
            [
             0.3,
             "#f1b6da"
            ],
            [
             0.4,
             "#fde0ef"
            ],
            [
             0.5,
             "#f7f7f7"
            ],
            [
             0.6,
             "#e6f5d0"
            ],
            [
             0.7,
             "#b8e186"
            ],
            [
             0.8,
             "#7fbc41"
            ],
            [
             0.9,
             "#4d9221"
            ],
            [
             1,
             "#276419"
            ]
           ],
           "sequential": [
            [
             0,
             "#0d0887"
            ],
            [
             0.1111111111111111,
             "#46039f"
            ],
            [
             0.2222222222222222,
             "#7201a8"
            ],
            [
             0.3333333333333333,
             "#9c179e"
            ],
            [
             0.4444444444444444,
             "#bd3786"
            ],
            [
             0.5555555555555556,
             "#d8576b"
            ],
            [
             0.6666666666666666,
             "#ed7953"
            ],
            [
             0.7777777777777778,
             "#fb9f3a"
            ],
            [
             0.8888888888888888,
             "#fdca26"
            ],
            [
             1,
             "#f0f921"
            ]
           ],
           "sequentialminus": [
            [
             0,
             "#0d0887"
            ],
            [
             0.1111111111111111,
             "#46039f"
            ],
            [
             0.2222222222222222,
             "#7201a8"
            ],
            [
             0.3333333333333333,
             "#9c179e"
            ],
            [
             0.4444444444444444,
             "#bd3786"
            ],
            [
             0.5555555555555556,
             "#d8576b"
            ],
            [
             0.6666666666666666,
             "#ed7953"
            ],
            [
             0.7777777777777778,
             "#fb9f3a"
            ],
            [
             0.8888888888888888,
             "#fdca26"
            ],
            [
             1,
             "#f0f921"
            ]
           ]
          },
          "colorway": [
           "#636efa",
           "#EF553B",
           "#00cc96",
           "#ab63fa",
           "#FFA15A",
           "#19d3f3",
           "#FF6692",
           "#B6E880",
           "#FF97FF",
           "#FECB52"
          ],
          "font": {
           "color": "#2a3f5f"
          },
          "geo": {
           "bgcolor": "white",
           "lakecolor": "white",
           "landcolor": "#E5ECF6",
           "showlakes": true,
           "showland": true,
           "subunitcolor": "white"
          },
          "hoverlabel": {
           "align": "left"
          },
          "hovermode": "closest",
          "mapbox": {
           "style": "light"
          },
          "paper_bgcolor": "white",
          "plot_bgcolor": "#E5ECF6",
          "polar": {
           "angularaxis": {
            "gridcolor": "white",
            "linecolor": "white",
            "ticks": ""
           },
           "bgcolor": "#E5ECF6",
           "radialaxis": {
            "gridcolor": "white",
            "linecolor": "white",
            "ticks": ""
           }
          },
          "scene": {
           "xaxis": {
            "backgroundcolor": "#E5ECF6",
            "gridcolor": "white",
            "gridwidth": 2,
            "linecolor": "white",
            "showbackground": true,
            "ticks": "",
            "zerolinecolor": "white"
           },
           "yaxis": {
            "backgroundcolor": "#E5ECF6",
            "gridcolor": "white",
            "gridwidth": 2,
            "linecolor": "white",
            "showbackground": true,
            "ticks": "",
            "zerolinecolor": "white"
           },
           "zaxis": {
            "backgroundcolor": "#E5ECF6",
            "gridcolor": "white",
            "gridwidth": 2,
            "linecolor": "white",
            "showbackground": true,
            "ticks": "",
            "zerolinecolor": "white"
           }
          },
          "shapedefaults": {
           "line": {
            "color": "#2a3f5f"
           }
          },
          "ternary": {
           "aaxis": {
            "gridcolor": "white",
            "linecolor": "white",
            "ticks": ""
           },
           "baxis": {
            "gridcolor": "white",
            "linecolor": "white",
            "ticks": ""
           },
           "bgcolor": "#E5ECF6",
           "caxis": {
            "gridcolor": "white",
            "linecolor": "white",
            "ticks": ""
           }
          },
          "title": {
           "x": 0.05
          },
          "xaxis": {
           "automargin": true,
           "gridcolor": "white",
           "linecolor": "white",
           "ticks": "",
           "title": {
            "standoff": 15
           },
           "zerolinecolor": "white",
           "zerolinewidth": 2
          },
          "yaxis": {
           "automargin": true,
           "gridcolor": "white",
           "linecolor": "white",
           "ticks": "",
           "title": {
            "standoff": 15
           },
           "zerolinecolor": "white",
           "zerolinewidth": 2
          }
         }
        },
        "title": {
         "text": "Embeddings Visualization with 2D PCA"
        },
        "xaxis": {
         "anchor": "y",
         "domain": [
          0,
          1
         ],
         "title": {
          "text": "PCA Component 1"
         }
        },
        "yaxis": {
         "anchor": "x",
         "domain": [
          0,
          1
         ],
         "title": {
          "text": "PCA Component 2"
         }
        }
       }
      }
     },
     "metadata": {},
     "output_type": "display_data"
    },
    {
     "data": {
      "application/vnd.plotly.v1+json": {
       "config": {
        "plotlyServerURL": "https://plot.ly"
       },
       "data": [
        {
         "customdata": [
          [
           "Auditorias"
          ],
          [
           "Auditorias"
          ],
          [
           "Auditorias"
          ],
          [
           "Auditorias"
          ],
          [
           "Auditorias"
          ],
          [
           "Auditorias"
          ],
          [
           "Auditorias"
          ],
          [
           "Auditorias"
          ],
          [
           "Auditorias"
          ],
          [
           "Auditorias"
          ],
          [
           "Auditorias"
          ],
          [
           "Auditorias"
          ],
          [
           "Auditorias"
          ],
          [
           "Auditorias"
          ],
          [
           "Auditorias"
          ],
          [
           "Auditorias"
          ],
          [
           "Auditorias"
          ],
          [
           "Auditorias"
          ],
          [
           "Auditorias"
          ],
          [
           "Auditorias"
          ],
          [
           "Auditorias"
          ],
          [
           "Auditorias"
          ],
          [
           "Auditorias"
          ],
          [
           "Auditorias"
          ],
          [
           "Auditorias"
          ],
          [
           "Auditorias"
          ],
          [
           "Auditorias"
          ],
          [
           "Auditorias"
          ],
          [
           "Auditorias"
          ],
          [
           "Auditorias"
          ]
         ],
         "hovertemplate": "color=Auditorias<br>t-SNE Component 1=%{x}<br>t-SNE Component 2=%{y}<br>label=%{customdata[0]}<extra></extra>",
         "legendgroup": "Auditorias",
         "marker": {
          "color": "#636efa",
          "symbol": "circle"
         },
         "mode": "markers",
         "name": "Auditorias",
         "orientation": "v",
         "showlegend": true,
         "type": "scatter",
         "x": [
          -29.522005,
          -28.328104,
          -48.898136,
          -62.945786,
          -35.864758,
          -36.88671,
          -44.244984,
          -31.668556,
          -9.114127,
          -33.759636,
          -47.2254,
          -40.28141,
          -57.445217,
          -52.39255,
          -35.864758,
          -42.13071,
          -36.725674,
          11.360877,
          13.106334,
          79.1322,
          48.76743,
          56.99142,
          47.348328,
          52.681675,
          39.916183,
          35.594208,
          87.05245,
          81.19577,
          -44.68417,
          -27.963694
         ],
         "xaxis": "x",
         "y": [
          47.683784,
          39.76628,
          -27.20718,
          -22.175371,
          111.23981,
          3.6540344,
          -12.119301,
          -15.956362,
          6.4328527,
          -5.7240224,
          -40.541645,
          -29.133507,
          -32.811478,
          -21.636932,
          111.23981,
          1.1516087,
          -18.726244,
          31.40278,
          19.158226,
          70.89564,
          -65.49979,
          69.798996,
          -60.511055,
          72.950935,
          63.820366,
          60.815636,
          -14.166675,
          -15.832011,
          72.34676,
          -22.300085
         ],
         "yaxis": "y"
        },
        {
         "customdata": [
          [
           "Ausentismo"
          ],
          [
           "Ausentismo"
          ],
          [
           "Ausentismo"
          ],
          [
           "Ausentismo"
          ],
          [
           "Ausentismo"
          ],
          [
           "Ausentismo"
          ],
          [
           "Ausentismo"
          ],
          [
           "Ausentismo"
          ],
          [
           "Ausentismo"
          ],
          [
           "Ausentismo"
          ],
          [
           "Ausentismo"
          ],
          [
           "Ausentismo"
          ],
          [
           "Ausentismo"
          ],
          [
           "Ausentismo"
          ],
          [
           "Ausentismo"
          ],
          [
           "Ausentismo"
          ],
          [
           "Ausentismo"
          ],
          [
           "Ausentismo"
          ],
          [
           "Ausentismo"
          ],
          [
           "Ausentismo"
          ],
          [
           "Ausentismo"
          ],
          [
           "Ausentismo"
          ],
          [
           "Ausentismo"
          ],
          [
           "Ausentismo"
          ],
          [
           "Ausentismo"
          ],
          [
           "Ausentismo"
          ],
          [
           "Ausentismo"
          ],
          [
           "Ausentismo"
          ],
          [
           "Ausentismo"
          ],
          [
           "Ausentismo"
          ],
          [
           "Ausentismo"
          ],
          [
           "Ausentismo"
          ],
          [
           "Ausentismo"
          ],
          [
           "Ausentismo"
          ],
          [
           "Ausentismo"
          ],
          [
           "Ausentismo"
          ],
          [
           "Ausentismo"
          ],
          [
           "Ausentismo"
          ],
          [
           "Ausentismo"
          ],
          [
           "Ausentismo"
          ],
          [
           "Ausentismo"
          ],
          [
           "Ausentismo"
          ],
          [
           "Ausentismo"
          ],
          [
           "Ausentismo"
          ],
          [
           "Ausentismo"
          ]
         ],
         "hovertemplate": "color=Ausentismo<br>t-SNE Component 1=%{x}<br>t-SNE Component 2=%{y}<br>label=%{customdata[0]}<extra></extra>",
         "legendgroup": "Ausentismo",
         "marker": {
          "color": "#EF553B",
          "symbol": "circle"
         },
         "mode": "markers",
         "name": "Ausentismo",
         "orientation": "v",
         "showlegend": true,
         "type": "scatter",
         "x": [
          92.18419,
          28.322172,
          -31.233168,
          28.319181,
          24.510834,
          -2.4986494,
          39.460167,
          48.510944,
          10.27636,
          46.344635,
          11.843954,
          16.87766,
          -35.122578,
          51.57419,
          54.343506,
          -38.501118,
          39.636005,
          79.71526,
          68.20242,
          69.16743,
          -96.996704,
          61.53658,
          58.50162,
          -36.76761,
          -29.73244,
          -35.864758,
          43.672306,
          79.1322,
          30.180227,
          63.041084,
          56.26374,
          -96.996704,
          37.93908,
          31.552717,
          -30.837011,
          -77.26861,
          -65.112045,
          -6.7034574,
          -77.26861,
          -65.112045,
          -1.6260326,
          -2.8602633,
          -3.1588588,
          -66.47982,
          -96.996704
         ],
         "xaxis": "x",
         "y": [
          -61.11709,
          -106.07737,
          56.142544,
          -68.32098,
          14.469466,
          35.45819,
          -9.413782,
          -15.870484,
          57.594795,
          0.41058204,
          49.052483,
          48.779884,
          103.78578,
          12.418768,
          7.4714413,
          25.935078,
          -29.314178,
          -54.77845,
          -51.954052,
          -47.021935,
          74.46816,
          -9.719541,
          -5.158911,
          -54.95466,
          -52.06504,
          111.23981,
          13.687016,
          70.89564,
          -19.415712,
          -29.691671,
          -26.99592,
          74.46816,
          -22.363184,
          -11.22399,
          -32.626293,
          -53.09627,
          84.38623,
          99.77353,
          -53.09627,
          84.38623,
          103.225555,
          108.73087,
          49.224663,
          75.26597,
          74.46816
         ],
         "yaxis": "y"
        },
        {
         "customdata": [
          [
           "Estructura Organizativa"
          ],
          [
           "Estructura Organizativa"
          ],
          [
           "Estructura Organizativa"
          ],
          [
           "Estructura Organizativa"
          ],
          [
           "Estructura Organizativa"
          ],
          [
           "Estructura Organizativa"
          ],
          [
           "Estructura Organizativa"
          ],
          [
           "Estructura Organizativa"
          ],
          [
           "Estructura Organizativa"
          ],
          [
           "Estructura Organizativa"
          ],
          [
           "Estructura Organizativa"
          ],
          [
           "Estructura Organizativa"
          ],
          [
           "Estructura Organizativa"
          ],
          [
           "Estructura Organizativa"
          ],
          [
           "Estructura Organizativa"
          ],
          [
           "Estructura Organizativa"
          ],
          [
           "Estructura Organizativa"
          ],
          [
           "Estructura Organizativa"
          ],
          [
           "Estructura Organizativa"
          ],
          [
           "Estructura Organizativa"
          ],
          [
           "Estructura Organizativa"
          ],
          [
           "Estructura Organizativa"
          ],
          [
           "Estructura Organizativa"
          ],
          [
           "Estructura Organizativa"
          ],
          [
           "Estructura Organizativa"
          ],
          [
           "Estructura Organizativa"
          ],
          [
           "Estructura Organizativa"
          ],
          [
           "Estructura Organizativa"
          ],
          [
           "Estructura Organizativa"
          ],
          [
           "Estructura Organizativa"
          ],
          [
           "Estructura Organizativa"
          ],
          [
           "Estructura Organizativa"
          ],
          [
           "Estructura Organizativa"
          ],
          [
           "Estructura Organizativa"
          ],
          [
           "Estructura Organizativa"
          ],
          [
           "Estructura Organizativa"
          ],
          [
           "Estructura Organizativa"
          ],
          [
           "Estructura Organizativa"
          ],
          [
           "Estructura Organizativa"
          ],
          [
           "Estructura Organizativa"
          ],
          [
           "Estructura Organizativa"
          ],
          [
           "Estructura Organizativa"
          ],
          [
           "Estructura Organizativa"
          ],
          [
           "Estructura Organizativa"
          ],
          [
           "Estructura Organizativa"
          ],
          [
           "Estructura Organizativa"
          ],
          [
           "Estructura Organizativa"
          ],
          [
           "Estructura Organizativa"
          ],
          [
           "Estructura Organizativa"
          ],
          [
           "Estructura Organizativa"
          ],
          [
           "Estructura Organizativa"
          ],
          [
           "Estructura Organizativa"
          ],
          [
           "Estructura Organizativa"
          ],
          [
           "Estructura Organizativa"
          ],
          [
           "Estructura Organizativa"
          ],
          [
           "Estructura Organizativa"
          ],
          [
           "Estructura Organizativa"
          ],
          [
           "Estructura Organizativa"
          ],
          [
           "Estructura Organizativa"
          ],
          [
           "Estructura Organizativa"
          ],
          [
           "Estructura Organizativa"
          ],
          [
           "Estructura Organizativa"
          ],
          [
           "Estructura Organizativa"
          ],
          [
           "Estructura Organizativa"
          ],
          [
           "Estructura Organizativa"
          ],
          [
           "Estructura Organizativa"
          ],
          [
           "Estructura Organizativa"
          ],
          [
           "Estructura Organizativa"
          ],
          [
           "Estructura Organizativa"
          ],
          [
           "Estructura Organizativa"
          ],
          [
           "Estructura Organizativa"
          ],
          [
           "Estructura Organizativa"
          ],
          [
           "Estructura Organizativa"
          ],
          [
           "Estructura Organizativa"
          ],
          [
           "Estructura Organizativa"
          ],
          [
           "Estructura Organizativa"
          ],
          [
           "Estructura Organizativa"
          ]
         ],
         "hovertemplate": "color=Estructura Organizativa<br>t-SNE Component 1=%{x}<br>t-SNE Component 2=%{y}<br>label=%{customdata[0]}<extra></extra>",
         "legendgroup": "Estructura Organizativa",
         "marker": {
          "color": "#00cc96",
          "symbol": "circle"
         },
         "mode": "markers",
         "name": "Estructura Organizativa",
         "orientation": "v",
         "showlegend": true,
         "type": "scatter",
         "x": [
          92.18419,
          51.325207,
          28.322172,
          -22.889294,
          -62.909184,
          13.44838,
          -70.614174,
          -11.546927,
          28.965933,
          -33.463562,
          -14.107607,
          -5.8454924,
          -81.63753,
          18.959448,
          21.878794,
          24.76729,
          11.827838,
          1.8394891,
          88.08324,
          74.50345,
          22.446005,
          -17.953573,
          -34.77074,
          -3.1445663,
          69.02468,
          -12.747246,
          -93.90179,
          -5.3386307,
          15.359642,
          -21.504498,
          -39.951534,
          5.27575,
          19.623339,
          -82.4314,
          -115.77862,
          -79.97979,
          -87.472755,
          -64.175285,
          -88.99286,
          18.776705,
          -74.53832,
          -64.9629,
          -58.72263,
          103.39816,
          22.276403,
          -13.778374,
          -6.586483,
          -3.8297148,
          -115.77862,
          -72.99136,
          30.41844,
          64.987885,
          9.849901,
          -95.83864,
          -17.064182,
          76.22403,
          12.070798,
          -3.0212798,
          8.958038,
          12.074474,
          13.124886,
          4.7249866,
          5.381294,
          74.50345,
          19.222496,
          -90.73141,
          -20.718876,
          87.568954,
          20.164045,
          81.33061,
          79.03459,
          74.50345,
          21.717468,
          1.0685915,
          -25.756283,
          13.31941,
          15.3328705
         ],
         "xaxis": "x",
         "y": [
          -61.11709,
          43.663265,
          -106.07737,
          59.858356,
          27.466795,
          -72.764824,
          26.781395,
          -9.976949,
          -27.410473,
          -87.13959,
          -24.256865,
          -13.64579,
          20.310787,
          -10.167503,
          -15.513233,
          -50.441143,
          -16.9461,
          -15.252928,
          -3.294009,
          -85.12244,
          81.02329,
          -65.45812,
          -79.83453,
          -30.055153,
          4.1475086,
          -33.720383,
          -13.642546,
          -55.270836,
          -21.62837,
          -69.55681,
          -78.14072,
          -24.396502,
          -42.242958,
          -18.004496,
          -0.006045811,
          3.100435,
          6.977521,
          12.853688,
          -4.7912703,
          4.1193323,
          -4.0311766,
          -2.534841,
          -4.7481494,
          -59.816086,
          88.102554,
          -75.18941,
          -4.0483894,
          -21.135681,
          -0.006045811,
          8.995613,
          -37.64161,
          19.527311,
          -8.979328,
          38.10212,
          -15.321668,
          10.093724,
          -35.915886,
          -42.19879,
          -51.924465,
          -29.183107,
          77.141716,
          -43.61481,
          -33.008274,
          -85.12244,
          73.918976,
          38.748814,
          -10.567488,
          5.467137,
          -31.309914,
          2.9398785,
          -3.1341443,
          -85.12244,
          -24.110067,
          -5.9472394,
          3.8081243,
          -0.88405496,
          84.90256
         ],
         "yaxis": "y"
        },
        {
         "customdata": [
          [
           "Riesgos"
          ],
          [
           "Riesgos"
          ],
          [
           "Riesgos"
          ],
          [
           "Riesgos"
          ],
          [
           "Riesgos"
          ],
          [
           "Riesgos"
          ],
          [
           "Riesgos"
          ],
          [
           "Riesgos"
          ],
          [
           "Riesgos"
          ],
          [
           "Riesgos"
          ],
          [
           "Riesgos"
          ],
          [
           "Riesgos"
          ],
          [
           "Riesgos"
          ],
          [
           "Riesgos"
          ],
          [
           "Riesgos"
          ],
          [
           "Riesgos"
          ],
          [
           "Riesgos"
          ],
          [
           "Riesgos"
          ],
          [
           "Riesgos"
          ],
          [
           "Riesgos"
          ],
          [
           "Riesgos"
          ]
         ],
         "hovertemplate": "color=Riesgos<br>t-SNE Component 1=%{x}<br>t-SNE Component 2=%{y}<br>label=%{customdata[0]}<extra></extra>",
         "legendgroup": "Riesgos",
         "marker": {
          "color": "#ab63fa",
          "symbol": "circle"
         },
         "mode": "markers",
         "name": "Riesgos",
         "orientation": "v",
         "showlegend": true,
         "type": "scatter",
         "x": [
          92.18419,
          -9.866445,
          37.24331,
          53.06292,
          -36.524612,
          -27.927118,
          29.845167,
          26.178997,
          -80.32099,
          -16.789627,
          -40.84817,
          -46.72183,
          -39.028545,
          -7.6802526,
          2.7771611,
          80.10634,
          77.35026,
          45.94762,
          7.959159,
          -1.5144736,
          -39.66371
         ],
         "xaxis": "x",
         "y": [
          -61.11709,
          -103.62738,
          44.2525,
          48.677464,
          42.19576,
          14.805931,
          28.109392,
          31.716984,
          38.484356,
          -2.8114765,
          54.832855,
          13.742664,
          16.028654,
          23.753468,
          19.461102,
          40.64109,
          45.30797,
          81.55993,
          9.680335,
          10.970527,
          34.81132
         ],
         "yaxis": "y"
        },
        {
         "customdata": [
          [
           "Información"
          ],
          [
           "Información"
          ],
          [
           "Información"
          ],
          [
           "Información"
          ],
          [
           "Información"
          ],
          [
           "Información"
          ],
          [
           "Información"
          ],
          [
           "Información"
          ],
          [
           "Información"
          ]
         ],
         "hovertemplate": "color=Información<br>t-SNE Component 1=%{x}<br>t-SNE Component 2=%{y}<br>label=%{customdata[0]}<extra></extra>",
         "legendgroup": "Información",
         "marker": {
          "color": "#FFA15A",
          "symbol": "circle"
         },
         "mode": "markers",
         "name": "Información",
         "orientation": "v",
         "showlegend": true,
         "type": "scatter",
         "x": [
          92.18419,
          -9.866445,
          28.322172,
          -17.274189,
          40.30019,
          19.967012,
          43.3614,
          1.215123,
          -19.056604
         ],
         "xaxis": "x",
         "y": [
          -61.11709,
          -103.62738,
          -106.07737,
          56.7869,
          29.446001,
          -65.37039,
          -42.269867,
          3.4534876,
          -43.105396
         ],
         "yaxis": "y"
        },
        {
         "customdata": [
          [
           "Emergencia"
          ],
          [
           "Emergencia"
          ],
          [
           "Emergencia"
          ],
          [
           "Emergencia"
          ],
          [
           "Emergencia"
          ],
          [
           "Emergencia"
          ],
          [
           "Emergencia"
          ],
          [
           "Emergencia"
          ],
          [
           "Emergencia"
          ],
          [
           "Emergencia"
          ],
          [
           "Emergencia"
          ]
         ],
         "hovertemplate": "color=Emergencia<br>t-SNE Component 1=%{x}<br>t-SNE Component 2=%{y}<br>label=%{customdata[0]}<extra></extra>",
         "legendgroup": "Emergencia",
         "marker": {
          "color": "#19d3f3",
          "symbol": "circle"
         },
         "mode": "markers",
         "name": "Emergencia",
         "orientation": "v",
         "showlegend": true,
         "type": "scatter",
         "x": [
          -21.7104,
          -51.697395,
          -47.737663,
          23.956766,
          -26.506187,
          -19.09913,
          -17.681396,
          -16.099068,
          -10.288558,
          30.913519,
          25.822395
         ],
         "xaxis": "x",
         "y": [
          49.06069,
          37.926777,
          43.67744,
          -78.12335,
          26.19818,
          28.190226,
          6.6939955,
          16.421366,
          13.287332,
          0.8992819,
          -4.089567
         ],
         "yaxis": "y"
        },
        {
         "customdata": [
          [
           "Question: ¿Cómo se diferencia la ubicación física de la operativa?<br>Closest Model: Riesgos<br>Similarity: 0.70<br>Chunk: DOCUMENTOS\nEl usuario accede a la pestaña Documentos y visualiza el listado de informes generados ta..."
          ],
          [
           "Question: ¿Qué información se incluye en el informe de la evaluación de riesgos que ofrece la plataforma y cuál es su utilidad para la gestión de riesgos en la empresa?<br>Closest Model: Riesgos<br>Similarity: 0.88<br>Chunk: CONTENIDO\nSabentis es la nueva plataforma de gestión especializada en el ámbito de seguridad y salud..."
          ],
          [
           "Question: ¿Hay indicadores relativos al cumplimiento de normas?<br>Closest Model: Auditorias<br>Similarity: 0.71<br>Chunk: Versión  Fecha  Comentarios  Autor  1.0  29/09/2022  Redacción  Núria Zaragoza\nSabentis es la nueva ..."
          ],
          [
           "Question: ¿Qué papel juega la estructura organizativa en la funcionalidad general de la plataforma y cómo interactúa con otros módulos?<br>Closest Model: Estructura Organizativa<br>Similarity: 0.86<br>Chunk: El usuario puede acceder al módulo Estructura Organizativa (EO), desde las opciones:  •  La entrada ..."
          ],
          [
           "Question: ¿Qué permite realizar la evaluación de riesgos?<br>Closest Model: Riesgos<br>Similarity: 0.86<br>Chunk: CONTENIDO\nSabentis es la nueva plataforma de gestión especializada en el ámbito de seguridad y salud..."
          ],
          [
           "Question: ¿Qué tipo de documentos se pueden almacenar y compartir en el espacio denominado 'Documentos' y cuál es su importancia dentro del contexto de la gestión empresarial en la plataforma?<br>Closest Model: Información<br>Similarity: 0.87<br>Chunk: 3. REPOSITORIO DOCUMENTAL DE LA EMPRESA\nEl usuario accede al cardboard “Repositorio documental” y vi..."
          ],
          [
           "Question: ¿Se pueden llevar a cabo auditorías internas?<br>Closest Model: Emergencia<br>Similarity: 0.77<br>Chunk: La pestaña evaluación de aspectos legales permite al usuario evaluar los cuestionarios  aplicables a..."
          ],
          [
           "Question: ¿Cuál es la tasa de adopción de esta plataforma en el mercado?<br>Closest Model: Información<br>Similarity: 0.72<br>Chunk: Sabentis es la nueva plataforma de gestión especializada en el ámbito de Seguridad y Salud en  el Tr..."
          ],
          [
           "Question: ¿Cómo se compara esta plataforma con otras soluciones de gestión de SST?<br>Closest Model: Estructura Organizativa<br>Similarity: 0.84<br>Chunk: Sabentis es la nueva plataforma de gestión especializada en el ámbito de Seguridad y Salud  en el Tr..."
          ],
          [
           "Question: ¿Qué día hará mañana?<br>Closest Model: Estructura Organizativa<br>Similarity: 0.63<br>Chunk: Documento  Manual de uso: Estructura organizativa (GE).  Descripción  Manual guía de usuario del mód..."
          ]
         ],
         "hovertemplate": "color=Question<br>t-SNE Component 1=%{x}<br>t-SNE Component 2=%{y}<br>label=%{customdata[0]}<extra></extra>",
         "legendgroup": "Question",
         "marker": {
          "color": "#FF6692",
          "symbol": "circle"
         },
         "mode": "markers",
         "name": "Question",
         "orientation": "v",
         "showlegend": true,
         "type": "scatter",
         "x": [
          -68.30394,
          -29.281471,
          -52.845196,
          5.997587,
          -47.788555,
          -8.895907,
          -59.18331,
          -15.13603,
          -17.406689,
          59.037
         ],
         "xaxis": "x",
         "y": [
          53.165752,
          69.11666,
          57.123436,
          -76.08271,
          26.810408,
          75.784225,
          41.942345,
          40.16654,
          67.178665,
          39.487713
         ],
         "yaxis": "y"
        }
       ],
       "layout": {
        "annotations": [
         {
          "arrowhead": 2,
          "showarrow": true,
          "text": "Q1",
          "x": -68.30393981933594,
          "y": 53.16575241088867
         },
         {
          "arrowhead": 2,
          "showarrow": true,
          "text": "Q2",
          "x": -29.281471252441406,
          "y": 69.11666107177734
         },
         {
          "arrowhead": 2,
          "showarrow": true,
          "text": "Q3",
          "x": -52.84519577026367,
          "y": 57.123435974121094
         },
         {
          "arrowhead": 2,
          "showarrow": true,
          "text": "Q4",
          "x": 5.997587203979492,
          "y": -76.08271026611328
         },
         {
          "arrowhead": 2,
          "showarrow": true,
          "text": "Q5",
          "x": -47.78855514526367,
          "y": 26.810407638549805
         },
         {
          "arrowhead": 2,
          "showarrow": true,
          "text": "Q6",
          "x": -8.895907402038574,
          "y": 75.78422546386719
         },
         {
          "arrowhead": 2,
          "showarrow": true,
          "text": "Q7",
          "x": -59.183311462402344,
          "y": 41.942344665527344
         },
         {
          "arrowhead": 2,
          "showarrow": true,
          "text": "Q8",
          "x": -15.136030197143555,
          "y": 40.16653823852539
         },
         {
          "arrowhead": 2,
          "showarrow": true,
          "text": "Q9",
          "x": -17.406688690185547,
          "y": 67.17866516113281
         },
         {
          "arrowhead": 2,
          "showarrow": true,
          "text": "Q10",
          "x": 59.0369987487793,
          "y": 39.48771286010742
         }
        ],
        "legend": {
         "title": {
          "text": "color"
         },
         "tracegroupgap": 0
        },
        "template": {
         "data": {
          "bar": [
           {
            "error_x": {
             "color": "#2a3f5f"
            },
            "error_y": {
             "color": "#2a3f5f"
            },
            "marker": {
             "line": {
              "color": "#E5ECF6",
              "width": 0.5
             },
             "pattern": {
              "fillmode": "overlay",
              "size": 10,
              "solidity": 0.2
             }
            },
            "type": "bar"
           }
          ],
          "barpolar": [
           {
            "marker": {
             "line": {
              "color": "#E5ECF6",
              "width": 0.5
             },
             "pattern": {
              "fillmode": "overlay",
              "size": 10,
              "solidity": 0.2
             }
            },
            "type": "barpolar"
           }
          ],
          "carpet": [
           {
            "aaxis": {
             "endlinecolor": "#2a3f5f",
             "gridcolor": "white",
             "linecolor": "white",
             "minorgridcolor": "white",
             "startlinecolor": "#2a3f5f"
            },
            "baxis": {
             "endlinecolor": "#2a3f5f",
             "gridcolor": "white",
             "linecolor": "white",
             "minorgridcolor": "white",
             "startlinecolor": "#2a3f5f"
            },
            "type": "carpet"
           }
          ],
          "choropleth": [
           {
            "colorbar": {
             "outlinewidth": 0,
             "ticks": ""
            },
            "type": "choropleth"
           }
          ],
          "contour": [
           {
            "colorbar": {
             "outlinewidth": 0,
             "ticks": ""
            },
            "colorscale": [
             [
              0,
              "#0d0887"
             ],
             [
              0.1111111111111111,
              "#46039f"
             ],
             [
              0.2222222222222222,
              "#7201a8"
             ],
             [
              0.3333333333333333,
              "#9c179e"
             ],
             [
              0.4444444444444444,
              "#bd3786"
             ],
             [
              0.5555555555555556,
              "#d8576b"
             ],
             [
              0.6666666666666666,
              "#ed7953"
             ],
             [
              0.7777777777777778,
              "#fb9f3a"
             ],
             [
              0.8888888888888888,
              "#fdca26"
             ],
             [
              1,
              "#f0f921"
             ]
            ],
            "type": "contour"
           }
          ],
          "contourcarpet": [
           {
            "colorbar": {
             "outlinewidth": 0,
             "ticks": ""
            },
            "type": "contourcarpet"
           }
          ],
          "heatmap": [
           {
            "colorbar": {
             "outlinewidth": 0,
             "ticks": ""
            },
            "colorscale": [
             [
              0,
              "#0d0887"
             ],
             [
              0.1111111111111111,
              "#46039f"
             ],
             [
              0.2222222222222222,
              "#7201a8"
             ],
             [
              0.3333333333333333,
              "#9c179e"
             ],
             [
              0.4444444444444444,
              "#bd3786"
             ],
             [
              0.5555555555555556,
              "#d8576b"
             ],
             [
              0.6666666666666666,
              "#ed7953"
             ],
             [
              0.7777777777777778,
              "#fb9f3a"
             ],
             [
              0.8888888888888888,
              "#fdca26"
             ],
             [
              1,
              "#f0f921"
             ]
            ],
            "type": "heatmap"
           }
          ],
          "heatmapgl": [
           {
            "colorbar": {
             "outlinewidth": 0,
             "ticks": ""
            },
            "colorscale": [
             [
              0,
              "#0d0887"
             ],
             [
              0.1111111111111111,
              "#46039f"
             ],
             [
              0.2222222222222222,
              "#7201a8"
             ],
             [
              0.3333333333333333,
              "#9c179e"
             ],
             [
              0.4444444444444444,
              "#bd3786"
             ],
             [
              0.5555555555555556,
              "#d8576b"
             ],
             [
              0.6666666666666666,
              "#ed7953"
             ],
             [
              0.7777777777777778,
              "#fb9f3a"
             ],
             [
              0.8888888888888888,
              "#fdca26"
             ],
             [
              1,
              "#f0f921"
             ]
            ],
            "type": "heatmapgl"
           }
          ],
          "histogram": [
           {
            "marker": {
             "pattern": {
              "fillmode": "overlay",
              "size": 10,
              "solidity": 0.2
             }
            },
            "type": "histogram"
           }
          ],
          "histogram2d": [
           {
            "colorbar": {
             "outlinewidth": 0,
             "ticks": ""
            },
            "colorscale": [
             [
              0,
              "#0d0887"
             ],
             [
              0.1111111111111111,
              "#46039f"
             ],
             [
              0.2222222222222222,
              "#7201a8"
             ],
             [
              0.3333333333333333,
              "#9c179e"
             ],
             [
              0.4444444444444444,
              "#bd3786"
             ],
             [
              0.5555555555555556,
              "#d8576b"
             ],
             [
              0.6666666666666666,
              "#ed7953"
             ],
             [
              0.7777777777777778,
              "#fb9f3a"
             ],
             [
              0.8888888888888888,
              "#fdca26"
             ],
             [
              1,
              "#f0f921"
             ]
            ],
            "type": "histogram2d"
           }
          ],
          "histogram2dcontour": [
           {
            "colorbar": {
             "outlinewidth": 0,
             "ticks": ""
            },
            "colorscale": [
             [
              0,
              "#0d0887"
             ],
             [
              0.1111111111111111,
              "#46039f"
             ],
             [
              0.2222222222222222,
              "#7201a8"
             ],
             [
              0.3333333333333333,
              "#9c179e"
             ],
             [
              0.4444444444444444,
              "#bd3786"
             ],
             [
              0.5555555555555556,
              "#d8576b"
             ],
             [
              0.6666666666666666,
              "#ed7953"
             ],
             [
              0.7777777777777778,
              "#fb9f3a"
             ],
             [
              0.8888888888888888,
              "#fdca26"
             ],
             [
              1,
              "#f0f921"
             ]
            ],
            "type": "histogram2dcontour"
           }
          ],
          "mesh3d": [
           {
            "colorbar": {
             "outlinewidth": 0,
             "ticks": ""
            },
            "type": "mesh3d"
           }
          ],
          "parcoords": [
           {
            "line": {
             "colorbar": {
              "outlinewidth": 0,
              "ticks": ""
             }
            },
            "type": "parcoords"
           }
          ],
          "pie": [
           {
            "automargin": true,
            "type": "pie"
           }
          ],
          "scatter": [
           {
            "fillpattern": {
             "fillmode": "overlay",
             "size": 10,
             "solidity": 0.2
            },
            "type": "scatter"
           }
          ],
          "scatter3d": [
           {
            "line": {
             "colorbar": {
              "outlinewidth": 0,
              "ticks": ""
             }
            },
            "marker": {
             "colorbar": {
              "outlinewidth": 0,
              "ticks": ""
             }
            },
            "type": "scatter3d"
           }
          ],
          "scattercarpet": [
           {
            "marker": {
             "colorbar": {
              "outlinewidth": 0,
              "ticks": ""
             }
            },
            "type": "scattercarpet"
           }
          ],
          "scattergeo": [
           {
            "marker": {
             "colorbar": {
              "outlinewidth": 0,
              "ticks": ""
             }
            },
            "type": "scattergeo"
           }
          ],
          "scattergl": [
           {
            "marker": {
             "colorbar": {
              "outlinewidth": 0,
              "ticks": ""
             }
            },
            "type": "scattergl"
           }
          ],
          "scattermapbox": [
           {
            "marker": {
             "colorbar": {
              "outlinewidth": 0,
              "ticks": ""
             }
            },
            "type": "scattermapbox"
           }
          ],
          "scatterpolar": [
           {
            "marker": {
             "colorbar": {
              "outlinewidth": 0,
              "ticks": ""
             }
            },
            "type": "scatterpolar"
           }
          ],
          "scatterpolargl": [
           {
            "marker": {
             "colorbar": {
              "outlinewidth": 0,
              "ticks": ""
             }
            },
            "type": "scatterpolargl"
           }
          ],
          "scatterternary": [
           {
            "marker": {
             "colorbar": {
              "outlinewidth": 0,
              "ticks": ""
             }
            },
            "type": "scatterternary"
           }
          ],
          "surface": [
           {
            "colorbar": {
             "outlinewidth": 0,
             "ticks": ""
            },
            "colorscale": [
             [
              0,
              "#0d0887"
             ],
             [
              0.1111111111111111,
              "#46039f"
             ],
             [
              0.2222222222222222,
              "#7201a8"
             ],
             [
              0.3333333333333333,
              "#9c179e"
             ],
             [
              0.4444444444444444,
              "#bd3786"
             ],
             [
              0.5555555555555556,
              "#d8576b"
             ],
             [
              0.6666666666666666,
              "#ed7953"
             ],
             [
              0.7777777777777778,
              "#fb9f3a"
             ],
             [
              0.8888888888888888,
              "#fdca26"
             ],
             [
              1,
              "#f0f921"
             ]
            ],
            "type": "surface"
           }
          ],
          "table": [
           {
            "cells": {
             "fill": {
              "color": "#EBF0F8"
             },
             "line": {
              "color": "white"
             }
            },
            "header": {
             "fill": {
              "color": "#C8D4E3"
             },
             "line": {
              "color": "white"
             }
            },
            "type": "table"
           }
          ]
         },
         "layout": {
          "annotationdefaults": {
           "arrowcolor": "#2a3f5f",
           "arrowhead": 0,
           "arrowwidth": 1
          },
          "autotypenumbers": "strict",
          "coloraxis": {
           "colorbar": {
            "outlinewidth": 0,
            "ticks": ""
           }
          },
          "colorscale": {
           "diverging": [
            [
             0,
             "#8e0152"
            ],
            [
             0.1,
             "#c51b7d"
            ],
            [
             0.2,
             "#de77ae"
            ],
            [
             0.3,
             "#f1b6da"
            ],
            [
             0.4,
             "#fde0ef"
            ],
            [
             0.5,
             "#f7f7f7"
            ],
            [
             0.6,
             "#e6f5d0"
            ],
            [
             0.7,
             "#b8e186"
            ],
            [
             0.8,
             "#7fbc41"
            ],
            [
             0.9,
             "#4d9221"
            ],
            [
             1,
             "#276419"
            ]
           ],
           "sequential": [
            [
             0,
             "#0d0887"
            ],
            [
             0.1111111111111111,
             "#46039f"
            ],
            [
             0.2222222222222222,
             "#7201a8"
            ],
            [
             0.3333333333333333,
             "#9c179e"
            ],
            [
             0.4444444444444444,
             "#bd3786"
            ],
            [
             0.5555555555555556,
             "#d8576b"
            ],
            [
             0.6666666666666666,
             "#ed7953"
            ],
            [
             0.7777777777777778,
             "#fb9f3a"
            ],
            [
             0.8888888888888888,
             "#fdca26"
            ],
            [
             1,
             "#f0f921"
            ]
           ],
           "sequentialminus": [
            [
             0,
             "#0d0887"
            ],
            [
             0.1111111111111111,
             "#46039f"
            ],
            [
             0.2222222222222222,
             "#7201a8"
            ],
            [
             0.3333333333333333,
             "#9c179e"
            ],
            [
             0.4444444444444444,
             "#bd3786"
            ],
            [
             0.5555555555555556,
             "#d8576b"
            ],
            [
             0.6666666666666666,
             "#ed7953"
            ],
            [
             0.7777777777777778,
             "#fb9f3a"
            ],
            [
             0.8888888888888888,
             "#fdca26"
            ],
            [
             1,
             "#f0f921"
            ]
           ]
          },
          "colorway": [
           "#636efa",
           "#EF553B",
           "#00cc96",
           "#ab63fa",
           "#FFA15A",
           "#19d3f3",
           "#FF6692",
           "#B6E880",
           "#FF97FF",
           "#FECB52"
          ],
          "font": {
           "color": "#2a3f5f"
          },
          "geo": {
           "bgcolor": "white",
           "lakecolor": "white",
           "landcolor": "#E5ECF6",
           "showlakes": true,
           "showland": true,
           "subunitcolor": "white"
          },
          "hoverlabel": {
           "align": "left"
          },
          "hovermode": "closest",
          "mapbox": {
           "style": "light"
          },
          "paper_bgcolor": "white",
          "plot_bgcolor": "#E5ECF6",
          "polar": {
           "angularaxis": {
            "gridcolor": "white",
            "linecolor": "white",
            "ticks": ""
           },
           "bgcolor": "#E5ECF6",
           "radialaxis": {
            "gridcolor": "white",
            "linecolor": "white",
            "ticks": ""
           }
          },
          "scene": {
           "xaxis": {
            "backgroundcolor": "#E5ECF6",
            "gridcolor": "white",
            "gridwidth": 2,
            "linecolor": "white",
            "showbackground": true,
            "ticks": "",
            "zerolinecolor": "white"
           },
           "yaxis": {
            "backgroundcolor": "#E5ECF6",
            "gridcolor": "white",
            "gridwidth": 2,
            "linecolor": "white",
            "showbackground": true,
            "ticks": "",
            "zerolinecolor": "white"
           },
           "zaxis": {
            "backgroundcolor": "#E5ECF6",
            "gridcolor": "white",
            "gridwidth": 2,
            "linecolor": "white",
            "showbackground": true,
            "ticks": "",
            "zerolinecolor": "white"
           }
          },
          "shapedefaults": {
           "line": {
            "color": "#2a3f5f"
           }
          },
          "ternary": {
           "aaxis": {
            "gridcolor": "white",
            "linecolor": "white",
            "ticks": ""
           },
           "baxis": {
            "gridcolor": "white",
            "linecolor": "white",
            "ticks": ""
           },
           "bgcolor": "#E5ECF6",
           "caxis": {
            "gridcolor": "white",
            "linecolor": "white",
            "ticks": ""
           }
          },
          "title": {
           "x": 0.05
          },
          "xaxis": {
           "automargin": true,
           "gridcolor": "white",
           "linecolor": "white",
           "ticks": "",
           "title": {
            "standoff": 15
           },
           "zerolinecolor": "white",
           "zerolinewidth": 2
          },
          "yaxis": {
           "automargin": true,
           "gridcolor": "white",
           "linecolor": "white",
           "ticks": "",
           "title": {
            "standoff": 15
           },
           "zerolinecolor": "white",
           "zerolinewidth": 2
          }
         }
        },
        "title": {
         "text": "Embeddings Visualization with 2D t-SNE"
        },
        "xaxis": {
         "anchor": "y",
         "domain": [
          0,
          1
         ],
         "title": {
          "text": "t-SNE Component 1"
         }
        },
        "yaxis": {
         "anchor": "x",
         "domain": [
          0,
          1
         ],
         "title": {
          "text": "t-SNE Component 2"
         }
        }
       }
      }
     },
     "metadata": {},
     "output_type": "display_data"
    },
    {
     "data": {
      "application/vnd.plotly.v1+json": {
       "config": {
        "plotlyServerURL": "https://plot.ly"
       },
       "data": [
        {
         "customdata": [
          [
           "Auditorias"
          ],
          [
           "Auditorias"
          ],
          [
           "Auditorias"
          ],
          [
           "Auditorias"
          ],
          [
           "Auditorias"
          ],
          [
           "Auditorias"
          ],
          [
           "Auditorias"
          ],
          [
           "Auditorias"
          ],
          [
           "Auditorias"
          ],
          [
           "Auditorias"
          ],
          [
           "Auditorias"
          ],
          [
           "Auditorias"
          ],
          [
           "Auditorias"
          ],
          [
           "Auditorias"
          ],
          [
           "Auditorias"
          ],
          [
           "Auditorias"
          ],
          [
           "Auditorias"
          ],
          [
           "Auditorias"
          ],
          [
           "Auditorias"
          ],
          [
           "Auditorias"
          ],
          [
           "Auditorias"
          ],
          [
           "Auditorias"
          ],
          [
           "Auditorias"
          ],
          [
           "Auditorias"
          ],
          [
           "Auditorias"
          ],
          [
           "Auditorias"
          ],
          [
           "Auditorias"
          ],
          [
           "Auditorias"
          ],
          [
           "Auditorias"
          ],
          [
           "Auditorias"
          ]
         ],
         "hovertemplate": "color=Auditorias<br>PCA Component 1=%{x}<br>PCA Component 2=%{y}<br>PCA Component 3=%{z}<br>label=%{customdata[0]}<extra></extra>",
         "legendgroup": "Auditorias",
         "marker": {
          "color": "#636efa",
          "symbol": "circle"
         },
         "mode": "markers",
         "name": "Auditorias",
         "scene": "scene",
         "showlegend": true,
         "type": "scatter3d",
         "x": [
          -0.052444547,
          -0.19224973,
          -0.20323475,
          0.14081632,
          -0.3414985,
          -0.11217057,
          -0.27851325,
          -0.19050492,
          -0.18058899,
          -0.14303105,
          -0.30506963,
          -0.13422564,
          -0.11913497,
          -0.1644733,
          -0.3415015,
          -0.10612544,
          -0.23256557,
          -0.49486986,
          -0.311664,
          -1.0506867,
          -0.19571103,
          -0.27680627,
          -0.19571103,
          -0.018846055,
          -0.098226294,
          -0.11145629,
          -0.43599603,
          -0.37528962,
          0.04965692,
          -0.28757188
         ],
         "y": [
          -0.18464488,
          -0.1936503,
          -0.10349806,
          -0.071725555,
          -0.8380425,
          -0.10365521,
          -0.0053624804,
          -0.11549992,
          -0.061742187,
          -0.11230143,
          0.034488805,
          0.09634092,
          -0.09435962,
          -0.19904512,
          -0.8380411,
          -0.066238165,
          -0.108752415,
          -0.11855685,
          -0.037372693,
          0.109982826,
          0.16845733,
          -0.33926392,
          0.16845733,
          -0.48901266,
          -0.26611218,
          -0.22896218,
          -0.018517403,
          -0.017599633,
          -0.011176321,
          -0.13041224
         ],
         "z": [
          0.023115238,
          0.09948696,
          -0.017904108,
          -0.1801492,
          1.4921275,
          -0.028973792,
          0.3001987,
          -0.058761425,
          -0.020306667,
          -0.08408495,
          0.018620852,
          -0.18248342,
          -0.2310971,
          0.042858668,
          1.4921271,
          -0.067574695,
          -0.03468004,
          0.66642684,
          -0.017493352,
          1.7573152,
          0.039293695,
          1.073103,
          0.039293695,
          0.84503216,
          0.30577686,
          0.21590102,
          -0.1779938,
          -0.18048297,
          -0.19790642,
          -0.12051973
         ]
        },
        {
         "customdata": [
          [
           "Ausentismo"
          ],
          [
           "Ausentismo"
          ],
          [
           "Ausentismo"
          ],
          [
           "Ausentismo"
          ],
          [
           "Ausentismo"
          ],
          [
           "Ausentismo"
          ],
          [
           "Ausentismo"
          ],
          [
           "Ausentismo"
          ],
          [
           "Ausentismo"
          ],
          [
           "Ausentismo"
          ],
          [
           "Ausentismo"
          ],
          [
           "Ausentismo"
          ],
          [
           "Ausentismo"
          ],
          [
           "Ausentismo"
          ],
          [
           "Ausentismo"
          ],
          [
           "Ausentismo"
          ],
          [
           "Ausentismo"
          ],
          [
           "Ausentismo"
          ],
          [
           "Ausentismo"
          ],
          [
           "Ausentismo"
          ],
          [
           "Ausentismo"
          ],
          [
           "Ausentismo"
          ],
          [
           "Ausentismo"
          ],
          [
           "Ausentismo"
          ],
          [
           "Ausentismo"
          ],
          [
           "Ausentismo"
          ],
          [
           "Ausentismo"
          ],
          [
           "Ausentismo"
          ],
          [
           "Ausentismo"
          ],
          [
           "Ausentismo"
          ],
          [
           "Ausentismo"
          ],
          [
           "Ausentismo"
          ],
          [
           "Ausentismo"
          ],
          [
           "Ausentismo"
          ],
          [
           "Ausentismo"
          ],
          [
           "Ausentismo"
          ],
          [
           "Ausentismo"
          ],
          [
           "Ausentismo"
          ],
          [
           "Ausentismo"
          ],
          [
           "Ausentismo"
          ],
          [
           "Ausentismo"
          ],
          [
           "Ausentismo"
          ],
          [
           "Ausentismo"
          ],
          [
           "Ausentismo"
          ],
          [
           "Ausentismo"
          ]
         ],
         "hovertemplate": "color=Ausentismo<br>PCA Component 1=%{x}<br>PCA Component 2=%{y}<br>PCA Component 3=%{z}<br>label=%{customdata[0]}<extra></extra>",
         "legendgroup": "Ausentismo",
         "marker": {
          "color": "#EF553B",
          "symbol": "circle"
         },
         "mode": "markers",
         "name": "Ausentismo",
         "scene": "scene",
         "showlegend": true,
         "type": "scatter3d",
         "x": [
          0.11391813,
          -0.77049893,
          0.30307797,
          -0.15322931,
          0.24392892,
          0.11864338,
          -0.07942969,
          -0.107331045,
          0.91220254,
          -0.016753977,
          0.18766929,
          0.09947412,
          -0.3415015,
          -0.17004596,
          -0.15371688,
          0.035382103,
          -0.2432897,
          0.111882634,
          0.005005762,
          0.33527222,
          3.3076708,
          0.20596375,
          0.08666726,
          0.543258,
          -0.040244825,
          -0.3415015,
          -0.07153869,
          -1.0506867,
          -0.10088426,
          0.024993727,
          -0.04428449,
          3.3076708,
          -0.1315029,
          -0.10933212,
          -0.2654692,
          0.7647131,
          0.6848787,
          0.6352019,
          0.7647131,
          0.6848787,
          1.2356491,
          1.1219277,
          1.0364842,
          0.9309276,
          3.3076708
         ],
         "y": [
          1.7070984,
          0.48910972,
          -0.27889532,
          -0.20321389,
          -0.21140946,
          -0.1580076,
          -0.0641767,
          -0.04430154,
          0.0731306,
          -0.10399449,
          -0.14024569,
          -0.2565449,
          -0.8380412,
          -0.1410534,
          -0.07467353,
          -0.32629696,
          0.03686612,
          1.2731371,
          0.47461495,
          0.43287846,
          0.057251077,
          0.060783383,
          0.060919,
          1.223661,
          0.149825,
          -0.8380412,
          -0.15726328,
          0.109982826,
          0.034243822,
          0.09985977,
          0.015803145,
          0.057251077,
          0.026723748,
          -0.005083024,
          -0.0048158383,
          -0.35860124,
          -0.6032675,
          -0.20592019,
          -0.35860124,
          -0.6032675,
          -0.3399901,
          -0.38981134,
          -0.3516866,
          -0.39911282,
          0.057251077
         ],
         "z": [
          0.41485164,
          -1.100122,
          0.16005695,
          -0.17888696,
          0.117665574,
          0.030817227,
          -0.10504766,
          0.0920772,
          -0.14071578,
          -0.21292305,
          -0.24782388,
          0.042168073,
          1.4921271,
          -0.07703343,
          -0.22647731,
          0.12066122,
          -0.102125086,
          0.0151661,
          -0.16125031,
          -0.06476824,
          0.80356914,
          -0.23195562,
          -0.2717836,
          0.021424673,
          -0.24814238,
          1.4921271,
          -0.05365699,
          1.7573152,
          -0.13053167,
          0.904566,
          0.47068784,
          0.80356914,
          -0.14264876,
          -0.11086691,
          -0.34241152,
          -0.4056406,
          0.10900878,
          -0.14236827,
          -0.4056406,
          0.10900878,
          -0.00900613,
          0.07272082,
          0.42799616,
          -0.09603903,
          0.80356914
         ]
        },
        {
         "customdata": [
          [
           "Estructura Organizativa"
          ],
          [
           "Estructura Organizativa"
          ],
          [
           "Estructura Organizativa"
          ],
          [
           "Estructura Organizativa"
          ],
          [
           "Estructura Organizativa"
          ],
          [
           "Estructura Organizativa"
          ],
          [
           "Estructura Organizativa"
          ],
          [
           "Estructura Organizativa"
          ],
          [
           "Estructura Organizativa"
          ],
          [
           "Estructura Organizativa"
          ],
          [
           "Estructura Organizativa"
          ],
          [
           "Estructura Organizativa"
          ],
          [
           "Estructura Organizativa"
          ],
          [
           "Estructura Organizativa"
          ],
          [
           "Estructura Organizativa"
          ],
          [
           "Estructura Organizativa"
          ],
          [
           "Estructura Organizativa"
          ],
          [
           "Estructura Organizativa"
          ],
          [
           "Estructura Organizativa"
          ],
          [
           "Estructura Organizativa"
          ],
          [
           "Estructura Organizativa"
          ],
          [
           "Estructura Organizativa"
          ],
          [
           "Estructura Organizativa"
          ],
          [
           "Estructura Organizativa"
          ],
          [
           "Estructura Organizativa"
          ],
          [
           "Estructura Organizativa"
          ],
          [
           "Estructura Organizativa"
          ],
          [
           "Estructura Organizativa"
          ],
          [
           "Estructura Organizativa"
          ],
          [
           "Estructura Organizativa"
          ],
          [
           "Estructura Organizativa"
          ],
          [
           "Estructura Organizativa"
          ],
          [
           "Estructura Organizativa"
          ],
          [
           "Estructura Organizativa"
          ],
          [
           "Estructura Organizativa"
          ],
          [
           "Estructura Organizativa"
          ],
          [
           "Estructura Organizativa"
          ],
          [
           "Estructura Organizativa"
          ],
          [
           "Estructura Organizativa"
          ],
          [
           "Estructura Organizativa"
          ],
          [
           "Estructura Organizativa"
          ],
          [
           "Estructura Organizativa"
          ],
          [
           "Estructura Organizativa"
          ],
          [
           "Estructura Organizativa"
          ],
          [
           "Estructura Organizativa"
          ],
          [
           "Estructura Organizativa"
          ],
          [
           "Estructura Organizativa"
          ],
          [
           "Estructura Organizativa"
          ],
          [
           "Estructura Organizativa"
          ],
          [
           "Estructura Organizativa"
          ],
          [
           "Estructura Organizativa"
          ],
          [
           "Estructura Organizativa"
          ],
          [
           "Estructura Organizativa"
          ],
          [
           "Estructura Organizativa"
          ],
          [
           "Estructura Organizativa"
          ],
          [
           "Estructura Organizativa"
          ],
          [
           "Estructura Organizativa"
          ],
          [
           "Estructura Organizativa"
          ],
          [
           "Estructura Organizativa"
          ],
          [
           "Estructura Organizativa"
          ],
          [
           "Estructura Organizativa"
          ],
          [
           "Estructura Organizativa"
          ],
          [
           "Estructura Organizativa"
          ],
          [
           "Estructura Organizativa"
          ],
          [
           "Estructura Organizativa"
          ],
          [
           "Estructura Organizativa"
          ],
          [
           "Estructura Organizativa"
          ],
          [
           "Estructura Organizativa"
          ],
          [
           "Estructura Organizativa"
          ],
          [
           "Estructura Organizativa"
          ],
          [
           "Estructura Organizativa"
          ],
          [
           "Estructura Organizativa"
          ],
          [
           "Estructura Organizativa"
          ],
          [
           "Estructura Organizativa"
          ],
          [
           "Estructura Organizativa"
          ],
          [
           "Estructura Organizativa"
          ],
          [
           "Estructura Organizativa"
          ]
         ],
         "hovertemplate": "color=Estructura Organizativa<br>PCA Component 1=%{x}<br>PCA Component 2=%{y}<br>PCA Component 3=%{z}<br>label=%{customdata[0]}<extra></extra>",
         "legendgroup": "Estructura Organizativa",
         "marker": {
          "color": "#00cc96",
          "symbol": "circle"
         },
         "mode": "markers",
         "name": "Estructura Organizativa",
         "scene": "scene",
         "showlegend": true,
         "type": "scatter3d",
         "x": [
          0.11391813,
          -0.46746275,
          -0.77049893,
          -0.15851791,
          0.03343723,
          -0.31814626,
          0.04496727,
          -0.22411902,
          -0.2417126,
          -0.22280122,
          -0.092232294,
          -0.1469905,
          1.2506812,
          -0.19068296,
          -0.22612828,
          -0.29769936,
          -0.14386886,
          -0.12974142,
          -0.39001742,
          0.10771977,
          0.015757577,
          -0.16880105,
          -0.1588488,
          -0.09595531,
          -0.3011027,
          0.03813255,
          0.40829584,
          -0.118614405,
          -0.16962762,
          -0.13718817,
          -0.07269733,
          -0.15398625,
          -0.15995488,
          0.18001562,
          0.881389,
          0.38305452,
          0.27876043,
          0.41756606,
          0.4739668,
          -0.18932612,
          0.32302585,
          0.062497783,
          -0.05049682,
          0.08124538,
          -0.077270485,
          -0.18616624,
          -0.24426407,
          -0.027652636,
          0.881389,
          0.12934774,
          -0.06899338,
          -0.07236619,
          -0.06756446,
          0.21878059,
          -0.17843217,
          -0.2627128,
          -0.18291211,
          -0.27501407,
          -0.21209033,
          -0.23542854,
          -0.08943434,
          -0.23328154,
          -0.19131525,
          0.10771977,
          -0.055205993,
          0.31207943,
          -0.16092432,
          -0.28371274,
          -0.26332805,
          -0.3104845,
          -0.29057014,
          0.10771977,
          -0.24105674,
          -0.16050096,
          -0.1490248,
          -0.15108559,
          -0.02529071
         ],
         "y": [
          1.7070984,
          -0.17546897,
          0.48910972,
          -0.30453438,
          -0.25606984,
          -0.20619832,
          -0.09419316,
          -0.08339311,
          0.13920192,
          -0.082304865,
          -0.07545526,
          -0.119968444,
          -0.5339791,
          -0.014422734,
          -0.011897069,
          -0.15661646,
          0.12838669,
          -0.07377898,
          -0.028747309,
          2.5283425,
          0.26569623,
          -0.16440062,
          -0.02778672,
          0.049557168,
          -0.006298306,
          -0.029864235,
          -0.11860189,
          -0.008031661,
          0.101788566,
          -0.16167793,
          -0.07733404,
          0.049007133,
          -0.019894017,
          -0.2643731,
          -0.10696883,
          -0.060611308,
          -0.23756407,
          -0.24040098,
          -0.17104094,
          -0.17200257,
          0.07541424,
          0.12382799,
          0.15286532,
          1.7329237,
          0.38044518,
          -0.1019787,
          -0.10127418,
          -0.0575736,
          -0.10696883,
          -0.13714436,
          0.1328325,
          -0.003992256,
          -0.026316358,
          -0.3933334,
          -0.12067048,
          -0.034635082,
          0.060690686,
          -0.07377921,
          -0.12318835,
          0.07443765,
          0.23689863,
          -0.017824536,
          0.059195943,
          2.5283425,
          0.26458457,
          -0.321915,
          -0.08386313,
          0.027388653,
          0.07485418,
          0.04237314,
          0.16075262,
          2.5283425,
          0.09509868,
          -0.019618472,
          -0.14490396,
          -0.04747051,
          0.31807727
         ],
         "z": [
          0.41485164,
          0.5184019,
          -1.100122,
          0.08627664,
          -0.10197784,
          -0.09184334,
          -0.15219061,
          -0.100155376,
          -0.16513349,
          -0.1935507,
          -0.1515548,
          -0.091537416,
          -0.45343757,
          -0.2336151,
          -0.21815616,
          -0.32671285,
          -0.26415795,
          -0.19691503,
          -0.2784971,
          0.5215684,
          -0.2783874,
          -0.237883,
          -0.31908095,
          -0.18879195,
          -0.31975722,
          -0.21195237,
          -0.33428404,
          -0.4313626,
          -0.24555156,
          -0.22017486,
          -0.27423435,
          -0.24311656,
          -0.213871,
          -0.2963084,
          -1.0107062,
          -0.3788724,
          -0.43954918,
          -0.25905913,
          -0.5953057,
          -0.22846103,
          -0.38915437,
          -0.3663358,
          -0.42779455,
          0.6332356,
          -0.23783036,
          -0.17484164,
          -0.006596602,
          -0.18853337,
          -1.0107062,
          -0.2079245,
          -0.20656113,
          -0.33421683,
          -0.19058846,
          -0.29670686,
          -0.1334465,
          -0.38252705,
          -0.12889236,
          -0.06782009,
          -0.39725512,
          -0.14123027,
          -0.19826598,
          -0.1860364,
          -0.2115676,
          0.5215684,
          -0.28935236,
          -0.43602496,
          -0.11259914,
          -0.4571049,
          -0.12928563,
          -0.43659696,
          -0.3909702,
          0.5215684,
          -0.15966506,
          -0.1496986,
          -0.026997037,
          -0.22771683,
          -0.2635244
         ]
        },
        {
         "customdata": [
          [
           "Riesgos"
          ],
          [
           "Riesgos"
          ],
          [
           "Riesgos"
          ],
          [
           "Riesgos"
          ],
          [
           "Riesgos"
          ],
          [
           "Riesgos"
          ],
          [
           "Riesgos"
          ],
          [
           "Riesgos"
          ],
          [
           "Riesgos"
          ],
          [
           "Riesgos"
          ],
          [
           "Riesgos"
          ],
          [
           "Riesgos"
          ],
          [
           "Riesgos"
          ],
          [
           "Riesgos"
          ],
          [
           "Riesgos"
          ],
          [
           "Riesgos"
          ],
          [
           "Riesgos"
          ],
          [
           "Riesgos"
          ],
          [
           "Riesgos"
          ],
          [
           "Riesgos"
          ],
          [
           "Riesgos"
          ]
         ],
         "hovertemplate": "color=Riesgos<br>PCA Component 1=%{x}<br>PCA Component 2=%{y}<br>PCA Component 3=%{z}<br>label=%{customdata[0]}<extra></extra>",
         "legendgroup": "Riesgos",
         "marker": {
          "color": "#ab63fa",
          "symbol": "circle"
         },
         "mode": "markers",
         "name": "Riesgos",
         "scene": "scene",
         "showlegend": true,
         "type": "scatter3d",
         "x": [
          0.11391813,
          -0.27675712,
          -0.32628337,
          -0.6625945,
          0.00880332,
          -0.08863448,
          -0.39161196,
          -0.2848283,
          0.30248177,
          -0.18810442,
          0.43764156,
          0.12893514,
          -0.010646589,
          -0.025649004,
          -0.17836842,
          -0.41625795,
          -0.108374484,
          0.91790324,
          -0.059377797,
          -0.2284944,
          0.041695356
         ],
         "y": [
          1.7070984,
          -0.3495345,
          -0.024675068,
          -0.25812298,
          -0.29507992,
          -0.17155641,
          -0.1042942,
          -0.099414304,
          -0.07257472,
          -0.20023976,
          -0.42637208,
          -0.15275136,
          -0.19569124,
          0.09677537,
          -0.18160227,
          -0.14918408,
          -0.20704919,
          -0.39993325,
          -0.005856056,
          -0.09569358,
          -0.21203366
         ],
         "z": [
          0.41485164,
          0.60223675,
          0.38883683,
          0.4389658,
          0.11059489,
          -0.029180575,
          0.25329882,
          0.17271589,
          -0.27049038,
          -0.16047056,
          -0.023277244,
          -0.3720502,
          -0.100125276,
          -0.28546327,
          -0.042733148,
          0.27992284,
          0.24937624,
          0.14755458,
          -0.047738794,
          0.06252957,
          -0.009953384
         ]
        },
        {
         "customdata": [
          [
           "Información"
          ],
          [
           "Información"
          ],
          [
           "Información"
          ],
          [
           "Información"
          ],
          [
           "Información"
          ],
          [
           "Información"
          ],
          [
           "Información"
          ],
          [
           "Información"
          ],
          [
           "Información"
          ]
         ],
         "hovertemplate": "color=Información<br>PCA Component 1=%{x}<br>PCA Component 2=%{y}<br>PCA Component 3=%{z}<br>label=%{customdata[0]}<extra></extra>",
         "legendgroup": "Información",
         "marker": {
          "color": "#FFA15A",
          "symbol": "circle"
         },
         "mode": "markers",
         "name": "Información",
         "scene": "scene",
         "showlegend": true,
         "type": "scatter3d",
         "x": [
          0.11391813,
          -0.27675712,
          -0.77049893,
          -0.2263785,
          -0.53980744,
          -0.5079578,
          -0.6002361,
          -0.14787121,
          -0.20920548
         ],
         "y": [
          1.7070984,
          -0.3495345,
          0.48910972,
          -0.15514271,
          0.29606834,
          -0.04766224,
          0.03633993,
          0.07027786,
          0.09504804
         ],
         "z": [
          0.41485164,
          0.60223675,
          -1.100122,
          0.16462597,
          1.1713682,
          0.1593424,
          0.17208852,
          0.0014897056,
          0.09484589
         ]
        },
        {
         "customdata": [
          [
           "Emergencia"
          ],
          [
           "Emergencia"
          ],
          [
           "Emergencia"
          ],
          [
           "Emergencia"
          ],
          [
           "Emergencia"
          ],
          [
           "Emergencia"
          ],
          [
           "Emergencia"
          ],
          [
           "Emergencia"
          ],
          [
           "Emergencia"
          ],
          [
           "Emergencia"
          ],
          [
           "Emergencia"
          ]
         ],
         "hovertemplate": "color=Emergencia<br>PCA Component 1=%{x}<br>PCA Component 2=%{y}<br>PCA Component 3=%{z}<br>label=%{customdata[0]}<extra></extra>",
         "legendgroup": "Emergencia",
         "marker": {
          "color": "#19d3f3",
          "symbol": "circle"
         },
         "mode": "markers",
         "name": "Emergencia",
         "scene": "scene",
         "showlegend": true,
         "type": "scatter3d",
         "x": [
          -0.1175729,
          0.21662943,
          0.08598771,
          -0.24990548,
          0.057762977,
          -0.03590703,
          -0.15883245,
          -0.11374739,
          -0.113210686,
          -0.2651644,
          -0.2330233
         ],
         "y": [
          -0.26769498,
          -0.20095116,
          -0.25214738,
          -0.19048105,
          -0.08375739,
          -0.12593196,
          -0.16159706,
          -0.12742378,
          -0.11997992,
          0.026056051,
          -0.022335717
         ],
         "z": [
          0.15681839,
          -0.081673816,
          0.14186123,
          -0.09160468,
          -0.07049213,
          0.13703978,
          -0.03911379,
          -0.078539625,
          -0.076396115,
          -0.13747068,
          -0.2547777
         ]
        },
        {
         "customdata": [
          [
           "Question: ¿Cómo se diferencia la ubicación física de la operativa?<br>Closest Model: Riesgos<br>Similarity: 0.70<br>Chunk: DOCUMENTOS\nEl usuario accede a la pestaña Documentos y visualiza el listado de informes generados ta..."
          ],
          [
           "Question: ¿Qué información se incluye en el informe de la evaluación de riesgos que ofrece la plataforma y cuál es su utilidad para la gestión de riesgos en la empresa?<br>Closest Model: Riesgos<br>Similarity: 0.88<br>Chunk: CONTENIDO\nSabentis es la nueva plataforma de gestión especializada en el ámbito de seguridad y salud..."
          ],
          [
           "Question: ¿Hay indicadores relativos al cumplimiento de normas?<br>Closest Model: Auditorias<br>Similarity: 0.71<br>Chunk: Versión  Fecha  Comentarios  Autor  1.0  29/09/2022  Redacción  Núria Zaragoza\nSabentis es la nueva ..."
          ],
          [
           "Question: ¿Qué papel juega la estructura organizativa en la funcionalidad general de la plataforma y cómo interactúa con otros módulos?<br>Closest Model: Estructura Organizativa<br>Similarity: 0.86<br>Chunk: El usuario puede acceder al módulo Estructura Organizativa (EO), desde las opciones:  •  La entrada ..."
          ],
          [
           "Question: ¿Qué permite realizar la evaluación de riesgos?<br>Closest Model: Riesgos<br>Similarity: 0.86<br>Chunk: CONTENIDO\nSabentis es la nueva plataforma de gestión especializada en el ámbito de seguridad y salud..."
          ],
          [
           "Question: ¿Qué tipo de documentos se pueden almacenar y compartir en el espacio denominado 'Documentos' y cuál es su importancia dentro del contexto de la gestión empresarial en la plataforma?<br>Closest Model: Información<br>Similarity: 0.87<br>Chunk: 3. REPOSITORIO DOCUMENTAL DE LA EMPRESA\nEl usuario accede al cardboard “Repositorio documental” y vi..."
          ],
          [
           "Question: ¿Se pueden llevar a cabo auditorías internas?<br>Closest Model: Emergencia<br>Similarity: 0.77<br>Chunk: La pestaña evaluación de aspectos legales permite al usuario evaluar los cuestionarios  aplicables a..."
          ],
          [
           "Question: ¿Cuál es la tasa de adopción de esta plataforma en el mercado?<br>Closest Model: Información<br>Similarity: 0.72<br>Chunk: Sabentis es la nueva plataforma de gestión especializada en el ámbito de Seguridad y Salud en  el Tr..."
          ],
          [
           "Question: ¿Cómo se compara esta plataforma con otras soluciones de gestión de SST?<br>Closest Model: Estructura Organizativa<br>Similarity: 0.84<br>Chunk: Sabentis es la nueva plataforma de gestión especializada en el ámbito de Seguridad y Salud  en el Tr..."
          ],
          [
           "Question: ¿Qué día hará mañana?<br>Closest Model: Estructura Organizativa<br>Similarity: 0.63<br>Chunk: Documento  Manual de uso: Estructura organizativa (GE).  Descripción  Manual guía de usuario del mód..."
          ]
         ],
         "hovertemplate": "color=Question<br>PCA Component 1=%{x}<br>PCA Component 2=%{y}<br>PCA Component 3=%{z}<br>label=%{customdata[0]}<extra></extra>",
         "legendgroup": "Question",
         "marker": {
          "color": "#FF6692",
          "symbol": "circle"
         },
         "mode": "markers",
         "name": "Question",
         "scene": "scene",
         "showlegend": true,
         "type": "scatter3d",
         "x": [
          -0.28758565,
          -0.16001411,
          0.5239876,
          -0.29693615,
          0.0855951,
          -0.18165609,
          0.3050268,
          -0.034642026,
          -0.44171375,
          -0.6426304
         ],
         "y": [
          -0.6211244,
          -0.16184439,
          0.2856797,
          -0.17688219,
          -0.2567163,
          0.22497363,
          -0.13201836,
          -0.26298404,
          -0.33773002,
          -0.7143853
         ],
         "z": [
          0.6515343,
          0.32899487,
          -0.005309366,
          -0.22031516,
          0.041565686,
          -0.12277588,
          -0.22166173,
          -0.061581858,
          0.17240384,
          1.1009768
         ]
        },
        {
         "mode": "markers+text",
         "showlegend": false,
         "text": "Q1",
         "textposition": "top center",
         "type": "scatter3d",
         "x": [
          -0.28758564591407776
         ],
         "y": [
          -0.6211243867874146
         ],
         "z": [
          0.6515343189239502
         ]
        },
        {
         "mode": "markers+text",
         "showlegend": false,
         "text": "Q2",
         "textposition": "top center",
         "type": "scatter3d",
         "x": [
          -0.1600141078233719
         ],
         "y": [
          -0.1618443876504898
         ],
         "z": [
          0.32899487018585205
         ]
        },
        {
         "mode": "markers+text",
         "showlegend": false,
         "text": "Q3",
         "textposition": "top center",
         "type": "scatter3d",
         "x": [
          0.5239875912666321
         ],
         "y": [
          0.2856796979904175
         ],
         "z": [
          -0.005309366155415773
         ]
        },
        {
         "mode": "markers+text",
         "showlegend": false,
         "text": "Q4",
         "textposition": "top center",
         "type": "scatter3d",
         "x": [
          -0.29693615436553955
         ],
         "y": [
          -0.17688219249248505
         ],
         "z": [
          -0.22031515836715698
         ]
        },
        {
         "mode": "markers+text",
         "showlegend": false,
         "text": "Q5",
         "textposition": "top center",
         "type": "scatter3d",
         "x": [
          0.08559510111808777
         ],
         "y": [
          -0.2567163109779358
         ],
         "z": [
          0.04156568646430969
         ]
        },
        {
         "mode": "markers+text",
         "showlegend": false,
         "text": "Q6",
         "textposition": "top center",
         "type": "scatter3d",
         "x": [
          -0.1816560924053192
         ],
         "y": [
          0.2249736338853836
         ],
         "z": [
          -0.12277588248252869
         ]
        },
        {
         "mode": "markers+text",
         "showlegend": false,
         "text": "Q7",
         "textposition": "top center",
         "type": "scatter3d",
         "x": [
          0.3050267994403839
         ],
         "y": [
          -0.13201835751533508
         ],
         "z": [
          -0.2216617316007614
         ]
        },
        {
         "mode": "markers+text",
         "showlegend": false,
         "text": "Q8",
         "textposition": "top center",
         "type": "scatter3d",
         "x": [
          -0.03464202582836151
         ],
         "y": [
          -0.262984037399292
         ],
         "z": [
          -0.06158185750246048
         ]
        },
        {
         "mode": "markers+text",
         "showlegend": false,
         "text": "Q9",
         "textposition": "top center",
         "type": "scatter3d",
         "x": [
          -0.44171375036239624
         ],
         "y": [
          -0.3377300202846527
         ],
         "z": [
          0.17240384221076965
         ]
        },
        {
         "mode": "markers+text",
         "showlegend": false,
         "text": "Q10",
         "textposition": "top center",
         "type": "scatter3d",
         "x": [
          -0.642630398273468
         ],
         "y": [
          -0.7143852710723877
         ],
         "z": [
          1.100976824760437
         ]
        }
       ],
       "layout": {
        "legend": {
         "title": {
          "text": "color"
         },
         "tracegroupgap": 0
        },
        "scene": {
         "domain": {
          "x": [
           0,
           1
          ],
          "y": [
           0,
           1
          ]
         },
         "xaxis": {
          "title": {
           "text": "PCA Component 1"
          }
         },
         "yaxis": {
          "title": {
           "text": "PCA Component 2"
          }
         },
         "zaxis": {
          "title": {
           "text": "PCA Component 3"
          }
         }
        },
        "template": {
         "data": {
          "bar": [
           {
            "error_x": {
             "color": "#2a3f5f"
            },
            "error_y": {
             "color": "#2a3f5f"
            },
            "marker": {
             "line": {
              "color": "#E5ECF6",
              "width": 0.5
             },
             "pattern": {
              "fillmode": "overlay",
              "size": 10,
              "solidity": 0.2
             }
            },
            "type": "bar"
           }
          ],
          "barpolar": [
           {
            "marker": {
             "line": {
              "color": "#E5ECF6",
              "width": 0.5
             },
             "pattern": {
              "fillmode": "overlay",
              "size": 10,
              "solidity": 0.2
             }
            },
            "type": "barpolar"
           }
          ],
          "carpet": [
           {
            "aaxis": {
             "endlinecolor": "#2a3f5f",
             "gridcolor": "white",
             "linecolor": "white",
             "minorgridcolor": "white",
             "startlinecolor": "#2a3f5f"
            },
            "baxis": {
             "endlinecolor": "#2a3f5f",
             "gridcolor": "white",
             "linecolor": "white",
             "minorgridcolor": "white",
             "startlinecolor": "#2a3f5f"
            },
            "type": "carpet"
           }
          ],
          "choropleth": [
           {
            "colorbar": {
             "outlinewidth": 0,
             "ticks": ""
            },
            "type": "choropleth"
           }
          ],
          "contour": [
           {
            "colorbar": {
             "outlinewidth": 0,
             "ticks": ""
            },
            "colorscale": [
             [
              0,
              "#0d0887"
             ],
             [
              0.1111111111111111,
              "#46039f"
             ],
             [
              0.2222222222222222,
              "#7201a8"
             ],
             [
              0.3333333333333333,
              "#9c179e"
             ],
             [
              0.4444444444444444,
              "#bd3786"
             ],
             [
              0.5555555555555556,
              "#d8576b"
             ],
             [
              0.6666666666666666,
              "#ed7953"
             ],
             [
              0.7777777777777778,
              "#fb9f3a"
             ],
             [
              0.8888888888888888,
              "#fdca26"
             ],
             [
              1,
              "#f0f921"
             ]
            ],
            "type": "contour"
           }
          ],
          "contourcarpet": [
           {
            "colorbar": {
             "outlinewidth": 0,
             "ticks": ""
            },
            "type": "contourcarpet"
           }
          ],
          "heatmap": [
           {
            "colorbar": {
             "outlinewidth": 0,
             "ticks": ""
            },
            "colorscale": [
             [
              0,
              "#0d0887"
             ],
             [
              0.1111111111111111,
              "#46039f"
             ],
             [
              0.2222222222222222,
              "#7201a8"
             ],
             [
              0.3333333333333333,
              "#9c179e"
             ],
             [
              0.4444444444444444,
              "#bd3786"
             ],
             [
              0.5555555555555556,
              "#d8576b"
             ],
             [
              0.6666666666666666,
              "#ed7953"
             ],
             [
              0.7777777777777778,
              "#fb9f3a"
             ],
             [
              0.8888888888888888,
              "#fdca26"
             ],
             [
              1,
              "#f0f921"
             ]
            ],
            "type": "heatmap"
           }
          ],
          "heatmapgl": [
           {
            "colorbar": {
             "outlinewidth": 0,
             "ticks": ""
            },
            "colorscale": [
             [
              0,
              "#0d0887"
             ],
             [
              0.1111111111111111,
              "#46039f"
             ],
             [
              0.2222222222222222,
              "#7201a8"
             ],
             [
              0.3333333333333333,
              "#9c179e"
             ],
             [
              0.4444444444444444,
              "#bd3786"
             ],
             [
              0.5555555555555556,
              "#d8576b"
             ],
             [
              0.6666666666666666,
              "#ed7953"
             ],
             [
              0.7777777777777778,
              "#fb9f3a"
             ],
             [
              0.8888888888888888,
              "#fdca26"
             ],
             [
              1,
              "#f0f921"
             ]
            ],
            "type": "heatmapgl"
           }
          ],
          "histogram": [
           {
            "marker": {
             "pattern": {
              "fillmode": "overlay",
              "size": 10,
              "solidity": 0.2
             }
            },
            "type": "histogram"
           }
          ],
          "histogram2d": [
           {
            "colorbar": {
             "outlinewidth": 0,
             "ticks": ""
            },
            "colorscale": [
             [
              0,
              "#0d0887"
             ],
             [
              0.1111111111111111,
              "#46039f"
             ],
             [
              0.2222222222222222,
              "#7201a8"
             ],
             [
              0.3333333333333333,
              "#9c179e"
             ],
             [
              0.4444444444444444,
              "#bd3786"
             ],
             [
              0.5555555555555556,
              "#d8576b"
             ],
             [
              0.6666666666666666,
              "#ed7953"
             ],
             [
              0.7777777777777778,
              "#fb9f3a"
             ],
             [
              0.8888888888888888,
              "#fdca26"
             ],
             [
              1,
              "#f0f921"
             ]
            ],
            "type": "histogram2d"
           }
          ],
          "histogram2dcontour": [
           {
            "colorbar": {
             "outlinewidth": 0,
             "ticks": ""
            },
            "colorscale": [
             [
              0,
              "#0d0887"
             ],
             [
              0.1111111111111111,
              "#46039f"
             ],
             [
              0.2222222222222222,
              "#7201a8"
             ],
             [
              0.3333333333333333,
              "#9c179e"
             ],
             [
              0.4444444444444444,
              "#bd3786"
             ],
             [
              0.5555555555555556,
              "#d8576b"
             ],
             [
              0.6666666666666666,
              "#ed7953"
             ],
             [
              0.7777777777777778,
              "#fb9f3a"
             ],
             [
              0.8888888888888888,
              "#fdca26"
             ],
             [
              1,
              "#f0f921"
             ]
            ],
            "type": "histogram2dcontour"
           }
          ],
          "mesh3d": [
           {
            "colorbar": {
             "outlinewidth": 0,
             "ticks": ""
            },
            "type": "mesh3d"
           }
          ],
          "parcoords": [
           {
            "line": {
             "colorbar": {
              "outlinewidth": 0,
              "ticks": ""
             }
            },
            "type": "parcoords"
           }
          ],
          "pie": [
           {
            "automargin": true,
            "type": "pie"
           }
          ],
          "scatter": [
           {
            "fillpattern": {
             "fillmode": "overlay",
             "size": 10,
             "solidity": 0.2
            },
            "type": "scatter"
           }
          ],
          "scatter3d": [
           {
            "line": {
             "colorbar": {
              "outlinewidth": 0,
              "ticks": ""
             }
            },
            "marker": {
             "colorbar": {
              "outlinewidth": 0,
              "ticks": ""
             }
            },
            "type": "scatter3d"
           }
          ],
          "scattercarpet": [
           {
            "marker": {
             "colorbar": {
              "outlinewidth": 0,
              "ticks": ""
             }
            },
            "type": "scattercarpet"
           }
          ],
          "scattergeo": [
           {
            "marker": {
             "colorbar": {
              "outlinewidth": 0,
              "ticks": ""
             }
            },
            "type": "scattergeo"
           }
          ],
          "scattergl": [
           {
            "marker": {
             "colorbar": {
              "outlinewidth": 0,
              "ticks": ""
             }
            },
            "type": "scattergl"
           }
          ],
          "scattermapbox": [
           {
            "marker": {
             "colorbar": {
              "outlinewidth": 0,
              "ticks": ""
             }
            },
            "type": "scattermapbox"
           }
          ],
          "scatterpolar": [
           {
            "marker": {
             "colorbar": {
              "outlinewidth": 0,
              "ticks": ""
             }
            },
            "type": "scatterpolar"
           }
          ],
          "scatterpolargl": [
           {
            "marker": {
             "colorbar": {
              "outlinewidth": 0,
              "ticks": ""
             }
            },
            "type": "scatterpolargl"
           }
          ],
          "scatterternary": [
           {
            "marker": {
             "colorbar": {
              "outlinewidth": 0,
              "ticks": ""
             }
            },
            "type": "scatterternary"
           }
          ],
          "surface": [
           {
            "colorbar": {
             "outlinewidth": 0,
             "ticks": ""
            },
            "colorscale": [
             [
              0,
              "#0d0887"
             ],
             [
              0.1111111111111111,
              "#46039f"
             ],
             [
              0.2222222222222222,
              "#7201a8"
             ],
             [
              0.3333333333333333,
              "#9c179e"
             ],
             [
              0.4444444444444444,
              "#bd3786"
             ],
             [
              0.5555555555555556,
              "#d8576b"
             ],
             [
              0.6666666666666666,
              "#ed7953"
             ],
             [
              0.7777777777777778,
              "#fb9f3a"
             ],
             [
              0.8888888888888888,
              "#fdca26"
             ],
             [
              1,
              "#f0f921"
             ]
            ],
            "type": "surface"
           }
          ],
          "table": [
           {
            "cells": {
             "fill": {
              "color": "#EBF0F8"
             },
             "line": {
              "color": "white"
             }
            },
            "header": {
             "fill": {
              "color": "#C8D4E3"
             },
             "line": {
              "color": "white"
             }
            },
            "type": "table"
           }
          ]
         },
         "layout": {
          "annotationdefaults": {
           "arrowcolor": "#2a3f5f",
           "arrowhead": 0,
           "arrowwidth": 1
          },
          "autotypenumbers": "strict",
          "coloraxis": {
           "colorbar": {
            "outlinewidth": 0,
            "ticks": ""
           }
          },
          "colorscale": {
           "diverging": [
            [
             0,
             "#8e0152"
            ],
            [
             0.1,
             "#c51b7d"
            ],
            [
             0.2,
             "#de77ae"
            ],
            [
             0.3,
             "#f1b6da"
            ],
            [
             0.4,
             "#fde0ef"
            ],
            [
             0.5,
             "#f7f7f7"
            ],
            [
             0.6,
             "#e6f5d0"
            ],
            [
             0.7,
             "#b8e186"
            ],
            [
             0.8,
             "#7fbc41"
            ],
            [
             0.9,
             "#4d9221"
            ],
            [
             1,
             "#276419"
            ]
           ],
           "sequential": [
            [
             0,
             "#0d0887"
            ],
            [
             0.1111111111111111,
             "#46039f"
            ],
            [
             0.2222222222222222,
             "#7201a8"
            ],
            [
             0.3333333333333333,
             "#9c179e"
            ],
            [
             0.4444444444444444,
             "#bd3786"
            ],
            [
             0.5555555555555556,
             "#d8576b"
            ],
            [
             0.6666666666666666,
             "#ed7953"
            ],
            [
             0.7777777777777778,
             "#fb9f3a"
            ],
            [
             0.8888888888888888,
             "#fdca26"
            ],
            [
             1,
             "#f0f921"
            ]
           ],
           "sequentialminus": [
            [
             0,
             "#0d0887"
            ],
            [
             0.1111111111111111,
             "#46039f"
            ],
            [
             0.2222222222222222,
             "#7201a8"
            ],
            [
             0.3333333333333333,
             "#9c179e"
            ],
            [
             0.4444444444444444,
             "#bd3786"
            ],
            [
             0.5555555555555556,
             "#d8576b"
            ],
            [
             0.6666666666666666,
             "#ed7953"
            ],
            [
             0.7777777777777778,
             "#fb9f3a"
            ],
            [
             0.8888888888888888,
             "#fdca26"
            ],
            [
             1,
             "#f0f921"
            ]
           ]
          },
          "colorway": [
           "#636efa",
           "#EF553B",
           "#00cc96",
           "#ab63fa",
           "#FFA15A",
           "#19d3f3",
           "#FF6692",
           "#B6E880",
           "#FF97FF",
           "#FECB52"
          ],
          "font": {
           "color": "#2a3f5f"
          },
          "geo": {
           "bgcolor": "white",
           "lakecolor": "white",
           "landcolor": "#E5ECF6",
           "showlakes": true,
           "showland": true,
           "subunitcolor": "white"
          },
          "hoverlabel": {
           "align": "left"
          },
          "hovermode": "closest",
          "mapbox": {
           "style": "light"
          },
          "paper_bgcolor": "white",
          "plot_bgcolor": "#E5ECF6",
          "polar": {
           "angularaxis": {
            "gridcolor": "white",
            "linecolor": "white",
            "ticks": ""
           },
           "bgcolor": "#E5ECF6",
           "radialaxis": {
            "gridcolor": "white",
            "linecolor": "white",
            "ticks": ""
           }
          },
          "scene": {
           "xaxis": {
            "backgroundcolor": "#E5ECF6",
            "gridcolor": "white",
            "gridwidth": 2,
            "linecolor": "white",
            "showbackground": true,
            "ticks": "",
            "zerolinecolor": "white"
           },
           "yaxis": {
            "backgroundcolor": "#E5ECF6",
            "gridcolor": "white",
            "gridwidth": 2,
            "linecolor": "white",
            "showbackground": true,
            "ticks": "",
            "zerolinecolor": "white"
           },
           "zaxis": {
            "backgroundcolor": "#E5ECF6",
            "gridcolor": "white",
            "gridwidth": 2,
            "linecolor": "white",
            "showbackground": true,
            "ticks": "",
            "zerolinecolor": "white"
           }
          },
          "shapedefaults": {
           "line": {
            "color": "#2a3f5f"
           }
          },
          "ternary": {
           "aaxis": {
            "gridcolor": "white",
            "linecolor": "white",
            "ticks": ""
           },
           "baxis": {
            "gridcolor": "white",
            "linecolor": "white",
            "ticks": ""
           },
           "bgcolor": "#E5ECF6",
           "caxis": {
            "gridcolor": "white",
            "linecolor": "white",
            "ticks": ""
           }
          },
          "title": {
           "x": 0.05
          },
          "xaxis": {
           "automargin": true,
           "gridcolor": "white",
           "linecolor": "white",
           "ticks": "",
           "title": {
            "standoff": 15
           },
           "zerolinecolor": "white",
           "zerolinewidth": 2
          },
          "yaxis": {
           "automargin": true,
           "gridcolor": "white",
           "linecolor": "white",
           "ticks": "",
           "title": {
            "standoff": 15
           },
           "zerolinecolor": "white",
           "zerolinewidth": 2
          }
         }
        },
        "title": {
         "text": "Embeddings Visualization with 3D PCA"
        }
       }
      }
     },
     "metadata": {},
     "output_type": "display_data"
    },
    {
     "data": {
      "application/vnd.plotly.v1+json": {
       "config": {
        "plotlyServerURL": "https://plot.ly"
       },
       "data": [
        {
         "customdata": [
          [
           "Auditorias"
          ],
          [
           "Auditorias"
          ],
          [
           "Auditorias"
          ],
          [
           "Auditorias"
          ],
          [
           "Auditorias"
          ],
          [
           "Auditorias"
          ],
          [
           "Auditorias"
          ],
          [
           "Auditorias"
          ],
          [
           "Auditorias"
          ],
          [
           "Auditorias"
          ],
          [
           "Auditorias"
          ],
          [
           "Auditorias"
          ],
          [
           "Auditorias"
          ],
          [
           "Auditorias"
          ],
          [
           "Auditorias"
          ],
          [
           "Auditorias"
          ],
          [
           "Auditorias"
          ],
          [
           "Auditorias"
          ],
          [
           "Auditorias"
          ],
          [
           "Auditorias"
          ],
          [
           "Auditorias"
          ],
          [
           "Auditorias"
          ],
          [
           "Auditorias"
          ],
          [
           "Auditorias"
          ],
          [
           "Auditorias"
          ],
          [
           "Auditorias"
          ],
          [
           "Auditorias"
          ],
          [
           "Auditorias"
          ],
          [
           "Auditorias"
          ],
          [
           "Auditorias"
          ]
         ],
         "hovertemplate": "color=Auditorias<br>t-SNE Component 1=%{x}<br>t-SNE Component 2=%{y}<br>t-SNE Component 3=%{z}<br>label=%{customdata[0]}<extra></extra>",
         "legendgroup": "Auditorias",
         "marker": {
          "color": "#636efa",
          "symbol": "circle"
         },
         "mode": "markers",
         "name": "Auditorias",
         "scene": "scene",
         "showlegend": true,
         "type": "scatter3d",
         "x": [
          55.381237,
          46.921364,
          -9.997046,
          29.370607,
          84.90366,
          17.27063,
          59.421757,
          41.27397,
          20.026543,
          28.51249,
          -98.76966,
          31.644926,
          47.628147,
          38.87092,
          84.90366,
          21.118689,
          33.161934,
          -7.745376,
          -27.390856,
          25.086796,
          -75.686714,
          -33.757156,
          -65.873665,
          -40.70745,
          -16.45449,
          -24.00753,
          28.834425,
          15.898454,
          65.12728,
          59.494938
         ],
         "y": [
          -32.42886,
          -32.949585,
          46.165497,
          -73.9545,
          3.0375493,
          -39.37561,
          -77.7295,
          -29.288342,
          -17.417685,
          -36.739136,
          -0.94601935,
          -45.68966,
          -67.63804,
          -56.405563,
          3.0375493,
          -47.096832,
          -27.191338,
          -51.448868,
          -33.802692,
          49.682957,
          -34.74033,
          -64.93465,
          -45.2751,
          -70.26946,
          -63.55637,
          -53.466686,
          74.79278,
          72.46095,
          -27.211504,
          -26.417452
         ],
         "z": [
          33.82943,
          16.90101,
          14.721902,
          -22.118479,
          4.5316205,
          -18.926378,
          -2.2254794,
          -20.600492,
          -6.8384204,
          1.6035483,
          -9.000515,
          -56.752777,
          -41.92506,
          -12.392315,
          4.5316205,
          -31.904724,
          -69.98872,
          51.735203,
          42.796318,
          80.801346,
          -39.481277,
          42.959354,
          -43.24948,
          30.777239,
          18.860573,
          10.906893,
          -48.664722,
          -58.386097,
          1.5921984,
          -19.3104
         ]
        },
        {
         "customdata": [
          [
           "Ausentismo"
          ],
          [
           "Ausentismo"
          ],
          [
           "Ausentismo"
          ],
          [
           "Ausentismo"
          ],
          [
           "Ausentismo"
          ],
          [
           "Ausentismo"
          ],
          [
           "Ausentismo"
          ],
          [
           "Ausentismo"
          ],
          [
           "Ausentismo"
          ],
          [
           "Ausentismo"
          ],
          [
           "Ausentismo"
          ],
          [
           "Ausentismo"
          ],
          [
           "Ausentismo"
          ],
          [
           "Ausentismo"
          ],
          [
           "Ausentismo"
          ],
          [
           "Ausentismo"
          ],
          [
           "Ausentismo"
          ],
          [
           "Ausentismo"
          ],
          [
           "Ausentismo"
          ],
          [
           "Ausentismo"
          ],
          [
           "Ausentismo"
          ],
          [
           "Ausentismo"
          ],
          [
           "Ausentismo"
          ],
          [
           "Ausentismo"
          ],
          [
           "Ausentismo"
          ],
          [
           "Ausentismo"
          ],
          [
           "Ausentismo"
          ],
          [
           "Ausentismo"
          ],
          [
           "Ausentismo"
          ],
          [
           "Ausentismo"
          ],
          [
           "Ausentismo"
          ],
          [
           "Ausentismo"
          ],
          [
           "Ausentismo"
          ],
          [
           "Ausentismo"
          ],
          [
           "Ausentismo"
          ],
          [
           "Ausentismo"
          ],
          [
           "Ausentismo"
          ],
          [
           "Ausentismo"
          ],
          [
           "Ausentismo"
          ],
          [
           "Ausentismo"
          ],
          [
           "Ausentismo"
          ],
          [
           "Ausentismo"
          ],
          [
           "Ausentismo"
          ],
          [
           "Ausentismo"
          ],
          [
           "Ausentismo"
          ]
         ],
         "hovertemplate": "color=Ausentismo<br>t-SNE Component 1=%{x}<br>t-SNE Component 2=%{y}<br>t-SNE Component 3=%{z}<br>label=%{customdata[0]}<extra></extra>",
         "legendgroup": "Ausentismo",
         "marker": {
          "color": "#EF553B",
          "symbol": "circle"
         },
         "mode": "markers",
         "name": "Ausentismo",
         "scene": "scene",
         "showlegend": true,
         "type": "scatter3d",
         "x": [
          -86.021675,
          -75.250916,
          43.91007,
          -11.540484,
          -36.482082,
          -22.112328,
          2.7254078,
          -23.69115,
          62.904865,
          48.49521,
          46.509716,
          55.69587,
          90.1008,
          40.137447,
          30.010006,
          50.429,
          -4.4349146,
          -12.997349,
          -0.8982671,
          -13.87471,
          -20.66426,
          3.237554,
          -6.977228,
          -40.604633,
          -25.041445,
          84.90366,
          35.920425,
          25.086796,
          -7.315577,
          -0.81132555,
          -1.9504334,
          -20.66426,
          -13.005317,
          2.0980153,
          52.65403,
          -67.11801,
          89.20336,
          4.737746,
          -67.11801,
          89.20336,
          17.594734,
          25.87813,
          51.165092,
          82.57844,
          -20.66426
         ],
         "y": [
          18.340746,
          5.027909,
          -20.8051,
          -5.707811,
          -6.3323345,
          11.688922,
          -19.783487,
          11.346106,
          65.744316,
          52.693542,
          65.40387,
          58.49067,
          -0.43657905,
          35.67437,
          45.962914,
          5.316553,
          13.356184,
          -17.14346,
          -35.06811,
          -40.646206,
          55.15902,
          43.00565,
          54.234024,
          48.974663,
          42.42152,
          3.0375493,
          23.530123,
          49.682957,
          3.7287838,
          -75.99523,
          -59.41414,
          55.15902,
          -0.5383957,
          -2.8261256,
          -32.597836,
          -16.574907,
          -41.818428,
          71.51087,
          -16.574907,
          -41.818428,
          80.81325,
          72.39715,
          47.698734,
          33.951244,
          55.15902
         ],
         "z": [
          37.475704,
          -58.9205,
          53.474316,
          93.43989,
          -74.8599,
          27.907566,
          -28.655148,
          54.53562,
          -5.942148,
          -25.241314,
          7.549451,
          16.57202,
          -13.147283,
          -45.28831,
          -39.453377,
          -16.52102,
          73.48738,
          -95.8715,
          -86.17698,
          -82.764336,
          69.264656,
          -48.566517,
          -50.34341,
          -63.353798,
          -55.09694,
          4.5316205,
          -30.327295,
          80.801346,
          -23.79962,
          -54.40814,
          -47.134785,
          69.264656,
          -60.015556,
          -40.530834,
          -45.66953,
          68.9875,
          -19.76804,
          34.33998,
          68.9875,
          -19.76804,
          29.865572,
          40.194065,
          43.498745,
          27.100319,
          69.264656
         ]
        },
        {
         "customdata": [
          [
           "Estructura Organizativa"
          ],
          [
           "Estructura Organizativa"
          ],
          [
           "Estructura Organizativa"
          ],
          [
           "Estructura Organizativa"
          ],
          [
           "Estructura Organizativa"
          ],
          [
           "Estructura Organizativa"
          ],
          [
           "Estructura Organizativa"
          ],
          [
           "Estructura Organizativa"
          ],
          [
           "Estructura Organizativa"
          ],
          [
           "Estructura Organizativa"
          ],
          [
           "Estructura Organizativa"
          ],
          [
           "Estructura Organizativa"
          ],
          [
           "Estructura Organizativa"
          ],
          [
           "Estructura Organizativa"
          ],
          [
           "Estructura Organizativa"
          ],
          [
           "Estructura Organizativa"
          ],
          [
           "Estructura Organizativa"
          ],
          [
           "Estructura Organizativa"
          ],
          [
           "Estructura Organizativa"
          ],
          [
           "Estructura Organizativa"
          ],
          [
           "Estructura Organizativa"
          ],
          [
           "Estructura Organizativa"
          ],
          [
           "Estructura Organizativa"
          ],
          [
           "Estructura Organizativa"
          ],
          [
           "Estructura Organizativa"
          ],
          [
           "Estructura Organizativa"
          ],
          [
           "Estructura Organizativa"
          ],
          [
           "Estructura Organizativa"
          ],
          [
           "Estructura Organizativa"
          ],
          [
           "Estructura Organizativa"
          ],
          [
           "Estructura Organizativa"
          ],
          [
           "Estructura Organizativa"
          ],
          [
           "Estructura Organizativa"
          ],
          [
           "Estructura Organizativa"
          ],
          [
           "Estructura Organizativa"
          ],
          [
           "Estructura Organizativa"
          ],
          [
           "Estructura Organizativa"
          ],
          [
           "Estructura Organizativa"
          ],
          [
           "Estructura Organizativa"
          ],
          [
           "Estructura Organizativa"
          ],
          [
           "Estructura Organizativa"
          ],
          [
           "Estructura Organizativa"
          ],
          [
           "Estructura Organizativa"
          ],
          [
           "Estructura Organizativa"
          ],
          [
           "Estructura Organizativa"
          ],
          [
           "Estructura Organizativa"
          ],
          [
           "Estructura Organizativa"
          ],
          [
           "Estructura Organizativa"
          ],
          [
           "Estructura Organizativa"
          ],
          [
           "Estructura Organizativa"
          ],
          [
           "Estructura Organizativa"
          ],
          [
           "Estructura Organizativa"
          ],
          [
           "Estructura Organizativa"
          ],
          [
           "Estructura Organizativa"
          ],
          [
           "Estructura Organizativa"
          ],
          [
           "Estructura Organizativa"
          ],
          [
           "Estructura Organizativa"
          ],
          [
           "Estructura Organizativa"
          ],
          [
           "Estructura Organizativa"
          ],
          [
           "Estructura Organizativa"
          ],
          [
           "Estructura Organizativa"
          ],
          [
           "Estructura Organizativa"
          ],
          [
           "Estructura Organizativa"
          ],
          [
           "Estructura Organizativa"
          ],
          [
           "Estructura Organizativa"
          ],
          [
           "Estructura Organizativa"
          ],
          [
           "Estructura Organizativa"
          ],
          [
           "Estructura Organizativa"
          ],
          [
           "Estructura Organizativa"
          ],
          [
           "Estructura Organizativa"
          ],
          [
           "Estructura Organizativa"
          ],
          [
           "Estructura Organizativa"
          ],
          [
           "Estructura Organizativa"
          ],
          [
           "Estructura Organizativa"
          ],
          [
           "Estructura Organizativa"
          ],
          [
           "Estructura Organizativa"
          ],
          [
           "Estructura Organizativa"
          ]
         ],
         "hovertemplate": "color=Estructura Organizativa<br>t-SNE Component 1=%{x}<br>t-SNE Component 2=%{y}<br>t-SNE Component 3=%{z}<br>label=%{customdata[0]}<extra></extra>",
         "legendgroup": "Estructura Organizativa",
         "marker": {
          "color": "#00cc96",
          "symbol": "circle"
         },
         "mode": "markers",
         "name": "Estructura Organizativa",
         "scene": "scene",
         "showlegend": true,
         "type": "scatter3d",
         "x": [
          -86.021675,
          23.47111,
          -75.250916,
          73.95148,
          20.799505,
          1.4047613,
          28.600998,
          -24.870398,
          -16.318287,
          -37.929546,
          -3.1388133,
          -35.08121,
          -52.31603,
          -38.682453,
          -46.229332,
          -65.303185,
          -13.436748,
          -24.163618,
          22.486135,
          -51.112236,
          1.8301848,
          53.92149,
          -33.254284,
          -19.977945,
          11.06046,
          -10.540487,
          -58.698776,
          56.98736,
          -23.243446,
          62.929028,
          -45.67092,
          -22.817356,
          -63.29262,
          -59.538563,
          -46.40669,
          -65.50424,
          -65.75319,
          -32.963753,
          -76.16599,
          8.846496,
          -74.286026,
          -52.083317,
          -36.66849,
          -79.57761,
          5.232842,
          76.90968,
          -13.090644,
          -45.883423,
          -46.40669,
          -47.137714,
          -30.576855,
          -18.020832,
          -15.192064,
          63.17214,
          -8.675613,
          12.344552,
          -46.910774,
          -41.29522,
          11.65894,
          -34.528835,
          19.464731,
          -39.909958,
          -48.310165,
          -51.112236,
          20.674587,
          52.695362,
          -14.4894905,
          4.25465,
          -37.394703,
          6.548707,
          1.5191509,
          -51.112236,
          -24.609755,
          -6.39464,
          66.539925,
          -1.7619705,
          17.064203
         ],
         "y": [
          18.340746,
          31.355354,
          5.027909,
          -26.59773,
          -10.686998,
          -29.632013,
          2.8311713,
          -15.534426,
          -14.469466,
          81.35158,
          -25.222763,
          0.062350634,
          -4.452795,
          17.612501,
          19.713503,
          -44.60357,
          22.125563,
          7.2830276,
          77.58721,
          70.26675,
          21.838558,
          2.7392366,
          87.940285,
          -29.496727,
          52.64449,
          -46.25868,
          -33.702408,
          -13.932107,
          19.394722,
          13.903168,
          81.71374,
          -11.477611,
          0.08453996,
          6.0138555,
          32.375,
          37.372967,
          42.84046,
          32.93719,
          20.565174,
          26.912106,
          53.16227,
          48.143135,
          44.794033,
          28.391138,
          23.808811,
          0.83380616,
          -8.643594,
          5.2765517,
          32.375,
          31.964426,
          -29.924839,
          57.55992,
          38.35206,
          20.901987,
          -21.842072,
          66.89509,
          -11.828392,
          -23.97917,
          43.369984,
          -23.179333,
          16.549152,
          -39.66393,
          -18.403442,
          70.26675,
          11.870703,
          12.309203,
          -8.798214,
          84.040726,
          0.5668975,
          88.92181,
          71.62843,
          70.26675,
          2.8552415,
          10.437176,
          30.946531,
          22.996365,
          33.204136
         ],
         "z": [
          37.475704,
          40.87164,
          -58.9205,
          39.37323,
          40.936123,
          82.039734,
          51.474895,
          16.742311,
          -42.118206,
          -38.004955,
          -1.5916336,
          11.878669,
          37.425457,
          -46.408913,
          -30.13096,
          -13.208977,
          -42.16355,
          -5.5878234,
          -25.802967,
          31.359215,
          -70.26872,
          -52.206223,
          -20.973837,
          -14.476662,
          -19.27866,
          -24.623417,
          -73.738396,
          -76.98908,
          -27.518417,
          -57.42867,
          -14.58092,
          -18.385445,
          -17.706938,
          11.145945,
          45.62694,
          -5.9229703,
          12.790639,
          13.310209,
          -1.0289513,
          -23.514927,
          -17.160694,
          -21.702042,
          -28.061062,
          58.79563,
          -88.529274,
          -46.357357,
          3.9486985,
          -3.887042,
          45.62694,
          -1.1665803,
          -55.80905,
          -13.38917,
          -20.701874,
          68.29929,
          23.500425,
          -5.002544,
          -39.98171,
          2.236289,
          2.1438012,
          -32.03407,
          -62.094776,
          -9.739406,
          -19.701488,
          31.359215,
          -79.63441,
          73.74638,
          32.128635,
          -15.230867,
          -25.352709,
          -33.435005,
          -30.286497,
          31.359215,
          -38.91273,
          5.5191226,
          -8.329435,
          -8.748359,
          -75.86763
         ]
        },
        {
         "customdata": [
          [
           "Riesgos"
          ],
          [
           "Riesgos"
          ],
          [
           "Riesgos"
          ],
          [
           "Riesgos"
          ],
          [
           "Riesgos"
          ],
          [
           "Riesgos"
          ],
          [
           "Riesgos"
          ],
          [
           "Riesgos"
          ],
          [
           "Riesgos"
          ],
          [
           "Riesgos"
          ],
          [
           "Riesgos"
          ],
          [
           "Riesgos"
          ],
          [
           "Riesgos"
          ],
          [
           "Riesgos"
          ],
          [
           "Riesgos"
          ],
          [
           "Riesgos"
          ],
          [
           "Riesgos"
          ],
          [
           "Riesgos"
          ],
          [
           "Riesgos"
          ],
          [
           "Riesgos"
          ],
          [
           "Riesgos"
          ]
         ],
         "hovertemplate": "color=Riesgos<br>t-SNE Component 1=%{x}<br>t-SNE Component 2=%{y}<br>t-SNE Component 3=%{z}<br>label=%{customdata[0]}<extra></extra>",
         "legendgroup": "Riesgos",
         "marker": {
          "color": "#ab63fa",
          "symbol": "circle"
         },
         "mode": "markers",
         "name": "Riesgos",
         "scene": "scene",
         "showlegend": true,
         "type": "scatter3d",
         "x": [
          -86.021675,
          -2.4897864,
          51.932575,
          13.726592,
          36.402252,
          7.017927,
          -34.25123,
          -34.82943,
          31.451426,
          3.3990054,
          24.459518,
          36.28759,
          39.678905,
          -31.785007,
          29.34502,
          -79.42719,
          -79.13834,
          -56.474625,
          16.570234,
          -5.581188,
          26.520597
         ],
         "y": [
          18.340746,
          -87.50736,
          13.48838,
          35.591534,
          -38.19028,
          -36.73879,
          -74.91171,
          -68.97403,
          11.0322075,
          9.760232,
          -33.047436,
          33.003124,
          20.375206,
          21.928684,
          -11.418037,
          -23.34141,
          -34.929646,
          -65.76215,
          0.65825623,
          -25.10297,
          -24.912228
         ],
         "z": [
          37.475704,
          45.973213,
          33.170208,
          51.36164,
          35.11267,
          27.471687,
          -18.925623,
          -32.515144,
          73.95761,
          28.779657,
          56.647343,
          13.074663,
          0.010659068,
          -80.63959,
          -35.004242,
          18.161772,
          8.433564,
          12.996677,
          -23.291983,
          49.210358,
          25.31733
         ]
        },
        {
         "customdata": [
          [
           "Información"
          ],
          [
           "Información"
          ],
          [
           "Información"
          ],
          [
           "Información"
          ],
          [
           "Información"
          ],
          [
           "Información"
          ],
          [
           "Información"
          ],
          [
           "Información"
          ],
          [
           "Información"
          ]
         ],
         "hovertemplate": "color=Información<br>t-SNE Component 1=%{x}<br>t-SNE Component 2=%{y}<br>t-SNE Component 3=%{z}<br>label=%{customdata[0]}<extra></extra>",
         "legendgroup": "Información",
         "marker": {
          "color": "#FFA15A",
          "symbol": "circle"
         },
         "mode": "markers",
         "name": "Información",
         "scene": "scene",
         "showlegend": true,
         "type": "scatter3d",
         "x": [
          -86.021675,
          -2.4897864,
          -75.250916,
          65.69863,
          -34.750217,
          -16.39093,
          -29.850988,
          2.755531,
          -10.981939
         ],
         "y": [
          18.340746,
          -87.50736,
          5.027909,
          -23.10276,
          -8.157933,
          -19.169935,
          -39.787354,
          -44.65338,
          34.540154
         ],
         "z": [
          37.475704,
          45.973213,
          -58.9205,
          54.09973,
          73.31185,
          77.24054,
          76.26575,
          3.4525993,
          37.217438
         ]
        },
        {
         "customdata": [
          [
           "Emergencia"
          ],
          [
           "Emergencia"
          ],
          [
           "Emergencia"
          ],
          [
           "Emergencia"
          ],
          [
           "Emergencia"
          ],
          [
           "Emergencia"
          ],
          [
           "Emergencia"
          ],
          [
           "Emergencia"
          ],
          [
           "Emergencia"
          ],
          [
           "Emergencia"
          ],
          [
           "Emergencia"
          ]
         ],
         "hovertemplate": "color=Emergencia<br>t-SNE Component 1=%{x}<br>t-SNE Component 2=%{y}<br>t-SNE Component 3=%{z}<br>label=%{customdata[0]}<extra></extra>",
         "legendgroup": "Emergencia",
         "marker": {
          "color": "#19d3f3",
          "symbol": "circle"
         },
         "mode": "markers",
         "name": "Emergencia",
         "scene": "scene",
         "showlegend": true,
         "type": "scatter3d",
         "x": [
          53.169254,
          36.40282,
          20.141453,
          11.400904,
          38.431656,
          28.060907,
          9.39111,
          23.627983,
          11.049408,
          9.4906845,
          -1.5441116
         ],
         "y": [
          -10.827414,
          -62.667576,
          -57.43646,
          -10.031827,
          -8.021928,
          2.9752128,
          -9.530685,
          8.86075,
          -2.5237749,
          -14.725061,
          -28.854628
         ],
         "z": [
          34.335735,
          21.587881,
          27.9935,
          91.02035,
          8.950965,
          21.288696,
          13.5156765,
          -3.3274813,
          -5.063309,
          -59.01939,
          -52.625324
         ]
        },
        {
         "customdata": [
          [
           "Question: ¿Cómo se diferencia la ubicación física de la operativa?<br>Closest Model: Riesgos<br>Similarity: 0.70<br>Chunk: DOCUMENTOS\nEl usuario accede a la pestaña Documentos y visualiza el listado de informes generados ta..."
          ],
          [
           "Question: ¿Qué información se incluye en el informe de la evaluación de riesgos que ofrece la plataforma y cuál es su utilidad para la gestión de riesgos en la empresa?<br>Closest Model: Riesgos<br>Similarity: 0.88<br>Chunk: CONTENIDO\nSabentis es la nueva plataforma de gestión especializada en el ámbito de seguridad y salud..."
          ],
          [
           "Question: ¿Hay indicadores relativos al cumplimiento de normas?<br>Closest Model: Auditorias<br>Similarity: 0.71<br>Chunk: Versión  Fecha  Comentarios  Autor  1.0  29/09/2022  Redacción  Núria Zaragoza\nSabentis es la nueva ..."
          ],
          [
           "Question: ¿Qué papel juega la estructura organizativa en la funcionalidad general de la plataforma y cómo interactúa con otros módulos?<br>Closest Model: Estructura Organizativa<br>Similarity: 0.86<br>Chunk: El usuario puede acceder al módulo Estructura Organizativa (EO), desde las opciones:  •  La entrada ..."
          ],
          [
           "Question: ¿Qué permite realizar la evaluación de riesgos?<br>Closest Model: Riesgos<br>Similarity: 0.86<br>Chunk: CONTENIDO\nSabentis es la nueva plataforma de gestión especializada en el ámbito de seguridad y salud..."
          ],
          [
           "Question: ¿Qué tipo de documentos se pueden almacenar y compartir en el espacio denominado 'Documentos' y cuál es su importancia dentro del contexto de la gestión empresarial en la plataforma?<br>Closest Model: Información<br>Similarity: 0.87<br>Chunk: 3. REPOSITORIO DOCUMENTAL DE LA EMPRESA\nEl usuario accede al cardboard “Repositorio documental” y vi..."
          ],
          [
           "Question: ¿Se pueden llevar a cabo auditorías internas?<br>Closest Model: Emergencia<br>Similarity: 0.77<br>Chunk: La pestaña evaluación de aspectos legales permite al usuario evaluar los cuestionarios  aplicables a..."
          ],
          [
           "Question: ¿Cuál es la tasa de adopción de esta plataforma en el mercado?<br>Closest Model: Información<br>Similarity: 0.72<br>Chunk: Sabentis es la nueva plataforma de gestión especializada en el ámbito de Seguridad y Salud en  el Tr..."
          ],
          [
           "Question: ¿Cómo se compara esta plataforma con otras soluciones de gestión de SST?<br>Closest Model: Estructura Organizativa<br>Similarity: 0.84<br>Chunk: Sabentis es la nueva plataforma de gestión especializada en el ámbito de Seguridad y Salud  en el Tr..."
          ],
          [
           "Question: ¿Qué día hará mañana?<br>Closest Model: Estructura Organizativa<br>Similarity: 0.63<br>Chunk: Documento  Manual de uso: Estructura organizativa (GE).  Descripción  Manual guía de usuario del mód..."
          ]
         ],
         "hovertemplate": "color=Question<br>t-SNE Component 1=%{x}<br>t-SNE Component 2=%{y}<br>t-SNE Component 3=%{z}<br>label=%{customdata[0]}<extra></extra>",
         "legendgroup": "Question",
         "marker": {
          "color": "#FF6692",
          "symbol": "circle"
         },
         "mode": "markers",
         "name": "Question",
         "scene": "scene",
         "showlegend": true,
         "type": "scatter3d",
         "x": [
          1.1729747,
          54.380806,
          62.330647,
          12.810651,
          31.982477,
          0.72547895,
          24.921589,
          81.54241,
          81.93784,
          -59.911533
         ],
         "y": [
          -5.3756976,
          -47.916683,
          -54.67101,
          -44.723366,
          -61.85926,
          -70.80754,
          -79.582504,
          -2.0009131,
          -42.976902,
          -38.96574
         ],
         "z": [
          54.086613,
          54.78745,
          23.151579,
          84.876976,
          54.165886,
          -5.335982,
          17.152946,
          46.101036,
          49.81287,
          37.952435
         ]
        },
        {
         "mode": "markers+text",
         "showlegend": false,
         "text": "Q1",
         "textposition": "top center",
         "type": "scatter3d",
         "x": [
          1.172974705696106
         ],
         "y": [
          -5.375697612762451
         ],
         "z": [
          54.086612701416016
         ]
        },
        {
         "mode": "markers+text",
         "showlegend": false,
         "text": "Q2",
         "textposition": "top center",
         "type": "scatter3d",
         "x": [
          54.38080596923828
         ],
         "y": [
          -47.916683197021484
         ],
         "z": [
          54.78744888305664
         ]
        },
        {
         "mode": "markers+text",
         "showlegend": false,
         "text": "Q3",
         "textposition": "top center",
         "type": "scatter3d",
         "x": [
          62.33064651489258
         ],
         "y": [
          -54.6710090637207
         ],
         "z": [
          23.151578903198242
         ]
        },
        {
         "mode": "markers+text",
         "showlegend": false,
         "text": "Q4",
         "textposition": "top center",
         "type": "scatter3d",
         "x": [
          12.810650825500488
         ],
         "y": [
          -44.723365783691406
         ],
         "z": [
          84.8769760131836
         ]
        },
        {
         "mode": "markers+text",
         "showlegend": false,
         "text": "Q5",
         "textposition": "top center",
         "type": "scatter3d",
         "x": [
          31.98247718811035
         ],
         "y": [
          -61.85926055908203
         ],
         "z": [
          54.16588592529297
         ]
        },
        {
         "mode": "markers+text",
         "showlegend": false,
         "text": "Q6",
         "textposition": "top center",
         "type": "scatter3d",
         "x": [
          0.7254789471626282
         ],
         "y": [
          -70.80754089355469
         ],
         "z": [
          -5.335981845855713
         ]
        },
        {
         "mode": "markers+text",
         "showlegend": false,
         "text": "Q7",
         "textposition": "top center",
         "type": "scatter3d",
         "x": [
          24.921588897705078
         ],
         "y": [
          -79.58250427246094
         ],
         "z": [
          17.15294647216797
         ]
        },
        {
         "mode": "markers+text",
         "showlegend": false,
         "text": "Q8",
         "textposition": "top center",
         "type": "scatter3d",
         "x": [
          81.54241180419922
         ],
         "y": [
          -2.000913143157959
         ],
         "z": [
          46.101036071777344
         ]
        },
        {
         "mode": "markers+text",
         "showlegend": false,
         "text": "Q9",
         "textposition": "top center",
         "type": "scatter3d",
         "x": [
          81.9378433227539
         ],
         "y": [
          -42.97690200805664
         ],
         "z": [
          49.812870025634766
         ]
        },
        {
         "mode": "markers+text",
         "showlegend": false,
         "text": "Q10",
         "textposition": "top center",
         "type": "scatter3d",
         "x": [
          -59.91153335571289
         ],
         "y": [
          -38.96574020385742
         ],
         "z": [
          37.95243453979492
         ]
        }
       ],
       "layout": {
        "legend": {
         "title": {
          "text": "color"
         },
         "tracegroupgap": 0
        },
        "scene": {
         "domain": {
          "x": [
           0,
           1
          ],
          "y": [
           0,
           1
          ]
         },
         "xaxis": {
          "title": {
           "text": "t-SNE Component 1"
          }
         },
         "yaxis": {
          "title": {
           "text": "t-SNE Component 2"
          }
         },
         "zaxis": {
          "title": {
           "text": "t-SNE Component 3"
          }
         }
        },
        "template": {
         "data": {
          "bar": [
           {
            "error_x": {
             "color": "#2a3f5f"
            },
            "error_y": {
             "color": "#2a3f5f"
            },
            "marker": {
             "line": {
              "color": "#E5ECF6",
              "width": 0.5
             },
             "pattern": {
              "fillmode": "overlay",
              "size": 10,
              "solidity": 0.2
             }
            },
            "type": "bar"
           }
          ],
          "barpolar": [
           {
            "marker": {
             "line": {
              "color": "#E5ECF6",
              "width": 0.5
             },
             "pattern": {
              "fillmode": "overlay",
              "size": 10,
              "solidity": 0.2
             }
            },
            "type": "barpolar"
           }
          ],
          "carpet": [
           {
            "aaxis": {
             "endlinecolor": "#2a3f5f",
             "gridcolor": "white",
             "linecolor": "white",
             "minorgridcolor": "white",
             "startlinecolor": "#2a3f5f"
            },
            "baxis": {
             "endlinecolor": "#2a3f5f",
             "gridcolor": "white",
             "linecolor": "white",
             "minorgridcolor": "white",
             "startlinecolor": "#2a3f5f"
            },
            "type": "carpet"
           }
          ],
          "choropleth": [
           {
            "colorbar": {
             "outlinewidth": 0,
             "ticks": ""
            },
            "type": "choropleth"
           }
          ],
          "contour": [
           {
            "colorbar": {
             "outlinewidth": 0,
             "ticks": ""
            },
            "colorscale": [
             [
              0,
              "#0d0887"
             ],
             [
              0.1111111111111111,
              "#46039f"
             ],
             [
              0.2222222222222222,
              "#7201a8"
             ],
             [
              0.3333333333333333,
              "#9c179e"
             ],
             [
              0.4444444444444444,
              "#bd3786"
             ],
             [
              0.5555555555555556,
              "#d8576b"
             ],
             [
              0.6666666666666666,
              "#ed7953"
             ],
             [
              0.7777777777777778,
              "#fb9f3a"
             ],
             [
              0.8888888888888888,
              "#fdca26"
             ],
             [
              1,
              "#f0f921"
             ]
            ],
            "type": "contour"
           }
          ],
          "contourcarpet": [
           {
            "colorbar": {
             "outlinewidth": 0,
             "ticks": ""
            },
            "type": "contourcarpet"
           }
          ],
          "heatmap": [
           {
            "colorbar": {
             "outlinewidth": 0,
             "ticks": ""
            },
            "colorscale": [
             [
              0,
              "#0d0887"
             ],
             [
              0.1111111111111111,
              "#46039f"
             ],
             [
              0.2222222222222222,
              "#7201a8"
             ],
             [
              0.3333333333333333,
              "#9c179e"
             ],
             [
              0.4444444444444444,
              "#bd3786"
             ],
             [
              0.5555555555555556,
              "#d8576b"
             ],
             [
              0.6666666666666666,
              "#ed7953"
             ],
             [
              0.7777777777777778,
              "#fb9f3a"
             ],
             [
              0.8888888888888888,
              "#fdca26"
             ],
             [
              1,
              "#f0f921"
             ]
            ],
            "type": "heatmap"
           }
          ],
          "heatmapgl": [
           {
            "colorbar": {
             "outlinewidth": 0,
             "ticks": ""
            },
            "colorscale": [
             [
              0,
              "#0d0887"
             ],
             [
              0.1111111111111111,
              "#46039f"
             ],
             [
              0.2222222222222222,
              "#7201a8"
             ],
             [
              0.3333333333333333,
              "#9c179e"
             ],
             [
              0.4444444444444444,
              "#bd3786"
             ],
             [
              0.5555555555555556,
              "#d8576b"
             ],
             [
              0.6666666666666666,
              "#ed7953"
             ],
             [
              0.7777777777777778,
              "#fb9f3a"
             ],
             [
              0.8888888888888888,
              "#fdca26"
             ],
             [
              1,
              "#f0f921"
             ]
            ],
            "type": "heatmapgl"
           }
          ],
          "histogram": [
           {
            "marker": {
             "pattern": {
              "fillmode": "overlay",
              "size": 10,
              "solidity": 0.2
             }
            },
            "type": "histogram"
           }
          ],
          "histogram2d": [
           {
            "colorbar": {
             "outlinewidth": 0,
             "ticks": ""
            },
            "colorscale": [
             [
              0,
              "#0d0887"
             ],
             [
              0.1111111111111111,
              "#46039f"
             ],
             [
              0.2222222222222222,
              "#7201a8"
             ],
             [
              0.3333333333333333,
              "#9c179e"
             ],
             [
              0.4444444444444444,
              "#bd3786"
             ],
             [
              0.5555555555555556,
              "#d8576b"
             ],
             [
              0.6666666666666666,
              "#ed7953"
             ],
             [
              0.7777777777777778,
              "#fb9f3a"
             ],
             [
              0.8888888888888888,
              "#fdca26"
             ],
             [
              1,
              "#f0f921"
             ]
            ],
            "type": "histogram2d"
           }
          ],
          "histogram2dcontour": [
           {
            "colorbar": {
             "outlinewidth": 0,
             "ticks": ""
            },
            "colorscale": [
             [
              0,
              "#0d0887"
             ],
             [
              0.1111111111111111,
              "#46039f"
             ],
             [
              0.2222222222222222,
              "#7201a8"
             ],
             [
              0.3333333333333333,
              "#9c179e"
             ],
             [
              0.4444444444444444,
              "#bd3786"
             ],
             [
              0.5555555555555556,
              "#d8576b"
             ],
             [
              0.6666666666666666,
              "#ed7953"
             ],
             [
              0.7777777777777778,
              "#fb9f3a"
             ],
             [
              0.8888888888888888,
              "#fdca26"
             ],
             [
              1,
              "#f0f921"
             ]
            ],
            "type": "histogram2dcontour"
           }
          ],
          "mesh3d": [
           {
            "colorbar": {
             "outlinewidth": 0,
             "ticks": ""
            },
            "type": "mesh3d"
           }
          ],
          "parcoords": [
           {
            "line": {
             "colorbar": {
              "outlinewidth": 0,
              "ticks": ""
             }
            },
            "type": "parcoords"
           }
          ],
          "pie": [
           {
            "automargin": true,
            "type": "pie"
           }
          ],
          "scatter": [
           {
            "fillpattern": {
             "fillmode": "overlay",
             "size": 10,
             "solidity": 0.2
            },
            "type": "scatter"
           }
          ],
          "scatter3d": [
           {
            "line": {
             "colorbar": {
              "outlinewidth": 0,
              "ticks": ""
             }
            },
            "marker": {
             "colorbar": {
              "outlinewidth": 0,
              "ticks": ""
             }
            },
            "type": "scatter3d"
           }
          ],
          "scattercarpet": [
           {
            "marker": {
             "colorbar": {
              "outlinewidth": 0,
              "ticks": ""
             }
            },
            "type": "scattercarpet"
           }
          ],
          "scattergeo": [
           {
            "marker": {
             "colorbar": {
              "outlinewidth": 0,
              "ticks": ""
             }
            },
            "type": "scattergeo"
           }
          ],
          "scattergl": [
           {
            "marker": {
             "colorbar": {
              "outlinewidth": 0,
              "ticks": ""
             }
            },
            "type": "scattergl"
           }
          ],
          "scattermapbox": [
           {
            "marker": {
             "colorbar": {
              "outlinewidth": 0,
              "ticks": ""
             }
            },
            "type": "scattermapbox"
           }
          ],
          "scatterpolar": [
           {
            "marker": {
             "colorbar": {
              "outlinewidth": 0,
              "ticks": ""
             }
            },
            "type": "scatterpolar"
           }
          ],
          "scatterpolargl": [
           {
            "marker": {
             "colorbar": {
              "outlinewidth": 0,
              "ticks": ""
             }
            },
            "type": "scatterpolargl"
           }
          ],
          "scatterternary": [
           {
            "marker": {
             "colorbar": {
              "outlinewidth": 0,
              "ticks": ""
             }
            },
            "type": "scatterternary"
           }
          ],
          "surface": [
           {
            "colorbar": {
             "outlinewidth": 0,
             "ticks": ""
            },
            "colorscale": [
             [
              0,
              "#0d0887"
             ],
             [
              0.1111111111111111,
              "#46039f"
             ],
             [
              0.2222222222222222,
              "#7201a8"
             ],
             [
              0.3333333333333333,
              "#9c179e"
             ],
             [
              0.4444444444444444,
              "#bd3786"
             ],
             [
              0.5555555555555556,
              "#d8576b"
             ],
             [
              0.6666666666666666,
              "#ed7953"
             ],
             [
              0.7777777777777778,
              "#fb9f3a"
             ],
             [
              0.8888888888888888,
              "#fdca26"
             ],
             [
              1,
              "#f0f921"
             ]
            ],
            "type": "surface"
           }
          ],
          "table": [
           {
            "cells": {
             "fill": {
              "color": "#EBF0F8"
             },
             "line": {
              "color": "white"
             }
            },
            "header": {
             "fill": {
              "color": "#C8D4E3"
             },
             "line": {
              "color": "white"
             }
            },
            "type": "table"
           }
          ]
         },
         "layout": {
          "annotationdefaults": {
           "arrowcolor": "#2a3f5f",
           "arrowhead": 0,
           "arrowwidth": 1
          },
          "autotypenumbers": "strict",
          "coloraxis": {
           "colorbar": {
            "outlinewidth": 0,
            "ticks": ""
           }
          },
          "colorscale": {
           "diverging": [
            [
             0,
             "#8e0152"
            ],
            [
             0.1,
             "#c51b7d"
            ],
            [
             0.2,
             "#de77ae"
            ],
            [
             0.3,
             "#f1b6da"
            ],
            [
             0.4,
             "#fde0ef"
            ],
            [
             0.5,
             "#f7f7f7"
            ],
            [
             0.6,
             "#e6f5d0"
            ],
            [
             0.7,
             "#b8e186"
            ],
            [
             0.8,
             "#7fbc41"
            ],
            [
             0.9,
             "#4d9221"
            ],
            [
             1,
             "#276419"
            ]
           ],
           "sequential": [
            [
             0,
             "#0d0887"
            ],
            [
             0.1111111111111111,
             "#46039f"
            ],
            [
             0.2222222222222222,
             "#7201a8"
            ],
            [
             0.3333333333333333,
             "#9c179e"
            ],
            [
             0.4444444444444444,
             "#bd3786"
            ],
            [
             0.5555555555555556,
             "#d8576b"
            ],
            [
             0.6666666666666666,
             "#ed7953"
            ],
            [
             0.7777777777777778,
             "#fb9f3a"
            ],
            [
             0.8888888888888888,
             "#fdca26"
            ],
            [
             1,
             "#f0f921"
            ]
           ],
           "sequentialminus": [
            [
             0,
             "#0d0887"
            ],
            [
             0.1111111111111111,
             "#46039f"
            ],
            [
             0.2222222222222222,
             "#7201a8"
            ],
            [
             0.3333333333333333,
             "#9c179e"
            ],
            [
             0.4444444444444444,
             "#bd3786"
            ],
            [
             0.5555555555555556,
             "#d8576b"
            ],
            [
             0.6666666666666666,
             "#ed7953"
            ],
            [
             0.7777777777777778,
             "#fb9f3a"
            ],
            [
             0.8888888888888888,
             "#fdca26"
            ],
            [
             1,
             "#f0f921"
            ]
           ]
          },
          "colorway": [
           "#636efa",
           "#EF553B",
           "#00cc96",
           "#ab63fa",
           "#FFA15A",
           "#19d3f3",
           "#FF6692",
           "#B6E880",
           "#FF97FF",
           "#FECB52"
          ],
          "font": {
           "color": "#2a3f5f"
          },
          "geo": {
           "bgcolor": "white",
           "lakecolor": "white",
           "landcolor": "#E5ECF6",
           "showlakes": true,
           "showland": true,
           "subunitcolor": "white"
          },
          "hoverlabel": {
           "align": "left"
          },
          "hovermode": "closest",
          "mapbox": {
           "style": "light"
          },
          "paper_bgcolor": "white",
          "plot_bgcolor": "#E5ECF6",
          "polar": {
           "angularaxis": {
            "gridcolor": "white",
            "linecolor": "white",
            "ticks": ""
           },
           "bgcolor": "#E5ECF6",
           "radialaxis": {
            "gridcolor": "white",
            "linecolor": "white",
            "ticks": ""
           }
          },
          "scene": {
           "xaxis": {
            "backgroundcolor": "#E5ECF6",
            "gridcolor": "white",
            "gridwidth": 2,
            "linecolor": "white",
            "showbackground": true,
            "ticks": "",
            "zerolinecolor": "white"
           },
           "yaxis": {
            "backgroundcolor": "#E5ECF6",
            "gridcolor": "white",
            "gridwidth": 2,
            "linecolor": "white",
            "showbackground": true,
            "ticks": "",
            "zerolinecolor": "white"
           },
           "zaxis": {
            "backgroundcolor": "#E5ECF6",
            "gridcolor": "white",
            "gridwidth": 2,
            "linecolor": "white",
            "showbackground": true,
            "ticks": "",
            "zerolinecolor": "white"
           }
          },
          "shapedefaults": {
           "line": {
            "color": "#2a3f5f"
           }
          },
          "ternary": {
           "aaxis": {
            "gridcolor": "white",
            "linecolor": "white",
            "ticks": ""
           },
           "baxis": {
            "gridcolor": "white",
            "linecolor": "white",
            "ticks": ""
           },
           "bgcolor": "#E5ECF6",
           "caxis": {
            "gridcolor": "white",
            "linecolor": "white",
            "ticks": ""
           }
          },
          "title": {
           "x": 0.05
          },
          "xaxis": {
           "automargin": true,
           "gridcolor": "white",
           "linecolor": "white",
           "ticks": "",
           "title": {
            "standoff": 15
           },
           "zerolinecolor": "white",
           "zerolinewidth": 2
          },
          "yaxis": {
           "automargin": true,
           "gridcolor": "white",
           "linecolor": "white",
           "ticks": "",
           "title": {
            "standoff": 15
           },
           "zerolinecolor": "white",
           "zerolinewidth": 2
          }
         }
        },
        "title": {
         "text": "Embeddings Visualization with 3D t-SNE"
        }
       }
      }
     },
     "metadata": {},
     "output_type": "display_data"
    }
   ],
   "source": [
    "# Collecting sentence embeddings for each model\n",
    "model_embeddings = []\n",
    "model_labels = []\n",
    "models_list = []\n",
    "\n",
    "for key, model in models.items():\n",
    "    for paragraph in model.original_paragraphs:\n",
    "        embedding = model._get_sentence_embedding_pretrained(paragraph)\n",
    "        model_embeddings.append(embedding)\n",
    "        model_labels.append(key)\n",
    "    models_list.append(key)\n",
    "\n",
    "# Collecting embeddings for questions and finding the closest model for each question\n",
    "question_embeddings = []\n",
    "question_closest_models = []\n",
    "question_similarities = []\n",
    "question_closest_paragraphs = []\n",
    "\n",
    "for question in questions:\n",
    "    query_embedding = model._get_sentence_embedding_pretrained(question)\n",
    "    question_embeddings.append(query_embedding)\n",
    "    \n",
    "    # Find the closest model\n",
    "    closest_model = None\n",
    "    highest_similarity = -1\n",
    "    closest_paragraph = \"\"\n",
    "    for model_name, model in models.items():\n",
    "        similarities = [\n",
    "            (model._cosine_similarity(query_embedding, model._get_sentence_embedding_pretrained(paragraph)), paragraph)\n",
    "            for paragraph in model.original_paragraphs\n",
    "        ]\n",
    "        max_similarity, best_paragraph = max(similarities, key=lambda x: x[0])\n",
    "        if max_similarity > highest_similarity:\n",
    "            highest_similarity = max_similarity\n",
    "            closest_model = model_name\n",
    "            closest_paragraph = best_paragraph\n",
    "    \n",
    "    question_closest_models.append(closest_model)\n",
    "    question_similarities.append(highest_similarity)\n",
    "    question_closest_paragraphs.append(closest_paragraph)\n",
    "\n",
    "# Printing questions and their related data based on similarity\n",
    "for question, closest_model, similarity in zip(questions, question_closest_models, question_similarities):\n",
    "    if similarity > 0.75:\n",
    "        print(f\"Question: {question}\")\n",
    "        print(f\"Closest Model: {closest_model}\")\n",
    "        print(f\"Similarity: {similarity:.2f}\")\n",
    "        print()\n",
    "    else:\n",
    "        print(f\"'{question}' does not have enough similarity\")\n",
    "\n",
    "# Combining model embeddings and question embeddings\n",
    "all_embeddings = np.array(model_embeddings + question_embeddings)\n",
    "labels = model_labels + [\"Question\"] * len(questions)\n",
    "hover_texts = model_labels + [\n",
    "    f\"Question: {question}<br>Closest Model: {closest_model}<br>Similarity: {similarity:.2f}<br>Chunk: {closest_paragraph[:100]}...\"\n",
    "    for question, closest_model, similarity, closest_paragraph in zip(questions, question_closest_models, question_similarities, question_closest_paragraphs)\n",
    "]\n",
    "\n",
    "# Reducing dimensionality using PCA for 2D and 3D plots\n",
    "pca_2d = PCA(n_components=2)\n",
    "pca_2d_result = pca_2d.fit_transform(all_embeddings)\n",
    "\n",
    "pca_3d = PCA(n_components=3)\n",
    "pca_3d_result = pca_3d.fit_transform(all_embeddings)\n",
    "\n",
    "# Reducing dimensionality using t-SNE for 2D and 3D plots\n",
    "tsne_2d = TSNE(n_components=2, random_state=42)\n",
    "tsne_2d_result = tsne_2d.fit_transform(all_embeddings)\n",
    "\n",
    "tsne_3d = TSNE(n_components=3, random_state=42)\n",
    "tsne_3d_result = tsne_3d.fit_transform(all_embeddings)\n",
    "\n",
    "# Plotting with 2D PCA\n",
    "fig_pca = px.scatter(\n",
    "    x=pca_2d_result[:, 0], \n",
    "    y=pca_2d_result[:, 1], \n",
    "    color=labels, \n",
    "    hover_data={'label': hover_texts},\n",
    "    labels={'x': 'PCA Component 1', 'y': 'PCA Component 2'},\n",
    "    title=\"Embeddings Visualization with 2D PCA\"\n",
    ")\n",
    "\n",
    "# Adding annotations for questions in 2D PCA plot\n",
    "for i, question in enumerate(questions):\n",
    "    fig_pca.add_annotation(\n",
    "        x=pca_2d_result[len(model_embeddings) + i, 0], \n",
    "        y=pca_2d_result[len(model_embeddings) + i, 1], \n",
    "        text=f\"Q{i+1}\", \n",
    "        showarrow=True,\n",
    "        arrowhead=2\n",
    "    )\n",
    "\n",
    "# Plotting with 2D t-SNE\n",
    "fig_tsne = px.scatter(\n",
    "    x=tsne_2d_result[:, 0], \n",
    "    y=tsne_2d_result[:, 1], \n",
    "    color=labels, \n",
    "    hover_data={'label': hover_texts},\n",
    "    labels={'x': 't-SNE Component 1', 'y': 't-SNE Component 2'},\n",
    "    title=\"Embeddings Visualization with 2D t-SNE\"\n",
    ")\n",
    "\n",
    "# Adding annotations for questions in 2D t-SNE plot\n",
    "for i, question in enumerate(questions):\n",
    "    fig_tsne.add_annotation(\n",
    "        x=tsne_2d_result[len(model_embeddings) + i, 0], \n",
    "        y=tsne_2d_result[len(model_embeddings) + i, 1], \n",
    "        text=f\"Q{i+1}\", \n",
    "        showarrow=True,\n",
    "        arrowhead=2\n",
    "    )\n",
    "\n",
    "# Plotting with 3D PCA\n",
    "fig_pca_3d = px.scatter_3d(\n",
    "    x=pca_3d_result[:, 0], \n",
    "    y=pca_3d_result[:, 1], \n",
    "    z=pca_3d_result[:, 2], \n",
    "    color=labels, \n",
    "    hover_data={'label': hover_texts},\n",
    "    labels={'x': 'PCA Component 1', 'y': 'PCA Component 2', 'z': 'PCA Component 3'},\n",
    "    title=\"Embeddings Visualization with 3D PCA\"\n",
    ")\n",
    "\n",
    "# Adding annotations for questions in 3D PCA plot\n",
    "for i, question in enumerate(questions):\n",
    "    fig_pca_3d.add_trace(go.Scatter3d(\n",
    "        x=[pca_3d_result[len(model_embeddings) + i, 0]],\n",
    "        y=[pca_3d_result[len(model_embeddings) + i, 1]],\n",
    "        z=[pca_3d_result[len(model_embeddings) + i, 2]],\n",
    "        text=f\"Q{i+1}\",\n",
    "        mode='markers+text',\n",
    "        textposition='top center',\n",
    "        showlegend=False\n",
    "    ))\n",
    "\n",
    "# Plotting with 3D t-SNE\n",
    "fig_tsne_3d = px.scatter_3d(\n",
    "    x=tsne_3d_result[:, 0], \n",
    "    y=tsne_3d_result[:, 1], \n",
    "    z=tsne_3d_result[:, 2], \n",
    "    color=labels, \n",
    "    hover_data={'label': hover_texts},\n",
    "    labels={'x': 't-SNE Component 1', 'y': 't-SNE Component 2', 'z': 't-SNE Component 3'},\n",
    "    title=\"Embeddings Visualization with 3D t-SNE\"\n",
    ")\n",
    "\n",
    "# Adding annotations for questions in 3D t-SNE plot\n",
    "for i, question in enumerate(questions):\n",
    "    fig_tsne_3d.add_trace(go.Scatter3d(\n",
    "        x=[tsne_3d_result[len(model_embeddings) + i, 0]],\n",
    "        y=[tsne_3d_result[len(model_embeddings) + i, 1]],\n",
    "        z=[tsne_3d_result[len(model_embeddings) + i, 2]],\n",
    "        text=f\"Q{i+1}\",\n",
    "        mode='markers+text',\n",
    "        textposition='top center',\n",
    "        showlegend=False\n",
    "    ))\n",
    "\n",
    "# Show plots\n",
    "fig_pca.show()\n",
    "fig_tsne.show()\n",
    "fig_pca_3d.show()\n",
    "fig_tsne_3d.show()\n"
   ]
  },
  {
   "cell_type": "markdown",
   "metadata": {},
   "source": [
    "# Conclusiones de la visualización:\n",
    "\n",
    "Ocurre el mismo problema que con el modelo anterior, los valores parecen estar en todos lados, no hay clusters bien definidos y eso se refleja en las respuestas obtenidas, que en su mayoria no tienen mucha relacion con la pregunta."
   ]
  },
  {
   "cell_type": "code",
   "execution_count": null,
   "metadata": {},
   "outputs": [],
   "source": []
  }
 ],
 "metadata": {
  "kernelspec": {
   "display_name": "tfm",
   "language": "python",
   "name": "python3"
  },
  "language_info": {
   "codemirror_mode": {
    "name": "ipython",
    "version": 3
   },
   "file_extension": ".py",
   "mimetype": "text/x-python",
   "name": "python",
   "nbconvert_exporter": "python",
   "pygments_lexer": "ipython3",
   "version": "3.9.18"
  }
 },
 "nbformat": 4,
 "nbformat_minor": 2
}

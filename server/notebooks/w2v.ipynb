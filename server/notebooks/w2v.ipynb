{
 "cells": [
  {
   "cell_type": "code",
   "execution_count": 1,
   "metadata": {},
   "outputs": [],
   "source": [
    "import numpy as np\n",
    "from gensim.models import Word2Vec\n",
    "import re\n",
    "from nltk.corpus import stopwords\n",
    "from nltk.tokenize import word_tokenize\n",
    "import unidecode\n",
    "import numpy as np\n",
    "from scipy import spatial\n",
    "import numpy as np\n",
    "import plotly.express as px\n",
    "from sklearn.decomposition import PCA\n",
    "from sklearn.manifold import TSNE\n",
    "import os\n",
    "from gensim.models import KeyedVectors\n",
    "import numpy as np\n",
    "import plotly.graph_objects as go\n",
    "\n",
    "# !MARK: - Constants\n",
    "\n",
    "file_paths = {\n",
    "    \"Auditorias\": \"../chunks/auditorias.txt\",\n",
    "    \"Ausentismo\": \"../chunks/ausentismo.txt\",\n",
    "    \"Estructura Organizativa\": \"../chunks/estructura organizativa.txt\",\n",
    "    \"Riesgos\": \"../chunks/riesgos.txt\",\n",
    "    \"Información\": \"../chunks/información.txt\",\n",
    "    \"Emergencia\": \"../chunks/emergencia.txt\"\n",
    "}\n",
    "\n",
    "questions = [\n",
    "    \"¿Cómo se diferencia la ubicación física de la operativa?\",  # Manual Estructura Organizativa pág. 60 y 73.\n",
    "    \"¿Qué información se incluye en el informe de la evaluación de riesgos que ofrece la plataforma y cuál es su utilidad para la gestión de riesgos en la empresa?\",  # Manual Identificación y Evaluación de Riesgos (IER); pág. 24 - 26.\n",
    "    \"¿Hay indicadores relativos al cumplimiento de normas?\",  # Manual Auditorías pág. 16 17 30 y 31.\n",
    "    \"¿Qué papel juega la estructura organizativa en la funcionalidad general de la plataforma y cómo interactúa con otros módulos?\",  # Manual Estructura Organizativa\n",
    "    \"¿Qué permite realizar la evaluación de riesgos?\",  # Manual Identificación y Evaluación de Riesgos (IER)\n",
    "    \"¿Qué tipo de documentos se pueden almacenar y compartir en el espacio denominado 'Documentos' y cuál es su importancia dentro del contexto de la gestión empresarial en la plataforma?\",  # Manual del Repositorio documental\n",
    "    \"¿Se pueden llevar a cabo auditorías internas?\",  # Manual Auditorías\n",
    "    \"¿Cuál es la tasa de adopción de esta plataforma en el mercado?\",\n",
    "    \"¿Cómo se compara esta plataforma con otras soluciones de gestión de SST?\",\n",
    "    \"¿Qué día hará mañana?\"\n",
    "]\n",
    "\n",
    "# !MARK: - Classes\n",
    "\n",
    "class TextUtils:\n",
    "    @staticmethod\n",
    "    def clean_and_tokenize(text, language):\n",
    "        text = unidecode.unidecode(text.lower())\n",
    "        stop_words = set(stopwords.words(language))\n",
    "        text = re.sub(r'[^a-zA-Z\\s]', '', text, re.I | re.A)\n",
    "        tokens = word_tokenize(text, language=language)\n",
    "        return [token for token in tokens if token not in stop_words]\n",
    "\n",
    "class Model:\n",
    "    def __init__(self, original_paragraphs, preprocessed_paragraphs, language='spanish'):\n",
    "        self.original_paragraphs = original_paragraphs\n",
    "        self.preprocessed_paragraphs = preprocessed_paragraphs\n",
    "        self.language = language\n",
    "\n",
    "    def predict(self, query, similarity_threshold):\n",
    "        raise NotImplementedError(\"Subclasses should implement this method\")\n",
    "    \n",
    "    @staticmethod\n",
    "    def _cosine_similarity(vec1, vec2):\n",
    "        if np.all(vec1 == 0) or np.all(vec2 == 0):\n",
    "            return -1\n",
    "        return 1 - spatial.distance.cosine(vec1, vec2)\n",
    "\n",
    "class Word2VecModel(Model):\n",
    "    def __init__(self, original_paragraphs, language='spanish'):\n",
    "        super().__init__(original_paragraphs, [], language)\n",
    "        self.embeddings_path = 'w2v_embeddings.npy'  # Path to save embeddings\n",
    "        self.model = self._train_model()\n",
    "\n",
    "    def _train_model(self):\n",
    "        sentences = [TextUtils.clean_and_tokenize(paragraph, self.language) for paragraph in self.original_paragraphs]\n",
    "        model = Word2Vec(sentences, vector_size=100, window=5, min_count=1, workers=4)\n",
    "        model.save(\"word2vec.model\")  # Save the entire model\n",
    "        return model\n",
    "\n",
    "    def _get_sentence_embedding(self, sentence):\n",
    "        words = TextUtils.clean_and_tokenize(sentence, self.language)\n",
    "        word_vectors = [self.model.wv[word] for word in words if word in self.model.wv]\n",
    "        if len(word_vectors) == 0:\n",
    "            return np.zeros(self.model.vector_size)\n",
    "        sentence_embedding = np.mean(word_vectors, axis=0)\n",
    "        np.save(self.embeddings_path, sentence_embedding)  # Save the sentence embedding\n",
    "        return sentence_embedding\n",
    "\n",
    "    def predict(self, query, similarity_threshold):\n",
    "        query_embedding = self._get_sentence_embedding(query)\n",
    "        similarities = [(self._cosine_similarity(query_embedding, self._get_sentence_embedding(' '.join(TextUtils.clean_and_tokenize(para, self.language)))), para) for para in self.original_paragraphs]\n",
    "        filtered_and_sorted = sorted([sim for sim in similarities if sim[0] > similarity_threshold], key=lambda x: x[0], reverse=True)\n",
    "        return filtered_and_sorted, query_embedding\n",
    "\n",
    "# !MARK: - File Contents\n",
    "\n",
    "file_contents = {}\n",
    "\n",
    "for key, path in file_paths.items():\n",
    "    with open(path, 'r') as file:\n",
    "        file_contents[key] = file.read().split('\\n\\n')\n",
    "\n",
    "\n",
    "# !MARK: - Model Initialization\n",
    "\n",
    "models = {}\n",
    "\n",
    "for key, path in file_paths.items():\n",
    "    with open(path, 'r') as file:\n",
    "        file_contents[key] = file.read().split('\\n\\n')\n",
    "    models[key] = Word2VecModel(file_contents[key])\n"
   ]
  },
  {
   "cell_type": "code",
   "execution_count": 2,
   "metadata": {},
   "outputs": [
    {
     "name": "stdout",
     "output_type": "stream",
     "text": [
      "'¿Cómo se diferencia la ubicación física de la operativa?' does not have enough similarity\n",
      "Question: ¿Qué información se incluye en el informe de la evaluación de riesgos que ofrece la plataforma y cuál es su utilidad para la gestión de riesgos en la empresa?\n",
      "Closest Model: Emergencia\n",
      "Similarity: 0.90\n",
      "\n",
      "'¿Hay indicadores relativos al cumplimiento de normas?' does not have enough similarity\n",
      "'¿Qué papel juega la estructura organizativa en la funcionalidad general de la plataforma y cómo interactúa con otros módulos?' does not have enough similarity\n",
      "Question: ¿Qué permite realizar la evaluación de riesgos?\n",
      "Closest Model: Emergencia\n",
      "Similarity: 0.96\n",
      "\n",
      "Question: ¿Qué tipo de documentos se pueden almacenar y compartir en el espacio denominado 'Documentos' y cuál es su importancia dentro del contexto de la gestión empresarial en la plataforma?\n",
      "Closest Model: Emergencia\n",
      "Similarity: 0.88\n",
      "\n",
      "Question: ¿Se pueden llevar a cabo auditorías internas?\n",
      "Closest Model: Emergencia\n",
      "Similarity: 0.90\n",
      "\n",
      "'¿Cuál es la tasa de adopción de esta plataforma en el mercado?' does not have enough similarity\n",
      "Question: ¿Cómo se compara esta plataforma con otras soluciones de gestión de SST?\n",
      "Closest Model: Emergencia\n",
      "Similarity: 0.79\n",
      "\n",
      "'¿Qué día hará mañana?' does not have enough similarity\n"
     ]
    },
    {
     "data": {
      "application/vnd.plotly.v1+json": {
       "config": {
        "plotlyServerURL": "https://plot.ly"
       },
       "data": [
        {
         "customdata": [
          [
           "Auditorias"
          ],
          [
           "Auditorias"
          ],
          [
           "Auditorias"
          ],
          [
           "Auditorias"
          ],
          [
           "Auditorias"
          ],
          [
           "Auditorias"
          ],
          [
           "Auditorias"
          ],
          [
           "Auditorias"
          ],
          [
           "Auditorias"
          ],
          [
           "Auditorias"
          ],
          [
           "Auditorias"
          ],
          [
           "Auditorias"
          ],
          [
           "Auditorias"
          ],
          [
           "Auditorias"
          ],
          [
           "Auditorias"
          ],
          [
           "Auditorias"
          ],
          [
           "Auditorias"
          ],
          [
           "Auditorias"
          ],
          [
           "Auditorias"
          ],
          [
           "Auditorias"
          ],
          [
           "Auditorias"
          ],
          [
           "Auditorias"
          ],
          [
           "Auditorias"
          ],
          [
           "Auditorias"
          ],
          [
           "Auditorias"
          ],
          [
           "Auditorias"
          ],
          [
           "Auditorias"
          ],
          [
           "Auditorias"
          ],
          [
           "Auditorias"
          ],
          [
           "Auditorias"
          ],
          [
           "Auditorias"
          ],
          [
           "Auditorias"
          ],
          [
           "Auditorias"
          ],
          [
           "Auditorias"
          ],
          [
           "Auditorias"
          ],
          [
           "Auditorias"
          ],
          [
           "Auditorias"
          ],
          [
           "Auditorias"
          ],
          [
           "Auditorias"
          ],
          [
           "Auditorias"
          ],
          [
           "Auditorias"
          ],
          [
           "Auditorias"
          ],
          [
           "Auditorias"
          ],
          [
           "Auditorias"
          ],
          [
           "Auditorias"
          ],
          [
           "Auditorias"
          ],
          [
           "Auditorias"
          ],
          [
           "Auditorias"
          ],
          [
           "Auditorias"
          ],
          [
           "Auditorias"
          ],
          [
           "Auditorias"
          ],
          [
           "Auditorias"
          ],
          [
           "Auditorias"
          ],
          [
           "Auditorias"
          ],
          [
           "Auditorias"
          ],
          [
           "Auditorias"
          ],
          [
           "Auditorias"
          ],
          [
           "Auditorias"
          ]
         ],
         "hovertemplate": "color=Auditorias<br>PCA Component 1=%{x}<br>PCA Component 2=%{y}<br>label=%{customdata[0]}<extra></extra>",
         "legendgroup": "Auditorias",
         "marker": {
          "color": "#636efa",
          "symbol": "circle"
         },
         "mode": "markers",
         "name": "Auditorias",
         "orientation": "v",
         "showlegend": true,
         "type": "scatter",
         "x": [
          -0.729455,
          -0.7171058,
          -0.717175,
          -0.71566474,
          -0.7191676,
          -0.71253127,
          -0.7114234,
          -0.7101874,
          -0.70869154,
          -0.70951855,
          -0.7102968,
          -0.7114536,
          -0.70804125,
          -0.7003212,
          -0.70944333,
          -0.7168487,
          -0.7109992,
          -0.71070147,
          -0.7102401,
          -0.7084624,
          -0.7105707,
          -0.71232164,
          -0.7146804,
          -0.7116475,
          -0.71042407,
          -0.7102754,
          -0.71022934,
          -0.709942,
          -0.7187537,
          -0.71145403,
          -0.7089097,
          -0.70850194,
          -0.70698446,
          -0.7066045,
          -0.7074129,
          -0.70732665,
          -0.7084203,
          -0.70839924,
          -0.7093391,
          -0.70804125,
          -0.7082981,
          -0.71578425,
          -0.70977956,
          -0.7112018,
          -0.7117404,
          -0.71029025,
          -0.7085792,
          -0.7101655,
          -0.7100351,
          -0.7129426,
          -0.7123261,
          -0.7108467,
          -0.70906276,
          -0.7105136,
          -0.7115447,
          -0.7107914,
          -0.7111083,
          -0.71325433
         ],
         "xaxis": "x",
         "y": [
          -0.013264106,
          -0.008899929,
          -0.009082191,
          -0.009366332,
          -0.012231418,
          -0.005771821,
          -0.0056584193,
          -0.0054719965,
          -0.005346025,
          -0.009356647,
          -0.009210019,
          -0.008891301,
          -0.007280592,
          -0.009005034,
          -0.009392852,
          -0.0077255643,
          -0.010019151,
          -0.0070556724,
          -0.009375367,
          -0.0062299925,
          -0.0119336005,
          -0.009905153,
          -0.007884713,
          -0.005777348,
          -0.007814578,
          -0.0055976138,
          -0.0056817713,
          -0.0033908144,
          -0.008018469,
          -0.008329149,
          -0.0072930832,
          -0.008472413,
          -0.008481447,
          -0.007969933,
          -0.008732661,
          -0.009267253,
          -0.009537859,
          -0.009226715,
          -0.008944025,
          -0.007280592,
          -0.0093209855,
          -0.0076629627,
          -0.0073933797,
          -0.009592304,
          -0.008632738,
          -0.008852261,
          -0.005973845,
          -0.011897544,
          -0.011104448,
          -0.007593285,
          -0.0073205987,
          -0.008194208,
          -0.006112049,
          -0.0050572986,
          -0.0074580344,
          -0.008739023,
          -0.009939399,
          -0.007329518
         ],
         "yaxis": "y"
        },
        {
         "customdata": [
          [
           "Ausentismo"
          ],
          [
           "Ausentismo"
          ],
          [
           "Ausentismo"
          ],
          [
           "Ausentismo"
          ],
          [
           "Ausentismo"
          ],
          [
           "Ausentismo"
          ],
          [
           "Ausentismo"
          ],
          [
           "Ausentismo"
          ],
          [
           "Ausentismo"
          ],
          [
           "Ausentismo"
          ],
          [
           "Ausentismo"
          ],
          [
           "Ausentismo"
          ],
          [
           "Ausentismo"
          ],
          [
           "Ausentismo"
          ],
          [
           "Ausentismo"
          ],
          [
           "Ausentismo"
          ],
          [
           "Ausentismo"
          ],
          [
           "Ausentismo"
          ],
          [
           "Ausentismo"
          ],
          [
           "Ausentismo"
          ],
          [
           "Ausentismo"
          ],
          [
           "Ausentismo"
          ],
          [
           "Ausentismo"
          ],
          [
           "Ausentismo"
          ],
          [
           "Ausentismo"
          ],
          [
           "Ausentismo"
          ],
          [
           "Ausentismo"
          ],
          [
           "Ausentismo"
          ],
          [
           "Ausentismo"
          ],
          [
           "Ausentismo"
          ],
          [
           "Ausentismo"
          ],
          [
           "Ausentismo"
          ],
          [
           "Ausentismo"
          ],
          [
           "Ausentismo"
          ],
          [
           "Ausentismo"
          ],
          [
           "Ausentismo"
          ],
          [
           "Ausentismo"
          ],
          [
           "Ausentismo"
          ],
          [
           "Ausentismo"
          ],
          [
           "Ausentismo"
          ]
         ],
         "hovertemplate": "color=Ausentismo<br>PCA Component 1=%{x}<br>PCA Component 2=%{y}<br>label=%{customdata[0]}<extra></extra>",
         "legendgroup": "Ausentismo",
         "marker": {
          "color": "#EF553B",
          "symbol": "circle"
         },
         "mode": "markers",
         "name": "Ausentismo",
         "orientation": "v",
         "showlegend": true,
         "type": "scatter",
         "x": [
          -0.7170274,
          -0.71316755,
          -0.7136703,
          -0.715122,
          -0.7145796,
          -0.70877606,
          -0.7084632,
          -0.7078141,
          -0.70922184,
          -0.7095694,
          -0.71427006,
          -0.7115945,
          -0.7116891,
          -0.7126111,
          -0.71064734,
          -0.7114653,
          -0.7120742,
          -0.71147794,
          -0.70956403,
          -0.7099166,
          -0.71244204,
          -0.70880604,
          -0.7085293,
          -0.7123884,
          -0.71382767,
          -0.708261,
          -0.71009696,
          -0.7091166,
          -0.7092958,
          -0.7087563,
          -0.7104876,
          -0.710445,
          -0.7091672,
          -0.70916915,
          -0.7102603,
          -0.7107875,
          -0.7097451,
          -0.7123428,
          -0.71490854,
          -0.71527135
         ],
         "xaxis": "x",
         "y": [
          -0.010554269,
          -0.011854346,
          -0.011301704,
          -0.0109209,
          -0.0113155665,
          -0.010752174,
          -0.009651417,
          -0.012979553,
          -0.011250463,
          -0.010414879,
          -0.009274566,
          -0.009706353,
          -0.009618212,
          -0.0109709315,
          -0.01039884,
          -0.009981797,
          -0.010442206,
          -0.010170921,
          -0.011629877,
          -0.011421309,
          -0.011740101,
          -0.01209284,
          -0.011801394,
          -0.011617703,
          -0.011333757,
          -0.010507389,
          -0.010638233,
          -0.009993159,
          -0.0097818505,
          -0.01005824,
          -0.008844864,
          -0.012323726,
          -0.011040221,
          -0.0110605685,
          -0.010760345,
          -0.010990414,
          -0.010747893,
          -0.010575717,
          -0.010334542,
          -0.012369923
         ],
         "yaxis": "y"
        },
        {
         "customdata": [
          [
           "Estructura Organizativa"
          ],
          [
           "Estructura Organizativa"
          ],
          [
           "Estructura Organizativa"
          ],
          [
           "Estructura Organizativa"
          ],
          [
           "Estructura Organizativa"
          ],
          [
           "Estructura Organizativa"
          ],
          [
           "Estructura Organizativa"
          ],
          [
           "Estructura Organizativa"
          ],
          [
           "Estructura Organizativa"
          ],
          [
           "Estructura Organizativa"
          ],
          [
           "Estructura Organizativa"
          ],
          [
           "Estructura Organizativa"
          ],
          [
           "Estructura Organizativa"
          ],
          [
           "Estructura Organizativa"
          ],
          [
           "Estructura Organizativa"
          ],
          [
           "Estructura Organizativa"
          ],
          [
           "Estructura Organizativa"
          ],
          [
           "Estructura Organizativa"
          ],
          [
           "Estructura Organizativa"
          ],
          [
           "Estructura Organizativa"
          ],
          [
           "Estructura Organizativa"
          ],
          [
           "Estructura Organizativa"
          ],
          [
           "Estructura Organizativa"
          ],
          [
           "Estructura Organizativa"
          ],
          [
           "Estructura Organizativa"
          ],
          [
           "Estructura Organizativa"
          ],
          [
           "Estructura Organizativa"
          ],
          [
           "Estructura Organizativa"
          ],
          [
           "Estructura Organizativa"
          ],
          [
           "Estructura Organizativa"
          ],
          [
           "Estructura Organizativa"
          ],
          [
           "Estructura Organizativa"
          ],
          [
           "Estructura Organizativa"
          ],
          [
           "Estructura Organizativa"
          ],
          [
           "Estructura Organizativa"
          ],
          [
           "Estructura Organizativa"
          ],
          [
           "Estructura Organizativa"
          ],
          [
           "Estructura Organizativa"
          ],
          [
           "Estructura Organizativa"
          ],
          [
           "Estructura Organizativa"
          ],
          [
           "Estructura Organizativa"
          ],
          [
           "Estructura Organizativa"
          ],
          [
           "Estructura Organizativa"
          ],
          [
           "Estructura Organizativa"
          ],
          [
           "Estructura Organizativa"
          ],
          [
           "Estructura Organizativa"
          ],
          [
           "Estructura Organizativa"
          ],
          [
           "Estructura Organizativa"
          ],
          [
           "Estructura Organizativa"
          ],
          [
           "Estructura Organizativa"
          ],
          [
           "Estructura Organizativa"
          ],
          [
           "Estructura Organizativa"
          ],
          [
           "Estructura Organizativa"
          ],
          [
           "Estructura Organizativa"
          ],
          [
           "Estructura Organizativa"
          ],
          [
           "Estructura Organizativa"
          ],
          [
           "Estructura Organizativa"
          ],
          [
           "Estructura Organizativa"
          ],
          [
           "Estructura Organizativa"
          ],
          [
           "Estructura Organizativa"
          ],
          [
           "Estructura Organizativa"
          ],
          [
           "Estructura Organizativa"
          ],
          [
           "Estructura Organizativa"
          ],
          [
           "Estructura Organizativa"
          ],
          [
           "Estructura Organizativa"
          ],
          [
           "Estructura Organizativa"
          ],
          [
           "Estructura Organizativa"
          ],
          [
           "Estructura Organizativa"
          ],
          [
           "Estructura Organizativa"
          ],
          [
           "Estructura Organizativa"
          ],
          [
           "Estructura Organizativa"
          ],
          [
           "Estructura Organizativa"
          ],
          [
           "Estructura Organizativa"
          ],
          [
           "Estructura Organizativa"
          ],
          [
           "Estructura Organizativa"
          ],
          [
           "Estructura Organizativa"
          ],
          [
           "Estructura Organizativa"
          ],
          [
           "Estructura Organizativa"
          ],
          [
           "Estructura Organizativa"
          ],
          [
           "Estructura Organizativa"
          ],
          [
           "Estructura Organizativa"
          ],
          [
           "Estructura Organizativa"
          ],
          [
           "Estructura Organizativa"
          ],
          [
           "Estructura Organizativa"
          ],
          [
           "Estructura Organizativa"
          ],
          [
           "Estructura Organizativa"
          ],
          [
           "Estructura Organizativa"
          ],
          [
           "Estructura Organizativa"
          ],
          [
           "Estructura Organizativa"
          ],
          [
           "Estructura Organizativa"
          ],
          [
           "Estructura Organizativa"
          ],
          [
           "Estructura Organizativa"
          ],
          [
           "Estructura Organizativa"
          ],
          [
           "Estructura Organizativa"
          ],
          [
           "Estructura Organizativa"
          ],
          [
           "Estructura Organizativa"
          ],
          [
           "Estructura Organizativa"
          ],
          [
           "Estructura Organizativa"
          ],
          [
           "Estructura Organizativa"
          ],
          [
           "Estructura Organizativa"
          ],
          [
           "Estructura Organizativa"
          ],
          [
           "Estructura Organizativa"
          ],
          [
           "Estructura Organizativa"
          ],
          [
           "Estructura Organizativa"
          ],
          [
           "Estructura Organizativa"
          ],
          [
           "Estructura Organizativa"
          ],
          [
           "Estructura Organizativa"
          ],
          [
           "Estructura Organizativa"
          ],
          [
           "Estructura Organizativa"
          ],
          [
           "Estructura Organizativa"
          ],
          [
           "Estructura Organizativa"
          ],
          [
           "Estructura Organizativa"
          ],
          [
           "Estructura Organizativa"
          ],
          [
           "Estructura Organizativa"
          ],
          [
           "Estructura Organizativa"
          ],
          [
           "Estructura Organizativa"
          ],
          [
           "Estructura Organizativa"
          ],
          [
           "Estructura Organizativa"
          ],
          [
           "Estructura Organizativa"
          ],
          [
           "Estructura Organizativa"
          ],
          [
           "Estructura Organizativa"
          ],
          [
           "Estructura Organizativa"
          ],
          [
           "Estructura Organizativa"
          ],
          [
           "Estructura Organizativa"
          ],
          [
           "Estructura Organizativa"
          ],
          [
           "Estructura Organizativa"
          ],
          [
           "Estructura Organizativa"
          ],
          [
           "Estructura Organizativa"
          ],
          [
           "Estructura Organizativa"
          ],
          [
           "Estructura Organizativa"
          ],
          [
           "Estructura Organizativa"
          ],
          [
           "Estructura Organizativa"
          ],
          [
           "Estructura Organizativa"
          ],
          [
           "Estructura Organizativa"
          ],
          [
           "Estructura Organizativa"
          ],
          [
           "Estructura Organizativa"
          ],
          [
           "Estructura Organizativa"
          ],
          [
           "Estructura Organizativa"
          ],
          [
           "Estructura Organizativa"
          ],
          [
           "Estructura Organizativa"
          ],
          [
           "Estructura Organizativa"
          ],
          [
           "Estructura Organizativa"
          ],
          [
           "Estructura Organizativa"
          ],
          [
           "Estructura Organizativa"
          ],
          [
           "Estructura Organizativa"
          ],
          [
           "Estructura Organizativa"
          ],
          [
           "Estructura Organizativa"
          ],
          [
           "Estructura Organizativa"
          ],
          [
           "Estructura Organizativa"
          ],
          [
           "Estructura Organizativa"
          ],
          [
           "Estructura Organizativa"
          ],
          [
           "Estructura Organizativa"
          ],
          [
           "Estructura Organizativa"
          ],
          [
           "Estructura Organizativa"
          ],
          [
           "Estructura Organizativa"
          ],
          [
           "Estructura Organizativa"
          ],
          [
           "Estructura Organizativa"
          ],
          [
           "Estructura Organizativa"
          ],
          [
           "Estructura Organizativa"
          ],
          [
           "Estructura Organizativa"
          ],
          [
           "Estructura Organizativa"
          ],
          [
           "Estructura Organizativa"
          ],
          [
           "Estructura Organizativa"
          ],
          [
           "Estructura Organizativa"
          ],
          [
           "Estructura Organizativa"
          ],
          [
           "Estructura Organizativa"
          ],
          [
           "Estructura Organizativa"
          ],
          [
           "Estructura Organizativa"
          ],
          [
           "Estructura Organizativa"
          ],
          [
           "Estructura Organizativa"
          ],
          [
           "Estructura Organizativa"
          ],
          [
           "Estructura Organizativa"
          ],
          [
           "Estructura Organizativa"
          ],
          [
           "Estructura Organizativa"
          ],
          [
           "Estructura Organizativa"
          ],
          [
           "Estructura Organizativa"
          ],
          [
           "Estructura Organizativa"
          ],
          [
           "Estructura Organizativa"
          ],
          [
           "Estructura Organizativa"
          ],
          [
           "Estructura Organizativa"
          ],
          [
           "Estructura Organizativa"
          ],
          [
           "Estructura Organizativa"
          ],
          [
           "Estructura Organizativa"
          ],
          [
           "Estructura Organizativa"
          ],
          [
           "Estructura Organizativa"
          ],
          [
           "Estructura Organizativa"
          ],
          [
           "Estructura Organizativa"
          ],
          [
           "Estructura Organizativa"
          ],
          [
           "Estructura Organizativa"
          ],
          [
           "Estructura Organizativa"
          ],
          [
           "Estructura Organizativa"
          ],
          [
           "Estructura Organizativa"
          ],
          [
           "Estructura Organizativa"
          ],
          [
           "Estructura Organizativa"
          ],
          [
           "Estructura Organizativa"
          ],
          [
           "Estructura Organizativa"
          ],
          [
           "Estructura Organizativa"
          ],
          [
           "Estructura Organizativa"
          ],
          [
           "Estructura Organizativa"
          ],
          [
           "Estructura Organizativa"
          ],
          [
           "Estructura Organizativa"
          ],
          [
           "Estructura Organizativa"
          ],
          [
           "Estructura Organizativa"
          ],
          [
           "Estructura Organizativa"
          ],
          [
           "Estructura Organizativa"
          ],
          [
           "Estructura Organizativa"
          ],
          [
           "Estructura Organizativa"
          ],
          [
           "Estructura Organizativa"
          ],
          [
           "Estructura Organizativa"
          ],
          [
           "Estructura Organizativa"
          ],
          [
           "Estructura Organizativa"
          ]
         ],
         "hovertemplate": "color=Estructura Organizativa<br>PCA Component 1=%{x}<br>PCA Component 2=%{y}<br>label=%{customdata[0]}<extra></extra>",
         "legendgroup": "Estructura Organizativa",
         "marker": {
          "color": "#00cc96",
          "symbol": "circle"
         },
         "mode": "markers",
         "name": "Estructura Organizativa",
         "orientation": "v",
         "showlegend": true,
         "type": "scatter",
         "x": [
          0.107958704,
          -0.2665327,
          0.09296544,
          0.37925315,
          0.2558252,
          0.32176998,
          1.1350832,
          0.20249893,
          0.20033522,
          0.20389886,
          0.07789081,
          0.5513611,
          0.649848,
          0.5203913,
          1.206861,
          1.2247791,
          1.2762659,
          1.2447852,
          1.2385381,
          1.2051282,
          1.1827166,
          1.1052336,
          0.8862698,
          0.8262311,
          0.92080164,
          1.0418966,
          1.6674232,
          1.0542551,
          0.99811524,
          1.0821911,
          1.0656083,
          0.99558115,
          0.87335604,
          1.163943,
          1.0555012,
          0.9719173,
          0.9915665,
          1.0446234,
          0.99458265,
          1.0065331,
          0.8424309,
          0.6725399,
          0.9274232,
          1.0836782,
          0.9735552,
          0.93078035,
          0.9327206,
          0.82835275,
          0.7968181,
          1.1522632,
          0.9812179,
          1.0043907,
          0.95250636,
          1.086622,
          1.0703905,
          1.0815403,
          1.0004873,
          1.0241125,
          0.96540606,
          0.45187446,
          1.2218174,
          0.99987864,
          1.1577648,
          1.3487828,
          1.2380115,
          0.9970219,
          0.9296506,
          1.0484844,
          1.0260835,
          1.0565051,
          0.98906416,
          0.8288181,
          1.1134899,
          1.1658593,
          1.2513254,
          1.2489552,
          0.94782263,
          0.7822865,
          0.851257,
          1.0961971,
          1.247557,
          1.2488586,
          1.1808859,
          1.2223285,
          1.1489983,
          0.86737305,
          1.0462745,
          1.1391479,
          1.1851515,
          1.202354,
          0.96501786,
          0.47877082,
          0.84899414,
          0.75175005,
          1.0816857,
          1.0670382,
          1.2948258,
          0.79244643,
          0.80673426,
          0.7683432,
          0.92179877,
          0.9140502,
          0.8906792,
          0.946764,
          1.0197291,
          0.96864194,
          1.0097597,
          0.5045681,
          1.495416,
          1.3010067,
          1.2318548,
          1.2168863,
          0.39298105,
          0.76200384,
          0.70072275,
          0.8400832,
          0.7890846,
          0.443464,
          0.5466101,
          0.85173285,
          0.9565702,
          0.8553946,
          0.6165918,
          0.26029745,
          0.66134655,
          0.17333905,
          0.7211941,
          0.6264452,
          0.7720318,
          1.1385099,
          1.2554404,
          1.1311673,
          1.2045567,
          1.2069958,
          1.1003683,
          1.068438,
          1.0750543,
          1.1378818,
          1.0997256,
          1.1012994,
          1.112404,
          1.1279342,
          1.1711191,
          1.1448432,
          1.2099234,
          1.1444744,
          1.1328063,
          1.1250777,
          1.0859135,
          1.1270044,
          1.1153525,
          1.0763806,
          1.0440624,
          1.1386609,
          1.1248235,
          1.193407,
          1.1401887,
          1.0289932,
          1.112507,
          1.1312568,
          1.1146963,
          1.0982792,
          1.0692471,
          1.2565798,
          1.186577,
          1.0719172,
          0.26304373,
          1.1706585,
          1.2726413,
          1.2605999,
          1.1528044,
          1.1597868,
          1.2329085,
          1.1184905,
          1.0793508,
          1.1703228,
          1.190668,
          1.1115423,
          1.1102798,
          1.1071246,
          1.098005,
          1.1482208,
          1.1639936,
          1.0817436,
          1.0776879,
          1.1085292,
          0.9899283,
          1.0493068,
          1.1013398,
          1.1005697,
          0.9195516,
          1.0926759,
          1.1415268,
          1.1740018,
          1.2005154,
          1.272122,
          1.273302,
          1.1975368,
          1.1070927,
          1.0007639,
          0.82428104,
          0.6928416,
          0.59477633,
          0.45197293,
          0.6342327,
          0.28591013,
          0.82859313,
          1.1028099,
          0.9579728,
          0.85621834,
          1.1229854
         ],
         "xaxis": "x",
         "y": [
          -0.008217394,
          -0.010493301,
          -0.008333951,
          -0.005311987,
          -0.0062602875,
          -0.0057139006,
          -0.0068558794,
          -0.008357041,
          -0.008270424,
          -0.0075554955,
          -0.0072568846,
          -0.0072743157,
          -0.0062103625,
          -0.0059686694,
          -0.0053961584,
          -0.005044643,
          -0.004697847,
          -0.004034061,
          -0.0040929117,
          -0.004733486,
          -0.0031635289,
          -0.0033529308,
          -0.00410293,
          -0.0050100023,
          -0.005184818,
          -0.0045711417,
          -0.0018124378,
          -0.0008771343,
          -0.0008724752,
          0.00030296674,
          0.0038470603,
          0.0031636024,
          0.00018484214,
          -0.0025628358,
          -0.0029904759,
          -0.004173254,
          -0.004229006,
          -0.0048023155,
          -0.0029133575,
          -0.00083355187,
          -0.001862817,
          -0.0005016697,
          0.0019397378,
          -0.0066341157,
          0.0001932136,
          0.0005038184,
          0.00015841948,
          -0.0013119979,
          -0.0038865954,
          -0.0022245708,
          -0.005963419,
          -0.006374486,
          -0.0057046763,
          -0.0027279146,
          -0.001022631,
          -0.00017165478,
          0.0003774491,
          0.0005627754,
          -0.0016935392,
          -0.0075124186,
          0.0007683833,
          -0.0011161458,
          0.00089105184,
          -0.002864325,
          0.0006496978,
          -0.0014866273,
          -0.001695186,
          -0.0011812134,
          -0.0010968327,
          -0.0023574391,
          -0.0027335174,
          -0.003661698,
          0.0014520985,
          -0.00054410007,
          -0.0057329694,
          -0.005292252,
          0.0038055384,
          0.0012348181,
          0.0014416402,
          0.0008355072,
          0.004431679,
          0.001562589,
          -0.0005695573,
          -0.0047699376,
          -0.0051810886,
          -0.00016032346,
          0.0016834754,
          0.0028781677,
          0.0044956207,
          -0.002002246,
          -0.0011794891,
          -0.003203521,
          -0.0021587734,
          -0.0031933666,
          -0.0015878679,
          0.00023470829,
          -0.0033671942,
          -0.004652331,
          -0.0042089024,
          -0.0030758677,
          -0.00075434503,
          -0.0004447,
          -0.0005296716,
          0.00022861235,
          0.0021977297,
          -0.0053093988,
          0.0007011173,
          -0.004448975,
          0.0031620234,
          -0.0011435337,
          0.0012020626,
          0.0039266325,
          -0.0027687845,
          -0.0035500983,
          -0.0029157258,
          -0.0024365727,
          -0.00078511686,
          -0.0066834916,
          -0.0043034423,
          -0.003524362,
          -0.0025285082,
          -0.0017088602,
          -0.0020073645,
          0.0004152386,
          -0.0049977326,
          -0.00192958,
          -0.0040542833,
          -0.004052353,
          0.00052961824,
          -0.0039719576,
          -0.0028274483,
          -0.0041035595,
          -0.004201161,
          -0.0034970255,
          -0.003714046,
          -0.0003367229,
          0.001978063,
          0.0029711246,
          0.0059565,
          0.0097640585,
          0.009139595,
          -0.0009493774,
          0.0035940637,
          0.003421099,
          0.004711849,
          0.006026641,
          0.00021291879,
          0.0030744558,
          0.0046048183,
          0.008391596,
          0.009256963,
          0.008148945,
          0.00018709461,
          0.0035106635,
          0.004323576,
          0.00393176,
          0.005758656,
          0.0007288568,
          0.0025767456,
          0.0037269508,
          0.0068750978,
          0.008268482,
          0.006824825,
          0.0018007255,
          0.0027179369,
          0.0050392477,
          -0.0031323566,
          -0.0040232423,
          -0.0037489343,
          -0.0033051383,
          -0.0026021649,
          -0.0037052087,
          -0.0039252527,
          -0.0035627526,
          0.00024044419,
          0.0032855228,
          0.005605258,
          0.008060197,
          0.010872128,
          0.002735223,
          0.0020348597,
          0.0039448603,
          0.0064336434,
          0.008394004,
          0.00062122167,
          0.002553386,
          -0.00033378892,
          0.0024762861,
          0.0041640988,
          0.0051539205,
          -0.0036018519,
          -0.00037781327,
          -0.000227476,
          0.00093834,
          0.0036052638,
          0.0044179168,
          0.0060315765,
          0.0071890107,
          0.0073601077,
          0.005869007,
          0.003231253,
          0.00031951367,
          -0.00038455805,
          -0.0021784299,
          -0.0014443222,
          -0.0037269555,
          0.0037617125,
          0.004168624,
          0.00022349636,
          -0.0016107706,
          0.0042790147
         ],
         "yaxis": "y"
        },
        {
         "customdata": [
          [
           "Riesgos"
          ],
          [
           "Riesgos"
          ],
          [
           "Riesgos"
          ],
          [
           "Riesgos"
          ],
          [
           "Riesgos"
          ],
          [
           "Riesgos"
          ],
          [
           "Riesgos"
          ],
          [
           "Riesgos"
          ],
          [
           "Riesgos"
          ],
          [
           "Riesgos"
          ],
          [
           "Riesgos"
          ],
          [
           "Riesgos"
          ],
          [
           "Riesgos"
          ],
          [
           "Riesgos"
          ],
          [
           "Riesgos"
          ],
          [
           "Riesgos"
          ],
          [
           "Riesgos"
          ],
          [
           "Riesgos"
          ],
          [
           "Riesgos"
          ],
          [
           "Riesgos"
          ],
          [
           "Riesgos"
          ],
          [
           "Riesgos"
          ],
          [
           "Riesgos"
          ],
          [
           "Riesgos"
          ],
          [
           "Riesgos"
          ],
          [
           "Riesgos"
          ],
          [
           "Riesgos"
          ],
          [
           "Riesgos"
          ],
          [
           "Riesgos"
          ],
          [
           "Riesgos"
          ],
          [
           "Riesgos"
          ],
          [
           "Riesgos"
          ],
          [
           "Riesgos"
          ],
          [
           "Riesgos"
          ],
          [
           "Riesgos"
          ],
          [
           "Riesgos"
          ],
          [
           "Riesgos"
          ],
          [
           "Riesgos"
          ],
          [
           "Riesgos"
          ],
          [
           "Riesgos"
          ],
          [
           "Riesgos"
          ],
          [
           "Riesgos"
          ],
          [
           "Riesgos"
          ],
          [
           "Riesgos"
          ],
          [
           "Riesgos"
          ],
          [
           "Riesgos"
          ],
          [
           "Riesgos"
          ],
          [
           "Riesgos"
          ],
          [
           "Riesgos"
          ],
          [
           "Riesgos"
          ],
          [
           "Riesgos"
          ],
          [
           "Riesgos"
          ],
          [
           "Riesgos"
          ],
          [
           "Riesgos"
          ],
          [
           "Riesgos"
          ],
          [
           "Riesgos"
          ],
          [
           "Riesgos"
          ],
          [
           "Riesgos"
          ],
          [
           "Riesgos"
          ],
          [
           "Riesgos"
          ]
         ],
         "hovertemplate": "color=Riesgos<br>PCA Component 1=%{x}<br>PCA Component 2=%{y}<br>label=%{customdata[0]}<extra></extra>",
         "legendgroup": "Riesgos",
         "marker": {
          "color": "#ab63fa",
          "symbol": "circle"
         },
         "mode": "markers",
         "name": "Riesgos",
         "orientation": "v",
         "showlegend": true,
         "type": "scatter",
         "x": [
          -0.7195224,
          -0.71328807,
          -0.7105432,
          -0.69462633,
          -0.7179405,
          -0.7187087,
          -0.7060678,
          -0.70849115,
          -0.709828,
          -0.70224684,
          -0.70295006,
          -0.7038622,
          -0.7039012,
          -0.7037299,
          -0.7048158,
          -0.7053329,
          -0.7057072,
          -0.7064774,
          -0.7029413,
          -0.7057996,
          -0.7052919,
          -0.7144268,
          -0.7124706,
          -0.7093691,
          -0.71023667,
          -0.70824635,
          -0.7021085,
          -0.701304,
          -0.7038286,
          -0.7057131,
          -0.7127231,
          -0.7090293,
          -0.7082988,
          -0.71127206,
          -0.71314394,
          -0.7046987,
          -0.70504755,
          -0.7035176,
          -0.7053227,
          -0.7034137,
          -0.70713043,
          -0.7088891,
          -0.7097007,
          -0.7079182,
          -0.705276,
          -0.7045837,
          -0.703172,
          -0.7021288,
          -0.7085817,
          -0.7042833,
          -0.70205534,
          -0.7022033,
          -0.7012427,
          -0.70191526,
          -0.7012485,
          -0.702988,
          -0.7027713,
          -0.7046732,
          -0.7061479,
          -0.70882607
         ],
         "xaxis": "x",
         "y": [
          -0.009871963,
          -0.009870055,
          -0.009896119,
          -0.0049830144,
          -0.008646853,
          -0.008677899,
          -0.0073455865,
          -0.008367324,
          -0.007842089,
          -0.009175166,
          -0.008931968,
          -0.009361073,
          -0.009383489,
          -0.008427014,
          -0.008704217,
          -0.009684449,
          -0.009037407,
          -0.008668302,
          -0.006550313,
          -0.0062033054,
          -0.0077984827,
          -0.0081581455,
          -0.00881366,
          -0.0077705607,
          -0.0074639535,
          -0.007579449,
          -0.008842105,
          -0.009909651,
          -0.009568531,
          -0.009689015,
          -0.010287289,
          -0.008950505,
          -0.00939024,
          -0.01039293,
          -0.0069225156,
          -0.0073324456,
          -0.0066658584,
          -0.00661527,
          -0.008843276,
          -0.0054210513,
          -0.004935409,
          -0.006837531,
          -0.00618843,
          -0.0065458487,
          -0.007441798,
          -0.00853582,
          -0.010135834,
          -0.0104454905,
          -0.010517373,
          -0.0063953465,
          -0.00708785,
          -0.0057820817,
          -0.007076043,
          -0.007024885,
          -0.006833246,
          -0.008363648,
          -0.009377651,
          -0.008447083,
          -0.008638439,
          -0.009085459
         ],
         "yaxis": "y"
        },
        {
         "customdata": [
          [
           "Información"
          ],
          [
           "Información"
          ],
          [
           "Información"
          ],
          [
           "Información"
          ],
          [
           "Información"
          ],
          [
           "Información"
          ],
          [
           "Información"
          ],
          [
           "Información"
          ],
          [
           "Información"
          ],
          [
           "Información"
          ],
          [
           "Información"
          ],
          [
           "Información"
          ],
          [
           "Información"
          ],
          [
           "Información"
          ],
          [
           "Información"
          ],
          [
           "Información"
          ],
          [
           "Información"
          ],
          [
           "Información"
          ],
          [
           "Información"
          ],
          [
           "Información"
          ],
          [
           "Información"
          ]
         ],
         "hovertemplate": "color=Información<br>PCA Component 1=%{x}<br>PCA Component 2=%{y}<br>label=%{customdata[0]}<extra></extra>",
         "legendgroup": "Información",
         "marker": {
          "color": "#FFA15A",
          "symbol": "circle"
         },
         "mode": "markers",
         "name": "Información",
         "orientation": "v",
         "showlegend": true,
         "type": "scatter",
         "x": [
          -0.7210785,
          -0.7217603,
          -0.7198598,
          -0.71944726,
          -0.7193104,
          -0.71967757,
          -0.7197723,
          -0.72244537,
          -0.72055405,
          -0.72100705,
          -0.71832293,
          -0.7178019,
          -0.7182021,
          -0.72282875,
          -0.719866,
          -0.72040254,
          -0.7099032,
          -0.71776336,
          -0.7188102,
          -0.7186252,
          -0.72146004
         ],
         "xaxis": "x",
         "y": [
          -0.010782759,
          -0.011379855,
          -0.013971129,
          -0.014434051,
          -0.012773884,
          -0.0129056955,
          -0.012782876,
          -0.0117053315,
          -0.012449937,
          -0.01195879,
          -0.012431838,
          -0.0125406915,
          -0.011654163,
          -0.009771421,
          -0.013368868,
          -0.013164395,
          -0.013269412,
          -0.012944531,
          -0.012630987,
          -0.012071554,
          -0.011069777
         ],
         "yaxis": "y"
        },
        {
         "customdata": [
          [
           "Emergencia"
          ],
          [
           "Emergencia"
          ],
          [
           "Emergencia"
          ],
          [
           "Emergencia"
          ],
          [
           "Emergencia"
          ],
          [
           "Emergencia"
          ],
          [
           "Emergencia"
          ],
          [
           "Emergencia"
          ],
          [
           "Emergencia"
          ],
          [
           "Emergencia"
          ],
          [
           "Emergencia"
          ],
          [
           "Emergencia"
          ],
          [
           "Emergencia"
          ],
          [
           "Emergencia"
          ],
          [
           "Emergencia"
          ],
          [
           "Emergencia"
          ],
          [
           "Emergencia"
          ],
          [
           "Emergencia"
          ],
          [
           "Emergencia"
          ],
          [
           "Emergencia"
          ],
          [
           "Emergencia"
          ],
          [
           "Emergencia"
          ],
          [
           "Emergencia"
          ],
          [
           "Emergencia"
          ],
          [
           "Emergencia"
          ],
          [
           "Emergencia"
          ],
          [
           "Emergencia"
          ],
          [
           "Emergencia"
          ],
          [
           "Emergencia"
          ],
          [
           "Emergencia"
          ],
          [
           "Emergencia"
          ],
          [
           "Emergencia"
          ],
          [
           "Emergencia"
          ],
          [
           "Emergencia"
          ],
          [
           "Emergencia"
          ],
          [
           "Emergencia"
          ],
          [
           "Emergencia"
          ],
          [
           "Emergencia"
          ],
          [
           "Emergencia"
          ],
          [
           "Emergencia"
          ],
          [
           "Emergencia"
          ],
          [
           "Emergencia"
          ],
          [
           "Emergencia"
          ],
          [
           "Emergencia"
          ],
          [
           "Emergencia"
          ],
          [
           "Emergencia"
          ],
          [
           "Emergencia"
          ],
          [
           "Emergencia"
          ],
          [
           "Emergencia"
          ],
          [
           "Emergencia"
          ],
          [
           "Emergencia"
          ],
          [
           "Emergencia"
          ],
          [
           "Emergencia"
          ],
          [
           "Emergencia"
          ],
          [
           "Emergencia"
          ],
          [
           "Emergencia"
          ],
          [
           "Emergencia"
          ],
          [
           "Emergencia"
          ],
          [
           "Emergencia"
          ],
          [
           "Emergencia"
          ],
          [
           "Emergencia"
          ],
          [
           "Emergencia"
          ],
          [
           "Emergencia"
          ],
          [
           "Emergencia"
          ],
          [
           "Emergencia"
          ],
          [
           "Emergencia"
          ],
          [
           "Emergencia"
          ],
          [
           "Emergencia"
          ],
          [
           "Emergencia"
          ],
          [
           "Emergencia"
          ],
          [
           "Emergencia"
          ],
          [
           "Emergencia"
          ],
          [
           "Emergencia"
          ],
          [
           "Emergencia"
          ],
          [
           "Emergencia"
          ],
          [
           "Emergencia"
          ],
          [
           "Emergencia"
          ],
          [
           "Emergencia"
          ],
          [
           "Emergencia"
          ],
          [
           "Emergencia"
          ],
          [
           "Emergencia"
          ],
          [
           "Emergencia"
          ],
          [
           "Emergencia"
          ],
          [
           "Emergencia"
          ],
          [
           "Emergencia"
          ],
          [
           "Emergencia"
          ],
          [
           "Emergencia"
          ],
          [
           "Emergencia"
          ],
          [
           "Emergencia"
          ],
          [
           "Emergencia"
          ],
          [
           "Emergencia"
          ],
          [
           "Emergencia"
          ],
          [
           "Emergencia"
          ],
          [
           "Emergencia"
          ],
          [
           "Emergencia"
          ],
          [
           "Emergencia"
          ],
          [
           "Emergencia"
          ],
          [
           "Emergencia"
          ],
          [
           "Emergencia"
          ],
          [
           "Emergencia"
          ],
          [
           "Emergencia"
          ],
          [
           "Emergencia"
          ],
          [
           "Emergencia"
          ],
          [
           "Emergencia"
          ],
          [
           "Emergencia"
          ]
         ],
         "hovertemplate": "color=Emergencia<br>PCA Component 1=%{x}<br>PCA Component 2=%{y}<br>label=%{customdata[0]}<extra></extra>",
         "legendgroup": "Emergencia",
         "marker": {
          "color": "#19d3f3",
          "symbol": "circle"
         },
         "mode": "markers",
         "name": "Emergencia",
         "orientation": "v",
         "showlegend": true,
         "type": "scatter",
         "x": [
          -0.71793085,
          -0.6941134,
          -0.69181746,
          -0.67507803,
          -0.6789684,
          -0.6835802,
          -0.6858225,
          -0.6877849,
          -0.6858181,
          -0.6837048,
          -0.67853785,
          -0.6823932,
          -0.6988759,
          -0.68739605,
          -0.6854368,
          -0.68354684,
          -0.6818009,
          -0.6834953,
          -0.6855247,
          -0.6858182,
          -0.6848814,
          -0.6861335,
          -0.6843864,
          -0.68462807,
          -0.6822257,
          -0.6731243,
          -0.6724365,
          -0.6766107,
          -0.65869045,
          -0.6627209,
          -0.66794723,
          -0.64898926,
          -0.6641319,
          -0.65982133,
          -0.66202295,
          -0.657429,
          -0.6560698,
          -0.65844077,
          -0.6614448,
          -0.65913993,
          -0.6712791,
          -0.6569336,
          -0.65436435,
          -0.67051154,
          -0.67077744,
          -0.6710283,
          -0.6738153,
          -0.670206,
          -0.67450565,
          -0.67004836,
          -0.672731,
          -0.6731171,
          -0.6760033,
          -0.67762125,
          -0.6593264,
          -0.6542437,
          -0.6542652,
          -0.65117335,
          -0.65682757,
          -0.6598703,
          -0.6601132,
          -0.6769582,
          -0.6769072,
          -0.668085,
          -0.67209136,
          -0.67505306,
          -0.67448133,
          -0.65409493,
          -0.6566251,
          -0.6571205,
          -0.6589382,
          -0.6577227,
          -0.6575712,
          -0.6626464,
          -0.6636226,
          -0.66145986,
          -0.6620526,
          -0.6611492,
          -0.68635154,
          -0.6721327,
          -0.66943336,
          -0.66231453,
          -0.661119,
          -0.6541122,
          -0.6498273,
          -0.64955837,
          -0.65270627,
          -0.6546772,
          -0.6737982,
          -0.6584459,
          -0.6538361,
          -0.66462344,
          -0.65872794,
          -0.65920496,
          -0.66992426,
          -0.6774035,
          -0.6719889,
          -0.65373623,
          -0.65987337,
          -0.6727957,
          -0.6518059,
          -0.65289336,
          -0.65967524,
          -0.67566,
          -0.6575442
         ],
         "xaxis": "x",
         "y": [
          -0.007114184,
          0.0054614735,
          0.007050284,
          0.011959074,
          0.013531976,
          0.011899844,
          0.01140687,
          0.009934566,
          0.009608727,
          0.010356695,
          0.012777606,
          0.011280657,
          0.0020012758,
          0.008498489,
          0.0101777315,
          0.011242293,
          0.013212998,
          0.012748458,
          0.012052489,
          0.011774386,
          0.011891799,
          0.0107978145,
          0.011826026,
          0.012201819,
          0.010217152,
          0.015917143,
          0.016771127,
          0.014528761,
          0.022247996,
          0.021275224,
          0.019035581,
          0.02596909,
          0.019278407,
          0.021438321,
          0.020043794,
          0.022760417,
          0.023479246,
          0.020494066,
          0.017938366,
          0.018768102,
          0.01793945,
          0.021400962,
          0.022069156,
          0.017153699,
          0.016609158,
          0.016557436,
          0.013993194,
          0.015041157,
          0.012215144,
          0.014618548,
          0.013725081,
          0.014443087,
          0.014713445,
          0.015009802,
          0.017306527,
          0.02198934,
          0.022301547,
          0.022949269,
          0.020228483,
          0.018989304,
          0.018189369,
          0.01309414,
          0.013320345,
          0.017005771,
          0.015369096,
          0.015143586,
          0.013694912,
          0.021662982,
          0.022849957,
          0.022197518,
          0.0208626,
          0.020974131,
          0.02161819,
          0.01905813,
          0.018763514,
          0.02033551,
          0.019796085,
          0.020587092,
          0.006888004,
          0.012925773,
          0.015113847,
          0.019506225,
          0.019313866,
          0.021884492,
          0.023840405,
          0.024725527,
          0.022987138,
          0.021780444,
          0.014587209,
          0.021103296,
          0.023042107,
          0.017887205,
          0.01965073,
          0.018835016,
          0.014646712,
          0.011549789,
          0.011956988,
          0.019845722,
          0.016101204,
          0.014957827,
          0.022782452,
          0.022465203,
          0.018821172,
          0.008554027,
          0.020071497
         ],
         "yaxis": "y"
        },
        {
         "customdata": [
          [
           "Question: ¿Cómo se diferencia la ubicación física de la operativa?<br>Closest Model: Emergencia<br>Similarity: 0.61<br>Chunk: de respuesta organizada y operativa a través del  adiestramiento práctico.  Los objetivos del simula..."
          ],
          [
           "Question: ¿Qué información se incluye en el informe de la evaluación de riesgos que ofrece la plataforma y cuál es su utilidad para la gestión de riesgos en la empresa?<br>Closest Model: Emergencia<br>Similarity: 0.90<br>Chunk: Este formulario permite realizar guardados parciales en la evaluación, por lo que se muestra  en una..."
          ],
          [
           "Question: ¿Hay indicadores relativos al cumplimiento de normas?<br>Closest Model: Auditorias<br>Similarity: 0.34<br>Chunk: 5. PLANIFICACIÓN Y EJECUCIÓN DE MEDIDAS  El usuario accede al cardboard “Planificación y ejecución d..."
          ],
          [
           "Question: ¿Qué papel juega la estructura organizativa en la funcionalidad general de la plataforma y cómo interactúa con otros módulos?<br>Closest Model: Auditorias<br>Similarity: 0.38<br>Chunk: GRÁFICA DE RESULTADOS  En la pestaña “Gráficas de resultados” se muestran dos tipos de gráficas. La ..."
          ],
          [
           "Question: ¿Qué permite realizar la evaluación de riesgos?<br>Closest Model: Emergencia<br>Similarity: 0.96<br>Chunk: 19  Al clicar a la acción Evaluar del listado, el usuario es redirigido al formulario de evaluación ..."
          ],
          [
           "Question: ¿Qué tipo de documentos se pueden almacenar y compartir en el espacio denominado 'Documentos' y cuál es su importancia dentro del contexto de la gestión empresarial en la plataforma?<br>Closest Model: Emergencia<br>Similarity: 0.88<br>Chunk: visualiza una serie de cuestionarios relativos al proceso de comunicación, proceso de  evacuación y ..."
          ],
          [
           "Question: ¿Se pueden llevar a cabo auditorías internas?<br>Closest Model: Emergencia<br>Similarity: 0.90<br>Chunk: visualiza una serie de cuestionarios relativos al proceso de comunicación, proceso de  evacuación y ..."
          ],
          [
           "Question: ¿Cuál es la tasa de adopción de esta plataforma en el mercado?<br>Closest Model: Auditorias<br>Similarity: 0.38<br>Chunk: GRÁFICA DE RESULTADOS  En la pestaña “Gráficas de resultados” se muestran dos tipos de gráficas. La ..."
          ],
          [
           "Question: ¿Cómo se compara esta plataforma con otras soluciones de gestión de SST?<br>Closest Model: Emergencia<br>Similarity: 0.79<br>Chunk: Sabentis es la nueva plataforma de gestión especializada en el ámbito de Seguridad y Salud en  el Tr..."
          ],
          [
           "Question: ¿Qué día hará mañana?<br>Closest Model: Emergencia<br>Similarity: 0.38<br>Chunk: de emergencia sin previo aviso y en cualquier momento del día para  comprobar el resultado de la par..."
          ]
         ],
         "hovertemplate": "color=Question<br>PCA Component 1=%{x}<br>PCA Component 2=%{y}<br>label=%{customdata[0]}<extra></extra>",
         "legendgroup": "Question",
         "marker": {
          "color": "#FF6692",
          "symbol": "circle"
         },
         "mode": "markers",
         "name": "Question",
         "orientation": "v",
         "showlegend": true,
         "type": "scatter",
         "x": [
          -0.6944144,
          -0.6869467,
          -0.71875834,
          -0.71535367,
          -0.65706515,
          -0.68636465,
          -0.67610097,
          -0.71535367,
          -0.68863684,
          -0.7149141
         ],
         "xaxis": "x",
         "y": [
          0.009554499,
          0.0062902016,
          -0.011852759,
          -0.0009071373,
          0.023092957,
          0.009875843,
          0.013477389,
          -0.0009071373,
          0.008353593,
          0.0071693957
         ],
         "yaxis": "y"
        }
       ],
       "layout": {
        "annotations": [
         {
          "arrowhead": 2,
          "showarrow": true,
          "text": "Q1",
          "x": -0.6944143772125244,
          "y": 0.009554498828947544
         },
         {
          "arrowhead": 2,
          "showarrow": true,
          "text": "Q2",
          "x": -0.68694669008255,
          "y": 0.006290201563388109
         },
         {
          "arrowhead": 2,
          "showarrow": true,
          "text": "Q3",
          "x": -0.7187583446502686,
          "y": -0.011852758936583996
         },
         {
          "arrowhead": 2,
          "showarrow": true,
          "text": "Q4",
          "x": -0.7153536677360535,
          "y": -0.0009071372915059328
         },
         {
          "arrowhead": 2,
          "showarrow": true,
          "text": "Q5",
          "x": -0.6570651531219482,
          "y": 0.023092957213521004
         },
         {
          "arrowhead": 2,
          "showarrow": true,
          "text": "Q6",
          "x": -0.6863646507263184,
          "y": 0.009875843301415443
         },
         {
          "arrowhead": 2,
          "showarrow": true,
          "text": "Q7",
          "x": -0.6761009693145752,
          "y": 0.013477388769388199
         },
         {
          "arrowhead": 2,
          "showarrow": true,
          "text": "Q8",
          "x": -0.7153536677360535,
          "y": -0.0009071372915059328
         },
         {
          "arrowhead": 2,
          "showarrow": true,
          "text": "Q9",
          "x": -0.688636839389801,
          "y": 0.008353592827916145
         },
         {
          "arrowhead": 2,
          "showarrow": true,
          "text": "Q10",
          "x": -0.714914083480835,
          "y": 0.007169395685195923
         }
        ],
        "legend": {
         "title": {
          "text": "color"
         },
         "tracegroupgap": 0
        },
        "template": {
         "data": {
          "bar": [
           {
            "error_x": {
             "color": "#2a3f5f"
            },
            "error_y": {
             "color": "#2a3f5f"
            },
            "marker": {
             "line": {
              "color": "#E5ECF6",
              "width": 0.5
             },
             "pattern": {
              "fillmode": "overlay",
              "size": 10,
              "solidity": 0.2
             }
            },
            "type": "bar"
           }
          ],
          "barpolar": [
           {
            "marker": {
             "line": {
              "color": "#E5ECF6",
              "width": 0.5
             },
             "pattern": {
              "fillmode": "overlay",
              "size": 10,
              "solidity": 0.2
             }
            },
            "type": "barpolar"
           }
          ],
          "carpet": [
           {
            "aaxis": {
             "endlinecolor": "#2a3f5f",
             "gridcolor": "white",
             "linecolor": "white",
             "minorgridcolor": "white",
             "startlinecolor": "#2a3f5f"
            },
            "baxis": {
             "endlinecolor": "#2a3f5f",
             "gridcolor": "white",
             "linecolor": "white",
             "minorgridcolor": "white",
             "startlinecolor": "#2a3f5f"
            },
            "type": "carpet"
           }
          ],
          "choropleth": [
           {
            "colorbar": {
             "outlinewidth": 0,
             "ticks": ""
            },
            "type": "choropleth"
           }
          ],
          "contour": [
           {
            "colorbar": {
             "outlinewidth": 0,
             "ticks": ""
            },
            "colorscale": [
             [
              0,
              "#0d0887"
             ],
             [
              0.1111111111111111,
              "#46039f"
             ],
             [
              0.2222222222222222,
              "#7201a8"
             ],
             [
              0.3333333333333333,
              "#9c179e"
             ],
             [
              0.4444444444444444,
              "#bd3786"
             ],
             [
              0.5555555555555556,
              "#d8576b"
             ],
             [
              0.6666666666666666,
              "#ed7953"
             ],
             [
              0.7777777777777778,
              "#fb9f3a"
             ],
             [
              0.8888888888888888,
              "#fdca26"
             ],
             [
              1,
              "#f0f921"
             ]
            ],
            "type": "contour"
           }
          ],
          "contourcarpet": [
           {
            "colorbar": {
             "outlinewidth": 0,
             "ticks": ""
            },
            "type": "contourcarpet"
           }
          ],
          "heatmap": [
           {
            "colorbar": {
             "outlinewidth": 0,
             "ticks": ""
            },
            "colorscale": [
             [
              0,
              "#0d0887"
             ],
             [
              0.1111111111111111,
              "#46039f"
             ],
             [
              0.2222222222222222,
              "#7201a8"
             ],
             [
              0.3333333333333333,
              "#9c179e"
             ],
             [
              0.4444444444444444,
              "#bd3786"
             ],
             [
              0.5555555555555556,
              "#d8576b"
             ],
             [
              0.6666666666666666,
              "#ed7953"
             ],
             [
              0.7777777777777778,
              "#fb9f3a"
             ],
             [
              0.8888888888888888,
              "#fdca26"
             ],
             [
              1,
              "#f0f921"
             ]
            ],
            "type": "heatmap"
           }
          ],
          "heatmapgl": [
           {
            "colorbar": {
             "outlinewidth": 0,
             "ticks": ""
            },
            "colorscale": [
             [
              0,
              "#0d0887"
             ],
             [
              0.1111111111111111,
              "#46039f"
             ],
             [
              0.2222222222222222,
              "#7201a8"
             ],
             [
              0.3333333333333333,
              "#9c179e"
             ],
             [
              0.4444444444444444,
              "#bd3786"
             ],
             [
              0.5555555555555556,
              "#d8576b"
             ],
             [
              0.6666666666666666,
              "#ed7953"
             ],
             [
              0.7777777777777778,
              "#fb9f3a"
             ],
             [
              0.8888888888888888,
              "#fdca26"
             ],
             [
              1,
              "#f0f921"
             ]
            ],
            "type": "heatmapgl"
           }
          ],
          "histogram": [
           {
            "marker": {
             "pattern": {
              "fillmode": "overlay",
              "size": 10,
              "solidity": 0.2
             }
            },
            "type": "histogram"
           }
          ],
          "histogram2d": [
           {
            "colorbar": {
             "outlinewidth": 0,
             "ticks": ""
            },
            "colorscale": [
             [
              0,
              "#0d0887"
             ],
             [
              0.1111111111111111,
              "#46039f"
             ],
             [
              0.2222222222222222,
              "#7201a8"
             ],
             [
              0.3333333333333333,
              "#9c179e"
             ],
             [
              0.4444444444444444,
              "#bd3786"
             ],
             [
              0.5555555555555556,
              "#d8576b"
             ],
             [
              0.6666666666666666,
              "#ed7953"
             ],
             [
              0.7777777777777778,
              "#fb9f3a"
             ],
             [
              0.8888888888888888,
              "#fdca26"
             ],
             [
              1,
              "#f0f921"
             ]
            ],
            "type": "histogram2d"
           }
          ],
          "histogram2dcontour": [
           {
            "colorbar": {
             "outlinewidth": 0,
             "ticks": ""
            },
            "colorscale": [
             [
              0,
              "#0d0887"
             ],
             [
              0.1111111111111111,
              "#46039f"
             ],
             [
              0.2222222222222222,
              "#7201a8"
             ],
             [
              0.3333333333333333,
              "#9c179e"
             ],
             [
              0.4444444444444444,
              "#bd3786"
             ],
             [
              0.5555555555555556,
              "#d8576b"
             ],
             [
              0.6666666666666666,
              "#ed7953"
             ],
             [
              0.7777777777777778,
              "#fb9f3a"
             ],
             [
              0.8888888888888888,
              "#fdca26"
             ],
             [
              1,
              "#f0f921"
             ]
            ],
            "type": "histogram2dcontour"
           }
          ],
          "mesh3d": [
           {
            "colorbar": {
             "outlinewidth": 0,
             "ticks": ""
            },
            "type": "mesh3d"
           }
          ],
          "parcoords": [
           {
            "line": {
             "colorbar": {
              "outlinewidth": 0,
              "ticks": ""
             }
            },
            "type": "parcoords"
           }
          ],
          "pie": [
           {
            "automargin": true,
            "type": "pie"
           }
          ],
          "scatter": [
           {
            "fillpattern": {
             "fillmode": "overlay",
             "size": 10,
             "solidity": 0.2
            },
            "type": "scatter"
           }
          ],
          "scatter3d": [
           {
            "line": {
             "colorbar": {
              "outlinewidth": 0,
              "ticks": ""
             }
            },
            "marker": {
             "colorbar": {
              "outlinewidth": 0,
              "ticks": ""
             }
            },
            "type": "scatter3d"
           }
          ],
          "scattercarpet": [
           {
            "marker": {
             "colorbar": {
              "outlinewidth": 0,
              "ticks": ""
             }
            },
            "type": "scattercarpet"
           }
          ],
          "scattergeo": [
           {
            "marker": {
             "colorbar": {
              "outlinewidth": 0,
              "ticks": ""
             }
            },
            "type": "scattergeo"
           }
          ],
          "scattergl": [
           {
            "marker": {
             "colorbar": {
              "outlinewidth": 0,
              "ticks": ""
             }
            },
            "type": "scattergl"
           }
          ],
          "scattermapbox": [
           {
            "marker": {
             "colorbar": {
              "outlinewidth": 0,
              "ticks": ""
             }
            },
            "type": "scattermapbox"
           }
          ],
          "scatterpolar": [
           {
            "marker": {
             "colorbar": {
              "outlinewidth": 0,
              "ticks": ""
             }
            },
            "type": "scatterpolar"
           }
          ],
          "scatterpolargl": [
           {
            "marker": {
             "colorbar": {
              "outlinewidth": 0,
              "ticks": ""
             }
            },
            "type": "scatterpolargl"
           }
          ],
          "scatterternary": [
           {
            "marker": {
             "colorbar": {
              "outlinewidth": 0,
              "ticks": ""
             }
            },
            "type": "scatterternary"
           }
          ],
          "surface": [
           {
            "colorbar": {
             "outlinewidth": 0,
             "ticks": ""
            },
            "colorscale": [
             [
              0,
              "#0d0887"
             ],
             [
              0.1111111111111111,
              "#46039f"
             ],
             [
              0.2222222222222222,
              "#7201a8"
             ],
             [
              0.3333333333333333,
              "#9c179e"
             ],
             [
              0.4444444444444444,
              "#bd3786"
             ],
             [
              0.5555555555555556,
              "#d8576b"
             ],
             [
              0.6666666666666666,
              "#ed7953"
             ],
             [
              0.7777777777777778,
              "#fb9f3a"
             ],
             [
              0.8888888888888888,
              "#fdca26"
             ],
             [
              1,
              "#f0f921"
             ]
            ],
            "type": "surface"
           }
          ],
          "table": [
           {
            "cells": {
             "fill": {
              "color": "#EBF0F8"
             },
             "line": {
              "color": "white"
             }
            },
            "header": {
             "fill": {
              "color": "#C8D4E3"
             },
             "line": {
              "color": "white"
             }
            },
            "type": "table"
           }
          ]
         },
         "layout": {
          "annotationdefaults": {
           "arrowcolor": "#2a3f5f",
           "arrowhead": 0,
           "arrowwidth": 1
          },
          "autotypenumbers": "strict",
          "coloraxis": {
           "colorbar": {
            "outlinewidth": 0,
            "ticks": ""
           }
          },
          "colorscale": {
           "diverging": [
            [
             0,
             "#8e0152"
            ],
            [
             0.1,
             "#c51b7d"
            ],
            [
             0.2,
             "#de77ae"
            ],
            [
             0.3,
             "#f1b6da"
            ],
            [
             0.4,
             "#fde0ef"
            ],
            [
             0.5,
             "#f7f7f7"
            ],
            [
             0.6,
             "#e6f5d0"
            ],
            [
             0.7,
             "#b8e186"
            ],
            [
             0.8,
             "#7fbc41"
            ],
            [
             0.9,
             "#4d9221"
            ],
            [
             1,
             "#276419"
            ]
           ],
           "sequential": [
            [
             0,
             "#0d0887"
            ],
            [
             0.1111111111111111,
             "#46039f"
            ],
            [
             0.2222222222222222,
             "#7201a8"
            ],
            [
             0.3333333333333333,
             "#9c179e"
            ],
            [
             0.4444444444444444,
             "#bd3786"
            ],
            [
             0.5555555555555556,
             "#d8576b"
            ],
            [
             0.6666666666666666,
             "#ed7953"
            ],
            [
             0.7777777777777778,
             "#fb9f3a"
            ],
            [
             0.8888888888888888,
             "#fdca26"
            ],
            [
             1,
             "#f0f921"
            ]
           ],
           "sequentialminus": [
            [
             0,
             "#0d0887"
            ],
            [
             0.1111111111111111,
             "#46039f"
            ],
            [
             0.2222222222222222,
             "#7201a8"
            ],
            [
             0.3333333333333333,
             "#9c179e"
            ],
            [
             0.4444444444444444,
             "#bd3786"
            ],
            [
             0.5555555555555556,
             "#d8576b"
            ],
            [
             0.6666666666666666,
             "#ed7953"
            ],
            [
             0.7777777777777778,
             "#fb9f3a"
            ],
            [
             0.8888888888888888,
             "#fdca26"
            ],
            [
             1,
             "#f0f921"
            ]
           ]
          },
          "colorway": [
           "#636efa",
           "#EF553B",
           "#00cc96",
           "#ab63fa",
           "#FFA15A",
           "#19d3f3",
           "#FF6692",
           "#B6E880",
           "#FF97FF",
           "#FECB52"
          ],
          "font": {
           "color": "#2a3f5f"
          },
          "geo": {
           "bgcolor": "white",
           "lakecolor": "white",
           "landcolor": "#E5ECF6",
           "showlakes": true,
           "showland": true,
           "subunitcolor": "white"
          },
          "hoverlabel": {
           "align": "left"
          },
          "hovermode": "closest",
          "mapbox": {
           "style": "light"
          },
          "paper_bgcolor": "white",
          "plot_bgcolor": "#E5ECF6",
          "polar": {
           "angularaxis": {
            "gridcolor": "white",
            "linecolor": "white",
            "ticks": ""
           },
           "bgcolor": "#E5ECF6",
           "radialaxis": {
            "gridcolor": "white",
            "linecolor": "white",
            "ticks": ""
           }
          },
          "scene": {
           "xaxis": {
            "backgroundcolor": "#E5ECF6",
            "gridcolor": "white",
            "gridwidth": 2,
            "linecolor": "white",
            "showbackground": true,
            "ticks": "",
            "zerolinecolor": "white"
           },
           "yaxis": {
            "backgroundcolor": "#E5ECF6",
            "gridcolor": "white",
            "gridwidth": 2,
            "linecolor": "white",
            "showbackground": true,
            "ticks": "",
            "zerolinecolor": "white"
           },
           "zaxis": {
            "backgroundcolor": "#E5ECF6",
            "gridcolor": "white",
            "gridwidth": 2,
            "linecolor": "white",
            "showbackground": true,
            "ticks": "",
            "zerolinecolor": "white"
           }
          },
          "shapedefaults": {
           "line": {
            "color": "#2a3f5f"
           }
          },
          "ternary": {
           "aaxis": {
            "gridcolor": "white",
            "linecolor": "white",
            "ticks": ""
           },
           "baxis": {
            "gridcolor": "white",
            "linecolor": "white",
            "ticks": ""
           },
           "bgcolor": "#E5ECF6",
           "caxis": {
            "gridcolor": "white",
            "linecolor": "white",
            "ticks": ""
           }
          },
          "title": {
           "x": 0.05
          },
          "xaxis": {
           "automargin": true,
           "gridcolor": "white",
           "linecolor": "white",
           "ticks": "",
           "title": {
            "standoff": 15
           },
           "zerolinecolor": "white",
           "zerolinewidth": 2
          },
          "yaxis": {
           "automargin": true,
           "gridcolor": "white",
           "linecolor": "white",
           "ticks": "",
           "title": {
            "standoff": 15
           },
           "zerolinecolor": "white",
           "zerolinewidth": 2
          }
         }
        },
        "title": {
         "text": "Embeddings Visualization with 2D PCA"
        },
        "xaxis": {
         "anchor": "y",
         "domain": [
          0,
          1
         ],
         "title": {
          "text": "PCA Component 1"
         }
        },
        "yaxis": {
         "anchor": "x",
         "domain": [
          0,
          1
         ],
         "title": {
          "text": "PCA Component 2"
         }
        }
       }
      }
     },
     "metadata": {},
     "output_type": "display_data"
    },
    {
     "data": {
      "application/vnd.plotly.v1+json": {
       "config": {
        "plotlyServerURL": "https://plot.ly"
       },
       "data": [
        {
         "customdata": [
          [
           "Auditorias"
          ],
          [
           "Auditorias"
          ],
          [
           "Auditorias"
          ],
          [
           "Auditorias"
          ],
          [
           "Auditorias"
          ],
          [
           "Auditorias"
          ],
          [
           "Auditorias"
          ],
          [
           "Auditorias"
          ],
          [
           "Auditorias"
          ],
          [
           "Auditorias"
          ],
          [
           "Auditorias"
          ],
          [
           "Auditorias"
          ],
          [
           "Auditorias"
          ],
          [
           "Auditorias"
          ],
          [
           "Auditorias"
          ],
          [
           "Auditorias"
          ],
          [
           "Auditorias"
          ],
          [
           "Auditorias"
          ],
          [
           "Auditorias"
          ],
          [
           "Auditorias"
          ],
          [
           "Auditorias"
          ],
          [
           "Auditorias"
          ],
          [
           "Auditorias"
          ],
          [
           "Auditorias"
          ],
          [
           "Auditorias"
          ],
          [
           "Auditorias"
          ],
          [
           "Auditorias"
          ],
          [
           "Auditorias"
          ],
          [
           "Auditorias"
          ],
          [
           "Auditorias"
          ],
          [
           "Auditorias"
          ],
          [
           "Auditorias"
          ],
          [
           "Auditorias"
          ],
          [
           "Auditorias"
          ],
          [
           "Auditorias"
          ],
          [
           "Auditorias"
          ],
          [
           "Auditorias"
          ],
          [
           "Auditorias"
          ],
          [
           "Auditorias"
          ],
          [
           "Auditorias"
          ],
          [
           "Auditorias"
          ],
          [
           "Auditorias"
          ],
          [
           "Auditorias"
          ],
          [
           "Auditorias"
          ],
          [
           "Auditorias"
          ],
          [
           "Auditorias"
          ],
          [
           "Auditorias"
          ],
          [
           "Auditorias"
          ],
          [
           "Auditorias"
          ],
          [
           "Auditorias"
          ],
          [
           "Auditorias"
          ],
          [
           "Auditorias"
          ],
          [
           "Auditorias"
          ],
          [
           "Auditorias"
          ],
          [
           "Auditorias"
          ],
          [
           "Auditorias"
          ],
          [
           "Auditorias"
          ],
          [
           "Auditorias"
          ]
         ],
         "hovertemplate": "color=Auditorias<br>t-SNE Component 1=%{x}<br>t-SNE Component 2=%{y}<br>label=%{customdata[0]}<extra></extra>",
         "legendgroup": "Auditorias",
         "marker": {
          "color": "#636efa",
          "symbol": "circle"
         },
         "mode": "markers",
         "name": "Auditorias",
         "orientation": "v",
         "showlegend": true,
         "type": "scatter",
         "x": [
          3.5397007,
          3.9429915,
          3.9895654,
          3.0526314,
          1.6389873,
          -5.1138186,
          -5.2273064,
          -5.3234835,
          -5.435735,
          -6.638863,
          -6.559366,
          -6.5718837,
          -2.7489583,
          -3.017345,
          -3.4252303,
          4.0684347,
          1.905152,
          1.165096,
          -1.272394,
          -4.275954,
          -8.519219,
          -6.3290915,
          3.5453765,
          4.9768834,
          -1.3874605,
          -1.0632688,
          -0.9735706,
          -1.549345,
          4.263572,
          -4.0202937,
          -4.225076,
          -4.477914,
          -5.0463037,
          -5.484745,
          -5.7746468,
          -5.936603,
          -6.9724426,
          -7.0102134,
          -7.003318,
          -2.749052,
          -3.3557267,
          4.0661683,
          2.5841374,
          1.9126003,
          1.2187005,
          -1.2867345,
          -4.2583694,
          -8.524785,
          -8.523603,
          3.5122714,
          3.9404948,
          -1.3742706,
          -1.0397441,
          -1.4246868,
          -2.0422213,
          -2.7389362,
          -3.0222542,
          4.825997
         ],
         "xaxis": "x",
         "y": [
          -33.519615,
          -28.25177,
          -28.25169,
          -26.708746,
          -33.63749,
          -34.988667,
          -35.04059,
          -35.078423,
          -35.117527,
          -22.976889,
          -23.229317,
          -23.53612,
          -19.70573,
          -17.039885,
          -17.95834,
          -21.121666,
          -18.90022,
          -20.39053,
          -23.835932,
          -22.446962,
          -30.682411,
          -28.85437,
          -25.44864,
          -24.372555,
          -18.223059,
          -20.369217,
          -20.411415,
          -21.389078,
          -27.53508,
          -20.814693,
          -20.775385,
          -20.730526,
          -20.534801,
          -20.588942,
          -20.557405,
          -20.480059,
          -22.70975,
          -22.796452,
          -23.206413,
          -19.705849,
          -17.814722,
          -21.133724,
          -19.118938,
          -18.924007,
          -20.301573,
          -23.82281,
          -22.438242,
          -30.685442,
          -30.687662,
          -25.255102,
          -24.8525,
          -18.216076,
          -20.02484,
          -21.200495,
          -22.282679,
          -22.855717,
          -23.043463,
          -24.41903
         ],
         "yaxis": "y"
        },
        {
         "customdata": [
          [
           "Ausentismo"
          ],
          [
           "Ausentismo"
          ],
          [
           "Ausentismo"
          ],
          [
           "Ausentismo"
          ],
          [
           "Ausentismo"
          ],
          [
           "Ausentismo"
          ],
          [
           "Ausentismo"
          ],
          [
           "Ausentismo"
          ],
          [
           "Ausentismo"
          ],
          [
           "Ausentismo"
          ],
          [
           "Ausentismo"
          ],
          [
           "Ausentismo"
          ],
          [
           "Ausentismo"
          ],
          [
           "Ausentismo"
          ],
          [
           "Ausentismo"
          ],
          [
           "Ausentismo"
          ],
          [
           "Ausentismo"
          ],
          [
           "Ausentismo"
          ],
          [
           "Ausentismo"
          ],
          [
           "Ausentismo"
          ],
          [
           "Ausentismo"
          ],
          [
           "Ausentismo"
          ],
          [
           "Ausentismo"
          ],
          [
           "Ausentismo"
          ],
          [
           "Ausentismo"
          ],
          [
           "Ausentismo"
          ],
          [
           "Ausentismo"
          ],
          [
           "Ausentismo"
          ],
          [
           "Ausentismo"
          ],
          [
           "Ausentismo"
          ],
          [
           "Ausentismo"
          ],
          [
           "Ausentismo"
          ],
          [
           "Ausentismo"
          ],
          [
           "Ausentismo"
          ],
          [
           "Ausentismo"
          ],
          [
           "Ausentismo"
          ],
          [
           "Ausentismo"
          ],
          [
           "Ausentismo"
          ],
          [
           "Ausentismo"
          ],
          [
           "Ausentismo"
          ]
         ],
         "hovertemplate": "color=Ausentismo<br>t-SNE Component 1=%{x}<br>t-SNE Component 2=%{y}<br>label=%{customdata[0]}<extra></extra>",
         "legendgroup": "Ausentismo",
         "marker": {
          "color": "#EF553B",
          "symbol": "circle"
         },
         "mode": "markers",
         "name": "Ausentismo",
         "orientation": "v",
         "showlegend": true,
         "type": "scatter",
         "x": [
          0.6290766,
          -0.34928715,
          -0.30813083,
          -1.8407418,
          -1.8387308,
          -4.611605,
          -4.7410398,
          -12.293199,
          -5.806772,
          -5.6590786,
          0.22422603,
          -1.6808896,
          -1.7786118,
          -1.4801422,
          -2.7471328,
          -2.7838857,
          -3.0034258,
          -3.4141827,
          -4.932855,
          -5.199153,
          -8.3891325,
          -7.361763,
          -7.076812,
          -2.446146,
          -1.4482058,
          -4.224639,
          -4.369918,
          -4.053555,
          -4.739798,
          -5.1434054,
          -5.558255,
          -7.7407537,
          -4.2999077,
          -4.314936,
          -4.2953954,
          -3.6484838,
          -2.9927964,
          -5.6388607,
          -0.13464002,
          -0.39144686
         ],
         "xaxis": "x",
         "y": [
          -29.074005,
          -28.944921,
          -29.054693,
          -31.856459,
          -31.841702,
          -24.31517,
          -24.242361,
          -28.522907,
          -27.725267,
          -27.730345,
          -32.536716,
          -25.723646,
          -25.970266,
          -26.656895,
          -27.921202,
          -28.269535,
          -28.668251,
          -28.862513,
          -25.199295,
          -25.187557,
          -27.022017,
          -26.778988,
          -26.683773,
          -26.6347,
          -26.701702,
          -26.956413,
          -29.250566,
          -25.71618,
          -25.84308,
          -26.15533,
          -26.25223,
          -27.369556,
          -27.417717,
          -28.08129,
          -28.662409,
          -25.968004,
          -25.41698,
          -28.53799,
          -29.724365,
          -30.442291
         ],
         "yaxis": "y"
        },
        {
         "customdata": [
          [
           "Estructura Organizativa"
          ],
          [
           "Estructura Organizativa"
          ],
          [
           "Estructura Organizativa"
          ],
          [
           "Estructura Organizativa"
          ],
          [
           "Estructura Organizativa"
          ],
          [
           "Estructura Organizativa"
          ],
          [
           "Estructura Organizativa"
          ],
          [
           "Estructura Organizativa"
          ],
          [
           "Estructura Organizativa"
          ],
          [
           "Estructura Organizativa"
          ],
          [
           "Estructura Organizativa"
          ],
          [
           "Estructura Organizativa"
          ],
          [
           "Estructura Organizativa"
          ],
          [
           "Estructura Organizativa"
          ],
          [
           "Estructura Organizativa"
          ],
          [
           "Estructura Organizativa"
          ],
          [
           "Estructura Organizativa"
          ],
          [
           "Estructura Organizativa"
          ],
          [
           "Estructura Organizativa"
          ],
          [
           "Estructura Organizativa"
          ],
          [
           "Estructura Organizativa"
          ],
          [
           "Estructura Organizativa"
          ],
          [
           "Estructura Organizativa"
          ],
          [
           "Estructura Organizativa"
          ],
          [
           "Estructura Organizativa"
          ],
          [
           "Estructura Organizativa"
          ],
          [
           "Estructura Organizativa"
          ],
          [
           "Estructura Organizativa"
          ],
          [
           "Estructura Organizativa"
          ],
          [
           "Estructura Organizativa"
          ],
          [
           "Estructura Organizativa"
          ],
          [
           "Estructura Organizativa"
          ],
          [
           "Estructura Organizativa"
          ],
          [
           "Estructura Organizativa"
          ],
          [
           "Estructura Organizativa"
          ],
          [
           "Estructura Organizativa"
          ],
          [
           "Estructura Organizativa"
          ],
          [
           "Estructura Organizativa"
          ],
          [
           "Estructura Organizativa"
          ],
          [
           "Estructura Organizativa"
          ],
          [
           "Estructura Organizativa"
          ],
          [
           "Estructura Organizativa"
          ],
          [
           "Estructura Organizativa"
          ],
          [
           "Estructura Organizativa"
          ],
          [
           "Estructura Organizativa"
          ],
          [
           "Estructura Organizativa"
          ],
          [
           "Estructura Organizativa"
          ],
          [
           "Estructura Organizativa"
          ],
          [
           "Estructura Organizativa"
          ],
          [
           "Estructura Organizativa"
          ],
          [
           "Estructura Organizativa"
          ],
          [
           "Estructura Organizativa"
          ],
          [
           "Estructura Organizativa"
          ],
          [
           "Estructura Organizativa"
          ],
          [
           "Estructura Organizativa"
          ],
          [
           "Estructura Organizativa"
          ],
          [
           "Estructura Organizativa"
          ],
          [
           "Estructura Organizativa"
          ],
          [
           "Estructura Organizativa"
          ],
          [
           "Estructura Organizativa"
          ],
          [
           "Estructura Organizativa"
          ],
          [
           "Estructura Organizativa"
          ],
          [
           "Estructura Organizativa"
          ],
          [
           "Estructura Organizativa"
          ],
          [
           "Estructura Organizativa"
          ],
          [
           "Estructura Organizativa"
          ],
          [
           "Estructura Organizativa"
          ],
          [
           "Estructura Organizativa"
          ],
          [
           "Estructura Organizativa"
          ],
          [
           "Estructura Organizativa"
          ],
          [
           "Estructura Organizativa"
          ],
          [
           "Estructura Organizativa"
          ],
          [
           "Estructura Organizativa"
          ],
          [
           "Estructura Organizativa"
          ],
          [
           "Estructura Organizativa"
          ],
          [
           "Estructura Organizativa"
          ],
          [
           "Estructura Organizativa"
          ],
          [
           "Estructura Organizativa"
          ],
          [
           "Estructura Organizativa"
          ],
          [
           "Estructura Organizativa"
          ],
          [
           "Estructura Organizativa"
          ],
          [
           "Estructura Organizativa"
          ],
          [
           "Estructura Organizativa"
          ],
          [
           "Estructura Organizativa"
          ],
          [
           "Estructura Organizativa"
          ],
          [
           "Estructura Organizativa"
          ],
          [
           "Estructura Organizativa"
          ],
          [
           "Estructura Organizativa"
          ],
          [
           "Estructura Organizativa"
          ],
          [
           "Estructura Organizativa"
          ],
          [
           "Estructura Organizativa"
          ],
          [
           "Estructura Organizativa"
          ],
          [
           "Estructura Organizativa"
          ],
          [
           "Estructura Organizativa"
          ],
          [
           "Estructura Organizativa"
          ],
          [
           "Estructura Organizativa"
          ],
          [
           "Estructura Organizativa"
          ],
          [
           "Estructura Organizativa"
          ],
          [
           "Estructura Organizativa"
          ],
          [
           "Estructura Organizativa"
          ],
          [
           "Estructura Organizativa"
          ],
          [
           "Estructura Organizativa"
          ],
          [
           "Estructura Organizativa"
          ],
          [
           "Estructura Organizativa"
          ],
          [
           "Estructura Organizativa"
          ],
          [
           "Estructura Organizativa"
          ],
          [
           "Estructura Organizativa"
          ],
          [
           "Estructura Organizativa"
          ],
          [
           "Estructura Organizativa"
          ],
          [
           "Estructura Organizativa"
          ],
          [
           "Estructura Organizativa"
          ],
          [
           "Estructura Organizativa"
          ],
          [
           "Estructura Organizativa"
          ],
          [
           "Estructura Organizativa"
          ],
          [
           "Estructura Organizativa"
          ],
          [
           "Estructura Organizativa"
          ],
          [
           "Estructura Organizativa"
          ],
          [
           "Estructura Organizativa"
          ],
          [
           "Estructura Organizativa"
          ],
          [
           "Estructura Organizativa"
          ],
          [
           "Estructura Organizativa"
          ],
          [
           "Estructura Organizativa"
          ],
          [
           "Estructura Organizativa"
          ],
          [
           "Estructura Organizativa"
          ],
          [
           "Estructura Organizativa"
          ],
          [
           "Estructura Organizativa"
          ],
          [
           "Estructura Organizativa"
          ],
          [
           "Estructura Organizativa"
          ],
          [
           "Estructura Organizativa"
          ],
          [
           "Estructura Organizativa"
          ],
          [
           "Estructura Organizativa"
          ],
          [
           "Estructura Organizativa"
          ],
          [
           "Estructura Organizativa"
          ],
          [
           "Estructura Organizativa"
          ],
          [
           "Estructura Organizativa"
          ],
          [
           "Estructura Organizativa"
          ],
          [
           "Estructura Organizativa"
          ],
          [
           "Estructura Organizativa"
          ],
          [
           "Estructura Organizativa"
          ],
          [
           "Estructura Organizativa"
          ],
          [
           "Estructura Organizativa"
          ],
          [
           "Estructura Organizativa"
          ],
          [
           "Estructura Organizativa"
          ],
          [
           "Estructura Organizativa"
          ],
          [
           "Estructura Organizativa"
          ],
          [
           "Estructura Organizativa"
          ],
          [
           "Estructura Organizativa"
          ],
          [
           "Estructura Organizativa"
          ],
          [
           "Estructura Organizativa"
          ],
          [
           "Estructura Organizativa"
          ],
          [
           "Estructura Organizativa"
          ],
          [
           "Estructura Organizativa"
          ],
          [
           "Estructura Organizativa"
          ],
          [
           "Estructura Organizativa"
          ],
          [
           "Estructura Organizativa"
          ],
          [
           "Estructura Organizativa"
          ],
          [
           "Estructura Organizativa"
          ],
          [
           "Estructura Organizativa"
          ],
          [
           "Estructura Organizativa"
          ],
          [
           "Estructura Organizativa"
          ],
          [
           "Estructura Organizativa"
          ],
          [
           "Estructura Organizativa"
          ],
          [
           "Estructura Organizativa"
          ],
          [
           "Estructura Organizativa"
          ],
          [
           "Estructura Organizativa"
          ],
          [
           "Estructura Organizativa"
          ],
          [
           "Estructura Organizativa"
          ],
          [
           "Estructura Organizativa"
          ],
          [
           "Estructura Organizativa"
          ],
          [
           "Estructura Organizativa"
          ],
          [
           "Estructura Organizativa"
          ],
          [
           "Estructura Organizativa"
          ],
          [
           "Estructura Organizativa"
          ],
          [
           "Estructura Organizativa"
          ],
          [
           "Estructura Organizativa"
          ],
          [
           "Estructura Organizativa"
          ],
          [
           "Estructura Organizativa"
          ],
          [
           "Estructura Organizativa"
          ],
          [
           "Estructura Organizativa"
          ],
          [
           "Estructura Organizativa"
          ],
          [
           "Estructura Organizativa"
          ],
          [
           "Estructura Organizativa"
          ],
          [
           "Estructura Organizativa"
          ],
          [
           "Estructura Organizativa"
          ],
          [
           "Estructura Organizativa"
          ],
          [
           "Estructura Organizativa"
          ],
          [
           "Estructura Organizativa"
          ],
          [
           "Estructura Organizativa"
          ],
          [
           "Estructura Organizativa"
          ],
          [
           "Estructura Organizativa"
          ],
          [
           "Estructura Organizativa"
          ],
          [
           "Estructura Organizativa"
          ],
          [
           "Estructura Organizativa"
          ],
          [
           "Estructura Organizativa"
          ],
          [
           "Estructura Organizativa"
          ],
          [
           "Estructura Organizativa"
          ],
          [
           "Estructura Organizativa"
          ],
          [
           "Estructura Organizativa"
          ],
          [
           "Estructura Organizativa"
          ],
          [
           "Estructura Organizativa"
          ],
          [
           "Estructura Organizativa"
          ],
          [
           "Estructura Organizativa"
          ],
          [
           "Estructura Organizativa"
          ],
          [
           "Estructura Organizativa"
          ],
          [
           "Estructura Organizativa"
          ],
          [
           "Estructura Organizativa"
          ],
          [
           "Estructura Organizativa"
          ],
          [
           "Estructura Organizativa"
          ],
          [
           "Estructura Organizativa"
          ],
          [
           "Estructura Organizativa"
          ],
          [
           "Estructura Organizativa"
          ]
         ],
         "hovertemplate": "color=Estructura Organizativa<br>t-SNE Component 1=%{x}<br>t-SNE Component 2=%{y}<br>label=%{customdata[0]}<extra></extra>",
         "legendgroup": "Estructura Organizativa",
         "marker": {
          "color": "#00cc96",
          "symbol": "circle"
         },
         "mode": "markers",
         "name": "Estructura Organizativa",
         "orientation": "v",
         "showlegend": true,
         "type": "scatter",
         "x": [
          -3.9364514,
          -5.7108803,
          -4.2664337,
          -2.0067582,
          -2.8666382,
          -2.5803497,
          25.571056,
          -3.2146058,
          -3.509558,
          -3.7091548,
          -4.7334323,
          -0.20290455,
          1.2626219,
          -0.76739115,
          28.008186,
          28.773312,
          30.351028,
          29.790688,
          30.20274,
          29.501324,
          28.33716,
          26.007954,
          7.537639,
          4.5562,
          8.909938,
          16.319622,
          31.485289,
          16.905062,
          12.2120495,
          19.330906,
          17.37805,
          12.461258,
          6.6197395,
          25.453278,
          17.69711,
          11.660434,
          12.816258,
          16.841848,
          12.918737,
          13.959799,
          6.091571,
          1.9399881,
          9.733385,
          20.639652,
          11.159871,
          8.925219,
          9.287321,
          5.301537,
          4.754779,
          25.197254,
          12.409037,
          14.01596,
          10.730444,
          19.948172,
          18.168686,
          18.844877,
          13.26199,
          14.856952,
          11.012783,
          -1.5428156,
          27.191452,
          12.703184,
          24.062117,
          30.311653,
          27.666653,
          13.379,
          9.596257,
          16.722506,
          14.704576,
          17.457066,
          12.224009,
          5.0306044,
          22.53337,
          25.385958,
          28.668037,
          28.351788,
          9.637569,
          4.406668,
          6.60351,
          20.396168,
          27.674793,
          27.924345,
          26.061146,
          27.795744,
          24.65207,
          6.9372244,
          16.015633,
          22.683937,
          25.299063,
          26.876326,
          10.490539,
          -0.5537835,
          5.9058,
          2.9257827,
          20.009228,
          18.633152,
          29.884434,
          4.1889396,
          4.313432,
          3.1902235,
          8.548291,
          8.245753,
          7.4121017,
          10.039026,
          14.171576,
          11.720351,
          13.381436,
          -0.5109407,
          31.275974,
          29.562424,
          27.266706,
          26.522932,
          -1.557955,
          3.6438117,
          2.4115493,
          5.259771,
          3.6454322,
          -1.0872645,
          0.21056184,
          5.409656,
          11.199456,
          5.855228,
          0.9399177,
          -2.4540484,
          1.1621704,
          -3.2692077,
          2.4802206,
          0.5476618,
          3.730036,
          25.03174,
          30.442371,
          26.52868,
          29.256077,
          29.074894,
          25.942785,
          18.407082,
          18.77386,
          23.15579,
          20.008827,
          19.77253,
          20.2412,
          23.178635,
          24.559813,
          23.228756,
          26.477646,
          24.479967,
          23.120462,
          22.470203,
          19.214808,
          21.185036,
          20.480564,
          17.751678,
          16.061636,
          22.767174,
          21.818525,
          25.906204,
          24.376068,
          15.374407,
          21.899454,
          22.271553,
          20.924353,
          19.466265,
          17.380203,
          28.8538,
          25.783018,
          19.312334,
          -3.1527817,
          27.336714,
          29.970968,
          30.208313,
          27.757862,
          27.872023,
          29.747904,
          26.197884,
          19.360266,
          24.863035,
          25.299803,
          20.641481,
          19.977428,
          22.238554,
          20.984324,
          23.40643,
          24.03067,
          18.332386,
          19.51811,
          22.43604,
          11.891341,
          16.32992,
          20.578783,
          22.442501,
          9.054905,
          20.426458,
          23.67773,
          25.193592,
          25.961058,
          28.697506,
          29.024473,
          26.492167,
          21.050451,
          13.542661,
          5.3755503,
          1.7346911,
          0.31380478,
          -1.3058392,
          1.349323,
          -2.366962,
          5.8731475,
          23.046766,
          10.603605,
          6.3105173,
          23.615852
         ],
         "xaxis": "x",
         "y": [
          28.60778,
          28.393167,
          27.951307,
          27.079056,
          27.738577,
          27.03852,
          -0.030447941,
          28.31051,
          27.83558,
          27.32385,
          28.267735,
          25.792374,
          24.95385,
          25.850183,
          -5.861838,
          -6.6228104,
          -8.64796,
          -7.287177,
          -6.758334,
          -5.1938124,
          -3.6459699,
          3.59426,
          20.026537,
          21.190807,
          18.437803,
          11.06534,
          -10.694359,
          9.256051,
          13.579084,
          6.6473804,
          8.201253,
          14.007073,
          20.056816,
          -2.2779024,
          10.047348,
          15.747347,
          15.132411,
          10.840272,
          14.5105715,
          13.612102,
          21.830103,
          25.017124,
          18.245464,
          7.724561,
          15.017123,
          17.243399,
          17.374588,
          21.964342,
          22.956635,
          -1.3981392,
          15.736624,
          14.562188,
          17.17397,
          6.8271384,
          7.8810363,
          6.952879,
          13.761736,
          12.618662,
          15.913869,
          26.310503,
          -7.237858,
          13.452687,
          -2.3347628,
          -10.348539,
          -8.098616,
          14.9901905,
          17.90907,
          10.047825,
          11.834643,
          9.453863,
          14.8271885,
          21.637842,
          3.2190735,
          -2.7439144,
          -8.261395,
          -8.366478,
          16.465998,
          23.437042,
          21.62238,
          5.3623753,
          -8.959114,
          -8.77908,
          -3.8552742,
          -7.128212,
          -1.2051624,
          20.799511,
          9.967579,
          -0.54511917,
          -4.8574853,
          -5.9102025,
          15.577093,
          27.082083,
          21.171041,
          23.278946,
          7.68976,
          9.130066,
          -9.529603,
          22.584093,
          21.962227,
          22.688375,
          17.890253,
          18.495699,
          19.366013,
          17.022406,
          12.669884,
          16.337318,
          12.845687,
          26.511255,
          -10.603739,
          -10.060249,
          -7.9151354,
          -7.184268,
          27.649221,
          23.769932,
          24.554853,
          21.072048,
          22.12377,
          27.254221,
          26.451069,
          20.434912,
          17.027578,
          20.405416,
          25.761078,
          28.478167,
          24.434464,
          28.798239,
          23.860508,
          24.874895,
          23.167912,
          -0.41422084,
          -7.570074,
          2.4747605,
          -5.0808783,
          -5.4350085,
          3.7299309,
          8.556848,
          7.764661,
          0.009077445,
          4.3228803,
          3.5032854,
          2.4579048,
          1.4145069,
          -3.937174,
          -1.0612419,
          -6.5728445,
          0.58896387,
          0.646059,
          1.347671,
          5.9366527,
          0.98100626,
          1.9308813,
          6.4551644,
          10.590563,
          -0.38220742,
          1.1469316,
          -5.466137,
          0.85747635,
          11.654621,
          2.8641353,
          0.40334538,
          2.2530947,
          3.9088483,
          7.1033106,
          -8.758465,
          -4.786922,
          9.112239,
          27.071299,
          -2.7014968,
          -8.520114,
          -7.883923,
          -1.2980947,
          -1.6843842,
          -6.5495186,
          3.1277351,
          7.5767856,
          -3.455861,
          -5.500924,
          2.8798983,
          2.7375364,
          4.1291614,
          5.2848077,
          -1.5014572,
          -3.2381427,
          5.903627,
          8.21893,
          3.9959764,
          14.340388,
          9.508844,
          4.429608,
          4.7919507,
          18.843565,
          6.094189,
          -0.632442,
          -3.8894422,
          -6.1154613,
          -9.599786,
          -9.427052,
          -5.40327,
          3.5462153,
          14.114244,
          22.449356,
          24.047308,
          25.445969,
          26.655132,
          25.57327,
          27.9866,
          22.49389,
          5.4201026,
          16.40108,
          20.90629,
          2.4510717
         ],
         "yaxis": "y"
        },
        {
         "customdata": [
          [
           "Riesgos"
          ],
          [
           "Riesgos"
          ],
          [
           "Riesgos"
          ],
          [
           "Riesgos"
          ],
          [
           "Riesgos"
          ],
          [
           "Riesgos"
          ],
          [
           "Riesgos"
          ],
          [
           "Riesgos"
          ],
          [
           "Riesgos"
          ],
          [
           "Riesgos"
          ],
          [
           "Riesgos"
          ],
          [
           "Riesgos"
          ],
          [
           "Riesgos"
          ],
          [
           "Riesgos"
          ],
          [
           "Riesgos"
          ],
          [
           "Riesgos"
          ],
          [
           "Riesgos"
          ],
          [
           "Riesgos"
          ],
          [
           "Riesgos"
          ],
          [
           "Riesgos"
          ],
          [
           "Riesgos"
          ],
          [
           "Riesgos"
          ],
          [
           "Riesgos"
          ],
          [
           "Riesgos"
          ],
          [
           "Riesgos"
          ],
          [
           "Riesgos"
          ],
          [
           "Riesgos"
          ],
          [
           "Riesgos"
          ],
          [
           "Riesgos"
          ],
          [
           "Riesgos"
          ],
          [
           "Riesgos"
          ],
          [
           "Riesgos"
          ],
          [
           "Riesgos"
          ],
          [
           "Riesgos"
          ],
          [
           "Riesgos"
          ],
          [
           "Riesgos"
          ],
          [
           "Riesgos"
          ],
          [
           "Riesgos"
          ],
          [
           "Riesgos"
          ],
          [
           "Riesgos"
          ],
          [
           "Riesgos"
          ],
          [
           "Riesgos"
          ],
          [
           "Riesgos"
          ],
          [
           "Riesgos"
          ],
          [
           "Riesgos"
          ],
          [
           "Riesgos"
          ],
          [
           "Riesgos"
          ],
          [
           "Riesgos"
          ],
          [
           "Riesgos"
          ],
          [
           "Riesgos"
          ],
          [
           "Riesgos"
          ],
          [
           "Riesgos"
          ],
          [
           "Riesgos"
          ],
          [
           "Riesgos"
          ],
          [
           "Riesgos"
          ],
          [
           "Riesgos"
          ],
          [
           "Riesgos"
          ],
          [
           "Riesgos"
          ],
          [
           "Riesgos"
          ],
          [
           "Riesgos"
          ]
         ],
         "hovertemplate": "color=Riesgos<br>t-SNE Component 1=%{x}<br>t-SNE Component 2=%{y}<br>label=%{customdata[0]}<extra></extra>",
         "legendgroup": "Riesgos",
         "marker": {
          "color": "#ab63fa",
          "symbol": "circle"
         },
         "mode": "markers",
         "name": "Riesgos",
         "orientation": "v",
         "showlegend": true,
         "type": "scatter",
         "x": [
          4.5671515,
          0.6089036,
          0.5098743,
          -9.339604,
          2.3909163,
          2.3917887,
          -10.191365,
          -9.508185,
          -9.570116,
          -14.159107,
          -14.152856,
          -14.044873,
          -14.083192,
          -13.923373,
          -13.878467,
          -13.717353,
          -13.623827,
          -13.543723,
          -12.169432,
          -11.2288,
          -10.66153,
          2.5353937,
          1.1233046,
          1.3242449,
          0.53676856,
          0.68490404,
          -12.81719,
          -12.674096,
          -12.444381,
          -12.195054,
          -7.5535884,
          -8.646746,
          -9.607392,
          -10.0175495,
          2.0431175,
          -9.727263,
          -9.712688,
          -9.981614,
          -8.328761,
          -7.8594956,
          -8.690533,
          -6.9027076,
          -6.9262066,
          -6.8681455,
          -6.5888333,
          -6.129194,
          -5.43123,
          -5.2930593,
          -4.339017,
          -5.918433,
          -11.442287,
          -11.372871,
          -11.195677,
          -10.8436775,
          -10.142112,
          -9.451144,
          -9.078884,
          -8.998126,
          -8.476768,
          -8.23602
         ],
         "xaxis": "x",
         "y": [
          -29.584885,
          -25.457788,
          -25.389694,
          -16.260271,
          -28.093801,
          -28.129124,
          -18.975458,
          -24.0873,
          -24.209347,
          -27.110373,
          -27.204786,
          -27.558237,
          -27.865086,
          -28.29212,
          -28.677195,
          -29.193851,
          -29.382702,
          -29.46654,
          -20.094194,
          -19.913446,
          -19.946262,
          -25.265888,
          -23.878466,
          -23.162638,
          -22.675879,
          -22.731855,
          -22.887003,
          -22.977036,
          -23.08154,
          -23.235538,
          -25.000063,
          -23.768293,
          -23.08209,
          -25.010874,
          -26.7047,
          -21.9797,
          -21.940964,
          -20.337196,
          -21.039095,
          -17.355194,
          -21.330204,
          -14.20565,
          -14.100041,
          -14.300706,
          -15.011979,
          -15.606544,
          -15.992741,
          -16.061663,
          -16.129463,
          -18.226545,
          -16.980495,
          -16.97942,
          -17.044498,
          -17.211866,
          -17.546549,
          -18.14173,
          -18.386435,
          -18.70825,
          -19.178297,
          -19.374155
         ],
         "yaxis": "y"
        },
        {
         "customdata": [
          [
           "Información"
          ],
          [
           "Información"
          ],
          [
           "Información"
          ],
          [
           "Información"
          ],
          [
           "Información"
          ],
          [
           "Información"
          ],
          [
           "Información"
          ],
          [
           "Información"
          ],
          [
           "Información"
          ],
          [
           "Información"
          ],
          [
           "Información"
          ],
          [
           "Información"
          ],
          [
           "Información"
          ],
          [
           "Información"
          ],
          [
           "Información"
          ],
          [
           "Información"
          ],
          [
           "Información"
          ],
          [
           "Información"
          ],
          [
           "Información"
          ],
          [
           "Información"
          ],
          [
           "Información"
          ]
         ],
         "hovertemplate": "color=Información<br>t-SNE Component 1=%{x}<br>t-SNE Component 2=%{y}<br>label=%{customdata[0]}<extra></extra>",
         "legendgroup": "Información",
         "marker": {
          "color": "#FFA15A",
          "symbol": "circle"
         },
         "mode": "markers",
         "name": "Información",
         "orientation": "v",
         "showlegend": true,
         "type": "scatter",
         "x": [
          5.087621,
          5.071898,
          5.62284,
          5.913882,
          6.2878027,
          6.562506,
          6.6538205,
          4.596492,
          3.5395944,
          3.5181868,
          7.170559,
          7.2826657,
          7.344702,
          6.0054135,
          3.259497,
          3.2690954,
          -5.0100536,
          1.6328987,
          1.8512369,
          1.9458194,
          2.2566555
         ],
         "xaxis": "x",
         "y": [
          -30.457174,
          -30.636408,
          -32.579674,
          -32.801632,
          -33.08854,
          -33.341953,
          -33.419754,
          -32.316345,
          -31.650148,
          -31.660742,
          -27.298735,
          -27.240097,
          -27.204603,
          -30.176403,
          -30.223051,
          -30.255621,
          -30.088278,
          -32.88736,
          -32.824085,
          -32.81379,
          -31.889805
         ],
         "yaxis": "y"
        },
        {
         "customdata": [
          [
           "Emergencia"
          ],
          [
           "Emergencia"
          ],
          [
           "Emergencia"
          ],
          [
           "Emergencia"
          ],
          [
           "Emergencia"
          ],
          [
           "Emergencia"
          ],
          [
           "Emergencia"
          ],
          [
           "Emergencia"
          ],
          [
           "Emergencia"
          ],
          [
           "Emergencia"
          ],
          [
           "Emergencia"
          ],
          [
           "Emergencia"
          ],
          [
           "Emergencia"
          ],
          [
           "Emergencia"
          ],
          [
           "Emergencia"
          ],
          [
           "Emergencia"
          ],
          [
           "Emergencia"
          ],
          [
           "Emergencia"
          ],
          [
           "Emergencia"
          ],
          [
           "Emergencia"
          ],
          [
           "Emergencia"
          ],
          [
           "Emergencia"
          ],
          [
           "Emergencia"
          ],
          [
           "Emergencia"
          ],
          [
           "Emergencia"
          ],
          [
           "Emergencia"
          ],
          [
           "Emergencia"
          ],
          [
           "Emergencia"
          ],
          [
           "Emergencia"
          ],
          [
           "Emergencia"
          ],
          [
           "Emergencia"
          ],
          [
           "Emergencia"
          ],
          [
           "Emergencia"
          ],
          [
           "Emergencia"
          ],
          [
           "Emergencia"
          ],
          [
           "Emergencia"
          ],
          [
           "Emergencia"
          ],
          [
           "Emergencia"
          ],
          [
           "Emergencia"
          ],
          [
           "Emergencia"
          ],
          [
           "Emergencia"
          ],
          [
           "Emergencia"
          ],
          [
           "Emergencia"
          ],
          [
           "Emergencia"
          ],
          [
           "Emergencia"
          ],
          [
           "Emergencia"
          ],
          [
           "Emergencia"
          ],
          [
           "Emergencia"
          ],
          [
           "Emergencia"
          ],
          [
           "Emergencia"
          ],
          [
           "Emergencia"
          ],
          [
           "Emergencia"
          ],
          [
           "Emergencia"
          ],
          [
           "Emergencia"
          ],
          [
           "Emergencia"
          ],
          [
           "Emergencia"
          ],
          [
           "Emergencia"
          ],
          [
           "Emergencia"
          ],
          [
           "Emergencia"
          ],
          [
           "Emergencia"
          ],
          [
           "Emergencia"
          ],
          [
           "Emergencia"
          ],
          [
           "Emergencia"
          ],
          [
           "Emergencia"
          ],
          [
           "Emergencia"
          ],
          [
           "Emergencia"
          ],
          [
           "Emergencia"
          ],
          [
           "Emergencia"
          ],
          [
           "Emergencia"
          ],
          [
           "Emergencia"
          ],
          [
           "Emergencia"
          ],
          [
           "Emergencia"
          ],
          [
           "Emergencia"
          ],
          [
           "Emergencia"
          ],
          [
           "Emergencia"
          ],
          [
           "Emergencia"
          ],
          [
           "Emergencia"
          ],
          [
           "Emergencia"
          ],
          [
           "Emergencia"
          ],
          [
           "Emergencia"
          ],
          [
           "Emergencia"
          ],
          [
           "Emergencia"
          ],
          [
           "Emergencia"
          ],
          [
           "Emergencia"
          ],
          [
           "Emergencia"
          ],
          [
           "Emergencia"
          ],
          [
           "Emergencia"
          ],
          [
           "Emergencia"
          ],
          [
           "Emergencia"
          ],
          [
           "Emergencia"
          ],
          [
           "Emergencia"
          ],
          [
           "Emergencia"
          ],
          [
           "Emergencia"
          ],
          [
           "Emergencia"
          ],
          [
           "Emergencia"
          ],
          [
           "Emergencia"
          ],
          [
           "Emergencia"
          ],
          [
           "Emergencia"
          ],
          [
           "Emergencia"
          ],
          [
           "Emergencia"
          ],
          [
           "Emergencia"
          ],
          [
           "Emergencia"
          ],
          [
           "Emergencia"
          ],
          [
           "Emergencia"
          ],
          [
           "Emergencia"
          ]
         ],
         "hovertemplate": "color=Emergencia<br>t-SNE Component 1=%{x}<br>t-SNE Component 2=%{y}<br>label=%{customdata[0]}<extra></extra>",
         "legendgroup": "Emergencia",
         "marker": {
          "color": "#19d3f3",
          "symbol": "circle"
         },
         "mode": "markers",
         "name": "Emergencia",
         "orientation": "v",
         "showlegend": true,
         "type": "scatter",
         "x": [
          2.989688,
          -22.99072,
          -23.1343,
          -22.713934,
          -25.165512,
          -25.234365,
          -25.44454,
          -25.633245,
          -26.113014,
          -26.617374,
          -27.108828,
          -27.020184,
          -22.8578,
          -23.867046,
          -23.884596,
          -23.864372,
          -24.007963,
          -24.185898,
          -24.535479,
          -24.791798,
          -24.957462,
          -25.133495,
          -25.454895,
          -25.766434,
          -22.9135,
          -25.200262,
          -25.18424,
          -25.101984,
          -26.848047,
          -26.735273,
          -26.65301,
          -29.928774,
          -25.066027,
          -25.031858,
          -25.07084,
          -24.969406,
          -24.986876,
          -25.534624,
          -26.035627,
          -26.257599,
          -23.926884,
          -29.80097,
          -29.797762,
          -27.922722,
          -28.006096,
          -28.188585,
          -28.430916,
          -28.544493,
          -28.254908,
          -27.92492,
          -27.687832,
          -27.370064,
          -27.382835,
          -27.443018,
          -27.521475,
          -31.068085,
          -31.315216,
          -31.096375,
          -31.864552,
          -32.37195,
          -32.434086,
          -24.639675,
          -24.649546,
          -24.338802,
          -24.512863,
          -24.632517,
          -25.438192,
          -28.226969,
          -29.963667,
          -30.195423,
          -30.384153,
          -30.79244,
          -31.179155,
          -31.57556,
          -31.681751,
          -30.264227,
          -30.224712,
          -30.199392,
          -25.687807,
          -25.592266,
          -25.55734,
          -26.49896,
          -26.56419,
          -27.591944,
          -28.276579,
          -28.793568,
          -28.771246,
          -28.528,
          -25.843,
          -28.818783,
          -28.855038,
          -29.179539,
          -29.34298,
          -27.544989,
          -23.300684,
          -23.559994,
          -26.202946,
          -29.041782,
          -28.582392,
          -25.831842,
          -30.061346,
          -30.232563,
          -30.746212,
          -26.426207,
          -30.821291
         ],
         "xaxis": "x",
         "y": [
          -29.113419,
          0.96539605,
          1.1886477,
          7.3510556,
          5.3232956,
          4.7078977,
          4.35908,
          3.938866,
          3.8444822,
          3.8664916,
          4.3769135,
          4.0799274,
          0.3062285,
          2.703707,
          3.323939,
          3.890644,
          4.285888,
          3.9736688,
          3.4151428,
          2.9260736,
          2.6073244,
          2.030036,
          1.9694383,
          1.8439151,
          3.043853,
          11.357842,
          11.359821,
          11.269051,
          14.991553,
          14.552724,
          14.144659,
          21.18788,
          15.445602,
          15.809057,
          15.926149,
          16.641497,
          17.026846,
          17.040861,
          17.128258,
          17.220139,
          9.479583,
          18.909077,
          19.322872,
          10.354428,
          10.135771,
          9.779078,
          9.152469,
          9.063726,
          8.475875,
          8.814543,
          8.426046,
          7.989501,
          7.4121513,
          7.041954,
          17.596083,
          20.424631,
          20.578682,
          20.754995,
          20.008951,
          19.853828,
          19.674076,
          6.7103863,
          6.9579463,
          8.687228,
          8.334696,
          8.092634,
          7.80557,
          18.735249,
          18.62405,
          17.728237,
          17.42585,
          17.297136,
          17.018486,
          16.439665,
          16.106974,
          14.813563,
          14.747449,
          14.745316,
          3.0847082,
          9.238186,
          9.450803,
          19.859821,
          19.943878,
          20.79442,
          21.181973,
          21.06815,
          20.511,
          20.13264,
          7.8059635,
          19.46524,
          20.000257,
          16.482334,
          17.3053,
          17.376642,
          7.238182,
          6.660969,
          8.993377,
          18.560041,
          17.948343,
          7.867408,
          20.035746,
          19.813995,
          18.837843,
          6.086975,
          18.886103
         ],
         "yaxis": "y"
        },
        {
         "customdata": [
          [
           "Question: ¿Cómo se diferencia la ubicación física de la operativa?<br>Closest Model: Emergencia<br>Similarity: 0.61<br>Chunk: de respuesta organizada y operativa a través del  adiestramiento práctico.  Los objetivos del simula..."
          ],
          [
           "Question: ¿Qué información se incluye en el informe de la evaluación de riesgos que ofrece la plataforma y cuál es su utilidad para la gestión de riesgos en la empresa?<br>Closest Model: Emergencia<br>Similarity: 0.90<br>Chunk: Este formulario permite realizar guardados parciales en la evaluación, por lo que se muestra  en una..."
          ],
          [
           "Question: ¿Hay indicadores relativos al cumplimiento de normas?<br>Closest Model: Auditorias<br>Similarity: 0.34<br>Chunk: 5. PLANIFICACIÓN Y EJECUCIÓN DE MEDIDAS  El usuario accede al cardboard “Planificación y ejecución d..."
          ],
          [
           "Question: ¿Qué papel juega la estructura organizativa en la funcionalidad general de la plataforma y cómo interactúa con otros módulos?<br>Closest Model: Auditorias<br>Similarity: 0.38<br>Chunk: GRÁFICA DE RESULTADOS  En la pestaña “Gráficas de resultados” se muestran dos tipos de gráficas. La ..."
          ],
          [
           "Question: ¿Qué permite realizar la evaluación de riesgos?<br>Closest Model: Emergencia<br>Similarity: 0.96<br>Chunk: 19  Al clicar a la acción Evaluar del listado, el usuario es redirigido al formulario de evaluación ..."
          ],
          [
           "Question: ¿Qué tipo de documentos se pueden almacenar y compartir en el espacio denominado 'Documentos' y cuál es su importancia dentro del contexto de la gestión empresarial en la plataforma?<br>Closest Model: Emergencia<br>Similarity: 0.88<br>Chunk: visualiza una serie de cuestionarios relativos al proceso de comunicación, proceso de  evacuación y ..."
          ],
          [
           "Question: ¿Se pueden llevar a cabo auditorías internas?<br>Closest Model: Emergencia<br>Similarity: 0.90<br>Chunk: visualiza una serie de cuestionarios relativos al proceso de comunicación, proceso de  evacuación y ..."
          ],
          [
           "Question: ¿Cuál es la tasa de adopción de esta plataforma en el mercado?<br>Closest Model: Auditorias<br>Similarity: 0.38<br>Chunk: GRÁFICA DE RESULTADOS  En la pestaña “Gráficas de resultados” se muestran dos tipos de gráficas. La ..."
          ],
          [
           "Question: ¿Cómo se compara esta plataforma con otras soluciones de gestión de SST?<br>Closest Model: Emergencia<br>Similarity: 0.79<br>Chunk: Sabentis es la nueva plataforma de gestión especializada en el ámbito de Seguridad y Salud en  el Tr..."
          ],
          [
           "Question: ¿Qué día hará mañana?<br>Closest Model: Emergencia<br>Similarity: 0.38<br>Chunk: de emergencia sin previo aviso y en cualquier momento del día para  comprobar el resultado de la par..."
          ]
         ],
         "hovertemplate": "color=Question<br>t-SNE Component 1=%{x}<br>t-SNE Component 2=%{y}<br>label=%{customdata[0]}<extra></extra>",
         "legendgroup": "Question",
         "marker": {
          "color": "#FF6692",
          "symbol": "circle"
         },
         "mode": "markers",
         "name": "Question",
         "orientation": "v",
         "showlegend": true,
         "type": "scatter",
         "x": [
          -26.756788,
          -21.977283,
          1.6317586,
          -16.596222,
          -31.210154,
          -21.78717,
          -28.894705,
          -16.596222,
          -21.330372,
          4.167496
         ],
         "xaxis": "x",
         "y": [
          1.3139818,
          1.9584398,
          -30.066431,
          -20.53685,
          14.264626,
          4.0386567,
          5.981242,
          -20.53685,
          2.0753763,
          -23.38262
         ],
         "yaxis": "y"
        }
       ],
       "layout": {
        "annotations": [
         {
          "arrowhead": 2,
          "showarrow": true,
          "text": "Q1",
          "x": -26.75678825378418,
          "y": 1.3139817714691162
         },
         {
          "arrowhead": 2,
          "showarrow": true,
          "text": "Q2",
          "x": -21.977283477783203,
          "y": 1.958439826965332
         },
         {
          "arrowhead": 2,
          "showarrow": true,
          "text": "Q3",
          "x": 1.6317585706710815,
          "y": -30.066431045532227
         },
         {
          "arrowhead": 2,
          "showarrow": true,
          "text": "Q4",
          "x": -16.596221923828125,
          "y": -20.536849975585938
         },
         {
          "arrowhead": 2,
          "showarrow": true,
          "text": "Q5",
          "x": -31.210153579711914,
          "y": 14.264625549316406
         },
         {
          "arrowhead": 2,
          "showarrow": true,
          "text": "Q6",
          "x": -21.78717041015625,
          "y": 4.038656711578369
         },
         {
          "arrowhead": 2,
          "showarrow": true,
          "text": "Q7",
          "x": -28.894704818725586,
          "y": 5.9812421798706055
         },
         {
          "arrowhead": 2,
          "showarrow": true,
          "text": "Q8",
          "x": -16.596221923828125,
          "y": -20.536849975585938
         },
         {
          "arrowhead": 2,
          "showarrow": true,
          "text": "Q9",
          "x": -21.330371856689453,
          "y": 2.075376272201538
         },
         {
          "arrowhead": 2,
          "showarrow": true,
          "text": "Q10",
          "x": 4.167496204376221,
          "y": -23.382619857788086
         }
        ],
        "legend": {
         "title": {
          "text": "color"
         },
         "tracegroupgap": 0
        },
        "template": {
         "data": {
          "bar": [
           {
            "error_x": {
             "color": "#2a3f5f"
            },
            "error_y": {
             "color": "#2a3f5f"
            },
            "marker": {
             "line": {
              "color": "#E5ECF6",
              "width": 0.5
             },
             "pattern": {
              "fillmode": "overlay",
              "size": 10,
              "solidity": 0.2
             }
            },
            "type": "bar"
           }
          ],
          "barpolar": [
           {
            "marker": {
             "line": {
              "color": "#E5ECF6",
              "width": 0.5
             },
             "pattern": {
              "fillmode": "overlay",
              "size": 10,
              "solidity": 0.2
             }
            },
            "type": "barpolar"
           }
          ],
          "carpet": [
           {
            "aaxis": {
             "endlinecolor": "#2a3f5f",
             "gridcolor": "white",
             "linecolor": "white",
             "minorgridcolor": "white",
             "startlinecolor": "#2a3f5f"
            },
            "baxis": {
             "endlinecolor": "#2a3f5f",
             "gridcolor": "white",
             "linecolor": "white",
             "minorgridcolor": "white",
             "startlinecolor": "#2a3f5f"
            },
            "type": "carpet"
           }
          ],
          "choropleth": [
           {
            "colorbar": {
             "outlinewidth": 0,
             "ticks": ""
            },
            "type": "choropleth"
           }
          ],
          "contour": [
           {
            "colorbar": {
             "outlinewidth": 0,
             "ticks": ""
            },
            "colorscale": [
             [
              0,
              "#0d0887"
             ],
             [
              0.1111111111111111,
              "#46039f"
             ],
             [
              0.2222222222222222,
              "#7201a8"
             ],
             [
              0.3333333333333333,
              "#9c179e"
             ],
             [
              0.4444444444444444,
              "#bd3786"
             ],
             [
              0.5555555555555556,
              "#d8576b"
             ],
             [
              0.6666666666666666,
              "#ed7953"
             ],
             [
              0.7777777777777778,
              "#fb9f3a"
             ],
             [
              0.8888888888888888,
              "#fdca26"
             ],
             [
              1,
              "#f0f921"
             ]
            ],
            "type": "contour"
           }
          ],
          "contourcarpet": [
           {
            "colorbar": {
             "outlinewidth": 0,
             "ticks": ""
            },
            "type": "contourcarpet"
           }
          ],
          "heatmap": [
           {
            "colorbar": {
             "outlinewidth": 0,
             "ticks": ""
            },
            "colorscale": [
             [
              0,
              "#0d0887"
             ],
             [
              0.1111111111111111,
              "#46039f"
             ],
             [
              0.2222222222222222,
              "#7201a8"
             ],
             [
              0.3333333333333333,
              "#9c179e"
             ],
             [
              0.4444444444444444,
              "#bd3786"
             ],
             [
              0.5555555555555556,
              "#d8576b"
             ],
             [
              0.6666666666666666,
              "#ed7953"
             ],
             [
              0.7777777777777778,
              "#fb9f3a"
             ],
             [
              0.8888888888888888,
              "#fdca26"
             ],
             [
              1,
              "#f0f921"
             ]
            ],
            "type": "heatmap"
           }
          ],
          "heatmapgl": [
           {
            "colorbar": {
             "outlinewidth": 0,
             "ticks": ""
            },
            "colorscale": [
             [
              0,
              "#0d0887"
             ],
             [
              0.1111111111111111,
              "#46039f"
             ],
             [
              0.2222222222222222,
              "#7201a8"
             ],
             [
              0.3333333333333333,
              "#9c179e"
             ],
             [
              0.4444444444444444,
              "#bd3786"
             ],
             [
              0.5555555555555556,
              "#d8576b"
             ],
             [
              0.6666666666666666,
              "#ed7953"
             ],
             [
              0.7777777777777778,
              "#fb9f3a"
             ],
             [
              0.8888888888888888,
              "#fdca26"
             ],
             [
              1,
              "#f0f921"
             ]
            ],
            "type": "heatmapgl"
           }
          ],
          "histogram": [
           {
            "marker": {
             "pattern": {
              "fillmode": "overlay",
              "size": 10,
              "solidity": 0.2
             }
            },
            "type": "histogram"
           }
          ],
          "histogram2d": [
           {
            "colorbar": {
             "outlinewidth": 0,
             "ticks": ""
            },
            "colorscale": [
             [
              0,
              "#0d0887"
             ],
             [
              0.1111111111111111,
              "#46039f"
             ],
             [
              0.2222222222222222,
              "#7201a8"
             ],
             [
              0.3333333333333333,
              "#9c179e"
             ],
             [
              0.4444444444444444,
              "#bd3786"
             ],
             [
              0.5555555555555556,
              "#d8576b"
             ],
             [
              0.6666666666666666,
              "#ed7953"
             ],
             [
              0.7777777777777778,
              "#fb9f3a"
             ],
             [
              0.8888888888888888,
              "#fdca26"
             ],
             [
              1,
              "#f0f921"
             ]
            ],
            "type": "histogram2d"
           }
          ],
          "histogram2dcontour": [
           {
            "colorbar": {
             "outlinewidth": 0,
             "ticks": ""
            },
            "colorscale": [
             [
              0,
              "#0d0887"
             ],
             [
              0.1111111111111111,
              "#46039f"
             ],
             [
              0.2222222222222222,
              "#7201a8"
             ],
             [
              0.3333333333333333,
              "#9c179e"
             ],
             [
              0.4444444444444444,
              "#bd3786"
             ],
             [
              0.5555555555555556,
              "#d8576b"
             ],
             [
              0.6666666666666666,
              "#ed7953"
             ],
             [
              0.7777777777777778,
              "#fb9f3a"
             ],
             [
              0.8888888888888888,
              "#fdca26"
             ],
             [
              1,
              "#f0f921"
             ]
            ],
            "type": "histogram2dcontour"
           }
          ],
          "mesh3d": [
           {
            "colorbar": {
             "outlinewidth": 0,
             "ticks": ""
            },
            "type": "mesh3d"
           }
          ],
          "parcoords": [
           {
            "line": {
             "colorbar": {
              "outlinewidth": 0,
              "ticks": ""
             }
            },
            "type": "parcoords"
           }
          ],
          "pie": [
           {
            "automargin": true,
            "type": "pie"
           }
          ],
          "scatter": [
           {
            "fillpattern": {
             "fillmode": "overlay",
             "size": 10,
             "solidity": 0.2
            },
            "type": "scatter"
           }
          ],
          "scatter3d": [
           {
            "line": {
             "colorbar": {
              "outlinewidth": 0,
              "ticks": ""
             }
            },
            "marker": {
             "colorbar": {
              "outlinewidth": 0,
              "ticks": ""
             }
            },
            "type": "scatter3d"
           }
          ],
          "scattercarpet": [
           {
            "marker": {
             "colorbar": {
              "outlinewidth": 0,
              "ticks": ""
             }
            },
            "type": "scattercarpet"
           }
          ],
          "scattergeo": [
           {
            "marker": {
             "colorbar": {
              "outlinewidth": 0,
              "ticks": ""
             }
            },
            "type": "scattergeo"
           }
          ],
          "scattergl": [
           {
            "marker": {
             "colorbar": {
              "outlinewidth": 0,
              "ticks": ""
             }
            },
            "type": "scattergl"
           }
          ],
          "scattermapbox": [
           {
            "marker": {
             "colorbar": {
              "outlinewidth": 0,
              "ticks": ""
             }
            },
            "type": "scattermapbox"
           }
          ],
          "scatterpolar": [
           {
            "marker": {
             "colorbar": {
              "outlinewidth": 0,
              "ticks": ""
             }
            },
            "type": "scatterpolar"
           }
          ],
          "scatterpolargl": [
           {
            "marker": {
             "colorbar": {
              "outlinewidth": 0,
              "ticks": ""
             }
            },
            "type": "scatterpolargl"
           }
          ],
          "scatterternary": [
           {
            "marker": {
             "colorbar": {
              "outlinewidth": 0,
              "ticks": ""
             }
            },
            "type": "scatterternary"
           }
          ],
          "surface": [
           {
            "colorbar": {
             "outlinewidth": 0,
             "ticks": ""
            },
            "colorscale": [
             [
              0,
              "#0d0887"
             ],
             [
              0.1111111111111111,
              "#46039f"
             ],
             [
              0.2222222222222222,
              "#7201a8"
             ],
             [
              0.3333333333333333,
              "#9c179e"
             ],
             [
              0.4444444444444444,
              "#bd3786"
             ],
             [
              0.5555555555555556,
              "#d8576b"
             ],
             [
              0.6666666666666666,
              "#ed7953"
             ],
             [
              0.7777777777777778,
              "#fb9f3a"
             ],
             [
              0.8888888888888888,
              "#fdca26"
             ],
             [
              1,
              "#f0f921"
             ]
            ],
            "type": "surface"
           }
          ],
          "table": [
           {
            "cells": {
             "fill": {
              "color": "#EBF0F8"
             },
             "line": {
              "color": "white"
             }
            },
            "header": {
             "fill": {
              "color": "#C8D4E3"
             },
             "line": {
              "color": "white"
             }
            },
            "type": "table"
           }
          ]
         },
         "layout": {
          "annotationdefaults": {
           "arrowcolor": "#2a3f5f",
           "arrowhead": 0,
           "arrowwidth": 1
          },
          "autotypenumbers": "strict",
          "coloraxis": {
           "colorbar": {
            "outlinewidth": 0,
            "ticks": ""
           }
          },
          "colorscale": {
           "diverging": [
            [
             0,
             "#8e0152"
            ],
            [
             0.1,
             "#c51b7d"
            ],
            [
             0.2,
             "#de77ae"
            ],
            [
             0.3,
             "#f1b6da"
            ],
            [
             0.4,
             "#fde0ef"
            ],
            [
             0.5,
             "#f7f7f7"
            ],
            [
             0.6,
             "#e6f5d0"
            ],
            [
             0.7,
             "#b8e186"
            ],
            [
             0.8,
             "#7fbc41"
            ],
            [
             0.9,
             "#4d9221"
            ],
            [
             1,
             "#276419"
            ]
           ],
           "sequential": [
            [
             0,
             "#0d0887"
            ],
            [
             0.1111111111111111,
             "#46039f"
            ],
            [
             0.2222222222222222,
             "#7201a8"
            ],
            [
             0.3333333333333333,
             "#9c179e"
            ],
            [
             0.4444444444444444,
             "#bd3786"
            ],
            [
             0.5555555555555556,
             "#d8576b"
            ],
            [
             0.6666666666666666,
             "#ed7953"
            ],
            [
             0.7777777777777778,
             "#fb9f3a"
            ],
            [
             0.8888888888888888,
             "#fdca26"
            ],
            [
             1,
             "#f0f921"
            ]
           ],
           "sequentialminus": [
            [
             0,
             "#0d0887"
            ],
            [
             0.1111111111111111,
             "#46039f"
            ],
            [
             0.2222222222222222,
             "#7201a8"
            ],
            [
             0.3333333333333333,
             "#9c179e"
            ],
            [
             0.4444444444444444,
             "#bd3786"
            ],
            [
             0.5555555555555556,
             "#d8576b"
            ],
            [
             0.6666666666666666,
             "#ed7953"
            ],
            [
             0.7777777777777778,
             "#fb9f3a"
            ],
            [
             0.8888888888888888,
             "#fdca26"
            ],
            [
             1,
             "#f0f921"
            ]
           ]
          },
          "colorway": [
           "#636efa",
           "#EF553B",
           "#00cc96",
           "#ab63fa",
           "#FFA15A",
           "#19d3f3",
           "#FF6692",
           "#B6E880",
           "#FF97FF",
           "#FECB52"
          ],
          "font": {
           "color": "#2a3f5f"
          },
          "geo": {
           "bgcolor": "white",
           "lakecolor": "white",
           "landcolor": "#E5ECF6",
           "showlakes": true,
           "showland": true,
           "subunitcolor": "white"
          },
          "hoverlabel": {
           "align": "left"
          },
          "hovermode": "closest",
          "mapbox": {
           "style": "light"
          },
          "paper_bgcolor": "white",
          "plot_bgcolor": "#E5ECF6",
          "polar": {
           "angularaxis": {
            "gridcolor": "white",
            "linecolor": "white",
            "ticks": ""
           },
           "bgcolor": "#E5ECF6",
           "radialaxis": {
            "gridcolor": "white",
            "linecolor": "white",
            "ticks": ""
           }
          },
          "scene": {
           "xaxis": {
            "backgroundcolor": "#E5ECF6",
            "gridcolor": "white",
            "gridwidth": 2,
            "linecolor": "white",
            "showbackground": true,
            "ticks": "",
            "zerolinecolor": "white"
           },
           "yaxis": {
            "backgroundcolor": "#E5ECF6",
            "gridcolor": "white",
            "gridwidth": 2,
            "linecolor": "white",
            "showbackground": true,
            "ticks": "",
            "zerolinecolor": "white"
           },
           "zaxis": {
            "backgroundcolor": "#E5ECF6",
            "gridcolor": "white",
            "gridwidth": 2,
            "linecolor": "white",
            "showbackground": true,
            "ticks": "",
            "zerolinecolor": "white"
           }
          },
          "shapedefaults": {
           "line": {
            "color": "#2a3f5f"
           }
          },
          "ternary": {
           "aaxis": {
            "gridcolor": "white",
            "linecolor": "white",
            "ticks": ""
           },
           "baxis": {
            "gridcolor": "white",
            "linecolor": "white",
            "ticks": ""
           },
           "bgcolor": "#E5ECF6",
           "caxis": {
            "gridcolor": "white",
            "linecolor": "white",
            "ticks": ""
           }
          },
          "title": {
           "x": 0.05
          },
          "xaxis": {
           "automargin": true,
           "gridcolor": "white",
           "linecolor": "white",
           "ticks": "",
           "title": {
            "standoff": 15
           },
           "zerolinecolor": "white",
           "zerolinewidth": 2
          },
          "yaxis": {
           "automargin": true,
           "gridcolor": "white",
           "linecolor": "white",
           "ticks": "",
           "title": {
            "standoff": 15
           },
           "zerolinecolor": "white",
           "zerolinewidth": 2
          }
         }
        },
        "title": {
         "text": "Embeddings Visualization with 2D t-SNE"
        },
        "xaxis": {
         "anchor": "y",
         "domain": [
          0,
          1
         ],
         "title": {
          "text": "t-SNE Component 1"
         }
        },
        "yaxis": {
         "anchor": "x",
         "domain": [
          0,
          1
         ],
         "title": {
          "text": "t-SNE Component 2"
         }
        }
       }
      }
     },
     "metadata": {},
     "output_type": "display_data"
    },
    {
     "data": {
      "application/vnd.plotly.v1+json": {
       "config": {
        "plotlyServerURL": "https://plot.ly"
       },
       "data": [
        {
         "customdata": [
          [
           "Auditorias"
          ],
          [
           "Auditorias"
          ],
          [
           "Auditorias"
          ],
          [
           "Auditorias"
          ],
          [
           "Auditorias"
          ],
          [
           "Auditorias"
          ],
          [
           "Auditorias"
          ],
          [
           "Auditorias"
          ],
          [
           "Auditorias"
          ],
          [
           "Auditorias"
          ],
          [
           "Auditorias"
          ],
          [
           "Auditorias"
          ],
          [
           "Auditorias"
          ],
          [
           "Auditorias"
          ],
          [
           "Auditorias"
          ],
          [
           "Auditorias"
          ],
          [
           "Auditorias"
          ],
          [
           "Auditorias"
          ],
          [
           "Auditorias"
          ],
          [
           "Auditorias"
          ],
          [
           "Auditorias"
          ],
          [
           "Auditorias"
          ],
          [
           "Auditorias"
          ],
          [
           "Auditorias"
          ],
          [
           "Auditorias"
          ],
          [
           "Auditorias"
          ],
          [
           "Auditorias"
          ],
          [
           "Auditorias"
          ],
          [
           "Auditorias"
          ],
          [
           "Auditorias"
          ],
          [
           "Auditorias"
          ],
          [
           "Auditorias"
          ],
          [
           "Auditorias"
          ],
          [
           "Auditorias"
          ],
          [
           "Auditorias"
          ],
          [
           "Auditorias"
          ],
          [
           "Auditorias"
          ],
          [
           "Auditorias"
          ],
          [
           "Auditorias"
          ],
          [
           "Auditorias"
          ],
          [
           "Auditorias"
          ],
          [
           "Auditorias"
          ],
          [
           "Auditorias"
          ],
          [
           "Auditorias"
          ],
          [
           "Auditorias"
          ],
          [
           "Auditorias"
          ],
          [
           "Auditorias"
          ],
          [
           "Auditorias"
          ],
          [
           "Auditorias"
          ],
          [
           "Auditorias"
          ],
          [
           "Auditorias"
          ],
          [
           "Auditorias"
          ],
          [
           "Auditorias"
          ],
          [
           "Auditorias"
          ],
          [
           "Auditorias"
          ],
          [
           "Auditorias"
          ],
          [
           "Auditorias"
          ],
          [
           "Auditorias"
          ]
         ],
         "hovertemplate": "color=Auditorias<br>PCA Component 1=%{x}<br>PCA Component 2=%{y}<br>PCA Component 3=%{z}<br>label=%{customdata[0]}<extra></extra>",
         "legendgroup": "Auditorias",
         "marker": {
          "color": "#636efa",
          "symbol": "circle"
         },
         "mode": "markers",
         "name": "Auditorias",
         "scene": "scene",
         "showlegend": true,
         "type": "scatter3d",
         "x": [
          -0.7294573,
          -0.7171058,
          -0.717175,
          -0.71566474,
          -0.7191677,
          -0.7125313,
          -0.71142346,
          -0.7101875,
          -0.7086916,
          -0.7095186,
          -0.71029687,
          -0.7114537,
          -0.7080413,
          -0.7003213,
          -0.70944333,
          -0.71684885,
          -0.7109994,
          -0.7107015,
          -0.7102402,
          -0.7084626,
          -0.7105709,
          -0.7123217,
          -0.71468055,
          -0.7116476,
          -0.7104242,
          -0.71027553,
          -0.71022946,
          -0.70994204,
          -0.7187538,
          -0.7114541,
          -0.70890975,
          -0.708502,
          -0.7069845,
          -0.7066046,
          -0.70741296,
          -0.7073267,
          -0.7084203,
          -0.70839924,
          -0.7093392,
          -0.7080413,
          -0.70829815,
          -0.71578443,
          -0.70977974,
          -0.7112019,
          -0.71174043,
          -0.7102903,
          -0.70857936,
          -0.7101657,
          -0.71003515,
          -0.7129427,
          -0.71232617,
          -0.7108468,
          -0.7090628,
          -0.7105138,
          -0.7115447,
          -0.71079147,
          -0.7111084,
          -0.71325445
         ],
         "y": [
          -0.013264229,
          -0.008899883,
          -0.009082211,
          -0.009366269,
          -0.012231446,
          -0.005771809,
          -0.0056583905,
          -0.0054719765,
          -0.0053460044,
          -0.009356631,
          -0.009210012,
          -0.008891302,
          -0.007280582,
          -0.009005077,
          -0.009392866,
          -0.0077255587,
          -0.010019118,
          -0.007055658,
          -0.009375339,
          -0.006229988,
          -0.011933576,
          -0.009905193,
          -0.007884719,
          -0.0057773837,
          -0.007814586,
          -0.00559763,
          -0.0056817653,
          -0.0033908053,
          -0.008018476,
          -0.008329161,
          -0.0072931116,
          -0.00847244,
          -0.008481423,
          -0.007969942,
          -0.008732652,
          -0.009267237,
          -0.0095378915,
          -0.009226755,
          -0.008944101,
          -0.007280582,
          -0.009320984,
          -0.0076629743,
          -0.007393379,
          -0.009592321,
          -0.008632738,
          -0.008852261,
          -0.00597388,
          -0.011897538,
          -0.011104425,
          -0.007593318,
          -0.0073206313,
          -0.008194172,
          -0.006112018,
          -0.005057298,
          -0.007458085,
          -0.008739006,
          -0.0099394275,
          -0.007329497
         ],
         "z": [
          0.0025039106,
          0.0020167055,
          0.0025471402,
          0.0016396951,
          0.0003275722,
          -0.00022531985,
          -0.00021875805,
          -0.0005099453,
          -0.0009130097,
          0.0005899025,
          -0.00008723966,
          0.0006412935,
          -0.0023391072,
          -0.004020889,
          -0.0031611011,
          -0.0010375298,
          0.00008747772,
          0.001589529,
          -0.00034913752,
          -0.00073544827,
          -0.00047463857,
          -0.00074181,
          0.001671463,
          -0.001053287,
          -0.0029951571,
          -0.0016119442,
          -0.0010598212,
          -0.0042024516,
          0.0014985625,
          0.0018973219,
          0.0007270237,
          -0.0002812985,
          -0.00089710637,
          -0.001810529,
          -0.0014541101,
          -0.0007561377,
          0.0021334842,
          0.0015546145,
          0.0019645845,
          -0.0023391072,
          -0.0024106556,
          -0.0011145954,
          -0.0016919003,
          0.00020719577,
          0.0019174785,
          -0.0006485357,
          -0.0007729348,
          -0.00030749477,
          -0.001913431,
          0.001164181,
          0.00054666627,
          -0.0028973236,
          -0.0020930634,
          -0.0018285818,
          -0.0010705792,
          0.00051679276,
          0.0005089072,
          0.00033712442
         ]
        },
        {
         "customdata": [
          [
           "Ausentismo"
          ],
          [
           "Ausentismo"
          ],
          [
           "Ausentismo"
          ],
          [
           "Ausentismo"
          ],
          [
           "Ausentismo"
          ],
          [
           "Ausentismo"
          ],
          [
           "Ausentismo"
          ],
          [
           "Ausentismo"
          ],
          [
           "Ausentismo"
          ],
          [
           "Ausentismo"
          ],
          [
           "Ausentismo"
          ],
          [
           "Ausentismo"
          ],
          [
           "Ausentismo"
          ],
          [
           "Ausentismo"
          ],
          [
           "Ausentismo"
          ],
          [
           "Ausentismo"
          ],
          [
           "Ausentismo"
          ],
          [
           "Ausentismo"
          ],
          [
           "Ausentismo"
          ],
          [
           "Ausentismo"
          ],
          [
           "Ausentismo"
          ],
          [
           "Ausentismo"
          ],
          [
           "Ausentismo"
          ],
          [
           "Ausentismo"
          ],
          [
           "Ausentismo"
          ],
          [
           "Ausentismo"
          ],
          [
           "Ausentismo"
          ],
          [
           "Ausentismo"
          ],
          [
           "Ausentismo"
          ],
          [
           "Ausentismo"
          ],
          [
           "Ausentismo"
          ],
          [
           "Ausentismo"
          ],
          [
           "Ausentismo"
          ],
          [
           "Ausentismo"
          ],
          [
           "Ausentismo"
          ],
          [
           "Ausentismo"
          ],
          [
           "Ausentismo"
          ],
          [
           "Ausentismo"
          ],
          [
           "Ausentismo"
          ],
          [
           "Ausentismo"
          ]
         ],
         "hovertemplate": "color=Ausentismo<br>PCA Component 1=%{x}<br>PCA Component 2=%{y}<br>PCA Component 3=%{z}<br>label=%{customdata[0]}<extra></extra>",
         "legendgroup": "Ausentismo",
         "marker": {
          "color": "#EF553B",
          "symbol": "circle"
         },
         "mode": "markers",
         "name": "Ausentismo",
         "scene": "scene",
         "showlegend": true,
         "type": "scatter3d",
         "x": [
          -0.71702754,
          -0.7131677,
          -0.7136704,
          -0.71512204,
          -0.71457964,
          -0.7087761,
          -0.70846325,
          -0.7078142,
          -0.70922196,
          -0.7095695,
          -0.7142702,
          -0.7115946,
          -0.7116892,
          -0.7126113,
          -0.71064746,
          -0.71146536,
          -0.71207434,
          -0.711478,
          -0.7095641,
          -0.70991665,
          -0.7124421,
          -0.7088061,
          -0.70852935,
          -0.71238846,
          -0.71382767,
          -0.7082612,
          -0.71009696,
          -0.7091167,
          -0.709296,
          -0.7087564,
          -0.71048766,
          -0.71044505,
          -0.70916724,
          -0.7091692,
          -0.71026033,
          -0.71078753,
          -0.7097453,
          -0.71234286,
          -0.71490884,
          -0.7152715
         ],
         "y": [
          -0.010554265,
          -0.011854369,
          -0.01130173,
          -0.010920955,
          -0.011315631,
          -0.010752218,
          -0.009651405,
          -0.012979534,
          -0.011250469,
          -0.0104149,
          -0.009274559,
          -0.00970636,
          -0.009618227,
          -0.010970946,
          -0.010398835,
          -0.009981826,
          -0.010442187,
          -0.010170945,
          -0.011629887,
          -0.011421257,
          -0.011740081,
          -0.012092807,
          -0.011801405,
          -0.011617716,
          -0.011333721,
          -0.010507408,
          -0.010638206,
          -0.009993141,
          -0.009781847,
          -0.010058268,
          -0.008844845,
          -0.012323699,
          -0.011040271,
          -0.0110605545,
          -0.010760307,
          -0.010990423,
          -0.010747909,
          -0.010575716,
          -0.010334529,
          -0.01236998
         ],
         "z": [
          -0.0016152645,
          -0.0023101391,
          -0.0024757695,
          -0.001708837,
          -0.0028121504,
          -0.0006716963,
          0.000132699,
          -0.0028517963,
          -0.0016434544,
          -0.0019133976,
          0.00022514789,
          -0.0033460693,
          -0.0030591313,
          -0.0027559868,
          -0.0031725063,
          -0.003249751,
          -0.0012086382,
          -0.0013320559,
          -0.0023140893,
          -0.0014575704,
          -0.0031078593,
          -0.0033222495,
          -0.002502378,
          -0.0013461947,
          -0.0027777392,
          -0.0038243479,
          0.0006149521,
          -0.0023959628,
          -0.0017597309,
          -0.0008104081,
          0.0012840847,
          -0.0027925007,
          -0.0032540667,
          -0.0017925979,
          -0.00095208525,
          -0.0036408105,
          -0.0012003655,
          0.00007691016,
          -0.0016880586,
          -0.0015622868
         ]
        },
        {
         "customdata": [
          [
           "Estructura Organizativa"
          ],
          [
           "Estructura Organizativa"
          ],
          [
           "Estructura Organizativa"
          ],
          [
           "Estructura Organizativa"
          ],
          [
           "Estructura Organizativa"
          ],
          [
           "Estructura Organizativa"
          ],
          [
           "Estructura Organizativa"
          ],
          [
           "Estructura Organizativa"
          ],
          [
           "Estructura Organizativa"
          ],
          [
           "Estructura Organizativa"
          ],
          [
           "Estructura Organizativa"
          ],
          [
           "Estructura Organizativa"
          ],
          [
           "Estructura Organizativa"
          ],
          [
           "Estructura Organizativa"
          ],
          [
           "Estructura Organizativa"
          ],
          [
           "Estructura Organizativa"
          ],
          [
           "Estructura Organizativa"
          ],
          [
           "Estructura Organizativa"
          ],
          [
           "Estructura Organizativa"
          ],
          [
           "Estructura Organizativa"
          ],
          [
           "Estructura Organizativa"
          ],
          [
           "Estructura Organizativa"
          ],
          [
           "Estructura Organizativa"
          ],
          [
           "Estructura Organizativa"
          ],
          [
           "Estructura Organizativa"
          ],
          [
           "Estructura Organizativa"
          ],
          [
           "Estructura Organizativa"
          ],
          [
           "Estructura Organizativa"
          ],
          [
           "Estructura Organizativa"
          ],
          [
           "Estructura Organizativa"
          ],
          [
           "Estructura Organizativa"
          ],
          [
           "Estructura Organizativa"
          ],
          [
           "Estructura Organizativa"
          ],
          [
           "Estructura Organizativa"
          ],
          [
           "Estructura Organizativa"
          ],
          [
           "Estructura Organizativa"
          ],
          [
           "Estructura Organizativa"
          ],
          [
           "Estructura Organizativa"
          ],
          [
           "Estructura Organizativa"
          ],
          [
           "Estructura Organizativa"
          ],
          [
           "Estructura Organizativa"
          ],
          [
           "Estructura Organizativa"
          ],
          [
           "Estructura Organizativa"
          ],
          [
           "Estructura Organizativa"
          ],
          [
           "Estructura Organizativa"
          ],
          [
           "Estructura Organizativa"
          ],
          [
           "Estructura Organizativa"
          ],
          [
           "Estructura Organizativa"
          ],
          [
           "Estructura Organizativa"
          ],
          [
           "Estructura Organizativa"
          ],
          [
           "Estructura Organizativa"
          ],
          [
           "Estructura Organizativa"
          ],
          [
           "Estructura Organizativa"
          ],
          [
           "Estructura Organizativa"
          ],
          [
           "Estructura Organizativa"
          ],
          [
           "Estructura Organizativa"
          ],
          [
           "Estructura Organizativa"
          ],
          [
           "Estructura Organizativa"
          ],
          [
           "Estructura Organizativa"
          ],
          [
           "Estructura Organizativa"
          ],
          [
           "Estructura Organizativa"
          ],
          [
           "Estructura Organizativa"
          ],
          [
           "Estructura Organizativa"
          ],
          [
           "Estructura Organizativa"
          ],
          [
           "Estructura Organizativa"
          ],
          [
           "Estructura Organizativa"
          ],
          [
           "Estructura Organizativa"
          ],
          [
           "Estructura Organizativa"
          ],
          [
           "Estructura Organizativa"
          ],
          [
           "Estructura Organizativa"
          ],
          [
           "Estructura Organizativa"
          ],
          [
           "Estructura Organizativa"
          ],
          [
           "Estructura Organizativa"
          ],
          [
           "Estructura Organizativa"
          ],
          [
           "Estructura Organizativa"
          ],
          [
           "Estructura Organizativa"
          ],
          [
           "Estructura Organizativa"
          ],
          [
           "Estructura Organizativa"
          ],
          [
           "Estructura Organizativa"
          ],
          [
           "Estructura Organizativa"
          ],
          [
           "Estructura Organizativa"
          ],
          [
           "Estructura Organizativa"
          ],
          [
           "Estructura Organizativa"
          ],
          [
           "Estructura Organizativa"
          ],
          [
           "Estructura Organizativa"
          ],
          [
           "Estructura Organizativa"
          ],
          [
           "Estructura Organizativa"
          ],
          [
           "Estructura Organizativa"
          ],
          [
           "Estructura Organizativa"
          ],
          [
           "Estructura Organizativa"
          ],
          [
           "Estructura Organizativa"
          ],
          [
           "Estructura Organizativa"
          ],
          [
           "Estructura Organizativa"
          ],
          [
           "Estructura Organizativa"
          ],
          [
           "Estructura Organizativa"
          ],
          [
           "Estructura Organizativa"
          ],
          [
           "Estructura Organizativa"
          ],
          [
           "Estructura Organizativa"
          ],
          [
           "Estructura Organizativa"
          ],
          [
           "Estructura Organizativa"
          ],
          [
           "Estructura Organizativa"
          ],
          [
           "Estructura Organizativa"
          ],
          [
           "Estructura Organizativa"
          ],
          [
           "Estructura Organizativa"
          ],
          [
           "Estructura Organizativa"
          ],
          [
           "Estructura Organizativa"
          ],
          [
           "Estructura Organizativa"
          ],
          [
           "Estructura Organizativa"
          ],
          [
           "Estructura Organizativa"
          ],
          [
           "Estructura Organizativa"
          ],
          [
           "Estructura Organizativa"
          ],
          [
           "Estructura Organizativa"
          ],
          [
           "Estructura Organizativa"
          ],
          [
           "Estructura Organizativa"
          ],
          [
           "Estructura Organizativa"
          ],
          [
           "Estructura Organizativa"
          ],
          [
           "Estructura Organizativa"
          ],
          [
           "Estructura Organizativa"
          ],
          [
           "Estructura Organizativa"
          ],
          [
           "Estructura Organizativa"
          ],
          [
           "Estructura Organizativa"
          ],
          [
           "Estructura Organizativa"
          ],
          [
           "Estructura Organizativa"
          ],
          [
           "Estructura Organizativa"
          ],
          [
           "Estructura Organizativa"
          ],
          [
           "Estructura Organizativa"
          ],
          [
           "Estructura Organizativa"
          ],
          [
           "Estructura Organizativa"
          ],
          [
           "Estructura Organizativa"
          ],
          [
           "Estructura Organizativa"
          ],
          [
           "Estructura Organizativa"
          ],
          [
           "Estructura Organizativa"
          ],
          [
           "Estructura Organizativa"
          ],
          [
           "Estructura Organizativa"
          ],
          [
           "Estructura Organizativa"
          ],
          [
           "Estructura Organizativa"
          ],
          [
           "Estructura Organizativa"
          ],
          [
           "Estructura Organizativa"
          ],
          [
           "Estructura Organizativa"
          ],
          [
           "Estructura Organizativa"
          ],
          [
           "Estructura Organizativa"
          ],
          [
           "Estructura Organizativa"
          ],
          [
           "Estructura Organizativa"
          ],
          [
           "Estructura Organizativa"
          ],
          [
           "Estructura Organizativa"
          ],
          [
           "Estructura Organizativa"
          ],
          [
           "Estructura Organizativa"
          ],
          [
           "Estructura Organizativa"
          ],
          [
           "Estructura Organizativa"
          ],
          [
           "Estructura Organizativa"
          ],
          [
           "Estructura Organizativa"
          ],
          [
           "Estructura Organizativa"
          ],
          [
           "Estructura Organizativa"
          ],
          [
           "Estructura Organizativa"
          ],
          [
           "Estructura Organizativa"
          ],
          [
           "Estructura Organizativa"
          ],
          [
           "Estructura Organizativa"
          ],
          [
           "Estructura Organizativa"
          ],
          [
           "Estructura Organizativa"
          ],
          [
           "Estructura Organizativa"
          ],
          [
           "Estructura Organizativa"
          ],
          [
           "Estructura Organizativa"
          ],
          [
           "Estructura Organizativa"
          ],
          [
           "Estructura Organizativa"
          ],
          [
           "Estructura Organizativa"
          ],
          [
           "Estructura Organizativa"
          ],
          [
           "Estructura Organizativa"
          ],
          [
           "Estructura Organizativa"
          ],
          [
           "Estructura Organizativa"
          ],
          [
           "Estructura Organizativa"
          ],
          [
           "Estructura Organizativa"
          ],
          [
           "Estructura Organizativa"
          ],
          [
           "Estructura Organizativa"
          ],
          [
           "Estructura Organizativa"
          ],
          [
           "Estructura Organizativa"
          ],
          [
           "Estructura Organizativa"
          ],
          [
           "Estructura Organizativa"
          ],
          [
           "Estructura Organizativa"
          ],
          [
           "Estructura Organizativa"
          ],
          [
           "Estructura Organizativa"
          ],
          [
           "Estructura Organizativa"
          ],
          [
           "Estructura Organizativa"
          ],
          [
           "Estructura Organizativa"
          ],
          [
           "Estructura Organizativa"
          ],
          [
           "Estructura Organizativa"
          ],
          [
           "Estructura Organizativa"
          ],
          [
           "Estructura Organizativa"
          ],
          [
           "Estructura Organizativa"
          ],
          [
           "Estructura Organizativa"
          ],
          [
           "Estructura Organizativa"
          ],
          [
           "Estructura Organizativa"
          ],
          [
           "Estructura Organizativa"
          ],
          [
           "Estructura Organizativa"
          ],
          [
           "Estructura Organizativa"
          ],
          [
           "Estructura Organizativa"
          ],
          [
           "Estructura Organizativa"
          ],
          [
           "Estructura Organizativa"
          ],
          [
           "Estructura Organizativa"
          ],
          [
           "Estructura Organizativa"
          ],
          [
           "Estructura Organizativa"
          ],
          [
           "Estructura Organizativa"
          ],
          [
           "Estructura Organizativa"
          ],
          [
           "Estructura Organizativa"
          ],
          [
           "Estructura Organizativa"
          ],
          [
           "Estructura Organizativa"
          ],
          [
           "Estructura Organizativa"
          ],
          [
           "Estructura Organizativa"
          ],
          [
           "Estructura Organizativa"
          ],
          [
           "Estructura Organizativa"
          ],
          [
           "Estructura Organizativa"
          ],
          [
           "Estructura Organizativa"
          ]
         ],
         "hovertemplate": "color=Estructura Organizativa<br>PCA Component 1=%{x}<br>PCA Component 2=%{y}<br>PCA Component 3=%{z}<br>label=%{customdata[0]}<extra></extra>",
         "legendgroup": "Estructura Organizativa",
         "marker": {
          "color": "#00cc96",
          "symbol": "circle"
         },
         "mode": "markers",
         "name": "Estructura Organizativa",
         "scene": "scene",
         "showlegend": true,
         "type": "scatter3d",
         "x": [
          0.10795876,
          -0.26653272,
          0.092965454,
          0.3792533,
          0.25582525,
          0.32177004,
          1.1350833,
          0.20249896,
          0.20033523,
          0.20389889,
          0.07789082,
          0.5513612,
          0.6498481,
          0.52039146,
          1.2068611,
          1.2247795,
          1.2762661,
          1.2447853,
          1.2385383,
          1.2051283,
          1.1827168,
          1.1052338,
          0.88626987,
          0.8262312,
          0.9208017,
          1.0418969,
          1.6674237,
          1.0542552,
          0.9981154,
          1.0821912,
          1.0656084,
          0.9955814,
          0.87335604,
          1.1639433,
          1.0555015,
          0.97191745,
          0.9915665,
          1.0446235,
          0.9945829,
          1.0065333,
          0.84243107,
          0.67253995,
          0.9274234,
          1.0836785,
          0.97355527,
          0.9307805,
          0.9327208,
          0.82835287,
          0.79681826,
          1.1522633,
          0.9812179,
          1.0043907,
          0.9525064,
          1.0866221,
          1.0703905,
          1.0815406,
          1.0004876,
          1.0241128,
          0.9654062,
          0.45187455,
          1.2218176,
          0.99987894,
          1.1577649,
          1.348783,
          1.2380116,
          0.99702215,
          0.9296507,
          1.0484847,
          1.0260836,
          1.0565053,
          0.9890644,
          0.82881814,
          1.11349,
          1.1658595,
          1.2513257,
          1.2489555,
          0.9478227,
          0.7822867,
          0.8512572,
          1.0961972,
          1.2475574,
          1.2488587,
          1.180886,
          1.2223287,
          1.1489984,
          0.86737305,
          1.0462749,
          1.1391481,
          1.1851517,
          1.2023541,
          0.9650181,
          0.47877082,
          0.8489943,
          0.75175,
          1.0816859,
          1.0670383,
          1.2948259,
          0.79244643,
          0.8067343,
          0.76834327,
          0.9217989,
          0.9140504,
          0.8906793,
          0.9467642,
          1.0197291,
          0.9686421,
          1.0097598,
          0.50456816,
          1.4954163,
          1.3010069,
          1.2318549,
          1.2168866,
          0.3929811,
          0.7620041,
          0.70072275,
          0.84008336,
          0.7890847,
          0.44346404,
          0.54661024,
          0.851733,
          0.9565702,
          0.8553947,
          0.6165918,
          0.26029748,
          0.6613466,
          0.1733391,
          0.72119415,
          0.6264452,
          0.77203196,
          1.1385101,
          1.2554405,
          1.1311674,
          1.2045568,
          1.2069962,
          1.1003686,
          1.0684382,
          1.0750545,
          1.1378819,
          1.0997258,
          1.1012996,
          1.1124043,
          1.1279345,
          1.1711192,
          1.1448433,
          1.2099236,
          1.1444746,
          1.1328064,
          1.125078,
          1.0859138,
          1.1270045,
          1.1153527,
          1.0763808,
          1.0440625,
          1.1386611,
          1.1248238,
          1.1934073,
          1.1401889,
          1.0289932,
          1.1125071,
          1.1312569,
          1.1146964,
          1.0982794,
          1.0692472,
          1.25658,
          1.1865771,
          1.0719177,
          0.26304376,
          1.1706587,
          1.2726414,
          1.2606,
          1.1528045,
          1.1597869,
          1.2329086,
          1.1184907,
          1.0793511,
          1.170323,
          1.1906681,
          1.1115423,
          1.1102799,
          1.1071247,
          1.098005,
          1.1482209,
          1.1639937,
          1.0817437,
          1.077688,
          1.1085293,
          0.9899283,
          1.049307,
          1.10134,
          1.10057,
          0.9195517,
          1.092676,
          1.1415269,
          1.1740018,
          1.2005155,
          1.2721223,
          1.2733022,
          1.197537,
          1.1070929,
          1.000764,
          0.8242812,
          0.69284177,
          0.59477645,
          0.45197302,
          0.6342329,
          0.2859102,
          0.8285933,
          1.1028099,
          0.957973,
          0.8562184,
          1.1229856
         ],
         "y": [
          -0.008217395,
          -0.010493293,
          -0.008333947,
          -0.005312007,
          -0.00626028,
          -0.0057139276,
          -0.00685586,
          -0.008357048,
          -0.0082704155,
          -0.0075554806,
          -0.007256873,
          -0.00727431,
          -0.0062103686,
          -0.0059686876,
          -0.005396216,
          -0.0050446847,
          -0.00469803,
          -0.0040342403,
          -0.004093101,
          -0.004733641,
          -0.0031637442,
          -0.0033531052,
          -0.004102965,
          -0.0050100167,
          -0.0051848223,
          -0.004571179,
          -0.0018123689,
          -0.00087712,
          -0.0008723926,
          0.00030294852,
          0.003847158,
          0.0031636562,
          0.00018484335,
          -0.0025628705,
          -0.0029905625,
          -0.004173297,
          -0.0042290385,
          -0.0048022997,
          -0.0029132715,
          -0.0008334956,
          -0.001862793,
          -0.0005015811,
          0.0019398327,
          -0.0066341143,
          0.0001932525,
          0.00050383405,
          0.00015848812,
          -0.0013119469,
          -0.0038865944,
          -0.0022245524,
          -0.00596341,
          -0.0063745067,
          -0.005704717,
          -0.0027279034,
          -0.0010225581,
          -0.00017170285,
          0.00037753163,
          0.0005627667,
          -0.0016934833,
          -0.0075124116,
          0.0007684746,
          -0.0011161142,
          0.0008911566,
          -0.0028643205,
          0.0006497603,
          -0.001486614,
          -0.0016951708,
          -0.0011811272,
          -0.0010966926,
          -0.0023573714,
          -0.002733583,
          -0.0036617317,
          0.0014521055,
          -0.0005440224,
          -0.005733012,
          -0.0052921986,
          0.0038055587,
          0.0012348563,
          0.0014416937,
          0.000835535,
          0.004431723,
          0.0015626914,
          -0.00056951033,
          -0.00476997,
          -0.0051810094,
          -0.00016029946,
          0.0016834307,
          0.0028781586,
          0.004495641,
          -0.0020022125,
          -0.0011794908,
          -0.0032034975,
          -0.0021587694,
          -0.0031933493,
          -0.0015878595,
          0.00023468042,
          -0.0033672778,
          -0.0046523535,
          -0.0042089215,
          -0.0030758232,
          -0.0007543688,
          -0.0004446613,
          -0.000529717,
          0.00022863083,
          0.0021977988,
          -0.005309387,
          0.0007012112,
          -0.0044489657,
          0.003162031,
          -0.0011435238,
          0.001202152,
          0.003926776,
          -0.0027687782,
          -0.0035500694,
          -0.002915672,
          -0.0024365215,
          -0.0007850895,
          -0.006683509,
          -0.004303424,
          -0.00352436,
          -0.0025284712,
          -0.0017088782,
          -0.0020074018,
          0.0004152629,
          -0.004997689,
          -0.0019295282,
          -0.0040542656,
          -0.0040523726,
          0.0005296262,
          -0.003972016,
          -0.0028276562,
          -0.0041037733,
          -0.0042014057,
          -0.003497216,
          -0.0037142679,
          -0.0003367556,
          0.0019781217,
          0.0029711728,
          0.005956512,
          0.009764151,
          0.009139625,
          -0.00094937225,
          0.003594081,
          0.0034211215,
          0.004711871,
          0.006026704,
          0.00021294851,
          0.0030744653,
          0.0046048993,
          0.008391716,
          0.009257005,
          0.008148992,
          0.00018707644,
          0.0035106547,
          0.0043236343,
          0.003931856,
          0.0057587265,
          0.0007288707,
          0.0025767824,
          0.0037270254,
          0.0068751737,
          0.008268504,
          0.0068249223,
          0.0018006678,
          0.0027179816,
          0.0050392426,
          -0.0031323638,
          -0.004023418,
          -0.0037491021,
          -0.003305384,
          -0.0026024266,
          -0.0037054026,
          -0.003925474,
          -0.0035629733,
          0.00024042146,
          0.0032855608,
          0.005605405,
          0.008060216,
          0.01087216,
          0.0027351803,
          0.0020349368,
          0.003944904,
          0.006433671,
          0.00839405,
          0.00062117423,
          0.0025534376,
          -0.00033372882,
          0.0024763318,
          0.0041641654,
          0.0051539666,
          -0.0036018926,
          -0.00037781717,
          -0.00022732711,
          0.00093832467,
          0.0036052887,
          0.004417901,
          0.006031558,
          0.0071889684,
          0.0073600835,
          0.0058689886,
          0.0032312493,
          0.0003194562,
          -0.0003845624,
          -0.0021784534,
          -0.0014443571,
          -0.0037269804,
          0.0037617795,
          0.0041686865,
          0.0002234902,
          -0.001610781,
          0.0042790347
         ],
         "z": [
          0.0025856963,
          0.0045432937,
          0.001943698,
          0.002305561,
          0.00162661,
          0.0021276048,
          0.0003338297,
          0.0020622192,
          0.00039875327,
          0.00073510595,
          0.00028285602,
          0.0036814744,
          0.00390713,
          0.005380625,
          0.0151456185,
          0.02149546,
          0.031340733,
          0.03754717,
          0.044222426,
          0.043802842,
          0.03382863,
          0.03127277,
          -0.0016151568,
          0.0017563034,
          -0.00057845114,
          0.0000024964017,
          0.0039237556,
          -0.0076678945,
          -0.009346718,
          -0.011148426,
          -0.011598725,
          -0.009472041,
          -0.004998408,
          0.0020249942,
          0.0030339,
          0.0017578868,
          -0.0004646766,
          -0.0030074222,
          -0.0054999823,
          -0.005004142,
          0.0023796211,
          -0.009027321,
          -0.012050112,
          -0.0011285825,
          -0.006896163,
          -0.0048091556,
          -0.004364455,
          -0.0015206008,
          0.0033859035,
          0.005716848,
          0.0038102486,
          0.002465401,
          0.0003904499,
          -0.0016974556,
          -0.0036965506,
          -0.0035713215,
          -0.0033532602,
          -0.003681561,
          -0.001865472,
          0.002027046,
          -0.0077931923,
          -0.009825979,
          -0.008762349,
          -0.0015487164,
          -0.009676765,
          -0.001676386,
          -0.008873646,
          -0.009085284,
          -0.007468075,
          -0.0037714057,
          -0.00036569824,
          0.0026186737,
          -0.0041703964,
          -0.0011284373,
          -0.0020051196,
          -0.006279824,
          -0.0072856215,
          -0.0050023445,
          -0.004266357,
          -0.009084615,
          -0.009349107,
          -0.010306743,
          -0.0009509793,
          -0.0019662678,
          -0.001992141,
          -0.007038285,
          -0.009018572,
          -0.009198536,
          -0.008913449,
          -0.0035996763,
          0.0018729139,
          0.0027761545,
          -0.0017254839,
          0.00032435695,
          -0.0005302816,
          0.0012783583,
          0.0032880288,
          0.0006847651,
          0.000873981,
          -0.0012365814,
          -0.005020022,
          -0.004188049,
          -0.0025936724,
          -0.005684887,
          -0.008600529,
          -0.0005985355,
          -0.009768538,
          0.00023197169,
          -0.0009818571,
          -0.00489072,
          -0.0090312,
          -0.014187779,
          0.0014732319,
          0.0006970952,
          -0.0021807814,
          -0.0033135694,
          -0.007333939,
          0.00082944013,
          0.0018772476,
          -0.0001480499,
          0.00033306328,
          0.0016080796,
          0.0037274344,
          -0.00043579933,
          -0.0027726793,
          -0.000902862,
          -0.00035194014,
          0.00034273777,
          0.00034597697,
          0.0094636455,
          0.041585624,
          0.039181475,
          0.041223772,
          0.035664618,
          0.029708738,
          -0.004575073,
          -0.0071560163,
          -0.008190931,
          -0.013486501,
          -0.013875208,
          -0.011413967,
          -0.0019544358,
          -0.012660494,
          -0.011305764,
          -0.010712301,
          0.00054544845,
          -0.004555826,
          -0.0065394253,
          -0.010345403,
          -0.014285937,
          -0.0114231715,
          -0.011052573,
          -0.0017898136,
          -0.010964516,
          -0.011224162,
          -0.010285115,
          0.0009540015,
          -0.004936861,
          -0.005530582,
          -0.009489602,
          -0.013405345,
          -0.010346238,
          -0.010498125,
          0.0009409169,
          -0.009912438,
          0.0018845112,
          0.001612209,
          0.024036696,
          0.03050503,
          0.03949014,
          0.03895706,
          0.039636075,
          0.039183874,
          0.032414608,
          -0.0044539296,
          -0.008724736,
          -0.013877324,
          -0.014031608,
          -0.013299828,
          -0.002449641,
          -0.0055005406,
          -0.011287501,
          -0.014680541,
          -0.01390135,
          -0.0040763984,
          -0.0020957484,
          -0.00823543,
          -0.01187216,
          -0.012588395,
          0.0012822906,
          0.0011766563,
          -0.0066069686,
          -0.0069019482,
          -0.0074693603,
          -0.010427326,
          -0.0071599344,
          -0.0055581653,
          -0.0057738703,
          -0.002428024,
          0.00062260276,
          0.001629854,
          0.0039824448,
          0.0013915082,
          0.0030930014,
          0.0016019627,
          0.0033017963,
          -0.0105173765,
          -0.0006980076,
          0.0009430359,
          0.0013168276,
          0.00044985034
         ]
        },
        {
         "customdata": [
          [
           "Riesgos"
          ],
          [
           "Riesgos"
          ],
          [
           "Riesgos"
          ],
          [
           "Riesgos"
          ],
          [
           "Riesgos"
          ],
          [
           "Riesgos"
          ],
          [
           "Riesgos"
          ],
          [
           "Riesgos"
          ],
          [
           "Riesgos"
          ],
          [
           "Riesgos"
          ],
          [
           "Riesgos"
          ],
          [
           "Riesgos"
          ],
          [
           "Riesgos"
          ],
          [
           "Riesgos"
          ],
          [
           "Riesgos"
          ],
          [
           "Riesgos"
          ],
          [
           "Riesgos"
          ],
          [
           "Riesgos"
          ],
          [
           "Riesgos"
          ],
          [
           "Riesgos"
          ],
          [
           "Riesgos"
          ],
          [
           "Riesgos"
          ],
          [
           "Riesgos"
          ],
          [
           "Riesgos"
          ],
          [
           "Riesgos"
          ],
          [
           "Riesgos"
          ],
          [
           "Riesgos"
          ],
          [
           "Riesgos"
          ],
          [
           "Riesgos"
          ],
          [
           "Riesgos"
          ],
          [
           "Riesgos"
          ],
          [
           "Riesgos"
          ],
          [
           "Riesgos"
          ],
          [
           "Riesgos"
          ],
          [
           "Riesgos"
          ],
          [
           "Riesgos"
          ],
          [
           "Riesgos"
          ],
          [
           "Riesgos"
          ],
          [
           "Riesgos"
          ],
          [
           "Riesgos"
          ],
          [
           "Riesgos"
          ],
          [
           "Riesgos"
          ],
          [
           "Riesgos"
          ],
          [
           "Riesgos"
          ],
          [
           "Riesgos"
          ],
          [
           "Riesgos"
          ],
          [
           "Riesgos"
          ],
          [
           "Riesgos"
          ],
          [
           "Riesgos"
          ],
          [
           "Riesgos"
          ],
          [
           "Riesgos"
          ],
          [
           "Riesgos"
          ],
          [
           "Riesgos"
          ],
          [
           "Riesgos"
          ],
          [
           "Riesgos"
          ],
          [
           "Riesgos"
          ],
          [
           "Riesgos"
          ],
          [
           "Riesgos"
          ],
          [
           "Riesgos"
          ],
          [
           "Riesgos"
          ]
         ],
         "hovertemplate": "color=Riesgos<br>PCA Component 1=%{x}<br>PCA Component 2=%{y}<br>PCA Component 3=%{z}<br>label=%{customdata[0]}<extra></extra>",
         "legendgroup": "Riesgos",
         "marker": {
          "color": "#ab63fa",
          "symbol": "circle"
         },
         "mode": "markers",
         "name": "Riesgos",
         "scene": "scene",
         "showlegend": true,
         "type": "scatter3d",
         "x": [
          -0.7195225,
          -0.7132881,
          -0.7105433,
          -0.69462633,
          -0.71794057,
          -0.7187088,
          -0.7060678,
          -0.7084913,
          -0.70982814,
          -0.70224684,
          -0.7029501,
          -0.7038623,
          -0.70390135,
          -0.7037301,
          -0.70481604,
          -0.7053331,
          -0.7057074,
          -0.7064775,
          -0.70294154,
          -0.70579964,
          -0.7052919,
          -0.71442693,
          -0.7124706,
          -0.7093693,
          -0.7102367,
          -0.7082464,
          -0.7021087,
          -0.70130426,
          -0.7038287,
          -0.7057133,
          -0.71272326,
          -0.7090294,
          -0.70829886,
          -0.7112721,
          -0.713144,
          -0.70469874,
          -0.70504767,
          -0.7035177,
          -0.70532274,
          -0.7034138,
          -0.7071305,
          -0.7088892,
          -0.7097007,
          -0.70791835,
          -0.7052762,
          -0.70458376,
          -0.7031721,
          -0.7021289,
          -0.70858175,
          -0.70428336,
          -0.70205534,
          -0.70220333,
          -0.70124274,
          -0.70191544,
          -0.70124865,
          -0.70298815,
          -0.70277137,
          -0.7046733,
          -0.7061479,
          -0.7088261
         ],
         "y": [
          -0.009871993,
          -0.009870053,
          -0.009896133,
          -0.0049829893,
          -0.008646838,
          -0.008677893,
          -0.0073455996,
          -0.008367319,
          -0.007842135,
          -0.009175137,
          -0.00893194,
          -0.00936108,
          -0.009383496,
          -0.008426979,
          -0.008704194,
          -0.009684454,
          -0.009037441,
          -0.008668331,
          -0.006550328,
          -0.006203298,
          -0.0077985097,
          -0.0081581045,
          -0.0088137,
          -0.007770552,
          -0.0074639274,
          -0.007579429,
          -0.008842136,
          -0.009909702,
          -0.009568576,
          -0.0096889855,
          -0.01028727,
          -0.008950494,
          -0.009390214,
          -0.010392975,
          -0.0069225174,
          -0.0073324405,
          -0.0066658687,
          -0.006615306,
          -0.00884322,
          -0.0054210895,
          -0.0049353987,
          -0.006837512,
          -0.0061884145,
          -0.0065458408,
          -0.007441769,
          -0.008535816,
          -0.010135863,
          -0.010445509,
          -0.010517398,
          -0.0063953307,
          -0.007087907,
          -0.005782093,
          -0.0070760446,
          -0.0070248917,
          -0.006833228,
          -0.008363675,
          -0.009377639,
          -0.008447031,
          -0.008638471,
          -0.009085461
         ],
         "z": [
          0.0014686753,
          -0.0018704927,
          -0.0023507522,
          -0.007353365,
          -0.00048480957,
          -0.0004610481,
          0.00033018962,
          -0.0010665588,
          -0.001521644,
          -0.0043639154,
          -0.005106625,
          -0.004326601,
          -0.0045217695,
          -0.004018546,
          -0.0036385104,
          -0.0028498967,
          -0.0036189759,
          -0.0033637658,
          -0.00035840544,
          -0.0022219303,
          -0.0019720932,
          -0.0018748319,
          -0.00031380443,
          0.0010150601,
          -0.00066995266,
          -0.00034227804,
          0.000042073098,
          -0.00092533,
          -0.00055303174,
          -0.0010699028,
          -0.0016727833,
          -0.0014936612,
          -0.002021415,
          -0.0027642993,
          0.00050975697,
          -0.0012726982,
          -0.0008112726,
          0.000043224223,
          -0.0015494662,
          0.00039196835,
          -0.002132509,
          -0.002328164,
          -0.0024272818,
          -0.0021047501,
          -0.0021598411,
          -0.0019828065,
          -0.0013418753,
          -0.00099412,
          -0.00016579143,
          -0.0046266844,
          0.000487206,
          -0.00038992535,
          -0.0005717696,
          -0.00036242962,
          -0.00028085842,
          0.00022724016,
          -0.00054091675,
          -0.0001052282,
          0.00026185066,
          -0.0003389706
         ]
        },
        {
         "customdata": [
          [
           "Información"
          ],
          [
           "Información"
          ],
          [
           "Información"
          ],
          [
           "Información"
          ],
          [
           "Información"
          ],
          [
           "Información"
          ],
          [
           "Información"
          ],
          [
           "Información"
          ],
          [
           "Información"
          ],
          [
           "Información"
          ],
          [
           "Información"
          ],
          [
           "Información"
          ],
          [
           "Información"
          ],
          [
           "Información"
          ],
          [
           "Información"
          ],
          [
           "Información"
          ],
          [
           "Información"
          ],
          [
           "Información"
          ],
          [
           "Información"
          ],
          [
           "Información"
          ],
          [
           "Información"
          ]
         ],
         "hovertemplate": "color=Información<br>PCA Component 1=%{x}<br>PCA Component 2=%{y}<br>PCA Component 3=%{z}<br>label=%{customdata[0]}<extra></extra>",
         "legendgroup": "Información",
         "marker": {
          "color": "#FFA15A",
          "symbol": "circle"
         },
         "mode": "markers",
         "name": "Información",
         "scene": "scene",
         "showlegend": true,
         "type": "scatter3d",
         "x": [
          -0.72107863,
          -0.72176033,
          -0.7198599,
          -0.71944743,
          -0.71931046,
          -0.71967775,
          -0.7197725,
          -0.7224454,
          -0.7205541,
          -0.72100717,
          -0.718323,
          -0.717802,
          -0.71820223,
          -0.7228289,
          -0.71986604,
          -0.72040266,
          -0.7099032,
          -0.71776336,
          -0.71881026,
          -0.71862525,
          -0.7214601
         ],
         "y": [
          -0.010782768,
          -0.011379819,
          -0.013971087,
          -0.01443407,
          -0.012773856,
          -0.012905698,
          -0.012782856,
          -0.011705258,
          -0.012449925,
          -0.011958752,
          -0.012431861,
          -0.012540662,
          -0.011654159,
          -0.009771465,
          -0.013368884,
          -0.013164357,
          -0.0132693155,
          -0.012944541,
          -0.012630938,
          -0.012071573,
          -0.011069799
         ],
         "z": [
          -0.0013974018,
          0.0006582873,
          -0.0014276055,
          -0.0033142718,
          -0.0032675215,
          -0.0035808089,
          -0.004294226,
          -0.0017885371,
          -0.0011082215,
          -0.0012171131,
          -0.002647134,
          -0.0015831138,
          -0.0022502127,
          0.0013535165,
          -0.0003100816,
          -0.0005332866,
          -0.011377481,
          -0.0012113812,
          -0.00065567,
          -0.00037464403,
          0.0006560232
         ]
        },
        {
         "customdata": [
          [
           "Emergencia"
          ],
          [
           "Emergencia"
          ],
          [
           "Emergencia"
          ],
          [
           "Emergencia"
          ],
          [
           "Emergencia"
          ],
          [
           "Emergencia"
          ],
          [
           "Emergencia"
          ],
          [
           "Emergencia"
          ],
          [
           "Emergencia"
          ],
          [
           "Emergencia"
          ],
          [
           "Emergencia"
          ],
          [
           "Emergencia"
          ],
          [
           "Emergencia"
          ],
          [
           "Emergencia"
          ],
          [
           "Emergencia"
          ],
          [
           "Emergencia"
          ],
          [
           "Emergencia"
          ],
          [
           "Emergencia"
          ],
          [
           "Emergencia"
          ],
          [
           "Emergencia"
          ],
          [
           "Emergencia"
          ],
          [
           "Emergencia"
          ],
          [
           "Emergencia"
          ],
          [
           "Emergencia"
          ],
          [
           "Emergencia"
          ],
          [
           "Emergencia"
          ],
          [
           "Emergencia"
          ],
          [
           "Emergencia"
          ],
          [
           "Emergencia"
          ],
          [
           "Emergencia"
          ],
          [
           "Emergencia"
          ],
          [
           "Emergencia"
          ],
          [
           "Emergencia"
          ],
          [
           "Emergencia"
          ],
          [
           "Emergencia"
          ],
          [
           "Emergencia"
          ],
          [
           "Emergencia"
          ],
          [
           "Emergencia"
          ],
          [
           "Emergencia"
          ],
          [
           "Emergencia"
          ],
          [
           "Emergencia"
          ],
          [
           "Emergencia"
          ],
          [
           "Emergencia"
          ],
          [
           "Emergencia"
          ],
          [
           "Emergencia"
          ],
          [
           "Emergencia"
          ],
          [
           "Emergencia"
          ],
          [
           "Emergencia"
          ],
          [
           "Emergencia"
          ],
          [
           "Emergencia"
          ],
          [
           "Emergencia"
          ],
          [
           "Emergencia"
          ],
          [
           "Emergencia"
          ],
          [
           "Emergencia"
          ],
          [
           "Emergencia"
          ],
          [
           "Emergencia"
          ],
          [
           "Emergencia"
          ],
          [
           "Emergencia"
          ],
          [
           "Emergencia"
          ],
          [
           "Emergencia"
          ],
          [
           "Emergencia"
          ],
          [
           "Emergencia"
          ],
          [
           "Emergencia"
          ],
          [
           "Emergencia"
          ],
          [
           "Emergencia"
          ],
          [
           "Emergencia"
          ],
          [
           "Emergencia"
          ],
          [
           "Emergencia"
          ],
          [
           "Emergencia"
          ],
          [
           "Emergencia"
          ],
          [
           "Emergencia"
          ],
          [
           "Emergencia"
          ],
          [
           "Emergencia"
          ],
          [
           "Emergencia"
          ],
          [
           "Emergencia"
          ],
          [
           "Emergencia"
          ],
          [
           "Emergencia"
          ],
          [
           "Emergencia"
          ],
          [
           "Emergencia"
          ],
          [
           "Emergencia"
          ],
          [
           "Emergencia"
          ],
          [
           "Emergencia"
          ],
          [
           "Emergencia"
          ],
          [
           "Emergencia"
          ],
          [
           "Emergencia"
          ],
          [
           "Emergencia"
          ],
          [
           "Emergencia"
          ],
          [
           "Emergencia"
          ],
          [
           "Emergencia"
          ],
          [
           "Emergencia"
          ],
          [
           "Emergencia"
          ],
          [
           "Emergencia"
          ],
          [
           "Emergencia"
          ],
          [
           "Emergencia"
          ],
          [
           "Emergencia"
          ],
          [
           "Emergencia"
          ],
          [
           "Emergencia"
          ],
          [
           "Emergencia"
          ],
          [
           "Emergencia"
          ],
          [
           "Emergencia"
          ],
          [
           "Emergencia"
          ],
          [
           "Emergencia"
          ],
          [
           "Emergencia"
          ],
          [
           "Emergencia"
          ],
          [
           "Emergencia"
          ]
         ],
         "hovertemplate": "color=Emergencia<br>PCA Component 1=%{x}<br>PCA Component 2=%{y}<br>PCA Component 3=%{z}<br>label=%{customdata[0]}<extra></extra>",
         "legendgroup": "Emergencia",
         "marker": {
          "color": "#19d3f3",
          "symbol": "circle"
         },
         "mode": "markers",
         "name": "Emergencia",
         "scene": "scene",
         "showlegend": true,
         "type": "scatter3d",
         "x": [
          -0.71793103,
          -0.6941136,
          -0.69181764,
          -0.67507815,
          -0.67896855,
          -0.6835803,
          -0.68582267,
          -0.6877849,
          -0.68581814,
          -0.6837049,
          -0.678538,
          -0.6823934,
          -0.698876,
          -0.6873961,
          -0.68543696,
          -0.68354696,
          -0.6818011,
          -0.68349546,
          -0.68552476,
          -0.68581825,
          -0.68488157,
          -0.68613356,
          -0.6843864,
          -0.6846282,
          -0.6822258,
          -0.67312443,
          -0.67243654,
          -0.67661077,
          -0.6586907,
          -0.6627212,
          -0.6679474,
          -0.6489895,
          -0.6641321,
          -0.65982145,
          -0.66202307,
          -0.6574293,
          -0.65606993,
          -0.658441,
          -0.66144484,
          -0.6591401,
          -0.67127925,
          -0.6569338,
          -0.6543645,
          -0.6705118,
          -0.6707776,
          -0.67102844,
          -0.67381537,
          -0.67020607,
          -0.6745058,
          -0.67004853,
          -0.67273104,
          -0.67311716,
          -0.6760034,
          -0.6776213,
          -0.65932643,
          -0.65424395,
          -0.65426534,
          -0.6511735,
          -0.6568278,
          -0.65987045,
          -0.6601133,
          -0.67695826,
          -0.67690724,
          -0.6680851,
          -0.6720915,
          -0.6750531,
          -0.6744814,
          -0.6540951,
          -0.6566253,
          -0.65712065,
          -0.6589384,
          -0.65772283,
          -0.65757143,
          -0.6626466,
          -0.6636228,
          -0.66146,
          -0.66205275,
          -0.6611494,
          -0.68635166,
          -0.6721327,
          -0.6694335,
          -0.6623148,
          -0.6611191,
          -0.6541124,
          -0.64982736,
          -0.64955854,
          -0.65270644,
          -0.65467733,
          -0.67379826,
          -0.658446,
          -0.65383625,
          -0.66462374,
          -0.6587281,
          -0.65920514,
          -0.66992444,
          -0.67740357,
          -0.6719891,
          -0.6537364,
          -0.65987337,
          -0.6727958,
          -0.65180606,
          -0.6528935,
          -0.6596755,
          -0.6756601,
          -0.6575444
         ],
         "y": [
          -0.0071141506,
          0.005461505,
          0.007050312,
          0.011959089,
          0.013531978,
          0.011899815,
          0.011406881,
          0.009934524,
          0.0096087875,
          0.010356695,
          0.012777598,
          0.011280665,
          0.0020013014,
          0.008498509,
          0.010177725,
          0.011242308,
          0.013213046,
          0.012748491,
          0.012052494,
          0.011774376,
          0.011891763,
          0.010797812,
          0.011826054,
          0.012201811,
          0.010217138,
          0.01591718,
          0.016771168,
          0.014528751,
          0.022248002,
          0.021275237,
          0.019035563,
          0.025969053,
          0.019278403,
          0.021438347,
          0.020043805,
          0.022760399,
          0.023479238,
          0.020494059,
          0.017938387,
          0.018768108,
          0.01793949,
          0.021400975,
          0.022069154,
          0.017153708,
          0.016609203,
          0.016557436,
          0.013993222,
          0.015041149,
          0.01221514,
          0.014618568,
          0.013725092,
          0.0144430995,
          0.014713465,
          0.015009806,
          0.01730653,
          0.021989303,
          0.022301544,
          0.022949226,
          0.020228488,
          0.018989293,
          0.018189345,
          0.013094129,
          0.013320301,
          0.017005814,
          0.015369138,
          0.015143558,
          0.013694925,
          0.021663012,
          0.02284997,
          0.022197507,
          0.020862568,
          0.020974128,
          0.021618173,
          0.0190581,
          0.018763483,
          0.020335577,
          0.019796131,
          0.020587094,
          0.006887977,
          0.012925743,
          0.015113836,
          0.01950626,
          0.019313855,
          0.021884473,
          0.023840424,
          0.024725527,
          0.02298712,
          0.02178041,
          0.014587196,
          0.021103282,
          0.023042087,
          0.0178872,
          0.019650739,
          0.018835057,
          0.014646707,
          0.011549742,
          0.011956971,
          0.019845702,
          0.016101195,
          0.014957841,
          0.022782406,
          0.022465205,
          0.018821146,
          0.00855403,
          0.020071473
         ],
         "z": [
          0.0009099464,
          0.0030002624,
          0.0010794614,
          -0.0017494849,
          0.0021741942,
          0.002992723,
          0.0036233892,
          0.0029511936,
          0.002671836,
          0.0020306695,
          0.001441943,
          0.001272743,
          0.0013946691,
          0.0009594198,
          0.00061386026,
          0.00081688317,
          0.0011310023,
          0.0009030286,
          0.0016363256,
          0.0026020287,
          0.002919651,
          0.0021951485,
          0.0019888692,
          0.0014684285,
          -0.00029045434,
          0.0009696659,
          0.00095252966,
          0.001510261,
          0.00011526551,
          -0.00020712514,
          -0.00039386575,
          -0.00023480626,
          0.00089187204,
          0.0013531068,
          0.002817274,
          0.004430869,
          0.0042034136,
          0.0033772378,
          0.004090325,
          0.0025657627,
          -0.00021290316,
          -0.00016815533,
          0.000069023576,
          -0.0003969925,
          0.00007139395,
          -0.0007227437,
          0.00022219874,
          0.00078186643,
          0.0020495206,
          0.0023595283,
          0.0032169528,
          0.0030038215,
          0.0021019436,
          0.0020143867,
          0.0023057258,
          0.0023564377,
          0.002714761,
          0.0029628193,
          0.0027050977,
          0.0029074014,
          0.003800185,
          0.0032525184,
          0.0015885637,
          0.0006116361,
          0.0005427215,
          0.0006622352,
          0.0011311708,
          0.00074640533,
          -0.00015060637,
          0.00050649187,
          0.0013531703,
          0.002162929,
          0.002426147,
          0.0031985552,
          0.002259409,
          -0.000046371857,
          0.00023204407,
          0.0002205675,
          0.0004592038,
          0.0014752072,
          0.00064951874,
          0.0022752644,
          0.0019054422,
          0.001747693,
          0.003313287,
          0.0032630286,
          0.0032382237,
          0.0029513314,
          0.0012924912,
          0.0023473648,
          0.002453057,
          -0.000765392,
          -0.00034923808,
          0.0019441283,
          0.0016680941,
          0.0017573051,
          0.0011321654,
          0.0012243079,
          0.0013688003,
          0.0011224815,
          0.0033023884,
          0.0033518695,
          0.002800471,
          0.0036758848,
          0.0029365958
         ]
        },
        {
         "customdata": [
          [
           "Question: ¿Cómo se diferencia la ubicación física de la operativa?<br>Closest Model: Emergencia<br>Similarity: 0.61<br>Chunk: de respuesta organizada y operativa a través del  adiestramiento práctico.  Los objetivos del simula..."
          ],
          [
           "Question: ¿Qué información se incluye en el informe de la evaluación de riesgos que ofrece la plataforma y cuál es su utilidad para la gestión de riesgos en la empresa?<br>Closest Model: Emergencia<br>Similarity: 0.90<br>Chunk: Este formulario permite realizar guardados parciales en la evaluación, por lo que se muestra  en una..."
          ],
          [
           "Question: ¿Hay indicadores relativos al cumplimiento de normas?<br>Closest Model: Auditorias<br>Similarity: 0.34<br>Chunk: 5. PLANIFICACIÓN Y EJECUCIÓN DE MEDIDAS  El usuario accede al cardboard “Planificación y ejecución d..."
          ],
          [
           "Question: ¿Qué papel juega la estructura organizativa en la funcionalidad general de la plataforma y cómo interactúa con otros módulos?<br>Closest Model: Auditorias<br>Similarity: 0.38<br>Chunk: GRÁFICA DE RESULTADOS  En la pestaña “Gráficas de resultados” se muestran dos tipos de gráficas. La ..."
          ],
          [
           "Question: ¿Qué permite realizar la evaluación de riesgos?<br>Closest Model: Emergencia<br>Similarity: 0.96<br>Chunk: 19  Al clicar a la acción Evaluar del listado, el usuario es redirigido al formulario de evaluación ..."
          ],
          [
           "Question: ¿Qué tipo de documentos se pueden almacenar y compartir en el espacio denominado 'Documentos' y cuál es su importancia dentro del contexto de la gestión empresarial en la plataforma?<br>Closest Model: Emergencia<br>Similarity: 0.88<br>Chunk: visualiza una serie de cuestionarios relativos al proceso de comunicación, proceso de  evacuación y ..."
          ],
          [
           "Question: ¿Se pueden llevar a cabo auditorías internas?<br>Closest Model: Emergencia<br>Similarity: 0.90<br>Chunk: visualiza una serie de cuestionarios relativos al proceso de comunicación, proceso de  evacuación y ..."
          ],
          [
           "Question: ¿Cuál es la tasa de adopción de esta plataforma en el mercado?<br>Closest Model: Auditorias<br>Similarity: 0.38<br>Chunk: GRÁFICA DE RESULTADOS  En la pestaña “Gráficas de resultados” se muestran dos tipos de gráficas. La ..."
          ],
          [
           "Question: ¿Cómo se compara esta plataforma con otras soluciones de gestión de SST?<br>Closest Model: Emergencia<br>Similarity: 0.79<br>Chunk: Sabentis es la nueva plataforma de gestión especializada en el ámbito de Seguridad y Salud en  el Tr..."
          ],
          [
           "Question: ¿Qué día hará mañana?<br>Closest Model: Emergencia<br>Similarity: 0.38<br>Chunk: de emergencia sin previo aviso y en cualquier momento del día para  comprobar el resultado de la par..."
          ]
         ],
         "hovertemplate": "color=Question<br>PCA Component 1=%{x}<br>PCA Component 2=%{y}<br>PCA Component 3=%{z}<br>label=%{customdata[0]}<extra></extra>",
         "legendgroup": "Question",
         "marker": {
          "color": "#FF6692",
          "symbol": "circle"
         },
         "mode": "markers",
         "name": "Question",
         "scene": "scene",
         "showlegend": true,
         "type": "scatter3d",
         "x": [
          -0.6944144,
          -0.68694675,
          -0.7187583,
          -0.7153538,
          -0.6570653,
          -0.68636477,
          -0.676101,
          -0.7153538,
          -0.688637,
          -0.7149139
         ],
         "y": [
          0.00955442,
          0.006290192,
          -0.011852884,
          -0.0009071073,
          0.02309301,
          0.009875743,
          0.013477403,
          -0.0009071073,
          0.008353558,
          0.0071693403
         ],
         "z": [
          0.0044679665,
          0.0029017294,
          0.0068644714,
          0.010737049,
          0.0006103904,
          0.011384843,
          0.0046759294,
          0.010737049,
          0.01539666,
          0.011224958
         ]
        },
        {
         "mode": "markers+text",
         "showlegend": false,
         "text": "Q1",
         "textposition": "top center",
         "type": "scatter3d",
         "x": [
          -0.6944143772125244
         ],
         "y": [
          0.009554419666528702
         ],
         "z": [
          0.004467966500669718
         ]
        },
        {
         "mode": "markers+text",
         "showlegend": false,
         "text": "Q2",
         "textposition": "top center",
         "type": "scatter3d",
         "x": [
          -0.6869467496871948
         ],
         "y": [
          0.006290191784501076
         ],
         "z": [
          0.002901729429140687
         ]
        },
        {
         "mode": "markers+text",
         "showlegend": false,
         "text": "Q3",
         "textposition": "top center",
         "type": "scatter3d",
         "x": [
          -0.7187582850456238
         ],
         "y": [
          -0.011852883733808994
         ],
         "z": [
          0.006864471361041069
         ]
        },
        {
         "mode": "markers+text",
         "showlegend": false,
         "text": "Q4",
         "textposition": "top center",
         "type": "scatter3d",
         "x": [
          -0.715353786945343
         ],
         "y": [
          -0.0009071073145605624
         ],
         "z": [
          0.010737049393355846
         ]
        },
        {
         "mode": "markers+text",
         "showlegend": false,
         "text": "Q5",
         "textposition": "top center",
         "type": "scatter3d",
         "x": [
          -0.6570652723312378
         ],
         "y": [
          0.023093009367585182
         ],
         "z": [
          0.0006103903870098293
         ]
        },
        {
         "mode": "markers+text",
         "showlegend": false,
         "text": "Q6",
         "textposition": "top center",
         "type": "scatter3d",
         "x": [
          -0.6863647699356079
         ],
         "y": [
          0.009875742718577385
         ],
         "z": [
          0.011384842917323112
         ]
        },
        {
         "mode": "markers+text",
         "showlegend": false,
         "text": "Q7",
         "textposition": "top center",
         "type": "scatter3d",
         "x": [
          -0.67610102891922
         ],
         "y": [
          0.013477402739226818
         ],
         "z": [
          0.004675929434597492
         ]
        },
        {
         "mode": "markers+text",
         "showlegend": false,
         "text": "Q8",
         "textposition": "top center",
         "type": "scatter3d",
         "x": [
          -0.715353786945343
         ],
         "y": [
          -0.0009071073145605624
         ],
         "z": [
          0.010737049393355846
         ]
        },
        {
         "mode": "markers+text",
         "showlegend": false,
         "text": "Q9",
         "textposition": "top center",
         "type": "scatter3d",
         "x": [
          -0.6886370182037354
         ],
         "y": [
          0.008353558368980885
         ],
         "z": [
          0.015396660193800926
         ]
        },
        {
         "mode": "markers+text",
         "showlegend": false,
         "text": "Q10",
         "textposition": "top center",
         "type": "scatter3d",
         "x": [
          -0.7149139046669006
         ],
         "y": [
          0.007169340271502733
         ],
         "z": [
          0.011224958114326
         ]
        }
       ],
       "layout": {
        "legend": {
         "title": {
          "text": "color"
         },
         "tracegroupgap": 0
        },
        "scene": {
         "domain": {
          "x": [
           0,
           1
          ],
          "y": [
           0,
           1
          ]
         },
         "xaxis": {
          "title": {
           "text": "PCA Component 1"
          }
         },
         "yaxis": {
          "title": {
           "text": "PCA Component 2"
          }
         },
         "zaxis": {
          "title": {
           "text": "PCA Component 3"
          }
         }
        },
        "template": {
         "data": {
          "bar": [
           {
            "error_x": {
             "color": "#2a3f5f"
            },
            "error_y": {
             "color": "#2a3f5f"
            },
            "marker": {
             "line": {
              "color": "#E5ECF6",
              "width": 0.5
             },
             "pattern": {
              "fillmode": "overlay",
              "size": 10,
              "solidity": 0.2
             }
            },
            "type": "bar"
           }
          ],
          "barpolar": [
           {
            "marker": {
             "line": {
              "color": "#E5ECF6",
              "width": 0.5
             },
             "pattern": {
              "fillmode": "overlay",
              "size": 10,
              "solidity": 0.2
             }
            },
            "type": "barpolar"
           }
          ],
          "carpet": [
           {
            "aaxis": {
             "endlinecolor": "#2a3f5f",
             "gridcolor": "white",
             "linecolor": "white",
             "minorgridcolor": "white",
             "startlinecolor": "#2a3f5f"
            },
            "baxis": {
             "endlinecolor": "#2a3f5f",
             "gridcolor": "white",
             "linecolor": "white",
             "minorgridcolor": "white",
             "startlinecolor": "#2a3f5f"
            },
            "type": "carpet"
           }
          ],
          "choropleth": [
           {
            "colorbar": {
             "outlinewidth": 0,
             "ticks": ""
            },
            "type": "choropleth"
           }
          ],
          "contour": [
           {
            "colorbar": {
             "outlinewidth": 0,
             "ticks": ""
            },
            "colorscale": [
             [
              0,
              "#0d0887"
             ],
             [
              0.1111111111111111,
              "#46039f"
             ],
             [
              0.2222222222222222,
              "#7201a8"
             ],
             [
              0.3333333333333333,
              "#9c179e"
             ],
             [
              0.4444444444444444,
              "#bd3786"
             ],
             [
              0.5555555555555556,
              "#d8576b"
             ],
             [
              0.6666666666666666,
              "#ed7953"
             ],
             [
              0.7777777777777778,
              "#fb9f3a"
             ],
             [
              0.8888888888888888,
              "#fdca26"
             ],
             [
              1,
              "#f0f921"
             ]
            ],
            "type": "contour"
           }
          ],
          "contourcarpet": [
           {
            "colorbar": {
             "outlinewidth": 0,
             "ticks": ""
            },
            "type": "contourcarpet"
           }
          ],
          "heatmap": [
           {
            "colorbar": {
             "outlinewidth": 0,
             "ticks": ""
            },
            "colorscale": [
             [
              0,
              "#0d0887"
             ],
             [
              0.1111111111111111,
              "#46039f"
             ],
             [
              0.2222222222222222,
              "#7201a8"
             ],
             [
              0.3333333333333333,
              "#9c179e"
             ],
             [
              0.4444444444444444,
              "#bd3786"
             ],
             [
              0.5555555555555556,
              "#d8576b"
             ],
             [
              0.6666666666666666,
              "#ed7953"
             ],
             [
              0.7777777777777778,
              "#fb9f3a"
             ],
             [
              0.8888888888888888,
              "#fdca26"
             ],
             [
              1,
              "#f0f921"
             ]
            ],
            "type": "heatmap"
           }
          ],
          "heatmapgl": [
           {
            "colorbar": {
             "outlinewidth": 0,
             "ticks": ""
            },
            "colorscale": [
             [
              0,
              "#0d0887"
             ],
             [
              0.1111111111111111,
              "#46039f"
             ],
             [
              0.2222222222222222,
              "#7201a8"
             ],
             [
              0.3333333333333333,
              "#9c179e"
             ],
             [
              0.4444444444444444,
              "#bd3786"
             ],
             [
              0.5555555555555556,
              "#d8576b"
             ],
             [
              0.6666666666666666,
              "#ed7953"
             ],
             [
              0.7777777777777778,
              "#fb9f3a"
             ],
             [
              0.8888888888888888,
              "#fdca26"
             ],
             [
              1,
              "#f0f921"
             ]
            ],
            "type": "heatmapgl"
           }
          ],
          "histogram": [
           {
            "marker": {
             "pattern": {
              "fillmode": "overlay",
              "size": 10,
              "solidity": 0.2
             }
            },
            "type": "histogram"
           }
          ],
          "histogram2d": [
           {
            "colorbar": {
             "outlinewidth": 0,
             "ticks": ""
            },
            "colorscale": [
             [
              0,
              "#0d0887"
             ],
             [
              0.1111111111111111,
              "#46039f"
             ],
             [
              0.2222222222222222,
              "#7201a8"
             ],
             [
              0.3333333333333333,
              "#9c179e"
             ],
             [
              0.4444444444444444,
              "#bd3786"
             ],
             [
              0.5555555555555556,
              "#d8576b"
             ],
             [
              0.6666666666666666,
              "#ed7953"
             ],
             [
              0.7777777777777778,
              "#fb9f3a"
             ],
             [
              0.8888888888888888,
              "#fdca26"
             ],
             [
              1,
              "#f0f921"
             ]
            ],
            "type": "histogram2d"
           }
          ],
          "histogram2dcontour": [
           {
            "colorbar": {
             "outlinewidth": 0,
             "ticks": ""
            },
            "colorscale": [
             [
              0,
              "#0d0887"
             ],
             [
              0.1111111111111111,
              "#46039f"
             ],
             [
              0.2222222222222222,
              "#7201a8"
             ],
             [
              0.3333333333333333,
              "#9c179e"
             ],
             [
              0.4444444444444444,
              "#bd3786"
             ],
             [
              0.5555555555555556,
              "#d8576b"
             ],
             [
              0.6666666666666666,
              "#ed7953"
             ],
             [
              0.7777777777777778,
              "#fb9f3a"
             ],
             [
              0.8888888888888888,
              "#fdca26"
             ],
             [
              1,
              "#f0f921"
             ]
            ],
            "type": "histogram2dcontour"
           }
          ],
          "mesh3d": [
           {
            "colorbar": {
             "outlinewidth": 0,
             "ticks": ""
            },
            "type": "mesh3d"
           }
          ],
          "parcoords": [
           {
            "line": {
             "colorbar": {
              "outlinewidth": 0,
              "ticks": ""
             }
            },
            "type": "parcoords"
           }
          ],
          "pie": [
           {
            "automargin": true,
            "type": "pie"
           }
          ],
          "scatter": [
           {
            "fillpattern": {
             "fillmode": "overlay",
             "size": 10,
             "solidity": 0.2
            },
            "type": "scatter"
           }
          ],
          "scatter3d": [
           {
            "line": {
             "colorbar": {
              "outlinewidth": 0,
              "ticks": ""
             }
            },
            "marker": {
             "colorbar": {
              "outlinewidth": 0,
              "ticks": ""
             }
            },
            "type": "scatter3d"
           }
          ],
          "scattercarpet": [
           {
            "marker": {
             "colorbar": {
              "outlinewidth": 0,
              "ticks": ""
             }
            },
            "type": "scattercarpet"
           }
          ],
          "scattergeo": [
           {
            "marker": {
             "colorbar": {
              "outlinewidth": 0,
              "ticks": ""
             }
            },
            "type": "scattergeo"
           }
          ],
          "scattergl": [
           {
            "marker": {
             "colorbar": {
              "outlinewidth": 0,
              "ticks": ""
             }
            },
            "type": "scattergl"
           }
          ],
          "scattermapbox": [
           {
            "marker": {
             "colorbar": {
              "outlinewidth": 0,
              "ticks": ""
             }
            },
            "type": "scattermapbox"
           }
          ],
          "scatterpolar": [
           {
            "marker": {
             "colorbar": {
              "outlinewidth": 0,
              "ticks": ""
             }
            },
            "type": "scatterpolar"
           }
          ],
          "scatterpolargl": [
           {
            "marker": {
             "colorbar": {
              "outlinewidth": 0,
              "ticks": ""
             }
            },
            "type": "scatterpolargl"
           }
          ],
          "scatterternary": [
           {
            "marker": {
             "colorbar": {
              "outlinewidth": 0,
              "ticks": ""
             }
            },
            "type": "scatterternary"
           }
          ],
          "surface": [
           {
            "colorbar": {
             "outlinewidth": 0,
             "ticks": ""
            },
            "colorscale": [
             [
              0,
              "#0d0887"
             ],
             [
              0.1111111111111111,
              "#46039f"
             ],
             [
              0.2222222222222222,
              "#7201a8"
             ],
             [
              0.3333333333333333,
              "#9c179e"
             ],
             [
              0.4444444444444444,
              "#bd3786"
             ],
             [
              0.5555555555555556,
              "#d8576b"
             ],
             [
              0.6666666666666666,
              "#ed7953"
             ],
             [
              0.7777777777777778,
              "#fb9f3a"
             ],
             [
              0.8888888888888888,
              "#fdca26"
             ],
             [
              1,
              "#f0f921"
             ]
            ],
            "type": "surface"
           }
          ],
          "table": [
           {
            "cells": {
             "fill": {
              "color": "#EBF0F8"
             },
             "line": {
              "color": "white"
             }
            },
            "header": {
             "fill": {
              "color": "#C8D4E3"
             },
             "line": {
              "color": "white"
             }
            },
            "type": "table"
           }
          ]
         },
         "layout": {
          "annotationdefaults": {
           "arrowcolor": "#2a3f5f",
           "arrowhead": 0,
           "arrowwidth": 1
          },
          "autotypenumbers": "strict",
          "coloraxis": {
           "colorbar": {
            "outlinewidth": 0,
            "ticks": ""
           }
          },
          "colorscale": {
           "diverging": [
            [
             0,
             "#8e0152"
            ],
            [
             0.1,
             "#c51b7d"
            ],
            [
             0.2,
             "#de77ae"
            ],
            [
             0.3,
             "#f1b6da"
            ],
            [
             0.4,
             "#fde0ef"
            ],
            [
             0.5,
             "#f7f7f7"
            ],
            [
             0.6,
             "#e6f5d0"
            ],
            [
             0.7,
             "#b8e186"
            ],
            [
             0.8,
             "#7fbc41"
            ],
            [
             0.9,
             "#4d9221"
            ],
            [
             1,
             "#276419"
            ]
           ],
           "sequential": [
            [
             0,
             "#0d0887"
            ],
            [
             0.1111111111111111,
             "#46039f"
            ],
            [
             0.2222222222222222,
             "#7201a8"
            ],
            [
             0.3333333333333333,
             "#9c179e"
            ],
            [
             0.4444444444444444,
             "#bd3786"
            ],
            [
             0.5555555555555556,
             "#d8576b"
            ],
            [
             0.6666666666666666,
             "#ed7953"
            ],
            [
             0.7777777777777778,
             "#fb9f3a"
            ],
            [
             0.8888888888888888,
             "#fdca26"
            ],
            [
             1,
             "#f0f921"
            ]
           ],
           "sequentialminus": [
            [
             0,
             "#0d0887"
            ],
            [
             0.1111111111111111,
             "#46039f"
            ],
            [
             0.2222222222222222,
             "#7201a8"
            ],
            [
             0.3333333333333333,
             "#9c179e"
            ],
            [
             0.4444444444444444,
             "#bd3786"
            ],
            [
             0.5555555555555556,
             "#d8576b"
            ],
            [
             0.6666666666666666,
             "#ed7953"
            ],
            [
             0.7777777777777778,
             "#fb9f3a"
            ],
            [
             0.8888888888888888,
             "#fdca26"
            ],
            [
             1,
             "#f0f921"
            ]
           ]
          },
          "colorway": [
           "#636efa",
           "#EF553B",
           "#00cc96",
           "#ab63fa",
           "#FFA15A",
           "#19d3f3",
           "#FF6692",
           "#B6E880",
           "#FF97FF",
           "#FECB52"
          ],
          "font": {
           "color": "#2a3f5f"
          },
          "geo": {
           "bgcolor": "white",
           "lakecolor": "white",
           "landcolor": "#E5ECF6",
           "showlakes": true,
           "showland": true,
           "subunitcolor": "white"
          },
          "hoverlabel": {
           "align": "left"
          },
          "hovermode": "closest",
          "mapbox": {
           "style": "light"
          },
          "paper_bgcolor": "white",
          "plot_bgcolor": "#E5ECF6",
          "polar": {
           "angularaxis": {
            "gridcolor": "white",
            "linecolor": "white",
            "ticks": ""
           },
           "bgcolor": "#E5ECF6",
           "radialaxis": {
            "gridcolor": "white",
            "linecolor": "white",
            "ticks": ""
           }
          },
          "scene": {
           "xaxis": {
            "backgroundcolor": "#E5ECF6",
            "gridcolor": "white",
            "gridwidth": 2,
            "linecolor": "white",
            "showbackground": true,
            "ticks": "",
            "zerolinecolor": "white"
           },
           "yaxis": {
            "backgroundcolor": "#E5ECF6",
            "gridcolor": "white",
            "gridwidth": 2,
            "linecolor": "white",
            "showbackground": true,
            "ticks": "",
            "zerolinecolor": "white"
           },
           "zaxis": {
            "backgroundcolor": "#E5ECF6",
            "gridcolor": "white",
            "gridwidth": 2,
            "linecolor": "white",
            "showbackground": true,
            "ticks": "",
            "zerolinecolor": "white"
           }
          },
          "shapedefaults": {
           "line": {
            "color": "#2a3f5f"
           }
          },
          "ternary": {
           "aaxis": {
            "gridcolor": "white",
            "linecolor": "white",
            "ticks": ""
           },
           "baxis": {
            "gridcolor": "white",
            "linecolor": "white",
            "ticks": ""
           },
           "bgcolor": "#E5ECF6",
           "caxis": {
            "gridcolor": "white",
            "linecolor": "white",
            "ticks": ""
           }
          },
          "title": {
           "x": 0.05
          },
          "xaxis": {
           "automargin": true,
           "gridcolor": "white",
           "linecolor": "white",
           "ticks": "",
           "title": {
            "standoff": 15
           },
           "zerolinecolor": "white",
           "zerolinewidth": 2
          },
          "yaxis": {
           "automargin": true,
           "gridcolor": "white",
           "linecolor": "white",
           "ticks": "",
           "title": {
            "standoff": 15
           },
           "zerolinecolor": "white",
           "zerolinewidth": 2
          }
         }
        },
        "title": {
         "text": "Embeddings Visualization with 3D PCA"
        }
       }
      }
     },
     "metadata": {},
     "output_type": "display_data"
    },
    {
     "data": {
      "application/vnd.plotly.v1+json": {
       "config": {
        "plotlyServerURL": "https://plot.ly"
       },
       "data": [
        {
         "customdata": [
          [
           "Auditorias"
          ],
          [
           "Auditorias"
          ],
          [
           "Auditorias"
          ],
          [
           "Auditorias"
          ],
          [
           "Auditorias"
          ],
          [
           "Auditorias"
          ],
          [
           "Auditorias"
          ],
          [
           "Auditorias"
          ],
          [
           "Auditorias"
          ],
          [
           "Auditorias"
          ],
          [
           "Auditorias"
          ],
          [
           "Auditorias"
          ],
          [
           "Auditorias"
          ],
          [
           "Auditorias"
          ],
          [
           "Auditorias"
          ],
          [
           "Auditorias"
          ],
          [
           "Auditorias"
          ],
          [
           "Auditorias"
          ],
          [
           "Auditorias"
          ],
          [
           "Auditorias"
          ],
          [
           "Auditorias"
          ],
          [
           "Auditorias"
          ],
          [
           "Auditorias"
          ],
          [
           "Auditorias"
          ],
          [
           "Auditorias"
          ],
          [
           "Auditorias"
          ],
          [
           "Auditorias"
          ],
          [
           "Auditorias"
          ],
          [
           "Auditorias"
          ],
          [
           "Auditorias"
          ],
          [
           "Auditorias"
          ],
          [
           "Auditorias"
          ],
          [
           "Auditorias"
          ],
          [
           "Auditorias"
          ],
          [
           "Auditorias"
          ],
          [
           "Auditorias"
          ],
          [
           "Auditorias"
          ],
          [
           "Auditorias"
          ],
          [
           "Auditorias"
          ],
          [
           "Auditorias"
          ],
          [
           "Auditorias"
          ],
          [
           "Auditorias"
          ],
          [
           "Auditorias"
          ],
          [
           "Auditorias"
          ],
          [
           "Auditorias"
          ],
          [
           "Auditorias"
          ],
          [
           "Auditorias"
          ],
          [
           "Auditorias"
          ],
          [
           "Auditorias"
          ],
          [
           "Auditorias"
          ],
          [
           "Auditorias"
          ],
          [
           "Auditorias"
          ],
          [
           "Auditorias"
          ],
          [
           "Auditorias"
          ],
          [
           "Auditorias"
          ],
          [
           "Auditorias"
          ],
          [
           "Auditorias"
          ],
          [
           "Auditorias"
          ]
         ],
         "hovertemplate": "color=Auditorias<br>t-SNE Component 1=%{x}<br>t-SNE Component 2=%{y}<br>t-SNE Component 3=%{z}<br>label=%{customdata[0]}<extra></extra>",
         "legendgroup": "Auditorias",
         "marker": {
          "color": "#636efa",
          "symbol": "circle"
         },
         "mode": "markers",
         "name": "Auditorias",
         "scene": "scene",
         "showlegend": true,
         "type": "scatter3d",
         "x": [
          1.1270771,
          -1.6882463,
          -1.677283,
          -1.958178,
          -0.25171256,
          -8.318659,
          -8.660318,
          -9.043862,
          -9.331238,
          -7.4777293,
          -6.6802516,
          -6.249904,
          -0.6983939,
          -5.164548,
          -4.5552835,
          1.7532544,
          1.1523439,
          0.05454897,
          2.792645,
          0.8798353,
          3.0387285,
          -2.4516559,
          -2.345493,
          -2.2775297,
          -1.58262,
          1.314856,
          1.2498258,
          2.7556744,
          -1.560451,
          1.4723324,
          0.9561234,
          0.40427026,
          -0.480436,
          -0.96789485,
          -1.6515884,
          -2.0575216,
          -7.480794,
          -6.900611,
          -6.458097,
          -0.6984658,
          -4.635758,
          1.7368424,
          1.757946,
          1.1513289,
          0.15299006,
          2.7869756,
          0.88292694,
          3.011463,
          2.660067,
          -2.1635067,
          -2.026957,
          -1.5820919,
          1.2407551,
          1.6632463,
          1.8790085,
          2.2966683,
          2.513581,
          -2.1800013
         ],
         "y": [
          -15.873136,
          -14.9924755,
          -15.049304,
          -13.303408,
          -13.938356,
          -13.018454,
          -12.822106,
          -12.411629,
          -12.208691,
          -8.386597,
          -8.523423,
          -8.747674,
          -5.7401786,
          -3.8655849,
          -4.198247,
          -12.212734,
          -9.04459,
          -7.3302407,
          -4.4793143,
          -5.773707,
          -7.828385,
          -10.13367,
          -13.655421,
          -11.448979,
          -7.910891,
          -6.6065183,
          -7.004309,
          -6.7771163,
          -15.2264185,
          -3.2902684,
          -3.5981026,
          -3.7455294,
          -4.11826,
          -4.617063,
          -4.5386558,
          -4.355465,
          -7.3819103,
          -7.267434,
          -7.7269397,
          -5.7402573,
          -4.137666,
          -12.218223,
          -10.160166,
          -9.048895,
          -7.524927,
          -4.4786277,
          -5.7681966,
          -7.8305397,
          -7.928949,
          -12.86981,
          -12.359794,
          -7.9342456,
          -5.9389877,
          -7.174979,
          -7.6928897,
          -7.74301,
          -7.5428286,
          -11.679829
         ],
         "z": [
          -4.114126,
          0.5354519,
          0.559873,
          2.0686107,
          -5.390616,
          1.4903435,
          1.278301,
          1.3409514,
          0.9796054,
          -0.29562873,
          -0.4180906,
          0.26898372,
          0.7225139,
          -4.1601243,
          -2.7838125,
          3.8124306,
          3.7454712,
          4.853495,
          -4.1919837,
          -2.5084467,
          -6.2771783,
          -5.930879,
          3.7922359,
          5.4093714,
          1.470172,
          1.6817808,
          1.7759804,
          0.4987541,
          1.9841166,
          -1.036955,
          -1.1586231,
          -1.1918806,
          -1.2331152,
          -1.6253504,
          -1.6350714,
          -1.6200289,
          -0.38998306,
          -0.28590614,
          0.37858993,
          0.7224526,
          -3.0102823,
          3.828606,
          3.8163495,
          3.7609606,
          4.716275,
          -4.1835904,
          -2.5077538,
          -6.3358192,
          -6.8333416,
          3.6030767,
          4.105667,
          1.4684557,
          2.0600643,
          0.62892187,
          -0.7040637,
          -1.91277,
          -2.5527434,
          5.207855
         ]
        },
        {
         "customdata": [
          [
           "Ausentismo"
          ],
          [
           "Ausentismo"
          ],
          [
           "Ausentismo"
          ],
          [
           "Ausentismo"
          ],
          [
           "Ausentismo"
          ],
          [
           "Ausentismo"
          ],
          [
           "Ausentismo"
          ],
          [
           "Ausentismo"
          ],
          [
           "Ausentismo"
          ],
          [
           "Ausentismo"
          ],
          [
           "Ausentismo"
          ],
          [
           "Ausentismo"
          ],
          [
           "Ausentismo"
          ],
          [
           "Ausentismo"
          ],
          [
           "Ausentismo"
          ],
          [
           "Ausentismo"
          ],
          [
           "Ausentismo"
          ],
          [
           "Ausentismo"
          ],
          [
           "Ausentismo"
          ],
          [
           "Ausentismo"
          ],
          [
           "Ausentismo"
          ],
          [
           "Ausentismo"
          ],
          [
           "Ausentismo"
          ],
          [
           "Ausentismo"
          ],
          [
           "Ausentismo"
          ],
          [
           "Ausentismo"
          ],
          [
           "Ausentismo"
          ],
          [
           "Ausentismo"
          ],
          [
           "Ausentismo"
          ],
          [
           "Ausentismo"
          ],
          [
           "Ausentismo"
          ],
          [
           "Ausentismo"
          ],
          [
           "Ausentismo"
          ],
          [
           "Ausentismo"
          ],
          [
           "Ausentismo"
          ],
          [
           "Ausentismo"
          ],
          [
           "Ausentismo"
          ],
          [
           "Ausentismo"
          ],
          [
           "Ausentismo"
          ],
          [
           "Ausentismo"
          ]
         ],
         "hovertemplate": "color=Ausentismo<br>t-SNE Component 1=%{x}<br>t-SNE Component 2=%{y}<br>t-SNE Component 3=%{z}<br>label=%{customdata[0]}<extra></extra>",
         "legendgroup": "Ausentismo",
         "marker": {
          "color": "#EF553B",
          "symbol": "circle"
         },
         "mode": "markers",
         "name": "Ausentismo",
         "scene": "scene",
         "showlegend": true,
         "type": "scatter3d",
         "x": [
          1.2792754,
          0.9002349,
          1.101651,
          4.5850763,
          4.5701165,
          -3.952154,
          -4.2234616,
          -7.7429495,
          -2.7798643,
          -2.5701385,
          0.29758382,
          -2.3216677,
          -2.3300905,
          -2.116347,
          -0.5607708,
          -0.23861746,
          -0.006188074,
          -0.12944098,
          -4.5336976,
          -4.86866,
          -6.1125712,
          -5.185876,
          -4.8545375,
          -3.1513386,
          -2.159145,
          -1.8116145,
          -0.59384286,
          -3.0480142,
          -3.3935316,
          -3.4155505,
          -3.7434754,
          -5.616136,
          -1.6078253,
          -1.2262598,
          -0.75887597,
          -3.5525901,
          -1.7286793,
          -2.702057,
          1.8948039,
          3.006156
         ],
         "y": [
          -11.999451,
          -10.731553,
          -10.751111,
          -11.330949,
          -11.321971,
          -6.615462,
          -6.449057,
          -8.3472185,
          -9.447247,
          -9.374792,
          -11.819455,
          -9.971427,
          -10.100136,
          -11.041951,
          -8.961599,
          -9.099443,
          -9.072437,
          -8.727076,
          -7.3171372,
          -7.185529,
          -11.104472,
          -10.036579,
          -9.787824,
          -10.334025,
          -11.126054,
          -6.9569902,
          -7.830141,
          -7.9793463,
          -7.676064,
          -7.538578,
          -7.515736,
          -9.898997,
          -7.223238,
          -7.1652703,
          -7.4538703,
          -8.684396,
          -8.2341175,
          -8.558649,
          -11.066972,
          -11.146451
         ],
         "z": [
          -0.109363206,
          -0.4867521,
          -0.69806594,
          0.2736222,
          0.25261027,
          -1.1185122,
          -1.1548806,
          -5.9670715,
          -4.418868,
          -4.3545823,
          -4.3022842,
          -0.19524564,
          -0.7452403,
          -1.6170523,
          -2.4370925,
          -2.9351585,
          -3.7024183,
          -4.382776,
          -2.506561,
          -2.9288552,
          -3.4356866,
          -3.3535101,
          -3.108395,
          -2.3515322,
          -1.6870987,
          -2.779748,
          -5.733768,
          -1.9935309,
          -2.8625991,
          -3.7098055,
          -4.5344467,
          -4.5289483,
          -3.529225,
          -4.3102,
          -4.8397284,
          -1.4656317,
          -1.0986357,
          -5.696318,
          -1.4173311,
          -1.4912013
         ]
        },
        {
         "customdata": [
          [
           "Estructura Organizativa"
          ],
          [
           "Estructura Organizativa"
          ],
          [
           "Estructura Organizativa"
          ],
          [
           "Estructura Organizativa"
          ],
          [
           "Estructura Organizativa"
          ],
          [
           "Estructura Organizativa"
          ],
          [
           "Estructura Organizativa"
          ],
          [
           "Estructura Organizativa"
          ],
          [
           "Estructura Organizativa"
          ],
          [
           "Estructura Organizativa"
          ],
          [
           "Estructura Organizativa"
          ],
          [
           "Estructura Organizativa"
          ],
          [
           "Estructura Organizativa"
          ],
          [
           "Estructura Organizativa"
          ],
          [
           "Estructura Organizativa"
          ],
          [
           "Estructura Organizativa"
          ],
          [
           "Estructura Organizativa"
          ],
          [
           "Estructura Organizativa"
          ],
          [
           "Estructura Organizativa"
          ],
          [
           "Estructura Organizativa"
          ],
          [
           "Estructura Organizativa"
          ],
          [
           "Estructura Organizativa"
          ],
          [
           "Estructura Organizativa"
          ],
          [
           "Estructura Organizativa"
          ],
          [
           "Estructura Organizativa"
          ],
          [
           "Estructura Organizativa"
          ],
          [
           "Estructura Organizativa"
          ],
          [
           "Estructura Organizativa"
          ],
          [
           "Estructura Organizativa"
          ],
          [
           "Estructura Organizativa"
          ],
          [
           "Estructura Organizativa"
          ],
          [
           "Estructura Organizativa"
          ],
          [
           "Estructura Organizativa"
          ],
          [
           "Estructura Organizativa"
          ],
          [
           "Estructura Organizativa"
          ],
          [
           "Estructura Organizativa"
          ],
          [
           "Estructura Organizativa"
          ],
          [
           "Estructura Organizativa"
          ],
          [
           "Estructura Organizativa"
          ],
          [
           "Estructura Organizativa"
          ],
          [
           "Estructura Organizativa"
          ],
          [
           "Estructura Organizativa"
          ],
          [
           "Estructura Organizativa"
          ],
          [
           "Estructura Organizativa"
          ],
          [
           "Estructura Organizativa"
          ],
          [
           "Estructura Organizativa"
          ],
          [
           "Estructura Organizativa"
          ],
          [
           "Estructura Organizativa"
          ],
          [
           "Estructura Organizativa"
          ],
          [
           "Estructura Organizativa"
          ],
          [
           "Estructura Organizativa"
          ],
          [
           "Estructura Organizativa"
          ],
          [
           "Estructura Organizativa"
          ],
          [
           "Estructura Organizativa"
          ],
          [
           "Estructura Organizativa"
          ],
          [
           "Estructura Organizativa"
          ],
          [
           "Estructura Organizativa"
          ],
          [
           "Estructura Organizativa"
          ],
          [
           "Estructura Organizativa"
          ],
          [
           "Estructura Organizativa"
          ],
          [
           "Estructura Organizativa"
          ],
          [
           "Estructura Organizativa"
          ],
          [
           "Estructura Organizativa"
          ],
          [
           "Estructura Organizativa"
          ],
          [
           "Estructura Organizativa"
          ],
          [
           "Estructura Organizativa"
          ],
          [
           "Estructura Organizativa"
          ],
          [
           "Estructura Organizativa"
          ],
          [
           "Estructura Organizativa"
          ],
          [
           "Estructura Organizativa"
          ],
          [
           "Estructura Organizativa"
          ],
          [
           "Estructura Organizativa"
          ],
          [
           "Estructura Organizativa"
          ],
          [
           "Estructura Organizativa"
          ],
          [
           "Estructura Organizativa"
          ],
          [
           "Estructura Organizativa"
          ],
          [
           "Estructura Organizativa"
          ],
          [
           "Estructura Organizativa"
          ],
          [
           "Estructura Organizativa"
          ],
          [
           "Estructura Organizativa"
          ],
          [
           "Estructura Organizativa"
          ],
          [
           "Estructura Organizativa"
          ],
          [
           "Estructura Organizativa"
          ],
          [
           "Estructura Organizativa"
          ],
          [
           "Estructura Organizativa"
          ],
          [
           "Estructura Organizativa"
          ],
          [
           "Estructura Organizativa"
          ],
          [
           "Estructura Organizativa"
          ],
          [
           "Estructura Organizativa"
          ],
          [
           "Estructura Organizativa"
          ],
          [
           "Estructura Organizativa"
          ],
          [
           "Estructura Organizativa"
          ],
          [
           "Estructura Organizativa"
          ],
          [
           "Estructura Organizativa"
          ],
          [
           "Estructura Organizativa"
          ],
          [
           "Estructura Organizativa"
          ],
          [
           "Estructura Organizativa"
          ],
          [
           "Estructura Organizativa"
          ],
          [
           "Estructura Organizativa"
          ],
          [
           "Estructura Organizativa"
          ],
          [
           "Estructura Organizativa"
          ],
          [
           "Estructura Organizativa"
          ],
          [
           "Estructura Organizativa"
          ],
          [
           "Estructura Organizativa"
          ],
          [
           "Estructura Organizativa"
          ],
          [
           "Estructura Organizativa"
          ],
          [
           "Estructura Organizativa"
          ],
          [
           "Estructura Organizativa"
          ],
          [
           "Estructura Organizativa"
          ],
          [
           "Estructura Organizativa"
          ],
          [
           "Estructura Organizativa"
          ],
          [
           "Estructura Organizativa"
          ],
          [
           "Estructura Organizativa"
          ],
          [
           "Estructura Organizativa"
          ],
          [
           "Estructura Organizativa"
          ],
          [
           "Estructura Organizativa"
          ],
          [
           "Estructura Organizativa"
          ],
          [
           "Estructura Organizativa"
          ],
          [
           "Estructura Organizativa"
          ],
          [
           "Estructura Organizativa"
          ],
          [
           "Estructura Organizativa"
          ],
          [
           "Estructura Organizativa"
          ],
          [
           "Estructura Organizativa"
          ],
          [
           "Estructura Organizativa"
          ],
          [
           "Estructura Organizativa"
          ],
          [
           "Estructura Organizativa"
          ],
          [
           "Estructura Organizativa"
          ],
          [
           "Estructura Organizativa"
          ],
          [
           "Estructura Organizativa"
          ],
          [
           "Estructura Organizativa"
          ],
          [
           "Estructura Organizativa"
          ],
          [
           "Estructura Organizativa"
          ],
          [
           "Estructura Organizativa"
          ],
          [
           "Estructura Organizativa"
          ],
          [
           "Estructura Organizativa"
          ],
          [
           "Estructura Organizativa"
          ],
          [
           "Estructura Organizativa"
          ],
          [
           "Estructura Organizativa"
          ],
          [
           "Estructura Organizativa"
          ],
          [
           "Estructura Organizativa"
          ],
          [
           "Estructura Organizativa"
          ],
          [
           "Estructura Organizativa"
          ],
          [
           "Estructura Organizativa"
          ],
          [
           "Estructura Organizativa"
          ],
          [
           "Estructura Organizativa"
          ],
          [
           "Estructura Organizativa"
          ],
          [
           "Estructura Organizativa"
          ],
          [
           "Estructura Organizativa"
          ],
          [
           "Estructura Organizativa"
          ],
          [
           "Estructura Organizativa"
          ],
          [
           "Estructura Organizativa"
          ],
          [
           "Estructura Organizativa"
          ],
          [
           "Estructura Organizativa"
          ],
          [
           "Estructura Organizativa"
          ],
          [
           "Estructura Organizativa"
          ],
          [
           "Estructura Organizativa"
          ],
          [
           "Estructura Organizativa"
          ],
          [
           "Estructura Organizativa"
          ],
          [
           "Estructura Organizativa"
          ],
          [
           "Estructura Organizativa"
          ],
          [
           "Estructura Organizativa"
          ],
          [
           "Estructura Organizativa"
          ],
          [
           "Estructura Organizativa"
          ],
          [
           "Estructura Organizativa"
          ],
          [
           "Estructura Organizativa"
          ],
          [
           "Estructura Organizativa"
          ],
          [
           "Estructura Organizativa"
          ],
          [
           "Estructura Organizativa"
          ],
          [
           "Estructura Organizativa"
          ],
          [
           "Estructura Organizativa"
          ],
          [
           "Estructura Organizativa"
          ],
          [
           "Estructura Organizativa"
          ],
          [
           "Estructura Organizativa"
          ],
          [
           "Estructura Organizativa"
          ],
          [
           "Estructura Organizativa"
          ],
          [
           "Estructura Organizativa"
          ],
          [
           "Estructura Organizativa"
          ],
          [
           "Estructura Organizativa"
          ],
          [
           "Estructura Organizativa"
          ],
          [
           "Estructura Organizativa"
          ],
          [
           "Estructura Organizativa"
          ],
          [
           "Estructura Organizativa"
          ],
          [
           "Estructura Organizativa"
          ],
          [
           "Estructura Organizativa"
          ],
          [
           "Estructura Organizativa"
          ],
          [
           "Estructura Organizativa"
          ],
          [
           "Estructura Organizativa"
          ],
          [
           "Estructura Organizativa"
          ],
          [
           "Estructura Organizativa"
          ],
          [
           "Estructura Organizativa"
          ],
          [
           "Estructura Organizativa"
          ],
          [
           "Estructura Organizativa"
          ],
          [
           "Estructura Organizativa"
          ],
          [
           "Estructura Organizativa"
          ],
          [
           "Estructura Organizativa"
          ],
          [
           "Estructura Organizativa"
          ],
          [
           "Estructura Organizativa"
          ],
          [
           "Estructura Organizativa"
          ],
          [
           "Estructura Organizativa"
          ],
          [
           "Estructura Organizativa"
          ],
          [
           "Estructura Organizativa"
          ],
          [
           "Estructura Organizativa"
          ],
          [
           "Estructura Organizativa"
          ],
          [
           "Estructura Organizativa"
          ],
          [
           "Estructura Organizativa"
          ],
          [
           "Estructura Organizativa"
          ],
          [
           "Estructura Organizativa"
          ],
          [
           "Estructura Organizativa"
          ],
          [
           "Estructura Organizativa"
          ],
          [
           "Estructura Organizativa"
          ],
          [
           "Estructura Organizativa"
          ]
         ],
         "hovertemplate": "color=Estructura Organizativa<br>t-SNE Component 1=%{x}<br>t-SNE Component 2=%{y}<br>t-SNE Component 3=%{z}<br>label=%{customdata[0]}<extra></extra>",
         "legendgroup": "Estructura Organizativa",
         "marker": {
          "color": "#00cc96",
          "symbol": "circle"
         },
         "mode": "markers",
         "name": "Estructura Organizativa",
         "scene": "scene",
         "showlegend": true,
         "type": "scatter3d",
         "x": [
          -9.262742,
          -9.6489315,
          -9.212817,
          -6.8169937,
          -7.9336643,
          -6.48439,
          14.367827,
          -7.700399,
          -8.551166,
          -8.071959,
          -8.936065,
          -3.9248505,
          -2.3012552,
          -4.8712535,
          18.642456,
          19.91644,
          22.260538,
          21.286394,
          21.741642,
          20.505457,
          18.925444,
          17.465136,
          4.653004,
          2.6210184,
          5.870173,
          12.165214,
          24.8812,
          11.540828,
          10.592001,
          14.14009,
          13.069181,
          11.1741085,
          4.6743283,
          16.057283,
          12.965785,
          8.320282,
          9.138624,
          13.053932,
          10.1594305,
          11.33481,
          2.1563737,
          -1.4837222,
          7.4860387,
          15.259486,
          9.688028,
          7.299143,
          7.9766603,
          2.6795702,
          1.4940428,
          15.67564,
          8.894107,
          9.854567,
          7.913591,
          12.833251,
          11.989147,
          12.117739,
          10.90117,
          11.751012,
          8.9319935,
          -5.7589054,
          18.265078,
          9.978989,
          14.406059,
          23.81449,
          19.321384,
          11.015323,
          7.1458673,
          13.034655,
          11.656798,
          12.862345,
          10.1526575,
          3.0014355,
          14.149409,
          15.157238,
          20.44148,
          19.993113,
          8.697124,
          0.27438277,
          3.2412431,
          13.403102,
          20.571474,
          20.278923,
          16.327389,
          18.90399,
          14.501721,
          3.7391288,
          11.656741,
          14.367945,
          15.70363,
          17.913765,
          10.032291,
          -4.914383,
          4.0426745,
          -0.32287833,
          14.279085,
          12.437178,
          22.203062,
          0.5251983,
          1.6427374,
          0.78430814,
          6.075396,
          6.4314013,
          5.52434,
          8.5772915,
          12.402757,
          9.369434,
          11.976416,
          -4.989792,
          24.563843,
          22.75917,
          19.556852,
          18.304207,
          -6.1286383,
          0.073108874,
          -1.5406289,
          2.8862736,
          0.9566491,
          -5.694316,
          -4.132081,
          3.5972228,
          7.306855,
          3.1990857,
          -3.3053694,
          -7.2442837,
          -2.281983,
          -9.23717,
          -0.51553196,
          -2.7786176,
          1.2066033,
          15.502876,
          22.15691,
          17.84088,
          19.962343,
          19.732975,
          17.108555,
          13.828889,
          13.530714,
          15.288402,
          12.704075,
          12.790454,
          14.1868305,
          14.3197565,
          15.371836,
          15.195361,
          18.507782,
          12.671523,
          14.395908,
          14.772317,
          13.048281,
          13.658782,
          14.255137,
          11.811371,
          11.301445,
          13.515719,
          13.455706,
          17.52862,
          12.6191,
          10.835469,
          14.472149,
          14.772678,
          12.768641,
          13.877728,
          12.01673,
          21.068953,
          16.735466,
          11.703833,
          -8.113185,
          17.611158,
          22.553528,
          22.67655,
          18.103537,
          18.484463,
          21.042772,
          17.433908,
          13.670654,
          15.004184,
          16.479393,
          13.409571,
          12.96415,
          13.452831,
          14.370917,
          13.988987,
          15.254584,
          13.027166,
          13.357909,
          12.901717,
          9.456988,
          12.043973,
          13.858537,
          12.249672,
          6.321246,
          14.764952,
          14.2158785,
          16.39714,
          17.007286,
          21.352747,
          21.936607,
          16.703293,
          15.065726,
          12.037728,
          1.683696,
          -0.9942421,
          -3.5840495,
          -6.157706,
          -2.398452,
          -7.291134,
          1.9122262,
          10.949754,
          7.848642,
          4.1578465,
          12.477931
         ],
         "y": [
          18.635963,
          16.889194,
          18.869156,
          20.539476,
          20.707552,
          18.945147,
          -4.73606,
          18.186544,
          19.65662,
          19.212976,
          17.664465,
          21.179749,
          21.25293,
          20.50798,
          -9.125501,
          -9.5530205,
          -11.167246,
          -9.858173,
          -8.695514,
          -7.370261,
          -6.625136,
          -1.1484953,
          16.529463,
          19.280018,
          15.157329,
          7.9340377,
          -11.316308,
          6.1385736,
          11.565837,
          3.405314,
          5.4210978,
          12.648073,
          17.255653,
          -6.4759946,
          6.6117277,
          12.790646,
          11.623188,
          8.063157,
          11.91764,
          11.099967,
          16.736795,
          20.113232,
          16.75394,
          3.8611426,
          13.565525,
          15.329634,
          16.392004,
          18.589527,
          19.422564,
          -5.4491076,
          12.810586,
          10.502329,
          14.837907,
          2.4784944,
          4.428235,
          3.1476822,
          11.500704,
          9.706564,
          14.054098,
          21.434084,
          -11.118266,
          10.743454,
          -6.5816784,
          -12.323099,
          -11.779904,
          12.971283,
          15.404792,
          7.412003,
          9.2468405,
          6.325225,
          12.841621,
          19.60366,
          -1.1405412,
          -7.2729206,
          -11.643118,
          -12.514049,
          15.10665,
          18.514399,
          17.200085,
          1.4055248,
          -10.800576,
          -12.042491,
          -8.159025,
          -10.918434,
          -5.6772285,
          16.354755,
          7.5870476,
          -4.3035774,
          -9.274525,
          -9.407608,
          14.829144,
          20.186235,
          18.809595,
          19.308079,
          2.9730432,
          5.160234,
          -12.551907,
          17.99706,
          18.970455,
          20.236378,
          15.282775,
          16.605564,
          17.581734,
          15.700252,
          10.4071865,
          14.219979,
          11.10426,
          21.57686,
          -11.64909,
          -12.64002,
          -10.5487385,
          -10.794674,
          20.33792,
          19.85762,
          20.055542,
          18.058172,
          18.991898,
          19.6689,
          19.769304,
          18.142952,
          13.770255,
          17.02635,
          20.291632,
          19.470312,
          19.502443,
          20.08237,
          20.977896,
          20.223463,
          20.5417,
          -4.2148833,
          -9.4378395,
          -2.982759,
          -7.559283,
          -8.137586,
          -0.8681111,
          5.230794,
          4.442655,
          -3.8487856,
          0.95353293,
          0.82846695,
          -0.14344081,
          -2.6473556,
          -7.9761243,
          -5.0177126,
          -9.573675,
          -4.9683757,
          -3.4187498,
          -2.2659738,
          2.6246667,
          -2.5670574,
          -1.240619,
          3.5233061,
          7.2151804,
          -4.1580358,
          -2.5021904,
          -8.641766,
          -4.095547,
          8.716253,
          -0.81686383,
          -3.0512319,
          -1.282724,
          1.3991579,
          4.6378174,
          -11.179779,
          -8.576989,
          4.186439,
          20.252747,
          -6.3190594,
          -10.738214,
          -9.874626,
          -4.3862963,
          -5.061323,
          -8.738774,
          -2.0162878,
          3.6535847,
          -7.8885875,
          -9.278615,
          -0.48005825,
          -0.39795768,
          -0.24275634,
          1.0036277,
          -5.599327,
          -6.787325,
          3.2645493,
          3.9252307,
          -0.77069634,
          12.031562,
          6.8357925,
          0.77018267,
          -0.09611017,
          16.265888,
          2.198932,
          -4.870167,
          -7.3011894,
          -10.25239,
          -12.70641,
          -11.6911125,
          -9.994325,
          0.07921832,
          12.303339,
          17.676414,
          21.161688,
          21.527313,
          20.922594,
          21.476686,
          18.982967,
          17.763319,
          -0.21269028,
          13.792848,
          18.321955,
          -2.4975688
         ],
         "z": [
          -1.1272612,
          0.3831387,
          0.42372906,
          -0.03347252,
          -0.9483628,
          -0.5727673,
          1.9531156,
          -1.0852616,
          -1.7388978,
          -0.3929301,
          -0.03095616,
          -0.21414512,
          1.8189212,
          1.4736588,
          0.6654924,
          0.44677863,
          0.90536356,
          1.0166622,
          0.9598755,
          1.0131232,
          0.83293885,
          0.9679443,
          0.85803974,
          0.9487512,
          0.54632276,
          1.2217369,
          -1.6118566,
          -0.20672525,
          1.7484953,
          -0.9436335,
          -1.2210128,
          1.1926348,
          2.2325473,
          -0.04655822,
          1.2623909,
          0.50003207,
          -0.07776357,
          0.3539747,
          -1.0765,
          -0.96669996,
          1.9822975,
          0.4189914,
          0.62452686,
          0.46942046,
          1.6887292,
          2.3779116,
          1.8483511,
          3.3429964,
          3.2857275,
          0.32515153,
          -0.8215988,
          -0.57391244,
          -0.41809976,
          0.7673705,
          -0.041689526,
          -0.021792749,
          0.19551447,
          0.84992784,
          0.58550304,
          -0.41364917,
          -0.6649775,
          0.8998298,
          -1.0403765,
          -0.0016156763,
          -1.06311,
          -0.6909701,
          0.95212793,
          -0.753766,
          -0.57871735,
          0.058420125,
          0.2724896,
          2.3489876,
          0.41653767,
          0.41306335,
          0.47777253,
          -0.20679723,
          1.8640903,
          2.9130623,
          3.1072552,
          -0.21661921,
          -1.8791147,
          -1.6692659,
          0.29225752,
          0.4599632,
          0.5857495,
          2.1008248,
          -0.5674229,
          -2.3706498,
          -1.1146631,
          -0.50480205,
          0.59527755,
          -0.5174798,
          1.5468272,
          1.5725868,
          1.2981366,
          1.2757832,
          0.39768836,
          1.6671743,
          1.967951,
          1.1516559,
          1.8248237,
          1.791798,
          1.1476858,
          0.4988299,
          -0.24010505,
          -0.66538244,
          1.0951245,
          0.613409,
          -1.1700212,
          -0.86440134,
          -1.0055298,
          -1.9872993,
          -1.1804341,
          2.9149032,
          2.3400223,
          1.926992,
          0.6441293,
          0.5384007,
          0.560342,
          0.51067334,
          0.080806606,
          0.94298476,
          1.7916108,
          -1.7117718,
          1.3206345,
          -0.45937777,
          2.1517742,
          0.21662693,
          2.3133988,
          1.016083,
          -0.39792264,
          1.1325153,
          0.12212401,
          1.1683238,
          1.3764844,
          0.5876139,
          -0.34092337,
          -1.1462402,
          -1.5914336,
          -2.841948,
          -3.1852555,
          0.38705295,
          -2.0168216,
          -1.6959807,
          -1.7538081,
          0.21064565,
          -0.39800993,
          -0.9744047,
          -1.0487517,
          -2.9929283,
          -2.9898992,
          -1.8354536,
          0.7432981,
          -1.5736829,
          -1.6177146,
          -1.8466201,
          0.3234721,
          0.36876512,
          -0.7533679,
          -2.0171294,
          -2.3940797,
          -2.6734836,
          -1.842862,
          -0.58737457,
          -0.99931365,
          1.6204892,
          0.5877732,
          0.79875183,
          -0.3463839,
          0.7531369,
          1.0602168,
          0.9762673,
          -0.07130671,
          1.2317852,
          0.37946367,
          -0.87870204,
          -2.2669544,
          -2.0106194,
          -3.3496215,
          0.7308174,
          0.3011647,
          -1.8466585,
          -2.2653427,
          -2.2412858,
          1.6145598,
          0.21099065,
          1.2741282,
          -1.3402694,
          -1.1754036,
          1.1153212,
          0.054993875,
          -0.3752312,
          -0.69183826,
          -1.3631979,
          -1.45466,
          -0.82774305,
          -1.601797,
          -0.15967555,
          -1.9060456,
          0.014368373,
          2.8993757,
          0.96124464,
          1.228228,
          1.0316442,
          0.43990836,
          0.6497206,
          0.88685656,
          0.23387972,
          1.4673198,
          2.7477388,
          0.53917205
         ]
        },
        {
         "customdata": [
          [
           "Riesgos"
          ],
          [
           "Riesgos"
          ],
          [
           "Riesgos"
          ],
          [
           "Riesgos"
          ],
          [
           "Riesgos"
          ],
          [
           "Riesgos"
          ],
          [
           "Riesgos"
          ],
          [
           "Riesgos"
          ],
          [
           "Riesgos"
          ],
          [
           "Riesgos"
          ],
          [
           "Riesgos"
          ],
          [
           "Riesgos"
          ],
          [
           "Riesgos"
          ],
          [
           "Riesgos"
          ],
          [
           "Riesgos"
          ],
          [
           "Riesgos"
          ],
          [
           "Riesgos"
          ],
          [
           "Riesgos"
          ],
          [
           "Riesgos"
          ],
          [
           "Riesgos"
          ],
          [
           "Riesgos"
          ],
          [
           "Riesgos"
          ],
          [
           "Riesgos"
          ],
          [
           "Riesgos"
          ],
          [
           "Riesgos"
          ],
          [
           "Riesgos"
          ],
          [
           "Riesgos"
          ],
          [
           "Riesgos"
          ],
          [
           "Riesgos"
          ],
          [
           "Riesgos"
          ],
          [
           "Riesgos"
          ],
          [
           "Riesgos"
          ],
          [
           "Riesgos"
          ],
          [
           "Riesgos"
          ],
          [
           "Riesgos"
          ],
          [
           "Riesgos"
          ],
          [
           "Riesgos"
          ],
          [
           "Riesgos"
          ],
          [
           "Riesgos"
          ],
          [
           "Riesgos"
          ],
          [
           "Riesgos"
          ],
          [
           "Riesgos"
          ],
          [
           "Riesgos"
          ],
          [
           "Riesgos"
          ],
          [
           "Riesgos"
          ],
          [
           "Riesgos"
          ],
          [
           "Riesgos"
          ],
          [
           "Riesgos"
          ],
          [
           "Riesgos"
          ],
          [
           "Riesgos"
          ],
          [
           "Riesgos"
          ],
          [
           "Riesgos"
          ],
          [
           "Riesgos"
          ],
          [
           "Riesgos"
          ],
          [
           "Riesgos"
          ],
          [
           "Riesgos"
          ],
          [
           "Riesgos"
          ],
          [
           "Riesgos"
          ],
          [
           "Riesgos"
          ],
          [
           "Riesgos"
          ]
         ],
         "hovertemplate": "color=Riesgos<br>t-SNE Component 1=%{x}<br>t-SNE Component 2=%{y}<br>t-SNE Component 3=%{z}<br>label=%{customdata[0]}<extra></extra>",
         "legendgroup": "Riesgos",
         "marker": {
          "color": "#ab63fa",
          "symbol": "circle"
         },
         "mode": "markers",
         "name": "Riesgos",
         "scene": "scene",
         "showlegend": true,
         "type": "scatter3d",
         "x": [
          0.036321558,
          -4.1433597,
          -4.228139,
          -3.0718951,
          -0.1518426,
          -0.11840959,
          -4.496359,
          -4.090368,
          -3.959164,
          -8.314329,
          -8.891764,
          -8.862436,
          -9.071392,
          -8.192446,
          -8.596566,
          -7.723385,
          -7.9622984,
          -7.4859753,
          -5.444561,
          -5.7919593,
          -5.8113036,
          -3.6820138,
          -5.271951,
          -6.3062243,
          -5.2755632,
          -5.5924416,
          -3.7626512,
          -4.178809,
          -4.5170684,
          -4.854176,
          -4.770186,
          -5.2743535,
          -5.742155,
          -3.1963673,
          -1.6606022,
          -7.548539,
          -7.5815053,
          -6.470382,
          -7.134543,
          -0.94417757,
          -8.066246,
          -0.3627173,
          -0.19221865,
          -0.6485339,
          -1.4920652,
          -2.3382463,
          -3.4090772,
          -3.6734087,
          -4.8075285,
          -7.281034,
          -3.1894915,
          -3.421201,
          -2.7428825,
          -3.1305432,
          -2.9489932,
          -3.257668,
          -3.112671,
          -3.5807118,
          -3.5463908,
          -3.5567634
         ],
         "y": [
          -15.98928,
          -12.065993,
          -12.021281,
          -0.9210446,
          -13.229948,
          -13.2303,
          -2.323002,
          -6.7075195,
          -6.7663317,
          -5.5312767,
          -5.6201406,
          -6.3811207,
          -5.9299564,
          -6.369854,
          -6.5746183,
          -6.588607,
          -7.30749,
          -7.5286493,
          -2.6985102,
          -2.5062916,
          -2.7045429,
          -12.869834,
          -10.535921,
          -10.3900585,
          -9.08815,
          -9.39406,
          -3.9386947,
          -4.240842,
          -4.595095,
          -4.977335,
          -9.1805725,
          -7.1261897,
          -5.8929706,
          -7.1813893,
          -11.764822,
          -5.2502446,
          -5.2313232,
          -3.132791,
          -4.0942154,
          -2.9666898,
          -4.5627203,
          -2.7468898,
          -2.2699976,
          -2.102767,
          -1.8012135,
          -1.4030491,
          -1.0280963,
          -0.7674323,
          -1.4765639,
          -3.3042014,
          0.1487782,
          0.24674769,
          -0.111051865,
          -0.80419147,
          -1.5792967,
          -2.6380455,
          -3.153828,
          -3.5696754,
          -4.53311,
          -5.0167294
         ],
         "z": [
          0.06673323,
          0.5844193,
          0.5280829,
          -0.19116566,
          1.2957633,
          1.2831593,
          0.24673532,
          3.166372,
          3.2654216,
          -4.991748,
          -5.080425,
          -5.4931087,
          -6.255748,
          -6.501023,
          -7.2404814,
          -7.7726536,
          -8.03036,
          -7.799962,
          3.4858985,
          2.07624,
          1.3230118,
          2.8818839,
          2.4278946,
          3.3799176,
          4.0098953,
          4.0265236,
          5.9085207,
          5.865893,
          5.4630456,
          5.2039094,
          1.6936989,
          1.9840866,
          2.8168747,
          4.2631645,
          1.8497279,
          2.2079298,
          2.164963,
          0.38238195,
          -0.49883762,
          1.7692926,
          0.42593282,
          -4.5510573,
          -4.9379883,
          -4.5588803,
          -3.9793675,
          -3.567667,
          -3.393818,
          -3.3130891,
          -3.7420964,
          -1.8985034,
          3.1492805,
          2.4824753,
          2.4390752,
          2.365044,
          1.8596835,
          2.023553,
          1.4737505,
          1.4952121,
          1.3873509,
          1.3715625
         ]
        },
        {
         "customdata": [
          [
           "Información"
          ],
          [
           "Información"
          ],
          [
           "Información"
          ],
          [
           "Información"
          ],
          [
           "Información"
          ],
          [
           "Información"
          ],
          [
           "Información"
          ],
          [
           "Información"
          ],
          [
           "Información"
          ],
          [
           "Información"
          ],
          [
           "Información"
          ],
          [
           "Información"
          ],
          [
           "Información"
          ],
          [
           "Información"
          ],
          [
           "Información"
          ],
          [
           "Información"
          ],
          [
           "Información"
          ],
          [
           "Información"
          ],
          [
           "Información"
          ],
          [
           "Información"
          ],
          [
           "Información"
          ]
         ],
         "hovertemplate": "color=Información<br>t-SNE Component 1=%{x}<br>t-SNE Component 2=%{y}<br>t-SNE Component 3=%{z}<br>label=%{customdata[0]}<extra></extra>",
         "legendgroup": "Información",
         "marker": {
          "color": "#FFA15A",
          "symbol": "circle"
         },
         "mode": "markers",
         "name": "Información",
         "scene": "scene",
         "showlegend": true,
         "type": "scatter3d",
         "x": [
          2.1449945,
          2.010442,
          2.556028,
          3.087242,
          3.7441769,
          4.3085117,
          4.5535746,
          1.0868728,
          -0.20037849,
          -0.21551907,
          -3.869841,
          -4.3070493,
          -4.586538,
          1.9281589,
          0.85062134,
          0.8782705,
          -1.7735505,
          -0.10011309,
          -0.14253075,
          -0.41353717,
          1.0299695
         ],
         "y": [
          -14.669268,
          -15.02041,
          -16.23274,
          -16.096262,
          -15.749241,
          -15.425509,
          -15.169225,
          -17.14825,
          -15.737015,
          -15.688897,
          -14.702396,
          -14.826545,
          -14.908613,
          -16.03768,
          -13.889206,
          -13.911479,
          -6.211784,
          -13.452504,
          -13.9196825,
          -14.274196,
          -13.885716
         ],
         "z": [
          0.514042,
          0.0800233,
          -1.8302311,
          -2.0010178,
          -2.2176483,
          -2.491981,
          -2.5341241,
          -1.8296229,
          -2.042713,
          -2.076432,
          -1.7964318,
          -2.0376754,
          -2.2009323,
          1.2725873,
          -0.90932196,
          -0.9105172,
          -5.899904,
          -4.246258,
          -3.9580023,
          -3.7901216,
          -2.9551322
         ]
        },
        {
         "customdata": [
          [
           "Emergencia"
          ],
          [
           "Emergencia"
          ],
          [
           "Emergencia"
          ],
          [
           "Emergencia"
          ],
          [
           "Emergencia"
          ],
          [
           "Emergencia"
          ],
          [
           "Emergencia"
          ],
          [
           "Emergencia"
          ],
          [
           "Emergencia"
          ],
          [
           "Emergencia"
          ],
          [
           "Emergencia"
          ],
          [
           "Emergencia"
          ],
          [
           "Emergencia"
          ],
          [
           "Emergencia"
          ],
          [
           "Emergencia"
          ],
          [
           "Emergencia"
          ],
          [
           "Emergencia"
          ],
          [
           "Emergencia"
          ],
          [
           "Emergencia"
          ],
          [
           "Emergencia"
          ],
          [
           "Emergencia"
          ],
          [
           "Emergencia"
          ],
          [
           "Emergencia"
          ],
          [
           "Emergencia"
          ],
          [
           "Emergencia"
          ],
          [
           "Emergencia"
          ],
          [
           "Emergencia"
          ],
          [
           "Emergencia"
          ],
          [
           "Emergencia"
          ],
          [
           "Emergencia"
          ],
          [
           "Emergencia"
          ],
          [
           "Emergencia"
          ],
          [
           "Emergencia"
          ],
          [
           "Emergencia"
          ],
          [
           "Emergencia"
          ],
          [
           "Emergencia"
          ],
          [
           "Emergencia"
          ],
          [
           "Emergencia"
          ],
          [
           "Emergencia"
          ],
          [
           "Emergencia"
          ],
          [
           "Emergencia"
          ],
          [
           "Emergencia"
          ],
          [
           "Emergencia"
          ],
          [
           "Emergencia"
          ],
          [
           "Emergencia"
          ],
          [
           "Emergencia"
          ],
          [
           "Emergencia"
          ],
          [
           "Emergencia"
          ],
          [
           "Emergencia"
          ],
          [
           "Emergencia"
          ],
          [
           "Emergencia"
          ],
          [
           "Emergencia"
          ],
          [
           "Emergencia"
          ],
          [
           "Emergencia"
          ],
          [
           "Emergencia"
          ],
          [
           "Emergencia"
          ],
          [
           "Emergencia"
          ],
          [
           "Emergencia"
          ],
          [
           "Emergencia"
          ],
          [
           "Emergencia"
          ],
          [
           "Emergencia"
          ],
          [
           "Emergencia"
          ],
          [
           "Emergencia"
          ],
          [
           "Emergencia"
          ],
          [
           "Emergencia"
          ],
          [
           "Emergencia"
          ],
          [
           "Emergencia"
          ],
          [
           "Emergencia"
          ],
          [
           "Emergencia"
          ],
          [
           "Emergencia"
          ],
          [
           "Emergencia"
          ],
          [
           "Emergencia"
          ],
          [
           "Emergencia"
          ],
          [
           "Emergencia"
          ],
          [
           "Emergencia"
          ],
          [
           "Emergencia"
          ],
          [
           "Emergencia"
          ],
          [
           "Emergencia"
          ],
          [
           "Emergencia"
          ],
          [
           "Emergencia"
          ],
          [
           "Emergencia"
          ],
          [
           "Emergencia"
          ],
          [
           "Emergencia"
          ],
          [
           "Emergencia"
          ],
          [
           "Emergencia"
          ],
          [
           "Emergencia"
          ],
          [
           "Emergencia"
          ],
          [
           "Emergencia"
          ],
          [
           "Emergencia"
          ],
          [
           "Emergencia"
          ],
          [
           "Emergencia"
          ],
          [
           "Emergencia"
          ],
          [
           "Emergencia"
          ],
          [
           "Emergencia"
          ],
          [
           "Emergencia"
          ],
          [
           "Emergencia"
          ],
          [
           "Emergencia"
          ],
          [
           "Emergencia"
          ],
          [
           "Emergencia"
          ],
          [
           "Emergencia"
          ],
          [
           "Emergencia"
          ],
          [
           "Emergencia"
          ],
          [
           "Emergencia"
          ],
          [
           "Emergencia"
          ],
          [
           "Emergencia"
          ]
         ],
         "hovertemplate": "color=Emergencia<br>t-SNE Component 1=%{x}<br>t-SNE Component 2=%{y}<br>t-SNE Component 3=%{z}<br>label=%{customdata[0]}<extra></extra>",
         "legendgroup": "Emergencia",
         "marker": {
          "color": "#19d3f3",
          "symbol": "circle"
         },
         "mode": "markers",
         "name": "Emergencia",
         "scene": "scene",
         "showlegend": true,
         "type": "scatter3d",
         "x": [
          -0.98315793,
          -19.318218,
          -19.279844,
          -18.03003,
          -17.687782,
          -18.077824,
          -18.03367,
          -18.900347,
          -19.510845,
          -19.821268,
          -19.556376,
          -20.063358,
          -19.872702,
          -19.186468,
          -18.276632,
          -17.705513,
          -17.09946,
          -17.661512,
          -18.57204,
          -19.270273,
          -19.569386,
          -20.595724,
          -20.438887,
          -21.00611,
          -19.651772,
          -14.424624,
          -14.651902,
          -14.988421,
          -12.44389,
          -12.852024,
          -13.264451,
          -12.5719595,
          -10.82809,
          -10.329571,
          -10.686755,
          -9.946042,
          -9.802804,
          -10.7263365,
          -11.562311,
          -11.784479,
          -16.800486,
          -13.462257,
          -13.349695,
          -12.437069,
          -12.567246,
          -12.64181,
          -13.190979,
          -13.321166,
          -14.336106,
          -14.108358,
          -14.717333,
          -14.744085,
          -14.948453,
          -14.989378,
          -13.766186,
          -12.671648,
          -12.542832,
          -12.808664,
          -13.939762,
          -14.406722,
          -15.02914,
          -18.39804,
          -18.106833,
          -16.809006,
          -17.033937,
          -16.969131,
          -16.293686,
          -13.404154,
          -14.181586,
          -12.106604,
          -12.440385,
          -13.242551,
          -13.608812,
          -14.045313,
          -13.907502,
          -11.835351,
          -11.646244,
          -11.34359,
          -20.25341,
          -15.467968,
          -15.298356,
          -10.093981,
          -10.063635,
          -10.207603,
          -10.387907,
          -11.079029,
          -11.485504,
          -11.458558,
          -16.036268,
          -12.190111,
          -11.769502,
          -14.799775,
          -14.364098,
          -13.357613,
          -16.994627,
          -17.253437,
          -14.544738,
          -13.639363,
          -14.027058,
          -15.990667,
          -13.63276,
          -14.425987,
          -15.039181,
          -16.140205,
          -15.226978
         ],
         "y": [
          -13.49511,
          -2.3660386,
          -1.9608108,
          5.1923804,
          2.183124,
          1.3990663,
          0.6007313,
          0.13238496,
          0.9481571,
          1.5345268,
          2.6709895,
          2.4876385,
          -3.1527395,
          -0.921886,
          -0.5269187,
          -0.34959227,
          0.2836236,
          0.8548134,
          0.9554831,
          0.6703646,
          1.4982334,
          0.7506879,
          1.5888246,
          1.9845251,
          -0.7112936,
          6.1940026,
          6.1101084,
          5.873926,
          7.9846983,
          7.552808,
          7.187066,
          13.270254,
          6.8896217,
          7.455275,
          7.884457,
          8.658586,
          9.399562,
          9.547841,
          9.744399,
          10.042581,
          6.5515404,
          10.265231,
          11.10216,
          4.075601,
          3.9914508,
          3.136163,
          2.3469052,
          3.0140965,
          2.465465,
          3.5729146,
          3.0891864,
          2.8501115,
          2.1176333,
          1.572351,
          11.589985,
          10.873253,
          11.314543,
          12.148581,
          11.640608,
          11.470617,
          11.549815,
          3.970494,
          4.2368383,
          6.058075,
          5.398461,
          4.82104,
          3.6914337,
          12.424281,
          10.011153,
          9.245026,
          8.667569,
          8.426341,
          8.128552,
          7.22125,
          6.591802,
          6.078516,
          5.9700346,
          6.087156,
          -0.38430655,
          4.9826174,
          5.3291993,
          8.711148,
          8.9281435,
          10.313391,
          11.411929,
          12.169567,
          11.788502,
          11.461804,
          3.7474744,
          10.074664,
          10.723951,
          8.326514,
          9.186501,
          10.738443,
          4.4188743,
          3.6866343,
          4.547579,
          11.122372,
          10.646417,
          3.9411387,
          12.4211235,
          12.247176,
          10.923174,
          1.2910875,
          11.022446
         ],
         "z": [
          -0.50408554,
          -1.1183008,
          -0.9077053,
          -1.7338959,
          -0.49775785,
          -0.68267643,
          -1.2673098,
          -1.3303605,
          -1.2549498,
          -1.8815143,
          -1.8866651,
          -1.3569503,
          -1.060888,
          0.76290554,
          0.42920667,
          1.3757883,
          0.7359397,
          1.2311435,
          1.4309413,
          0.7394912,
          0.5714017,
          1.0279403,
          1.5991341,
          0.9558251,
          2.4290547,
          -2.6595852,
          -2.8922243,
          -3.330358,
          0.60593873,
          0.14391927,
          -0.19100302,
          3.4409893,
          -0.94636476,
          -0.59442705,
          -1.1477005,
          -0.49560225,
          -1.0483017,
          -0.65653914,
          -1.0308472,
          -0.5440484,
          -0.23732117,
          3.2134867,
          3.2863734,
          -0.21305744,
          -0.84651554,
          -0.95701045,
          -1.4184965,
          -2.203368,
          -1.8921293,
          -1.4982537,
          -1.0614988,
          -0.16663699,
          0.28825927,
          0.73218143,
          -0.62336653,
          4.906101,
          5.5833616,
          4.8940134,
          5.353727,
          6.1250105,
          5.790327,
          0.36079112,
          0.5972918,
          1.5552175,
          1.222005,
          1.0572418,
          1.0572008,
          1.1568123,
          4.1089315,
          4.0521827,
          3.5263948,
          3.795159,
          4.4936433,
          4.4842143,
          4.5095816,
          3.8565688,
          3.4115012,
          3.120476,
          -0.51479024,
          -0.2351293,
          -0.1598688,
          2.7059584,
          2.8519166,
          3.5358303,
          3.7215998,
          3.4949954,
          2.6873322,
          1.8368989,
          2.2406857,
          2.2663517,
          2.816551,
          2.0320501,
          2.27328,
          -0.47899696,
          -1.5798097,
          -1.5988419,
          1.2638525,
          1.7833412,
          0.9784651,
          2.3142843,
          3.1171656,
          2.9938471,
          2.535764,
          -1.6608764,
          3.3331056
         ]
        },
        {
         "customdata": [
          [
           "Question: ¿Cómo se diferencia la ubicación física de la operativa?<br>Closest Model: Emergencia<br>Similarity: 0.61<br>Chunk: de respuesta organizada y operativa a través del  adiestramiento práctico.  Los objetivos del simula..."
          ],
          [
           "Question: ¿Qué información se incluye en el informe de la evaluación de riesgos que ofrece la plataforma y cuál es su utilidad para la gestión de riesgos en la empresa?<br>Closest Model: Emergencia<br>Similarity: 0.90<br>Chunk: Este formulario permite realizar guardados parciales en la evaluación, por lo que se muestra  en una..."
          ],
          [
           "Question: ¿Hay indicadores relativos al cumplimiento de normas?<br>Closest Model: Auditorias<br>Similarity: 0.34<br>Chunk: 5. PLANIFICACIÓN Y EJECUCIÓN DE MEDIDAS  El usuario accede al cardboard “Planificación y ejecución d..."
          ],
          [
           "Question: ¿Qué papel juega la estructura organizativa en la funcionalidad general de la plataforma y cómo interactúa con otros módulos?<br>Closest Model: Auditorias<br>Similarity: 0.38<br>Chunk: GRÁFICA DE RESULTADOS  En la pestaña “Gráficas de resultados” se muestran dos tipos de gráficas. La ..."
          ],
          [
           "Question: ¿Qué permite realizar la evaluación de riesgos?<br>Closest Model: Emergencia<br>Similarity: 0.96<br>Chunk: 19  Al clicar a la acción Evaluar del listado, el usuario es redirigido al formulario de evaluación ..."
          ],
          [
           "Question: ¿Qué tipo de documentos se pueden almacenar y compartir en el espacio denominado 'Documentos' y cuál es su importancia dentro del contexto de la gestión empresarial en la plataforma?<br>Closest Model: Emergencia<br>Similarity: 0.88<br>Chunk: visualiza una serie de cuestionarios relativos al proceso de comunicación, proceso de  evacuación y ..."
          ],
          [
           "Question: ¿Se pueden llevar a cabo auditorías internas?<br>Closest Model: Emergencia<br>Similarity: 0.90<br>Chunk: visualiza una serie de cuestionarios relativos al proceso de comunicación, proceso de  evacuación y ..."
          ],
          [
           "Question: ¿Cuál es la tasa de adopción de esta plataforma en el mercado?<br>Closest Model: Auditorias<br>Similarity: 0.38<br>Chunk: GRÁFICA DE RESULTADOS  En la pestaña “Gráficas de resultados” se muestran dos tipos de gráficas. La ..."
          ],
          [
           "Question: ¿Cómo se compara esta plataforma con otras soluciones de gestión de SST?<br>Closest Model: Emergencia<br>Similarity: 0.79<br>Chunk: Sabentis es la nueva plataforma de gestión especializada en el ámbito de Seguridad y Salud en  el Tr..."
          ],
          [
           "Question: ¿Qué día hará mañana?<br>Closest Model: Emergencia<br>Similarity: 0.38<br>Chunk: de emergencia sin previo aviso y en cualquier momento del día para  comprobar el resultado de la par..."
          ]
         ],
         "hovertemplate": "color=Question<br>t-SNE Component 1=%{x}<br>t-SNE Component 2=%{y}<br>t-SNE Component 3=%{z}<br>label=%{customdata[0]}<extra></extra>",
         "legendgroup": "Question",
         "marker": {
          "color": "#FF6692",
          "symbol": "circle"
         },
         "mode": "markers",
         "name": "Question",
         "scene": "scene",
         "showlegend": true,
         "type": "scatter3d",
         "x": [
          -21.999874,
          -17.346928,
          3.8987994,
          -6.394334,
          -10.335744,
          -18.503168,
          -16.708303,
          -6.394334,
          -17.249226,
          -0.7223043
         ],
         "y": [
          1.2552997,
          -2.1296184,
          -9.381978,
          -14.004857,
          6.4959927,
          -0.99723524,
          3.0048926,
          -14.004857,
          -2.445242,
          -13.037649
         ],
         "z": [
          -0.42151898,
          -0.903176,
          -2.6874583,
          5.7877393,
          4.6079655,
          -3.097092,
          -3.2225966,
          5.7877393,
          -2.101143,
          5.1400166
         ]
        },
        {
         "mode": "markers+text",
         "showlegend": false,
         "text": "Q1",
         "textposition": "top center",
         "type": "scatter3d",
         "x": [
          -21.999874114990234
         ],
         "y": [
          1.255299687385559
         ],
         "z": [
          -0.4215189814567566
         ]
        },
        {
         "mode": "markers+text",
         "showlegend": false,
         "text": "Q2",
         "textposition": "top center",
         "type": "scatter3d",
         "x": [
          -17.346927642822266
         ],
         "y": [
          -2.1296184062957764
         ],
         "z": [
          -0.9031760096549988
         ]
        },
        {
         "mode": "markers+text",
         "showlegend": false,
         "text": "Q3",
         "textposition": "top center",
         "type": "scatter3d",
         "x": [
          3.898799419403076
         ],
         "y": [
          -9.381978034973145
         ],
         "z": [
          -2.6874582767486572
         ]
        },
        {
         "mode": "markers+text",
         "showlegend": false,
         "text": "Q4",
         "textposition": "top center",
         "type": "scatter3d",
         "x": [
          -6.394333839416504
         ],
         "y": [
          -14.004857063293457
         ],
         "z": [
          5.787739276885986
         ]
        },
        {
         "mode": "markers+text",
         "showlegend": false,
         "text": "Q5",
         "textposition": "top center",
         "type": "scatter3d",
         "x": [
          -10.33574390411377
         ],
         "y": [
          6.495992660522461
         ],
         "z": [
          4.607965469360352
         ]
        },
        {
         "mode": "markers+text",
         "showlegend": false,
         "text": "Q6",
         "textposition": "top center",
         "type": "scatter3d",
         "x": [
          -18.5031681060791
         ],
         "y": [
          -0.9972352385520935
         ],
         "z": [
          -3.0970919132232666
         ]
        },
        {
         "mode": "markers+text",
         "showlegend": false,
         "text": "Q7",
         "textposition": "top center",
         "type": "scatter3d",
         "x": [
          -16.708303451538086
         ],
         "y": [
          3.004892587661743
         ],
         "z": [
          -3.2225966453552246
         ]
        },
        {
         "mode": "markers+text",
         "showlegend": false,
         "text": "Q8",
         "textposition": "top center",
         "type": "scatter3d",
         "x": [
          -6.394333839416504
         ],
         "y": [
          -14.004857063293457
         ],
         "z": [
          5.787739276885986
         ]
        },
        {
         "mode": "markers+text",
         "showlegend": false,
         "text": "Q9",
         "textposition": "top center",
         "type": "scatter3d",
         "x": [
          -17.249225616455078
         ],
         "y": [
          -2.445241928100586
         ],
         "z": [
          -2.1011428833007812
         ]
        },
        {
         "mode": "markers+text",
         "showlegend": false,
         "text": "Q10",
         "textposition": "top center",
         "type": "scatter3d",
         "x": [
          -0.7223042845726013
         ],
         "y": [
          -13.037649154663086
         ],
         "z": [
          5.140016555786133
         ]
        }
       ],
       "layout": {
        "legend": {
         "title": {
          "text": "color"
         },
         "tracegroupgap": 0
        },
        "scene": {
         "domain": {
          "x": [
           0,
           1
          ],
          "y": [
           0,
           1
          ]
         },
         "xaxis": {
          "title": {
           "text": "t-SNE Component 1"
          }
         },
         "yaxis": {
          "title": {
           "text": "t-SNE Component 2"
          }
         },
         "zaxis": {
          "title": {
           "text": "t-SNE Component 3"
          }
         }
        },
        "template": {
         "data": {
          "bar": [
           {
            "error_x": {
             "color": "#2a3f5f"
            },
            "error_y": {
             "color": "#2a3f5f"
            },
            "marker": {
             "line": {
              "color": "#E5ECF6",
              "width": 0.5
             },
             "pattern": {
              "fillmode": "overlay",
              "size": 10,
              "solidity": 0.2
             }
            },
            "type": "bar"
           }
          ],
          "barpolar": [
           {
            "marker": {
             "line": {
              "color": "#E5ECF6",
              "width": 0.5
             },
             "pattern": {
              "fillmode": "overlay",
              "size": 10,
              "solidity": 0.2
             }
            },
            "type": "barpolar"
           }
          ],
          "carpet": [
           {
            "aaxis": {
             "endlinecolor": "#2a3f5f",
             "gridcolor": "white",
             "linecolor": "white",
             "minorgridcolor": "white",
             "startlinecolor": "#2a3f5f"
            },
            "baxis": {
             "endlinecolor": "#2a3f5f",
             "gridcolor": "white",
             "linecolor": "white",
             "minorgridcolor": "white",
             "startlinecolor": "#2a3f5f"
            },
            "type": "carpet"
           }
          ],
          "choropleth": [
           {
            "colorbar": {
             "outlinewidth": 0,
             "ticks": ""
            },
            "type": "choropleth"
           }
          ],
          "contour": [
           {
            "colorbar": {
             "outlinewidth": 0,
             "ticks": ""
            },
            "colorscale": [
             [
              0,
              "#0d0887"
             ],
             [
              0.1111111111111111,
              "#46039f"
             ],
             [
              0.2222222222222222,
              "#7201a8"
             ],
             [
              0.3333333333333333,
              "#9c179e"
             ],
             [
              0.4444444444444444,
              "#bd3786"
             ],
             [
              0.5555555555555556,
              "#d8576b"
             ],
             [
              0.6666666666666666,
              "#ed7953"
             ],
             [
              0.7777777777777778,
              "#fb9f3a"
             ],
             [
              0.8888888888888888,
              "#fdca26"
             ],
             [
              1,
              "#f0f921"
             ]
            ],
            "type": "contour"
           }
          ],
          "contourcarpet": [
           {
            "colorbar": {
             "outlinewidth": 0,
             "ticks": ""
            },
            "type": "contourcarpet"
           }
          ],
          "heatmap": [
           {
            "colorbar": {
             "outlinewidth": 0,
             "ticks": ""
            },
            "colorscale": [
             [
              0,
              "#0d0887"
             ],
             [
              0.1111111111111111,
              "#46039f"
             ],
             [
              0.2222222222222222,
              "#7201a8"
             ],
             [
              0.3333333333333333,
              "#9c179e"
             ],
             [
              0.4444444444444444,
              "#bd3786"
             ],
             [
              0.5555555555555556,
              "#d8576b"
             ],
             [
              0.6666666666666666,
              "#ed7953"
             ],
             [
              0.7777777777777778,
              "#fb9f3a"
             ],
             [
              0.8888888888888888,
              "#fdca26"
             ],
             [
              1,
              "#f0f921"
             ]
            ],
            "type": "heatmap"
           }
          ],
          "heatmapgl": [
           {
            "colorbar": {
             "outlinewidth": 0,
             "ticks": ""
            },
            "colorscale": [
             [
              0,
              "#0d0887"
             ],
             [
              0.1111111111111111,
              "#46039f"
             ],
             [
              0.2222222222222222,
              "#7201a8"
             ],
             [
              0.3333333333333333,
              "#9c179e"
             ],
             [
              0.4444444444444444,
              "#bd3786"
             ],
             [
              0.5555555555555556,
              "#d8576b"
             ],
             [
              0.6666666666666666,
              "#ed7953"
             ],
             [
              0.7777777777777778,
              "#fb9f3a"
             ],
             [
              0.8888888888888888,
              "#fdca26"
             ],
             [
              1,
              "#f0f921"
             ]
            ],
            "type": "heatmapgl"
           }
          ],
          "histogram": [
           {
            "marker": {
             "pattern": {
              "fillmode": "overlay",
              "size": 10,
              "solidity": 0.2
             }
            },
            "type": "histogram"
           }
          ],
          "histogram2d": [
           {
            "colorbar": {
             "outlinewidth": 0,
             "ticks": ""
            },
            "colorscale": [
             [
              0,
              "#0d0887"
             ],
             [
              0.1111111111111111,
              "#46039f"
             ],
             [
              0.2222222222222222,
              "#7201a8"
             ],
             [
              0.3333333333333333,
              "#9c179e"
             ],
             [
              0.4444444444444444,
              "#bd3786"
             ],
             [
              0.5555555555555556,
              "#d8576b"
             ],
             [
              0.6666666666666666,
              "#ed7953"
             ],
             [
              0.7777777777777778,
              "#fb9f3a"
             ],
             [
              0.8888888888888888,
              "#fdca26"
             ],
             [
              1,
              "#f0f921"
             ]
            ],
            "type": "histogram2d"
           }
          ],
          "histogram2dcontour": [
           {
            "colorbar": {
             "outlinewidth": 0,
             "ticks": ""
            },
            "colorscale": [
             [
              0,
              "#0d0887"
             ],
             [
              0.1111111111111111,
              "#46039f"
             ],
             [
              0.2222222222222222,
              "#7201a8"
             ],
             [
              0.3333333333333333,
              "#9c179e"
             ],
             [
              0.4444444444444444,
              "#bd3786"
             ],
             [
              0.5555555555555556,
              "#d8576b"
             ],
             [
              0.6666666666666666,
              "#ed7953"
             ],
             [
              0.7777777777777778,
              "#fb9f3a"
             ],
             [
              0.8888888888888888,
              "#fdca26"
             ],
             [
              1,
              "#f0f921"
             ]
            ],
            "type": "histogram2dcontour"
           }
          ],
          "mesh3d": [
           {
            "colorbar": {
             "outlinewidth": 0,
             "ticks": ""
            },
            "type": "mesh3d"
           }
          ],
          "parcoords": [
           {
            "line": {
             "colorbar": {
              "outlinewidth": 0,
              "ticks": ""
             }
            },
            "type": "parcoords"
           }
          ],
          "pie": [
           {
            "automargin": true,
            "type": "pie"
           }
          ],
          "scatter": [
           {
            "fillpattern": {
             "fillmode": "overlay",
             "size": 10,
             "solidity": 0.2
            },
            "type": "scatter"
           }
          ],
          "scatter3d": [
           {
            "line": {
             "colorbar": {
              "outlinewidth": 0,
              "ticks": ""
             }
            },
            "marker": {
             "colorbar": {
              "outlinewidth": 0,
              "ticks": ""
             }
            },
            "type": "scatter3d"
           }
          ],
          "scattercarpet": [
           {
            "marker": {
             "colorbar": {
              "outlinewidth": 0,
              "ticks": ""
             }
            },
            "type": "scattercarpet"
           }
          ],
          "scattergeo": [
           {
            "marker": {
             "colorbar": {
              "outlinewidth": 0,
              "ticks": ""
             }
            },
            "type": "scattergeo"
           }
          ],
          "scattergl": [
           {
            "marker": {
             "colorbar": {
              "outlinewidth": 0,
              "ticks": ""
             }
            },
            "type": "scattergl"
           }
          ],
          "scattermapbox": [
           {
            "marker": {
             "colorbar": {
              "outlinewidth": 0,
              "ticks": ""
             }
            },
            "type": "scattermapbox"
           }
          ],
          "scatterpolar": [
           {
            "marker": {
             "colorbar": {
              "outlinewidth": 0,
              "ticks": ""
             }
            },
            "type": "scatterpolar"
           }
          ],
          "scatterpolargl": [
           {
            "marker": {
             "colorbar": {
              "outlinewidth": 0,
              "ticks": ""
             }
            },
            "type": "scatterpolargl"
           }
          ],
          "scatterternary": [
           {
            "marker": {
             "colorbar": {
              "outlinewidth": 0,
              "ticks": ""
             }
            },
            "type": "scatterternary"
           }
          ],
          "surface": [
           {
            "colorbar": {
             "outlinewidth": 0,
             "ticks": ""
            },
            "colorscale": [
             [
              0,
              "#0d0887"
             ],
             [
              0.1111111111111111,
              "#46039f"
             ],
             [
              0.2222222222222222,
              "#7201a8"
             ],
             [
              0.3333333333333333,
              "#9c179e"
             ],
             [
              0.4444444444444444,
              "#bd3786"
             ],
             [
              0.5555555555555556,
              "#d8576b"
             ],
             [
              0.6666666666666666,
              "#ed7953"
             ],
             [
              0.7777777777777778,
              "#fb9f3a"
             ],
             [
              0.8888888888888888,
              "#fdca26"
             ],
             [
              1,
              "#f0f921"
             ]
            ],
            "type": "surface"
           }
          ],
          "table": [
           {
            "cells": {
             "fill": {
              "color": "#EBF0F8"
             },
             "line": {
              "color": "white"
             }
            },
            "header": {
             "fill": {
              "color": "#C8D4E3"
             },
             "line": {
              "color": "white"
             }
            },
            "type": "table"
           }
          ]
         },
         "layout": {
          "annotationdefaults": {
           "arrowcolor": "#2a3f5f",
           "arrowhead": 0,
           "arrowwidth": 1
          },
          "autotypenumbers": "strict",
          "coloraxis": {
           "colorbar": {
            "outlinewidth": 0,
            "ticks": ""
           }
          },
          "colorscale": {
           "diverging": [
            [
             0,
             "#8e0152"
            ],
            [
             0.1,
             "#c51b7d"
            ],
            [
             0.2,
             "#de77ae"
            ],
            [
             0.3,
             "#f1b6da"
            ],
            [
             0.4,
             "#fde0ef"
            ],
            [
             0.5,
             "#f7f7f7"
            ],
            [
             0.6,
             "#e6f5d0"
            ],
            [
             0.7,
             "#b8e186"
            ],
            [
             0.8,
             "#7fbc41"
            ],
            [
             0.9,
             "#4d9221"
            ],
            [
             1,
             "#276419"
            ]
           ],
           "sequential": [
            [
             0,
             "#0d0887"
            ],
            [
             0.1111111111111111,
             "#46039f"
            ],
            [
             0.2222222222222222,
             "#7201a8"
            ],
            [
             0.3333333333333333,
             "#9c179e"
            ],
            [
             0.4444444444444444,
             "#bd3786"
            ],
            [
             0.5555555555555556,
             "#d8576b"
            ],
            [
             0.6666666666666666,
             "#ed7953"
            ],
            [
             0.7777777777777778,
             "#fb9f3a"
            ],
            [
             0.8888888888888888,
             "#fdca26"
            ],
            [
             1,
             "#f0f921"
            ]
           ],
           "sequentialminus": [
            [
             0,
             "#0d0887"
            ],
            [
             0.1111111111111111,
             "#46039f"
            ],
            [
             0.2222222222222222,
             "#7201a8"
            ],
            [
             0.3333333333333333,
             "#9c179e"
            ],
            [
             0.4444444444444444,
             "#bd3786"
            ],
            [
             0.5555555555555556,
             "#d8576b"
            ],
            [
             0.6666666666666666,
             "#ed7953"
            ],
            [
             0.7777777777777778,
             "#fb9f3a"
            ],
            [
             0.8888888888888888,
             "#fdca26"
            ],
            [
             1,
             "#f0f921"
            ]
           ]
          },
          "colorway": [
           "#636efa",
           "#EF553B",
           "#00cc96",
           "#ab63fa",
           "#FFA15A",
           "#19d3f3",
           "#FF6692",
           "#B6E880",
           "#FF97FF",
           "#FECB52"
          ],
          "font": {
           "color": "#2a3f5f"
          },
          "geo": {
           "bgcolor": "white",
           "lakecolor": "white",
           "landcolor": "#E5ECF6",
           "showlakes": true,
           "showland": true,
           "subunitcolor": "white"
          },
          "hoverlabel": {
           "align": "left"
          },
          "hovermode": "closest",
          "mapbox": {
           "style": "light"
          },
          "paper_bgcolor": "white",
          "plot_bgcolor": "#E5ECF6",
          "polar": {
           "angularaxis": {
            "gridcolor": "white",
            "linecolor": "white",
            "ticks": ""
           },
           "bgcolor": "#E5ECF6",
           "radialaxis": {
            "gridcolor": "white",
            "linecolor": "white",
            "ticks": ""
           }
          },
          "scene": {
           "xaxis": {
            "backgroundcolor": "#E5ECF6",
            "gridcolor": "white",
            "gridwidth": 2,
            "linecolor": "white",
            "showbackground": true,
            "ticks": "",
            "zerolinecolor": "white"
           },
           "yaxis": {
            "backgroundcolor": "#E5ECF6",
            "gridcolor": "white",
            "gridwidth": 2,
            "linecolor": "white",
            "showbackground": true,
            "ticks": "",
            "zerolinecolor": "white"
           },
           "zaxis": {
            "backgroundcolor": "#E5ECF6",
            "gridcolor": "white",
            "gridwidth": 2,
            "linecolor": "white",
            "showbackground": true,
            "ticks": "",
            "zerolinecolor": "white"
           }
          },
          "shapedefaults": {
           "line": {
            "color": "#2a3f5f"
           }
          },
          "ternary": {
           "aaxis": {
            "gridcolor": "white",
            "linecolor": "white",
            "ticks": ""
           },
           "baxis": {
            "gridcolor": "white",
            "linecolor": "white",
            "ticks": ""
           },
           "bgcolor": "#E5ECF6",
           "caxis": {
            "gridcolor": "white",
            "linecolor": "white",
            "ticks": ""
           }
          },
          "title": {
           "x": 0.05
          },
          "xaxis": {
           "automargin": true,
           "gridcolor": "white",
           "linecolor": "white",
           "ticks": "",
           "title": {
            "standoff": 15
           },
           "zerolinecolor": "white",
           "zerolinewidth": 2
          },
          "yaxis": {
           "automargin": true,
           "gridcolor": "white",
           "linecolor": "white",
           "ticks": "",
           "title": {
            "standoff": 15
           },
           "zerolinecolor": "white",
           "zerolinewidth": 2
          }
         }
        },
        "title": {
         "text": "Embeddings Visualization with 3D t-SNE"
        }
       }
      }
     },
     "metadata": {},
     "output_type": "display_data"
    }
   ],
   "source": [
    "# Collecting sentence embeddings for each model\n",
    "model_embeddings = []\n",
    "model_labels = []\n",
    "models_list = []\n",
    "\n",
    "for key, model in models.items():\n",
    "    for paragraph in model.original_paragraphs:\n",
    "        embedding = model._get_sentence_embedding(paragraph)\n",
    "        model_embeddings.append(embedding)\n",
    "        model_labels.append(key)\n",
    "    models_list.append(key)\n",
    "\n",
    "# Collecting embeddings for questions and finding the closest model for each question\n",
    "question_embeddings = []\n",
    "question_closest_models = []\n",
    "question_similarities = []\n",
    "question_closest_paragraphs = []\n",
    "\n",
    "for question in questions:\n",
    "    query_embedding = model._get_sentence_embedding(question)\n",
    "    question_embeddings.append(query_embedding)\n",
    "    \n",
    "    # Find the closest model\n",
    "    closest_model = None\n",
    "    highest_similarity = -1\n",
    "    closest_paragraph = \"\"\n",
    "    for model_name, model in models.items():\n",
    "        similarities = [\n",
    "            (model._cosine_similarity(query_embedding, model._get_sentence_embedding(paragraph)), paragraph)\n",
    "            for paragraph in model.original_paragraphs\n",
    "        ]\n",
    "        max_similarity, best_paragraph = max(similarities, key=lambda x: x[0])\n",
    "        if max_similarity > highest_similarity:\n",
    "            highest_similarity = max_similarity\n",
    "            closest_model = model_name\n",
    "            closest_paragraph = best_paragraph\n",
    "    \n",
    "    question_closest_models.append(closest_model)\n",
    "    question_similarities.append(highest_similarity)\n",
    "    question_closest_paragraphs.append(closest_paragraph)\n",
    "\n",
    "# Printing questions and their related data based on similarity\n",
    "for question, closest_model, similarity in zip(questions, question_closest_models, question_similarities):\n",
    "    if similarity > 0.75:\n",
    "        print(f\"Question: {question}\")\n",
    "        print(f\"Closest Model: {closest_model}\")\n",
    "        print(f\"Similarity: {similarity:.2f}\")\n",
    "        print()\n",
    "    else:\n",
    "        print(f\"'{question}' does not have enough similarity\")\n",
    "\n",
    "# Combining model embeddings and question embeddings\n",
    "all_embeddings = np.array(model_embeddings + question_embeddings)\n",
    "labels = model_labels + [\"Question\"] * len(questions)\n",
    "hover_texts = model_labels + [\n",
    "    f\"Question: {question}<br>Closest Model: {closest_model}<br>Similarity: {similarity:.2f}<br>Chunk: {closest_paragraph[:100]}...\"\n",
    "    for question, closest_model, similarity, closest_paragraph in zip(questions, question_closest_models, question_similarities, question_closest_paragraphs)\n",
    "]\n",
    "\n",
    "# Reducing dimensionality using PCA for 2D and 3D plots\n",
    "pca_2d = PCA(n_components=2)\n",
    "pca_2d_result = pca_2d.fit_transform(all_embeddings)\n",
    "\n",
    "pca_3d = PCA(n_components=3)\n",
    "pca_3d_result = pca_3d.fit_transform(all_embeddings)\n",
    "\n",
    "# Reducing dimensionality using t-SNE for 2D and 3D plots\n",
    "tsne_2d = TSNE(n_components=2, random_state=42)\n",
    "tsne_2d_result = tsne_2d.fit_transform(all_embeddings)\n",
    "\n",
    "tsne_3d = TSNE(n_components=3, random_state=42)\n",
    "tsne_3d_result = tsne_3d.fit_transform(all_embeddings)\n",
    "\n",
    "# Plotting with 2D PCA\n",
    "fig_pca = px.scatter(\n",
    "    x=pca_2d_result[:, 0], \n",
    "    y=pca_2d_result[:, 1], \n",
    "    color=labels, \n",
    "    hover_data={'label': hover_texts},\n",
    "    labels={'x': 'PCA Component 1', 'y': 'PCA Component 2'},\n",
    "    title=\"Embeddings Visualization with 2D PCA\"\n",
    ")\n",
    "\n",
    "# Adding annotations for questions in 2D PCA plot\n",
    "for i, question in enumerate(questions):\n",
    "    fig_pca.add_annotation(\n",
    "        x=pca_2d_result[len(model_embeddings) + i, 0], \n",
    "        y=pca_2d_result[len(model_embeddings) + i, 1], \n",
    "        text=f\"Q{i+1}\", \n",
    "        showarrow=True,\n",
    "        arrowhead=2\n",
    "    )\n",
    "\n",
    "# Plotting with 2D t-SNE\n",
    "fig_tsne = px.scatter(\n",
    "    x=tsne_2d_result[:, 0], \n",
    "    y=tsne_2d_result[:, 1], \n",
    "    color=labels, \n",
    "    hover_data={'label': hover_texts},\n",
    "    labels={'x': 't-SNE Component 1', 'y': 't-SNE Component 2'},\n",
    "    title=\"Embeddings Visualization with 2D t-SNE\"\n",
    ")\n",
    "\n",
    "# Adding annotations for questions in 2D t-SNE plot\n",
    "for i, question in enumerate(questions):\n",
    "    fig_tsne.add_annotation(\n",
    "        x=tsne_2d_result[len(model_embeddings) + i, 0], \n",
    "        y=tsne_2d_result[len(model_embeddings) + i, 1], \n",
    "        text=f\"Q{i+1}\", \n",
    "        showarrow=True,\n",
    "        arrowhead=2\n",
    "    )\n",
    "\n",
    "# Plotting with 3D PCA\n",
    "fig_pca_3d = px.scatter_3d(\n",
    "    x=pca_3d_result[:, 0], \n",
    "    y=pca_3d_result[:, 1], \n",
    "    z=pca_3d_result[:, 2], \n",
    "    color=labels, \n",
    "    hover_data={'label': hover_texts},\n",
    "    labels={'x': 'PCA Component 1', 'y': 'PCA Component 2', 'z': 'PCA Component 3'},\n",
    "    title=\"Embeddings Visualization with 3D PCA\"\n",
    ")\n",
    "\n",
    "# Adding annotations for questions in 3D PCA plot\n",
    "for i, question in enumerate(questions):\n",
    "    fig_pca_3d.add_trace(go.Scatter3d(\n",
    "        x=[pca_3d_result[len(model_embeddings) + i, 0]],\n",
    "        y=[pca_3d_result[len(model_embeddings) + i, 1]],\n",
    "        z=[pca_3d_result[len(model_embeddings) + i, 2]],\n",
    "        text=f\"Q{i+1}\",\n",
    "        mode='markers+text',\n",
    "        textposition='top center',\n",
    "        showlegend=False\n",
    "    ))\n",
    "\n",
    "# Plotting with 3D t-SNE\n",
    "fig_tsne_3d = px.scatter_3d(\n",
    "    x=tsne_3d_result[:, 0], \n",
    "    y=tsne_3d_result[:, 1], \n",
    "    z=tsne_3d_result[:, 2], \n",
    "    color=labels, \n",
    "    hover_data={'label': hover_texts},\n",
    "    labels={'x': 't-SNE Component 1', 'y': 't-SNE Component 2', 'z': 't-SNE Component 3'},\n",
    "    title=\"Embeddings Visualization with 3D t-SNE\"\n",
    ")\n",
    "\n",
    "# Adding annotations for questions in 3D t-SNE plot\n",
    "for i, question in enumerate(questions):\n",
    "    fig_tsne_3d.add_trace(go.Scatter3d(\n",
    "        x=[tsne_3d_result[len(model_embeddings) + i, 0]],\n",
    "        y=[tsne_3d_result[len(model_embeddings) + i, 1]],\n",
    "        z=[tsne_3d_result[len(model_embeddings) + i, 2]],\n",
    "        text=f\"Q{i+1}\",\n",
    "        mode='markers+text',\n",
    "        textposition='top center',\n",
    "        showlegend=False\n",
    "    ))\n",
    "\n",
    "# Show plots\n",
    "fig_pca.show()\n",
    "fig_tsne.show()\n",
    "fig_pca_3d.show()\n",
    "fig_tsne_3d.show()\n"
   ]
  },
  {
   "cell_type": "markdown",
   "metadata": {},
   "source": [
    "# Conclusiones de la visualización:\n",
    "\n",
    "Las visualizaciones utilizando tanto PCA como t-SNE muestran que los clusters de las categorías están bastante cerca uno del otro. A pesar de que las preguntas parecen tener buenos valores de similitud, al analizar las respuestas obtenidas, observamos que no tienen mucho sentido en relación a las preguntas planteadas."
   ]
  },
  {
   "cell_type": "markdown",
   "metadata": {},
   "source": []
  },
  {
   "cell_type": "code",
   "execution_count": 3,
   "metadata": {},
   "outputs": [],
   "source": [
    "# !MARK: - Classes\n",
    "\n",
    "class PretrainedModel(Model):\n",
    "    def __init__(self, original_paragraphs, language='spanish', model_path='sbw_vectors.bin'):\n",
    "        super().__init__(original_paragraphs, [], language)\n",
    "        self.model = self._load_pretrained_model(model_path)\n",
    "\n",
    "    def _load_pretrained_model(self, model_path):\n",
    "        if os.path.exists(model_path):\n",
    "            return KeyedVectors.load_word2vec_format(model_path, binary=True)\n",
    "        else:\n",
    "            raise FileNotFoundError(f\"El modelo preentrenado no se encuentra en la ruta: {model_path}\")\n",
    "\n",
    "    def predict(self, query, similarity_threshold):\n",
    "        query_embedding = self._get_sentence_embedding_pretrained(query)\n",
    "        similarities = [(self._cosine_similarity(query_embedding, self._get_sentence_embedding_pretrained(' '.join(TextUtils.clean_and_tokenize(para, self.language)))), para) for para in self.original_paragraphs]\n",
    "        filtered_and_sorted = sorted([sim for sim in similarities if sim[0] > similarity_threshold], key=lambda x: x[0], reverse=True)\n",
    "        return filtered_and_sorted\n",
    "\n",
    "    def _get_sentence_embedding_pretrained(self, sentence):\n",
    "        words = TextUtils.clean_and_tokenize(sentence, self.language)\n",
    "        word_vectors = [self.model[word] for word in words if word in self.model]\n",
    "        if len(word_vectors) == 0:\n",
    "            return np.zeros(self.model.vector_size)\n",
    "        return np.mean(word_vectors, axis=0)\n",
    "\n",
    "# !MARK: - Model Initialization\n",
    "\n",
    "models = {}\n",
    "\n",
    "for key, path in file_paths.items():\n",
    "    with open(path, 'r') as file:\n",
    "        file_contents[key] = file.read().split('\\n\\n')\n",
    "    models[key] = PretrainedModel(file_contents[key])"
   ]
  },
  {
   "cell_type": "code",
   "execution_count": 4,
   "metadata": {},
   "outputs": [
    {
     "name": "stdout",
     "output_type": "stream",
     "text": [
      "Question: ¿Cómo se diferencia la ubicación física de la operativa?\n",
      "Closest Model: Riesgos\n",
      "Similarity: 0.78\n",
      "\n",
      "Question: ¿Qué información se incluye en el informe de la evaluación de riesgos que ofrece la plataforma y cuál es su utilidad para la gestión de riesgos en la empresa?\n",
      "Closest Model: Riesgos\n",
      "Similarity: 0.89\n",
      "\n",
      "'¿Hay indicadores relativos al cumplimiento de normas?' does not have enough similarity\n",
      "Question: ¿Qué papel juega la estructura organizativa en la funcionalidad general de la plataforma y cómo interactúa con otros módulos?\n",
      "Closest Model: Estructura Organizativa\n",
      "Similarity: 0.87\n",
      "\n",
      "Question: ¿Qué permite realizar la evaluación de riesgos?\n",
      "Closest Model: Riesgos\n",
      "Similarity: 0.85\n",
      "\n",
      "Question: ¿Qué tipo de documentos se pueden almacenar y compartir en el espacio denominado 'Documentos' y cuál es su importancia dentro del contexto de la gestión empresarial en la plataforma?\n",
      "Closest Model: Información\n",
      "Similarity: 0.88\n",
      "\n",
      "Question: ¿Se pueden llevar a cabo auditorías internas?\n",
      "Closest Model: Emergencia\n",
      "Similarity: 0.78\n",
      "\n",
      "'¿Cuál es la tasa de adopción de esta plataforma en el mercado?' does not have enough similarity\n",
      "Question: ¿Cómo se compara esta plataforma con otras soluciones de gestión de SST?\n",
      "Closest Model: Estructura Organizativa\n",
      "Similarity: 0.82\n",
      "\n",
      "'¿Qué día hará mañana?' does not have enough similarity\n"
     ]
    },
    {
     "data": {
      "application/vnd.plotly.v1+json": {
       "config": {
        "plotlyServerURL": "https://plot.ly"
       },
       "data": [
        {
         "customdata": [
          [
           "Auditorias"
          ],
          [
           "Auditorias"
          ],
          [
           "Auditorias"
          ],
          [
           "Auditorias"
          ],
          [
           "Auditorias"
          ],
          [
           "Auditorias"
          ],
          [
           "Auditorias"
          ],
          [
           "Auditorias"
          ],
          [
           "Auditorias"
          ],
          [
           "Auditorias"
          ],
          [
           "Auditorias"
          ],
          [
           "Auditorias"
          ],
          [
           "Auditorias"
          ],
          [
           "Auditorias"
          ],
          [
           "Auditorias"
          ],
          [
           "Auditorias"
          ],
          [
           "Auditorias"
          ],
          [
           "Auditorias"
          ],
          [
           "Auditorias"
          ],
          [
           "Auditorias"
          ],
          [
           "Auditorias"
          ],
          [
           "Auditorias"
          ],
          [
           "Auditorias"
          ],
          [
           "Auditorias"
          ],
          [
           "Auditorias"
          ],
          [
           "Auditorias"
          ],
          [
           "Auditorias"
          ],
          [
           "Auditorias"
          ],
          [
           "Auditorias"
          ],
          [
           "Auditorias"
          ],
          [
           "Auditorias"
          ],
          [
           "Auditorias"
          ],
          [
           "Auditorias"
          ],
          [
           "Auditorias"
          ],
          [
           "Auditorias"
          ],
          [
           "Auditorias"
          ],
          [
           "Auditorias"
          ],
          [
           "Auditorias"
          ],
          [
           "Auditorias"
          ],
          [
           "Auditorias"
          ],
          [
           "Auditorias"
          ],
          [
           "Auditorias"
          ],
          [
           "Auditorias"
          ],
          [
           "Auditorias"
          ],
          [
           "Auditorias"
          ],
          [
           "Auditorias"
          ],
          [
           "Auditorias"
          ],
          [
           "Auditorias"
          ],
          [
           "Auditorias"
          ],
          [
           "Auditorias"
          ],
          [
           "Auditorias"
          ],
          [
           "Auditorias"
          ],
          [
           "Auditorias"
          ],
          [
           "Auditorias"
          ],
          [
           "Auditorias"
          ],
          [
           "Auditorias"
          ],
          [
           "Auditorias"
          ],
          [
           "Auditorias"
          ]
         ],
         "hovertemplate": "color=Auditorias<br>PCA Component 1=%{x}<br>PCA Component 2=%{y}<br>label=%{customdata[0]}<extra></extra>",
         "legendgroup": "Auditorias",
         "marker": {
          "color": "#636efa",
          "symbol": "circle"
         },
         "mode": "markers",
         "name": "Auditorias",
         "orientation": "v",
         "showlegend": true,
         "type": "scatter",
         "x": [
          -0.28942358,
          0.48233736,
          0.47188795,
          -0.073602535,
          0.27022293,
          0.2381286,
          0.4171472,
          0.34763914,
          0.2914222,
          -0.030251421,
          0.043302927,
          0.08861057,
          0.012137282,
          0.60566247,
          0.1858943,
          -0.1438934,
          0.03909493,
          -0.23366526,
          0.16294478,
          -0.23290765,
          0.09603602,
          0.21162392,
          0.21423617,
          -0.44724116,
          0.09731193,
          -0.17155273,
          -0.27687383,
          -0.08357956,
          0.25874653,
          0.05616896,
          -0.21686238,
          -0.236972,
          -0.26397413,
          -0.32850793,
          -0.24814633,
          -0.030720092,
          0.016352275,
          0.06330983,
          0.110398516,
          0.012137282,
          0.22647148,
          -0.19241033,
          -0.13448994,
          0.008878535,
          -0.10864951,
          0.18173508,
          -0.26352632,
          0.10701443,
          0.15804613,
          -0.06892477,
          -0.15737768,
          0.09731193,
          -0.0057589225,
          -0.31750938,
          0.028578494,
          -0.16467619,
          -0.20752138,
          -0.21556649
         ],
         "xaxis": "x",
         "y": [
          0.5110632,
          0.25127044,
          0.16643581,
          0.35873234,
          0.36117318,
          0.550053,
          0.69839007,
          0.8963227,
          1.0453897,
          -0.061205205,
          0.0143669,
          -0.06442796,
          0.1043516,
          0.114720784,
          0.06493598,
          0.25014144,
          -0.027004743,
          0.17898762,
          0.25479713,
          0.113840036,
          -0.038383786,
          0.11281514,
          -0.048700668,
          0.4078663,
          0.2858578,
          0.119500384,
          0.15835842,
          0.0778387,
          0.10117132,
          -0.121415064,
          -0.021841912,
          -0.043554198,
          -0.028965011,
          0.06558973,
          0.13639192,
          0.089331694,
          -0.098313436,
          -0.048132475,
          -0.117739625,
          0.1043516,
          0.030919557,
          0.28173378,
          0.107750826,
          -0.017830484,
          0.09027272,
          0.25144854,
          0.14472318,
          -0.05213132,
          -0.012510721,
          0.16297154,
          0.20764238,
          0.2858578,
          0.1409154,
          0.22456402,
          0.18268858,
          0.07270124,
          0.027084043,
          0.19451098
         ],
         "yaxis": "y"
        },
        {
         "customdata": [
          [
           "Ausentismo"
          ],
          [
           "Ausentismo"
          ],
          [
           "Ausentismo"
          ],
          [
           "Ausentismo"
          ],
          [
           "Ausentismo"
          ],
          [
           "Ausentismo"
          ],
          [
           "Ausentismo"
          ],
          [
           "Ausentismo"
          ],
          [
           "Ausentismo"
          ],
          [
           "Ausentismo"
          ],
          [
           "Ausentismo"
          ],
          [
           "Ausentismo"
          ],
          [
           "Ausentismo"
          ],
          [
           "Ausentismo"
          ],
          [
           "Ausentismo"
          ],
          [
           "Ausentismo"
          ],
          [
           "Ausentismo"
          ],
          [
           "Ausentismo"
          ],
          [
           "Ausentismo"
          ],
          [
           "Ausentismo"
          ],
          [
           "Ausentismo"
          ],
          [
           "Ausentismo"
          ],
          [
           "Ausentismo"
          ],
          [
           "Ausentismo"
          ],
          [
           "Ausentismo"
          ],
          [
           "Ausentismo"
          ],
          [
           "Ausentismo"
          ],
          [
           "Ausentismo"
          ],
          [
           "Ausentismo"
          ],
          [
           "Ausentismo"
          ],
          [
           "Ausentismo"
          ],
          [
           "Ausentismo"
          ],
          [
           "Ausentismo"
          ],
          [
           "Ausentismo"
          ],
          [
           "Ausentismo"
          ],
          [
           "Ausentismo"
          ],
          [
           "Ausentismo"
          ],
          [
           "Ausentismo"
          ],
          [
           "Ausentismo"
          ],
          [
           "Ausentismo"
          ]
         ],
         "hovertemplate": "color=Ausentismo<br>PCA Component 1=%{x}<br>PCA Component 2=%{y}<br>label=%{customdata[0]}<extra></extra>",
         "legendgroup": "Ausentismo",
         "marker": {
          "color": "#EF553B",
          "symbol": "circle"
         },
         "mode": "markers",
         "name": "Ausentismo",
         "orientation": "v",
         "showlegend": true,
         "type": "scatter",
         "x": [
          0.4955219,
          0.0055790716,
          -0.1611786,
          0.43631172,
          0.54083973,
          -0.18079078,
          -0.17659187,
          0.005935834,
          -0.13567725,
          -0.2341607,
          0.15458612,
          -0.009300817,
          -0.18763195,
          -0.085119404,
          -0.5182582,
          -0.4802634,
          -0.51814735,
          -0.39969373,
          -0.18546629,
          -0.10843493,
          -0.05087702,
          -0.20191167,
          -0.18305734,
          -0.19803816,
          -0.04992877,
          -0.61402434,
          -0.33767202,
          -0.046919044,
          -0.09715158,
          -0.2610263,
          -0.112921976,
          0.15746398,
          -0.5180804,
          -0.53555393,
          -0.5945842,
          0.051513005,
          -0.054791145,
          -0.28554612,
          0.011462875,
          0.81341535
         ],
         "xaxis": "x",
         "y": [
          0.087222844,
          0.13755813,
          0.28082222,
          0.16842836,
          0.043751884,
          -0.102339745,
          -0.12114041,
          -0.0979115,
          -0.17041743,
          -0.09486933,
          0.07620157,
          -0.21244088,
          -0.2398514,
          -0.06179656,
          -0.071892604,
          -0.030704906,
          0.06430864,
          0.11669935,
          -0.05426485,
          -0.09334604,
          -0.27979568,
          -0.37744454,
          -0.4309843,
          -0.2847696,
          -0.03281763,
          -0.10548039,
          0.017974306,
          -0.23536192,
          -0.23261969,
          -0.1845821,
          -0.16138339,
          0.047420416,
          -0.08630904,
          0.0019017634,
          0.012844172,
          -0.3013912,
          -0.38236105,
          -0.15514784,
          0.17520796,
          -0.20179127
         ],
         "yaxis": "y"
        },
        {
         "customdata": [
          [
           "Estructura Organizativa"
          ],
          [
           "Estructura Organizativa"
          ],
          [
           "Estructura Organizativa"
          ],
          [
           "Estructura Organizativa"
          ],
          [
           "Estructura Organizativa"
          ],
          [
           "Estructura Organizativa"
          ],
          [
           "Estructura Organizativa"
          ],
          [
           "Estructura Organizativa"
          ],
          [
           "Estructura Organizativa"
          ],
          [
           "Estructura Organizativa"
          ],
          [
           "Estructura Organizativa"
          ],
          [
           "Estructura Organizativa"
          ],
          [
           "Estructura Organizativa"
          ],
          [
           "Estructura Organizativa"
          ],
          [
           "Estructura Organizativa"
          ],
          [
           "Estructura Organizativa"
          ],
          [
           "Estructura Organizativa"
          ],
          [
           "Estructura Organizativa"
          ],
          [
           "Estructura Organizativa"
          ],
          [
           "Estructura Organizativa"
          ],
          [
           "Estructura Organizativa"
          ],
          [
           "Estructura Organizativa"
          ],
          [
           "Estructura Organizativa"
          ],
          [
           "Estructura Organizativa"
          ],
          [
           "Estructura Organizativa"
          ],
          [
           "Estructura Organizativa"
          ],
          [
           "Estructura Organizativa"
          ],
          [
           "Estructura Organizativa"
          ],
          [
           "Estructura Organizativa"
          ],
          [
           "Estructura Organizativa"
          ],
          [
           "Estructura Organizativa"
          ],
          [
           "Estructura Organizativa"
          ],
          [
           "Estructura Organizativa"
          ],
          [
           "Estructura Organizativa"
          ],
          [
           "Estructura Organizativa"
          ],
          [
           "Estructura Organizativa"
          ],
          [
           "Estructura Organizativa"
          ],
          [
           "Estructura Organizativa"
          ],
          [
           "Estructura Organizativa"
          ],
          [
           "Estructura Organizativa"
          ],
          [
           "Estructura Organizativa"
          ],
          [
           "Estructura Organizativa"
          ],
          [
           "Estructura Organizativa"
          ],
          [
           "Estructura Organizativa"
          ],
          [
           "Estructura Organizativa"
          ],
          [
           "Estructura Organizativa"
          ],
          [
           "Estructura Organizativa"
          ],
          [
           "Estructura Organizativa"
          ],
          [
           "Estructura Organizativa"
          ],
          [
           "Estructura Organizativa"
          ],
          [
           "Estructura Organizativa"
          ],
          [
           "Estructura Organizativa"
          ],
          [
           "Estructura Organizativa"
          ],
          [
           "Estructura Organizativa"
          ],
          [
           "Estructura Organizativa"
          ],
          [
           "Estructura Organizativa"
          ],
          [
           "Estructura Organizativa"
          ],
          [
           "Estructura Organizativa"
          ],
          [
           "Estructura Organizativa"
          ],
          [
           "Estructura Organizativa"
          ],
          [
           "Estructura Organizativa"
          ],
          [
           "Estructura Organizativa"
          ],
          [
           "Estructura Organizativa"
          ],
          [
           "Estructura Organizativa"
          ],
          [
           "Estructura Organizativa"
          ],
          [
           "Estructura Organizativa"
          ],
          [
           "Estructura Organizativa"
          ],
          [
           "Estructura Organizativa"
          ],
          [
           "Estructura Organizativa"
          ],
          [
           "Estructura Organizativa"
          ],
          [
           "Estructura Organizativa"
          ],
          [
           "Estructura Organizativa"
          ],
          [
           "Estructura Organizativa"
          ],
          [
           "Estructura Organizativa"
          ],
          [
           "Estructura Organizativa"
          ],
          [
           "Estructura Organizativa"
          ],
          [
           "Estructura Organizativa"
          ],
          [
           "Estructura Organizativa"
          ],
          [
           "Estructura Organizativa"
          ],
          [
           "Estructura Organizativa"
          ],
          [
           "Estructura Organizativa"
          ],
          [
           "Estructura Organizativa"
          ],
          [
           "Estructura Organizativa"
          ],
          [
           "Estructura Organizativa"
          ],
          [
           "Estructura Organizativa"
          ],
          [
           "Estructura Organizativa"
          ],
          [
           "Estructura Organizativa"
          ],
          [
           "Estructura Organizativa"
          ],
          [
           "Estructura Organizativa"
          ],
          [
           "Estructura Organizativa"
          ],
          [
           "Estructura Organizativa"
          ],
          [
           "Estructura Organizativa"
          ],
          [
           "Estructura Organizativa"
          ],
          [
           "Estructura Organizativa"
          ],
          [
           "Estructura Organizativa"
          ],
          [
           "Estructura Organizativa"
          ],
          [
           "Estructura Organizativa"
          ],
          [
           "Estructura Organizativa"
          ],
          [
           "Estructura Organizativa"
          ],
          [
           "Estructura Organizativa"
          ],
          [
           "Estructura Organizativa"
          ],
          [
           "Estructura Organizativa"
          ],
          [
           "Estructura Organizativa"
          ],
          [
           "Estructura Organizativa"
          ],
          [
           "Estructura Organizativa"
          ],
          [
           "Estructura Organizativa"
          ],
          [
           "Estructura Organizativa"
          ],
          [
           "Estructura Organizativa"
          ],
          [
           "Estructura Organizativa"
          ],
          [
           "Estructura Organizativa"
          ],
          [
           "Estructura Organizativa"
          ],
          [
           "Estructura Organizativa"
          ],
          [
           "Estructura Organizativa"
          ],
          [
           "Estructura Organizativa"
          ],
          [
           "Estructura Organizativa"
          ],
          [
           "Estructura Organizativa"
          ],
          [
           "Estructura Organizativa"
          ],
          [
           "Estructura Organizativa"
          ],
          [
           "Estructura Organizativa"
          ],
          [
           "Estructura Organizativa"
          ],
          [
           "Estructura Organizativa"
          ],
          [
           "Estructura Organizativa"
          ],
          [
           "Estructura Organizativa"
          ],
          [
           "Estructura Organizativa"
          ],
          [
           "Estructura Organizativa"
          ],
          [
           "Estructura Organizativa"
          ],
          [
           "Estructura Organizativa"
          ],
          [
           "Estructura Organizativa"
          ],
          [
           "Estructura Organizativa"
          ],
          [
           "Estructura Organizativa"
          ],
          [
           "Estructura Organizativa"
          ],
          [
           "Estructura Organizativa"
          ],
          [
           "Estructura Organizativa"
          ],
          [
           "Estructura Organizativa"
          ],
          [
           "Estructura Organizativa"
          ],
          [
           "Estructura Organizativa"
          ],
          [
           "Estructura Organizativa"
          ],
          [
           "Estructura Organizativa"
          ],
          [
           "Estructura Organizativa"
          ],
          [
           "Estructura Organizativa"
          ],
          [
           "Estructura Organizativa"
          ],
          [
           "Estructura Organizativa"
          ],
          [
           "Estructura Organizativa"
          ],
          [
           "Estructura Organizativa"
          ],
          [
           "Estructura Organizativa"
          ],
          [
           "Estructura Organizativa"
          ],
          [
           "Estructura Organizativa"
          ],
          [
           "Estructura Organizativa"
          ],
          [
           "Estructura Organizativa"
          ],
          [
           "Estructura Organizativa"
          ],
          [
           "Estructura Organizativa"
          ],
          [
           "Estructura Organizativa"
          ],
          [
           "Estructura Organizativa"
          ],
          [
           "Estructura Organizativa"
          ],
          [
           "Estructura Organizativa"
          ],
          [
           "Estructura Organizativa"
          ],
          [
           "Estructura Organizativa"
          ],
          [
           "Estructura Organizativa"
          ],
          [
           "Estructura Organizativa"
          ],
          [
           "Estructura Organizativa"
          ],
          [
           "Estructura Organizativa"
          ],
          [
           "Estructura Organizativa"
          ],
          [
           "Estructura Organizativa"
          ],
          [
           "Estructura Organizativa"
          ],
          [
           "Estructura Organizativa"
          ],
          [
           "Estructura Organizativa"
          ],
          [
           "Estructura Organizativa"
          ],
          [
           "Estructura Organizativa"
          ],
          [
           "Estructura Organizativa"
          ],
          [
           "Estructura Organizativa"
          ],
          [
           "Estructura Organizativa"
          ],
          [
           "Estructura Organizativa"
          ],
          [
           "Estructura Organizativa"
          ],
          [
           "Estructura Organizativa"
          ],
          [
           "Estructura Organizativa"
          ],
          [
           "Estructura Organizativa"
          ],
          [
           "Estructura Organizativa"
          ],
          [
           "Estructura Organizativa"
          ],
          [
           "Estructura Organizativa"
          ],
          [
           "Estructura Organizativa"
          ],
          [
           "Estructura Organizativa"
          ],
          [
           "Estructura Organizativa"
          ],
          [
           "Estructura Organizativa"
          ],
          [
           "Estructura Organizativa"
          ],
          [
           "Estructura Organizativa"
          ],
          [
           "Estructura Organizativa"
          ],
          [
           "Estructura Organizativa"
          ],
          [
           "Estructura Organizativa"
          ],
          [
           "Estructura Organizativa"
          ],
          [
           "Estructura Organizativa"
          ],
          [
           "Estructura Organizativa"
          ],
          [
           "Estructura Organizativa"
          ],
          [
           "Estructura Organizativa"
          ],
          [
           "Estructura Organizativa"
          ],
          [
           "Estructura Organizativa"
          ],
          [
           "Estructura Organizativa"
          ],
          [
           "Estructura Organizativa"
          ],
          [
           "Estructura Organizativa"
          ],
          [
           "Estructura Organizativa"
          ],
          [
           "Estructura Organizativa"
          ],
          [
           "Estructura Organizativa"
          ],
          [
           "Estructura Organizativa"
          ],
          [
           "Estructura Organizativa"
          ],
          [
           "Estructura Organizativa"
          ],
          [
           "Estructura Organizativa"
          ],
          [
           "Estructura Organizativa"
          ],
          [
           "Estructura Organizativa"
          ],
          [
           "Estructura Organizativa"
          ],
          [
           "Estructura Organizativa"
          ],
          [
           "Estructura Organizativa"
          ],
          [
           "Estructura Organizativa"
          ]
         ],
         "hovertemplate": "color=Estructura Organizativa<br>PCA Component 1=%{x}<br>PCA Component 2=%{y}<br>label=%{customdata[0]}<extra></extra>",
         "legendgroup": "Estructura Organizativa",
         "marker": {
          "color": "#00cc96",
          "symbol": "circle"
         },
         "mode": "markers",
         "name": "Estructura Organizativa",
         "orientation": "v",
         "showlegend": true,
         "type": "scatter",
         "x": [
          0.006719952,
          -0.33115736,
          0.35252705,
          0.27135283,
          0.32033265,
          0.35482463,
          0.4861624,
          0.46803564,
          0.4566971,
          0.4453946,
          0.44590726,
          -0.054616846,
          0.22348069,
          0.045266774,
          -0.023361493,
          -0.14827223,
          -0.054090433,
          -0.088402696,
          -0.023866402,
          -0.099573635,
          0.016096655,
          0.045903746,
          -0.16398728,
          -0.24587105,
          -0.22525819,
          -0.15189768,
          0.77714497,
          -0.24669635,
          -0.30796865,
          -0.38994226,
          -0.35275882,
          -0.2448646,
          -0.16526873,
          0.2691311,
          -0.36416608,
          -0.34214926,
          -0.40605563,
          -0.4131569,
          -0.4321723,
          -0.29861483,
          -0.19944732,
          -0.43342355,
          -0.49772096,
          -0.13498297,
          -0.067559,
          0.042351507,
          -0.015613205,
          0.054855853,
          0.071560115,
          0.30652216,
          -0.1705906,
          -0.17220785,
          -0.2407333,
          -0.30801442,
          -0.30038786,
          -0.15323672,
          -0.11323875,
          -0.16452533,
          -0.05906703,
          0.3895197,
          -0.24655516,
          -0.3586164,
          -0.31351173,
          -0.3666725,
          -0.41660106,
          -0.056788545,
          -0.26955938,
          -0.20662248,
          -0.08764668,
          -0.1354557,
          -0.061535694,
          0.08880317,
          -0.5565677,
          -0.051578254,
          -0.06586482,
          -0.52651805,
          -0.11211724,
          -0.049951423,
          0.023747357,
          -0.36815092,
          -0.0071065957,
          -0.38614848,
          -0.05063081,
          -0.053588875,
          -0.06575246,
          -0.18167958,
          -0.31807607,
          -0.32395458,
          -0.32602936,
          -0.21154314,
          0.4881521,
          0.41432282,
          -0.15758285,
          0.11384776,
          -0.09432521,
          -0.11837494,
          0.020820227,
          -0.29302186,
          -0.2838802,
          -0.24442431,
          -0.27696696,
          -0.1896708,
          -0.16916235,
          -0.21090934,
          -0.20503841,
          0.03403126,
          0.17673,
          0.06924907,
          0.3296687,
          -0.34819007,
          -0.28962103,
          -0.3214786,
          0.5021311,
          0.2764318,
          -0.18593547,
          -0.3388574,
          -0.124199376,
          -0.09258034,
          -0.06727201,
          -0.23933442,
          -0.38973144,
          -0.30409333,
          -0.12665862,
          1.5605683,
          -0.017445777,
          1.3730085,
          -0.19268468,
          -0.14564762,
          0.1018127,
          0.21292558,
          0.06962926,
          0.020633973,
          -0.024307484,
          0.020266784,
          0.052919846,
          -0.33432725,
          -0.2609575,
          -0.29317617,
          -0.27465972,
          -0.13164198,
          -0.03641356,
          -0.35477063,
          -0.4165559,
          -0.3074194,
          -0.18537776,
          -0.050151996,
          -0.38810515,
          -0.36717296,
          -0.34149063,
          -0.3107857,
          -0.16585119,
          -0.049269788,
          -0.2281283,
          -0.42350373,
          -0.3308245,
          -0.34493223,
          -0.08923656,
          -0.39406127,
          -0.36219403,
          -0.35348713,
          -0.26595023,
          -0.17416425,
          -0.041378077,
          -0.093557395,
          -0.3386909,
          0.007633716,
          0.30764472,
          0.17148985,
          0.12998988,
          0.077969626,
          0.07681962,
          0.014256768,
          0.03788274,
          0.08846778,
          -0.33375657,
          -0.33362353,
          -0.3823852,
          -0.32397017,
          -0.23190287,
          -0.32005224,
          -0.3534495,
          -0.35839352,
          -0.48290887,
          -0.34159532,
          -0.5710512,
          -0.3536441,
          -0.34871835,
          -0.41210264,
          -0.5352495,
          -0.078633495,
          -0.49418482,
          0.029185327,
          -0.0556815,
          -0.18974465,
          -0.34386933,
          -0.43878603,
          -0.33831146,
          -0.25198784,
          -0.096142106,
          0.08668989,
          0.20747176,
          0.24619426,
          0.124942794,
          0.17922585,
          0.07918014,
          0.23064081,
          -0.28239608,
          0.6570512,
          -0.17646307,
          -0.19381197,
          -0.018442633
         ],
         "xaxis": "x",
         "y": [
          0.45758143,
          0.99097776,
          0.3085675,
          0.13392676,
          0.08004715,
          0.28526688,
          0.069874875,
          -0.037188586,
          -0.117056094,
          -0.14749445,
          -0.10887241,
          0.34610042,
          -0.057417158,
          0.31673595,
          0.007843651,
          0.09101465,
          0.1425541,
          0.23298821,
          0.24323556,
          0.22164817,
          0.1720637,
          0.15147035,
          0.05121429,
          -0.10406068,
          -0.07135699,
          -0.051137336,
          -0.4629561,
          -0.07276986,
          -0.097050175,
          -0.14715946,
          -0.14834894,
          -0.23097952,
          -0.24211274,
          -0.18857123,
          0.037948772,
          0.16277376,
          0.19598493,
          0.1434273,
          0.17839777,
          0.07467214,
          -0.11421097,
          -0.10657164,
          -0.17838539,
          0.010458996,
          0.021045629,
          -0.04384768,
          -0.0771027,
          -0.080592565,
          -0.063651994,
          -0.36411873,
          -0.038644508,
          -0.02637475,
          -0.03087502,
          0.05514108,
          0.08593311,
          -0.021390835,
          0.1320718,
          0.15549618,
          0.11698647,
          -0.20079897,
          -0.34312448,
          -0.2062855,
          -0.14579226,
          -0.18792161,
          -0.23291814,
          -0.19989897,
          -0.1372034,
          -0.17160554,
          -0.20434384,
          -0.18572883,
          -0.14481123,
          -0.14536634,
          -0.20509608,
          -0.21277167,
          -0.14472862,
          -0.16244693,
          -0.101065636,
          -0.161071,
          -0.3005524,
          -0.23518832,
          -0.3594211,
          -0.2746512,
          -0.2136713,
          -0.16513546,
          -0.23892623,
          -0.0294465,
          -0.15466122,
          -0.30477214,
          -0.33218822,
          -0.2272155,
          -0.41037843,
          -0.3353961,
          -0.15909564,
          -0.35247114,
          -0.44367355,
          -0.15316771,
          -0.06925637,
          0.21257977,
          0.13913009,
          0.1157362,
          -0.029539207,
          0.0569832,
          0.0745018,
          0.071806714,
          0.05926842,
          -0.2562029,
          -0.17404105,
          -0.045784343,
          -0.61109394,
          -0.24092431,
          -0.2266007,
          -0.19377507,
          -0.2799836,
          -0.16515832,
          -0.24390653,
          -0.2524175,
          -0.23150112,
          -0.058084764,
          -0.15709333,
          -0.32613313,
          -0.22493517,
          -0.21507789,
          -0.11721445,
          -0.6872802,
          -0.35279644,
          -0.92395335,
          -0.15853576,
          -0.07128079,
          -0.08921021,
          -0.11414268,
          0.39635077,
          0.36224145,
          0.27290046,
          0.30757925,
          0.25271693,
          -0.12257053,
          -0.16247702,
          -0.16562653,
          -0.1383789,
          -0.09801291,
          -0.08440883,
          -0.19343702,
          -0.17413908,
          -0.15011074,
          -0.14175236,
          -0.37117788,
          0.062418267,
          0.0833169,
          0.09527978,
          0.16323717,
          0.11785721,
          0.06269464,
          -0.23114298,
          -0.13419549,
          -0.113267675,
          -0.14941655,
          -0.22845525,
          -0.023776561,
          -0.02084458,
          -0.091380194,
          -0.07260204,
          -0.08877765,
          -0.14728186,
          -0.21863794,
          -0.2417282,
          -0.34272546,
          -0.15496291,
          0.09454046,
          0.09663637,
          0.24541606,
          0.31607276,
          0.2280911,
          0.2144953,
          0.17619443,
          -0.10354779,
          -0.11760262,
          -0.18004094,
          -0.066306256,
          -0.11079454,
          -0.38303772,
          -0.10219192,
          -0.15053742,
          -0.10244917,
          -0.03712475,
          -0.37267256,
          -0.3774546,
          -0.20762943,
          -0.12500797,
          -0.13401122,
          -0.35895672,
          -0.081246994,
          -0.24932766,
          -0.22700487,
          -0.16818927,
          -0.14419803,
          -0.037530523,
          -0.03373468,
          -0.0012496907,
          -0.06280603,
          -0.050570264,
          -0.12032949,
          -0.050137818,
          0.10239632,
          0.14976637,
          0.08556352,
          0.24629968,
          -0.056401998,
          -0.8543779,
          -0.17006543,
          -0.12480761,
          -0.3497473
         ],
         "yaxis": "y"
        },
        {
         "customdata": [
          [
           "Riesgos"
          ],
          [
           "Riesgos"
          ],
          [
           "Riesgos"
          ],
          [
           "Riesgos"
          ],
          [
           "Riesgos"
          ],
          [
           "Riesgos"
          ],
          [
           "Riesgos"
          ],
          [
           "Riesgos"
          ],
          [
           "Riesgos"
          ],
          [
           "Riesgos"
          ],
          [
           "Riesgos"
          ],
          [
           "Riesgos"
          ],
          [
           "Riesgos"
          ],
          [
           "Riesgos"
          ],
          [
           "Riesgos"
          ],
          [
           "Riesgos"
          ],
          [
           "Riesgos"
          ],
          [
           "Riesgos"
          ],
          [
           "Riesgos"
          ],
          [
           "Riesgos"
          ],
          [
           "Riesgos"
          ],
          [
           "Riesgos"
          ],
          [
           "Riesgos"
          ],
          [
           "Riesgos"
          ],
          [
           "Riesgos"
          ],
          [
           "Riesgos"
          ],
          [
           "Riesgos"
          ],
          [
           "Riesgos"
          ],
          [
           "Riesgos"
          ],
          [
           "Riesgos"
          ],
          [
           "Riesgos"
          ],
          [
           "Riesgos"
          ],
          [
           "Riesgos"
          ],
          [
           "Riesgos"
          ],
          [
           "Riesgos"
          ],
          [
           "Riesgos"
          ],
          [
           "Riesgos"
          ],
          [
           "Riesgos"
          ],
          [
           "Riesgos"
          ],
          [
           "Riesgos"
          ],
          [
           "Riesgos"
          ],
          [
           "Riesgos"
          ],
          [
           "Riesgos"
          ],
          [
           "Riesgos"
          ],
          [
           "Riesgos"
          ],
          [
           "Riesgos"
          ],
          [
           "Riesgos"
          ],
          [
           "Riesgos"
          ],
          [
           "Riesgos"
          ],
          [
           "Riesgos"
          ],
          [
           "Riesgos"
          ],
          [
           "Riesgos"
          ],
          [
           "Riesgos"
          ],
          [
           "Riesgos"
          ],
          [
           "Riesgos"
          ],
          [
           "Riesgos"
          ],
          [
           "Riesgos"
          ],
          [
           "Riesgos"
          ],
          [
           "Riesgos"
          ],
          [
           "Riesgos"
          ]
         ],
         "hovertemplate": "color=Riesgos<br>PCA Component 1=%{x}<br>PCA Component 2=%{y}<br>label=%{customdata[0]}<extra></extra>",
         "legendgroup": "Riesgos",
         "marker": {
          "color": "#ab63fa",
          "symbol": "circle"
         },
         "mode": "markers",
         "name": "Riesgos",
         "orientation": "v",
         "showlegend": true,
         "type": "scatter",
         "x": [
          -0.19807118,
          0.47911355,
          0.474039,
          0.37943512,
          0.49429473,
          0.55157226,
          -0.28155246,
          -0.33658397,
          -0.27799964,
          0.35073176,
          0.3607515,
          0.2940431,
          0.28071102,
          0.2020589,
          0.12557665,
          0.13358338,
          0.09607768,
          0.033056624,
          -0.0635903,
          0.022602478,
          -0.08393858,
          0.04636993,
          0.053494982,
          0.34539002,
          0.0432434,
          0.20306809,
          -0.41479993,
          -0.24669541,
          -0.18559772,
          -0.10900489,
          -0.08254425,
          -0.3153159,
          -0.042283963,
          -0.65689504,
          0.44767734,
          -0.11924715,
          -0.0836666,
          -0.026501577,
          0.1727673,
          0.25540096,
          0.052158143,
          0.44574997,
          0.42494684,
          0.47622803,
          0.53151804,
          0.5889389,
          0.63058716,
          0.639579,
          0.68733984,
          0.41292432,
          0.05669244,
          0.19155118,
          0.22274615,
          0.21027163,
          0.27849215,
          0.3478552,
          0.37228054,
          0.3255534,
          0.18697193,
          0.12186636
         ],
         "xaxis": "x",
         "y": [
          0.6773401,
          0.41939875,
          0.3703811,
          0.93460125,
          0.0438364,
          -0.11609588,
          0.5274772,
          -0.03244665,
          -0.043244127,
          0.21464293,
          0.11505444,
          0.15580624,
          0.090654366,
          0.14350952,
          0.24550475,
          0.28153637,
          0.33569726,
          0.4084191,
          0.12622686,
          0.24950777,
          0.1767044,
          -0.057839617,
          -0.1047782,
          -0.20173864,
          -0.042311043,
          -0.13456738,
          0.101770215,
          0.042999435,
          0.03251703,
          -0.11071927,
          0.22787625,
          0.02676187,
          0.01680688,
          -0.067183755,
          -0.16842139,
          0.066659786,
          0.21404429,
          0.28261593,
          0.32676324,
          -0.18836932,
          0.33287528,
          -0.13055083,
          -0.11284238,
          -0.108253315,
          -0.05806491,
          -0.065153755,
          -0.01252475,
          0.012347064,
          -0.14354692,
          -0.019612812,
          0.34684595,
          0.28813517,
          0.2431112,
          0.3606707,
          0.28647143,
          0.13128933,
          0.07584325,
          0.102638885,
          0.09775509,
          0.11312071
         ],
         "yaxis": "y"
        },
        {
         "customdata": [
          [
           "Información"
          ],
          [
           "Información"
          ],
          [
           "Información"
          ],
          [
           "Información"
          ],
          [
           "Información"
          ],
          [
           "Información"
          ],
          [
           "Información"
          ],
          [
           "Información"
          ],
          [
           "Información"
          ],
          [
           "Información"
          ],
          [
           "Información"
          ],
          [
           "Información"
          ],
          [
           "Información"
          ],
          [
           "Información"
          ],
          [
           "Información"
          ],
          [
           "Información"
          ],
          [
           "Información"
          ],
          [
           "Información"
          ],
          [
           "Información"
          ],
          [
           "Información"
          ],
          [
           "Información"
          ]
         ],
         "hovertemplate": "color=Información<br>PCA Component 1=%{x}<br>PCA Component 2=%{y}<br>label=%{customdata[0]}<extra></extra>",
         "legendgroup": "Información",
         "marker": {
          "color": "#FFA15A",
          "symbol": "circle"
         },
         "mode": "markers",
         "name": "Información",
         "orientation": "v",
         "showlegend": true,
         "type": "scatter",
         "x": [
          0.21549745,
          -0.41467243,
          -0.04605317,
          0.27896693,
          0.38755795,
          0.4639942,
          0.47372848,
          -0.047931693,
          -0.50488514,
          -0.4927116,
          0.020666799,
          0.13069847,
          0.21661,
          -0.26283923,
          0.029951133,
          -0.19245617,
          0.028716078,
          -0.42678797,
          -0.4775154,
          -0.53490794,
          -0.07204205
         ],
         "xaxis": "x",
         "y": [
          0.4199915,
          0.5376587,
          0.081525385,
          0.04884629,
          0.051996265,
          0.04900457,
          -0.026397888,
          -0.018452967,
          -0.15705343,
          -0.14343761,
          -0.18060274,
          -0.19475672,
          -0.20015629,
          0.33735338,
          0.15287022,
          0.27882057,
          0.6563958,
          0.15108524,
          0.11373262,
          -0.040002253,
          0.103339806
         ],
         "yaxis": "y"
        },
        {
         "customdata": [
          [
           "Emergencia"
          ],
          [
           "Emergencia"
          ],
          [
           "Emergencia"
          ],
          [
           "Emergencia"
          ],
          [
           "Emergencia"
          ],
          [
           "Emergencia"
          ],
          [
           "Emergencia"
          ],
          [
           "Emergencia"
          ],
          [
           "Emergencia"
          ],
          [
           "Emergencia"
          ],
          [
           "Emergencia"
          ],
          [
           "Emergencia"
          ],
          [
           "Emergencia"
          ],
          [
           "Emergencia"
          ],
          [
           "Emergencia"
          ],
          [
           "Emergencia"
          ],
          [
           "Emergencia"
          ],
          [
           "Emergencia"
          ],
          [
           "Emergencia"
          ],
          [
           "Emergencia"
          ],
          [
           "Emergencia"
          ],
          [
           "Emergencia"
          ],
          [
           "Emergencia"
          ],
          [
           "Emergencia"
          ],
          [
           "Emergencia"
          ],
          [
           "Emergencia"
          ],
          [
           "Emergencia"
          ],
          [
           "Emergencia"
          ],
          [
           "Emergencia"
          ],
          [
           "Emergencia"
          ],
          [
           "Emergencia"
          ],
          [
           "Emergencia"
          ],
          [
           "Emergencia"
          ],
          [
           "Emergencia"
          ],
          [
           "Emergencia"
          ],
          [
           "Emergencia"
          ],
          [
           "Emergencia"
          ],
          [
           "Emergencia"
          ],
          [
           "Emergencia"
          ],
          [
           "Emergencia"
          ],
          [
           "Emergencia"
          ],
          [
           "Emergencia"
          ],
          [
           "Emergencia"
          ],
          [
           "Emergencia"
          ],
          [
           "Emergencia"
          ],
          [
           "Emergencia"
          ],
          [
           "Emergencia"
          ],
          [
           "Emergencia"
          ],
          [
           "Emergencia"
          ],
          [
           "Emergencia"
          ],
          [
           "Emergencia"
          ],
          [
           "Emergencia"
          ],
          [
           "Emergencia"
          ],
          [
           "Emergencia"
          ],
          [
           "Emergencia"
          ],
          [
           "Emergencia"
          ],
          [
           "Emergencia"
          ],
          [
           "Emergencia"
          ],
          [
           "Emergencia"
          ],
          [
           "Emergencia"
          ],
          [
           "Emergencia"
          ],
          [
           "Emergencia"
          ],
          [
           "Emergencia"
          ],
          [
           "Emergencia"
          ],
          [
           "Emergencia"
          ],
          [
           "Emergencia"
          ],
          [
           "Emergencia"
          ],
          [
           "Emergencia"
          ],
          [
           "Emergencia"
          ],
          [
           "Emergencia"
          ],
          [
           "Emergencia"
          ],
          [
           "Emergencia"
          ],
          [
           "Emergencia"
          ],
          [
           "Emergencia"
          ],
          [
           "Emergencia"
          ],
          [
           "Emergencia"
          ],
          [
           "Emergencia"
          ],
          [
           "Emergencia"
          ],
          [
           "Emergencia"
          ],
          [
           "Emergencia"
          ],
          [
           "Emergencia"
          ],
          [
           "Emergencia"
          ],
          [
           "Emergencia"
          ],
          [
           "Emergencia"
          ],
          [
           "Emergencia"
          ],
          [
           "Emergencia"
          ],
          [
           "Emergencia"
          ],
          [
           "Emergencia"
          ],
          [
           "Emergencia"
          ],
          [
           "Emergencia"
          ],
          [
           "Emergencia"
          ],
          [
           "Emergencia"
          ],
          [
           "Emergencia"
          ],
          [
           "Emergencia"
          ],
          [
           "Emergencia"
          ],
          [
           "Emergencia"
          ],
          [
           "Emergencia"
          ],
          [
           "Emergencia"
          ],
          [
           "Emergencia"
          ],
          [
           "Emergencia"
          ],
          [
           "Emergencia"
          ],
          [
           "Emergencia"
          ],
          [
           "Emergencia"
          ],
          [
           "Emergencia"
          ],
          [
           "Emergencia"
          ]
         ],
         "hovertemplate": "color=Emergencia<br>PCA Component 1=%{x}<br>PCA Component 2=%{y}<br>label=%{customdata[0]}<extra></extra>",
         "legendgroup": "Emergencia",
         "marker": {
          "color": "#19d3f3",
          "symbol": "circle"
         },
         "mode": "markers",
         "name": "Emergencia",
         "orientation": "v",
         "showlegend": true,
         "type": "scatter",
         "x": [
          -0.35661098,
          0.43043086,
          0.49020284,
          0.1886738,
          0.52232826,
          0.5545191,
          0.5629134,
          0.56775445,
          0.61648667,
          0.72938865,
          0.7397639,
          0.7245374,
          0.6318824,
          0.57536143,
          0.5521399,
          0.6156086,
          0.57748497,
          0.5366307,
          0.48013994,
          0.50337815,
          0.46406293,
          0.48932523,
          0.5840939,
          0.61628336,
          -0.08033011,
          0.41941917,
          0.49571052,
          0.46648815,
          0.29958948,
          0.4897066,
          0.43505913,
          -0.24944364,
          0.15171975,
          0.21553603,
          0.2853919,
          0.264597,
          0.25259003,
          0.33605042,
          0.23855945,
          0.261952,
          0.34249166,
          -0.29107657,
          -0.23959035,
          0.012903411,
          0.06485516,
          0.14739868,
          0.19540219,
          0.24858099,
          0.24497181,
          0.1948233,
          0.25800696,
          0.26944792,
          0.23476128,
          0.19561364,
          -0.026985867,
          -0.2175501,
          -0.16676423,
          -0.34290338,
          -0.33529153,
          -0.10025412,
          -0.09437106,
          0.052598353,
          0.05323402,
          -0.21568076,
          -0.2117526,
          -0.27044153,
          -0.2788559,
          -0.31185275,
          -0.45045054,
          0.036966145,
          0.1610714,
          0.1110458,
          0.1179163,
          0.14715321,
          0.28208947,
          -0.10950696,
          -0.022882357,
          -0.10260779,
          0.25837195,
          -0.03478322,
          0.039458983,
          0.433671,
          0.4265838,
          0.07318863,
          -0.062542245,
          -0.1069892,
          -0.2084244,
          -0.18291119,
          -0.3807114,
          -0.14331648,
          -0.088998534,
          -0.034782223,
          -0.1324956,
          0.13292146,
          0.052537635,
          0.13284437,
          0.18507881,
          -0.21999627,
          -0.0028926332,
          -0.40244573,
          -0.36573473,
          -0.23581228,
          -0.304241,
          -0.09397839,
          -0.42626962
         ],
         "xaxis": "x",
         "y": [
          0.8751648,
          0.17540637,
          0.05329975,
          -0.023389725,
          -0.078802,
          -0.05905117,
          -0.13711242,
          -0.26546204,
          -0.2742183,
          -0.30624595,
          -0.35654572,
          -0.33880857,
          -0.21921043,
          -0.13212933,
          -0.062217865,
          -0.0013954286,
          0.014449808,
          0.062025603,
          0.1282256,
          0.10997481,
          0.13139854,
          0.14976671,
          0.11798329,
          0.06311221,
          0.2035305,
          0.02563507,
          -0.0433823,
          -0.0071140644,
          -0.2294964,
          -0.27196965,
          -0.24930109,
          -0.22386819,
          0.11773038,
          0.1861611,
          0.19746457,
          0.1366405,
          0.15404545,
          -0.048072655,
          -0.026418123,
          -0.16959254,
          0.15526395,
          -0.06812055,
          -0.14045961,
          0.45835555,
          0.48995265,
          0.42235407,
          0.3192852,
          0.14064819,
          0.0117391525,
          0.0252187,
          0.04611214,
          0.050692648,
          0.14908572,
          0.24489945,
          -0.2912964,
          -0.04178602,
          0.04958046,
          0.034908425,
          0.05612959,
          -0.01090983,
          -0.045913458,
          0.012806432,
          -0.06287818,
          0.03252714,
          0.0729198,
          0.0014468562,
          -0.1594398,
          -0.20153248,
          0.060896434,
          -0.15290639,
          -0.1720625,
          -0.1421157,
          -0.2130589,
          -0.22282729,
          -0.18454346,
          0.16091835,
          0.1281736,
          0.14443626,
          -0.17628641,
          0.032327518,
          -0.020443462,
          -0.19872707,
          -0.2408948,
          -0.14189848,
          -0.08468514,
          -0.08416425,
          -0.013635829,
          0.029528037,
          0.087797895,
          0.08818409,
          0.1165488,
          -0.06845218,
          -0.06300069,
          -0.22787514,
          0.043870103,
          0.031104695,
          -0.229607,
          -0.06467343,
          -0.021559775,
          -0.025148619,
          -0.0049007973,
          -0.090429224,
          0.022845548,
          -0.157576,
          -0.094403036
         ],
         "yaxis": "y"
        },
        {
         "customdata": [
          [
           "Question: ¿Cómo se diferencia la ubicación física de la operativa?<br>Closest Model: Riesgos<br>Similarity: 0.78<br>Chunk: El usuario al acceder al cardboard “Riesgos por ubicación” visualiza el campo “Tipo de  ubicación” e..."
          ],
          [
           "Question: ¿Qué información se incluye en el informe de la evaluación de riesgos que ofrece la plataforma y cuál es su utilidad para la gestión de riesgos en la empresa?<br>Closest Model: Riesgos<br>Similarity: 0.89<br>Chunk: Sabentis es la nueva plataforma de gestión especializada en el ámbito de seguridad y salud en  el tr..."
          ],
          [
           "Question: ¿Hay indicadores relativos al cumplimiento de normas?<br>Closest Model: Auditorias<br>Similarity: 0.73<br>Chunk: Trabajo adaptada a las nuevas tecnologías y a los nuevos modelos de gestión de la  prevención.   La ..."
          ],
          [
           "Question: ¿Qué papel juega la estructura organizativa en la funcionalidad general de la plataforma y cómo interactúa con otros módulos?<br>Closest Model: Estructura Organizativa<br>Similarity: 0.87<br>Chunk: 3. HOME ESTRUCTURA ORGANIZATIVA  El usuario puede acceder al módulo Estructura Organizativa (EO), de..."
          ],
          [
           "Question: ¿Qué permite realizar la evaluación de riesgos?<br>Closest Model: Riesgos<br>Similarity: 0.85<br>Chunk: Permite elegir la metodología que se aplicará en las  evaluaciones de los riesgos identificados.  • ..."
          ],
          [
           "Question: ¿Qué tipo de documentos se pueden almacenar y compartir en el espacio denominado 'Documentos' y cuál es su importancia dentro del contexto de la gestión empresarial en la plataforma?<br>Closest Model: Información<br>Similarity: 0.88<br>Chunk: DATOS DEL DOCUMENTO  HISTÓRICO DE CAMBIOS  CONTENIDO  Sabentis es la nueva plataforma de gestión esp..."
          ],
          [
           "Question: ¿Se pueden llevar a cabo auditorías internas?<br>Closest Model: Emergencia<br>Similarity: 0.78<br>Chunk: para identificar y llevar a cabo actividades de mejoras tanto en los  procedimientos establecidos co..."
          ],
          [
           "Question: ¿Cuál es la tasa de adopción de esta plataforma en el mercado?<br>Closest Model: Estructura Organizativa<br>Similarity: 0.73<br>Chunk: CONTENIDO  Sabentis es la nueva plataforma de gestión especializada en el ámbito de Seguridad y Salu..."
          ],
          [
           "Question: ¿Cómo se compara esta plataforma con otras soluciones de gestión de SST?<br>Closest Model: Estructura Organizativa<br>Similarity: 0.82<br>Chunk: CONTENIDO  Sabentis es la nueva plataforma de gestión especializada en el ámbito de Seguridad y Salu..."
          ],
          [
           "Question: ¿Qué día hará mañana?<br>Closest Model: Estructura Organizativa<br>Similarity: 0.63<br>Chunk: Versión  Fecha  Comentarios  Autor  Versión 1.0  28/10/2021  Redacción  Mercedes León Chele  Versión..."
          ]
         ],
         "hovertemplate": "color=Question<br>PCA Component 1=%{x}<br>PCA Component 2=%{y}<br>label=%{customdata[0]}<extra></extra>",
         "legendgroup": "Question",
         "marker": {
          "color": "#FF6692",
          "symbol": "circle"
         },
         "mode": "markers",
         "name": "Question",
         "orientation": "v",
         "showlegend": true,
         "type": "scatter",
         "x": [
          0.48975787,
          0.36407867,
          0.89469206,
          0.10626761,
          0.46991307,
          0.15235658,
          0.59958416,
          0.32206488,
          0.22949207,
          -0.0736822
         ],
         "xaxis": "x",
         "y": [
          1.0316828,
          0.47894892,
          -0.27242044,
          0.21226846,
          0.13750419,
          0.0055887266,
          -0.41272882,
          0.12451654,
          0.7228042,
          1.3828363
         ],
         "yaxis": "y"
        }
       ],
       "layout": {
        "annotations": [
         {
          "arrowhead": 2,
          "showarrow": true,
          "text": "Q1",
          "x": 0.48975786566734314,
          "y": 1.0316828489303589
         },
         {
          "arrowhead": 2,
          "showarrow": true,
          "text": "Q2",
          "x": 0.36407867074012756,
          "y": 0.4789489209651947
         },
         {
          "arrowhead": 2,
          "showarrow": true,
          "text": "Q3",
          "x": 0.894692063331604,
          "y": -0.2724204361438751
         },
         {
          "arrowhead": 2,
          "showarrow": true,
          "text": "Q4",
          "x": 0.10626760870218277,
          "y": 0.21226845681667328
         },
         {
          "arrowhead": 2,
          "showarrow": true,
          "text": "Q5",
          "x": 0.4699130654335022,
          "y": 0.1375041902065277
         },
         {
          "arrowhead": 2,
          "showarrow": true,
          "text": "Q6",
          "x": 0.1523565798997879,
          "y": 0.005588726606220007
         },
         {
          "arrowhead": 2,
          "showarrow": true,
          "text": "Q7",
          "x": 0.59958416223526,
          "y": -0.41272881627082825
         },
         {
          "arrowhead": 2,
          "showarrow": true,
          "text": "Q8",
          "x": 0.3220648765563965,
          "y": 0.12451653927564621
         },
         {
          "arrowhead": 2,
          "showarrow": true,
          "text": "Q9",
          "x": 0.22949206829071045,
          "y": 0.7228041887283325
         },
         {
          "arrowhead": 2,
          "showarrow": true,
          "text": "Q10",
          "x": -0.07368219643831253,
          "y": 1.3828363418579102
         }
        ],
        "legend": {
         "title": {
          "text": "color"
         },
         "tracegroupgap": 0
        },
        "template": {
         "data": {
          "bar": [
           {
            "error_x": {
             "color": "#2a3f5f"
            },
            "error_y": {
             "color": "#2a3f5f"
            },
            "marker": {
             "line": {
              "color": "#E5ECF6",
              "width": 0.5
             },
             "pattern": {
              "fillmode": "overlay",
              "size": 10,
              "solidity": 0.2
             }
            },
            "type": "bar"
           }
          ],
          "barpolar": [
           {
            "marker": {
             "line": {
              "color": "#E5ECF6",
              "width": 0.5
             },
             "pattern": {
              "fillmode": "overlay",
              "size": 10,
              "solidity": 0.2
             }
            },
            "type": "barpolar"
           }
          ],
          "carpet": [
           {
            "aaxis": {
             "endlinecolor": "#2a3f5f",
             "gridcolor": "white",
             "linecolor": "white",
             "minorgridcolor": "white",
             "startlinecolor": "#2a3f5f"
            },
            "baxis": {
             "endlinecolor": "#2a3f5f",
             "gridcolor": "white",
             "linecolor": "white",
             "minorgridcolor": "white",
             "startlinecolor": "#2a3f5f"
            },
            "type": "carpet"
           }
          ],
          "choropleth": [
           {
            "colorbar": {
             "outlinewidth": 0,
             "ticks": ""
            },
            "type": "choropleth"
           }
          ],
          "contour": [
           {
            "colorbar": {
             "outlinewidth": 0,
             "ticks": ""
            },
            "colorscale": [
             [
              0,
              "#0d0887"
             ],
             [
              0.1111111111111111,
              "#46039f"
             ],
             [
              0.2222222222222222,
              "#7201a8"
             ],
             [
              0.3333333333333333,
              "#9c179e"
             ],
             [
              0.4444444444444444,
              "#bd3786"
             ],
             [
              0.5555555555555556,
              "#d8576b"
             ],
             [
              0.6666666666666666,
              "#ed7953"
             ],
             [
              0.7777777777777778,
              "#fb9f3a"
             ],
             [
              0.8888888888888888,
              "#fdca26"
             ],
             [
              1,
              "#f0f921"
             ]
            ],
            "type": "contour"
           }
          ],
          "contourcarpet": [
           {
            "colorbar": {
             "outlinewidth": 0,
             "ticks": ""
            },
            "type": "contourcarpet"
           }
          ],
          "heatmap": [
           {
            "colorbar": {
             "outlinewidth": 0,
             "ticks": ""
            },
            "colorscale": [
             [
              0,
              "#0d0887"
             ],
             [
              0.1111111111111111,
              "#46039f"
             ],
             [
              0.2222222222222222,
              "#7201a8"
             ],
             [
              0.3333333333333333,
              "#9c179e"
             ],
             [
              0.4444444444444444,
              "#bd3786"
             ],
             [
              0.5555555555555556,
              "#d8576b"
             ],
             [
              0.6666666666666666,
              "#ed7953"
             ],
             [
              0.7777777777777778,
              "#fb9f3a"
             ],
             [
              0.8888888888888888,
              "#fdca26"
             ],
             [
              1,
              "#f0f921"
             ]
            ],
            "type": "heatmap"
           }
          ],
          "heatmapgl": [
           {
            "colorbar": {
             "outlinewidth": 0,
             "ticks": ""
            },
            "colorscale": [
             [
              0,
              "#0d0887"
             ],
             [
              0.1111111111111111,
              "#46039f"
             ],
             [
              0.2222222222222222,
              "#7201a8"
             ],
             [
              0.3333333333333333,
              "#9c179e"
             ],
             [
              0.4444444444444444,
              "#bd3786"
             ],
             [
              0.5555555555555556,
              "#d8576b"
             ],
             [
              0.6666666666666666,
              "#ed7953"
             ],
             [
              0.7777777777777778,
              "#fb9f3a"
             ],
             [
              0.8888888888888888,
              "#fdca26"
             ],
             [
              1,
              "#f0f921"
             ]
            ],
            "type": "heatmapgl"
           }
          ],
          "histogram": [
           {
            "marker": {
             "pattern": {
              "fillmode": "overlay",
              "size": 10,
              "solidity": 0.2
             }
            },
            "type": "histogram"
           }
          ],
          "histogram2d": [
           {
            "colorbar": {
             "outlinewidth": 0,
             "ticks": ""
            },
            "colorscale": [
             [
              0,
              "#0d0887"
             ],
             [
              0.1111111111111111,
              "#46039f"
             ],
             [
              0.2222222222222222,
              "#7201a8"
             ],
             [
              0.3333333333333333,
              "#9c179e"
             ],
             [
              0.4444444444444444,
              "#bd3786"
             ],
             [
              0.5555555555555556,
              "#d8576b"
             ],
             [
              0.6666666666666666,
              "#ed7953"
             ],
             [
              0.7777777777777778,
              "#fb9f3a"
             ],
             [
              0.8888888888888888,
              "#fdca26"
             ],
             [
              1,
              "#f0f921"
             ]
            ],
            "type": "histogram2d"
           }
          ],
          "histogram2dcontour": [
           {
            "colorbar": {
             "outlinewidth": 0,
             "ticks": ""
            },
            "colorscale": [
             [
              0,
              "#0d0887"
             ],
             [
              0.1111111111111111,
              "#46039f"
             ],
             [
              0.2222222222222222,
              "#7201a8"
             ],
             [
              0.3333333333333333,
              "#9c179e"
             ],
             [
              0.4444444444444444,
              "#bd3786"
             ],
             [
              0.5555555555555556,
              "#d8576b"
             ],
             [
              0.6666666666666666,
              "#ed7953"
             ],
             [
              0.7777777777777778,
              "#fb9f3a"
             ],
             [
              0.8888888888888888,
              "#fdca26"
             ],
             [
              1,
              "#f0f921"
             ]
            ],
            "type": "histogram2dcontour"
           }
          ],
          "mesh3d": [
           {
            "colorbar": {
             "outlinewidth": 0,
             "ticks": ""
            },
            "type": "mesh3d"
           }
          ],
          "parcoords": [
           {
            "line": {
             "colorbar": {
              "outlinewidth": 0,
              "ticks": ""
             }
            },
            "type": "parcoords"
           }
          ],
          "pie": [
           {
            "automargin": true,
            "type": "pie"
           }
          ],
          "scatter": [
           {
            "fillpattern": {
             "fillmode": "overlay",
             "size": 10,
             "solidity": 0.2
            },
            "type": "scatter"
           }
          ],
          "scatter3d": [
           {
            "line": {
             "colorbar": {
              "outlinewidth": 0,
              "ticks": ""
             }
            },
            "marker": {
             "colorbar": {
              "outlinewidth": 0,
              "ticks": ""
             }
            },
            "type": "scatter3d"
           }
          ],
          "scattercarpet": [
           {
            "marker": {
             "colorbar": {
              "outlinewidth": 0,
              "ticks": ""
             }
            },
            "type": "scattercarpet"
           }
          ],
          "scattergeo": [
           {
            "marker": {
             "colorbar": {
              "outlinewidth": 0,
              "ticks": ""
             }
            },
            "type": "scattergeo"
           }
          ],
          "scattergl": [
           {
            "marker": {
             "colorbar": {
              "outlinewidth": 0,
              "ticks": ""
             }
            },
            "type": "scattergl"
           }
          ],
          "scattermapbox": [
           {
            "marker": {
             "colorbar": {
              "outlinewidth": 0,
              "ticks": ""
             }
            },
            "type": "scattermapbox"
           }
          ],
          "scatterpolar": [
           {
            "marker": {
             "colorbar": {
              "outlinewidth": 0,
              "ticks": ""
             }
            },
            "type": "scatterpolar"
           }
          ],
          "scatterpolargl": [
           {
            "marker": {
             "colorbar": {
              "outlinewidth": 0,
              "ticks": ""
             }
            },
            "type": "scatterpolargl"
           }
          ],
          "scatterternary": [
           {
            "marker": {
             "colorbar": {
              "outlinewidth": 0,
              "ticks": ""
             }
            },
            "type": "scatterternary"
           }
          ],
          "surface": [
           {
            "colorbar": {
             "outlinewidth": 0,
             "ticks": ""
            },
            "colorscale": [
             [
              0,
              "#0d0887"
             ],
             [
              0.1111111111111111,
              "#46039f"
             ],
             [
              0.2222222222222222,
              "#7201a8"
             ],
             [
              0.3333333333333333,
              "#9c179e"
             ],
             [
              0.4444444444444444,
              "#bd3786"
             ],
             [
              0.5555555555555556,
              "#d8576b"
             ],
             [
              0.6666666666666666,
              "#ed7953"
             ],
             [
              0.7777777777777778,
              "#fb9f3a"
             ],
             [
              0.8888888888888888,
              "#fdca26"
             ],
             [
              1,
              "#f0f921"
             ]
            ],
            "type": "surface"
           }
          ],
          "table": [
           {
            "cells": {
             "fill": {
              "color": "#EBF0F8"
             },
             "line": {
              "color": "white"
             }
            },
            "header": {
             "fill": {
              "color": "#C8D4E3"
             },
             "line": {
              "color": "white"
             }
            },
            "type": "table"
           }
          ]
         },
         "layout": {
          "annotationdefaults": {
           "arrowcolor": "#2a3f5f",
           "arrowhead": 0,
           "arrowwidth": 1
          },
          "autotypenumbers": "strict",
          "coloraxis": {
           "colorbar": {
            "outlinewidth": 0,
            "ticks": ""
           }
          },
          "colorscale": {
           "diverging": [
            [
             0,
             "#8e0152"
            ],
            [
             0.1,
             "#c51b7d"
            ],
            [
             0.2,
             "#de77ae"
            ],
            [
             0.3,
             "#f1b6da"
            ],
            [
             0.4,
             "#fde0ef"
            ],
            [
             0.5,
             "#f7f7f7"
            ],
            [
             0.6,
             "#e6f5d0"
            ],
            [
             0.7,
             "#b8e186"
            ],
            [
             0.8,
             "#7fbc41"
            ],
            [
             0.9,
             "#4d9221"
            ],
            [
             1,
             "#276419"
            ]
           ],
           "sequential": [
            [
             0,
             "#0d0887"
            ],
            [
             0.1111111111111111,
             "#46039f"
            ],
            [
             0.2222222222222222,
             "#7201a8"
            ],
            [
             0.3333333333333333,
             "#9c179e"
            ],
            [
             0.4444444444444444,
             "#bd3786"
            ],
            [
             0.5555555555555556,
             "#d8576b"
            ],
            [
             0.6666666666666666,
             "#ed7953"
            ],
            [
             0.7777777777777778,
             "#fb9f3a"
            ],
            [
             0.8888888888888888,
             "#fdca26"
            ],
            [
             1,
             "#f0f921"
            ]
           ],
           "sequentialminus": [
            [
             0,
             "#0d0887"
            ],
            [
             0.1111111111111111,
             "#46039f"
            ],
            [
             0.2222222222222222,
             "#7201a8"
            ],
            [
             0.3333333333333333,
             "#9c179e"
            ],
            [
             0.4444444444444444,
             "#bd3786"
            ],
            [
             0.5555555555555556,
             "#d8576b"
            ],
            [
             0.6666666666666666,
             "#ed7953"
            ],
            [
             0.7777777777777778,
             "#fb9f3a"
            ],
            [
             0.8888888888888888,
             "#fdca26"
            ],
            [
             1,
             "#f0f921"
            ]
           ]
          },
          "colorway": [
           "#636efa",
           "#EF553B",
           "#00cc96",
           "#ab63fa",
           "#FFA15A",
           "#19d3f3",
           "#FF6692",
           "#B6E880",
           "#FF97FF",
           "#FECB52"
          ],
          "font": {
           "color": "#2a3f5f"
          },
          "geo": {
           "bgcolor": "white",
           "lakecolor": "white",
           "landcolor": "#E5ECF6",
           "showlakes": true,
           "showland": true,
           "subunitcolor": "white"
          },
          "hoverlabel": {
           "align": "left"
          },
          "hovermode": "closest",
          "mapbox": {
           "style": "light"
          },
          "paper_bgcolor": "white",
          "plot_bgcolor": "#E5ECF6",
          "polar": {
           "angularaxis": {
            "gridcolor": "white",
            "linecolor": "white",
            "ticks": ""
           },
           "bgcolor": "#E5ECF6",
           "radialaxis": {
            "gridcolor": "white",
            "linecolor": "white",
            "ticks": ""
           }
          },
          "scene": {
           "xaxis": {
            "backgroundcolor": "#E5ECF6",
            "gridcolor": "white",
            "gridwidth": 2,
            "linecolor": "white",
            "showbackground": true,
            "ticks": "",
            "zerolinecolor": "white"
           },
           "yaxis": {
            "backgroundcolor": "#E5ECF6",
            "gridcolor": "white",
            "gridwidth": 2,
            "linecolor": "white",
            "showbackground": true,
            "ticks": "",
            "zerolinecolor": "white"
           },
           "zaxis": {
            "backgroundcolor": "#E5ECF6",
            "gridcolor": "white",
            "gridwidth": 2,
            "linecolor": "white",
            "showbackground": true,
            "ticks": "",
            "zerolinecolor": "white"
           }
          },
          "shapedefaults": {
           "line": {
            "color": "#2a3f5f"
           }
          },
          "ternary": {
           "aaxis": {
            "gridcolor": "white",
            "linecolor": "white",
            "ticks": ""
           },
           "baxis": {
            "gridcolor": "white",
            "linecolor": "white",
            "ticks": ""
           },
           "bgcolor": "#E5ECF6",
           "caxis": {
            "gridcolor": "white",
            "linecolor": "white",
            "ticks": ""
           }
          },
          "title": {
           "x": 0.05
          },
          "xaxis": {
           "automargin": true,
           "gridcolor": "white",
           "linecolor": "white",
           "ticks": "",
           "title": {
            "standoff": 15
           },
           "zerolinecolor": "white",
           "zerolinewidth": 2
          },
          "yaxis": {
           "automargin": true,
           "gridcolor": "white",
           "linecolor": "white",
           "ticks": "",
           "title": {
            "standoff": 15
           },
           "zerolinecolor": "white",
           "zerolinewidth": 2
          }
         }
        },
        "title": {
         "text": "Embeddings Visualization with 2D PCA"
        },
        "xaxis": {
         "anchor": "y",
         "domain": [
          0,
          1
         ],
         "title": {
          "text": "PCA Component 1"
         }
        },
        "yaxis": {
         "anchor": "x",
         "domain": [
          0,
          1
         ],
         "title": {
          "text": "PCA Component 2"
         }
        }
       }
      }
     },
     "metadata": {},
     "output_type": "display_data"
    },
    {
     "data": {
      "application/vnd.plotly.v1+json": {
       "config": {
        "plotlyServerURL": "https://plot.ly"
       },
       "data": [
        {
         "customdata": [
          [
           "Auditorias"
          ],
          [
           "Auditorias"
          ],
          [
           "Auditorias"
          ],
          [
           "Auditorias"
          ],
          [
           "Auditorias"
          ],
          [
           "Auditorias"
          ],
          [
           "Auditorias"
          ],
          [
           "Auditorias"
          ],
          [
           "Auditorias"
          ],
          [
           "Auditorias"
          ],
          [
           "Auditorias"
          ],
          [
           "Auditorias"
          ],
          [
           "Auditorias"
          ],
          [
           "Auditorias"
          ],
          [
           "Auditorias"
          ],
          [
           "Auditorias"
          ],
          [
           "Auditorias"
          ],
          [
           "Auditorias"
          ],
          [
           "Auditorias"
          ],
          [
           "Auditorias"
          ],
          [
           "Auditorias"
          ],
          [
           "Auditorias"
          ],
          [
           "Auditorias"
          ],
          [
           "Auditorias"
          ],
          [
           "Auditorias"
          ],
          [
           "Auditorias"
          ],
          [
           "Auditorias"
          ],
          [
           "Auditorias"
          ],
          [
           "Auditorias"
          ],
          [
           "Auditorias"
          ],
          [
           "Auditorias"
          ],
          [
           "Auditorias"
          ],
          [
           "Auditorias"
          ],
          [
           "Auditorias"
          ],
          [
           "Auditorias"
          ],
          [
           "Auditorias"
          ],
          [
           "Auditorias"
          ],
          [
           "Auditorias"
          ],
          [
           "Auditorias"
          ],
          [
           "Auditorias"
          ],
          [
           "Auditorias"
          ],
          [
           "Auditorias"
          ],
          [
           "Auditorias"
          ],
          [
           "Auditorias"
          ],
          [
           "Auditorias"
          ],
          [
           "Auditorias"
          ],
          [
           "Auditorias"
          ],
          [
           "Auditorias"
          ],
          [
           "Auditorias"
          ],
          [
           "Auditorias"
          ],
          [
           "Auditorias"
          ],
          [
           "Auditorias"
          ],
          [
           "Auditorias"
          ],
          [
           "Auditorias"
          ],
          [
           "Auditorias"
          ],
          [
           "Auditorias"
          ],
          [
           "Auditorias"
          ],
          [
           "Auditorias"
          ]
         ],
         "hovertemplate": "color=Auditorias<br>t-SNE Component 1=%{x}<br>t-SNE Component 2=%{y}<br>label=%{customdata[0]}<extra></extra>",
         "legendgroup": "Auditorias",
         "marker": {
          "color": "#636efa",
          "symbol": "circle"
         },
         "mode": "markers",
         "name": "Auditorias",
         "orientation": "v",
         "showlegend": true,
         "type": "scatter",
         "x": [
          -21.481968,
          4.217162,
          4.290428,
          -18.992685,
          11.128085,
          0.48835513,
          0.026523707,
          -0.61748797,
          -0.8796084,
          -0.37985876,
          -0.23983547,
          0.5653135,
          -9.460366,
          -3.317671,
          -3.2153516,
          -15.686388,
          -6.1406064,
          -13.929208,
          -8.393094,
          -17.131216,
          4.4821057,
          -7.6822753,
          -3.794941,
          -22.487537,
          -6.4402647,
          -14.415038,
          -15.063277,
          -13.997331,
          3.8068874,
          -24.616457,
          -25.175446,
          -25.725058,
          -26.661396,
          -27.560669,
          -27.774529,
          -27.957829,
          0.49483562,
          0.66630423,
          1.1445073,
          -9.460631,
          -3.1043794,
          -15.718654,
          -7.359757,
          -6.183697,
          -13.812266,
          -8.396795,
          -17.148897,
          4.4675837,
          4.2600017,
          -20.580158,
          -20.963032,
          -6.4397516,
          -13.646048,
          -15.567364,
          -11.421653,
          -11.376519,
          -0.9372471,
          -21.979115
         ],
         "xaxis": "x",
         "y": [
          21.978199,
          25.952202,
          25.534859,
          14.906149,
          33.177315,
          31.710209,
          32.00565,
          32.172615,
          32.633175,
          11.947624,
          12.885531,
          13.721276,
          17.686068,
          23.912384,
          22.219912,
          8.689929,
          12.199251,
          19.604536,
          24.955229,
          3.3685963,
          2.2802641,
          8.282391,
          10.380874,
          9.46642,
          20.114786,
          13.5313635,
          13.542162,
          15.992211,
          24.620256,
          -3.6038153,
          -3.1265278,
          -2.6644323,
          -1.9473044,
          -1.1540698,
          -0.50360346,
          0.109285384,
          11.736076,
          12.478649,
          13.344535,
          17.685604,
          22.52587,
          8.698056,
          12.221548,
          12.189818,
          19.54792,
          24.96899,
          3.3630996,
          2.3228946,
          2.9165468,
          10.973134,
          10.687402,
          20.114695,
          13.5781765,
          14.347417,
          8.732129,
          8.089932,
          9.472435,
          9.892072
         ],
         "yaxis": "y"
        },
        {
         "customdata": [
          [
           "Ausentismo"
          ],
          [
           "Ausentismo"
          ],
          [
           "Ausentismo"
          ],
          [
           "Ausentismo"
          ],
          [
           "Ausentismo"
          ],
          [
           "Ausentismo"
          ],
          [
           "Ausentismo"
          ],
          [
           "Ausentismo"
          ],
          [
           "Ausentismo"
          ],
          [
           "Ausentismo"
          ],
          [
           "Ausentismo"
          ],
          [
           "Ausentismo"
          ],
          [
           "Ausentismo"
          ],
          [
           "Ausentismo"
          ],
          [
           "Ausentismo"
          ],
          [
           "Ausentismo"
          ],
          [
           "Ausentismo"
          ],
          [
           "Ausentismo"
          ],
          [
           "Ausentismo"
          ],
          [
           "Ausentismo"
          ],
          [
           "Ausentismo"
          ],
          [
           "Ausentismo"
          ],
          [
           "Ausentismo"
          ],
          [
           "Ausentismo"
          ],
          [
           "Ausentismo"
          ],
          [
           "Ausentismo"
          ],
          [
           "Ausentismo"
          ],
          [
           "Ausentismo"
          ],
          [
           "Ausentismo"
          ],
          [
           "Ausentismo"
          ],
          [
           "Ausentismo"
          ],
          [
           "Ausentismo"
          ],
          [
           "Ausentismo"
          ],
          [
           "Ausentismo"
          ],
          [
           "Ausentismo"
          ],
          [
           "Ausentismo"
          ],
          [
           "Ausentismo"
          ],
          [
           "Ausentismo"
          ],
          [
           "Ausentismo"
          ],
          [
           "Ausentismo"
          ]
         ],
         "hovertemplate": "color=Ausentismo<br>t-SNE Component 1=%{x}<br>t-SNE Component 2=%{y}<br>label=%{customdata[0]}<extra></extra>",
         "legendgroup": "Ausentismo",
         "marker": {
          "color": "#EF553B",
          "symbol": "circle"
         },
         "mode": "markers",
         "name": "Ausentismo",
         "orientation": "v",
         "showlegend": true,
         "type": "scatter",
         "x": [
          5.9622846,
          -20.988321,
          -20.2106,
          25.937262,
          25.866096,
          -20.197803,
          -20.231441,
          -21.882221,
          -8.763165,
          -8.578251,
          -11.984131,
          -13.95919,
          -13.479806,
          -12.863125,
          -26.118368,
          -26.271124,
          -26.314054,
          -26.249092,
          -18.41109,
          -18.521608,
          -17.4123,
          -16.121979,
          -15.647494,
          -14.529827,
          -12.802375,
          -23.95443,
          -25.00016,
          -16.192081,
          -15.839461,
          -14.653355,
          -14.370461,
          -19.093536,
          -23.751266,
          -24.236158,
          -24.710672,
          -16.430244,
          -14.883294,
          -7.4955363,
          -20.146141,
          25.213156
         ],
         "xaxis": "x",
         "y": [
          26.390368,
          14.479556,
          14.276564,
          25.045057,
          24.90936,
          -20.546268,
          -20.441502,
          -21.626326,
          -7.4198985,
          -7.3610487,
          11.172638,
          3.8294294,
          4.6310153,
          5.6389647,
          -13.48536,
          -12.779618,
          -11.801964,
          -10.920726,
          -18.9919,
          -18.938675,
          -27.764719,
          -27.642643,
          -27.724804,
          -26.93498,
          5.752783,
          -13.416779,
          -9.7542095,
          -19.290379,
          -18.582512,
          -17.053886,
          -16.764881,
          7.0068326,
          -12.465314,
          -11.567925,
          -10.8801985,
          -20.620508,
          -29.015507,
          -9.484811,
          12.859575,
          23.8593
         ],
         "yaxis": "y"
        },
        {
         "customdata": [
          [
           "Estructura Organizativa"
          ],
          [
           "Estructura Organizativa"
          ],
          [
           "Estructura Organizativa"
          ],
          [
           "Estructura Organizativa"
          ],
          [
           "Estructura Organizativa"
          ],
          [
           "Estructura Organizativa"
          ],
          [
           "Estructura Organizativa"
          ],
          [
           "Estructura Organizativa"
          ],
          [
           "Estructura Organizativa"
          ],
          [
           "Estructura Organizativa"
          ],
          [
           "Estructura Organizativa"
          ],
          [
           "Estructura Organizativa"
          ],
          [
           "Estructura Organizativa"
          ],
          [
           "Estructura Organizativa"
          ],
          [
           "Estructura Organizativa"
          ],
          [
           "Estructura Organizativa"
          ],
          [
           "Estructura Organizativa"
          ],
          [
           "Estructura Organizativa"
          ],
          [
           "Estructura Organizativa"
          ],
          [
           "Estructura Organizativa"
          ],
          [
           "Estructura Organizativa"
          ],
          [
           "Estructura Organizativa"
          ],
          [
           "Estructura Organizativa"
          ],
          [
           "Estructura Organizativa"
          ],
          [
           "Estructura Organizativa"
          ],
          [
           "Estructura Organizativa"
          ],
          [
           "Estructura Organizativa"
          ],
          [
           "Estructura Organizativa"
          ],
          [
           "Estructura Organizativa"
          ],
          [
           "Estructura Organizativa"
          ],
          [
           "Estructura Organizativa"
          ],
          [
           "Estructura Organizativa"
          ],
          [
           "Estructura Organizativa"
          ],
          [
           "Estructura Organizativa"
          ],
          [
           "Estructura Organizativa"
          ],
          [
           "Estructura Organizativa"
          ],
          [
           "Estructura Organizativa"
          ],
          [
           "Estructura Organizativa"
          ],
          [
           "Estructura Organizativa"
          ],
          [
           "Estructura Organizativa"
          ],
          [
           "Estructura Organizativa"
          ],
          [
           "Estructura Organizativa"
          ],
          [
           "Estructura Organizativa"
          ],
          [
           "Estructura Organizativa"
          ],
          [
           "Estructura Organizativa"
          ],
          [
           "Estructura Organizativa"
          ],
          [
           "Estructura Organizativa"
          ],
          [
           "Estructura Organizativa"
          ],
          [
           "Estructura Organizativa"
          ],
          [
           "Estructura Organizativa"
          ],
          [
           "Estructura Organizativa"
          ],
          [
           "Estructura Organizativa"
          ],
          [
           "Estructura Organizativa"
          ],
          [
           "Estructura Organizativa"
          ],
          [
           "Estructura Organizativa"
          ],
          [
           "Estructura Organizativa"
          ],
          [
           "Estructura Organizativa"
          ],
          [
           "Estructura Organizativa"
          ],
          [
           "Estructura Organizativa"
          ],
          [
           "Estructura Organizativa"
          ],
          [
           "Estructura Organizativa"
          ],
          [
           "Estructura Organizativa"
          ],
          [
           "Estructura Organizativa"
          ],
          [
           "Estructura Organizativa"
          ],
          [
           "Estructura Organizativa"
          ],
          [
           "Estructura Organizativa"
          ],
          [
           "Estructura Organizativa"
          ],
          [
           "Estructura Organizativa"
          ],
          [
           "Estructura Organizativa"
          ],
          [
           "Estructura Organizativa"
          ],
          [
           "Estructura Organizativa"
          ],
          [
           "Estructura Organizativa"
          ],
          [
           "Estructura Organizativa"
          ],
          [
           "Estructura Organizativa"
          ],
          [
           "Estructura Organizativa"
          ],
          [
           "Estructura Organizativa"
          ],
          [
           "Estructura Organizativa"
          ],
          [
           "Estructura Organizativa"
          ],
          [
           "Estructura Organizativa"
          ],
          [
           "Estructura Organizativa"
          ],
          [
           "Estructura Organizativa"
          ],
          [
           "Estructura Organizativa"
          ],
          [
           "Estructura Organizativa"
          ],
          [
           "Estructura Organizativa"
          ],
          [
           "Estructura Organizativa"
          ],
          [
           "Estructura Organizativa"
          ],
          [
           "Estructura Organizativa"
          ],
          [
           "Estructura Organizativa"
          ],
          [
           "Estructura Organizativa"
          ],
          [
           "Estructura Organizativa"
          ],
          [
           "Estructura Organizativa"
          ],
          [
           "Estructura Organizativa"
          ],
          [
           "Estructura Organizativa"
          ],
          [
           "Estructura Organizativa"
          ],
          [
           "Estructura Organizativa"
          ],
          [
           "Estructura Organizativa"
          ],
          [
           "Estructura Organizativa"
          ],
          [
           "Estructura Organizativa"
          ],
          [
           "Estructura Organizativa"
          ],
          [
           "Estructura Organizativa"
          ],
          [
           "Estructura Organizativa"
          ],
          [
           "Estructura Organizativa"
          ],
          [
           "Estructura Organizativa"
          ],
          [
           "Estructura Organizativa"
          ],
          [
           "Estructura Organizativa"
          ],
          [
           "Estructura Organizativa"
          ],
          [
           "Estructura Organizativa"
          ],
          [
           "Estructura Organizativa"
          ],
          [
           "Estructura Organizativa"
          ],
          [
           "Estructura Organizativa"
          ],
          [
           "Estructura Organizativa"
          ],
          [
           "Estructura Organizativa"
          ],
          [
           "Estructura Organizativa"
          ],
          [
           "Estructura Organizativa"
          ],
          [
           "Estructura Organizativa"
          ],
          [
           "Estructura Organizativa"
          ],
          [
           "Estructura Organizativa"
          ],
          [
           "Estructura Organizativa"
          ],
          [
           "Estructura Organizativa"
          ],
          [
           "Estructura Organizativa"
          ],
          [
           "Estructura Organizativa"
          ],
          [
           "Estructura Organizativa"
          ],
          [
           "Estructura Organizativa"
          ],
          [
           "Estructura Organizativa"
          ],
          [
           "Estructura Organizativa"
          ],
          [
           "Estructura Organizativa"
          ],
          [
           "Estructura Organizativa"
          ],
          [
           "Estructura Organizativa"
          ],
          [
           "Estructura Organizativa"
          ],
          [
           "Estructura Organizativa"
          ],
          [
           "Estructura Organizativa"
          ],
          [
           "Estructura Organizativa"
          ],
          [
           "Estructura Organizativa"
          ],
          [
           "Estructura Organizativa"
          ],
          [
           "Estructura Organizativa"
          ],
          [
           "Estructura Organizativa"
          ],
          [
           "Estructura Organizativa"
          ],
          [
           "Estructura Organizativa"
          ],
          [
           "Estructura Organizativa"
          ],
          [
           "Estructura Organizativa"
          ],
          [
           "Estructura Organizativa"
          ],
          [
           "Estructura Organizativa"
          ],
          [
           "Estructura Organizativa"
          ],
          [
           "Estructura Organizativa"
          ],
          [
           "Estructura Organizativa"
          ],
          [
           "Estructura Organizativa"
          ],
          [
           "Estructura Organizativa"
          ],
          [
           "Estructura Organizativa"
          ],
          [
           "Estructura Organizativa"
          ],
          [
           "Estructura Organizativa"
          ],
          [
           "Estructura Organizativa"
          ],
          [
           "Estructura Organizativa"
          ],
          [
           "Estructura Organizativa"
          ],
          [
           "Estructura Organizativa"
          ],
          [
           "Estructura Organizativa"
          ],
          [
           "Estructura Organizativa"
          ],
          [
           "Estructura Organizativa"
          ],
          [
           "Estructura Organizativa"
          ],
          [
           "Estructura Organizativa"
          ],
          [
           "Estructura Organizativa"
          ],
          [
           "Estructura Organizativa"
          ],
          [
           "Estructura Organizativa"
          ],
          [
           "Estructura Organizativa"
          ],
          [
           "Estructura Organizativa"
          ],
          [
           "Estructura Organizativa"
          ],
          [
           "Estructura Organizativa"
          ],
          [
           "Estructura Organizativa"
          ],
          [
           "Estructura Organizativa"
          ],
          [
           "Estructura Organizativa"
          ],
          [
           "Estructura Organizativa"
          ],
          [
           "Estructura Organizativa"
          ],
          [
           "Estructura Organizativa"
          ],
          [
           "Estructura Organizativa"
          ],
          [
           "Estructura Organizativa"
          ],
          [
           "Estructura Organizativa"
          ],
          [
           "Estructura Organizativa"
          ],
          [
           "Estructura Organizativa"
          ],
          [
           "Estructura Organizativa"
          ],
          [
           "Estructura Organizativa"
          ],
          [
           "Estructura Organizativa"
          ],
          [
           "Estructura Organizativa"
          ],
          [
           "Estructura Organizativa"
          ],
          [
           "Estructura Organizativa"
          ],
          [
           "Estructura Organizativa"
          ],
          [
           "Estructura Organizativa"
          ],
          [
           "Estructura Organizativa"
          ],
          [
           "Estructura Organizativa"
          ],
          [
           "Estructura Organizativa"
          ],
          [
           "Estructura Organizativa"
          ],
          [
           "Estructura Organizativa"
          ],
          [
           "Estructura Organizativa"
          ],
          [
           "Estructura Organizativa"
          ],
          [
           "Estructura Organizativa"
          ],
          [
           "Estructura Organizativa"
          ],
          [
           "Estructura Organizativa"
          ],
          [
           "Estructura Organizativa"
          ],
          [
           "Estructura Organizativa"
          ],
          [
           "Estructura Organizativa"
          ],
          [
           "Estructura Organizativa"
          ],
          [
           "Estructura Organizativa"
          ],
          [
           "Estructura Organizativa"
          ],
          [
           "Estructura Organizativa"
          ],
          [
           "Estructura Organizativa"
          ],
          [
           "Estructura Organizativa"
          ],
          [
           "Estructura Organizativa"
          ],
          [
           "Estructura Organizativa"
          ],
          [
           "Estructura Organizativa"
          ],
          [
           "Estructura Organizativa"
          ],
          [
           "Estructura Organizativa"
          ],
          [
           "Estructura Organizativa"
          ],
          [
           "Estructura Organizativa"
          ]
         ],
         "hovertemplate": "color=Estructura Organizativa<br>t-SNE Component 1=%{x}<br>t-SNE Component 2=%{y}<br>label=%{customdata[0]}<extra></extra>",
         "legendgroup": "Estructura Organizativa",
         "marker": {
          "color": "#00cc96",
          "symbol": "circle"
         },
         "mode": "markers",
         "name": "Estructura Organizativa",
         "orientation": "v",
         "showlegend": true,
         "type": "scatter",
         "x": [
          -19.139885,
          -21.037838,
          4.249485,
          17.666595,
          17.889315,
          18.001846,
          20.82145,
          21.752909,
          21.710304,
          21.976412,
          22.460857,
          11.454296,
          16.724405,
          -10.408244,
          28.393978,
          27.766523,
          26.829039,
          25.274479,
          24.019894,
          22.697823,
          21.824518,
          21.534142,
          13.447181,
          3.8528652,
          4.087379,
          4.417432,
          20.133307,
          -8.992133,
          -8.794892,
          -8.2741995,
          -8.07005,
          0.15270527,
          0.73748034,
          18.755072,
          -8.015297,
          -8.067171,
          -7.3456345,
          -6.9839854,
          -7.1740413,
          -7.2173834,
          15.510953,
          -12.026171,
          -11.807237,
          11.980918,
          1.0434628,
          1.8148644,
          2.4108255,
          3.3186913,
          3.6686795,
          18.771957,
          -3.6173499,
          -3.779444,
          -4.608372,
          -5.385901,
          -4.843723,
          -4.018738,
          -3.0770614,
          -2.3996959,
          -1.9218787,
          19.153833,
          -1.1416633,
          -3.3518302,
          -4.538335,
          7.407826,
          -2.9025435,
          11.027112,
          -1.7125406,
          -0.60815156,
          1.6555532,
          3.5124323,
          4.375383,
          5.0915365,
          -2.648099,
          11.122734,
          10.90071,
          -10.122883,
          3.1670551,
          3.425348,
          3.8584273,
          -5.0902367,
          1.4903717,
          -3.6327891,
          10.883204,
          10.322729,
          9.110268,
          -3.0556424,
          -3.3828888,
          -2.2320487,
          -2.1508718,
          -0.2910949,
          14.036725,
          14.413136,
          5.8080287,
          7.8385406,
          7.489647,
          12.684789,
          13.742835,
          -9.391975,
          -10.025702,
          -10.385429,
          -10.541542,
          -9.982239,
          -9.196972,
          -8.432695,
          -8.340093,
          7.428991,
          6.9676366,
          7.1513014,
          11.894669,
          -0.92566776,
          -1.9191401,
          -2.910492,
          17.729319,
          13.827276,
          -1.195087,
          -1.2667294,
          0.22287187,
          1.7669209,
          1.799716,
          1.2756443,
          1.2324952,
          2.0172026,
          2.7752552,
          21.584396,
          -17.321138,
          21.727785,
          -17.385555,
          -17.403856,
          15.722899,
          29.332207,
          25.177649,
          24.002466,
          22.949581,
          23.162964,
          22.572643,
          -10.647699,
          -9.757486,
          -9.065759,
          -8.231465,
          -5.0604606,
          -4.658924,
          -11.049447,
          -5.1150837,
          -4.452776,
          -4.182165,
          13.428045,
          -9.735216,
          -8.930415,
          -8.082001,
          -7.2520194,
          -6.1999097,
          -5.621845,
          -10.948131,
          -5.4996495,
          -5.127407,
          -4.607228,
          12.9924345,
          -9.784162,
          -9.233554,
          -8.082258,
          -6.9867735,
          -6.0784287,
          -5.3446584,
          7.8246555,
          -3.7107532,
          12.377322,
          15.378306,
          28.293978,
          27.348711,
          25.633347,
          24.44627,
          23.815762,
          22.937197,
          22.117176,
          -9.897447,
          -8.749631,
          -7.722274,
          -6.41285,
          -5.7278843,
          -1.3800087,
          -9.706425,
          -8.051395,
          -6.8598804,
          -6.1199236,
          -2.0596323,
          -1.3518857,
          -6.7193823,
          -7.0321097,
          -6.6420593,
          13.882733,
          2.8387303,
          2.1589885,
          1.5527807,
          -0.29307148,
          -1.3596587,
          -1.7921298,
          -1.5287833,
          6.978554,
          7.9226875,
          8.986979,
          9.910276,
          10.239841,
          10.628052,
          11.084472,
          9.679122,
          11.771338,
          -6.516607,
          17.291328,
          6.081815,
          5.953493,
          13.436018
         ],
         "xaxis": "x",
         "y": [
          22.110094,
          23.36679,
          28.020565,
          -4.476851,
          -4.0860014,
          -3.5415552,
          -10.125892,
          -4.8597074,
          -5.5388737,
          -6.0514536,
          -5.9902606,
          18.415129,
          -7.143051,
          21.025227,
          37.900326,
          38.17062,
          37.648067,
          37.644207,
          37.681744,
          37.93246,
          36.594376,
          35.735165,
          -18.120537,
          -20.088781,
          -19.571867,
          -19.045279,
          -11.762508,
          -10.974033,
          -11.349172,
          -12.314951,
          -13.730318,
          -17.237362,
          -17.505718,
          -10.247906,
          1.7570931,
          1.2640501,
          0.40268758,
          -0.5224381,
          -1.5025834,
          -2.3354723,
          -23.32865,
          -12.287717,
          -12.35886,
          -16.723362,
          -5.483648,
          -5.4298196,
          -5.7227035,
          -5.457821,
          -5.312207,
          -10.7606735,
          1.2593044,
          1.175131,
          0.64380926,
          -0.88492167,
          -1.8629961,
          -2.3974814,
          -2.4860053,
          -2.3768013,
          -2.1953628,
          -8.933278,
          -12.573587,
          -11.884855,
          -11.03327,
          -16.048891,
          -13.23841,
          -19.527555,
          -10.301147,
          -10.545997,
          -11.355168,
          -11.79065,
          -12.245588,
          -12.800604,
          -29.762794,
          -18.981665,
          -17.27304,
          -13.498868,
          -15.71648,
          -15.16234,
          -14.607391,
          -12.31606,
          -13.4978695,
          -13.29037,
          -18.637838,
          -16.856815,
          -16.068365,
          -8.810795,
          -9.778333,
          -17.295732,
          -17.801928,
          -14.7732725,
          -10.9271345,
          -11.743243,
          -24.560658,
          -27.208036,
          -27.089016,
          -19.454578,
          -18.472275,
          1.9208837,
          1.1230632,
          0.51296,
          -0.7178894,
          -1.4628001,
          -2.0742624,
          -2.7945201,
          -3.316027,
          -10.414098,
          -8.342313,
          -8.754866,
          -12.946574,
          -14.802555,
          -14.719552,
          -14.744008,
          21.230753,
          -10.219432,
          -20.566938,
          -20.511442,
          -23.117132,
          -24.691465,
          -25.36322,
          -26.466675,
          -27.341085,
          -27.553404,
          -27.614159,
          21.716131,
          -22.417055,
          21.818823,
          -23.982481,
          -23.938269,
          -7.5871787,
          36.031178,
          34.94511,
          34.511368,
          36.975857,
          35.117508,
          34.14435,
          -18.740295,
          -18.992434,
          -19.152912,
          -19.05552,
          -20.79476,
          -21.373041,
          -25.036827,
          -14.023933,
          -15.224951,
          -17.094732,
          -23.547712,
          -25.34024,
          -25.43475,
          -25.53681,
          -25.735327,
          -25.1542,
          -24.795933,
          -22.44703,
          -13.378459,
          -15.056705,
          -16.212128,
          -22.720297,
          -22.300434,
          -22.166174,
          -21.744183,
          -21.94167,
          -22.596884,
          -22.801577,
          -13.553936,
          -16.007542,
          -23.423925,
          -6.4061728,
          36.208103,
          36.331757,
          36.356377,
          35.653366,
          36.423035,
          36.054157,
          34.974506,
          -16.85427,
          -16.63621,
          -16.080166,
          -18.621044,
          -19.218443,
          -28.489695,
          -15.95658,
          -15.259947,
          -16.307644,
          -17.9608,
          -29.483025,
          -28.599302,
          -12.827153,
          -14.068004,
          -14.971586,
          -23.657986,
          -21.186905,
          -9.142331,
          -9.041293,
          -8.776496,
          -8.433764,
          -6.598533,
          -6.147217,
          -4.5795293,
          -4.6246743,
          -4.676361,
          -4.7738986,
          -4.762735,
          -0.112165205,
          0.056445222,
          -0.61390704,
          0.20675029,
          -10.568121,
          20.277292,
          -23.625748,
          -24.101269,
          -24.451593
         ],
         "yaxis": "y"
        },
        {
         "customdata": [
          [
           "Riesgos"
          ],
          [
           "Riesgos"
          ],
          [
           "Riesgos"
          ],
          [
           "Riesgos"
          ],
          [
           "Riesgos"
          ],
          [
           "Riesgos"
          ],
          [
           "Riesgos"
          ],
          [
           "Riesgos"
          ],
          [
           "Riesgos"
          ],
          [
           "Riesgos"
          ],
          [
           "Riesgos"
          ],
          [
           "Riesgos"
          ],
          [
           "Riesgos"
          ],
          [
           "Riesgos"
          ],
          [
           "Riesgos"
          ],
          [
           "Riesgos"
          ],
          [
           "Riesgos"
          ],
          [
           "Riesgos"
          ],
          [
           "Riesgos"
          ],
          [
           "Riesgos"
          ],
          [
           "Riesgos"
          ],
          [
           "Riesgos"
          ],
          [
           "Riesgos"
          ],
          [
           "Riesgos"
          ],
          [
           "Riesgos"
          ],
          [
           "Riesgos"
          ],
          [
           "Riesgos"
          ],
          [
           "Riesgos"
          ],
          [
           "Riesgos"
          ],
          [
           "Riesgos"
          ],
          [
           "Riesgos"
          ],
          [
           "Riesgos"
          ],
          [
           "Riesgos"
          ],
          [
           "Riesgos"
          ],
          [
           "Riesgos"
          ],
          [
           "Riesgos"
          ],
          [
           "Riesgos"
          ],
          [
           "Riesgos"
          ],
          [
           "Riesgos"
          ],
          [
           "Riesgos"
          ],
          [
           "Riesgos"
          ],
          [
           "Riesgos"
          ],
          [
           "Riesgos"
          ],
          [
           "Riesgos"
          ],
          [
           "Riesgos"
          ],
          [
           "Riesgos"
          ],
          [
           "Riesgos"
          ],
          [
           "Riesgos"
          ],
          [
           "Riesgos"
          ],
          [
           "Riesgos"
          ],
          [
           "Riesgos"
          ],
          [
           "Riesgos"
          ],
          [
           "Riesgos"
          ],
          [
           "Riesgos"
          ],
          [
           "Riesgos"
          ],
          [
           "Riesgos"
          ],
          [
           "Riesgos"
          ],
          [
           "Riesgos"
          ],
          [
           "Riesgos"
          ],
          [
           "Riesgos"
          ]
         ],
         "hovertemplate": "color=Riesgos<br>t-SNE Component 1=%{x}<br>t-SNE Component 2=%{y}<br>label=%{customdata[0]}<extra></extra>",
         "legendgroup": "Riesgos",
         "marker": {
          "color": "#ab63fa",
          "symbol": "circle"
         },
         "mode": "markers",
         "name": "Riesgos",
         "orientation": "v",
         "showlegend": true,
         "type": "scatter",
         "x": [
          -19.892464,
          1.9292648,
          1.6514567,
          0.14454788,
          15.432385,
          15.504561,
          -20.614176,
          -11.2138815,
          -11.119797,
          14.660856,
          14.046119,
          14.23045,
          13.434273,
          13.521014,
          13.169008,
          12.611843,
          12.109481,
          12.298856,
          -29.126963,
          -8.202947,
          -8.904495,
          17.30041,
          6.8330317,
          9.516869,
          3.4747834,
          4.181941,
          -20.655262,
          -20.088299,
          -19.779505,
          -19.427238,
          -9.727774,
          -20.990519,
          -10.163805,
          -3.4886863,
          7.9292746,
          -11.456016,
          -11.487534,
          21.054047,
          19.937834,
          10.534467,
          19.700975,
          23.710371,
          24.19421,
          24.434126,
          24.946968,
          25.716085,
          26.531462,
          26.927204,
          26.725048,
          17.547445,
          -1.6037474,
          -1.1534551,
          -0.54734635,
          -0.14932732,
          0.8765039,
          2.0706613,
          2.6032715,
          2.5967,
          2.5899239,
          2.5128393
         ],
         "xaxis": "x",
         "y": [
          22.467308,
          26.198824,
          25.739792,
          24.226221,
          16.712173,
          16.69226,
          16.626863,
          -9.145016,
          -9.125985,
          27.92317,
          27.948519,
          28.914312,
          29.14205,
          29.99221,
          30.794088,
          31.861118,
          32.573147,
          32.979168,
          -1.4518905,
          19.988379,
          20.357975,
          -10.213165,
          10.047514,
          14.378399,
          11.754714,
          12.045911,
          1.0841801,
          0.37392193,
          -0.20869741,
          -0.9401598,
          4.099558,
          1.9645084,
          14.216982,
          -31.203415,
          25.40083,
          14.423135,
          14.499682,
          30.195595,
          28.58082,
          -10.207182,
          28.253616,
          -1.8882285,
          -2.2453878,
          -1.5310384,
          -0.6720545,
          0.25617096,
          1.0719312,
          1.2121263,
          2.3475218,
          24.226254,
          19.113567,
          19.692665,
          19.641016,
          20.30646,
          19.978756,
          19.966125,
          19.4348,
          18.683254,
          17.341549,
          16.933731
         ],
         "yaxis": "y"
        },
        {
         "customdata": [
          [
           "Información"
          ],
          [
           "Información"
          ],
          [
           "Información"
          ],
          [
           "Información"
          ],
          [
           "Información"
          ],
          [
           "Información"
          ],
          [
           "Información"
          ],
          [
           "Información"
          ],
          [
           "Información"
          ],
          [
           "Información"
          ],
          [
           "Información"
          ],
          [
           "Información"
          ],
          [
           "Información"
          ],
          [
           "Información"
          ],
          [
           "Información"
          ],
          [
           "Información"
          ],
          [
           "Información"
          ],
          [
           "Información"
          ],
          [
           "Información"
          ],
          [
           "Información"
          ],
          [
           "Información"
          ]
         ],
         "hovertemplate": "color=Información<br>t-SNE Component 1=%{x}<br>t-SNE Component 2=%{y}<br>label=%{customdata[0]}<extra></extra>",
         "legendgroup": "Información",
         "marker": {
          "color": "#FFA15A",
          "symbol": "circle"
         },
         "mode": "markers",
         "name": "Información",
         "orientation": "v",
         "showlegend": true,
         "type": "scatter",
         "x": [
          3.399197,
          -20.886633,
          -3.0570407,
          6.5104055,
          7.2771215,
          7.8816986,
          8.197232,
          -3.005921,
          -22.07026,
          -22.05531,
          18.122028,
          18.282717,
          18.349934,
          -27.58079,
          -10.4564295,
          -10.2224245,
          1.6415106,
          -19.260607,
          -19.535816,
          -19.79657,
          4.4113092
         ],
         "xaxis": "x",
         "y": [
          27.809423,
          17.053036,
          15.247039,
          20.258167,
          20.565472,
          20.673983,
          20.952475,
          14.396964,
          -15.554068,
          -15.55597,
          -19.399075,
          -18.801712,
          -18.359938,
          -9.491029,
          11.180068,
          11.095745,
          29.069405,
          -6.199617,
          -6.5041018,
          -6.937735,
          -16.955353
         ],
         "yaxis": "y"
        },
        {
         "customdata": [
          [
           "Emergencia"
          ],
          [
           "Emergencia"
          ],
          [
           "Emergencia"
          ],
          [
           "Emergencia"
          ],
          [
           "Emergencia"
          ],
          [
           "Emergencia"
          ],
          [
           "Emergencia"
          ],
          [
           "Emergencia"
          ],
          [
           "Emergencia"
          ],
          [
           "Emergencia"
          ],
          [
           "Emergencia"
          ],
          [
           "Emergencia"
          ],
          [
           "Emergencia"
          ],
          [
           "Emergencia"
          ],
          [
           "Emergencia"
          ],
          [
           "Emergencia"
          ],
          [
           "Emergencia"
          ],
          [
           "Emergencia"
          ],
          [
           "Emergencia"
          ],
          [
           "Emergencia"
          ],
          [
           "Emergencia"
          ],
          [
           "Emergencia"
          ],
          [
           "Emergencia"
          ],
          [
           "Emergencia"
          ],
          [
           "Emergencia"
          ],
          [
           "Emergencia"
          ],
          [
           "Emergencia"
          ],
          [
           "Emergencia"
          ],
          [
           "Emergencia"
          ],
          [
           "Emergencia"
          ],
          [
           "Emergencia"
          ],
          [
           "Emergencia"
          ],
          [
           "Emergencia"
          ],
          [
           "Emergencia"
          ],
          [
           "Emergencia"
          ],
          [
           "Emergencia"
          ],
          [
           "Emergencia"
          ],
          [
           "Emergencia"
          ],
          [
           "Emergencia"
          ],
          [
           "Emergencia"
          ],
          [
           "Emergencia"
          ],
          [
           "Emergencia"
          ],
          [
           "Emergencia"
          ],
          [
           "Emergencia"
          ],
          [
           "Emergencia"
          ],
          [
           "Emergencia"
          ],
          [
           "Emergencia"
          ],
          [
           "Emergencia"
          ],
          [
           "Emergencia"
          ],
          [
           "Emergencia"
          ],
          [
           "Emergencia"
          ],
          [
           "Emergencia"
          ],
          [
           "Emergencia"
          ],
          [
           "Emergencia"
          ],
          [
           "Emergencia"
          ],
          [
           "Emergencia"
          ],
          [
           "Emergencia"
          ],
          [
           "Emergencia"
          ],
          [
           "Emergencia"
          ],
          [
           "Emergencia"
          ],
          [
           "Emergencia"
          ],
          [
           "Emergencia"
          ],
          [
           "Emergencia"
          ],
          [
           "Emergencia"
          ],
          [
           "Emergencia"
          ],
          [
           "Emergencia"
          ],
          [
           "Emergencia"
          ],
          [
           "Emergencia"
          ],
          [
           "Emergencia"
          ],
          [
           "Emergencia"
          ],
          [
           "Emergencia"
          ],
          [
           "Emergencia"
          ],
          [
           "Emergencia"
          ],
          [
           "Emergencia"
          ],
          [
           "Emergencia"
          ],
          [
           "Emergencia"
          ],
          [
           "Emergencia"
          ],
          [
           "Emergencia"
          ],
          [
           "Emergencia"
          ],
          [
           "Emergencia"
          ],
          [
           "Emergencia"
          ],
          [
           "Emergencia"
          ],
          [
           "Emergencia"
          ],
          [
           "Emergencia"
          ],
          [
           "Emergencia"
          ],
          [
           "Emergencia"
          ],
          [
           "Emergencia"
          ],
          [
           "Emergencia"
          ],
          [
           "Emergencia"
          ],
          [
           "Emergencia"
          ],
          [
           "Emergencia"
          ],
          [
           "Emergencia"
          ],
          [
           "Emergencia"
          ],
          [
           "Emergencia"
          ],
          [
           "Emergencia"
          ],
          [
           "Emergencia"
          ],
          [
           "Emergencia"
          ],
          [
           "Emergencia"
          ],
          [
           "Emergencia"
          ],
          [
           "Emergencia"
          ],
          [
           "Emergencia"
          ],
          [
           "Emergencia"
          ],
          [
           "Emergencia"
          ],
          [
           "Emergencia"
          ],
          [
           "Emergencia"
          ]
         ],
         "hovertemplate": "color=Emergencia<br>t-SNE Component 1=%{x}<br>t-SNE Component 2=%{y}<br>label=%{customdata[0]}<extra></extra>",
         "legendgroup": "Emergencia",
         "marker": {
          "color": "#19d3f3",
          "symbol": "circle"
         },
         "mode": "markers",
         "name": "Emergencia",
         "orientation": "v",
         "showlegend": true,
         "type": "scatter",
         "x": [
          -20.938595,
          6.4415107,
          6.9748073,
          -3.8914015,
          21.074804,
          20.573032,
          20.080334,
          19.617542,
          18.892067,
          18.160126,
          17.539293,
          17.559828,
          18.901327,
          22.577307,
          23.239534,
          24.109438,
          23.66984,
          23.810888,
          24.163664,
          24.934698,
          25.6581,
          26.375359,
          26.816309,
          27.35392,
          -18.78333,
          13.249582,
          12.870819,
          12.493706,
          21.931784,
          22.32435,
          22.558664,
          -15.000312,
          17.184895,
          17.512463,
          17.976229,
          17.986738,
          18.670519,
          18.296259,
          17.615208,
          17.527065,
          23.641987,
          -14.821866,
          -14.731658,
          8.431617,
          8.705108,
          9.155732,
          9.848527,
          10.857922,
          11.51301,
          12.209168,
          12.520294,
          13.212653,
          13.897628,
          14.064508,
          1.5591829,
          -15.401738,
          -15.059587,
          -15.502173,
          -15.097649,
          -14.342696,
          -14.063967,
          0.69327235,
          0.45787263,
          -1.0596807,
          -1.145675,
          -1.1998196,
          -15.06583,
          -12.569893,
          -15.901227,
          7.0129824,
          7.4153423,
          8.031093,
          8.532674,
          9.256809,
          9.846665,
          -6.484687,
          -6.5835166,
          -6.694569,
          7.13554,
          3.744042,
          3.776586,
          14.536227,
          14.331868,
          -4.973731,
          -5.766129,
          -6.5709906,
          -7.3332047,
          -7.6832514,
          -16.220781,
          -9.73041,
          -9.576609,
          -12.114829,
          -12.087357,
          2.890299,
          -4.561902,
          -4.464286,
          4.4253917,
          -5.4993625,
          -5.1091228,
          -16.288042,
          -17.90412,
          -17.930273,
          -18.452705,
          -7.053309,
          -18.116867
         ],
         "xaxis": "x",
         "y": [
          22.997137,
          27.62884,
          27.699331,
          21.4644,
          15.246731,
          14.881374,
          14.276365,
          13.529841,
          14.00547,
          13.261041,
          13.752787,
          14.381338,
          15.638906,
          13.333813,
          13.130691,
          13.575639,
          14.35016,
          15.2030115,
          15.960022,
          15.462465,
          15.557663,
          15.011099,
          14.292506,
          13.971759,
          15.777249,
          24.71096,
          24.408312,
          24.515701,
          6.3272324,
          6.719384,
          6.5639844,
          -11.427628,
          5.8852344,
          5.588637,
          5.0504074,
          4.2301383,
          3.6213636,
          2.6908665,
          2.5803337,
          1.9753551,
          17.432346,
          -9.763353,
          -10.157332,
          6.020099,
          5.64155,
          5.0343175,
          4.2532997,
          3.5474756,
          2.9917355,
          3.0609794,
          3.6005392,
          4.276196,
          5.5932913,
          6.088231,
          -1.5695912,
          -4.2622952,
          -3.8704503,
          -3.2839549,
          -2.6201067,
          -1.9732405,
          -1.602863,
          5.379974,
          5.1604195,
          4.262425,
          3.785109,
          3.2094107,
          -13.111771,
          -15.312716,
          -8.280221,
          11.649804,
          12.344132,
          12.168026,
          12.854137,
          12.524454,
          12.946715,
          15.878952,
          16.288002,
          16.682257,
          13.861912,
          7.5850286,
          7.5694866,
          13.625314,
          13.553028,
          7.153833,
          6.9579277,
          6.6303535,
          6.3477373,
          6.0624504,
          11.9669895,
          6.5222535,
          6.566823,
          -6.3994913,
          -6.4943523,
          -2.0032918,
          17.8893,
          17.90139,
          -10.472619,
          -7.680817,
          -7.2511897,
          11.851893,
          -11.4252,
          -11.535795,
          -12.232658,
          -6.5184097,
          -13.15543
         ],
         "yaxis": "y"
        },
        {
         "customdata": [
          [
           "Question: ¿Cómo se diferencia la ubicación física de la operativa?<br>Closest Model: Riesgos<br>Similarity: 0.78<br>Chunk: El usuario al acceder al cardboard “Riesgos por ubicación” visualiza el campo “Tipo de  ubicación” e..."
          ],
          [
           "Question: ¿Qué información se incluye en el informe de la evaluación de riesgos que ofrece la plataforma y cuál es su utilidad para la gestión de riesgos en la empresa?<br>Closest Model: Riesgos<br>Similarity: 0.89<br>Chunk: Sabentis es la nueva plataforma de gestión especializada en el ámbito de seguridad y salud en  el tr..."
          ],
          [
           "Question: ¿Hay indicadores relativos al cumplimiento de normas?<br>Closest Model: Auditorias<br>Similarity: 0.73<br>Chunk: Trabajo adaptada a las nuevas tecnologías y a los nuevos modelos de gestión de la  prevención.   La ..."
          ],
          [
           "Question: ¿Qué papel juega la estructura organizativa en la funcionalidad general de la plataforma y cómo interactúa con otros módulos?<br>Closest Model: Estructura Organizativa<br>Similarity: 0.87<br>Chunk: 3. HOME ESTRUCTURA ORGANIZATIVA  El usuario puede acceder al módulo Estructura Organizativa (EO), de..."
          ],
          [
           "Question: ¿Qué permite realizar la evaluación de riesgos?<br>Closest Model: Riesgos<br>Similarity: 0.85<br>Chunk: Permite elegir la metodología que se aplicará en las  evaluaciones de los riesgos identificados.  • ..."
          ],
          [
           "Question: ¿Qué tipo de documentos se pueden almacenar y compartir en el espacio denominado 'Documentos' y cuál es su importancia dentro del contexto de la gestión empresarial en la plataforma?<br>Closest Model: Información<br>Similarity: 0.88<br>Chunk: DATOS DEL DOCUMENTO  HISTÓRICO DE CAMBIOS  CONTENIDO  Sabentis es la nueva plataforma de gestión esp..."
          ],
          [
           "Question: ¿Se pueden llevar a cabo auditorías internas?<br>Closest Model: Emergencia<br>Similarity: 0.78<br>Chunk: para identificar y llevar a cabo actividades de mejoras tanto en los  procedimientos establecidos co..."
          ],
          [
           "Question: ¿Cuál es la tasa de adopción de esta plataforma en el mercado?<br>Closest Model: Estructura Organizativa<br>Similarity: 0.73<br>Chunk: CONTENIDO  Sabentis es la nueva plataforma de gestión especializada en el ámbito de Seguridad y Salu..."
          ],
          [
           "Question: ¿Cómo se compara esta plataforma con otras soluciones de gestión de SST?<br>Closest Model: Estructura Organizativa<br>Similarity: 0.82<br>Chunk: CONTENIDO  Sabentis es la nueva plataforma de gestión especializada en el ámbito de Seguridad y Salu..."
          ],
          [
           "Question: ¿Qué día hará mañana?<br>Closest Model: Estructura Organizativa<br>Similarity: 0.63<br>Chunk: Versión  Fecha  Comentarios  Autor  Versión 1.0  28/10/2021  Redacción  Mercedes León Chele  Versión..."
          ]
         ],
         "hovertemplate": "color=Question<br>t-SNE Component 1=%{x}<br>t-SNE Component 2=%{y}<br>label=%{customdata[0]}<extra></extra>",
         "legendgroup": "Question",
         "marker": {
          "color": "#FF6692",
          "symbol": "circle"
         },
         "mode": "markers",
         "name": "Question",
         "orientation": "v",
         "showlegend": true,
         "type": "scatter",
         "x": [
          22.161585,
          0.8923345,
          5.3989553,
          11.69255,
          2.250609,
          19.399065,
          21.70872,
          12.646629,
          3.796132,
          -19.876907
         ],
         "xaxis": "x",
         "y": [
          30.425709,
          27.126932,
          23.501398,
          19.028645,
          22.082472,
          -20.638504,
          11.600576,
          9.436043,
          29.867317,
          24.678305
         ],
         "yaxis": "y"
        }
       ],
       "layout": {
        "annotations": [
         {
          "arrowhead": 2,
          "showarrow": true,
          "text": "Q1",
          "x": 22.161584854125977,
          "y": 30.425708770751953
         },
         {
          "arrowhead": 2,
          "showarrow": true,
          "text": "Q2",
          "x": 0.892334520816803,
          "y": 27.12693214416504
         },
         {
          "arrowhead": 2,
          "showarrow": true,
          "text": "Q3",
          "x": 5.398955345153809,
          "y": 23.50139808654785
         },
         {
          "arrowhead": 2,
          "showarrow": true,
          "text": "Q4",
          "x": 11.692549705505371,
          "y": 19.028644561767578
         },
         {
          "arrowhead": 2,
          "showarrow": true,
          "text": "Q5",
          "x": 2.2506089210510254,
          "y": 22.08247184753418
         },
         {
          "arrowhead": 2,
          "showarrow": true,
          "text": "Q6",
          "x": 19.399065017700195,
          "y": -20.638504028320312
         },
         {
          "arrowhead": 2,
          "showarrow": true,
          "text": "Q7",
          "x": 21.70871925354004,
          "y": 11.600576400756836
         },
         {
          "arrowhead": 2,
          "showarrow": true,
          "text": "Q8",
          "x": 12.646629333496094,
          "y": 9.436042785644531
         },
         {
          "arrowhead": 2,
          "showarrow": true,
          "text": "Q9",
          "x": 3.7961320877075195,
          "y": 29.86731719970703
         },
         {
          "arrowhead": 2,
          "showarrow": true,
          "text": "Q10",
          "x": -19.876907348632812,
          "y": 24.67830467224121
         }
        ],
        "legend": {
         "title": {
          "text": "color"
         },
         "tracegroupgap": 0
        },
        "template": {
         "data": {
          "bar": [
           {
            "error_x": {
             "color": "#2a3f5f"
            },
            "error_y": {
             "color": "#2a3f5f"
            },
            "marker": {
             "line": {
              "color": "#E5ECF6",
              "width": 0.5
             },
             "pattern": {
              "fillmode": "overlay",
              "size": 10,
              "solidity": 0.2
             }
            },
            "type": "bar"
           }
          ],
          "barpolar": [
           {
            "marker": {
             "line": {
              "color": "#E5ECF6",
              "width": 0.5
             },
             "pattern": {
              "fillmode": "overlay",
              "size": 10,
              "solidity": 0.2
             }
            },
            "type": "barpolar"
           }
          ],
          "carpet": [
           {
            "aaxis": {
             "endlinecolor": "#2a3f5f",
             "gridcolor": "white",
             "linecolor": "white",
             "minorgridcolor": "white",
             "startlinecolor": "#2a3f5f"
            },
            "baxis": {
             "endlinecolor": "#2a3f5f",
             "gridcolor": "white",
             "linecolor": "white",
             "minorgridcolor": "white",
             "startlinecolor": "#2a3f5f"
            },
            "type": "carpet"
           }
          ],
          "choropleth": [
           {
            "colorbar": {
             "outlinewidth": 0,
             "ticks": ""
            },
            "type": "choropleth"
           }
          ],
          "contour": [
           {
            "colorbar": {
             "outlinewidth": 0,
             "ticks": ""
            },
            "colorscale": [
             [
              0,
              "#0d0887"
             ],
             [
              0.1111111111111111,
              "#46039f"
             ],
             [
              0.2222222222222222,
              "#7201a8"
             ],
             [
              0.3333333333333333,
              "#9c179e"
             ],
             [
              0.4444444444444444,
              "#bd3786"
             ],
             [
              0.5555555555555556,
              "#d8576b"
             ],
             [
              0.6666666666666666,
              "#ed7953"
             ],
             [
              0.7777777777777778,
              "#fb9f3a"
             ],
             [
              0.8888888888888888,
              "#fdca26"
             ],
             [
              1,
              "#f0f921"
             ]
            ],
            "type": "contour"
           }
          ],
          "contourcarpet": [
           {
            "colorbar": {
             "outlinewidth": 0,
             "ticks": ""
            },
            "type": "contourcarpet"
           }
          ],
          "heatmap": [
           {
            "colorbar": {
             "outlinewidth": 0,
             "ticks": ""
            },
            "colorscale": [
             [
              0,
              "#0d0887"
             ],
             [
              0.1111111111111111,
              "#46039f"
             ],
             [
              0.2222222222222222,
              "#7201a8"
             ],
             [
              0.3333333333333333,
              "#9c179e"
             ],
             [
              0.4444444444444444,
              "#bd3786"
             ],
             [
              0.5555555555555556,
              "#d8576b"
             ],
             [
              0.6666666666666666,
              "#ed7953"
             ],
             [
              0.7777777777777778,
              "#fb9f3a"
             ],
             [
              0.8888888888888888,
              "#fdca26"
             ],
             [
              1,
              "#f0f921"
             ]
            ],
            "type": "heatmap"
           }
          ],
          "heatmapgl": [
           {
            "colorbar": {
             "outlinewidth": 0,
             "ticks": ""
            },
            "colorscale": [
             [
              0,
              "#0d0887"
             ],
             [
              0.1111111111111111,
              "#46039f"
             ],
             [
              0.2222222222222222,
              "#7201a8"
             ],
             [
              0.3333333333333333,
              "#9c179e"
             ],
             [
              0.4444444444444444,
              "#bd3786"
             ],
             [
              0.5555555555555556,
              "#d8576b"
             ],
             [
              0.6666666666666666,
              "#ed7953"
             ],
             [
              0.7777777777777778,
              "#fb9f3a"
             ],
             [
              0.8888888888888888,
              "#fdca26"
             ],
             [
              1,
              "#f0f921"
             ]
            ],
            "type": "heatmapgl"
           }
          ],
          "histogram": [
           {
            "marker": {
             "pattern": {
              "fillmode": "overlay",
              "size": 10,
              "solidity": 0.2
             }
            },
            "type": "histogram"
           }
          ],
          "histogram2d": [
           {
            "colorbar": {
             "outlinewidth": 0,
             "ticks": ""
            },
            "colorscale": [
             [
              0,
              "#0d0887"
             ],
             [
              0.1111111111111111,
              "#46039f"
             ],
             [
              0.2222222222222222,
              "#7201a8"
             ],
             [
              0.3333333333333333,
              "#9c179e"
             ],
             [
              0.4444444444444444,
              "#bd3786"
             ],
             [
              0.5555555555555556,
              "#d8576b"
             ],
             [
              0.6666666666666666,
              "#ed7953"
             ],
             [
              0.7777777777777778,
              "#fb9f3a"
             ],
             [
              0.8888888888888888,
              "#fdca26"
             ],
             [
              1,
              "#f0f921"
             ]
            ],
            "type": "histogram2d"
           }
          ],
          "histogram2dcontour": [
           {
            "colorbar": {
             "outlinewidth": 0,
             "ticks": ""
            },
            "colorscale": [
             [
              0,
              "#0d0887"
             ],
             [
              0.1111111111111111,
              "#46039f"
             ],
             [
              0.2222222222222222,
              "#7201a8"
             ],
             [
              0.3333333333333333,
              "#9c179e"
             ],
             [
              0.4444444444444444,
              "#bd3786"
             ],
             [
              0.5555555555555556,
              "#d8576b"
             ],
             [
              0.6666666666666666,
              "#ed7953"
             ],
             [
              0.7777777777777778,
              "#fb9f3a"
             ],
             [
              0.8888888888888888,
              "#fdca26"
             ],
             [
              1,
              "#f0f921"
             ]
            ],
            "type": "histogram2dcontour"
           }
          ],
          "mesh3d": [
           {
            "colorbar": {
             "outlinewidth": 0,
             "ticks": ""
            },
            "type": "mesh3d"
           }
          ],
          "parcoords": [
           {
            "line": {
             "colorbar": {
              "outlinewidth": 0,
              "ticks": ""
             }
            },
            "type": "parcoords"
           }
          ],
          "pie": [
           {
            "automargin": true,
            "type": "pie"
           }
          ],
          "scatter": [
           {
            "fillpattern": {
             "fillmode": "overlay",
             "size": 10,
             "solidity": 0.2
            },
            "type": "scatter"
           }
          ],
          "scatter3d": [
           {
            "line": {
             "colorbar": {
              "outlinewidth": 0,
              "ticks": ""
             }
            },
            "marker": {
             "colorbar": {
              "outlinewidth": 0,
              "ticks": ""
             }
            },
            "type": "scatter3d"
           }
          ],
          "scattercarpet": [
           {
            "marker": {
             "colorbar": {
              "outlinewidth": 0,
              "ticks": ""
             }
            },
            "type": "scattercarpet"
           }
          ],
          "scattergeo": [
           {
            "marker": {
             "colorbar": {
              "outlinewidth": 0,
              "ticks": ""
             }
            },
            "type": "scattergeo"
           }
          ],
          "scattergl": [
           {
            "marker": {
             "colorbar": {
              "outlinewidth": 0,
              "ticks": ""
             }
            },
            "type": "scattergl"
           }
          ],
          "scattermapbox": [
           {
            "marker": {
             "colorbar": {
              "outlinewidth": 0,
              "ticks": ""
             }
            },
            "type": "scattermapbox"
           }
          ],
          "scatterpolar": [
           {
            "marker": {
             "colorbar": {
              "outlinewidth": 0,
              "ticks": ""
             }
            },
            "type": "scatterpolar"
           }
          ],
          "scatterpolargl": [
           {
            "marker": {
             "colorbar": {
              "outlinewidth": 0,
              "ticks": ""
             }
            },
            "type": "scatterpolargl"
           }
          ],
          "scatterternary": [
           {
            "marker": {
             "colorbar": {
              "outlinewidth": 0,
              "ticks": ""
             }
            },
            "type": "scatterternary"
           }
          ],
          "surface": [
           {
            "colorbar": {
             "outlinewidth": 0,
             "ticks": ""
            },
            "colorscale": [
             [
              0,
              "#0d0887"
             ],
             [
              0.1111111111111111,
              "#46039f"
             ],
             [
              0.2222222222222222,
              "#7201a8"
             ],
             [
              0.3333333333333333,
              "#9c179e"
             ],
             [
              0.4444444444444444,
              "#bd3786"
             ],
             [
              0.5555555555555556,
              "#d8576b"
             ],
             [
              0.6666666666666666,
              "#ed7953"
             ],
             [
              0.7777777777777778,
              "#fb9f3a"
             ],
             [
              0.8888888888888888,
              "#fdca26"
             ],
             [
              1,
              "#f0f921"
             ]
            ],
            "type": "surface"
           }
          ],
          "table": [
           {
            "cells": {
             "fill": {
              "color": "#EBF0F8"
             },
             "line": {
              "color": "white"
             }
            },
            "header": {
             "fill": {
              "color": "#C8D4E3"
             },
             "line": {
              "color": "white"
             }
            },
            "type": "table"
           }
          ]
         },
         "layout": {
          "annotationdefaults": {
           "arrowcolor": "#2a3f5f",
           "arrowhead": 0,
           "arrowwidth": 1
          },
          "autotypenumbers": "strict",
          "coloraxis": {
           "colorbar": {
            "outlinewidth": 0,
            "ticks": ""
           }
          },
          "colorscale": {
           "diverging": [
            [
             0,
             "#8e0152"
            ],
            [
             0.1,
             "#c51b7d"
            ],
            [
             0.2,
             "#de77ae"
            ],
            [
             0.3,
             "#f1b6da"
            ],
            [
             0.4,
             "#fde0ef"
            ],
            [
             0.5,
             "#f7f7f7"
            ],
            [
             0.6,
             "#e6f5d0"
            ],
            [
             0.7,
             "#b8e186"
            ],
            [
             0.8,
             "#7fbc41"
            ],
            [
             0.9,
             "#4d9221"
            ],
            [
             1,
             "#276419"
            ]
           ],
           "sequential": [
            [
             0,
             "#0d0887"
            ],
            [
             0.1111111111111111,
             "#46039f"
            ],
            [
             0.2222222222222222,
             "#7201a8"
            ],
            [
             0.3333333333333333,
             "#9c179e"
            ],
            [
             0.4444444444444444,
             "#bd3786"
            ],
            [
             0.5555555555555556,
             "#d8576b"
            ],
            [
             0.6666666666666666,
             "#ed7953"
            ],
            [
             0.7777777777777778,
             "#fb9f3a"
            ],
            [
             0.8888888888888888,
             "#fdca26"
            ],
            [
             1,
             "#f0f921"
            ]
           ],
           "sequentialminus": [
            [
             0,
             "#0d0887"
            ],
            [
             0.1111111111111111,
             "#46039f"
            ],
            [
             0.2222222222222222,
             "#7201a8"
            ],
            [
             0.3333333333333333,
             "#9c179e"
            ],
            [
             0.4444444444444444,
             "#bd3786"
            ],
            [
             0.5555555555555556,
             "#d8576b"
            ],
            [
             0.6666666666666666,
             "#ed7953"
            ],
            [
             0.7777777777777778,
             "#fb9f3a"
            ],
            [
             0.8888888888888888,
             "#fdca26"
            ],
            [
             1,
             "#f0f921"
            ]
           ]
          },
          "colorway": [
           "#636efa",
           "#EF553B",
           "#00cc96",
           "#ab63fa",
           "#FFA15A",
           "#19d3f3",
           "#FF6692",
           "#B6E880",
           "#FF97FF",
           "#FECB52"
          ],
          "font": {
           "color": "#2a3f5f"
          },
          "geo": {
           "bgcolor": "white",
           "lakecolor": "white",
           "landcolor": "#E5ECF6",
           "showlakes": true,
           "showland": true,
           "subunitcolor": "white"
          },
          "hoverlabel": {
           "align": "left"
          },
          "hovermode": "closest",
          "mapbox": {
           "style": "light"
          },
          "paper_bgcolor": "white",
          "plot_bgcolor": "#E5ECF6",
          "polar": {
           "angularaxis": {
            "gridcolor": "white",
            "linecolor": "white",
            "ticks": ""
           },
           "bgcolor": "#E5ECF6",
           "radialaxis": {
            "gridcolor": "white",
            "linecolor": "white",
            "ticks": ""
           }
          },
          "scene": {
           "xaxis": {
            "backgroundcolor": "#E5ECF6",
            "gridcolor": "white",
            "gridwidth": 2,
            "linecolor": "white",
            "showbackground": true,
            "ticks": "",
            "zerolinecolor": "white"
           },
           "yaxis": {
            "backgroundcolor": "#E5ECF6",
            "gridcolor": "white",
            "gridwidth": 2,
            "linecolor": "white",
            "showbackground": true,
            "ticks": "",
            "zerolinecolor": "white"
           },
           "zaxis": {
            "backgroundcolor": "#E5ECF6",
            "gridcolor": "white",
            "gridwidth": 2,
            "linecolor": "white",
            "showbackground": true,
            "ticks": "",
            "zerolinecolor": "white"
           }
          },
          "shapedefaults": {
           "line": {
            "color": "#2a3f5f"
           }
          },
          "ternary": {
           "aaxis": {
            "gridcolor": "white",
            "linecolor": "white",
            "ticks": ""
           },
           "baxis": {
            "gridcolor": "white",
            "linecolor": "white",
            "ticks": ""
           },
           "bgcolor": "#E5ECF6",
           "caxis": {
            "gridcolor": "white",
            "linecolor": "white",
            "ticks": ""
           }
          },
          "title": {
           "x": 0.05
          },
          "xaxis": {
           "automargin": true,
           "gridcolor": "white",
           "linecolor": "white",
           "ticks": "",
           "title": {
            "standoff": 15
           },
           "zerolinecolor": "white",
           "zerolinewidth": 2
          },
          "yaxis": {
           "automargin": true,
           "gridcolor": "white",
           "linecolor": "white",
           "ticks": "",
           "title": {
            "standoff": 15
           },
           "zerolinecolor": "white",
           "zerolinewidth": 2
          }
         }
        },
        "title": {
         "text": "Embeddings Visualization with 2D t-SNE"
        },
        "xaxis": {
         "anchor": "y",
         "domain": [
          0,
          1
         ],
         "title": {
          "text": "t-SNE Component 1"
         }
        },
        "yaxis": {
         "anchor": "x",
         "domain": [
          0,
          1
         ],
         "title": {
          "text": "t-SNE Component 2"
         }
        }
       }
      }
     },
     "metadata": {},
     "output_type": "display_data"
    },
    {
     "data": {
      "application/vnd.plotly.v1+json": {
       "config": {
        "plotlyServerURL": "https://plot.ly"
       },
       "data": [
        {
         "customdata": [
          [
           "Auditorias"
          ],
          [
           "Auditorias"
          ],
          [
           "Auditorias"
          ],
          [
           "Auditorias"
          ],
          [
           "Auditorias"
          ],
          [
           "Auditorias"
          ],
          [
           "Auditorias"
          ],
          [
           "Auditorias"
          ],
          [
           "Auditorias"
          ],
          [
           "Auditorias"
          ],
          [
           "Auditorias"
          ],
          [
           "Auditorias"
          ],
          [
           "Auditorias"
          ],
          [
           "Auditorias"
          ],
          [
           "Auditorias"
          ],
          [
           "Auditorias"
          ],
          [
           "Auditorias"
          ],
          [
           "Auditorias"
          ],
          [
           "Auditorias"
          ],
          [
           "Auditorias"
          ],
          [
           "Auditorias"
          ],
          [
           "Auditorias"
          ],
          [
           "Auditorias"
          ],
          [
           "Auditorias"
          ],
          [
           "Auditorias"
          ],
          [
           "Auditorias"
          ],
          [
           "Auditorias"
          ],
          [
           "Auditorias"
          ],
          [
           "Auditorias"
          ],
          [
           "Auditorias"
          ],
          [
           "Auditorias"
          ],
          [
           "Auditorias"
          ],
          [
           "Auditorias"
          ],
          [
           "Auditorias"
          ],
          [
           "Auditorias"
          ],
          [
           "Auditorias"
          ],
          [
           "Auditorias"
          ],
          [
           "Auditorias"
          ],
          [
           "Auditorias"
          ],
          [
           "Auditorias"
          ],
          [
           "Auditorias"
          ],
          [
           "Auditorias"
          ],
          [
           "Auditorias"
          ],
          [
           "Auditorias"
          ],
          [
           "Auditorias"
          ],
          [
           "Auditorias"
          ],
          [
           "Auditorias"
          ],
          [
           "Auditorias"
          ],
          [
           "Auditorias"
          ],
          [
           "Auditorias"
          ],
          [
           "Auditorias"
          ],
          [
           "Auditorias"
          ],
          [
           "Auditorias"
          ],
          [
           "Auditorias"
          ],
          [
           "Auditorias"
          ],
          [
           "Auditorias"
          ],
          [
           "Auditorias"
          ],
          [
           "Auditorias"
          ]
         ],
         "hovertemplate": "color=Auditorias<br>PCA Component 1=%{x}<br>PCA Component 2=%{y}<br>PCA Component 3=%{z}<br>label=%{customdata[0]}<extra></extra>",
         "legendgroup": "Auditorias",
         "marker": {
          "color": "#636efa",
          "symbol": "circle"
         },
         "mode": "markers",
         "name": "Auditorias",
         "scene": "scene",
         "showlegend": true,
         "type": "scatter3d",
         "x": [
          -0.28942534,
          0.48233673,
          0.47188768,
          -0.07360327,
          0.27022222,
          0.2381276,
          0.41714603,
          0.34763744,
          0.29142025,
          -0.030251194,
          0.043302916,
          0.088610716,
          0.012137046,
          0.6056622,
          0.18589436,
          -0.14389385,
          0.039095007,
          -0.23366581,
          0.16294429,
          -0.23290794,
          0.09603603,
          0.21162377,
          0.21423627,
          -0.447242,
          0.097311296,
          -0.17155302,
          -0.2768743,
          -0.08357979,
          0.25874615,
          0.05616911,
          -0.2168624,
          -0.2369721,
          -0.26397416,
          -0.3285081,
          -0.24814661,
          -0.030720321,
          0.01635256,
          0.06331008,
          0.110398866,
          0.012137046,
          0.22647136,
          -0.19241095,
          -0.13449028,
          0.008878591,
          -0.10864966,
          0.18173452,
          -0.26352665,
          0.1070144,
          0.15804598,
          -0.068925135,
          -0.15737815,
          0.097311296,
          -0.0057592294,
          -0.3175098,
          0.028577998,
          -0.16467631,
          -0.20752144,
          -0.21556695
         ],
         "y": [
          0.51106936,
          0.25126934,
          0.16643368,
          0.35873234,
          0.36116987,
          0.5500525,
          0.69839054,
          0.8963232,
          1.0453914,
          -0.061209317,
          0.0143624265,
          -0.064430885,
          0.104351394,
          0.11471622,
          0.0649307,
          0.25014284,
          -0.027004456,
          0.17898309,
          0.25479266,
          0.113836884,
          -0.038385827,
          0.11281145,
          -0.04870345,
          0.4078638,
          0.28585398,
          0.119501054,
          0.15835814,
          0.077842265,
          0.101168275,
          -0.1214159,
          -0.021843478,
          -0.043554448,
          -0.028964195,
          0.06559109,
          0.13639449,
          0.08933515,
          -0.098317474,
          -0.048137646,
          -0.117743276,
          0.104351394,
          0.030914988,
          0.28173476,
          0.107751176,
          -0.017830173,
          0.09027011,
          0.25144345,
          0.14471993,
          -0.05213316,
          -0.012513226,
          0.16296917,
          0.2076397,
          0.28585398,
          0.14091697,
          0.22456315,
          0.18268782,
          0.07269743,
          0.02707916,
          0.19450785
         ],
         "z": [
          -0.07931327,
          0.118930586,
          0.12897676,
          0.023163017,
          0.09407586,
          0.09142145,
          0.20041764,
          0.22861588,
          0.28378445,
          0.12413456,
          0.15012392,
          0.04775874,
          0.18301013,
          0.6176301,
          0.23370637,
          -0.067673646,
          -0.0055415863,
          0.16165294,
          0.100435145,
          0.14470342,
          0.051935926,
          0.29781845,
          -0.20568667,
          0.15988955,
          0.18951567,
          0.07857324,
          0.104829185,
          -0.057389136,
          -0.02748542,
          -0.033121876,
          0.04310054,
          0.07593395,
          0.11986411,
          0.16224214,
          0.11596377,
          0.11819065,
          0.063505985,
          0.10937305,
          0.018560974,
          0.18301013,
          0.24169764,
          -0.051914673,
          0.07273514,
          -0.017877452,
          0.069029085,
          0.11372401,
          0.15242398,
          0.02727188,
          0.058045633,
          -0.118250124,
          -0.031872205,
          0.18951567,
          0.1251964,
          0.09363369,
          0.24229994,
          0.2808102,
          0.026647389,
          0.02643878
         ]
        },
        {
         "customdata": [
          [
           "Ausentismo"
          ],
          [
           "Ausentismo"
          ],
          [
           "Ausentismo"
          ],
          [
           "Ausentismo"
          ],
          [
           "Ausentismo"
          ],
          [
           "Ausentismo"
          ],
          [
           "Ausentismo"
          ],
          [
           "Ausentismo"
          ],
          [
           "Ausentismo"
          ],
          [
           "Ausentismo"
          ],
          [
           "Ausentismo"
          ],
          [
           "Ausentismo"
          ],
          [
           "Ausentismo"
          ],
          [
           "Ausentismo"
          ],
          [
           "Ausentismo"
          ],
          [
           "Ausentismo"
          ],
          [
           "Ausentismo"
          ],
          [
           "Ausentismo"
          ],
          [
           "Ausentismo"
          ],
          [
           "Ausentismo"
          ],
          [
           "Ausentismo"
          ],
          [
           "Ausentismo"
          ],
          [
           "Ausentismo"
          ],
          [
           "Ausentismo"
          ],
          [
           "Ausentismo"
          ],
          [
           "Ausentismo"
          ],
          [
           "Ausentismo"
          ],
          [
           "Ausentismo"
          ],
          [
           "Ausentismo"
          ],
          [
           "Ausentismo"
          ],
          [
           "Ausentismo"
          ],
          [
           "Ausentismo"
          ],
          [
           "Ausentismo"
          ],
          [
           "Ausentismo"
          ],
          [
           "Ausentismo"
          ],
          [
           "Ausentismo"
          ],
          [
           "Ausentismo"
          ],
          [
           "Ausentismo"
          ],
          [
           "Ausentismo"
          ],
          [
           "Ausentismo"
          ]
         ],
         "hovertemplate": "color=Ausentismo<br>PCA Component 1=%{x}<br>PCA Component 2=%{y}<br>PCA Component 3=%{z}<br>label=%{customdata[0]}<extra></extra>",
         "legendgroup": "Ausentismo",
         "marker": {
          "color": "#EF553B",
          "symbol": "circle"
         },
         "mode": "markers",
         "name": "Ausentismo",
         "scene": "scene",
         "showlegend": true,
         "type": "scatter3d",
         "x": [
          0.49552196,
          0.0055788844,
          -0.1611792,
          0.4363113,
          0.54083955,
          -0.18079063,
          -0.17659172,
          0.0059359903,
          -0.13567689,
          -0.23416065,
          0.154586,
          -0.009300444,
          -0.18763159,
          -0.085119314,
          -0.518258,
          -0.48026347,
          -0.5181473,
          -0.39969394,
          -0.18546611,
          -0.10843476,
          -0.050876506,
          -0.20191099,
          -0.18305679,
          -0.19803771,
          -0.049928747,
          -0.6140241,
          -0.3376719,
          -0.046918575,
          -0.097151145,
          -0.2610259,
          -0.112921715,
          0.15746383,
          -0.5180802,
          -0.5355543,
          -0.5945838,
          0.051513623,
          -0.05479048,
          -0.2855457,
          0.011462476,
          0.81341606
         ],
         "y": [
          0.08722386,
          0.13756076,
          0.28082386,
          0.16843121,
          0.043755755,
          -0.102334924,
          -0.12113531,
          -0.0979003,
          -0.1704189,
          -0.0948714,
          0.076207966,
          -0.21243745,
          -0.23985201,
          -0.061796296,
          -0.07188886,
          -0.030701302,
          0.06431238,
          0.11670333,
          -0.054261986,
          -0.09334249,
          -0.27978858,
          -0.3774432,
          -0.43098503,
          -0.28476882,
          -0.032817163,
          -0.10547999,
          0.017974466,
          -0.23536031,
          -0.23261769,
          -0.1845822,
          -0.16138189,
          0.047420975,
          -0.086310625,
          0.0019004758,
          0.01284477,
          -0.30139002,
          -0.38236406,
          -0.15514679,
          0.17520954,
          -0.2017818
         ],
         "z": [
          0.044175785,
          -0.013167185,
          0.032763314,
          -0.3183468,
          -0.3103412,
          -0.04482693,
          0.00070311624,
          -0.048911806,
          0.071811505,
          0.061471984,
          -0.011690741,
          0.059081238,
          0.1538509,
          0.23228253,
          0.0060650557,
          0.01594554,
          0.014690094,
          0.004404795,
          0.030551856,
          0.043739144,
          -0.017461976,
          0.12075142,
          0.1521234,
          0.026078101,
          0.20094848,
          0.077685475,
          0.11584676,
          0.09827701,
          0.11560104,
          0.1630991,
          0.17498638,
          0.21817218,
          0.15486518,
          0.12815861,
          0.116865866,
          0.0013044061,
          0.106003135,
          0.10946762,
          -0.056319032,
          -0.23284018
         ]
        },
        {
         "customdata": [
          [
           "Estructura Organizativa"
          ],
          [
           "Estructura Organizativa"
          ],
          [
           "Estructura Organizativa"
          ],
          [
           "Estructura Organizativa"
          ],
          [
           "Estructura Organizativa"
          ],
          [
           "Estructura Organizativa"
          ],
          [
           "Estructura Organizativa"
          ],
          [
           "Estructura Organizativa"
          ],
          [
           "Estructura Organizativa"
          ],
          [
           "Estructura Organizativa"
          ],
          [
           "Estructura Organizativa"
          ],
          [
           "Estructura Organizativa"
          ],
          [
           "Estructura Organizativa"
          ],
          [
           "Estructura Organizativa"
          ],
          [
           "Estructura Organizativa"
          ],
          [
           "Estructura Organizativa"
          ],
          [
           "Estructura Organizativa"
          ],
          [
           "Estructura Organizativa"
          ],
          [
           "Estructura Organizativa"
          ],
          [
           "Estructura Organizativa"
          ],
          [
           "Estructura Organizativa"
          ],
          [
           "Estructura Organizativa"
          ],
          [
           "Estructura Organizativa"
          ],
          [
           "Estructura Organizativa"
          ],
          [
           "Estructura Organizativa"
          ],
          [
           "Estructura Organizativa"
          ],
          [
           "Estructura Organizativa"
          ],
          [
           "Estructura Organizativa"
          ],
          [
           "Estructura Organizativa"
          ],
          [
           "Estructura Organizativa"
          ],
          [
           "Estructura Organizativa"
          ],
          [
           "Estructura Organizativa"
          ],
          [
           "Estructura Organizativa"
          ],
          [
           "Estructura Organizativa"
          ],
          [
           "Estructura Organizativa"
          ],
          [
           "Estructura Organizativa"
          ],
          [
           "Estructura Organizativa"
          ],
          [
           "Estructura Organizativa"
          ],
          [
           "Estructura Organizativa"
          ],
          [
           "Estructura Organizativa"
          ],
          [
           "Estructura Organizativa"
          ],
          [
           "Estructura Organizativa"
          ],
          [
           "Estructura Organizativa"
          ],
          [
           "Estructura Organizativa"
          ],
          [
           "Estructura Organizativa"
          ],
          [
           "Estructura Organizativa"
          ],
          [
           "Estructura Organizativa"
          ],
          [
           "Estructura Organizativa"
          ],
          [
           "Estructura Organizativa"
          ],
          [
           "Estructura Organizativa"
          ],
          [
           "Estructura Organizativa"
          ],
          [
           "Estructura Organizativa"
          ],
          [
           "Estructura Organizativa"
          ],
          [
           "Estructura Organizativa"
          ],
          [
           "Estructura Organizativa"
          ],
          [
           "Estructura Organizativa"
          ],
          [
           "Estructura Organizativa"
          ],
          [
           "Estructura Organizativa"
          ],
          [
           "Estructura Organizativa"
          ],
          [
           "Estructura Organizativa"
          ],
          [
           "Estructura Organizativa"
          ],
          [
           "Estructura Organizativa"
          ],
          [
           "Estructura Organizativa"
          ],
          [
           "Estructura Organizativa"
          ],
          [
           "Estructura Organizativa"
          ],
          [
           "Estructura Organizativa"
          ],
          [
           "Estructura Organizativa"
          ],
          [
           "Estructura Organizativa"
          ],
          [
           "Estructura Organizativa"
          ],
          [
           "Estructura Organizativa"
          ],
          [
           "Estructura Organizativa"
          ],
          [
           "Estructura Organizativa"
          ],
          [
           "Estructura Organizativa"
          ],
          [
           "Estructura Organizativa"
          ],
          [
           "Estructura Organizativa"
          ],
          [
           "Estructura Organizativa"
          ],
          [
           "Estructura Organizativa"
          ],
          [
           "Estructura Organizativa"
          ],
          [
           "Estructura Organizativa"
          ],
          [
           "Estructura Organizativa"
          ],
          [
           "Estructura Organizativa"
          ],
          [
           "Estructura Organizativa"
          ],
          [
           "Estructura Organizativa"
          ],
          [
           "Estructura Organizativa"
          ],
          [
           "Estructura Organizativa"
          ],
          [
           "Estructura Organizativa"
          ],
          [
           "Estructura Organizativa"
          ],
          [
           "Estructura Organizativa"
          ],
          [
           "Estructura Organizativa"
          ],
          [
           "Estructura Organizativa"
          ],
          [
           "Estructura Organizativa"
          ],
          [
           "Estructura Organizativa"
          ],
          [
           "Estructura Organizativa"
          ],
          [
           "Estructura Organizativa"
          ],
          [
           "Estructura Organizativa"
          ],
          [
           "Estructura Organizativa"
          ],
          [
           "Estructura Organizativa"
          ],
          [
           "Estructura Organizativa"
          ],
          [
           "Estructura Organizativa"
          ],
          [
           "Estructura Organizativa"
          ],
          [
           "Estructura Organizativa"
          ],
          [
           "Estructura Organizativa"
          ],
          [
           "Estructura Organizativa"
          ],
          [
           "Estructura Organizativa"
          ],
          [
           "Estructura Organizativa"
          ],
          [
           "Estructura Organizativa"
          ],
          [
           "Estructura Organizativa"
          ],
          [
           "Estructura Organizativa"
          ],
          [
           "Estructura Organizativa"
          ],
          [
           "Estructura Organizativa"
          ],
          [
           "Estructura Organizativa"
          ],
          [
           "Estructura Organizativa"
          ],
          [
           "Estructura Organizativa"
          ],
          [
           "Estructura Organizativa"
          ],
          [
           "Estructura Organizativa"
          ],
          [
           "Estructura Organizativa"
          ],
          [
           "Estructura Organizativa"
          ],
          [
           "Estructura Organizativa"
          ],
          [
           "Estructura Organizativa"
          ],
          [
           "Estructura Organizativa"
          ],
          [
           "Estructura Organizativa"
          ],
          [
           "Estructura Organizativa"
          ],
          [
           "Estructura Organizativa"
          ],
          [
           "Estructura Organizativa"
          ],
          [
           "Estructura Organizativa"
          ],
          [
           "Estructura Organizativa"
          ],
          [
           "Estructura Organizativa"
          ],
          [
           "Estructura Organizativa"
          ],
          [
           "Estructura Organizativa"
          ],
          [
           "Estructura Organizativa"
          ],
          [
           "Estructura Organizativa"
          ],
          [
           "Estructura Organizativa"
          ],
          [
           "Estructura Organizativa"
          ],
          [
           "Estructura Organizativa"
          ],
          [
           "Estructura Organizativa"
          ],
          [
           "Estructura Organizativa"
          ],
          [
           "Estructura Organizativa"
          ],
          [
           "Estructura Organizativa"
          ],
          [
           "Estructura Organizativa"
          ],
          [
           "Estructura Organizativa"
          ],
          [
           "Estructura Organizativa"
          ],
          [
           "Estructura Organizativa"
          ],
          [
           "Estructura Organizativa"
          ],
          [
           "Estructura Organizativa"
          ],
          [
           "Estructura Organizativa"
          ],
          [
           "Estructura Organizativa"
          ],
          [
           "Estructura Organizativa"
          ],
          [
           "Estructura Organizativa"
          ],
          [
           "Estructura Organizativa"
          ],
          [
           "Estructura Organizativa"
          ],
          [
           "Estructura Organizativa"
          ],
          [
           "Estructura Organizativa"
          ],
          [
           "Estructura Organizativa"
          ],
          [
           "Estructura Organizativa"
          ],
          [
           "Estructura Organizativa"
          ],
          [
           "Estructura Organizativa"
          ],
          [
           "Estructura Organizativa"
          ],
          [
           "Estructura Organizativa"
          ],
          [
           "Estructura Organizativa"
          ],
          [
           "Estructura Organizativa"
          ],
          [
           "Estructura Organizativa"
          ],
          [
           "Estructura Organizativa"
          ],
          [
           "Estructura Organizativa"
          ],
          [
           "Estructura Organizativa"
          ],
          [
           "Estructura Organizativa"
          ],
          [
           "Estructura Organizativa"
          ],
          [
           "Estructura Organizativa"
          ],
          [
           "Estructura Organizativa"
          ],
          [
           "Estructura Organizativa"
          ],
          [
           "Estructura Organizativa"
          ],
          [
           "Estructura Organizativa"
          ],
          [
           "Estructura Organizativa"
          ],
          [
           "Estructura Organizativa"
          ],
          [
           "Estructura Organizativa"
          ],
          [
           "Estructura Organizativa"
          ],
          [
           "Estructura Organizativa"
          ],
          [
           "Estructura Organizativa"
          ],
          [
           "Estructura Organizativa"
          ],
          [
           "Estructura Organizativa"
          ],
          [
           "Estructura Organizativa"
          ],
          [
           "Estructura Organizativa"
          ],
          [
           "Estructura Organizativa"
          ],
          [
           "Estructura Organizativa"
          ],
          [
           "Estructura Organizativa"
          ],
          [
           "Estructura Organizativa"
          ],
          [
           "Estructura Organizativa"
          ],
          [
           "Estructura Organizativa"
          ],
          [
           "Estructura Organizativa"
          ],
          [
           "Estructura Organizativa"
          ],
          [
           "Estructura Organizativa"
          ],
          [
           "Estructura Organizativa"
          ],
          [
           "Estructura Organizativa"
          ],
          [
           "Estructura Organizativa"
          ],
          [
           "Estructura Organizativa"
          ],
          [
           "Estructura Organizativa"
          ],
          [
           "Estructura Organizativa"
          ],
          [
           "Estructura Organizativa"
          ],
          [
           "Estructura Organizativa"
          ],
          [
           "Estructura Organizativa"
          ],
          [
           "Estructura Organizativa"
          ],
          [
           "Estructura Organizativa"
          ],
          [
           "Estructura Organizativa"
          ],
          [
           "Estructura Organizativa"
          ],
          [
           "Estructura Organizativa"
          ],
          [
           "Estructura Organizativa"
          ],
          [
           "Estructura Organizativa"
          ],
          [
           "Estructura Organizativa"
          ],
          [
           "Estructura Organizativa"
          ],
          [
           "Estructura Organizativa"
          ],
          [
           "Estructura Organizativa"
          ],
          [
           "Estructura Organizativa"
          ]
         ],
         "hovertemplate": "color=Estructura Organizativa<br>PCA Component 1=%{x}<br>PCA Component 2=%{y}<br>PCA Component 3=%{z}<br>label=%{customdata[0]}<extra></extra>",
         "legendgroup": "Estructura Organizativa",
         "marker": {
          "color": "#00cc96",
          "symbol": "circle"
         },
         "mode": "markers",
         "name": "Estructura Organizativa",
         "scene": "scene",
         "showlegend": true,
         "type": "scatter3d",
         "x": [
          0.0067188833,
          -0.33115956,
          0.35252666,
          0.27135265,
          0.3203326,
          0.35482427,
          0.48616254,
          0.46803603,
          0.45669737,
          0.445395,
          0.44590762,
          -0.054617405,
          0.22348104,
          0.04526606,
          -0.023361502,
          -0.14827237,
          -0.054090776,
          -0.08840322,
          -0.023866918,
          -0.099574104,
          0.016096365,
          0.045903504,
          -0.16398735,
          -0.24587065,
          -0.225258,
          -0.15189755,
          0.7771463,
          -0.24669605,
          -0.30796838,
          -0.3899422,
          -0.35275844,
          -0.24486397,
          -0.16526832,
          0.26913133,
          -0.3641662,
          -0.34214976,
          -0.40605628,
          -0.41315717,
          -0.43217298,
          -0.29861528,
          -0.19944724,
          -0.43342355,
          -0.49772066,
          -0.13498299,
          -0.06755897,
          0.04235164,
          -0.015612963,
          0.05485609,
          0.071560316,
          0.30652303,
          -0.17059058,
          -0.17220776,
          -0.24073336,
          -0.30801466,
          -0.3003884,
          -0.15323678,
          -0.11323915,
          -0.16452573,
          -0.05906731,
          0.3895201,
          -0.24655429,
          -0.3586161,
          -0.3135114,
          -0.36667183,
          -0.41660053,
          -0.056788113,
          -0.26955938,
          -0.20662206,
          -0.087646194,
          -0.13545527,
          -0.06153542,
          0.08880351,
          -0.55656725,
          -0.051577784,
          -0.06586442,
          -0.5265181,
          -0.11211707,
          -0.049951054,
          0.023748003,
          -0.36815047,
          -0.0071056974,
          -0.3861481,
          -0.050630305,
          -0.053588443,
          -0.06575185,
          -0.18167953,
          -0.31807587,
          -0.32395408,
          -0.32602876,
          -0.21154271,
          0.4881529,
          0.41432375,
          -0.15758255,
          0.11384856,
          -0.094324395,
          -0.118374735,
          0.02082045,
          -0.29302233,
          -0.28388062,
          -0.24442458,
          -0.27696705,
          -0.18967092,
          -0.16916266,
          -0.21090963,
          -0.20503867,
          0.034031928,
          0.17673042,
          0.06924914,
          0.3296701,
          -0.3481896,
          -0.28962058,
          -0.32147837,
          0.50213146,
          0.27643225,
          -0.18593502,
          -0.338857,
          -0.12419892,
          -0.09258025,
          -0.06727168,
          -0.23933375,
          -0.38973108,
          -0.30409288,
          -0.12665847,
          1.560569,
          -0.017445097,
          1.3730108,
          -0.19268446,
          -0.14564766,
          0.10181289,
          0.2129258,
          0.06962836,
          0.020633208,
          -0.024308065,
          0.020266151,
          0.052919384,
          -0.33432707,
          -0.2609572,
          -0.29317603,
          -0.27465945,
          -0.13164183,
          -0.036413386,
          -0.35477003,
          -0.41655537,
          -0.3074192,
          -0.1853775,
          -0.050151322,
          -0.38810548,
          -0.36717317,
          -0.341491,
          -0.31078604,
          -0.16585146,
          -0.0492699,
          -0.22812779,
          -0.42350334,
          -0.33082426,
          -0.34493184,
          -0.089236125,
          -0.39406115,
          -0.36219412,
          -0.35348713,
          -0.26595026,
          -0.17416409,
          -0.041377734,
          -0.09355682,
          -0.33869043,
          0.0076343846,
          0.3076452,
          0.17148973,
          0.1299897,
          0.07796909,
          0.07681899,
          0.014256277,
          0.0378823,
          0.08846748,
          -0.33375645,
          -0.33362377,
          -0.3823849,
          -0.32397,
          -0.23190258,
          -0.32005152,
          -0.35344926,
          -0.35839328,
          -0.48290893,
          -0.34159544,
          -0.5710503,
          -0.35364348,
          -0.34871766,
          -0.41210228,
          -0.53524977,
          -0.078632824,
          -0.49418414,
          0.029185968,
          -0.055681027,
          -0.18974425,
          -0.3438691,
          -0.4387861,
          -0.33831125,
          -0.25198793,
          -0.09614202,
          0.08668993,
          0.20747207,
          0.24619459,
          0.12494254,
          0.17922553,
          0.07917996,
          0.23064028,
          -0.28239593,
          0.65705323,
          -0.17646274,
          -0.1938117,
          -0.018441984
         ],
         "y": [
          0.45758286,
          0.99098146,
          0.30856642,
          0.13392486,
          0.0800446,
          0.28526458,
          0.06987818,
          -0.03719304,
          -0.11705873,
          -0.14749628,
          -0.10887415,
          0.34610042,
          -0.057419393,
          0.31673563,
          0.007846389,
          0.09101631,
          0.14255472,
          0.23298876,
          0.24323405,
          0.22164539,
          0.17206188,
          0.15146917,
          0.051216427,
          -0.1040625,
          -0.07135772,
          -0.051137224,
          -0.46295556,
          -0.07277076,
          -0.09705196,
          -0.14716063,
          -0.14835066,
          -0.23098059,
          -0.24211274,
          -0.1885675,
          0.03794781,
          0.16277158,
          0.19598098,
          0.14342462,
          0.17839614,
          0.07467066,
          -0.11421002,
          -0.10657251,
          -0.1783866,
          0.010462985,
          0.021044645,
          -0.04384772,
          -0.07710133,
          -0.08059109,
          -0.063649565,
          -0.36411813,
          -0.038647644,
          -0.02637844,
          -0.030879099,
          0.05513813,
          0.08593112,
          -0.021391038,
          0.13207218,
          0.15549761,
          0.116987236,
          -0.20079646,
          -0.34312707,
          -0.20628881,
          -0.14579393,
          -0.18791996,
          -0.23292021,
          -0.19990008,
          -0.13720445,
          -0.171605,
          -0.20434548,
          -0.18572913,
          -0.14480986,
          -0.14536437,
          -0.2051002,
          -0.21277189,
          -0.14472727,
          -0.16244708,
          -0.10106579,
          -0.16107073,
          -0.3005511,
          -0.23518997,
          -0.35942218,
          -0.27465317,
          -0.21367131,
          -0.16513295,
          -0.23892254,
          -0.029448489,
          -0.15466337,
          -0.3047731,
          -0.33218828,
          -0.22721718,
          -0.41037643,
          -0.33539584,
          -0.1590977,
          -0.35247204,
          -0.44367322,
          -0.15316713,
          -0.0692535,
          0.21257694,
          0.13912937,
          0.115735754,
          -0.029537156,
          0.05698527,
          0.07450117,
          0.07180414,
          0.05926512,
          -0.25620204,
          -0.174042,
          -0.04578397,
          -0.6110889,
          -0.24092574,
          -0.22660212,
          -0.19377679,
          -0.2799818,
          -0.16515864,
          -0.2439074,
          -0.2524184,
          -0.23149979,
          -0.058085777,
          -0.15709502,
          -0.32613572,
          -0.22493914,
          -0.21508141,
          -0.1172169,
          -0.6872822,
          -0.35279286,
          -0.9239556,
          -0.15853569,
          -0.07128027,
          -0.08921195,
          -0.1141391,
          0.39635053,
          0.36223954,
          0.27289844,
          0.30757734,
          0.25271648,
          -0.122569665,
          -0.16247532,
          -0.16562471,
          -0.1383781,
          -0.09800987,
          -0.084405094,
          -0.19343978,
          -0.17413998,
          -0.15010999,
          -0.14174974,
          -0.371178,
          0.06241871,
          0.08331807,
          0.09528047,
          0.16323876,
          0.11786028,
          0.062697954,
          -0.2311449,
          -0.13419618,
          -0.11326644,
          -0.14941505,
          -0.22845486,
          -0.023776496,
          -0.020843258,
          -0.0913786,
          -0.072599515,
          -0.08877396,
          -0.14727859,
          -0.21863396,
          -0.24172732,
          -0.34272757,
          -0.15496933,
          0.09454182,
          0.09663734,
          0.24541607,
          0.316072,
          0.2280893,
          0.21449295,
          0.17619388,
          -0.10354782,
          -0.11760208,
          -0.18004093,
          -0.06630378,
          -0.11079115,
          -0.38304135,
          -0.10219278,
          -0.15053739,
          -0.10244992,
          -0.037122317,
          -0.37267753,
          -0.37745884,
          -0.20763205,
          -0.12500905,
          -0.13401148,
          -0.35895854,
          -0.08124664,
          -0.2493269,
          -0.2270043,
          -0.16818865,
          -0.14419754,
          -0.037527326,
          -0.03373011,
          -0.0012454614,
          -0.062803715,
          -0.05056912,
          -0.12033069,
          -0.050139677,
          0.10239678,
          0.14976597,
          0.08556759,
          0.2463004,
          -0.056402415,
          -0.8543704,
          -0.17006555,
          -0.12480851,
          -0.3497477
         ],
         "z": [
          0.09130255,
          -0.025679136,
          -0.041667674,
          -0.14637949,
          -0.19807176,
          -0.24855563,
          -0.77074933,
          -0.26080817,
          -0.33326268,
          -0.37589866,
          -0.38494185,
          -0.08404819,
          -0.21589568,
          -0.078714326,
          -0.43407583,
          -0.44221684,
          -0.46239328,
          -0.45960644,
          -0.5297149,
          -0.49395037,
          -0.4754141,
          -0.48954508,
          -0.14066243,
          -0.114428416,
          -0.1733891,
          -0.17551962,
          -0.7208738,
          -0.021837004,
          0.03761763,
          0.060249884,
          0.08185,
          -0.05840502,
          -0.22647648,
          -0.38986513,
          -0.020183964,
          0.012204257,
          0.028569667,
          0.029407281,
          0.103054345,
          0.078533076,
          0.05644658,
          0.17391732,
          0.19941002,
          -0.20518652,
          0.031118434,
          -0.042163923,
          -0.037912685,
          -0.081222765,
          -0.11785296,
          -0.32779905,
          -0.12630159,
          -0.13257636,
          -0.08841976,
          -0.034131028,
          -0.027493322,
          -0.102203764,
          -0.11982643,
          -0.1020841,
          -0.15375036,
          -0.39682296,
          -0.1056193,
          0.046231434,
          0.06493381,
          -0.30892968,
          -0.049092498,
          -0.1152864,
          0.020895002,
          -0.05936859,
          -0.09328921,
          -0.123314194,
          -0.15944874,
          -0.25101936,
          0.048493527,
          -0.15356594,
          -0.34421083,
          -0.03955659,
          -0.045700736,
          -0.099368304,
          -0.1618951,
          -0.028704932,
          -0.23659672,
          -0.05431531,
          -0.18469459,
          -0.36865082,
          -0.36545926,
          -0.02366698,
          0.07118506,
          0.04792991,
          0.04409703,
          -0.12387861,
          -0.23988567,
          -0.26851645,
          0.10048585,
          -0.054622184,
          0.08779612,
          -0.02944872,
          -0.28246096,
          0.051172942,
          0.014973193,
          0.03147714,
          0.052953225,
          0.03692922,
          0.021604007,
          0.09938138,
          0.11089091,
          -0.31137148,
          -0.10104022,
          -0.19833298,
          -0.8663753,
          -0.17600934,
          -0.089484125,
          0.045966573,
          0.42346364,
          0.005405545,
          0.11608539,
          0.12536862,
          0.10905396,
          -0.0961113,
          -0.109623455,
          -0.079913646,
          -0.09825787,
          -0.041832898,
          -0.025738709,
          0.5890465,
          -0.034649916,
          0.3488183,
          -0.009871178,
          0.046664417,
          -0.13869283,
          -0.56911945,
          -0.5563257,
          -0.55130595,
          -0.5430788,
          -0.52472985,
          -0.5453671,
          -0.13032883,
          -0.05889128,
          -0.03488905,
          0.033961393,
          0.016226187,
          -0.08133745,
          -0.09485036,
          0.0067113712,
          -0.044260673,
          -0.062389866,
          0.07954482,
          -0.073805094,
          -0.021416701,
          0.019593341,
          0.03306625,
          -0.10538345,
          -0.14555779,
          -0.17453773,
          -0.0040734243,
          -0.032716706,
          0.010872657,
          0.018623514,
          -0.120993204,
          -0.0912559,
          -0.037645873,
          -0.0058820103,
          -0.11486408,
          -0.17095949,
          -0.50467116,
          0.032673683,
          0.04147391,
          0.0047792546,
          -0.54748464,
          -0.53926915,
          -0.5183409,
          -0.5458835,
          -0.5258077,
          -0.52258426,
          -0.55934834,
          -0.07879528,
          0.00065899343,
          0.1009299,
          0.09077699,
          0.09194106,
          0.05567227,
          -0.025184505,
          0.07091127,
          0.16981015,
          0.16397351,
          0.099894516,
          0.10428333,
          0.027712045,
          0.0815347,
          0.15163249,
          0.13583237,
          -0.052847613,
          -0.10371032,
          -0.08020831,
          -0.06051092,
          0.061363615,
          0.035092812,
          0.066174395,
          0.06542278,
          -0.010824644,
          -0.04209887,
          -0.06790176,
          -0.16677678,
          -0.16439047,
          -0.18961538,
          -0.1212175,
          -0.10666343,
          0.10055481,
          1.1226662,
          -0.011095036,
          0.09346751,
          0.09211662
         ]
        },
        {
         "customdata": [
          [
           "Riesgos"
          ],
          [
           "Riesgos"
          ],
          [
           "Riesgos"
          ],
          [
           "Riesgos"
          ],
          [
           "Riesgos"
          ],
          [
           "Riesgos"
          ],
          [
           "Riesgos"
          ],
          [
           "Riesgos"
          ],
          [
           "Riesgos"
          ],
          [
           "Riesgos"
          ],
          [
           "Riesgos"
          ],
          [
           "Riesgos"
          ],
          [
           "Riesgos"
          ],
          [
           "Riesgos"
          ],
          [
           "Riesgos"
          ],
          [
           "Riesgos"
          ],
          [
           "Riesgos"
          ],
          [
           "Riesgos"
          ],
          [
           "Riesgos"
          ],
          [
           "Riesgos"
          ],
          [
           "Riesgos"
          ],
          [
           "Riesgos"
          ],
          [
           "Riesgos"
          ],
          [
           "Riesgos"
          ],
          [
           "Riesgos"
          ],
          [
           "Riesgos"
          ],
          [
           "Riesgos"
          ],
          [
           "Riesgos"
          ],
          [
           "Riesgos"
          ],
          [
           "Riesgos"
          ],
          [
           "Riesgos"
          ],
          [
           "Riesgos"
          ],
          [
           "Riesgos"
          ],
          [
           "Riesgos"
          ],
          [
           "Riesgos"
          ],
          [
           "Riesgos"
          ],
          [
           "Riesgos"
          ],
          [
           "Riesgos"
          ],
          [
           "Riesgos"
          ],
          [
           "Riesgos"
          ],
          [
           "Riesgos"
          ],
          [
           "Riesgos"
          ],
          [
           "Riesgos"
          ],
          [
           "Riesgos"
          ],
          [
           "Riesgos"
          ],
          [
           "Riesgos"
          ],
          [
           "Riesgos"
          ],
          [
           "Riesgos"
          ],
          [
           "Riesgos"
          ],
          [
           "Riesgos"
          ],
          [
           "Riesgos"
          ],
          [
           "Riesgos"
          ],
          [
           "Riesgos"
          ],
          [
           "Riesgos"
          ],
          [
           "Riesgos"
          ],
          [
           "Riesgos"
          ],
          [
           "Riesgos"
          ],
          [
           "Riesgos"
          ],
          [
           "Riesgos"
          ],
          [
           "Riesgos"
          ]
         ],
         "hovertemplate": "color=Riesgos<br>PCA Component 1=%{x}<br>PCA Component 2=%{y}<br>PCA Component 3=%{z}<br>label=%{customdata[0]}<extra></extra>",
         "legendgroup": "Riesgos",
         "marker": {
          "color": "#ab63fa",
          "symbol": "circle"
         },
         "mode": "markers",
         "name": "Riesgos",
         "scene": "scene",
         "showlegend": true,
         "type": "scatter3d",
         "x": [
          -0.19807266,
          0.47911274,
          0.4740384,
          0.3794334,
          0.49429473,
          0.5515724,
          -0.28155363,
          -0.33658385,
          -0.27799952,
          0.35073116,
          0.36075133,
          0.2940426,
          0.2807107,
          0.2020586,
          0.12557617,
          0.13358279,
          0.09607685,
          0.033055678,
          -0.063590504,
          0.022601932,
          -0.08393889,
          0.046370205,
          0.05349524,
          0.34539044,
          0.04324358,
          0.20306839,
          -0.4148003,
          -0.24669558,
          -0.1855978,
          -0.1090046,
          -0.08254479,
          -0.315316,
          -0.04228405,
          -0.6568947,
          0.44767755,
          -0.11924732,
          -0.08366705,
          -0.026502075,
          0.17276672,
          0.25540143,
          0.052157454,
          0.4457503,
          0.42494714,
          0.47622845,
          0.53151816,
          0.58893913,
          0.6305875,
          0.63957924,
          0.6873401,
          0.41292438,
          0.05669176,
          0.1915507,
          0.2227457,
          0.21027082,
          0.27849132,
          0.34785488,
          0.37228042,
          0.32555327,
          0.18697166,
          0.12186618
         ],
         "y": [
          0.67734444,
          0.4193976,
          0.37038028,
          0.9346082,
          0.043836337,
          -0.11609523,
          0.52748007,
          -0.032449063,
          -0.043246966,
          0.21464922,
          0.11506122,
          0.15581292,
          0.090660304,
          0.14351444,
          0.24550785,
          0.28153673,
          0.33569592,
          0.4084165,
          0.12623246,
          0.24950656,
          0.17670296,
          -0.057841487,
          -0.10477929,
          -0.20173287,
          -0.04231152,
          -0.13456455,
          0.101767726,
          0.042995527,
          0.03251454,
          -0.110720664,
          0.22787422,
          0.02675919,
          0.016805997,
          -0.06718992,
          -0.168422,
          0.066661716,
          0.2140464,
          0.28261548,
          0.32676166,
          -0.18836814,
          0.33287317,
          -0.1305529,
          -0.11284666,
          -0.10825644,
          -0.05806492,
          -0.06515124,
          -0.012521006,
          0.012352651,
          -0.14354222,
          -0.019606546,
          0.346842,
          0.28813174,
          0.24310711,
          0.36066663,
          0.2864685,
          0.13128865,
          0.07584236,
          0.10263651,
          0.097751416,
          0.11311653
         ],
         "z": [
          0.020660188,
          0.26149896,
          0.36645222,
          0.6878546,
          0.026527265,
          -0.021619905,
          0.085440174,
          0.16271912,
          0.17732255,
          -0.065427326,
          -0.08896742,
          -0.11603068,
          -0.10425277,
          -0.06860862,
          -0.05891788,
          0.0060397927,
          0.040911797,
          0.057594545,
          0.29777306,
          0.23805937,
          0.073294416,
          -0.44572157,
          0.010934491,
          0.08262306,
          0.05697649,
          0.15099284,
          0.24637169,
          0.27689087,
          0.20309354,
          0.12348044,
          0.08986222,
          0.25304633,
          0.2731347,
          0.094100975,
          0.19749798,
          0.13010901,
          0.12772998,
          -0.34999365,
          -0.091327704,
          -0.1385473,
          0.045542672,
          -0.14172325,
          -0.1802095,
          -0.1420664,
          -0.12752867,
          -0.18137275,
          -0.2303462,
          -0.26932117,
          -0.067518435,
          0.10740315,
          0.14172706,
          0.15904464,
          0.22118549,
          0.26081377,
          0.2538427,
          0.18309766,
          0.21094,
          0.19470839,
          0.1685937,
          0.1422199
         ]
        },
        {
         "customdata": [
          [
           "Información"
          ],
          [
           "Información"
          ],
          [
           "Información"
          ],
          [
           "Información"
          ],
          [
           "Información"
          ],
          [
           "Información"
          ],
          [
           "Información"
          ],
          [
           "Información"
          ],
          [
           "Información"
          ],
          [
           "Información"
          ],
          [
           "Información"
          ],
          [
           "Información"
          ],
          [
           "Información"
          ],
          [
           "Información"
          ],
          [
           "Información"
          ],
          [
           "Información"
          ],
          [
           "Información"
          ],
          [
           "Información"
          ],
          [
           "Información"
          ],
          [
           "Información"
          ],
          [
           "Información"
          ]
         ],
         "hovertemplate": "color=Información<br>PCA Component 1=%{x}<br>PCA Component 2=%{y}<br>PCA Component 3=%{z}<br>label=%{customdata[0]}<extra></extra>",
         "legendgroup": "Información",
         "marker": {
          "color": "#FFA15A",
          "symbol": "circle"
         },
         "mode": "markers",
         "name": "Información",
         "scene": "scene",
         "showlegend": true,
         "type": "scatter3d",
         "x": [
          0.21549657,
          -0.4146734,
          -0.046053253,
          0.27896693,
          0.38755786,
          0.4639943,
          0.47372842,
          -0.047931522,
          -0.5048849,
          -0.49271148,
          0.020667188,
          0.13069896,
          0.21661049,
          -0.26284003,
          0.029950721,
          -0.19245684,
          0.028714549,
          -0.42678833,
          -0.4775155,
          -0.53490746,
          -0.072042234
         ],
         "y": [
          0.41999322,
          0.53766346,
          0.08152975,
          0.04885139,
          0.05200267,
          0.049010206,
          -0.026392957,
          -0.018454174,
          -0.1570547,
          -0.1434384,
          -0.18059891,
          -0.19475204,
          -0.2001508,
          0.33735552,
          0.15286921,
          0.27881762,
          0.65639365,
          0.15108362,
          0.113730565,
          -0.04000351,
          0.10333748
         ],
         "z": [
          0.0028641114,
          -0.002209536,
          0.11223542,
          0.22535576,
          0.26626298,
          0.2704197,
          0.25022808,
          -0.0035634988,
          0.15986101,
          0.18650514,
          -0.16712351,
          -0.27558595,
          -0.33239022,
          0.08352719,
          0.0887596,
          0.049152046,
          0.66806227,
          0.1233202,
          0.086678915,
          0.09619884,
          0.04877924
         ]
        },
        {
         "customdata": [
          [
           "Emergencia"
          ],
          [
           "Emergencia"
          ],
          [
           "Emergencia"
          ],
          [
           "Emergencia"
          ],
          [
           "Emergencia"
          ],
          [
           "Emergencia"
          ],
          [
           "Emergencia"
          ],
          [
           "Emergencia"
          ],
          [
           "Emergencia"
          ],
          [
           "Emergencia"
          ],
          [
           "Emergencia"
          ],
          [
           "Emergencia"
          ],
          [
           "Emergencia"
          ],
          [
           "Emergencia"
          ],
          [
           "Emergencia"
          ],
          [
           "Emergencia"
          ],
          [
           "Emergencia"
          ],
          [
           "Emergencia"
          ],
          [
           "Emergencia"
          ],
          [
           "Emergencia"
          ],
          [
           "Emergencia"
          ],
          [
           "Emergencia"
          ],
          [
           "Emergencia"
          ],
          [
           "Emergencia"
          ],
          [
           "Emergencia"
          ],
          [
           "Emergencia"
          ],
          [
           "Emergencia"
          ],
          [
           "Emergencia"
          ],
          [
           "Emergencia"
          ],
          [
           "Emergencia"
          ],
          [
           "Emergencia"
          ],
          [
           "Emergencia"
          ],
          [
           "Emergencia"
          ],
          [
           "Emergencia"
          ],
          [
           "Emergencia"
          ],
          [
           "Emergencia"
          ],
          [
           "Emergencia"
          ],
          [
           "Emergencia"
          ],
          [
           "Emergencia"
          ],
          [
           "Emergencia"
          ],
          [
           "Emergencia"
          ],
          [
           "Emergencia"
          ],
          [
           "Emergencia"
          ],
          [
           "Emergencia"
          ],
          [
           "Emergencia"
          ],
          [
           "Emergencia"
          ],
          [
           "Emergencia"
          ],
          [
           "Emergencia"
          ],
          [
           "Emergencia"
          ],
          [
           "Emergencia"
          ],
          [
           "Emergencia"
          ],
          [
           "Emergencia"
          ],
          [
           "Emergencia"
          ],
          [
           "Emergencia"
          ],
          [
           "Emergencia"
          ],
          [
           "Emergencia"
          ],
          [
           "Emergencia"
          ],
          [
           "Emergencia"
          ],
          [
           "Emergencia"
          ],
          [
           "Emergencia"
          ],
          [
           "Emergencia"
          ],
          [
           "Emergencia"
          ],
          [
           "Emergencia"
          ],
          [
           "Emergencia"
          ],
          [
           "Emergencia"
          ],
          [
           "Emergencia"
          ],
          [
           "Emergencia"
          ],
          [
           "Emergencia"
          ],
          [
           "Emergencia"
          ],
          [
           "Emergencia"
          ],
          [
           "Emergencia"
          ],
          [
           "Emergencia"
          ],
          [
           "Emergencia"
          ],
          [
           "Emergencia"
          ],
          [
           "Emergencia"
          ],
          [
           "Emergencia"
          ],
          [
           "Emergencia"
          ],
          [
           "Emergencia"
          ],
          [
           "Emergencia"
          ],
          [
           "Emergencia"
          ],
          [
           "Emergencia"
          ],
          [
           "Emergencia"
          ],
          [
           "Emergencia"
          ],
          [
           "Emergencia"
          ],
          [
           "Emergencia"
          ],
          [
           "Emergencia"
          ],
          [
           "Emergencia"
          ],
          [
           "Emergencia"
          ],
          [
           "Emergencia"
          ],
          [
           "Emergencia"
          ],
          [
           "Emergencia"
          ],
          [
           "Emergencia"
          ],
          [
           "Emergencia"
          ],
          [
           "Emergencia"
          ],
          [
           "Emergencia"
          ],
          [
           "Emergencia"
          ],
          [
           "Emergencia"
          ],
          [
           "Emergencia"
          ],
          [
           "Emergencia"
          ],
          [
           "Emergencia"
          ],
          [
           "Emergencia"
          ],
          [
           "Emergencia"
          ],
          [
           "Emergencia"
          ],
          [
           "Emergencia"
          ],
          [
           "Emergencia"
          ]
         ],
         "hovertemplate": "color=Emergencia<br>PCA Component 1=%{x}<br>PCA Component 2=%{y}<br>PCA Component 3=%{z}<br>label=%{customdata[0]}<extra></extra>",
         "legendgroup": "Emergencia",
         "marker": {
          "color": "#19d3f3",
          "symbol": "circle"
         },
         "mode": "markers",
         "name": "Emergencia",
         "scene": "scene",
         "showlegend": true,
         "type": "scatter3d",
         "x": [
          -0.35661307,
          0.4304303,
          0.49020272,
          0.18867394,
          0.5223283,
          0.5545193,
          0.5629138,
          0.5677554,
          0.61648756,
          0.7293896,
          0.7397641,
          0.7245385,
          0.6318831,
          0.5753615,
          0.55214036,
          0.61560893,
          0.5774847,
          0.5366307,
          0.48013967,
          0.5033782,
          0.4640623,
          0.48932502,
          0.58409345,
          0.61628354,
          -0.08033054,
          0.41941938,
          0.49571073,
          0.4664881,
          0.2995898,
          0.48970708,
          0.43505958,
          -0.24944326,
          0.15171936,
          0.21553563,
          0.28539124,
          0.2645967,
          0.25258964,
          0.33605048,
          0.23855953,
          0.2619524,
          0.34249136,
          -0.2910766,
          -0.23959015,
          0.0129023595,
          0.06485411,
          0.1473979,
          0.19540161,
          0.2485808,
          0.24497198,
          0.19482338,
          0.25800684,
          0.26944786,
          0.23476073,
          0.19561292,
          -0.026985219,
          -0.21755002,
          -0.16676438,
          -0.3429034,
          -0.33529198,
          -0.1002541,
          -0.094371065,
          0.05259837,
          0.05323416,
          -0.21568085,
          -0.21175283,
          -0.27044162,
          -0.27885562,
          -0.31185228,
          -0.4504507,
          0.03696653,
          0.16107184,
          0.11104608,
          0.11791681,
          0.14715376,
          0.28209004,
          -0.10950728,
          -0.022882646,
          -0.10260815,
          0.2583723,
          -0.034783278,
          0.039459072,
          0.43367127,
          0.42658436,
          0.07318897,
          -0.062542126,
          -0.106989056,
          -0.20842434,
          -0.1829113,
          -0.38071173,
          -0.14331673,
          -0.08899885,
          -0.03478206,
          -0.13249545,
          0.13292201,
          0.05253754,
          0.13284433,
          0.1850793,
          -0.21999621,
          -0.0028925957,
          -0.40244567,
          -0.3657348,
          -0.23581217,
          -0.30424112,
          -0.09397803,
          -0.42626944
         ],
         "y": [
          0.87516886,
          0.1754063,
          0.05329933,
          -0.023393814,
          -0.0788017,
          -0.059050072,
          -0.13711144,
          -0.2654607,
          -0.2742168,
          -0.306244,
          -0.35654563,
          -0.33880728,
          -0.21920882,
          -0.13213156,
          -0.062220667,
          -0.0013973621,
          0.014447229,
          0.06202532,
          0.12822492,
          0.109974034,
          0.13139668,
          0.1497666,
          0.117982596,
          0.06311197,
          0.20353435,
          0.02563998,
          -0.043377936,
          -0.0071100164,
          -0.22949375,
          -0.27196693,
          -0.24929868,
          -0.22386673,
          0.11773195,
          0.18616329,
          0.19746627,
          0.13664271,
          0.15404859,
          -0.048069205,
          -0.026416354,
          -0.16959065,
          0.15526713,
          -0.0681196,
          -0.1404585,
          0.45835432,
          0.48995018,
          0.4223509,
          0.3192823,
          0.14064723,
          0.011738855,
          0.025219016,
          0.0461128,
          0.050693013,
          0.14908595,
          0.2448987,
          -0.29129893,
          -0.04178986,
          0.0495767,
          0.034904543,
          0.05612799,
          -0.010911733,
          -0.04591683,
          0.012803657,
          -0.06288229,
          0.03252246,
          0.07291656,
          0.0014433631,
          -0.15944037,
          -0.20153144,
          0.060895804,
          -0.15290546,
          -0.17206155,
          -0.14211479,
          -0.21305762,
          -0.22282502,
          -0.1845402,
          0.1609172,
          0.12817296,
          0.14443552,
          -0.17628671,
          0.032330032,
          -0.020441316,
          -0.19872588,
          -0.24089444,
          -0.14189945,
          -0.084686704,
          -0.08416536,
          -0.013637806,
          0.0295269,
          0.08779894,
          0.088181056,
          0.11654505,
          -0.06845304,
          -0.0630012,
          -0.22787297,
          0.04386819,
          0.031102747,
          -0.2296079,
          -0.06467463,
          -0.021559639,
          -0.025147162,
          -0.0049024657,
          -0.09043138,
          0.022844179,
          -0.15757725,
          -0.094403915
         ],
         "z": [
          -0.024202328,
          0.024211569,
          0.10089796,
          0.42091957,
          0.19476105,
          0.14249997,
          0.17649391,
          0.11575864,
          0.18673247,
          0.24909854,
          0.25276822,
          0.19762412,
          0.13825034,
          0.07480407,
          0.07435454,
          0.09911398,
          0.076864265,
          0.026897654,
          -0.022802753,
          0.0011813269,
          0.026363526,
          0.06955859,
          0.117650226,
          0.19546099,
          0.041583605,
          -0.10259061,
          0.014822885,
          0.06754953,
          -0.08111051,
          -0.062360667,
          -0.086537324,
          0.24369012,
          0.07858972,
          0.05414138,
          -0.078706644,
          -0.15505718,
          -0.23920143,
          -0.20510927,
          -0.13923596,
          -0.03784048,
          0.16401611,
          0.10444219,
          0.11745144,
          0.107026786,
          0.07550533,
          -0.0088789435,
          -0.09031048,
          -0.14503223,
          -0.21914364,
          -0.12607192,
          -0.08618374,
          -0.04926039,
          0.021737916,
          0.075433806,
          0.22407372,
          -0.07144249,
          -0.012682321,
          0.0771171,
          0.025209716,
          0.026426427,
          0.07048252,
          -0.09090602,
          -0.09152609,
          0.032507576,
          -0.04064351,
          -0.117743105,
          0.12364059,
          0.1825054,
          0.06569442,
          0.022800129,
          0.0023793203,
          0.08840818,
          0.08542235,
          0.122020036,
          0.15180568,
          0.24071582,
          0.15746337,
          0.16000073,
          0.17650111,
          -0.09234495,
          -0.0932381,
          0.14541401,
          0.10538755,
          0.19517507,
          0.2130456,
          0.2511777,
          0.2523134,
          0.298196,
          0.10112234,
          0.17618829,
          0.2100198,
          0.02196049,
          0.04253071,
          -0.10555274,
          0.18707995,
          0.18940803,
          -0.14093737,
          0.108245865,
          0.12623367,
          0.10710085,
          0.15894617,
          0.13806832,
          0.1384758,
          0.11242584,
          0.007415674
         ]
        },
        {
         "customdata": [
          [
           "Question: ¿Cómo se diferencia la ubicación física de la operativa?<br>Closest Model: Riesgos<br>Similarity: 0.78<br>Chunk: El usuario al acceder al cardboard “Riesgos por ubicación” visualiza el campo “Tipo de  ubicación” e..."
          ],
          [
           "Question: ¿Qué información se incluye en el informe de la evaluación de riesgos que ofrece la plataforma y cuál es su utilidad para la gestión de riesgos en la empresa?<br>Closest Model: Riesgos<br>Similarity: 0.89<br>Chunk: Sabentis es la nueva plataforma de gestión especializada en el ámbito de seguridad y salud en  el tr..."
          ],
          [
           "Question: ¿Hay indicadores relativos al cumplimiento de normas?<br>Closest Model: Auditorias<br>Similarity: 0.73<br>Chunk: Trabajo adaptada a las nuevas tecnologías y a los nuevos modelos de gestión de la  prevención.   La ..."
          ],
          [
           "Question: ¿Qué papel juega la estructura organizativa en la funcionalidad general de la plataforma y cómo interactúa con otros módulos?<br>Closest Model: Estructura Organizativa<br>Similarity: 0.87<br>Chunk: 3. HOME ESTRUCTURA ORGANIZATIVA  El usuario puede acceder al módulo Estructura Organizativa (EO), de..."
          ],
          [
           "Question: ¿Qué permite realizar la evaluación de riesgos?<br>Closest Model: Riesgos<br>Similarity: 0.85<br>Chunk: Permite elegir la metodología que se aplicará en las  evaluaciones de los riesgos identificados.  • ..."
          ],
          [
           "Question: ¿Qué tipo de documentos se pueden almacenar y compartir en el espacio denominado 'Documentos' y cuál es su importancia dentro del contexto de la gestión empresarial en la plataforma?<br>Closest Model: Información<br>Similarity: 0.88<br>Chunk: DATOS DEL DOCUMENTO  HISTÓRICO DE CAMBIOS  CONTENIDO  Sabentis es la nueva plataforma de gestión esp..."
          ],
          [
           "Question: ¿Se pueden llevar a cabo auditorías internas?<br>Closest Model: Emergencia<br>Similarity: 0.78<br>Chunk: para identificar y llevar a cabo actividades de mejoras tanto en los  procedimientos establecidos co..."
          ],
          [
           "Question: ¿Cuál es la tasa de adopción de esta plataforma en el mercado?<br>Closest Model: Estructura Organizativa<br>Similarity: 0.73<br>Chunk: CONTENIDO  Sabentis es la nueva plataforma de gestión especializada en el ámbito de Seguridad y Salu..."
          ],
          [
           "Question: ¿Cómo se compara esta plataforma con otras soluciones de gestión de SST?<br>Closest Model: Estructura Organizativa<br>Similarity: 0.82<br>Chunk: CONTENIDO  Sabentis es la nueva plataforma de gestión especializada en el ámbito de Seguridad y Salu..."
          ],
          [
           "Question: ¿Qué día hará mañana?<br>Closest Model: Estructura Organizativa<br>Similarity: 0.63<br>Chunk: Versión  Fecha  Comentarios  Autor  Versión 1.0  28/10/2021  Redacción  Mercedes León Chele  Versión..."
          ]
         ],
         "hovertemplate": "color=Question<br>PCA Component 1=%{x}<br>PCA Component 2=%{y}<br>PCA Component 3=%{z}<br>label=%{customdata[0]}<extra></extra>",
         "legendgroup": "Question",
         "marker": {
          "color": "#FF6692",
          "symbol": "circle"
         },
         "mode": "markers",
         "name": "Question",
         "scene": "scene",
         "showlegend": true,
         "type": "scatter3d",
         "x": [
          0.4897559,
          0.36407787,
          0.8946924,
          0.106267445,
          0.469913,
          0.1523567,
          0.5995848,
          0.3220644,
          0.22949074,
          -0.073685415
         ],
         "y": [
          1.0316817,
          0.47895664,
          -0.27242616,
          0.21226962,
          0.13750786,
          0.005592019,
          -0.41273752,
          0.12452117,
          0.7228055,
          1.3828367
         ],
         "z": [
          -0.45573503,
          0.31791446,
          0.6821697,
          -0.25644827,
          0.49183783,
          -0.06989432,
          0.26776415,
          -0.14230582,
          0.26462594,
          -0.0815096
         ]
        },
        {
         "mode": "markers+text",
         "showlegend": false,
         "text": "Q1",
         "textposition": "top center",
         "type": "scatter3d",
         "x": [
          0.48975589871406555
         ],
         "y": [
          1.0316816568374634
         ],
         "z": [
          -0.4557350277900696
         ]
        },
        {
         "mode": "markers+text",
         "showlegend": false,
         "text": "Q2",
         "textposition": "top center",
         "type": "scatter3d",
         "x": [
          0.3640778660774231
         ],
         "y": [
          0.4789566397666931
         ],
         "z": [
          0.3179144561290741
         ]
        },
        {
         "mode": "markers+text",
         "showlegend": false,
         "text": "Q3",
         "textposition": "top center",
         "type": "scatter3d",
         "x": [
          0.8946924209594727
         ],
         "y": [
          -0.27242615818977356
         ],
         "z": [
          0.6821696758270264
         ]
        },
        {
         "mode": "markers+text",
         "showlegend": false,
         "text": "Q4",
         "textposition": "top center",
         "type": "scatter3d",
         "x": [
          0.10626744478940964
         ],
         "y": [
          0.2122696191072464
         ],
         "z": [
          -0.25644826889038086
         ]
        },
        {
         "mode": "markers+text",
         "showlegend": false,
         "text": "Q5",
         "textposition": "top center",
         "type": "scatter3d",
         "x": [
          0.4699130058288574
         ],
         "y": [
          0.1375078558921814
         ],
         "z": [
          0.49183782935142517
         ]
        },
        {
         "mode": "markers+text",
         "showlegend": false,
         "text": "Q6",
         "textposition": "top center",
         "type": "scatter3d",
         "x": [
          0.15235669910907745
         ],
         "y": [
          0.005592018831521273
         ],
         "z": [
          -0.06989432126283646
         ]
        },
        {
         "mode": "markers+text",
         "showlegend": false,
         "text": "Q7",
         "textposition": "top center",
         "type": "scatter3d",
         "x": [
          0.5995848178863525
         ],
         "y": [
          -0.41273751854896545
         ],
         "z": [
          0.267764151096344
         ]
        },
        {
         "mode": "markers+text",
         "showlegend": false,
         "text": "Q8",
         "textposition": "top center",
         "type": "scatter3d",
         "x": [
          0.3220643997192383
         ],
         "y": [
          0.1245211735367775
         ],
         "z": [
          -0.14230582118034363
         ]
        },
        {
         "mode": "markers+text",
         "showlegend": false,
         "text": "Q9",
         "textposition": "top center",
         "type": "scatter3d",
         "x": [
          0.2294907420873642
         ],
         "y": [
          0.7228055000305176
         ],
         "z": [
          0.2646259367465973
         ]
        },
        {
         "mode": "markers+text",
         "showlegend": false,
         "text": "Q10",
         "textposition": "top center",
         "type": "scatter3d",
         "x": [
          -0.0736854150891304
         ],
         "y": [
          1.3828366994857788
         ],
         "z": [
          -0.08150959759950638
         ]
        }
       ],
       "layout": {
        "legend": {
         "title": {
          "text": "color"
         },
         "tracegroupgap": 0
        },
        "scene": {
         "domain": {
          "x": [
           0,
           1
          ],
          "y": [
           0,
           1
          ]
         },
         "xaxis": {
          "title": {
           "text": "PCA Component 1"
          }
         },
         "yaxis": {
          "title": {
           "text": "PCA Component 2"
          }
         },
         "zaxis": {
          "title": {
           "text": "PCA Component 3"
          }
         }
        },
        "template": {
         "data": {
          "bar": [
           {
            "error_x": {
             "color": "#2a3f5f"
            },
            "error_y": {
             "color": "#2a3f5f"
            },
            "marker": {
             "line": {
              "color": "#E5ECF6",
              "width": 0.5
             },
             "pattern": {
              "fillmode": "overlay",
              "size": 10,
              "solidity": 0.2
             }
            },
            "type": "bar"
           }
          ],
          "barpolar": [
           {
            "marker": {
             "line": {
              "color": "#E5ECF6",
              "width": 0.5
             },
             "pattern": {
              "fillmode": "overlay",
              "size": 10,
              "solidity": 0.2
             }
            },
            "type": "barpolar"
           }
          ],
          "carpet": [
           {
            "aaxis": {
             "endlinecolor": "#2a3f5f",
             "gridcolor": "white",
             "linecolor": "white",
             "minorgridcolor": "white",
             "startlinecolor": "#2a3f5f"
            },
            "baxis": {
             "endlinecolor": "#2a3f5f",
             "gridcolor": "white",
             "linecolor": "white",
             "minorgridcolor": "white",
             "startlinecolor": "#2a3f5f"
            },
            "type": "carpet"
           }
          ],
          "choropleth": [
           {
            "colorbar": {
             "outlinewidth": 0,
             "ticks": ""
            },
            "type": "choropleth"
           }
          ],
          "contour": [
           {
            "colorbar": {
             "outlinewidth": 0,
             "ticks": ""
            },
            "colorscale": [
             [
              0,
              "#0d0887"
             ],
             [
              0.1111111111111111,
              "#46039f"
             ],
             [
              0.2222222222222222,
              "#7201a8"
             ],
             [
              0.3333333333333333,
              "#9c179e"
             ],
             [
              0.4444444444444444,
              "#bd3786"
             ],
             [
              0.5555555555555556,
              "#d8576b"
             ],
             [
              0.6666666666666666,
              "#ed7953"
             ],
             [
              0.7777777777777778,
              "#fb9f3a"
             ],
             [
              0.8888888888888888,
              "#fdca26"
             ],
             [
              1,
              "#f0f921"
             ]
            ],
            "type": "contour"
           }
          ],
          "contourcarpet": [
           {
            "colorbar": {
             "outlinewidth": 0,
             "ticks": ""
            },
            "type": "contourcarpet"
           }
          ],
          "heatmap": [
           {
            "colorbar": {
             "outlinewidth": 0,
             "ticks": ""
            },
            "colorscale": [
             [
              0,
              "#0d0887"
             ],
             [
              0.1111111111111111,
              "#46039f"
             ],
             [
              0.2222222222222222,
              "#7201a8"
             ],
             [
              0.3333333333333333,
              "#9c179e"
             ],
             [
              0.4444444444444444,
              "#bd3786"
             ],
             [
              0.5555555555555556,
              "#d8576b"
             ],
             [
              0.6666666666666666,
              "#ed7953"
             ],
             [
              0.7777777777777778,
              "#fb9f3a"
             ],
             [
              0.8888888888888888,
              "#fdca26"
             ],
             [
              1,
              "#f0f921"
             ]
            ],
            "type": "heatmap"
           }
          ],
          "heatmapgl": [
           {
            "colorbar": {
             "outlinewidth": 0,
             "ticks": ""
            },
            "colorscale": [
             [
              0,
              "#0d0887"
             ],
             [
              0.1111111111111111,
              "#46039f"
             ],
             [
              0.2222222222222222,
              "#7201a8"
             ],
             [
              0.3333333333333333,
              "#9c179e"
             ],
             [
              0.4444444444444444,
              "#bd3786"
             ],
             [
              0.5555555555555556,
              "#d8576b"
             ],
             [
              0.6666666666666666,
              "#ed7953"
             ],
             [
              0.7777777777777778,
              "#fb9f3a"
             ],
             [
              0.8888888888888888,
              "#fdca26"
             ],
             [
              1,
              "#f0f921"
             ]
            ],
            "type": "heatmapgl"
           }
          ],
          "histogram": [
           {
            "marker": {
             "pattern": {
              "fillmode": "overlay",
              "size": 10,
              "solidity": 0.2
             }
            },
            "type": "histogram"
           }
          ],
          "histogram2d": [
           {
            "colorbar": {
             "outlinewidth": 0,
             "ticks": ""
            },
            "colorscale": [
             [
              0,
              "#0d0887"
             ],
             [
              0.1111111111111111,
              "#46039f"
             ],
             [
              0.2222222222222222,
              "#7201a8"
             ],
             [
              0.3333333333333333,
              "#9c179e"
             ],
             [
              0.4444444444444444,
              "#bd3786"
             ],
             [
              0.5555555555555556,
              "#d8576b"
             ],
             [
              0.6666666666666666,
              "#ed7953"
             ],
             [
              0.7777777777777778,
              "#fb9f3a"
             ],
             [
              0.8888888888888888,
              "#fdca26"
             ],
             [
              1,
              "#f0f921"
             ]
            ],
            "type": "histogram2d"
           }
          ],
          "histogram2dcontour": [
           {
            "colorbar": {
             "outlinewidth": 0,
             "ticks": ""
            },
            "colorscale": [
             [
              0,
              "#0d0887"
             ],
             [
              0.1111111111111111,
              "#46039f"
             ],
             [
              0.2222222222222222,
              "#7201a8"
             ],
             [
              0.3333333333333333,
              "#9c179e"
             ],
             [
              0.4444444444444444,
              "#bd3786"
             ],
             [
              0.5555555555555556,
              "#d8576b"
             ],
             [
              0.6666666666666666,
              "#ed7953"
             ],
             [
              0.7777777777777778,
              "#fb9f3a"
             ],
             [
              0.8888888888888888,
              "#fdca26"
             ],
             [
              1,
              "#f0f921"
             ]
            ],
            "type": "histogram2dcontour"
           }
          ],
          "mesh3d": [
           {
            "colorbar": {
             "outlinewidth": 0,
             "ticks": ""
            },
            "type": "mesh3d"
           }
          ],
          "parcoords": [
           {
            "line": {
             "colorbar": {
              "outlinewidth": 0,
              "ticks": ""
             }
            },
            "type": "parcoords"
           }
          ],
          "pie": [
           {
            "automargin": true,
            "type": "pie"
           }
          ],
          "scatter": [
           {
            "fillpattern": {
             "fillmode": "overlay",
             "size": 10,
             "solidity": 0.2
            },
            "type": "scatter"
           }
          ],
          "scatter3d": [
           {
            "line": {
             "colorbar": {
              "outlinewidth": 0,
              "ticks": ""
             }
            },
            "marker": {
             "colorbar": {
              "outlinewidth": 0,
              "ticks": ""
             }
            },
            "type": "scatter3d"
           }
          ],
          "scattercarpet": [
           {
            "marker": {
             "colorbar": {
              "outlinewidth": 0,
              "ticks": ""
             }
            },
            "type": "scattercarpet"
           }
          ],
          "scattergeo": [
           {
            "marker": {
             "colorbar": {
              "outlinewidth": 0,
              "ticks": ""
             }
            },
            "type": "scattergeo"
           }
          ],
          "scattergl": [
           {
            "marker": {
             "colorbar": {
              "outlinewidth": 0,
              "ticks": ""
             }
            },
            "type": "scattergl"
           }
          ],
          "scattermapbox": [
           {
            "marker": {
             "colorbar": {
              "outlinewidth": 0,
              "ticks": ""
             }
            },
            "type": "scattermapbox"
           }
          ],
          "scatterpolar": [
           {
            "marker": {
             "colorbar": {
              "outlinewidth": 0,
              "ticks": ""
             }
            },
            "type": "scatterpolar"
           }
          ],
          "scatterpolargl": [
           {
            "marker": {
             "colorbar": {
              "outlinewidth": 0,
              "ticks": ""
             }
            },
            "type": "scatterpolargl"
           }
          ],
          "scatterternary": [
           {
            "marker": {
             "colorbar": {
              "outlinewidth": 0,
              "ticks": ""
             }
            },
            "type": "scatterternary"
           }
          ],
          "surface": [
           {
            "colorbar": {
             "outlinewidth": 0,
             "ticks": ""
            },
            "colorscale": [
             [
              0,
              "#0d0887"
             ],
             [
              0.1111111111111111,
              "#46039f"
             ],
             [
              0.2222222222222222,
              "#7201a8"
             ],
             [
              0.3333333333333333,
              "#9c179e"
             ],
             [
              0.4444444444444444,
              "#bd3786"
             ],
             [
              0.5555555555555556,
              "#d8576b"
             ],
             [
              0.6666666666666666,
              "#ed7953"
             ],
             [
              0.7777777777777778,
              "#fb9f3a"
             ],
             [
              0.8888888888888888,
              "#fdca26"
             ],
             [
              1,
              "#f0f921"
             ]
            ],
            "type": "surface"
           }
          ],
          "table": [
           {
            "cells": {
             "fill": {
              "color": "#EBF0F8"
             },
             "line": {
              "color": "white"
             }
            },
            "header": {
             "fill": {
              "color": "#C8D4E3"
             },
             "line": {
              "color": "white"
             }
            },
            "type": "table"
           }
          ]
         },
         "layout": {
          "annotationdefaults": {
           "arrowcolor": "#2a3f5f",
           "arrowhead": 0,
           "arrowwidth": 1
          },
          "autotypenumbers": "strict",
          "coloraxis": {
           "colorbar": {
            "outlinewidth": 0,
            "ticks": ""
           }
          },
          "colorscale": {
           "diverging": [
            [
             0,
             "#8e0152"
            ],
            [
             0.1,
             "#c51b7d"
            ],
            [
             0.2,
             "#de77ae"
            ],
            [
             0.3,
             "#f1b6da"
            ],
            [
             0.4,
             "#fde0ef"
            ],
            [
             0.5,
             "#f7f7f7"
            ],
            [
             0.6,
             "#e6f5d0"
            ],
            [
             0.7,
             "#b8e186"
            ],
            [
             0.8,
             "#7fbc41"
            ],
            [
             0.9,
             "#4d9221"
            ],
            [
             1,
             "#276419"
            ]
           ],
           "sequential": [
            [
             0,
             "#0d0887"
            ],
            [
             0.1111111111111111,
             "#46039f"
            ],
            [
             0.2222222222222222,
             "#7201a8"
            ],
            [
             0.3333333333333333,
             "#9c179e"
            ],
            [
             0.4444444444444444,
             "#bd3786"
            ],
            [
             0.5555555555555556,
             "#d8576b"
            ],
            [
             0.6666666666666666,
             "#ed7953"
            ],
            [
             0.7777777777777778,
             "#fb9f3a"
            ],
            [
             0.8888888888888888,
             "#fdca26"
            ],
            [
             1,
             "#f0f921"
            ]
           ],
           "sequentialminus": [
            [
             0,
             "#0d0887"
            ],
            [
             0.1111111111111111,
             "#46039f"
            ],
            [
             0.2222222222222222,
             "#7201a8"
            ],
            [
             0.3333333333333333,
             "#9c179e"
            ],
            [
             0.4444444444444444,
             "#bd3786"
            ],
            [
             0.5555555555555556,
             "#d8576b"
            ],
            [
             0.6666666666666666,
             "#ed7953"
            ],
            [
             0.7777777777777778,
             "#fb9f3a"
            ],
            [
             0.8888888888888888,
             "#fdca26"
            ],
            [
             1,
             "#f0f921"
            ]
           ]
          },
          "colorway": [
           "#636efa",
           "#EF553B",
           "#00cc96",
           "#ab63fa",
           "#FFA15A",
           "#19d3f3",
           "#FF6692",
           "#B6E880",
           "#FF97FF",
           "#FECB52"
          ],
          "font": {
           "color": "#2a3f5f"
          },
          "geo": {
           "bgcolor": "white",
           "lakecolor": "white",
           "landcolor": "#E5ECF6",
           "showlakes": true,
           "showland": true,
           "subunitcolor": "white"
          },
          "hoverlabel": {
           "align": "left"
          },
          "hovermode": "closest",
          "mapbox": {
           "style": "light"
          },
          "paper_bgcolor": "white",
          "plot_bgcolor": "#E5ECF6",
          "polar": {
           "angularaxis": {
            "gridcolor": "white",
            "linecolor": "white",
            "ticks": ""
           },
           "bgcolor": "#E5ECF6",
           "radialaxis": {
            "gridcolor": "white",
            "linecolor": "white",
            "ticks": ""
           }
          },
          "scene": {
           "xaxis": {
            "backgroundcolor": "#E5ECF6",
            "gridcolor": "white",
            "gridwidth": 2,
            "linecolor": "white",
            "showbackground": true,
            "ticks": "",
            "zerolinecolor": "white"
           },
           "yaxis": {
            "backgroundcolor": "#E5ECF6",
            "gridcolor": "white",
            "gridwidth": 2,
            "linecolor": "white",
            "showbackground": true,
            "ticks": "",
            "zerolinecolor": "white"
           },
           "zaxis": {
            "backgroundcolor": "#E5ECF6",
            "gridcolor": "white",
            "gridwidth": 2,
            "linecolor": "white",
            "showbackground": true,
            "ticks": "",
            "zerolinecolor": "white"
           }
          },
          "shapedefaults": {
           "line": {
            "color": "#2a3f5f"
           }
          },
          "ternary": {
           "aaxis": {
            "gridcolor": "white",
            "linecolor": "white",
            "ticks": ""
           },
           "baxis": {
            "gridcolor": "white",
            "linecolor": "white",
            "ticks": ""
           },
           "bgcolor": "#E5ECF6",
           "caxis": {
            "gridcolor": "white",
            "linecolor": "white",
            "ticks": ""
           }
          },
          "title": {
           "x": 0.05
          },
          "xaxis": {
           "automargin": true,
           "gridcolor": "white",
           "linecolor": "white",
           "ticks": "",
           "title": {
            "standoff": 15
           },
           "zerolinecolor": "white",
           "zerolinewidth": 2
          },
          "yaxis": {
           "automargin": true,
           "gridcolor": "white",
           "linecolor": "white",
           "ticks": "",
           "title": {
            "standoff": 15
           },
           "zerolinecolor": "white",
           "zerolinewidth": 2
          }
         }
        },
        "title": {
         "text": "Embeddings Visualization with 3D PCA"
        }
       }
      }
     },
     "metadata": {},
     "output_type": "display_data"
    },
    {
     "data": {
      "application/vnd.plotly.v1+json": {
       "config": {
        "plotlyServerURL": "https://plot.ly"
       },
       "data": [
        {
         "customdata": [
          [
           "Auditorias"
          ],
          [
           "Auditorias"
          ],
          [
           "Auditorias"
          ],
          [
           "Auditorias"
          ],
          [
           "Auditorias"
          ],
          [
           "Auditorias"
          ],
          [
           "Auditorias"
          ],
          [
           "Auditorias"
          ],
          [
           "Auditorias"
          ],
          [
           "Auditorias"
          ],
          [
           "Auditorias"
          ],
          [
           "Auditorias"
          ],
          [
           "Auditorias"
          ],
          [
           "Auditorias"
          ],
          [
           "Auditorias"
          ],
          [
           "Auditorias"
          ],
          [
           "Auditorias"
          ],
          [
           "Auditorias"
          ],
          [
           "Auditorias"
          ],
          [
           "Auditorias"
          ],
          [
           "Auditorias"
          ],
          [
           "Auditorias"
          ],
          [
           "Auditorias"
          ],
          [
           "Auditorias"
          ],
          [
           "Auditorias"
          ],
          [
           "Auditorias"
          ],
          [
           "Auditorias"
          ],
          [
           "Auditorias"
          ],
          [
           "Auditorias"
          ],
          [
           "Auditorias"
          ],
          [
           "Auditorias"
          ],
          [
           "Auditorias"
          ],
          [
           "Auditorias"
          ],
          [
           "Auditorias"
          ],
          [
           "Auditorias"
          ],
          [
           "Auditorias"
          ],
          [
           "Auditorias"
          ],
          [
           "Auditorias"
          ],
          [
           "Auditorias"
          ],
          [
           "Auditorias"
          ],
          [
           "Auditorias"
          ],
          [
           "Auditorias"
          ],
          [
           "Auditorias"
          ],
          [
           "Auditorias"
          ],
          [
           "Auditorias"
          ],
          [
           "Auditorias"
          ],
          [
           "Auditorias"
          ],
          [
           "Auditorias"
          ],
          [
           "Auditorias"
          ],
          [
           "Auditorias"
          ],
          [
           "Auditorias"
          ],
          [
           "Auditorias"
          ],
          [
           "Auditorias"
          ],
          [
           "Auditorias"
          ],
          [
           "Auditorias"
          ],
          [
           "Auditorias"
          ],
          [
           "Auditorias"
          ],
          [
           "Auditorias"
          ]
         ],
         "hovertemplate": "color=Auditorias<br>t-SNE Component 1=%{x}<br>t-SNE Component 2=%{y}<br>t-SNE Component 3=%{z}<br>label=%{customdata[0]}<extra></extra>",
         "legendgroup": "Auditorias",
         "marker": {
          "color": "#636efa",
          "symbol": "circle"
         },
         "mode": "markers",
         "name": "Auditorias",
         "scene": "scene",
         "showlegend": true,
         "type": "scatter3d",
         "x": [
          30.776302,
          -17.292706,
          -15.789148,
          15.446087,
          -13.781424,
          -11.207895,
          -13.701228,
          -13.572773,
          -11.179606,
          -3.2826622,
          -4.393996,
          -7.8805127,
          3.8596096,
          -6.463955,
          -7.2205367,
          22.354101,
          11.4736185,
          9.994175,
          -1.5944133,
          16.002443,
          2.4466345,
          2.314891,
          -13.547249,
          23.129322,
          0.6219134,
          13.299201,
          15.620345,
          11.216245,
          -14.852195,
          34.257313,
          32.7474,
          31.396341,
          32.773052,
          35.300827,
          35.35879,
          37.61758,
          -6.94962,
          -7.9696426,
          -11.005087,
          5.2482953,
          -8.381195,
          21.965704,
          16.56179,
          12.519258,
          10.00692,
          -0.5015291,
          17.64706,
          5.263345,
          1.6762527,
          15.875601,
          18.432346,
          -0.10827816,
          9.876184,
          16.006546,
          6.8971415,
          7.324774,
          -1.026393,
          20.808752
         ],
         "y": [
          29.134174,
          7.219013,
          6.6271925,
          21.901134,
          2.087525,
          8.210324,
          11.213675,
          8.702834,
          12.037799,
          3.5972147,
          7.7761536,
          10.180174,
          14.181074,
          7.085591,
          9.453954,
          24.257467,
          23.98494,
          21.925642,
          27.899559,
          12.5749445,
          30.656193,
          11.551825,
          -0.053520918,
          19.396069,
          22.065573,
          11.434824,
          9.480177,
          15.916424,
          2.3639565,
          -4.6252537,
          -7.6746106,
          -5.7827024,
          -6.1149273,
          -7.705673,
          -4.07546,
          -5.583262,
          4.0384135,
          4.907962,
          7.415307,
          16.926455,
          7.1454897,
          20.986841,
          24.706964,
          26.813988,
          23.243828,
          28.10219,
          13.741731,
          31.972952,
          31.60003,
          22.950426,
          22.117165,
          24.53282,
          9.237634,
          13.001984,
          11.618696,
          8.903476,
          2.9859931,
          22.680918
         ],
         "z": [
          -0.24511303,
          14.258871,
          11.037676,
          11.598678,
          -32.218796,
          27.013939,
          28.105677,
          31.587656,
          32.092052,
          -5.827772,
          -4.7863994,
          -6.8859816,
          4.533216,
          9.561176,
          2.5757136,
          -13.095296,
          -11.514364,
          -21.187239,
          -11.5862055,
          -17.894945,
          24.15511,
          -10.648892,
          0.899034,
          -2.3154845,
          2.2702866,
          6.05667,
          3.764088,
          1.8136839,
          13.23358,
          10.342238,
          7.9889336,
          4.8889904,
          0.9211673,
          -2.3766584,
          -4.076352,
          -7.0310264,
          -8.415871,
          -4.181141,
          -6.699105,
          3.2480216,
          4.9001665,
          -12.356432,
          -10.826992,
          -13.137395,
          -17.921385,
          -14.743797,
          -20.551643,
          22.172205,
          20.002226,
          3.6042304,
          1.2978711,
          4.532749,
          5.6660466,
          1.2885692,
          -1.9310882,
          -4.529435,
          -11.69843,
          -2.2825437
         ]
        },
        {
         "customdata": [
          [
           "Ausentismo"
          ],
          [
           "Ausentismo"
          ],
          [
           "Ausentismo"
          ],
          [
           "Ausentismo"
          ],
          [
           "Ausentismo"
          ],
          [
           "Ausentismo"
          ],
          [
           "Ausentismo"
          ],
          [
           "Ausentismo"
          ],
          [
           "Ausentismo"
          ],
          [
           "Ausentismo"
          ],
          [
           "Ausentismo"
          ],
          [
           "Ausentismo"
          ],
          [
           "Ausentismo"
          ],
          [
           "Ausentismo"
          ],
          [
           "Ausentismo"
          ],
          [
           "Ausentismo"
          ],
          [
           "Ausentismo"
          ],
          [
           "Ausentismo"
          ],
          [
           "Ausentismo"
          ],
          [
           "Ausentismo"
          ],
          [
           "Ausentismo"
          ],
          [
           "Ausentismo"
          ],
          [
           "Ausentismo"
          ],
          [
           "Ausentismo"
          ],
          [
           "Ausentismo"
          ],
          [
           "Ausentismo"
          ],
          [
           "Ausentismo"
          ],
          [
           "Ausentismo"
          ],
          [
           "Ausentismo"
          ],
          [
           "Ausentismo"
          ],
          [
           "Ausentismo"
          ],
          [
           "Ausentismo"
          ],
          [
           "Ausentismo"
          ],
          [
           "Ausentismo"
          ],
          [
           "Ausentismo"
          ],
          [
           "Ausentismo"
          ],
          [
           "Ausentismo"
          ],
          [
           "Ausentismo"
          ],
          [
           "Ausentismo"
          ],
          [
           "Ausentismo"
          ]
         ],
         "hovertemplate": "color=Ausentismo<br>t-SNE Component 1=%{x}<br>t-SNE Component 2=%{y}<br>t-SNE Component 3=%{z}<br>label=%{customdata[0]}<extra></extra>",
         "legendgroup": "Ausentismo",
         "marker": {
          "color": "#EF553B",
          "symbol": "circle"
         },
         "mode": "markers",
         "name": "Ausentismo",
         "scene": "scene",
         "showlegend": true,
         "type": "scatter3d",
         "x": [
          -22.183596,
          22.900452,
          19.827188,
          -38.307934,
          -38.31455,
          22.504498,
          23.869267,
          21.144264,
          9.01417,
          6.2083435,
          16.501266,
          11.217323,
          10.135106,
          10.386616,
          30.54867,
          30.667408,
          32.58986,
          31.721504,
          16.832212,
          17.14748,
          28.24995,
          23.83787,
          20.749537,
          18.443998,
          7.1795506,
          25.546875,
          28.650429,
          22.0415,
          21.084066,
          19.618887,
          21.971432,
          11.233011,
          24.511555,
          26.51277,
          29.521862,
          19.70879,
          21.287367,
          2.7762113,
          19.709187,
          -36.4036
         ],
         "y": [
          8.687149,
          18.734297,
          20.28,
          1.8517882,
          1.1667861,
          1.3853192,
          1.8267314,
          6.6578183,
          0.30704468,
          -0.8094616,
          9.704753,
          -2.2474468,
          -1.0384537,
          1.680394,
          -21.81307,
          -20.858765,
          -24.572645,
          -23.956322,
          -2.5157802,
          -0.6618555,
          -12.172047,
          -12.845402,
          -14.278295,
          -14.5347395,
          2.4554694,
          -25.216442,
          -27.197824,
          -6.3262053,
          -6.2539625,
          -6.902527,
          -4.4924645,
          11.73675,
          -23.967808,
          -26.434134,
          -28.913816,
          -8.65382,
          -18.820072,
          -16.815775,
          19.703535,
          5.241876
         ],
         "z": [
          12.1737175,
          13.73449,
          11.572889,
          -7.301863,
          -4.0421667,
          17.515734,
          14.351242,
          19.575947,
          -5.863923,
          -7.538644,
          18.235449,
          31.055716,
          27.12585,
          23.458368,
          7.1605716,
          3.199198,
          2.0338223,
          -2.0994291,
          16.445171,
          13.49515,
          24.725508,
          23.974236,
          23.46193,
          27.916515,
          24.724676,
          7.495588,
          -5.368271,
          14.973058,
          11.255335,
          6.904428,
          4.9536815,
          29.411148,
          3.406958,
          0.6925974,
          -0.7590931,
          18.447693,
          21.880709,
          -12.665467,
          7.140298,
          -2.4446898
         ]
        },
        {
         "customdata": [
          [
           "Estructura Organizativa"
          ],
          [
           "Estructura Organizativa"
          ],
          [
           "Estructura Organizativa"
          ],
          [
           "Estructura Organizativa"
          ],
          [
           "Estructura Organizativa"
          ],
          [
           "Estructura Organizativa"
          ],
          [
           "Estructura Organizativa"
          ],
          [
           "Estructura Organizativa"
          ],
          [
           "Estructura Organizativa"
          ],
          [
           "Estructura Organizativa"
          ],
          [
           "Estructura Organizativa"
          ],
          [
           "Estructura Organizativa"
          ],
          [
           "Estructura Organizativa"
          ],
          [
           "Estructura Organizativa"
          ],
          [
           "Estructura Organizativa"
          ],
          [
           "Estructura Organizativa"
          ],
          [
           "Estructura Organizativa"
          ],
          [
           "Estructura Organizativa"
          ],
          [
           "Estructura Organizativa"
          ],
          [
           "Estructura Organizativa"
          ],
          [
           "Estructura Organizativa"
          ],
          [
           "Estructura Organizativa"
          ],
          [
           "Estructura Organizativa"
          ],
          [
           "Estructura Organizativa"
          ],
          [
           "Estructura Organizativa"
          ],
          [
           "Estructura Organizativa"
          ],
          [
           "Estructura Organizativa"
          ],
          [
           "Estructura Organizativa"
          ],
          [
           "Estructura Organizativa"
          ],
          [
           "Estructura Organizativa"
          ],
          [
           "Estructura Organizativa"
          ],
          [
           "Estructura Organizativa"
          ],
          [
           "Estructura Organizativa"
          ],
          [
           "Estructura Organizativa"
          ],
          [
           "Estructura Organizativa"
          ],
          [
           "Estructura Organizativa"
          ],
          [
           "Estructura Organizativa"
          ],
          [
           "Estructura Organizativa"
          ],
          [
           "Estructura Organizativa"
          ],
          [
           "Estructura Organizativa"
          ],
          [
           "Estructura Organizativa"
          ],
          [
           "Estructura Organizativa"
          ],
          [
           "Estructura Organizativa"
          ],
          [
           "Estructura Organizativa"
          ],
          [
           "Estructura Organizativa"
          ],
          [
           "Estructura Organizativa"
          ],
          [
           "Estructura Organizativa"
          ],
          [
           "Estructura Organizativa"
          ],
          [
           "Estructura Organizativa"
          ],
          [
           "Estructura Organizativa"
          ],
          [
           "Estructura Organizativa"
          ],
          [
           "Estructura Organizativa"
          ],
          [
           "Estructura Organizativa"
          ],
          [
           "Estructura Organizativa"
          ],
          [
           "Estructura Organizativa"
          ],
          [
           "Estructura Organizativa"
          ],
          [
           "Estructura Organizativa"
          ],
          [
           "Estructura Organizativa"
          ],
          [
           "Estructura Organizativa"
          ],
          [
           "Estructura Organizativa"
          ],
          [
           "Estructura Organizativa"
          ],
          [
           "Estructura Organizativa"
          ],
          [
           "Estructura Organizativa"
          ],
          [
           "Estructura Organizativa"
          ],
          [
           "Estructura Organizativa"
          ],
          [
           "Estructura Organizativa"
          ],
          [
           "Estructura Organizativa"
          ],
          [
           "Estructura Organizativa"
          ],
          [
           "Estructura Organizativa"
          ],
          [
           "Estructura Organizativa"
          ],
          [
           "Estructura Organizativa"
          ],
          [
           "Estructura Organizativa"
          ],
          [
           "Estructura Organizativa"
          ],
          [
           "Estructura Organizativa"
          ],
          [
           "Estructura Organizativa"
          ],
          [
           "Estructura Organizativa"
          ],
          [
           "Estructura Organizativa"
          ],
          [
           "Estructura Organizativa"
          ],
          [
           "Estructura Organizativa"
          ],
          [
           "Estructura Organizativa"
          ],
          [
           "Estructura Organizativa"
          ],
          [
           "Estructura Organizativa"
          ],
          [
           "Estructura Organizativa"
          ],
          [
           "Estructura Organizativa"
          ],
          [
           "Estructura Organizativa"
          ],
          [
           "Estructura Organizativa"
          ],
          [
           "Estructura Organizativa"
          ],
          [
           "Estructura Organizativa"
          ],
          [
           "Estructura Organizativa"
          ],
          [
           "Estructura Organizativa"
          ],
          [
           "Estructura Organizativa"
          ],
          [
           "Estructura Organizativa"
          ],
          [
           "Estructura Organizativa"
          ],
          [
           "Estructura Organizativa"
          ],
          [
           "Estructura Organizativa"
          ],
          [
           "Estructura Organizativa"
          ],
          [
           "Estructura Organizativa"
          ],
          [
           "Estructura Organizativa"
          ],
          [
           "Estructura Organizativa"
          ],
          [
           "Estructura Organizativa"
          ],
          [
           "Estructura Organizativa"
          ],
          [
           "Estructura Organizativa"
          ],
          [
           "Estructura Organizativa"
          ],
          [
           "Estructura Organizativa"
          ],
          [
           "Estructura Organizativa"
          ],
          [
           "Estructura Organizativa"
          ],
          [
           "Estructura Organizativa"
          ],
          [
           "Estructura Organizativa"
          ],
          [
           "Estructura Organizativa"
          ],
          [
           "Estructura Organizativa"
          ],
          [
           "Estructura Organizativa"
          ],
          [
           "Estructura Organizativa"
          ],
          [
           "Estructura Organizativa"
          ],
          [
           "Estructura Organizativa"
          ],
          [
           "Estructura Organizativa"
          ],
          [
           "Estructura Organizativa"
          ],
          [
           "Estructura Organizativa"
          ],
          [
           "Estructura Organizativa"
          ],
          [
           "Estructura Organizativa"
          ],
          [
           "Estructura Organizativa"
          ],
          [
           "Estructura Organizativa"
          ],
          [
           "Estructura Organizativa"
          ],
          [
           "Estructura Organizativa"
          ],
          [
           "Estructura Organizativa"
          ],
          [
           "Estructura Organizativa"
          ],
          [
           "Estructura Organizativa"
          ],
          [
           "Estructura Organizativa"
          ],
          [
           "Estructura Organizativa"
          ],
          [
           "Estructura Organizativa"
          ],
          [
           "Estructura Organizativa"
          ],
          [
           "Estructura Organizativa"
          ],
          [
           "Estructura Organizativa"
          ],
          [
           "Estructura Organizativa"
          ],
          [
           "Estructura Organizativa"
          ],
          [
           "Estructura Organizativa"
          ],
          [
           "Estructura Organizativa"
          ],
          [
           "Estructura Organizativa"
          ],
          [
           "Estructura Organizativa"
          ],
          [
           "Estructura Organizativa"
          ],
          [
           "Estructura Organizativa"
          ],
          [
           "Estructura Organizativa"
          ],
          [
           "Estructura Organizativa"
          ],
          [
           "Estructura Organizativa"
          ],
          [
           "Estructura Organizativa"
          ],
          [
           "Estructura Organizativa"
          ],
          [
           "Estructura Organizativa"
          ],
          [
           "Estructura Organizativa"
          ],
          [
           "Estructura Organizativa"
          ],
          [
           "Estructura Organizativa"
          ],
          [
           "Estructura Organizativa"
          ],
          [
           "Estructura Organizativa"
          ],
          [
           "Estructura Organizativa"
          ],
          [
           "Estructura Organizativa"
          ],
          [
           "Estructura Organizativa"
          ],
          [
           "Estructura Organizativa"
          ],
          [
           "Estructura Organizativa"
          ],
          [
           "Estructura Organizativa"
          ],
          [
           "Estructura Organizativa"
          ],
          [
           "Estructura Organizativa"
          ],
          [
           "Estructura Organizativa"
          ],
          [
           "Estructura Organizativa"
          ],
          [
           "Estructura Organizativa"
          ],
          [
           "Estructura Organizativa"
          ],
          [
           "Estructura Organizativa"
          ],
          [
           "Estructura Organizativa"
          ],
          [
           "Estructura Organizativa"
          ],
          [
           "Estructura Organizativa"
          ],
          [
           "Estructura Organizativa"
          ],
          [
           "Estructura Organizativa"
          ],
          [
           "Estructura Organizativa"
          ],
          [
           "Estructura Organizativa"
          ],
          [
           "Estructura Organizativa"
          ],
          [
           "Estructura Organizativa"
          ],
          [
           "Estructura Organizativa"
          ],
          [
           "Estructura Organizativa"
          ],
          [
           "Estructura Organizativa"
          ],
          [
           "Estructura Organizativa"
          ],
          [
           "Estructura Organizativa"
          ],
          [
           "Estructura Organizativa"
          ],
          [
           "Estructura Organizativa"
          ],
          [
           "Estructura Organizativa"
          ],
          [
           "Estructura Organizativa"
          ],
          [
           "Estructura Organizativa"
          ],
          [
           "Estructura Organizativa"
          ],
          [
           "Estructura Organizativa"
          ],
          [
           "Estructura Organizativa"
          ],
          [
           "Estructura Organizativa"
          ],
          [
           "Estructura Organizativa"
          ],
          [
           "Estructura Organizativa"
          ],
          [
           "Estructura Organizativa"
          ],
          [
           "Estructura Organizativa"
          ],
          [
           "Estructura Organizativa"
          ],
          [
           "Estructura Organizativa"
          ],
          [
           "Estructura Organizativa"
          ],
          [
           "Estructura Organizativa"
          ],
          [
           "Estructura Organizativa"
          ],
          [
           "Estructura Organizativa"
          ],
          [
           "Estructura Organizativa"
          ],
          [
           "Estructura Organizativa"
          ],
          [
           "Estructura Organizativa"
          ],
          [
           "Estructura Organizativa"
          ],
          [
           "Estructura Organizativa"
          ],
          [
           "Estructura Organizativa"
          ],
          [
           "Estructura Organizativa"
          ],
          [
           "Estructura Organizativa"
          ],
          [
           "Estructura Organizativa"
          ],
          [
           "Estructura Organizativa"
          ],
          [
           "Estructura Organizativa"
          ],
          [
           "Estructura Organizativa"
          ],
          [
           "Estructura Organizativa"
          ],
          [
           "Estructura Organizativa"
          ]
         ],
         "hovertemplate": "color=Estructura Organizativa<br>t-SNE Component 1=%{x}<br>t-SNE Component 2=%{y}<br>t-SNE Component 3=%{z}<br>label=%{customdata[0]}<extra></extra>",
         "legendgroup": "Estructura Organizativa",
         "marker": {
          "color": "#00cc96",
          "symbol": "circle"
         },
         "mode": "markers",
         "name": "Estructura Organizativa",
         "scene": "scene",
         "showlegend": true,
         "type": "scatter3d",
         "x": [
          26.045195,
          33.970375,
          -20.73241,
          -22.32111,
          -23.254576,
          -26.759506,
          -25.417683,
          -28.709799,
          -25.829622,
          -28.832344,
          -29.832521,
          -23.77916,
          -21.297644,
          9.949147,
          -37.405964,
          -37.577694,
          -38.941288,
          -37.17804,
          -38.94381,
          -37.609814,
          -33.993954,
          -32.008682,
          -9.710395,
          6.139925,
          4.7127085,
          1.2011322,
          -23.23595,
          13.873469,
          15.847991,
          13.8503895,
          9.33854,
          -0.9414701,
          -3.945666,
          -19.954998,
          22.666609,
          23.45485,
          25.088585,
          27.743279,
          30.712437,
          31.419249,
          -3.1305761,
          21.786108,
          19.509092,
          -9.30818,
          -3.673481,
          -7.0942936,
          -7.6754713,
          -11.864183,
          -10.795924,
          -18.544956,
          29.904167,
          32.367508,
          30.575245,
          30.74358,
          31.620039,
          35.839676,
          36.086502,
          40.188774,
          38.72718,
          -21.077528,
          2.8767407,
          7.1779127,
          10.337385,
          -2.2925487,
          8.51605,
          -5.123179,
          3.5080118,
          -0.52564615,
          -3.2775211,
          -5.9097342,
          -9.230231,
          -12.050176,
          12.011757,
          -8.84426,
          -10.715255,
          19.871235,
          -7.492108,
          -9.783963,
          -11.416215,
          12.499863,
          -6.26841,
          7.4593043,
          -5.9477396,
          -7.5936522,
          -7.237239,
          -0.45899317,
          2.9562533,
          12.872439,
          11.068022,
          0.82006884,
          -18.08949,
          -21.399353,
          3.8721025,
          -4.4400997,
          -1.4663819,
          -7.5149026,
          -12.492149,
          19.45973,
          18.143337,
          17.997849,
          19.295279,
          22.714893,
          24.917788,
          26.764164,
          28.202507,
          -12.006623,
          -12.030185,
          -13.158967,
          -13.637866,
          4.0722485,
          3.123633,
          1.3259096,
          -25.343765,
          -17.43856,
          19.922985,
          17.573208,
          12.287297,
          7.792728,
          6.2000427,
          6.615127,
          10.824522,
          10.50478,
          9.725037,
          -33.846012,
          23.810537,
          -36.400272,
          19.255463,
          21.073969,
          -19.176062,
          -31.854422,
          -31.165165,
          -30.208405,
          -34.44202,
          -29.029036,
          -26.90125,
          9.90818,
          6.313709,
          4.8444824,
          2.824594,
          0.26430985,
          -2.6641028,
          10.095072,
          10.030715,
          4.6097546,
          1.8361883,
          0.13641769,
          8.837054,
          7.9773064,
          4.236287,
          4.3598766,
          -0.5020623,
          -1.4560047,
          -1.0510374,
          8.614389,
          6.2735534,
          6.3362346,
          -0.92848855,
          3.0079165,
          0.21418113,
          -0.8973924,
          -2.898739,
          -5.47463,
          -6.9195275,
          -6.943118,
          7.075047,
          2.438248,
          -24.273184,
          -32.172836,
          -34.726246,
          -35.717327,
          -30.844057,
          -35.380917,
          -33.11692,
          -28.748768,
          13.809817,
          10.667487,
          8.539688,
          9.121221,
          5.7347293,
          7.927915,
          13.628129,
          11.762265,
          13.512669,
          8.5652275,
          13.15611,
          10.003619,
          14.325991,
          12.54142,
          16.83329,
          -2.1948986,
          10.600742,
          -4.5938115,
          -3.2471926,
          0.52511287,
          4.5637164,
          7.668564,
          5.675693,
          1.3173234,
          -2.224447,
          -5.760689,
          -7.9049244,
          -10.451288,
          1.847087,
          3.459168,
          4.4252176,
          0.8659878,
          8.72406,
          -22.989162,
          3.391445,
          5.744675,
          1.7067215
         ],
         "y": [
          30.825687,
          25.609234,
          5.381186,
          -1.5599278,
          -1.8606606,
          -0.6391345,
          -17.147188,
          -6.3560395,
          -9.11567,
          -11.452835,
          -10.295338,
          -5.5128965,
          -7.6000605,
          22.214214,
          -20.206533,
          -16.175726,
          -17.797249,
          -12.887118,
          -13.007881,
          -8.054669,
          -8.156952,
          -5.9345717,
          -23.097944,
          -34.33291,
          -31.831709,
          -33.24529,
          -22.866842,
          -6.3995953,
          -9.580293,
          -11.782259,
          -14.7136,
          -18.174135,
          -17.556374,
          -17.748325,
          4.095251,
          7.75798,
          9.728727,
          6.0864563,
          3.9107823,
          6.492677,
          -8.908325,
          -21.962889,
          -21.042545,
          -26.756054,
          -7.513949,
          -6.5463653,
          -10.756327,
          -8.743752,
          -10.28087,
          -20.910698,
          6.046404,
          8.751338,
          8.305827,
          10.054581,
          12.599155,
          11.573545,
          16.026468,
          14.75765,
          15.3803005,
          -14.949198,
          -13.467676,
          -10.597622,
          -8.398339,
          -25.675957,
          -18.305866,
          -15.702028,
          -10.468784,
          -11.275916,
          -12.465652,
          -15.754069,
          -16.389462,
          -18.648567,
          -25.791544,
          -17.325878,
          -22.795738,
          -13.355976,
          -21.682524,
          -22.05145,
          -22.932003,
          -13.996242,
          -24.551601,
          -15.972276,
          -20.005768,
          -24.884897,
          -26.077717,
          -8.856782,
          -11.81614,
          -23.474829,
          -26.987932,
          -19.724022,
          -20.409065,
          -22.785753,
          -3.2770123,
          -5.299897,
          -7.3340864,
          -18.562744,
          -20.1782,
          9.823638,
          5.3719764,
          5.536315,
          1.177799,
          2.3520005,
          5.1089606,
          9.264314,
          8.854374,
          -9.979659,
          -8.679357,
          -8.573157,
          -25.03206,
          -22.391699,
          -20.922321,
          -18.766922,
          23.789139,
          -16.892517,
          -17.529198,
          -19.23377,
          -9.86857,
          -9.527687,
          -11.066773,
          -15.49623,
          -16.4842,
          -14.120519,
          -10.35252,
          7.691858,
          -4.336182,
          5.6470475,
          -5.403071,
          -2.67582,
          -11.662525,
          -23.802435,
          -14.680501,
          -14.193036,
          -9.852052,
          -9.384472,
          -12.959493,
          -31.30118,
          -29.123978,
          -27.934248,
          -24.100782,
          -24.193054,
          -26.046886,
          -38.839787,
          -17.960339,
          -18.820562,
          -23.817709,
          -14.339271,
          -37.301556,
          -35.068665,
          -36.84822,
          -34.32813,
          -34.913166,
          -31.447672,
          -34.783943,
          -13.6949415,
          -17.711746,
          -22.722763,
          -18.931522,
          -35.8535,
          -35.208668,
          -30.958609,
          -28.857037,
          -32.44703,
          -29.528963,
          -31.922346,
          -22.820404,
          -17.384768,
          -12.869172,
          -19.889915,
          -20.887104,
          -17.303495,
          -17.281872,
          -15.167655,
          -11.844474,
          -9.189881,
          -28.546333,
          -25.1254,
          -20.506866,
          -23.98479,
          -24.032576,
          -23.71451,
          -25.584703,
          -20.905558,
          -19.408745,
          -19.65276,
          -24.73111,
          -22.393564,
          -13.764866,
          -16.594034,
          -17.70113,
          -14.628694,
          -32.299934,
          -5.53525,
          -5.6311965,
          -5.3175325,
          -5.454818,
          -17.08282,
          -20.087368,
          -20.998959,
          -20.572725,
          -19.78479,
          -16.518105,
          -19.30558,
          42.151894,
          39.03912,
          43.509026,
          36.66759,
          -8.511639,
          28.034967,
          -1.5775968,
          -1.0171916,
          -12.066462
         ],
         "z": [
          6.322528,
          3.9359386,
          18.718134,
          16.200874,
          12.505923,
          13.747703,
          -0.22369488,
          7.6617055,
          5.9763756,
          7.8623424,
          4.0753083,
          21.807247,
          16.204664,
          10.765501,
          -4.5191216,
          -5.399372,
          -9.582732,
          -11.192999,
          -16.501081,
          -17.188562,
          -12.726088,
          -16.697968,
          26.306282,
          9.781229,
          12.383518,
          12.617664,
          -0.78429854,
          -10.355824,
          -9.614741,
          -6.2804613,
          -8.18994,
          -4.9452553,
          -2.2929037,
          0.8469966,
          -1.7644535,
          -3.0608516,
          -6.828732,
          -7.6785917,
          -10.423402,
          -13.839403,
          27.916466,
          -3.1490493,
          -0.24737383,
          21.375376,
          -9.77607,
          -7.7375774,
          -7.620854,
          -8.558011,
          -12.009183,
          2.3532019,
          3.5534003,
          3.2103446,
          -0.8789785,
          -5.6263776,
          -9.074562,
          -8.6589775,
          -7.4908004,
          -6.8477955,
          -3.1084006,
          4.4406614,
          7.8483286,
          5.241732,
          1.8745395,
          9.572301,
          8.530398,
          19.922316,
          0.629203,
          1.1950731,
          4.572643,
          5.7705398,
          3.6002815,
          1.6793036,
          16.540525,
          19.061922,
          18.342962,
          1.6056197,
          -9.607859,
          -6.5668983,
          -3.052954,
          5.100755,
          1.7102985,
          5.055536,
          18.88009,
          16.48966,
          11.963955,
          -5.310322,
          -5.3775225,
          4.8306427,
          5.6191607,
          12.177141,
          9.96865,
          11.659679,
          11.102126,
          13.666232,
          14.978433,
          24.441141,
          25.60464,
          -5.438759,
          -5.3740745,
          -9.3927965,
          -9.970576,
          -12.314052,
          -14.826612,
          -14.191091,
          -17.890429,
          8.244094,
          -0.071433455,
          3.542522,
          8.585936,
          11.433541,
          7.2611103,
          3.9886646,
          -21.224525,
          11.778351,
          11.535016,
          9.650795,
          10.252053,
          14.298494,
          17.393274,
          18.086302,
          18.11802,
          21.464376,
          22.508667,
          6.753975,
          21.352821,
          5.3077564,
          25.33037,
          26.069561,
          16.518969,
          -4.7529454,
          -12.054491,
          -21.306007,
          -21.127604,
          -19.364323,
          -16.278496,
          -2.6354966,
          -3.9125998,
          -7.545249,
          -7.9024487,
          -12.859026,
          -14.892494,
          -2.0195472,
          0.721234,
          0.07982004,
          -0.13293223,
          26.193226,
          -6.9263043,
          -10.355251,
          -11.427127,
          -15.068836,
          -14.738587,
          -16.776176,
          1.350422,
          -1.0341411,
          -3.6011481,
          -1.7071024,
          27.300863,
          -1.8531139,
          -4.5329885,
          -5.323138,
          -8.591391,
          -10.000253,
          -12.648105,
          3.6943307,
          2.7301643,
          30.057436,
          16.539383,
          -6.929939,
          -10.333241,
          -14.290259,
          -16.823261,
          -20.127304,
          -16.411493,
          -13.622849,
          -7.31833,
          -7.775807,
          -8.951014,
          -13.710127,
          -16.62351,
          20.42598,
          -3.3870475,
          -5.561911,
          -10.428925,
          -15.343724,
          20.43459,
          23.093376,
          0.015289105,
          -3.8946617,
          -6.1425543,
          29.855436,
          12.722323,
          7.6317525,
          3.9577527,
          0.92614716,
          -0.80721885,
          -23.599953,
          -25.176735,
          -24.391106,
          -26.692448,
          -24.453842,
          -26.443483,
          -25.844496,
          8.06231,
          7.146705,
          11.535764,
          9.070127,
          -4.930132,
          -20.707691,
          16.312384,
          13.459587,
          30.053381
         ]
        },
        {
         "customdata": [
          [
           "Riesgos"
          ],
          [
           "Riesgos"
          ],
          [
           "Riesgos"
          ],
          [
           "Riesgos"
          ],
          [
           "Riesgos"
          ],
          [
           "Riesgos"
          ],
          [
           "Riesgos"
          ],
          [
           "Riesgos"
          ],
          [
           "Riesgos"
          ],
          [
           "Riesgos"
          ],
          [
           "Riesgos"
          ],
          [
           "Riesgos"
          ],
          [
           "Riesgos"
          ],
          [
           "Riesgos"
          ],
          [
           "Riesgos"
          ],
          [
           "Riesgos"
          ],
          [
           "Riesgos"
          ],
          [
           "Riesgos"
          ],
          [
           "Riesgos"
          ],
          [
           "Riesgos"
          ],
          [
           "Riesgos"
          ],
          [
           "Riesgos"
          ],
          [
           "Riesgos"
          ],
          [
           "Riesgos"
          ],
          [
           "Riesgos"
          ],
          [
           "Riesgos"
          ],
          [
           "Riesgos"
          ],
          [
           "Riesgos"
          ],
          [
           "Riesgos"
          ],
          [
           "Riesgos"
          ],
          [
           "Riesgos"
          ],
          [
           "Riesgos"
          ],
          [
           "Riesgos"
          ],
          [
           "Riesgos"
          ],
          [
           "Riesgos"
          ],
          [
           "Riesgos"
          ],
          [
           "Riesgos"
          ],
          [
           "Riesgos"
          ],
          [
           "Riesgos"
          ],
          [
           "Riesgos"
          ],
          [
           "Riesgos"
          ],
          [
           "Riesgos"
          ],
          [
           "Riesgos"
          ],
          [
           "Riesgos"
          ],
          [
           "Riesgos"
          ],
          [
           "Riesgos"
          ],
          [
           "Riesgos"
          ],
          [
           "Riesgos"
          ],
          [
           "Riesgos"
          ],
          [
           "Riesgos"
          ],
          [
           "Riesgos"
          ],
          [
           "Riesgos"
          ],
          [
           "Riesgos"
          ],
          [
           "Riesgos"
          ],
          [
           "Riesgos"
          ],
          [
           "Riesgos"
          ],
          [
           "Riesgos"
          ],
          [
           "Riesgos"
          ],
          [
           "Riesgos"
          ],
          [
           "Riesgos"
          ]
         ],
         "hovertemplate": "color=Riesgos<br>t-SNE Component 1=%{x}<br>t-SNE Component 2=%{y}<br>t-SNE Component 3=%{z}<br>label=%{customdata[0]}<extra></extra>",
         "legendgroup": "Riesgos",
         "marker": {
          "color": "#ab63fa",
          "symbol": "circle"
         },
         "mode": "markers",
         "name": "Riesgos",
         "scene": "scene",
         "showlegend": true,
         "type": "scatter3d",
         "x": [
          28.830866,
          -15.834556,
          -14.188779,
          -11.371167,
          -20.31976,
          -23.322224,
          18.779566,
          17.988302,
          14.9258585,
          -25.152246,
          -21.20631,
          -21.036652,
          -20.234804,
          -23.837145,
          -21.713932,
          -19.657255,
          -17.467016,
          -18.810251,
          40.141216,
          2.8472052,
          4.769924,
          -19.024302,
          -6.1534905,
          -13.880367,
          -9.435054,
          -11.847079,
          5.188971,
          2.0900266,
          2.505082,
          0.19687128,
          15.359405,
          3.6687357,
          3.4770324,
          17.822664,
          -24.875072,
          8.480996,
          8.317331,
          -20.183733,
          -17.42816,
          -11.820976,
          -14.796491,
          -22.440786,
          -26.587072,
          -24.72131,
          -23.34898,
          -25.340223,
          -24.317392,
          -22.081121,
          -27.243618,
          -19.895197,
          -3.5082498,
          -3.8268735,
          -7.7066584,
          -7.2817163,
          -8.013268,
          -12.82243,
          -12.367901,
          -12.0551815,
          -9.102589,
          -7.185273
         ],
         "y": [
          28.390331,
          12.989932,
          14.860557,
          19.872255,
          12.2841835,
          11.085254,
          22.758902,
          -5.7968063,
          -4.465659,
          3.3124046,
          4.267134,
          1.3298547,
          5.6647205,
          3.7722492,
          6.1151485,
          2.25013,
          5.1559663,
          2.1577158,
          -5.8835645,
          20.948141,
          20.582079,
          -16.142899,
          9.463335,
          16.00829,
          2.6469944,
          5.0212708,
          -2.6403425,
          -1.751066,
          -4.412548,
          -7.4217763,
          13.544455,
          1.5853767,
          10.530633,
          -26.956528,
          8.89113,
          9.8524475,
          13.266145,
          -12.419605,
          -8.753521,
          -11.344536,
          -7.2888694,
          -4.074726,
          -3.8436773,
          -0.28863955,
          -0.07125068,
          3.5011985,
          3.52482,
          6.507091,
          7.7230244,
          -1.7429047,
          16.928677,
          17.20246,
          16.02894,
          20.593502,
          20.332493,
          19.799913,
          16.573736,
          20.12451,
          18.113209,
          20.735048
         ],
         "z": [
          5.027994,
          15.3157,
          12.743208,
          12.859123,
          -1.2553738,
          -0.22121765,
          17.600489,
          -1.9918432,
          -3.095565,
          -18.46672,
          -17.21403,
          -20.883245,
          -22.152834,
          -24.393007,
          -27.38665,
          -29.111551,
          -31.649975,
          -33.895035,
          -0.62891763,
          7.8780656,
          11.449261,
          -3.9947193,
          -21.733524,
          -24.687214,
          -14.413813,
          -16.692356,
          -31.755283,
          -28.838383,
          -26.333208,
          -25.19797,
          -8.172533,
          -33.23014,
          13.044318,
          16.507196,
          7.774467,
          12.5195675,
          11.962181,
          -16.027016,
          -18.691334,
          15.79287,
          -20.793476,
          0.33513668,
          -0.6283556,
          0.98438525,
          -3.3278844,
          -4.7171884,
          -9.082088,
          -8.507249,
          -8.894753,
          -10.921759,
          9.83559,
          5.6229844,
          6.373494,
          6.688342,
          2.1791196,
          2.8443205,
          0.053806443,
          -2.2401545,
          -5.241276,
          -6.9313436
         ]
        },
        {
         "customdata": [
          [
           "Información"
          ],
          [
           "Información"
          ],
          [
           "Información"
          ],
          [
           "Información"
          ],
          [
           "Información"
          ],
          [
           "Información"
          ],
          [
           "Información"
          ],
          [
           "Información"
          ],
          [
           "Información"
          ],
          [
           "Información"
          ],
          [
           "Información"
          ],
          [
           "Información"
          ],
          [
           "Información"
          ],
          [
           "Información"
          ],
          [
           "Información"
          ],
          [
           "Información"
          ],
          [
           "Información"
          ],
          [
           "Información"
          ],
          [
           "Información"
          ],
          [
           "Información"
          ],
          [
           "Información"
          ]
         ],
         "hovertemplate": "color=Información<br>t-SNE Component 1=%{x}<br>t-SNE Component 2=%{y}<br>t-SNE Component 3=%{z}<br>label=%{customdata[0]}<extra></extra>",
         "legendgroup": "Información",
         "marker": {
          "color": "#FFA15A",
          "symbol": "circle"
         },
         "mode": "markers",
         "name": "Información",
         "scene": "scene",
         "showlegend": true,
         "type": "scatter3d",
         "x": [
          -19.769157,
          15.442315,
          0.76336676,
          -1.8165127,
          -5.850506,
          -4.627448,
          -5.5177436,
          0.2697118,
          19.723623,
          19.869442,
          -8.831123,
          -12.113803,
          -12.689552,
          37.01301,
          13.026819,
          11.873231,
          -18.315205,
          18.608944,
          18.660374,
          18.268066,
          -11.241808
         ],
         "y": [
          9.965317,
          24.126884,
          12.7787695,
          16.093988,
          17.460768,
          21.32166,
          20.963293,
          8.777606,
          -31.214735,
          -32.25739,
          -6.4346595,
          -8.46994,
          -8.230649,
          -24.98624,
          13.323115,
          16.048485,
          14.640263,
          -12.565796,
          -13.708202,
          -17.147001,
          -21.669813
         ],
         "z": [
          18.876694,
          19.25118,
          19.309183,
          19.607418,
          20.047058,
          19.163969,
          23.082703,
          21.662758,
          6.2598577,
          3.0339286,
          26.227968,
          25.473528,
          29.16855,
          -4.076906,
          18.692095,
          20.414467,
          22.339394,
          -23.850246,
          -27.433321,
          -25.707685,
          -13.928438
         ]
        },
        {
         "customdata": [
          [
           "Emergencia"
          ],
          [
           "Emergencia"
          ],
          [
           "Emergencia"
          ],
          [
           "Emergencia"
          ],
          [
           "Emergencia"
          ],
          [
           "Emergencia"
          ],
          [
           "Emergencia"
          ],
          [
           "Emergencia"
          ],
          [
           "Emergencia"
          ],
          [
           "Emergencia"
          ],
          [
           "Emergencia"
          ],
          [
           "Emergencia"
          ],
          [
           "Emergencia"
          ],
          [
           "Emergencia"
          ],
          [
           "Emergencia"
          ],
          [
           "Emergencia"
          ],
          [
           "Emergencia"
          ],
          [
           "Emergencia"
          ],
          [
           "Emergencia"
          ],
          [
           "Emergencia"
          ],
          [
           "Emergencia"
          ],
          [
           "Emergencia"
          ],
          [
           "Emergencia"
          ],
          [
           "Emergencia"
          ],
          [
           "Emergencia"
          ],
          [
           "Emergencia"
          ],
          [
           "Emergencia"
          ],
          [
           "Emergencia"
          ],
          [
           "Emergencia"
          ],
          [
           "Emergencia"
          ],
          [
           "Emergencia"
          ],
          [
           "Emergencia"
          ],
          [
           "Emergencia"
          ],
          [
           "Emergencia"
          ],
          [
           "Emergencia"
          ],
          [
           "Emergencia"
          ],
          [
           "Emergencia"
          ],
          [
           "Emergencia"
          ],
          [
           "Emergencia"
          ],
          [
           "Emergencia"
          ],
          [
           "Emergencia"
          ],
          [
           "Emergencia"
          ],
          [
           "Emergencia"
          ],
          [
           "Emergencia"
          ],
          [
           "Emergencia"
          ],
          [
           "Emergencia"
          ],
          [
           "Emergencia"
          ],
          [
           "Emergencia"
          ],
          [
           "Emergencia"
          ],
          [
           "Emergencia"
          ],
          [
           "Emergencia"
          ],
          [
           "Emergencia"
          ],
          [
           "Emergencia"
          ],
          [
           "Emergencia"
          ],
          [
           "Emergencia"
          ],
          [
           "Emergencia"
          ],
          [
           "Emergencia"
          ],
          [
           "Emergencia"
          ],
          [
           "Emergencia"
          ],
          [
           "Emergencia"
          ],
          [
           "Emergencia"
          ],
          [
           "Emergencia"
          ],
          [
           "Emergencia"
          ],
          [
           "Emergencia"
          ],
          [
           "Emergencia"
          ],
          [
           "Emergencia"
          ],
          [
           "Emergencia"
          ],
          [
           "Emergencia"
          ],
          [
           "Emergencia"
          ],
          [
           "Emergencia"
          ],
          [
           "Emergencia"
          ],
          [
           "Emergencia"
          ],
          [
           "Emergencia"
          ],
          [
           "Emergencia"
          ],
          [
           "Emergencia"
          ],
          [
           "Emergencia"
          ],
          [
           "Emergencia"
          ],
          [
           "Emergencia"
          ],
          [
           "Emergencia"
          ],
          [
           "Emergencia"
          ],
          [
           "Emergencia"
          ],
          [
           "Emergencia"
          ],
          [
           "Emergencia"
          ],
          [
           "Emergencia"
          ],
          [
           "Emergencia"
          ],
          [
           "Emergencia"
          ],
          [
           "Emergencia"
          ],
          [
           "Emergencia"
          ],
          [
           "Emergencia"
          ],
          [
           "Emergencia"
          ],
          [
           "Emergencia"
          ],
          [
           "Emergencia"
          ],
          [
           "Emergencia"
          ],
          [
           "Emergencia"
          ],
          [
           "Emergencia"
          ],
          [
           "Emergencia"
          ],
          [
           "Emergencia"
          ],
          [
           "Emergencia"
          ],
          [
           "Emergencia"
          ],
          [
           "Emergencia"
          ],
          [
           "Emergencia"
          ],
          [
           "Emergencia"
          ],
          [
           "Emergencia"
          ],
          [
           "Emergencia"
          ],
          [
           "Emergencia"
          ]
         ],
         "hovertemplate": "color=Emergencia<br>t-SNE Component 1=%{x}<br>t-SNE Component 2=%{y}<br>t-SNE Component 3=%{z}<br>label=%{customdata[0]}<extra></extra>",
         "legendgroup": "Emergencia",
         "marker": {
          "color": "#19d3f3",
          "symbol": "circle"
         },
         "mode": "markers",
         "name": "Emergencia",
         "scene": "scene",
         "showlegend": true,
         "type": "scatter3d",
         "x": [
          30.672367,
          -22.687447,
          -24.664078,
          -2.8030865,
          -27.168867,
          -23.597633,
          -26.954977,
          -24.28945,
          -28.43886,
          -27.156433,
          -27.611752,
          -23.441143,
          -23.906372,
          -25.585735,
          -29.572176,
          -30.0994,
          -31.563478,
          -31.552662,
          -29.369055,
          -26.552101,
          -23.684866,
          -22.000282,
          -20.833912,
          -21.387608,
          17.55264,
          -27.505842,
          -26.571178,
          -23.34391,
          -16.683296,
          -15.053674,
          -13.461187,
          27.530678,
          -7.046956,
          -10.37541,
          -11.596791,
          -10.544136,
          -15.037267,
          -14.227097,
          -15.038759,
          -14.689346,
          -29.261217,
          24.195234,
          24.053452,
          8.51854,
          10.228435,
          7.219927,
          7.148996,
          4.135261,
          1.2041132,
          -1.0305656,
          -0.6194733,
          -2.936726,
          -4.692659,
          -5.7927895,
          -0.5466872,
          20.674809,
          20.410666,
          23.94112,
          21.03651,
          19.066452,
          21.519777,
          10.501019,
          9.218276,
          13.394191,
          11.125722,
          11.73125,
          30.994497,
          11.294142,
          24.959726,
          -8.15525,
          -12.113286,
          -10.416131,
          -12.577224,
          -8.936712,
          -12.411807,
          3.1939623,
          4.4597445,
          6.1117344,
          -9.887008,
          3.411805,
          2.984144,
          -18.843851,
          -17.51478,
          -1.7795988,
          2.3384373,
          2.2494006,
          6.3182883,
          5.2556944,
          19.590794,
          9.801362,
          8.7464,
          11.5769615,
          13.308057,
          -2.1872559,
          0.12876062,
          -1.3791759,
          -7.184767,
          6.086088,
          3.1345756,
          19.461258,
          23.82867,
          22.847816,
          24.04004,
          1.2779217,
          21.6512
         ],
         "y": [
          25.230267,
          13.089217,
          15.072977,
          8.938148,
          22.918818,
          20.630426,
          17.941557,
          19.214233,
          21.24115,
          19.666283,
          24.434914,
          23.213324,
          25.37989,
          18.848991,
          17.213438,
          19.870071,
          21.992943,
          25.131628,
          27.064093,
          25.094744,
          25.690413,
          27.7293,
          23.477169,
          25.171267,
          26.195074,
          10.907121,
          12.390968,
          12.342285,
          34.241882,
          31.049786,
          34.462154,
          -10.650009,
          32.207657,
          33.52988,
          32.088066,
          36.566536,
          36.967407,
          39.331345,
          35.157223,
          37.426296,
          32.015526,
          -9.206913,
          -9.051611,
          31.622948,
          34.804,
          34.701286,
          38.617702,
          41.566753,
          42.995808,
          42.379513,
          38.712738,
          37.435333,
          33.257477,
          30.05264,
          -10.932438,
          -3.4343553,
          0.56416935,
          -1.0387582,
          -1.458274,
          2.680241,
          3.7787466,
          7.5179853,
          4.951021,
          3.9328759,
          1.6069021,
          -1.5328466,
          -14.864973,
          -11.810589,
          -12.522184,
          11.786457,
          13.296554,
          13.755016,
          17.453558,
          18.624212,
          21.318197,
          21.647402,
          23.827152,
          20.459045,
          17.702906,
          3.10701,
          2.9971554,
          15.644281,
          18.02365,
          15.492859,
          15.042233,
          10.855974,
          11.042745,
          7.332621,
          10.3337555,
          9.003509,
          12.25857,
          -0.18198094,
          -0.35564178,
          -5.485165,
          16.721292,
          14.091044,
          -15.762075,
          -7.3573427,
          -7.1399693,
          6.8294005,
          -18.260107,
          -15.961294,
          -19.507587,
          -3.0742054,
          -22.870914
         ],
         "z": [
          2.501027,
          14.40763,
          12.034126,
          3.4981346,
          -0.5749807,
          -1.079904,
          -2.7028563,
          -6.1710267,
          -6.5374374,
          -10.928216,
          -10.678598,
          -10.791829,
          -5.198879,
          5.0883746,
          5.3000345,
          9.104559,
          4.993379,
          8.606702,
          4.9267254,
          7.99149,
          4.5627556,
          8.376944,
          9.462353,
          13.225773,
          12.087248,
          -20.275707,
          -16.744179,
          -18.89278,
          -7.270728,
          -9.261747,
          -10.117279,
          -12.259675,
          9.59618,
          11.457428,
          7.4100523,
          7.015995,
          8.205621,
          4.0021977,
          3.0680864,
          -0.355638,
          7.1066017,
          -5.833792,
          -9.311415,
          3.0187538,
          1.6877449,
          -1.0949028,
          -3.0895574,
          -1.029285,
          -4.1279488,
          -0.31625706,
          -2.5644271,
          1.0063485,
          0.7169098,
          -0.7793603,
          -17.242167,
          -21.727785,
          -22.268543,
          -24.33272,
          -27.477163,
          -27.844833,
          -30.574957,
          -25.92017,
          -23.726006,
          -20.412056,
          -18.565706,
          -20.703655,
          -8.766565,
          -15.60854,
          -1.5601832,
          -16.404524,
          -16.203808,
          -20.199448,
          -18.712027,
          -21.12986,
          -21.762463,
          -7.861847,
          -4.873469,
          -4.2633085,
          -13.779516,
          4.8337007,
          1.5122533,
          -9.43937,
          -11.917512,
          -16.725456,
          -16.507423,
          -17.407982,
          -16.17842,
          -15.05445,
          8.150697,
          -9.991163,
          -10.608293,
          5.3865995,
          2.3975534,
          -16.991426,
          -3.398161,
          -1.893103,
          10.656834,
          -11.583055,
          -13.995876,
          8.068634,
          -12.285476,
          -14.935158,
          -17.168465,
          -8.093295,
          -14.924983
         ]
        },
        {
         "customdata": [
          [
           "Question: ¿Cómo se diferencia la ubicación física de la operativa?<br>Closest Model: Riesgos<br>Similarity: 0.78<br>Chunk: El usuario al acceder al cardboard “Riesgos por ubicación” visualiza el campo “Tipo de  ubicación” e..."
          ],
          [
           "Question: ¿Qué información se incluye en el informe de la evaluación de riesgos que ofrece la plataforma y cuál es su utilidad para la gestión de riesgos en la empresa?<br>Closest Model: Riesgos<br>Similarity: 0.89<br>Chunk: Sabentis es la nueva plataforma de gestión especializada en el ámbito de seguridad y salud en  el tr..."
          ],
          [
           "Question: ¿Hay indicadores relativos al cumplimiento de normas?<br>Closest Model: Auditorias<br>Similarity: 0.73<br>Chunk: Trabajo adaptada a las nuevas tecnologías y a los nuevos modelos de gestión de la  prevención.   La ..."
          ],
          [
           "Question: ¿Qué papel juega la estructura organizativa en la funcionalidad general de la plataforma y cómo interactúa con otros módulos?<br>Closest Model: Estructura Organizativa<br>Similarity: 0.87<br>Chunk: 3. HOME ESTRUCTURA ORGANIZATIVA  El usuario puede acceder al módulo Estructura Organizativa (EO), de..."
          ],
          [
           "Question: ¿Qué permite realizar la evaluación de riesgos?<br>Closest Model: Riesgos<br>Similarity: 0.85<br>Chunk: Permite elegir la metodología que se aplicará en las  evaluaciones de los riesgos identificados.  • ..."
          ],
          [
           "Question: ¿Qué tipo de documentos se pueden almacenar y compartir en el espacio denominado 'Documentos' y cuál es su importancia dentro del contexto de la gestión empresarial en la plataforma?<br>Closest Model: Información<br>Similarity: 0.88<br>Chunk: DATOS DEL DOCUMENTO  HISTÓRICO DE CAMBIOS  CONTENIDO  Sabentis es la nueva plataforma de gestión esp..."
          ],
          [
           "Question: ¿Se pueden llevar a cabo auditorías internas?<br>Closest Model: Emergencia<br>Similarity: 0.78<br>Chunk: para identificar y llevar a cabo actividades de mejoras tanto en los  procedimientos establecidos co..."
          ],
          [
           "Question: ¿Cuál es la tasa de adopción de esta plataforma en el mercado?<br>Closest Model: Estructura Organizativa<br>Similarity: 0.73<br>Chunk: CONTENIDO  Sabentis es la nueva plataforma de gestión especializada en el ámbito de Seguridad y Salu..."
          ],
          [
           "Question: ¿Cómo se compara esta plataforma con otras soluciones de gestión de SST?<br>Closest Model: Estructura Organizativa<br>Similarity: 0.82<br>Chunk: CONTENIDO  Sabentis es la nueva plataforma de gestión especializada en el ámbito de Seguridad y Salu..."
          ],
          [
           "Question: ¿Qué día hará mañana?<br>Closest Model: Estructura Organizativa<br>Similarity: 0.63<br>Chunk: Versión  Fecha  Comentarios  Autor  Versión 1.0  28/10/2021  Redacción  Mercedes León Chele  Versión..."
          ]
         ],
         "hovertemplate": "color=Question<br>t-SNE Component 1=%{x}<br>t-SNE Component 2=%{y}<br>t-SNE Component 3=%{z}<br>label=%{customdata[0]}<extra></extra>",
         "legendgroup": "Question",
         "marker": {
          "color": "#FF6692",
          "symbol": "circle"
         },
         "mode": "markers",
         "name": "Question",
         "scene": "scene",
         "showlegend": true,
         "type": "scatter3d",
         "x": [
          -20.57703,
          -11.661065,
          -14.708589,
          -23.400934,
          -15.400174,
          -11.605938,
          -33.94694,
          -25.847935,
          -16.246601,
          31.40321
         ],
         "y": [
          -15.521173,
          11.186078,
          6.7590404,
          -1.7533743,
          15.57004,
          -2.5584574,
          18.049038,
          6.9196587,
          5.609982,
          24.6795
         ],
         "z": [
          -20.000748,
          18.064869,
          5.623291,
          23.776026,
          6.2843933,
          22.198536,
          0.544079,
          20.9592,
          22.29927,
          9.2225275
         ]
        },
        {
         "mode": "markers+text",
         "showlegend": false,
         "text": "Q1",
         "textposition": "top center",
         "type": "scatter3d",
         "x": [
          -20.577030181884766
         ],
         "y": [
          -15.521172523498535
         ],
         "z": [
          -20.000747680664062
         ]
        },
        {
         "mode": "markers+text",
         "showlegend": false,
         "text": "Q2",
         "textposition": "top center",
         "type": "scatter3d",
         "x": [
          -11.661065101623535
         ],
         "y": [
          11.186078071594238
         ],
         "z": [
          18.064868927001953
         ]
        },
        {
         "mode": "markers+text",
         "showlegend": false,
         "text": "Q3",
         "textposition": "top center",
         "type": "scatter3d",
         "x": [
          -14.708588600158691
         ],
         "y": [
          6.759040355682373
         ],
         "z": [
          5.623291015625
         ]
        },
        {
         "mode": "markers+text",
         "showlegend": false,
         "text": "Q4",
         "textposition": "top center",
         "type": "scatter3d",
         "x": [
          -23.40093421936035
         ],
         "y": [
          -1.7533743381500244
         ],
         "z": [
          23.776025772094727
         ]
        },
        {
         "mode": "markers+text",
         "showlegend": false,
         "text": "Q5",
         "textposition": "top center",
         "type": "scatter3d",
         "x": [
          -15.400174140930176
         ],
         "y": [
          15.570039749145508
         ],
         "z": [
          6.284393310546875
         ]
        },
        {
         "mode": "markers+text",
         "showlegend": false,
         "text": "Q6",
         "textposition": "top center",
         "type": "scatter3d",
         "x": [
          -11.605937957763672
         ],
         "y": [
          -2.558457374572754
         ],
         "z": [
          22.198535919189453
         ]
        },
        {
         "mode": "markers+text",
         "showlegend": false,
         "text": "Q7",
         "textposition": "top center",
         "type": "scatter3d",
         "x": [
          -33.94694137573242
         ],
         "y": [
          18.04903793334961
         ],
         "z": [
          0.5440790057182312
         ]
        },
        {
         "mode": "markers+text",
         "showlegend": false,
         "text": "Q8",
         "textposition": "top center",
         "type": "scatter3d",
         "x": [
          -25.84793472290039
         ],
         "y": [
          6.919658660888672
         ],
         "z": [
          20.959199905395508
         ]
        },
        {
         "mode": "markers+text",
         "showlegend": false,
         "text": "Q9",
         "textposition": "top center",
         "type": "scatter3d",
         "x": [
          -16.246601104736328
         ],
         "y": [
          5.609982013702393
         ],
         "z": [
          22.299270629882812
         ]
        },
        {
         "mode": "markers+text",
         "showlegend": false,
         "text": "Q10",
         "textposition": "top center",
         "type": "scatter3d",
         "x": [
          31.403209686279297
         ],
         "y": [
          24.679500579833984
         ],
         "z": [
          9.222527503967285
         ]
        }
       ],
       "layout": {
        "legend": {
         "title": {
          "text": "color"
         },
         "tracegroupgap": 0
        },
        "scene": {
         "domain": {
          "x": [
           0,
           1
          ],
          "y": [
           0,
           1
          ]
         },
         "xaxis": {
          "title": {
           "text": "t-SNE Component 1"
          }
         },
         "yaxis": {
          "title": {
           "text": "t-SNE Component 2"
          }
         },
         "zaxis": {
          "title": {
           "text": "t-SNE Component 3"
          }
         }
        },
        "template": {
         "data": {
          "bar": [
           {
            "error_x": {
             "color": "#2a3f5f"
            },
            "error_y": {
             "color": "#2a3f5f"
            },
            "marker": {
             "line": {
              "color": "#E5ECF6",
              "width": 0.5
             },
             "pattern": {
              "fillmode": "overlay",
              "size": 10,
              "solidity": 0.2
             }
            },
            "type": "bar"
           }
          ],
          "barpolar": [
           {
            "marker": {
             "line": {
              "color": "#E5ECF6",
              "width": 0.5
             },
             "pattern": {
              "fillmode": "overlay",
              "size": 10,
              "solidity": 0.2
             }
            },
            "type": "barpolar"
           }
          ],
          "carpet": [
           {
            "aaxis": {
             "endlinecolor": "#2a3f5f",
             "gridcolor": "white",
             "linecolor": "white",
             "minorgridcolor": "white",
             "startlinecolor": "#2a3f5f"
            },
            "baxis": {
             "endlinecolor": "#2a3f5f",
             "gridcolor": "white",
             "linecolor": "white",
             "minorgridcolor": "white",
             "startlinecolor": "#2a3f5f"
            },
            "type": "carpet"
           }
          ],
          "choropleth": [
           {
            "colorbar": {
             "outlinewidth": 0,
             "ticks": ""
            },
            "type": "choropleth"
           }
          ],
          "contour": [
           {
            "colorbar": {
             "outlinewidth": 0,
             "ticks": ""
            },
            "colorscale": [
             [
              0,
              "#0d0887"
             ],
             [
              0.1111111111111111,
              "#46039f"
             ],
             [
              0.2222222222222222,
              "#7201a8"
             ],
             [
              0.3333333333333333,
              "#9c179e"
             ],
             [
              0.4444444444444444,
              "#bd3786"
             ],
             [
              0.5555555555555556,
              "#d8576b"
             ],
             [
              0.6666666666666666,
              "#ed7953"
             ],
             [
              0.7777777777777778,
              "#fb9f3a"
             ],
             [
              0.8888888888888888,
              "#fdca26"
             ],
             [
              1,
              "#f0f921"
             ]
            ],
            "type": "contour"
           }
          ],
          "contourcarpet": [
           {
            "colorbar": {
             "outlinewidth": 0,
             "ticks": ""
            },
            "type": "contourcarpet"
           }
          ],
          "heatmap": [
           {
            "colorbar": {
             "outlinewidth": 0,
             "ticks": ""
            },
            "colorscale": [
             [
              0,
              "#0d0887"
             ],
             [
              0.1111111111111111,
              "#46039f"
             ],
             [
              0.2222222222222222,
              "#7201a8"
             ],
             [
              0.3333333333333333,
              "#9c179e"
             ],
             [
              0.4444444444444444,
              "#bd3786"
             ],
             [
              0.5555555555555556,
              "#d8576b"
             ],
             [
              0.6666666666666666,
              "#ed7953"
             ],
             [
              0.7777777777777778,
              "#fb9f3a"
             ],
             [
              0.8888888888888888,
              "#fdca26"
             ],
             [
              1,
              "#f0f921"
             ]
            ],
            "type": "heatmap"
           }
          ],
          "heatmapgl": [
           {
            "colorbar": {
             "outlinewidth": 0,
             "ticks": ""
            },
            "colorscale": [
             [
              0,
              "#0d0887"
             ],
             [
              0.1111111111111111,
              "#46039f"
             ],
             [
              0.2222222222222222,
              "#7201a8"
             ],
             [
              0.3333333333333333,
              "#9c179e"
             ],
             [
              0.4444444444444444,
              "#bd3786"
             ],
             [
              0.5555555555555556,
              "#d8576b"
             ],
             [
              0.6666666666666666,
              "#ed7953"
             ],
             [
              0.7777777777777778,
              "#fb9f3a"
             ],
             [
              0.8888888888888888,
              "#fdca26"
             ],
             [
              1,
              "#f0f921"
             ]
            ],
            "type": "heatmapgl"
           }
          ],
          "histogram": [
           {
            "marker": {
             "pattern": {
              "fillmode": "overlay",
              "size": 10,
              "solidity": 0.2
             }
            },
            "type": "histogram"
           }
          ],
          "histogram2d": [
           {
            "colorbar": {
             "outlinewidth": 0,
             "ticks": ""
            },
            "colorscale": [
             [
              0,
              "#0d0887"
             ],
             [
              0.1111111111111111,
              "#46039f"
             ],
             [
              0.2222222222222222,
              "#7201a8"
             ],
             [
              0.3333333333333333,
              "#9c179e"
             ],
             [
              0.4444444444444444,
              "#bd3786"
             ],
             [
              0.5555555555555556,
              "#d8576b"
             ],
             [
              0.6666666666666666,
              "#ed7953"
             ],
             [
              0.7777777777777778,
              "#fb9f3a"
             ],
             [
              0.8888888888888888,
              "#fdca26"
             ],
             [
              1,
              "#f0f921"
             ]
            ],
            "type": "histogram2d"
           }
          ],
          "histogram2dcontour": [
           {
            "colorbar": {
             "outlinewidth": 0,
             "ticks": ""
            },
            "colorscale": [
             [
              0,
              "#0d0887"
             ],
             [
              0.1111111111111111,
              "#46039f"
             ],
             [
              0.2222222222222222,
              "#7201a8"
             ],
             [
              0.3333333333333333,
              "#9c179e"
             ],
             [
              0.4444444444444444,
              "#bd3786"
             ],
             [
              0.5555555555555556,
              "#d8576b"
             ],
             [
              0.6666666666666666,
              "#ed7953"
             ],
             [
              0.7777777777777778,
              "#fb9f3a"
             ],
             [
              0.8888888888888888,
              "#fdca26"
             ],
             [
              1,
              "#f0f921"
             ]
            ],
            "type": "histogram2dcontour"
           }
          ],
          "mesh3d": [
           {
            "colorbar": {
             "outlinewidth": 0,
             "ticks": ""
            },
            "type": "mesh3d"
           }
          ],
          "parcoords": [
           {
            "line": {
             "colorbar": {
              "outlinewidth": 0,
              "ticks": ""
             }
            },
            "type": "parcoords"
           }
          ],
          "pie": [
           {
            "automargin": true,
            "type": "pie"
           }
          ],
          "scatter": [
           {
            "fillpattern": {
             "fillmode": "overlay",
             "size": 10,
             "solidity": 0.2
            },
            "type": "scatter"
           }
          ],
          "scatter3d": [
           {
            "line": {
             "colorbar": {
              "outlinewidth": 0,
              "ticks": ""
             }
            },
            "marker": {
             "colorbar": {
              "outlinewidth": 0,
              "ticks": ""
             }
            },
            "type": "scatter3d"
           }
          ],
          "scattercarpet": [
           {
            "marker": {
             "colorbar": {
              "outlinewidth": 0,
              "ticks": ""
             }
            },
            "type": "scattercarpet"
           }
          ],
          "scattergeo": [
           {
            "marker": {
             "colorbar": {
              "outlinewidth": 0,
              "ticks": ""
             }
            },
            "type": "scattergeo"
           }
          ],
          "scattergl": [
           {
            "marker": {
             "colorbar": {
              "outlinewidth": 0,
              "ticks": ""
             }
            },
            "type": "scattergl"
           }
          ],
          "scattermapbox": [
           {
            "marker": {
             "colorbar": {
              "outlinewidth": 0,
              "ticks": ""
             }
            },
            "type": "scattermapbox"
           }
          ],
          "scatterpolar": [
           {
            "marker": {
             "colorbar": {
              "outlinewidth": 0,
              "ticks": ""
             }
            },
            "type": "scatterpolar"
           }
          ],
          "scatterpolargl": [
           {
            "marker": {
             "colorbar": {
              "outlinewidth": 0,
              "ticks": ""
             }
            },
            "type": "scatterpolargl"
           }
          ],
          "scatterternary": [
           {
            "marker": {
             "colorbar": {
              "outlinewidth": 0,
              "ticks": ""
             }
            },
            "type": "scatterternary"
           }
          ],
          "surface": [
           {
            "colorbar": {
             "outlinewidth": 0,
             "ticks": ""
            },
            "colorscale": [
             [
              0,
              "#0d0887"
             ],
             [
              0.1111111111111111,
              "#46039f"
             ],
             [
              0.2222222222222222,
              "#7201a8"
             ],
             [
              0.3333333333333333,
              "#9c179e"
             ],
             [
              0.4444444444444444,
              "#bd3786"
             ],
             [
              0.5555555555555556,
              "#d8576b"
             ],
             [
              0.6666666666666666,
              "#ed7953"
             ],
             [
              0.7777777777777778,
              "#fb9f3a"
             ],
             [
              0.8888888888888888,
              "#fdca26"
             ],
             [
              1,
              "#f0f921"
             ]
            ],
            "type": "surface"
           }
          ],
          "table": [
           {
            "cells": {
             "fill": {
              "color": "#EBF0F8"
             },
             "line": {
              "color": "white"
             }
            },
            "header": {
             "fill": {
              "color": "#C8D4E3"
             },
             "line": {
              "color": "white"
             }
            },
            "type": "table"
           }
          ]
         },
         "layout": {
          "annotationdefaults": {
           "arrowcolor": "#2a3f5f",
           "arrowhead": 0,
           "arrowwidth": 1
          },
          "autotypenumbers": "strict",
          "coloraxis": {
           "colorbar": {
            "outlinewidth": 0,
            "ticks": ""
           }
          },
          "colorscale": {
           "diverging": [
            [
             0,
             "#8e0152"
            ],
            [
             0.1,
             "#c51b7d"
            ],
            [
             0.2,
             "#de77ae"
            ],
            [
             0.3,
             "#f1b6da"
            ],
            [
             0.4,
             "#fde0ef"
            ],
            [
             0.5,
             "#f7f7f7"
            ],
            [
             0.6,
             "#e6f5d0"
            ],
            [
             0.7,
             "#b8e186"
            ],
            [
             0.8,
             "#7fbc41"
            ],
            [
             0.9,
             "#4d9221"
            ],
            [
             1,
             "#276419"
            ]
           ],
           "sequential": [
            [
             0,
             "#0d0887"
            ],
            [
             0.1111111111111111,
             "#46039f"
            ],
            [
             0.2222222222222222,
             "#7201a8"
            ],
            [
             0.3333333333333333,
             "#9c179e"
            ],
            [
             0.4444444444444444,
             "#bd3786"
            ],
            [
             0.5555555555555556,
             "#d8576b"
            ],
            [
             0.6666666666666666,
             "#ed7953"
            ],
            [
             0.7777777777777778,
             "#fb9f3a"
            ],
            [
             0.8888888888888888,
             "#fdca26"
            ],
            [
             1,
             "#f0f921"
            ]
           ],
           "sequentialminus": [
            [
             0,
             "#0d0887"
            ],
            [
             0.1111111111111111,
             "#46039f"
            ],
            [
             0.2222222222222222,
             "#7201a8"
            ],
            [
             0.3333333333333333,
             "#9c179e"
            ],
            [
             0.4444444444444444,
             "#bd3786"
            ],
            [
             0.5555555555555556,
             "#d8576b"
            ],
            [
             0.6666666666666666,
             "#ed7953"
            ],
            [
             0.7777777777777778,
             "#fb9f3a"
            ],
            [
             0.8888888888888888,
             "#fdca26"
            ],
            [
             1,
             "#f0f921"
            ]
           ]
          },
          "colorway": [
           "#636efa",
           "#EF553B",
           "#00cc96",
           "#ab63fa",
           "#FFA15A",
           "#19d3f3",
           "#FF6692",
           "#B6E880",
           "#FF97FF",
           "#FECB52"
          ],
          "font": {
           "color": "#2a3f5f"
          },
          "geo": {
           "bgcolor": "white",
           "lakecolor": "white",
           "landcolor": "#E5ECF6",
           "showlakes": true,
           "showland": true,
           "subunitcolor": "white"
          },
          "hoverlabel": {
           "align": "left"
          },
          "hovermode": "closest",
          "mapbox": {
           "style": "light"
          },
          "paper_bgcolor": "white",
          "plot_bgcolor": "#E5ECF6",
          "polar": {
           "angularaxis": {
            "gridcolor": "white",
            "linecolor": "white",
            "ticks": ""
           },
           "bgcolor": "#E5ECF6",
           "radialaxis": {
            "gridcolor": "white",
            "linecolor": "white",
            "ticks": ""
           }
          },
          "scene": {
           "xaxis": {
            "backgroundcolor": "#E5ECF6",
            "gridcolor": "white",
            "gridwidth": 2,
            "linecolor": "white",
            "showbackground": true,
            "ticks": "",
            "zerolinecolor": "white"
           },
           "yaxis": {
            "backgroundcolor": "#E5ECF6",
            "gridcolor": "white",
            "gridwidth": 2,
            "linecolor": "white",
            "showbackground": true,
            "ticks": "",
            "zerolinecolor": "white"
           },
           "zaxis": {
            "backgroundcolor": "#E5ECF6",
            "gridcolor": "white",
            "gridwidth": 2,
            "linecolor": "white",
            "showbackground": true,
            "ticks": "",
            "zerolinecolor": "white"
           }
          },
          "shapedefaults": {
           "line": {
            "color": "#2a3f5f"
           }
          },
          "ternary": {
           "aaxis": {
            "gridcolor": "white",
            "linecolor": "white",
            "ticks": ""
           },
           "baxis": {
            "gridcolor": "white",
            "linecolor": "white",
            "ticks": ""
           },
           "bgcolor": "#E5ECF6",
           "caxis": {
            "gridcolor": "white",
            "linecolor": "white",
            "ticks": ""
           }
          },
          "title": {
           "x": 0.05
          },
          "xaxis": {
           "automargin": true,
           "gridcolor": "white",
           "linecolor": "white",
           "ticks": "",
           "title": {
            "standoff": 15
           },
           "zerolinecolor": "white",
           "zerolinewidth": 2
          },
          "yaxis": {
           "automargin": true,
           "gridcolor": "white",
           "linecolor": "white",
           "ticks": "",
           "title": {
            "standoff": 15
           },
           "zerolinecolor": "white",
           "zerolinewidth": 2
          }
         }
        },
        "title": {
         "text": "Embeddings Visualization with 3D t-SNE"
        }
       }
      }
     },
     "metadata": {},
     "output_type": "display_data"
    }
   ],
   "source": [
    "# Collecting sentence embeddings for each model\n",
    "model_embeddings = []\n",
    "model_labels = []\n",
    "models_list = []\n",
    "\n",
    "for key, model in models.items():\n",
    "    for paragraph in model.original_paragraphs:\n",
    "        embedding = model._get_sentence_embedding_pretrained(paragraph)\n",
    "        model_embeddings.append(embedding)\n",
    "        model_labels.append(key)\n",
    "    models_list.append(key)\n",
    "\n",
    "# Collecting embeddings for questions and finding the closest model for each question\n",
    "question_embeddings = []\n",
    "question_closest_models = []\n",
    "question_similarities = []\n",
    "question_closest_paragraphs = []\n",
    "\n",
    "for question in questions:\n",
    "    query_embedding = model._get_sentence_embedding_pretrained(question)\n",
    "    question_embeddings.append(query_embedding)\n",
    "    \n",
    "    # Find the closest model\n",
    "    closest_model = None\n",
    "    highest_similarity = -1\n",
    "    closest_paragraph = \"\"\n",
    "    for model_name, model in models.items():\n",
    "        similarities = [\n",
    "            (model._cosine_similarity(query_embedding, model._get_sentence_embedding_pretrained(paragraph)), paragraph)\n",
    "            for paragraph in model.original_paragraphs\n",
    "        ]\n",
    "        max_similarity, best_paragraph = max(similarities, key=lambda x: x[0])\n",
    "        if max_similarity > highest_similarity:\n",
    "            highest_similarity = max_similarity\n",
    "            closest_model = model_name\n",
    "            closest_paragraph = best_paragraph\n",
    "    \n",
    "    question_closest_models.append(closest_model)\n",
    "    question_similarities.append(highest_similarity)\n",
    "    question_closest_paragraphs.append(closest_paragraph)\n",
    "\n",
    "# Printing questions and their related data based on similarity\n",
    "for question, closest_model, similarity in zip(questions, question_closest_models, question_similarities):\n",
    "    if similarity > 0.75:\n",
    "        print(f\"Question: {question}\")\n",
    "        print(f\"Closest Model: {closest_model}\")\n",
    "        print(f\"Similarity: {similarity:.2f}\")\n",
    "        print()\n",
    "    else:\n",
    "        print(f\"'{question}' does not have enough similarity\")\n",
    "\n",
    "# Combining model embeddings and question embeddings\n",
    "all_embeddings = np.array(model_embeddings + question_embeddings)\n",
    "labels = model_labels + [\"Question\"] * len(questions)\n",
    "hover_texts = model_labels + [\n",
    "    f\"Question: {question}<br>Closest Model: {closest_model}<br>Similarity: {similarity:.2f}<br>Chunk: {closest_paragraph[:100]}...\"\n",
    "    for question, closest_model, similarity, closest_paragraph in zip(questions, question_closest_models, question_similarities, question_closest_paragraphs)\n",
    "]\n",
    "\n",
    "# Reducing dimensionality using PCA for 2D and 3D plots\n",
    "pca_2d = PCA(n_components=2)\n",
    "pca_2d_result = pca_2d.fit_transform(all_embeddings)\n",
    "\n",
    "pca_3d = PCA(n_components=3)\n",
    "pca_3d_result = pca_3d.fit_transform(all_embeddings)\n",
    "\n",
    "# Reducing dimensionality using t-SNE for 2D and 3D plots\n",
    "tsne_2d = TSNE(n_components=2, random_state=42)\n",
    "tsne_2d_result = tsne_2d.fit_transform(all_embeddings)\n",
    "\n",
    "tsne_3d = TSNE(n_components=3, random_state=42)\n",
    "tsne_3d_result = tsne_3d.fit_transform(all_embeddings)\n",
    "\n",
    "# Plotting with 2D PCA\n",
    "fig_pca = px.scatter(\n",
    "    x=pca_2d_result[:, 0], \n",
    "    y=pca_2d_result[:, 1], \n",
    "    color=labels, \n",
    "    hover_data={'label': hover_texts},\n",
    "    labels={'x': 'PCA Component 1', 'y': 'PCA Component 2'},\n",
    "    title=\"Embeddings Visualization with 2D PCA\"\n",
    ")\n",
    "\n",
    "# Adding annotations for questions in 2D PCA plot\n",
    "for i, question in enumerate(questions):\n",
    "    fig_pca.add_annotation(\n",
    "        x=pca_2d_result[len(model_embeddings) + i, 0], \n",
    "        y=pca_2d_result[len(model_embeddings) + i, 1], \n",
    "        text=f\"Q{i+1}\", \n",
    "        showarrow=True,\n",
    "        arrowhead=2\n",
    "    )\n",
    "\n",
    "# Plotting with 2D t-SNE\n",
    "fig_tsne = px.scatter(\n",
    "    x=tsne_2d_result[:, 0], \n",
    "    y=tsne_2d_result[:, 1], \n",
    "    color=labels, \n",
    "    hover_data={'label': hover_texts},\n",
    "    labels={'x': 't-SNE Component 1', 'y': 't-SNE Component 2'},\n",
    "    title=\"Embeddings Visualization with 2D t-SNE\"\n",
    ")\n",
    "\n",
    "# Adding annotations for questions in 2D t-SNE plot\n",
    "for i, question in enumerate(questions):\n",
    "    fig_tsne.add_annotation(\n",
    "        x=tsne_2d_result[len(model_embeddings) + i, 0], \n",
    "        y=tsne_2d_result[len(model_embeddings) + i, 1], \n",
    "        text=f\"Q{i+1}\", \n",
    "        showarrow=True,\n",
    "        arrowhead=2\n",
    "    )\n",
    "\n",
    "# Plotting with 3D PCA\n",
    "fig_pca_3d = px.scatter_3d(\n",
    "    x=pca_3d_result[:, 0], \n",
    "    y=pca_3d_result[:, 1], \n",
    "    z=pca_3d_result[:, 2], \n",
    "    color=labels, \n",
    "    hover_data={'label': hover_texts},\n",
    "    labels={'x': 'PCA Component 1', 'y': 'PCA Component 2', 'z': 'PCA Component 3'},\n",
    "    title=\"Embeddings Visualization with 3D PCA\"\n",
    ")\n",
    "\n",
    "# Adding annotations for questions in 3D PCA plot\n",
    "for i, question in enumerate(questions):\n",
    "    fig_pca_3d.add_trace(go.Scatter3d(\n",
    "        x=[pca_3d_result[len(model_embeddings) + i, 0]],\n",
    "        y=[pca_3d_result[len(model_embeddings) + i, 1]],\n",
    "        z=[pca_3d_result[len(model_embeddings) + i, 2]],\n",
    "        text=f\"Q{i+1}\",\n",
    "        mode='markers+text',\n",
    "        textposition='top center',\n",
    "        showlegend=False\n",
    "    ))\n",
    "\n",
    "# Plotting with 3D t-SNE\n",
    "fig_tsne_3d = px.scatter_3d(\n",
    "    x=tsne_3d_result[:, 0], \n",
    "    y=tsne_3d_result[:, 1], \n",
    "    z=tsne_3d_result[:, 2], \n",
    "    color=labels, \n",
    "    hover_data={'label': hover_texts},\n",
    "    labels={'x': 't-SNE Component 1', 'y': 't-SNE Component 2', 'z': 't-SNE Component 3'},\n",
    "    title=\"Embeddings Visualization with 3D t-SNE\"\n",
    ")\n",
    "\n",
    "# Adding annotations for questions in 3D t-SNE plot\n",
    "for i, question in enumerate(questions):\n",
    "    fig_tsne_3d.add_trace(go.Scatter3d(\n",
    "        x=[tsne_3d_result[len(model_embeddings) + i, 0]],\n",
    "        y=[tsne_3d_result[len(model_embeddings) + i, 1]],\n",
    "        z=[tsne_3d_result[len(model_embeddings) + i, 2]],\n",
    "        text=f\"Q{i+1}\",\n",
    "        mode='markers+text',\n",
    "        textposition='top center',\n",
    "        showlegend=False\n",
    "    ))\n",
    "\n",
    "# Show plots\n",
    "fig_pca.show()\n",
    "fig_tsne.show()\n",
    "fig_pca_3d.show()\n",
    "fig_tsne_3d.show()\n"
   ]
  },
  {
   "cell_type": "markdown",
   "metadata": {},
   "source": [
    "# Conclusiones de la visualización:\n",
    "\n",
    "Ocurre el mismo problema que con el modelo anterior, los valores parecen estar en todos lados, no hay clusters bien definidos y eso se refleja en las respuestas obtenidas, que en su mayoria no tienen mucha relacion con la pregunta."
   ]
  },
  {
   "cell_type": "code",
   "execution_count": null,
   "metadata": {},
   "outputs": [],
   "source": []
  }
 ],
 "metadata": {
  "kernelspec": {
   "display_name": "tfm",
   "language": "python",
   "name": "python3"
  },
  "language_info": {
   "codemirror_mode": {
    "name": "ipython",
    "version": 3
   },
   "file_extension": ".py",
   "mimetype": "text/x-python",
   "name": "python",
   "nbconvert_exporter": "python",
   "pygments_lexer": "ipython3",
   "version": "3.9.18"
  }
 },
 "nbformat": 4,
 "nbformat_minor": 2
}

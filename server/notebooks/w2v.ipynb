{
 "cells": [
  {
   "cell_type": "code",
   "execution_count": 6,
   "metadata": {},
   "outputs": [],
   "source": [
    "import numpy as np\n",
    "from gensim.models import Word2Vec\n",
    "import re\n",
    "from nltk.corpus import stopwords\n",
    "from nltk.tokenize import word_tokenize\n",
    "import unidecode\n",
    "import numpy as np\n",
    "from scipy import spatial\n",
    "import numpy as np\n",
    "import plotly.express as px\n",
    "from sklearn.decomposition import PCA\n",
    "from sklearn.manifold import TSNE\n",
    "import os\n",
    "from gensim.models import KeyedVectors\n",
    "import numpy as np\n",
    "import plotly.graph_objects as go\n",
    "\n",
    "# !MARK: - Constants\n",
    "\n",
    "file_paths = {\n",
    "    \"Auditorias\": \"../chunks/auditorias.txt\",\n",
    "    \"Ausentismo\": \"../chunks/ausentismo.txt\",\n",
    "    \"Estructura Organizativa\": \"../chunks/estructura organizativa.txt\",\n",
    "    \"Riesgos\": \"../chunks/riesgos.txt\",\n",
    "    \"Información\": \"../chunks/información.txt\",\n",
    "    \"Emergencia\": \"../chunks/emergencia.txt\"\n",
    "}\n",
    "\n",
    "questions = [\n",
    "    \"¿Cómo se diferencia la ubicación física de la operativa?\",  # Manual Estructura Organizativa pág. 60 y 73.\n",
    "    \"¿Qué información se incluye en el informe de la evaluación de riesgos que ofrece la plataforma y cuál es su utilidad para la gestión de riesgos en la empresa?\",  # Manual Identificación y Evaluación de Riesgos (IER); pág. 24 - 26.\n",
    "    \"¿Hay indicadores relativos al cumplimiento de normas?\",  # Manual Auditorías pág. 16 17 30 y 31.\n",
    "    \"¿Qué papel juega la estructura organizativa en la funcionalidad general de la plataforma y cómo interactúa con otros módulos?\",  # Manual Estructura Organizativa\n",
    "    \"¿Qué permite realizar la evaluación de riesgos?\",  # Manual Identificación y Evaluación de Riesgos (IER)\n",
    "    \"¿Qué tipo de documentos se pueden almacenar y compartir en el espacio denominado 'Documentos' y cuál es su importancia dentro del contexto de la gestión empresarial en la plataforma?\",  # Manual del Repositorio documental\n",
    "    \"¿Se pueden llevar a cabo auditorías internas?\",  # Manual Auditorías\n",
    "    \"¿Cuál es la tasa de adopción de esta plataforma en el mercado?\",\n",
    "    \"¿Cómo se compara esta plataforma con otras soluciones de gestión de SST?\",\n",
    "    \"¿Qué día hará mañana?\"\n",
    "]\n",
    "\n",
    "# !MARK: - Classes\n",
    "\n",
    "class TextUtils:\n",
    "    @staticmethod\n",
    "    def clean_and_tokenize(text, language):\n",
    "        text = unidecode.unidecode(text.lower())\n",
    "        stop_words = set(stopwords.words(language))\n",
    "        text = re.sub(r'[^a-zA-Z\\s]', '', text, re.I | re.A)\n",
    "        tokens = word_tokenize(text, language=language)\n",
    "        return [token for token in tokens if token not in stop_words]\n",
    "\n",
    "class Model:\n",
    "    def __init__(self, original_paragraphs, preprocessed_paragraphs, language='spanish'):\n",
    "        self.original_paragraphs = original_paragraphs\n",
    "        self.preprocessed_paragraphs = preprocessed_paragraphs\n",
    "        self.language = language\n",
    "\n",
    "    def predict(self, query, similarity_threshold):\n",
    "        raise NotImplementedError(\"Subclasses should implement this method\")\n",
    "    \n",
    "    @staticmethod\n",
    "    def _cosine_similarity(vec1, vec2):\n",
    "        if np.all(vec1 == 0) or np.all(vec2 == 0):\n",
    "            return -1\n",
    "        return 1 - spatial.distance.cosine(vec1, vec2)\n",
    "\n",
    "class Word2VecModel(Model):\n",
    "    def __init__(self, original_paragraphs, language='spanish'):\n",
    "        super().__init__(original_paragraphs, [], language)\n",
    "        self.embeddings_path = 'w2v_embeddings.npy'  # Path to save embeddings\n",
    "        self.model = self._train_model()\n",
    "\n",
    "    def _train_model(self):\n",
    "        sentences = [TextUtils.clean_and_tokenize(paragraph, self.language) for paragraph in self.original_paragraphs]\n",
    "        model = Word2Vec(sentences, vector_size=100, window=5, min_count=1, workers=4)\n",
    "        model.save(\"word2vec.model\")  # Save the entire model\n",
    "        return model\n",
    "\n",
    "    def _get_sentence_embedding(self, sentence):\n",
    "        words = TextUtils.clean_and_tokenize(sentence, self.language)\n",
    "        word_vectors = [self.model.wv[word] for word in words if word in self.model.wv]\n",
    "        if len(word_vectors) == 0:\n",
    "            return np.zeros(self.model.vector_size)\n",
    "        sentence_embedding = np.mean(word_vectors, axis=0)\n",
    "        np.save(self.embeddings_path, sentence_embedding)  # Save the sentence embedding\n",
    "        return sentence_embedding\n",
    "\n",
    "    def predict(self, query, similarity_threshold):\n",
    "        query_embedding = self._get_sentence_embedding(query)\n",
    "        similarities = [(self._cosine_similarity(query_embedding, self._get_sentence_embedding(' '.join(TextUtils.clean_and_tokenize(para, self.language)))), para) for para in self.original_paragraphs]\n",
    "        filtered_and_sorted = sorted([sim for sim in similarities if sim[0] > similarity_threshold], key=lambda x: x[0], reverse=True)\n",
    "        return filtered_and_sorted, query_embedding\n",
    "\n",
    "# !MARK: - File Contents\n",
    "\n",
    "file_contents = {}\n",
    "\n",
    "for key, path in file_paths.items():\n",
    "    with open(path, 'r') as file:\n",
    "        file_contents[key] = file.read().split('\\n\\n')\n",
    "\n",
    "\n",
    "# !MARK: - Model Initialization\n",
    "\n",
    "models = {}\n",
    "\n",
    "for key, path in file_paths.items():\n",
    "    with open(path, 'r') as file:\n",
    "        file_contents[key] = file.read().split('\\n\\n')\n",
    "    models[key] = Word2VecModel(file_contents[key])\n"
   ]
  },
  {
   "cell_type": "code",
   "execution_count": 7,
   "metadata": {},
   "outputs": [
    {
     "name": "stdout",
     "output_type": "stream",
     "text": [
      "'¿Cómo se diferencia la ubicación física de la operativa?' does not have enough similarity\n",
      "'¿Qué información se incluye en el informe de la evaluación de riesgos que ofrece la plataforma y cuál es su utilidad para la gestión de riesgos en la empresa?' does not have enough similarity\n",
      "'¿Hay indicadores relativos al cumplimiento de normas?' does not have enough similarity\n",
      "'¿Qué papel juega la estructura organizativa en la funcionalidad general de la plataforma y cómo interactúa con otros módulos?' does not have enough similarity\n",
      "'¿Qué permite realizar la evaluación de riesgos?' does not have enough similarity\n",
      "'¿Qué tipo de documentos se pueden almacenar y compartir en el espacio denominado 'Documentos' y cuál es su importancia dentro del contexto de la gestión empresarial en la plataforma?' does not have enough similarity\n",
      "'¿Se pueden llevar a cabo auditorías internas?' does not have enough similarity\n",
      "'¿Cuál es la tasa de adopción de esta plataforma en el mercado?' does not have enough similarity\n",
      "'¿Cómo se compara esta plataforma con otras soluciones de gestión de SST?' does not have enough similarity\n",
      "'¿Qué día hará mañana?' does not have enough similarity\n"
     ]
    },
    {
     "data": {
      "application/vnd.plotly.v1+json": {
       "config": {
        "plotlyServerURL": "https://plot.ly"
       },
       "data": [
        {
         "customdata": [
          [
           "Auditorias"
          ],
          [
           "Auditorias"
          ],
          [
           "Auditorias"
          ],
          [
           "Auditorias"
          ],
          [
           "Auditorias"
          ],
          [
           "Auditorias"
          ],
          [
           "Auditorias"
          ],
          [
           "Auditorias"
          ],
          [
           "Auditorias"
          ],
          [
           "Auditorias"
          ],
          [
           "Auditorias"
          ],
          [
           "Auditorias"
          ],
          [
           "Auditorias"
          ],
          [
           "Auditorias"
          ],
          [
           "Auditorias"
          ],
          [
           "Auditorias"
          ],
          [
           "Auditorias"
          ],
          [
           "Auditorias"
          ],
          [
           "Auditorias"
          ],
          [
           "Auditorias"
          ],
          [
           "Auditorias"
          ],
          [
           "Auditorias"
          ],
          [
           "Auditorias"
          ],
          [
           "Auditorias"
          ],
          [
           "Auditorias"
          ],
          [
           "Auditorias"
          ],
          [
           "Auditorias"
          ],
          [
           "Auditorias"
          ],
          [
           "Auditorias"
          ],
          [
           "Auditorias"
          ],
          [
           "Auditorias"
          ],
          [
           "Auditorias"
          ],
          [
           "Auditorias"
          ],
          [
           "Auditorias"
          ],
          [
           "Auditorias"
          ],
          [
           "Auditorias"
          ],
          [
           "Auditorias"
          ],
          [
           "Auditorias"
          ],
          [
           "Auditorias"
          ],
          [
           "Auditorias"
          ],
          [
           "Auditorias"
          ],
          [
           "Auditorias"
          ],
          [
           "Auditorias"
          ],
          [
           "Auditorias"
          ],
          [
           "Auditorias"
          ],
          [
           "Auditorias"
          ],
          [
           "Auditorias"
          ],
          [
           "Auditorias"
          ]
         ],
         "hovertemplate": "color=Auditorias<br>PCA Component 1=%{x}<br>PCA Component 2=%{y}<br>label=%{customdata[0]}<extra></extra>",
         "legendgroup": "Auditorias",
         "marker": {
          "color": "#636efa",
          "symbol": "circle"
         },
         "mode": "markers",
         "name": "Auditorias",
         "orientation": "v",
         "showlegend": true,
         "type": "scatter",
         "x": [
          -0.0547716,
          -0.04964816,
          -0.051949266,
          -0.04881914,
          -0.049655173,
          -0.052636534,
          -0.049499284,
          -0.047092296,
          -0.046255864,
          -0.044263247,
          -0.03863561,
          -0.045781326,
          -0.047976255,
          -0.045675587,
          -0.047037367,
          -0.0450655,
          -0.044987466,
          -0.04611802,
          -0.048125908,
          -0.04704077,
          -0.045642752,
          -0.0458734,
          -0.045887087,
          -0.04671939,
          -0.043982852,
          -0.05173963,
          -0.047826417,
          -0.04414365,
          -0.045874,
          -0.046750177,
          -0.046512034,
          -0.04426325,
          -0.045955118,
          -0.04825353,
          -0.045705866,
          -0.047037367,
          -0.044630934,
          -0.044879053,
          -0.046589382,
          -0.047665913,
          -0.0472822,
          -0.04627089,
          -0.045975026,
          -0.045579918,
          -0.04661731,
          -0.04848508,
          -0.05103596,
          -0.04597903
         ],
         "xaxis": "x",
         "y": [
          -0.0026212528,
          -0.00055914215,
          0.0011252143,
          -0.00052340934,
          -0.000057481502,
          0.0008058052,
          -0.0009302783,
          -0.000095026044,
          0.001920101,
          0.00021613389,
          0.00039626466,
          -0.0010962024,
          -0.0012382491,
          0.0006321442,
          -0.0014061467,
          -0.0031305896,
          -0.00035991424,
          0.000119592296,
          0.0002717043,
          -0.0013331161,
          -0.0054040193,
          -0.00060554506,
          0.0016203675,
          0.0020671955,
          -0.0011810382,
          -0.0019237543,
          -0.0013195341,
          -0.0017234965,
          -0.0023526615,
          -0.00051640725,
          0.0012855841,
          0.00021613805,
          -0.00084161013,
          -0.0012502327,
          0.0006511283,
          -0.001406147,
          -0.003185724,
          -0.00031843554,
          -0.000002844942,
          0.00010831337,
          -0.0023437908,
          -0.0040351683,
          -0.00055899663,
          0.0011707734,
          0.0010228781,
          -0.0009858364,
          0.0013663798,
          -0.003700745
         ],
         "yaxis": "y"
        },
        {
         "customdata": [
          [
           "Ausentismo"
          ],
          [
           "Ausentismo"
          ],
          [
           "Ausentismo"
          ],
          [
           "Ausentismo"
          ],
          [
           "Ausentismo"
          ],
          [
           "Ausentismo"
          ],
          [
           "Ausentismo"
          ],
          [
           "Ausentismo"
          ],
          [
           "Ausentismo"
          ],
          [
           "Ausentismo"
          ],
          [
           "Ausentismo"
          ],
          [
           "Ausentismo"
          ],
          [
           "Ausentismo"
          ],
          [
           "Ausentismo"
          ],
          [
           "Ausentismo"
          ],
          [
           "Ausentismo"
          ],
          [
           "Ausentismo"
          ],
          [
           "Ausentismo"
          ],
          [
           "Ausentismo"
          ],
          [
           "Ausentismo"
          ],
          [
           "Ausentismo"
          ],
          [
           "Ausentismo"
          ],
          [
           "Ausentismo"
          ],
          [
           "Ausentismo"
          ],
          [
           "Ausentismo"
          ],
          [
           "Ausentismo"
          ],
          [
           "Ausentismo"
          ],
          [
           "Ausentismo"
          ],
          [
           "Ausentismo"
          ],
          [
           "Ausentismo"
          ],
          [
           "Ausentismo"
          ],
          [
           "Ausentismo"
          ],
          [
           "Ausentismo"
          ]
         ],
         "hovertemplate": "color=Ausentismo<br>PCA Component 1=%{x}<br>PCA Component 2=%{y}<br>label=%{customdata[0]}<extra></extra>",
         "legendgroup": "Ausentismo",
         "marker": {
          "color": "#EF553B",
          "symbol": "circle"
         },
         "mode": "markers",
         "name": "Ausentismo",
         "orientation": "v",
         "showlegend": true,
         "type": "scatter",
         "x": [
          -0.0508582,
          -0.048494082,
          -0.050307795,
          -0.048333403,
          -0.04701845,
          -0.044036657,
          -0.041433178,
          -0.044295084,
          -0.046502393,
          -0.041773386,
          -0.046141896,
          -0.045811232,
          -0.04632762,
          -0.044875428,
          -0.047954887,
          -0.045777444,
          -0.041791007,
          -0.048246305,
          -0.04532988,
          -0.04569606,
          -0.04677886,
          -0.042621646,
          -0.04797041,
          -0.04520341,
          -0.047394194,
          -0.046140734,
          -0.04407295,
          -0.04997488,
          -0.045095436,
          -0.045325033,
          -0.048274435,
          -0.046456184,
          -0.044379096
         ],
         "xaxis": "x",
         "y": [
          0.00073440553,
          0.0005962001,
          0.00030714227,
          -0.0006833086,
          0.0016142455,
          -0.0003952021,
          -0.0046281717,
          0.0031250473,
          -0.0005652937,
          -0.003039759,
          0.0012168993,
          -0.00097138924,
          -0.0019802286,
          -0.0011439286,
          0.0005606774,
          -0.0007414657,
          -0.00437231,
          0.0009553314,
          -0.0022311176,
          -0.0016644101,
          -0.0025206327,
          -0.00033495223,
          -0.00046376625,
          -0.0011447236,
          -0.0017327912,
          0.000972449,
          -0.0014457766,
          -0.0009657131,
          -0.0006602915,
          -0.0014517176,
          -0.0014723177,
          -0.0006086619,
          -0.0010502561
         ],
         "yaxis": "y"
        },
        {
         "customdata": [
          [
           "Estructura Organizativa"
          ],
          [
           "Estructura Organizativa"
          ],
          [
           "Estructura Organizativa"
          ],
          [
           "Estructura Organizativa"
          ],
          [
           "Estructura Organizativa"
          ],
          [
           "Estructura Organizativa"
          ],
          [
           "Estructura Organizativa"
          ],
          [
           "Estructura Organizativa"
          ],
          [
           "Estructura Organizativa"
          ],
          [
           "Estructura Organizativa"
          ],
          [
           "Estructura Organizativa"
          ],
          [
           "Estructura Organizativa"
          ],
          [
           "Estructura Organizativa"
          ],
          [
           "Estructura Organizativa"
          ],
          [
           "Estructura Organizativa"
          ],
          [
           "Estructura Organizativa"
          ],
          [
           "Estructura Organizativa"
          ],
          [
           "Estructura Organizativa"
          ],
          [
           "Estructura Organizativa"
          ],
          [
           "Estructura Organizativa"
          ],
          [
           "Estructura Organizativa"
          ],
          [
           "Estructura Organizativa"
          ],
          [
           "Estructura Organizativa"
          ],
          [
           "Estructura Organizativa"
          ],
          [
           "Estructura Organizativa"
          ],
          [
           "Estructura Organizativa"
          ],
          [
           "Estructura Organizativa"
          ],
          [
           "Estructura Organizativa"
          ],
          [
           "Estructura Organizativa"
          ],
          [
           "Estructura Organizativa"
          ],
          [
           "Estructura Organizativa"
          ],
          [
           "Estructura Organizativa"
          ],
          [
           "Estructura Organizativa"
          ],
          [
           "Estructura Organizativa"
          ],
          [
           "Estructura Organizativa"
          ],
          [
           "Estructura Organizativa"
          ],
          [
           "Estructura Organizativa"
          ],
          [
           "Estructura Organizativa"
          ],
          [
           "Estructura Organizativa"
          ],
          [
           "Estructura Organizativa"
          ],
          [
           "Estructura Organizativa"
          ],
          [
           "Estructura Organizativa"
          ],
          [
           "Estructura Organizativa"
          ],
          [
           "Estructura Organizativa"
          ],
          [
           "Estructura Organizativa"
          ],
          [
           "Estructura Organizativa"
          ],
          [
           "Estructura Organizativa"
          ],
          [
           "Estructura Organizativa"
          ],
          [
           "Estructura Organizativa"
          ],
          [
           "Estructura Organizativa"
          ],
          [
           "Estructura Organizativa"
          ],
          [
           "Estructura Organizativa"
          ],
          [
           "Estructura Organizativa"
          ],
          [
           "Estructura Organizativa"
          ],
          [
           "Estructura Organizativa"
          ],
          [
           "Estructura Organizativa"
          ],
          [
           "Estructura Organizativa"
          ],
          [
           "Estructura Organizativa"
          ],
          [
           "Estructura Organizativa"
          ],
          [
           "Estructura Organizativa"
          ],
          [
           "Estructura Organizativa"
          ],
          [
           "Estructura Organizativa"
          ],
          [
           "Estructura Organizativa"
          ],
          [
           "Estructura Organizativa"
          ],
          [
           "Estructura Organizativa"
          ],
          [
           "Estructura Organizativa"
          ],
          [
           "Estructura Organizativa"
          ],
          [
           "Estructura Organizativa"
          ],
          [
           "Estructura Organizativa"
          ],
          [
           "Estructura Organizativa"
          ],
          [
           "Estructura Organizativa"
          ],
          [
           "Estructura Organizativa"
          ],
          [
           "Estructura Organizativa"
          ],
          [
           "Estructura Organizativa"
          ],
          [
           "Estructura Organizativa"
          ],
          [
           "Estructura Organizativa"
          ],
          [
           "Estructura Organizativa"
          ],
          [
           "Estructura Organizativa"
          ],
          [
           "Estructura Organizativa"
          ],
          [
           "Estructura Organizativa"
          ],
          [
           "Estructura Organizativa"
          ],
          [
           "Estructura Organizativa"
          ],
          [
           "Estructura Organizativa"
          ],
          [
           "Estructura Organizativa"
          ],
          [
           "Estructura Organizativa"
          ],
          [
           "Estructura Organizativa"
          ],
          [
           "Estructura Organizativa"
          ],
          [
           "Estructura Organizativa"
          ],
          [
           "Estructura Organizativa"
          ],
          [
           "Estructura Organizativa"
          ],
          [
           "Estructura Organizativa"
          ],
          [
           "Estructura Organizativa"
          ],
          [
           "Estructura Organizativa"
          ],
          [
           "Estructura Organizativa"
          ],
          [
           "Estructura Organizativa"
          ],
          [
           "Estructura Organizativa"
          ],
          [
           "Estructura Organizativa"
          ],
          [
           "Estructura Organizativa"
          ],
          [
           "Estructura Organizativa"
          ],
          [
           "Estructura Organizativa"
          ],
          [
           "Estructura Organizativa"
          ],
          [
           "Estructura Organizativa"
          ],
          [
           "Estructura Organizativa"
          ],
          [
           "Estructura Organizativa"
          ],
          [
           "Estructura Organizativa"
          ],
          [
           "Estructura Organizativa"
          ],
          [
           "Estructura Organizativa"
          ],
          [
           "Estructura Organizativa"
          ],
          [
           "Estructura Organizativa"
          ],
          [
           "Estructura Organizativa"
          ],
          [
           "Estructura Organizativa"
          ],
          [
           "Estructura Organizativa"
          ],
          [
           "Estructura Organizativa"
          ],
          [
           "Estructura Organizativa"
          ],
          [
           "Estructura Organizativa"
          ],
          [
           "Estructura Organizativa"
          ],
          [
           "Estructura Organizativa"
          ],
          [
           "Estructura Organizativa"
          ],
          [
           "Estructura Organizativa"
          ],
          [
           "Estructura Organizativa"
          ],
          [
           "Estructura Organizativa"
          ],
          [
           "Estructura Organizativa"
          ],
          [
           "Estructura Organizativa"
          ],
          [
           "Estructura Organizativa"
          ],
          [
           "Estructura Organizativa"
          ],
          [
           "Estructura Organizativa"
          ],
          [
           "Estructura Organizativa"
          ],
          [
           "Estructura Organizativa"
          ],
          [
           "Estructura Organizativa"
          ],
          [
           "Estructura Organizativa"
          ],
          [
           "Estructura Organizativa"
          ],
          [
           "Estructura Organizativa"
          ],
          [
           "Estructura Organizativa"
          ],
          [
           "Estructura Organizativa"
          ],
          [
           "Estructura Organizativa"
          ]
         ],
         "hovertemplate": "color=Estructura Organizativa<br>PCA Component 1=%{x}<br>PCA Component 2=%{y}<br>label=%{customdata[0]}<extra></extra>",
         "legendgroup": "Estructura Organizativa",
         "marker": {
          "color": "#00cc96",
          "symbol": "circle"
         },
         "mode": "markers",
         "name": "Estructura Organizativa",
         "orientation": "v",
         "showlegend": true,
         "type": "scatter",
         "x": [
          0.00024106709,
          -0.02711382,
          0.004508664,
          0.02193373,
          -0.010160027,
          0.09090279,
          -0.0018058436,
          -0.017059661,
          0.038912144,
          0.0484014,
          0.029422717,
          0.08225914,
          0.066914536,
          0.07299738,
          0.06903031,
          0.06935945,
          0.08092335,
          0.13009919,
          0.08453651,
          0.07778862,
          0.04136132,
          0.080364995,
          0.081069596,
          0.06208305,
          0.070806414,
          0.062467307,
          0.060724802,
          0.08686218,
          0.07238445,
          0.03829042,
          0.08825828,
          0.0725674,
          0.07262592,
          0.047753084,
          0.027346758,
          0.1098304,
          0.09156009,
          0.101753175,
          0.1162048,
          0.11898714,
          0.086419865,
          0.084637456,
          0.06885682,
          0.041231915,
          0.11071612,
          0.09919407,
          0.11511441,
          0.072284006,
          0.057418287,
          0.10193237,
          0.12014213,
          0.11506855,
          0.1030976,
          0.09528319,
          0.07381664,
          0.10683204,
          0.10486764,
          0.081602246,
          0.048539583,
          0.08220794,
          0.07232454,
          0.09335873,
          0.088899,
          0.119491644,
          0.053465813,
          0.0591776,
          0.06707784,
          0.08172942,
          0.076893725,
          0.03455134,
          0.14559698,
          0.11707764,
          0.107279465,
          0.02477621,
          0.05582843,
          0.06338606,
          0.0917165,
          0.07569704,
          0.03865485,
          0.051369373,
          0.027911954,
          0.06174291,
          0.024821592,
          0.05931582,
          0.036898572,
          0.06431557,
          0.08844787,
          0.06806023,
          0.06110953,
          0.09856398,
          0.08850608,
          0.10046766,
          0.10914176,
          0.10919567,
          0.09841171,
          0.10466667,
          0.105642736,
          0.086207904,
          0.09558559,
          0.10413209,
          0.100528434,
          0.10259104,
          0.09229874,
          0.08387365,
          0.106290534,
          0.10897053,
          0.096262515,
          0.028613033,
          0.075709574,
          0.0641257,
          0.07757014,
          0.10402068,
          0.09301315,
          0.11073774,
          0.10373058,
          0.08953967,
          0.11028265,
          0.10185927,
          0.09774457,
          0.083230615,
          0.10121105,
          0.08467859,
          0.0906103,
          0.096315466,
          0.049267974,
          0.00018865727,
          0.031977054,
          0.01450285,
          0.046349853,
          0.01746178,
          0.07427482,
          0.083060816,
          0.08287119,
          0.0030547336,
          0.101515085
         ],
         "xaxis": "x",
         "y": [
          -0.0027406213,
          -0.0027389727,
          -0.0009529018,
          -0.0015122456,
          -0.0018043909,
          -0.0026626168,
          -0.001556015,
          -0.0044435263,
          -0.0037365253,
          -0.0010708767,
          -0.0033685213,
          -0.0028289806,
          -0.0014617423,
          -0.0020600432,
          -0.0012480894,
          -0.00053183717,
          -0.0014436085,
          -0.0013647976,
          -0.0010443204,
          0.0006154805,
          -0.0014032036,
          -0.0016994461,
          -0.00022100673,
          0.00064582325,
          -0.00029019578,
          0.0017886288,
          -0.00097973,
          -0.0032959334,
          -0.00031990922,
          0.00044457303,
          -0.00090894324,
          -0.00040211724,
          0.00077290274,
          -0.00031040996,
          -0.0018360704,
          -0.000055382872,
          0.000472417,
          0.0012283082,
          -0.0026159973,
          0.0023721438,
          -0.0018103825,
          -0.0003695418,
          -0.0012584962,
          0.013138552,
          0.0024747727,
          -0.0012828459,
          -0.0022948154,
          0.001170447,
          0.00708952,
          0.0010684342,
          -0.002618189,
          0.0014742928,
          -0.0023051219,
          -0.0047197933,
          -0.00054638623,
          0.0048988676,
          0.0008204838,
          0.002163399,
          0.0009929441,
          0.0015840855,
          0.0004733422,
          0.002237434,
          -0.00015914836,
          -0.004206889,
          -0.0009786773,
          0.00050914404,
          -0.0009850035,
          -0.0020361193,
          -0.00028339913,
          -0.0015069401,
          0.0025153963,
          -0.000043101867,
          0.0015838726,
          0.00040936458,
          0.0007575984,
          0.001254097,
          0.0060131135,
          0.00032708893,
          -0.0007145689,
          -0.0012799775,
          0.0021652055,
          0.0007436331,
          0.0013042182,
          0.0005005703,
          0.004827652,
          -0.0005368358,
          -0.0028386863,
          -0.00053529156,
          -0.0014025585,
          0.00036754418,
          0.0017823465,
          -0.0015262307,
          0.0011126983,
          0.0010530398,
          0.0006820291,
          -0.00017036036,
          -0.00020188696,
          0.0012132576,
          0.0016459869,
          0.0004234988,
          0.0005940913,
          -0.00023664438,
          0.0012421402,
          0.0022371633,
          -0.002868702,
          0.0022699665,
          -0.00016117607,
          -0.0011808429,
          -0.0020893365,
          -0.00112417,
          -0.0023342015,
          -0.00049728405,
          0.0016578932,
          0.00054267445,
          0.00038768793,
          0.0026336364,
          0.0027051629,
          -0.00023695815,
          0.00042269423,
          0.0017093597,
          -0.000089433204,
          -0.0007176942,
          -0.0004633654,
          0.0009328854,
          0.0009776556,
          -0.0023499092,
          -0.0012123865,
          -0.00076492026,
          -0.0022021928,
          -0.0005082622,
          0.00027848128,
          0.0074457834,
          -0.0004067189,
          0.0013062559,
          0.000103350205
         ],
         "yaxis": "y"
        },
        {
         "customdata": [
          [
           "Riesgos"
          ],
          [
           "Riesgos"
          ],
          [
           "Riesgos"
          ],
          [
           "Riesgos"
          ],
          [
           "Riesgos"
          ],
          [
           "Riesgos"
          ],
          [
           "Riesgos"
          ],
          [
           "Riesgos"
          ],
          [
           "Riesgos"
          ],
          [
           "Riesgos"
          ],
          [
           "Riesgos"
          ],
          [
           "Riesgos"
          ],
          [
           "Riesgos"
          ],
          [
           "Riesgos"
          ],
          [
           "Riesgos"
          ],
          [
           "Riesgos"
          ],
          [
           "Riesgos"
          ],
          [
           "Riesgos"
          ],
          [
           "Riesgos"
          ],
          [
           "Riesgos"
          ],
          [
           "Riesgos"
          ],
          [
           "Riesgos"
          ],
          [
           "Riesgos"
          ],
          [
           "Riesgos"
          ],
          [
           "Riesgos"
          ],
          [
           "Riesgos"
          ],
          [
           "Riesgos"
          ],
          [
           "Riesgos"
          ],
          [
           "Riesgos"
          ],
          [
           "Riesgos"
          ],
          [
           "Riesgos"
          ],
          [
           "Riesgos"
          ],
          [
           "Riesgos"
          ],
          [
           "Riesgos"
          ],
          [
           "Riesgos"
          ],
          [
           "Riesgos"
          ],
          [
           "Riesgos"
          ],
          [
           "Riesgos"
          ],
          [
           "Riesgos"
          ],
          [
           "Riesgos"
          ],
          [
           "Riesgos"
          ]
         ],
         "hovertemplate": "color=Riesgos<br>PCA Component 1=%{x}<br>PCA Component 2=%{y}<br>label=%{customdata[0]}<extra></extra>",
         "legendgroup": "Riesgos",
         "marker": {
          "color": "#ab63fa",
          "symbol": "circle"
         },
         "mode": "markers",
         "name": "Riesgos",
         "orientation": "v",
         "showlegend": true,
         "type": "scatter",
         "x": [
          -0.049803182,
          -0.051182292,
          -0.049633667,
          -0.044545174,
          -0.0505909,
          -0.049121384,
          -0.049285978,
          -0.050067462,
          -0.04867762,
          -0.044181287,
          -0.04715112,
          -0.04675333,
          -0.04712133,
          -0.04808272,
          -0.04649996,
          -0.050395124,
          -0.05012009,
          -0.04742869,
          -0.049689893,
          -0.048588116,
          -0.047867972,
          -0.048915513,
          -0.04842695,
          -0.050108027,
          -0.048692036,
          -0.049888406,
          -0.04893219,
          -0.047255095,
          -0.04850815,
          -0.04641266,
          -0.046587396,
          -0.04720137,
          -0.047671005,
          -0.05063374,
          -0.047114857,
          -0.0451743,
          -0.043945737,
          -0.045181055,
          -0.048372906,
          -0.046956364,
          -0.050164547
         ],
         "xaxis": "x",
         "y": [
          -0.0033227445,
          -0.0018010638,
          -0.005304937,
          -0.0034117666,
          0.00034350218,
          0.0005805701,
          -0.0006608061,
          -0.00054618786,
          -0.0012703578,
          -0.0022172523,
          -0.0011692006,
          0.0016841782,
          -0.0012736325,
          -0.0025175174,
          -0.002339453,
          -0.0018519715,
          0.00014377237,
          -0.0034535453,
          -0.0032687301,
          -0.0014825414,
          -0.0017574445,
          -0.0014884239,
          0.00067110383,
          -0.0017539939,
          0.0006009446,
          -0.00034607196,
          -0.00063617737,
          -0.00078164355,
          0.0024905056,
          -0.0006524999,
          -0.00064020336,
          0.0018629491,
          0.00031104492,
          -0.00074275036,
          0.0027753068,
          0.00025972497,
          -0.0034042401,
          -0.0022701316,
          0.0005678942,
          -0.0013255633,
          -0.0031748884
         ],
         "yaxis": "y"
        },
        {
         "customdata": [
          [
           "Información"
          ],
          [
           "Información"
          ],
          [
           "Información"
          ],
          [
           "Información"
          ],
          [
           "Información"
          ],
          [
           "Información"
          ],
          [
           "Información"
          ],
          [
           "Información"
          ],
          [
           "Información"
          ],
          [
           "Información"
          ],
          [
           "Información"
          ],
          [
           "Información"
          ],
          [
           "Información"
          ],
          [
           "Información"
          ],
          [
           "Información"
          ],
          [
           "Información"
          ]
         ],
         "hovertemplate": "color=Información<br>PCA Component 1=%{x}<br>PCA Component 2=%{y}<br>label=%{customdata[0]}<extra></extra>",
         "legendgroup": "Información",
         "marker": {
          "color": "#FFA15A",
          "symbol": "circle"
         },
         "mode": "markers",
         "name": "Información",
         "orientation": "v",
         "showlegend": true,
         "type": "scatter",
         "x": [
          -0.049457204,
          -0.04916334,
          -0.049440764,
          -0.050163154,
          -0.05046826,
          -0.049035873,
          -0.04449283,
          -0.049617857,
          -0.050039865,
          -0.050537553,
          -0.04913318,
          -0.046874627,
          -0.043629654,
          -0.049023677,
          -0.049953476,
          -0.051476974
         ],
         "xaxis": "x",
         "y": [
          -0.00062434986,
          -0.00039291853,
          0.0006818107,
          0.0009241364,
          0.005521783,
          -0.0015621274,
          -0.0014989064,
          -0.0021940786,
          -0.0043281284,
          0.00025532732,
          -0.0006962804,
          -0.0038408248,
          -0.013826761,
          -0.0032518224,
          -0.002069559,
          -0.0005741102
         ],
         "yaxis": "y"
        },
        {
         "customdata": [
          [
           "Emergencia"
          ],
          [
           "Emergencia"
          ],
          [
           "Emergencia"
          ],
          [
           "Emergencia"
          ],
          [
           "Emergencia"
          ],
          [
           "Emergencia"
          ],
          [
           "Emergencia"
          ],
          [
           "Emergencia"
          ],
          [
           "Emergencia"
          ],
          [
           "Emergencia"
          ],
          [
           "Emergencia"
          ],
          [
           "Emergencia"
          ],
          [
           "Emergencia"
          ],
          [
           "Emergencia"
          ],
          [
           "Emergencia"
          ],
          [
           "Emergencia"
          ],
          [
           "Emergencia"
          ],
          [
           "Emergencia"
          ],
          [
           "Emergencia"
          ],
          [
           "Emergencia"
          ],
          [
           "Emergencia"
          ],
          [
           "Emergencia"
          ],
          [
           "Emergencia"
          ],
          [
           "Emergencia"
          ],
          [
           "Emergencia"
          ],
          [
           "Emergencia"
          ],
          [
           "Emergencia"
          ],
          [
           "Emergencia"
          ],
          [
           "Emergencia"
          ],
          [
           "Emergencia"
          ],
          [
           "Emergencia"
          ],
          [
           "Emergencia"
          ],
          [
           "Emergencia"
          ],
          [
           "Emergencia"
          ],
          [
           "Emergencia"
          ],
          [
           "Emergencia"
          ],
          [
           "Emergencia"
          ],
          [
           "Emergencia"
          ],
          [
           "Emergencia"
          ],
          [
           "Emergencia"
          ],
          [
           "Emergencia"
          ],
          [
           "Emergencia"
          ],
          [
           "Emergencia"
          ],
          [
           "Emergencia"
          ],
          [
           "Emergencia"
          ],
          [
           "Emergencia"
          ],
          [
           "Emergencia"
          ],
          [
           "Emergencia"
          ],
          [
           "Emergencia"
          ],
          [
           "Emergencia"
          ],
          [
           "Emergencia"
          ],
          [
           "Emergencia"
          ],
          [
           "Emergencia"
          ],
          [
           "Emergencia"
          ],
          [
           "Emergencia"
          ],
          [
           "Emergencia"
          ],
          [
           "Emergencia"
          ],
          [
           "Emergencia"
          ],
          [
           "Emergencia"
          ],
          [
           "Emergencia"
          ],
          [
           "Emergencia"
          ],
          [
           "Emergencia"
          ],
          [
           "Emergencia"
          ],
          [
           "Emergencia"
          ]
         ],
         "hovertemplate": "color=Emergencia<br>PCA Component 1=%{x}<br>PCA Component 2=%{y}<br>label=%{customdata[0]}<extra></extra>",
         "legendgroup": "Emergencia",
         "marker": {
          "color": "#19d3f3",
          "symbol": "circle"
         },
         "mode": "markers",
         "name": "Emergencia",
         "orientation": "v",
         "showlegend": true,
         "type": "scatter",
         "x": [
          -0.050622016,
          -0.05112836,
          -0.050558824,
          -0.046154376,
          -0.048501134,
          -0.04982747,
          -0.047414646,
          -0.051692422,
          -0.050392527,
          -0.049992636,
          -0.050320357,
          -0.046266545,
          -0.046884153,
          -0.047080513,
          -0.04702879,
          -0.04289126,
          -0.04578778,
          -0.041423056,
          -0.04434286,
          -0.04430508,
          -0.043748256,
          -0.046518665,
          -0.043539528,
          -0.04173088,
          -0.04677269,
          -0.049884755,
          -0.047112554,
          -0.047882378,
          -0.04355444,
          -0.043503195,
          -0.04531721,
          -0.040823966,
          -0.04842183,
          -0.045808587,
          -0.047054756,
          -0.043021027,
          -0.043288585,
          -0.043360464,
          -0.050858572,
          -0.04682386,
          -0.04773817,
          -0.046468083,
          -0.049016625,
          -0.04576021,
          -0.043490868,
          -0.043654896,
          -0.04341795,
          -0.043942355,
          -0.04604147,
          -0.044036467,
          -0.04838958,
          -0.04390775,
          -0.040178686,
          -0.045631737,
          -0.046898093,
          -0.048483625,
          -0.046553183,
          -0.04332993,
          -0.052846562,
          -0.045886707,
          -0.042339973,
          -0.045279518,
          -0.04661983,
          -0.043304835
         ],
         "xaxis": "x",
         "y": [
          -0.0039077895,
          0.0018712943,
          -0.0011935896,
          0.0006454391,
          -0.0014112626,
          0.00004069563,
          -0.0018452894,
          -0.00086488866,
          0.00067711156,
          -0.0004735456,
          -0.000047880025,
          0.0018223753,
          0.001527453,
          -0.0010906957,
          -0.0035048733,
          -0.0008431154,
          -0.00081893936,
          0.0008788414,
          0.0006512685,
          -0.0005966614,
          0.0037301562,
          -0.0006286196,
          -0.00024905874,
          0.0012112211,
          0.0004897335,
          -0.002250061,
          -0.0023349433,
          -0.0027903758,
          0.0031115515,
          -0.001242815,
          0.00034861348,
          0.0015645119,
          -0.00019038978,
          -0.0018539082,
          -0.00070145744,
          0.0014799169,
          0.00119671,
          -0.003162908,
          0.000047393187,
          0.0015451241,
          0.00017271058,
          -0.0012101487,
          -0.001845669,
          -0.0019054728,
          0.0005405099,
          -0.00376115,
          -0.0011457263,
          -0.0027972541,
          -0.0012608366,
          -0.0019547187,
          -0.003152818,
          -0.0012822958,
          0.0017144855,
          0.0018496863,
          -0.00003645072,
          -0.00038804207,
          -0.0012461626,
          0.00056109595,
          -0.004742555,
          -0.0013264709,
          0.00083212316,
          0.0012526934,
          0.0016218496,
          -0.00019372623
         ],
         "yaxis": "y"
        },
        {
         "customdata": [
          [
           "Question: ¿Cómo se diferencia la ubicación física de la operativa?<br>Closest Model: Emergencia<br>Similarity: 0.24<br>Chunk: el resultado de la participación eficiente de todos los grupos y trabajadores  implicados, así como ..."
          ],
          [
           "Question: ¿Qué información se incluye en el informe de la evaluación de riesgos que ofrece la plataforma y cuál es su utilidad para la gestión de riesgos en la empresa?<br>Closest Model: Emergencia<br>Similarity: 0.41<br>Chunk: El usuario accede a la pestaña “Generar documentos” y visualiza el listado de informes  generados en..."
          ],
          [
           "Question: ¿Hay indicadores relativos al cumplimiento de normas?<br>Closest Model: Auditorias<br>Similarity: 0.26<br>Chunk: El usuario accede al cardboard “Diagnósticos ISO” y visualiza una pantalla con el conjunto de  están..."
          ],
          [
           "Question: ¿Qué papel juega la estructura organizativa en la funcionalidad general de la plataforma y cómo interactúa con otros módulos?<br>Closest Model: Información<br>Similarity: 0.42<br>Chunk: 6  •  Ausentismo: Se visualizan todos los archivos añadidos en la pestaña “Documentación”  de los di..."
          ],
          [
           "Question: ¿Qué permite realizar la evaluación de riesgos?<br>Closest Model: Emergencia<br>Similarity: 0.65<br>Chunk: 19  Al clicar a la acción Evaluar del listado, el usuario es redirigido al formulario de evaluación ..."
          ],
          [
           "Question: ¿Qué tipo de documentos se pueden almacenar y compartir en el espacio denominado 'Documentos' y cuál es su importancia dentro del contexto de la gestión empresarial en la plataforma?<br>Closest Model: Emergencia<br>Similarity: 0.36<br>Chunk: el cuestionario de la evaluación se  muestra como no editable y se habilitan las pestañas Actividade..."
          ],
          [
           "Question: ¿Se pueden llevar a cabo auditorías internas?<br>Closest Model: Estructura Organizativa<br>Similarity: 0.48<br>Chunk: 3. HOME ESTRUCTURA ORGANIZATIVA  El usuario puede acceder al módulo Estructura Organizativa (EO), de..."
          ],
          [
           "Question: ¿Cuál es la tasa de adopción de esta plataforma en el mercado?<br>Closest Model: Información<br>Similarity: 0.42<br>Chunk: 6  •  Ausentismo: Se visualizan todos los archivos añadidos en la pestaña “Documentación”  de los di..."
          ],
          [
           "Question: ¿Cómo se compara esta plataforma con otras soluciones de gestión de SST?<br>Closest Model: Emergencia<br>Similarity: 0.43<br>Chunk: Sabentis es la nueva plataforma de gestión especializada en el ámbito de Seguridad y Salud en  el Tr..."
          ],
          [
           "Question: ¿Qué día hará mañana?<br>Closest Model: Emergencia<br>Similarity: 0.19<br>Chunk: de tener  una evaluación realizada ésta se perderá.  •  Evaluar: Permite acceder al cuestionario de ..."
          ]
         ],
         "hovertemplate": "color=Question<br>PCA Component 1=%{x}<br>PCA Component 2=%{y}<br>label=%{customdata[0]}<extra></extra>",
         "legendgroup": "Question",
         "marker": {
          "color": "#FF6692",
          "symbol": "circle"
         },
         "mode": "markers",
         "name": "Question",
         "orientation": "v",
         "showlegend": true,
         "type": "scatter",
         "x": [
          -0.054889973,
          -0.051238522,
          -0.05557939,
          -0.055003814,
          -0.04478029,
          -0.048891664,
          -0.04236293,
          -0.055003814,
          -0.05553066,
          -0.05603009
         ],
         "xaxis": "x",
         "y": [
          -0.0017990046,
          0.005172888,
          0.0019273926,
          0.059787005,
          -0.0005217783,
          0.006693325,
          -0.002278327,
          0.059787005,
          0.031510383,
          -0.0007632278
         ],
         "yaxis": "y"
        }
       ],
       "layout": {
        "annotations": [
         {
          "arrowhead": 2,
          "showarrow": true,
          "text": "Q1",
          "x": -0.054889973253011703,
          "y": -0.0017990046180784702
         },
         {
          "arrowhead": 2,
          "showarrow": true,
          "text": "Q2",
          "x": -0.0512385219335556,
          "y": 0.005172887817025185
         },
         {
          "arrowhead": 2,
          "showarrow": true,
          "text": "Q3",
          "x": -0.05557939037680626,
          "y": 0.0019273925572633743
         },
         {
          "arrowhead": 2,
          "showarrow": true,
          "text": "Q4",
          "x": -0.0550038143992424,
          "y": 0.05978700518608093
         },
         {
          "arrowhead": 2,
          "showarrow": true,
          "text": "Q5",
          "x": -0.044780291616916656,
          "y": -0.0005217783036641777
         },
         {
          "arrowhead": 2,
          "showarrow": true,
          "text": "Q6",
          "x": -0.048891663551330566,
          "y": 0.006693325005471706
         },
         {
          "arrowhead": 2,
          "showarrow": true,
          "text": "Q7",
          "x": -0.04236292839050293,
          "y": -0.0022783270105719566
         },
         {
          "arrowhead": 2,
          "showarrow": true,
          "text": "Q8",
          "x": -0.0550038143992424,
          "y": 0.05978700518608093
         },
         {
          "arrowhead": 2,
          "showarrow": true,
          "text": "Q9",
          "x": -0.05553065985441208,
          "y": 0.031510382890701294
         },
         {
          "arrowhead": 2,
          "showarrow": true,
          "text": "Q10",
          "x": -0.056030090898275375,
          "y": -0.0007632278138771653
         }
        ],
        "legend": {
         "title": {
          "text": "color"
         },
         "tracegroupgap": 0
        },
        "template": {
         "data": {
          "bar": [
           {
            "error_x": {
             "color": "#2a3f5f"
            },
            "error_y": {
             "color": "#2a3f5f"
            },
            "marker": {
             "line": {
              "color": "#E5ECF6",
              "width": 0.5
             },
             "pattern": {
              "fillmode": "overlay",
              "size": 10,
              "solidity": 0.2
             }
            },
            "type": "bar"
           }
          ],
          "barpolar": [
           {
            "marker": {
             "line": {
              "color": "#E5ECF6",
              "width": 0.5
             },
             "pattern": {
              "fillmode": "overlay",
              "size": 10,
              "solidity": 0.2
             }
            },
            "type": "barpolar"
           }
          ],
          "carpet": [
           {
            "aaxis": {
             "endlinecolor": "#2a3f5f",
             "gridcolor": "white",
             "linecolor": "white",
             "minorgridcolor": "white",
             "startlinecolor": "#2a3f5f"
            },
            "baxis": {
             "endlinecolor": "#2a3f5f",
             "gridcolor": "white",
             "linecolor": "white",
             "minorgridcolor": "white",
             "startlinecolor": "#2a3f5f"
            },
            "type": "carpet"
           }
          ],
          "choropleth": [
           {
            "colorbar": {
             "outlinewidth": 0,
             "ticks": ""
            },
            "type": "choropleth"
           }
          ],
          "contour": [
           {
            "colorbar": {
             "outlinewidth": 0,
             "ticks": ""
            },
            "colorscale": [
             [
              0,
              "#0d0887"
             ],
             [
              0.1111111111111111,
              "#46039f"
             ],
             [
              0.2222222222222222,
              "#7201a8"
             ],
             [
              0.3333333333333333,
              "#9c179e"
             ],
             [
              0.4444444444444444,
              "#bd3786"
             ],
             [
              0.5555555555555556,
              "#d8576b"
             ],
             [
              0.6666666666666666,
              "#ed7953"
             ],
             [
              0.7777777777777778,
              "#fb9f3a"
             ],
             [
              0.8888888888888888,
              "#fdca26"
             ],
             [
              1,
              "#f0f921"
             ]
            ],
            "type": "contour"
           }
          ],
          "contourcarpet": [
           {
            "colorbar": {
             "outlinewidth": 0,
             "ticks": ""
            },
            "type": "contourcarpet"
           }
          ],
          "heatmap": [
           {
            "colorbar": {
             "outlinewidth": 0,
             "ticks": ""
            },
            "colorscale": [
             [
              0,
              "#0d0887"
             ],
             [
              0.1111111111111111,
              "#46039f"
             ],
             [
              0.2222222222222222,
              "#7201a8"
             ],
             [
              0.3333333333333333,
              "#9c179e"
             ],
             [
              0.4444444444444444,
              "#bd3786"
             ],
             [
              0.5555555555555556,
              "#d8576b"
             ],
             [
              0.6666666666666666,
              "#ed7953"
             ],
             [
              0.7777777777777778,
              "#fb9f3a"
             ],
             [
              0.8888888888888888,
              "#fdca26"
             ],
             [
              1,
              "#f0f921"
             ]
            ],
            "type": "heatmap"
           }
          ],
          "heatmapgl": [
           {
            "colorbar": {
             "outlinewidth": 0,
             "ticks": ""
            },
            "colorscale": [
             [
              0,
              "#0d0887"
             ],
             [
              0.1111111111111111,
              "#46039f"
             ],
             [
              0.2222222222222222,
              "#7201a8"
             ],
             [
              0.3333333333333333,
              "#9c179e"
             ],
             [
              0.4444444444444444,
              "#bd3786"
             ],
             [
              0.5555555555555556,
              "#d8576b"
             ],
             [
              0.6666666666666666,
              "#ed7953"
             ],
             [
              0.7777777777777778,
              "#fb9f3a"
             ],
             [
              0.8888888888888888,
              "#fdca26"
             ],
             [
              1,
              "#f0f921"
             ]
            ],
            "type": "heatmapgl"
           }
          ],
          "histogram": [
           {
            "marker": {
             "pattern": {
              "fillmode": "overlay",
              "size": 10,
              "solidity": 0.2
             }
            },
            "type": "histogram"
           }
          ],
          "histogram2d": [
           {
            "colorbar": {
             "outlinewidth": 0,
             "ticks": ""
            },
            "colorscale": [
             [
              0,
              "#0d0887"
             ],
             [
              0.1111111111111111,
              "#46039f"
             ],
             [
              0.2222222222222222,
              "#7201a8"
             ],
             [
              0.3333333333333333,
              "#9c179e"
             ],
             [
              0.4444444444444444,
              "#bd3786"
             ],
             [
              0.5555555555555556,
              "#d8576b"
             ],
             [
              0.6666666666666666,
              "#ed7953"
             ],
             [
              0.7777777777777778,
              "#fb9f3a"
             ],
             [
              0.8888888888888888,
              "#fdca26"
             ],
             [
              1,
              "#f0f921"
             ]
            ],
            "type": "histogram2d"
           }
          ],
          "histogram2dcontour": [
           {
            "colorbar": {
             "outlinewidth": 0,
             "ticks": ""
            },
            "colorscale": [
             [
              0,
              "#0d0887"
             ],
             [
              0.1111111111111111,
              "#46039f"
             ],
             [
              0.2222222222222222,
              "#7201a8"
             ],
             [
              0.3333333333333333,
              "#9c179e"
             ],
             [
              0.4444444444444444,
              "#bd3786"
             ],
             [
              0.5555555555555556,
              "#d8576b"
             ],
             [
              0.6666666666666666,
              "#ed7953"
             ],
             [
              0.7777777777777778,
              "#fb9f3a"
             ],
             [
              0.8888888888888888,
              "#fdca26"
             ],
             [
              1,
              "#f0f921"
             ]
            ],
            "type": "histogram2dcontour"
           }
          ],
          "mesh3d": [
           {
            "colorbar": {
             "outlinewidth": 0,
             "ticks": ""
            },
            "type": "mesh3d"
           }
          ],
          "parcoords": [
           {
            "line": {
             "colorbar": {
              "outlinewidth": 0,
              "ticks": ""
             }
            },
            "type": "parcoords"
           }
          ],
          "pie": [
           {
            "automargin": true,
            "type": "pie"
           }
          ],
          "scatter": [
           {
            "fillpattern": {
             "fillmode": "overlay",
             "size": 10,
             "solidity": 0.2
            },
            "type": "scatter"
           }
          ],
          "scatter3d": [
           {
            "line": {
             "colorbar": {
              "outlinewidth": 0,
              "ticks": ""
             }
            },
            "marker": {
             "colorbar": {
              "outlinewidth": 0,
              "ticks": ""
             }
            },
            "type": "scatter3d"
           }
          ],
          "scattercarpet": [
           {
            "marker": {
             "colorbar": {
              "outlinewidth": 0,
              "ticks": ""
             }
            },
            "type": "scattercarpet"
           }
          ],
          "scattergeo": [
           {
            "marker": {
             "colorbar": {
              "outlinewidth": 0,
              "ticks": ""
             }
            },
            "type": "scattergeo"
           }
          ],
          "scattergl": [
           {
            "marker": {
             "colorbar": {
              "outlinewidth": 0,
              "ticks": ""
             }
            },
            "type": "scattergl"
           }
          ],
          "scattermapbox": [
           {
            "marker": {
             "colorbar": {
              "outlinewidth": 0,
              "ticks": ""
             }
            },
            "type": "scattermapbox"
           }
          ],
          "scatterpolar": [
           {
            "marker": {
             "colorbar": {
              "outlinewidth": 0,
              "ticks": ""
             }
            },
            "type": "scatterpolar"
           }
          ],
          "scatterpolargl": [
           {
            "marker": {
             "colorbar": {
              "outlinewidth": 0,
              "ticks": ""
             }
            },
            "type": "scatterpolargl"
           }
          ],
          "scatterternary": [
           {
            "marker": {
             "colorbar": {
              "outlinewidth": 0,
              "ticks": ""
             }
            },
            "type": "scatterternary"
           }
          ],
          "surface": [
           {
            "colorbar": {
             "outlinewidth": 0,
             "ticks": ""
            },
            "colorscale": [
             [
              0,
              "#0d0887"
             ],
             [
              0.1111111111111111,
              "#46039f"
             ],
             [
              0.2222222222222222,
              "#7201a8"
             ],
             [
              0.3333333333333333,
              "#9c179e"
             ],
             [
              0.4444444444444444,
              "#bd3786"
             ],
             [
              0.5555555555555556,
              "#d8576b"
             ],
             [
              0.6666666666666666,
              "#ed7953"
             ],
             [
              0.7777777777777778,
              "#fb9f3a"
             ],
             [
              0.8888888888888888,
              "#fdca26"
             ],
             [
              1,
              "#f0f921"
             ]
            ],
            "type": "surface"
           }
          ],
          "table": [
           {
            "cells": {
             "fill": {
              "color": "#EBF0F8"
             },
             "line": {
              "color": "white"
             }
            },
            "header": {
             "fill": {
              "color": "#C8D4E3"
             },
             "line": {
              "color": "white"
             }
            },
            "type": "table"
           }
          ]
         },
         "layout": {
          "annotationdefaults": {
           "arrowcolor": "#2a3f5f",
           "arrowhead": 0,
           "arrowwidth": 1
          },
          "autotypenumbers": "strict",
          "coloraxis": {
           "colorbar": {
            "outlinewidth": 0,
            "ticks": ""
           }
          },
          "colorscale": {
           "diverging": [
            [
             0,
             "#8e0152"
            ],
            [
             0.1,
             "#c51b7d"
            ],
            [
             0.2,
             "#de77ae"
            ],
            [
             0.3,
             "#f1b6da"
            ],
            [
             0.4,
             "#fde0ef"
            ],
            [
             0.5,
             "#f7f7f7"
            ],
            [
             0.6,
             "#e6f5d0"
            ],
            [
             0.7,
             "#b8e186"
            ],
            [
             0.8,
             "#7fbc41"
            ],
            [
             0.9,
             "#4d9221"
            ],
            [
             1,
             "#276419"
            ]
           ],
           "sequential": [
            [
             0,
             "#0d0887"
            ],
            [
             0.1111111111111111,
             "#46039f"
            ],
            [
             0.2222222222222222,
             "#7201a8"
            ],
            [
             0.3333333333333333,
             "#9c179e"
            ],
            [
             0.4444444444444444,
             "#bd3786"
            ],
            [
             0.5555555555555556,
             "#d8576b"
            ],
            [
             0.6666666666666666,
             "#ed7953"
            ],
            [
             0.7777777777777778,
             "#fb9f3a"
            ],
            [
             0.8888888888888888,
             "#fdca26"
            ],
            [
             1,
             "#f0f921"
            ]
           ],
           "sequentialminus": [
            [
             0,
             "#0d0887"
            ],
            [
             0.1111111111111111,
             "#46039f"
            ],
            [
             0.2222222222222222,
             "#7201a8"
            ],
            [
             0.3333333333333333,
             "#9c179e"
            ],
            [
             0.4444444444444444,
             "#bd3786"
            ],
            [
             0.5555555555555556,
             "#d8576b"
            ],
            [
             0.6666666666666666,
             "#ed7953"
            ],
            [
             0.7777777777777778,
             "#fb9f3a"
            ],
            [
             0.8888888888888888,
             "#fdca26"
            ],
            [
             1,
             "#f0f921"
            ]
           ]
          },
          "colorway": [
           "#636efa",
           "#EF553B",
           "#00cc96",
           "#ab63fa",
           "#FFA15A",
           "#19d3f3",
           "#FF6692",
           "#B6E880",
           "#FF97FF",
           "#FECB52"
          ],
          "font": {
           "color": "#2a3f5f"
          },
          "geo": {
           "bgcolor": "white",
           "lakecolor": "white",
           "landcolor": "#E5ECF6",
           "showlakes": true,
           "showland": true,
           "subunitcolor": "white"
          },
          "hoverlabel": {
           "align": "left"
          },
          "hovermode": "closest",
          "mapbox": {
           "style": "light"
          },
          "paper_bgcolor": "white",
          "plot_bgcolor": "#E5ECF6",
          "polar": {
           "angularaxis": {
            "gridcolor": "white",
            "linecolor": "white",
            "ticks": ""
           },
           "bgcolor": "#E5ECF6",
           "radialaxis": {
            "gridcolor": "white",
            "linecolor": "white",
            "ticks": ""
           }
          },
          "scene": {
           "xaxis": {
            "backgroundcolor": "#E5ECF6",
            "gridcolor": "white",
            "gridwidth": 2,
            "linecolor": "white",
            "showbackground": true,
            "ticks": "",
            "zerolinecolor": "white"
           },
           "yaxis": {
            "backgroundcolor": "#E5ECF6",
            "gridcolor": "white",
            "gridwidth": 2,
            "linecolor": "white",
            "showbackground": true,
            "ticks": "",
            "zerolinecolor": "white"
           },
           "zaxis": {
            "backgroundcolor": "#E5ECF6",
            "gridcolor": "white",
            "gridwidth": 2,
            "linecolor": "white",
            "showbackground": true,
            "ticks": "",
            "zerolinecolor": "white"
           }
          },
          "shapedefaults": {
           "line": {
            "color": "#2a3f5f"
           }
          },
          "ternary": {
           "aaxis": {
            "gridcolor": "white",
            "linecolor": "white",
            "ticks": ""
           },
           "baxis": {
            "gridcolor": "white",
            "linecolor": "white",
            "ticks": ""
           },
           "bgcolor": "#E5ECF6",
           "caxis": {
            "gridcolor": "white",
            "linecolor": "white",
            "ticks": ""
           }
          },
          "title": {
           "x": 0.05
          },
          "xaxis": {
           "automargin": true,
           "gridcolor": "white",
           "linecolor": "white",
           "ticks": "",
           "title": {
            "standoff": 15
           },
           "zerolinecolor": "white",
           "zerolinewidth": 2
          },
          "yaxis": {
           "automargin": true,
           "gridcolor": "white",
           "linecolor": "white",
           "ticks": "",
           "title": {
            "standoff": 15
           },
           "zerolinecolor": "white",
           "zerolinewidth": 2
          }
         }
        },
        "title": {
         "text": "Embeddings Visualization with 2D PCA"
        },
        "xaxis": {
         "anchor": "y",
         "domain": [
          0,
          1
         ],
         "title": {
          "text": "PCA Component 1"
         }
        },
        "yaxis": {
         "anchor": "x",
         "domain": [
          0,
          1
         ],
         "title": {
          "text": "PCA Component 2"
         }
        }
       }
      }
     },
     "metadata": {},
     "output_type": "display_data"
    },
    {
     "data": {
      "application/vnd.plotly.v1+json": {
       "config": {
        "plotlyServerURL": "https://plot.ly"
       },
       "data": [
        {
         "customdata": [
          [
           "Auditorias"
          ],
          [
           "Auditorias"
          ],
          [
           "Auditorias"
          ],
          [
           "Auditorias"
          ],
          [
           "Auditorias"
          ],
          [
           "Auditorias"
          ],
          [
           "Auditorias"
          ],
          [
           "Auditorias"
          ],
          [
           "Auditorias"
          ],
          [
           "Auditorias"
          ],
          [
           "Auditorias"
          ],
          [
           "Auditorias"
          ],
          [
           "Auditorias"
          ],
          [
           "Auditorias"
          ],
          [
           "Auditorias"
          ],
          [
           "Auditorias"
          ],
          [
           "Auditorias"
          ],
          [
           "Auditorias"
          ],
          [
           "Auditorias"
          ],
          [
           "Auditorias"
          ],
          [
           "Auditorias"
          ],
          [
           "Auditorias"
          ],
          [
           "Auditorias"
          ],
          [
           "Auditorias"
          ],
          [
           "Auditorias"
          ],
          [
           "Auditorias"
          ],
          [
           "Auditorias"
          ],
          [
           "Auditorias"
          ],
          [
           "Auditorias"
          ],
          [
           "Auditorias"
          ],
          [
           "Auditorias"
          ],
          [
           "Auditorias"
          ],
          [
           "Auditorias"
          ],
          [
           "Auditorias"
          ],
          [
           "Auditorias"
          ],
          [
           "Auditorias"
          ],
          [
           "Auditorias"
          ],
          [
           "Auditorias"
          ],
          [
           "Auditorias"
          ],
          [
           "Auditorias"
          ],
          [
           "Auditorias"
          ],
          [
           "Auditorias"
          ],
          [
           "Auditorias"
          ],
          [
           "Auditorias"
          ],
          [
           "Auditorias"
          ],
          [
           "Auditorias"
          ],
          [
           "Auditorias"
          ],
          [
           "Auditorias"
          ]
         ],
         "hovertemplate": "color=Auditorias<br>t-SNE Component 1=%{x}<br>t-SNE Component 2=%{y}<br>label=%{customdata[0]}<extra></extra>",
         "legendgroup": "Auditorias",
         "marker": {
          "color": "#636efa",
          "symbol": "circle"
         },
         "mode": "markers",
         "name": "Auditorias",
         "orientation": "v",
         "showlegend": true,
         "type": "scatter",
         "x": [
          14.468572,
          17.284264,
          17.815628,
          14.547723,
          18.196365,
          15.21782,
          15.358281,
          9.127694,
          4.474074,
          11.308339,
          8.641479,
          9.761247,
          15.370664,
          4.5582867,
          24.428944,
          1.9407661,
          5.309196,
          4.5855227,
          18.323425,
          18.294489,
          20.570753,
          9.407959,
          8.111766,
          4.006264,
          6.1359935,
          17.150146,
          6.519385,
          6.7063527,
          13.571226,
          9.236603,
          4.494714,
          11.306997,
          9.742926,
          15.382214,
          4.548965,
          24.428944,
          1.9281794,
          5.193564,
          4.585363,
          4.580536,
          18.275335,
          20.81055,
          9.410324,
          7.963151,
          8.448675,
          12.440732,
          10.349575,
          20.357143
         ],
         "xaxis": "x",
         "y": [
          7.4068556,
          5.212111,
          5.504107,
          3.1818771,
          2.1754968,
          12.305251,
          12.274808,
          3.764236,
          8.269793,
          -2.6367218,
          -9.666839,
          -2.174479,
          4.730836,
          5.3793707,
          1.0505029,
          -5.074935,
          -1.4571469,
          -10.134718,
          2.2005317,
          -2.6587837,
          -3.8356419,
          -7.825818,
          1.3068261,
          -1.2268625,
          -4.5155854,
          4.883528,
          3.983889,
          -1.4342904,
          -4.53186,
          3.722948,
          8.25099,
          -2.636684,
          -2.2134557,
          4.690379,
          5.376833,
          1.0505029,
          -5.08457,
          -1.516855,
          -10.148367,
          -10.235196,
          -2.6132944,
          -3.958359,
          -7.835519,
          1.3830417,
          0.64604,
          3.364035,
          6.813118,
          -3.7213838
         ],
         "yaxis": "y"
        },
        {
         "customdata": [
          [
           "Ausentismo"
          ],
          [
           "Ausentismo"
          ],
          [
           "Ausentismo"
          ],
          [
           "Ausentismo"
          ],
          [
           "Ausentismo"
          ],
          [
           "Ausentismo"
          ],
          [
           "Ausentismo"
          ],
          [
           "Ausentismo"
          ],
          [
           "Ausentismo"
          ],
          [
           "Ausentismo"
          ],
          [
           "Ausentismo"
          ],
          [
           "Ausentismo"
          ],
          [
           "Ausentismo"
          ],
          [
           "Ausentismo"
          ],
          [
           "Ausentismo"
          ],
          [
           "Ausentismo"
          ],
          [
           "Ausentismo"
          ],
          [
           "Ausentismo"
          ],
          [
           "Ausentismo"
          ],
          [
           "Ausentismo"
          ],
          [
           "Ausentismo"
          ],
          [
           "Ausentismo"
          ],
          [
           "Ausentismo"
          ],
          [
           "Ausentismo"
          ],
          [
           "Ausentismo"
          ],
          [
           "Ausentismo"
          ],
          [
           "Ausentismo"
          ],
          [
           "Ausentismo"
          ],
          [
           "Ausentismo"
          ],
          [
           "Ausentismo"
          ],
          [
           "Ausentismo"
          ],
          [
           "Ausentismo"
          ],
          [
           "Ausentismo"
          ]
         ],
         "hovertemplate": "color=Ausentismo<br>t-SNE Component 1=%{x}<br>t-SNE Component 2=%{y}<br>label=%{customdata[0]}<extra></extra>",
         "legendgroup": "Ausentismo",
         "marker": {
          "color": "#EF553B",
          "symbol": "circle"
         },
         "mode": "markers",
         "name": "Ausentismo",
         "orientation": "v",
         "showlegend": true,
         "type": "scatter",
         "x": [
          11.170702,
          11.001549,
          10.607825,
          8.755007,
          8.615694,
          7.605439,
          3.752948,
          2.9371884,
          9.81235,
          18.173792,
          7.2617173,
          12.99204,
          12.685102,
          10.462372,
          16.497099,
          8.559664,
          3.9843278,
          15.804649,
          12.363848,
          12.283955,
          12.779617,
          10.645925,
          16.568058,
          8.784539,
          5.0724688,
          15.147025,
          10.786132,
          16.693718,
          9.080068,
          6.345057,
          9.912277,
          10.510235,
          7.19875
         ],
         "xaxis": "x",
         "y": [
          8.45855,
          8.42742,
          5.342422,
          7.651178,
          -10.519835,
          -1.2578154,
          -6.1749306,
          0.66493326,
          0.96785575,
          -6.700228,
          2.4373407,
          1.2969267,
          -1.9765174,
          -3.500067,
          -7.7151794,
          -1.5090075,
          -7.2625804,
          -4.002075,
          -3.2378013,
          -3.2666795,
          -1.9593451,
          -4.0292597,
          -7.897289,
          -1.2259545,
          -7.1264815,
          -4.008872,
          -4.0790653,
          -8.17315,
          -0.74651986,
          -2.7131627,
          0.6898271,
          4.9200964,
          7.8142924
         ],
         "yaxis": "y"
        },
        {
         "customdata": [
          [
           "Estructura Organizativa"
          ],
          [
           "Estructura Organizativa"
          ],
          [
           "Estructura Organizativa"
          ],
          [
           "Estructura Organizativa"
          ],
          [
           "Estructura Organizativa"
          ],
          [
           "Estructura Organizativa"
          ],
          [
           "Estructura Organizativa"
          ],
          [
           "Estructura Organizativa"
          ],
          [
           "Estructura Organizativa"
          ],
          [
           "Estructura Organizativa"
          ],
          [
           "Estructura Organizativa"
          ],
          [
           "Estructura Organizativa"
          ],
          [
           "Estructura Organizativa"
          ],
          [
           "Estructura Organizativa"
          ],
          [
           "Estructura Organizativa"
          ],
          [
           "Estructura Organizativa"
          ],
          [
           "Estructura Organizativa"
          ],
          [
           "Estructura Organizativa"
          ],
          [
           "Estructura Organizativa"
          ],
          [
           "Estructura Organizativa"
          ],
          [
           "Estructura Organizativa"
          ],
          [
           "Estructura Organizativa"
          ],
          [
           "Estructura Organizativa"
          ],
          [
           "Estructura Organizativa"
          ],
          [
           "Estructura Organizativa"
          ],
          [
           "Estructura Organizativa"
          ],
          [
           "Estructura Organizativa"
          ],
          [
           "Estructura Organizativa"
          ],
          [
           "Estructura Organizativa"
          ],
          [
           "Estructura Organizativa"
          ],
          [
           "Estructura Organizativa"
          ],
          [
           "Estructura Organizativa"
          ],
          [
           "Estructura Organizativa"
          ],
          [
           "Estructura Organizativa"
          ],
          [
           "Estructura Organizativa"
          ],
          [
           "Estructura Organizativa"
          ],
          [
           "Estructura Organizativa"
          ],
          [
           "Estructura Organizativa"
          ],
          [
           "Estructura Organizativa"
          ],
          [
           "Estructura Organizativa"
          ],
          [
           "Estructura Organizativa"
          ],
          [
           "Estructura Organizativa"
          ],
          [
           "Estructura Organizativa"
          ],
          [
           "Estructura Organizativa"
          ],
          [
           "Estructura Organizativa"
          ],
          [
           "Estructura Organizativa"
          ],
          [
           "Estructura Organizativa"
          ],
          [
           "Estructura Organizativa"
          ],
          [
           "Estructura Organizativa"
          ],
          [
           "Estructura Organizativa"
          ],
          [
           "Estructura Organizativa"
          ],
          [
           "Estructura Organizativa"
          ],
          [
           "Estructura Organizativa"
          ],
          [
           "Estructura Organizativa"
          ],
          [
           "Estructura Organizativa"
          ],
          [
           "Estructura Organizativa"
          ],
          [
           "Estructura Organizativa"
          ],
          [
           "Estructura Organizativa"
          ],
          [
           "Estructura Organizativa"
          ],
          [
           "Estructura Organizativa"
          ],
          [
           "Estructura Organizativa"
          ],
          [
           "Estructura Organizativa"
          ],
          [
           "Estructura Organizativa"
          ],
          [
           "Estructura Organizativa"
          ],
          [
           "Estructura Organizativa"
          ],
          [
           "Estructura Organizativa"
          ],
          [
           "Estructura Organizativa"
          ],
          [
           "Estructura Organizativa"
          ],
          [
           "Estructura Organizativa"
          ],
          [
           "Estructura Organizativa"
          ],
          [
           "Estructura Organizativa"
          ],
          [
           "Estructura Organizativa"
          ],
          [
           "Estructura Organizativa"
          ],
          [
           "Estructura Organizativa"
          ],
          [
           "Estructura Organizativa"
          ],
          [
           "Estructura Organizativa"
          ],
          [
           "Estructura Organizativa"
          ],
          [
           "Estructura Organizativa"
          ],
          [
           "Estructura Organizativa"
          ],
          [
           "Estructura Organizativa"
          ],
          [
           "Estructura Organizativa"
          ],
          [
           "Estructura Organizativa"
          ],
          [
           "Estructura Organizativa"
          ],
          [
           "Estructura Organizativa"
          ],
          [
           "Estructura Organizativa"
          ],
          [
           "Estructura Organizativa"
          ],
          [
           "Estructura Organizativa"
          ],
          [
           "Estructura Organizativa"
          ],
          [
           "Estructura Organizativa"
          ],
          [
           "Estructura Organizativa"
          ],
          [
           "Estructura Organizativa"
          ],
          [
           "Estructura Organizativa"
          ],
          [
           "Estructura Organizativa"
          ],
          [
           "Estructura Organizativa"
          ],
          [
           "Estructura Organizativa"
          ],
          [
           "Estructura Organizativa"
          ],
          [
           "Estructura Organizativa"
          ],
          [
           "Estructura Organizativa"
          ],
          [
           "Estructura Organizativa"
          ],
          [
           "Estructura Organizativa"
          ],
          [
           "Estructura Organizativa"
          ],
          [
           "Estructura Organizativa"
          ],
          [
           "Estructura Organizativa"
          ],
          [
           "Estructura Organizativa"
          ],
          [
           "Estructura Organizativa"
          ],
          [
           "Estructura Organizativa"
          ],
          [
           "Estructura Organizativa"
          ],
          [
           "Estructura Organizativa"
          ],
          [
           "Estructura Organizativa"
          ],
          [
           "Estructura Organizativa"
          ],
          [
           "Estructura Organizativa"
          ],
          [
           "Estructura Organizativa"
          ],
          [
           "Estructura Organizativa"
          ],
          [
           "Estructura Organizativa"
          ],
          [
           "Estructura Organizativa"
          ],
          [
           "Estructura Organizativa"
          ],
          [
           "Estructura Organizativa"
          ],
          [
           "Estructura Organizativa"
          ],
          [
           "Estructura Organizativa"
          ],
          [
           "Estructura Organizativa"
          ],
          [
           "Estructura Organizativa"
          ],
          [
           "Estructura Organizativa"
          ],
          [
           "Estructura Organizativa"
          ],
          [
           "Estructura Organizativa"
          ],
          [
           "Estructura Organizativa"
          ],
          [
           "Estructura Organizativa"
          ],
          [
           "Estructura Organizativa"
          ],
          [
           "Estructura Organizativa"
          ],
          [
           "Estructura Organizativa"
          ],
          [
           "Estructura Organizativa"
          ],
          [
           "Estructura Organizativa"
          ],
          [
           "Estructura Organizativa"
          ],
          [
           "Estructura Organizativa"
          ],
          [
           "Estructura Organizativa"
          ],
          [
           "Estructura Organizativa"
          ]
         ],
         "hovertemplate": "color=Estructura Organizativa<br>t-SNE Component 1=%{x}<br>t-SNE Component 2=%{y}<br>label=%{customdata[0]}<extra></extra>",
         "legendgroup": "Estructura Organizativa",
         "marker": {
          "color": "#00cc96",
          "symbol": "circle"
         },
         "mode": "markers",
         "name": "Estructura Organizativa",
         "orientation": "v",
         "showlegend": true,
         "type": "scatter",
         "x": [
          -15.157812,
          -12.787438,
          -15.703854,
          -17.677448,
          -14.223852,
          -32.91565,
          -14.686111,
          -13.655875,
          -19.832531,
          -21.566282,
          -18.68272,
          -30.221123,
          -25.26752,
          -28.324762,
          -26.22155,
          -26.406033,
          -30.922369,
          -42.790237,
          -32.629517,
          -29.421852,
          -20.297924,
          -31.890322,
          -30.790947,
          -24.726837,
          -26.667866,
          -24.925352,
          -25.793936,
          -33.304226,
          -27.826002,
          -19.896976,
          -32.524105,
          -27.787357,
          -27.546091,
          -21.654896,
          -18.421165,
          -39.73824,
          -34.51039,
          -37.48527,
          -41.592976,
          -40.759544,
          -33.73486,
          -32.098568,
          -26.654587,
          -20.625278,
          -39.95892,
          -37.64192,
          -41.166798,
          -27.492117,
          -23.27465,
          -37.79852,
          -41.67552,
          -40.366512,
          -38.095085,
          -35.967026,
          -28.267513,
          -38.85644,
          -38.508698,
          -31.145304,
          -21.692286,
          -30.91574,
          -28.605284,
          -34.69193,
          -34.20046,
          -41.46554,
          -22.890602,
          -24.081963,
          -26.161783,
          -30.167604,
          -28.853727,
          -19.433744,
          -42.98541,
          -40.86435,
          -39.535072,
          -17.904026,
          -22.819876,
          -24.939266,
          -34.428604,
          -29.070799,
          -20.122087,
          -22.500557,
          -17.773714,
          -24.298004,
          -17.62349,
          -23.88094,
          -19.502861,
          -25.264605,
          -30.690138,
          -25.455336,
          -24.577797,
          -37.051254,
          -32.738487,
          -36.723534,
          -39.458195,
          -39.447407,
          -36.59738,
          -38.58047,
          -38.518826,
          -32.30622,
          -35.909725,
          -38.450176,
          -36.705616,
          -38.25822,
          -35.373234,
          -31.979685,
          -39.719105,
          -39.399,
          -37.298595,
          -18.397594,
          -29.69487,
          -25.015196,
          -28.59023,
          -37.972713,
          -33.10482,
          -39.79296,
          -37.960896,
          -32.711166,
          -39.934967,
          -38.11762,
          -36.72041,
          -31.633242,
          -37.92268,
          -31.943262,
          -34.186058,
          -36.14003,
          -21.853579,
          -15.308526,
          -18.941526,
          -16.75407,
          -21.16551,
          -17.05841,
          -28.343033,
          -35.75289,
          -31.162489,
          -15.582124,
          -37.95079
         ],
         "xaxis": "x",
         "y": [
          -0.8122231,
          -0.95123607,
          -0.8717483,
          -0.7592697,
          -1.0209525,
          2.9842696,
          -0.8237187,
          -0.93200153,
          -1.6056192,
          0.071980976,
          -0.95171154,
          2.5485234,
          2.6293118,
          1.7847501,
          0.5467892,
          0.25387648,
          2.1528273,
          -1.5292056,
          -0.4638472,
          -0.68214256,
          1.4226235,
          2.057785,
          -0.52181,
          -1.3972834,
          1.3590627,
          -0.6728204,
          -2.6781645,
          0.5484697,
          -1.180723,
          -0.6730017,
          2.195409,
          0.19855182,
          -0.4441239,
          -1.493048,
          -0.41552994,
          -2.6062973,
          -1.8634894,
          -2.715725,
          -1.8915507,
          -3.5510545,
          0.89597684,
          -1.2600127,
          -0.14227779,
          0.6138948,
          -1.6809025,
          0.33103368,
          -3.0337214,
          -1.0213996,
          0.8190684,
          -2.524145,
          -1.2826501,
          -3.3420644,
          0.06728863,
          -0.35285255,
          -0.9239244,
          -3.3275611,
          -3.5398083,
          0.99805677,
          0.6353915,
          0.14932856,
          -2.430447,
          -0.7131942,
          1.040539,
          -0.31886408,
          -0.63812506,
          -1.0854406,
          -1.7806156,
          0.89492494,
          -0.2283932,
          -0.5765153,
          -1.8281232,
          -2.3592398,
          -4.5870814,
          0.06951356,
          0.28730133,
          -0.08615807,
          -3.6168578,
          -1.1404129,
          -0.32710478,
          -0.5051062,
          1.3864235,
          -0.028017912,
          1.3803594,
          -0.22381991,
          0.4573139,
          0.56607705,
          2.9886475,
          2.570698,
          1.8066907,
          -1.6372423,
          -2.7499812,
          -5.253181,
          -1.6671495,
          -2.9216561,
          -4.326284,
          1.6691803,
          -1.8651893,
          -2.6896973,
          -1.5580117,
          -2.6951628,
          -4.3094916,
          1.7163903,
          -1.8385686,
          -2.4516711,
          -0.35485646,
          -3.4124706,
          1.8334155,
          -1.2944211,
          2.4831026,
          2.492298,
          1.8211491,
          -1.6258748,
          -3.3952835,
          -1.1615989,
          -1.8981792,
          -3.2484224,
          -1.8511753,
          1.940819,
          -2.0598705,
          -3.2692547,
          1.9415226,
          -0.3015041,
          -0.5403416,
          -2.429566,
          -0.44683015,
          -1.4045465,
          -0.17892018,
          -1.101847,
          -0.65168065,
          -0.50240034,
          -0.6757017,
          2.687805,
          -0.028722037,
          -0.40459728,
          1.323949
         ],
         "yaxis": "y"
        },
        {
         "customdata": [
          [
           "Riesgos"
          ],
          [
           "Riesgos"
          ],
          [
           "Riesgos"
          ],
          [
           "Riesgos"
          ],
          [
           "Riesgos"
          ],
          [
           "Riesgos"
          ],
          [
           "Riesgos"
          ],
          [
           "Riesgos"
          ],
          [
           "Riesgos"
          ],
          [
           "Riesgos"
          ],
          [
           "Riesgos"
          ],
          [
           "Riesgos"
          ],
          [
           "Riesgos"
          ],
          [
           "Riesgos"
          ],
          [
           "Riesgos"
          ],
          [
           "Riesgos"
          ],
          [
           "Riesgos"
          ],
          [
           "Riesgos"
          ],
          [
           "Riesgos"
          ],
          [
           "Riesgos"
          ],
          [
           "Riesgos"
          ],
          [
           "Riesgos"
          ],
          [
           "Riesgos"
          ],
          [
           "Riesgos"
          ],
          [
           "Riesgos"
          ],
          [
           "Riesgos"
          ],
          [
           "Riesgos"
          ],
          [
           "Riesgos"
          ],
          [
           "Riesgos"
          ],
          [
           "Riesgos"
          ],
          [
           "Riesgos"
          ],
          [
           "Riesgos"
          ],
          [
           "Riesgos"
          ],
          [
           "Riesgos"
          ],
          [
           "Riesgos"
          ],
          [
           "Riesgos"
          ],
          [
           "Riesgos"
          ],
          [
           "Riesgos"
          ],
          [
           "Riesgos"
          ],
          [
           "Riesgos"
          ],
          [
           "Riesgos"
          ]
         ],
         "hovertemplate": "color=Riesgos<br>t-SNE Component 1=%{x}<br>t-SNE Component 2=%{y}<br>label=%{customdata[0]}<extra></extra>",
         "legendgroup": "Riesgos",
         "marker": {
          "color": "#ab63fa",
          "symbol": "circle"
         },
         "mode": "markers",
         "name": "Riesgos",
         "orientation": "v",
         "showlegend": true,
         "type": "scatter",
         "x": [
          7.204116,
          13.419823,
          12.360287,
          5.100365,
          13.536515,
          15.758646,
          8.707934,
          14.761461,
          9.370763,
          0.7355102,
          0.4777597,
          0.2917208,
          14.334941,
          14.136799,
          13.096933,
          15.562455,
          16.142616,
          12.389008,
          15.316681,
          19.411497,
          13.742833,
          10.947796,
          17.098858,
          10.411525,
          11.755322,
          15.4521265,
          11.4886055,
          10.602945,
          11.786514,
          12.00772,
          9.688906,
          4.616904,
          8.177831,
          13.807108,
          6.6995306,
          6.4102054,
          6.014178,
          11.107389,
          11.555628,
          14.2409115,
          14.170689
         ],
         "xaxis": "x",
         "y": [
          10.491813,
          6.4617877,
          -10.225397,
          -3.5715215,
          6.4700823,
          5.6688094,
          2.3263352,
          0.77193785,
          11.2890215,
          -1.7198336,
          -1.3656365,
          -1.0806168,
          -6.304775,
          -6.017889,
          -0.7425038,
          3.1271427,
          1.8822234,
          -4.981507,
          -0.5892093,
          -0.8611514,
          -3.6375425,
          9.623299,
          0.53315556,
          2.1673155,
          1.5919181,
          1.2390244,
          6.3244514,
          -0.059275407,
          11.667677,
          -0.671358,
          1.3783672,
          -2.2105756,
          5.03932,
          3.623546,
          0.17338935,
          0.5457296,
          -1.0230159,
          -8.876216,
          0.6044428,
          -1.435118,
          0.2921219
         ],
         "yaxis": "y"
        },
        {
         "customdata": [
          [
           "Información"
          ],
          [
           "Información"
          ],
          [
           "Información"
          ],
          [
           "Información"
          ],
          [
           "Información"
          ],
          [
           "Información"
          ],
          [
           "Información"
          ],
          [
           "Información"
          ],
          [
           "Información"
          ],
          [
           "Información"
          ],
          [
           "Información"
          ],
          [
           "Información"
          ],
          [
           "Información"
          ],
          [
           "Información"
          ],
          [
           "Información"
          ],
          [
           "Información"
          ]
         ],
         "hovertemplate": "color=Información<br>t-SNE Component 1=%{x}<br>t-SNE Component 2=%{y}<br>label=%{customdata[0]}<extra></extra>",
         "legendgroup": "Información",
         "marker": {
          "color": "#FFA15A",
          "symbol": "circle"
         },
         "mode": "markers",
         "name": "Información",
         "orientation": "v",
         "showlegend": true,
         "type": "scatter",
         "x": [
          9.314034,
          12.065034,
          11.403395,
          10.272546,
          12.886999,
          14.686753,
          7.3882203,
          11.820512,
          12.250609,
          19.039228,
          10.472009,
          3.2476318,
          1.9397783,
          13.985229,
          1.5463393,
          16.299215
         ],
         "xaxis": "x",
         "y": [
          4.8863854,
          -0.28374648,
          1.6120247,
          3.579588,
          9.273002,
          -0.50894916,
          -7.938173,
          -8.32577,
          -8.207825,
          5.9195766,
          2.7172067,
          -3.0595014,
          -6.00559,
          -0.33055127,
          6.076055,
          3.215883
         ],
         "yaxis": "y"
        },
        {
         "customdata": [
          [
           "Emergencia"
          ],
          [
           "Emergencia"
          ],
          [
           "Emergencia"
          ],
          [
           "Emergencia"
          ],
          [
           "Emergencia"
          ],
          [
           "Emergencia"
          ],
          [
           "Emergencia"
          ],
          [
           "Emergencia"
          ],
          [
           "Emergencia"
          ],
          [
           "Emergencia"
          ],
          [
           "Emergencia"
          ],
          [
           "Emergencia"
          ],
          [
           "Emergencia"
          ],
          [
           "Emergencia"
          ],
          [
           "Emergencia"
          ],
          [
           "Emergencia"
          ],
          [
           "Emergencia"
          ],
          [
           "Emergencia"
          ],
          [
           "Emergencia"
          ],
          [
           "Emergencia"
          ],
          [
           "Emergencia"
          ],
          [
           "Emergencia"
          ],
          [
           "Emergencia"
          ],
          [
           "Emergencia"
          ],
          [
           "Emergencia"
          ],
          [
           "Emergencia"
          ],
          [
           "Emergencia"
          ],
          [
           "Emergencia"
          ],
          [
           "Emergencia"
          ],
          [
           "Emergencia"
          ],
          [
           "Emergencia"
          ],
          [
           "Emergencia"
          ],
          [
           "Emergencia"
          ],
          [
           "Emergencia"
          ],
          [
           "Emergencia"
          ],
          [
           "Emergencia"
          ],
          [
           "Emergencia"
          ],
          [
           "Emergencia"
          ],
          [
           "Emergencia"
          ],
          [
           "Emergencia"
          ],
          [
           "Emergencia"
          ],
          [
           "Emergencia"
          ],
          [
           "Emergencia"
          ],
          [
           "Emergencia"
          ],
          [
           "Emergencia"
          ],
          [
           "Emergencia"
          ],
          [
           "Emergencia"
          ],
          [
           "Emergencia"
          ],
          [
           "Emergencia"
          ],
          [
           "Emergencia"
          ],
          [
           "Emergencia"
          ],
          [
           "Emergencia"
          ],
          [
           "Emergencia"
          ],
          [
           "Emergencia"
          ],
          [
           "Emergencia"
          ],
          [
           "Emergencia"
          ],
          [
           "Emergencia"
          ],
          [
           "Emergencia"
          ],
          [
           "Emergencia"
          ],
          [
           "Emergencia"
          ],
          [
           "Emergencia"
          ],
          [
           "Emergencia"
          ],
          [
           "Emergencia"
          ],
          [
           "Emergencia"
          ]
         ],
         "hovertemplate": "color=Emergencia<br>t-SNE Component 1=%{x}<br>t-SNE Component 2=%{y}<br>label=%{customdata[0]}<extra></extra>",
         "legendgroup": "Emergencia",
         "marker": {
          "color": "#19d3f3",
          "symbol": "circle"
         },
         "mode": "markers",
         "name": "Emergencia",
         "orientation": "v",
         "showlegend": true,
         "type": "scatter",
         "x": [
          12.084903,
          15.964982,
          16.333961,
          20.694632,
          12.185034,
          12.38582,
          12.049783,
          14.181392,
          12.741858,
          12.083422,
          13.360956,
          14.252631,
          15.550696,
          17.49673,
          17.586487,
          3.8176336,
          3.6558053,
          7.4149046,
          5.7393513,
          5.2886634,
          4.6836023,
          11.426752,
          8.507753,
          6.720151,
          7.888007,
          13.509729,
          6.7600574,
          6.5931134,
          18.480204,
          9.483114,
          7.5723724,
          18.459904,
          14.620431,
          10.372632,
          10.575795,
          7.7149606,
          8.627473,
          11.148736,
          18.813356,
          20.658442,
          20.000116,
          19.689648,
          16.509386,
          14.147844,
          2.8230922,
          4.2884912,
          9.568287,
          11.426537,
          13.367412,
          9.87022,
          9.887944,
          10.545397,
          7.5354214,
          4.551692,
          19.498255,
          17.243397,
          16.564394,
          8.572782,
          8.812356,
          13.360381,
          8.365904,
          7.6835585,
          9.127377,
          8.263539
         ],
         "xaxis": "x",
         "y": [
          7.16589,
          7.3114333,
          7.507787,
          -0.4486639,
          3.7228532,
          5.245194,
          4.9562798,
          5.980506,
          5.49936,
          5.922885,
          7.8843656,
          -8.790657,
          -2.4682713,
          -4.5925455,
          -4.6276383,
          2.8045433,
          3.3218224,
          -3.917299,
          2.144046,
          2.5015535,
          0.263569,
          3.5348775,
          -3.29634,
          -5.9905014,
          3.6813903,
          4.3048463,
          5.920463,
          6.224842,
          -10.648535,
          -3.2383385,
          -0.26080894,
          -10.655976,
          5.488167,
          -1.1977628,
          -1.4249494,
          -2.214432,
          -3.4170125,
          -4.880985,
          3.1838784,
          1.125367,
          0.23147103,
          0.6117022,
          0.33981338,
          -2.660221,
          2.251062,
          -4.921148,
          -5.07475,
          -6.3479905,
          2.0510106,
          -5.054549,
          -6.1017413,
          -2.62554,
          -4.761045,
          0.36449397,
          0.10256258,
          -0.9887221,
          -1.3076475,
          -2.0554829,
          8.890888,
          1.995028,
          -4.615077,
          -5.995637,
          6.231123,
          -4.7000036
         ],
         "yaxis": "y"
        },
        {
         "customdata": [
          [
           "Question: ¿Cómo se diferencia la ubicación física de la operativa?<br>Closest Model: Emergencia<br>Similarity: 0.24<br>Chunk: el resultado de la participación eficiente de todos los grupos y trabajadores  implicados, así como ..."
          ],
          [
           "Question: ¿Qué información se incluye en el informe de la evaluación de riesgos que ofrece la plataforma y cuál es su utilidad para la gestión de riesgos en la empresa?<br>Closest Model: Emergencia<br>Similarity: 0.41<br>Chunk: El usuario accede a la pestaña “Generar documentos” y visualiza el listado de informes  generados en..."
          ],
          [
           "Question: ¿Hay indicadores relativos al cumplimiento de normas?<br>Closest Model: Auditorias<br>Similarity: 0.26<br>Chunk: El usuario accede al cardboard “Diagnósticos ISO” y visualiza una pantalla con el conjunto de  están..."
          ],
          [
           "Question: ¿Qué papel juega la estructura organizativa en la funcionalidad general de la plataforma y cómo interactúa con otros módulos?<br>Closest Model: Información<br>Similarity: 0.42<br>Chunk: 6  •  Ausentismo: Se visualizan todos los archivos añadidos en la pestaña “Documentación”  de los di..."
          ],
          [
           "Question: ¿Qué permite realizar la evaluación de riesgos?<br>Closest Model: Emergencia<br>Similarity: 0.65<br>Chunk: 19  Al clicar a la acción Evaluar del listado, el usuario es redirigido al formulario de evaluación ..."
          ],
          [
           "Question: ¿Qué tipo de documentos se pueden almacenar y compartir en el espacio denominado 'Documentos' y cuál es su importancia dentro del contexto de la gestión empresarial en la plataforma?<br>Closest Model: Emergencia<br>Similarity: 0.36<br>Chunk: el cuestionario de la evaluación se  muestra como no editable y se habilitan las pestañas Actividade..."
          ],
          [
           "Question: ¿Se pueden llevar a cabo auditorías internas?<br>Closest Model: Estructura Organizativa<br>Similarity: 0.48<br>Chunk: 3. HOME ESTRUCTURA ORGANIZATIVA  El usuario puede acceder al módulo Estructura Organizativa (EO), de..."
          ],
          [
           "Question: ¿Cuál es la tasa de adopción de esta plataforma en el mercado?<br>Closest Model: Información<br>Similarity: 0.42<br>Chunk: 6  •  Ausentismo: Se visualizan todos los archivos añadidos en la pestaña “Documentación”  de los di..."
          ],
          [
           "Question: ¿Cómo se compara esta plataforma con otras soluciones de gestión de SST?<br>Closest Model: Emergencia<br>Similarity: 0.43<br>Chunk: Sabentis es la nueva plataforma de gestión especializada en el ámbito de Seguridad y Salud en  el Tr..."
          ],
          [
           "Question: ¿Qué día hará mañana?<br>Closest Model: Emergencia<br>Similarity: 0.19<br>Chunk: de tener  una evaluación realizada ésta se perderá.  •  Evaluar: Permite acceder al cuestionario de ..."
          ]
         ],
         "hovertemplate": "color=Question<br>t-SNE Component 1=%{x}<br>t-SNE Component 2=%{y}<br>label=%{customdata[0]}<extra></extra>",
         "legendgroup": "Question",
         "marker": {
          "color": "#FF6692",
          "symbol": "circle"
         },
         "mode": "markers",
         "name": "Question",
         "orientation": "v",
         "showlegend": true,
         "type": "scatter",
         "x": [
          13.640522,
          14.36392,
          14.263005,
          19.358034,
          21.253466,
          16.362356,
          0.64853656,
          19.358034,
          16.953358,
          20.848024
         ],
         "xaxis": "x",
         "y": [
          9.106344,
          2.5492036,
          12.839464,
          10.483388,
          0.6973946,
          9.37058,
          2.8185935,
          10.483388,
          9.347755,
          4.683513
         ],
         "yaxis": "y"
        }
       ],
       "layout": {
        "annotations": [
         {
          "arrowhead": 2,
          "showarrow": true,
          "text": "Q1",
          "x": 13.640522003173828,
          "y": 9.106344223022461
         },
         {
          "arrowhead": 2,
          "showarrow": true,
          "text": "Q2",
          "x": 14.363920211791992,
          "y": 2.549203634262085
         },
         {
          "arrowhead": 2,
          "showarrow": true,
          "text": "Q3",
          "x": 14.263005256652832,
          "y": 12.83946418762207
         },
         {
          "arrowhead": 2,
          "showarrow": true,
          "text": "Q4",
          "x": 19.358034133911133,
          "y": 10.48338794708252
         },
         {
          "arrowhead": 2,
          "showarrow": true,
          "text": "Q5",
          "x": 21.25346565246582,
          "y": 0.697394609451294
         },
         {
          "arrowhead": 2,
          "showarrow": true,
          "text": "Q6",
          "x": 16.362356185913086,
          "y": 9.370579719543457
         },
         {
          "arrowhead": 2,
          "showarrow": true,
          "text": "Q7",
          "x": 0.6485365629196167,
          "y": 2.8185935020446777
         },
         {
          "arrowhead": 2,
          "showarrow": true,
          "text": "Q8",
          "x": 19.358034133911133,
          "y": 10.48338794708252
         },
         {
          "arrowhead": 2,
          "showarrow": true,
          "text": "Q9",
          "x": 16.953357696533203,
          "y": 9.347755432128906
         },
         {
          "arrowhead": 2,
          "showarrow": true,
          "text": "Q10",
          "x": 20.848024368286133,
          "y": 4.683513164520264
         }
        ],
        "legend": {
         "title": {
          "text": "color"
         },
         "tracegroupgap": 0
        },
        "template": {
         "data": {
          "bar": [
           {
            "error_x": {
             "color": "#2a3f5f"
            },
            "error_y": {
             "color": "#2a3f5f"
            },
            "marker": {
             "line": {
              "color": "#E5ECF6",
              "width": 0.5
             },
             "pattern": {
              "fillmode": "overlay",
              "size": 10,
              "solidity": 0.2
             }
            },
            "type": "bar"
           }
          ],
          "barpolar": [
           {
            "marker": {
             "line": {
              "color": "#E5ECF6",
              "width": 0.5
             },
             "pattern": {
              "fillmode": "overlay",
              "size": 10,
              "solidity": 0.2
             }
            },
            "type": "barpolar"
           }
          ],
          "carpet": [
           {
            "aaxis": {
             "endlinecolor": "#2a3f5f",
             "gridcolor": "white",
             "linecolor": "white",
             "minorgridcolor": "white",
             "startlinecolor": "#2a3f5f"
            },
            "baxis": {
             "endlinecolor": "#2a3f5f",
             "gridcolor": "white",
             "linecolor": "white",
             "minorgridcolor": "white",
             "startlinecolor": "#2a3f5f"
            },
            "type": "carpet"
           }
          ],
          "choropleth": [
           {
            "colorbar": {
             "outlinewidth": 0,
             "ticks": ""
            },
            "type": "choropleth"
           }
          ],
          "contour": [
           {
            "colorbar": {
             "outlinewidth": 0,
             "ticks": ""
            },
            "colorscale": [
             [
              0,
              "#0d0887"
             ],
             [
              0.1111111111111111,
              "#46039f"
             ],
             [
              0.2222222222222222,
              "#7201a8"
             ],
             [
              0.3333333333333333,
              "#9c179e"
             ],
             [
              0.4444444444444444,
              "#bd3786"
             ],
             [
              0.5555555555555556,
              "#d8576b"
             ],
             [
              0.6666666666666666,
              "#ed7953"
             ],
             [
              0.7777777777777778,
              "#fb9f3a"
             ],
             [
              0.8888888888888888,
              "#fdca26"
             ],
             [
              1,
              "#f0f921"
             ]
            ],
            "type": "contour"
           }
          ],
          "contourcarpet": [
           {
            "colorbar": {
             "outlinewidth": 0,
             "ticks": ""
            },
            "type": "contourcarpet"
           }
          ],
          "heatmap": [
           {
            "colorbar": {
             "outlinewidth": 0,
             "ticks": ""
            },
            "colorscale": [
             [
              0,
              "#0d0887"
             ],
             [
              0.1111111111111111,
              "#46039f"
             ],
             [
              0.2222222222222222,
              "#7201a8"
             ],
             [
              0.3333333333333333,
              "#9c179e"
             ],
             [
              0.4444444444444444,
              "#bd3786"
             ],
             [
              0.5555555555555556,
              "#d8576b"
             ],
             [
              0.6666666666666666,
              "#ed7953"
             ],
             [
              0.7777777777777778,
              "#fb9f3a"
             ],
             [
              0.8888888888888888,
              "#fdca26"
             ],
             [
              1,
              "#f0f921"
             ]
            ],
            "type": "heatmap"
           }
          ],
          "heatmapgl": [
           {
            "colorbar": {
             "outlinewidth": 0,
             "ticks": ""
            },
            "colorscale": [
             [
              0,
              "#0d0887"
             ],
             [
              0.1111111111111111,
              "#46039f"
             ],
             [
              0.2222222222222222,
              "#7201a8"
             ],
             [
              0.3333333333333333,
              "#9c179e"
             ],
             [
              0.4444444444444444,
              "#bd3786"
             ],
             [
              0.5555555555555556,
              "#d8576b"
             ],
             [
              0.6666666666666666,
              "#ed7953"
             ],
             [
              0.7777777777777778,
              "#fb9f3a"
             ],
             [
              0.8888888888888888,
              "#fdca26"
             ],
             [
              1,
              "#f0f921"
             ]
            ],
            "type": "heatmapgl"
           }
          ],
          "histogram": [
           {
            "marker": {
             "pattern": {
              "fillmode": "overlay",
              "size": 10,
              "solidity": 0.2
             }
            },
            "type": "histogram"
           }
          ],
          "histogram2d": [
           {
            "colorbar": {
             "outlinewidth": 0,
             "ticks": ""
            },
            "colorscale": [
             [
              0,
              "#0d0887"
             ],
             [
              0.1111111111111111,
              "#46039f"
             ],
             [
              0.2222222222222222,
              "#7201a8"
             ],
             [
              0.3333333333333333,
              "#9c179e"
             ],
             [
              0.4444444444444444,
              "#bd3786"
             ],
             [
              0.5555555555555556,
              "#d8576b"
             ],
             [
              0.6666666666666666,
              "#ed7953"
             ],
             [
              0.7777777777777778,
              "#fb9f3a"
             ],
             [
              0.8888888888888888,
              "#fdca26"
             ],
             [
              1,
              "#f0f921"
             ]
            ],
            "type": "histogram2d"
           }
          ],
          "histogram2dcontour": [
           {
            "colorbar": {
             "outlinewidth": 0,
             "ticks": ""
            },
            "colorscale": [
             [
              0,
              "#0d0887"
             ],
             [
              0.1111111111111111,
              "#46039f"
             ],
             [
              0.2222222222222222,
              "#7201a8"
             ],
             [
              0.3333333333333333,
              "#9c179e"
             ],
             [
              0.4444444444444444,
              "#bd3786"
             ],
             [
              0.5555555555555556,
              "#d8576b"
             ],
             [
              0.6666666666666666,
              "#ed7953"
             ],
             [
              0.7777777777777778,
              "#fb9f3a"
             ],
             [
              0.8888888888888888,
              "#fdca26"
             ],
             [
              1,
              "#f0f921"
             ]
            ],
            "type": "histogram2dcontour"
           }
          ],
          "mesh3d": [
           {
            "colorbar": {
             "outlinewidth": 0,
             "ticks": ""
            },
            "type": "mesh3d"
           }
          ],
          "parcoords": [
           {
            "line": {
             "colorbar": {
              "outlinewidth": 0,
              "ticks": ""
             }
            },
            "type": "parcoords"
           }
          ],
          "pie": [
           {
            "automargin": true,
            "type": "pie"
           }
          ],
          "scatter": [
           {
            "fillpattern": {
             "fillmode": "overlay",
             "size": 10,
             "solidity": 0.2
            },
            "type": "scatter"
           }
          ],
          "scatter3d": [
           {
            "line": {
             "colorbar": {
              "outlinewidth": 0,
              "ticks": ""
             }
            },
            "marker": {
             "colorbar": {
              "outlinewidth": 0,
              "ticks": ""
             }
            },
            "type": "scatter3d"
           }
          ],
          "scattercarpet": [
           {
            "marker": {
             "colorbar": {
              "outlinewidth": 0,
              "ticks": ""
             }
            },
            "type": "scattercarpet"
           }
          ],
          "scattergeo": [
           {
            "marker": {
             "colorbar": {
              "outlinewidth": 0,
              "ticks": ""
             }
            },
            "type": "scattergeo"
           }
          ],
          "scattergl": [
           {
            "marker": {
             "colorbar": {
              "outlinewidth": 0,
              "ticks": ""
             }
            },
            "type": "scattergl"
           }
          ],
          "scattermapbox": [
           {
            "marker": {
             "colorbar": {
              "outlinewidth": 0,
              "ticks": ""
             }
            },
            "type": "scattermapbox"
           }
          ],
          "scatterpolar": [
           {
            "marker": {
             "colorbar": {
              "outlinewidth": 0,
              "ticks": ""
             }
            },
            "type": "scatterpolar"
           }
          ],
          "scatterpolargl": [
           {
            "marker": {
             "colorbar": {
              "outlinewidth": 0,
              "ticks": ""
             }
            },
            "type": "scatterpolargl"
           }
          ],
          "scatterternary": [
           {
            "marker": {
             "colorbar": {
              "outlinewidth": 0,
              "ticks": ""
             }
            },
            "type": "scatterternary"
           }
          ],
          "surface": [
           {
            "colorbar": {
             "outlinewidth": 0,
             "ticks": ""
            },
            "colorscale": [
             [
              0,
              "#0d0887"
             ],
             [
              0.1111111111111111,
              "#46039f"
             ],
             [
              0.2222222222222222,
              "#7201a8"
             ],
             [
              0.3333333333333333,
              "#9c179e"
             ],
             [
              0.4444444444444444,
              "#bd3786"
             ],
             [
              0.5555555555555556,
              "#d8576b"
             ],
             [
              0.6666666666666666,
              "#ed7953"
             ],
             [
              0.7777777777777778,
              "#fb9f3a"
             ],
             [
              0.8888888888888888,
              "#fdca26"
             ],
             [
              1,
              "#f0f921"
             ]
            ],
            "type": "surface"
           }
          ],
          "table": [
           {
            "cells": {
             "fill": {
              "color": "#EBF0F8"
             },
             "line": {
              "color": "white"
             }
            },
            "header": {
             "fill": {
              "color": "#C8D4E3"
             },
             "line": {
              "color": "white"
             }
            },
            "type": "table"
           }
          ]
         },
         "layout": {
          "annotationdefaults": {
           "arrowcolor": "#2a3f5f",
           "arrowhead": 0,
           "arrowwidth": 1
          },
          "autotypenumbers": "strict",
          "coloraxis": {
           "colorbar": {
            "outlinewidth": 0,
            "ticks": ""
           }
          },
          "colorscale": {
           "diverging": [
            [
             0,
             "#8e0152"
            ],
            [
             0.1,
             "#c51b7d"
            ],
            [
             0.2,
             "#de77ae"
            ],
            [
             0.3,
             "#f1b6da"
            ],
            [
             0.4,
             "#fde0ef"
            ],
            [
             0.5,
             "#f7f7f7"
            ],
            [
             0.6,
             "#e6f5d0"
            ],
            [
             0.7,
             "#b8e186"
            ],
            [
             0.8,
             "#7fbc41"
            ],
            [
             0.9,
             "#4d9221"
            ],
            [
             1,
             "#276419"
            ]
           ],
           "sequential": [
            [
             0,
             "#0d0887"
            ],
            [
             0.1111111111111111,
             "#46039f"
            ],
            [
             0.2222222222222222,
             "#7201a8"
            ],
            [
             0.3333333333333333,
             "#9c179e"
            ],
            [
             0.4444444444444444,
             "#bd3786"
            ],
            [
             0.5555555555555556,
             "#d8576b"
            ],
            [
             0.6666666666666666,
             "#ed7953"
            ],
            [
             0.7777777777777778,
             "#fb9f3a"
            ],
            [
             0.8888888888888888,
             "#fdca26"
            ],
            [
             1,
             "#f0f921"
            ]
           ],
           "sequentialminus": [
            [
             0,
             "#0d0887"
            ],
            [
             0.1111111111111111,
             "#46039f"
            ],
            [
             0.2222222222222222,
             "#7201a8"
            ],
            [
             0.3333333333333333,
             "#9c179e"
            ],
            [
             0.4444444444444444,
             "#bd3786"
            ],
            [
             0.5555555555555556,
             "#d8576b"
            ],
            [
             0.6666666666666666,
             "#ed7953"
            ],
            [
             0.7777777777777778,
             "#fb9f3a"
            ],
            [
             0.8888888888888888,
             "#fdca26"
            ],
            [
             1,
             "#f0f921"
            ]
           ]
          },
          "colorway": [
           "#636efa",
           "#EF553B",
           "#00cc96",
           "#ab63fa",
           "#FFA15A",
           "#19d3f3",
           "#FF6692",
           "#B6E880",
           "#FF97FF",
           "#FECB52"
          ],
          "font": {
           "color": "#2a3f5f"
          },
          "geo": {
           "bgcolor": "white",
           "lakecolor": "white",
           "landcolor": "#E5ECF6",
           "showlakes": true,
           "showland": true,
           "subunitcolor": "white"
          },
          "hoverlabel": {
           "align": "left"
          },
          "hovermode": "closest",
          "mapbox": {
           "style": "light"
          },
          "paper_bgcolor": "white",
          "plot_bgcolor": "#E5ECF6",
          "polar": {
           "angularaxis": {
            "gridcolor": "white",
            "linecolor": "white",
            "ticks": ""
           },
           "bgcolor": "#E5ECF6",
           "radialaxis": {
            "gridcolor": "white",
            "linecolor": "white",
            "ticks": ""
           }
          },
          "scene": {
           "xaxis": {
            "backgroundcolor": "#E5ECF6",
            "gridcolor": "white",
            "gridwidth": 2,
            "linecolor": "white",
            "showbackground": true,
            "ticks": "",
            "zerolinecolor": "white"
           },
           "yaxis": {
            "backgroundcolor": "#E5ECF6",
            "gridcolor": "white",
            "gridwidth": 2,
            "linecolor": "white",
            "showbackground": true,
            "ticks": "",
            "zerolinecolor": "white"
           },
           "zaxis": {
            "backgroundcolor": "#E5ECF6",
            "gridcolor": "white",
            "gridwidth": 2,
            "linecolor": "white",
            "showbackground": true,
            "ticks": "",
            "zerolinecolor": "white"
           }
          },
          "shapedefaults": {
           "line": {
            "color": "#2a3f5f"
           }
          },
          "ternary": {
           "aaxis": {
            "gridcolor": "white",
            "linecolor": "white",
            "ticks": ""
           },
           "baxis": {
            "gridcolor": "white",
            "linecolor": "white",
            "ticks": ""
           },
           "bgcolor": "#E5ECF6",
           "caxis": {
            "gridcolor": "white",
            "linecolor": "white",
            "ticks": ""
           }
          },
          "title": {
           "x": 0.05
          },
          "xaxis": {
           "automargin": true,
           "gridcolor": "white",
           "linecolor": "white",
           "ticks": "",
           "title": {
            "standoff": 15
           },
           "zerolinecolor": "white",
           "zerolinewidth": 2
          },
          "yaxis": {
           "automargin": true,
           "gridcolor": "white",
           "linecolor": "white",
           "ticks": "",
           "title": {
            "standoff": 15
           },
           "zerolinecolor": "white",
           "zerolinewidth": 2
          }
         }
        },
        "title": {
         "text": "Embeddings Visualization with 2D t-SNE"
        },
        "xaxis": {
         "anchor": "y",
         "domain": [
          0,
          1
         ],
         "title": {
          "text": "t-SNE Component 1"
         }
        },
        "yaxis": {
         "anchor": "x",
         "domain": [
          0,
          1
         ],
         "title": {
          "text": "t-SNE Component 2"
         }
        }
       }
      }
     },
     "metadata": {},
     "output_type": "display_data"
    },
    {
     "data": {
      "application/vnd.plotly.v1+json": {
       "config": {
        "plotlyServerURL": "https://plot.ly"
       },
       "data": [
        {
         "customdata": [
          [
           "Auditorias"
          ],
          [
           "Auditorias"
          ],
          [
           "Auditorias"
          ],
          [
           "Auditorias"
          ],
          [
           "Auditorias"
          ],
          [
           "Auditorias"
          ],
          [
           "Auditorias"
          ],
          [
           "Auditorias"
          ],
          [
           "Auditorias"
          ],
          [
           "Auditorias"
          ],
          [
           "Auditorias"
          ],
          [
           "Auditorias"
          ],
          [
           "Auditorias"
          ],
          [
           "Auditorias"
          ],
          [
           "Auditorias"
          ],
          [
           "Auditorias"
          ],
          [
           "Auditorias"
          ],
          [
           "Auditorias"
          ],
          [
           "Auditorias"
          ],
          [
           "Auditorias"
          ],
          [
           "Auditorias"
          ],
          [
           "Auditorias"
          ],
          [
           "Auditorias"
          ],
          [
           "Auditorias"
          ],
          [
           "Auditorias"
          ],
          [
           "Auditorias"
          ],
          [
           "Auditorias"
          ],
          [
           "Auditorias"
          ],
          [
           "Auditorias"
          ],
          [
           "Auditorias"
          ],
          [
           "Auditorias"
          ],
          [
           "Auditorias"
          ],
          [
           "Auditorias"
          ],
          [
           "Auditorias"
          ],
          [
           "Auditorias"
          ],
          [
           "Auditorias"
          ],
          [
           "Auditorias"
          ],
          [
           "Auditorias"
          ],
          [
           "Auditorias"
          ],
          [
           "Auditorias"
          ],
          [
           "Auditorias"
          ],
          [
           "Auditorias"
          ],
          [
           "Auditorias"
          ],
          [
           "Auditorias"
          ],
          [
           "Auditorias"
          ],
          [
           "Auditorias"
          ],
          [
           "Auditorias"
          ],
          [
           "Auditorias"
          ]
         ],
         "hovertemplate": "color=Auditorias<br>PCA Component 1=%{x}<br>PCA Component 2=%{y}<br>PCA Component 3=%{z}<br>label=%{customdata[0]}<extra></extra>",
         "legendgroup": "Auditorias",
         "marker": {
          "color": "#636efa",
          "symbol": "circle"
         },
         "mode": "markers",
         "name": "Auditorias",
         "scene": "scene",
         "showlegend": true,
         "type": "scatter3d",
         "x": [
          -0.0547716,
          -0.04964816,
          -0.051949266,
          -0.04881914,
          -0.049655173,
          -0.052636534,
          -0.049499284,
          -0.047092296,
          -0.046255864,
          -0.044263247,
          -0.03863561,
          -0.045781326,
          -0.047976255,
          -0.045675587,
          -0.047037367,
          -0.0450655,
          -0.044987466,
          -0.04611802,
          -0.048125908,
          -0.04704077,
          -0.045642752,
          -0.0458734,
          -0.045887087,
          -0.04671939,
          -0.043982852,
          -0.05173963,
          -0.047826417,
          -0.04414365,
          -0.045874,
          -0.046750177,
          -0.046512034,
          -0.04426325,
          -0.045955118,
          -0.04825353,
          -0.045705866,
          -0.047037367,
          -0.044630934,
          -0.044879053,
          -0.046589382,
          -0.047665913,
          -0.0472822,
          -0.04627089,
          -0.045975026,
          -0.045579918,
          -0.04661731,
          -0.04848508,
          -0.05103596,
          -0.04597903
         ],
         "y": [
          -0.0026212528,
          -0.00055914215,
          0.0011252143,
          -0.00052340934,
          -0.000057481502,
          0.0008058052,
          -0.0009302783,
          -0.000095026044,
          0.001920101,
          0.00021613389,
          0.00039626466,
          -0.0010962024,
          -0.0012382491,
          0.0006321442,
          -0.0014061467,
          -0.0031305896,
          -0.00035991424,
          0.000119592296,
          0.0002717043,
          -0.0013331161,
          -0.0054040193,
          -0.00060554506,
          0.0016203675,
          0.0020671955,
          -0.0011810382,
          -0.0019237543,
          -0.0013195341,
          -0.0017234965,
          -0.0023526615,
          -0.00051640725,
          0.0012855841,
          0.00021613805,
          -0.00084161013,
          -0.0012502327,
          0.0006511283,
          -0.001406147,
          -0.003185724,
          -0.00031843554,
          -0.000002844942,
          0.00010831337,
          -0.0023437908,
          -0.0040351683,
          -0.00055899663,
          0.0011707734,
          0.0010228781,
          -0.0009858364,
          0.0013663798,
          -0.003700745
         ],
         "z": [
          0.0020991943,
          0.0007957462,
          0.0040808897,
          0.00052599836,
          0.0035700088,
          0.00055448577,
          -0.00018360476,
          -0.0006375099,
          0.005098813,
          -0.0012076935,
          -0.012973509,
          -0.001379981,
          -0.000072879644,
          -0.002582807,
          0.0006196816,
          -0.002257064,
          -0.0029755828,
          0.001704626,
          0.00399501,
          0.001509638,
          0.00021363137,
          -0.0031089922,
          0.000588414,
          -0.003970282,
          0.002205394,
          0.0010957747,
          0.004649218,
          -0.0005526959,
          0.007575134,
          0.00028710588,
          0.0026204193,
          -0.0012076938,
          -0.0016164298,
          0.00014835781,
          -0.0022399758,
          0.00061968155,
          -0.002160434,
          -0.0033919574,
          0.0017832025,
          0.003583252,
          0.0018741434,
          -0.00034910176,
          -0.0032619946,
          0.00055044785,
          0.00047925816,
          -0.000867597,
          -0.0013982148,
          0.001209252
         ]
        },
        {
         "customdata": [
          [
           "Ausentismo"
          ],
          [
           "Ausentismo"
          ],
          [
           "Ausentismo"
          ],
          [
           "Ausentismo"
          ],
          [
           "Ausentismo"
          ],
          [
           "Ausentismo"
          ],
          [
           "Ausentismo"
          ],
          [
           "Ausentismo"
          ],
          [
           "Ausentismo"
          ],
          [
           "Ausentismo"
          ],
          [
           "Ausentismo"
          ],
          [
           "Ausentismo"
          ],
          [
           "Ausentismo"
          ],
          [
           "Ausentismo"
          ],
          [
           "Ausentismo"
          ],
          [
           "Ausentismo"
          ],
          [
           "Ausentismo"
          ],
          [
           "Ausentismo"
          ],
          [
           "Ausentismo"
          ],
          [
           "Ausentismo"
          ],
          [
           "Ausentismo"
          ],
          [
           "Ausentismo"
          ],
          [
           "Ausentismo"
          ],
          [
           "Ausentismo"
          ],
          [
           "Ausentismo"
          ],
          [
           "Ausentismo"
          ],
          [
           "Ausentismo"
          ],
          [
           "Ausentismo"
          ],
          [
           "Ausentismo"
          ],
          [
           "Ausentismo"
          ],
          [
           "Ausentismo"
          ],
          [
           "Ausentismo"
          ],
          [
           "Ausentismo"
          ]
         ],
         "hovertemplate": "color=Ausentismo<br>PCA Component 1=%{x}<br>PCA Component 2=%{y}<br>PCA Component 3=%{z}<br>label=%{customdata[0]}<extra></extra>",
         "legendgroup": "Ausentismo",
         "marker": {
          "color": "#EF553B",
          "symbol": "circle"
         },
         "mode": "markers",
         "name": "Ausentismo",
         "scene": "scene",
         "showlegend": true,
         "type": "scatter3d",
         "x": [
          -0.0508582,
          -0.048494082,
          -0.050307795,
          -0.048333403,
          -0.04701845,
          -0.044036657,
          -0.041433178,
          -0.044295084,
          -0.046502393,
          -0.041773386,
          -0.046141896,
          -0.045811232,
          -0.04632762,
          -0.044875428,
          -0.047954887,
          -0.045777444,
          -0.041791007,
          -0.048246305,
          -0.04532988,
          -0.04569606,
          -0.04677886,
          -0.042621646,
          -0.04797041,
          -0.04520341,
          -0.047394194,
          -0.046140734,
          -0.04407295,
          -0.04997488,
          -0.045095436,
          -0.045325033,
          -0.048274435,
          -0.046456184,
          -0.044379096
         ],
         "y": [
          0.00073440553,
          0.0005962001,
          0.00030714227,
          -0.0006833086,
          0.0016142455,
          -0.0003952021,
          -0.0046281717,
          0.0031250473,
          -0.0005652937,
          -0.003039759,
          0.0012168993,
          -0.00097138924,
          -0.0019802286,
          -0.0011439286,
          0.0005606774,
          -0.0007414657,
          -0.00437231,
          0.0009553314,
          -0.0022311176,
          -0.0016644101,
          -0.0025206327,
          -0.00033495223,
          -0.00046376625,
          -0.0011447236,
          -0.0017327912,
          0.000972449,
          -0.0014457766,
          -0.0009657131,
          -0.0006602915,
          -0.0014517176,
          -0.0014723177,
          -0.0006086619,
          -0.0010502561
         ],
         "z": [
          -0.0013534942,
          -0.000021674023,
          -0.0014755517,
          -0.000032713717,
          -0.005246156,
          -0.0024332833,
          -0.0041737896,
          0.0026753393,
          0.0022001187,
          -0.004379705,
          0.0031927722,
          0.00024939553,
          -0.0011237606,
          -0.00037803972,
          -0.0013085258,
          -0.002264244,
          -0.008523231,
          0.002833637,
          0.0007633345,
          -0.0011922778,
          -0.0012513992,
          -0.0008546439,
          -0.0030398844,
          -0.0044451007,
          -0.0016375248,
          0.0034465173,
          -0.00070656545,
          -0.0051393067,
          -0.0014663741,
          -0.0016747342,
          0.0013626635,
          -0.0002613681,
          -0.0010151312
         ]
        },
        {
         "customdata": [
          [
           "Estructura Organizativa"
          ],
          [
           "Estructura Organizativa"
          ],
          [
           "Estructura Organizativa"
          ],
          [
           "Estructura Organizativa"
          ],
          [
           "Estructura Organizativa"
          ],
          [
           "Estructura Organizativa"
          ],
          [
           "Estructura Organizativa"
          ],
          [
           "Estructura Organizativa"
          ],
          [
           "Estructura Organizativa"
          ],
          [
           "Estructura Organizativa"
          ],
          [
           "Estructura Organizativa"
          ],
          [
           "Estructura Organizativa"
          ],
          [
           "Estructura Organizativa"
          ],
          [
           "Estructura Organizativa"
          ],
          [
           "Estructura Organizativa"
          ],
          [
           "Estructura Organizativa"
          ],
          [
           "Estructura Organizativa"
          ],
          [
           "Estructura Organizativa"
          ],
          [
           "Estructura Organizativa"
          ],
          [
           "Estructura Organizativa"
          ],
          [
           "Estructura Organizativa"
          ],
          [
           "Estructura Organizativa"
          ],
          [
           "Estructura Organizativa"
          ],
          [
           "Estructura Organizativa"
          ],
          [
           "Estructura Organizativa"
          ],
          [
           "Estructura Organizativa"
          ],
          [
           "Estructura Organizativa"
          ],
          [
           "Estructura Organizativa"
          ],
          [
           "Estructura Organizativa"
          ],
          [
           "Estructura Organizativa"
          ],
          [
           "Estructura Organizativa"
          ],
          [
           "Estructura Organizativa"
          ],
          [
           "Estructura Organizativa"
          ],
          [
           "Estructura Organizativa"
          ],
          [
           "Estructura Organizativa"
          ],
          [
           "Estructura Organizativa"
          ],
          [
           "Estructura Organizativa"
          ],
          [
           "Estructura Organizativa"
          ],
          [
           "Estructura Organizativa"
          ],
          [
           "Estructura Organizativa"
          ],
          [
           "Estructura Organizativa"
          ],
          [
           "Estructura Organizativa"
          ],
          [
           "Estructura Organizativa"
          ],
          [
           "Estructura Organizativa"
          ],
          [
           "Estructura Organizativa"
          ],
          [
           "Estructura Organizativa"
          ],
          [
           "Estructura Organizativa"
          ],
          [
           "Estructura Organizativa"
          ],
          [
           "Estructura Organizativa"
          ],
          [
           "Estructura Organizativa"
          ],
          [
           "Estructura Organizativa"
          ],
          [
           "Estructura Organizativa"
          ],
          [
           "Estructura Organizativa"
          ],
          [
           "Estructura Organizativa"
          ],
          [
           "Estructura Organizativa"
          ],
          [
           "Estructura Organizativa"
          ],
          [
           "Estructura Organizativa"
          ],
          [
           "Estructura Organizativa"
          ],
          [
           "Estructura Organizativa"
          ],
          [
           "Estructura Organizativa"
          ],
          [
           "Estructura Organizativa"
          ],
          [
           "Estructura Organizativa"
          ],
          [
           "Estructura Organizativa"
          ],
          [
           "Estructura Organizativa"
          ],
          [
           "Estructura Organizativa"
          ],
          [
           "Estructura Organizativa"
          ],
          [
           "Estructura Organizativa"
          ],
          [
           "Estructura Organizativa"
          ],
          [
           "Estructura Organizativa"
          ],
          [
           "Estructura Organizativa"
          ],
          [
           "Estructura Organizativa"
          ],
          [
           "Estructura Organizativa"
          ],
          [
           "Estructura Organizativa"
          ],
          [
           "Estructura Organizativa"
          ],
          [
           "Estructura Organizativa"
          ],
          [
           "Estructura Organizativa"
          ],
          [
           "Estructura Organizativa"
          ],
          [
           "Estructura Organizativa"
          ],
          [
           "Estructura Organizativa"
          ],
          [
           "Estructura Organizativa"
          ],
          [
           "Estructura Organizativa"
          ],
          [
           "Estructura Organizativa"
          ],
          [
           "Estructura Organizativa"
          ],
          [
           "Estructura Organizativa"
          ],
          [
           "Estructura Organizativa"
          ],
          [
           "Estructura Organizativa"
          ],
          [
           "Estructura Organizativa"
          ],
          [
           "Estructura Organizativa"
          ],
          [
           "Estructura Organizativa"
          ],
          [
           "Estructura Organizativa"
          ],
          [
           "Estructura Organizativa"
          ],
          [
           "Estructura Organizativa"
          ],
          [
           "Estructura Organizativa"
          ],
          [
           "Estructura Organizativa"
          ],
          [
           "Estructura Organizativa"
          ],
          [
           "Estructura Organizativa"
          ],
          [
           "Estructura Organizativa"
          ],
          [
           "Estructura Organizativa"
          ],
          [
           "Estructura Organizativa"
          ],
          [
           "Estructura Organizativa"
          ],
          [
           "Estructura Organizativa"
          ],
          [
           "Estructura Organizativa"
          ],
          [
           "Estructura Organizativa"
          ],
          [
           "Estructura Organizativa"
          ],
          [
           "Estructura Organizativa"
          ],
          [
           "Estructura Organizativa"
          ],
          [
           "Estructura Organizativa"
          ],
          [
           "Estructura Organizativa"
          ],
          [
           "Estructura Organizativa"
          ],
          [
           "Estructura Organizativa"
          ],
          [
           "Estructura Organizativa"
          ],
          [
           "Estructura Organizativa"
          ],
          [
           "Estructura Organizativa"
          ],
          [
           "Estructura Organizativa"
          ],
          [
           "Estructura Organizativa"
          ],
          [
           "Estructura Organizativa"
          ],
          [
           "Estructura Organizativa"
          ],
          [
           "Estructura Organizativa"
          ],
          [
           "Estructura Organizativa"
          ],
          [
           "Estructura Organizativa"
          ],
          [
           "Estructura Organizativa"
          ],
          [
           "Estructura Organizativa"
          ],
          [
           "Estructura Organizativa"
          ],
          [
           "Estructura Organizativa"
          ],
          [
           "Estructura Organizativa"
          ],
          [
           "Estructura Organizativa"
          ],
          [
           "Estructura Organizativa"
          ],
          [
           "Estructura Organizativa"
          ],
          [
           "Estructura Organizativa"
          ],
          [
           "Estructura Organizativa"
          ],
          [
           "Estructura Organizativa"
          ],
          [
           "Estructura Organizativa"
          ],
          [
           "Estructura Organizativa"
          ],
          [
           "Estructura Organizativa"
          ],
          [
           "Estructura Organizativa"
          ]
         ],
         "hovertemplate": "color=Estructura Organizativa<br>PCA Component 1=%{x}<br>PCA Component 2=%{y}<br>PCA Component 3=%{z}<br>label=%{customdata[0]}<extra></extra>",
         "legendgroup": "Estructura Organizativa",
         "marker": {
          "color": "#00cc96",
          "symbol": "circle"
         },
         "mode": "markers",
         "name": "Estructura Organizativa",
         "scene": "scene",
         "showlegend": true,
         "type": "scatter3d",
         "x": [
          0.00024106709,
          -0.02711382,
          0.004508664,
          0.02193373,
          -0.010160027,
          0.09090279,
          -0.0018058436,
          -0.017059661,
          0.038912144,
          0.0484014,
          0.029422717,
          0.08225914,
          0.066914536,
          0.07299738,
          0.06903031,
          0.06935945,
          0.08092335,
          0.13009919,
          0.08453651,
          0.07778862,
          0.04136132,
          0.080364995,
          0.081069596,
          0.06208305,
          0.070806414,
          0.062467307,
          0.060724802,
          0.08686218,
          0.07238445,
          0.03829042,
          0.08825828,
          0.0725674,
          0.07262592,
          0.047753084,
          0.027346758,
          0.1098304,
          0.09156009,
          0.101753175,
          0.1162048,
          0.11898714,
          0.086419865,
          0.084637456,
          0.06885682,
          0.041231915,
          0.11071612,
          0.09919407,
          0.11511441,
          0.072284006,
          0.057418287,
          0.10193237,
          0.12014213,
          0.11506855,
          0.1030976,
          0.09528319,
          0.07381664,
          0.10683204,
          0.10486764,
          0.081602246,
          0.048539583,
          0.08220794,
          0.07232454,
          0.09335873,
          0.088899,
          0.119491644,
          0.053465813,
          0.0591776,
          0.06707784,
          0.08172942,
          0.076893725,
          0.03455134,
          0.14559698,
          0.11707764,
          0.107279465,
          0.02477621,
          0.05582843,
          0.06338606,
          0.0917165,
          0.07569704,
          0.03865485,
          0.051369373,
          0.027911954,
          0.06174291,
          0.024821592,
          0.05931582,
          0.036898572,
          0.06431557,
          0.08844787,
          0.06806023,
          0.06110953,
          0.09856398,
          0.08850608,
          0.10046766,
          0.10914176,
          0.10919567,
          0.09841171,
          0.10466667,
          0.105642736,
          0.086207904,
          0.09558559,
          0.10413209,
          0.100528434,
          0.10259104,
          0.09229874,
          0.08387365,
          0.106290534,
          0.10897053,
          0.096262515,
          0.028613033,
          0.075709574,
          0.0641257,
          0.07757014,
          0.10402068,
          0.09301315,
          0.11073774,
          0.10373058,
          0.08953967,
          0.11028265,
          0.10185927,
          0.09774457,
          0.083230615,
          0.10121105,
          0.08467859,
          0.0906103,
          0.096315466,
          0.049267974,
          0.00018865727,
          0.031977054,
          0.01450285,
          0.046349853,
          0.01746178,
          0.07427482,
          0.083060816,
          0.08287119,
          0.0030547336,
          0.101515085
         ],
         "y": [
          -0.0027406213,
          -0.0027389727,
          -0.0009529018,
          -0.0015122456,
          -0.0018043909,
          -0.0026626168,
          -0.001556015,
          -0.0044435263,
          -0.0037365253,
          -0.0010708767,
          -0.0033685213,
          -0.0028289806,
          -0.0014617423,
          -0.0020600432,
          -0.0012480894,
          -0.00053183717,
          -0.0014436085,
          -0.0013647976,
          -0.0010443204,
          0.0006154805,
          -0.0014032036,
          -0.0016994461,
          -0.00022100673,
          0.00064582325,
          -0.00029019578,
          0.0017886288,
          -0.00097973,
          -0.0032959334,
          -0.00031990922,
          0.00044457303,
          -0.00090894324,
          -0.00040211724,
          0.00077290274,
          -0.00031040996,
          -0.0018360704,
          -0.000055382872,
          0.000472417,
          0.0012283082,
          -0.0026159973,
          0.0023721438,
          -0.0018103825,
          -0.0003695418,
          -0.0012584962,
          0.013138552,
          0.0024747727,
          -0.0012828459,
          -0.0022948154,
          0.001170447,
          0.00708952,
          0.0010684342,
          -0.002618189,
          0.0014742928,
          -0.0023051219,
          -0.0047197933,
          -0.00054638623,
          0.0048988676,
          0.0008204838,
          0.002163399,
          0.0009929441,
          0.0015840855,
          0.0004733422,
          0.002237434,
          -0.00015914836,
          -0.004206889,
          -0.0009786773,
          0.00050914404,
          -0.0009850035,
          -0.0020361193,
          -0.00028339913,
          -0.0015069401,
          0.0025153963,
          -0.000043101867,
          0.0015838726,
          0.00040936458,
          0.0007575984,
          0.001254097,
          0.0060131135,
          0.00032708893,
          -0.0007145689,
          -0.0012799775,
          0.0021652055,
          0.0007436331,
          0.0013042182,
          0.0005005703,
          0.004827652,
          -0.0005368358,
          -0.0028386863,
          -0.00053529156,
          -0.0014025585,
          0.00036754418,
          0.0017823465,
          -0.0015262307,
          0.0011126983,
          0.0010530398,
          0.0006820291,
          -0.00017036036,
          -0.00020188696,
          0.0012132576,
          0.0016459869,
          0.0004234988,
          0.0005940913,
          -0.00023664438,
          0.0012421402,
          0.0022371633,
          -0.002868702,
          0.0022699665,
          -0.00016117607,
          -0.0011808429,
          -0.0020893365,
          -0.00112417,
          -0.0023342015,
          -0.00049728405,
          0.0016578932,
          0.00054267445,
          0.00038768793,
          0.0026336364,
          0.0027051629,
          -0.00023695815,
          0.00042269423,
          0.0017093597,
          -0.000089433204,
          -0.0007176942,
          -0.0004633654,
          0.0009328854,
          0.0009776556,
          -0.0023499092,
          -0.0012123865,
          -0.00076492026,
          -0.0022021928,
          -0.0005082622,
          0.00027848128,
          0.0074457834,
          -0.0004067189,
          0.0013062559,
          0.000103350205
         ],
         "z": [
          -0.000024178471,
          -0.0011821202,
          -0.000029236748,
          -0.0010327942,
          -0.00036667404,
          -0.00035321433,
          0.0016554539,
          0.0020041543,
          -0.0009649335,
          0.0006818494,
          -0.00038568248,
          -0.0005655062,
          0.002141983,
          -0.00007302314,
          0.0018187283,
          -0.0027765962,
          0.000236618,
          0.013186132,
          -0.0014210364,
          -0.004634992,
          0.0030872435,
          -0.00085964944,
          -0.0029786103,
          -0.0034931146,
          0.007577033,
          -0.0043847286,
          -0.00021812766,
          -0.0009573025,
          -0.0036529384,
          -0.00061844866,
          0.0021582344,
          -0.0022819818,
          -0.0010795047,
          -0.0014248834,
          -0.0011466935,
          -0.003913767,
          -0.004642334,
          -0.00543088,
          0.001246304,
          -0.008724972,
          0.0040336987,
          -0.0066605387,
          0.000062160565,
          0.00025748875,
          -0.0019180708,
          0.005464345,
          -0.0081572225,
          -0.0016805611,
          0.00022490017,
          -0.0042258445,
          0.0032214064,
          -0.00829365,
          0.003880015,
          -0.0025361045,
          -0.004136915,
          -0.0029659783,
          -0.0019053764,
          0.0048084096,
          0.0020113022,
          -0.002795133,
          -0.005888949,
          -0.0030546547,
          0.006532911,
          0.0036325231,
          -0.0031309107,
          -0.004196271,
          -0.0027236775,
          -0.001297285,
          -0.002495588,
          -0.0027784728,
          0.016930524,
          -0.0048505166,
          -0.0039903796,
          0.005967675,
          0.0007169919,
          -0.0023290536,
          -0.008077401,
          -0.004497457,
          -0.0028301068,
          -0.0049336613,
          0.019965515,
          -0.0027496142,
          0.01935121,
          -0.0035955326,
          -0.00023650793,
          0.0055854535,
          -0.00080110953,
          0.001615443,
          -0.00068373943,
          -0.004482441,
          -0.0033329264,
          0.0029407218,
          -0.0016862035,
          -0.00498492,
          0.0019607,
          0.012407572,
          -0.004502272,
          -0.0016260354,
          -0.00160101,
          -0.0046571605,
          0.0020843192,
          0.012483991,
          -0.005504299,
          -0.0028127807,
          0.0007328507,
          -0.0021199593,
          0.0114412885,
          0.001249711,
          0.0006040295,
          0.0012414461,
          -0.0006436913,
          -0.005937595,
          -0.0024978106,
          0.001316081,
          -0.006952681,
          -0.002930681,
          -0.002751789,
          0.01262631,
          -0.006885058,
          0.003358626,
          0.012734004,
          -0.0055462173,
          -0.0042027677,
          -0.0029371532,
          0.0008494315,
          0.0018777477,
          0.0002641373,
          -0.0018442171,
          0.0002513416,
          0.00093174935,
          -0.0010495979,
          0.030768633,
          -0.0021345841,
          0.00407596,
          0.011008725
         ]
        },
        {
         "customdata": [
          [
           "Riesgos"
          ],
          [
           "Riesgos"
          ],
          [
           "Riesgos"
          ],
          [
           "Riesgos"
          ],
          [
           "Riesgos"
          ],
          [
           "Riesgos"
          ],
          [
           "Riesgos"
          ],
          [
           "Riesgos"
          ],
          [
           "Riesgos"
          ],
          [
           "Riesgos"
          ],
          [
           "Riesgos"
          ],
          [
           "Riesgos"
          ],
          [
           "Riesgos"
          ],
          [
           "Riesgos"
          ],
          [
           "Riesgos"
          ],
          [
           "Riesgos"
          ],
          [
           "Riesgos"
          ],
          [
           "Riesgos"
          ],
          [
           "Riesgos"
          ],
          [
           "Riesgos"
          ],
          [
           "Riesgos"
          ],
          [
           "Riesgos"
          ],
          [
           "Riesgos"
          ],
          [
           "Riesgos"
          ],
          [
           "Riesgos"
          ],
          [
           "Riesgos"
          ],
          [
           "Riesgos"
          ],
          [
           "Riesgos"
          ],
          [
           "Riesgos"
          ],
          [
           "Riesgos"
          ],
          [
           "Riesgos"
          ],
          [
           "Riesgos"
          ],
          [
           "Riesgos"
          ],
          [
           "Riesgos"
          ],
          [
           "Riesgos"
          ],
          [
           "Riesgos"
          ],
          [
           "Riesgos"
          ],
          [
           "Riesgos"
          ],
          [
           "Riesgos"
          ],
          [
           "Riesgos"
          ],
          [
           "Riesgos"
          ]
         ],
         "hovertemplate": "color=Riesgos<br>PCA Component 1=%{x}<br>PCA Component 2=%{y}<br>PCA Component 3=%{z}<br>label=%{customdata[0]}<extra></extra>",
         "legendgroup": "Riesgos",
         "marker": {
          "color": "#ab63fa",
          "symbol": "circle"
         },
         "mode": "markers",
         "name": "Riesgos",
         "scene": "scene",
         "showlegend": true,
         "type": "scatter3d",
         "x": [
          -0.049803182,
          -0.051182292,
          -0.049633667,
          -0.044545174,
          -0.0505909,
          -0.049121384,
          -0.049285978,
          -0.050067462,
          -0.04867762,
          -0.044181287,
          -0.04715112,
          -0.04675333,
          -0.04712133,
          -0.04808272,
          -0.04649996,
          -0.050395124,
          -0.05012009,
          -0.04742869,
          -0.049689893,
          -0.048588116,
          -0.047867972,
          -0.048915513,
          -0.04842695,
          -0.050108027,
          -0.048692036,
          -0.049888406,
          -0.04893219,
          -0.047255095,
          -0.04850815,
          -0.04641266,
          -0.046587396,
          -0.04720137,
          -0.047671005,
          -0.05063374,
          -0.047114857,
          -0.0451743,
          -0.043945737,
          -0.045181055,
          -0.048372906,
          -0.046956364,
          -0.050164547
         ],
         "y": [
          -0.0033227445,
          -0.0018010638,
          -0.005304937,
          -0.0034117666,
          0.00034350218,
          0.0005805701,
          -0.0006608061,
          -0.00054618786,
          -0.0012703578,
          -0.0022172523,
          -0.0011692006,
          0.0016841782,
          -0.0012736325,
          -0.0025175174,
          -0.002339453,
          -0.0018519715,
          0.00014377237,
          -0.0034535453,
          -0.0032687301,
          -0.0014825414,
          -0.0017574445,
          -0.0014884239,
          0.00067110383,
          -0.0017539939,
          0.0006009446,
          -0.00034607196,
          -0.00063617737,
          -0.00078164355,
          0.0024905056,
          -0.0006524999,
          -0.00064020336,
          0.0018629491,
          0.00031104492,
          -0.00074275036,
          0.0027753068,
          0.00025972497,
          -0.0034042401,
          -0.0022701316,
          0.0005678942,
          -0.0013255633,
          -0.0031748884
         ],
         "z": [
          0.0009054038,
          -0.00090766145,
          -0.0027714018,
          -0.005477666,
          0.0007164509,
          0.0062102047,
          -0.0010280297,
          -0.0028256497,
          -0.002054284,
          -0.0022863033,
          0.0022907276,
          0.0044088457,
          0.0032223137,
          0.000092666596,
          -0.0007613311,
          -0.0027206002,
          -0.0013005594,
          0.0024409473,
          -0.00026535158,
          0.0030254736,
          0.005292899,
          -0.0016237346,
          0.0017013378,
          0.004523295,
          0.00260074,
          -0.0021218203,
          0.0022450527,
          -0.0012580439,
          0.0028149274,
          0.0021757483,
          0.0013919288,
          -0.0053034727,
          -0.0017739467,
          0.0003929341,
          -0.0015917721,
          -0.003213805,
          -0.00253182,
          -0.005795102,
          0.0010766657,
          0.0020879982,
          -0.000297077
         ]
        },
        {
         "customdata": [
          [
           "Información"
          ],
          [
           "Información"
          ],
          [
           "Información"
          ],
          [
           "Información"
          ],
          [
           "Información"
          ],
          [
           "Información"
          ],
          [
           "Información"
          ],
          [
           "Información"
          ],
          [
           "Información"
          ],
          [
           "Información"
          ],
          [
           "Información"
          ],
          [
           "Información"
          ],
          [
           "Información"
          ],
          [
           "Información"
          ],
          [
           "Información"
          ],
          [
           "Información"
          ]
         ],
         "hovertemplate": "color=Información<br>PCA Component 1=%{x}<br>PCA Component 2=%{y}<br>PCA Component 3=%{z}<br>label=%{customdata[0]}<extra></extra>",
         "legendgroup": "Información",
         "marker": {
          "color": "#FFA15A",
          "symbol": "circle"
         },
         "mode": "markers",
         "name": "Información",
         "scene": "scene",
         "showlegend": true,
         "type": "scatter3d",
         "x": [
          -0.049457204,
          -0.04916334,
          -0.049440764,
          -0.050163154,
          -0.05046826,
          -0.049035873,
          -0.04449283,
          -0.049617857,
          -0.050039865,
          -0.050537553,
          -0.04913318,
          -0.046874627,
          -0.043629654,
          -0.049023677,
          -0.049953476,
          -0.051476974
         ],
         "y": [
          -0.00062434986,
          -0.00039291853,
          0.0006818107,
          0.0009241364,
          0.005521783,
          -0.0015621274,
          -0.0014989064,
          -0.0021940786,
          -0.0043281284,
          0.00025532732,
          -0.0006962804,
          -0.0038408248,
          -0.013826761,
          -0.0032518224,
          -0.002069559,
          -0.0005741102
         ],
         "z": [
          -0.00068827823,
          0.0018955222,
          0.001351348,
          0.0047368756,
          -0.0032405758,
          -0.0011494345,
          -0.0031778282,
          -0.0031107268,
          -0.003506939,
          -0.0012141586,
          0.0014234366,
          -0.0061006276,
          -0.014091173,
          -0.0006498609,
          -0.00047814765,
          0.0017000086
         ]
        },
        {
         "customdata": [
          [
           "Emergencia"
          ],
          [
           "Emergencia"
          ],
          [
           "Emergencia"
          ],
          [
           "Emergencia"
          ],
          [
           "Emergencia"
          ],
          [
           "Emergencia"
          ],
          [
           "Emergencia"
          ],
          [
           "Emergencia"
          ],
          [
           "Emergencia"
          ],
          [
           "Emergencia"
          ],
          [
           "Emergencia"
          ],
          [
           "Emergencia"
          ],
          [
           "Emergencia"
          ],
          [
           "Emergencia"
          ],
          [
           "Emergencia"
          ],
          [
           "Emergencia"
          ],
          [
           "Emergencia"
          ],
          [
           "Emergencia"
          ],
          [
           "Emergencia"
          ],
          [
           "Emergencia"
          ],
          [
           "Emergencia"
          ],
          [
           "Emergencia"
          ],
          [
           "Emergencia"
          ],
          [
           "Emergencia"
          ],
          [
           "Emergencia"
          ],
          [
           "Emergencia"
          ],
          [
           "Emergencia"
          ],
          [
           "Emergencia"
          ],
          [
           "Emergencia"
          ],
          [
           "Emergencia"
          ],
          [
           "Emergencia"
          ],
          [
           "Emergencia"
          ],
          [
           "Emergencia"
          ],
          [
           "Emergencia"
          ],
          [
           "Emergencia"
          ],
          [
           "Emergencia"
          ],
          [
           "Emergencia"
          ],
          [
           "Emergencia"
          ],
          [
           "Emergencia"
          ],
          [
           "Emergencia"
          ],
          [
           "Emergencia"
          ],
          [
           "Emergencia"
          ],
          [
           "Emergencia"
          ],
          [
           "Emergencia"
          ],
          [
           "Emergencia"
          ],
          [
           "Emergencia"
          ],
          [
           "Emergencia"
          ],
          [
           "Emergencia"
          ],
          [
           "Emergencia"
          ],
          [
           "Emergencia"
          ],
          [
           "Emergencia"
          ],
          [
           "Emergencia"
          ],
          [
           "Emergencia"
          ],
          [
           "Emergencia"
          ],
          [
           "Emergencia"
          ],
          [
           "Emergencia"
          ],
          [
           "Emergencia"
          ],
          [
           "Emergencia"
          ],
          [
           "Emergencia"
          ],
          [
           "Emergencia"
          ],
          [
           "Emergencia"
          ],
          [
           "Emergencia"
          ],
          [
           "Emergencia"
          ],
          [
           "Emergencia"
          ]
         ],
         "hovertemplate": "color=Emergencia<br>PCA Component 1=%{x}<br>PCA Component 2=%{y}<br>PCA Component 3=%{z}<br>label=%{customdata[0]}<extra></extra>",
         "legendgroup": "Emergencia",
         "marker": {
          "color": "#19d3f3",
          "symbol": "circle"
         },
         "mode": "markers",
         "name": "Emergencia",
         "scene": "scene",
         "showlegend": true,
         "type": "scatter3d",
         "x": [
          -0.050622016,
          -0.05112836,
          -0.050558824,
          -0.046154376,
          -0.048501134,
          -0.04982747,
          -0.047414646,
          -0.051692422,
          -0.050392527,
          -0.049992636,
          -0.050320357,
          -0.046266545,
          -0.046884153,
          -0.047080513,
          -0.04702879,
          -0.04289126,
          -0.04578778,
          -0.041423056,
          -0.04434286,
          -0.04430508,
          -0.043748256,
          -0.046518665,
          -0.043539528,
          -0.04173088,
          -0.04677269,
          -0.049884755,
          -0.047112554,
          -0.047882378,
          -0.04355444,
          -0.043503195,
          -0.04531721,
          -0.040823966,
          -0.04842183,
          -0.045808587,
          -0.047054756,
          -0.043021027,
          -0.043288585,
          -0.043360464,
          -0.050858572,
          -0.04682386,
          -0.04773817,
          -0.046468083,
          -0.049016625,
          -0.04576021,
          -0.043490868,
          -0.043654896,
          -0.04341795,
          -0.043942355,
          -0.04604147,
          -0.044036467,
          -0.04838958,
          -0.04390775,
          -0.040178686,
          -0.045631737,
          -0.046898093,
          -0.048483625,
          -0.046553183,
          -0.04332993,
          -0.052846562,
          -0.045886707,
          -0.042339973,
          -0.045279518,
          -0.04661983,
          -0.043304835
         ],
         "y": [
          -0.0039077895,
          0.0018712943,
          -0.0011935896,
          0.0006454391,
          -0.0014112626,
          0.00004069563,
          -0.0018452894,
          -0.00086488866,
          0.00067711156,
          -0.0004735456,
          -0.000047880025,
          0.0018223753,
          0.001527453,
          -0.0010906957,
          -0.0035048733,
          -0.0008431154,
          -0.00081893936,
          0.0008788414,
          0.0006512685,
          -0.0005966614,
          0.0037301562,
          -0.0006286196,
          -0.00024905874,
          0.0012112211,
          0.0004897335,
          -0.002250061,
          -0.0023349433,
          -0.0027903758,
          0.0031115515,
          -0.001242815,
          0.00034861348,
          0.0015645119,
          -0.00019038978,
          -0.0018539082,
          -0.00070145744,
          0.0014799169,
          0.00119671,
          -0.003162908,
          0.000047393187,
          0.0015451241,
          0.00017271058,
          -0.0012101487,
          -0.001845669,
          -0.0019054728,
          0.0005405099,
          -0.00376115,
          -0.0011457263,
          -0.0027972541,
          -0.0012608366,
          -0.0019547187,
          -0.003152818,
          -0.0012822958,
          0.0017144855,
          0.0018496863,
          -0.00003645072,
          -0.00038804207,
          -0.0012461626,
          0.00056109595,
          -0.004742555,
          -0.0013264709,
          0.00083212316,
          0.0012526934,
          0.0016218496,
          -0.00019372623
         ],
         "z": [
          -0.0002578228,
          -0.00023408976,
          -0.0016329933,
          0.009042461,
          -0.000009650393,
          0.0005779339,
          0.002671326,
          -0.0003826445,
          0.00030228938,
          0.0009755199,
          0.00039020542,
          -0.0010000442,
          0.0017825323,
          0.000678433,
          0.0010733976,
          0.0008571735,
          0.0027707922,
          -0.0010889048,
          0.0003558518,
          0.0017652814,
          -0.00007725185,
          0.0015991641,
          -0.0029434594,
          -0.0022261594,
          -0.0014700958,
          0.0013661414,
          0.0018436972,
          0.00021948223,
          -0.0024530625,
          -0.00019695825,
          0.001330848,
          -0.0017962717,
          0.002094383,
          0.00073166395,
          -0.0015404706,
          -0.0021446068,
          -0.0014479838,
          -0.00064618676,
          0.0029243848,
          0.005057126,
          0.003638994,
          0.0029170748,
          0.0010190157,
          0.0040439446,
          0.008679278,
          -0.0012976688,
          0.0007544045,
          0.008654397,
          0.00007169455,
          0.000962076,
          0.0010633216,
          -0.0024186186,
          -0.0025431712,
          -0.00025485523,
          0.0018741497,
          0.0020597877,
          0.0009383119,
          -0.0024414528,
          -0.0005096987,
          -0.00032434933,
          -0.0015353529,
          -0.00016578328,
          0.00417293,
          -0.00036229833
         ]
        },
        {
         "customdata": [
          [
           "Question: ¿Cómo se diferencia la ubicación física de la operativa?<br>Closest Model: Emergencia<br>Similarity: 0.24<br>Chunk: el resultado de la participación eficiente de todos los grupos y trabajadores  implicados, así como ..."
          ],
          [
           "Question: ¿Qué información se incluye en el informe de la evaluación de riesgos que ofrece la plataforma y cuál es su utilidad para la gestión de riesgos en la empresa?<br>Closest Model: Emergencia<br>Similarity: 0.41<br>Chunk: El usuario accede a la pestaña “Generar documentos” y visualiza el listado de informes  generados en..."
          ],
          [
           "Question: ¿Hay indicadores relativos al cumplimiento de normas?<br>Closest Model: Auditorias<br>Similarity: 0.26<br>Chunk: El usuario accede al cardboard “Diagnósticos ISO” y visualiza una pantalla con el conjunto de  están..."
          ],
          [
           "Question: ¿Qué papel juega la estructura organizativa en la funcionalidad general de la plataforma y cómo interactúa con otros módulos?<br>Closest Model: Información<br>Similarity: 0.42<br>Chunk: 6  •  Ausentismo: Se visualizan todos los archivos añadidos en la pestaña “Documentación”  de los di..."
          ],
          [
           "Question: ¿Qué permite realizar la evaluación de riesgos?<br>Closest Model: Emergencia<br>Similarity: 0.65<br>Chunk: 19  Al clicar a la acción Evaluar del listado, el usuario es redirigido al formulario de evaluación ..."
          ],
          [
           "Question: ¿Qué tipo de documentos se pueden almacenar y compartir en el espacio denominado 'Documentos' y cuál es su importancia dentro del contexto de la gestión empresarial en la plataforma?<br>Closest Model: Emergencia<br>Similarity: 0.36<br>Chunk: el cuestionario de la evaluación se  muestra como no editable y se habilitan las pestañas Actividade..."
          ],
          [
           "Question: ¿Se pueden llevar a cabo auditorías internas?<br>Closest Model: Estructura Organizativa<br>Similarity: 0.48<br>Chunk: 3. HOME ESTRUCTURA ORGANIZATIVA  El usuario puede acceder al módulo Estructura Organizativa (EO), de..."
          ],
          [
           "Question: ¿Cuál es la tasa de adopción de esta plataforma en el mercado?<br>Closest Model: Información<br>Similarity: 0.42<br>Chunk: 6  •  Ausentismo: Se visualizan todos los archivos añadidos en la pestaña “Documentación”  de los di..."
          ],
          [
           "Question: ¿Cómo se compara esta plataforma con otras soluciones de gestión de SST?<br>Closest Model: Emergencia<br>Similarity: 0.43<br>Chunk: Sabentis es la nueva plataforma de gestión especializada en el ámbito de Seguridad y Salud en  el Tr..."
          ],
          [
           "Question: ¿Qué día hará mañana?<br>Closest Model: Emergencia<br>Similarity: 0.19<br>Chunk: de tener  una evaluación realizada ésta se perderá.  •  Evaluar: Permite acceder al cuestionario de ..."
          ]
         ],
         "hovertemplate": "color=Question<br>PCA Component 1=%{x}<br>PCA Component 2=%{y}<br>PCA Component 3=%{z}<br>label=%{customdata[0]}<extra></extra>",
         "legendgroup": "Question",
         "marker": {
          "color": "#FF6692",
          "symbol": "circle"
         },
         "mode": "markers",
         "name": "Question",
         "scene": "scene",
         "showlegend": true,
         "type": "scatter3d",
         "x": [
          -0.054889973,
          -0.051238522,
          -0.05557939,
          -0.055003814,
          -0.04478029,
          -0.048891664,
          -0.04236293,
          -0.055003814,
          -0.05553066,
          -0.05603009
         ],
         "y": [
          -0.0017990046,
          0.005172888,
          0.0019273926,
          0.059787005,
          -0.0005217783,
          0.006693325,
          -0.002278327,
          0.059787005,
          0.031510383,
          -0.0007632278
         ],
         "z": [
          0.007559097,
          -0.00046017818,
          -0.008963927,
          -0.0030346152,
          0.0073915096,
          0.00023073316,
          -0.0029650948,
          -0.0030346152,
          -0.0009854785,
          0.00042526366
         ]
        },
        {
         "mode": "markers+text",
         "showlegend": false,
         "text": "Q1",
         "textposition": "top center",
         "type": "scatter3d",
         "x": [
          -0.054889973253011703
         ],
         "y": [
          -0.0017990046180784702
         ],
         "z": [
          0.007559096906334162
         ]
        },
        {
         "mode": "markers+text",
         "showlegend": false,
         "text": "Q2",
         "textposition": "top center",
         "type": "scatter3d",
         "x": [
          -0.0512385219335556
         ],
         "y": [
          0.005172887817025185
         ],
         "z": [
          -0.00046017818385735154
         ]
        },
        {
         "mode": "markers+text",
         "showlegend": false,
         "text": "Q3",
         "textposition": "top center",
         "type": "scatter3d",
         "x": [
          -0.05557939037680626
         ],
         "y": [
          0.0019273925572633743
         ],
         "z": [
          -0.008963926695287228
         ]
        },
        {
         "mode": "markers+text",
         "showlegend": false,
         "text": "Q4",
         "textposition": "top center",
         "type": "scatter3d",
         "x": [
          -0.0550038143992424
         ],
         "y": [
          0.05978700518608093
         ],
         "z": [
          -0.0030346151906996965
         ]
        },
        {
         "mode": "markers+text",
         "showlegend": false,
         "text": "Q5",
         "textposition": "top center",
         "type": "scatter3d",
         "x": [
          -0.044780291616916656
         ],
         "y": [
          -0.0005217783036641777
         ],
         "z": [
          0.007391509599983692
         ]
        },
        {
         "mode": "markers+text",
         "showlegend": false,
         "text": "Q6",
         "textposition": "top center",
         "type": "scatter3d",
         "x": [
          -0.048891663551330566
         ],
         "y": [
          0.006693325005471706
         ],
         "z": [
          0.0002307331596966833
         ]
        },
        {
         "mode": "markers+text",
         "showlegend": false,
         "text": "Q7",
         "textposition": "top center",
         "type": "scatter3d",
         "x": [
          -0.04236292839050293
         ],
         "y": [
          -0.0022783270105719566
         ],
         "z": [
          -0.002965094754472375
         ]
        },
        {
         "mode": "markers+text",
         "showlegend": false,
         "text": "Q8",
         "textposition": "top center",
         "type": "scatter3d",
         "x": [
          -0.0550038143992424
         ],
         "y": [
          0.05978700518608093
         ],
         "z": [
          -0.0030346151906996965
         ]
        },
        {
         "mode": "markers+text",
         "showlegend": false,
         "text": "Q9",
         "textposition": "top center",
         "type": "scatter3d",
         "x": [
          -0.05553065985441208
         ],
         "y": [
          0.031510382890701294
         ],
         "z": [
          -0.0009854785166680813
         ]
        },
        {
         "mode": "markers+text",
         "showlegend": false,
         "text": "Q10",
         "textposition": "top center",
         "type": "scatter3d",
         "x": [
          -0.056030090898275375
         ],
         "y": [
          -0.0007632278138771653
         ],
         "z": [
          0.0004252636572346091
         ]
        }
       ],
       "layout": {
        "legend": {
         "title": {
          "text": "color"
         },
         "tracegroupgap": 0
        },
        "scene": {
         "domain": {
          "x": [
           0,
           1
          ],
          "y": [
           0,
           1
          ]
         },
         "xaxis": {
          "title": {
           "text": "PCA Component 1"
          }
         },
         "yaxis": {
          "title": {
           "text": "PCA Component 2"
          }
         },
         "zaxis": {
          "title": {
           "text": "PCA Component 3"
          }
         }
        },
        "template": {
         "data": {
          "bar": [
           {
            "error_x": {
             "color": "#2a3f5f"
            },
            "error_y": {
             "color": "#2a3f5f"
            },
            "marker": {
             "line": {
              "color": "#E5ECF6",
              "width": 0.5
             },
             "pattern": {
              "fillmode": "overlay",
              "size": 10,
              "solidity": 0.2
             }
            },
            "type": "bar"
           }
          ],
          "barpolar": [
           {
            "marker": {
             "line": {
              "color": "#E5ECF6",
              "width": 0.5
             },
             "pattern": {
              "fillmode": "overlay",
              "size": 10,
              "solidity": 0.2
             }
            },
            "type": "barpolar"
           }
          ],
          "carpet": [
           {
            "aaxis": {
             "endlinecolor": "#2a3f5f",
             "gridcolor": "white",
             "linecolor": "white",
             "minorgridcolor": "white",
             "startlinecolor": "#2a3f5f"
            },
            "baxis": {
             "endlinecolor": "#2a3f5f",
             "gridcolor": "white",
             "linecolor": "white",
             "minorgridcolor": "white",
             "startlinecolor": "#2a3f5f"
            },
            "type": "carpet"
           }
          ],
          "choropleth": [
           {
            "colorbar": {
             "outlinewidth": 0,
             "ticks": ""
            },
            "type": "choropleth"
           }
          ],
          "contour": [
           {
            "colorbar": {
             "outlinewidth": 0,
             "ticks": ""
            },
            "colorscale": [
             [
              0,
              "#0d0887"
             ],
             [
              0.1111111111111111,
              "#46039f"
             ],
             [
              0.2222222222222222,
              "#7201a8"
             ],
             [
              0.3333333333333333,
              "#9c179e"
             ],
             [
              0.4444444444444444,
              "#bd3786"
             ],
             [
              0.5555555555555556,
              "#d8576b"
             ],
             [
              0.6666666666666666,
              "#ed7953"
             ],
             [
              0.7777777777777778,
              "#fb9f3a"
             ],
             [
              0.8888888888888888,
              "#fdca26"
             ],
             [
              1,
              "#f0f921"
             ]
            ],
            "type": "contour"
           }
          ],
          "contourcarpet": [
           {
            "colorbar": {
             "outlinewidth": 0,
             "ticks": ""
            },
            "type": "contourcarpet"
           }
          ],
          "heatmap": [
           {
            "colorbar": {
             "outlinewidth": 0,
             "ticks": ""
            },
            "colorscale": [
             [
              0,
              "#0d0887"
             ],
             [
              0.1111111111111111,
              "#46039f"
             ],
             [
              0.2222222222222222,
              "#7201a8"
             ],
             [
              0.3333333333333333,
              "#9c179e"
             ],
             [
              0.4444444444444444,
              "#bd3786"
             ],
             [
              0.5555555555555556,
              "#d8576b"
             ],
             [
              0.6666666666666666,
              "#ed7953"
             ],
             [
              0.7777777777777778,
              "#fb9f3a"
             ],
             [
              0.8888888888888888,
              "#fdca26"
             ],
             [
              1,
              "#f0f921"
             ]
            ],
            "type": "heatmap"
           }
          ],
          "heatmapgl": [
           {
            "colorbar": {
             "outlinewidth": 0,
             "ticks": ""
            },
            "colorscale": [
             [
              0,
              "#0d0887"
             ],
             [
              0.1111111111111111,
              "#46039f"
             ],
             [
              0.2222222222222222,
              "#7201a8"
             ],
             [
              0.3333333333333333,
              "#9c179e"
             ],
             [
              0.4444444444444444,
              "#bd3786"
             ],
             [
              0.5555555555555556,
              "#d8576b"
             ],
             [
              0.6666666666666666,
              "#ed7953"
             ],
             [
              0.7777777777777778,
              "#fb9f3a"
             ],
             [
              0.8888888888888888,
              "#fdca26"
             ],
             [
              1,
              "#f0f921"
             ]
            ],
            "type": "heatmapgl"
           }
          ],
          "histogram": [
           {
            "marker": {
             "pattern": {
              "fillmode": "overlay",
              "size": 10,
              "solidity": 0.2
             }
            },
            "type": "histogram"
           }
          ],
          "histogram2d": [
           {
            "colorbar": {
             "outlinewidth": 0,
             "ticks": ""
            },
            "colorscale": [
             [
              0,
              "#0d0887"
             ],
             [
              0.1111111111111111,
              "#46039f"
             ],
             [
              0.2222222222222222,
              "#7201a8"
             ],
             [
              0.3333333333333333,
              "#9c179e"
             ],
             [
              0.4444444444444444,
              "#bd3786"
             ],
             [
              0.5555555555555556,
              "#d8576b"
             ],
             [
              0.6666666666666666,
              "#ed7953"
             ],
             [
              0.7777777777777778,
              "#fb9f3a"
             ],
             [
              0.8888888888888888,
              "#fdca26"
             ],
             [
              1,
              "#f0f921"
             ]
            ],
            "type": "histogram2d"
           }
          ],
          "histogram2dcontour": [
           {
            "colorbar": {
             "outlinewidth": 0,
             "ticks": ""
            },
            "colorscale": [
             [
              0,
              "#0d0887"
             ],
             [
              0.1111111111111111,
              "#46039f"
             ],
             [
              0.2222222222222222,
              "#7201a8"
             ],
             [
              0.3333333333333333,
              "#9c179e"
             ],
             [
              0.4444444444444444,
              "#bd3786"
             ],
             [
              0.5555555555555556,
              "#d8576b"
             ],
             [
              0.6666666666666666,
              "#ed7953"
             ],
             [
              0.7777777777777778,
              "#fb9f3a"
             ],
             [
              0.8888888888888888,
              "#fdca26"
             ],
             [
              1,
              "#f0f921"
             ]
            ],
            "type": "histogram2dcontour"
           }
          ],
          "mesh3d": [
           {
            "colorbar": {
             "outlinewidth": 0,
             "ticks": ""
            },
            "type": "mesh3d"
           }
          ],
          "parcoords": [
           {
            "line": {
             "colorbar": {
              "outlinewidth": 0,
              "ticks": ""
             }
            },
            "type": "parcoords"
           }
          ],
          "pie": [
           {
            "automargin": true,
            "type": "pie"
           }
          ],
          "scatter": [
           {
            "fillpattern": {
             "fillmode": "overlay",
             "size": 10,
             "solidity": 0.2
            },
            "type": "scatter"
           }
          ],
          "scatter3d": [
           {
            "line": {
             "colorbar": {
              "outlinewidth": 0,
              "ticks": ""
             }
            },
            "marker": {
             "colorbar": {
              "outlinewidth": 0,
              "ticks": ""
             }
            },
            "type": "scatter3d"
           }
          ],
          "scattercarpet": [
           {
            "marker": {
             "colorbar": {
              "outlinewidth": 0,
              "ticks": ""
             }
            },
            "type": "scattercarpet"
           }
          ],
          "scattergeo": [
           {
            "marker": {
             "colorbar": {
              "outlinewidth": 0,
              "ticks": ""
             }
            },
            "type": "scattergeo"
           }
          ],
          "scattergl": [
           {
            "marker": {
             "colorbar": {
              "outlinewidth": 0,
              "ticks": ""
             }
            },
            "type": "scattergl"
           }
          ],
          "scattermapbox": [
           {
            "marker": {
             "colorbar": {
              "outlinewidth": 0,
              "ticks": ""
             }
            },
            "type": "scattermapbox"
           }
          ],
          "scatterpolar": [
           {
            "marker": {
             "colorbar": {
              "outlinewidth": 0,
              "ticks": ""
             }
            },
            "type": "scatterpolar"
           }
          ],
          "scatterpolargl": [
           {
            "marker": {
             "colorbar": {
              "outlinewidth": 0,
              "ticks": ""
             }
            },
            "type": "scatterpolargl"
           }
          ],
          "scatterternary": [
           {
            "marker": {
             "colorbar": {
              "outlinewidth": 0,
              "ticks": ""
             }
            },
            "type": "scatterternary"
           }
          ],
          "surface": [
           {
            "colorbar": {
             "outlinewidth": 0,
             "ticks": ""
            },
            "colorscale": [
             [
              0,
              "#0d0887"
             ],
             [
              0.1111111111111111,
              "#46039f"
             ],
             [
              0.2222222222222222,
              "#7201a8"
             ],
             [
              0.3333333333333333,
              "#9c179e"
             ],
             [
              0.4444444444444444,
              "#bd3786"
             ],
             [
              0.5555555555555556,
              "#d8576b"
             ],
             [
              0.6666666666666666,
              "#ed7953"
             ],
             [
              0.7777777777777778,
              "#fb9f3a"
             ],
             [
              0.8888888888888888,
              "#fdca26"
             ],
             [
              1,
              "#f0f921"
             ]
            ],
            "type": "surface"
           }
          ],
          "table": [
           {
            "cells": {
             "fill": {
              "color": "#EBF0F8"
             },
             "line": {
              "color": "white"
             }
            },
            "header": {
             "fill": {
              "color": "#C8D4E3"
             },
             "line": {
              "color": "white"
             }
            },
            "type": "table"
           }
          ]
         },
         "layout": {
          "annotationdefaults": {
           "arrowcolor": "#2a3f5f",
           "arrowhead": 0,
           "arrowwidth": 1
          },
          "autotypenumbers": "strict",
          "coloraxis": {
           "colorbar": {
            "outlinewidth": 0,
            "ticks": ""
           }
          },
          "colorscale": {
           "diverging": [
            [
             0,
             "#8e0152"
            ],
            [
             0.1,
             "#c51b7d"
            ],
            [
             0.2,
             "#de77ae"
            ],
            [
             0.3,
             "#f1b6da"
            ],
            [
             0.4,
             "#fde0ef"
            ],
            [
             0.5,
             "#f7f7f7"
            ],
            [
             0.6,
             "#e6f5d0"
            ],
            [
             0.7,
             "#b8e186"
            ],
            [
             0.8,
             "#7fbc41"
            ],
            [
             0.9,
             "#4d9221"
            ],
            [
             1,
             "#276419"
            ]
           ],
           "sequential": [
            [
             0,
             "#0d0887"
            ],
            [
             0.1111111111111111,
             "#46039f"
            ],
            [
             0.2222222222222222,
             "#7201a8"
            ],
            [
             0.3333333333333333,
             "#9c179e"
            ],
            [
             0.4444444444444444,
             "#bd3786"
            ],
            [
             0.5555555555555556,
             "#d8576b"
            ],
            [
             0.6666666666666666,
             "#ed7953"
            ],
            [
             0.7777777777777778,
             "#fb9f3a"
            ],
            [
             0.8888888888888888,
             "#fdca26"
            ],
            [
             1,
             "#f0f921"
            ]
           ],
           "sequentialminus": [
            [
             0,
             "#0d0887"
            ],
            [
             0.1111111111111111,
             "#46039f"
            ],
            [
             0.2222222222222222,
             "#7201a8"
            ],
            [
             0.3333333333333333,
             "#9c179e"
            ],
            [
             0.4444444444444444,
             "#bd3786"
            ],
            [
             0.5555555555555556,
             "#d8576b"
            ],
            [
             0.6666666666666666,
             "#ed7953"
            ],
            [
             0.7777777777777778,
             "#fb9f3a"
            ],
            [
             0.8888888888888888,
             "#fdca26"
            ],
            [
             1,
             "#f0f921"
            ]
           ]
          },
          "colorway": [
           "#636efa",
           "#EF553B",
           "#00cc96",
           "#ab63fa",
           "#FFA15A",
           "#19d3f3",
           "#FF6692",
           "#B6E880",
           "#FF97FF",
           "#FECB52"
          ],
          "font": {
           "color": "#2a3f5f"
          },
          "geo": {
           "bgcolor": "white",
           "lakecolor": "white",
           "landcolor": "#E5ECF6",
           "showlakes": true,
           "showland": true,
           "subunitcolor": "white"
          },
          "hoverlabel": {
           "align": "left"
          },
          "hovermode": "closest",
          "mapbox": {
           "style": "light"
          },
          "paper_bgcolor": "white",
          "plot_bgcolor": "#E5ECF6",
          "polar": {
           "angularaxis": {
            "gridcolor": "white",
            "linecolor": "white",
            "ticks": ""
           },
           "bgcolor": "#E5ECF6",
           "radialaxis": {
            "gridcolor": "white",
            "linecolor": "white",
            "ticks": ""
           }
          },
          "scene": {
           "xaxis": {
            "backgroundcolor": "#E5ECF6",
            "gridcolor": "white",
            "gridwidth": 2,
            "linecolor": "white",
            "showbackground": true,
            "ticks": "",
            "zerolinecolor": "white"
           },
           "yaxis": {
            "backgroundcolor": "#E5ECF6",
            "gridcolor": "white",
            "gridwidth": 2,
            "linecolor": "white",
            "showbackground": true,
            "ticks": "",
            "zerolinecolor": "white"
           },
           "zaxis": {
            "backgroundcolor": "#E5ECF6",
            "gridcolor": "white",
            "gridwidth": 2,
            "linecolor": "white",
            "showbackground": true,
            "ticks": "",
            "zerolinecolor": "white"
           }
          },
          "shapedefaults": {
           "line": {
            "color": "#2a3f5f"
           }
          },
          "ternary": {
           "aaxis": {
            "gridcolor": "white",
            "linecolor": "white",
            "ticks": ""
           },
           "baxis": {
            "gridcolor": "white",
            "linecolor": "white",
            "ticks": ""
           },
           "bgcolor": "#E5ECF6",
           "caxis": {
            "gridcolor": "white",
            "linecolor": "white",
            "ticks": ""
           }
          },
          "title": {
           "x": 0.05
          },
          "xaxis": {
           "automargin": true,
           "gridcolor": "white",
           "linecolor": "white",
           "ticks": "",
           "title": {
            "standoff": 15
           },
           "zerolinecolor": "white",
           "zerolinewidth": 2
          },
          "yaxis": {
           "automargin": true,
           "gridcolor": "white",
           "linecolor": "white",
           "ticks": "",
           "title": {
            "standoff": 15
           },
           "zerolinecolor": "white",
           "zerolinewidth": 2
          }
         }
        },
        "title": {
         "text": "Embeddings Visualization with 3D PCA"
        }
       }
      }
     },
     "metadata": {},
     "output_type": "display_data"
    },
    {
     "data": {
      "application/vnd.plotly.v1+json": {
       "config": {
        "plotlyServerURL": "https://plot.ly"
       },
       "data": [
        {
         "customdata": [
          [
           "Auditorias"
          ],
          [
           "Auditorias"
          ],
          [
           "Auditorias"
          ],
          [
           "Auditorias"
          ],
          [
           "Auditorias"
          ],
          [
           "Auditorias"
          ],
          [
           "Auditorias"
          ],
          [
           "Auditorias"
          ],
          [
           "Auditorias"
          ],
          [
           "Auditorias"
          ],
          [
           "Auditorias"
          ],
          [
           "Auditorias"
          ],
          [
           "Auditorias"
          ],
          [
           "Auditorias"
          ],
          [
           "Auditorias"
          ],
          [
           "Auditorias"
          ],
          [
           "Auditorias"
          ],
          [
           "Auditorias"
          ],
          [
           "Auditorias"
          ],
          [
           "Auditorias"
          ],
          [
           "Auditorias"
          ],
          [
           "Auditorias"
          ],
          [
           "Auditorias"
          ],
          [
           "Auditorias"
          ],
          [
           "Auditorias"
          ],
          [
           "Auditorias"
          ],
          [
           "Auditorias"
          ],
          [
           "Auditorias"
          ],
          [
           "Auditorias"
          ],
          [
           "Auditorias"
          ],
          [
           "Auditorias"
          ],
          [
           "Auditorias"
          ],
          [
           "Auditorias"
          ],
          [
           "Auditorias"
          ],
          [
           "Auditorias"
          ],
          [
           "Auditorias"
          ],
          [
           "Auditorias"
          ],
          [
           "Auditorias"
          ],
          [
           "Auditorias"
          ],
          [
           "Auditorias"
          ],
          [
           "Auditorias"
          ],
          [
           "Auditorias"
          ],
          [
           "Auditorias"
          ],
          [
           "Auditorias"
          ],
          [
           "Auditorias"
          ],
          [
           "Auditorias"
          ],
          [
           "Auditorias"
          ],
          [
           "Auditorias"
          ]
         ],
         "hovertemplate": "color=Auditorias<br>t-SNE Component 1=%{x}<br>t-SNE Component 2=%{y}<br>t-SNE Component 3=%{z}<br>label=%{customdata[0]}<extra></extra>",
         "legendgroup": "Auditorias",
         "marker": {
          "color": "#636efa",
          "symbol": "circle"
         },
         "mode": "markers",
         "name": "Auditorias",
         "scene": "scene",
         "showlegend": true,
         "type": "scatter3d",
         "x": [
          -48.149975,
          -44.388187,
          -52.263203,
          -32.923546,
          -46.47742,
          -42.848797,
          -46.951218,
          -24.625502,
          -12.914159,
          -9.748204,
          -2.4058528,
          -14.132099,
          -45.97152,
          4.917504,
          -13.817974,
          5.4926877,
          -15.178368,
          -3.7902956,
          -42.07421,
          -35.249935,
          -24.850075,
          -16.160154,
          -19.046724,
          -25.342705,
          14.078382,
          -45.09269,
          -4.15416,
          -7.296166,
          -9.504333,
          -26.899565,
          -15.311044,
          -14.147352,
          -14.09163,
          -51.11962,
          8.027201,
          -13.817974,
          8.294877,
          -16.751966,
          -10.253728,
          -8.559864,
          -29.834787,
          -30.389662,
          -14.316265,
          -15.598567,
          -21.804304,
          -46.765774,
          -22.026695,
          -28.691242
         ],
         "y": [
          17.551214,
          5.6264844,
          7.3211875,
          5.59298,
          -24.953466,
          -29.519358,
          -31.268654,
          -12.308662,
          -33.599854,
          11.594666,
          28.717672,
          14.202245,
          8.388337,
          20.966774,
          -39.160435,
          -8.484614,
          21.167433,
          -12.437389,
          -18.987131,
          -28.009045,
          -28.909496,
          28.514036,
          5.3045855,
          19.694542,
          33.56146,
          -0.19368145,
          -20.227842,
          16.480019,
          -22.162165,
          -12.087377,
          -31.94057,
          12.696521,
          19.489079,
          5.5279326,
          16.107695,
          -39.160435,
          -3.4183724,
          16.326359,
          -11.416152,
          -18.67578,
          -24.878511,
          -31.326681,
          32.043785,
          0.8960681,
          12.329289,
          -8.231003,
          -23.250572,
          -26.847067
         ],
         "z": [
          -7.226302,
          19.130737,
          21.887022,
          22.868372,
          -20.802336,
          -2.5320444,
          2.417935,
          1.8975202,
          -0.41456705,
          -12.510894,
          23.54047,
          3.107243,
          -17.449574,
          34.38761,
          -21.601446,
          -24.36961,
          -27.27607,
          -43.899452,
          -21.482176,
          13.552605,
          29.100304,
          15.417281,
          -19.027214,
          -27.278492,
          15.452114,
          25.734245,
          3.421645,
          -22.314598,
          -14.08391,
          -3.7097447,
          4.9662337,
          -8.449072,
          6.280962,
          -19.039095,
          32.485905,
          -21.601446,
          -22.545801,
          -30.636333,
          -43.59148,
          -44.50298,
          14.025289,
          33.052555,
          20.114649,
          -22.033941,
          -17.939455,
          -10.576892,
          -5.1635995,
          24.117903
         ]
        },
        {
         "customdata": [
          [
           "Ausentismo"
          ],
          [
           "Ausentismo"
          ],
          [
           "Ausentismo"
          ],
          [
           "Ausentismo"
          ],
          [
           "Ausentismo"
          ],
          [
           "Ausentismo"
          ],
          [
           "Ausentismo"
          ],
          [
           "Ausentismo"
          ],
          [
           "Ausentismo"
          ],
          [
           "Ausentismo"
          ],
          [
           "Ausentismo"
          ],
          [
           "Ausentismo"
          ],
          [
           "Ausentismo"
          ],
          [
           "Ausentismo"
          ],
          [
           "Ausentismo"
          ],
          [
           "Ausentismo"
          ],
          [
           "Ausentismo"
          ],
          [
           "Ausentismo"
          ],
          [
           "Ausentismo"
          ],
          [
           "Ausentismo"
          ],
          [
           "Ausentismo"
          ],
          [
           "Ausentismo"
          ],
          [
           "Ausentismo"
          ],
          [
           "Ausentismo"
          ],
          [
           "Ausentismo"
          ],
          [
           "Ausentismo"
          ],
          [
           "Ausentismo"
          ],
          [
           "Ausentismo"
          ],
          [
           "Ausentismo"
          ],
          [
           "Ausentismo"
          ],
          [
           "Ausentismo"
          ],
          [
           "Ausentismo"
          ],
          [
           "Ausentismo"
          ]
         ],
         "hovertemplate": "color=Ausentismo<br>t-SNE Component 1=%{x}<br>t-SNE Component 2=%{y}<br>t-SNE Component 3=%{z}<br>label=%{customdata[0]}<extra></extra>",
         "legendgroup": "Ausentismo",
         "marker": {
          "color": "#EF553B",
          "symbol": "circle"
         },
         "mode": "markers",
         "name": "Ausentismo",
         "scene": "scene",
         "showlegend": true,
         "type": "scatter3d",
         "x": [
          -49.735546,
          -49.781567,
          -39.20619,
          -8.793113,
          -8.287185,
          -5.9218717,
          -5.334491,
          7.5916114,
          -11.157066,
          9.77521,
          -28.541397,
          -14.26311,
          -15.553901,
          -1.2734065,
          -30.894144,
          -7.8088646,
          -3.3288338,
          1.6412536,
          -14.613695,
          -13.378895,
          -21.472694,
          1.2570155,
          -26.857828,
          -3.2596087,
          -3.044636,
          -0.77425545,
          -3.473348,
          -25.193897,
          -7.078517,
          -10.590486,
          -8.38777,
          -37.44035,
          -2.2336245
         ],
         "y": [
          19.539003,
          25.781391,
          22.105688,
          12.425631,
          21.436222,
          21.745092,
          9.537459,
          26.904087,
          -10.70835,
          19.906075,
          3.5213304,
          -3.6053123,
          29.551672,
          6.7645483,
          -11.341778,
          20.620998,
          -0.44475174,
          -12.5701,
          2.0767558,
          2.7326698,
          30.223623,
          3.8761778,
          -13.623149,
          22.393017,
          -9.905103,
          -9.913479,
          -0.77293056,
          -9.192737,
          18.476683,
          37.45182,
          -10.741239,
          24.256035,
          3.6512167
         ],
         "z": [
          8.604841,
          5.8386025,
          -20.99135,
          35.22984,
          28.115576,
          -13.06558,
          -40.341347,
          -23.407244,
          3.6763186,
          15.824558,
          -24.685068,
          25.543438,
          -0.2539517,
          -13.813532,
          33.168316,
          -5.4113636,
          -38.49642,
          34.076126,
          -1.4232739,
          -8.727213,
          1.1216031,
          -5.9284844,
          37.47115,
          9.885627,
          -10.685794,
          25.29439,
          -6.36736,
          42.907673,
          16.194122,
          -8.378338,
          -3.3471723,
          -12.52325,
          37.903137
         ]
        },
        {
         "customdata": [
          [
           "Estructura Organizativa"
          ],
          [
           "Estructura Organizativa"
          ],
          [
           "Estructura Organizativa"
          ],
          [
           "Estructura Organizativa"
          ],
          [
           "Estructura Organizativa"
          ],
          [
           "Estructura Organizativa"
          ],
          [
           "Estructura Organizativa"
          ],
          [
           "Estructura Organizativa"
          ],
          [
           "Estructura Organizativa"
          ],
          [
           "Estructura Organizativa"
          ],
          [
           "Estructura Organizativa"
          ],
          [
           "Estructura Organizativa"
          ],
          [
           "Estructura Organizativa"
          ],
          [
           "Estructura Organizativa"
          ],
          [
           "Estructura Organizativa"
          ],
          [
           "Estructura Organizativa"
          ],
          [
           "Estructura Organizativa"
          ],
          [
           "Estructura Organizativa"
          ],
          [
           "Estructura Organizativa"
          ],
          [
           "Estructura Organizativa"
          ],
          [
           "Estructura Organizativa"
          ],
          [
           "Estructura Organizativa"
          ],
          [
           "Estructura Organizativa"
          ],
          [
           "Estructura Organizativa"
          ],
          [
           "Estructura Organizativa"
          ],
          [
           "Estructura Organizativa"
          ],
          [
           "Estructura Organizativa"
          ],
          [
           "Estructura Organizativa"
          ],
          [
           "Estructura Organizativa"
          ],
          [
           "Estructura Organizativa"
          ],
          [
           "Estructura Organizativa"
          ],
          [
           "Estructura Organizativa"
          ],
          [
           "Estructura Organizativa"
          ],
          [
           "Estructura Organizativa"
          ],
          [
           "Estructura Organizativa"
          ],
          [
           "Estructura Organizativa"
          ],
          [
           "Estructura Organizativa"
          ],
          [
           "Estructura Organizativa"
          ],
          [
           "Estructura Organizativa"
          ],
          [
           "Estructura Organizativa"
          ],
          [
           "Estructura Organizativa"
          ],
          [
           "Estructura Organizativa"
          ],
          [
           "Estructura Organizativa"
          ],
          [
           "Estructura Organizativa"
          ],
          [
           "Estructura Organizativa"
          ],
          [
           "Estructura Organizativa"
          ],
          [
           "Estructura Organizativa"
          ],
          [
           "Estructura Organizativa"
          ],
          [
           "Estructura Organizativa"
          ],
          [
           "Estructura Organizativa"
          ],
          [
           "Estructura Organizativa"
          ],
          [
           "Estructura Organizativa"
          ],
          [
           "Estructura Organizativa"
          ],
          [
           "Estructura Organizativa"
          ],
          [
           "Estructura Organizativa"
          ],
          [
           "Estructura Organizativa"
          ],
          [
           "Estructura Organizativa"
          ],
          [
           "Estructura Organizativa"
          ],
          [
           "Estructura Organizativa"
          ],
          [
           "Estructura Organizativa"
          ],
          [
           "Estructura Organizativa"
          ],
          [
           "Estructura Organizativa"
          ],
          [
           "Estructura Organizativa"
          ],
          [
           "Estructura Organizativa"
          ],
          [
           "Estructura Organizativa"
          ],
          [
           "Estructura Organizativa"
          ],
          [
           "Estructura Organizativa"
          ],
          [
           "Estructura Organizativa"
          ],
          [
           "Estructura Organizativa"
          ],
          [
           "Estructura Organizativa"
          ],
          [
           "Estructura Organizativa"
          ],
          [
           "Estructura Organizativa"
          ],
          [
           "Estructura Organizativa"
          ],
          [
           "Estructura Organizativa"
          ],
          [
           "Estructura Organizativa"
          ],
          [
           "Estructura Organizativa"
          ],
          [
           "Estructura Organizativa"
          ],
          [
           "Estructura Organizativa"
          ],
          [
           "Estructura Organizativa"
          ],
          [
           "Estructura Organizativa"
          ],
          [
           "Estructura Organizativa"
          ],
          [
           "Estructura Organizativa"
          ],
          [
           "Estructura Organizativa"
          ],
          [
           "Estructura Organizativa"
          ],
          [
           "Estructura Organizativa"
          ],
          [
           "Estructura Organizativa"
          ],
          [
           "Estructura Organizativa"
          ],
          [
           "Estructura Organizativa"
          ],
          [
           "Estructura Organizativa"
          ],
          [
           "Estructura Organizativa"
          ],
          [
           "Estructura Organizativa"
          ],
          [
           "Estructura Organizativa"
          ],
          [
           "Estructura Organizativa"
          ],
          [
           "Estructura Organizativa"
          ],
          [
           "Estructura Organizativa"
          ],
          [
           "Estructura Organizativa"
          ],
          [
           "Estructura Organizativa"
          ],
          [
           "Estructura Organizativa"
          ],
          [
           "Estructura Organizativa"
          ],
          [
           "Estructura Organizativa"
          ],
          [
           "Estructura Organizativa"
          ],
          [
           "Estructura Organizativa"
          ],
          [
           "Estructura Organizativa"
          ],
          [
           "Estructura Organizativa"
          ],
          [
           "Estructura Organizativa"
          ],
          [
           "Estructura Organizativa"
          ],
          [
           "Estructura Organizativa"
          ],
          [
           "Estructura Organizativa"
          ],
          [
           "Estructura Organizativa"
          ],
          [
           "Estructura Organizativa"
          ],
          [
           "Estructura Organizativa"
          ],
          [
           "Estructura Organizativa"
          ],
          [
           "Estructura Organizativa"
          ],
          [
           "Estructura Organizativa"
          ],
          [
           "Estructura Organizativa"
          ],
          [
           "Estructura Organizativa"
          ],
          [
           "Estructura Organizativa"
          ],
          [
           "Estructura Organizativa"
          ],
          [
           "Estructura Organizativa"
          ],
          [
           "Estructura Organizativa"
          ],
          [
           "Estructura Organizativa"
          ],
          [
           "Estructura Organizativa"
          ],
          [
           "Estructura Organizativa"
          ],
          [
           "Estructura Organizativa"
          ],
          [
           "Estructura Organizativa"
          ],
          [
           "Estructura Organizativa"
          ],
          [
           "Estructura Organizativa"
          ],
          [
           "Estructura Organizativa"
          ],
          [
           "Estructura Organizativa"
          ],
          [
           "Estructura Organizativa"
          ],
          [
           "Estructura Organizativa"
          ],
          [
           "Estructura Organizativa"
          ],
          [
           "Estructura Organizativa"
          ],
          [
           "Estructura Organizativa"
          ],
          [
           "Estructura Organizativa"
          ]
         ],
         "hovertemplate": "color=Estructura Organizativa<br>t-SNE Component 1=%{x}<br>t-SNE Component 2=%{y}<br>t-SNE Component 3=%{z}<br>label=%{customdata[0]}<extra></extra>",
         "legendgroup": "Estructura Organizativa",
         "marker": {
          "color": "#00cc96",
          "symbol": "circle"
         },
         "mode": "markers",
         "name": "Estructura Organizativa",
         "scene": "scene",
         "showlegend": true,
         "type": "scatter3d",
         "x": [
          -6.442045,
          -2.6753721,
          -1.4768499,
          0.113464594,
          -7.675481,
          27.732166,
          0.2409357,
          -3.4850936,
          5.84199,
          13.193812,
          9.407193,
          23.647652,
          27.620918,
          18.185572,
          21.11255,
          23.920364,
          22.225634,
          69.702354,
          42.667137,
          28.369787,
          21.742392,
          25.115658,
          34.288616,
          39.04333,
          13.066816,
          30.136301,
          36.71118,
          34.013046,
          38.30683,
          12.105464,
          26.980185,
          28.84378,
          25.009724,
          27.627354,
          0.9861595,
          70.285484,
          42.58161,
          58.420116,
          68.985,
          78.20945,
          39.616802,
          38.88015,
          19.64417,
          13.102366,
          71.52624,
          48.55006,
          79.95424,
          29.582224,
          20.307499,
          54.455948,
          69.62676,
          77.015625,
          54.431343,
          42.91203,
          33.22326,
          60.30312,
          59.24481,
          31.538702,
          23.100979,
          30.779858,
          35.837208,
          36.738903,
          39.91274,
          80.0707,
          29.72999,
          33.131752,
          39.609386,
          23.3326,
          30.198082,
          9.06623,
          76.930534,
          73.60075,
          70.99299,
          2.3386261,
          16.95061,
          25.155624,
          42.998035,
          40.247017,
          17.450294,
          26.08334,
          8.049672,
          31.496437,
          1.3332026,
          25.279284,
          3.4396627,
          16.830853,
          22.49676,
          19.50676,
          22.648142,
          49.839638,
          38.09426,
          55.676384,
          64.60111,
          68.96928,
          53.081947,
          59.37949,
          58.999836,
          35.702946,
          47.182514,
          62.4628,
          59.665913,
          51.907673,
          43.16176,
          33.254646,
          59.68054,
          67.87276,
          45.7948,
          13.053051,
          19.1192,
          22.689219,
          24.348623,
          56.71742,
          45.9898,
          63.110023,
          60.63457,
          43.21597,
          68.29669,
          53.989895,
          50.759926,
          39.81991,
          52.737965,
          33.916622,
          35.681713,
          49.07831,
          20.562609,
          -10.299403,
          9.445492,
          -6.2876887,
          17.553965,
          2.839557,
          35.071297,
          37.97829,
          37.879436,
          -2.0189419,
          52.294155
         ],
         "y": [
          -39.10125,
          -29.878656,
          -45.331184,
          -44.88967,
          -44.21357,
          19.33585,
          -42.71877,
          -36.858055,
          -36.800106,
          -39.533596,
          -45.712566,
          1.1291802,
          -22.490566,
          -14.752596,
          -25.99561,
          -21.471434,
          4.755403,
          -11.826982,
          -0.3858871,
          -3.1926064,
          -57.45859,
          7.383547,
          -5.8938923,
          -31.370478,
          -20.187029,
          -28.575706,
          -29.829813,
          9.89068,
          -14.68328,
          -51.987797,
          14.256251,
          -14.097126,
          -11.319483,
          -46.908573,
          -51.30026,
          16.309814,
          8.862701,
          19.864775,
          -2.3717177,
          3.8631785,
          3.9947755,
          1.0312033,
          -16.593378,
          -47.174076,
          10.256881,
          9.238751,
          13.575586,
          -16.173532,
          -37.893185,
          14.454673,
          -1.8586705,
          12.769469,
          6.9297123,
          17.67692,
          -17.179663,
          9.100848,
          5.4758234,
          -7.2354865,
          -48.471447,
          -4.3279095,
          -18.30775,
          22.713211,
          2.5604186,
          1.3825617,
          -41.755424,
          -37.222797,
          -24.67027,
          -3.8006802,
          -6.196887,
          -45.775795,
          -9.668649,
          5.8376126,
          8.913382,
          -59.719097,
          -32.254543,
          -24.71542,
          23.623259,
          -13.681301,
          -49.925842,
          -36.585186,
          -64.71725,
          -29.840698,
          -61.71958,
          -33.802734,
          -45.967926,
          -27.072008,
          8.879276,
          -20.817474,
          -26.011942,
          20.502209,
          12.608168,
          -8.1701145,
          9.416109,
          16.760443,
          -1.705694,
          1.4430816,
          17.482004,
          8.967009,
          10.755964,
          14.70271,
          -3.0969195,
          -3.789482,
          17.617674,
          5.053895,
          -0.7558069,
          7.429092,
          3.9330459,
          -54.903988,
          -4.8733435,
          -28.73092,
          -13.025714,
          26.176554,
          11.574355,
          11.425619,
          24.351768,
          5.314307,
          18.428999,
          8.525479,
          24.140524,
          -0.35579357,
          3.5860143,
          3.599881,
          14.389375,
          15.907332,
          -42.371803,
          -48.04867,
          -54.28291,
          -52.70118,
          -40.250458,
          -52.888115,
          -9.051748,
          -3.504866,
          -7.104899,
          -52.161705,
          0.36902907
         ],
         "z": [
          22.571302,
          35.144962,
          20.13647,
          10.828723,
          31.915642,
          -7.8085766,
          28.083725,
          32.24575,
          5.8273597,
          -3.5937572,
          14.029983,
          14.532742,
          15.955784,
          5.4629073,
          -19.160748,
          -12.251061,
          5.379624,
          9.219642,
          0.9510173,
          -8.775975,
          0.31249148,
          -3.2261245,
          -0.6628502,
          -6.099286,
          -13.827495,
          -9.803604,
          -20.871763,
          14.627727,
          -17.132582,
          -1.4997513,
          -0.65103245,
          -2.5652404,
          -12.01516,
          8.243763,
          4.659683,
          2.5050087,
          -4.7002115,
          -8.291289,
          2.1399858,
          -3.9800398,
          10.095925,
          -7.1267953,
          -5.532338,
          -11.242198,
          13.625311,
          16.124645,
          6.029473,
          -18.824928,
          -11.357989,
          -0.933049,
          11.87267,
          -3.706462,
          12.078416,
          13.370182,
          -10.187466,
          -10.3394575,
          -0.6735433,
          16.608679,
          -5.941052,
          7.5633116,
          4.966873,
          4.652122,
          17.34204,
          12.652483,
          -1.0617639,
          -8.690933,
          -13.317901,
          1.1983566,
          -18.477316,
          4.38941,
          4.6709347,
          4.4138393,
          -14.262123,
          10.32191,
          0.96816266,
          -2.9214776,
          -14.598295,
          -5.1988297,
          6.5835204,
          6.000588,
          2.3607645,
          0.68080914,
          -1.3097639,
          -3.9501078,
          -4.2325253,
          -7.9972324,
          15.303356,
          16.183706,
          8.088555,
          5.2032204,
          -14.856182,
          -0.7135609,
          7.365124,
          -6.9770226,
          -8.883366,
          25.305288,
          7.246143,
          -22.144463,
          3.228419,
          -1.7060423,
          -9.228799,
          27.08946,
          -1.9424856,
          -15.093728,
          8.793855,
          -4.58565,
          25.647995,
          16.326382,
          13.17625,
          16.569138,
          8.769523,
          7.8143992,
          -20.536825,
          16.440565,
          0.41294092,
          -16.67694,
          11.712869,
          24.808569,
          -3.00405,
          -22.565176,
          31.693062,
          1.780714,
          4.924766,
          -8.723272,
          0.55292165,
          23.108992,
          7.6609015,
          13.929773,
          9.026442,
          16.724176,
          -11.178862,
          26.774038,
          7.642711,
          26.318935,
          19.515041
         ]
        },
        {
         "customdata": [
          [
           "Riesgos"
          ],
          [
           "Riesgos"
          ],
          [
           "Riesgos"
          ],
          [
           "Riesgos"
          ],
          [
           "Riesgos"
          ],
          [
           "Riesgos"
          ],
          [
           "Riesgos"
          ],
          [
           "Riesgos"
          ],
          [
           "Riesgos"
          ],
          [
           "Riesgos"
          ],
          [
           "Riesgos"
          ],
          [
           "Riesgos"
          ],
          [
           "Riesgos"
          ],
          [
           "Riesgos"
          ],
          [
           "Riesgos"
          ],
          [
           "Riesgos"
          ],
          [
           "Riesgos"
          ],
          [
           "Riesgos"
          ],
          [
           "Riesgos"
          ],
          [
           "Riesgos"
          ],
          [
           "Riesgos"
          ],
          [
           "Riesgos"
          ],
          [
           "Riesgos"
          ],
          [
           "Riesgos"
          ],
          [
           "Riesgos"
          ],
          [
           "Riesgos"
          ],
          [
           "Riesgos"
          ],
          [
           "Riesgos"
          ],
          [
           "Riesgos"
          ],
          [
           "Riesgos"
          ],
          [
           "Riesgos"
          ],
          [
           "Riesgos"
          ],
          [
           "Riesgos"
          ],
          [
           "Riesgos"
          ],
          [
           "Riesgos"
          ],
          [
           "Riesgos"
          ],
          [
           "Riesgos"
          ],
          [
           "Riesgos"
          ],
          [
           "Riesgos"
          ],
          [
           "Riesgos"
          ],
          [
           "Riesgos"
          ]
         ],
         "hovertemplate": "color=Riesgos<br>t-SNE Component 1=%{x}<br>t-SNE Component 2=%{y}<br>t-SNE Component 3=%{z}<br>label=%{customdata[0]}<extra></extra>",
         "legendgroup": "Riesgos",
         "marker": {
          "color": "#ab63fa",
          "symbol": "circle"
         },
         "mode": "markers",
         "name": "Riesgos",
         "scene": "scene",
         "showlegend": true,
         "type": "scatter3d",
         "x": [
          -35.72372,
          -42.661266,
          -13.440573,
          -33.20432,
          -43.88817,
          -42.362534,
          -26.535156,
          -33.67759,
          -37.028522,
          9.628735,
          14.7657795,
          18.481247,
          -35.98354,
          -37.4093,
          -20.515718,
          -26.63833,
          -49.379997,
          -9.289035,
          -31.827496,
          -18.221186,
          -16.041948,
          -47.564102,
          -34.48801,
          -25.581121,
          -30.265747,
          -59.744514,
          -36.67141,
          -21.46022,
          -25.73186,
          -14.312589,
          -14.793839,
          -18.784296,
          -22.537048,
          -34.89472,
          -15.783752,
          -20.61474,
          -5.3559113,
          -1.8917587,
          -25.216,
          -21.62261,
          -33.167004
         ],
         "y": [
          30.216154,
          11.768117,
          46.19532,
          46.390747,
          11.734141,
          0.34859043,
          38.923607,
          19.887806,
          27.77036,
          18.311579,
          13.205643,
          7.3898373,
          39.45296,
          34.470066,
          12.34301,
          13.133154,
          -17.659897,
          -14.075118,
          18.800467,
          -21.224195,
          -11.556824,
          22.796434,
          -20.40292,
          0.6629901,
          15.320915,
          -20.358774,
          5.4323606,
          17.910984,
          23.886791,
          4.157101,
          -5.4435,
          22.70515,
          -11.450509,
          -0.53657526,
          23.330976,
          31.063347,
          23.620705,
          35.579933,
          6.4477444,
          4.0945654,
          9.689451
         ],
         "z": [
          11.897593,
          5.2895703,
          -1.1495286,
          3.1388123,
          -1.7521518,
          -21.321756,
          9.44804,
          2.435044,
          -2.246759,
          -37.30122,
          -37.38902,
          -38.305733,
          -20.009235,
          -13.446755,
          13.309124,
          25.686726,
          -9.182164,
          -24.465826,
          14.989279,
          -24.844467,
          -12.8073845,
          17.546993,
          -11.15169,
          -40.448334,
          -9.254027,
          -8.870637,
          -7.5307326,
          -2.795017,
          -9.141009,
          14.640131,
          9.505352,
          -38.167305,
          16.502281,
          17.209026,
          -17.038303,
          -19.891266,
          -30.8516,
          9.6564,
          -5.2511764,
          4.636103,
          8.315886
         ]
        },
        {
         "customdata": [
          [
           "Información"
          ],
          [
           "Información"
          ],
          [
           "Información"
          ],
          [
           "Información"
          ],
          [
           "Información"
          ],
          [
           "Información"
          ],
          [
           "Información"
          ],
          [
           "Información"
          ],
          [
           "Información"
          ],
          [
           "Información"
          ],
          [
           "Información"
          ],
          [
           "Información"
          ],
          [
           "Información"
          ],
          [
           "Información"
          ],
          [
           "Información"
          ],
          [
           "Información"
          ]
         ],
         "hovertemplate": "color=Información<br>t-SNE Component 1=%{x}<br>t-SNE Component 2=%{y}<br>t-SNE Component 3=%{z}<br>label=%{customdata[0]}<extra></extra>",
         "legendgroup": "Información",
         "marker": {
          "color": "#FFA15A",
          "symbol": "circle"
         },
         "mode": "markers",
         "name": "Información",
         "scene": "scene",
         "showlegend": true,
         "type": "scatter3d",
         "x": [
          -27.220592,
          -11.017516,
          -30.209743,
          -30.847908,
          -59.878372,
          -28.618048,
          -7.4252954,
          -10.882195,
          -11.50976,
          -41.296455,
          -29.260252,
          9.446268,
          6.1293373,
          -26.864847,
          -31.927586,
          -19.450693
         ],
         "y": [
          -5.8235865,
          10.919633,
          10.034035,
          -2.3602667,
          15.730554,
          24.444847,
          -1.0085803,
          38.126102,
          44.638485,
          12.916188,
          -2.0297134,
          2.0152867,
          -1.9474102,
          14.227811,
          17.852398,
          17.438684
         ],
         "z": [
          9.404017,
          20.393126,
          -17.09867,
          -14.683117,
          3.061417,
          8.362675,
          -22.272123,
          6.7000422,
          11.948118,
          25.336817,
          -1.9165105,
          25.661913,
          -32.286312,
          8.445569,
          37.352047,
          28.487276
         ]
        },
        {
         "customdata": [
          [
           "Emergencia"
          ],
          [
           "Emergencia"
          ],
          [
           "Emergencia"
          ],
          [
           "Emergencia"
          ],
          [
           "Emergencia"
          ],
          [
           "Emergencia"
          ],
          [
           "Emergencia"
          ],
          [
           "Emergencia"
          ],
          [
           "Emergencia"
          ],
          [
           "Emergencia"
          ],
          [
           "Emergencia"
          ],
          [
           "Emergencia"
          ],
          [
           "Emergencia"
          ],
          [
           "Emergencia"
          ],
          [
           "Emergencia"
          ],
          [
           "Emergencia"
          ],
          [
           "Emergencia"
          ],
          [
           "Emergencia"
          ],
          [
           "Emergencia"
          ],
          [
           "Emergencia"
          ],
          [
           "Emergencia"
          ],
          [
           "Emergencia"
          ],
          [
           "Emergencia"
          ],
          [
           "Emergencia"
          ],
          [
           "Emergencia"
          ],
          [
           "Emergencia"
          ],
          [
           "Emergencia"
          ],
          [
           "Emergencia"
          ],
          [
           "Emergencia"
          ],
          [
           "Emergencia"
          ],
          [
           "Emergencia"
          ],
          [
           "Emergencia"
          ],
          [
           "Emergencia"
          ],
          [
           "Emergencia"
          ],
          [
           "Emergencia"
          ],
          [
           "Emergencia"
          ],
          [
           "Emergencia"
          ],
          [
           "Emergencia"
          ],
          [
           "Emergencia"
          ],
          [
           "Emergencia"
          ],
          [
           "Emergencia"
          ],
          [
           "Emergencia"
          ],
          [
           "Emergencia"
          ],
          [
           "Emergencia"
          ],
          [
           "Emergencia"
          ],
          [
           "Emergencia"
          ],
          [
           "Emergencia"
          ],
          [
           "Emergencia"
          ],
          [
           "Emergencia"
          ],
          [
           "Emergencia"
          ],
          [
           "Emergencia"
          ],
          [
           "Emergencia"
          ],
          [
           "Emergencia"
          ],
          [
           "Emergencia"
          ],
          [
           "Emergencia"
          ],
          [
           "Emergencia"
          ],
          [
           "Emergencia"
          ],
          [
           "Emergencia"
          ],
          [
           "Emergencia"
          ],
          [
           "Emergencia"
          ],
          [
           "Emergencia"
          ],
          [
           "Emergencia"
          ],
          [
           "Emergencia"
          ],
          [
           "Emergencia"
          ]
         ],
         "hovertemplate": "color=Emergencia<br>t-SNE Component 1=%{x}<br>t-SNE Component 2=%{y}<br>t-SNE Component 3=%{z}<br>label=%{customdata[0]}<extra></extra>",
         "legendgroup": "Emergencia",
         "marker": {
          "color": "#19d3f3",
          "symbol": "circle"
         },
         "mode": "markers",
         "name": "Emergencia",
         "scene": "scene",
         "showlegend": true,
         "type": "scatter3d",
         "x": [
          -52.01043,
          -54.615314,
          -61.827694,
          -24.643652,
          -44.53538,
          -40.919865,
          -39.181755,
          -50.145657,
          -45.67562,
          -37.819733,
          -55.069202,
          -50.797836,
          -26.310411,
          -29.031939,
          -31.393072,
          -10.047147,
          -13.547212,
          4.9113216,
          -4.1980734,
          0.011008126,
          5.3426747,
          -36.76957,
          4.5069504,
          14.147953,
          -19.125595,
          -36.82922,
          -10.991024,
          -10.534866,
          11.996731,
          4.8971086,
          3.7751317,
          17.70377,
          -49.64166,
          -2.0636902,
          -5.7778983,
          0.59721315,
          1.5297107,
          -5.5824437,
          -46.694252,
          -33.323227,
          -27.196037,
          -29.879684,
          -33.781002,
          -21.732904,
          -4.7088284,
          -6.2471166,
          6.405296,
          1.9659052,
          -24.078684,
          1.4366688,
          5.798978,
          -6.0171003,
          11.851947,
          4.231715,
          -28.833036,
          -35.622868,
          -27.884819,
          -2.589498,
          -62.494267,
          -21.67533,
          6.3090467,
          12.535617,
          -46.047077,
          11.026128
         ],
         "y": [
          17.679613,
          -6.6675515,
          -4.230437,
          -10.14388,
          -6.5735445,
          -5.2241755,
          -13.692646,
          5.1598206,
          0.5751163,
          1.169101,
          4.939353,
          33.596966,
          37.622765,
          -41.384315,
          -43.186172,
          38.6972,
          45.8171,
          20.282778,
          29.195967,
          36.30432,
          35.6187,
          -8.488047,
          19.486591,
          16.49161,
          -18.824547,
          -9.177112,
          -17.262531,
          -21.02273,
          38.597942,
          11.1857195,
          13.86524,
          37.88686,
          3.0751548,
          3.2842014,
          9.822255,
          28.089355,
          11.993096,
          0.31587982,
          -12.032806,
          -13.515698,
          -18.921648,
          -27.10588,
          -19.369207,
          -4.1772614,
          38.548553,
          9.933852,
          -0.653008,
          -10.559358,
          0.14412396,
          -4.898619,
          -10.685675,
          10.87099,
          21.343327,
          43.484875,
          -19.71956,
          31.287767,
          29.741308,
          20.165861,
          14.59717,
          0.79475343,
          13.776917,
          7.6639285,
          -17.105465,
          10.535358
         ],
         "z": [
          -26.09105,
          -0.06514522,
          -3.7467878,
          -25.311941,
          -2.8619535,
          6.620905,
          6.766562,
          0.6265952,
          6.4599457,
          1.9726002,
          9.028991,
          -5.8525853,
          -6.6563697,
          0.3960667,
          6.937387,
          -24.579176,
          -23.270166,
          -11.56544,
          -17.644615,
          -19.249077,
          -6.9601097,
          -6.2386427,
          5.6227984,
          -15.251471,
          6.1634874,
          17.774282,
          13.606054,
          20.418402,
          -0.21983264,
          14.434557,
          -22.823483,
          -3.6657808,
          -8.552893,
          14.515965,
          7.978282,
          -2.6483216,
          4.330583,
          3.3762226,
          -25.701277,
          -30.88459,
          -26.601458,
          -26.178558,
          -1.8594414,
          -8.023137,
          -32.687195,
          -29.439444,
          5.3423905,
          12.022506,
          22.357306,
          3.6733215,
          -0.9081279,
          -3.0376189,
          -2.8859355,
          -6.4042735,
          -19.459713,
          28.270056,
          24.039854,
          -0.082322836,
          -11.115289,
          27.9523,
          -4.025787,
          -9.661444,
          23.693983,
          1.460397
         ]
        },
        {
         "customdata": [
          [
           "Question: ¿Cómo se diferencia la ubicación física de la operativa?<br>Closest Model: Emergencia<br>Similarity: 0.24<br>Chunk: el resultado de la participación eficiente de todos los grupos y trabajadores  implicados, así como ..."
          ],
          [
           "Question: ¿Qué información se incluye en el informe de la evaluación de riesgos que ofrece la plataforma y cuál es su utilidad para la gestión de riesgos en la empresa?<br>Closest Model: Emergencia<br>Similarity: 0.41<br>Chunk: El usuario accede a la pestaña “Generar documentos” y visualiza el listado de informes  generados en..."
          ],
          [
           "Question: ¿Hay indicadores relativos al cumplimiento de normas?<br>Closest Model: Auditorias<br>Similarity: 0.26<br>Chunk: El usuario accede al cardboard “Diagnósticos ISO” y visualiza una pantalla con el conjunto de  están..."
          ],
          [
           "Question: ¿Qué papel juega la estructura organizativa en la funcionalidad general de la plataforma y cómo interactúa con otros módulos?<br>Closest Model: Información<br>Similarity: 0.42<br>Chunk: 6  •  Ausentismo: Se visualizan todos los archivos añadidos en la pestaña “Documentación”  de los di..."
          ],
          [
           "Question: ¿Qué permite realizar la evaluación de riesgos?<br>Closest Model: Emergencia<br>Similarity: 0.65<br>Chunk: 19  Al clicar a la acción Evaluar del listado, el usuario es redirigido al formulario de evaluación ..."
          ],
          [
           "Question: ¿Qué tipo de documentos se pueden almacenar y compartir en el espacio denominado 'Documentos' y cuál es su importancia dentro del contexto de la gestión empresarial en la plataforma?<br>Closest Model: Emergencia<br>Similarity: 0.36<br>Chunk: el cuestionario de la evaluación se  muestra como no editable y se habilitan las pestañas Actividade..."
          ],
          [
           "Question: ¿Se pueden llevar a cabo auditorías internas?<br>Closest Model: Estructura Organizativa<br>Similarity: 0.48<br>Chunk: 3. HOME ESTRUCTURA ORGANIZATIVA  El usuario puede acceder al módulo Estructura Organizativa (EO), de..."
          ],
          [
           "Question: ¿Cuál es la tasa de adopción de esta plataforma en el mercado?<br>Closest Model: Información<br>Similarity: 0.42<br>Chunk: 6  •  Ausentismo: Se visualizan todos los archivos añadidos en la pestaña “Documentación”  de los di..."
          ],
          [
           "Question: ¿Cómo se compara esta plataforma con otras soluciones de gestión de SST?<br>Closest Model: Emergencia<br>Similarity: 0.43<br>Chunk: Sabentis es la nueva plataforma de gestión especializada en el ámbito de Seguridad y Salud en  el Tr..."
          ],
          [
           "Question: ¿Qué día hará mañana?<br>Closest Model: Emergencia<br>Similarity: 0.19<br>Chunk: de tener  una evaluación realizada ésta se perderá.  •  Evaluar: Permite acceder al cuestionario de ..."
          ]
         ],
         "hovertemplate": "color=Question<br>t-SNE Component 1=%{x}<br>t-SNE Component 2=%{y}<br>t-SNE Component 3=%{z}<br>label=%{customdata[0]}<extra></extra>",
         "legendgroup": "Question",
         "marker": {
          "color": "#FF6692",
          "symbol": "circle"
         },
         "mode": "markers",
         "name": "Question",
         "scene": "scene",
         "showlegend": true,
         "type": "scatter3d",
         "x": [
          -63.27749,
          -32.094425,
          -36.635387,
          -63.279522,
          -27.216618,
          -49.4276,
          4.377357,
          -63.279522,
          -57.249104,
          -36.328606
         ],
         "y": [
          8.996162,
          1.9868791,
          -31.656813,
          -11.126228,
          -20.106215,
          -9.900077,
          -21.25333,
          -11.126228,
          -12.915611,
          11.353509
         ],
         "z": [
          10.563252,
          31.836615,
          -9.18853,
          22.87451,
          -35.93777,
          12.325398,
          -29.490742,
          22.87451,
          9.238857,
          -30.645004
         ]
        },
        {
         "mode": "markers+text",
         "showlegend": false,
         "text": "Q1",
         "textposition": "top center",
         "type": "scatter3d",
         "x": [
          -63.277488708496094
         ],
         "y": [
          8.996162414550781
         ],
         "z": [
          10.563252449035645
         ]
        },
        {
         "mode": "markers+text",
         "showlegend": false,
         "text": "Q2",
         "textposition": "top center",
         "type": "scatter3d",
         "x": [
          -32.094425201416016
         ],
         "y": [
          1.9868791103363037
         ],
         "z": [
          31.83661460876465
         ]
        },
        {
         "mode": "markers+text",
         "showlegend": false,
         "text": "Q3",
         "textposition": "top center",
         "type": "scatter3d",
         "x": [
          -36.6353874206543
         ],
         "y": [
          -31.65681266784668
         ],
         "z": [
          -9.188529968261719
         ]
        },
        {
         "mode": "markers+text",
         "showlegend": false,
         "text": "Q4",
         "textposition": "top center",
         "type": "scatter3d",
         "x": [
          -63.27952194213867
         ],
         "y": [
          -11.126228332519531
         ],
         "z": [
          22.874509811401367
         ]
        },
        {
         "mode": "markers+text",
         "showlegend": false,
         "text": "Q5",
         "textposition": "top center",
         "type": "scatter3d",
         "x": [
          -27.216617584228516
         ],
         "y": [
          -20.10621452331543
         ],
         "z": [
          -35.93777084350586
         ]
        },
        {
         "mode": "markers+text",
         "showlegend": false,
         "text": "Q6",
         "textposition": "top center",
         "type": "scatter3d",
         "x": [
          -49.4276008605957
         ],
         "y": [
          -9.900076866149902
         ],
         "z": [
          12.325398445129395
         ]
        },
        {
         "mode": "markers+text",
         "showlegend": false,
         "text": "Q7",
         "textposition": "top center",
         "type": "scatter3d",
         "x": [
          4.377357006072998
         ],
         "y": [
          -21.25333023071289
         ],
         "z": [
          -29.490741729736328
         ]
        },
        {
         "mode": "markers+text",
         "showlegend": false,
         "text": "Q8",
         "textposition": "top center",
         "type": "scatter3d",
         "x": [
          -63.27952194213867
         ],
         "y": [
          -11.126228332519531
         ],
         "z": [
          22.874509811401367
         ]
        },
        {
         "mode": "markers+text",
         "showlegend": false,
         "text": "Q9",
         "textposition": "top center",
         "type": "scatter3d",
         "x": [
          -57.24910354614258
         ],
         "y": [
          -12.915611267089844
         ],
         "z": [
          9.23885726928711
         ]
        },
        {
         "mode": "markers+text",
         "showlegend": false,
         "text": "Q10",
         "textposition": "top center",
         "type": "scatter3d",
         "x": [
          -36.32860565185547
         ],
         "y": [
          11.353508949279785
         ],
         "z": [
          -30.645004272460938
         ]
        }
       ],
       "layout": {
        "legend": {
         "title": {
          "text": "color"
         },
         "tracegroupgap": 0
        },
        "scene": {
         "domain": {
          "x": [
           0,
           1
          ],
          "y": [
           0,
           1
          ]
         },
         "xaxis": {
          "title": {
           "text": "t-SNE Component 1"
          }
         },
         "yaxis": {
          "title": {
           "text": "t-SNE Component 2"
          }
         },
         "zaxis": {
          "title": {
           "text": "t-SNE Component 3"
          }
         }
        },
        "template": {
         "data": {
          "bar": [
           {
            "error_x": {
             "color": "#2a3f5f"
            },
            "error_y": {
             "color": "#2a3f5f"
            },
            "marker": {
             "line": {
              "color": "#E5ECF6",
              "width": 0.5
             },
             "pattern": {
              "fillmode": "overlay",
              "size": 10,
              "solidity": 0.2
             }
            },
            "type": "bar"
           }
          ],
          "barpolar": [
           {
            "marker": {
             "line": {
              "color": "#E5ECF6",
              "width": 0.5
             },
             "pattern": {
              "fillmode": "overlay",
              "size": 10,
              "solidity": 0.2
             }
            },
            "type": "barpolar"
           }
          ],
          "carpet": [
           {
            "aaxis": {
             "endlinecolor": "#2a3f5f",
             "gridcolor": "white",
             "linecolor": "white",
             "minorgridcolor": "white",
             "startlinecolor": "#2a3f5f"
            },
            "baxis": {
             "endlinecolor": "#2a3f5f",
             "gridcolor": "white",
             "linecolor": "white",
             "minorgridcolor": "white",
             "startlinecolor": "#2a3f5f"
            },
            "type": "carpet"
           }
          ],
          "choropleth": [
           {
            "colorbar": {
             "outlinewidth": 0,
             "ticks": ""
            },
            "type": "choropleth"
           }
          ],
          "contour": [
           {
            "colorbar": {
             "outlinewidth": 0,
             "ticks": ""
            },
            "colorscale": [
             [
              0,
              "#0d0887"
             ],
             [
              0.1111111111111111,
              "#46039f"
             ],
             [
              0.2222222222222222,
              "#7201a8"
             ],
             [
              0.3333333333333333,
              "#9c179e"
             ],
             [
              0.4444444444444444,
              "#bd3786"
             ],
             [
              0.5555555555555556,
              "#d8576b"
             ],
             [
              0.6666666666666666,
              "#ed7953"
             ],
             [
              0.7777777777777778,
              "#fb9f3a"
             ],
             [
              0.8888888888888888,
              "#fdca26"
             ],
             [
              1,
              "#f0f921"
             ]
            ],
            "type": "contour"
           }
          ],
          "contourcarpet": [
           {
            "colorbar": {
             "outlinewidth": 0,
             "ticks": ""
            },
            "type": "contourcarpet"
           }
          ],
          "heatmap": [
           {
            "colorbar": {
             "outlinewidth": 0,
             "ticks": ""
            },
            "colorscale": [
             [
              0,
              "#0d0887"
             ],
             [
              0.1111111111111111,
              "#46039f"
             ],
             [
              0.2222222222222222,
              "#7201a8"
             ],
             [
              0.3333333333333333,
              "#9c179e"
             ],
             [
              0.4444444444444444,
              "#bd3786"
             ],
             [
              0.5555555555555556,
              "#d8576b"
             ],
             [
              0.6666666666666666,
              "#ed7953"
             ],
             [
              0.7777777777777778,
              "#fb9f3a"
             ],
             [
              0.8888888888888888,
              "#fdca26"
             ],
             [
              1,
              "#f0f921"
             ]
            ],
            "type": "heatmap"
           }
          ],
          "heatmapgl": [
           {
            "colorbar": {
             "outlinewidth": 0,
             "ticks": ""
            },
            "colorscale": [
             [
              0,
              "#0d0887"
             ],
             [
              0.1111111111111111,
              "#46039f"
             ],
             [
              0.2222222222222222,
              "#7201a8"
             ],
             [
              0.3333333333333333,
              "#9c179e"
             ],
             [
              0.4444444444444444,
              "#bd3786"
             ],
             [
              0.5555555555555556,
              "#d8576b"
             ],
             [
              0.6666666666666666,
              "#ed7953"
             ],
             [
              0.7777777777777778,
              "#fb9f3a"
             ],
             [
              0.8888888888888888,
              "#fdca26"
             ],
             [
              1,
              "#f0f921"
             ]
            ],
            "type": "heatmapgl"
           }
          ],
          "histogram": [
           {
            "marker": {
             "pattern": {
              "fillmode": "overlay",
              "size": 10,
              "solidity": 0.2
             }
            },
            "type": "histogram"
           }
          ],
          "histogram2d": [
           {
            "colorbar": {
             "outlinewidth": 0,
             "ticks": ""
            },
            "colorscale": [
             [
              0,
              "#0d0887"
             ],
             [
              0.1111111111111111,
              "#46039f"
             ],
             [
              0.2222222222222222,
              "#7201a8"
             ],
             [
              0.3333333333333333,
              "#9c179e"
             ],
             [
              0.4444444444444444,
              "#bd3786"
             ],
             [
              0.5555555555555556,
              "#d8576b"
             ],
             [
              0.6666666666666666,
              "#ed7953"
             ],
             [
              0.7777777777777778,
              "#fb9f3a"
             ],
             [
              0.8888888888888888,
              "#fdca26"
             ],
             [
              1,
              "#f0f921"
             ]
            ],
            "type": "histogram2d"
           }
          ],
          "histogram2dcontour": [
           {
            "colorbar": {
             "outlinewidth": 0,
             "ticks": ""
            },
            "colorscale": [
             [
              0,
              "#0d0887"
             ],
             [
              0.1111111111111111,
              "#46039f"
             ],
             [
              0.2222222222222222,
              "#7201a8"
             ],
             [
              0.3333333333333333,
              "#9c179e"
             ],
             [
              0.4444444444444444,
              "#bd3786"
             ],
             [
              0.5555555555555556,
              "#d8576b"
             ],
             [
              0.6666666666666666,
              "#ed7953"
             ],
             [
              0.7777777777777778,
              "#fb9f3a"
             ],
             [
              0.8888888888888888,
              "#fdca26"
             ],
             [
              1,
              "#f0f921"
             ]
            ],
            "type": "histogram2dcontour"
           }
          ],
          "mesh3d": [
           {
            "colorbar": {
             "outlinewidth": 0,
             "ticks": ""
            },
            "type": "mesh3d"
           }
          ],
          "parcoords": [
           {
            "line": {
             "colorbar": {
              "outlinewidth": 0,
              "ticks": ""
             }
            },
            "type": "parcoords"
           }
          ],
          "pie": [
           {
            "automargin": true,
            "type": "pie"
           }
          ],
          "scatter": [
           {
            "fillpattern": {
             "fillmode": "overlay",
             "size": 10,
             "solidity": 0.2
            },
            "type": "scatter"
           }
          ],
          "scatter3d": [
           {
            "line": {
             "colorbar": {
              "outlinewidth": 0,
              "ticks": ""
             }
            },
            "marker": {
             "colorbar": {
              "outlinewidth": 0,
              "ticks": ""
             }
            },
            "type": "scatter3d"
           }
          ],
          "scattercarpet": [
           {
            "marker": {
             "colorbar": {
              "outlinewidth": 0,
              "ticks": ""
             }
            },
            "type": "scattercarpet"
           }
          ],
          "scattergeo": [
           {
            "marker": {
             "colorbar": {
              "outlinewidth": 0,
              "ticks": ""
             }
            },
            "type": "scattergeo"
           }
          ],
          "scattergl": [
           {
            "marker": {
             "colorbar": {
              "outlinewidth": 0,
              "ticks": ""
             }
            },
            "type": "scattergl"
           }
          ],
          "scattermapbox": [
           {
            "marker": {
             "colorbar": {
              "outlinewidth": 0,
              "ticks": ""
             }
            },
            "type": "scattermapbox"
           }
          ],
          "scatterpolar": [
           {
            "marker": {
             "colorbar": {
              "outlinewidth": 0,
              "ticks": ""
             }
            },
            "type": "scatterpolar"
           }
          ],
          "scatterpolargl": [
           {
            "marker": {
             "colorbar": {
              "outlinewidth": 0,
              "ticks": ""
             }
            },
            "type": "scatterpolargl"
           }
          ],
          "scatterternary": [
           {
            "marker": {
             "colorbar": {
              "outlinewidth": 0,
              "ticks": ""
             }
            },
            "type": "scatterternary"
           }
          ],
          "surface": [
           {
            "colorbar": {
             "outlinewidth": 0,
             "ticks": ""
            },
            "colorscale": [
             [
              0,
              "#0d0887"
             ],
             [
              0.1111111111111111,
              "#46039f"
             ],
             [
              0.2222222222222222,
              "#7201a8"
             ],
             [
              0.3333333333333333,
              "#9c179e"
             ],
             [
              0.4444444444444444,
              "#bd3786"
             ],
             [
              0.5555555555555556,
              "#d8576b"
             ],
             [
              0.6666666666666666,
              "#ed7953"
             ],
             [
              0.7777777777777778,
              "#fb9f3a"
             ],
             [
              0.8888888888888888,
              "#fdca26"
             ],
             [
              1,
              "#f0f921"
             ]
            ],
            "type": "surface"
           }
          ],
          "table": [
           {
            "cells": {
             "fill": {
              "color": "#EBF0F8"
             },
             "line": {
              "color": "white"
             }
            },
            "header": {
             "fill": {
              "color": "#C8D4E3"
             },
             "line": {
              "color": "white"
             }
            },
            "type": "table"
           }
          ]
         },
         "layout": {
          "annotationdefaults": {
           "arrowcolor": "#2a3f5f",
           "arrowhead": 0,
           "arrowwidth": 1
          },
          "autotypenumbers": "strict",
          "coloraxis": {
           "colorbar": {
            "outlinewidth": 0,
            "ticks": ""
           }
          },
          "colorscale": {
           "diverging": [
            [
             0,
             "#8e0152"
            ],
            [
             0.1,
             "#c51b7d"
            ],
            [
             0.2,
             "#de77ae"
            ],
            [
             0.3,
             "#f1b6da"
            ],
            [
             0.4,
             "#fde0ef"
            ],
            [
             0.5,
             "#f7f7f7"
            ],
            [
             0.6,
             "#e6f5d0"
            ],
            [
             0.7,
             "#b8e186"
            ],
            [
             0.8,
             "#7fbc41"
            ],
            [
             0.9,
             "#4d9221"
            ],
            [
             1,
             "#276419"
            ]
           ],
           "sequential": [
            [
             0,
             "#0d0887"
            ],
            [
             0.1111111111111111,
             "#46039f"
            ],
            [
             0.2222222222222222,
             "#7201a8"
            ],
            [
             0.3333333333333333,
             "#9c179e"
            ],
            [
             0.4444444444444444,
             "#bd3786"
            ],
            [
             0.5555555555555556,
             "#d8576b"
            ],
            [
             0.6666666666666666,
             "#ed7953"
            ],
            [
             0.7777777777777778,
             "#fb9f3a"
            ],
            [
             0.8888888888888888,
             "#fdca26"
            ],
            [
             1,
             "#f0f921"
            ]
           ],
           "sequentialminus": [
            [
             0,
             "#0d0887"
            ],
            [
             0.1111111111111111,
             "#46039f"
            ],
            [
             0.2222222222222222,
             "#7201a8"
            ],
            [
             0.3333333333333333,
             "#9c179e"
            ],
            [
             0.4444444444444444,
             "#bd3786"
            ],
            [
             0.5555555555555556,
             "#d8576b"
            ],
            [
             0.6666666666666666,
             "#ed7953"
            ],
            [
             0.7777777777777778,
             "#fb9f3a"
            ],
            [
             0.8888888888888888,
             "#fdca26"
            ],
            [
             1,
             "#f0f921"
            ]
           ]
          },
          "colorway": [
           "#636efa",
           "#EF553B",
           "#00cc96",
           "#ab63fa",
           "#FFA15A",
           "#19d3f3",
           "#FF6692",
           "#B6E880",
           "#FF97FF",
           "#FECB52"
          ],
          "font": {
           "color": "#2a3f5f"
          },
          "geo": {
           "bgcolor": "white",
           "lakecolor": "white",
           "landcolor": "#E5ECF6",
           "showlakes": true,
           "showland": true,
           "subunitcolor": "white"
          },
          "hoverlabel": {
           "align": "left"
          },
          "hovermode": "closest",
          "mapbox": {
           "style": "light"
          },
          "paper_bgcolor": "white",
          "plot_bgcolor": "#E5ECF6",
          "polar": {
           "angularaxis": {
            "gridcolor": "white",
            "linecolor": "white",
            "ticks": ""
           },
           "bgcolor": "#E5ECF6",
           "radialaxis": {
            "gridcolor": "white",
            "linecolor": "white",
            "ticks": ""
           }
          },
          "scene": {
           "xaxis": {
            "backgroundcolor": "#E5ECF6",
            "gridcolor": "white",
            "gridwidth": 2,
            "linecolor": "white",
            "showbackground": true,
            "ticks": "",
            "zerolinecolor": "white"
           },
           "yaxis": {
            "backgroundcolor": "#E5ECF6",
            "gridcolor": "white",
            "gridwidth": 2,
            "linecolor": "white",
            "showbackground": true,
            "ticks": "",
            "zerolinecolor": "white"
           },
           "zaxis": {
            "backgroundcolor": "#E5ECF6",
            "gridcolor": "white",
            "gridwidth": 2,
            "linecolor": "white",
            "showbackground": true,
            "ticks": "",
            "zerolinecolor": "white"
           }
          },
          "shapedefaults": {
           "line": {
            "color": "#2a3f5f"
           }
          },
          "ternary": {
           "aaxis": {
            "gridcolor": "white",
            "linecolor": "white",
            "ticks": ""
           },
           "baxis": {
            "gridcolor": "white",
            "linecolor": "white",
            "ticks": ""
           },
           "bgcolor": "#E5ECF6",
           "caxis": {
            "gridcolor": "white",
            "linecolor": "white",
            "ticks": ""
           }
          },
          "title": {
           "x": 0.05
          },
          "xaxis": {
           "automargin": true,
           "gridcolor": "white",
           "linecolor": "white",
           "ticks": "",
           "title": {
            "standoff": 15
           },
           "zerolinecolor": "white",
           "zerolinewidth": 2
          },
          "yaxis": {
           "automargin": true,
           "gridcolor": "white",
           "linecolor": "white",
           "ticks": "",
           "title": {
            "standoff": 15
           },
           "zerolinecolor": "white",
           "zerolinewidth": 2
          }
         }
        },
        "title": {
         "text": "Embeddings Visualization with 3D t-SNE"
        }
       }
      }
     },
     "metadata": {},
     "output_type": "display_data"
    }
   ],
   "source": [
    "# Collecting sentence embeddings for each model\n",
    "model_embeddings = []\n",
    "model_labels = []\n",
    "models_list = []\n",
    "\n",
    "for key, model in models.items():\n",
    "    for paragraph in model.original_paragraphs:\n",
    "        embedding = model._get_sentence_embedding(paragraph)\n",
    "        model_embeddings.append(embedding)\n",
    "        model_labels.append(key)\n",
    "    models_list.append(key)\n",
    "\n",
    "# Collecting embeddings for questions and finding the closest model for each question\n",
    "question_embeddings = []\n",
    "question_closest_models = []\n",
    "question_similarities = []\n",
    "question_closest_paragraphs = []\n",
    "\n",
    "for question in questions:\n",
    "    query_embedding = model._get_sentence_embedding(question)\n",
    "    question_embeddings.append(query_embedding)\n",
    "    \n",
    "    # Find the closest model\n",
    "    closest_model = None\n",
    "    highest_similarity = -1\n",
    "    closest_paragraph = \"\"\n",
    "    for model_name, model in models.items():\n",
    "        similarities = [\n",
    "            (model._cosine_similarity(query_embedding, model._get_sentence_embedding(paragraph)), paragraph)\n",
    "            for paragraph in model.original_paragraphs\n",
    "        ]\n",
    "        max_similarity, best_paragraph = max(similarities, key=lambda x: x[0])\n",
    "        if max_similarity > highest_similarity:\n",
    "            highest_similarity = max_similarity\n",
    "            closest_model = model_name\n",
    "            closest_paragraph = best_paragraph\n",
    "    \n",
    "    question_closest_models.append(closest_model)\n",
    "    question_similarities.append(highest_similarity)\n",
    "    question_closest_paragraphs.append(closest_paragraph)\n",
    "\n",
    "# Printing questions and their related data based on similarity\n",
    "for question, closest_model, similarity in zip(questions, question_closest_models, question_similarities):\n",
    "    if similarity > 0.75:\n",
    "        print(f\"Question: {question}\")\n",
    "        print(f\"Closest Model: {closest_model}\")\n",
    "        print(f\"Similarity: {similarity:.2f}\")\n",
    "        print()\n",
    "    else:\n",
    "        print(f\"'{question}' does not have enough similarity\")\n",
    "\n",
    "# Combining model embeddings and question embeddings\n",
    "all_embeddings = np.array(model_embeddings + question_embeddings)\n",
    "labels = model_labels + [\"Question\"] * len(questions)\n",
    "hover_texts = model_labels + [\n",
    "    f\"Question: {question}<br>Closest Model: {closest_model}<br>Similarity: {similarity:.2f}<br>Chunk: {closest_paragraph[:100]}...\"\n",
    "    for question, closest_model, similarity, closest_paragraph in zip(questions, question_closest_models, question_similarities, question_closest_paragraphs)\n",
    "]\n",
    "\n",
    "# Reducing dimensionality using PCA for 2D and 3D plots\n",
    "pca_2d = PCA(n_components=2)\n",
    "pca_2d_result = pca_2d.fit_transform(all_embeddings)\n",
    "\n",
    "pca_3d = PCA(n_components=3)\n",
    "pca_3d_result = pca_3d.fit_transform(all_embeddings)\n",
    "\n",
    "# Reducing dimensionality using t-SNE for 2D and 3D plots\n",
    "tsne_2d = TSNE(n_components=2, random_state=42)\n",
    "tsne_2d_result = tsne_2d.fit_transform(all_embeddings)\n",
    "\n",
    "tsne_3d = TSNE(n_components=3, random_state=42)\n",
    "tsne_3d_result = tsne_3d.fit_transform(all_embeddings)\n",
    "\n",
    "# Plotting with 2D PCA\n",
    "fig_pca = px.scatter(\n",
    "    x=pca_2d_result[:, 0], \n",
    "    y=pca_2d_result[:, 1], \n",
    "    color=labels, \n",
    "    hover_data={'label': hover_texts},\n",
    "    labels={'x': 'PCA Component 1', 'y': 'PCA Component 2'},\n",
    "    title=\"Embeddings Visualization with 2D PCA\"\n",
    ")\n",
    "\n",
    "# Adding annotations for questions in 2D PCA plot\n",
    "for i, question in enumerate(questions):\n",
    "    fig_pca.add_annotation(\n",
    "        x=pca_2d_result[len(model_embeddings) + i, 0], \n",
    "        y=pca_2d_result[len(model_embeddings) + i, 1], \n",
    "        text=f\"Q{i+1}\", \n",
    "        showarrow=True,\n",
    "        arrowhead=2\n",
    "    )\n",
    "\n",
    "# Plotting with 2D t-SNE\n",
    "fig_tsne = px.scatter(\n",
    "    x=tsne_2d_result[:, 0], \n",
    "    y=tsne_2d_result[:, 1], \n",
    "    color=labels, \n",
    "    hover_data={'label': hover_texts},\n",
    "    labels={'x': 't-SNE Component 1', 'y': 't-SNE Component 2'},\n",
    "    title=\"Embeddings Visualization with 2D t-SNE\"\n",
    ")\n",
    "\n",
    "# Adding annotations for questions in 2D t-SNE plot\n",
    "for i, question in enumerate(questions):\n",
    "    fig_tsne.add_annotation(\n",
    "        x=tsne_2d_result[len(model_embeddings) + i, 0], \n",
    "        y=tsne_2d_result[len(model_embeddings) + i, 1], \n",
    "        text=f\"Q{i+1}\", \n",
    "        showarrow=True,\n",
    "        arrowhead=2\n",
    "    )\n",
    "\n",
    "# Plotting with 3D PCA\n",
    "fig_pca_3d = px.scatter_3d(\n",
    "    x=pca_3d_result[:, 0], \n",
    "    y=pca_3d_result[:, 1], \n",
    "    z=pca_3d_result[:, 2], \n",
    "    color=labels, \n",
    "    hover_data={'label': hover_texts},\n",
    "    labels={'x': 'PCA Component 1', 'y': 'PCA Component 2', 'z': 'PCA Component 3'},\n",
    "    title=\"Embeddings Visualization with 3D PCA\"\n",
    ")\n",
    "\n",
    "# Adding annotations for questions in 3D PCA plot\n",
    "for i, question in enumerate(questions):\n",
    "    fig_pca_3d.add_trace(go.Scatter3d(\n",
    "        x=[pca_3d_result[len(model_embeddings) + i, 0]],\n",
    "        y=[pca_3d_result[len(model_embeddings) + i, 1]],\n",
    "        z=[pca_3d_result[len(model_embeddings) + i, 2]],\n",
    "        text=f\"Q{i+1}\",\n",
    "        mode='markers+text',\n",
    "        textposition='top center',\n",
    "        showlegend=False\n",
    "    ))\n",
    "\n",
    "# Plotting with 3D t-SNE\n",
    "fig_tsne_3d = px.scatter_3d(\n",
    "    x=tsne_3d_result[:, 0], \n",
    "    y=tsne_3d_result[:, 1], \n",
    "    z=tsne_3d_result[:, 2], \n",
    "    color=labels, \n",
    "    hover_data={'label': hover_texts},\n",
    "    labels={'x': 't-SNE Component 1', 'y': 't-SNE Component 2', 'z': 't-SNE Component 3'},\n",
    "    title=\"Embeddings Visualization with 3D t-SNE\"\n",
    ")\n",
    "\n",
    "# Adding annotations for questions in 3D t-SNE plot\n",
    "for i, question in enumerate(questions):\n",
    "    fig_tsne_3d.add_trace(go.Scatter3d(\n",
    "        x=[tsne_3d_result[len(model_embeddings) + i, 0]],\n",
    "        y=[tsne_3d_result[len(model_embeddings) + i, 1]],\n",
    "        z=[tsne_3d_result[len(model_embeddings) + i, 2]],\n",
    "        text=f\"Q{i+1}\",\n",
    "        mode='markers+text',\n",
    "        textposition='top center',\n",
    "        showlegend=False\n",
    "    ))\n",
    "\n",
    "# Show plots\n",
    "fig_pca.show()\n",
    "fig_tsne.show()\n",
    "fig_pca_3d.show()\n",
    "fig_tsne_3d.show()\n"
   ]
  },
  {
   "cell_type": "markdown",
   "metadata": {},
   "source": [
    "# Conclusiones de la visualización:\n",
    "\n",
    "Las visualizaciones utilizando tanto PCA como t-SNE muestran que los clusters de las categorías están bastante cerca uno del otro. A pesar de que las preguntas parecen tener buenos valores de similitud, al analizar las respuestas obtenidas, observamos que no tienen mucho sentido en relación a las preguntas planteadas."
   ]
  },
  {
   "cell_type": "markdown",
   "metadata": {},
   "source": []
  },
  {
   "cell_type": "code",
   "execution_count": 8,
   "metadata": {},
   "outputs": [],
   "source": [
    "# !MARK: - Classes\n",
    "\n",
    "class PretrainedModel(Model):\n",
    "    def __init__(self, original_paragraphs, language='spanish', model_path='sbw_vectors.bin'):\n",
    "        super().__init__(original_paragraphs, [], language)\n",
    "        self.model = self._load_pretrained_model(model_path)\n",
    "\n",
    "    def _load_pretrained_model(self, model_path):\n",
    "        if os.path.exists(model_path):\n",
    "            return KeyedVectors.load_word2vec_format(model_path, binary=True)\n",
    "        else:\n",
    "            raise FileNotFoundError(f\"El modelo preentrenado no se encuentra en la ruta: {model_path}\")\n",
    "\n",
    "    def predict(self, query, similarity_threshold):\n",
    "        query_embedding = self._get_sentence_embedding_pretrained(query)\n",
    "        similarities = [(self._cosine_similarity(query_embedding, self._get_sentence_embedding_pretrained(' '.join(TextUtils.clean_and_tokenize(para, self.language)))), para) for para in self.original_paragraphs]\n",
    "        filtered_and_sorted = sorted([sim for sim in similarities if sim[0] > similarity_threshold], key=lambda x: x[0], reverse=True)\n",
    "        return filtered_and_sorted\n",
    "\n",
    "    def _get_sentence_embedding_pretrained(self, sentence):\n",
    "        words = TextUtils.clean_and_tokenize(sentence, self.language)\n",
    "        word_vectors = [self.model[word] for word in words if word in self.model]\n",
    "        if len(word_vectors) == 0:\n",
    "            return np.zeros(self.model.vector_size)\n",
    "        return np.mean(word_vectors, axis=0)\n",
    "\n",
    "# !MARK: - Model Initialization\n",
    "\n",
    "models = {}\n",
    "\n",
    "for key, path in file_paths.items():\n",
    "    with open(path, 'r') as file:\n",
    "        file_contents[key] = file.read().split('\\n\\n')\n",
    "    models[key] = PretrainedModel(file_contents[key])"
   ]
  },
  {
   "cell_type": "code",
   "execution_count": 13,
   "metadata": {},
   "outputs": [
    {
     "name": "stdout",
     "output_type": "stream",
     "text": [
      "Question: ¿Cómo se diferencia la ubicación física de la operativa?\n",
      "Closest Model: Estructura Organizativa\n",
      "Similarity: 0.78\n",
      "\n",
      "Question: ¿Qué información se incluye en el informe de la evaluación de riesgos que ofrece la plataforma y cuál es su utilidad para la gestión de riesgos en la empresa?\n",
      "Closest Model: Riesgos\n",
      "Similarity: 0.89\n",
      "\n",
      "'¿Hay indicadores relativos al cumplimiento de normas?' does not have enough similarity\n",
      "Question: ¿Qué papel juega la estructura organizativa en la funcionalidad general de la plataforma y cómo interactúa con otros módulos?\n",
      "Closest Model: Estructura Organizativa\n",
      "Similarity: 0.87\n",
      "\n",
      "Question: ¿Qué permite realizar la evaluación de riesgos?\n",
      "Closest Model: Riesgos\n",
      "Similarity: 0.84\n",
      "\n",
      "Question: ¿Qué tipo de documentos se pueden almacenar y compartir en el espacio denominado 'Documentos' y cuál es su importancia dentro del contexto de la gestión empresarial en la plataforma?\n",
      "Closest Model: Información\n",
      "Similarity: 0.88\n",
      "\n",
      "Question: ¿Se pueden llevar a cabo auditorías internas?\n",
      "Closest Model: Emergencia\n",
      "Similarity: 0.76\n",
      "\n",
      "'¿Cuál es la tasa de adopción de esta plataforma en el mercado?' does not have enough similarity\n",
      "Question: ¿Cómo se compara esta plataforma con otras soluciones de gestión de SST?\n",
      "Closest Model: Estructura Organizativa\n",
      "Similarity: 0.82\n",
      "\n",
      "'¿Qué día hará mañana?' does not have enough similarity\n"
     ]
    },
    {
     "data": {
      "application/vnd.plotly.v1+json": {
       "config": {
        "plotlyServerURL": "https://plot.ly"
       },
       "data": [
        {
         "customdata": [
          [
           "Auditorias"
          ],
          [
           "Auditorias"
          ],
          [
           "Auditorias"
          ],
          [
           "Auditorias"
          ],
          [
           "Auditorias"
          ],
          [
           "Auditorias"
          ],
          [
           "Auditorias"
          ],
          [
           "Auditorias"
          ],
          [
           "Auditorias"
          ],
          [
           "Auditorias"
          ],
          [
           "Auditorias"
          ],
          [
           "Auditorias"
          ],
          [
           "Auditorias"
          ],
          [
           "Auditorias"
          ],
          [
           "Auditorias"
          ],
          [
           "Auditorias"
          ],
          [
           "Auditorias"
          ],
          [
           "Auditorias"
          ],
          [
           "Auditorias"
          ],
          [
           "Auditorias"
          ],
          [
           "Auditorias"
          ],
          [
           "Auditorias"
          ],
          [
           "Auditorias"
          ],
          [
           "Auditorias"
          ],
          [
           "Auditorias"
          ],
          [
           "Auditorias"
          ],
          [
           "Auditorias"
          ],
          [
           "Auditorias"
          ],
          [
           "Auditorias"
          ],
          [
           "Auditorias"
          ],
          [
           "Auditorias"
          ],
          [
           "Auditorias"
          ],
          [
           "Auditorias"
          ],
          [
           "Auditorias"
          ],
          [
           "Auditorias"
          ],
          [
           "Auditorias"
          ],
          [
           "Auditorias"
          ],
          [
           "Auditorias"
          ],
          [
           "Auditorias"
          ],
          [
           "Auditorias"
          ],
          [
           "Auditorias"
          ],
          [
           "Auditorias"
          ],
          [
           "Auditorias"
          ],
          [
           "Auditorias"
          ],
          [
           "Auditorias"
          ],
          [
           "Auditorias"
          ],
          [
           "Auditorias"
          ],
          [
           "Auditorias"
          ]
         ],
         "hovertemplate": "color=Auditorias<br>=%{y}<br>label=%{customdata[0]}<extra></extra>",
         "legendgroup": "Auditorias",
         "marker": {
          "color": "#636efa",
          "symbol": "circle"
         },
         "mode": "markers",
         "name": "Auditorias",
         "orientation": "v",
         "showlegend": true,
         "type": "scatter",
         "x": [
          -0.38432002,
          0.38580912,
          0.9770377,
          -0.19146152,
          0.15921181,
          0.07576786,
          0.069419496,
          -0.050906993,
          0.133103,
          -0.030195348,
          0.53487885,
          0.12204633,
          -0.2364842,
          -0.0070241024,
          -0.30983165,
          0.056569677,
          -0.27653873,
          0.0708863,
          0.14552656,
          0.15246855,
          -0.5579114,
          0.010042184,
          -0.23383489,
          -0.5968819,
          -0.13394524,
          0.19761875,
          0.04020503,
          -0.32230872,
          -0.012273392,
          -0.0037660578,
          0.17515843,
          -0.030195348,
          0.16976997,
          -0.2904158,
          -0.038232148,
          -0.30983165,
          0.072987184,
          -0.30835032,
          0.085633926,
          0.123665735,
          -0.15407883,
          -0.62910354,
          0.010042184,
          -0.078586765,
          -0.3950963,
          -0.1949667,
          0.0068753427,
          -0.30612063
         ],
         "xaxis": "x",
         "y": [
          0.5173509,
          0.33427966,
          0.0047973543,
          0.3064735,
          0.41803753,
          0.5031022,
          0.994682,
          -0.05071582,
          0.0010919168,
          0.12021257,
          0.29931763,
          0.119167365,
          0.213659,
          -0.010444308,
          0.14743231,
          0.32590693,
          0.10327984,
          0.019446539,
          0.16765615,
          -0.031556886,
          0.2553556,
          0.31482923,
          0.082203425,
          0.15560858,
          0.07980167,
          0.13950455,
          -0.059080124,
          0.01714032,
          0.06382712,
          -0.074317746,
          -0.022860236,
          0.120212555,
          0.10018487,
          0.22960511,
          -0.011667635,
          0.14743233,
          0.32727376,
          0.12581831,
          0.0064113713,
          0.050369095,
          0.11503911,
          0.3274753,
          0.31482923,
          0.13945788,
          0.15824625,
          0.06213081,
          0.09679138,
          0.091369994
         ],
         "yaxis": "y"
        },
        {
         "customdata": [
          [
           "Ausentismo"
          ],
          [
           "Ausentismo"
          ],
          [
           "Ausentismo"
          ],
          [
           "Ausentismo"
          ],
          [
           "Ausentismo"
          ],
          [
           "Ausentismo"
          ],
          [
           "Ausentismo"
          ],
          [
           "Ausentismo"
          ],
          [
           "Ausentismo"
          ],
          [
           "Ausentismo"
          ],
          [
           "Ausentismo"
          ],
          [
           "Ausentismo"
          ],
          [
           "Ausentismo"
          ],
          [
           "Ausentismo"
          ],
          [
           "Ausentismo"
          ],
          [
           "Ausentismo"
          ],
          [
           "Ausentismo"
          ],
          [
           "Ausentismo"
          ],
          [
           "Ausentismo"
          ],
          [
           "Ausentismo"
          ],
          [
           "Ausentismo"
          ],
          [
           "Ausentismo"
          ],
          [
           "Ausentismo"
          ],
          [
           "Ausentismo"
          ],
          [
           "Ausentismo"
          ],
          [
           "Ausentismo"
          ],
          [
           "Ausentismo"
          ],
          [
           "Ausentismo"
          ],
          [
           "Ausentismo"
          ],
          [
           "Ausentismo"
          ],
          [
           "Ausentismo"
          ],
          [
           "Ausentismo"
          ],
          [
           "Ausentismo"
          ]
         ],
         "hovertemplate": "color=Ausentismo<br>=%{y}<br>label=%{customdata[0]}<extra></extra>",
         "legendgroup": "Ausentismo",
         "marker": {
          "color": "#EF553B",
          "symbol": "circle"
         },
         "mode": "markers",
         "name": "Ausentismo",
         "orientation": "v",
         "showlegend": true,
         "type": "scatter",
         "x": [
          0.47081435,
          -0.0037055113,
          -0.6366576,
          0.40779454,
          0.8020204,
          -0.14660457,
          -0.06279912,
          0.034927,
          -0.10686117,
          -0.58727217,
          0.11599556,
          0.015881067,
          -0.10099579,
          -0.50994843,
          -0.3986512,
          -0.17217563,
          0.063088626,
          0.020362802,
          -0.0793525,
          -0.1271287,
          -0.072192006,
          -0.5935793,
          -0.36724836,
          0.0015728599,
          -0.13829379,
          0.1578062,
          -0.50996,
          -0.5160697,
          0.12756582,
          0.031627376,
          -0.2460326,
          -0.0336998,
          1.1739508
         ],
         "xaxis": "x",
         "y": [
          0.18172978,
          0.102887586,
          0.3260747,
          0.2654095,
          0.306688,
          -0.12268827,
          0.00028755827,
          -0.0749433,
          -0.17676648,
          -0.2820964,
          0.14164124,
          -0.14938064,
          -0.047930706,
          -0.20719585,
          -0.008179442,
          -0.07248348,
          0.12388521,
          -0.2879171,
          -0.4271719,
          -0.2994373,
          -0.012027305,
          -0.2567398,
          -0.08183127,
          -0.22198133,
          -0.09198464,
          0.1135015,
          -0.20911124,
          0.01588427,
          -0.27994522,
          -0.3801519,
          -0.20093319,
          0.16895539,
          -0.055924576
         ],
         "yaxis": "y"
        },
        {
         "customdata": [
          [
           "Estructura Organizativa"
          ],
          [
           "Estructura Organizativa"
          ],
          [
           "Estructura Organizativa"
          ],
          [
           "Estructura Organizativa"
          ],
          [
           "Estructura Organizativa"
          ],
          [
           "Estructura Organizativa"
          ],
          [
           "Estructura Organizativa"
          ],
          [
           "Estructura Organizativa"
          ],
          [
           "Estructura Organizativa"
          ],
          [
           "Estructura Organizativa"
          ],
          [
           "Estructura Organizativa"
          ],
          [
           "Estructura Organizativa"
          ],
          [
           "Estructura Organizativa"
          ],
          [
           "Estructura Organizativa"
          ],
          [
           "Estructura Organizativa"
          ],
          [
           "Estructura Organizativa"
          ],
          [
           "Estructura Organizativa"
          ],
          [
           "Estructura Organizativa"
          ],
          [
           "Estructura Organizativa"
          ],
          [
           "Estructura Organizativa"
          ],
          [
           "Estructura Organizativa"
          ],
          [
           "Estructura Organizativa"
          ],
          [
           "Estructura Organizativa"
          ],
          [
           "Estructura Organizativa"
          ],
          [
           "Estructura Organizativa"
          ],
          [
           "Estructura Organizativa"
          ],
          [
           "Estructura Organizativa"
          ],
          [
           "Estructura Organizativa"
          ],
          [
           "Estructura Organizativa"
          ],
          [
           "Estructura Organizativa"
          ],
          [
           "Estructura Organizativa"
          ],
          [
           "Estructura Organizativa"
          ],
          [
           "Estructura Organizativa"
          ],
          [
           "Estructura Organizativa"
          ],
          [
           "Estructura Organizativa"
          ],
          [
           "Estructura Organizativa"
          ],
          [
           "Estructura Organizativa"
          ],
          [
           "Estructura Organizativa"
          ],
          [
           "Estructura Organizativa"
          ],
          [
           "Estructura Organizativa"
          ],
          [
           "Estructura Organizativa"
          ],
          [
           "Estructura Organizativa"
          ],
          [
           "Estructura Organizativa"
          ],
          [
           "Estructura Organizativa"
          ],
          [
           "Estructura Organizativa"
          ],
          [
           "Estructura Organizativa"
          ],
          [
           "Estructura Organizativa"
          ],
          [
           "Estructura Organizativa"
          ],
          [
           "Estructura Organizativa"
          ],
          [
           "Estructura Organizativa"
          ],
          [
           "Estructura Organizativa"
          ],
          [
           "Estructura Organizativa"
          ],
          [
           "Estructura Organizativa"
          ],
          [
           "Estructura Organizativa"
          ],
          [
           "Estructura Organizativa"
          ],
          [
           "Estructura Organizativa"
          ],
          [
           "Estructura Organizativa"
          ],
          [
           "Estructura Organizativa"
          ],
          [
           "Estructura Organizativa"
          ],
          [
           "Estructura Organizativa"
          ],
          [
           "Estructura Organizativa"
          ],
          [
           "Estructura Organizativa"
          ],
          [
           "Estructura Organizativa"
          ],
          [
           "Estructura Organizativa"
          ],
          [
           "Estructura Organizativa"
          ],
          [
           "Estructura Organizativa"
          ],
          [
           "Estructura Organizativa"
          ],
          [
           "Estructura Organizativa"
          ],
          [
           "Estructura Organizativa"
          ],
          [
           "Estructura Organizativa"
          ],
          [
           "Estructura Organizativa"
          ],
          [
           "Estructura Organizativa"
          ],
          [
           "Estructura Organizativa"
          ],
          [
           "Estructura Organizativa"
          ],
          [
           "Estructura Organizativa"
          ],
          [
           "Estructura Organizativa"
          ],
          [
           "Estructura Organizativa"
          ],
          [
           "Estructura Organizativa"
          ],
          [
           "Estructura Organizativa"
          ],
          [
           "Estructura Organizativa"
          ],
          [
           "Estructura Organizativa"
          ],
          [
           "Estructura Organizativa"
          ],
          [
           "Estructura Organizativa"
          ],
          [
           "Estructura Organizativa"
          ],
          [
           "Estructura Organizativa"
          ],
          [
           "Estructura Organizativa"
          ],
          [
           "Estructura Organizativa"
          ],
          [
           "Estructura Organizativa"
          ],
          [
           "Estructura Organizativa"
          ],
          [
           "Estructura Organizativa"
          ],
          [
           "Estructura Organizativa"
          ],
          [
           "Estructura Organizativa"
          ],
          [
           "Estructura Organizativa"
          ],
          [
           "Estructura Organizativa"
          ],
          [
           "Estructura Organizativa"
          ],
          [
           "Estructura Organizativa"
          ],
          [
           "Estructura Organizativa"
          ],
          [
           "Estructura Organizativa"
          ],
          [
           "Estructura Organizativa"
          ],
          [
           "Estructura Organizativa"
          ],
          [
           "Estructura Organizativa"
          ],
          [
           "Estructura Organizativa"
          ],
          [
           "Estructura Organizativa"
          ],
          [
           "Estructura Organizativa"
          ],
          [
           "Estructura Organizativa"
          ],
          [
           "Estructura Organizativa"
          ],
          [
           "Estructura Organizativa"
          ],
          [
           "Estructura Organizativa"
          ],
          [
           "Estructura Organizativa"
          ],
          [
           "Estructura Organizativa"
          ],
          [
           "Estructura Organizativa"
          ],
          [
           "Estructura Organizativa"
          ],
          [
           "Estructura Organizativa"
          ],
          [
           "Estructura Organizativa"
          ],
          [
           "Estructura Organizativa"
          ],
          [
           "Estructura Organizativa"
          ],
          [
           "Estructura Organizativa"
          ],
          [
           "Estructura Organizativa"
          ],
          [
           "Estructura Organizativa"
          ],
          [
           "Estructura Organizativa"
          ],
          [
           "Estructura Organizativa"
          ],
          [
           "Estructura Organizativa"
          ],
          [
           "Estructura Organizativa"
          ],
          [
           "Estructura Organizativa"
          ],
          [
           "Estructura Organizativa"
          ],
          [
           "Estructura Organizativa"
          ],
          [
           "Estructura Organizativa"
          ],
          [
           "Estructura Organizativa"
          ],
          [
           "Estructura Organizativa"
          ],
          [
           "Estructura Organizativa"
          ],
          [
           "Estructura Organizativa"
          ],
          [
           "Estructura Organizativa"
          ],
          [
           "Estructura Organizativa"
          ],
          [
           "Estructura Organizativa"
          ],
          [
           "Estructura Organizativa"
          ]
         ],
         "hovertemplate": "color=Estructura Organizativa<br>=%{y}<br>label=%{customdata[0]}<extra></extra>",
         "legendgroup": "Estructura Organizativa",
         "marker": {
          "color": "#00cc96",
          "symbol": "circle"
         },
         "mode": "markers",
         "name": "Estructura Organizativa",
         "orientation": "v",
         "showlegend": true,
         "type": "scatter",
         "x": [
          -0.12004954,
          -0.5303034,
          0.24398965,
          0.21286123,
          0.267706,
          0.47024632,
          0.40038764,
          0.41689795,
          -0.17149413,
          0.42521065,
          -0.05840595,
          0.009443381,
          -0.06992199,
          0.04239581,
          -0.18501084,
          -0.23222713,
          0.30125886,
          0.9001372,
          -0.2307725,
          -0.15067048,
          0.3659842,
          0.3069193,
          -0.36140993,
          -0.36596712,
          -0.21602593,
          -0.41759846,
          0.035520505,
          -0.15114349,
          -0.08991356,
          -0.0041324254,
          0.37370694,
          -0.1564957,
          -0.1963471,
          -0.003092496,
          0.39268735,
          -0.18178567,
          -0.31021518,
          -0.30141276,
          -0.28976908,
          -0.30896142,
          -0.042904656,
          -0.24997632,
          0.111793265,
          0.47846386,
          -0.5136438,
          -0.031463068,
          -0.48181534,
          -0.09376313,
          0.12429537,
          -0.3295063,
          0.038817916,
          -0.39786634,
          -0.024716806,
          0.005467112,
          -0.19911507,
          -0.2970827,
          -0.12682427,
          0.6111884,
          0.47963676,
          -0.14365536,
          0.11446919,
          -0.034762062,
          -0.09899256,
          0.24830778,
          -0.33957446,
          -0.23917298,
          -0.23032084,
          0.090759374,
          0.2281264,
          0.076383136,
          0.5418026,
          -0.2679806,
          0.097989455,
          0.5561202,
          0.28435835,
          -0.12552474,
          -0.4798553,
          -0.09047301,
          -0.09782135,
          -0.22575478,
          1.8407073,
          0.10250798,
          1.8045485,
          -0.13000609,
          -0.18471868,
          0.07639138,
          0.25201336,
          -0.014656496,
          0.0011417539,
          -0.31841785,
          -0.0675294,
          0.121696256,
          -0.3256563,
          -0.36607838,
          0.05991932,
          -0.02448704,
          -0.39515978,
          -0.1314393,
          -0.19495939,
          -0.38906708,
          0.041011486,
          -0.08468765,
          -0.39197856,
          -0.06954311,
          -0.0468681,
          -0.2686817,
          0.022396075,
          0.27291074,
          0.16948912,
          -0.07907651,
          0.022345021,
          -0.30455574,
          -0.13285749,
          -0.26515675,
          -0.33368778,
          -0.24513905,
          -0.51023585,
          -0.025523413,
          -0.31124786,
          -0.25131094,
          -0.056186825,
          -0.4613421,
          0.05059379,
          -0.39558238,
          0.17757545,
          0.14132443,
          0.06750658,
          0.27139795,
          0.03165313,
          0.14293802,
          -0.28583652,
          0.7638767,
          -0.16677368,
          -0.109315656,
          0.00086755195
         ],
         "xaxis": "x",
         "y": [
          0.48269835,
          0.9706743,
          0.34442216,
          0.16180903,
          0.69564146,
          0.11967311,
          0.05273357,
          -0.03955096,
          0.29177126,
          -0.23165818,
          0.29869223,
          -0.052727688,
          0.07688477,
          0.079335526,
          -0.0026424737,
          -0.19103546,
          -0.19402736,
          -0.3794818,
          -0.133457,
          -0.27638036,
          -0.2021428,
          -0.17430884,
          -0.07082273,
          0.06503347,
          -0.16531019,
          -0.19437097,
          -0.27922606,
          -0.012695406,
          -0.0017878993,
          -0.092312485,
          -0.32272267,
          -0.08510316,
          0.015284427,
          0.22700544,
          -0.14521854,
          -0.40116015,
          -0.27540034,
          -0.21429043,
          -0.30001247,
          -0.36333424,
          -0.21049383,
          -0.1982084,
          -0.16252343,
          -0.43511924,
          -0.32006603,
          -0.22823182,
          -0.26323268,
          -0.14609794,
          -0.3741479,
          -0.306573,
          -0.49350834,
          -0.31171826,
          -0.23731405,
          -0.27607134,
          -0.087114535,
          -0.42845982,
          -0.27701715,
          -0.3389044,
          -0.24095283,
          -0.1743772,
          -0.3407459,
          -0.4460053,
          -0.18976447,
          -0.23344551,
          0.12871422,
          0.05250806,
          0.018446054,
          -0.267753,
          -0.11848773,
          -0.02087121,
          -0.56712174,
          -0.3220911,
          -0.36787942,
          -0.15818037,
          -0.12734056,
          -0.284481,
          -0.39369223,
          -0.23769817,
          -0.074753456,
          -0.17179324,
          -0.26236632,
          -0.32808885,
          -0.5339745,
          -0.18880053,
          0.13344611,
          -0.08928548,
          -0.13407603,
          0.3064693,
          0.16167052,
          -0.19917493,
          -0.117817715,
          -0.06847347,
          -0.2846428,
          -0.25976932,
          -0.22225904,
          -0.38127917,
          -0.026264884,
          0.0887163,
          -0.3027308,
          -0.2237682,
          -0.21769007,
          -0.2565375,
          -0.1205167,
          -0.12966508,
          -0.27815545,
          -0.30759922,
          -0.3462896,
          -0.083102934,
          0.04099423,
          0.113107614,
          0.09429058,
          -0.17171043,
          -0.13271657,
          -0.44690686,
          -0.17513587,
          -0.10982388,
          -0.48519436,
          -0.4025996,
          -0.26174623,
          -0.08027979,
          -0.3771428,
          -0.20826653,
          -0.2538023,
          -0.09891737,
          -0.11873343,
          0.14567715,
          0.13166165,
          0.20697625,
          0.10924709,
          0.2952686,
          -0.10427612,
          -0.59434676,
          -0.19856133,
          0.26293927,
          -0.36107647
         ],
         "yaxis": "y"
        },
        {
         "customdata": [
          [
           "Riesgos"
          ],
          [
           "Riesgos"
          ],
          [
           "Riesgos"
          ],
          [
           "Riesgos"
          ],
          [
           "Riesgos"
          ],
          [
           "Riesgos"
          ],
          [
           "Riesgos"
          ],
          [
           "Riesgos"
          ],
          [
           "Riesgos"
          ],
          [
           "Riesgos"
          ],
          [
           "Riesgos"
          ],
          [
           "Riesgos"
          ],
          [
           "Riesgos"
          ],
          [
           "Riesgos"
          ],
          [
           "Riesgos"
          ],
          [
           "Riesgos"
          ],
          [
           "Riesgos"
          ],
          [
           "Riesgos"
          ],
          [
           "Riesgos"
          ],
          [
           "Riesgos"
          ],
          [
           "Riesgos"
          ],
          [
           "Riesgos"
          ],
          [
           "Riesgos"
          ],
          [
           "Riesgos"
          ],
          [
           "Riesgos"
          ],
          [
           "Riesgos"
          ],
          [
           "Riesgos"
          ],
          [
           "Riesgos"
          ],
          [
           "Riesgos"
          ],
          [
           "Riesgos"
          ],
          [
           "Riesgos"
          ],
          [
           "Riesgos"
          ],
          [
           "Riesgos"
          ],
          [
           "Riesgos"
          ],
          [
           "Riesgos"
          ],
          [
           "Riesgos"
          ],
          [
           "Riesgos"
          ],
          [
           "Riesgos"
          ],
          [
           "Riesgos"
          ],
          [
           "Riesgos"
          ],
          [
           "Riesgos"
          ]
         ],
         "hovertemplate": "color=Riesgos<br>=%{y}<br>label=%{customdata[0]}<extra></extra>",
         "legendgroup": "Riesgos",
         "marker": {
          "color": "#ab63fa",
          "symbol": "circle"
         },
         "mode": "markers",
         "name": "Riesgos",
         "orientation": "v",
         "showlegend": true,
         "type": "scatter",
         "x": [
          -0.3467857,
          0.35201004,
          0.5749498,
          0.14223579,
          0.42688867,
          0.7657031,
          -0.41288015,
          -0.34160438,
          -0.22224587,
          0.24470857,
          0.18506847,
          -0.048086897,
          -0.09885362,
          -0.06542357,
          -0.10092654,
          0.043369804,
          0.039484978,
          0.30623028,
          0.0112788705,
          0.3042386,
          -0.43616313,
          -0.04437314,
          -0.14586715,
          -0.22275618,
          -0.08248152,
          -0.6466853,
          0.44975612,
          -0.15968014,
          -0.12981114,
          -0.12339065,
          0.0626997,
          0.301902,
          -0.037644643,
          0.40595758,
          0.5680417,
          0.4646333,
          0.6474074,
          0.389636,
          -0.0577341,
          0.20075953,
          0.0403439
         ],
         "xaxis": "x",
         "y": [
          0.6512535,
          0.50739026,
          -0.009489562,
          1.0423039,
          0.16647308,
          0.028497241,
          0.41960517,
          -0.091898635,
          0.34220788,
          0.25469476,
          0.15373228,
          0.4093861,
          0.16168612,
          0.2677553,
          0.051100835,
          -0.07582383,
          -0.07999728,
          -0.04166146,
          -0.013118731,
          0.1304689,
          0.016437683,
          -0.114675656,
          0.22937548,
          -0.15152211,
          0.017002651,
          -0.21907163,
          -0.05238683,
          0.036894605,
          0.09061412,
          0.2613633,
          0.357296,
          -0.15383382,
          0.33395293,
          -0.023833578,
          0.16434425,
          0.32550272,
          0.016566789,
          0.081394166,
          0.35854533,
          0.31724286,
          0.13589141
         ],
         "yaxis": "y"
        },
        {
         "customdata": [
          [
           "Información"
          ],
          [
           "Información"
          ],
          [
           "Información"
          ],
          [
           "Información"
          ],
          [
           "Información"
          ],
          [
           "Información"
          ],
          [
           "Información"
          ],
          [
           "Información"
          ],
          [
           "Información"
          ],
          [
           "Información"
          ],
          [
           "Información"
          ],
          [
           "Información"
          ],
          [
           "Información"
          ],
          [
           "Información"
          ],
          [
           "Información"
          ],
          [
           "Información"
          ]
         ],
         "hovertemplate": "color=Información<br>=%{y}<br>label=%{customdata[0]}<extra></extra>",
         "legendgroup": "Información",
         "marker": {
          "color": "#FFA15A",
          "symbol": "circle"
         },
         "mode": "markers",
         "name": "Información",
         "orientation": "v",
         "showlegend": true,
         "type": "scatter",
         "x": [
          0.08401642,
          -0.5346078,
          -0.12666143,
          0.4638427,
          -0.10773703,
          -0.4843782,
          -0.35649887,
          0.020011725,
          0.27333385,
          -0.36196545,
          -0.030259324,
          -0.6701547,
          -0.08162823,
          -0.43982124,
          -0.6086669,
          -0.08522636
         ],
         "xaxis": "x",
         "y": [
          0.42698407,
          0.3969725,
          0.04410388,
          0.06999891,
          -0.08328576,
          -0.2897424,
          -0.3534782,
          -0.19667125,
          -0.18688564,
          0.24693732,
          0.1808317,
          0.1546979,
          0.60365355,
          0.04874838,
          -0.38308853,
          0.058337178
         ],
         "yaxis": "y"
        },
        {
         "customdata": [
          [
           "Emergencia"
          ],
          [
           "Emergencia"
          ],
          [
           "Emergencia"
          ],
          [
           "Emergencia"
          ],
          [
           "Emergencia"
          ],
          [
           "Emergencia"
          ],
          [
           "Emergencia"
          ],
          [
           "Emergencia"
          ],
          [
           "Emergencia"
          ],
          [
           "Emergencia"
          ],
          [
           "Emergencia"
          ],
          [
           "Emergencia"
          ],
          [
           "Emergencia"
          ],
          [
           "Emergencia"
          ],
          [
           "Emergencia"
          ],
          [
           "Emergencia"
          ],
          [
           "Emergencia"
          ],
          [
           "Emergencia"
          ],
          [
           "Emergencia"
          ],
          [
           "Emergencia"
          ],
          [
           "Emergencia"
          ],
          [
           "Emergencia"
          ],
          [
           "Emergencia"
          ],
          [
           "Emergencia"
          ],
          [
           "Emergencia"
          ],
          [
           "Emergencia"
          ],
          [
           "Emergencia"
          ],
          [
           "Emergencia"
          ],
          [
           "Emergencia"
          ],
          [
           "Emergencia"
          ],
          [
           "Emergencia"
          ],
          [
           "Emergencia"
          ],
          [
           "Emergencia"
          ],
          [
           "Emergencia"
          ],
          [
           "Emergencia"
          ],
          [
           "Emergencia"
          ],
          [
           "Emergencia"
          ],
          [
           "Emergencia"
          ],
          [
           "Emergencia"
          ],
          [
           "Emergencia"
          ],
          [
           "Emergencia"
          ],
          [
           "Emergencia"
          ],
          [
           "Emergencia"
          ],
          [
           "Emergencia"
          ],
          [
           "Emergencia"
          ],
          [
           "Emergencia"
          ],
          [
           "Emergencia"
          ],
          [
           "Emergencia"
          ],
          [
           "Emergencia"
          ],
          [
           "Emergencia"
          ],
          [
           "Emergencia"
          ],
          [
           "Emergencia"
          ],
          [
           "Emergencia"
          ],
          [
           "Emergencia"
          ],
          [
           "Emergencia"
          ],
          [
           "Emergencia"
          ],
          [
           "Emergencia"
          ],
          [
           "Emergencia"
          ],
          [
           "Emergencia"
          ],
          [
           "Emergencia"
          ],
          [
           "Emergencia"
          ],
          [
           "Emergencia"
          ],
          [
           "Emergencia"
          ],
          [
           "Emergencia"
          ]
         ],
         "hovertemplate": "color=Emergencia<br>=%{y}<br>label=%{customdata[0]}<extra></extra>",
         "legendgroup": "Emergencia",
         "marker": {
          "color": "#19d3f3",
          "symbol": "circle"
         },
         "mode": "markers",
         "name": "Emergencia",
         "orientation": "v",
         "showlegend": true,
         "type": "scatter",
         "x": [
          -0.53607124,
          0.34349698,
          0.43085927,
          0.13535808,
          0.4738219,
          0.59774023,
          0.68371665,
          0.601129,
          0.5193102,
          0.42841643,
          0.486411,
          0.8166954,
          -0.17689551,
          0.3552351,
          0.30455527,
          0.30450156,
          0.50005317,
          -0.22314724,
          0.099555105,
          0.25385517,
          0.29445383,
          0.2699326,
          -0.27991223,
          -0.056980226,
          -0.10922477,
          0.13417225,
          0.18417397,
          -0.025423551,
          0.023919966,
          -0.20369808,
          -0.13045184,
          0.087276556,
          0.01419394,
          -0.3015946,
          -0.27654883,
          -0.25454503,
          -0.46721807,
          0.022397665,
          0.18917425,
          0.053418256,
          -0.16996555,
          -0.19534667,
          0.23425308,
          -0.089453876,
          0.123047516,
          0.40392768,
          -0.124198094,
          -0.047413576,
          -0.4241449,
          -0.17510176,
          0.30551338,
          -0.070153505,
          -0.733932,
          0.14468801,
          -0.0014513873,
          0.044077188,
          0.17944027,
          -0.22373158,
          0.24341217,
          -0.4245213,
          -0.38251305,
          0.02293958,
          -0.09118358,
          -0.42075917
         ],
         "xaxis": "x",
         "y": [
          0.8528054,
          0.25616688,
          0.092705384,
          0.024604758,
          0.077934206,
          -0.07882735,
          -0.09863644,
          -0.04693926,
          0.026257671,
          0.2541932,
          0.26195523,
          -0.10107219,
          0.15665917,
          0.09005094,
          0.14668621,
          -0.1378065,
          -0.1593742,
          -0.25289923,
          0.18330276,
          0.13794777,
          -0.25362116,
          0.2342909,
          -0.12876403,
          -0.24718457,
          0.43796587,
          0.09897165,
          0.17534219,
          0.6617192,
          -0.26936898,
          -0.09453239,
          -0.007276541,
          -0.21267565,
          0.02591102,
          -0.10090541,
          -0.22017539,
          -0.23053022,
          -0.027684793,
          -0.114993006,
          -0.043470003,
          0.23160039,
          0.16753466,
          0.1877722,
          -0.048708457,
          0.033479113,
          -0.11401091,
          -0.063209884,
          -0.04212549,
          -0.041654646,
          -0.008344351,
          0.06856823,
          0.31483865,
          -0.05389807,
          -0.1551241,
          -0.17553817,
          0.079212695,
          0.025617152,
          -0.17002863,
          -0.09451333,
          0.59235424,
          -0.12795712,
          -0.09786475,
          -0.03470973,
          -0.18202259,
          -0.19856627
         ],
         "yaxis": "y"
        },
        {
         "customdata": [
          [
           "Question: ¿Cómo se diferencia la ubicación física de la operativa?<br>Closest Model: Estructura Organizativa<br>Similarity: 0.78<br>Chunk: entendidos  como el lugar o área ocupada por las personas dentro de la organización donde se  desarr..."
          ],
          [
           "Question: ¿Qué información se incluye en el informe de la evaluación de riesgos que ofrece la plataforma y cuál es su utilidad para la gestión de riesgos en la empresa?<br>Closest Model: Riesgos<br>Similarity: 0.89<br>Chunk: Sabentis es la nueva plataforma de gestión especializada en el ámbito de seguridad y salud en  el tr..."
          ],
          [
           "Question: ¿Hay indicadores relativos al cumplimiento de normas?<br>Closest Model: Auditorias<br>Similarity: 0.72<br>Chunk: 24  EVALUACIÓN DE ASPECTOS LEGALES  La pestaña evaluación de aspectos legales permite al usuario eva..."
          ],
          [
           "Question: ¿Qué papel juega la estructura organizativa en la funcionalidad general de la plataforma y cómo interactúa con otros módulos?<br>Closest Model: Estructura Organizativa<br>Similarity: 0.87<br>Chunk: 3. HOME ESTRUCTURA ORGANIZATIVA  El usuario puede acceder al módulo Estructura Organizativa (EO), de..."
          ],
          [
           "Question: ¿Qué permite realizar la evaluación de riesgos?<br>Closest Model: Riesgos<br>Similarity: 0.84<br>Chunk: la  configuración, se debe tener en consideración el comportamiento de los campos en el  formulario ..."
          ],
          [
           "Question: ¿Qué tipo de documentos se pueden almacenar y compartir en el espacio denominado 'Documentos' y cuál es su importancia dentro del contexto de la gestión empresarial en la plataforma?<br>Closest Model: Información<br>Similarity: 0.88<br>Chunk: DATOS DEL DOCUMENTO  HISTÓRICO DE CAMBIOS  CONTENIDO  Sabentis es la nueva plataforma de gestión esp..."
          ],
          [
           "Question: ¿Se pueden llevar a cabo auditorías internas?<br>Closest Model: Emergencia<br>Similarity: 0.76<br>Chunk: Un simulacro es un ensayo o ejercicio de adiestramiento práctico del modo de actuar en caso  de emer..."
          ],
          [
           "Question: ¿Cuál es la tasa de adopción de esta plataforma en el mercado?<br>Closest Model: Estructura Organizativa<br>Similarity: 0.73<br>Chunk: CONTENIDO  Sabentis es la nueva plataforma de gestión especializada en el ámbito de Seguridad y Salu..."
          ],
          [
           "Question: ¿Cómo se compara esta plataforma con otras soluciones de gestión de SST?<br>Closest Model: Estructura Organizativa<br>Similarity: 0.82<br>Chunk: CONTENIDO  Sabentis es la nueva plataforma de gestión especializada en el ámbito de Seguridad y Salu..."
          ],
          [
           "Question: ¿Qué día hará mañana?<br>Closest Model: Estructura Organizativa<br>Similarity: 0.63<br>Chunk: Versión  Fecha  Comentarios  Autor  Versión 1.0  28/10/2021  Redacción  Mercedes León Chele  Versión..."
          ]
         ],
         "hovertemplate": "color=Question<br>=%{y}<br>label=%{customdata[0]}<extra></extra>",
         "legendgroup": "Question",
         "marker": {
          "color": "#FF6692",
          "symbol": "circle"
         },
         "mode": "markers",
         "name": "Question",
         "orientation": "v",
         "showlegend": true,
         "type": "scatter",
         "x": [
          0.24454258,
          0.23931219,
          0.89404327,
          -0.004856583,
          0.38359642,
          0.087326095,
          0.55938643,
          0.28283033,
          0.014246202,
          -0.34241483
         ],
         "xaxis": "x",
         "y": [
          1.1301942,
          0.548899,
          -0.012241838,
          0.16998968,
          0.25177363,
          0.0074082157,
          -0.21390142,
          0.17132725,
          0.73652947,
          1.4577017
         ],
         "yaxis": "y"
        }
       ],
       "layout": {
        "annotations": [
         {
          "arrowhead": 2,
          "showarrow": true,
          "text": "Q1",
          "x": 0.24454258382320404,
          "y": 1.1301941871643066
         },
         {
          "arrowhead": 2,
          "showarrow": true,
          "text": "Q2",
          "x": 0.23931218683719635,
          "y": 0.5488989949226379
         },
         {
          "arrowhead": 2,
          "showarrow": true,
          "text": "Q3",
          "x": 0.8940432667732239,
          "y": -0.012241837568581104
         },
         {
          "arrowhead": 2,
          "showarrow": true,
          "text": "Q4",
          "x": -0.004856583196669817,
          "y": 0.169989675283432
         },
         {
          "arrowhead": 2,
          "showarrow": true,
          "text": "Q5",
          "x": 0.38359642028808594,
          "y": 0.2517736256122589
         },
         {
          "arrowhead": 2,
          "showarrow": true,
          "text": "Q6",
          "x": 0.08732609450817108,
          "y": 0.007408215664327145
         },
         {
          "arrowhead": 2,
          "showarrow": true,
          "text": "Q7",
          "x": 0.5593864321708679,
          "y": -0.21390141546726227
         },
         {
          "arrowhead": 2,
          "showarrow": true,
          "text": "Q8",
          "x": 0.2828303277492523,
          "y": 0.17132724821567535
         },
         {
          "arrowhead": 2,
          "showarrow": true,
          "text": "Q9",
          "x": 0.014246202073991299,
          "y": 0.7365294694900513
         },
         {
          "arrowhead": 2,
          "showarrow": true,
          "text": "Q10",
          "x": -0.34241482615470886,
          "y": 1.4577016830444336
         }
        ],
        "legend": {
         "title": {
          "text": "Documents"
         },
         "tracegroupgap": 0
        },
        "template": {
         "data": {
          "bar": [
           {
            "error_x": {
             "color": "#2a3f5f"
            },
            "error_y": {
             "color": "#2a3f5f"
            },
            "marker": {
             "line": {
              "color": "#E5ECF6",
              "width": 0.5
             },
             "pattern": {
              "fillmode": "overlay",
              "size": 10,
              "solidity": 0.2
             }
            },
            "type": "bar"
           }
          ],
          "barpolar": [
           {
            "marker": {
             "line": {
              "color": "#E5ECF6",
              "width": 0.5
             },
             "pattern": {
              "fillmode": "overlay",
              "size": 10,
              "solidity": 0.2
             }
            },
            "type": "barpolar"
           }
          ],
          "carpet": [
           {
            "aaxis": {
             "endlinecolor": "#2a3f5f",
             "gridcolor": "white",
             "linecolor": "white",
             "minorgridcolor": "white",
             "startlinecolor": "#2a3f5f"
            },
            "baxis": {
             "endlinecolor": "#2a3f5f",
             "gridcolor": "white",
             "linecolor": "white",
             "minorgridcolor": "white",
             "startlinecolor": "#2a3f5f"
            },
            "type": "carpet"
           }
          ],
          "choropleth": [
           {
            "colorbar": {
             "outlinewidth": 0,
             "ticks": ""
            },
            "type": "choropleth"
           }
          ],
          "contour": [
           {
            "colorbar": {
             "outlinewidth": 0,
             "ticks": ""
            },
            "colorscale": [
             [
              0,
              "#0d0887"
             ],
             [
              0.1111111111111111,
              "#46039f"
             ],
             [
              0.2222222222222222,
              "#7201a8"
             ],
             [
              0.3333333333333333,
              "#9c179e"
             ],
             [
              0.4444444444444444,
              "#bd3786"
             ],
             [
              0.5555555555555556,
              "#d8576b"
             ],
             [
              0.6666666666666666,
              "#ed7953"
             ],
             [
              0.7777777777777778,
              "#fb9f3a"
             ],
             [
              0.8888888888888888,
              "#fdca26"
             ],
             [
              1,
              "#f0f921"
             ]
            ],
            "type": "contour"
           }
          ],
          "contourcarpet": [
           {
            "colorbar": {
             "outlinewidth": 0,
             "ticks": ""
            },
            "type": "contourcarpet"
           }
          ],
          "heatmap": [
           {
            "colorbar": {
             "outlinewidth": 0,
             "ticks": ""
            },
            "colorscale": [
             [
              0,
              "#0d0887"
             ],
             [
              0.1111111111111111,
              "#46039f"
             ],
             [
              0.2222222222222222,
              "#7201a8"
             ],
             [
              0.3333333333333333,
              "#9c179e"
             ],
             [
              0.4444444444444444,
              "#bd3786"
             ],
             [
              0.5555555555555556,
              "#d8576b"
             ],
             [
              0.6666666666666666,
              "#ed7953"
             ],
             [
              0.7777777777777778,
              "#fb9f3a"
             ],
             [
              0.8888888888888888,
              "#fdca26"
             ],
             [
              1,
              "#f0f921"
             ]
            ],
            "type": "heatmap"
           }
          ],
          "heatmapgl": [
           {
            "colorbar": {
             "outlinewidth": 0,
             "ticks": ""
            },
            "colorscale": [
             [
              0,
              "#0d0887"
             ],
             [
              0.1111111111111111,
              "#46039f"
             ],
             [
              0.2222222222222222,
              "#7201a8"
             ],
             [
              0.3333333333333333,
              "#9c179e"
             ],
             [
              0.4444444444444444,
              "#bd3786"
             ],
             [
              0.5555555555555556,
              "#d8576b"
             ],
             [
              0.6666666666666666,
              "#ed7953"
             ],
             [
              0.7777777777777778,
              "#fb9f3a"
             ],
             [
              0.8888888888888888,
              "#fdca26"
             ],
             [
              1,
              "#f0f921"
             ]
            ],
            "type": "heatmapgl"
           }
          ],
          "histogram": [
           {
            "marker": {
             "pattern": {
              "fillmode": "overlay",
              "size": 10,
              "solidity": 0.2
             }
            },
            "type": "histogram"
           }
          ],
          "histogram2d": [
           {
            "colorbar": {
             "outlinewidth": 0,
             "ticks": ""
            },
            "colorscale": [
             [
              0,
              "#0d0887"
             ],
             [
              0.1111111111111111,
              "#46039f"
             ],
             [
              0.2222222222222222,
              "#7201a8"
             ],
             [
              0.3333333333333333,
              "#9c179e"
             ],
             [
              0.4444444444444444,
              "#bd3786"
             ],
             [
              0.5555555555555556,
              "#d8576b"
             ],
             [
              0.6666666666666666,
              "#ed7953"
             ],
             [
              0.7777777777777778,
              "#fb9f3a"
             ],
             [
              0.8888888888888888,
              "#fdca26"
             ],
             [
              1,
              "#f0f921"
             ]
            ],
            "type": "histogram2d"
           }
          ],
          "histogram2dcontour": [
           {
            "colorbar": {
             "outlinewidth": 0,
             "ticks": ""
            },
            "colorscale": [
             [
              0,
              "#0d0887"
             ],
             [
              0.1111111111111111,
              "#46039f"
             ],
             [
              0.2222222222222222,
              "#7201a8"
             ],
             [
              0.3333333333333333,
              "#9c179e"
             ],
             [
              0.4444444444444444,
              "#bd3786"
             ],
             [
              0.5555555555555556,
              "#d8576b"
             ],
             [
              0.6666666666666666,
              "#ed7953"
             ],
             [
              0.7777777777777778,
              "#fb9f3a"
             ],
             [
              0.8888888888888888,
              "#fdca26"
             ],
             [
              1,
              "#f0f921"
             ]
            ],
            "type": "histogram2dcontour"
           }
          ],
          "mesh3d": [
           {
            "colorbar": {
             "outlinewidth": 0,
             "ticks": ""
            },
            "type": "mesh3d"
           }
          ],
          "parcoords": [
           {
            "line": {
             "colorbar": {
              "outlinewidth": 0,
              "ticks": ""
             }
            },
            "type": "parcoords"
           }
          ],
          "pie": [
           {
            "automargin": true,
            "type": "pie"
           }
          ],
          "scatter": [
           {
            "fillpattern": {
             "fillmode": "overlay",
             "size": 10,
             "solidity": 0.2
            },
            "type": "scatter"
           }
          ],
          "scatter3d": [
           {
            "line": {
             "colorbar": {
              "outlinewidth": 0,
              "ticks": ""
             }
            },
            "marker": {
             "colorbar": {
              "outlinewidth": 0,
              "ticks": ""
             }
            },
            "type": "scatter3d"
           }
          ],
          "scattercarpet": [
           {
            "marker": {
             "colorbar": {
              "outlinewidth": 0,
              "ticks": ""
             }
            },
            "type": "scattercarpet"
           }
          ],
          "scattergeo": [
           {
            "marker": {
             "colorbar": {
              "outlinewidth": 0,
              "ticks": ""
             }
            },
            "type": "scattergeo"
           }
          ],
          "scattergl": [
           {
            "marker": {
             "colorbar": {
              "outlinewidth": 0,
              "ticks": ""
             }
            },
            "type": "scattergl"
           }
          ],
          "scattermapbox": [
           {
            "marker": {
             "colorbar": {
              "outlinewidth": 0,
              "ticks": ""
             }
            },
            "type": "scattermapbox"
           }
          ],
          "scatterpolar": [
           {
            "marker": {
             "colorbar": {
              "outlinewidth": 0,
              "ticks": ""
             }
            },
            "type": "scatterpolar"
           }
          ],
          "scatterpolargl": [
           {
            "marker": {
             "colorbar": {
              "outlinewidth": 0,
              "ticks": ""
             }
            },
            "type": "scatterpolargl"
           }
          ],
          "scatterternary": [
           {
            "marker": {
             "colorbar": {
              "outlinewidth": 0,
              "ticks": ""
             }
            },
            "type": "scatterternary"
           }
          ],
          "surface": [
           {
            "colorbar": {
             "outlinewidth": 0,
             "ticks": ""
            },
            "colorscale": [
             [
              0,
              "#0d0887"
             ],
             [
              0.1111111111111111,
              "#46039f"
             ],
             [
              0.2222222222222222,
              "#7201a8"
             ],
             [
              0.3333333333333333,
              "#9c179e"
             ],
             [
              0.4444444444444444,
              "#bd3786"
             ],
             [
              0.5555555555555556,
              "#d8576b"
             ],
             [
              0.6666666666666666,
              "#ed7953"
             ],
             [
              0.7777777777777778,
              "#fb9f3a"
             ],
             [
              0.8888888888888888,
              "#fdca26"
             ],
             [
              1,
              "#f0f921"
             ]
            ],
            "type": "surface"
           }
          ],
          "table": [
           {
            "cells": {
             "fill": {
              "color": "#EBF0F8"
             },
             "line": {
              "color": "white"
             }
            },
            "header": {
             "fill": {
              "color": "#C8D4E3"
             },
             "line": {
              "color": "white"
             }
            },
            "type": "table"
           }
          ]
         },
         "layout": {
          "annotationdefaults": {
           "arrowcolor": "#2a3f5f",
           "arrowhead": 0,
           "arrowwidth": 1
          },
          "autotypenumbers": "strict",
          "coloraxis": {
           "colorbar": {
            "outlinewidth": 0,
            "ticks": ""
           }
          },
          "colorscale": {
           "diverging": [
            [
             0,
             "#8e0152"
            ],
            [
             0.1,
             "#c51b7d"
            ],
            [
             0.2,
             "#de77ae"
            ],
            [
             0.3,
             "#f1b6da"
            ],
            [
             0.4,
             "#fde0ef"
            ],
            [
             0.5,
             "#f7f7f7"
            ],
            [
             0.6,
             "#e6f5d0"
            ],
            [
             0.7,
             "#b8e186"
            ],
            [
             0.8,
             "#7fbc41"
            ],
            [
             0.9,
             "#4d9221"
            ],
            [
             1,
             "#276419"
            ]
           ],
           "sequential": [
            [
             0,
             "#0d0887"
            ],
            [
             0.1111111111111111,
             "#46039f"
            ],
            [
             0.2222222222222222,
             "#7201a8"
            ],
            [
             0.3333333333333333,
             "#9c179e"
            ],
            [
             0.4444444444444444,
             "#bd3786"
            ],
            [
             0.5555555555555556,
             "#d8576b"
            ],
            [
             0.6666666666666666,
             "#ed7953"
            ],
            [
             0.7777777777777778,
             "#fb9f3a"
            ],
            [
             0.8888888888888888,
             "#fdca26"
            ],
            [
             1,
             "#f0f921"
            ]
           ],
           "sequentialminus": [
            [
             0,
             "#0d0887"
            ],
            [
             0.1111111111111111,
             "#46039f"
            ],
            [
             0.2222222222222222,
             "#7201a8"
            ],
            [
             0.3333333333333333,
             "#9c179e"
            ],
            [
             0.4444444444444444,
             "#bd3786"
            ],
            [
             0.5555555555555556,
             "#d8576b"
            ],
            [
             0.6666666666666666,
             "#ed7953"
            ],
            [
             0.7777777777777778,
             "#fb9f3a"
            ],
            [
             0.8888888888888888,
             "#fdca26"
            ],
            [
             1,
             "#f0f921"
            ]
           ]
          },
          "colorway": [
           "#636efa",
           "#EF553B",
           "#00cc96",
           "#ab63fa",
           "#FFA15A",
           "#19d3f3",
           "#FF6692",
           "#B6E880",
           "#FF97FF",
           "#FECB52"
          ],
          "font": {
           "color": "#2a3f5f"
          },
          "geo": {
           "bgcolor": "white",
           "lakecolor": "white",
           "landcolor": "#E5ECF6",
           "showlakes": true,
           "showland": true,
           "subunitcolor": "white"
          },
          "hoverlabel": {
           "align": "left"
          },
          "hovermode": "closest",
          "mapbox": {
           "style": "light"
          },
          "paper_bgcolor": "white",
          "plot_bgcolor": "#E5ECF6",
          "polar": {
           "angularaxis": {
            "gridcolor": "white",
            "linecolor": "white",
            "ticks": ""
           },
           "bgcolor": "#E5ECF6",
           "radialaxis": {
            "gridcolor": "white",
            "linecolor": "white",
            "ticks": ""
           }
          },
          "scene": {
           "xaxis": {
            "backgroundcolor": "#E5ECF6",
            "gridcolor": "white",
            "gridwidth": 2,
            "linecolor": "white",
            "showbackground": true,
            "ticks": "",
            "zerolinecolor": "white"
           },
           "yaxis": {
            "backgroundcolor": "#E5ECF6",
            "gridcolor": "white",
            "gridwidth": 2,
            "linecolor": "white",
            "showbackground": true,
            "ticks": "",
            "zerolinecolor": "white"
           },
           "zaxis": {
            "backgroundcolor": "#E5ECF6",
            "gridcolor": "white",
            "gridwidth": 2,
            "linecolor": "white",
            "showbackground": true,
            "ticks": "",
            "zerolinecolor": "white"
           }
          },
          "shapedefaults": {
           "line": {
            "color": "#2a3f5f"
           }
          },
          "ternary": {
           "aaxis": {
            "gridcolor": "white",
            "linecolor": "white",
            "ticks": ""
           },
           "baxis": {
            "gridcolor": "white",
            "linecolor": "white",
            "ticks": ""
           },
           "bgcolor": "#E5ECF6",
           "caxis": {
            "gridcolor": "white",
            "linecolor": "white",
            "ticks": ""
           }
          },
          "title": {
           "x": 0.05
          },
          "xaxis": {
           "automargin": true,
           "gridcolor": "white",
           "linecolor": "white",
           "ticks": "",
           "title": {
            "standoff": 15
           },
           "zerolinecolor": "white",
           "zerolinewidth": 2
          },
          "yaxis": {
           "automargin": true,
           "gridcolor": "white",
           "linecolor": "white",
           "ticks": "",
           "title": {
            "standoff": 15
           },
           "zerolinecolor": "white",
           "zerolinewidth": 2
          }
         }
        },
        "title": {
         "text": "Embeddings Visualization with 2D PCA"
        },
        "xaxis": {
         "anchor": "y",
         "domain": [
          0,
          1
         ],
         "title": {
          "text": ""
         }
        },
        "yaxis": {
         "anchor": "x",
         "domain": [
          0,
          1
         ],
         "title": {
          "text": ""
         }
        }
       }
      }
     },
     "metadata": {},
     "output_type": "display_data"
    },
    {
     "data": {
      "application/vnd.plotly.v1+json": {
       "config": {
        "plotlyServerURL": "https://plot.ly"
       },
       "data": [
        {
         "customdata": [
          [
           "Auditorias"
          ],
          [
           "Auditorias"
          ],
          [
           "Auditorias"
          ],
          [
           "Auditorias"
          ],
          [
           "Auditorias"
          ],
          [
           "Auditorias"
          ],
          [
           "Auditorias"
          ],
          [
           "Auditorias"
          ],
          [
           "Auditorias"
          ],
          [
           "Auditorias"
          ],
          [
           "Auditorias"
          ],
          [
           "Auditorias"
          ],
          [
           "Auditorias"
          ],
          [
           "Auditorias"
          ],
          [
           "Auditorias"
          ],
          [
           "Auditorias"
          ],
          [
           "Auditorias"
          ],
          [
           "Auditorias"
          ],
          [
           "Auditorias"
          ],
          [
           "Auditorias"
          ],
          [
           "Auditorias"
          ],
          [
           "Auditorias"
          ],
          [
           "Auditorias"
          ],
          [
           "Auditorias"
          ],
          [
           "Auditorias"
          ],
          [
           "Auditorias"
          ],
          [
           "Auditorias"
          ],
          [
           "Auditorias"
          ],
          [
           "Auditorias"
          ],
          [
           "Auditorias"
          ],
          [
           "Auditorias"
          ],
          [
           "Auditorias"
          ],
          [
           "Auditorias"
          ],
          [
           "Auditorias"
          ],
          [
           "Auditorias"
          ],
          [
           "Auditorias"
          ],
          [
           "Auditorias"
          ],
          [
           "Auditorias"
          ],
          [
           "Auditorias"
          ],
          [
           "Auditorias"
          ],
          [
           "Auditorias"
          ],
          [
           "Auditorias"
          ],
          [
           "Auditorias"
          ],
          [
           "Auditorias"
          ],
          [
           "Auditorias"
          ],
          [
           "Auditorias"
          ],
          [
           "Auditorias"
          ],
          [
           "Auditorias"
          ]
         ],
         "hovertemplate": "color=Auditorias<br>=%{y}<br>label=%{customdata[0]}<extra></extra>",
         "legendgroup": "Auditorias",
         "marker": {
          "color": "#636efa",
          "symbol": "circle"
         },
         "mode": "markers",
         "name": "Auditorias",
         "orientation": "v",
         "showlegend": true,
         "type": "scatter",
         "x": [
          1.3973083,
          -16.811182,
          -19.07979,
          -11.2026415,
          -11.070961,
          -16.56591,
          -16.439856,
          0.22118142,
          -0.93735933,
          -0.99081105,
          -4.761608,
          -3.5414226,
          -7.180765,
          -7.5002155,
          5.173515,
          -7.5882015,
          5.3824153,
          2.5535436,
          -3.4900286,
          -9.960563,
          10.092577,
          -3.4355824,
          1.2566297,
          4.3993587,
          1.3457665,
          -15.662871,
          -5.8553367,
          8.78397,
          2.3089013,
          0.13991001,
          -0.9577536,
          -0.9909198,
          -3.7551596,
          -7.2475796,
          -7.5069985,
          5.173582,
          -7.5956283,
          5.414553,
          2.5336533,
          2.1535654,
          -10.3506975,
          10.749362,
          -3.4355984,
          0.8597744,
          2.5456946,
          -1.5559708,
          -1.0124768,
          9.760648
         ],
         "xaxis": "x",
         "y": [
          24.48451,
          3.2586365,
          -0.37639868,
          9.990629,
          18.883276,
          6.6667123,
          7.2716126,
          0.52464134,
          -2.1087608,
          11.025853,
          16.684725,
          15.858213,
          11.248479,
          8.47586,
          14.960044,
          17.45787,
          9.1846,
          18.705572,
          5.4496207,
          7.3281164,
          17.853725,
          11.9953,
          9.200095,
          11.146333,
          10.973934,
          2.7723353,
          -1.8014423,
          8.647966,
          13.14201,
          0.42841786,
          -2.0398283,
          11.025724,
          16.041718,
          11.300894,
          8.485055,
          14.960235,
          17.479767,
          9.190458,
          18.683962,
          18.385862,
          7.6710105,
          18.230343,
          11.9951935,
          9.38573,
          9.8363905,
          4.0455317,
          0.24856314,
          17.665499
         ],
         "yaxis": "y"
        },
        {
         "customdata": [
          [
           "Ausentismo"
          ],
          [
           "Ausentismo"
          ],
          [
           "Ausentismo"
          ],
          [
           "Ausentismo"
          ],
          [
           "Ausentismo"
          ],
          [
           "Ausentismo"
          ],
          [
           "Ausentismo"
          ],
          [
           "Ausentismo"
          ],
          [
           "Ausentismo"
          ],
          [
           "Ausentismo"
          ],
          [
           "Ausentismo"
          ],
          [
           "Ausentismo"
          ],
          [
           "Ausentismo"
          ],
          [
           "Ausentismo"
          ],
          [
           "Ausentismo"
          ],
          [
           "Ausentismo"
          ],
          [
           "Ausentismo"
          ],
          [
           "Ausentismo"
          ],
          [
           "Ausentismo"
          ],
          [
           "Ausentismo"
          ],
          [
           "Ausentismo"
          ],
          [
           "Ausentismo"
          ],
          [
           "Ausentismo"
          ],
          [
           "Ausentismo"
          ],
          [
           "Ausentismo"
          ],
          [
           "Ausentismo"
          ],
          [
           "Ausentismo"
          ],
          [
           "Ausentismo"
          ],
          [
           "Ausentismo"
          ],
          [
           "Ausentismo"
          ],
          [
           "Ausentismo"
          ],
          [
           "Ausentismo"
          ],
          [
           "Ausentismo"
          ]
         ],
         "hovertemplate": "color=Ausentismo<br>=%{y}<br>label=%{customdata[0]}<extra></extra>",
         "legendgroup": "Ausentismo",
         "marker": {
          "color": "#EF553B",
          "symbol": "circle"
         },
         "mode": "markers",
         "name": "Ausentismo",
         "orientation": "v",
         "showlegend": true,
         "type": "scatter",
         "x": [
          -17.511936,
          -13.343665,
          -10.040636,
          -15.143292,
          -15.367937,
          -8.109674,
          -6.624702,
          -8.972842,
          5.937524,
          18.824804,
          -8.260116,
          -10.5532055,
          -3.296764,
          14.195854,
          13.863544,
          -7.7167897,
          -6.4477043,
          12.242499,
          -10.5002,
          -10.889007,
          -3.3209653,
          14.465496,
          14.047339,
          -8.482118,
          16.413326,
          -11.694334,
          14.04552,
          14.401692,
          -9.141593,
          -10.795593,
          15.583384,
          -11.411044,
          -17.777975
         ],
         "xaxis": "x",
         "y": [
          2.1655185,
          9.774008,
          11.128019,
          -0.74207735,
          -1.1975186,
          1.7045678,
          3.0134265,
          3.6015012,
          3.6337252,
          4.8252015,
          4.531954,
          1.3465568,
          2.0430927,
          7.877142,
          12.370107,
          1.33469,
          2.1453962,
          -4.239576,
          -1.3286828,
          -1.0131091,
          2.0573072,
          7.0005636,
          12.436908,
          0.7152693,
          -5.5128236,
          4.4091268,
          6.8954477,
          13.049946,
          0.22353736,
          -2.4491165,
          -4.202831,
          7.4044275,
          -2.7582915
         ],
         "yaxis": "y"
        },
        {
         "customdata": [
          [
           "Estructura Organizativa"
          ],
          [
           "Estructura Organizativa"
          ],
          [
           "Estructura Organizativa"
          ],
          [
           "Estructura Organizativa"
          ],
          [
           "Estructura Organizativa"
          ],
          [
           "Estructura Organizativa"
          ],
          [
           "Estructura Organizativa"
          ],
          [
           "Estructura Organizativa"
          ],
          [
           "Estructura Organizativa"
          ],
          [
           "Estructura Organizativa"
          ],
          [
           "Estructura Organizativa"
          ],
          [
           "Estructura Organizativa"
          ],
          [
           "Estructura Organizativa"
          ],
          [
           "Estructura Organizativa"
          ],
          [
           "Estructura Organizativa"
          ],
          [
           "Estructura Organizativa"
          ],
          [
           "Estructura Organizativa"
          ],
          [
           "Estructura Organizativa"
          ],
          [
           "Estructura Organizativa"
          ],
          [
           "Estructura Organizativa"
          ],
          [
           "Estructura Organizativa"
          ],
          [
           "Estructura Organizativa"
          ],
          [
           "Estructura Organizativa"
          ],
          [
           "Estructura Organizativa"
          ],
          [
           "Estructura Organizativa"
          ],
          [
           "Estructura Organizativa"
          ],
          [
           "Estructura Organizativa"
          ],
          [
           "Estructura Organizativa"
          ],
          [
           "Estructura Organizativa"
          ],
          [
           "Estructura Organizativa"
          ],
          [
           "Estructura Organizativa"
          ],
          [
           "Estructura Organizativa"
          ],
          [
           "Estructura Organizativa"
          ],
          [
           "Estructura Organizativa"
          ],
          [
           "Estructura Organizativa"
          ],
          [
           "Estructura Organizativa"
          ],
          [
           "Estructura Organizativa"
          ],
          [
           "Estructura Organizativa"
          ],
          [
           "Estructura Organizativa"
          ],
          [
           "Estructura Organizativa"
          ],
          [
           "Estructura Organizativa"
          ],
          [
           "Estructura Organizativa"
          ],
          [
           "Estructura Organizativa"
          ],
          [
           "Estructura Organizativa"
          ],
          [
           "Estructura Organizativa"
          ],
          [
           "Estructura Organizativa"
          ],
          [
           "Estructura Organizativa"
          ],
          [
           "Estructura Organizativa"
          ],
          [
           "Estructura Organizativa"
          ],
          [
           "Estructura Organizativa"
          ],
          [
           "Estructura Organizativa"
          ],
          [
           "Estructura Organizativa"
          ],
          [
           "Estructura Organizativa"
          ],
          [
           "Estructura Organizativa"
          ],
          [
           "Estructura Organizativa"
          ],
          [
           "Estructura Organizativa"
          ],
          [
           "Estructura Organizativa"
          ],
          [
           "Estructura Organizativa"
          ],
          [
           "Estructura Organizativa"
          ],
          [
           "Estructura Organizativa"
          ],
          [
           "Estructura Organizativa"
          ],
          [
           "Estructura Organizativa"
          ],
          [
           "Estructura Organizativa"
          ],
          [
           "Estructura Organizativa"
          ],
          [
           "Estructura Organizativa"
          ],
          [
           "Estructura Organizativa"
          ],
          [
           "Estructura Organizativa"
          ],
          [
           "Estructura Organizativa"
          ],
          [
           "Estructura Organizativa"
          ],
          [
           "Estructura Organizativa"
          ],
          [
           "Estructura Organizativa"
          ],
          [
           "Estructura Organizativa"
          ],
          [
           "Estructura Organizativa"
          ],
          [
           "Estructura Organizativa"
          ],
          [
           "Estructura Organizativa"
          ],
          [
           "Estructura Organizativa"
          ],
          [
           "Estructura Organizativa"
          ],
          [
           "Estructura Organizativa"
          ],
          [
           "Estructura Organizativa"
          ],
          [
           "Estructura Organizativa"
          ],
          [
           "Estructura Organizativa"
          ],
          [
           "Estructura Organizativa"
          ],
          [
           "Estructura Organizativa"
          ],
          [
           "Estructura Organizativa"
          ],
          [
           "Estructura Organizativa"
          ],
          [
           "Estructura Organizativa"
          ],
          [
           "Estructura Organizativa"
          ],
          [
           "Estructura Organizativa"
          ],
          [
           "Estructura Organizativa"
          ],
          [
           "Estructura Organizativa"
          ],
          [
           "Estructura Organizativa"
          ],
          [
           "Estructura Organizativa"
          ],
          [
           "Estructura Organizativa"
          ],
          [
           "Estructura Organizativa"
          ],
          [
           "Estructura Organizativa"
          ],
          [
           "Estructura Organizativa"
          ],
          [
           "Estructura Organizativa"
          ],
          [
           "Estructura Organizativa"
          ],
          [
           "Estructura Organizativa"
          ],
          [
           "Estructura Organizativa"
          ],
          [
           "Estructura Organizativa"
          ],
          [
           "Estructura Organizativa"
          ],
          [
           "Estructura Organizativa"
          ],
          [
           "Estructura Organizativa"
          ],
          [
           "Estructura Organizativa"
          ],
          [
           "Estructura Organizativa"
          ],
          [
           "Estructura Organizativa"
          ],
          [
           "Estructura Organizativa"
          ],
          [
           "Estructura Organizativa"
          ],
          [
           "Estructura Organizativa"
          ],
          [
           "Estructura Organizativa"
          ],
          [
           "Estructura Organizativa"
          ],
          [
           "Estructura Organizativa"
          ],
          [
           "Estructura Organizativa"
          ],
          [
           "Estructura Organizativa"
          ],
          [
           "Estructura Organizativa"
          ],
          [
           "Estructura Organizativa"
          ],
          [
           "Estructura Organizativa"
          ],
          [
           "Estructura Organizativa"
          ],
          [
           "Estructura Organizativa"
          ],
          [
           "Estructura Organizativa"
          ],
          [
           "Estructura Organizativa"
          ],
          [
           "Estructura Organizativa"
          ],
          [
           "Estructura Organizativa"
          ],
          [
           "Estructura Organizativa"
          ],
          [
           "Estructura Organizativa"
          ],
          [
           "Estructura Organizativa"
          ],
          [
           "Estructura Organizativa"
          ],
          [
           "Estructura Organizativa"
          ],
          [
           "Estructura Organizativa"
          ],
          [
           "Estructura Organizativa"
          ],
          [
           "Estructura Organizativa"
          ],
          [
           "Estructura Organizativa"
          ],
          [
           "Estructura Organizativa"
          ],
          [
           "Estructura Organizativa"
          ]
         ],
         "hovertemplate": "color=Estructura Organizativa<br>=%{y}<br>label=%{customdata[0]}<extra></extra>",
         "legendgroup": "Estructura Organizativa",
         "marker": {
          "color": "#00cc96",
          "symbol": "circle"
         },
         "mode": "markers",
         "name": "Estructura Organizativa",
         "orientation": "v",
         "showlegend": true,
         "type": "scatter",
         "x": [
          -0.5605653,
          0.49551657,
          -18.66399,
          -19.486341,
          -9.05043,
          5.3391595,
          1.1757358,
          1.7302454,
          -21.926435,
          3.27368,
          -10.406681,
          9.314424,
          -6.432054,
          -4.871208,
          -0.4437214,
          14.176354,
          5.7625628,
          6.6503386,
          7.2597117,
          11.690275,
          7.171898,
          5.1066008,
          5.3325405,
          3.645675,
          3.3412795,
          9.367491,
          17.516449,
          -0.9218004,
          4.986231,
          3.6390083,
          4.579951,
          5.9982843,
          3.4620214,
          3.3422172,
          3.6949382,
          10.975879,
          9.061227,
          8.309978,
          10.617692,
          10.109602,
          0.7681267,
          7.205989,
          5.936597,
          8.226956,
          16.515778,
          1.2857612,
          10.998982,
          11.510907,
          7.458785,
          10.814988,
          12.263631,
          9.8811455,
          1.388003,
          10.18861,
          5.7565174,
          16.504097,
          9.209437,
          -3.4274268,
          -2.707344,
          5.628757,
          20.962036,
          20.934557,
          0.56117284,
          5.5377917,
          4.900323,
          3.6103134,
          4.8536654,
          5.290742,
          3.8002467,
          3.7082124,
          12.454325,
          9.472351,
          18.11853,
          -5.8402076,
          -4.2660317,
          9.896139,
          16.193726,
          8.056734,
          7.6081195,
          7.284661,
          -20.356285,
          -8.316353,
          -20.411648,
          -8.679004,
          -17.040367,
          0.8650159,
          9.440449,
          -6.9180264,
          -5.933597,
          12.311981,
          12.214847,
          10.2598715,
          14.603077,
          9.370321,
          10.416205,
          1.2747359,
          13.634355,
          12.125779,
          13.742112,
          8.861143,
          10.413256,
          0.63199985,
          13.302085,
          12.803071,
          12.662181,
          9.580822,
          1.3297118,
          1.2094685,
          9.290856,
          -6.2568884,
          -4.992162,
          12.540007,
          14.094931,
          16.088642,
          12.22467,
          14.297832,
          16.653696,
          1.0816505,
          10.145018,
          14.019784,
          1.7910445,
          14.557191,
          4.8224664,
          6.8955073,
          2.910099,
          2.508773,
          -0.12681335,
          -0.7746148,
          0.62899137,
          -0.5136021,
          7.7944794,
          -16.497795,
          5.714098,
          -14.864648,
          1.9728167
         ],
         "xaxis": "x",
         "y": [
          23.646685,
          25.385668,
          4.0971766,
          4.3365307,
          -15.829619,
          -16.041548,
          -11.479469,
          -11.23528,
          6.518786,
          -13.955101,
          9.30195,
          -19.529541,
          -19.252943,
          -17.29306,
          -17.841345,
          3.354522,
          -14.145147,
          -15.477078,
          3.5050812,
          -1.4951624,
          -10.093241,
          -13.710849,
          5.846814,
          -1.2978809,
          -20.730127,
          3.5442085,
          -7.7356358,
          -17.049782,
          1.0907578,
          0.8627598,
          -13.843211,
          -2.3337698,
          -1.8473825,
          -4.9998755,
          -12.388682,
          -0.08136275,
          0.7349846,
          0.8970877,
          -10.424644,
          0.6173491,
          -16.4407,
          1.2113662,
          -12.57253,
          -13.03251,
          3.4550571,
          -16.49523,
          3.6643507,
          -6.3581986,
          -12.993572,
          1.312357,
          -12.19294,
          1.567399,
          -16.467009,
          -11.033695,
          1.1308634,
          -0.022788376,
          -3.5261402,
          -10.672388,
          -10.826645,
          -3.9327903,
          -1.0651911,
          -0.99733835,
          -17.815538,
          -11.339591,
          6.0711884,
          -0.6158036,
          -0.6492871,
          -7.6752725,
          -6.732193,
          -6.821669,
          -13.847331,
          -3.3756537,
          -6.2180567,
          -9.728761,
          -10.37192,
          -1.8644229,
          9.165256,
          -1.489572,
          -2.324124,
          -4.082285,
          -2.1019087,
          -0.66173595,
          -2.4032266,
          -1.1882291,
          12.131077,
          -14.490083,
          -18.659899,
          -18.482224,
          -17.865545,
          1.1902068,
          -7.110693,
          -15.805748,
          0.85705006,
          2.0931876,
          -14.359372,
          -21.11148,
          1.1551597,
          -7.9313455,
          -0.7436788,
          1.9928076,
          -14.310917,
          -20.520782,
          0.110329054,
          -7.7217517,
          -11.792265,
          -0.32667947,
          -20.02118,
          -13.783587,
          -19.133713,
          -18.992716,
          -17.374876,
          2.2078931,
          -6.227242,
          2.6282344,
          2.1149952,
          -5.9598866,
          3.0486052,
          -21.705608,
          2.3116617,
          -5.3182473,
          -21.091991,
          4.154101,
          -10.132319,
          -0.114142045,
          -9.338288,
          -8.065837,
          -6.136155,
          -7.7824183,
          -5.945466,
          -6.6837564,
          2.5420218,
          16.379509,
          -4.0176363,
          16.05581,
          -21.868238
         ],
         "yaxis": "y"
        },
        {
         "customdata": [
          [
           "Riesgos"
          ],
          [
           "Riesgos"
          ],
          [
           "Riesgos"
          ],
          [
           "Riesgos"
          ],
          [
           "Riesgos"
          ],
          [
           "Riesgos"
          ],
          [
           "Riesgos"
          ],
          [
           "Riesgos"
          ],
          [
           "Riesgos"
          ],
          [
           "Riesgos"
          ],
          [
           "Riesgos"
          ],
          [
           "Riesgos"
          ],
          [
           "Riesgos"
          ],
          [
           "Riesgos"
          ],
          [
           "Riesgos"
          ],
          [
           "Riesgos"
          ],
          [
           "Riesgos"
          ],
          [
           "Riesgos"
          ],
          [
           "Riesgos"
          ],
          [
           "Riesgos"
          ],
          [
           "Riesgos"
          ],
          [
           "Riesgos"
          ],
          [
           "Riesgos"
          ],
          [
           "Riesgos"
          ],
          [
           "Riesgos"
          ],
          [
           "Riesgos"
          ],
          [
           "Riesgos"
          ],
          [
           "Riesgos"
          ],
          [
           "Riesgos"
          ],
          [
           "Riesgos"
          ],
          [
           "Riesgos"
          ],
          [
           "Riesgos"
          ],
          [
           "Riesgos"
          ],
          [
           "Riesgos"
          ],
          [
           "Riesgos"
          ],
          [
           "Riesgos"
          ],
          [
           "Riesgos"
          ],
          [
           "Riesgos"
          ],
          [
           "Riesgos"
          ],
          [
           "Riesgos"
          ],
          [
           "Riesgos"
          ]
         ],
         "hovertemplate": "color=Riesgos<br>=%{y}<br>label=%{customdata[0]}<extra></extra>",
         "legendgroup": "Riesgos",
         "marker": {
          "color": "#ab63fa",
          "symbol": "circle"
         },
         "mode": "markers",
         "name": "Riesgos",
         "orientation": "v",
         "showlegend": true,
         "type": "scatter",
         "x": [
          -0.10924166,
          -16.829596,
          -19.270613,
          -11.538662,
          -15.38394,
          -17.353563,
          -12.7309,
          8.238642,
          9.383939,
          -10.46282,
          -10.759559,
          -11.103485,
          8.240274,
          -2.3970983,
          -2.0739117,
          3.7507768,
          -4.1433144,
          -6.84256,
          1.0848821,
          -7.3593364,
          6.8391747,
          17.860819,
          -3.9551623,
          7.3237,
          -0.57216305,
          17.94001,
          -15.791403,
          0.15901375,
          1.0451051,
          -6.942971,
          -6.047255,
          -4.1758533,
          -5.969789,
          0.3449574,
          -9.920263,
          -9.311529,
          -10.149993,
          -8.717466,
          -4.271961,
          -4.6333427,
          -4.2477746
         ],
         "xaxis": "x",
         "y": [
          24.243568,
          4.1054444,
          -6.1093063,
          14.216526,
          -5.957078,
          -4.0462976,
          12.04613,
          4.023786,
          9.74964,
          -8.103069,
          -7.864558,
          18.911533,
          9.319063,
          11.943028,
          8.277712,
          -15.581752,
          0.16762853,
          -4.5269485,
          -0.42866766,
          -5.8389544,
          11.601494,
          -4.7350907,
          7.6338515,
          12.123594,
          7.1225443,
          4.4857373,
          -3.3870597,
          7.64502,
          6.8006797,
          -15.209825,
          6.5213647,
          -12.789593,
          6.6088605,
          -11.946098,
          -10.8108225,
          -11.991062,
          -10.543253,
          -6.993265,
          9.475471,
          13.023274,
          8.882834
         ],
         "yaxis": "y"
        },
        {
         "customdata": [
          [
           "Información"
          ],
          [
           "Información"
          ],
          [
           "Información"
          ],
          [
           "Información"
          ],
          [
           "Información"
          ],
          [
           "Información"
          ],
          [
           "Información"
          ],
          [
           "Información"
          ],
          [
           "Información"
          ],
          [
           "Información"
          ],
          [
           "Información"
          ],
          [
           "Información"
          ],
          [
           "Información"
          ],
          [
           "Información"
          ],
          [
           "Información"
          ],
          [
           "Información"
          ]
         ],
         "hovertemplate": "color=Información<br>=%{y}<br>label=%{customdata[0]}<extra></extra>",
         "legendgroup": "Información",
         "marker": {
          "color": "#FFA15A",
          "symbol": "circle"
         },
         "mode": "markers",
         "name": "Información",
         "orientation": "v",
         "showlegend": true,
         "type": "scatter",
         "x": [
          -17.860067,
          -12.96799,
          -0.9731475,
          -14.655039,
          10.943861,
          16.238077,
          17.313189,
          4.3148336,
          5.165016,
          -8.21551,
          -0.5473659,
          -4.6617317,
          -19.03185,
          6.57025,
          17.499287,
          10.19442
         ],
         "xaxis": "x",
         "y": [
          4.0120926,
          12.20379,
          8.129281,
          -7.6335564,
          13.492837,
          7.1402154,
          7.3960414,
          -19.350399,
          -18.753887,
          13.061764,
          5.662127,
          21.848236,
          7.4234343,
          7.4018817,
          0.34100306,
          -6.4606323
         ],
         "yaxis": "y"
        },
        {
         "customdata": [
          [
           "Emergencia"
          ],
          [
           "Emergencia"
          ],
          [
           "Emergencia"
          ],
          [
           "Emergencia"
          ],
          [
           "Emergencia"
          ],
          [
           "Emergencia"
          ],
          [
           "Emergencia"
          ],
          [
           "Emergencia"
          ],
          [
           "Emergencia"
          ],
          [
           "Emergencia"
          ],
          [
           "Emergencia"
          ],
          [
           "Emergencia"
          ],
          [
           "Emergencia"
          ],
          [
           "Emergencia"
          ],
          [
           "Emergencia"
          ],
          [
           "Emergencia"
          ],
          [
           "Emergencia"
          ],
          [
           "Emergencia"
          ],
          [
           "Emergencia"
          ],
          [
           "Emergencia"
          ],
          [
           "Emergencia"
          ],
          [
           "Emergencia"
          ],
          [
           "Emergencia"
          ],
          [
           "Emergencia"
          ],
          [
           "Emergencia"
          ],
          [
           "Emergencia"
          ],
          [
           "Emergencia"
          ],
          [
           "Emergencia"
          ],
          [
           "Emergencia"
          ],
          [
           "Emergencia"
          ],
          [
           "Emergencia"
          ],
          [
           "Emergencia"
          ],
          [
           "Emergencia"
          ],
          [
           "Emergencia"
          ],
          [
           "Emergencia"
          ],
          [
           "Emergencia"
          ],
          [
           "Emergencia"
          ],
          [
           "Emergencia"
          ],
          [
           "Emergencia"
          ],
          [
           "Emergencia"
          ],
          [
           "Emergencia"
          ],
          [
           "Emergencia"
          ],
          [
           "Emergencia"
          ],
          [
           "Emergencia"
          ],
          [
           "Emergencia"
          ],
          [
           "Emergencia"
          ],
          [
           "Emergencia"
          ],
          [
           "Emergencia"
          ],
          [
           "Emergencia"
          ],
          [
           "Emergencia"
          ],
          [
           "Emergencia"
          ],
          [
           "Emergencia"
          ],
          [
           "Emergencia"
          ],
          [
           "Emergencia"
          ],
          [
           "Emergencia"
          ],
          [
           "Emergencia"
          ],
          [
           "Emergencia"
          ],
          [
           "Emergencia"
          ],
          [
           "Emergencia"
          ],
          [
           "Emergencia"
          ],
          [
           "Emergencia"
          ],
          [
           "Emergencia"
          ],
          [
           "Emergencia"
          ],
          [
           "Emergencia"
          ]
         ],
         "hovertemplate": "color=Emergencia<br>=%{y}<br>label=%{customdata[0]}<extra></extra>",
         "legendgroup": "Emergencia",
         "marker": {
          "color": "#19d3f3",
          "symbol": "circle"
         },
         "mode": "markers",
         "name": "Emergencia",
         "orientation": "v",
         "showlegend": true,
         "type": "scatter",
         "x": [
          0.55319846,
          -17.801807,
          -14.268871,
          -2.669558,
          -16.568417,
          -17.429949,
          -17.914711,
          -17.526379,
          -16.874584,
          -15.951077,
          -16.597982,
          -17.861925,
          -12.057104,
          -11.586994,
          -12.054726,
          -13.6477165,
          -13.485682,
          9.0533285,
          -3.4331756,
          -3.5653822,
          20.784828,
          -14.448869,
          10.047304,
          15.2785845,
          -3.8630712,
          -0.59812796,
          -2.363606,
          -1.0990461,
          18.861809,
          2.721211,
          2.1593046,
          19.133286,
          1.4051503,
          3.9592044,
          11.844753,
          7.7818246,
          10.096233,
          -4.357426,
          -6.2223043,
          -2.3953876,
          -1.2088679,
          -0.12843268,
          -5.6029053,
          -3.4394045,
          -14.348022,
          -16.231731,
          -2.6756346,
          -3.1887753,
          2.5927315,
          -2.1194184,
          -4.5968637,
          -4.5835676,
          11.348828,
          20.684322,
          -1.2893304,
          -0.49102727,
          -1.6428117,
          6.8505354,
          -7.9254274,
          2.7193997,
          11.680498,
          7.3686237,
          5.059886,
          11.975878
         ],
         "xaxis": "x",
         "y": [
          25.093227,
          2.741053,
          -4.2932925,
          16.279476,
          -7.884463,
          -6.8179617,
          -6.3366814,
          -7.4040422,
          -8.657149,
          -8.967509,
          -9.522357,
          -10.492787,
          10.38373,
          -7.6011024,
          -6.9037304,
          -14.194256,
          -13.987033,
          6.136113,
          -6.3296027,
          -7.217182,
          -5.830509,
          -9.516949,
          5.1670547,
          -7.348125,
          -5.6181493,
          -5.090429,
          -5.72018,
          20.75031,
          -6.472844,
          3.3418853,
          2.773556,
          -7.1672087,
          2.5639622,
          4.06559,
          8.668761,
          5.3331504,
          6.6636314,
          -2.1072075,
          -3.9735498,
          14.202969,
          13.0742445,
          13.518025,
          -3.2898338,
          -2.1725492,
          -15.234643,
          -6.4056325,
          4.664038,
          3.6921177,
          7.962866,
          4.7500687,
          4.952188,
          -1.4765054,
          6.922756,
          -5.5702963,
          13.620046,
          15.268696,
          -14.14737,
          2.3988485,
          15.60307,
          7.8681374,
          5.3326592,
          -6.6802025,
          2.3871608,
          4.786054
         ],
         "yaxis": "y"
        },
        {
         "customdata": [
          [
           "Question: ¿Cómo se diferencia la ubicación física de la operativa?<br>Closest Model: Estructura Organizativa<br>Similarity: 0.78<br>Chunk: entendidos  como el lugar o área ocupada por las personas dentro de la organización donde se  desarr..."
          ],
          [
           "Question: ¿Qué información se incluye en el informe de la evaluación de riesgos que ofrece la plataforma y cuál es su utilidad para la gestión de riesgos en la empresa?<br>Closest Model: Riesgos<br>Similarity: 0.89<br>Chunk: Sabentis es la nueva plataforma de gestión especializada en el ámbito de seguridad y salud en  el tr..."
          ],
          [
           "Question: ¿Hay indicadores relativos al cumplimiento de normas?<br>Closest Model: Auditorias<br>Similarity: 0.72<br>Chunk: 24  EVALUACIÓN DE ASPECTOS LEGALES  La pestaña evaluación de aspectos legales permite al usuario eva..."
          ],
          [
           "Question: ¿Qué papel juega la estructura organizativa en la funcionalidad general de la plataforma y cómo interactúa con otros módulos?<br>Closest Model: Estructura Organizativa<br>Similarity: 0.87<br>Chunk: 3. HOME ESTRUCTURA ORGANIZATIVA  El usuario puede acceder al módulo Estructura Organizativa (EO), de..."
          ],
          [
           "Question: ¿Qué permite realizar la evaluación de riesgos?<br>Closest Model: Riesgos<br>Similarity: 0.84<br>Chunk: la  configuración, se debe tener en consideración el comportamiento de los campos en el  formulario ..."
          ],
          [
           "Question: ¿Qué tipo de documentos se pueden almacenar y compartir en el espacio denominado 'Documentos' y cuál es su importancia dentro del contexto de la gestión empresarial en la plataforma?<br>Closest Model: Información<br>Similarity: 0.88<br>Chunk: DATOS DEL DOCUMENTO  HISTÓRICO DE CAMBIOS  CONTENIDO  Sabentis es la nueva plataforma de gestión esp..."
          ],
          [
           "Question: ¿Se pueden llevar a cabo auditorías internas?<br>Closest Model: Emergencia<br>Similarity: 0.76<br>Chunk: Un simulacro es un ensayo o ejercicio de adiestramiento práctico del modo de actuar en caso  de emer..."
          ],
          [
           "Question: ¿Cuál es la tasa de adopción de esta plataforma en el mercado?<br>Closest Model: Estructura Organizativa<br>Similarity: 0.73<br>Chunk: CONTENIDO  Sabentis es la nueva plataforma de gestión especializada en el ámbito de Seguridad y Salu..."
          ],
          [
           "Question: ¿Cómo se compara esta plataforma con otras soluciones de gestión de SST?<br>Closest Model: Estructura Organizativa<br>Similarity: 0.82<br>Chunk: CONTENIDO  Sabentis es la nueva plataforma de gestión especializada en el ámbito de Seguridad y Salu..."
          ],
          [
           "Question: ¿Qué día hará mañana?<br>Closest Model: Estructura Organizativa<br>Similarity: 0.63<br>Chunk: Versión  Fecha  Comentarios  Autor  Versión 1.0  28/10/2021  Redacción  Mercedes León Chele  Versión..."
          ]
         ],
         "hovertemplate": "color=Question<br>=%{y}<br>label=%{customdata[0]}<extra></extra>",
         "legendgroup": "Question",
         "marker": {
          "color": "#FF6692",
          "symbol": "circle"
         },
         "mode": "markers",
         "name": "Question",
         "orientation": "v",
         "showlegend": true,
         "type": "scatter",
         "x": [
          -8.646667,
          -15.820379,
          -3.3368902,
          -22.083363,
          -5.5428324,
          5.5610766,
          -19.204264,
          -20.314875,
          -18.128979,
          -0.980586
         ],
         "xaxis": "x",
         "y": [
          -14.47679,
          4.855279,
          18.419006,
          6.104825,
          13.935809,
          -21.414865,
          -8.707194,
          2.6850388,
          5.631104,
          25.99931
         ],
         "yaxis": "y"
        }
       ],
       "layout": {
        "annotations": [
         {
          "arrowhead": 2,
          "showarrow": true,
          "text": "Q1",
          "x": -8.646666526794434,
          "y": -14.476790428161621
         },
         {
          "arrowhead": 2,
          "showarrow": true,
          "text": "Q2",
          "x": -15.820379257202148,
          "y": 4.855278968811035
         },
         {
          "arrowhead": 2,
          "showarrow": true,
          "text": "Q3",
          "x": -3.33689022064209,
          "y": 18.41900634765625
         },
         {
          "arrowhead": 2,
          "showarrow": true,
          "text": "Q4",
          "x": -22.083362579345703,
          "y": 6.104825019836426
         },
         {
          "arrowhead": 2,
          "showarrow": true,
          "text": "Q5",
          "x": -5.542832374572754,
          "y": 13.935809135437012
         },
         {
          "arrowhead": 2,
          "showarrow": true,
          "text": "Q6",
          "x": 5.561076641082764,
          "y": -21.414865493774414
         },
         {
          "arrowhead": 2,
          "showarrow": true,
          "text": "Q7",
          "x": -19.20426368713379,
          "y": -8.707194328308105
         },
         {
          "arrowhead": 2,
          "showarrow": true,
          "text": "Q8",
          "x": -20.31487464904785,
          "y": 2.6850388050079346
         },
         {
          "arrowhead": 2,
          "showarrow": true,
          "text": "Q9",
          "x": -18.128978729248047,
          "y": 5.631103992462158
         },
         {
          "arrowhead": 2,
          "showarrow": true,
          "text": "Q10",
          "x": -0.9805859923362732,
          "y": 25.999309539794922
         }
        ],
        "legend": {
         "title": {
          "text": "color"
         },
         "tracegroupgap": 0
        },
        "template": {
         "data": {
          "bar": [
           {
            "error_x": {
             "color": "#2a3f5f"
            },
            "error_y": {
             "color": "#2a3f5f"
            },
            "marker": {
             "line": {
              "color": "#E5ECF6",
              "width": 0.5
             },
             "pattern": {
              "fillmode": "overlay",
              "size": 10,
              "solidity": 0.2
             }
            },
            "type": "bar"
           }
          ],
          "barpolar": [
           {
            "marker": {
             "line": {
              "color": "#E5ECF6",
              "width": 0.5
             },
             "pattern": {
              "fillmode": "overlay",
              "size": 10,
              "solidity": 0.2
             }
            },
            "type": "barpolar"
           }
          ],
          "carpet": [
           {
            "aaxis": {
             "endlinecolor": "#2a3f5f",
             "gridcolor": "white",
             "linecolor": "white",
             "minorgridcolor": "white",
             "startlinecolor": "#2a3f5f"
            },
            "baxis": {
             "endlinecolor": "#2a3f5f",
             "gridcolor": "white",
             "linecolor": "white",
             "minorgridcolor": "white",
             "startlinecolor": "#2a3f5f"
            },
            "type": "carpet"
           }
          ],
          "choropleth": [
           {
            "colorbar": {
             "outlinewidth": 0,
             "ticks": ""
            },
            "type": "choropleth"
           }
          ],
          "contour": [
           {
            "colorbar": {
             "outlinewidth": 0,
             "ticks": ""
            },
            "colorscale": [
             [
              0,
              "#0d0887"
             ],
             [
              0.1111111111111111,
              "#46039f"
             ],
             [
              0.2222222222222222,
              "#7201a8"
             ],
             [
              0.3333333333333333,
              "#9c179e"
             ],
             [
              0.4444444444444444,
              "#bd3786"
             ],
             [
              0.5555555555555556,
              "#d8576b"
             ],
             [
              0.6666666666666666,
              "#ed7953"
             ],
             [
              0.7777777777777778,
              "#fb9f3a"
             ],
             [
              0.8888888888888888,
              "#fdca26"
             ],
             [
              1,
              "#f0f921"
             ]
            ],
            "type": "contour"
           }
          ],
          "contourcarpet": [
           {
            "colorbar": {
             "outlinewidth": 0,
             "ticks": ""
            },
            "type": "contourcarpet"
           }
          ],
          "heatmap": [
           {
            "colorbar": {
             "outlinewidth": 0,
             "ticks": ""
            },
            "colorscale": [
             [
              0,
              "#0d0887"
             ],
             [
              0.1111111111111111,
              "#46039f"
             ],
             [
              0.2222222222222222,
              "#7201a8"
             ],
             [
              0.3333333333333333,
              "#9c179e"
             ],
             [
              0.4444444444444444,
              "#bd3786"
             ],
             [
              0.5555555555555556,
              "#d8576b"
             ],
             [
              0.6666666666666666,
              "#ed7953"
             ],
             [
              0.7777777777777778,
              "#fb9f3a"
             ],
             [
              0.8888888888888888,
              "#fdca26"
             ],
             [
              1,
              "#f0f921"
             ]
            ],
            "type": "heatmap"
           }
          ],
          "heatmapgl": [
           {
            "colorbar": {
             "outlinewidth": 0,
             "ticks": ""
            },
            "colorscale": [
             [
              0,
              "#0d0887"
             ],
             [
              0.1111111111111111,
              "#46039f"
             ],
             [
              0.2222222222222222,
              "#7201a8"
             ],
             [
              0.3333333333333333,
              "#9c179e"
             ],
             [
              0.4444444444444444,
              "#bd3786"
             ],
             [
              0.5555555555555556,
              "#d8576b"
             ],
             [
              0.6666666666666666,
              "#ed7953"
             ],
             [
              0.7777777777777778,
              "#fb9f3a"
             ],
             [
              0.8888888888888888,
              "#fdca26"
             ],
             [
              1,
              "#f0f921"
             ]
            ],
            "type": "heatmapgl"
           }
          ],
          "histogram": [
           {
            "marker": {
             "pattern": {
              "fillmode": "overlay",
              "size": 10,
              "solidity": 0.2
             }
            },
            "type": "histogram"
           }
          ],
          "histogram2d": [
           {
            "colorbar": {
             "outlinewidth": 0,
             "ticks": ""
            },
            "colorscale": [
             [
              0,
              "#0d0887"
             ],
             [
              0.1111111111111111,
              "#46039f"
             ],
             [
              0.2222222222222222,
              "#7201a8"
             ],
             [
              0.3333333333333333,
              "#9c179e"
             ],
             [
              0.4444444444444444,
              "#bd3786"
             ],
             [
              0.5555555555555556,
              "#d8576b"
             ],
             [
              0.6666666666666666,
              "#ed7953"
             ],
             [
              0.7777777777777778,
              "#fb9f3a"
             ],
             [
              0.8888888888888888,
              "#fdca26"
             ],
             [
              1,
              "#f0f921"
             ]
            ],
            "type": "histogram2d"
           }
          ],
          "histogram2dcontour": [
           {
            "colorbar": {
             "outlinewidth": 0,
             "ticks": ""
            },
            "colorscale": [
             [
              0,
              "#0d0887"
             ],
             [
              0.1111111111111111,
              "#46039f"
             ],
             [
              0.2222222222222222,
              "#7201a8"
             ],
             [
              0.3333333333333333,
              "#9c179e"
             ],
             [
              0.4444444444444444,
              "#bd3786"
             ],
             [
              0.5555555555555556,
              "#d8576b"
             ],
             [
              0.6666666666666666,
              "#ed7953"
             ],
             [
              0.7777777777777778,
              "#fb9f3a"
             ],
             [
              0.8888888888888888,
              "#fdca26"
             ],
             [
              1,
              "#f0f921"
             ]
            ],
            "type": "histogram2dcontour"
           }
          ],
          "mesh3d": [
           {
            "colorbar": {
             "outlinewidth": 0,
             "ticks": ""
            },
            "type": "mesh3d"
           }
          ],
          "parcoords": [
           {
            "line": {
             "colorbar": {
              "outlinewidth": 0,
              "ticks": ""
             }
            },
            "type": "parcoords"
           }
          ],
          "pie": [
           {
            "automargin": true,
            "type": "pie"
           }
          ],
          "scatter": [
           {
            "fillpattern": {
             "fillmode": "overlay",
             "size": 10,
             "solidity": 0.2
            },
            "type": "scatter"
           }
          ],
          "scatter3d": [
           {
            "line": {
             "colorbar": {
              "outlinewidth": 0,
              "ticks": ""
             }
            },
            "marker": {
             "colorbar": {
              "outlinewidth": 0,
              "ticks": ""
             }
            },
            "type": "scatter3d"
           }
          ],
          "scattercarpet": [
           {
            "marker": {
             "colorbar": {
              "outlinewidth": 0,
              "ticks": ""
             }
            },
            "type": "scattercarpet"
           }
          ],
          "scattergeo": [
           {
            "marker": {
             "colorbar": {
              "outlinewidth": 0,
              "ticks": ""
             }
            },
            "type": "scattergeo"
           }
          ],
          "scattergl": [
           {
            "marker": {
             "colorbar": {
              "outlinewidth": 0,
              "ticks": ""
             }
            },
            "type": "scattergl"
           }
          ],
          "scattermapbox": [
           {
            "marker": {
             "colorbar": {
              "outlinewidth": 0,
              "ticks": ""
             }
            },
            "type": "scattermapbox"
           }
          ],
          "scatterpolar": [
           {
            "marker": {
             "colorbar": {
              "outlinewidth": 0,
              "ticks": ""
             }
            },
            "type": "scatterpolar"
           }
          ],
          "scatterpolargl": [
           {
            "marker": {
             "colorbar": {
              "outlinewidth": 0,
              "ticks": ""
             }
            },
            "type": "scatterpolargl"
           }
          ],
          "scatterternary": [
           {
            "marker": {
             "colorbar": {
              "outlinewidth": 0,
              "ticks": ""
             }
            },
            "type": "scatterternary"
           }
          ],
          "surface": [
           {
            "colorbar": {
             "outlinewidth": 0,
             "ticks": ""
            },
            "colorscale": [
             [
              0,
              "#0d0887"
             ],
             [
              0.1111111111111111,
              "#46039f"
             ],
             [
              0.2222222222222222,
              "#7201a8"
             ],
             [
              0.3333333333333333,
              "#9c179e"
             ],
             [
              0.4444444444444444,
              "#bd3786"
             ],
             [
              0.5555555555555556,
              "#d8576b"
             ],
             [
              0.6666666666666666,
              "#ed7953"
             ],
             [
              0.7777777777777778,
              "#fb9f3a"
             ],
             [
              0.8888888888888888,
              "#fdca26"
             ],
             [
              1,
              "#f0f921"
             ]
            ],
            "type": "surface"
           }
          ],
          "table": [
           {
            "cells": {
             "fill": {
              "color": "#EBF0F8"
             },
             "line": {
              "color": "white"
             }
            },
            "header": {
             "fill": {
              "color": "#C8D4E3"
             },
             "line": {
              "color": "white"
             }
            },
            "type": "table"
           }
          ]
         },
         "layout": {
          "annotationdefaults": {
           "arrowcolor": "#2a3f5f",
           "arrowhead": 0,
           "arrowwidth": 1
          },
          "autotypenumbers": "strict",
          "coloraxis": {
           "colorbar": {
            "outlinewidth": 0,
            "ticks": ""
           }
          },
          "colorscale": {
           "diverging": [
            [
             0,
             "#8e0152"
            ],
            [
             0.1,
             "#c51b7d"
            ],
            [
             0.2,
             "#de77ae"
            ],
            [
             0.3,
             "#f1b6da"
            ],
            [
             0.4,
             "#fde0ef"
            ],
            [
             0.5,
             "#f7f7f7"
            ],
            [
             0.6,
             "#e6f5d0"
            ],
            [
             0.7,
             "#b8e186"
            ],
            [
             0.8,
             "#7fbc41"
            ],
            [
             0.9,
             "#4d9221"
            ],
            [
             1,
             "#276419"
            ]
           ],
           "sequential": [
            [
             0,
             "#0d0887"
            ],
            [
             0.1111111111111111,
             "#46039f"
            ],
            [
             0.2222222222222222,
             "#7201a8"
            ],
            [
             0.3333333333333333,
             "#9c179e"
            ],
            [
             0.4444444444444444,
             "#bd3786"
            ],
            [
             0.5555555555555556,
             "#d8576b"
            ],
            [
             0.6666666666666666,
             "#ed7953"
            ],
            [
             0.7777777777777778,
             "#fb9f3a"
            ],
            [
             0.8888888888888888,
             "#fdca26"
            ],
            [
             1,
             "#f0f921"
            ]
           ],
           "sequentialminus": [
            [
             0,
             "#0d0887"
            ],
            [
             0.1111111111111111,
             "#46039f"
            ],
            [
             0.2222222222222222,
             "#7201a8"
            ],
            [
             0.3333333333333333,
             "#9c179e"
            ],
            [
             0.4444444444444444,
             "#bd3786"
            ],
            [
             0.5555555555555556,
             "#d8576b"
            ],
            [
             0.6666666666666666,
             "#ed7953"
            ],
            [
             0.7777777777777778,
             "#fb9f3a"
            ],
            [
             0.8888888888888888,
             "#fdca26"
            ],
            [
             1,
             "#f0f921"
            ]
           ]
          },
          "colorway": [
           "#636efa",
           "#EF553B",
           "#00cc96",
           "#ab63fa",
           "#FFA15A",
           "#19d3f3",
           "#FF6692",
           "#B6E880",
           "#FF97FF",
           "#FECB52"
          ],
          "font": {
           "color": "#2a3f5f"
          },
          "geo": {
           "bgcolor": "white",
           "lakecolor": "white",
           "landcolor": "#E5ECF6",
           "showlakes": true,
           "showland": true,
           "subunitcolor": "white"
          },
          "hoverlabel": {
           "align": "left"
          },
          "hovermode": "closest",
          "mapbox": {
           "style": "light"
          },
          "paper_bgcolor": "white",
          "plot_bgcolor": "#E5ECF6",
          "polar": {
           "angularaxis": {
            "gridcolor": "white",
            "linecolor": "white",
            "ticks": ""
           },
           "bgcolor": "#E5ECF6",
           "radialaxis": {
            "gridcolor": "white",
            "linecolor": "white",
            "ticks": ""
           }
          },
          "scene": {
           "xaxis": {
            "backgroundcolor": "#E5ECF6",
            "gridcolor": "white",
            "gridwidth": 2,
            "linecolor": "white",
            "showbackground": true,
            "ticks": "",
            "zerolinecolor": "white"
           },
           "yaxis": {
            "backgroundcolor": "#E5ECF6",
            "gridcolor": "white",
            "gridwidth": 2,
            "linecolor": "white",
            "showbackground": true,
            "ticks": "",
            "zerolinecolor": "white"
           },
           "zaxis": {
            "backgroundcolor": "#E5ECF6",
            "gridcolor": "white",
            "gridwidth": 2,
            "linecolor": "white",
            "showbackground": true,
            "ticks": "",
            "zerolinecolor": "white"
           }
          },
          "shapedefaults": {
           "line": {
            "color": "#2a3f5f"
           }
          },
          "ternary": {
           "aaxis": {
            "gridcolor": "white",
            "linecolor": "white",
            "ticks": ""
           },
           "baxis": {
            "gridcolor": "white",
            "linecolor": "white",
            "ticks": ""
           },
           "bgcolor": "#E5ECF6",
           "caxis": {
            "gridcolor": "white",
            "linecolor": "white",
            "ticks": ""
           }
          },
          "title": {
           "x": 0.05
          },
          "xaxis": {
           "automargin": true,
           "gridcolor": "white",
           "linecolor": "white",
           "ticks": "",
           "title": {
            "standoff": 15
           },
           "zerolinecolor": "white",
           "zerolinewidth": 2
          },
          "yaxis": {
           "automargin": true,
           "gridcolor": "white",
           "linecolor": "white",
           "ticks": "",
           "title": {
            "standoff": 15
           },
           "zerolinecolor": "white",
           "zerolinewidth": 2
          }
         }
        },
        "title": {
         "text": "Embeddings Visualization with 2D t-SNE"
        },
        "xaxis": {
         "anchor": "y",
         "domain": [
          0,
          1
         ],
         "title": {
          "text": ""
         }
        },
        "yaxis": {
         "anchor": "x",
         "domain": [
          0,
          1
         ],
         "title": {
          "text": ""
         }
        }
       }
      }
     },
     "metadata": {},
     "output_type": "display_data"
    },
    {
     "data": {
      "application/vnd.plotly.v1+json": {
       "config": {
        "plotlyServerURL": "https://plot.ly"
       },
       "data": [
        {
         "customdata": [
          [
           "Auditorias"
          ],
          [
           "Auditorias"
          ],
          [
           "Auditorias"
          ],
          [
           "Auditorias"
          ],
          [
           "Auditorias"
          ],
          [
           "Auditorias"
          ],
          [
           "Auditorias"
          ],
          [
           "Auditorias"
          ],
          [
           "Auditorias"
          ],
          [
           "Auditorias"
          ],
          [
           "Auditorias"
          ],
          [
           "Auditorias"
          ],
          [
           "Auditorias"
          ],
          [
           "Auditorias"
          ],
          [
           "Auditorias"
          ],
          [
           "Auditorias"
          ],
          [
           "Auditorias"
          ],
          [
           "Auditorias"
          ],
          [
           "Auditorias"
          ],
          [
           "Auditorias"
          ],
          [
           "Auditorias"
          ],
          [
           "Auditorias"
          ],
          [
           "Auditorias"
          ],
          [
           "Auditorias"
          ],
          [
           "Auditorias"
          ],
          [
           "Auditorias"
          ],
          [
           "Auditorias"
          ],
          [
           "Auditorias"
          ],
          [
           "Auditorias"
          ],
          [
           "Auditorias"
          ],
          [
           "Auditorias"
          ],
          [
           "Auditorias"
          ],
          [
           "Auditorias"
          ],
          [
           "Auditorias"
          ],
          [
           "Auditorias"
          ],
          [
           "Auditorias"
          ],
          [
           "Auditorias"
          ],
          [
           "Auditorias"
          ],
          [
           "Auditorias"
          ],
          [
           "Auditorias"
          ],
          [
           "Auditorias"
          ],
          [
           "Auditorias"
          ],
          [
           "Auditorias"
          ],
          [
           "Auditorias"
          ],
          [
           "Auditorias"
          ],
          [
           "Auditorias"
          ],
          [
           "Auditorias"
          ],
          [
           "Auditorias"
          ]
         ],
         "hovertemplate": "color=Auditorias<br>PCA Component 1=%{x}<br>PCA Component 2=%{y}<br>PCA Component 3=%{z}<br>label=%{customdata[0]}<extra></extra>",
         "legendgroup": "Auditorias",
         "marker": {
          "color": "#636efa",
          "symbol": "circle"
         },
         "mode": "markers",
         "name": "Auditorias",
         "scene": "scene",
         "showlegend": true,
         "type": "scatter3d",
         "x": [
          -0.38432002,
          0.38580912,
          0.9770377,
          -0.19146152,
          0.15921181,
          0.07576786,
          0.069419496,
          -0.050906993,
          0.133103,
          -0.030195348,
          0.53487885,
          0.12204633,
          -0.2364842,
          -0.0070241024,
          -0.30983165,
          0.056569677,
          -0.27653873,
          0.0708863,
          0.14552656,
          0.15246855,
          -0.5579114,
          0.010042184,
          -0.23383489,
          -0.5968819,
          -0.13394524,
          0.19761875,
          0.04020503,
          -0.32230872,
          -0.012273392,
          -0.0037660578,
          0.17515843,
          -0.030195348,
          0.16976997,
          -0.2904158,
          -0.038232148,
          -0.30983165,
          0.072987184,
          -0.30835032,
          0.085633926,
          0.123665735,
          -0.15407883,
          -0.62910354,
          0.010042184,
          -0.078586765,
          -0.3950963,
          -0.1949667,
          0.0068753427,
          -0.30612063
         ],
         "y": [
          0.5173509,
          0.33427966,
          0.0047973543,
          0.3064735,
          0.41803753,
          0.5031022,
          0.994682,
          -0.05071582,
          0.0010919168,
          0.12021257,
          0.29931763,
          0.119167365,
          0.213659,
          -0.010444308,
          0.14743231,
          0.32590693,
          0.10327984,
          0.019446539,
          0.16765615,
          -0.031556886,
          0.2553556,
          0.31482923,
          0.082203425,
          0.15560858,
          0.07980167,
          0.13950455,
          -0.059080124,
          0.01714032,
          0.06382712,
          -0.074317746,
          -0.022860236,
          0.120212555,
          0.10018487,
          0.22960511,
          -0.011667635,
          0.14743233,
          0.32727376,
          0.12581831,
          0.0064113713,
          0.050369095,
          0.11503911,
          0.3274753,
          0.31482923,
          0.13945788,
          0.15824625,
          0.06213081,
          0.09679138,
          0.091369994
         ],
         "z": [
          -0.2617564,
          0.09851947,
          0.39244238,
          0.02759472,
          0.15118411,
          0.055479083,
          0.19556372,
          0.07779037,
          -0.17656459,
          0.14049236,
          0.56594175,
          0.23119132,
          -0.10677428,
          -0.011259613,
          0.13460973,
          0.04228958,
          0.08321569,
          0.016920237,
          0.27931798,
          -0.13077669,
          0.21762168,
          0.1503788,
          0.03777833,
          0.22560814,
          -0.13170026,
          -0.04502751,
          -0.1042233,
          0.053487044,
          -0.116986685,
          0.03194893,
          -0.12332396,
          0.1404924,
          0.2314123,
          -0.0858489,
          -0.01840313,
          0.13460974,
          0.06750558,
          0.09421587,
          -0.00856561,
          0.030421948,
          -0.06466521,
          0.097122274,
          0.1503788,
          0.076403305,
          0.057237994,
          0.24487525,
          -0.13022333,
          0.11087501
         ]
        },
        {
         "customdata": [
          [
           "Ausentismo"
          ],
          [
           "Ausentismo"
          ],
          [
           "Ausentismo"
          ],
          [
           "Ausentismo"
          ],
          [
           "Ausentismo"
          ],
          [
           "Ausentismo"
          ],
          [
           "Ausentismo"
          ],
          [
           "Ausentismo"
          ],
          [
           "Ausentismo"
          ],
          [
           "Ausentismo"
          ],
          [
           "Ausentismo"
          ],
          [
           "Ausentismo"
          ],
          [
           "Ausentismo"
          ],
          [
           "Ausentismo"
          ],
          [
           "Ausentismo"
          ],
          [
           "Ausentismo"
          ],
          [
           "Ausentismo"
          ],
          [
           "Ausentismo"
          ],
          [
           "Ausentismo"
          ],
          [
           "Ausentismo"
          ],
          [
           "Ausentismo"
          ],
          [
           "Ausentismo"
          ],
          [
           "Ausentismo"
          ],
          [
           "Ausentismo"
          ],
          [
           "Ausentismo"
          ],
          [
           "Ausentismo"
          ],
          [
           "Ausentismo"
          ],
          [
           "Ausentismo"
          ],
          [
           "Ausentismo"
          ],
          [
           "Ausentismo"
          ],
          [
           "Ausentismo"
          ],
          [
           "Ausentismo"
          ],
          [
           "Ausentismo"
          ]
         ],
         "hovertemplate": "color=Ausentismo<br>PCA Component 1=%{x}<br>PCA Component 2=%{y}<br>PCA Component 3=%{z}<br>label=%{customdata[0]}<extra></extra>",
         "legendgroup": "Ausentismo",
         "marker": {
          "color": "#EF553B",
          "symbol": "circle"
         },
         "mode": "markers",
         "name": "Ausentismo",
         "scene": "scene",
         "showlegend": true,
         "type": "scatter3d",
         "x": [
          0.47081435,
          -0.0037055113,
          -0.6366576,
          0.40779454,
          0.8020204,
          -0.14660457,
          -0.06279912,
          0.034927,
          -0.10686117,
          -0.58727217,
          0.11599556,
          0.015881067,
          -0.10099579,
          -0.50994843,
          -0.3986512,
          -0.17217563,
          0.063088626,
          0.020362802,
          -0.0793525,
          -0.1271287,
          -0.072192006,
          -0.5935793,
          -0.36724836,
          0.0015728599,
          -0.13829379,
          0.1578062,
          -0.50996,
          -0.5160697,
          0.12756582,
          0.031627376,
          -0.2460326,
          -0.0336998,
          1.1739508
         ],
         "y": [
          0.18172978,
          0.102887586,
          0.3260747,
          0.2654095,
          0.306688,
          -0.12268827,
          0.00028755827,
          -0.0749433,
          -0.17676648,
          -0.2820964,
          0.14164124,
          -0.14938064,
          -0.047930706,
          -0.20719585,
          -0.008179442,
          -0.07248348,
          0.12388521,
          -0.2879171,
          -0.4271719,
          -0.2994373,
          -0.012027305,
          -0.2567398,
          -0.08183127,
          -0.22198133,
          -0.09198464,
          0.1135015,
          -0.20911124,
          0.01588427,
          -0.27994522,
          -0.3801519,
          -0.20093319,
          0.16895539,
          -0.055924576
         ],
         "z": [
          0.050855547,
          0.06961846,
          -0.023538787,
          -0.19016983,
          -0.26635793,
          -0.052101556,
          0.050737116,
          -0.08408675,
          0.07188127,
          0.19099082,
          -0.07976316,
          0.05053705,
          0.21365629,
          0.046154447,
          0.022775458,
          0.047180083,
          0.20288649,
          0.030768655,
          0.1941675,
          0.007075075,
          0.18544763,
          0.115781605,
          0.11930208,
          0.1695263,
          0.2417587,
          0.25927842,
          0.18635264,
          0.057174865,
          0.09514918,
          0.13901131,
          0.070996426,
          0.010446415,
          -0.018485803
         ]
        },
        {
         "customdata": [
          [
           "Estructura Organizativa"
          ],
          [
           "Estructura Organizativa"
          ],
          [
           "Estructura Organizativa"
          ],
          [
           "Estructura Organizativa"
          ],
          [
           "Estructura Organizativa"
          ],
          [
           "Estructura Organizativa"
          ],
          [
           "Estructura Organizativa"
          ],
          [
           "Estructura Organizativa"
          ],
          [
           "Estructura Organizativa"
          ],
          [
           "Estructura Organizativa"
          ],
          [
           "Estructura Organizativa"
          ],
          [
           "Estructura Organizativa"
          ],
          [
           "Estructura Organizativa"
          ],
          [
           "Estructura Organizativa"
          ],
          [
           "Estructura Organizativa"
          ],
          [
           "Estructura Organizativa"
          ],
          [
           "Estructura Organizativa"
          ],
          [
           "Estructura Organizativa"
          ],
          [
           "Estructura Organizativa"
          ],
          [
           "Estructura Organizativa"
          ],
          [
           "Estructura Organizativa"
          ],
          [
           "Estructura Organizativa"
          ],
          [
           "Estructura Organizativa"
          ],
          [
           "Estructura Organizativa"
          ],
          [
           "Estructura Organizativa"
          ],
          [
           "Estructura Organizativa"
          ],
          [
           "Estructura Organizativa"
          ],
          [
           "Estructura Organizativa"
          ],
          [
           "Estructura Organizativa"
          ],
          [
           "Estructura Organizativa"
          ],
          [
           "Estructura Organizativa"
          ],
          [
           "Estructura Organizativa"
          ],
          [
           "Estructura Organizativa"
          ],
          [
           "Estructura Organizativa"
          ],
          [
           "Estructura Organizativa"
          ],
          [
           "Estructura Organizativa"
          ],
          [
           "Estructura Organizativa"
          ],
          [
           "Estructura Organizativa"
          ],
          [
           "Estructura Organizativa"
          ],
          [
           "Estructura Organizativa"
          ],
          [
           "Estructura Organizativa"
          ],
          [
           "Estructura Organizativa"
          ],
          [
           "Estructura Organizativa"
          ],
          [
           "Estructura Organizativa"
          ],
          [
           "Estructura Organizativa"
          ],
          [
           "Estructura Organizativa"
          ],
          [
           "Estructura Organizativa"
          ],
          [
           "Estructura Organizativa"
          ],
          [
           "Estructura Organizativa"
          ],
          [
           "Estructura Organizativa"
          ],
          [
           "Estructura Organizativa"
          ],
          [
           "Estructura Organizativa"
          ],
          [
           "Estructura Organizativa"
          ],
          [
           "Estructura Organizativa"
          ],
          [
           "Estructura Organizativa"
          ],
          [
           "Estructura Organizativa"
          ],
          [
           "Estructura Organizativa"
          ],
          [
           "Estructura Organizativa"
          ],
          [
           "Estructura Organizativa"
          ],
          [
           "Estructura Organizativa"
          ],
          [
           "Estructura Organizativa"
          ],
          [
           "Estructura Organizativa"
          ],
          [
           "Estructura Organizativa"
          ],
          [
           "Estructura Organizativa"
          ],
          [
           "Estructura Organizativa"
          ],
          [
           "Estructura Organizativa"
          ],
          [
           "Estructura Organizativa"
          ],
          [
           "Estructura Organizativa"
          ],
          [
           "Estructura Organizativa"
          ],
          [
           "Estructura Organizativa"
          ],
          [
           "Estructura Organizativa"
          ],
          [
           "Estructura Organizativa"
          ],
          [
           "Estructura Organizativa"
          ],
          [
           "Estructura Organizativa"
          ],
          [
           "Estructura Organizativa"
          ],
          [
           "Estructura Organizativa"
          ],
          [
           "Estructura Organizativa"
          ],
          [
           "Estructura Organizativa"
          ],
          [
           "Estructura Organizativa"
          ],
          [
           "Estructura Organizativa"
          ],
          [
           "Estructura Organizativa"
          ],
          [
           "Estructura Organizativa"
          ],
          [
           "Estructura Organizativa"
          ],
          [
           "Estructura Organizativa"
          ],
          [
           "Estructura Organizativa"
          ],
          [
           "Estructura Organizativa"
          ],
          [
           "Estructura Organizativa"
          ],
          [
           "Estructura Organizativa"
          ],
          [
           "Estructura Organizativa"
          ],
          [
           "Estructura Organizativa"
          ],
          [
           "Estructura Organizativa"
          ],
          [
           "Estructura Organizativa"
          ],
          [
           "Estructura Organizativa"
          ],
          [
           "Estructura Organizativa"
          ],
          [
           "Estructura Organizativa"
          ],
          [
           "Estructura Organizativa"
          ],
          [
           "Estructura Organizativa"
          ],
          [
           "Estructura Organizativa"
          ],
          [
           "Estructura Organizativa"
          ],
          [
           "Estructura Organizativa"
          ],
          [
           "Estructura Organizativa"
          ],
          [
           "Estructura Organizativa"
          ],
          [
           "Estructura Organizativa"
          ],
          [
           "Estructura Organizativa"
          ],
          [
           "Estructura Organizativa"
          ],
          [
           "Estructura Organizativa"
          ],
          [
           "Estructura Organizativa"
          ],
          [
           "Estructura Organizativa"
          ],
          [
           "Estructura Organizativa"
          ],
          [
           "Estructura Organizativa"
          ],
          [
           "Estructura Organizativa"
          ],
          [
           "Estructura Organizativa"
          ],
          [
           "Estructura Organizativa"
          ],
          [
           "Estructura Organizativa"
          ],
          [
           "Estructura Organizativa"
          ],
          [
           "Estructura Organizativa"
          ],
          [
           "Estructura Organizativa"
          ],
          [
           "Estructura Organizativa"
          ],
          [
           "Estructura Organizativa"
          ],
          [
           "Estructura Organizativa"
          ],
          [
           "Estructura Organizativa"
          ],
          [
           "Estructura Organizativa"
          ],
          [
           "Estructura Organizativa"
          ],
          [
           "Estructura Organizativa"
          ],
          [
           "Estructura Organizativa"
          ],
          [
           "Estructura Organizativa"
          ],
          [
           "Estructura Organizativa"
          ],
          [
           "Estructura Organizativa"
          ],
          [
           "Estructura Organizativa"
          ],
          [
           "Estructura Organizativa"
          ],
          [
           "Estructura Organizativa"
          ],
          [
           "Estructura Organizativa"
          ],
          [
           "Estructura Organizativa"
          ],
          [
           "Estructura Organizativa"
          ],
          [
           "Estructura Organizativa"
          ]
         ],
         "hovertemplate": "color=Estructura Organizativa<br>PCA Component 1=%{x}<br>PCA Component 2=%{y}<br>PCA Component 3=%{z}<br>label=%{customdata[0]}<extra></extra>",
         "legendgroup": "Estructura Organizativa",
         "marker": {
          "color": "#00cc96",
          "symbol": "circle"
         },
         "mode": "markers",
         "name": "Estructura Organizativa",
         "scene": "scene",
         "showlegend": true,
         "type": "scatter3d",
         "x": [
          -0.12004954,
          -0.5303034,
          0.24398965,
          0.21286123,
          0.267706,
          0.47024632,
          0.40038764,
          0.41689795,
          -0.17149413,
          0.42521065,
          -0.05840595,
          0.009443381,
          -0.06992199,
          0.04239581,
          -0.18501084,
          -0.23222713,
          0.30125886,
          0.9001372,
          -0.2307725,
          -0.15067048,
          0.3659842,
          0.3069193,
          -0.36140993,
          -0.36596712,
          -0.21602593,
          -0.41759846,
          0.035520505,
          -0.15114349,
          -0.08991356,
          -0.0041324254,
          0.37370694,
          -0.1564957,
          -0.1963471,
          -0.003092496,
          0.39268735,
          -0.18178567,
          -0.31021518,
          -0.30141276,
          -0.28976908,
          -0.30896142,
          -0.042904656,
          -0.24997632,
          0.111793265,
          0.47846386,
          -0.5136438,
          -0.031463068,
          -0.48181534,
          -0.09376313,
          0.12429537,
          -0.3295063,
          0.038817916,
          -0.39786634,
          -0.024716806,
          0.005467112,
          -0.19911507,
          -0.2970827,
          -0.12682427,
          0.6111884,
          0.47963676,
          -0.14365536,
          0.11446919,
          -0.034762062,
          -0.09899256,
          0.24830778,
          -0.33957446,
          -0.23917298,
          -0.23032084,
          0.090759374,
          0.2281264,
          0.076383136,
          0.5418026,
          -0.2679806,
          0.097989455,
          0.5561202,
          0.28435835,
          -0.12552474,
          -0.4798553,
          -0.09047301,
          -0.09782135,
          -0.22575478,
          1.8407073,
          0.10250798,
          1.8045485,
          -0.13000609,
          -0.18471868,
          0.07639138,
          0.25201336,
          -0.014656496,
          0.0011417539,
          -0.31841785,
          -0.0675294,
          0.121696256,
          -0.3256563,
          -0.36607838,
          0.05991932,
          -0.02448704,
          -0.39515978,
          -0.1314393,
          -0.19495939,
          -0.38906708,
          0.041011486,
          -0.08468765,
          -0.39197856,
          -0.06954311,
          -0.0468681,
          -0.2686817,
          0.022396075,
          0.27291074,
          0.16948912,
          -0.07907651,
          0.022345021,
          -0.30455574,
          -0.13285749,
          -0.26515675,
          -0.33368778,
          -0.24513905,
          -0.51023585,
          -0.025523413,
          -0.31124786,
          -0.25131094,
          -0.056186825,
          -0.4613421,
          0.05059379,
          -0.39558238,
          0.17757545,
          0.14132443,
          0.06750658,
          0.27139795,
          0.03165313,
          0.14293802,
          -0.28583652,
          0.7638767,
          -0.16677368,
          -0.109315656,
          0.00086755195
         ],
         "y": [
          0.48269835,
          0.9706743,
          0.34442216,
          0.16180903,
          0.69564146,
          0.11967311,
          0.05273357,
          -0.03955096,
          0.29177126,
          -0.23165818,
          0.29869223,
          -0.052727688,
          0.07688477,
          0.079335526,
          -0.0026424737,
          -0.19103546,
          -0.19402736,
          -0.3794818,
          -0.133457,
          -0.27638036,
          -0.2021428,
          -0.17430884,
          -0.07082273,
          0.06503347,
          -0.16531019,
          -0.19437097,
          -0.27922606,
          -0.012695406,
          -0.0017878993,
          -0.092312485,
          -0.32272267,
          -0.08510316,
          0.015284427,
          0.22700544,
          -0.14521854,
          -0.40116015,
          -0.27540034,
          -0.21429043,
          -0.30001247,
          -0.36333424,
          -0.21049383,
          -0.1982084,
          -0.16252343,
          -0.43511924,
          -0.32006603,
          -0.22823182,
          -0.26323268,
          -0.14609794,
          -0.3741479,
          -0.306573,
          -0.49350834,
          -0.31171826,
          -0.23731405,
          -0.27607134,
          -0.087114535,
          -0.42845982,
          -0.27701715,
          -0.3389044,
          -0.24095283,
          -0.1743772,
          -0.3407459,
          -0.4460053,
          -0.18976447,
          -0.23344551,
          0.12871422,
          0.05250806,
          0.018446054,
          -0.267753,
          -0.11848773,
          -0.02087121,
          -0.56712174,
          -0.3220911,
          -0.36787942,
          -0.15818037,
          -0.12734056,
          -0.284481,
          -0.39369223,
          -0.23769817,
          -0.074753456,
          -0.17179324,
          -0.26236632,
          -0.32808885,
          -0.5339745,
          -0.18880053,
          0.13344611,
          -0.08928548,
          -0.13407603,
          0.3064693,
          0.16167052,
          -0.19917493,
          -0.117817715,
          -0.06847347,
          -0.2846428,
          -0.25976932,
          -0.22225904,
          -0.38127917,
          -0.026264884,
          0.0887163,
          -0.3027308,
          -0.2237682,
          -0.21769007,
          -0.2565375,
          -0.1205167,
          -0.12966508,
          -0.27815545,
          -0.30759922,
          -0.3462896,
          -0.083102934,
          0.04099423,
          0.113107614,
          0.09429058,
          -0.17171043,
          -0.13271657,
          -0.44690686,
          -0.17513587,
          -0.10982388,
          -0.48519436,
          -0.4025996,
          -0.26174623,
          -0.08027979,
          -0.3771428,
          -0.20826653,
          -0.2538023,
          -0.09891737,
          -0.11873343,
          0.14567715,
          0.13166165,
          0.20697625,
          0.10924709,
          0.2952686,
          -0.10427612,
          -0.59434676,
          -0.19856133,
          0.26293927,
          -0.36107647
         ],
         "z": [
          -0.010411583,
          -0.23672453,
          -0.09285733,
          -0.18094575,
          -0.4789191,
          -0.85801977,
          -0.21430215,
          -0.41513392,
          -0.08491842,
          -0.23074922,
          -0.09126958,
          -0.37163267,
          -0.31144395,
          -0.38635474,
          -0.120609805,
          -0.09295052,
          -0.38483116,
          -0.7717528,
          -0.038760606,
          -0.17272107,
          -0.7876043,
          -0.42022783,
          0.013102053,
          0.05049526,
          0.032167334,
          0.17309347,
          0.21038568,
          -0.1863793,
          0.03680316,
          -0.075270675,
          -0.31390822,
          -0.09971594,
          -0.124970004,
          -0.19851825,
          -0.38890025,
          -0.10241624,
          0.0475129,
          0.0759174,
          -0.3629854,
          0.05933887,
          -0.08765544,
          0.03691327,
          -0.27241358,
          -0.42170304,
          0.05716667,
          -0.1467143,
          -0.04656945,
          -0.053523894,
          -0.28643095,
          -0.011083141,
          -0.48910904,
          0.0336777,
          -0.17520837,
          -0.42592132,
          0.0025502187,
          0.046909213,
          -0.123140454,
          -0.18796481,
          -0.24081111,
          0.13714533,
          0.019425783,
          0.12986833,
          0.004293524,
          -0.46892145,
          0.060395766,
          0.017264942,
          0.06529727,
          -0.3047722,
          -0.11510414,
          -0.22883125,
          -1.0754797,
          -0.18790422,
          0.040771574,
          0.5335507,
          0.06445774,
          0.12198143,
          0.44587302,
          0.12119933,
          -0.1041317,
          -0.010151452,
          0.7476565,
          -0.012122223,
          0.6262709,
          0.030685622,
          0.13824913,
          -0.09464882,
          -0.5194876,
          -0.3746503,
          -0.44604602,
          -0.13420403,
          -0.12846135,
          -0.4509036,
          -0.06077646,
          -0.02354193,
          -0.3523658,
          0.11477147,
          -0.10115002,
          -0.16725932,
          -0.13630657,
          -0.027010545,
          -0.31545427,
          0.055613305,
          -0.103416316,
          -0.18084839,
          -0.55263823,
          -0.0011772386,
          0.09494928,
          0.035937868,
          -0.4368193,
          -0.3632741,
          -0.47527975,
          -0.08764122,
          0.058900125,
          0.0880137,
          -0.055545267,
          0.12236578,
          0.12707157,
          0.16347459,
          0.018537885,
          0.06618761,
          0.18336375,
          -0.02331333,
          -0.10782892,
          -0.0039420966,
          -0.072941065,
          -0.40608582,
          -0.20850676,
          -0.13955638,
          -0.18644965,
          -0.15084559,
          0.082494795,
          1.4088184,
          0.02155734,
          0.33797804,
          0.1298729
         ]
        },
        {
         "customdata": [
          [
           "Riesgos"
          ],
          [
           "Riesgos"
          ],
          [
           "Riesgos"
          ],
          [
           "Riesgos"
          ],
          [
           "Riesgos"
          ],
          [
           "Riesgos"
          ],
          [
           "Riesgos"
          ],
          [
           "Riesgos"
          ],
          [
           "Riesgos"
          ],
          [
           "Riesgos"
          ],
          [
           "Riesgos"
          ],
          [
           "Riesgos"
          ],
          [
           "Riesgos"
          ],
          [
           "Riesgos"
          ],
          [
           "Riesgos"
          ],
          [
           "Riesgos"
          ],
          [
           "Riesgos"
          ],
          [
           "Riesgos"
          ],
          [
           "Riesgos"
          ],
          [
           "Riesgos"
          ],
          [
           "Riesgos"
          ],
          [
           "Riesgos"
          ],
          [
           "Riesgos"
          ],
          [
           "Riesgos"
          ],
          [
           "Riesgos"
          ],
          [
           "Riesgos"
          ],
          [
           "Riesgos"
          ],
          [
           "Riesgos"
          ],
          [
           "Riesgos"
          ],
          [
           "Riesgos"
          ],
          [
           "Riesgos"
          ],
          [
           "Riesgos"
          ],
          [
           "Riesgos"
          ],
          [
           "Riesgos"
          ],
          [
           "Riesgos"
          ],
          [
           "Riesgos"
          ],
          [
           "Riesgos"
          ],
          [
           "Riesgos"
          ],
          [
           "Riesgos"
          ],
          [
           "Riesgos"
          ],
          [
           "Riesgos"
          ]
         ],
         "hovertemplate": "color=Riesgos<br>PCA Component 1=%{x}<br>PCA Component 2=%{y}<br>PCA Component 3=%{z}<br>label=%{customdata[0]}<extra></extra>",
         "legendgroup": "Riesgos",
         "marker": {
          "color": "#ab63fa",
          "symbol": "circle"
         },
         "mode": "markers",
         "name": "Riesgos",
         "scene": "scene",
         "showlegend": true,
         "type": "scatter3d",
         "x": [
          -0.3467857,
          0.35201004,
          0.5749498,
          0.14223579,
          0.42688867,
          0.7657031,
          -0.41288015,
          -0.34160438,
          -0.22224587,
          0.24470857,
          0.18506847,
          -0.048086897,
          -0.09885362,
          -0.06542357,
          -0.10092654,
          0.043369804,
          0.039484978,
          0.30623028,
          0.0112788705,
          0.3042386,
          -0.43616313,
          -0.04437314,
          -0.14586715,
          -0.22275618,
          -0.08248152,
          -0.6466853,
          0.44975612,
          -0.15968014,
          -0.12981114,
          -0.12339065,
          0.0626997,
          0.301902,
          -0.037644643,
          0.40595758,
          0.5680417,
          0.4646333,
          0.6474074,
          0.389636,
          -0.0577341,
          0.20075953,
          0.0403439
         ],
         "y": [
          0.6512535,
          0.50739026,
          -0.009489562,
          1.0423039,
          0.16647308,
          0.028497241,
          0.41960517,
          -0.091898635,
          0.34220788,
          0.25469476,
          0.15373228,
          0.4093861,
          0.16168612,
          0.2677553,
          0.051100835,
          -0.07582383,
          -0.07999728,
          -0.04166146,
          -0.013118731,
          0.1304689,
          0.016437683,
          -0.114675656,
          0.22937548,
          -0.15152211,
          0.017002651,
          -0.21907163,
          -0.05238683,
          0.036894605,
          0.09061412,
          0.2613633,
          0.357296,
          -0.15383382,
          0.33395293,
          -0.023833578,
          0.16434425,
          0.32550272,
          0.016566789,
          0.081394166,
          0.35854533,
          0.31724286,
          0.13589141
         ],
         "z": [
          -0.0880481,
          0.21393523,
          0.49822047,
          0.6624972,
          -0.031314425,
          0.16672438,
          0.10874987,
          0.15296149,
          0.49252722,
          0.03923458,
          0.061767723,
          0.13871098,
          0.24347661,
          0.18421876,
          0.01747196,
          -0.47027758,
          0.035788897,
          0.041207388,
          0.069798425,
          0.28176785,
          0.2627518,
          0.08554291,
          0.058676016,
          0.262883,
          0.251517,
          0.094306834,
          0.24648584,
          0.11753034,
          0.09534124,
          -0.3451402,
          -0.120270796,
          -0.07496211,
          0.009398578,
          -0.0992685,
          -0.20828956,
          -0.63710344,
          -0.082226954,
          0.18001729,
          0.07220925,
          0.18048489,
          0.09863851
         ]
        },
        {
         "customdata": [
          [
           "Información"
          ],
          [
           "Información"
          ],
          [
           "Información"
          ],
          [
           "Información"
          ],
          [
           "Información"
          ],
          [
           "Información"
          ],
          [
           "Información"
          ],
          [
           "Información"
          ],
          [
           "Información"
          ],
          [
           "Información"
          ],
          [
           "Información"
          ],
          [
           "Información"
          ],
          [
           "Información"
          ],
          [
           "Información"
          ],
          [
           "Información"
          ],
          [
           "Información"
          ]
         ],
         "hovertemplate": "color=Información<br>PCA Component 1=%{x}<br>PCA Component 2=%{y}<br>PCA Component 3=%{z}<br>label=%{customdata[0]}<extra></extra>",
         "legendgroup": "Información",
         "marker": {
          "color": "#FFA15A",
          "symbol": "circle"
         },
         "mode": "markers",
         "name": "Información",
         "scene": "scene",
         "showlegend": true,
         "type": "scatter3d",
         "x": [
          0.08401642,
          -0.5346078,
          -0.12666143,
          0.4638427,
          -0.10773703,
          -0.4843782,
          -0.35649887,
          0.020011725,
          0.27333385,
          -0.36196545,
          -0.030259324,
          -0.6701547,
          -0.08162823,
          -0.43982124,
          -0.6086669,
          -0.08522636
         ],
         "y": [
          0.42698407,
          0.3969725,
          0.04410388,
          0.06999891,
          -0.08328576,
          -0.2897424,
          -0.3534782,
          -0.19667125,
          -0.18688564,
          0.24693732,
          0.1808317,
          0.1546979,
          0.60365355,
          0.04874838,
          -0.38308853,
          0.058337178
         ],
         "z": [
          -0.03963042,
          -0.042688496,
          0.1318111,
          0.19180956,
          0.023503771,
          0.18822375,
          0.090785414,
          -0.16377549,
          -0.4642413,
          0.049069542,
          0.020234723,
          0.18550077,
          0.4844329,
          0.10783145,
          0.09107892,
          0.027363494
         ]
        },
        {
         "customdata": [
          [
           "Emergencia"
          ],
          [
           "Emergencia"
          ],
          [
           "Emergencia"
          ],
          [
           "Emergencia"
          ],
          [
           "Emergencia"
          ],
          [
           "Emergencia"
          ],
          [
           "Emergencia"
          ],
          [
           "Emergencia"
          ],
          [
           "Emergencia"
          ],
          [
           "Emergencia"
          ],
          [
           "Emergencia"
          ],
          [
           "Emergencia"
          ],
          [
           "Emergencia"
          ],
          [
           "Emergencia"
          ],
          [
           "Emergencia"
          ],
          [
           "Emergencia"
          ],
          [
           "Emergencia"
          ],
          [
           "Emergencia"
          ],
          [
           "Emergencia"
          ],
          [
           "Emergencia"
          ],
          [
           "Emergencia"
          ],
          [
           "Emergencia"
          ],
          [
           "Emergencia"
          ],
          [
           "Emergencia"
          ],
          [
           "Emergencia"
          ],
          [
           "Emergencia"
          ],
          [
           "Emergencia"
          ],
          [
           "Emergencia"
          ],
          [
           "Emergencia"
          ],
          [
           "Emergencia"
          ],
          [
           "Emergencia"
          ],
          [
           "Emergencia"
          ],
          [
           "Emergencia"
          ],
          [
           "Emergencia"
          ],
          [
           "Emergencia"
          ],
          [
           "Emergencia"
          ],
          [
           "Emergencia"
          ],
          [
           "Emergencia"
          ],
          [
           "Emergencia"
          ],
          [
           "Emergencia"
          ],
          [
           "Emergencia"
          ],
          [
           "Emergencia"
          ],
          [
           "Emergencia"
          ],
          [
           "Emergencia"
          ],
          [
           "Emergencia"
          ],
          [
           "Emergencia"
          ],
          [
           "Emergencia"
          ],
          [
           "Emergencia"
          ],
          [
           "Emergencia"
          ],
          [
           "Emergencia"
          ],
          [
           "Emergencia"
          ],
          [
           "Emergencia"
          ],
          [
           "Emergencia"
          ],
          [
           "Emergencia"
          ],
          [
           "Emergencia"
          ],
          [
           "Emergencia"
          ],
          [
           "Emergencia"
          ],
          [
           "Emergencia"
          ],
          [
           "Emergencia"
          ],
          [
           "Emergencia"
          ],
          [
           "Emergencia"
          ],
          [
           "Emergencia"
          ],
          [
           "Emergencia"
          ],
          [
           "Emergencia"
          ]
         ],
         "hovertemplate": "color=Emergencia<br>PCA Component 1=%{x}<br>PCA Component 2=%{y}<br>PCA Component 3=%{z}<br>label=%{customdata[0]}<extra></extra>",
         "legendgroup": "Emergencia",
         "marker": {
          "color": "#19d3f3",
          "symbol": "circle"
         },
         "mode": "markers",
         "name": "Emergencia",
         "scene": "scene",
         "showlegend": true,
         "type": "scatter3d",
         "x": [
          -0.53607124,
          0.34349698,
          0.43085927,
          0.13535808,
          0.4738219,
          0.59774023,
          0.68371665,
          0.601129,
          0.5193102,
          0.42841643,
          0.486411,
          0.8166954,
          -0.17689551,
          0.3552351,
          0.30455527,
          0.30450156,
          0.50005317,
          -0.22314724,
          0.099555105,
          0.25385517,
          0.29445383,
          0.2699326,
          -0.27991223,
          -0.056980226,
          -0.10922477,
          0.13417225,
          0.18417397,
          -0.025423551,
          0.023919966,
          -0.20369808,
          -0.13045184,
          0.087276556,
          0.01419394,
          -0.3015946,
          -0.27654883,
          -0.25454503,
          -0.46721807,
          0.022397665,
          0.18917425,
          0.053418256,
          -0.16996555,
          -0.19534667,
          0.23425308,
          -0.089453876,
          0.123047516,
          0.40392768,
          -0.124198094,
          -0.047413576,
          -0.4241449,
          -0.17510176,
          0.30551338,
          -0.070153505,
          -0.733932,
          0.14468801,
          -0.0014513873,
          0.044077188,
          0.17944027,
          -0.22373158,
          0.24341217,
          -0.4245213,
          -0.38251305,
          0.02293958,
          -0.09118358,
          -0.42075917
         ],
         "y": [
          0.8528054,
          0.25616688,
          0.092705384,
          0.024604758,
          0.077934206,
          -0.07882735,
          -0.09863644,
          -0.04693926,
          0.026257671,
          0.2541932,
          0.26195523,
          -0.10107219,
          0.15665917,
          0.09005094,
          0.14668621,
          -0.1378065,
          -0.1593742,
          -0.25289923,
          0.18330276,
          0.13794777,
          -0.25362116,
          0.2342909,
          -0.12876403,
          -0.24718457,
          0.43796587,
          0.09897165,
          0.17534219,
          0.6617192,
          -0.26936898,
          -0.09453239,
          -0.007276541,
          -0.21267565,
          0.02591102,
          -0.10090541,
          -0.22017539,
          -0.23053022,
          -0.027684793,
          -0.114993006,
          -0.043470003,
          0.23160039,
          0.16753466,
          0.1877722,
          -0.048708457,
          0.033479113,
          -0.11401091,
          -0.063209884,
          -0.04212549,
          -0.041654646,
          -0.008344351,
          0.06856823,
          0.31483865,
          -0.05389807,
          -0.1551241,
          -0.17553817,
          0.079212695,
          0.025617152,
          -0.17002863,
          -0.09451333,
          0.59235424,
          -0.12795712,
          -0.09786475,
          -0.03470973,
          -0.18202259,
          -0.19856627
         ],
         "z": [
          -0.21817891,
          -0.04714124,
          0.15901929,
          0.44082794,
          0.10929427,
          0.14436226,
          0.15220273,
          0.111026205,
          0.00420955,
          -0.036727805,
          0.0134279635,
          0.19550207,
          0.056795314,
          -0.04645936,
          0.23201075,
          -0.16287313,
          -0.23759708,
          0.2123084,
          -0.0101232035,
          -0.29840174,
          0.065438375,
          0.09271051,
          0.105843626,
          0.15726127,
          0.06953647,
          -0.10623378,
          -0.02140641,
          -0.15445563,
          0.21722451,
          -0.08911236,
          -0.03232617,
          0.061146762,
          -0.15441199,
          -0.16982374,
          0.12634033,
          0.14655377,
          0.03221646,
          -0.003791094,
          0.021598214,
          0.23789872,
          0.18371642,
          0.10630038,
          0.11486833,
          -0.0829151,
          0.26673234,
          0.113153145,
          0.20972113,
          0.22748289,
          0.09977174,
          0.13874711,
          0.16114332,
          -0.0005720116,
          0.23882444,
          -0.1536677,
          0.13112949,
          0.22453864,
          -0.1944177,
          0.10133532,
          0.05824868,
          0.1172884,
          0.15112472,
          0.031147268,
          0.13350148,
          0.04171781
         ]
        },
        {
         "customdata": [
          [
           "Question: ¿Cómo se diferencia la ubicación física de la operativa?<br>Closest Model: Estructura Organizativa<br>Similarity: 0.78<br>Chunk: entendidos  como el lugar o área ocupada por las personas dentro de la organización donde se  desarr..."
          ],
          [
           "Question: ¿Qué información se incluye en el informe de la evaluación de riesgos que ofrece la plataforma y cuál es su utilidad para la gestión de riesgos en la empresa?<br>Closest Model: Riesgos<br>Similarity: 0.89<br>Chunk: Sabentis es la nueva plataforma de gestión especializada en el ámbito de seguridad y salud en  el tr..."
          ],
          [
           "Question: ¿Hay indicadores relativos al cumplimiento de normas?<br>Closest Model: Auditorias<br>Similarity: 0.72<br>Chunk: 24  EVALUACIÓN DE ASPECTOS LEGALES  La pestaña evaluación de aspectos legales permite al usuario eva..."
          ],
          [
           "Question: ¿Qué papel juega la estructura organizativa en la funcionalidad general de la plataforma y cómo interactúa con otros módulos?<br>Closest Model: Estructura Organizativa<br>Similarity: 0.87<br>Chunk: 3. HOME ESTRUCTURA ORGANIZATIVA  El usuario puede acceder al módulo Estructura Organizativa (EO), de..."
          ],
          [
           "Question: ¿Qué permite realizar la evaluación de riesgos?<br>Closest Model: Riesgos<br>Similarity: 0.84<br>Chunk: la  configuración, se debe tener en consideración el comportamiento de los campos en el  formulario ..."
          ],
          [
           "Question: ¿Qué tipo de documentos se pueden almacenar y compartir en el espacio denominado 'Documentos' y cuál es su importancia dentro del contexto de la gestión empresarial en la plataforma?<br>Closest Model: Información<br>Similarity: 0.88<br>Chunk: DATOS DEL DOCUMENTO  HISTÓRICO DE CAMBIOS  CONTENIDO  Sabentis es la nueva plataforma de gestión esp..."
          ],
          [
           "Question: ¿Se pueden llevar a cabo auditorías internas?<br>Closest Model: Emergencia<br>Similarity: 0.76<br>Chunk: Un simulacro es un ensayo o ejercicio de adiestramiento práctico del modo de actuar en caso  de emer..."
          ],
          [
           "Question: ¿Cuál es la tasa de adopción de esta plataforma en el mercado?<br>Closest Model: Estructura Organizativa<br>Similarity: 0.73<br>Chunk: CONTENIDO  Sabentis es la nueva plataforma de gestión especializada en el ámbito de Seguridad y Salu..."
          ],
          [
           "Question: ¿Cómo se compara esta plataforma con otras soluciones de gestión de SST?<br>Closest Model: Estructura Organizativa<br>Similarity: 0.82<br>Chunk: CONTENIDO  Sabentis es la nueva plataforma de gestión especializada en el ámbito de Seguridad y Salu..."
          ],
          [
           "Question: ¿Qué día hará mañana?<br>Closest Model: Estructura Organizativa<br>Similarity: 0.63<br>Chunk: Versión  Fecha  Comentarios  Autor  Versión 1.0  28/10/2021  Redacción  Mercedes León Chele  Versión..."
          ]
         ],
         "hovertemplate": "color=Question<br>PCA Component 1=%{x}<br>PCA Component 2=%{y}<br>PCA Component 3=%{z}<br>label=%{customdata[0]}<extra></extra>",
         "legendgroup": "Question",
         "marker": {
          "color": "#FF6692",
          "symbol": "circle"
         },
         "mode": "markers",
         "name": "Question",
         "scene": "scene",
         "showlegend": true,
         "type": "scatter3d",
         "x": [
          0.24454258,
          0.23931219,
          0.89404327,
          -0.004856583,
          0.38359642,
          0.087326095,
          0.55938643,
          0.28283033,
          0.014246202,
          -0.34241483
         ],
         "y": [
          1.1301942,
          0.548899,
          -0.012241838,
          0.16998968,
          0.25177363,
          0.0074082157,
          -0.21390142,
          0.17132725,
          0.73652947,
          1.4577017
         ],
         "z": [
          -0.53434885,
          0.2538709,
          0.72545594,
          -0.2577113,
          0.49896327,
          -0.09982961,
          0.2035204,
          -0.07500373,
          0.16998759,
          -0.46268117
         ]
        },
        {
         "mode": "markers+text",
         "showlegend": false,
         "text": "Q1",
         "textposition": "top center",
         "type": "scatter3d",
         "x": [
          0.24454258382320404
         ],
         "y": [
          1.1301941871643066
         ],
         "z": [
          -0.5343488454818726
         ]
        },
        {
         "mode": "markers+text",
         "showlegend": false,
         "text": "Q2",
         "textposition": "top center",
         "type": "scatter3d",
         "x": [
          0.23931218683719635
         ],
         "y": [
          0.5488989949226379
         ],
         "z": [
          0.2538709044456482
         ]
        },
        {
         "mode": "markers+text",
         "showlegend": false,
         "text": "Q3",
         "textposition": "top center",
         "type": "scatter3d",
         "x": [
          0.8940432667732239
         ],
         "y": [
          -0.012241837568581104
         ],
         "z": [
          0.7254559397697449
         ]
        },
        {
         "mode": "markers+text",
         "showlegend": false,
         "text": "Q4",
         "textposition": "top center",
         "type": "scatter3d",
         "x": [
          -0.004856583196669817
         ],
         "y": [
          0.169989675283432
         ],
         "z": [
          -0.2577112913131714
         ]
        },
        {
         "mode": "markers+text",
         "showlegend": false,
         "text": "Q5",
         "textposition": "top center",
         "type": "scatter3d",
         "x": [
          0.38359642028808594
         ],
         "y": [
          0.2517736256122589
         ],
         "z": [
          0.49896326661109924
         ]
        },
        {
         "mode": "markers+text",
         "showlegend": false,
         "text": "Q6",
         "textposition": "top center",
         "type": "scatter3d",
         "x": [
          0.08732609450817108
         ],
         "y": [
          0.007408215664327145
         ],
         "z": [
          -0.09982960671186447
         ]
        },
        {
         "mode": "markers+text",
         "showlegend": false,
         "text": "Q7",
         "textposition": "top center",
         "type": "scatter3d",
         "x": [
          0.5593864321708679
         ],
         "y": [
          -0.21390141546726227
         ],
         "z": [
          0.20352040231227875
         ]
        },
        {
         "mode": "markers+text",
         "showlegend": false,
         "text": "Q8",
         "textposition": "top center",
         "type": "scatter3d",
         "x": [
          0.2828303277492523
         ],
         "y": [
          0.17132724821567535
         ],
         "z": [
          -0.0750037282705307
         ]
        },
        {
         "mode": "markers+text",
         "showlegend": false,
         "text": "Q9",
         "textposition": "top center",
         "type": "scatter3d",
         "x": [
          0.014246202073991299
         ],
         "y": [
          0.7365294694900513
         ],
         "z": [
          0.16998758912086487
         ]
        },
        {
         "mode": "markers+text",
         "showlegend": false,
         "text": "Q10",
         "textposition": "top center",
         "type": "scatter3d",
         "x": [
          -0.34241482615470886
         ],
         "y": [
          1.4577016830444336
         ],
         "z": [
          -0.4626811742782593
         ]
        }
       ],
       "layout": {
        "legend": {
         "title": {
          "text": "color"
         },
         "tracegroupgap": 0
        },
        "scene": {
         "domain": {
          "x": [
           0,
           1
          ],
          "y": [
           0,
           1
          ]
         },
         "xaxis": {
          "title": {
           "text": "PCA Component 1"
          }
         },
         "yaxis": {
          "title": {
           "text": "PCA Component 2"
          }
         },
         "zaxis": {
          "title": {
           "text": "PCA Component 3"
          }
         }
        },
        "template": {
         "data": {
          "bar": [
           {
            "error_x": {
             "color": "#2a3f5f"
            },
            "error_y": {
             "color": "#2a3f5f"
            },
            "marker": {
             "line": {
              "color": "#E5ECF6",
              "width": 0.5
             },
             "pattern": {
              "fillmode": "overlay",
              "size": 10,
              "solidity": 0.2
             }
            },
            "type": "bar"
           }
          ],
          "barpolar": [
           {
            "marker": {
             "line": {
              "color": "#E5ECF6",
              "width": 0.5
             },
             "pattern": {
              "fillmode": "overlay",
              "size": 10,
              "solidity": 0.2
             }
            },
            "type": "barpolar"
           }
          ],
          "carpet": [
           {
            "aaxis": {
             "endlinecolor": "#2a3f5f",
             "gridcolor": "white",
             "linecolor": "white",
             "minorgridcolor": "white",
             "startlinecolor": "#2a3f5f"
            },
            "baxis": {
             "endlinecolor": "#2a3f5f",
             "gridcolor": "white",
             "linecolor": "white",
             "minorgridcolor": "white",
             "startlinecolor": "#2a3f5f"
            },
            "type": "carpet"
           }
          ],
          "choropleth": [
           {
            "colorbar": {
             "outlinewidth": 0,
             "ticks": ""
            },
            "type": "choropleth"
           }
          ],
          "contour": [
           {
            "colorbar": {
             "outlinewidth": 0,
             "ticks": ""
            },
            "colorscale": [
             [
              0,
              "#0d0887"
             ],
             [
              0.1111111111111111,
              "#46039f"
             ],
             [
              0.2222222222222222,
              "#7201a8"
             ],
             [
              0.3333333333333333,
              "#9c179e"
             ],
             [
              0.4444444444444444,
              "#bd3786"
             ],
             [
              0.5555555555555556,
              "#d8576b"
             ],
             [
              0.6666666666666666,
              "#ed7953"
             ],
             [
              0.7777777777777778,
              "#fb9f3a"
             ],
             [
              0.8888888888888888,
              "#fdca26"
             ],
             [
              1,
              "#f0f921"
             ]
            ],
            "type": "contour"
           }
          ],
          "contourcarpet": [
           {
            "colorbar": {
             "outlinewidth": 0,
             "ticks": ""
            },
            "type": "contourcarpet"
           }
          ],
          "heatmap": [
           {
            "colorbar": {
             "outlinewidth": 0,
             "ticks": ""
            },
            "colorscale": [
             [
              0,
              "#0d0887"
             ],
             [
              0.1111111111111111,
              "#46039f"
             ],
             [
              0.2222222222222222,
              "#7201a8"
             ],
             [
              0.3333333333333333,
              "#9c179e"
             ],
             [
              0.4444444444444444,
              "#bd3786"
             ],
             [
              0.5555555555555556,
              "#d8576b"
             ],
             [
              0.6666666666666666,
              "#ed7953"
             ],
             [
              0.7777777777777778,
              "#fb9f3a"
             ],
             [
              0.8888888888888888,
              "#fdca26"
             ],
             [
              1,
              "#f0f921"
             ]
            ],
            "type": "heatmap"
           }
          ],
          "heatmapgl": [
           {
            "colorbar": {
             "outlinewidth": 0,
             "ticks": ""
            },
            "colorscale": [
             [
              0,
              "#0d0887"
             ],
             [
              0.1111111111111111,
              "#46039f"
             ],
             [
              0.2222222222222222,
              "#7201a8"
             ],
             [
              0.3333333333333333,
              "#9c179e"
             ],
             [
              0.4444444444444444,
              "#bd3786"
             ],
             [
              0.5555555555555556,
              "#d8576b"
             ],
             [
              0.6666666666666666,
              "#ed7953"
             ],
             [
              0.7777777777777778,
              "#fb9f3a"
             ],
             [
              0.8888888888888888,
              "#fdca26"
             ],
             [
              1,
              "#f0f921"
             ]
            ],
            "type": "heatmapgl"
           }
          ],
          "histogram": [
           {
            "marker": {
             "pattern": {
              "fillmode": "overlay",
              "size": 10,
              "solidity": 0.2
             }
            },
            "type": "histogram"
           }
          ],
          "histogram2d": [
           {
            "colorbar": {
             "outlinewidth": 0,
             "ticks": ""
            },
            "colorscale": [
             [
              0,
              "#0d0887"
             ],
             [
              0.1111111111111111,
              "#46039f"
             ],
             [
              0.2222222222222222,
              "#7201a8"
             ],
             [
              0.3333333333333333,
              "#9c179e"
             ],
             [
              0.4444444444444444,
              "#bd3786"
             ],
             [
              0.5555555555555556,
              "#d8576b"
             ],
             [
              0.6666666666666666,
              "#ed7953"
             ],
             [
              0.7777777777777778,
              "#fb9f3a"
             ],
             [
              0.8888888888888888,
              "#fdca26"
             ],
             [
              1,
              "#f0f921"
             ]
            ],
            "type": "histogram2d"
           }
          ],
          "histogram2dcontour": [
           {
            "colorbar": {
             "outlinewidth": 0,
             "ticks": ""
            },
            "colorscale": [
             [
              0,
              "#0d0887"
             ],
             [
              0.1111111111111111,
              "#46039f"
             ],
             [
              0.2222222222222222,
              "#7201a8"
             ],
             [
              0.3333333333333333,
              "#9c179e"
             ],
             [
              0.4444444444444444,
              "#bd3786"
             ],
             [
              0.5555555555555556,
              "#d8576b"
             ],
             [
              0.6666666666666666,
              "#ed7953"
             ],
             [
              0.7777777777777778,
              "#fb9f3a"
             ],
             [
              0.8888888888888888,
              "#fdca26"
             ],
             [
              1,
              "#f0f921"
             ]
            ],
            "type": "histogram2dcontour"
           }
          ],
          "mesh3d": [
           {
            "colorbar": {
             "outlinewidth": 0,
             "ticks": ""
            },
            "type": "mesh3d"
           }
          ],
          "parcoords": [
           {
            "line": {
             "colorbar": {
              "outlinewidth": 0,
              "ticks": ""
             }
            },
            "type": "parcoords"
           }
          ],
          "pie": [
           {
            "automargin": true,
            "type": "pie"
           }
          ],
          "scatter": [
           {
            "fillpattern": {
             "fillmode": "overlay",
             "size": 10,
             "solidity": 0.2
            },
            "type": "scatter"
           }
          ],
          "scatter3d": [
           {
            "line": {
             "colorbar": {
              "outlinewidth": 0,
              "ticks": ""
             }
            },
            "marker": {
             "colorbar": {
              "outlinewidth": 0,
              "ticks": ""
             }
            },
            "type": "scatter3d"
           }
          ],
          "scattercarpet": [
           {
            "marker": {
             "colorbar": {
              "outlinewidth": 0,
              "ticks": ""
             }
            },
            "type": "scattercarpet"
           }
          ],
          "scattergeo": [
           {
            "marker": {
             "colorbar": {
              "outlinewidth": 0,
              "ticks": ""
             }
            },
            "type": "scattergeo"
           }
          ],
          "scattergl": [
           {
            "marker": {
             "colorbar": {
              "outlinewidth": 0,
              "ticks": ""
             }
            },
            "type": "scattergl"
           }
          ],
          "scattermapbox": [
           {
            "marker": {
             "colorbar": {
              "outlinewidth": 0,
              "ticks": ""
             }
            },
            "type": "scattermapbox"
           }
          ],
          "scatterpolar": [
           {
            "marker": {
             "colorbar": {
              "outlinewidth": 0,
              "ticks": ""
             }
            },
            "type": "scatterpolar"
           }
          ],
          "scatterpolargl": [
           {
            "marker": {
             "colorbar": {
              "outlinewidth": 0,
              "ticks": ""
             }
            },
            "type": "scatterpolargl"
           }
          ],
          "scatterternary": [
           {
            "marker": {
             "colorbar": {
              "outlinewidth": 0,
              "ticks": ""
             }
            },
            "type": "scatterternary"
           }
          ],
          "surface": [
           {
            "colorbar": {
             "outlinewidth": 0,
             "ticks": ""
            },
            "colorscale": [
             [
              0,
              "#0d0887"
             ],
             [
              0.1111111111111111,
              "#46039f"
             ],
             [
              0.2222222222222222,
              "#7201a8"
             ],
             [
              0.3333333333333333,
              "#9c179e"
             ],
             [
              0.4444444444444444,
              "#bd3786"
             ],
             [
              0.5555555555555556,
              "#d8576b"
             ],
             [
              0.6666666666666666,
              "#ed7953"
             ],
             [
              0.7777777777777778,
              "#fb9f3a"
             ],
             [
              0.8888888888888888,
              "#fdca26"
             ],
             [
              1,
              "#f0f921"
             ]
            ],
            "type": "surface"
           }
          ],
          "table": [
           {
            "cells": {
             "fill": {
              "color": "#EBF0F8"
             },
             "line": {
              "color": "white"
             }
            },
            "header": {
             "fill": {
              "color": "#C8D4E3"
             },
             "line": {
              "color": "white"
             }
            },
            "type": "table"
           }
          ]
         },
         "layout": {
          "annotationdefaults": {
           "arrowcolor": "#2a3f5f",
           "arrowhead": 0,
           "arrowwidth": 1
          },
          "autotypenumbers": "strict",
          "coloraxis": {
           "colorbar": {
            "outlinewidth": 0,
            "ticks": ""
           }
          },
          "colorscale": {
           "diverging": [
            [
             0,
             "#8e0152"
            ],
            [
             0.1,
             "#c51b7d"
            ],
            [
             0.2,
             "#de77ae"
            ],
            [
             0.3,
             "#f1b6da"
            ],
            [
             0.4,
             "#fde0ef"
            ],
            [
             0.5,
             "#f7f7f7"
            ],
            [
             0.6,
             "#e6f5d0"
            ],
            [
             0.7,
             "#b8e186"
            ],
            [
             0.8,
             "#7fbc41"
            ],
            [
             0.9,
             "#4d9221"
            ],
            [
             1,
             "#276419"
            ]
           ],
           "sequential": [
            [
             0,
             "#0d0887"
            ],
            [
             0.1111111111111111,
             "#46039f"
            ],
            [
             0.2222222222222222,
             "#7201a8"
            ],
            [
             0.3333333333333333,
             "#9c179e"
            ],
            [
             0.4444444444444444,
             "#bd3786"
            ],
            [
             0.5555555555555556,
             "#d8576b"
            ],
            [
             0.6666666666666666,
             "#ed7953"
            ],
            [
             0.7777777777777778,
             "#fb9f3a"
            ],
            [
             0.8888888888888888,
             "#fdca26"
            ],
            [
             1,
             "#f0f921"
            ]
           ],
           "sequentialminus": [
            [
             0,
             "#0d0887"
            ],
            [
             0.1111111111111111,
             "#46039f"
            ],
            [
             0.2222222222222222,
             "#7201a8"
            ],
            [
             0.3333333333333333,
             "#9c179e"
            ],
            [
             0.4444444444444444,
             "#bd3786"
            ],
            [
             0.5555555555555556,
             "#d8576b"
            ],
            [
             0.6666666666666666,
             "#ed7953"
            ],
            [
             0.7777777777777778,
             "#fb9f3a"
            ],
            [
             0.8888888888888888,
             "#fdca26"
            ],
            [
             1,
             "#f0f921"
            ]
           ]
          },
          "colorway": [
           "#636efa",
           "#EF553B",
           "#00cc96",
           "#ab63fa",
           "#FFA15A",
           "#19d3f3",
           "#FF6692",
           "#B6E880",
           "#FF97FF",
           "#FECB52"
          ],
          "font": {
           "color": "#2a3f5f"
          },
          "geo": {
           "bgcolor": "white",
           "lakecolor": "white",
           "landcolor": "#E5ECF6",
           "showlakes": true,
           "showland": true,
           "subunitcolor": "white"
          },
          "hoverlabel": {
           "align": "left"
          },
          "hovermode": "closest",
          "mapbox": {
           "style": "light"
          },
          "paper_bgcolor": "white",
          "plot_bgcolor": "#E5ECF6",
          "polar": {
           "angularaxis": {
            "gridcolor": "white",
            "linecolor": "white",
            "ticks": ""
           },
           "bgcolor": "#E5ECF6",
           "radialaxis": {
            "gridcolor": "white",
            "linecolor": "white",
            "ticks": ""
           }
          },
          "scene": {
           "xaxis": {
            "backgroundcolor": "#E5ECF6",
            "gridcolor": "white",
            "gridwidth": 2,
            "linecolor": "white",
            "showbackground": true,
            "ticks": "",
            "zerolinecolor": "white"
           },
           "yaxis": {
            "backgroundcolor": "#E5ECF6",
            "gridcolor": "white",
            "gridwidth": 2,
            "linecolor": "white",
            "showbackground": true,
            "ticks": "",
            "zerolinecolor": "white"
           },
           "zaxis": {
            "backgroundcolor": "#E5ECF6",
            "gridcolor": "white",
            "gridwidth": 2,
            "linecolor": "white",
            "showbackground": true,
            "ticks": "",
            "zerolinecolor": "white"
           }
          },
          "shapedefaults": {
           "line": {
            "color": "#2a3f5f"
           }
          },
          "ternary": {
           "aaxis": {
            "gridcolor": "white",
            "linecolor": "white",
            "ticks": ""
           },
           "baxis": {
            "gridcolor": "white",
            "linecolor": "white",
            "ticks": ""
           },
           "bgcolor": "#E5ECF6",
           "caxis": {
            "gridcolor": "white",
            "linecolor": "white",
            "ticks": ""
           }
          },
          "title": {
           "x": 0.05
          },
          "xaxis": {
           "automargin": true,
           "gridcolor": "white",
           "linecolor": "white",
           "ticks": "",
           "title": {
            "standoff": 15
           },
           "zerolinecolor": "white",
           "zerolinewidth": 2
          },
          "yaxis": {
           "automargin": true,
           "gridcolor": "white",
           "linecolor": "white",
           "ticks": "",
           "title": {
            "standoff": 15
           },
           "zerolinecolor": "white",
           "zerolinewidth": 2
          }
         }
        },
        "title": {
         "text": "Embeddings Visualization with 3D PCA"
        }
       }
      }
     },
     "metadata": {},
     "output_type": "display_data"
    },
    {
     "data": {
      "application/vnd.plotly.v1+json": {
       "config": {
        "plotlyServerURL": "https://plot.ly"
       },
       "data": [
        {
         "customdata": [
          [
           "Auditorias"
          ],
          [
           "Auditorias"
          ],
          [
           "Auditorias"
          ],
          [
           "Auditorias"
          ],
          [
           "Auditorias"
          ],
          [
           "Auditorias"
          ],
          [
           "Auditorias"
          ],
          [
           "Auditorias"
          ],
          [
           "Auditorias"
          ],
          [
           "Auditorias"
          ],
          [
           "Auditorias"
          ],
          [
           "Auditorias"
          ],
          [
           "Auditorias"
          ],
          [
           "Auditorias"
          ],
          [
           "Auditorias"
          ],
          [
           "Auditorias"
          ],
          [
           "Auditorias"
          ],
          [
           "Auditorias"
          ],
          [
           "Auditorias"
          ],
          [
           "Auditorias"
          ],
          [
           "Auditorias"
          ],
          [
           "Auditorias"
          ],
          [
           "Auditorias"
          ],
          [
           "Auditorias"
          ],
          [
           "Auditorias"
          ],
          [
           "Auditorias"
          ],
          [
           "Auditorias"
          ],
          [
           "Auditorias"
          ],
          [
           "Auditorias"
          ],
          [
           "Auditorias"
          ],
          [
           "Auditorias"
          ],
          [
           "Auditorias"
          ],
          [
           "Auditorias"
          ],
          [
           "Auditorias"
          ],
          [
           "Auditorias"
          ],
          [
           "Auditorias"
          ],
          [
           "Auditorias"
          ],
          [
           "Auditorias"
          ],
          [
           "Auditorias"
          ],
          [
           "Auditorias"
          ],
          [
           "Auditorias"
          ],
          [
           "Auditorias"
          ],
          [
           "Auditorias"
          ],
          [
           "Auditorias"
          ],
          [
           "Auditorias"
          ],
          [
           "Auditorias"
          ],
          [
           "Auditorias"
          ],
          [
           "Auditorias"
          ]
         ],
         "hovertemplate": "color=Auditorias<br>t-SNE Component 1=%{x}<br>t-SNE Component 2=%{y}<br>t-SNE Component 3=%{z}<br>label=%{customdata[0]}<extra></extra>",
         "legendgroup": "Auditorias",
         "marker": {
          "color": "#636efa",
          "symbol": "circle"
         },
         "mode": "markers",
         "name": "Auditorias",
         "scene": "scene",
         "showlegend": true,
         "type": "scatter3d",
         "x": [
          31.052725,
          7.515183,
          4.3154697,
          8.403624,
          33.82867,
          13.965602,
          18.373018,
          27.258156,
          22.260506,
          21.323381,
          39.926605,
          32.19676,
          15.506009,
          6.0165467,
          8.119585,
          37.569508,
          2.8805552,
          40.08049,
          24.374083,
          -6.395051,
          -3.2350757,
          29.180038,
          9.750314,
          3.5085738,
          18.425407,
          9.499534,
          3.871771,
          -6.3350286,
          15.777128,
          25.463486,
          24.785969,
          22.636215,
          33.6908,
          10.452907,
          9.130572,
          3.6443424,
          37.75151,
          2.4063814,
          38.311226,
          38.549133,
          -1.6645063,
          -0.8921837,
          24.643152,
          13.543425,
          10.038224,
          16.106264,
          32.358704,
          -2.7530954
         ],
         "y": [
          19.580593,
          30.206482,
          32.507282,
          18.265097,
          23.631222,
          42.45853,
          44.271877,
          -11.608988,
          -17.71065,
          5.9236307,
          11.773465,
          5.821797,
          5.0555964,
          -1.9581461,
          -41.470615,
          18.042454,
          -33.0818,
          0.26035047,
          26.745197,
          23.171412,
          12.451978,
          9.634957,
          9.243252,
          -46.895607,
          6.555033,
          24.393827,
          -18.56311,
          -34.964344,
          -22.808292,
          -11.985825,
          -17.453121,
          1.2130305,
          8.833872,
          4.9789023,
          -5.691424,
          -41.75475,
          21.434647,
          -37.943363,
          -4.9994993,
          -2.171724,
          19.977083,
          6.743375,
          7.0814004,
          12.191801,
          7.9817924,
          -4.706088,
          -14.080428,
          15.737871
         ],
         "z": [
          32.16804,
          -12.228864,
          -26.655453,
          27.948776,
          -11.652155,
          -10.937815,
          -7.042825,
          -5.638317,
          -25.249043,
          13.471213,
          -6.002688,
          -5.285538,
          37.46171,
          -11.790491,
          -15.616775,
          7.322916,
          8.226623,
          -23.703344,
          -17.38726,
          32.933777,
          45.32911,
          3.462327,
          19.796906,
          -0.98914456,
          23.26927,
          -10.302347,
          -27.864069,
          13.98617,
          -27.544403,
          -10.476111,
          -20.803122,
          12.019554,
          -9.26313,
          37.741405,
          -10.662204,
          -13.325907,
          3.5399165,
          6.8035073,
          -23.561596,
          -18.017244,
          33.20078,
          44.843956,
          3.895308,
          16.98331,
          26.05567,
          18.549034,
          -12.696504,
          40.978016
         ]
        },
        {
         "customdata": [
          [
           "Ausentismo"
          ],
          [
           "Ausentismo"
          ],
          [
           "Ausentismo"
          ],
          [
           "Ausentismo"
          ],
          [
           "Ausentismo"
          ],
          [
           "Ausentismo"
          ],
          [
           "Ausentismo"
          ],
          [
           "Ausentismo"
          ],
          [
           "Ausentismo"
          ],
          [
           "Ausentismo"
          ],
          [
           "Ausentismo"
          ],
          [
           "Ausentismo"
          ],
          [
           "Ausentismo"
          ],
          [
           "Ausentismo"
          ],
          [
           "Ausentismo"
          ],
          [
           "Ausentismo"
          ],
          [
           "Ausentismo"
          ],
          [
           "Ausentismo"
          ],
          [
           "Ausentismo"
          ],
          [
           "Ausentismo"
          ],
          [
           "Ausentismo"
          ],
          [
           "Ausentismo"
          ],
          [
           "Ausentismo"
          ],
          [
           "Ausentismo"
          ],
          [
           "Ausentismo"
          ],
          [
           "Ausentismo"
          ],
          [
           "Ausentismo"
          ],
          [
           "Ausentismo"
          ],
          [
           "Ausentismo"
          ],
          [
           "Ausentismo"
          ],
          [
           "Ausentismo"
          ],
          [
           "Ausentismo"
          ],
          [
           "Ausentismo"
          ]
         ],
         "hovertemplate": "color=Ausentismo<br>t-SNE Component 1=%{x}<br>t-SNE Component 2=%{y}<br>t-SNE Component 3=%{z}<br>label=%{customdata[0]}<extra></extra>",
         "legendgroup": "Ausentismo",
         "marker": {
          "color": "#EF553B",
          "symbol": "circle"
         },
         "mode": "markers",
         "name": "Ausentismo",
         "scene": "scene",
         "showlegend": true,
         "type": "scatter3d",
         "x": [
          3.3110483,
          13.237639,
          3.4780264,
          -16.770124,
          -14.837821,
          7.326318,
          15.108938,
          10.688501,
          5.966323,
          -25.59186,
          16.341703,
          14.858275,
          15.8935175,
          -18.927948,
          -13.922241,
          5.2893934,
          9.460883,
          12.908072,
          -11.446389,
          -14.770808,
          19.481216,
          -21.293901,
          -18.472418,
          1.3631129,
          25.375652,
          11.477198,
          -17.432076,
          -16.732143,
          -3.388652,
          -15.527849,
          11.450965,
          4.327196,
          -9.470546
         ],
         "y": [
          30.00874,
          24.609709,
          12.276512,
          21.268053,
          16.423439,
          -23.924486,
          -31.475464,
          -18.829859,
          -25.830511,
          -38.916767,
          -13.5301285,
          -18.73755,
          -11.460911,
          -11.718586,
          3.9920228,
          -27.666876,
          -33.652,
          -35.133827,
          -26.562544,
          -28.364443,
          -8.686048,
          -16.563068,
          3.884516,
          -28.257805,
          -32.97833,
          -32.989838,
          -13.275309,
          10.192086,
          -27.54535,
          -27.898932,
          -23.101679,
          22.360775,
          24.747438
         ],
         "z": [
          -18.178276,
          36.078472,
          32.185776,
          -37.194782,
          -41.139786,
          34.124565,
          32.331436,
          40.23563,
          -1.0252211,
          4.7060695,
          39.314167,
          28.68937,
          23.127586,
          29.877525,
          27.633898,
          29.727556,
          28.206017,
          16.75813,
          31.307577,
          26.60859,
          25.621931,
          25.455168,
          30.999989,
          34.937016,
          9.104277,
          -5.7372937,
          22.424683,
          30.170767,
          30.990736,
          36.74432,
          3.1599255,
          34.3796,
          -33.027103
         ]
        },
        {
         "customdata": [
          [
           "Estructura Organizativa"
          ],
          [
           "Estructura Organizativa"
          ],
          [
           "Estructura Organizativa"
          ],
          [
           "Estructura Organizativa"
          ],
          [
           "Estructura Organizativa"
          ],
          [
           "Estructura Organizativa"
          ],
          [
           "Estructura Organizativa"
          ],
          [
           "Estructura Organizativa"
          ],
          [
           "Estructura Organizativa"
          ],
          [
           "Estructura Organizativa"
          ],
          [
           "Estructura Organizativa"
          ],
          [
           "Estructura Organizativa"
          ],
          [
           "Estructura Organizativa"
          ],
          [
           "Estructura Organizativa"
          ],
          [
           "Estructura Organizativa"
          ],
          [
           "Estructura Organizativa"
          ],
          [
           "Estructura Organizativa"
          ],
          [
           "Estructura Organizativa"
          ],
          [
           "Estructura Organizativa"
          ],
          [
           "Estructura Organizativa"
          ],
          [
           "Estructura Organizativa"
          ],
          [
           "Estructura Organizativa"
          ],
          [
           "Estructura Organizativa"
          ],
          [
           "Estructura Organizativa"
          ],
          [
           "Estructura Organizativa"
          ],
          [
           "Estructura Organizativa"
          ],
          [
           "Estructura Organizativa"
          ],
          [
           "Estructura Organizativa"
          ],
          [
           "Estructura Organizativa"
          ],
          [
           "Estructura Organizativa"
          ],
          [
           "Estructura Organizativa"
          ],
          [
           "Estructura Organizativa"
          ],
          [
           "Estructura Organizativa"
          ],
          [
           "Estructura Organizativa"
          ],
          [
           "Estructura Organizativa"
          ],
          [
           "Estructura Organizativa"
          ],
          [
           "Estructura Organizativa"
          ],
          [
           "Estructura Organizativa"
          ],
          [
           "Estructura Organizativa"
          ],
          [
           "Estructura Organizativa"
          ],
          [
           "Estructura Organizativa"
          ],
          [
           "Estructura Organizativa"
          ],
          [
           "Estructura Organizativa"
          ],
          [
           "Estructura Organizativa"
          ],
          [
           "Estructura Organizativa"
          ],
          [
           "Estructura Organizativa"
          ],
          [
           "Estructura Organizativa"
          ],
          [
           "Estructura Organizativa"
          ],
          [
           "Estructura Organizativa"
          ],
          [
           "Estructura Organizativa"
          ],
          [
           "Estructura Organizativa"
          ],
          [
           "Estructura Organizativa"
          ],
          [
           "Estructura Organizativa"
          ],
          [
           "Estructura Organizativa"
          ],
          [
           "Estructura Organizativa"
          ],
          [
           "Estructura Organizativa"
          ],
          [
           "Estructura Organizativa"
          ],
          [
           "Estructura Organizativa"
          ],
          [
           "Estructura Organizativa"
          ],
          [
           "Estructura Organizativa"
          ],
          [
           "Estructura Organizativa"
          ],
          [
           "Estructura Organizativa"
          ],
          [
           "Estructura Organizativa"
          ],
          [
           "Estructura Organizativa"
          ],
          [
           "Estructura Organizativa"
          ],
          [
           "Estructura Organizativa"
          ],
          [
           "Estructura Organizativa"
          ],
          [
           "Estructura Organizativa"
          ],
          [
           "Estructura Organizativa"
          ],
          [
           "Estructura Organizativa"
          ],
          [
           "Estructura Organizativa"
          ],
          [
           "Estructura Organizativa"
          ],
          [
           "Estructura Organizativa"
          ],
          [
           "Estructura Organizativa"
          ],
          [
           "Estructura Organizativa"
          ],
          [
           "Estructura Organizativa"
          ],
          [
           "Estructura Organizativa"
          ],
          [
           "Estructura Organizativa"
          ],
          [
           "Estructura Organizativa"
          ],
          [
           "Estructura Organizativa"
          ],
          [
           "Estructura Organizativa"
          ],
          [
           "Estructura Organizativa"
          ],
          [
           "Estructura Organizativa"
          ],
          [
           "Estructura Organizativa"
          ],
          [
           "Estructura Organizativa"
          ],
          [
           "Estructura Organizativa"
          ],
          [
           "Estructura Organizativa"
          ],
          [
           "Estructura Organizativa"
          ],
          [
           "Estructura Organizativa"
          ],
          [
           "Estructura Organizativa"
          ],
          [
           "Estructura Organizativa"
          ],
          [
           "Estructura Organizativa"
          ],
          [
           "Estructura Organizativa"
          ],
          [
           "Estructura Organizativa"
          ],
          [
           "Estructura Organizativa"
          ],
          [
           "Estructura Organizativa"
          ],
          [
           "Estructura Organizativa"
          ],
          [
           "Estructura Organizativa"
          ],
          [
           "Estructura Organizativa"
          ],
          [
           "Estructura Organizativa"
          ],
          [
           "Estructura Organizativa"
          ],
          [
           "Estructura Organizativa"
          ],
          [
           "Estructura Organizativa"
          ],
          [
           "Estructura Organizativa"
          ],
          [
           "Estructura Organizativa"
          ],
          [
           "Estructura Organizativa"
          ],
          [
           "Estructura Organizativa"
          ],
          [
           "Estructura Organizativa"
          ],
          [
           "Estructura Organizativa"
          ],
          [
           "Estructura Organizativa"
          ],
          [
           "Estructura Organizativa"
          ],
          [
           "Estructura Organizativa"
          ],
          [
           "Estructura Organizativa"
          ],
          [
           "Estructura Organizativa"
          ],
          [
           "Estructura Organizativa"
          ],
          [
           "Estructura Organizativa"
          ],
          [
           "Estructura Organizativa"
          ],
          [
           "Estructura Organizativa"
          ],
          [
           "Estructura Organizativa"
          ],
          [
           "Estructura Organizativa"
          ],
          [
           "Estructura Organizativa"
          ],
          [
           "Estructura Organizativa"
          ],
          [
           "Estructura Organizativa"
          ],
          [
           "Estructura Organizativa"
          ],
          [
           "Estructura Organizativa"
          ],
          [
           "Estructura Organizativa"
          ],
          [
           "Estructura Organizativa"
          ],
          [
           "Estructura Organizativa"
          ],
          [
           "Estructura Organizativa"
          ],
          [
           "Estructura Organizativa"
          ],
          [
           "Estructura Organizativa"
          ],
          [
           "Estructura Organizativa"
          ],
          [
           "Estructura Organizativa"
          ],
          [
           "Estructura Organizativa"
          ],
          [
           "Estructura Organizativa"
          ]
         ],
         "hovertemplate": "color=Estructura Organizativa<br>t-SNE Component 1=%{x}<br>t-SNE Component 2=%{y}<br>t-SNE Component 3=%{z}<br>label=%{customdata[0]}<extra></extra>",
         "legendgroup": "Estructura Organizativa",
         "marker": {
          "color": "#00cc96",
          "symbol": "circle"
         },
         "mode": "markers",
         "name": "Estructura Organizativa",
         "scene": "scene",
         "showlegend": true,
         "type": "scatter3d",
         "x": [
          28.347528,
          29.92719,
          1.813764,
          -1.8448043,
          -1.016189,
          -32.197308,
          -15.724148,
          -19.647213,
          6.4222584,
          -24.91869,
          4.0909743,
          -38.944756,
          -47.00549,
          -42.897934,
          -18.093357,
          -25.374542,
          -32.499588,
          -33.847633,
          -3.7716095,
          -24.881527,
          -28.828127,
          -27.731617,
          -4.776873,
          5.0404744,
          -24.250437,
          -13.566983,
          33.33391,
          1.7620438,
          6.1479745,
          4.238449,
          -24.890615,
          -7.7187743,
          0.22418517,
          -1.4399678,
          -22.064066,
          -21.295088,
          -8.815858,
          -7.733199,
          -25.276312,
          -14.813707,
          -12.975548,
          -2.095659,
          -26.392197,
          -38.780952,
          -29.185417,
          -18.406656,
          -12.733791,
          14.913291,
          -32.210518,
          -15.853037,
          -32.53304,
          -14.1210985,
          -18.96268,
          -25.658236,
          3.2367811,
          -23.867476,
          -16.364687,
          -17.734669,
          -18.391983,
          -5.3372116,
          -16.356184,
          -18.781574,
          -15.975973,
          -22.049568,
          0.75033563,
          3.351362,
          6.576561,
          -13.230682,
          -1.6993535,
          -6.029764,
          -38.440063,
          -20.861408,
          27.92585,
          -5.985483,
          -11.330288,
          -14.985989,
          -29.984152,
          -15.281492,
          -14.499764,
          -6.199875,
          -3.5689375,
          -1.3320833,
          -9.231981,
          -4.7097583,
          0.60595787,
          -15.370611,
          -36.835384,
          -49.224445,
          -43.274654,
          -21.981945,
          18.741037,
          -36.340813,
          -35.673134,
          -13.355652,
          -38.029686,
          -12.727414,
          -28.670668,
          23.8402,
          -33.790855,
          -7.7767,
          -32.924904,
          -10.506335,
          -29.102581,
          23.975037,
          -34.075676,
          -15.450672,
          -15.708412,
          -17.770426,
          -41.122265,
          -49.01961,
          -39.773193,
          -22.101053,
          15.615291,
          -33.3725,
          -22.01168,
          21.01098,
          -32.790714,
          -15.539674,
          -10.755832,
          21.492441,
          -16.647932,
          -21.60576,
          -16.154322,
          -4.462737,
          -13.939704,
          -6.3654833,
          18.99343,
          27.258451,
          17.59931,
          23.452885,
          1.7772639,
          15.850719,
          -6.582519,
          18.245192,
          -20.050417
         ],
         "y": [
          15.744063,
          10.54449,
          35.43936,
          30.798912,
          24.390236,
          15.026322,
          26.558119,
          23.614279,
          33.539234,
          25.926516,
          22.227312,
          -4.2023096,
          -1.2087106,
          13.182565,
          11.294801,
          -19.415403,
          18.922634,
          24.115673,
          -21.833292,
          -8.027275,
          -2.8307834,
          15.010169,
          -1.6855036,
          -12.8977165,
          25.18526,
          -12.299404,
          -28.457207,
          -26.155956,
          -11.138063,
          -3.9756067,
          19.0577,
          0.6565134,
          -8.852935,
          7.288653,
          15.580913,
          -12.556527,
          -8.822046,
          -14.078042,
          1.7684971,
          -9.457988,
          15.292496,
          -11.81875,
          11.136114,
          14.877733,
          -28.627447,
          18.133848,
          -27.69692,
          -14.542265,
          12.957046,
          -18.221663,
          -1.3422601,
          -14.29194,
          12.414163,
          5.313427,
          -11.257739,
          -9.669688,
          -0.63980407,
          9.682836,
          8.508605,
          -6.3541956,
          -0.14519776,
          -5.019488,
          15.87266,
          5.1041718,
          -0.73954463,
          -8.714836,
          -17.810934,
          4.9425173,
          4.351673,
          6.9120708,
          1.6952598,
          -3.988485,
          -28.1971,
          15.439906,
          10.765072,
          -2.9045224,
          -10.073494,
          -12.585615,
          -13.966249,
          -16.046879,
          35.20198,
          -20.788704,
          34.11344,
          -19.32394,
          -11.415896,
          24.026527,
          1.9894987,
          3.8586793,
          6.137566,
          -21.790857,
          -16.640368,
          17.461601,
          -23.751873,
          -17.782537,
          11.274178,
          32.074505,
          -25.331387,
          -14.298537,
          -14.25963,
          -15.643367,
          10.880499,
          25.342144,
          -17.774673,
          -14.76502,
          -1.8718444,
          -10.38995,
          28.408918,
          30.566484,
          1.0957221,
          3.6874409,
          9.266414,
          -23.57168,
          -25.000061,
          -23.477198,
          -17.602133,
          -24.907799,
          -29.566143,
          30.986809,
          -20.29387,
          -25.442844,
          26.230207,
          -23.467278,
          0.51454765,
          -11.54673,
          13.822413,
          14.202321,
          -2.3733091,
          0.98601115,
          -7.8170247,
          0.5021955,
          -19.614262,
          33.831715,
          -6.9721456,
          -33.716118,
          32.47455
         ],
         "z": [
          21.009762,
          33.66778,
          -9.921621,
          -7.352995,
          -3.1658466,
          -20.898172,
          -18.260008,
          -21.590153,
          18.972616,
          -10.904272,
          23.704819,
          -22.808844,
          -12.446189,
          -15.696635,
          13.41199,
          13.500704,
          -10.315218,
          -16.338305,
          9.317966,
          -8.541571,
          -14.178241,
          -12.240771,
          10.884073,
          16.66688,
          13.397519,
          15.593075,
          9.052569,
          18.698925,
          2.4181814,
          2.3213906,
          -8.600869,
          4.4308043,
          18.46435,
          1.9374393,
          -16.333965,
          -3.2841647,
          0.83391505,
          -4.721153,
          7.419161,
          -3.4337087,
          1.7943836,
          1.4661663,
          -6.287084,
          -1.9024423,
          14.665734,
          1.6423411,
          12.069779,
          5.1740437,
          -2.1750846,
          -4.820474,
          2.938318,
          1.4898385,
          2.2516582,
          1.9482163,
          -3.467944,
          11.374134,
          3.3476872,
          -23.696562,
          -30.236088,
          -9.673085,
          -21.1208,
          -22.232645,
          9.0786295,
          -9.4822645,
          11.947896,
          11.77399,
          11.417701,
          -3.2623525,
          -6.51719,
          -4.4729457,
          8.132863,
          2.7122116,
          2.3840303,
          -23.868202,
          -22.87311,
          11.843277,
          24.07134,
          -11.879127,
          -18.194613,
          -15.169521,
          -29.382998,
          36.674652,
          -30.564203,
          30.918604,
          26.276508,
          -4.753719,
          -27.385109,
          -16.988659,
          -12.941033,
          -1.8375146,
          9.909997,
          13.3790045,
          -0.8583627,
          7.4688582,
          8.183565,
          8.830262,
          -1.2915205,
          13.405454,
          -2.566554,
          5.3277154,
          8.993611,
          6.9055767,
          0.8364938,
          6.462073,
          -3.1756423,
          7.8675933,
          2.6956773,
          -7.3214245,
          -23.402725,
          -9.775606,
          -17.95329,
          5.510465,
          12.350778,
          11.079758,
          5.0134034,
          10.559979,
          9.783475,
          14.945298,
          -0.07244025,
          17.069563,
          10.576375,
          17.169397,
          -13.662185,
          10.90592,
          -11.609198,
          -7.979869,
          -18.112318,
          -24.95117,
          -20.174757,
          -19.555084,
          3.8104482,
          -35.069733,
          -14.901439,
          -19.671507,
          8.831904
         ]
        },
        {
         "customdata": [
          [
           "Riesgos"
          ],
          [
           "Riesgos"
          ],
          [
           "Riesgos"
          ],
          [
           "Riesgos"
          ],
          [
           "Riesgos"
          ],
          [
           "Riesgos"
          ],
          [
           "Riesgos"
          ],
          [
           "Riesgos"
          ],
          [
           "Riesgos"
          ],
          [
           "Riesgos"
          ],
          [
           "Riesgos"
          ],
          [
           "Riesgos"
          ],
          [
           "Riesgos"
          ],
          [
           "Riesgos"
          ],
          [
           "Riesgos"
          ],
          [
           "Riesgos"
          ],
          [
           "Riesgos"
          ],
          [
           "Riesgos"
          ],
          [
           "Riesgos"
          ],
          [
           "Riesgos"
          ],
          [
           "Riesgos"
          ],
          [
           "Riesgos"
          ],
          [
           "Riesgos"
          ],
          [
           "Riesgos"
          ],
          [
           "Riesgos"
          ],
          [
           "Riesgos"
          ],
          [
           "Riesgos"
          ],
          [
           "Riesgos"
          ],
          [
           "Riesgos"
          ],
          [
           "Riesgos"
          ],
          [
           "Riesgos"
          ],
          [
           "Riesgos"
          ],
          [
           "Riesgos"
          ],
          [
           "Riesgos"
          ],
          [
           "Riesgos"
          ],
          [
           "Riesgos"
          ],
          [
           "Riesgos"
          ],
          [
           "Riesgos"
          ],
          [
           "Riesgos"
          ],
          [
           "Riesgos"
          ],
          [
           "Riesgos"
          ]
         ],
         "hovertemplate": "color=Riesgos<br>t-SNE Component 1=%{x}<br>t-SNE Component 2=%{y}<br>t-SNE Component 3=%{z}<br>label=%{customdata[0]}<extra></extra>",
         "legendgroup": "Riesgos",
         "marker": {
          "color": "#ab63fa",
          "symbol": "circle"
         },
         "mode": "markers",
         "name": "Riesgos",
         "scene": "scene",
         "showlegend": true,
         "type": "scatter3d",
         "x": [
          30.56949,
          12.489692,
          1.4419725,
          24.17819,
          6.3503046,
          -2.2047205,
          14.738415,
          -5.24652,
          -7.713999,
          17.954922,
          22.90286,
          35.466526,
          -2.377566,
          29.153933,
          2.0593827,
          -32.37623,
          -4.4579754,
          12.465559,
          19.575573,
          19.922144,
          -6.5755987,
          29.134897,
          8.281344,
          -9.218842,
          1.2042632,
          -24.590244,
          -0.99812984,
          2.0780318,
          -6.4168797,
          3.9763956,
          11.213995,
          -6.834521,
          15.285457,
          -12.222268,
          5.401885,
          4.193078,
          9.640079,
          -1.0980191,
          16.771841,
          24.372953,
          11.833962
         ],
         "y": [
          14.234291,
          34.355827,
          24.989737,
          31.11829,
          17.781187,
          23.160788,
          26.370527,
          -25.537552,
          -42.536465,
          16.38029,
          15.107877,
          28.381569,
          -37.64988,
          7.4105864,
          22.888012,
          8.148285,
          -2.8755896,
          -7.804256,
          -16.363152,
          -3.9845834,
          -7.0777516,
          -21.114367,
          3.56155,
          -7.697183,
          13.13908,
          -35.07266,
          24.70913,
          10.533572,
          10.464087,
          24.281305,
          22.740498,
          5.660648,
          22.613113,
          22.758162,
          15.544065,
          15.284459,
          12.611926,
          7.5215845,
          13.323291,
          13.65987,
          10.014923
         ],
         "z": [
          26.21107,
          -12.616381,
          -43.757877,
          3.2622044,
          -27.024609,
          -31.117151,
          27.811571,
          2.067591,
          14.746491,
          -18.599308,
          -20.38673,
          -10.481886,
          19.32469,
          10.510229,
          14.5992,
          -13.734421,
          -26.533514,
          -37.202244,
          -7.9400587,
          -36.155834,
          34.471893,
          1.1588863,
          10.284347,
          40.352806,
          11.604315,
          10.528669,
          -22.211258,
          17.501518,
          16.076628,
          5.6487226,
          5.4172945,
          -15.547756,
          9.135777,
          -13.59804,
          -17.893934,
          -11.208337,
          -19.969587,
          -21.90305,
          5.413814,
          -2.505374,
          6.2735295
         ]
        },
        {
         "customdata": [
          [
           "Información"
          ],
          [
           "Información"
          ],
          [
           "Información"
          ],
          [
           "Información"
          ],
          [
           "Información"
          ],
          [
           "Información"
          ],
          [
           "Información"
          ],
          [
           "Información"
          ],
          [
           "Información"
          ],
          [
           "Información"
          ],
          [
           "Información"
          ],
          [
           "Información"
          ],
          [
           "Información"
          ],
          [
           "Información"
          ],
          [
           "Información"
          ],
          [
           "Información"
          ]
         ],
         "hovertemplate": "color=Información<br>t-SNE Component 1=%{x}<br>t-SNE Component 2=%{y}<br>t-SNE Component 3=%{z}<br>label=%{customdata[0]}<extra></extra>",
         "legendgroup": "Información",
         "marker": {
          "color": "#FFA15A",
          "symbol": "circle"
         },
         "mode": "markers",
         "name": "Información",
         "scene": "scene",
         "showlegend": true,
         "type": "scatter3d",
         "x": [
          7.3141866,
          16.10091,
          -1.9192629,
          16.198435,
          -8.115363,
          -22.62898,
          -24.214827,
          -25.300684,
          -30.567257,
          -6.8199263,
          14.619677,
          -9.043789,
          10.051967,
          -6.930342,
          -31.410683,
          14.851249
         ],
         "y": [
          35.33179,
          24.996363,
          17.584534,
          11.347959,
          19.741392,
          -7.358781,
          -0.60505533,
          21.865824,
          25.046696,
          5.089857,
          1.4922705,
          -7.519825,
          39.645874,
          -18.350817,
          -10.813563,
          -7.3671694
         ],
         "z": [
          -5.93777,
          22.341043,
          17.663427,
          -33.82622,
          21.195019,
          19.93268,
          20.749176,
          5.9223294,
          2.3952496,
          32.68429,
          1.7005639,
          21.598263,
          1.0312092,
          19.170637,
          11.669135,
          6.548439
         ]
        },
        {
         "customdata": [
          [
           "Emergencia"
          ],
          [
           "Emergencia"
          ],
          [
           "Emergencia"
          ],
          [
           "Emergencia"
          ],
          [
           "Emergencia"
          ],
          [
           "Emergencia"
          ],
          [
           "Emergencia"
          ],
          [
           "Emergencia"
          ],
          [
           "Emergencia"
          ],
          [
           "Emergencia"
          ],
          [
           "Emergencia"
          ],
          [
           "Emergencia"
          ],
          [
           "Emergencia"
          ],
          [
           "Emergencia"
          ],
          [
           "Emergencia"
          ],
          [
           "Emergencia"
          ],
          [
           "Emergencia"
          ],
          [
           "Emergencia"
          ],
          [
           "Emergencia"
          ],
          [
           "Emergencia"
          ],
          [
           "Emergencia"
          ],
          [
           "Emergencia"
          ],
          [
           "Emergencia"
          ],
          [
           "Emergencia"
          ],
          [
           "Emergencia"
          ],
          [
           "Emergencia"
          ],
          [
           "Emergencia"
          ],
          [
           "Emergencia"
          ],
          [
           "Emergencia"
          ],
          [
           "Emergencia"
          ],
          [
           "Emergencia"
          ],
          [
           "Emergencia"
          ],
          [
           "Emergencia"
          ],
          [
           "Emergencia"
          ],
          [
           "Emergencia"
          ],
          [
           "Emergencia"
          ],
          [
           "Emergencia"
          ],
          [
           "Emergencia"
          ],
          [
           "Emergencia"
          ],
          [
           "Emergencia"
          ],
          [
           "Emergencia"
          ],
          [
           "Emergencia"
          ],
          [
           "Emergencia"
          ],
          [
           "Emergencia"
          ],
          [
           "Emergencia"
          ],
          [
           "Emergencia"
          ],
          [
           "Emergencia"
          ],
          [
           "Emergencia"
          ],
          [
           "Emergencia"
          ],
          [
           "Emergencia"
          ],
          [
           "Emergencia"
          ],
          [
           "Emergencia"
          ],
          [
           "Emergencia"
          ],
          [
           "Emergencia"
          ],
          [
           "Emergencia"
          ],
          [
           "Emergencia"
          ],
          [
           "Emergencia"
          ],
          [
           "Emergencia"
          ],
          [
           "Emergencia"
          ],
          [
           "Emergencia"
          ],
          [
           "Emergencia"
          ],
          [
           "Emergencia"
          ],
          [
           "Emergencia"
          ],
          [
           "Emergencia"
          ]
         ],
         "hovertemplate": "color=Emergencia<br>t-SNE Component 1=%{x}<br>t-SNE Component 2=%{y}<br>t-SNE Component 3=%{z}<br>label=%{customdata[0]}<extra></extra>",
         "legendgroup": "Emergencia",
         "marker": {
          "color": "#19d3f3",
          "symbol": "circle"
         },
         "mode": "markers",
         "name": "Emergencia",
         "scene": "scene",
         "showlegend": true,
         "type": "scatter3d",
         "x": [
          34.173496,
          5.9379144,
          -4.362293,
          37.296738,
          7.893667,
          6.809844,
          5.8220763,
          1.601041,
          2.797815,
          4.598094,
          9.647717,
          7.045744,
          14.510916,
          21.712963,
          27.34131,
          -5.363448,
          -5.179413,
          -8.8364725,
          16.143244,
          11.589024,
          27.345524,
          9.936651,
          -14.51537,
          16.956644,
          20.076046,
          13.928209,
          19.0254,
          32.423084,
          28.794024,
          1.9365375,
          7.496612,
          34.864967,
          8.875482,
          -25.899145,
          -15.679422,
          -1.8932574,
          -12.520498,
          1.1926749,
          10.252939,
          39.213326,
          28.073713,
          35.47623,
          4.142597,
          4.624481,
          -6.230256,
          10.275183,
          9.118398,
          10.4212885,
          1.2487625,
          10.362116,
          20.69047,
          -2.7849324,
          -11.746128,
          22.395683,
          32.572186,
          35.037563,
          -11.678424,
          -1.8828143,
          27.891422,
          -2.7831483,
          -13.199742,
          -18.590427,
          10.21266,
          -19.389225
         ],
         "y": [
          13.346351,
          35.974518,
          4.079407,
          1.4693401,
          12.185201,
          18.610949,
          24.089191,
          16.494204,
          9.601088,
          5.3105173,
          6.438006,
          13.24004,
          17.685892,
          16.514051,
          19.775208,
          -24.852285,
          -25.604465,
          -25.987179,
          3.7953544,
          8.013517,
          -27.98698,
          4.8810234,
          -27.161283,
          -30.888224,
          -1.5008963,
          2.0574348,
          5.308066,
          26.950691,
          -33.86637,
          -24.10798,
          -20.938047,
          -30.80519,
          -15.770959,
          -19.462393,
          -26.334969,
          -32.397987,
          -33.883427,
          -8.558988,
          -8.31804,
          3.7834892,
          -2.71922,
          -6.3209677,
          -10.1891575,
          -7.9740095,
          -29.793638,
          18.755241,
          -3.070534,
          -4.8547378,
          6.555236,
          -1.7580625,
          33.138763,
          -13.485736,
          -41.208538,
          -25.564665,
          0.17833014,
          -0.7773259,
          -11.331793,
          -20.046795,
          19.666859,
          3.6065521,
          -33.011257,
          -38.461887,
          -16.632101,
          -32.502728
         ],
         "z": [
          31.675217,
          -16.644806,
          -38.96506,
          -5.707098,
          -36.604637,
          -39.97764,
          -37.045887,
          -36.55516,
          -40.62642,
          -35.931877,
          -41.332405,
          -47.72539,
          30.731874,
          -26.32623,
          -27.210045,
          -28.932999,
          -34.515602,
          -8.736178,
          -5.587956,
          -6.2628975,
          -8.869634,
          -29.922806,
          3.1864803,
          5.8771462,
          -5.322541,
          -19.367807,
          -11.743024,
          17.515238,
          -0.74197644,
          -12.929933,
          -12.968181,
          -0.8121971,
          -16.155296,
          -14.701919,
          -14.266324,
          -3.7083545,
          6.352398,
          -25.885406,
          -31.215326,
          4.771482,
          3.0748837,
          4.9636674,
          -31.955418,
          -20.41548,
          -23.885212,
          -32.88986,
          22.858322,
          29.839441,
          24.300323,
          17.378044,
          -20.36093,
          -25.108074,
          2.2089443,
          -6.590887,
          6.3947883,
          14.2522955,
          -32.805233,
          -2.869369,
          5.3140936,
          22.631805,
          -4.197727,
          -11.694911,
          -3.8757193,
          -5.2239532
         ]
        },
        {
         "customdata": [
          [
           "Question: ¿Cómo se diferencia la ubicación física de la operativa?<br>Closest Model: Estructura Organizativa<br>Similarity: 0.78<br>Chunk: entendidos  como el lugar o área ocupada por las personas dentro de la organización donde se  desarr..."
          ],
          [
           "Question: ¿Qué información se incluye en el informe de la evaluación de riesgos que ofrece la plataforma y cuál es su utilidad para la gestión de riesgos en la empresa?<br>Closest Model: Riesgos<br>Similarity: 0.89<br>Chunk: Sabentis es la nueva plataforma de gestión especializada en el ámbito de seguridad y salud en  el tr..."
          ],
          [
           "Question: ¿Hay indicadores relativos al cumplimiento de normas?<br>Closest Model: Auditorias<br>Similarity: 0.72<br>Chunk: 24  EVALUACIÓN DE ASPECTOS LEGALES  La pestaña evaluación de aspectos legales permite al usuario eva..."
          ],
          [
           "Question: ¿Qué papel juega la estructura organizativa en la funcionalidad general de la plataforma y cómo interactúa con otros módulos?<br>Closest Model: Estructura Organizativa<br>Similarity: 0.87<br>Chunk: 3. HOME ESTRUCTURA ORGANIZATIVA  El usuario puede acceder al módulo Estructura Organizativa (EO), de..."
          ],
          [
           "Question: ¿Qué permite realizar la evaluación de riesgos?<br>Closest Model: Riesgos<br>Similarity: 0.84<br>Chunk: la  configuración, se debe tener en consideración el comportamiento de los campos en el  formulario ..."
          ],
          [
           "Question: ¿Qué tipo de documentos se pueden almacenar y compartir en el espacio denominado 'Documentos' y cuál es su importancia dentro del contexto de la gestión empresarial en la plataforma?<br>Closest Model: Información<br>Similarity: 0.88<br>Chunk: DATOS DEL DOCUMENTO  HISTÓRICO DE CAMBIOS  CONTENIDO  Sabentis es la nueva plataforma de gestión esp..."
          ],
          [
           "Question: ¿Se pueden llevar a cabo auditorías internas?<br>Closest Model: Emergencia<br>Similarity: 0.76<br>Chunk: Un simulacro es un ensayo o ejercicio de adiestramiento práctico del modo de actuar en caso  de emer..."
          ],
          [
           "Question: ¿Cuál es la tasa de adopción de esta plataforma en el mercado?<br>Closest Model: Estructura Organizativa<br>Similarity: 0.73<br>Chunk: CONTENIDO  Sabentis es la nueva plataforma de gestión especializada en el ámbito de Seguridad y Salu..."
          ],
          [
           "Question: ¿Cómo se compara esta plataforma con otras soluciones de gestión de SST?<br>Closest Model: Estructura Organizativa<br>Similarity: 0.82<br>Chunk: CONTENIDO  Sabentis es la nueva plataforma de gestión especializada en el ámbito de Seguridad y Salu..."
          ],
          [
           "Question: ¿Qué día hará mañana?<br>Closest Model: Estructura Organizativa<br>Similarity: 0.63<br>Chunk: Versión  Fecha  Comentarios  Autor  Versión 1.0  28/10/2021  Redacción  Mercedes León Chele  Versión..."
          ]
         ],
         "hovertemplate": "color=Question<br>t-SNE Component 1=%{x}<br>t-SNE Component 2=%{y}<br>t-SNE Component 3=%{z}<br>label=%{customdata[0]}<extra></extra>",
         "legendgroup": "Question",
         "marker": {
          "color": "#FF6692",
          "symbol": "circle"
         },
         "mode": "markers",
         "name": "Question",
         "scene": "scene",
         "showlegend": true,
         "type": "scatter3d",
         "x": [
          4.671451,
          16.22209,
          35.503887,
          2.68385,
          21.611656,
          -3.0715895,
          16.533901,
          -5.4509215,
          4.222287,
          32.85371
         ],
         "y": [
          18.570229,
          31.62737,
          10.670153,
          36.31573,
          21.502037,
          37.906155,
          19.57829,
          39.066704,
          43.794838,
          5.350252
         ],
         "z": [
          -1.5600524,
          -6.0116715,
          -17.378687,
          14.860493,
          -5.172427,
          0.08621244,
          -40.4042,
          -13.582949,
          -9.362949,
          27.262218
         ]
        },
        {
         "mode": "markers+text",
         "showlegend": false,
         "text": "Q1",
         "textposition": "top center",
         "type": "scatter3d",
         "x": [
          4.671451091766357
         ],
         "y": [
          18.570228576660156
         ],
         "z": [
          -1.5600523948669434
         ]
        },
        {
         "mode": "markers+text",
         "showlegend": false,
         "text": "Q2",
         "textposition": "top center",
         "type": "scatter3d",
         "x": [
          16.222089767456055
         ],
         "y": [
          31.627370834350586
         ],
         "z": [
          -6.011671543121338
         ]
        },
        {
         "mode": "markers+text",
         "showlegend": false,
         "text": "Q3",
         "textposition": "top center",
         "type": "scatter3d",
         "x": [
          35.50388717651367
         ],
         "y": [
          10.67015266418457
         ],
         "z": [
          -17.378686904907227
         ]
        },
        {
         "mode": "markers+text",
         "showlegend": false,
         "text": "Q4",
         "textposition": "top center",
         "type": "scatter3d",
         "x": [
          2.683850049972534
         ],
         "y": [
          36.315731048583984
         ],
         "z": [
          14.860492706298828
         ]
        },
        {
         "mode": "markers+text",
         "showlegend": false,
         "text": "Q5",
         "textposition": "top center",
         "type": "scatter3d",
         "x": [
          21.611656188964844
         ],
         "y": [
          21.502037048339844
         ],
         "z": [
          -5.172427177429199
         ]
        },
        {
         "mode": "markers+text",
         "showlegend": false,
         "text": "Q6",
         "textposition": "top center",
         "type": "scatter3d",
         "x": [
          -3.071589469909668
         ],
         "y": [
          37.90615463256836
         ],
         "z": [
          0.08621244132518768
         ]
        },
        {
         "mode": "markers+text",
         "showlegend": false,
         "text": "Q7",
         "textposition": "top center",
         "type": "scatter3d",
         "x": [
          16.53390121459961
         ],
         "y": [
          19.578290939331055
         ],
         "z": [
          -40.40420150756836
         ]
        },
        {
         "mode": "markers+text",
         "showlegend": false,
         "text": "Q8",
         "textposition": "top center",
         "type": "scatter3d",
         "x": [
          -5.450921535491943
         ],
         "y": [
          39.06670379638672
         ],
         "z": [
          -13.582948684692383
         ]
        },
        {
         "mode": "markers+text",
         "showlegend": false,
         "text": "Q9",
         "textposition": "top center",
         "type": "scatter3d",
         "x": [
          4.222287178039551
         ],
         "y": [
          43.794837951660156
         ],
         "z": [
          -9.36294937133789
         ]
        },
        {
         "mode": "markers+text",
         "showlegend": false,
         "text": "Q10",
         "textposition": "top center",
         "type": "scatter3d",
         "x": [
          32.85371017456055
         ],
         "y": [
          5.350252151489258
         ],
         "z": [
          27.262218475341797
         ]
        }
       ],
       "layout": {
        "legend": {
         "title": {
          "text": "color"
         },
         "tracegroupgap": 0
        },
        "scene": {
         "domain": {
          "x": [
           0,
           1
          ],
          "y": [
           0,
           1
          ]
         },
         "xaxis": {
          "title": {
           "text": "t-SNE Component 1"
          }
         },
         "yaxis": {
          "title": {
           "text": "t-SNE Component 2"
          }
         },
         "zaxis": {
          "title": {
           "text": "t-SNE Component 3"
          }
         }
        },
        "template": {
         "data": {
          "bar": [
           {
            "error_x": {
             "color": "#2a3f5f"
            },
            "error_y": {
             "color": "#2a3f5f"
            },
            "marker": {
             "line": {
              "color": "#E5ECF6",
              "width": 0.5
             },
             "pattern": {
              "fillmode": "overlay",
              "size": 10,
              "solidity": 0.2
             }
            },
            "type": "bar"
           }
          ],
          "barpolar": [
           {
            "marker": {
             "line": {
              "color": "#E5ECF6",
              "width": 0.5
             },
             "pattern": {
              "fillmode": "overlay",
              "size": 10,
              "solidity": 0.2
             }
            },
            "type": "barpolar"
           }
          ],
          "carpet": [
           {
            "aaxis": {
             "endlinecolor": "#2a3f5f",
             "gridcolor": "white",
             "linecolor": "white",
             "minorgridcolor": "white",
             "startlinecolor": "#2a3f5f"
            },
            "baxis": {
             "endlinecolor": "#2a3f5f",
             "gridcolor": "white",
             "linecolor": "white",
             "minorgridcolor": "white",
             "startlinecolor": "#2a3f5f"
            },
            "type": "carpet"
           }
          ],
          "choropleth": [
           {
            "colorbar": {
             "outlinewidth": 0,
             "ticks": ""
            },
            "type": "choropleth"
           }
          ],
          "contour": [
           {
            "colorbar": {
             "outlinewidth": 0,
             "ticks": ""
            },
            "colorscale": [
             [
              0,
              "#0d0887"
             ],
             [
              0.1111111111111111,
              "#46039f"
             ],
             [
              0.2222222222222222,
              "#7201a8"
             ],
             [
              0.3333333333333333,
              "#9c179e"
             ],
             [
              0.4444444444444444,
              "#bd3786"
             ],
             [
              0.5555555555555556,
              "#d8576b"
             ],
             [
              0.6666666666666666,
              "#ed7953"
             ],
             [
              0.7777777777777778,
              "#fb9f3a"
             ],
             [
              0.8888888888888888,
              "#fdca26"
             ],
             [
              1,
              "#f0f921"
             ]
            ],
            "type": "contour"
           }
          ],
          "contourcarpet": [
           {
            "colorbar": {
             "outlinewidth": 0,
             "ticks": ""
            },
            "type": "contourcarpet"
           }
          ],
          "heatmap": [
           {
            "colorbar": {
             "outlinewidth": 0,
             "ticks": ""
            },
            "colorscale": [
             [
              0,
              "#0d0887"
             ],
             [
              0.1111111111111111,
              "#46039f"
             ],
             [
              0.2222222222222222,
              "#7201a8"
             ],
             [
              0.3333333333333333,
              "#9c179e"
             ],
             [
              0.4444444444444444,
              "#bd3786"
             ],
             [
              0.5555555555555556,
              "#d8576b"
             ],
             [
              0.6666666666666666,
              "#ed7953"
             ],
             [
              0.7777777777777778,
              "#fb9f3a"
             ],
             [
              0.8888888888888888,
              "#fdca26"
             ],
             [
              1,
              "#f0f921"
             ]
            ],
            "type": "heatmap"
           }
          ],
          "heatmapgl": [
           {
            "colorbar": {
             "outlinewidth": 0,
             "ticks": ""
            },
            "colorscale": [
             [
              0,
              "#0d0887"
             ],
             [
              0.1111111111111111,
              "#46039f"
             ],
             [
              0.2222222222222222,
              "#7201a8"
             ],
             [
              0.3333333333333333,
              "#9c179e"
             ],
             [
              0.4444444444444444,
              "#bd3786"
             ],
             [
              0.5555555555555556,
              "#d8576b"
             ],
             [
              0.6666666666666666,
              "#ed7953"
             ],
             [
              0.7777777777777778,
              "#fb9f3a"
             ],
             [
              0.8888888888888888,
              "#fdca26"
             ],
             [
              1,
              "#f0f921"
             ]
            ],
            "type": "heatmapgl"
           }
          ],
          "histogram": [
           {
            "marker": {
             "pattern": {
              "fillmode": "overlay",
              "size": 10,
              "solidity": 0.2
             }
            },
            "type": "histogram"
           }
          ],
          "histogram2d": [
           {
            "colorbar": {
             "outlinewidth": 0,
             "ticks": ""
            },
            "colorscale": [
             [
              0,
              "#0d0887"
             ],
             [
              0.1111111111111111,
              "#46039f"
             ],
             [
              0.2222222222222222,
              "#7201a8"
             ],
             [
              0.3333333333333333,
              "#9c179e"
             ],
             [
              0.4444444444444444,
              "#bd3786"
             ],
             [
              0.5555555555555556,
              "#d8576b"
             ],
             [
              0.6666666666666666,
              "#ed7953"
             ],
             [
              0.7777777777777778,
              "#fb9f3a"
             ],
             [
              0.8888888888888888,
              "#fdca26"
             ],
             [
              1,
              "#f0f921"
             ]
            ],
            "type": "histogram2d"
           }
          ],
          "histogram2dcontour": [
           {
            "colorbar": {
             "outlinewidth": 0,
             "ticks": ""
            },
            "colorscale": [
             [
              0,
              "#0d0887"
             ],
             [
              0.1111111111111111,
              "#46039f"
             ],
             [
              0.2222222222222222,
              "#7201a8"
             ],
             [
              0.3333333333333333,
              "#9c179e"
             ],
             [
              0.4444444444444444,
              "#bd3786"
             ],
             [
              0.5555555555555556,
              "#d8576b"
             ],
             [
              0.6666666666666666,
              "#ed7953"
             ],
             [
              0.7777777777777778,
              "#fb9f3a"
             ],
             [
              0.8888888888888888,
              "#fdca26"
             ],
             [
              1,
              "#f0f921"
             ]
            ],
            "type": "histogram2dcontour"
           }
          ],
          "mesh3d": [
           {
            "colorbar": {
             "outlinewidth": 0,
             "ticks": ""
            },
            "type": "mesh3d"
           }
          ],
          "parcoords": [
           {
            "line": {
             "colorbar": {
              "outlinewidth": 0,
              "ticks": ""
             }
            },
            "type": "parcoords"
           }
          ],
          "pie": [
           {
            "automargin": true,
            "type": "pie"
           }
          ],
          "scatter": [
           {
            "fillpattern": {
             "fillmode": "overlay",
             "size": 10,
             "solidity": 0.2
            },
            "type": "scatter"
           }
          ],
          "scatter3d": [
           {
            "line": {
             "colorbar": {
              "outlinewidth": 0,
              "ticks": ""
             }
            },
            "marker": {
             "colorbar": {
              "outlinewidth": 0,
              "ticks": ""
             }
            },
            "type": "scatter3d"
           }
          ],
          "scattercarpet": [
           {
            "marker": {
             "colorbar": {
              "outlinewidth": 0,
              "ticks": ""
             }
            },
            "type": "scattercarpet"
           }
          ],
          "scattergeo": [
           {
            "marker": {
             "colorbar": {
              "outlinewidth": 0,
              "ticks": ""
             }
            },
            "type": "scattergeo"
           }
          ],
          "scattergl": [
           {
            "marker": {
             "colorbar": {
              "outlinewidth": 0,
              "ticks": ""
             }
            },
            "type": "scattergl"
           }
          ],
          "scattermapbox": [
           {
            "marker": {
             "colorbar": {
              "outlinewidth": 0,
              "ticks": ""
             }
            },
            "type": "scattermapbox"
           }
          ],
          "scatterpolar": [
           {
            "marker": {
             "colorbar": {
              "outlinewidth": 0,
              "ticks": ""
             }
            },
            "type": "scatterpolar"
           }
          ],
          "scatterpolargl": [
           {
            "marker": {
             "colorbar": {
              "outlinewidth": 0,
              "ticks": ""
             }
            },
            "type": "scatterpolargl"
           }
          ],
          "scatterternary": [
           {
            "marker": {
             "colorbar": {
              "outlinewidth": 0,
              "ticks": ""
             }
            },
            "type": "scatterternary"
           }
          ],
          "surface": [
           {
            "colorbar": {
             "outlinewidth": 0,
             "ticks": ""
            },
            "colorscale": [
             [
              0,
              "#0d0887"
             ],
             [
              0.1111111111111111,
              "#46039f"
             ],
             [
              0.2222222222222222,
              "#7201a8"
             ],
             [
              0.3333333333333333,
              "#9c179e"
             ],
             [
              0.4444444444444444,
              "#bd3786"
             ],
             [
              0.5555555555555556,
              "#d8576b"
             ],
             [
              0.6666666666666666,
              "#ed7953"
             ],
             [
              0.7777777777777778,
              "#fb9f3a"
             ],
             [
              0.8888888888888888,
              "#fdca26"
             ],
             [
              1,
              "#f0f921"
             ]
            ],
            "type": "surface"
           }
          ],
          "table": [
           {
            "cells": {
             "fill": {
              "color": "#EBF0F8"
             },
             "line": {
              "color": "white"
             }
            },
            "header": {
             "fill": {
              "color": "#C8D4E3"
             },
             "line": {
              "color": "white"
             }
            },
            "type": "table"
           }
          ]
         },
         "layout": {
          "annotationdefaults": {
           "arrowcolor": "#2a3f5f",
           "arrowhead": 0,
           "arrowwidth": 1
          },
          "autotypenumbers": "strict",
          "coloraxis": {
           "colorbar": {
            "outlinewidth": 0,
            "ticks": ""
           }
          },
          "colorscale": {
           "diverging": [
            [
             0,
             "#8e0152"
            ],
            [
             0.1,
             "#c51b7d"
            ],
            [
             0.2,
             "#de77ae"
            ],
            [
             0.3,
             "#f1b6da"
            ],
            [
             0.4,
             "#fde0ef"
            ],
            [
             0.5,
             "#f7f7f7"
            ],
            [
             0.6,
             "#e6f5d0"
            ],
            [
             0.7,
             "#b8e186"
            ],
            [
             0.8,
             "#7fbc41"
            ],
            [
             0.9,
             "#4d9221"
            ],
            [
             1,
             "#276419"
            ]
           ],
           "sequential": [
            [
             0,
             "#0d0887"
            ],
            [
             0.1111111111111111,
             "#46039f"
            ],
            [
             0.2222222222222222,
             "#7201a8"
            ],
            [
             0.3333333333333333,
             "#9c179e"
            ],
            [
             0.4444444444444444,
             "#bd3786"
            ],
            [
             0.5555555555555556,
             "#d8576b"
            ],
            [
             0.6666666666666666,
             "#ed7953"
            ],
            [
             0.7777777777777778,
             "#fb9f3a"
            ],
            [
             0.8888888888888888,
             "#fdca26"
            ],
            [
             1,
             "#f0f921"
            ]
           ],
           "sequentialminus": [
            [
             0,
             "#0d0887"
            ],
            [
             0.1111111111111111,
             "#46039f"
            ],
            [
             0.2222222222222222,
             "#7201a8"
            ],
            [
             0.3333333333333333,
             "#9c179e"
            ],
            [
             0.4444444444444444,
             "#bd3786"
            ],
            [
             0.5555555555555556,
             "#d8576b"
            ],
            [
             0.6666666666666666,
             "#ed7953"
            ],
            [
             0.7777777777777778,
             "#fb9f3a"
            ],
            [
             0.8888888888888888,
             "#fdca26"
            ],
            [
             1,
             "#f0f921"
            ]
           ]
          },
          "colorway": [
           "#636efa",
           "#EF553B",
           "#00cc96",
           "#ab63fa",
           "#FFA15A",
           "#19d3f3",
           "#FF6692",
           "#B6E880",
           "#FF97FF",
           "#FECB52"
          ],
          "font": {
           "color": "#2a3f5f"
          },
          "geo": {
           "bgcolor": "white",
           "lakecolor": "white",
           "landcolor": "#E5ECF6",
           "showlakes": true,
           "showland": true,
           "subunitcolor": "white"
          },
          "hoverlabel": {
           "align": "left"
          },
          "hovermode": "closest",
          "mapbox": {
           "style": "light"
          },
          "paper_bgcolor": "white",
          "plot_bgcolor": "#E5ECF6",
          "polar": {
           "angularaxis": {
            "gridcolor": "white",
            "linecolor": "white",
            "ticks": ""
           },
           "bgcolor": "#E5ECF6",
           "radialaxis": {
            "gridcolor": "white",
            "linecolor": "white",
            "ticks": ""
           }
          },
          "scene": {
           "xaxis": {
            "backgroundcolor": "#E5ECF6",
            "gridcolor": "white",
            "gridwidth": 2,
            "linecolor": "white",
            "showbackground": true,
            "ticks": "",
            "zerolinecolor": "white"
           },
           "yaxis": {
            "backgroundcolor": "#E5ECF6",
            "gridcolor": "white",
            "gridwidth": 2,
            "linecolor": "white",
            "showbackground": true,
            "ticks": "",
            "zerolinecolor": "white"
           },
           "zaxis": {
            "backgroundcolor": "#E5ECF6",
            "gridcolor": "white",
            "gridwidth": 2,
            "linecolor": "white",
            "showbackground": true,
            "ticks": "",
            "zerolinecolor": "white"
           }
          },
          "shapedefaults": {
           "line": {
            "color": "#2a3f5f"
           }
          },
          "ternary": {
           "aaxis": {
            "gridcolor": "white",
            "linecolor": "white",
            "ticks": ""
           },
           "baxis": {
            "gridcolor": "white",
            "linecolor": "white",
            "ticks": ""
           },
           "bgcolor": "#E5ECF6",
           "caxis": {
            "gridcolor": "white",
            "linecolor": "white",
            "ticks": ""
           }
          },
          "title": {
           "x": 0.05
          },
          "xaxis": {
           "automargin": true,
           "gridcolor": "white",
           "linecolor": "white",
           "ticks": "",
           "title": {
            "standoff": 15
           },
           "zerolinecolor": "white",
           "zerolinewidth": 2
          },
          "yaxis": {
           "automargin": true,
           "gridcolor": "white",
           "linecolor": "white",
           "ticks": "",
           "title": {
            "standoff": 15
           },
           "zerolinecolor": "white",
           "zerolinewidth": 2
          }
         }
        },
        "title": {
         "text": "Embeddings Visualization with 3D t-SNE"
        }
       }
      }
     },
     "metadata": {},
     "output_type": "display_data"
    }
   ],
   "source": [
    "# Collecting sentence embeddings for each model\n",
    "model_embeddings = []\n",
    "model_labels = []\n",
    "models_list = []\n",
    "\n",
    "for key, model in models.items():\n",
    "    for paragraph in model.original_paragraphs:\n",
    "        embedding = model._get_sentence_embedding_pretrained(paragraph)\n",
    "        model_embeddings.append(embedding)\n",
    "        model_labels.append(key)\n",
    "    models_list.append(key)\n",
    "\n",
    "# Collecting embeddings for questions and finding the closest model for each question\n",
    "question_embeddings = []\n",
    "question_closest_models = []\n",
    "question_similarities = []\n",
    "question_closest_paragraphs = []\n",
    "\n",
    "for question in questions:\n",
    "    query_embedding = model._get_sentence_embedding_pretrained(question)\n",
    "    question_embeddings.append(query_embedding)\n",
    "    \n",
    "    # Find the closest model\n",
    "    closest_model = None\n",
    "    highest_similarity = -1\n",
    "    closest_paragraph = \"\"\n",
    "    for model_name, model in models.items():\n",
    "        similarities = [\n",
    "            (model._cosine_similarity(query_embedding, model._get_sentence_embedding_pretrained(paragraph)), paragraph)\n",
    "            for paragraph in model.original_paragraphs\n",
    "        ]\n",
    "        max_similarity, best_paragraph = max(similarities, key=lambda x: x[0])\n",
    "        if max_similarity > highest_similarity:\n",
    "            highest_similarity = max_similarity\n",
    "            closest_model = model_name\n",
    "            closest_paragraph = best_paragraph\n",
    "    \n",
    "    question_closest_models.append(closest_model)\n",
    "    question_similarities.append(highest_similarity)\n",
    "    question_closest_paragraphs.append(closest_paragraph)\n",
    "\n",
    "# Printing questions and their related data based on similarity\n",
    "for question, closest_model, similarity in zip(questions, question_closest_models, question_similarities):\n",
    "    if similarity > 0.75:\n",
    "        print(f\"Question: {question}\")\n",
    "        print(f\"Closest Model: {closest_model}\")\n",
    "        print(f\"Similarity: {similarity:.2f}\")\n",
    "        print()\n",
    "    else:\n",
    "        print(f\"'{question}' does not have enough similarity\")\n",
    "\n",
    "# Combining model embeddings and question embeddings\n",
    "all_embeddings = np.array(model_embeddings + question_embeddings)\n",
    "labels = model_labels + [\"Question\"] * len(questions)\n",
    "hover_texts = model_labels + [\n",
    "    f\"Question: {question}<br>Closest Model: {closest_model}<br>Similarity: {similarity:.2f}<br>Chunk: {closest_paragraph[:100]}...\"\n",
    "    for question, closest_model, similarity, closest_paragraph in zip(questions, question_closest_models, question_similarities, question_closest_paragraphs)\n",
    "]\n",
    "\n",
    "# Reducing dimensionality using PCA for 2D and 3D plots\n",
    "pca_2d = PCA(n_components=2)\n",
    "pca_2d_result = pca_2d.fit_transform(all_embeddings)\n",
    "\n",
    "pca_3d = PCA(n_components=3)\n",
    "pca_3d_result = pca_3d.fit_transform(all_embeddings)\n",
    "\n",
    "# Reducing dimensionality using t-SNE for 2D and 3D plots\n",
    "tsne_2d = TSNE(n_components=2, random_state=42)\n",
    "tsne_2d_result = tsne_2d.fit_transform(all_embeddings)\n",
    "\n",
    "tsne_3d = TSNE(n_components=3, random_state=42)\n",
    "tsne_3d_result = tsne_3d.fit_transform(all_embeddings)\n",
    "\n",
    "# Plotting with 2D PCA\n",
    "fig_pca = px.scatter(\n",
    "    x=pca_2d_result[:, 0], \n",
    "    y=pca_2d_result[:, 1], \n",
    "    color=labels, \n",
    "    hover_data={'label': hover_texts},\n",
    "    labels={'x': '', 'y': ''},\n",
    "    title=\"Embeddings Visualization with 2D PCA\"\n",
    ")\n",
    "\n",
    "# Adding annotations for questions in 2D PCA plot\n",
    "for i, question in enumerate(questions):\n",
    "    fig_pca.add_annotation(\n",
    "        x=pca_2d_result[len(model_embeddings) + i, 0], \n",
    "        y=pca_2d_result[len(model_embeddings) + i, 1], \n",
    "        text=f\"Q{i+1}\", \n",
    "        showarrow=True,\n",
    "        arrowhead=2\n",
    "    )\n",
    "\n",
    "fig_pca.update_layout(legend_title_text='Documents')\n",
    "\n",
    "# Plotting with 2D t-SNE\n",
    "fig_tsne = px.scatter(\n",
    "    x=tsne_2d_result[:, 0], \n",
    "    y=tsne_2d_result[:, 1], \n",
    "    color=labels, \n",
    "    hover_data={'label': hover_texts},\n",
    "    labels={'x': '', 'y': ''},\n",
    "    title=\"Embeddings Visualization with 2D t-SNE\",\n",
    ")\n",
    "\n",
    "# Adding annotations for questions in 2D t-SNE plot\n",
    "for i, question in enumerate(questions):\n",
    "    fig_tsne.add_annotation(\n",
    "        x=tsne_2d_result[len(model_embeddings) + i, 0], \n",
    "        y=tsne_2d_result[len(model_embeddings) + i, 1], \n",
    "        text=f\"Q{i+1}\", \n",
    "        showarrow=True,\n",
    "        arrowhead=2\n",
    "    )\n",
    "\n",
    "# Plotting with 3D PCA\n",
    "fig_pca_3d = px.scatter_3d(\n",
    "    x=pca_3d_result[:, 0], \n",
    "    y=pca_3d_result[:, 1], \n",
    "    z=pca_3d_result[:, 2], \n",
    "    color=labels, \n",
    "    hover_data={'label': hover_texts},\n",
    "    labels={'x': 'PCA Component 1', 'y': 'PCA Component 2', 'z': 'PCA Component 3'},\n",
    "    title=\"Embeddings Visualization with 3D PCA\"\n",
    ")\n",
    "\n",
    "# Adding annotations for questions in 3D PCA plot\n",
    "for i, question in enumerate(questions):\n",
    "    fig_pca_3d.add_trace(go.Scatter3d(\n",
    "        x=[pca_3d_result[len(model_embeddings) + i, 0]],\n",
    "        y=[pca_3d_result[len(model_embeddings) + i, 1]],\n",
    "        z=[pca_3d_result[len(model_embeddings) + i, 2]],\n",
    "        text=f\"Q{i+1}\",\n",
    "        mode='markers+text',\n",
    "        textposition='top center',\n",
    "        showlegend=False\n",
    "    ))\n",
    "\n",
    "# Plotting with 3D t-SNE\n",
    "fig_tsne_3d = px.scatter_3d(\n",
    "    x=tsne_3d_result[:, 0], \n",
    "    y=tsne_3d_result[:, 1], \n",
    "    z=tsne_3d_result[:, 2], \n",
    "    color=labels, \n",
    "    hover_data={'label': hover_texts},\n",
    "    labels={'x': 't-SNE Component 1', 'y': 't-SNE Component 2', 'z': 't-SNE Component 3'},\n",
    "    title=\"Embeddings Visualization with 3D t-SNE\"\n",
    ")\n",
    "\n",
    "# Adding annotations for questions in 3D t-SNE plot\n",
    "for i, question in enumerate(questions):\n",
    "    fig_tsne_3d.add_trace(go.Scatter3d(\n",
    "        x=[tsne_3d_result[len(model_embeddings) + i, 0]],\n",
    "        y=[tsne_3d_result[len(model_embeddings) + i, 1]],\n",
    "        z=[tsne_3d_result[len(model_embeddings) + i, 2]],\n",
    "        text=f\"Q{i+1}\",\n",
    "        mode='markers+text',\n",
    "        textposition='top center',\n",
    "        showlegend=False\n",
    "    ))\n",
    "\n",
    "# Show plots\n",
    "fig_pca.show()\n",
    "fig_tsne.show()\n",
    "fig_pca_3d.show()\n",
    "fig_tsne_3d.show()\n"
   ]
  },
  {
   "cell_type": "markdown",
   "metadata": {},
   "source": [
    "# Conclusiones de la visualización:\n",
    "\n",
    "Ocurre el mismo problema que con el modelo anterior, los valores parecen estar en todos lados, no hay clusters bien definidos y eso se refleja en las respuestas obtenidas, que en su mayoria no tienen mucha relacion con la pregunta."
   ]
  },
  {
   "cell_type": "code",
   "execution_count": null,
   "metadata": {},
   "outputs": [],
   "source": []
  }
 ],
 "metadata": {
  "kernelspec": {
   "display_name": "tfm",
   "language": "python",
   "name": "python3"
  },
  "language_info": {
   "codemirror_mode": {
    "name": "ipython",
    "version": 3
   },
   "file_extension": ".py",
   "mimetype": "text/x-python",
   "name": "python",
   "nbconvert_exporter": "python",
   "pygments_lexer": "ipython3",
   "version": "3.9.18"
  }
 },
 "nbformat": 4,
 "nbformat_minor": 2
}

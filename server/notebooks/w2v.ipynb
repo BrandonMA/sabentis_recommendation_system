{
 "cells": [
  {
   "cell_type": "code",
   "execution_count": 3,
   "metadata": {},
   "outputs": [],
   "source": [
    "import numpy as np\n",
    "from gensim.models import Word2Vec\n",
    "import re\n",
    "from nltk.corpus import stopwords\n",
    "from nltk.tokenize import word_tokenize\n",
    "import unidecode\n",
    "import numpy as np\n",
    "from scipy import spatial\n",
    "import numpy as np\n",
    "import plotly.express as px\n",
    "from sklearn.decomposition import PCA\n",
    "from sklearn.manifold import TSNE\n",
    "import os\n",
    "from gensim.models import KeyedVectors\n",
    "import numpy as np\n",
    "import plotly.graph_objects as go\n",
    "\n",
    "# !MARK: - Constants\n",
    "\n",
    "file_paths = {\n",
    "    \"Auditorias\": \"../chunks/auditorias.txt\",\n",
    "    \"Ausentismo\": \"../chunks/ausentismo.txt\",\n",
    "    \"Estructura Organizativa\": \"../chunks/estructura organizativa.txt\",\n",
    "    \"Riesgos\": \"../chunks/riesgos.txt\",\n",
    "    \"Información\": \"../chunks/información.txt\",\n",
    "    \"Emergencia\": \"../chunks/emergencia.txt\"\n",
    "}\n",
    "\n",
    "questions = [\n",
    "    \"¿Cómo se diferencia la ubicación física de la operativa?\",  # Manual Estructura Organizativa pág. 60 y 73.\n",
    "    \"¿Qué información se incluye en el informe de la evaluación de riesgos que ofrece la plataforma y cuál es su utilidad para la gestión de riesgos en la empresa?\",  # Manual Identificación y Evaluación de Riesgos (IER); pág. 24 - 26.\n",
    "    \"¿Hay indicadores relativos al cumplimiento de normas?\",  # Manual Auditorías pág. 16 17 30 y 31.\n",
    "    \"¿Qué papel juega la estructura organizativa en la funcionalidad general de la plataforma y cómo interactúa con otros módulos?\",  # Manual Estructura Organizativa\n",
    "    \"¿Qué permite realizar la evaluación de riesgos?\",  # Manual Identificación y Evaluación de Riesgos (IER)\n",
    "    \"¿Qué tipo de documentos se pueden almacenar y compartir en el espacio denominado 'Documentos' y cuál es su importancia dentro del contexto de la gestión empresarial en la plataforma?\",  # Manual del Repositorio documental\n",
    "    \"¿Se pueden llevar a cabo auditorías internas?\",  # Manual Auditorías\n",
    "    \"¿Cuál es la tasa de adopción de esta plataforma en el mercado?\",\n",
    "    \"¿Cómo se compara esta plataforma con otras soluciones de gestión de SST?\",\n",
    "    \"¿Qué día hará mañana?\"\n",
    "]\n",
    "\n",
    "# !MARK: - Classes\n",
    "\n",
    "class TextUtils:\n",
    "    @staticmethod\n",
    "    def clean_and_tokenize(text, language):\n",
    "        text = unidecode.unidecode(text.lower())\n",
    "        stop_words = set(stopwords.words(language))\n",
    "        text = re.sub(r'[^a-zA-Z\\s]', '', text, re.I | re.A)\n",
    "        tokens = word_tokenize(text, language=language)\n",
    "        return [token for token in tokens if token not in stop_words]\n",
    "\n",
    "class Model:\n",
    "    def __init__(self, original_paragraphs, preprocessed_paragraphs, language='spanish'):\n",
    "        self.original_paragraphs = original_paragraphs\n",
    "        self.preprocessed_paragraphs = preprocessed_paragraphs\n",
    "        self.language = language\n",
    "\n",
    "    def predict(self, query, similarity_threshold):\n",
    "        raise NotImplementedError(\"Subclasses should implement this method\")\n",
    "    \n",
    "    @staticmethod\n",
    "    def _cosine_similarity(vec1, vec2):\n",
    "        if np.all(vec1 == 0) or np.all(vec2 == 0):\n",
    "            return -1\n",
    "        return 1 - spatial.distance.cosine(vec1, vec2)\n",
    "\n",
    "class Word2VecModel(Model):\n",
    "    def __init__(self, original_paragraphs, language='spanish'):\n",
    "        super().__init__(original_paragraphs, [], language)\n",
    "        self.embeddings_path = 'w2v_embeddings.npy'  # Path to save embeddings\n",
    "        self.model = self._train_model()\n",
    "\n",
    "    def _train_model(self):\n",
    "        sentences = [TextUtils.clean_and_tokenize(paragraph, self.language) for paragraph in self.original_paragraphs]\n",
    "        model = Word2Vec(sentences, vector_size=100, window=5, min_count=1, workers=4)\n",
    "        model.save(\"word2vec.model\")  # Save the entire model\n",
    "        return model\n",
    "\n",
    "    def _get_sentence_embedding(self, sentence):\n",
    "        words = TextUtils.clean_and_tokenize(sentence, self.language)\n",
    "        word_vectors = [self.model.wv[word] for word in words if word in self.model.wv]\n",
    "        if len(word_vectors) == 0:\n",
    "            return np.zeros(self.model.vector_size)\n",
    "        sentence_embedding = np.mean(word_vectors, axis=0)\n",
    "        np.save(self.embeddings_path, sentence_embedding)  # Save the sentence embedding\n",
    "        return sentence_embedding\n",
    "\n",
    "    def predict(self, query, similarity_threshold):\n",
    "        query_embedding = self._get_sentence_embedding(query)\n",
    "        similarities = [(self._cosine_similarity(query_embedding, self._get_sentence_embedding(' '.join(TextUtils.clean_and_tokenize(para, self.language)))), para) for para in self.original_paragraphs]\n",
    "        filtered_and_sorted = sorted([sim for sim in similarities if sim[0] > similarity_threshold], key=lambda x: x[0], reverse=True)\n",
    "        return filtered_and_sorted, query_embedding\n",
    "\n",
    "# !MARK: - File Contents\n",
    "\n",
    "file_contents = {}\n",
    "\n",
    "for key, path in file_paths.items():\n",
    "    with open(path, 'r') as file:\n",
    "        file_contents[key] = file.read().split('\\n\\n')\n",
    "\n",
    "\n",
    "# !MARK: - Model Initialization\n",
    "\n",
    "models = {}\n",
    "\n",
    "for key, path in file_paths.items():\n",
    "    with open(path, 'r') as file:\n",
    "        file_contents[key] = file.read().split('\\n\\n')\n",
    "    models[key] = Word2VecModel(file_contents[key])\n"
   ]
  },
  {
   "cell_type": "code",
   "execution_count": 4,
   "metadata": {},
   "outputs": [],
   "source": [
    "# Collecting sentence embeddings for each model\n",
    "model_embeddings = []\n",
    "model_labels = []\n",
    "models_list = []\n",
    "\n",
    "for key, model in models.items():\n",
    "    for paragraph in model.original_paragraphs:\n",
    "        embedding = model._get_sentence_embedding(paragraph)\n",
    "        model_embeddings.append(embedding)\n",
    "        model_labels.append(key)\n",
    "    models_list.append(key)\n",
    "\n",
    "# Collecting embeddings for questions and finding the closest model for each question\n",
    "question_embeddings = []\n",
    "question_closest_models = []\n",
    "question_similarities = []\n",
    "question_closest_paragraphs = []\n",
    "\n",
    "for question in questions:\n",
    "    query_embedding = model._get_sentence_embedding(question)\n",
    "    question_embeddings.append(query_embedding)\n",
    "    \n",
    "    # Find the closest model\n",
    "    closest_model = None\n",
    "    highest_similarity = -1\n",
    "    closest_paragraph = \"\"\n",
    "    for model_name, model in models.items():\n",
    "        similarities = [\n",
    "            (model._cosine_similarity(query_embedding, model._get_sentence_embedding(paragraph)), paragraph)\n",
    "            for paragraph in model.original_paragraphs\n",
    "        ]\n",
    "        max_similarity, best_paragraph = max(similarities, key=lambda x: x[0])\n",
    "        if max_similarity > highest_similarity:\n",
    "            highest_similarity = max_similarity\n",
    "            closest_model = model_name\n",
    "            closest_paragraph = best_paragraph\n",
    "    \n",
    "    question_closest_models.append(closest_model)\n",
    "    question_similarities.append(highest_similarity)\n",
    "    question_closest_paragraphs.append(closest_paragraph)\n",
    "\n",
    "# Printing questions and their related data based on similarity\n",
    "for question, closest_model, similarity in zip(questions, question_closest_models, question_similarities):\n",
    "    if similarity > 0.75:\n",
    "        print(f\"Question: {question}\")\n",
    "        print(f\"Closest Model: {closest_model}\")\n",
    "        print(f\"Similarity: {similarity:.2f}\")\n",
    "        print()\n",
    "    else:\n",
    "        print(f\"'{question}' does not have enough similarity\")\n",
    "\n",
    "# Combining model embeddings and question embeddings\n",
    "all_embeddings = np.array(model_embeddings + question_embeddings)\n",
    "labels = model_labels + [\"Question\"] * len(questions)\n",
    "hover_texts = model_labels + [\n",
    "    f\"Question: {question}<br>Closest Model: {closest_model}<br>Similarity: {similarity:.2f}<br>Chunk: {closest_paragraph[:100]}...\"\n",
    "    for question, closest_model, similarity, closest_paragraph in zip(questions, question_closest_models, question_similarities, question_closest_paragraphs)\n",
    "]\n",
    "\n",
    "# Reducing dimensionality using PCA for 2D and 3D plots\n",
    "pca_2d = PCA(n_components=2)\n",
    "pca_2d_result = pca_2d.fit_transform(all_embeddings)\n",
    "\n",
    "pca_3d = PCA(n_components=3)\n",
    "pca_3d_result = pca_3d.fit_transform(all_embeddings)\n",
    "\n",
    "# Reducing dimensionality using t-SNE for 2D and 3D plots\n",
    "tsne_2d = TSNE(n_components=2, random_state=42)\n",
    "tsne_2d_result = tsne_2d.fit_transform(all_embeddings)\n",
    "\n",
    "tsne_3d = TSNE(n_components=3, random_state=42)\n",
    "tsne_3d_result = tsne_3d.fit_transform(all_embeddings)\n",
    "\n",
    "# Plotting with 2D PCA\n",
    "fig_pca = px.scatter(\n",
    "    x=pca_2d_result[:, 0], \n",
    "    y=pca_2d_result[:, 1], \n",
    "    color=labels, \n",
    "    hover_data={'label': hover_texts},\n",
    "    labels={'x': 'PCA Component 1', 'y': 'PCA Component 2'},\n",
    "    title=\"Embeddings Visualization with 2D PCA\"\n",
    ")\n",
    "\n",
    "# Adding annotations for questions in 2D PCA plot\n",
    "for i, question in enumerate(questions):\n",
    "    fig_pca.add_annotation(\n",
    "        x=pca_2d_result[len(model_embeddings) + i, 0], \n",
    "        y=pca_2d_result[len(model_embeddings) + i, 1], \n",
    "        text=f\"Q{i+1}\", \n",
    "        showarrow=True,\n",
    "        arrowhead=2\n",
    "    )\n",
    "\n",
    "# Plotting with 2D t-SNE\n",
    "fig_tsne = px.scatter(\n",
    "    x=tsne_2d_result[:, 0], \n",
    "    y=tsne_2d_result[:, 1], \n",
    "    color=labels, \n",
    "    hover_data={'label': hover_texts},\n",
    "    labels={'x': 't-SNE Component 1', 'y': 't-SNE Component 2'},\n",
    "    title=\"Embeddings Visualization with 2D t-SNE\"\n",
    ")\n",
    "\n",
    "# Adding annotations for questions in 2D t-SNE plot\n",
    "for i, question in enumerate(questions):\n",
    "    fig_tsne.add_annotation(\n",
    "        x=tsne_2d_result[len(model_embeddings) + i, 0], \n",
    "        y=tsne_2d_result[len(model_embeddings) + i, 1], \n",
    "        text=f\"Q{i+1}\", \n",
    "        showarrow=True,\n",
    "        arrowhead=2\n",
    "    )\n",
    "\n",
    "# Plotting with 3D PCA\n",
    "fig_pca_3d = px.scatter_3d(\n",
    "    x=pca_3d_result[:, 0], \n",
    "    y=pca_3d_result[:, 1], \n",
    "    z=pca_3d_result[:, 2], \n",
    "    color=labels, \n",
    "    hover_data={'label': hover_texts},\n",
    "    labels={'x': 'PCA Component 1', 'y': 'PCA Component 2', 'z': 'PCA Component 3'},\n",
    "    title=\"Embeddings Visualization with 3D PCA\"\n",
    ")\n",
    "\n",
    "# Adding annotations for questions in 3D PCA plot\n",
    "for i, question in enumerate(questions):\n",
    "    fig_pca_3d.add_trace(go.Scatter3d(\n",
    "        x=[pca_3d_result[len(model_embeddings) + i, 0]],\n",
    "        y=[pca_3d_result[len(model_embeddings) + i, 1]],\n",
    "        z=[pca_3d_result[len(model_embeddings) + i, 2]],\n",
    "        text=f\"Q{i+1}\",\n",
    "        mode='markers+text',\n",
    "        textposition='top center',\n",
    "        showlegend=False\n",
    "    ))\n",
    "\n",
    "# Plotting with 3D t-SNE\n",
    "fig_tsne_3d = px.scatter_3d(\n",
    "    x=tsne_3d_result[:, 0], \n",
    "    y=tsne_3d_result[:, 1], \n",
    "    z=tsne_3d_result[:, 2], \n",
    "    color=labels, \n",
    "    hover_data={'label': hover_texts},\n",
    "    labels={'x': 't-SNE Component 1', 'y': 't-SNE Component 2', 'z': 't-SNE Component 3'},\n",
    "    title=\"Embeddings Visualization with 3D t-SNE\"\n",
    ")\n",
    "\n",
    "# Adding annotations for questions in 3D t-SNE plot\n",
    "for i, question in enumerate(questions):\n",
    "    fig_tsne_3d.add_trace(go.Scatter3d(\n",
    "        x=[tsne_3d_result[len(model_embeddings) + i, 0]],\n",
    "        y=[tsne_3d_result[len(model_embeddings) + i, 1]],\n",
    "        z=[tsne_3d_result[len(model_embeddings) + i, 2]],\n",
    "        text=f\"Q{i+1}\",\n",
    "        mode='markers+text',\n",
    "        textposition='top center',\n",
    "        showlegend=False\n",
    "    ))\n",
    "\n",
    "# Show plots\n",
    "fig_pca.show()\n",
    "fig_tsne.show()\n",
    "fig_pca_3d.show()\n",
    "fig_tsne_3d.show()\n"
   ]
  },
  {
   "cell_type": "markdown",
   "metadata": {},
   "source": [
    "# Conclusiones de la visualización:\n",
    "\n",
    "Las visualizaciones utilizando tanto PCA como t-SNE muestran que los clusters de las categorías están bastante cerca uno del otro. A pesar de que las preguntas parecen tener buenos valores de similitud, al analizar las respuestas obtenidas, observamos que no tienen mucho sentido en relación a las preguntas planteadas."
   ]
  },
  {
   "cell_type": "markdown",
   "metadata": {},
   "source": []
  },
  {
   "cell_type": "code",
   "execution_count": 40,
   "metadata": {},
   "outputs": [],
   "source": [
    "# !MARK: - Classes\n",
    "\n",
    "class PretrainedModel(Model):\n",
    "    def __init__(self, original_paragraphs, language='spanish', model_path='sbw_vectors.bin'):\n",
    "        super().__init__(original_paragraphs, [], language)\n",
    "        self.model = self._load_pretrained_model(model_path)\n",
    "\n",
    "    def _load_pretrained_model(self, model_path):\n",
    "        if os.path.exists(model_path):\n",
    "            return KeyedVectors.load_word2vec_format(model_path, binary=True)\n",
    "        else:\n",
    "            raise FileNotFoundError(f\"El modelo preentrenado no se encuentra en la ruta: {model_path}\")\n",
    "\n",
    "    def predict(self, query, similarity_threshold):\n",
    "        query_embedding = self._get_sentence_embedding_pretrained(query)\n",
    "        similarities = [(self._cosine_similarity(query_embedding, self._get_sentence_embedding_pretrained(' '.join(TextUtils.clean_and_tokenize(para, self.language)))), para) for para in self.original_paragraphs]\n",
    "        filtered_and_sorted = sorted([sim for sim in similarities if sim[0] > similarity_threshold], key=lambda x: x[0], reverse=True)\n",
    "        return filtered_and_sorted\n",
    "\n",
    "    def _get_sentence_embedding_pretrained(self, sentence):\n",
    "        words = TextUtils.clean_and_tokenize(sentence, self.language)\n",
    "        word_vectors = [self.model[word] for word in words if word in self.model]\n",
    "        if len(word_vectors) == 0:\n",
    "            return np.zeros(self.model.vector_size)\n",
    "        return np.mean(word_vectors, axis=0)\n",
    "\n",
    "# !MARK: - Model Initialization\n",
    "\n",
    "models = {}\n",
    "\n",
    "for key, path in file_paths.items():\n",
    "    with open(path, 'r') as file:\n",
    "        file_contents[key] = file.read().split('\\n\\n')\n",
    "    models[key] = PretrainedModel(file_contents[key])"
   ]
  },
  {
   "cell_type": "code",
   "execution_count": 45,
   "metadata": {},
   "outputs": [
    {
     "name": "stdout",
     "output_type": "stream",
     "text": [
      "'¿Cómo se diferencia la ubicación física de la operativa?' does not have enough similarity\n",
      "Question: ¿Qué información se incluye en el informe de la evaluación de riesgos que ofrece la plataforma y cuál es su utilidad para la gestión de riesgos en la empresa?\n",
      "Closest Model: Riesgos\n",
      "Similarity: 0.88\n",
      "\n",
      "'¿Hay indicadores relativos al cumplimiento de normas?' does not have enough similarity\n",
      "Question: ¿Qué papel juega la estructura organizativa en la funcionalidad general de la plataforma y cómo interactúa con otros módulos?\n",
      "Closest Model: Estructura Organizativa\n",
      "Similarity: 0.86\n",
      "\n",
      "Question: ¿Qué permite realizar la evaluación de riesgos?\n",
      "Closest Model: Riesgos\n",
      "Similarity: 0.86\n",
      "\n",
      "Question: ¿Qué tipo de documentos se pueden almacenar y compartir en el espacio denominado 'Documentos' y cuál es su importancia dentro del contexto de la gestión empresarial en la plataforma?\n",
      "Closest Model: Información\n",
      "Similarity: 0.87\n",
      "\n",
      "Question: ¿Se pueden llevar a cabo auditorías internas?\n",
      "Closest Model: Emergencia\n",
      "Similarity: 0.77\n",
      "\n",
      "'¿Cuál es la tasa de adopción de esta plataforma en el mercado?' does not have enough similarity\n",
      "Question: ¿Cómo se compara esta plataforma con otras soluciones de gestión de SST?\n",
      "Closest Model: Estructura Organizativa\n",
      "Similarity: 0.84\n",
      "\n",
      "'¿Qué día hará mañana?' does not have enough similarity\n"
     ]
    },
    {
     "data": {
      "application/vnd.plotly.v1+json": {
       "config": {
        "plotlyServerURL": "https://plot.ly"
       },
       "data": [
        {
         "customdata": [
          [
           "Auditorias"
          ],
          [
           "Auditorias"
          ],
          [
           "Auditorias"
          ],
          [
           "Auditorias"
          ],
          [
           "Auditorias"
          ],
          [
           "Auditorias"
          ],
          [
           "Auditorias"
          ],
          [
           "Auditorias"
          ],
          [
           "Auditorias"
          ],
          [
           "Auditorias"
          ],
          [
           "Auditorias"
          ],
          [
           "Auditorias"
          ],
          [
           "Auditorias"
          ],
          [
           "Auditorias"
          ],
          [
           "Auditorias"
          ],
          [
           "Auditorias"
          ],
          [
           "Auditorias"
          ],
          [
           "Auditorias"
          ],
          [
           "Auditorias"
          ],
          [
           "Auditorias"
          ],
          [
           "Auditorias"
          ],
          [
           "Auditorias"
          ],
          [
           "Auditorias"
          ],
          [
           "Auditorias"
          ],
          [
           "Auditorias"
          ],
          [
           "Auditorias"
          ],
          [
           "Auditorias"
          ],
          [
           "Auditorias"
          ],
          [
           "Auditorias"
          ],
          [
           "Auditorias"
          ]
         ],
         "hovertemplate": "color=Auditorias<br>PCA Component 1=%{x}<br>PCA Component 2=%{y}<br>label=%{customdata[0]}<extra></extra>",
         "legendgroup": "Auditorias",
         "marker": {
          "color": "#636efa",
          "symbol": "circle"
         },
         "mode": "markers",
         "name": "Auditorias",
         "orientation": "v",
         "showlegend": true,
         "type": "scatter",
         "x": [
          -0.052444547,
          -0.19224973,
          -0.20323475,
          0.14081632,
          -0.3414985,
          -0.11217057,
          -0.27851325,
          -0.19050492,
          -0.18058899,
          -0.14303105,
          -0.30506963,
          -0.13422564,
          -0.11913497,
          -0.1644733,
          -0.3415015,
          -0.10612544,
          -0.23256557,
          -0.49486986,
          -0.311664,
          -1.0506867,
          -0.19571103,
          -0.27680627,
          -0.19571103,
          -0.018846055,
          -0.098226294,
          -0.11145629,
          -0.43599603,
          -0.37528962,
          0.04965692,
          -0.28757188
         ],
         "xaxis": "x",
         "y": [
          -0.18464488,
          -0.1936503,
          -0.10349806,
          -0.071725555,
          -0.8380425,
          -0.10365521,
          -0.0053624804,
          -0.11549992,
          -0.061742187,
          -0.11230143,
          0.034488805,
          0.09634092,
          -0.09435962,
          -0.19904512,
          -0.8380411,
          -0.066238165,
          -0.108752415,
          -0.11855685,
          -0.037372693,
          0.109982826,
          0.16845733,
          -0.33926392,
          0.16845733,
          -0.48901266,
          -0.26611218,
          -0.22896218,
          -0.018517403,
          -0.017599633,
          -0.011176321,
          -0.13041224
         ],
         "yaxis": "y"
        },
        {
         "customdata": [
          [
           "Ausentismo"
          ],
          [
           "Ausentismo"
          ],
          [
           "Ausentismo"
          ],
          [
           "Ausentismo"
          ],
          [
           "Ausentismo"
          ],
          [
           "Ausentismo"
          ],
          [
           "Ausentismo"
          ],
          [
           "Ausentismo"
          ],
          [
           "Ausentismo"
          ],
          [
           "Ausentismo"
          ],
          [
           "Ausentismo"
          ],
          [
           "Ausentismo"
          ],
          [
           "Ausentismo"
          ],
          [
           "Ausentismo"
          ],
          [
           "Ausentismo"
          ],
          [
           "Ausentismo"
          ],
          [
           "Ausentismo"
          ],
          [
           "Ausentismo"
          ],
          [
           "Ausentismo"
          ],
          [
           "Ausentismo"
          ],
          [
           "Ausentismo"
          ],
          [
           "Ausentismo"
          ],
          [
           "Ausentismo"
          ],
          [
           "Ausentismo"
          ],
          [
           "Ausentismo"
          ],
          [
           "Ausentismo"
          ],
          [
           "Ausentismo"
          ],
          [
           "Ausentismo"
          ],
          [
           "Ausentismo"
          ],
          [
           "Ausentismo"
          ],
          [
           "Ausentismo"
          ],
          [
           "Ausentismo"
          ],
          [
           "Ausentismo"
          ],
          [
           "Ausentismo"
          ],
          [
           "Ausentismo"
          ],
          [
           "Ausentismo"
          ],
          [
           "Ausentismo"
          ],
          [
           "Ausentismo"
          ],
          [
           "Ausentismo"
          ],
          [
           "Ausentismo"
          ],
          [
           "Ausentismo"
          ],
          [
           "Ausentismo"
          ],
          [
           "Ausentismo"
          ],
          [
           "Ausentismo"
          ],
          [
           "Ausentismo"
          ]
         ],
         "hovertemplate": "color=Ausentismo<br>PCA Component 1=%{x}<br>PCA Component 2=%{y}<br>label=%{customdata[0]}<extra></extra>",
         "legendgroup": "Ausentismo",
         "marker": {
          "color": "#EF553B",
          "symbol": "circle"
         },
         "mode": "markers",
         "name": "Ausentismo",
         "orientation": "v",
         "showlegend": true,
         "type": "scatter",
         "x": [
          0.11391813,
          -0.77049893,
          0.30307797,
          -0.15322931,
          0.24392892,
          0.11864338,
          -0.07942969,
          -0.107331045,
          0.91220254,
          -0.016753977,
          0.18766929,
          0.09947412,
          -0.3415015,
          -0.17004596,
          -0.15371688,
          0.035382103,
          -0.2432897,
          0.111882634,
          0.005005762,
          0.33527222,
          3.3076708,
          0.20596375,
          0.08666726,
          0.543258,
          -0.040244825,
          -0.3415015,
          -0.07153869,
          -1.0506867,
          -0.10088426,
          0.024993727,
          -0.04428449,
          3.3076708,
          -0.1315029,
          -0.10933212,
          -0.2654692,
          0.7647131,
          0.6848787,
          0.6352019,
          0.7647131,
          0.6848787,
          1.2356491,
          1.1219277,
          1.0364842,
          0.9309276,
          3.3076708
         ],
         "xaxis": "x",
         "y": [
          1.7070984,
          0.48910972,
          -0.27889532,
          -0.20321389,
          -0.21140946,
          -0.1580076,
          -0.0641767,
          -0.04430154,
          0.0731306,
          -0.10399449,
          -0.14024569,
          -0.2565449,
          -0.8380412,
          -0.1410534,
          -0.07467353,
          -0.32629696,
          0.03686612,
          1.2731371,
          0.47461495,
          0.43287846,
          0.057251077,
          0.060783383,
          0.060919,
          1.223661,
          0.149825,
          -0.8380412,
          -0.15726328,
          0.109982826,
          0.034243822,
          0.09985977,
          0.015803145,
          0.057251077,
          0.026723748,
          -0.005083024,
          -0.0048158383,
          -0.35860124,
          -0.6032675,
          -0.20592019,
          -0.35860124,
          -0.6032675,
          -0.3399901,
          -0.38981134,
          -0.3516866,
          -0.39911282,
          0.057251077
         ],
         "yaxis": "y"
        },
        {
         "customdata": [
          [
           "Estructura Organizativa"
          ],
          [
           "Estructura Organizativa"
          ],
          [
           "Estructura Organizativa"
          ],
          [
           "Estructura Organizativa"
          ],
          [
           "Estructura Organizativa"
          ],
          [
           "Estructura Organizativa"
          ],
          [
           "Estructura Organizativa"
          ],
          [
           "Estructura Organizativa"
          ],
          [
           "Estructura Organizativa"
          ],
          [
           "Estructura Organizativa"
          ],
          [
           "Estructura Organizativa"
          ],
          [
           "Estructura Organizativa"
          ],
          [
           "Estructura Organizativa"
          ],
          [
           "Estructura Organizativa"
          ],
          [
           "Estructura Organizativa"
          ],
          [
           "Estructura Organizativa"
          ],
          [
           "Estructura Organizativa"
          ],
          [
           "Estructura Organizativa"
          ],
          [
           "Estructura Organizativa"
          ],
          [
           "Estructura Organizativa"
          ],
          [
           "Estructura Organizativa"
          ],
          [
           "Estructura Organizativa"
          ],
          [
           "Estructura Organizativa"
          ],
          [
           "Estructura Organizativa"
          ],
          [
           "Estructura Organizativa"
          ],
          [
           "Estructura Organizativa"
          ],
          [
           "Estructura Organizativa"
          ],
          [
           "Estructura Organizativa"
          ],
          [
           "Estructura Organizativa"
          ],
          [
           "Estructura Organizativa"
          ],
          [
           "Estructura Organizativa"
          ],
          [
           "Estructura Organizativa"
          ],
          [
           "Estructura Organizativa"
          ],
          [
           "Estructura Organizativa"
          ],
          [
           "Estructura Organizativa"
          ],
          [
           "Estructura Organizativa"
          ],
          [
           "Estructura Organizativa"
          ],
          [
           "Estructura Organizativa"
          ],
          [
           "Estructura Organizativa"
          ],
          [
           "Estructura Organizativa"
          ],
          [
           "Estructura Organizativa"
          ],
          [
           "Estructura Organizativa"
          ],
          [
           "Estructura Organizativa"
          ],
          [
           "Estructura Organizativa"
          ],
          [
           "Estructura Organizativa"
          ],
          [
           "Estructura Organizativa"
          ],
          [
           "Estructura Organizativa"
          ],
          [
           "Estructura Organizativa"
          ],
          [
           "Estructura Organizativa"
          ],
          [
           "Estructura Organizativa"
          ],
          [
           "Estructura Organizativa"
          ],
          [
           "Estructura Organizativa"
          ],
          [
           "Estructura Organizativa"
          ],
          [
           "Estructura Organizativa"
          ],
          [
           "Estructura Organizativa"
          ],
          [
           "Estructura Organizativa"
          ],
          [
           "Estructura Organizativa"
          ],
          [
           "Estructura Organizativa"
          ],
          [
           "Estructura Organizativa"
          ],
          [
           "Estructura Organizativa"
          ],
          [
           "Estructura Organizativa"
          ],
          [
           "Estructura Organizativa"
          ],
          [
           "Estructura Organizativa"
          ],
          [
           "Estructura Organizativa"
          ],
          [
           "Estructura Organizativa"
          ],
          [
           "Estructura Organizativa"
          ],
          [
           "Estructura Organizativa"
          ],
          [
           "Estructura Organizativa"
          ],
          [
           "Estructura Organizativa"
          ],
          [
           "Estructura Organizativa"
          ],
          [
           "Estructura Organizativa"
          ],
          [
           "Estructura Organizativa"
          ],
          [
           "Estructura Organizativa"
          ],
          [
           "Estructura Organizativa"
          ],
          [
           "Estructura Organizativa"
          ],
          [
           "Estructura Organizativa"
          ],
          [
           "Estructura Organizativa"
          ]
         ],
         "hovertemplate": "color=Estructura Organizativa<br>PCA Component 1=%{x}<br>PCA Component 2=%{y}<br>label=%{customdata[0]}<extra></extra>",
         "legendgroup": "Estructura Organizativa",
         "marker": {
          "color": "#00cc96",
          "symbol": "circle"
         },
         "mode": "markers",
         "name": "Estructura Organizativa",
         "orientation": "v",
         "showlegend": true,
         "type": "scatter",
         "x": [
          0.11391813,
          -0.46746275,
          -0.77049893,
          -0.15851791,
          0.03343723,
          -0.31814626,
          0.04496727,
          -0.22411902,
          -0.2417126,
          -0.22280122,
          -0.092232294,
          -0.1469905,
          1.2506812,
          -0.19068296,
          -0.22612828,
          -0.29769936,
          -0.14386886,
          -0.12974142,
          -0.39001742,
          0.10771977,
          0.015757577,
          -0.16880105,
          -0.1588488,
          -0.09595531,
          -0.3011027,
          0.03813255,
          0.40829584,
          -0.118614405,
          -0.16962762,
          -0.13718817,
          -0.07269733,
          -0.15398625,
          -0.15995488,
          0.18001562,
          0.881389,
          0.38305452,
          0.27876043,
          0.41756606,
          0.4739668,
          -0.18932612,
          0.32302585,
          0.062497783,
          -0.05049682,
          0.08124538,
          -0.077270485,
          -0.18616624,
          -0.24426407,
          -0.027652636,
          0.881389,
          0.12934774,
          -0.06899338,
          -0.07236619,
          -0.06756446,
          0.21878059,
          -0.17843217,
          -0.2627128,
          -0.18291211,
          -0.27501407,
          -0.21209033,
          -0.23542854,
          -0.08943434,
          -0.23328154,
          -0.19131525,
          0.10771977,
          -0.055205993,
          0.31207943,
          -0.16092432,
          -0.28371274,
          -0.26332805,
          -0.3104845,
          -0.29057014,
          0.10771977,
          -0.24105674,
          -0.16050096,
          -0.1490248,
          -0.15108559,
          -0.02529071
         ],
         "xaxis": "x",
         "y": [
          1.7070984,
          -0.17546897,
          0.48910972,
          -0.30453438,
          -0.25606984,
          -0.20619832,
          -0.09419316,
          -0.08339311,
          0.13920192,
          -0.082304865,
          -0.07545526,
          -0.119968444,
          -0.5339791,
          -0.014422734,
          -0.011897069,
          -0.15661646,
          0.12838669,
          -0.07377898,
          -0.028747309,
          2.5283425,
          0.26569623,
          -0.16440062,
          -0.02778672,
          0.049557168,
          -0.006298306,
          -0.029864235,
          -0.11860189,
          -0.008031661,
          0.101788566,
          -0.16167793,
          -0.07733404,
          0.049007133,
          -0.019894017,
          -0.2643731,
          -0.10696883,
          -0.060611308,
          -0.23756407,
          -0.24040098,
          -0.17104094,
          -0.17200257,
          0.07541424,
          0.12382799,
          0.15286532,
          1.7329237,
          0.38044518,
          -0.1019787,
          -0.10127418,
          -0.0575736,
          -0.10696883,
          -0.13714436,
          0.1328325,
          -0.003992256,
          -0.026316358,
          -0.3933334,
          -0.12067048,
          -0.034635082,
          0.060690686,
          -0.07377921,
          -0.12318835,
          0.07443765,
          0.23689863,
          -0.017824536,
          0.059195943,
          2.5283425,
          0.26458457,
          -0.321915,
          -0.08386313,
          0.027388653,
          0.07485418,
          0.04237314,
          0.16075262,
          2.5283425,
          0.09509868,
          -0.019618472,
          -0.14490396,
          -0.04747051,
          0.31807727
         ],
         "yaxis": "y"
        },
        {
         "customdata": [
          [
           "Riesgos"
          ],
          [
           "Riesgos"
          ],
          [
           "Riesgos"
          ],
          [
           "Riesgos"
          ],
          [
           "Riesgos"
          ],
          [
           "Riesgos"
          ],
          [
           "Riesgos"
          ],
          [
           "Riesgos"
          ],
          [
           "Riesgos"
          ],
          [
           "Riesgos"
          ],
          [
           "Riesgos"
          ],
          [
           "Riesgos"
          ],
          [
           "Riesgos"
          ],
          [
           "Riesgos"
          ],
          [
           "Riesgos"
          ],
          [
           "Riesgos"
          ],
          [
           "Riesgos"
          ],
          [
           "Riesgos"
          ],
          [
           "Riesgos"
          ],
          [
           "Riesgos"
          ],
          [
           "Riesgos"
          ]
         ],
         "hovertemplate": "color=Riesgos<br>PCA Component 1=%{x}<br>PCA Component 2=%{y}<br>label=%{customdata[0]}<extra></extra>",
         "legendgroup": "Riesgos",
         "marker": {
          "color": "#ab63fa",
          "symbol": "circle"
         },
         "mode": "markers",
         "name": "Riesgos",
         "orientation": "v",
         "showlegend": true,
         "type": "scatter",
         "x": [
          0.11391813,
          -0.27675712,
          -0.32628337,
          -0.6625945,
          0.00880332,
          -0.08863448,
          -0.39161196,
          -0.2848283,
          0.30248177,
          -0.18810442,
          0.43764156,
          0.12893514,
          -0.010646589,
          -0.025649004,
          -0.17836842,
          -0.41625795,
          -0.108374484,
          0.91790324,
          -0.059377797,
          -0.2284944,
          0.041695356
         ],
         "xaxis": "x",
         "y": [
          1.7070984,
          -0.3495345,
          -0.024675068,
          -0.25812298,
          -0.29507992,
          -0.17155641,
          -0.1042942,
          -0.099414304,
          -0.07257472,
          -0.20023976,
          -0.42637208,
          -0.15275136,
          -0.19569124,
          0.09677537,
          -0.18160227,
          -0.14918408,
          -0.20704919,
          -0.39993325,
          -0.005856056,
          -0.09569358,
          -0.21203366
         ],
         "yaxis": "y"
        },
        {
         "customdata": [
          [
           "Información"
          ],
          [
           "Información"
          ],
          [
           "Información"
          ],
          [
           "Información"
          ],
          [
           "Información"
          ],
          [
           "Información"
          ],
          [
           "Información"
          ],
          [
           "Información"
          ],
          [
           "Información"
          ]
         ],
         "hovertemplate": "color=Información<br>PCA Component 1=%{x}<br>PCA Component 2=%{y}<br>label=%{customdata[0]}<extra></extra>",
         "legendgroup": "Información",
         "marker": {
          "color": "#FFA15A",
          "symbol": "circle"
         },
         "mode": "markers",
         "name": "Información",
         "orientation": "v",
         "showlegend": true,
         "type": "scatter",
         "x": [
          0.11391813,
          -0.27675712,
          -0.77049893,
          -0.2263785,
          -0.53980744,
          -0.5079578,
          -0.6002361,
          -0.14787121,
          -0.20920548
         ],
         "xaxis": "x",
         "y": [
          1.7070984,
          -0.3495345,
          0.48910972,
          -0.15514271,
          0.29606834,
          -0.04766224,
          0.03633993,
          0.07027786,
          0.09504804
         ],
         "yaxis": "y"
        },
        {
         "customdata": [
          [
           "Emergencia"
          ],
          [
           "Emergencia"
          ],
          [
           "Emergencia"
          ],
          [
           "Emergencia"
          ],
          [
           "Emergencia"
          ],
          [
           "Emergencia"
          ],
          [
           "Emergencia"
          ],
          [
           "Emergencia"
          ],
          [
           "Emergencia"
          ],
          [
           "Emergencia"
          ],
          [
           "Emergencia"
          ]
         ],
         "hovertemplate": "color=Emergencia<br>PCA Component 1=%{x}<br>PCA Component 2=%{y}<br>label=%{customdata[0]}<extra></extra>",
         "legendgroup": "Emergencia",
         "marker": {
          "color": "#19d3f3",
          "symbol": "circle"
         },
         "mode": "markers",
         "name": "Emergencia",
         "orientation": "v",
         "showlegend": true,
         "type": "scatter",
         "x": [
          -0.1175729,
          0.21662943,
          0.08598771,
          -0.24990548,
          0.057762977,
          -0.03590703,
          -0.15883245,
          -0.11374739,
          -0.113210686,
          -0.2651644,
          -0.2330233
         ],
         "xaxis": "x",
         "y": [
          -0.26769498,
          -0.20095116,
          -0.25214738,
          -0.19048105,
          -0.08375739,
          -0.12593196,
          -0.16159706,
          -0.12742378,
          -0.11997992,
          0.026056051,
          -0.022335717
         ],
         "yaxis": "y"
        },
        {
         "customdata": [
          [
           "Question: ¿Cómo se diferencia la ubicación física de la operativa?<br>Closest Model: Riesgos<br>Similarity: 0.70<br>Chunk: DOCUMENTOS\nEl usuario accede a la pestaña Documentos y visualiza el listado de informes generados ta..."
          ],
          [
           "Question: ¿Qué información se incluye en el informe de la evaluación de riesgos que ofrece la plataforma y cuál es su utilidad para la gestión de riesgos en la empresa?<br>Closest Model: Riesgos<br>Similarity: 0.88<br>Chunk: CONTENIDO\nSabentis es la nueva plataforma de gestión especializada en el ámbito de seguridad y salud..."
          ],
          [
           "Question: ¿Hay indicadores relativos al cumplimiento de normas?<br>Closest Model: Auditorias<br>Similarity: 0.71<br>Chunk: Versión  Fecha  Comentarios  Autor  1.0  29/09/2022  Redacción  Núria Zaragoza\nSabentis es la nueva ..."
          ],
          [
           "Question: ¿Qué papel juega la estructura organizativa en la funcionalidad general de la plataforma y cómo interactúa con otros módulos?<br>Closest Model: Estructura Organizativa<br>Similarity: 0.86<br>Chunk: El usuario puede acceder al módulo Estructura Organizativa (EO), desde las opciones:  •  La entrada ..."
          ],
          [
           "Question: ¿Qué permite realizar la evaluación de riesgos?<br>Closest Model: Riesgos<br>Similarity: 0.86<br>Chunk: CONTENIDO\nSabentis es la nueva plataforma de gestión especializada en el ámbito de seguridad y salud..."
          ],
          [
           "Question: ¿Qué tipo de documentos se pueden almacenar y compartir en el espacio denominado 'Documentos' y cuál es su importancia dentro del contexto de la gestión empresarial en la plataforma?<br>Closest Model: Información<br>Similarity: 0.87<br>Chunk: 3. REPOSITORIO DOCUMENTAL DE LA EMPRESA\nEl usuario accede al cardboard “Repositorio documental” y vi..."
          ],
          [
           "Question: ¿Se pueden llevar a cabo auditorías internas?<br>Closest Model: Emergencia<br>Similarity: 0.77<br>Chunk: La pestaña evaluación de aspectos legales permite al usuario evaluar los cuestionarios  aplicables a..."
          ],
          [
           "Question: ¿Cuál es la tasa de adopción de esta plataforma en el mercado?<br>Closest Model: Información<br>Similarity: 0.72<br>Chunk: Sabentis es la nueva plataforma de gestión especializada en el ámbito de Seguridad y Salud en  el Tr..."
          ],
          [
           "Question: ¿Cómo se compara esta plataforma con otras soluciones de gestión de SST?<br>Closest Model: Estructura Organizativa<br>Similarity: 0.84<br>Chunk: Sabentis es la nueva plataforma de gestión especializada en el ámbito de Seguridad y Salud  en el Tr..."
          ],
          [
           "Question: ¿Qué día hará mañana?<br>Closest Model: Estructura Organizativa<br>Similarity: 0.63<br>Chunk: Documento  Manual de uso: Estructura organizativa (GE).  Descripción  Manual guía de usuario del mód..."
          ]
         ],
         "hovertemplate": "color=Question<br>PCA Component 1=%{x}<br>PCA Component 2=%{y}<br>label=%{customdata[0]}<extra></extra>",
         "legendgroup": "Question",
         "marker": {
          "color": "#FF6692",
          "symbol": "circle"
         },
         "mode": "markers",
         "name": "Question",
         "orientation": "v",
         "showlegend": true,
         "type": "scatter",
         "x": [
          -0.28758565,
          -0.16001411,
          0.5239876,
          -0.29693615,
          0.0855951,
          -0.18165609,
          0.3050268,
          -0.034642026,
          -0.44171375,
          -0.6426304
         ],
         "xaxis": "x",
         "y": [
          -0.6211244,
          -0.16184439,
          0.2856797,
          -0.17688219,
          -0.2567163,
          0.22497363,
          -0.13201836,
          -0.26298404,
          -0.33773002,
          -0.7143853
         ],
         "yaxis": "y"
        }
       ],
       "layout": {
        "annotations": [
         {
          "arrowhead": 2,
          "showarrow": true,
          "text": "Q1",
          "x": -0.28758564591407776,
          "y": -0.6211243867874146
         },
         {
          "arrowhead": 2,
          "showarrow": true,
          "text": "Q2",
          "x": -0.1600141078233719,
          "y": -0.1618443876504898
         },
         {
          "arrowhead": 2,
          "showarrow": true,
          "text": "Q3",
          "x": 0.5239875912666321,
          "y": 0.2856796979904175
         },
         {
          "arrowhead": 2,
          "showarrow": true,
          "text": "Q4",
          "x": -0.29693615436553955,
          "y": -0.17688219249248505
         },
         {
          "arrowhead": 2,
          "showarrow": true,
          "text": "Q5",
          "x": 0.08559510111808777,
          "y": -0.2567163109779358
         },
         {
          "arrowhead": 2,
          "showarrow": true,
          "text": "Q6",
          "x": -0.1816560924053192,
          "y": 0.2249736338853836
         },
         {
          "arrowhead": 2,
          "showarrow": true,
          "text": "Q7",
          "x": 0.3050267994403839,
          "y": -0.13201835751533508
         },
         {
          "arrowhead": 2,
          "showarrow": true,
          "text": "Q8",
          "x": -0.03464202582836151,
          "y": -0.262984037399292
         },
         {
          "arrowhead": 2,
          "showarrow": true,
          "text": "Q9",
          "x": -0.44171375036239624,
          "y": -0.3377300202846527
         },
         {
          "arrowhead": 2,
          "showarrow": true,
          "text": "Q10",
          "x": -0.642630398273468,
          "y": -0.7143852710723877
         }
        ],
        "legend": {
         "title": {
          "text": "color"
         },
         "tracegroupgap": 0
        },
        "template": {
         "data": {
          "bar": [
           {
            "error_x": {
             "color": "#2a3f5f"
            },
            "error_y": {
             "color": "#2a3f5f"
            },
            "marker": {
             "line": {
              "color": "#E5ECF6",
              "width": 0.5
             },
             "pattern": {
              "fillmode": "overlay",
              "size": 10,
              "solidity": 0.2
             }
            },
            "type": "bar"
           }
          ],
          "barpolar": [
           {
            "marker": {
             "line": {
              "color": "#E5ECF6",
              "width": 0.5
             },
             "pattern": {
              "fillmode": "overlay",
              "size": 10,
              "solidity": 0.2
             }
            },
            "type": "barpolar"
           }
          ],
          "carpet": [
           {
            "aaxis": {
             "endlinecolor": "#2a3f5f",
             "gridcolor": "white",
             "linecolor": "white",
             "minorgridcolor": "white",
             "startlinecolor": "#2a3f5f"
            },
            "baxis": {
             "endlinecolor": "#2a3f5f",
             "gridcolor": "white",
             "linecolor": "white",
             "minorgridcolor": "white",
             "startlinecolor": "#2a3f5f"
            },
            "type": "carpet"
           }
          ],
          "choropleth": [
           {
            "colorbar": {
             "outlinewidth": 0,
             "ticks": ""
            },
            "type": "choropleth"
           }
          ],
          "contour": [
           {
            "colorbar": {
             "outlinewidth": 0,
             "ticks": ""
            },
            "colorscale": [
             [
              0,
              "#0d0887"
             ],
             [
              0.1111111111111111,
              "#46039f"
             ],
             [
              0.2222222222222222,
              "#7201a8"
             ],
             [
              0.3333333333333333,
              "#9c179e"
             ],
             [
              0.4444444444444444,
              "#bd3786"
             ],
             [
              0.5555555555555556,
              "#d8576b"
             ],
             [
              0.6666666666666666,
              "#ed7953"
             ],
             [
              0.7777777777777778,
              "#fb9f3a"
             ],
             [
              0.8888888888888888,
              "#fdca26"
             ],
             [
              1,
              "#f0f921"
             ]
            ],
            "type": "contour"
           }
          ],
          "contourcarpet": [
           {
            "colorbar": {
             "outlinewidth": 0,
             "ticks": ""
            },
            "type": "contourcarpet"
           }
          ],
          "heatmap": [
           {
            "colorbar": {
             "outlinewidth": 0,
             "ticks": ""
            },
            "colorscale": [
             [
              0,
              "#0d0887"
             ],
             [
              0.1111111111111111,
              "#46039f"
             ],
             [
              0.2222222222222222,
              "#7201a8"
             ],
             [
              0.3333333333333333,
              "#9c179e"
             ],
             [
              0.4444444444444444,
              "#bd3786"
             ],
             [
              0.5555555555555556,
              "#d8576b"
             ],
             [
              0.6666666666666666,
              "#ed7953"
             ],
             [
              0.7777777777777778,
              "#fb9f3a"
             ],
             [
              0.8888888888888888,
              "#fdca26"
             ],
             [
              1,
              "#f0f921"
             ]
            ],
            "type": "heatmap"
           }
          ],
          "heatmapgl": [
           {
            "colorbar": {
             "outlinewidth": 0,
             "ticks": ""
            },
            "colorscale": [
             [
              0,
              "#0d0887"
             ],
             [
              0.1111111111111111,
              "#46039f"
             ],
             [
              0.2222222222222222,
              "#7201a8"
             ],
             [
              0.3333333333333333,
              "#9c179e"
             ],
             [
              0.4444444444444444,
              "#bd3786"
             ],
             [
              0.5555555555555556,
              "#d8576b"
             ],
             [
              0.6666666666666666,
              "#ed7953"
             ],
             [
              0.7777777777777778,
              "#fb9f3a"
             ],
             [
              0.8888888888888888,
              "#fdca26"
             ],
             [
              1,
              "#f0f921"
             ]
            ],
            "type": "heatmapgl"
           }
          ],
          "histogram": [
           {
            "marker": {
             "pattern": {
              "fillmode": "overlay",
              "size": 10,
              "solidity": 0.2
             }
            },
            "type": "histogram"
           }
          ],
          "histogram2d": [
           {
            "colorbar": {
             "outlinewidth": 0,
             "ticks": ""
            },
            "colorscale": [
             [
              0,
              "#0d0887"
             ],
             [
              0.1111111111111111,
              "#46039f"
             ],
             [
              0.2222222222222222,
              "#7201a8"
             ],
             [
              0.3333333333333333,
              "#9c179e"
             ],
             [
              0.4444444444444444,
              "#bd3786"
             ],
             [
              0.5555555555555556,
              "#d8576b"
             ],
             [
              0.6666666666666666,
              "#ed7953"
             ],
             [
              0.7777777777777778,
              "#fb9f3a"
             ],
             [
              0.8888888888888888,
              "#fdca26"
             ],
             [
              1,
              "#f0f921"
             ]
            ],
            "type": "histogram2d"
           }
          ],
          "histogram2dcontour": [
           {
            "colorbar": {
             "outlinewidth": 0,
             "ticks": ""
            },
            "colorscale": [
             [
              0,
              "#0d0887"
             ],
             [
              0.1111111111111111,
              "#46039f"
             ],
             [
              0.2222222222222222,
              "#7201a8"
             ],
             [
              0.3333333333333333,
              "#9c179e"
             ],
             [
              0.4444444444444444,
              "#bd3786"
             ],
             [
              0.5555555555555556,
              "#d8576b"
             ],
             [
              0.6666666666666666,
              "#ed7953"
             ],
             [
              0.7777777777777778,
              "#fb9f3a"
             ],
             [
              0.8888888888888888,
              "#fdca26"
             ],
             [
              1,
              "#f0f921"
             ]
            ],
            "type": "histogram2dcontour"
           }
          ],
          "mesh3d": [
           {
            "colorbar": {
             "outlinewidth": 0,
             "ticks": ""
            },
            "type": "mesh3d"
           }
          ],
          "parcoords": [
           {
            "line": {
             "colorbar": {
              "outlinewidth": 0,
              "ticks": ""
             }
            },
            "type": "parcoords"
           }
          ],
          "pie": [
           {
            "automargin": true,
            "type": "pie"
           }
          ],
          "scatter": [
           {
            "fillpattern": {
             "fillmode": "overlay",
             "size": 10,
             "solidity": 0.2
            },
            "type": "scatter"
           }
          ],
          "scatter3d": [
           {
            "line": {
             "colorbar": {
              "outlinewidth": 0,
              "ticks": ""
             }
            },
            "marker": {
             "colorbar": {
              "outlinewidth": 0,
              "ticks": ""
             }
            },
            "type": "scatter3d"
           }
          ],
          "scattercarpet": [
           {
            "marker": {
             "colorbar": {
              "outlinewidth": 0,
              "ticks": ""
             }
            },
            "type": "scattercarpet"
           }
          ],
          "scattergeo": [
           {
            "marker": {
             "colorbar": {
              "outlinewidth": 0,
              "ticks": ""
             }
            },
            "type": "scattergeo"
           }
          ],
          "scattergl": [
           {
            "marker": {
             "colorbar": {
              "outlinewidth": 0,
              "ticks": ""
             }
            },
            "type": "scattergl"
           }
          ],
          "scattermapbox": [
           {
            "marker": {
             "colorbar": {
              "outlinewidth": 0,
              "ticks": ""
             }
            },
            "type": "scattermapbox"
           }
          ],
          "scatterpolar": [
           {
            "marker": {
             "colorbar": {
              "outlinewidth": 0,
              "ticks": ""
             }
            },
            "type": "scatterpolar"
           }
          ],
          "scatterpolargl": [
           {
            "marker": {
             "colorbar": {
              "outlinewidth": 0,
              "ticks": ""
             }
            },
            "type": "scatterpolargl"
           }
          ],
          "scatterternary": [
           {
            "marker": {
             "colorbar": {
              "outlinewidth": 0,
              "ticks": ""
             }
            },
            "type": "scatterternary"
           }
          ],
          "surface": [
           {
            "colorbar": {
             "outlinewidth": 0,
             "ticks": ""
            },
            "colorscale": [
             [
              0,
              "#0d0887"
             ],
             [
              0.1111111111111111,
              "#46039f"
             ],
             [
              0.2222222222222222,
              "#7201a8"
             ],
             [
              0.3333333333333333,
              "#9c179e"
             ],
             [
              0.4444444444444444,
              "#bd3786"
             ],
             [
              0.5555555555555556,
              "#d8576b"
             ],
             [
              0.6666666666666666,
              "#ed7953"
             ],
             [
              0.7777777777777778,
              "#fb9f3a"
             ],
             [
              0.8888888888888888,
              "#fdca26"
             ],
             [
              1,
              "#f0f921"
             ]
            ],
            "type": "surface"
           }
          ],
          "table": [
           {
            "cells": {
             "fill": {
              "color": "#EBF0F8"
             },
             "line": {
              "color": "white"
             }
            },
            "header": {
             "fill": {
              "color": "#C8D4E3"
             },
             "line": {
              "color": "white"
             }
            },
            "type": "table"
           }
          ]
         },
         "layout": {
          "annotationdefaults": {
           "arrowcolor": "#2a3f5f",
           "arrowhead": 0,
           "arrowwidth": 1
          },
          "autotypenumbers": "strict",
          "coloraxis": {
           "colorbar": {
            "outlinewidth": 0,
            "ticks": ""
           }
          },
          "colorscale": {
           "diverging": [
            [
             0,
             "#8e0152"
            ],
            [
             0.1,
             "#c51b7d"
            ],
            [
             0.2,
             "#de77ae"
            ],
            [
             0.3,
             "#f1b6da"
            ],
            [
             0.4,
             "#fde0ef"
            ],
            [
             0.5,
             "#f7f7f7"
            ],
            [
             0.6,
             "#e6f5d0"
            ],
            [
             0.7,
             "#b8e186"
            ],
            [
             0.8,
             "#7fbc41"
            ],
            [
             0.9,
             "#4d9221"
            ],
            [
             1,
             "#276419"
            ]
           ],
           "sequential": [
            [
             0,
             "#0d0887"
            ],
            [
             0.1111111111111111,
             "#46039f"
            ],
            [
             0.2222222222222222,
             "#7201a8"
            ],
            [
             0.3333333333333333,
             "#9c179e"
            ],
            [
             0.4444444444444444,
             "#bd3786"
            ],
            [
             0.5555555555555556,
             "#d8576b"
            ],
            [
             0.6666666666666666,
             "#ed7953"
            ],
            [
             0.7777777777777778,
             "#fb9f3a"
            ],
            [
             0.8888888888888888,
             "#fdca26"
            ],
            [
             1,
             "#f0f921"
            ]
           ],
           "sequentialminus": [
            [
             0,
             "#0d0887"
            ],
            [
             0.1111111111111111,
             "#46039f"
            ],
            [
             0.2222222222222222,
             "#7201a8"
            ],
            [
             0.3333333333333333,
             "#9c179e"
            ],
            [
             0.4444444444444444,
             "#bd3786"
            ],
            [
             0.5555555555555556,
             "#d8576b"
            ],
            [
             0.6666666666666666,
             "#ed7953"
            ],
            [
             0.7777777777777778,
             "#fb9f3a"
            ],
            [
             0.8888888888888888,
             "#fdca26"
            ],
            [
             1,
             "#f0f921"
            ]
           ]
          },
          "colorway": [
           "#636efa",
           "#EF553B",
           "#00cc96",
           "#ab63fa",
           "#FFA15A",
           "#19d3f3",
           "#FF6692",
           "#B6E880",
           "#FF97FF",
           "#FECB52"
          ],
          "font": {
           "color": "#2a3f5f"
          },
          "geo": {
           "bgcolor": "white",
           "lakecolor": "white",
           "landcolor": "#E5ECF6",
           "showlakes": true,
           "showland": true,
           "subunitcolor": "white"
          },
          "hoverlabel": {
           "align": "left"
          },
          "hovermode": "closest",
          "mapbox": {
           "style": "light"
          },
          "paper_bgcolor": "white",
          "plot_bgcolor": "#E5ECF6",
          "polar": {
           "angularaxis": {
            "gridcolor": "white",
            "linecolor": "white",
            "ticks": ""
           },
           "bgcolor": "#E5ECF6",
           "radialaxis": {
            "gridcolor": "white",
            "linecolor": "white",
            "ticks": ""
           }
          },
          "scene": {
           "xaxis": {
            "backgroundcolor": "#E5ECF6",
            "gridcolor": "white",
            "gridwidth": 2,
            "linecolor": "white",
            "showbackground": true,
            "ticks": "",
            "zerolinecolor": "white"
           },
           "yaxis": {
            "backgroundcolor": "#E5ECF6",
            "gridcolor": "white",
            "gridwidth": 2,
            "linecolor": "white",
            "showbackground": true,
            "ticks": "",
            "zerolinecolor": "white"
           },
           "zaxis": {
            "backgroundcolor": "#E5ECF6",
            "gridcolor": "white",
            "gridwidth": 2,
            "linecolor": "white",
            "showbackground": true,
            "ticks": "",
            "zerolinecolor": "white"
           }
          },
          "shapedefaults": {
           "line": {
            "color": "#2a3f5f"
           }
          },
          "ternary": {
           "aaxis": {
            "gridcolor": "white",
            "linecolor": "white",
            "ticks": ""
           },
           "baxis": {
            "gridcolor": "white",
            "linecolor": "white",
            "ticks": ""
           },
           "bgcolor": "#E5ECF6",
           "caxis": {
            "gridcolor": "white",
            "linecolor": "white",
            "ticks": ""
           }
          },
          "title": {
           "x": 0.05
          },
          "xaxis": {
           "automargin": true,
           "gridcolor": "white",
           "linecolor": "white",
           "ticks": "",
           "title": {
            "standoff": 15
           },
           "zerolinecolor": "white",
           "zerolinewidth": 2
          },
          "yaxis": {
           "automargin": true,
           "gridcolor": "white",
           "linecolor": "white",
           "ticks": "",
           "title": {
            "standoff": 15
           },
           "zerolinecolor": "white",
           "zerolinewidth": 2
          }
         }
        },
        "title": {
         "text": "Embeddings Visualization with 2D PCA"
        },
        "xaxis": {
         "anchor": "y",
         "domain": [
          0,
          1
         ],
         "title": {
          "text": "PCA Component 1"
         }
        },
        "yaxis": {
         "anchor": "x",
         "domain": [
          0,
          1
         ],
         "title": {
          "text": "PCA Component 2"
         }
        }
       }
      }
     },
     "metadata": {},
     "output_type": "display_data"
    },
    {
     "data": {
      "application/vnd.plotly.v1+json": {
       "config": {
        "plotlyServerURL": "https://plot.ly"
       },
       "data": [
        {
         "customdata": [
          [
           "Auditorias"
          ],
          [
           "Auditorias"
          ],
          [
           "Auditorias"
          ],
          [
           "Auditorias"
          ],
          [
           "Auditorias"
          ],
          [
           "Auditorias"
          ],
          [
           "Auditorias"
          ],
          [
           "Auditorias"
          ],
          [
           "Auditorias"
          ],
          [
           "Auditorias"
          ],
          [
           "Auditorias"
          ],
          [
           "Auditorias"
          ],
          [
           "Auditorias"
          ],
          [
           "Auditorias"
          ],
          [
           "Auditorias"
          ],
          [
           "Auditorias"
          ],
          [
           "Auditorias"
          ],
          [
           "Auditorias"
          ],
          [
           "Auditorias"
          ],
          [
           "Auditorias"
          ],
          [
           "Auditorias"
          ],
          [
           "Auditorias"
          ],
          [
           "Auditorias"
          ],
          [
           "Auditorias"
          ],
          [
           "Auditorias"
          ],
          [
           "Auditorias"
          ],
          [
           "Auditorias"
          ],
          [
           "Auditorias"
          ],
          [
           "Auditorias"
          ],
          [
           "Auditorias"
          ]
         ],
         "hovertemplate": "color=Auditorias<br>t-SNE Component 1=%{x}<br>t-SNE Component 2=%{y}<br>label=%{customdata[0]}<extra></extra>",
         "legendgroup": "Auditorias",
         "marker": {
          "color": "#636efa",
          "symbol": "circle"
         },
         "mode": "markers",
         "name": "Auditorias",
         "orientation": "v",
         "showlegend": true,
         "type": "scatter",
         "x": [
          -29.522005,
          -28.328104,
          -48.898136,
          -62.945786,
          -35.864758,
          -36.88671,
          -44.244984,
          -31.668556,
          -9.114127,
          -33.759636,
          -47.2254,
          -40.28141,
          -57.445217,
          -52.39255,
          -35.864758,
          -42.13071,
          -36.725674,
          11.360877,
          13.106334,
          79.1322,
          48.76743,
          56.99142,
          47.348328,
          52.681675,
          39.916183,
          35.594208,
          87.05245,
          81.19577,
          -44.68417,
          -27.963694
         ],
         "xaxis": "x",
         "y": [
          47.683784,
          39.76628,
          -27.20718,
          -22.175371,
          111.23981,
          3.6540344,
          -12.119301,
          -15.956362,
          6.4328527,
          -5.7240224,
          -40.541645,
          -29.133507,
          -32.811478,
          -21.636932,
          111.23981,
          1.1516087,
          -18.726244,
          31.40278,
          19.158226,
          70.89564,
          -65.49979,
          69.798996,
          -60.511055,
          72.950935,
          63.820366,
          60.815636,
          -14.166675,
          -15.832011,
          72.34676,
          -22.300085
         ],
         "yaxis": "y"
        },
        {
         "customdata": [
          [
           "Ausentismo"
          ],
          [
           "Ausentismo"
          ],
          [
           "Ausentismo"
          ],
          [
           "Ausentismo"
          ],
          [
           "Ausentismo"
          ],
          [
           "Ausentismo"
          ],
          [
           "Ausentismo"
          ],
          [
           "Ausentismo"
          ],
          [
           "Ausentismo"
          ],
          [
           "Ausentismo"
          ],
          [
           "Ausentismo"
          ],
          [
           "Ausentismo"
          ],
          [
           "Ausentismo"
          ],
          [
           "Ausentismo"
          ],
          [
           "Ausentismo"
          ],
          [
           "Ausentismo"
          ],
          [
           "Ausentismo"
          ],
          [
           "Ausentismo"
          ],
          [
           "Ausentismo"
          ],
          [
           "Ausentismo"
          ],
          [
           "Ausentismo"
          ],
          [
           "Ausentismo"
          ],
          [
           "Ausentismo"
          ],
          [
           "Ausentismo"
          ],
          [
           "Ausentismo"
          ],
          [
           "Ausentismo"
          ],
          [
           "Ausentismo"
          ],
          [
           "Ausentismo"
          ],
          [
           "Ausentismo"
          ],
          [
           "Ausentismo"
          ],
          [
           "Ausentismo"
          ],
          [
           "Ausentismo"
          ],
          [
           "Ausentismo"
          ],
          [
           "Ausentismo"
          ],
          [
           "Ausentismo"
          ],
          [
           "Ausentismo"
          ],
          [
           "Ausentismo"
          ],
          [
           "Ausentismo"
          ],
          [
           "Ausentismo"
          ],
          [
           "Ausentismo"
          ],
          [
           "Ausentismo"
          ],
          [
           "Ausentismo"
          ],
          [
           "Ausentismo"
          ],
          [
           "Ausentismo"
          ],
          [
           "Ausentismo"
          ]
         ],
         "hovertemplate": "color=Ausentismo<br>t-SNE Component 1=%{x}<br>t-SNE Component 2=%{y}<br>label=%{customdata[0]}<extra></extra>",
         "legendgroup": "Ausentismo",
         "marker": {
          "color": "#EF553B",
          "symbol": "circle"
         },
         "mode": "markers",
         "name": "Ausentismo",
         "orientation": "v",
         "showlegend": true,
         "type": "scatter",
         "x": [
          92.18419,
          28.322172,
          -31.233168,
          28.319181,
          24.510834,
          -2.4986494,
          39.460167,
          48.510944,
          10.27636,
          46.344635,
          11.843954,
          16.87766,
          -35.122578,
          51.57419,
          54.343506,
          -38.501118,
          39.636005,
          79.71526,
          68.20242,
          69.16743,
          -96.996704,
          61.53658,
          58.50162,
          -36.76761,
          -29.73244,
          -35.864758,
          43.672306,
          79.1322,
          30.180227,
          63.041084,
          56.26374,
          -96.996704,
          37.93908,
          31.552717,
          -30.837011,
          -77.26861,
          -65.112045,
          -6.7034574,
          -77.26861,
          -65.112045,
          -1.6260326,
          -2.8602633,
          -3.1588588,
          -66.47982,
          -96.996704
         ],
         "xaxis": "x",
         "y": [
          -61.11709,
          -106.07737,
          56.142544,
          -68.32098,
          14.469466,
          35.45819,
          -9.413782,
          -15.870484,
          57.594795,
          0.41058204,
          49.052483,
          48.779884,
          103.78578,
          12.418768,
          7.4714413,
          25.935078,
          -29.314178,
          -54.77845,
          -51.954052,
          -47.021935,
          74.46816,
          -9.719541,
          -5.158911,
          -54.95466,
          -52.06504,
          111.23981,
          13.687016,
          70.89564,
          -19.415712,
          -29.691671,
          -26.99592,
          74.46816,
          -22.363184,
          -11.22399,
          -32.626293,
          -53.09627,
          84.38623,
          99.77353,
          -53.09627,
          84.38623,
          103.225555,
          108.73087,
          49.224663,
          75.26597,
          74.46816
         ],
         "yaxis": "y"
        },
        {
         "customdata": [
          [
           "Estructura Organizativa"
          ],
          [
           "Estructura Organizativa"
          ],
          [
           "Estructura Organizativa"
          ],
          [
           "Estructura Organizativa"
          ],
          [
           "Estructura Organizativa"
          ],
          [
           "Estructura Organizativa"
          ],
          [
           "Estructura Organizativa"
          ],
          [
           "Estructura Organizativa"
          ],
          [
           "Estructura Organizativa"
          ],
          [
           "Estructura Organizativa"
          ],
          [
           "Estructura Organizativa"
          ],
          [
           "Estructura Organizativa"
          ],
          [
           "Estructura Organizativa"
          ],
          [
           "Estructura Organizativa"
          ],
          [
           "Estructura Organizativa"
          ],
          [
           "Estructura Organizativa"
          ],
          [
           "Estructura Organizativa"
          ],
          [
           "Estructura Organizativa"
          ],
          [
           "Estructura Organizativa"
          ],
          [
           "Estructura Organizativa"
          ],
          [
           "Estructura Organizativa"
          ],
          [
           "Estructura Organizativa"
          ],
          [
           "Estructura Organizativa"
          ],
          [
           "Estructura Organizativa"
          ],
          [
           "Estructura Organizativa"
          ],
          [
           "Estructura Organizativa"
          ],
          [
           "Estructura Organizativa"
          ],
          [
           "Estructura Organizativa"
          ],
          [
           "Estructura Organizativa"
          ],
          [
           "Estructura Organizativa"
          ],
          [
           "Estructura Organizativa"
          ],
          [
           "Estructura Organizativa"
          ],
          [
           "Estructura Organizativa"
          ],
          [
           "Estructura Organizativa"
          ],
          [
           "Estructura Organizativa"
          ],
          [
           "Estructura Organizativa"
          ],
          [
           "Estructura Organizativa"
          ],
          [
           "Estructura Organizativa"
          ],
          [
           "Estructura Organizativa"
          ],
          [
           "Estructura Organizativa"
          ],
          [
           "Estructura Organizativa"
          ],
          [
           "Estructura Organizativa"
          ],
          [
           "Estructura Organizativa"
          ],
          [
           "Estructura Organizativa"
          ],
          [
           "Estructura Organizativa"
          ],
          [
           "Estructura Organizativa"
          ],
          [
           "Estructura Organizativa"
          ],
          [
           "Estructura Organizativa"
          ],
          [
           "Estructura Organizativa"
          ],
          [
           "Estructura Organizativa"
          ],
          [
           "Estructura Organizativa"
          ],
          [
           "Estructura Organizativa"
          ],
          [
           "Estructura Organizativa"
          ],
          [
           "Estructura Organizativa"
          ],
          [
           "Estructura Organizativa"
          ],
          [
           "Estructura Organizativa"
          ],
          [
           "Estructura Organizativa"
          ],
          [
           "Estructura Organizativa"
          ],
          [
           "Estructura Organizativa"
          ],
          [
           "Estructura Organizativa"
          ],
          [
           "Estructura Organizativa"
          ],
          [
           "Estructura Organizativa"
          ],
          [
           "Estructura Organizativa"
          ],
          [
           "Estructura Organizativa"
          ],
          [
           "Estructura Organizativa"
          ],
          [
           "Estructura Organizativa"
          ],
          [
           "Estructura Organizativa"
          ],
          [
           "Estructura Organizativa"
          ],
          [
           "Estructura Organizativa"
          ],
          [
           "Estructura Organizativa"
          ],
          [
           "Estructura Organizativa"
          ],
          [
           "Estructura Organizativa"
          ],
          [
           "Estructura Organizativa"
          ],
          [
           "Estructura Organizativa"
          ],
          [
           "Estructura Organizativa"
          ],
          [
           "Estructura Organizativa"
          ],
          [
           "Estructura Organizativa"
          ]
         ],
         "hovertemplate": "color=Estructura Organizativa<br>t-SNE Component 1=%{x}<br>t-SNE Component 2=%{y}<br>label=%{customdata[0]}<extra></extra>",
         "legendgroup": "Estructura Organizativa",
         "marker": {
          "color": "#00cc96",
          "symbol": "circle"
         },
         "mode": "markers",
         "name": "Estructura Organizativa",
         "orientation": "v",
         "showlegend": true,
         "type": "scatter",
         "x": [
          92.18419,
          51.325207,
          28.322172,
          -22.889294,
          -62.909184,
          13.44838,
          -70.614174,
          -11.546927,
          28.965933,
          -33.463562,
          -14.107607,
          -5.8454924,
          -81.63753,
          18.959448,
          21.878794,
          24.76729,
          11.827838,
          1.8394891,
          88.08324,
          74.50345,
          22.446005,
          -17.953573,
          -34.77074,
          -3.1445663,
          69.02468,
          -12.747246,
          -93.90179,
          -5.3386307,
          15.359642,
          -21.504498,
          -39.951534,
          5.27575,
          19.623339,
          -82.4314,
          -115.77862,
          -79.97979,
          -87.472755,
          -64.175285,
          -88.99286,
          18.776705,
          -74.53832,
          -64.9629,
          -58.72263,
          103.39816,
          22.276403,
          -13.778374,
          -6.586483,
          -3.8297148,
          -115.77862,
          -72.99136,
          30.41844,
          64.987885,
          9.849901,
          -95.83864,
          -17.064182,
          76.22403,
          12.070798,
          -3.0212798,
          8.958038,
          12.074474,
          13.124886,
          4.7249866,
          5.381294,
          74.50345,
          19.222496,
          -90.73141,
          -20.718876,
          87.568954,
          20.164045,
          81.33061,
          79.03459,
          74.50345,
          21.717468,
          1.0685915,
          -25.756283,
          13.31941,
          15.3328705
         ],
         "xaxis": "x",
         "y": [
          -61.11709,
          43.663265,
          -106.07737,
          59.858356,
          27.466795,
          -72.764824,
          26.781395,
          -9.976949,
          -27.410473,
          -87.13959,
          -24.256865,
          -13.64579,
          20.310787,
          -10.167503,
          -15.513233,
          -50.441143,
          -16.9461,
          -15.252928,
          -3.294009,
          -85.12244,
          81.02329,
          -65.45812,
          -79.83453,
          -30.055153,
          4.1475086,
          -33.720383,
          -13.642546,
          -55.270836,
          -21.62837,
          -69.55681,
          -78.14072,
          -24.396502,
          -42.242958,
          -18.004496,
          -0.006045811,
          3.100435,
          6.977521,
          12.853688,
          -4.7912703,
          4.1193323,
          -4.0311766,
          -2.534841,
          -4.7481494,
          -59.816086,
          88.102554,
          -75.18941,
          -4.0483894,
          -21.135681,
          -0.006045811,
          8.995613,
          -37.64161,
          19.527311,
          -8.979328,
          38.10212,
          -15.321668,
          10.093724,
          -35.915886,
          -42.19879,
          -51.924465,
          -29.183107,
          77.141716,
          -43.61481,
          -33.008274,
          -85.12244,
          73.918976,
          38.748814,
          -10.567488,
          5.467137,
          -31.309914,
          2.9398785,
          -3.1341443,
          -85.12244,
          -24.110067,
          -5.9472394,
          3.8081243,
          -0.88405496,
          84.90256
         ],
         "yaxis": "y"
        },
        {
         "customdata": [
          [
           "Riesgos"
          ],
          [
           "Riesgos"
          ],
          [
           "Riesgos"
          ],
          [
           "Riesgos"
          ],
          [
           "Riesgos"
          ],
          [
           "Riesgos"
          ],
          [
           "Riesgos"
          ],
          [
           "Riesgos"
          ],
          [
           "Riesgos"
          ],
          [
           "Riesgos"
          ],
          [
           "Riesgos"
          ],
          [
           "Riesgos"
          ],
          [
           "Riesgos"
          ],
          [
           "Riesgos"
          ],
          [
           "Riesgos"
          ],
          [
           "Riesgos"
          ],
          [
           "Riesgos"
          ],
          [
           "Riesgos"
          ],
          [
           "Riesgos"
          ],
          [
           "Riesgos"
          ],
          [
           "Riesgos"
          ]
         ],
         "hovertemplate": "color=Riesgos<br>t-SNE Component 1=%{x}<br>t-SNE Component 2=%{y}<br>label=%{customdata[0]}<extra></extra>",
         "legendgroup": "Riesgos",
         "marker": {
          "color": "#ab63fa",
          "symbol": "circle"
         },
         "mode": "markers",
         "name": "Riesgos",
         "orientation": "v",
         "showlegend": true,
         "type": "scatter",
         "x": [
          92.18419,
          -9.866445,
          37.24331,
          53.06292,
          -36.524612,
          -27.927118,
          29.845167,
          26.178997,
          -80.32099,
          -16.789627,
          -40.84817,
          -46.72183,
          -39.028545,
          -7.6802526,
          2.7771611,
          80.10634,
          77.35026,
          45.94762,
          7.959159,
          -1.5144736,
          -39.66371
         ],
         "xaxis": "x",
         "y": [
          -61.11709,
          -103.62738,
          44.2525,
          48.677464,
          42.19576,
          14.805931,
          28.109392,
          31.716984,
          38.484356,
          -2.8114765,
          54.832855,
          13.742664,
          16.028654,
          23.753468,
          19.461102,
          40.64109,
          45.30797,
          81.55993,
          9.680335,
          10.970527,
          34.81132
         ],
         "yaxis": "y"
        },
        {
         "customdata": [
          [
           "Información"
          ],
          [
           "Información"
          ],
          [
           "Información"
          ],
          [
           "Información"
          ],
          [
           "Información"
          ],
          [
           "Información"
          ],
          [
           "Información"
          ],
          [
           "Información"
          ],
          [
           "Información"
          ]
         ],
         "hovertemplate": "color=Información<br>t-SNE Component 1=%{x}<br>t-SNE Component 2=%{y}<br>label=%{customdata[0]}<extra></extra>",
         "legendgroup": "Información",
         "marker": {
          "color": "#FFA15A",
          "symbol": "circle"
         },
         "mode": "markers",
         "name": "Información",
         "orientation": "v",
         "showlegend": true,
         "type": "scatter",
         "x": [
          92.18419,
          -9.866445,
          28.322172,
          -17.274189,
          40.30019,
          19.967012,
          43.3614,
          1.215123,
          -19.056604
         ],
         "xaxis": "x",
         "y": [
          -61.11709,
          -103.62738,
          -106.07737,
          56.7869,
          29.446001,
          -65.37039,
          -42.269867,
          3.4534876,
          -43.105396
         ],
         "yaxis": "y"
        },
        {
         "customdata": [
          [
           "Emergencia"
          ],
          [
           "Emergencia"
          ],
          [
           "Emergencia"
          ],
          [
           "Emergencia"
          ],
          [
           "Emergencia"
          ],
          [
           "Emergencia"
          ],
          [
           "Emergencia"
          ],
          [
           "Emergencia"
          ],
          [
           "Emergencia"
          ],
          [
           "Emergencia"
          ],
          [
           "Emergencia"
          ]
         ],
         "hovertemplate": "color=Emergencia<br>t-SNE Component 1=%{x}<br>t-SNE Component 2=%{y}<br>label=%{customdata[0]}<extra></extra>",
         "legendgroup": "Emergencia",
         "marker": {
          "color": "#19d3f3",
          "symbol": "circle"
         },
         "mode": "markers",
         "name": "Emergencia",
         "orientation": "v",
         "showlegend": true,
         "type": "scatter",
         "x": [
          -21.7104,
          -51.697395,
          -47.737663,
          23.956766,
          -26.506187,
          -19.09913,
          -17.681396,
          -16.099068,
          -10.288558,
          30.913519,
          25.822395
         ],
         "xaxis": "x",
         "y": [
          49.06069,
          37.926777,
          43.67744,
          -78.12335,
          26.19818,
          28.190226,
          6.6939955,
          16.421366,
          13.287332,
          0.8992819,
          -4.089567
         ],
         "yaxis": "y"
        },
        {
         "customdata": [
          [
           "Question: ¿Cómo se diferencia la ubicación física de la operativa?<br>Closest Model: Riesgos<br>Similarity: 0.70<br>Chunk: DOCUMENTOS\nEl usuario accede a la pestaña Documentos y visualiza el listado de informes generados ta..."
          ],
          [
           "Question: ¿Qué información se incluye en el informe de la evaluación de riesgos que ofrece la plataforma y cuál es su utilidad para la gestión de riesgos en la empresa?<br>Closest Model: Riesgos<br>Similarity: 0.88<br>Chunk: CONTENIDO\nSabentis es la nueva plataforma de gestión especializada en el ámbito de seguridad y salud..."
          ],
          [
           "Question: ¿Hay indicadores relativos al cumplimiento de normas?<br>Closest Model: Auditorias<br>Similarity: 0.71<br>Chunk: Versión  Fecha  Comentarios  Autor  1.0  29/09/2022  Redacción  Núria Zaragoza\nSabentis es la nueva ..."
          ],
          [
           "Question: ¿Qué papel juega la estructura organizativa en la funcionalidad general de la plataforma y cómo interactúa con otros módulos?<br>Closest Model: Estructura Organizativa<br>Similarity: 0.86<br>Chunk: El usuario puede acceder al módulo Estructura Organizativa (EO), desde las opciones:  •  La entrada ..."
          ],
          [
           "Question: ¿Qué permite realizar la evaluación de riesgos?<br>Closest Model: Riesgos<br>Similarity: 0.86<br>Chunk: CONTENIDO\nSabentis es la nueva plataforma de gestión especializada en el ámbito de seguridad y salud..."
          ],
          [
           "Question: ¿Qué tipo de documentos se pueden almacenar y compartir en el espacio denominado 'Documentos' y cuál es su importancia dentro del contexto de la gestión empresarial en la plataforma?<br>Closest Model: Información<br>Similarity: 0.87<br>Chunk: 3. REPOSITORIO DOCUMENTAL DE LA EMPRESA\nEl usuario accede al cardboard “Repositorio documental” y vi..."
          ],
          [
           "Question: ¿Se pueden llevar a cabo auditorías internas?<br>Closest Model: Emergencia<br>Similarity: 0.77<br>Chunk: La pestaña evaluación de aspectos legales permite al usuario evaluar los cuestionarios  aplicables a..."
          ],
          [
           "Question: ¿Cuál es la tasa de adopción de esta plataforma en el mercado?<br>Closest Model: Información<br>Similarity: 0.72<br>Chunk: Sabentis es la nueva plataforma de gestión especializada en el ámbito de Seguridad y Salud en  el Tr..."
          ],
          [
           "Question: ¿Cómo se compara esta plataforma con otras soluciones de gestión de SST?<br>Closest Model: Estructura Organizativa<br>Similarity: 0.84<br>Chunk: Sabentis es la nueva plataforma de gestión especializada en el ámbito de Seguridad y Salud  en el Tr..."
          ],
          [
           "Question: ¿Qué día hará mañana?<br>Closest Model: Estructura Organizativa<br>Similarity: 0.63<br>Chunk: Documento  Manual de uso: Estructura organizativa (GE).  Descripción  Manual guía de usuario del mód..."
          ]
         ],
         "hovertemplate": "color=Question<br>t-SNE Component 1=%{x}<br>t-SNE Component 2=%{y}<br>label=%{customdata[0]}<extra></extra>",
         "legendgroup": "Question",
         "marker": {
          "color": "#FF6692",
          "symbol": "circle"
         },
         "mode": "markers",
         "name": "Question",
         "orientation": "v",
         "showlegend": true,
         "type": "scatter",
         "x": [
          -68.30394,
          -29.281471,
          -52.845196,
          5.997587,
          -47.788555,
          -8.895907,
          -59.18331,
          -15.13603,
          -17.406689,
          59.037
         ],
         "xaxis": "x",
         "y": [
          53.165752,
          69.11666,
          57.123436,
          -76.08271,
          26.810408,
          75.784225,
          41.942345,
          40.16654,
          67.178665,
          39.487713
         ],
         "yaxis": "y"
        }
       ],
       "layout": {
        "annotations": [
         {
          "arrowhead": 2,
          "showarrow": true,
          "text": "Q1",
          "x": -68.30393981933594,
          "y": 53.16575241088867
         },
         {
          "arrowhead": 2,
          "showarrow": true,
          "text": "Q2",
          "x": -29.281471252441406,
          "y": 69.11666107177734
         },
         {
          "arrowhead": 2,
          "showarrow": true,
          "text": "Q3",
          "x": -52.84519577026367,
          "y": 57.123435974121094
         },
         {
          "arrowhead": 2,
          "showarrow": true,
          "text": "Q4",
          "x": 5.997587203979492,
          "y": -76.08271026611328
         },
         {
          "arrowhead": 2,
          "showarrow": true,
          "text": "Q5",
          "x": -47.78855514526367,
          "y": 26.810407638549805
         },
         {
          "arrowhead": 2,
          "showarrow": true,
          "text": "Q6",
          "x": -8.895907402038574,
          "y": 75.78422546386719
         },
         {
          "arrowhead": 2,
          "showarrow": true,
          "text": "Q7",
          "x": -59.183311462402344,
          "y": 41.942344665527344
         },
         {
          "arrowhead": 2,
          "showarrow": true,
          "text": "Q8",
          "x": -15.136030197143555,
          "y": 40.16653823852539
         },
         {
          "arrowhead": 2,
          "showarrow": true,
          "text": "Q9",
          "x": -17.406688690185547,
          "y": 67.17866516113281
         },
         {
          "arrowhead": 2,
          "showarrow": true,
          "text": "Q10",
          "x": 59.0369987487793,
          "y": 39.48771286010742
         }
        ],
        "legend": {
         "title": {
          "text": "color"
         },
         "tracegroupgap": 0
        },
        "template": {
         "data": {
          "bar": [
           {
            "error_x": {
             "color": "#2a3f5f"
            },
            "error_y": {
             "color": "#2a3f5f"
            },
            "marker": {
             "line": {
              "color": "#E5ECF6",
              "width": 0.5
             },
             "pattern": {
              "fillmode": "overlay",
              "size": 10,
              "solidity": 0.2
             }
            },
            "type": "bar"
           }
          ],
          "barpolar": [
           {
            "marker": {
             "line": {
              "color": "#E5ECF6",
              "width": 0.5
             },
             "pattern": {
              "fillmode": "overlay",
              "size": 10,
              "solidity": 0.2
             }
            },
            "type": "barpolar"
           }
          ],
          "carpet": [
           {
            "aaxis": {
             "endlinecolor": "#2a3f5f",
             "gridcolor": "white",
             "linecolor": "white",
             "minorgridcolor": "white",
             "startlinecolor": "#2a3f5f"
            },
            "baxis": {
             "endlinecolor": "#2a3f5f",
             "gridcolor": "white",
             "linecolor": "white",
             "minorgridcolor": "white",
             "startlinecolor": "#2a3f5f"
            },
            "type": "carpet"
           }
          ],
          "choropleth": [
           {
            "colorbar": {
             "outlinewidth": 0,
             "ticks": ""
            },
            "type": "choropleth"
           }
          ],
          "contour": [
           {
            "colorbar": {
             "outlinewidth": 0,
             "ticks": ""
            },
            "colorscale": [
             [
              0,
              "#0d0887"
             ],
             [
              0.1111111111111111,
              "#46039f"
             ],
             [
              0.2222222222222222,
              "#7201a8"
             ],
             [
              0.3333333333333333,
              "#9c179e"
             ],
             [
              0.4444444444444444,
              "#bd3786"
             ],
             [
              0.5555555555555556,
              "#d8576b"
             ],
             [
              0.6666666666666666,
              "#ed7953"
             ],
             [
              0.7777777777777778,
              "#fb9f3a"
             ],
             [
              0.8888888888888888,
              "#fdca26"
             ],
             [
              1,
              "#f0f921"
             ]
            ],
            "type": "contour"
           }
          ],
          "contourcarpet": [
           {
            "colorbar": {
             "outlinewidth": 0,
             "ticks": ""
            },
            "type": "contourcarpet"
           }
          ],
          "heatmap": [
           {
            "colorbar": {
             "outlinewidth": 0,
             "ticks": ""
            },
            "colorscale": [
             [
              0,
              "#0d0887"
             ],
             [
              0.1111111111111111,
              "#46039f"
             ],
             [
              0.2222222222222222,
              "#7201a8"
             ],
             [
              0.3333333333333333,
              "#9c179e"
             ],
             [
              0.4444444444444444,
              "#bd3786"
             ],
             [
              0.5555555555555556,
              "#d8576b"
             ],
             [
              0.6666666666666666,
              "#ed7953"
             ],
             [
              0.7777777777777778,
              "#fb9f3a"
             ],
             [
              0.8888888888888888,
              "#fdca26"
             ],
             [
              1,
              "#f0f921"
             ]
            ],
            "type": "heatmap"
           }
          ],
          "heatmapgl": [
           {
            "colorbar": {
             "outlinewidth": 0,
             "ticks": ""
            },
            "colorscale": [
             [
              0,
              "#0d0887"
             ],
             [
              0.1111111111111111,
              "#46039f"
             ],
             [
              0.2222222222222222,
              "#7201a8"
             ],
             [
              0.3333333333333333,
              "#9c179e"
             ],
             [
              0.4444444444444444,
              "#bd3786"
             ],
             [
              0.5555555555555556,
              "#d8576b"
             ],
             [
              0.6666666666666666,
              "#ed7953"
             ],
             [
              0.7777777777777778,
              "#fb9f3a"
             ],
             [
              0.8888888888888888,
              "#fdca26"
             ],
             [
              1,
              "#f0f921"
             ]
            ],
            "type": "heatmapgl"
           }
          ],
          "histogram": [
           {
            "marker": {
             "pattern": {
              "fillmode": "overlay",
              "size": 10,
              "solidity": 0.2
             }
            },
            "type": "histogram"
           }
          ],
          "histogram2d": [
           {
            "colorbar": {
             "outlinewidth": 0,
             "ticks": ""
            },
            "colorscale": [
             [
              0,
              "#0d0887"
             ],
             [
              0.1111111111111111,
              "#46039f"
             ],
             [
              0.2222222222222222,
              "#7201a8"
             ],
             [
              0.3333333333333333,
              "#9c179e"
             ],
             [
              0.4444444444444444,
              "#bd3786"
             ],
             [
              0.5555555555555556,
              "#d8576b"
             ],
             [
              0.6666666666666666,
              "#ed7953"
             ],
             [
              0.7777777777777778,
              "#fb9f3a"
             ],
             [
              0.8888888888888888,
              "#fdca26"
             ],
             [
              1,
              "#f0f921"
             ]
            ],
            "type": "histogram2d"
           }
          ],
          "histogram2dcontour": [
           {
            "colorbar": {
             "outlinewidth": 0,
             "ticks": ""
            },
            "colorscale": [
             [
              0,
              "#0d0887"
             ],
             [
              0.1111111111111111,
              "#46039f"
             ],
             [
              0.2222222222222222,
              "#7201a8"
             ],
             [
              0.3333333333333333,
              "#9c179e"
             ],
             [
              0.4444444444444444,
              "#bd3786"
             ],
             [
              0.5555555555555556,
              "#d8576b"
             ],
             [
              0.6666666666666666,
              "#ed7953"
             ],
             [
              0.7777777777777778,
              "#fb9f3a"
             ],
             [
              0.8888888888888888,
              "#fdca26"
             ],
             [
              1,
              "#f0f921"
             ]
            ],
            "type": "histogram2dcontour"
           }
          ],
          "mesh3d": [
           {
            "colorbar": {
             "outlinewidth": 0,
             "ticks": ""
            },
            "type": "mesh3d"
           }
          ],
          "parcoords": [
           {
            "line": {
             "colorbar": {
              "outlinewidth": 0,
              "ticks": ""
             }
            },
            "type": "parcoords"
           }
          ],
          "pie": [
           {
            "automargin": true,
            "type": "pie"
           }
          ],
          "scatter": [
           {
            "fillpattern": {
             "fillmode": "overlay",
             "size": 10,
             "solidity": 0.2
            },
            "type": "scatter"
           }
          ],
          "scatter3d": [
           {
            "line": {
             "colorbar": {
              "outlinewidth": 0,
              "ticks": ""
             }
            },
            "marker": {
             "colorbar": {
              "outlinewidth": 0,
              "ticks": ""
             }
            },
            "type": "scatter3d"
           }
          ],
          "scattercarpet": [
           {
            "marker": {
             "colorbar": {
              "outlinewidth": 0,
              "ticks": ""
             }
            },
            "type": "scattercarpet"
           }
          ],
          "scattergeo": [
           {
            "marker": {
             "colorbar": {
              "outlinewidth": 0,
              "ticks": ""
             }
            },
            "type": "scattergeo"
           }
          ],
          "scattergl": [
           {
            "marker": {
             "colorbar": {
              "outlinewidth": 0,
              "ticks": ""
             }
            },
            "type": "scattergl"
           }
          ],
          "scattermapbox": [
           {
            "marker": {
             "colorbar": {
              "outlinewidth": 0,
              "ticks": ""
             }
            },
            "type": "scattermapbox"
           }
          ],
          "scatterpolar": [
           {
            "marker": {
             "colorbar": {
              "outlinewidth": 0,
              "ticks": ""
             }
            },
            "type": "scatterpolar"
           }
          ],
          "scatterpolargl": [
           {
            "marker": {
             "colorbar": {
              "outlinewidth": 0,
              "ticks": ""
             }
            },
            "type": "scatterpolargl"
           }
          ],
          "scatterternary": [
           {
            "marker": {
             "colorbar": {
              "outlinewidth": 0,
              "ticks": ""
             }
            },
            "type": "scatterternary"
           }
          ],
          "surface": [
           {
            "colorbar": {
             "outlinewidth": 0,
             "ticks": ""
            },
            "colorscale": [
             [
              0,
              "#0d0887"
             ],
             [
              0.1111111111111111,
              "#46039f"
             ],
             [
              0.2222222222222222,
              "#7201a8"
             ],
             [
              0.3333333333333333,
              "#9c179e"
             ],
             [
              0.4444444444444444,
              "#bd3786"
             ],
             [
              0.5555555555555556,
              "#d8576b"
             ],
             [
              0.6666666666666666,
              "#ed7953"
             ],
             [
              0.7777777777777778,
              "#fb9f3a"
             ],
             [
              0.8888888888888888,
              "#fdca26"
             ],
             [
              1,
              "#f0f921"
             ]
            ],
            "type": "surface"
           }
          ],
          "table": [
           {
            "cells": {
             "fill": {
              "color": "#EBF0F8"
             },
             "line": {
              "color": "white"
             }
            },
            "header": {
             "fill": {
              "color": "#C8D4E3"
             },
             "line": {
              "color": "white"
             }
            },
            "type": "table"
           }
          ]
         },
         "layout": {
          "annotationdefaults": {
           "arrowcolor": "#2a3f5f",
           "arrowhead": 0,
           "arrowwidth": 1
          },
          "autotypenumbers": "strict",
          "coloraxis": {
           "colorbar": {
            "outlinewidth": 0,
            "ticks": ""
           }
          },
          "colorscale": {
           "diverging": [
            [
             0,
             "#8e0152"
            ],
            [
             0.1,
             "#c51b7d"
            ],
            [
             0.2,
             "#de77ae"
            ],
            [
             0.3,
             "#f1b6da"
            ],
            [
             0.4,
             "#fde0ef"
            ],
            [
             0.5,
             "#f7f7f7"
            ],
            [
             0.6,
             "#e6f5d0"
            ],
            [
             0.7,
             "#b8e186"
            ],
            [
             0.8,
             "#7fbc41"
            ],
            [
             0.9,
             "#4d9221"
            ],
            [
             1,
             "#276419"
            ]
           ],
           "sequential": [
            [
             0,
             "#0d0887"
            ],
            [
             0.1111111111111111,
             "#46039f"
            ],
            [
             0.2222222222222222,
             "#7201a8"
            ],
            [
             0.3333333333333333,
             "#9c179e"
            ],
            [
             0.4444444444444444,
             "#bd3786"
            ],
            [
             0.5555555555555556,
             "#d8576b"
            ],
            [
             0.6666666666666666,
             "#ed7953"
            ],
            [
             0.7777777777777778,
             "#fb9f3a"
            ],
            [
             0.8888888888888888,
             "#fdca26"
            ],
            [
             1,
             "#f0f921"
            ]
           ],
           "sequentialminus": [
            [
             0,
             "#0d0887"
            ],
            [
             0.1111111111111111,
             "#46039f"
            ],
            [
             0.2222222222222222,
             "#7201a8"
            ],
            [
             0.3333333333333333,
             "#9c179e"
            ],
            [
             0.4444444444444444,
             "#bd3786"
            ],
            [
             0.5555555555555556,
             "#d8576b"
            ],
            [
             0.6666666666666666,
             "#ed7953"
            ],
            [
             0.7777777777777778,
             "#fb9f3a"
            ],
            [
             0.8888888888888888,
             "#fdca26"
            ],
            [
             1,
             "#f0f921"
            ]
           ]
          },
          "colorway": [
           "#636efa",
           "#EF553B",
           "#00cc96",
           "#ab63fa",
           "#FFA15A",
           "#19d3f3",
           "#FF6692",
           "#B6E880",
           "#FF97FF",
           "#FECB52"
          ],
          "font": {
           "color": "#2a3f5f"
          },
          "geo": {
           "bgcolor": "white",
           "lakecolor": "white",
           "landcolor": "#E5ECF6",
           "showlakes": true,
           "showland": true,
           "subunitcolor": "white"
          },
          "hoverlabel": {
           "align": "left"
          },
          "hovermode": "closest",
          "mapbox": {
           "style": "light"
          },
          "paper_bgcolor": "white",
          "plot_bgcolor": "#E5ECF6",
          "polar": {
           "angularaxis": {
            "gridcolor": "white",
            "linecolor": "white",
            "ticks": ""
           },
           "bgcolor": "#E5ECF6",
           "radialaxis": {
            "gridcolor": "white",
            "linecolor": "white",
            "ticks": ""
           }
          },
          "scene": {
           "xaxis": {
            "backgroundcolor": "#E5ECF6",
            "gridcolor": "white",
            "gridwidth": 2,
            "linecolor": "white",
            "showbackground": true,
            "ticks": "",
            "zerolinecolor": "white"
           },
           "yaxis": {
            "backgroundcolor": "#E5ECF6",
            "gridcolor": "white",
            "gridwidth": 2,
            "linecolor": "white",
            "showbackground": true,
            "ticks": "",
            "zerolinecolor": "white"
           },
           "zaxis": {
            "backgroundcolor": "#E5ECF6",
            "gridcolor": "white",
            "gridwidth": 2,
            "linecolor": "white",
            "showbackground": true,
            "ticks": "",
            "zerolinecolor": "white"
           }
          },
          "shapedefaults": {
           "line": {
            "color": "#2a3f5f"
           }
          },
          "ternary": {
           "aaxis": {
            "gridcolor": "white",
            "linecolor": "white",
            "ticks": ""
           },
           "baxis": {
            "gridcolor": "white",
            "linecolor": "white",
            "ticks": ""
           },
           "bgcolor": "#E5ECF6",
           "caxis": {
            "gridcolor": "white",
            "linecolor": "white",
            "ticks": ""
           }
          },
          "title": {
           "x": 0.05
          },
          "xaxis": {
           "automargin": true,
           "gridcolor": "white",
           "linecolor": "white",
           "ticks": "",
           "title": {
            "standoff": 15
           },
           "zerolinecolor": "white",
           "zerolinewidth": 2
          },
          "yaxis": {
           "automargin": true,
           "gridcolor": "white",
           "linecolor": "white",
           "ticks": "",
           "title": {
            "standoff": 15
           },
           "zerolinecolor": "white",
           "zerolinewidth": 2
          }
         }
        },
        "title": {
         "text": "Embeddings Visualization with 2D t-SNE"
        },
        "xaxis": {
         "anchor": "y",
         "domain": [
          0,
          1
         ],
         "title": {
          "text": "t-SNE Component 1"
         }
        },
        "yaxis": {
         "anchor": "x",
         "domain": [
          0,
          1
         ],
         "title": {
          "text": "t-SNE Component 2"
         }
        }
       }
      }
     },
     "metadata": {},
     "output_type": "display_data"
    },
    {
     "data": {
      "application/vnd.plotly.v1+json": {
       "config": {
        "plotlyServerURL": "https://plot.ly"
       },
       "data": [
        {
         "customdata": [
          [
           "Auditorias"
          ],
          [
           "Auditorias"
          ],
          [
           "Auditorias"
          ],
          [
           "Auditorias"
          ],
          [
           "Auditorias"
          ],
          [
           "Auditorias"
          ],
          [
           "Auditorias"
          ],
          [
           "Auditorias"
          ],
          [
           "Auditorias"
          ],
          [
           "Auditorias"
          ],
          [
           "Auditorias"
          ],
          [
           "Auditorias"
          ],
          [
           "Auditorias"
          ],
          [
           "Auditorias"
          ],
          [
           "Auditorias"
          ],
          [
           "Auditorias"
          ],
          [
           "Auditorias"
          ],
          [
           "Auditorias"
          ],
          [
           "Auditorias"
          ],
          [
           "Auditorias"
          ],
          [
           "Auditorias"
          ],
          [
           "Auditorias"
          ],
          [
           "Auditorias"
          ],
          [
           "Auditorias"
          ],
          [
           "Auditorias"
          ],
          [
           "Auditorias"
          ],
          [
           "Auditorias"
          ],
          [
           "Auditorias"
          ],
          [
           "Auditorias"
          ],
          [
           "Auditorias"
          ]
         ],
         "hovertemplate": "color=Auditorias<br>PCA Component 1=%{x}<br>PCA Component 2=%{y}<br>PCA Component 3=%{z}<br>label=%{customdata[0]}<extra></extra>",
         "legendgroup": "Auditorias",
         "marker": {
          "color": "#636efa",
          "symbol": "circle"
         },
         "mode": "markers",
         "name": "Auditorias",
         "scene": "scene",
         "showlegend": true,
         "type": "scatter3d",
         "x": [
          -0.052444547,
          -0.19224973,
          -0.20323475,
          0.14081632,
          -0.3414985,
          -0.11217057,
          -0.27851325,
          -0.19050492,
          -0.18058899,
          -0.14303105,
          -0.30506963,
          -0.13422564,
          -0.11913497,
          -0.1644733,
          -0.3415015,
          -0.10612544,
          -0.23256557,
          -0.49486986,
          -0.311664,
          -1.0506867,
          -0.19571103,
          -0.27680627,
          -0.19571103,
          -0.018846055,
          -0.098226294,
          -0.11145629,
          -0.43599603,
          -0.37528962,
          0.04965692,
          -0.28757188
         ],
         "y": [
          -0.18464488,
          -0.1936503,
          -0.10349806,
          -0.071725555,
          -0.8380425,
          -0.10365521,
          -0.0053624804,
          -0.11549992,
          -0.061742187,
          -0.11230143,
          0.034488805,
          0.09634092,
          -0.09435962,
          -0.19904512,
          -0.8380411,
          -0.066238165,
          -0.108752415,
          -0.11855685,
          -0.037372693,
          0.109982826,
          0.16845733,
          -0.33926392,
          0.16845733,
          -0.48901266,
          -0.26611218,
          -0.22896218,
          -0.018517403,
          -0.017599633,
          -0.011176321,
          -0.13041224
         ],
         "z": [
          0.023115238,
          0.09948696,
          -0.017904108,
          -0.1801492,
          1.4921275,
          -0.028973792,
          0.3001987,
          -0.058761425,
          -0.020306667,
          -0.08408495,
          0.018620852,
          -0.18248342,
          -0.2310971,
          0.042858668,
          1.4921271,
          -0.067574695,
          -0.03468004,
          0.66642684,
          -0.017493352,
          1.7573152,
          0.039293695,
          1.073103,
          0.039293695,
          0.84503216,
          0.30577686,
          0.21590102,
          -0.1779938,
          -0.18048297,
          -0.19790642,
          -0.12051973
         ]
        },
        {
         "customdata": [
          [
           "Ausentismo"
          ],
          [
           "Ausentismo"
          ],
          [
           "Ausentismo"
          ],
          [
           "Ausentismo"
          ],
          [
           "Ausentismo"
          ],
          [
           "Ausentismo"
          ],
          [
           "Ausentismo"
          ],
          [
           "Ausentismo"
          ],
          [
           "Ausentismo"
          ],
          [
           "Ausentismo"
          ],
          [
           "Ausentismo"
          ],
          [
           "Ausentismo"
          ],
          [
           "Ausentismo"
          ],
          [
           "Ausentismo"
          ],
          [
           "Ausentismo"
          ],
          [
           "Ausentismo"
          ],
          [
           "Ausentismo"
          ],
          [
           "Ausentismo"
          ],
          [
           "Ausentismo"
          ],
          [
           "Ausentismo"
          ],
          [
           "Ausentismo"
          ],
          [
           "Ausentismo"
          ],
          [
           "Ausentismo"
          ],
          [
           "Ausentismo"
          ],
          [
           "Ausentismo"
          ],
          [
           "Ausentismo"
          ],
          [
           "Ausentismo"
          ],
          [
           "Ausentismo"
          ],
          [
           "Ausentismo"
          ],
          [
           "Ausentismo"
          ],
          [
           "Ausentismo"
          ],
          [
           "Ausentismo"
          ],
          [
           "Ausentismo"
          ],
          [
           "Ausentismo"
          ],
          [
           "Ausentismo"
          ],
          [
           "Ausentismo"
          ],
          [
           "Ausentismo"
          ],
          [
           "Ausentismo"
          ],
          [
           "Ausentismo"
          ],
          [
           "Ausentismo"
          ],
          [
           "Ausentismo"
          ],
          [
           "Ausentismo"
          ],
          [
           "Ausentismo"
          ],
          [
           "Ausentismo"
          ],
          [
           "Ausentismo"
          ]
         ],
         "hovertemplate": "color=Ausentismo<br>PCA Component 1=%{x}<br>PCA Component 2=%{y}<br>PCA Component 3=%{z}<br>label=%{customdata[0]}<extra></extra>",
         "legendgroup": "Ausentismo",
         "marker": {
          "color": "#EF553B",
          "symbol": "circle"
         },
         "mode": "markers",
         "name": "Ausentismo",
         "scene": "scene",
         "showlegend": true,
         "type": "scatter3d",
         "x": [
          0.11391813,
          -0.77049893,
          0.30307797,
          -0.15322931,
          0.24392892,
          0.11864338,
          -0.07942969,
          -0.107331045,
          0.91220254,
          -0.016753977,
          0.18766929,
          0.09947412,
          -0.3415015,
          -0.17004596,
          -0.15371688,
          0.035382103,
          -0.2432897,
          0.111882634,
          0.005005762,
          0.33527222,
          3.3076708,
          0.20596375,
          0.08666726,
          0.543258,
          -0.040244825,
          -0.3415015,
          -0.07153869,
          -1.0506867,
          -0.10088426,
          0.024993727,
          -0.04428449,
          3.3076708,
          -0.1315029,
          -0.10933212,
          -0.2654692,
          0.7647131,
          0.6848787,
          0.6352019,
          0.7647131,
          0.6848787,
          1.2356491,
          1.1219277,
          1.0364842,
          0.9309276,
          3.3076708
         ],
         "y": [
          1.7070984,
          0.48910972,
          -0.27889532,
          -0.20321389,
          -0.21140946,
          -0.1580076,
          -0.0641767,
          -0.04430154,
          0.0731306,
          -0.10399449,
          -0.14024569,
          -0.2565449,
          -0.8380412,
          -0.1410534,
          -0.07467353,
          -0.32629696,
          0.03686612,
          1.2731371,
          0.47461495,
          0.43287846,
          0.057251077,
          0.060783383,
          0.060919,
          1.223661,
          0.149825,
          -0.8380412,
          -0.15726328,
          0.109982826,
          0.034243822,
          0.09985977,
          0.015803145,
          0.057251077,
          0.026723748,
          -0.005083024,
          -0.0048158383,
          -0.35860124,
          -0.6032675,
          -0.20592019,
          -0.35860124,
          -0.6032675,
          -0.3399901,
          -0.38981134,
          -0.3516866,
          -0.39911282,
          0.057251077
         ],
         "z": [
          0.41485164,
          -1.100122,
          0.16005695,
          -0.17888696,
          0.117665574,
          0.030817227,
          -0.10504766,
          0.0920772,
          -0.14071578,
          -0.21292305,
          -0.24782388,
          0.042168073,
          1.4921271,
          -0.07703343,
          -0.22647731,
          0.12066122,
          -0.102125086,
          0.0151661,
          -0.16125031,
          -0.06476824,
          0.80356914,
          -0.23195562,
          -0.2717836,
          0.021424673,
          -0.24814238,
          1.4921271,
          -0.05365699,
          1.7573152,
          -0.13053167,
          0.904566,
          0.47068784,
          0.80356914,
          -0.14264876,
          -0.11086691,
          -0.34241152,
          -0.4056406,
          0.10900878,
          -0.14236827,
          -0.4056406,
          0.10900878,
          -0.00900613,
          0.07272082,
          0.42799616,
          -0.09603903,
          0.80356914
         ]
        },
        {
         "customdata": [
          [
           "Estructura Organizativa"
          ],
          [
           "Estructura Organizativa"
          ],
          [
           "Estructura Organizativa"
          ],
          [
           "Estructura Organizativa"
          ],
          [
           "Estructura Organizativa"
          ],
          [
           "Estructura Organizativa"
          ],
          [
           "Estructura Organizativa"
          ],
          [
           "Estructura Organizativa"
          ],
          [
           "Estructura Organizativa"
          ],
          [
           "Estructura Organizativa"
          ],
          [
           "Estructura Organizativa"
          ],
          [
           "Estructura Organizativa"
          ],
          [
           "Estructura Organizativa"
          ],
          [
           "Estructura Organizativa"
          ],
          [
           "Estructura Organizativa"
          ],
          [
           "Estructura Organizativa"
          ],
          [
           "Estructura Organizativa"
          ],
          [
           "Estructura Organizativa"
          ],
          [
           "Estructura Organizativa"
          ],
          [
           "Estructura Organizativa"
          ],
          [
           "Estructura Organizativa"
          ],
          [
           "Estructura Organizativa"
          ],
          [
           "Estructura Organizativa"
          ],
          [
           "Estructura Organizativa"
          ],
          [
           "Estructura Organizativa"
          ],
          [
           "Estructura Organizativa"
          ],
          [
           "Estructura Organizativa"
          ],
          [
           "Estructura Organizativa"
          ],
          [
           "Estructura Organizativa"
          ],
          [
           "Estructura Organizativa"
          ],
          [
           "Estructura Organizativa"
          ],
          [
           "Estructura Organizativa"
          ],
          [
           "Estructura Organizativa"
          ],
          [
           "Estructura Organizativa"
          ],
          [
           "Estructura Organizativa"
          ],
          [
           "Estructura Organizativa"
          ],
          [
           "Estructura Organizativa"
          ],
          [
           "Estructura Organizativa"
          ],
          [
           "Estructura Organizativa"
          ],
          [
           "Estructura Organizativa"
          ],
          [
           "Estructura Organizativa"
          ],
          [
           "Estructura Organizativa"
          ],
          [
           "Estructura Organizativa"
          ],
          [
           "Estructura Organizativa"
          ],
          [
           "Estructura Organizativa"
          ],
          [
           "Estructura Organizativa"
          ],
          [
           "Estructura Organizativa"
          ],
          [
           "Estructura Organizativa"
          ],
          [
           "Estructura Organizativa"
          ],
          [
           "Estructura Organizativa"
          ],
          [
           "Estructura Organizativa"
          ],
          [
           "Estructura Organizativa"
          ],
          [
           "Estructura Organizativa"
          ],
          [
           "Estructura Organizativa"
          ],
          [
           "Estructura Organizativa"
          ],
          [
           "Estructura Organizativa"
          ],
          [
           "Estructura Organizativa"
          ],
          [
           "Estructura Organizativa"
          ],
          [
           "Estructura Organizativa"
          ],
          [
           "Estructura Organizativa"
          ],
          [
           "Estructura Organizativa"
          ],
          [
           "Estructura Organizativa"
          ],
          [
           "Estructura Organizativa"
          ],
          [
           "Estructura Organizativa"
          ],
          [
           "Estructura Organizativa"
          ],
          [
           "Estructura Organizativa"
          ],
          [
           "Estructura Organizativa"
          ],
          [
           "Estructura Organizativa"
          ],
          [
           "Estructura Organizativa"
          ],
          [
           "Estructura Organizativa"
          ],
          [
           "Estructura Organizativa"
          ],
          [
           "Estructura Organizativa"
          ],
          [
           "Estructura Organizativa"
          ],
          [
           "Estructura Organizativa"
          ],
          [
           "Estructura Organizativa"
          ],
          [
           "Estructura Organizativa"
          ],
          [
           "Estructura Organizativa"
          ]
         ],
         "hovertemplate": "color=Estructura Organizativa<br>PCA Component 1=%{x}<br>PCA Component 2=%{y}<br>PCA Component 3=%{z}<br>label=%{customdata[0]}<extra></extra>",
         "legendgroup": "Estructura Organizativa",
         "marker": {
          "color": "#00cc96",
          "symbol": "circle"
         },
         "mode": "markers",
         "name": "Estructura Organizativa",
         "scene": "scene",
         "showlegend": true,
         "type": "scatter3d",
         "x": [
          0.11391813,
          -0.46746275,
          -0.77049893,
          -0.15851791,
          0.03343723,
          -0.31814626,
          0.04496727,
          -0.22411902,
          -0.2417126,
          -0.22280122,
          -0.092232294,
          -0.1469905,
          1.2506812,
          -0.19068296,
          -0.22612828,
          -0.29769936,
          -0.14386886,
          -0.12974142,
          -0.39001742,
          0.10771977,
          0.015757577,
          -0.16880105,
          -0.1588488,
          -0.09595531,
          -0.3011027,
          0.03813255,
          0.40829584,
          -0.118614405,
          -0.16962762,
          -0.13718817,
          -0.07269733,
          -0.15398625,
          -0.15995488,
          0.18001562,
          0.881389,
          0.38305452,
          0.27876043,
          0.41756606,
          0.4739668,
          -0.18932612,
          0.32302585,
          0.062497783,
          -0.05049682,
          0.08124538,
          -0.077270485,
          -0.18616624,
          -0.24426407,
          -0.027652636,
          0.881389,
          0.12934774,
          -0.06899338,
          -0.07236619,
          -0.06756446,
          0.21878059,
          -0.17843217,
          -0.2627128,
          -0.18291211,
          -0.27501407,
          -0.21209033,
          -0.23542854,
          -0.08943434,
          -0.23328154,
          -0.19131525,
          0.10771977,
          -0.055205993,
          0.31207943,
          -0.16092432,
          -0.28371274,
          -0.26332805,
          -0.3104845,
          -0.29057014,
          0.10771977,
          -0.24105674,
          -0.16050096,
          -0.1490248,
          -0.15108559,
          -0.02529071
         ],
         "y": [
          1.7070984,
          -0.17546897,
          0.48910972,
          -0.30453438,
          -0.25606984,
          -0.20619832,
          -0.09419316,
          -0.08339311,
          0.13920192,
          -0.082304865,
          -0.07545526,
          -0.119968444,
          -0.5339791,
          -0.014422734,
          -0.011897069,
          -0.15661646,
          0.12838669,
          -0.07377898,
          -0.028747309,
          2.5283425,
          0.26569623,
          -0.16440062,
          -0.02778672,
          0.049557168,
          -0.006298306,
          -0.029864235,
          -0.11860189,
          -0.008031661,
          0.101788566,
          -0.16167793,
          -0.07733404,
          0.049007133,
          -0.019894017,
          -0.2643731,
          -0.10696883,
          -0.060611308,
          -0.23756407,
          -0.24040098,
          -0.17104094,
          -0.17200257,
          0.07541424,
          0.12382799,
          0.15286532,
          1.7329237,
          0.38044518,
          -0.1019787,
          -0.10127418,
          -0.0575736,
          -0.10696883,
          -0.13714436,
          0.1328325,
          -0.003992256,
          -0.026316358,
          -0.3933334,
          -0.12067048,
          -0.034635082,
          0.060690686,
          -0.07377921,
          -0.12318835,
          0.07443765,
          0.23689863,
          -0.017824536,
          0.059195943,
          2.5283425,
          0.26458457,
          -0.321915,
          -0.08386313,
          0.027388653,
          0.07485418,
          0.04237314,
          0.16075262,
          2.5283425,
          0.09509868,
          -0.019618472,
          -0.14490396,
          -0.04747051,
          0.31807727
         ],
         "z": [
          0.41485164,
          0.5184019,
          -1.100122,
          0.08627664,
          -0.10197784,
          -0.09184334,
          -0.15219061,
          -0.100155376,
          -0.16513349,
          -0.1935507,
          -0.1515548,
          -0.091537416,
          -0.45343757,
          -0.2336151,
          -0.21815616,
          -0.32671285,
          -0.26415795,
          -0.19691503,
          -0.2784971,
          0.5215684,
          -0.2783874,
          -0.237883,
          -0.31908095,
          -0.18879195,
          -0.31975722,
          -0.21195237,
          -0.33428404,
          -0.4313626,
          -0.24555156,
          -0.22017486,
          -0.27423435,
          -0.24311656,
          -0.213871,
          -0.2963084,
          -1.0107062,
          -0.3788724,
          -0.43954918,
          -0.25905913,
          -0.5953057,
          -0.22846103,
          -0.38915437,
          -0.3663358,
          -0.42779455,
          0.6332356,
          -0.23783036,
          -0.17484164,
          -0.006596602,
          -0.18853337,
          -1.0107062,
          -0.2079245,
          -0.20656113,
          -0.33421683,
          -0.19058846,
          -0.29670686,
          -0.1334465,
          -0.38252705,
          -0.12889236,
          -0.06782009,
          -0.39725512,
          -0.14123027,
          -0.19826598,
          -0.1860364,
          -0.2115676,
          0.5215684,
          -0.28935236,
          -0.43602496,
          -0.11259914,
          -0.4571049,
          -0.12928563,
          -0.43659696,
          -0.3909702,
          0.5215684,
          -0.15966506,
          -0.1496986,
          -0.026997037,
          -0.22771683,
          -0.2635244
         ]
        },
        {
         "customdata": [
          [
           "Riesgos"
          ],
          [
           "Riesgos"
          ],
          [
           "Riesgos"
          ],
          [
           "Riesgos"
          ],
          [
           "Riesgos"
          ],
          [
           "Riesgos"
          ],
          [
           "Riesgos"
          ],
          [
           "Riesgos"
          ],
          [
           "Riesgos"
          ],
          [
           "Riesgos"
          ],
          [
           "Riesgos"
          ],
          [
           "Riesgos"
          ],
          [
           "Riesgos"
          ],
          [
           "Riesgos"
          ],
          [
           "Riesgos"
          ],
          [
           "Riesgos"
          ],
          [
           "Riesgos"
          ],
          [
           "Riesgos"
          ],
          [
           "Riesgos"
          ],
          [
           "Riesgos"
          ],
          [
           "Riesgos"
          ]
         ],
         "hovertemplate": "color=Riesgos<br>PCA Component 1=%{x}<br>PCA Component 2=%{y}<br>PCA Component 3=%{z}<br>label=%{customdata[0]}<extra></extra>",
         "legendgroup": "Riesgos",
         "marker": {
          "color": "#ab63fa",
          "symbol": "circle"
         },
         "mode": "markers",
         "name": "Riesgos",
         "scene": "scene",
         "showlegend": true,
         "type": "scatter3d",
         "x": [
          0.11391813,
          -0.27675712,
          -0.32628337,
          -0.6625945,
          0.00880332,
          -0.08863448,
          -0.39161196,
          -0.2848283,
          0.30248177,
          -0.18810442,
          0.43764156,
          0.12893514,
          -0.010646589,
          -0.025649004,
          -0.17836842,
          -0.41625795,
          -0.108374484,
          0.91790324,
          -0.059377797,
          -0.2284944,
          0.041695356
         ],
         "y": [
          1.7070984,
          -0.3495345,
          -0.024675068,
          -0.25812298,
          -0.29507992,
          -0.17155641,
          -0.1042942,
          -0.099414304,
          -0.07257472,
          -0.20023976,
          -0.42637208,
          -0.15275136,
          -0.19569124,
          0.09677537,
          -0.18160227,
          -0.14918408,
          -0.20704919,
          -0.39993325,
          -0.005856056,
          -0.09569358,
          -0.21203366
         ],
         "z": [
          0.41485164,
          0.60223675,
          0.38883683,
          0.4389658,
          0.11059489,
          -0.029180575,
          0.25329882,
          0.17271589,
          -0.27049038,
          -0.16047056,
          -0.023277244,
          -0.3720502,
          -0.100125276,
          -0.28546327,
          -0.042733148,
          0.27992284,
          0.24937624,
          0.14755458,
          -0.047738794,
          0.06252957,
          -0.009953384
         ]
        },
        {
         "customdata": [
          [
           "Información"
          ],
          [
           "Información"
          ],
          [
           "Información"
          ],
          [
           "Información"
          ],
          [
           "Información"
          ],
          [
           "Información"
          ],
          [
           "Información"
          ],
          [
           "Información"
          ],
          [
           "Información"
          ]
         ],
         "hovertemplate": "color=Información<br>PCA Component 1=%{x}<br>PCA Component 2=%{y}<br>PCA Component 3=%{z}<br>label=%{customdata[0]}<extra></extra>",
         "legendgroup": "Información",
         "marker": {
          "color": "#FFA15A",
          "symbol": "circle"
         },
         "mode": "markers",
         "name": "Información",
         "scene": "scene",
         "showlegend": true,
         "type": "scatter3d",
         "x": [
          0.11391813,
          -0.27675712,
          -0.77049893,
          -0.2263785,
          -0.53980744,
          -0.5079578,
          -0.6002361,
          -0.14787121,
          -0.20920548
         ],
         "y": [
          1.7070984,
          -0.3495345,
          0.48910972,
          -0.15514271,
          0.29606834,
          -0.04766224,
          0.03633993,
          0.07027786,
          0.09504804
         ],
         "z": [
          0.41485164,
          0.60223675,
          -1.100122,
          0.16462597,
          1.1713682,
          0.1593424,
          0.17208852,
          0.0014897056,
          0.09484589
         ]
        },
        {
         "customdata": [
          [
           "Emergencia"
          ],
          [
           "Emergencia"
          ],
          [
           "Emergencia"
          ],
          [
           "Emergencia"
          ],
          [
           "Emergencia"
          ],
          [
           "Emergencia"
          ],
          [
           "Emergencia"
          ],
          [
           "Emergencia"
          ],
          [
           "Emergencia"
          ],
          [
           "Emergencia"
          ],
          [
           "Emergencia"
          ]
         ],
         "hovertemplate": "color=Emergencia<br>PCA Component 1=%{x}<br>PCA Component 2=%{y}<br>PCA Component 3=%{z}<br>label=%{customdata[0]}<extra></extra>",
         "legendgroup": "Emergencia",
         "marker": {
          "color": "#19d3f3",
          "symbol": "circle"
         },
         "mode": "markers",
         "name": "Emergencia",
         "scene": "scene",
         "showlegend": true,
         "type": "scatter3d",
         "x": [
          -0.1175729,
          0.21662943,
          0.08598771,
          -0.24990548,
          0.057762977,
          -0.03590703,
          -0.15883245,
          -0.11374739,
          -0.113210686,
          -0.2651644,
          -0.2330233
         ],
         "y": [
          -0.26769498,
          -0.20095116,
          -0.25214738,
          -0.19048105,
          -0.08375739,
          -0.12593196,
          -0.16159706,
          -0.12742378,
          -0.11997992,
          0.026056051,
          -0.022335717
         ],
         "z": [
          0.15681839,
          -0.081673816,
          0.14186123,
          -0.09160468,
          -0.07049213,
          0.13703978,
          -0.03911379,
          -0.078539625,
          -0.076396115,
          -0.13747068,
          -0.2547777
         ]
        },
        {
         "customdata": [
          [
           "Question: ¿Cómo se diferencia la ubicación física de la operativa?<br>Closest Model: Riesgos<br>Similarity: 0.70<br>Chunk: DOCUMENTOS\nEl usuario accede a la pestaña Documentos y visualiza el listado de informes generados ta..."
          ],
          [
           "Question: ¿Qué información se incluye en el informe de la evaluación de riesgos que ofrece la plataforma y cuál es su utilidad para la gestión de riesgos en la empresa?<br>Closest Model: Riesgos<br>Similarity: 0.88<br>Chunk: CONTENIDO\nSabentis es la nueva plataforma de gestión especializada en el ámbito de seguridad y salud..."
          ],
          [
           "Question: ¿Hay indicadores relativos al cumplimiento de normas?<br>Closest Model: Auditorias<br>Similarity: 0.71<br>Chunk: Versión  Fecha  Comentarios  Autor  1.0  29/09/2022  Redacción  Núria Zaragoza\nSabentis es la nueva ..."
          ],
          [
           "Question: ¿Qué papel juega la estructura organizativa en la funcionalidad general de la plataforma y cómo interactúa con otros módulos?<br>Closest Model: Estructura Organizativa<br>Similarity: 0.86<br>Chunk: El usuario puede acceder al módulo Estructura Organizativa (EO), desde las opciones:  •  La entrada ..."
          ],
          [
           "Question: ¿Qué permite realizar la evaluación de riesgos?<br>Closest Model: Riesgos<br>Similarity: 0.86<br>Chunk: CONTENIDO\nSabentis es la nueva plataforma de gestión especializada en el ámbito de seguridad y salud..."
          ],
          [
           "Question: ¿Qué tipo de documentos se pueden almacenar y compartir en el espacio denominado 'Documentos' y cuál es su importancia dentro del contexto de la gestión empresarial en la plataforma?<br>Closest Model: Información<br>Similarity: 0.87<br>Chunk: 3. REPOSITORIO DOCUMENTAL DE LA EMPRESA\nEl usuario accede al cardboard “Repositorio documental” y vi..."
          ],
          [
           "Question: ¿Se pueden llevar a cabo auditorías internas?<br>Closest Model: Emergencia<br>Similarity: 0.77<br>Chunk: La pestaña evaluación de aspectos legales permite al usuario evaluar los cuestionarios  aplicables a..."
          ],
          [
           "Question: ¿Cuál es la tasa de adopción de esta plataforma en el mercado?<br>Closest Model: Información<br>Similarity: 0.72<br>Chunk: Sabentis es la nueva plataforma de gestión especializada en el ámbito de Seguridad y Salud en  el Tr..."
          ],
          [
           "Question: ¿Cómo se compara esta plataforma con otras soluciones de gestión de SST?<br>Closest Model: Estructura Organizativa<br>Similarity: 0.84<br>Chunk: Sabentis es la nueva plataforma de gestión especializada en el ámbito de Seguridad y Salud  en el Tr..."
          ],
          [
           "Question: ¿Qué día hará mañana?<br>Closest Model: Estructura Organizativa<br>Similarity: 0.63<br>Chunk: Documento  Manual de uso: Estructura organizativa (GE).  Descripción  Manual guía de usuario del mód..."
          ]
         ],
         "hovertemplate": "color=Question<br>PCA Component 1=%{x}<br>PCA Component 2=%{y}<br>PCA Component 3=%{z}<br>label=%{customdata[0]}<extra></extra>",
         "legendgroup": "Question",
         "marker": {
          "color": "#FF6692",
          "symbol": "circle"
         },
         "mode": "markers",
         "name": "Question",
         "scene": "scene",
         "showlegend": true,
         "type": "scatter3d",
         "x": [
          -0.28758565,
          -0.16001411,
          0.5239876,
          -0.29693615,
          0.0855951,
          -0.18165609,
          0.3050268,
          -0.034642026,
          -0.44171375,
          -0.6426304
         ],
         "y": [
          -0.6211244,
          -0.16184439,
          0.2856797,
          -0.17688219,
          -0.2567163,
          0.22497363,
          -0.13201836,
          -0.26298404,
          -0.33773002,
          -0.7143853
         ],
         "z": [
          0.6515343,
          0.32899487,
          -0.005309366,
          -0.22031516,
          0.041565686,
          -0.12277588,
          -0.22166173,
          -0.061581858,
          0.17240384,
          1.1009768
         ]
        },
        {
         "mode": "markers+text",
         "showlegend": false,
         "text": "Q1",
         "textposition": "top center",
         "type": "scatter3d",
         "x": [
          -0.28758564591407776
         ],
         "y": [
          -0.6211243867874146
         ],
         "z": [
          0.6515343189239502
         ]
        },
        {
         "mode": "markers+text",
         "showlegend": false,
         "text": "Q2",
         "textposition": "top center",
         "type": "scatter3d",
         "x": [
          -0.1600141078233719
         ],
         "y": [
          -0.1618443876504898
         ],
         "z": [
          0.32899487018585205
         ]
        },
        {
         "mode": "markers+text",
         "showlegend": false,
         "text": "Q3",
         "textposition": "top center",
         "type": "scatter3d",
         "x": [
          0.5239875912666321
         ],
         "y": [
          0.2856796979904175
         ],
         "z": [
          -0.005309366155415773
         ]
        },
        {
         "mode": "markers+text",
         "showlegend": false,
         "text": "Q4",
         "textposition": "top center",
         "type": "scatter3d",
         "x": [
          -0.29693615436553955
         ],
         "y": [
          -0.17688219249248505
         ],
         "z": [
          -0.22031515836715698
         ]
        },
        {
         "mode": "markers+text",
         "showlegend": false,
         "text": "Q5",
         "textposition": "top center",
         "type": "scatter3d",
         "x": [
          0.08559510111808777
         ],
         "y": [
          -0.2567163109779358
         ],
         "z": [
          0.04156568646430969
         ]
        },
        {
         "mode": "markers+text",
         "showlegend": false,
         "text": "Q6",
         "textposition": "top center",
         "type": "scatter3d",
         "x": [
          -0.1816560924053192
         ],
         "y": [
          0.2249736338853836
         ],
         "z": [
          -0.12277588248252869
         ]
        },
        {
         "mode": "markers+text",
         "showlegend": false,
         "text": "Q7",
         "textposition": "top center",
         "type": "scatter3d",
         "x": [
          0.3050267994403839
         ],
         "y": [
          -0.13201835751533508
         ],
         "z": [
          -0.2216617316007614
         ]
        },
        {
         "mode": "markers+text",
         "showlegend": false,
         "text": "Q8",
         "textposition": "top center",
         "type": "scatter3d",
         "x": [
          -0.03464202582836151
         ],
         "y": [
          -0.262984037399292
         ],
         "z": [
          -0.06158185750246048
         ]
        },
        {
         "mode": "markers+text",
         "showlegend": false,
         "text": "Q9",
         "textposition": "top center",
         "type": "scatter3d",
         "x": [
          -0.44171375036239624
         ],
         "y": [
          -0.3377300202846527
         ],
         "z": [
          0.17240384221076965
         ]
        },
        {
         "mode": "markers+text",
         "showlegend": false,
         "text": "Q10",
         "textposition": "top center",
         "type": "scatter3d",
         "x": [
          -0.642630398273468
         ],
         "y": [
          -0.7143852710723877
         ],
         "z": [
          1.100976824760437
         ]
        }
       ],
       "layout": {
        "legend": {
         "title": {
          "text": "color"
         },
         "tracegroupgap": 0
        },
        "scene": {
         "domain": {
          "x": [
           0,
           1
          ],
          "y": [
           0,
           1
          ]
         },
         "xaxis": {
          "title": {
           "text": "PCA Component 1"
          }
         },
         "yaxis": {
          "title": {
           "text": "PCA Component 2"
          }
         },
         "zaxis": {
          "title": {
           "text": "PCA Component 3"
          }
         }
        },
        "template": {
         "data": {
          "bar": [
           {
            "error_x": {
             "color": "#2a3f5f"
            },
            "error_y": {
             "color": "#2a3f5f"
            },
            "marker": {
             "line": {
              "color": "#E5ECF6",
              "width": 0.5
             },
             "pattern": {
              "fillmode": "overlay",
              "size": 10,
              "solidity": 0.2
             }
            },
            "type": "bar"
           }
          ],
          "barpolar": [
           {
            "marker": {
             "line": {
              "color": "#E5ECF6",
              "width": 0.5
             },
             "pattern": {
              "fillmode": "overlay",
              "size": 10,
              "solidity": 0.2
             }
            },
            "type": "barpolar"
           }
          ],
          "carpet": [
           {
            "aaxis": {
             "endlinecolor": "#2a3f5f",
             "gridcolor": "white",
             "linecolor": "white",
             "minorgridcolor": "white",
             "startlinecolor": "#2a3f5f"
            },
            "baxis": {
             "endlinecolor": "#2a3f5f",
             "gridcolor": "white",
             "linecolor": "white",
             "minorgridcolor": "white",
             "startlinecolor": "#2a3f5f"
            },
            "type": "carpet"
           }
          ],
          "choropleth": [
           {
            "colorbar": {
             "outlinewidth": 0,
             "ticks": ""
            },
            "type": "choropleth"
           }
          ],
          "contour": [
           {
            "colorbar": {
             "outlinewidth": 0,
             "ticks": ""
            },
            "colorscale": [
             [
              0,
              "#0d0887"
             ],
             [
              0.1111111111111111,
              "#46039f"
             ],
             [
              0.2222222222222222,
              "#7201a8"
             ],
             [
              0.3333333333333333,
              "#9c179e"
             ],
             [
              0.4444444444444444,
              "#bd3786"
             ],
             [
              0.5555555555555556,
              "#d8576b"
             ],
             [
              0.6666666666666666,
              "#ed7953"
             ],
             [
              0.7777777777777778,
              "#fb9f3a"
             ],
             [
              0.8888888888888888,
              "#fdca26"
             ],
             [
              1,
              "#f0f921"
             ]
            ],
            "type": "contour"
           }
          ],
          "contourcarpet": [
           {
            "colorbar": {
             "outlinewidth": 0,
             "ticks": ""
            },
            "type": "contourcarpet"
           }
          ],
          "heatmap": [
           {
            "colorbar": {
             "outlinewidth": 0,
             "ticks": ""
            },
            "colorscale": [
             [
              0,
              "#0d0887"
             ],
             [
              0.1111111111111111,
              "#46039f"
             ],
             [
              0.2222222222222222,
              "#7201a8"
             ],
             [
              0.3333333333333333,
              "#9c179e"
             ],
             [
              0.4444444444444444,
              "#bd3786"
             ],
             [
              0.5555555555555556,
              "#d8576b"
             ],
             [
              0.6666666666666666,
              "#ed7953"
             ],
             [
              0.7777777777777778,
              "#fb9f3a"
             ],
             [
              0.8888888888888888,
              "#fdca26"
             ],
             [
              1,
              "#f0f921"
             ]
            ],
            "type": "heatmap"
           }
          ],
          "heatmapgl": [
           {
            "colorbar": {
             "outlinewidth": 0,
             "ticks": ""
            },
            "colorscale": [
             [
              0,
              "#0d0887"
             ],
             [
              0.1111111111111111,
              "#46039f"
             ],
             [
              0.2222222222222222,
              "#7201a8"
             ],
             [
              0.3333333333333333,
              "#9c179e"
             ],
             [
              0.4444444444444444,
              "#bd3786"
             ],
             [
              0.5555555555555556,
              "#d8576b"
             ],
             [
              0.6666666666666666,
              "#ed7953"
             ],
             [
              0.7777777777777778,
              "#fb9f3a"
             ],
             [
              0.8888888888888888,
              "#fdca26"
             ],
             [
              1,
              "#f0f921"
             ]
            ],
            "type": "heatmapgl"
           }
          ],
          "histogram": [
           {
            "marker": {
             "pattern": {
              "fillmode": "overlay",
              "size": 10,
              "solidity": 0.2
             }
            },
            "type": "histogram"
           }
          ],
          "histogram2d": [
           {
            "colorbar": {
             "outlinewidth": 0,
             "ticks": ""
            },
            "colorscale": [
             [
              0,
              "#0d0887"
             ],
             [
              0.1111111111111111,
              "#46039f"
             ],
             [
              0.2222222222222222,
              "#7201a8"
             ],
             [
              0.3333333333333333,
              "#9c179e"
             ],
             [
              0.4444444444444444,
              "#bd3786"
             ],
             [
              0.5555555555555556,
              "#d8576b"
             ],
             [
              0.6666666666666666,
              "#ed7953"
             ],
             [
              0.7777777777777778,
              "#fb9f3a"
             ],
             [
              0.8888888888888888,
              "#fdca26"
             ],
             [
              1,
              "#f0f921"
             ]
            ],
            "type": "histogram2d"
           }
          ],
          "histogram2dcontour": [
           {
            "colorbar": {
             "outlinewidth": 0,
             "ticks": ""
            },
            "colorscale": [
             [
              0,
              "#0d0887"
             ],
             [
              0.1111111111111111,
              "#46039f"
             ],
             [
              0.2222222222222222,
              "#7201a8"
             ],
             [
              0.3333333333333333,
              "#9c179e"
             ],
             [
              0.4444444444444444,
              "#bd3786"
             ],
             [
              0.5555555555555556,
              "#d8576b"
             ],
             [
              0.6666666666666666,
              "#ed7953"
             ],
             [
              0.7777777777777778,
              "#fb9f3a"
             ],
             [
              0.8888888888888888,
              "#fdca26"
             ],
             [
              1,
              "#f0f921"
             ]
            ],
            "type": "histogram2dcontour"
           }
          ],
          "mesh3d": [
           {
            "colorbar": {
             "outlinewidth": 0,
             "ticks": ""
            },
            "type": "mesh3d"
           }
          ],
          "parcoords": [
           {
            "line": {
             "colorbar": {
              "outlinewidth": 0,
              "ticks": ""
             }
            },
            "type": "parcoords"
           }
          ],
          "pie": [
           {
            "automargin": true,
            "type": "pie"
           }
          ],
          "scatter": [
           {
            "fillpattern": {
             "fillmode": "overlay",
             "size": 10,
             "solidity": 0.2
            },
            "type": "scatter"
           }
          ],
          "scatter3d": [
           {
            "line": {
             "colorbar": {
              "outlinewidth": 0,
              "ticks": ""
             }
            },
            "marker": {
             "colorbar": {
              "outlinewidth": 0,
              "ticks": ""
             }
            },
            "type": "scatter3d"
           }
          ],
          "scattercarpet": [
           {
            "marker": {
             "colorbar": {
              "outlinewidth": 0,
              "ticks": ""
             }
            },
            "type": "scattercarpet"
           }
          ],
          "scattergeo": [
           {
            "marker": {
             "colorbar": {
              "outlinewidth": 0,
              "ticks": ""
             }
            },
            "type": "scattergeo"
           }
          ],
          "scattergl": [
           {
            "marker": {
             "colorbar": {
              "outlinewidth": 0,
              "ticks": ""
             }
            },
            "type": "scattergl"
           }
          ],
          "scattermapbox": [
           {
            "marker": {
             "colorbar": {
              "outlinewidth": 0,
              "ticks": ""
             }
            },
            "type": "scattermapbox"
           }
          ],
          "scatterpolar": [
           {
            "marker": {
             "colorbar": {
              "outlinewidth": 0,
              "ticks": ""
             }
            },
            "type": "scatterpolar"
           }
          ],
          "scatterpolargl": [
           {
            "marker": {
             "colorbar": {
              "outlinewidth": 0,
              "ticks": ""
             }
            },
            "type": "scatterpolargl"
           }
          ],
          "scatterternary": [
           {
            "marker": {
             "colorbar": {
              "outlinewidth": 0,
              "ticks": ""
             }
            },
            "type": "scatterternary"
           }
          ],
          "surface": [
           {
            "colorbar": {
             "outlinewidth": 0,
             "ticks": ""
            },
            "colorscale": [
             [
              0,
              "#0d0887"
             ],
             [
              0.1111111111111111,
              "#46039f"
             ],
             [
              0.2222222222222222,
              "#7201a8"
             ],
             [
              0.3333333333333333,
              "#9c179e"
             ],
             [
              0.4444444444444444,
              "#bd3786"
             ],
             [
              0.5555555555555556,
              "#d8576b"
             ],
             [
              0.6666666666666666,
              "#ed7953"
             ],
             [
              0.7777777777777778,
              "#fb9f3a"
             ],
             [
              0.8888888888888888,
              "#fdca26"
             ],
             [
              1,
              "#f0f921"
             ]
            ],
            "type": "surface"
           }
          ],
          "table": [
           {
            "cells": {
             "fill": {
              "color": "#EBF0F8"
             },
             "line": {
              "color": "white"
             }
            },
            "header": {
             "fill": {
              "color": "#C8D4E3"
             },
             "line": {
              "color": "white"
             }
            },
            "type": "table"
           }
          ]
         },
         "layout": {
          "annotationdefaults": {
           "arrowcolor": "#2a3f5f",
           "arrowhead": 0,
           "arrowwidth": 1
          },
          "autotypenumbers": "strict",
          "coloraxis": {
           "colorbar": {
            "outlinewidth": 0,
            "ticks": ""
           }
          },
          "colorscale": {
           "diverging": [
            [
             0,
             "#8e0152"
            ],
            [
             0.1,
             "#c51b7d"
            ],
            [
             0.2,
             "#de77ae"
            ],
            [
             0.3,
             "#f1b6da"
            ],
            [
             0.4,
             "#fde0ef"
            ],
            [
             0.5,
             "#f7f7f7"
            ],
            [
             0.6,
             "#e6f5d0"
            ],
            [
             0.7,
             "#b8e186"
            ],
            [
             0.8,
             "#7fbc41"
            ],
            [
             0.9,
             "#4d9221"
            ],
            [
             1,
             "#276419"
            ]
           ],
           "sequential": [
            [
             0,
             "#0d0887"
            ],
            [
             0.1111111111111111,
             "#46039f"
            ],
            [
             0.2222222222222222,
             "#7201a8"
            ],
            [
             0.3333333333333333,
             "#9c179e"
            ],
            [
             0.4444444444444444,
             "#bd3786"
            ],
            [
             0.5555555555555556,
             "#d8576b"
            ],
            [
             0.6666666666666666,
             "#ed7953"
            ],
            [
             0.7777777777777778,
             "#fb9f3a"
            ],
            [
             0.8888888888888888,
             "#fdca26"
            ],
            [
             1,
             "#f0f921"
            ]
           ],
           "sequentialminus": [
            [
             0,
             "#0d0887"
            ],
            [
             0.1111111111111111,
             "#46039f"
            ],
            [
             0.2222222222222222,
             "#7201a8"
            ],
            [
             0.3333333333333333,
             "#9c179e"
            ],
            [
             0.4444444444444444,
             "#bd3786"
            ],
            [
             0.5555555555555556,
             "#d8576b"
            ],
            [
             0.6666666666666666,
             "#ed7953"
            ],
            [
             0.7777777777777778,
             "#fb9f3a"
            ],
            [
             0.8888888888888888,
             "#fdca26"
            ],
            [
             1,
             "#f0f921"
            ]
           ]
          },
          "colorway": [
           "#636efa",
           "#EF553B",
           "#00cc96",
           "#ab63fa",
           "#FFA15A",
           "#19d3f3",
           "#FF6692",
           "#B6E880",
           "#FF97FF",
           "#FECB52"
          ],
          "font": {
           "color": "#2a3f5f"
          },
          "geo": {
           "bgcolor": "white",
           "lakecolor": "white",
           "landcolor": "#E5ECF6",
           "showlakes": true,
           "showland": true,
           "subunitcolor": "white"
          },
          "hoverlabel": {
           "align": "left"
          },
          "hovermode": "closest",
          "mapbox": {
           "style": "light"
          },
          "paper_bgcolor": "white",
          "plot_bgcolor": "#E5ECF6",
          "polar": {
           "angularaxis": {
            "gridcolor": "white",
            "linecolor": "white",
            "ticks": ""
           },
           "bgcolor": "#E5ECF6",
           "radialaxis": {
            "gridcolor": "white",
            "linecolor": "white",
            "ticks": ""
           }
          },
          "scene": {
           "xaxis": {
            "backgroundcolor": "#E5ECF6",
            "gridcolor": "white",
            "gridwidth": 2,
            "linecolor": "white",
            "showbackground": true,
            "ticks": "",
            "zerolinecolor": "white"
           },
           "yaxis": {
            "backgroundcolor": "#E5ECF6",
            "gridcolor": "white",
            "gridwidth": 2,
            "linecolor": "white",
            "showbackground": true,
            "ticks": "",
            "zerolinecolor": "white"
           },
           "zaxis": {
            "backgroundcolor": "#E5ECF6",
            "gridcolor": "white",
            "gridwidth": 2,
            "linecolor": "white",
            "showbackground": true,
            "ticks": "",
            "zerolinecolor": "white"
           }
          },
          "shapedefaults": {
           "line": {
            "color": "#2a3f5f"
           }
          },
          "ternary": {
           "aaxis": {
            "gridcolor": "white",
            "linecolor": "white",
            "ticks": ""
           },
           "baxis": {
            "gridcolor": "white",
            "linecolor": "white",
            "ticks": ""
           },
           "bgcolor": "#E5ECF6",
           "caxis": {
            "gridcolor": "white",
            "linecolor": "white",
            "ticks": ""
           }
          },
          "title": {
           "x": 0.05
          },
          "xaxis": {
           "automargin": true,
           "gridcolor": "white",
           "linecolor": "white",
           "ticks": "",
           "title": {
            "standoff": 15
           },
           "zerolinecolor": "white",
           "zerolinewidth": 2
          },
          "yaxis": {
           "automargin": true,
           "gridcolor": "white",
           "linecolor": "white",
           "ticks": "",
           "title": {
            "standoff": 15
           },
           "zerolinecolor": "white",
           "zerolinewidth": 2
          }
         }
        },
        "title": {
         "text": "Embeddings Visualization with 3D PCA"
        }
       }
      }
     },
     "metadata": {},
     "output_type": "display_data"
    },
    {
     "data": {
      "application/vnd.plotly.v1+json": {
       "config": {
        "plotlyServerURL": "https://plot.ly"
       },
       "data": [
        {
         "customdata": [
          [
           "Auditorias"
          ],
          [
           "Auditorias"
          ],
          [
           "Auditorias"
          ],
          [
           "Auditorias"
          ],
          [
           "Auditorias"
          ],
          [
           "Auditorias"
          ],
          [
           "Auditorias"
          ],
          [
           "Auditorias"
          ],
          [
           "Auditorias"
          ],
          [
           "Auditorias"
          ],
          [
           "Auditorias"
          ],
          [
           "Auditorias"
          ],
          [
           "Auditorias"
          ],
          [
           "Auditorias"
          ],
          [
           "Auditorias"
          ],
          [
           "Auditorias"
          ],
          [
           "Auditorias"
          ],
          [
           "Auditorias"
          ],
          [
           "Auditorias"
          ],
          [
           "Auditorias"
          ],
          [
           "Auditorias"
          ],
          [
           "Auditorias"
          ],
          [
           "Auditorias"
          ],
          [
           "Auditorias"
          ],
          [
           "Auditorias"
          ],
          [
           "Auditorias"
          ],
          [
           "Auditorias"
          ],
          [
           "Auditorias"
          ],
          [
           "Auditorias"
          ],
          [
           "Auditorias"
          ]
         ],
         "hovertemplate": "color=Auditorias<br>t-SNE Component 1=%{x}<br>t-SNE Component 2=%{y}<br>t-SNE Component 3=%{z}<br>label=%{customdata[0]}<extra></extra>",
         "legendgroup": "Auditorias",
         "marker": {
          "color": "#636efa",
          "symbol": "circle"
         },
         "mode": "markers",
         "name": "Auditorias",
         "scene": "scene",
         "showlegend": true,
         "type": "scatter3d",
         "x": [
          55.381237,
          46.921364,
          -9.997046,
          29.370607,
          84.90366,
          17.27063,
          59.421757,
          41.27397,
          20.026543,
          28.51249,
          -98.76966,
          31.644926,
          47.628147,
          38.87092,
          84.90366,
          21.118689,
          33.161934,
          -7.745376,
          -27.390856,
          25.086796,
          -75.686714,
          -33.757156,
          -65.873665,
          -40.70745,
          -16.45449,
          -24.00753,
          28.834425,
          15.898454,
          65.12728,
          59.494938
         ],
         "y": [
          -32.42886,
          -32.949585,
          46.165497,
          -73.9545,
          3.0375493,
          -39.37561,
          -77.7295,
          -29.288342,
          -17.417685,
          -36.739136,
          -0.94601935,
          -45.68966,
          -67.63804,
          -56.405563,
          3.0375493,
          -47.096832,
          -27.191338,
          -51.448868,
          -33.802692,
          49.682957,
          -34.74033,
          -64.93465,
          -45.2751,
          -70.26946,
          -63.55637,
          -53.466686,
          74.79278,
          72.46095,
          -27.211504,
          -26.417452
         ],
         "z": [
          33.82943,
          16.90101,
          14.721902,
          -22.118479,
          4.5316205,
          -18.926378,
          -2.2254794,
          -20.600492,
          -6.8384204,
          1.6035483,
          -9.000515,
          -56.752777,
          -41.92506,
          -12.392315,
          4.5316205,
          -31.904724,
          -69.98872,
          51.735203,
          42.796318,
          80.801346,
          -39.481277,
          42.959354,
          -43.24948,
          30.777239,
          18.860573,
          10.906893,
          -48.664722,
          -58.386097,
          1.5921984,
          -19.3104
         ]
        },
        {
         "customdata": [
          [
           "Ausentismo"
          ],
          [
           "Ausentismo"
          ],
          [
           "Ausentismo"
          ],
          [
           "Ausentismo"
          ],
          [
           "Ausentismo"
          ],
          [
           "Ausentismo"
          ],
          [
           "Ausentismo"
          ],
          [
           "Ausentismo"
          ],
          [
           "Ausentismo"
          ],
          [
           "Ausentismo"
          ],
          [
           "Ausentismo"
          ],
          [
           "Ausentismo"
          ],
          [
           "Ausentismo"
          ],
          [
           "Ausentismo"
          ],
          [
           "Ausentismo"
          ],
          [
           "Ausentismo"
          ],
          [
           "Ausentismo"
          ],
          [
           "Ausentismo"
          ],
          [
           "Ausentismo"
          ],
          [
           "Ausentismo"
          ],
          [
           "Ausentismo"
          ],
          [
           "Ausentismo"
          ],
          [
           "Ausentismo"
          ],
          [
           "Ausentismo"
          ],
          [
           "Ausentismo"
          ],
          [
           "Ausentismo"
          ],
          [
           "Ausentismo"
          ],
          [
           "Ausentismo"
          ],
          [
           "Ausentismo"
          ],
          [
           "Ausentismo"
          ],
          [
           "Ausentismo"
          ],
          [
           "Ausentismo"
          ],
          [
           "Ausentismo"
          ],
          [
           "Ausentismo"
          ],
          [
           "Ausentismo"
          ],
          [
           "Ausentismo"
          ],
          [
           "Ausentismo"
          ],
          [
           "Ausentismo"
          ],
          [
           "Ausentismo"
          ],
          [
           "Ausentismo"
          ],
          [
           "Ausentismo"
          ],
          [
           "Ausentismo"
          ],
          [
           "Ausentismo"
          ],
          [
           "Ausentismo"
          ],
          [
           "Ausentismo"
          ]
         ],
         "hovertemplate": "color=Ausentismo<br>t-SNE Component 1=%{x}<br>t-SNE Component 2=%{y}<br>t-SNE Component 3=%{z}<br>label=%{customdata[0]}<extra></extra>",
         "legendgroup": "Ausentismo",
         "marker": {
          "color": "#EF553B",
          "symbol": "circle"
         },
         "mode": "markers",
         "name": "Ausentismo",
         "scene": "scene",
         "showlegend": true,
         "type": "scatter3d",
         "x": [
          -86.021675,
          -75.250916,
          43.91007,
          -11.540484,
          -36.482082,
          -22.112328,
          2.7254078,
          -23.69115,
          62.904865,
          48.49521,
          46.509716,
          55.69587,
          90.1008,
          40.137447,
          30.010006,
          50.429,
          -4.4349146,
          -12.997349,
          -0.8982671,
          -13.87471,
          -20.66426,
          3.237554,
          -6.977228,
          -40.604633,
          -25.041445,
          84.90366,
          35.920425,
          25.086796,
          -7.315577,
          -0.81132555,
          -1.9504334,
          -20.66426,
          -13.005317,
          2.0980153,
          52.65403,
          -67.11801,
          89.20336,
          4.737746,
          -67.11801,
          89.20336,
          17.594734,
          25.87813,
          51.165092,
          82.57844,
          -20.66426
         ],
         "y": [
          18.340746,
          5.027909,
          -20.8051,
          -5.707811,
          -6.3323345,
          11.688922,
          -19.783487,
          11.346106,
          65.744316,
          52.693542,
          65.40387,
          58.49067,
          -0.43657905,
          35.67437,
          45.962914,
          5.316553,
          13.356184,
          -17.14346,
          -35.06811,
          -40.646206,
          55.15902,
          43.00565,
          54.234024,
          48.974663,
          42.42152,
          3.0375493,
          23.530123,
          49.682957,
          3.7287838,
          -75.99523,
          -59.41414,
          55.15902,
          -0.5383957,
          -2.8261256,
          -32.597836,
          -16.574907,
          -41.818428,
          71.51087,
          -16.574907,
          -41.818428,
          80.81325,
          72.39715,
          47.698734,
          33.951244,
          55.15902
         ],
         "z": [
          37.475704,
          -58.9205,
          53.474316,
          93.43989,
          -74.8599,
          27.907566,
          -28.655148,
          54.53562,
          -5.942148,
          -25.241314,
          7.549451,
          16.57202,
          -13.147283,
          -45.28831,
          -39.453377,
          -16.52102,
          73.48738,
          -95.8715,
          -86.17698,
          -82.764336,
          69.264656,
          -48.566517,
          -50.34341,
          -63.353798,
          -55.09694,
          4.5316205,
          -30.327295,
          80.801346,
          -23.79962,
          -54.40814,
          -47.134785,
          69.264656,
          -60.015556,
          -40.530834,
          -45.66953,
          68.9875,
          -19.76804,
          34.33998,
          68.9875,
          -19.76804,
          29.865572,
          40.194065,
          43.498745,
          27.100319,
          69.264656
         ]
        },
        {
         "customdata": [
          [
           "Estructura Organizativa"
          ],
          [
           "Estructura Organizativa"
          ],
          [
           "Estructura Organizativa"
          ],
          [
           "Estructura Organizativa"
          ],
          [
           "Estructura Organizativa"
          ],
          [
           "Estructura Organizativa"
          ],
          [
           "Estructura Organizativa"
          ],
          [
           "Estructura Organizativa"
          ],
          [
           "Estructura Organizativa"
          ],
          [
           "Estructura Organizativa"
          ],
          [
           "Estructura Organizativa"
          ],
          [
           "Estructura Organizativa"
          ],
          [
           "Estructura Organizativa"
          ],
          [
           "Estructura Organizativa"
          ],
          [
           "Estructura Organizativa"
          ],
          [
           "Estructura Organizativa"
          ],
          [
           "Estructura Organizativa"
          ],
          [
           "Estructura Organizativa"
          ],
          [
           "Estructura Organizativa"
          ],
          [
           "Estructura Organizativa"
          ],
          [
           "Estructura Organizativa"
          ],
          [
           "Estructura Organizativa"
          ],
          [
           "Estructura Organizativa"
          ],
          [
           "Estructura Organizativa"
          ],
          [
           "Estructura Organizativa"
          ],
          [
           "Estructura Organizativa"
          ],
          [
           "Estructura Organizativa"
          ],
          [
           "Estructura Organizativa"
          ],
          [
           "Estructura Organizativa"
          ],
          [
           "Estructura Organizativa"
          ],
          [
           "Estructura Organizativa"
          ],
          [
           "Estructura Organizativa"
          ],
          [
           "Estructura Organizativa"
          ],
          [
           "Estructura Organizativa"
          ],
          [
           "Estructura Organizativa"
          ],
          [
           "Estructura Organizativa"
          ],
          [
           "Estructura Organizativa"
          ],
          [
           "Estructura Organizativa"
          ],
          [
           "Estructura Organizativa"
          ],
          [
           "Estructura Organizativa"
          ],
          [
           "Estructura Organizativa"
          ],
          [
           "Estructura Organizativa"
          ],
          [
           "Estructura Organizativa"
          ],
          [
           "Estructura Organizativa"
          ],
          [
           "Estructura Organizativa"
          ],
          [
           "Estructura Organizativa"
          ],
          [
           "Estructura Organizativa"
          ],
          [
           "Estructura Organizativa"
          ],
          [
           "Estructura Organizativa"
          ],
          [
           "Estructura Organizativa"
          ],
          [
           "Estructura Organizativa"
          ],
          [
           "Estructura Organizativa"
          ],
          [
           "Estructura Organizativa"
          ],
          [
           "Estructura Organizativa"
          ],
          [
           "Estructura Organizativa"
          ],
          [
           "Estructura Organizativa"
          ],
          [
           "Estructura Organizativa"
          ],
          [
           "Estructura Organizativa"
          ],
          [
           "Estructura Organizativa"
          ],
          [
           "Estructura Organizativa"
          ],
          [
           "Estructura Organizativa"
          ],
          [
           "Estructura Organizativa"
          ],
          [
           "Estructura Organizativa"
          ],
          [
           "Estructura Organizativa"
          ],
          [
           "Estructura Organizativa"
          ],
          [
           "Estructura Organizativa"
          ],
          [
           "Estructura Organizativa"
          ],
          [
           "Estructura Organizativa"
          ],
          [
           "Estructura Organizativa"
          ],
          [
           "Estructura Organizativa"
          ],
          [
           "Estructura Organizativa"
          ],
          [
           "Estructura Organizativa"
          ],
          [
           "Estructura Organizativa"
          ],
          [
           "Estructura Organizativa"
          ],
          [
           "Estructura Organizativa"
          ],
          [
           "Estructura Organizativa"
          ],
          [
           "Estructura Organizativa"
          ]
         ],
         "hovertemplate": "color=Estructura Organizativa<br>t-SNE Component 1=%{x}<br>t-SNE Component 2=%{y}<br>t-SNE Component 3=%{z}<br>label=%{customdata[0]}<extra></extra>",
         "legendgroup": "Estructura Organizativa",
         "marker": {
          "color": "#00cc96",
          "symbol": "circle"
         },
         "mode": "markers",
         "name": "Estructura Organizativa",
         "scene": "scene",
         "showlegend": true,
         "type": "scatter3d",
         "x": [
          -86.021675,
          23.47111,
          -75.250916,
          73.95148,
          20.799505,
          1.4047613,
          28.600998,
          -24.870398,
          -16.318287,
          -37.929546,
          -3.1388133,
          -35.08121,
          -52.31603,
          -38.682453,
          -46.229332,
          -65.303185,
          -13.436748,
          -24.163618,
          22.486135,
          -51.112236,
          1.8301848,
          53.92149,
          -33.254284,
          -19.977945,
          11.06046,
          -10.540487,
          -58.698776,
          56.98736,
          -23.243446,
          62.929028,
          -45.67092,
          -22.817356,
          -63.29262,
          -59.538563,
          -46.40669,
          -65.50424,
          -65.75319,
          -32.963753,
          -76.16599,
          8.846496,
          -74.286026,
          -52.083317,
          -36.66849,
          -79.57761,
          5.232842,
          76.90968,
          -13.090644,
          -45.883423,
          -46.40669,
          -47.137714,
          -30.576855,
          -18.020832,
          -15.192064,
          63.17214,
          -8.675613,
          12.344552,
          -46.910774,
          -41.29522,
          11.65894,
          -34.528835,
          19.464731,
          -39.909958,
          -48.310165,
          -51.112236,
          20.674587,
          52.695362,
          -14.4894905,
          4.25465,
          -37.394703,
          6.548707,
          1.5191509,
          -51.112236,
          -24.609755,
          -6.39464,
          66.539925,
          -1.7619705,
          17.064203
         ],
         "y": [
          18.340746,
          31.355354,
          5.027909,
          -26.59773,
          -10.686998,
          -29.632013,
          2.8311713,
          -15.534426,
          -14.469466,
          81.35158,
          -25.222763,
          0.062350634,
          -4.452795,
          17.612501,
          19.713503,
          -44.60357,
          22.125563,
          7.2830276,
          77.58721,
          70.26675,
          21.838558,
          2.7392366,
          87.940285,
          -29.496727,
          52.64449,
          -46.25868,
          -33.702408,
          -13.932107,
          19.394722,
          13.903168,
          81.71374,
          -11.477611,
          0.08453996,
          6.0138555,
          32.375,
          37.372967,
          42.84046,
          32.93719,
          20.565174,
          26.912106,
          53.16227,
          48.143135,
          44.794033,
          28.391138,
          23.808811,
          0.83380616,
          -8.643594,
          5.2765517,
          32.375,
          31.964426,
          -29.924839,
          57.55992,
          38.35206,
          20.901987,
          -21.842072,
          66.89509,
          -11.828392,
          -23.97917,
          43.369984,
          -23.179333,
          16.549152,
          -39.66393,
          -18.403442,
          70.26675,
          11.870703,
          12.309203,
          -8.798214,
          84.040726,
          0.5668975,
          88.92181,
          71.62843,
          70.26675,
          2.8552415,
          10.437176,
          30.946531,
          22.996365,
          33.204136
         ],
         "z": [
          37.475704,
          40.87164,
          -58.9205,
          39.37323,
          40.936123,
          82.039734,
          51.474895,
          16.742311,
          -42.118206,
          -38.004955,
          -1.5916336,
          11.878669,
          37.425457,
          -46.408913,
          -30.13096,
          -13.208977,
          -42.16355,
          -5.5878234,
          -25.802967,
          31.359215,
          -70.26872,
          -52.206223,
          -20.973837,
          -14.476662,
          -19.27866,
          -24.623417,
          -73.738396,
          -76.98908,
          -27.518417,
          -57.42867,
          -14.58092,
          -18.385445,
          -17.706938,
          11.145945,
          45.62694,
          -5.9229703,
          12.790639,
          13.310209,
          -1.0289513,
          -23.514927,
          -17.160694,
          -21.702042,
          -28.061062,
          58.79563,
          -88.529274,
          -46.357357,
          3.9486985,
          -3.887042,
          45.62694,
          -1.1665803,
          -55.80905,
          -13.38917,
          -20.701874,
          68.29929,
          23.500425,
          -5.002544,
          -39.98171,
          2.236289,
          2.1438012,
          -32.03407,
          -62.094776,
          -9.739406,
          -19.701488,
          31.359215,
          -79.63441,
          73.74638,
          32.128635,
          -15.230867,
          -25.352709,
          -33.435005,
          -30.286497,
          31.359215,
          -38.91273,
          5.5191226,
          -8.329435,
          -8.748359,
          -75.86763
         ]
        },
        {
         "customdata": [
          [
           "Riesgos"
          ],
          [
           "Riesgos"
          ],
          [
           "Riesgos"
          ],
          [
           "Riesgos"
          ],
          [
           "Riesgos"
          ],
          [
           "Riesgos"
          ],
          [
           "Riesgos"
          ],
          [
           "Riesgos"
          ],
          [
           "Riesgos"
          ],
          [
           "Riesgos"
          ],
          [
           "Riesgos"
          ],
          [
           "Riesgos"
          ],
          [
           "Riesgos"
          ],
          [
           "Riesgos"
          ],
          [
           "Riesgos"
          ],
          [
           "Riesgos"
          ],
          [
           "Riesgos"
          ],
          [
           "Riesgos"
          ],
          [
           "Riesgos"
          ],
          [
           "Riesgos"
          ],
          [
           "Riesgos"
          ]
         ],
         "hovertemplate": "color=Riesgos<br>t-SNE Component 1=%{x}<br>t-SNE Component 2=%{y}<br>t-SNE Component 3=%{z}<br>label=%{customdata[0]}<extra></extra>",
         "legendgroup": "Riesgos",
         "marker": {
          "color": "#ab63fa",
          "symbol": "circle"
         },
         "mode": "markers",
         "name": "Riesgos",
         "scene": "scene",
         "showlegend": true,
         "type": "scatter3d",
         "x": [
          -86.021675,
          -2.4897864,
          51.932575,
          13.726592,
          36.402252,
          7.017927,
          -34.25123,
          -34.82943,
          31.451426,
          3.3990054,
          24.459518,
          36.28759,
          39.678905,
          -31.785007,
          29.34502,
          -79.42719,
          -79.13834,
          -56.474625,
          16.570234,
          -5.581188,
          26.520597
         ],
         "y": [
          18.340746,
          -87.50736,
          13.48838,
          35.591534,
          -38.19028,
          -36.73879,
          -74.91171,
          -68.97403,
          11.0322075,
          9.760232,
          -33.047436,
          33.003124,
          20.375206,
          21.928684,
          -11.418037,
          -23.34141,
          -34.929646,
          -65.76215,
          0.65825623,
          -25.10297,
          -24.912228
         ],
         "z": [
          37.475704,
          45.973213,
          33.170208,
          51.36164,
          35.11267,
          27.471687,
          -18.925623,
          -32.515144,
          73.95761,
          28.779657,
          56.647343,
          13.074663,
          0.010659068,
          -80.63959,
          -35.004242,
          18.161772,
          8.433564,
          12.996677,
          -23.291983,
          49.210358,
          25.31733
         ]
        },
        {
         "customdata": [
          [
           "Información"
          ],
          [
           "Información"
          ],
          [
           "Información"
          ],
          [
           "Información"
          ],
          [
           "Información"
          ],
          [
           "Información"
          ],
          [
           "Información"
          ],
          [
           "Información"
          ],
          [
           "Información"
          ]
         ],
         "hovertemplate": "color=Información<br>t-SNE Component 1=%{x}<br>t-SNE Component 2=%{y}<br>t-SNE Component 3=%{z}<br>label=%{customdata[0]}<extra></extra>",
         "legendgroup": "Información",
         "marker": {
          "color": "#FFA15A",
          "symbol": "circle"
         },
         "mode": "markers",
         "name": "Información",
         "scene": "scene",
         "showlegend": true,
         "type": "scatter3d",
         "x": [
          -86.021675,
          -2.4897864,
          -75.250916,
          65.69863,
          -34.750217,
          -16.39093,
          -29.850988,
          2.755531,
          -10.981939
         ],
         "y": [
          18.340746,
          -87.50736,
          5.027909,
          -23.10276,
          -8.157933,
          -19.169935,
          -39.787354,
          -44.65338,
          34.540154
         ],
         "z": [
          37.475704,
          45.973213,
          -58.9205,
          54.09973,
          73.31185,
          77.24054,
          76.26575,
          3.4525993,
          37.217438
         ]
        },
        {
         "customdata": [
          [
           "Emergencia"
          ],
          [
           "Emergencia"
          ],
          [
           "Emergencia"
          ],
          [
           "Emergencia"
          ],
          [
           "Emergencia"
          ],
          [
           "Emergencia"
          ],
          [
           "Emergencia"
          ],
          [
           "Emergencia"
          ],
          [
           "Emergencia"
          ],
          [
           "Emergencia"
          ],
          [
           "Emergencia"
          ]
         ],
         "hovertemplate": "color=Emergencia<br>t-SNE Component 1=%{x}<br>t-SNE Component 2=%{y}<br>t-SNE Component 3=%{z}<br>label=%{customdata[0]}<extra></extra>",
         "legendgroup": "Emergencia",
         "marker": {
          "color": "#19d3f3",
          "symbol": "circle"
         },
         "mode": "markers",
         "name": "Emergencia",
         "scene": "scene",
         "showlegend": true,
         "type": "scatter3d",
         "x": [
          53.169254,
          36.40282,
          20.141453,
          11.400904,
          38.431656,
          28.060907,
          9.39111,
          23.627983,
          11.049408,
          9.4906845,
          -1.5441116
         ],
         "y": [
          -10.827414,
          -62.667576,
          -57.43646,
          -10.031827,
          -8.021928,
          2.9752128,
          -9.530685,
          8.86075,
          -2.5237749,
          -14.725061,
          -28.854628
         ],
         "z": [
          34.335735,
          21.587881,
          27.9935,
          91.02035,
          8.950965,
          21.288696,
          13.5156765,
          -3.3274813,
          -5.063309,
          -59.01939,
          -52.625324
         ]
        },
        {
         "customdata": [
          [
           "Question: ¿Cómo se diferencia la ubicación física de la operativa?<br>Closest Model: Riesgos<br>Similarity: 0.70<br>Chunk: DOCUMENTOS\nEl usuario accede a la pestaña Documentos y visualiza el listado de informes generados ta..."
          ],
          [
           "Question: ¿Qué información se incluye en el informe de la evaluación de riesgos que ofrece la plataforma y cuál es su utilidad para la gestión de riesgos en la empresa?<br>Closest Model: Riesgos<br>Similarity: 0.88<br>Chunk: CONTENIDO\nSabentis es la nueva plataforma de gestión especializada en el ámbito de seguridad y salud..."
          ],
          [
           "Question: ¿Hay indicadores relativos al cumplimiento de normas?<br>Closest Model: Auditorias<br>Similarity: 0.71<br>Chunk: Versión  Fecha  Comentarios  Autor  1.0  29/09/2022  Redacción  Núria Zaragoza\nSabentis es la nueva ..."
          ],
          [
           "Question: ¿Qué papel juega la estructura organizativa en la funcionalidad general de la plataforma y cómo interactúa con otros módulos?<br>Closest Model: Estructura Organizativa<br>Similarity: 0.86<br>Chunk: El usuario puede acceder al módulo Estructura Organizativa (EO), desde las opciones:  •  La entrada ..."
          ],
          [
           "Question: ¿Qué permite realizar la evaluación de riesgos?<br>Closest Model: Riesgos<br>Similarity: 0.86<br>Chunk: CONTENIDO\nSabentis es la nueva plataforma de gestión especializada en el ámbito de seguridad y salud..."
          ],
          [
           "Question: ¿Qué tipo de documentos se pueden almacenar y compartir en el espacio denominado 'Documentos' y cuál es su importancia dentro del contexto de la gestión empresarial en la plataforma?<br>Closest Model: Información<br>Similarity: 0.87<br>Chunk: 3. REPOSITORIO DOCUMENTAL DE LA EMPRESA\nEl usuario accede al cardboard “Repositorio documental” y vi..."
          ],
          [
           "Question: ¿Se pueden llevar a cabo auditorías internas?<br>Closest Model: Emergencia<br>Similarity: 0.77<br>Chunk: La pestaña evaluación de aspectos legales permite al usuario evaluar los cuestionarios  aplicables a..."
          ],
          [
           "Question: ¿Cuál es la tasa de adopción de esta plataforma en el mercado?<br>Closest Model: Información<br>Similarity: 0.72<br>Chunk: Sabentis es la nueva plataforma de gestión especializada en el ámbito de Seguridad y Salud en  el Tr..."
          ],
          [
           "Question: ¿Cómo se compara esta plataforma con otras soluciones de gestión de SST?<br>Closest Model: Estructura Organizativa<br>Similarity: 0.84<br>Chunk: Sabentis es la nueva plataforma de gestión especializada en el ámbito de Seguridad y Salud  en el Tr..."
          ],
          [
           "Question: ¿Qué día hará mañana?<br>Closest Model: Estructura Organizativa<br>Similarity: 0.63<br>Chunk: Documento  Manual de uso: Estructura organizativa (GE).  Descripción  Manual guía de usuario del mód..."
          ]
         ],
         "hovertemplate": "color=Question<br>t-SNE Component 1=%{x}<br>t-SNE Component 2=%{y}<br>t-SNE Component 3=%{z}<br>label=%{customdata[0]}<extra></extra>",
         "legendgroup": "Question",
         "marker": {
          "color": "#FF6692",
          "symbol": "circle"
         },
         "mode": "markers",
         "name": "Question",
         "scene": "scene",
         "showlegend": true,
         "type": "scatter3d",
         "x": [
          1.1729747,
          54.380806,
          62.330647,
          12.810651,
          31.982477,
          0.72547895,
          24.921589,
          81.54241,
          81.93784,
          -59.911533
         ],
         "y": [
          -5.3756976,
          -47.916683,
          -54.67101,
          -44.723366,
          -61.85926,
          -70.80754,
          -79.582504,
          -2.0009131,
          -42.976902,
          -38.96574
         ],
         "z": [
          54.086613,
          54.78745,
          23.151579,
          84.876976,
          54.165886,
          -5.335982,
          17.152946,
          46.101036,
          49.81287,
          37.952435
         ]
        },
        {
         "mode": "markers+text",
         "showlegend": false,
         "text": "Q1",
         "textposition": "top center",
         "type": "scatter3d",
         "x": [
          1.172974705696106
         ],
         "y": [
          -5.375697612762451
         ],
         "z": [
          54.086612701416016
         ]
        },
        {
         "mode": "markers+text",
         "showlegend": false,
         "text": "Q2",
         "textposition": "top center",
         "type": "scatter3d",
         "x": [
          54.38080596923828
         ],
         "y": [
          -47.916683197021484
         ],
         "z": [
          54.78744888305664
         ]
        },
        {
         "mode": "markers+text",
         "showlegend": false,
         "text": "Q3",
         "textposition": "top center",
         "type": "scatter3d",
         "x": [
          62.33064651489258
         ],
         "y": [
          -54.6710090637207
         ],
         "z": [
          23.151578903198242
         ]
        },
        {
         "mode": "markers+text",
         "showlegend": false,
         "text": "Q4",
         "textposition": "top center",
         "type": "scatter3d",
         "x": [
          12.810650825500488
         ],
         "y": [
          -44.723365783691406
         ],
         "z": [
          84.8769760131836
         ]
        },
        {
         "mode": "markers+text",
         "showlegend": false,
         "text": "Q5",
         "textposition": "top center",
         "type": "scatter3d",
         "x": [
          31.98247718811035
         ],
         "y": [
          -61.85926055908203
         ],
         "z": [
          54.16588592529297
         ]
        },
        {
         "mode": "markers+text",
         "showlegend": false,
         "text": "Q6",
         "textposition": "top center",
         "type": "scatter3d",
         "x": [
          0.7254789471626282
         ],
         "y": [
          -70.80754089355469
         ],
         "z": [
          -5.335981845855713
         ]
        },
        {
         "mode": "markers+text",
         "showlegend": false,
         "text": "Q7",
         "textposition": "top center",
         "type": "scatter3d",
         "x": [
          24.921588897705078
         ],
         "y": [
          -79.58250427246094
         ],
         "z": [
          17.15294647216797
         ]
        },
        {
         "mode": "markers+text",
         "showlegend": false,
         "text": "Q8",
         "textposition": "top center",
         "type": "scatter3d",
         "x": [
          81.54241180419922
         ],
         "y": [
          -2.000913143157959
         ],
         "z": [
          46.101036071777344
         ]
        },
        {
         "mode": "markers+text",
         "showlegend": false,
         "text": "Q9",
         "textposition": "top center",
         "type": "scatter3d",
         "x": [
          81.9378433227539
         ],
         "y": [
          -42.97690200805664
         ],
         "z": [
          49.812870025634766
         ]
        },
        {
         "mode": "markers+text",
         "showlegend": false,
         "text": "Q10",
         "textposition": "top center",
         "type": "scatter3d",
         "x": [
          -59.91153335571289
         ],
         "y": [
          -38.96574020385742
         ],
         "z": [
          37.95243453979492
         ]
        }
       ],
       "layout": {
        "legend": {
         "title": {
          "text": "color"
         },
         "tracegroupgap": 0
        },
        "scene": {
         "domain": {
          "x": [
           0,
           1
          ],
          "y": [
           0,
           1
          ]
         },
         "xaxis": {
          "title": {
           "text": "t-SNE Component 1"
          }
         },
         "yaxis": {
          "title": {
           "text": "t-SNE Component 2"
          }
         },
         "zaxis": {
          "title": {
           "text": "t-SNE Component 3"
          }
         }
        },
        "template": {
         "data": {
          "bar": [
           {
            "error_x": {
             "color": "#2a3f5f"
            },
            "error_y": {
             "color": "#2a3f5f"
            },
            "marker": {
             "line": {
              "color": "#E5ECF6",
              "width": 0.5
             },
             "pattern": {
              "fillmode": "overlay",
              "size": 10,
              "solidity": 0.2
             }
            },
            "type": "bar"
           }
          ],
          "barpolar": [
           {
            "marker": {
             "line": {
              "color": "#E5ECF6",
              "width": 0.5
             },
             "pattern": {
              "fillmode": "overlay",
              "size": 10,
              "solidity": 0.2
             }
            },
            "type": "barpolar"
           }
          ],
          "carpet": [
           {
            "aaxis": {
             "endlinecolor": "#2a3f5f",
             "gridcolor": "white",
             "linecolor": "white",
             "minorgridcolor": "white",
             "startlinecolor": "#2a3f5f"
            },
            "baxis": {
             "endlinecolor": "#2a3f5f",
             "gridcolor": "white",
             "linecolor": "white",
             "minorgridcolor": "white",
             "startlinecolor": "#2a3f5f"
            },
            "type": "carpet"
           }
          ],
          "choropleth": [
           {
            "colorbar": {
             "outlinewidth": 0,
             "ticks": ""
            },
            "type": "choropleth"
           }
          ],
          "contour": [
           {
            "colorbar": {
             "outlinewidth": 0,
             "ticks": ""
            },
            "colorscale": [
             [
              0,
              "#0d0887"
             ],
             [
              0.1111111111111111,
              "#46039f"
             ],
             [
              0.2222222222222222,
              "#7201a8"
             ],
             [
              0.3333333333333333,
              "#9c179e"
             ],
             [
              0.4444444444444444,
              "#bd3786"
             ],
             [
              0.5555555555555556,
              "#d8576b"
             ],
             [
              0.6666666666666666,
              "#ed7953"
             ],
             [
              0.7777777777777778,
              "#fb9f3a"
             ],
             [
              0.8888888888888888,
              "#fdca26"
             ],
             [
              1,
              "#f0f921"
             ]
            ],
            "type": "contour"
           }
          ],
          "contourcarpet": [
           {
            "colorbar": {
             "outlinewidth": 0,
             "ticks": ""
            },
            "type": "contourcarpet"
           }
          ],
          "heatmap": [
           {
            "colorbar": {
             "outlinewidth": 0,
             "ticks": ""
            },
            "colorscale": [
             [
              0,
              "#0d0887"
             ],
             [
              0.1111111111111111,
              "#46039f"
             ],
             [
              0.2222222222222222,
              "#7201a8"
             ],
             [
              0.3333333333333333,
              "#9c179e"
             ],
             [
              0.4444444444444444,
              "#bd3786"
             ],
             [
              0.5555555555555556,
              "#d8576b"
             ],
             [
              0.6666666666666666,
              "#ed7953"
             ],
             [
              0.7777777777777778,
              "#fb9f3a"
             ],
             [
              0.8888888888888888,
              "#fdca26"
             ],
             [
              1,
              "#f0f921"
             ]
            ],
            "type": "heatmap"
           }
          ],
          "heatmapgl": [
           {
            "colorbar": {
             "outlinewidth": 0,
             "ticks": ""
            },
            "colorscale": [
             [
              0,
              "#0d0887"
             ],
             [
              0.1111111111111111,
              "#46039f"
             ],
             [
              0.2222222222222222,
              "#7201a8"
             ],
             [
              0.3333333333333333,
              "#9c179e"
             ],
             [
              0.4444444444444444,
              "#bd3786"
             ],
             [
              0.5555555555555556,
              "#d8576b"
             ],
             [
              0.6666666666666666,
              "#ed7953"
             ],
             [
              0.7777777777777778,
              "#fb9f3a"
             ],
             [
              0.8888888888888888,
              "#fdca26"
             ],
             [
              1,
              "#f0f921"
             ]
            ],
            "type": "heatmapgl"
           }
          ],
          "histogram": [
           {
            "marker": {
             "pattern": {
              "fillmode": "overlay",
              "size": 10,
              "solidity": 0.2
             }
            },
            "type": "histogram"
           }
          ],
          "histogram2d": [
           {
            "colorbar": {
             "outlinewidth": 0,
             "ticks": ""
            },
            "colorscale": [
             [
              0,
              "#0d0887"
             ],
             [
              0.1111111111111111,
              "#46039f"
             ],
             [
              0.2222222222222222,
              "#7201a8"
             ],
             [
              0.3333333333333333,
              "#9c179e"
             ],
             [
              0.4444444444444444,
              "#bd3786"
             ],
             [
              0.5555555555555556,
              "#d8576b"
             ],
             [
              0.6666666666666666,
              "#ed7953"
             ],
             [
              0.7777777777777778,
              "#fb9f3a"
             ],
             [
              0.8888888888888888,
              "#fdca26"
             ],
             [
              1,
              "#f0f921"
             ]
            ],
            "type": "histogram2d"
           }
          ],
          "histogram2dcontour": [
           {
            "colorbar": {
             "outlinewidth": 0,
             "ticks": ""
            },
            "colorscale": [
             [
              0,
              "#0d0887"
             ],
             [
              0.1111111111111111,
              "#46039f"
             ],
             [
              0.2222222222222222,
              "#7201a8"
             ],
             [
              0.3333333333333333,
              "#9c179e"
             ],
             [
              0.4444444444444444,
              "#bd3786"
             ],
             [
              0.5555555555555556,
              "#d8576b"
             ],
             [
              0.6666666666666666,
              "#ed7953"
             ],
             [
              0.7777777777777778,
              "#fb9f3a"
             ],
             [
              0.8888888888888888,
              "#fdca26"
             ],
             [
              1,
              "#f0f921"
             ]
            ],
            "type": "histogram2dcontour"
           }
          ],
          "mesh3d": [
           {
            "colorbar": {
             "outlinewidth": 0,
             "ticks": ""
            },
            "type": "mesh3d"
           }
          ],
          "parcoords": [
           {
            "line": {
             "colorbar": {
              "outlinewidth": 0,
              "ticks": ""
             }
            },
            "type": "parcoords"
           }
          ],
          "pie": [
           {
            "automargin": true,
            "type": "pie"
           }
          ],
          "scatter": [
           {
            "fillpattern": {
             "fillmode": "overlay",
             "size": 10,
             "solidity": 0.2
            },
            "type": "scatter"
           }
          ],
          "scatter3d": [
           {
            "line": {
             "colorbar": {
              "outlinewidth": 0,
              "ticks": ""
             }
            },
            "marker": {
             "colorbar": {
              "outlinewidth": 0,
              "ticks": ""
             }
            },
            "type": "scatter3d"
           }
          ],
          "scattercarpet": [
           {
            "marker": {
             "colorbar": {
              "outlinewidth": 0,
              "ticks": ""
             }
            },
            "type": "scattercarpet"
           }
          ],
          "scattergeo": [
           {
            "marker": {
             "colorbar": {
              "outlinewidth": 0,
              "ticks": ""
             }
            },
            "type": "scattergeo"
           }
          ],
          "scattergl": [
           {
            "marker": {
             "colorbar": {
              "outlinewidth": 0,
              "ticks": ""
             }
            },
            "type": "scattergl"
           }
          ],
          "scattermapbox": [
           {
            "marker": {
             "colorbar": {
              "outlinewidth": 0,
              "ticks": ""
             }
            },
            "type": "scattermapbox"
           }
          ],
          "scatterpolar": [
           {
            "marker": {
             "colorbar": {
              "outlinewidth": 0,
              "ticks": ""
             }
            },
            "type": "scatterpolar"
           }
          ],
          "scatterpolargl": [
           {
            "marker": {
             "colorbar": {
              "outlinewidth": 0,
              "ticks": ""
             }
            },
            "type": "scatterpolargl"
           }
          ],
          "scatterternary": [
           {
            "marker": {
             "colorbar": {
              "outlinewidth": 0,
              "ticks": ""
             }
            },
            "type": "scatterternary"
           }
          ],
          "surface": [
           {
            "colorbar": {
             "outlinewidth": 0,
             "ticks": ""
            },
            "colorscale": [
             [
              0,
              "#0d0887"
             ],
             [
              0.1111111111111111,
              "#46039f"
             ],
             [
              0.2222222222222222,
              "#7201a8"
             ],
             [
              0.3333333333333333,
              "#9c179e"
             ],
             [
              0.4444444444444444,
              "#bd3786"
             ],
             [
              0.5555555555555556,
              "#d8576b"
             ],
             [
              0.6666666666666666,
              "#ed7953"
             ],
             [
              0.7777777777777778,
              "#fb9f3a"
             ],
             [
              0.8888888888888888,
              "#fdca26"
             ],
             [
              1,
              "#f0f921"
             ]
            ],
            "type": "surface"
           }
          ],
          "table": [
           {
            "cells": {
             "fill": {
              "color": "#EBF0F8"
             },
             "line": {
              "color": "white"
             }
            },
            "header": {
             "fill": {
              "color": "#C8D4E3"
             },
             "line": {
              "color": "white"
             }
            },
            "type": "table"
           }
          ]
         },
         "layout": {
          "annotationdefaults": {
           "arrowcolor": "#2a3f5f",
           "arrowhead": 0,
           "arrowwidth": 1
          },
          "autotypenumbers": "strict",
          "coloraxis": {
           "colorbar": {
            "outlinewidth": 0,
            "ticks": ""
           }
          },
          "colorscale": {
           "diverging": [
            [
             0,
             "#8e0152"
            ],
            [
             0.1,
             "#c51b7d"
            ],
            [
             0.2,
             "#de77ae"
            ],
            [
             0.3,
             "#f1b6da"
            ],
            [
             0.4,
             "#fde0ef"
            ],
            [
             0.5,
             "#f7f7f7"
            ],
            [
             0.6,
             "#e6f5d0"
            ],
            [
             0.7,
             "#b8e186"
            ],
            [
             0.8,
             "#7fbc41"
            ],
            [
             0.9,
             "#4d9221"
            ],
            [
             1,
             "#276419"
            ]
           ],
           "sequential": [
            [
             0,
             "#0d0887"
            ],
            [
             0.1111111111111111,
             "#46039f"
            ],
            [
             0.2222222222222222,
             "#7201a8"
            ],
            [
             0.3333333333333333,
             "#9c179e"
            ],
            [
             0.4444444444444444,
             "#bd3786"
            ],
            [
             0.5555555555555556,
             "#d8576b"
            ],
            [
             0.6666666666666666,
             "#ed7953"
            ],
            [
             0.7777777777777778,
             "#fb9f3a"
            ],
            [
             0.8888888888888888,
             "#fdca26"
            ],
            [
             1,
             "#f0f921"
            ]
           ],
           "sequentialminus": [
            [
             0,
             "#0d0887"
            ],
            [
             0.1111111111111111,
             "#46039f"
            ],
            [
             0.2222222222222222,
             "#7201a8"
            ],
            [
             0.3333333333333333,
             "#9c179e"
            ],
            [
             0.4444444444444444,
             "#bd3786"
            ],
            [
             0.5555555555555556,
             "#d8576b"
            ],
            [
             0.6666666666666666,
             "#ed7953"
            ],
            [
             0.7777777777777778,
             "#fb9f3a"
            ],
            [
             0.8888888888888888,
             "#fdca26"
            ],
            [
             1,
             "#f0f921"
            ]
           ]
          },
          "colorway": [
           "#636efa",
           "#EF553B",
           "#00cc96",
           "#ab63fa",
           "#FFA15A",
           "#19d3f3",
           "#FF6692",
           "#B6E880",
           "#FF97FF",
           "#FECB52"
          ],
          "font": {
           "color": "#2a3f5f"
          },
          "geo": {
           "bgcolor": "white",
           "lakecolor": "white",
           "landcolor": "#E5ECF6",
           "showlakes": true,
           "showland": true,
           "subunitcolor": "white"
          },
          "hoverlabel": {
           "align": "left"
          },
          "hovermode": "closest",
          "mapbox": {
           "style": "light"
          },
          "paper_bgcolor": "white",
          "plot_bgcolor": "#E5ECF6",
          "polar": {
           "angularaxis": {
            "gridcolor": "white",
            "linecolor": "white",
            "ticks": ""
           },
           "bgcolor": "#E5ECF6",
           "radialaxis": {
            "gridcolor": "white",
            "linecolor": "white",
            "ticks": ""
           }
          },
          "scene": {
           "xaxis": {
            "backgroundcolor": "#E5ECF6",
            "gridcolor": "white",
            "gridwidth": 2,
            "linecolor": "white",
            "showbackground": true,
            "ticks": "",
            "zerolinecolor": "white"
           },
           "yaxis": {
            "backgroundcolor": "#E5ECF6",
            "gridcolor": "white",
            "gridwidth": 2,
            "linecolor": "white",
            "showbackground": true,
            "ticks": "",
            "zerolinecolor": "white"
           },
           "zaxis": {
            "backgroundcolor": "#E5ECF6",
            "gridcolor": "white",
            "gridwidth": 2,
            "linecolor": "white",
            "showbackground": true,
            "ticks": "",
            "zerolinecolor": "white"
           }
          },
          "shapedefaults": {
           "line": {
            "color": "#2a3f5f"
           }
          },
          "ternary": {
           "aaxis": {
            "gridcolor": "white",
            "linecolor": "white",
            "ticks": ""
           },
           "baxis": {
            "gridcolor": "white",
            "linecolor": "white",
            "ticks": ""
           },
           "bgcolor": "#E5ECF6",
           "caxis": {
            "gridcolor": "white",
            "linecolor": "white",
            "ticks": ""
           }
          },
          "title": {
           "x": 0.05
          },
          "xaxis": {
           "automargin": true,
           "gridcolor": "white",
           "linecolor": "white",
           "ticks": "",
           "title": {
            "standoff": 15
           },
           "zerolinecolor": "white",
           "zerolinewidth": 2
          },
          "yaxis": {
           "automargin": true,
           "gridcolor": "white",
           "linecolor": "white",
           "ticks": "",
           "title": {
            "standoff": 15
           },
           "zerolinecolor": "white",
           "zerolinewidth": 2
          }
         }
        },
        "title": {
         "text": "Embeddings Visualization with 3D t-SNE"
        }
       }
      }
     },
     "metadata": {},
     "output_type": "display_data"
    }
   ],
   "source": [
    "# Collecting sentence embeddings for each model\n",
    "model_embeddings = []\n",
    "model_labels = []\n",
    "models_list = []\n",
    "\n",
    "for key, model in models.items():\n",
    "    for paragraph in model.original_paragraphs:\n",
    "        embedding = model._get_sentence_embedding_pretrained(paragraph)\n",
    "        model_embeddings.append(embedding)\n",
    "        model_labels.append(key)\n",
    "    models_list.append(key)\n",
    "\n",
    "# Collecting embeddings for questions and finding the closest model for each question\n",
    "question_embeddings = []\n",
    "question_closest_models = []\n",
    "question_similarities = []\n",
    "question_closest_paragraphs = []\n",
    "\n",
    "for question in questions:\n",
    "    query_embedding = model._get_sentence_embedding_pretrained(question)\n",
    "    question_embeddings.append(query_embedding)\n",
    "    \n",
    "    # Find the closest model\n",
    "    closest_model = None\n",
    "    highest_similarity = -1\n",
    "    closest_paragraph = \"\"\n",
    "    for model_name, model in models.items():\n",
    "        similarities = [\n",
    "            (model._cosine_similarity(query_embedding, model._get_sentence_embedding_pretrained(paragraph)), paragraph)\n",
    "            for paragraph in model.original_paragraphs\n",
    "        ]\n",
    "        max_similarity, best_paragraph = max(similarities, key=lambda x: x[0])\n",
    "        if max_similarity > highest_similarity:\n",
    "            highest_similarity = max_similarity\n",
    "            closest_model = model_name\n",
    "            closest_paragraph = best_paragraph\n",
    "    \n",
    "    question_closest_models.append(closest_model)\n",
    "    question_similarities.append(highest_similarity)\n",
    "    question_closest_paragraphs.append(closest_paragraph)\n",
    "\n",
    "# Printing questions and their related data based on similarity\n",
    "for question, closest_model, similarity in zip(questions, question_closest_models, question_similarities):\n",
    "    if similarity > 0.75:\n",
    "        print(f\"Question: {question}\")\n",
    "        print(f\"Closest Model: {closest_model}\")\n",
    "        print(f\"Similarity: {similarity:.2f}\")\n",
    "        print()\n",
    "    else:\n",
    "        print(f\"'{question}' does not have enough similarity\")\n",
    "\n",
    "# Combining model embeddings and question embeddings\n",
    "all_embeddings = np.array(model_embeddings + question_embeddings)\n",
    "labels = model_labels + [\"Question\"] * len(questions)\n",
    "hover_texts = model_labels + [\n",
    "    f\"Question: {question}<br>Closest Model: {closest_model}<br>Similarity: {similarity:.2f}<br>Chunk: {closest_paragraph[:100]}...\"\n",
    "    for question, closest_model, similarity, closest_paragraph in zip(questions, question_closest_models, question_similarities, question_closest_paragraphs)\n",
    "]\n",
    "\n",
    "# Reducing dimensionality using PCA for 2D and 3D plots\n",
    "pca_2d = PCA(n_components=2)\n",
    "pca_2d_result = pca_2d.fit_transform(all_embeddings)\n",
    "\n",
    "pca_3d = PCA(n_components=3)\n",
    "pca_3d_result = pca_3d.fit_transform(all_embeddings)\n",
    "\n",
    "# Reducing dimensionality using t-SNE for 2D and 3D plots\n",
    "tsne_2d = TSNE(n_components=2, random_state=42)\n",
    "tsne_2d_result = tsne_2d.fit_transform(all_embeddings)\n",
    "\n",
    "tsne_3d = TSNE(n_components=3, random_state=42)\n",
    "tsne_3d_result = tsne_3d.fit_transform(all_embeddings)\n",
    "\n",
    "# Plotting with 2D PCA\n",
    "fig_pca = px.scatter(\n",
    "    x=pca_2d_result[:, 0], \n",
    "    y=pca_2d_result[:, 1], \n",
    "    color=labels, \n",
    "    hover_data={'label': hover_texts},\n",
    "    labels={'x': 'PCA Component 1', 'y': 'PCA Component 2'},\n",
    "    title=\"Embeddings Visualization with 2D PCA\"\n",
    ")\n",
    "\n",
    "# Adding annotations for questions in 2D PCA plot\n",
    "for i, question in enumerate(questions):\n",
    "    fig_pca.add_annotation(\n",
    "        x=pca_2d_result[len(model_embeddings) + i, 0], \n",
    "        y=pca_2d_result[len(model_embeddings) + i, 1], \n",
    "        text=f\"Q{i+1}\", \n",
    "        showarrow=True,\n",
    "        arrowhead=2\n",
    "    )\n",
    "\n",
    "# Plotting with 2D t-SNE\n",
    "fig_tsne = px.scatter(\n",
    "    x=tsne_2d_result[:, 0], \n",
    "    y=tsne_2d_result[:, 1], \n",
    "    color=labels, \n",
    "    hover_data={'label': hover_texts},\n",
    "    labels={'x': 't-SNE Component 1', 'y': 't-SNE Component 2'},\n",
    "    title=\"Embeddings Visualization with 2D t-SNE\"\n",
    ")\n",
    "\n",
    "# Adding annotations for questions in 2D t-SNE plot\n",
    "for i, question in enumerate(questions):\n",
    "    fig_tsne.add_annotation(\n",
    "        x=tsne_2d_result[len(model_embeddings) + i, 0], \n",
    "        y=tsne_2d_result[len(model_embeddings) + i, 1], \n",
    "        text=f\"Q{i+1}\", \n",
    "        showarrow=True,\n",
    "        arrowhead=2\n",
    "    )\n",
    "\n",
    "# Plotting with 3D PCA\n",
    "fig_pca_3d = px.scatter_3d(\n",
    "    x=pca_3d_result[:, 0], \n",
    "    y=pca_3d_result[:, 1], \n",
    "    z=pca_3d_result[:, 2], \n",
    "    color=labels, \n",
    "    hover_data={'label': hover_texts},\n",
    "    labels={'x': 'PCA Component 1', 'y': 'PCA Component 2', 'z': 'PCA Component 3'},\n",
    "    title=\"Embeddings Visualization with 3D PCA\"\n",
    ")\n",
    "\n",
    "# Adding annotations for questions in 3D PCA plot\n",
    "for i, question in enumerate(questions):\n",
    "    fig_pca_3d.add_trace(go.Scatter3d(\n",
    "        x=[pca_3d_result[len(model_embeddings) + i, 0]],\n",
    "        y=[pca_3d_result[len(model_embeddings) + i, 1]],\n",
    "        z=[pca_3d_result[len(model_embeddings) + i, 2]],\n",
    "        text=f\"Q{i+1}\",\n",
    "        mode='markers+text',\n",
    "        textposition='top center',\n",
    "        showlegend=False\n",
    "    ))\n",
    "\n",
    "# Plotting with 3D t-SNE\n",
    "fig_tsne_3d = px.scatter_3d(\n",
    "    x=tsne_3d_result[:, 0], \n",
    "    y=tsne_3d_result[:, 1], \n",
    "    z=tsne_3d_result[:, 2], \n",
    "    color=labels, \n",
    "    hover_data={'label': hover_texts},\n",
    "    labels={'x': 't-SNE Component 1', 'y': 't-SNE Component 2', 'z': 't-SNE Component 3'},\n",
    "    title=\"Embeddings Visualization with 3D t-SNE\"\n",
    ")\n",
    "\n",
    "# Adding annotations for questions in 3D t-SNE plot\n",
    "for i, question in enumerate(questions):\n",
    "    fig_tsne_3d.add_trace(go.Scatter3d(\n",
    "        x=[tsne_3d_result[len(model_embeddings) + i, 0]],\n",
    "        y=[tsne_3d_result[len(model_embeddings) + i, 1]],\n",
    "        z=[tsne_3d_result[len(model_embeddings) + i, 2]],\n",
    "        text=f\"Q{i+1}\",\n",
    "        mode='markers+text',\n",
    "        textposition='top center',\n",
    "        showlegend=False\n",
    "    ))\n",
    "\n",
    "# Show plots\n",
    "fig_pca.show()\n",
    "fig_tsne.show()\n",
    "fig_pca_3d.show()\n",
    "fig_tsne_3d.show()\n"
   ]
  },
  {
   "cell_type": "markdown",
   "metadata": {},
   "source": [
    "# Conclusiones de la visualización:\n",
    "\n",
    "Ocurre el mismo problema que con el modelo anterior, los valores parecen estar en todos lados, no hay clusters bien definidos y eso se refleja en las respuestas obtenidas, que en su mayoria no tienen mucha relacion con la pregunta."
   ]
  },
  {
   "cell_type": "code",
   "execution_count": null,
   "metadata": {},
   "outputs": [],
   "source": []
  }
 ],
 "metadata": {
  "kernelspec": {
   "display_name": "tfm",
   "language": "python",
   "name": "python3"
  },
  "language_info": {
   "codemirror_mode": {
    "name": "ipython",
    "version": 3
   },
   "file_extension": ".py",
   "mimetype": "text/x-python",
   "name": "python",
   "nbconvert_exporter": "python",
   "pygments_lexer": "ipython3",
   "version": "3.9.18"
  }
 },
 "nbformat": 4,
 "nbformat_minor": 2
}

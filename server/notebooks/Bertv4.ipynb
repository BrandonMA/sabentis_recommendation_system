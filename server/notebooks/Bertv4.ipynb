{
 "cells": [
  {
   "cell_type": "markdown",
   "id": "2d74d8f1-f416-413e-aa7a-4d5ed2d74820",
   "metadata": {
    "id": "2d74d8f1-f416-413e-aa7a-4d5ed2d74820"
   },
   "source": [
    "## Análisis de Documentos y Visualización de Embeddings"
   ]
  },
  {
   "cell_type": "markdown",
   "id": "5730e427-b704-4ec2-af97-4393ce0c63ba",
   "metadata": {
    "id": "5730e427-b704-4ec2-af97-4393ce0c63ba"
   },
   "source": [
    "En este notebook, procesamos los manuales de Sabentis para generar embeddings utilizando un modelo BERT preentrenado específico para el idioma español. Posteriormente, aplicamos técnicas avanzadas de visualización de datos como PCA, t-SNE y UMAP para representar gráficamente los resultados. Este análisis nos permite explorar la estructura y similitud de los documentos procesados.  \n",
    "\n",
    "El proceso consisste en cargar varios manuales relacionados con distintos aspectos de la plataforma Sabentis, incluyendo auditorías, ausentismo, estructura organizativa, identificación y evaluación de riesgos, gestión de información y planes de emergencia.\n",
    "Los documentos se dividen en fragmentos (chunks) de tamaño 500 palabras con un solapamiento de 400 palabras para asegurar una cobertura completa y contextual de los textos.\n",
    "\n",
    "Generamos los embelding utilizando un modelo BERT preentrenado en español para generar embeddings de los fragmentos de texto.\n",
    "\n",
    "Y para visualizar aplicamos técnicas de reducción de dimensionalidad como PCA, t-SNE y UMAP para reducir la alta dimensionalidad de los embeddings a espacios bidimensionales o tridimensionales.  \n",
    "\n",
    "Para evaluar la capacidad de los manuales en responder a consultas específicas, hemos formulado un conjunto de preguntas que se dividen en tres categorías:\n",
    "\n",
    "1.Preguntas Respondidas por los Manuales.\n",
    "2.Preguntas No Respondidas por los Manuales\n",
    "3.Pregunta Fuera de Contexto\n",
    "\n",
    "El objetivo principal de este notebook es analizar cómo los manuales de Sabentis pueden proporcionar respuestas a preguntas específicas y evaluar la capacidad del modelo BERT para capturar la semántica de los textos. Al aplicar técnicas de visualización de datos, buscamos identificar la estructura subyacente de los documentos y explorar cómo se relacionan entre sí."
   ]
  },
  {
   "cell_type": "markdown",
   "id": "b4b90944-2162-42e7-bc02-1366698fafaf",
   "metadata": {
    "id": "b4b90944-2162-42e7-bc02-1366698fafaf"
   },
   "source": [
    "### 1. Importar Librerías"
   ]
  },
  {
   "cell_type": "code",
   "execution_count": 1,
   "id": "92c927ec-6817-4886-b8a1-4cf1f9ac8ec4",
   "metadata": {
    "id": "92c927ec-6817-4886-b8a1-4cf1f9ac8ec4"
   },
   "outputs": [
    {
     "name": "stderr",
     "output_type": "stream",
     "text": [
      "/opt/homebrew/Caskroom/miniconda/base/envs/tfm/lib/python3.9/site-packages/tqdm/auto.py:21: TqdmWarning: IProgress not found. Please update jupyter and ipywidgets. See https://ipywidgets.readthedocs.io/en/stable/user_install.html\n",
      "  from .autonotebook import tqdm as notebook_tqdm\n"
     ]
    }
   ],
   "source": [
    "# Librerías para el manejo de archivos y operaciones numéricas\n",
    "import os\n",
    "import numpy as np\n",
    "\n",
    "# Librerías para visualización\n",
    "import plotly.express as px\n",
    "import plotly.graph_objects as go\n",
    "import pandas as pd\n",
    "\n",
    "# Librerías para procesamiento de texto y modelos de lenguaje\n",
    "from transformers import BertTokenizer, BertModel\n",
    "\n",
    "# Librerías para reducción de dimensionalidad y métricas\n",
    "from sklearn.decomposition import PCA\n",
    "from sklearn.manifold import TSNE\n",
    "##import umap\n",
    "from sklearn.metrics.pairwise import cosine_similarity"
   ]
  },
  {
   "cell_type": "markdown",
   "id": "ea6e0ffc-6b37-4738-9dcc-1bca6b21101a",
   "metadata": {
    "id": "ea6e0ffc-6b37-4738-9dcc-1bca6b21101a"
   },
   "source": [
    "### 2. Inicializar Tokenizer y Modelo BERT"
   ]
  },
  {
   "cell_type": "markdown",
   "id": "a368474c-fe82-4903-adc4-7900221975bb",
   "metadata": {
    "id": "a368474c-fe82-4903-adc4-7900221975bb"
   },
   "source": [
    "Se carga un modelo BERT preentrenado específico para el idioma español."
   ]
  },
  {
   "cell_type": "code",
   "execution_count": 2,
   "id": "e517d5e8-e40c-404e-83ab-703b4777564a",
   "metadata": {
    "colab": {
     "base_uri": "https://localhost:8080/",
     "height": 403,
     "referenced_widgets": [
      "b56726e8227449508fd32ae65bc86f83",
      "0ef8f092bbcf405a94621e9ea8ef288a",
      "1a848f5b8df44a33b2991c64ae42234a",
      "d8b3b0a2c4aa4312a79aa50f9f8ca4fb",
      "e46d6f85e4b5426494efaf832d3937e5",
      "ac80cf83b5174d809a434190c88bb882",
      "1bcaa65b714f4a868b8ed76d4bfb4dde",
      "448162a5823446799d1464c7dc64d83e",
      "bec32f2bc17c431d80fd5da608f5e063",
      "ec83a8b0658848e7bcf4cde7d269315e",
      "f66debe769c3439bb58df7e54edaaf17",
      "379becfe23234bcebe3f59e32daea39e",
      "61697ef134c54631b624f6e73cdd1178",
      "c67386b2f0ae400c80b1a4ebda45ef76",
      "e5b5842133d64984b66703992ed61c56",
      "c91c394ee8a84952ac212962ee39d5ec",
      "7276b732bd9b49dd8acc790221f83ea0",
      "5722effb7fa8485aa87e5dc2b588ebd5",
      "549b1e7256ad4aabb7246c4bfb4c9698",
      "b76c17b1308246e788d6eabdb47b794f",
      "f781408eb0744e82a7817d6251809c2b",
      "50cb7a570ccd4a85bc49ec9574752782",
      "1f675161c9bd4fa296682c3d97df606d",
      "dcb4284d71f84e959df202ba94f95a63",
      "2321eec850794a95834659c113e2e442",
      "e4521c4e0b274a9b9f6f8b41155ed612",
      "8895b67c0e8b441aaefe919124e81dc7",
      "04a089dcd4fb4e7391229807d9ce1611",
      "6c3619a44ca849c5abba3742ab743491",
      "0d9139d89de34d5d9fcfd083f5bc19c0",
      "60a88eca8471409c99df33f85d3dc216",
      "d376263a11634b71a35dfbe7e7cf3c28",
      "3ba79e358d6642d5a0b93a19103971d2",
      "3646b00cdc6340998c2581accc7869a5",
      "a685b1f98b524ee59b5a4bf1ef455125",
      "cc6f75730632457f86bd74a7da6bb2f9",
      "d104cb2449d74c29a0fcc01ea55580e0",
      "90a21f12c2e146ae9dfc48d3f5f187c7",
      "31844ce96f114266a14fdd7bd8687d01",
      "4783f70f23a44c1a900272fd16a826cc",
      "3896bff6071f481085f6b1859a2b30ae",
      "7927b6ce477c4e25852f2d2043979384",
      "47d319af939840759c03327a6bb5adf1",
      "e0b0dbede4b14507b9ffadd1d55936f3",
      "a78ecbbbb1f64237b34c0c71b900921e",
      "139324862b2d425bb58ed3cb445e8bcc",
      "f9b35b83939a49e1a931c8b627d6a3cc",
      "90bf03416fa44b34beb82ac8bd665e48",
      "e17ed2ad6fac414794ccc96e5c68ef37",
      "ea1da833020c400f9901cda3d5cc7182",
      "cdb1bfc1d83e4a8ca10d75e25812a5af",
      "9e39b1e51c944d72ba996891058c5027",
      "65dba7559cd64441afb9839e15121fd3",
      "506eaa96477941ea8afab3233b5d6b43",
      "4d7ff51880934eacb5fcba6012ad2d24",
      "77321766b70a49cba9353eb40cee68e0",
      "4dba993d54174622876ed5188ed1609d",
      "780f2f25da5542ac85ac33d630d30221",
      "625c5c32c46f4fcb8078379252018863",
      "1fcf9067bba04700847e53dd575d7d1c",
      "9d30023a4ec6432abd550ed26333b24d",
      "17865d4af6ce45c8bb088178faa410e5",
      "dbc251eaad384c74a6773795118a521c",
      "7647fef823fc41768f1c7d8989e5e099",
      "fa4685f6b13e4b8f92bec391cfda4258",
      "cd60c1fe220e4c99bb08330d5c23ac49"
     ]
    },
    "id": "e517d5e8-e40c-404e-83ab-703b4777564a",
    "outputId": "6446e00d-46bd-431a-9d10-d2ce3d479ad9"
   },
   "outputs": [
    {
     "name": "stderr",
     "output_type": "stream",
     "text": [
      "Some weights of BertModel were not initialized from the model checkpoint at dccuchile/bert-base-spanish-wwm-uncased and are newly initialized: ['bert.pooler.dense.bias', 'bert.pooler.dense.weight']\n",
      "You should probably TRAIN this model on a down-stream task to be able to use it for predictions and inference.\n"
     ]
    }
   ],
   "source": [
    "tokenizer = BertTokenizer.from_pretrained('dccuchile/bert-base-spanish-wwm-uncased')\n",
    "model = BertModel.from_pretrained('dccuchile/bert-base-spanish-wwm-uncased')"
   ]
  },
  {
   "cell_type": "markdown",
   "id": "ca4a45e0-24fe-4d29-8007-67af9a2440cc",
   "metadata": {
    "id": "ca4a45e0-24fe-4d29-8007-67af9a2440cc"
   },
   "source": [
    "### 3. Función para Obtener Embeddings BERT"
   ]
  },
  {
   "cell_type": "markdown",
   "id": "0a549f69-b3d6-41da-8f0c-c47e261deecf",
   "metadata": {
    "id": "0a549f69-b3d6-41da-8f0c-c47e261deecf"
   },
   "source": [
    "**bert_embeddings:** Toma un texto como entrada y devuelve los embeddings BERT.  \n",
    "**tokenizer:** Convierte el texto en tensores adecuados para el modelo.  \n",
    "**model:** Obtiene los embeddings del modelo BERT."
   ]
  },
  {
   "cell_type": "code",
   "execution_count": 3,
   "id": "c97ccd33-237a-4d33-8233-6ceefe378c84",
   "metadata": {
    "id": "c97ccd33-237a-4d33-8233-6ceefe378c84"
   },
   "outputs": [],
   "source": [
    "def bert_embeddings(text):\n",
    "    inputs = tokenizer(text, return_tensors='pt', truncation=True, max_length=512)\n",
    "    outputs = model(**inputs)\n",
    "    return outputs.last_hidden_state[:, 0, :].detach().numpy()"
   ]
  },
  {
   "cell_type": "markdown",
   "id": "01646499-88f8-41cd-b386-61a706dca0cc",
   "metadata": {
    "id": "01646499-88f8-41cd-b386-61a706dca0cc"
   },
   "source": [
    "### 4. Función para Dividir Texto en Chunks"
   ]
  },
  {
   "cell_type": "markdown",
   "id": "123cb7b9-26f2-4783-8732-63ef8cc414f3",
   "metadata": {
    "id": "123cb7b9-26f2-4783-8732-63ef8cc414f3"
   },
   "source": [
    "**chunk_text:** Divide el contenido de un archivo de texto en fragmentos (chunks) de tamaño especificado con cierta superposición.  \n",
    "**chunk_size:** Tamaño de cada chunk.  \n",
    "**overlap:** Superposición entre chunks consecutivos."
   ]
  },
  {
   "cell_type": "markdown",
   "id": "c6cd76ae-0e9b-4bbd-965a-9b698d74076e",
   "metadata": {
    "id": "c6cd76ae-0e9b-4bbd-965a-9b698d74076e"
   },
   "source": [
    "### 5. Rutas de Archivos de Manuales"
   ]
  },
  {
   "cell_type": "markdown",
   "id": "13710cac-1ef8-49d7-903e-9a99f6b64550",
   "metadata": {
    "id": "13710cac-1ef8-49d7-903e-9a99f6b64550"
   },
   "source": [
    "Diccionario con nombres de manuales y sus respectivas rutas de archivo."
   ]
  },
  {
   "cell_type": "code",
   "execution_count": 4,
   "id": "e23c1a8c-56ea-4e4c-afc0-0827332c6b82",
   "metadata": {
    "id": "e23c1a8c-56ea-4e4c-afc0-0827332c6b82"
   },
   "outputs": [],
   "source": [
    "file_paths = {\n",
    "    \"Auditorias\": \"../chunks/auditorias.txt\",\n",
    "    \"Ausentismo\": \"../chunks/ausentismo.txt\",\n",
    "    \"Estructura Organizativa\": \"../chunks/estructura organizativa.txt\",\n",
    "    \"Riesgos\": \"../chunks/riesgos.txt\",\n",
    "    \"Información\": \"../chunks/información.txt\",\n",
    "    \"Emergencia\": \"../chunks/emergencia.txt\"\n",
    "}"
   ]
  },
  {
   "cell_type": "markdown",
   "id": "1b2d4abb-c453-4748-b1d4-25436c2a7ef0",
   "metadata": {
    "id": "1b2d4abb-c453-4748-b1d4-25436c2a7ef0"
   },
   "source": [
    "### 6. Dividir Manuales en Chunks"
   ]
  },
  {
   "cell_type": "markdown",
   "id": "cb9487d8-b333-41d3-9a07-b6e1aa6e79b5",
   "metadata": {
    "id": "cb9487d8-b333-41d3-9a07-b6e1aa6e79b5"
   },
   "source": [
    "Para cada manual, se lee y se divide el contenido en chunks utilizando la función chunk_text."
   ]
  },
  {
   "cell_type": "markdown",
   "id": "1ad65ae1-60f2-40e9-adff-01237e4df658",
   "metadata": {
    "id": "1ad65ae1-60f2-40e9-adff-01237e4df658"
   },
   "source": [
    "### 7. Unir Todos los Chunks y Sus Etiquetas"
   ]
  },
  {
   "cell_type": "markdown",
   "id": "95fe534f-977f-419a-ab2d-1fcb0a1a1f05",
   "metadata": {
    "id": "95fe534f-977f-419a-ab2d-1fcb0a1a1f05"
   },
   "source": [
    "**all_chunks:** Lista que contiene todos los chunks de todos los manuales.  \n",
    "**chunk_labels:** Lista de etiquetas que indica a qué manual pertenece cada chunk."
   ]
  },
  {
   "cell_type": "code",
   "execution_count": 7,
   "id": "ace9d051-cb6c-4c74-9489-af6ef68b82e3",
   "metadata": {
    "id": "ace9d051-cb6c-4c74-9489-af6ef68b82e3"
   },
   "outputs": [],
   "source": [
    "chunks = {}\n",
    "\n",
    "for key, path in file_paths.items():\n",
    "    with open(path, 'r') as file:\n",
    "        chunks[key] = file.read().split('\\n\\n')\n",
    "\n",
    "all_chunks = []\n",
    "chunk_labels = []\n",
    "for manual, manual_chunks in chunks.items():\n",
    "    all_chunks.extend(manual_chunks)\n",
    "    chunk_labels.extend([manual] * len(manual_chunks))"
   ]
  },
  {
   "cell_type": "markdown",
   "id": "545e567d-94f8-4cf9-adc2-08fa7000cc39",
   "metadata": {
    "id": "545e567d-94f8-4cf9-adc2-08fa7000cc39"
   },
   "source": [
    "### 8. Obtener Embeddings BERT para Todos los Chunks"
   ]
  },
  {
   "cell_type": "markdown",
   "id": "f4dd79e1-5064-4d58-a84d-692ef5af116d",
   "metadata": {
    "id": "f4dd79e1-5064-4d58-a84d-692ef5af116d"
   },
   "source": [
    "Se generan los embeddings BERT para cada chunk y se almacenan en una matriz chunk_embeddings."
   ]
  },
  {
   "cell_type": "code",
   "execution_count": 8,
   "id": "b46fc8e7-2a82-4aa1-8e26-3e2ae1f9b9c9",
   "metadata": {
    "colab": {
     "base_uri": "https://localhost:8080/",
     "height": 287
    },
    "id": "b46fc8e7-2a82-4aa1-8e26-3e2ae1f9b9c9",
    "outputId": "471979b7-5742-40d5-aa77-82c29e5a2d77"
   },
   "outputs": [],
   "source": [
    "chunk_embeddings = np.array([bert_embeddings(chunk)[0] for chunk in all_chunks])"
   ]
  },
  {
   "cell_type": "markdown",
   "id": "6f53e34c-6652-4e24-a464-7972eec16c7f",
   "metadata": {
    "id": "6f53e34c-6652-4e24-a464-7972eec16c7f"
   },
   "source": [
    "### 9. Lista de Preguntas"
   ]
  },
  {
   "cell_type": "markdown",
   "id": "8b7fcc53-2d9a-40e1-9b82-036b46731a90",
   "metadata": {
    "id": "8b7fcc53-2d9a-40e1-9b82-036b46731a90"
   },
   "source": [
    "Lista de preguntas a analizar, algunas relevantes a los manuales y otras no."
   ]
  },
  {
   "cell_type": "code",
   "execution_count": 9,
   "id": "8b08efb6-eb90-4124-ab56-eb95e373488b",
   "metadata": {
    "id": "8b08efb6-eb90-4124-ab56-eb95e373488b"
   },
   "outputs": [],
   "source": [
    "questions = [\n",
    "    # 7 preguntas con la respuesta en los manuales\n",
    "    \"¿Cómo se diferencia la ubicación física de la operativa?\",  # Manual Estructura Organizativa pág. 60 y 73.\n",
    "    \"¿Qué información se incluye en el informe de la evaluación de riesgos que ofrece la plataforma y cuál es su utilidad para la gestión de riesgos en la empresa?\",  # Manual Identificación y Evaluación de Riesgos (IER); pág. 24 - 26.\n",
    "    \"¿Hay indicadores relativos al cumplimiento de normas?\",  # Manual Auditorías pág. 16 17 30 y 31.\n",
    "    \"¿Qué papel juega la estructura organizativa en la funcionalidad general de la plataforma y cómo interactúa con otros módulos?\",  # Manual Estructura Organizativa\n",
    "    \"¿Qué permite realizar la evaluación de riesgos?\",  # Manual Identificación y Evaluación de Riesgos (IER)\n",
    "    \"¿Qué tipo de documentos se pueden almacenar y compartir en el espacio denominado 'Documentos' y cuál es su importancia dentro del contexto de la gestión empresarial en la plataforma?\",  # Manual del Repositorio documental\n",
    "    \"¿Se pueden llevar a cabo auditorías internas?\",  # Manual Auditorías\n",
    "\n",
    "    # 2 preguntas que no se puedan resolver con los manuales\n",
    "    \"¿Cuál es la tasa de adopción de esta plataforma en el mercado?\",\n",
    "    \"¿Cómo se compara esta plataforma con otras soluciones de gestión de SST?\",\n",
    "\n",
    "    # 1 pregunta totalmente fuera del contexto\n",
    "    \"¿Qué día hará mañana?\"\n",
    "]"
   ]
  },
  {
   "cell_type": "markdown",
   "id": "2d8eaadf-62aa-4d46-a64b-41c427b183be",
   "metadata": {
    "id": "2d8eaadf-62aa-4d46-a64b-41c427b183be"
   },
   "source": [
    "### 10. Obtener Embeddings BERT para las Preguntas"
   ]
  },
  {
   "cell_type": "markdown",
   "id": "dfcaa0a0-d405-4d68-9419-821574d45ebe",
   "metadata": {
    "id": "dfcaa0a0-d405-4d68-9419-821574d45ebe"
   },
   "source": [
    "Generar embeddings BERT para cada pregunta y almacenarlos en una matriz question_embeddings."
   ]
  },
  {
   "cell_type": "code",
   "execution_count": 10,
   "id": "c9b3ce32-a31d-4d3b-b9db-2f60c9c38088",
   "metadata": {
    "id": "c9b3ce32-a31d-4d3b-b9db-2f60c9c38088"
   },
   "outputs": [],
   "source": [
    "# Obtener embeddings para todos los chunks\n",
    "embeddings = np.vstack([bert_embeddings(chunk) for chunk in all_chunks])"
   ]
  },
  {
   "cell_type": "code",
   "execution_count": 11,
   "id": "c07b77e2-10f2-465a-9027-9ab78fb0c905",
   "metadata": {
    "id": "c07b77e2-10f2-465a-9027-9ab78fb0c905"
   },
   "outputs": [],
   "source": [
    "question_embeddings = np.array([bert_embeddings(question)[0] for question in questions])"
   ]
  },
  {
   "cell_type": "markdown",
   "id": "ebff0174-eaa0-4f1b-b9d5-126936d27947",
   "metadata": {
    "id": "ebff0174-eaa0-4f1b-b9d5-126936d27947"
   },
   "source": [
    "### 12. Reducción de Dimensionalidad a 2 Componentes con PCA y TSNE"
   ]
  },
  {
   "cell_type": "markdown",
   "id": "39398cf9-4643-431a-9092-e443123b5463",
   "metadata": {
    "id": "39398cf9-4643-431a-9092-e443123b5463"
   },
   "source": [
    "**PCA:** Reducción de dimensionalidad a 2 componentes para los embeddings de los chunks y las preguntas.  \n",
    "**TSNE:** Otra técnica de reducción de dimensionalidad a 2 componentes."
   ]
  },
  {
   "cell_type": "code",
   "execution_count": 12,
   "id": "68d71600-61bc-46af-b74c-6962d4b7479e",
   "metadata": {
    "id": "68d71600-61bc-46af-b74c-6962d4b7479e"
   },
   "outputs": [],
   "source": [
    "pca = PCA(n_components=2)\n",
    "pca_result = pca.fit_transform(chunk_embeddings)\n",
    "question_pca_embeddings = pca.transform(question_embeddings)\n",
    "\n",
    "tsne = TSNE(n_components=2, perplexity=40, n_iter=300)\n",
    "tsne_result = tsne.fit_transform(chunk_embeddings)\n",
    "question_tsne_results = tsne.fit_transform(np.vstack([chunk_embeddings, question_embeddings]))[-len(questions):]"
   ]
  },
  {
   "cell_type": "markdown",
   "id": "0354e375-cf34-4e2c-8d25-5bd27d092437",
   "metadata": {
    "id": "0354e375-cf34-4e2c-8d25-5bd27d092437"
   },
   "source": [
    "### 13. Reducción de Dimensionalidad a 3 Componentes con PCA y TSNE"
   ]
  },
  {
   "cell_type": "markdown",
   "id": "324181e9-ac44-4940-af71-93bd97eca269",
   "metadata": {
    "id": "324181e9-ac44-4940-af71-93bd97eca269"
   },
   "source": [
    "**PCA y TSNE:** También se realiza la reducción de dimensionalidad a 3 componentes para una visualización tridimensional."
   ]
  },
  {
   "cell_type": "code",
   "execution_count": 13,
   "id": "8a6ed89b-12fc-4591-ac2d-2539227f1b42",
   "metadata": {
    "id": "8a6ed89b-12fc-4591-ac2d-2539227f1b42"
   },
   "outputs": [],
   "source": [
    "pca_3d = PCA(n_components=3)\n",
    "pca_3d_result = pca_3d.fit_transform(chunk_embeddings)\n",
    "question_pca_3d_embeddings = pca_3d.transform(question_embeddings)\n",
    "\n",
    "tsne_3d = TSNE(n_components=3, perplexity=40, n_iter=300)\n",
    "tsne_3d_result = tsne_3d.fit_transform(chunk_embeddings)\n",
    "question_tsne_3d_embeddings = tsne_3d.fit_transform(np.vstack([chunk_embeddings, question_embeddings]))[-len(questions):]"
   ]
  },
  {
   "cell_type": "markdown",
   "id": "3da3196b-e7bc-49b6-993a-7106367db62c",
   "metadata": {
    "id": "3da3196b-e7bc-49b6-993a-7106367db62c"
   },
   "source": [
    "### 14. Función para Encontrar los Chunks Más Similares a una Pregunta"
   ]
  },
  {
   "cell_type": "markdown",
   "id": "f3e145e1-b101-4aa6-8c1d-9b47309a4d68",
   "metadata": {
    "id": "f3e145e1-b101-4aa6-8c1d-9b47309a4d68"
   },
   "source": [
    "**find_top_n_chunks:** Calcula la similitud coseno entre el embedding de una pregunta y los embeddings de los chunks, ordenando los chunks por similitud.\n",
    "\n",
    "He substituido **cosine_similarity** por una función que calcule la distancia euclidiana. La función **np.linalg.norm** se utiliza para calcular la distancia euclidiana entre dos vectores."
   ]
  },
  {
   "cell_type": "code",
   "execution_count": 14,
   "id": "054e01d3",
   "metadata": {
    "id": "054e01d3"
   },
   "outputs": [],
   "source": [
    "\n",
    "def find_top_n_chunks(question_embedding, chunk_embeddings, n=10):\n",
    "    distances = np.linalg.norm(chunk_embeddings - question_embedding, axis=1)\n",
    "    sorted_indices = distances.argsort()  # Ordenar de menor a mayor\n",
    "    top_n_indices = sorted_indices[:n]  # Obtener los primeros n índices\n",
    "    top_n_distances = distances[top_n_indices]  # Obtener las distancias correspondientes\n",
    "    return top_n_indices, top_n_distances\n"
   ]
  },
  {
   "cell_type": "markdown",
   "id": "XmPwNRl9845r",
   "metadata": {
    "id": "XmPwNRl9845r"
   },
   "source": [
    "#### Comprobación de los embeddings  \n",
    "\n",
    " A continuación vamos a comparar las distancias entre embeddings de frases similares y distintas."
   ]
  },
  {
   "cell_type": "code",
   "execution_count": 15,
   "id": "535650aa",
   "metadata": {
    "id": "535650aa"
   },
   "outputs": [
    {
     "name": "stdout",
     "output_type": "stream",
     "text": [
      "Distancia entre frases similares (1 y 2): 4.958995819091797\n",
      "Distancia entre frase distinta (1 y 3): 5.729469299316406\n",
      "Distancia entre frase distinta (2 y 3): 3.9385976791381836\n"
     ]
    }
   ],
   "source": [
    "# Definir tres frases: dos similares y una distinta\n",
    "phrase_1 = \"El sol brilla intensamente en el cielo azul.\"\n",
    "phrase_2 = \"El cielo está despejado y el sol brilla.\"\n",
    "phrase_3 = \"El coche rojo está estacionado en la calle.\"\n",
    "\n",
    "# Tokenizar y obtener embeddings para cada frase\n",
    "phrases = [phrase_1, phrase_2, phrase_3]\n",
    "tokenizer = BertTokenizer.from_pretrained('bert-base-uncased')\n",
    "model = BertModel.from_pretrained('bert-base-uncased')\n",
    "\n",
    "def get_embedding(phrase):\n",
    "    inputs = tokenizer(phrase, return_tensors='pt')\n",
    "    outputs = model(**inputs)\n",
    "    return outputs.last_hidden_state.mean(dim=1).detach().numpy()\n",
    "\n",
    "embeddings = [get_embedding(phrase) for phrase in phrases]\n",
    "\n",
    "# Calcular distancias entre embeddings\n",
    "dist_12 = np.linalg.norm(embeddings[0] - embeddings[1])\n",
    "dist_13 = np.linalg.norm(embeddings[0] - embeddings[2])\n",
    "dist_23 = np.linalg.norm(embeddings[1] - embeddings[2])\n",
    "\n",
    "print(f\"Distancia entre frases similares (1 y 2): {dist_12}\")\n",
    "print(f\"Distancia entre frase distinta (1 y 3): {dist_13}\")\n",
    "print(f\"Distancia entre frase distinta (2 y 3): {dist_23}\")\n"
   ]
  },
  {
   "cell_type": "markdown",
   "id": "4f018901-9c9a-4414-abd0-aaccf27c04fb",
   "metadata": {
    "id": "4f018901-9c9a-4414-abd0-aaccf27c04fb"
   },
   "source": [
    "### 15. Evaluación de Preguntas y Búsqueda de Chunks Más Similares"
   ]
  },
  {
   "cell_type": "markdown",
   "id": "0a2ccc1d-2958-4ecf-884a-05eb7ce75491",
   "metadata": {
    "id": "0a2ccc1d-2958-4ecf-884a-05eb7ce75491"
   },
   "source": [
    "Se itera sobre cada pregunta, obteniendo los embeddings y buscando los chunks más similares.  \n",
    "**\n",
    "similarities**: Lista para almacenar las similitudes de las preguntas con los chunks  \n",
    "\n",
    "Se imprime cada pregunta con los chunks más similares, incluyendo el rango y la similitud."
   ]
  },
  {
   "cell_type": "code",
   "execution_count": 16,
   "id": "95e1f7ad-9b3c-45c5-b104-0d7024eb50fe",
   "metadata": {
    "id": "95e1f7ad-9b3c-45c5-b104-0d7024eb50fe",
    "outputId": "ba1654b2-39e1-45a1-bf43-b78cdff07deb"
   },
   "outputs": [
    {
     "name": "stdout",
     "output_type": "stream",
     "text": [
      "Pregunta: ¿Cómo se diferencia la ubicación física de la operativa?\n",
      "Rango: 1, Similaridad: 17.050920486450195\n",
      "Chunk: los trabajadores”, “Ver  puestos de trabajo”, “Exportar el cargo como plantilla” y “Aplicar plantilla”.\n",
      "\n",
      "Rango: 2, Similaridad: 17.581830978393555\n",
      "Chunk: El concepto de las herencias de los riesgos hace referencia a los riesgos a los que un trabajador  está expuesto con motivo de las relaciones que tiene con las distintas ubicaciones de la  empresa (ya sean ubicaciones físicas u operativas).     Las herencias funcionan de manera distinta dependiendo de si provienen de ubicaciones físicas  u operativas. En el primer caso, las herencias siguen una dirección de “arriba a abajo”. Es  decir, de los niveles más altos de la estructura organizativa\n",
      "\n",
      "Rango: 3, Similaridad: 17.84666633605957\n",
      "Chunk: de tener  una evaluación realizada ésta se perderá.  •  Evaluar: Permite acceder al cuestionario de evaluación.\n",
      "\n",
      "Rango: 4, Similaridad: 18.109411239624023\n",
      "Chunk: La pestaña evaluación de aspectos legales permite al usuario evaluar los cuestionarios  aplicables a la evaluación. Aparecerán aquellos cuestionarios que el usuario ha seleccionado  previamente en la pestaña “Datos de la evaluación de la normativa”, con la finalidad de  hacer estudios parciales o más específicos. Para completar la evaluación de aspectos legales,  debajo de cada ítem de estándar se dispone de las opciones de respuesta: Cumple/ No  cumple/ No aplica.\n",
      "\n",
      "Rango: 5, Similaridad: 18.135473251342773\n",
      "Chunk: •  Documentación: Redirige a la pestaña Documentación de la enfermedad.  •  Eliminar: Eliminar enfermedad laboral.\n",
      "\n",
      "Rango: 6, Similaridad: 18.253936767578125\n",
      "Chunk: GRÁFICA  DESCRIPCIÓN  Riesgos evaluados vs  riesgos no evaluados  Gráfica de datos circular que muestra el número de riesgos evaluados,  frente a los riesgos que no han sido evaluados todavía. La gráfica se  puede descargar.  Riesgos evaluados por  nivel de riesgo inicial  Gráfica de datos circular que muestra el número de riesgos por nivel  (Trivial, Tolerable, Moderado, Importante e Intolerable). La gráfica se  puede descargar.   Riesgos evaluados por  nivel de riesgo residual  Gráfica de\n",
      "\n",
      "Rango: 7, Similaridad: 18.27484130859375\n",
      "Chunk: El módulo estructura organizativa permite la definición y gestión de empresas en la  plataforma, cuenta con la posibilidad de configurar ubicaciones que reflejan mejor la realidad  de las empresas y herramientas para agilizar la navegación y creación de la estructura.   La estructura organizativa permite seleccionar las entidades básicas de las ocupaciones  (CIUO) y la concepción de los puestos de trabajo. Los puestos de trabajo son entendidos  como el lugar o área ocupada por las personas\n",
      "\n",
      "Rango: 8, Similaridad: 18.292665481567383\n",
      "Chunk: 61  •  Distribución de trabajadores por género: grafica circular de datos de distribución por  género de los trabajadores de la ubicación libre física: masculino/femenino. Al  colocar el cursor sobre un segmento de la gráfica, se muestra el número de  trabajadores pertenecientes al segmento. Las gráficas se pueden descargar.  •  Distribución de trabajadores por rango de edad: gráfica circular de datos que  muestra la distribución por rango de edad de los trabajadores de la ubicación libre\n",
      "\n",
      "Rango: 9, Similaridad: 18.476463317871094\n",
      "Chunk: por estado  Gráfica de datos. Gráfica circular de datos de distribución de las  medidas correctivas definidas en los planes de emergencia vigentes  por estado: Pendiente de planificar / Pendiente de evidencia /  Implementada.\n",
      "\n",
      "Rango: 10, Similaridad: 18.479604721069336\n",
      "Chunk: evaluación” que redirige al formulario de creación de evaluaciones, y las  acciones:\n",
      "\n",
      "Pregunta: ¿Qué información se incluye en el informe de la evaluación de riesgos que ofrece la plataforma y cuál es su utilidad para la gestión de riesgos en la empresa?\n",
      "Rango: 1, Similaridad: 17.791767120361328\n",
      "Chunk: GRÁFICA  DESCRIPCIÓN  Riesgos evaluados vs  riesgos no evaluados  Gráfica de datos circular que muestra el número de riesgos evaluados,  frente a los riesgos que no han sido evaluados todavía. La gráfica se  puede descargar.  Riesgos evaluados por  nivel de riesgo inicial  Gráfica de datos circular que muestra el número de riesgos por nivel  (Trivial, Tolerable, Moderado, Importante e Intolerable). La gráfica se  puede descargar.   Riesgos evaluados por  nivel de riesgo residual  Gráfica de\n",
      "\n",
      "Rango: 2, Similaridad: 18.02544593811035\n",
      "Chunk: de marcado CE?  •  ¿Dispone de puesta en conformidad?  •  ¿Dispone de adaptaciones/mejoras?  •  ¿Es propiedad de una empresa externa?\n",
      "\n",
      "Rango: 3, Similaridad: 18.3593692779541\n",
      "Chunk: Establecer las medidas necesarias destinadas a mejorar las condiciones y reducir el  nivel de vulnerabilidad.  •  Establecer procedimientos de reacción para cada tipo de emergencia de las  instalaciones actuales y reacción frente a las principales amenazas identificadas.\n",
      "\n",
      "Rango: 4, Similaridad: 18.58536720275879\n",
      "Chunk: 61  •  Distribución de trabajadores por género: grafica circular de datos de distribución por  género de los trabajadores de la ubicación libre física: masculino/femenino. Al  colocar el cursor sobre un segmento de la gráfica, se muestra el número de  trabajadores pertenecientes al segmento. Las gráficas se pueden descargar.  •  Distribución de trabajadores por rango de edad: gráfica circular de datos que  muestra la distribución por rango de edad de los trabajadores de la ubicación libre\n",
      "\n",
      "Rango: 5, Similaridad: 18.640974044799805\n",
      "Chunk: ¿QUÉ ES UN PLAN DE EMERGENCIA?  La pestaña evaluación de aspectos legales permite al usuario evaluar los cuestionarios  aplicables a la evaluación. Aparecerán aquellos cuestionarios que el usuario ha seleccionado.\n",
      "\n",
      "Rango: 6, Similaridad: 18.692367553710938\n",
      "Chunk: Gráfica  Descripción  Número de centros con planes de  emergencia vigente  Contador. Centros de trabajo con un plan de emergencia en estado  “Vigente” sobre el total de centros de la empresa.  Peligros por nivel de riesgo  Gráfica de datos. Gráfica circular de datos de distribución de  amenazas evaluadas en los planes de emergencia vigentes por nivel  de riesgo obtenido: No evaluado / Bajo / Medio / Alto / Muy alto.  Medidas por estado  Gráfica de datos. Gráfica circular de datos de\n",
      "\n",
      "Rango: 7, Similaridad: 18.70830726623535\n",
      "Chunk: de tener  una evaluación realizada ésta se perderá.  •  Evaluar: Permite acceder al cuestionario de evaluación.\n",
      "\n",
      "Rango: 8, Similaridad: 18.709287643432617\n",
      "Chunk: Al añadir un nuevo Agente Material, el formulario tiene variaciones dependiendo del tipo de  agente material seleccionado, a excepción del tipo de agente “Otros”.   Siendo así que al seleccionar:  1. Tipo de AM AGENTE EQUIPO/ MÁQUINA: se añaden los apartados:  •  Datos técnicos con los campos:  •  Marca  •  Modelo  •  Número de serie  •  Fecha de fabricación  •  Fecha de adquisición  •  Cuestionario técnico con los campos:  •  ¿Dispone de marcado CE?  •  ¿Dispone de puesta en conformidad?  •\n",
      "\n",
      "Rango: 9, Similaridad: 18.714923858642578\n",
      "Chunk: PLAN DE ACCIÓN  El usuario accede a la pestaña de Plan de Acción y visualiza el listado con las medidas  asociadas a la enfermedad. El listado cuenta con las opciones: buscador, filtros,  añadir/quitar columnas, actualizar, descargar listado y la acción de ver los datos de la  medida asociada. Cuando no haya medidas asociadas, el usuario se puede dirigir a la  evaluación de riesgos para identificar o reevaluar los riesgos, desde la misma pantalla de  plan de acción.  DOCUMENTACIÓN\n",
      "\n",
      "Rango: 10, Similaridad: 18.774288177490234\n",
      "Chunk: evaluación” que redirige al formulario de creación de evaluaciones, y las  acciones:\n",
      "\n",
      "Pregunta: ¿Hay indicadores relativos al cumplimiento de normas?\n",
      "Rango: 1, Similaridad: 23.01680564880371\n",
      "Chunk: fecha de realización y descripción  de la evidencia de cumplimiento.\n",
      "\n",
      "Rango: 2, Similaridad: 23.37905502319336\n",
      "Chunk: de marcado CE?  •  ¿Dispone de puesta en conformidad?  •  ¿Dispone de adaptaciones/mejoras?  •  ¿Es propiedad de una empresa externa?\n",
      "\n",
      "Rango: 3, Similaridad: 23.865842819213867\n",
      "Chunk: 2. IDENTIFICACIÓN Y EVALUACIÓN DE RIESGOS (IER)\n",
      "\n",
      "Rango: 4, Similaridad: 24.137290954589844\n",
      "Chunk: 5  •  Establecer y mantener un esquema de organización interna, confeccionando los  equipos de respuesta e intervención frente a las emergencias.  •  Minimizar las pérdidas materiales y ambientales derivadas de las diferentes  situaciones de emergencia que se puedan presentar.  •  Minimizar los riesgos que pueda desencadenar una emergencia, mediante el control  de estos.   •  Restablecer el ritmo normal de trabajo a la mayor brevedad posible.  ¿QUÉ ES UN SIMULACRO?\n",
      "\n",
      "Rango: 5, Similaridad: 24.397247314453125\n",
      "Chunk: PESTAÑA CENTROS DE TRABAJO\n",
      "\n",
      "Rango: 6, Similaridad: 24.42588233947754\n",
      "Chunk: ANTECEDENTES  El usuario accede a la pestaña “Antecedentes” y visualiza el listado de antecedentes  laborales del trabajador, es decir, qué ocupaciones había estado realizando. El listado cuenta  con las opciones: buscador, filtros, añadir/quitar columnas, actualizar, descargar listado,  Nuevo antecedente y las acciones de editar o eliminar la ficha de datos de los  antecedentes.  PLAN DE ACCIÓN\n",
      "\n",
      "Rango: 7, Similaridad: 24.57364273071289\n",
      "Chunk: PESTAÑA PUESTO DE TRABAJO\n",
      "\n",
      "Rango: 8, Similaridad: 24.66312599182129\n",
      "Chunk: DATOS DEL ACCIDENTE DE TRABAJO  El usuario accede a la pestaña de “Datos del accidente de trabajo” y visualiza un formulario  donde ha de definir la información del accidente y describir cómo ha sucedido.\n",
      "\n",
      "Rango: 9, Similaridad: 24.674510955810547\n",
      "Chunk: el número de accidentes ocurridos según la  gravedad de los accidentes de trabajo.\n",
      "\n",
      "Rango: 10, Similaridad: 24.758848190307617\n",
      "Chunk: y, finalmente,  determinar las medidas de acción concretas para prevenir la ocurrencia de accidentes de  trabajo y/o enfermedades profesionales.\n",
      "\n",
      "Pregunta: ¿Qué papel juega la estructura organizativa en la funcionalidad general de la plataforma y cómo interactúa con otros módulos?\n",
      "Rango: 1, Similaridad: 17.261140823364258\n",
      "Chunk: •  Con empresa y centro en contexto: el usuario visualiza los trabajadores de la  empresa y del centro de trabajo seleccionado.\n",
      "\n",
      "Rango: 2, Similaridad: 17.837196350097656\n",
      "Chunk: Se visualizan diez cardboards que dan entrada a las diferentes funcionalidades del módulo:  •  Empresas  •  Centros de trabajo  •  Ocupaciones  •  Lugares de trabajo  •  Puestos de trabajo  •  Trabajadores  •  Ubicaciones libres físicas  •  Ubicaciones libres operativas  •  Perfiles de empresa  •  Agentes materiales\n",
      "\n",
      "Rango: 3, Similaridad: 18.03125\n",
      "Chunk: El módulo estructura organizativa permite la definición y gestión de empresas en la  plataforma, cuenta con la posibilidad de configurar ubicaciones que reflejan mejor la realidad  de las empresas y herramientas para agilizar la navegación y creación de la estructura.   La estructura organizativa permite seleccionar las entidades básicas de las ocupaciones  (CIUO) y la concepción de los puestos de trabajo. Los puestos de trabajo son entendidos  como el lugar o área ocupada por las personas\n",
      "\n",
      "Rango: 4, Similaridad: 18.106081008911133\n",
      "Chunk: Al editar la información del centro de trabajo se visualiza la ficha de datos del centro junto a  las pestañas “Trabajadores del centro”, “Lugares de trabajo”, “Ocupaciones”, “Agentes  Materiales”, “Puestos de Trabajo” y “Documentos”. Desde esta ruta se facilita al usuario a  crear la estructura inferior del Centro de trabajo -como lugares de trabajo, ocupaciones,  puestos y agentes materiales- así como también gestionar las relaciones Centro-Trabajador.\n",
      "\n",
      "Rango: 5, Similaridad: 18.34910774230957\n",
      "Chunk: el número de trabajadores pertenecientes al segmento. Las  gráficas se pueden descargar.  •  Distribución de centros de trabajo: georreferenciador que muestra la ubicación del  centro de trabajo por medio de un mapa geolocalizador.\n",
      "\n",
      "Rango: 6, Similaridad: 18.436059951782227\n",
      "Chunk: CONTENIDO  Sabentis es la nueva plataforma de gestión especializada en el ámbito de Seguridad y Salud  en el Trabajo adaptada a las nuevas tecnologías y a los nuevos modelos de gestión de la  prevención.    El módulo Estructura Organizativa permite la definición y gestión de empresas en la  plataforma, cuenta con la posibilidad de configurar ubicaciones que reflejan mejor la realidad  de las empresas.  2. MODELO DE ESTRUCTURA ORGANIZATIVA: GRAN EMPRESA\n",
      "\n",
      "Rango: 7, Similaridad: 18.445707321166992\n",
      "Chunk: El usuario puede acceder al módulo de Auditorías desde:  •  La entrada del menú lateral de la plataforma.  •  Desde el cardboard “Auditorías” del panel principal. Se requiere empresa en  contexto.  5  •  Diagnósticos ISO.  •  Metodología 5S.  •  Planificación y ejecución de medidas.  •  Comparativa de estudios.  Además, se visualiza un dashboard que contiene datos estadísticos. Las gráficas se pueden  descargar y muestran la siguiente información:\n",
      "\n",
      "Rango: 8, Similaridad: 18.454912185668945\n",
      "Chunk: 3. HOME ESTRUCTURA ORGANIZATIVA  El usuario puede acceder al módulo Estructura Organizativa (EO), desde las opciones:  •  La entrada del menú lateral.  •  Desde el cardboard “Estructura Organizativa”.\n",
      "\n",
      "Rango: 9, Similaridad: 18.465295791625977\n",
      "Chunk: el número de trabajadores  pertenecientes al segmento. Las gráficas se pueden descargar.  Georreferenciador de la  distribución de centros de trabajo  Permite ver la ubicación de los centros de trabajo, por medio de  un mapa geolocalizador.\n",
      "\n",
      "Rango: 10, Similaridad: 18.59451675415039\n",
      "Chunk: el cuestionario de la evaluación se  muestra como no editable y se habilitan las pestañas Actividades para la mejora y generar  documentos.\n",
      "\n",
      "Pregunta: ¿Qué permite realizar la evaluación de riesgos?\n",
      "Rango: 1, Similaridad: 17.29159927368164\n",
      "Chunk: de marcado CE?  •  ¿Dispone de puesta en conformidad?  •  ¿Dispone de adaptaciones/mejoras?  •  ¿Es propiedad de una empresa externa?\n",
      "\n",
      "Rango: 2, Similaridad: 18.280319213867188\n",
      "Chunk: Esta pantalla es informativa, no se puede realizar ningún tipo de gestión. El usuario solo podrá  visualizar los riesgos presentes en las ubicaciones con las que el trabajador seleccionado tenga  relación.\n",
      "\n",
      "Rango: 3, Similaridad: 18.564058303833008\n",
      "Chunk: 3. Tipo de AM AGENTE VEHÍCULO: se añaden los apartados:  •  Datos técnicos con los campos:  •  Marca  •  Modelo  •  Número de serie  •  Fecha de fabricación  •  Fecha de adquisición  •  Cuestionario técnico con los campos:  •  ¿Requiere de marcado CE?  •  ¿Dispone de marcado CE?  •  ¿Dispone de puesta en conformidad?  •  ¿Es propiedad de una empresa externa?  •  Empresa externa  •  ¿Requiere de formación específica?  •  ¿Circula por la vía pública?\n",
      "\n",
      "Rango: 4, Similaridad: 18.715730667114258\n",
      "Chunk: de tener  una evaluación realizada ésta se perderá.  •  Evaluar: Permite acceder al cuestionario de evaluación.\n",
      "\n",
      "Rango: 5, Similaridad: 18.85260772705078\n",
      "Chunk: RIESGO RESIDUAL:  El apartado de riesgo residual se mostrará en el formulario de evaluación  una vez se ha evaluado el riesgo. Da la opción de volver a evaluar un riesgo cuando ya se han  implementado las medidas preventivas/correctivas.\n",
      "\n",
      "Rango: 6, Similaridad: 18.873910903930664\n",
      "Chunk: GRÁFICA  DESCRIPCIÓN  Riesgos evaluados vs  riesgos no evaluados  Gráfica de datos circular que muestra el número de riesgos evaluados,  frente a los riesgos que no han sido evaluados todavía. La gráfica se  puede descargar.  Riesgos evaluados por  nivel de riesgo inicial  Gráfica de datos circular que muestra el número de riesgos por nivel  (Trivial, Tolerable, Moderado, Importante e Intolerable). La gráfica se  puede descargar.   Riesgos evaluados por  nivel de riesgo residual  Gráfica de\n",
      "\n",
      "Rango: 7, Similaridad: 18.875337600708008\n",
      "Chunk: PLAN DE ACCIÓN  El usuario accede a la pestaña de Plan de Acción y visualiza el listado con las medidas  asociadas a la enfermedad. El listado cuenta con las opciones: buscador, filtros,  añadir/quitar columnas, actualizar, descargar listado y la acción de ver los datos de la  medida asociada. Cuando no haya medidas asociadas, el usuario se puede dirigir a la  evaluación de riesgos para identificar o reevaluar los riesgos, desde la misma pantalla de  plan de acción.  DOCUMENTACIÓN\n",
      "\n",
      "Rango: 8, Similaridad: 18.878429412841797\n",
      "Chunk: SENSIBILIDADES ESPECIALES DEL PUESTO DE TRABAJO  El usuario puede seleccionar aquellas sensibilidades especiales del puesto de trabajo para  indicar que el puesto de trabajo no es apto para personas con alguna de las siguientes  sensibilidades:  •  Embarazo  •  Lactancia  •  Menor de edad  •  Discapacidad física  •  Discapacidad sensorial  •  Discapacidad psicosocial  RESTRICCIONES DEL PUESTO DE TRABAJO\n",
      "\n",
      "Rango: 9, Similaridad: 18.91785430908203\n",
      "Chunk: ¿QUÉ ES UN PLAN DE EMERGENCIA?  La pestaña evaluación de aspectos legales permite al usuario evaluar los cuestionarios  aplicables a la evaluación. Aparecerán aquellos cuestionarios que el usuario ha seleccionado.\n",
      "\n",
      "Rango: 10, Similaridad: 18.973730087280273\n",
      "Chunk: •  Medidas correctivas: En este apartado se muestran las medidas correctivas añadidas  por el usuario o configuradas de manera automática y además permite realizar la  gestión de las medidas hasta llegar a estado Cerrada. Los campos del formulario  marcados con * son de carácter obligatorio. En caso de no completarlos no se  permite añadir la medida. (Ver Manual gestión de medidas).  GRÁFICA DE RESULTADOS\n",
      "\n",
      "Pregunta: ¿Qué tipo de documentos se pueden almacenar y compartir en el espacio denominado 'Documentos' y cuál es su importancia dentro del contexto de la gestión empresarial en la plataforma?\n",
      "Rango: 1, Similaridad: 17.134082794189453\n",
      "Chunk: CONTENIDO  Sabentis es la nueva plataforma de gestión especializada en el ámbito de Seguridad y Salud  en el Trabajo adaptada a las nuevas tecnologías y a los nuevos modelos de gestión de la  prevención.    El módulo Estructura Organizativa permite la definición y gestión de empresas en la  plataforma, cuenta con la posibilidad de configurar ubicaciones que reflejan mejor la realidad  de las empresas.  2. MODELO DE ESTRUCTURA ORGANIZATIVA: GRAN EMPRESA\n",
      "\n",
      "Rango: 2, Similaridad: 17.135601043701172\n",
      "Chunk: Se visualizan diez cardboards que dan entrada a las diferentes funcionalidades del módulo:  •  Empresas  •  Centros de trabajo  •  Ocupaciones  •  Lugares de trabajo  •  Puestos de trabajo  •  Trabajadores  •  Ubicaciones libres físicas  •  Ubicaciones libres operativas  •  Perfiles de empresa  •  Agentes materiales\n",
      "\n",
      "Rango: 3, Similaridad: 17.338163375854492\n",
      "Chunk: el número de trabajadores pertenecientes al segmento. Las  gráficas se pueden descargar.  •  Distribución de centros de trabajo: georreferenciador que muestra la ubicación del  centro de trabajo por medio de un mapa geolocalizador.\n",
      "\n",
      "Rango: 4, Similaridad: 17.423500061035156\n",
      "Chunk: •  Con empresa y centro en contexto: el usuario visualiza los trabajadores de la  empresa y del centro de trabajo seleccionado.\n",
      "\n",
      "Rango: 5, Similaridad: 17.563690185546875\n",
      "Chunk: evaluación” que redirige al formulario de creación de evaluaciones, y las  acciones:\n",
      "\n",
      "Rango: 6, Similaridad: 17.568309783935547\n",
      "Chunk: Al editar la información del centro de trabajo se visualiza la ficha de datos del centro junto a  las pestañas “Trabajadores del centro”, “Lugares de trabajo”, “Ocupaciones”, “Agentes  Materiales”, “Puestos de Trabajo” y “Documentos”. Desde esta ruta se facilita al usuario a  crear la estructura inferior del Centro de trabajo -como lugares de trabajo, ocupaciones,  puestos y agentes materiales- así como también gestionar las relaciones Centro-Trabajador.\n",
      "\n",
      "Rango: 7, Similaridad: 17.644489288330078\n",
      "Chunk: ¿QUÉ ES UN PLAN DE EMERGENCIA?  La pestaña evaluación de aspectos legales permite al usuario evaluar los cuestionarios  aplicables a la evaluación. Aparecerán aquellos cuestionarios que el usuario ha seleccionado.\n",
      "\n",
      "Rango: 8, Similaridad: 17.661376953125\n",
      "Chunk: El usuario accede al cardboard “Repositorio documental” y visualiza un listado que contiene  todos los archivos generados por parte de la empresa en los diferentes módulos de la  plataforma, por ejemplo:  •  Estructura organizativa: Se visualizan todos los archivos añadidos en la pestaña  “Documentos” de las diferentes ubicaciones del módulo.  •  Identificación de peligros y evaluación de riesgos: Se visualiza el Informe de  evaluación de riesgos.  •  Auditorías: Se visualiza el informe de\n",
      "\n",
      "Rango: 9, Similaridad: 17.666812896728516\n",
      "Chunk: PESTAÑA CENTROS DE TRABAJO  En esta pestaña se visualiza el listado de centros a los que el trabajador se encuentra  asociado, cabe indicar que un trabajador puede estar asociado a “n centros”. El listado  cuenta con las opciones de búsqueda, filtrado, paginado, el botón “Asociar centros de  trabajo” que permite asociar al trabajador con un puesto de trabajo, “Historial de centros de\n",
      "\n",
      "Rango: 10, Similaridad: 17.72618293762207\n",
      "Chunk: •  A través del formulario, el usuario podrá añadir documentos relacionados con las  medidas preventivas/correctoras que se quieran planificar. Todos los documentos  aportados en este apartado se añaden automáticamente al repositorio documental de  la empresa.  •  Accediendo directamente a la pestaña donde el usuario visualiza el listado de medidas  establecidas de acuerdo con los resultados de la evaluación de riesgos de las diferentes  ubicaciones.\n",
      "\n",
      "Pregunta: ¿Se pueden llevar a cabo auditorías internas?\n",
      "Rango: 1, Similaridad: 18.752195358276367\n",
      "Chunk: el cuestionario de la evaluación se  muestra como no editable y se habilitan las pestañas Actividades para la mejora y generar  documentos.\n",
      "\n",
      "Rango: 2, Similaridad: 19.399709701538086\n",
      "Chunk: de tener  una evaluación realizada ésta se perderá.  •  Evaluar: Permite acceder al cuestionario de evaluación.\n",
      "\n",
      "Rango: 3, Similaridad: 19.52450180053711\n",
      "Chunk: evaluación” que redirige al formulario de creación de evaluaciones, y las  acciones:\n",
      "\n",
      "Rango: 4, Similaridad: 19.5345516204834\n",
      "Chunk: se puede finalizar las relaciones manteniéndolas en el  histórico o eliminándolas de forma definitiva.\n",
      "\n",
      "Rango: 5, Similaridad: 19.70867156982422\n",
      "Chunk: 22  Desde el listado de estudios de la Metodología 5S es posible crear nuevos estudios  accediendo desde el botón “Nueva evaluación”. Los campos del formulario marcados con *  son de carácter obligatorio por lo que si no se complementan no se permite crear/editar el  registro de evaluación. En el formulario se han de seleccionar los cuestionarios a evaluar -por  defecto aparecen todos marcados- aunque se puede escoger cuáles se quiere evaluar y  cuáles no para hacer estudios parciales o más\n",
      "\n",
      "Rango: 6, Similaridad: 19.7623291015625\n",
      "Chunk: Al  colocar el cursor sobre un segmento de la gráfica, se muestra el número de  trabajadores pertenecientes al segmento. Las gráficas se pueden descargar.  •  Distribución de trabajadores por rango de edad: gráfica circular de datos que  muestra la distribución por rango de edad de los trabajadores de la ubicación libre  operativa distribuida en 5 rangos definidos. Al colocar el cursor sobre un segmento  de la gráfica, se muestra el número de trabajadores pertenecientes al segmento. Las\n",
      "\n",
      "Rango: 7, Similaridad: 19.763172149658203\n",
      "Chunk: por estado  Gráfica de datos. Gráfica circular de datos de distribución de las  medidas correctivas definidas en los planes de emergencia vigentes  por estado: Pendiente de planificar / Pendiente de evidencia /  Implementada.\n",
      "\n",
      "Rango: 8, Similaridad: 19.88637924194336\n",
      "Chunk: El usuario accede al cardboard “Planificación” y visualiza el listado de todas las medidas de  control de los planes de emergencia vigentes en cada uno de los centros de trabajo. Desde  este listado el usuario solo podrá realizar la gestión de las medidas, mas no podrá añadir ni  eliminarlas. Este listado cuenta con las opciones: buscador, añadir filtros, paginado y la acción  editar que redirige al usuario al formulario de la medida (Para mejor entendimiento ver  manual del flujo de gestión de\n",
      "\n",
      "Rango: 9, Similaridad: 19.887548446655273\n",
      "Chunk: El usuario ingresa al cardboard “Evaluaciones” y visualiza un listado de las evaluaciones que se  han realizado en la empresa. Estas pueden estar en estado abierta o cerrada.  Los campos del formulario marcados con * son de carácter obligatorio. En caso de que no se  completen no se permite crear/guardar el registro de evaluación.  Este listado cuenta con las opciones: buscador, añadir filtros, descargar listado, paginado,  botón “Nueva evaluación” que redirige al formulario de creación de\n",
      "\n",
      "Rango: 10, Similaridad: 19.938945770263672\n",
      "Chunk: ¿QUÉ ES UN PLAN DE EMERGENCIA?  La pestaña evaluación de aspectos legales permite al usuario evaluar los cuestionarios  aplicables a la evaluación. Aparecerán aquellos cuestionarios que el usuario ha seleccionado.\n",
      "\n",
      "Pregunta: ¿Cuál es la tasa de adopción de esta plataforma en el mercado?\n",
      "Rango: 1, Similaridad: 17.598651885986328\n",
      "Chunk: 61  •  Distribución de trabajadores por género: grafica circular de datos de distribución por  género de los trabajadores de la ubicación libre física: masculino/femenino. Al  colocar el cursor sobre un segmento de la gráfica, se muestra el número de  trabajadores pertenecientes al segmento. Las gráficas se pueden descargar.  •  Distribución de trabajadores por rango de edad: gráfica circular de datos que  muestra la distribución por rango de edad de los trabajadores de la ubicación libre\n",
      "\n",
      "Rango: 2, Similaridad: 17.744251251220703\n",
      "Chunk: evaluación” que redirige al formulario de creación de evaluaciones, y las  acciones:\n",
      "\n",
      "Rango: 3, Similaridad: 18.772397994995117\n",
      "Chunk: GRÁFICA  DESCRIPCIÓN  Riesgos evaluados vs  riesgos no evaluados  Gráfica de datos circular que muestra el número de riesgos evaluados,  frente a los riesgos que no han sido evaluados todavía. La gráfica se  puede descargar.  Riesgos evaluados por  nivel de riesgo inicial  Gráfica de datos circular que muestra el número de riesgos por nivel  (Trivial, Tolerable, Moderado, Importante e Intolerable). La gráfica se  puede descargar.   Riesgos evaluados por  nivel de riesgo residual  Gráfica de\n",
      "\n",
      "Rango: 4, Similaridad: 18.841604232788086\n",
      "Chunk: Al  colocar el cursor sobre un segmento de la gráfica, se muestra el número de  trabajadores pertenecientes al segmento. Las gráficas se pueden descargar.  •  Distribución de trabajadores por rango de edad: gráfica circular de datos que  muestra la distribución por rango de edad de los trabajadores de la ubicación libre  operativa distribuida en 5 rangos definidos. Al colocar el cursor sobre un segmento  de la gráfica, se muestra el número de trabajadores pertenecientes al segmento. Las\n",
      "\n",
      "Rango: 5, Similaridad: 18.88970184326172\n",
      "Chunk: •  Documentación: Redirige a la pestaña Documentación de la enfermedad.  •  Eliminar: Eliminar enfermedad laboral.\n",
      "\n",
      "Rango: 6, Similaridad: 19.131681442260742\n",
      "Chunk: circular que determina el número de medidas por estado  de gestión. La gráfica se puede descargar.  Vencimiento de  medidas  Gráfica de líneas con vencimiento de fechas de medidas por 6 meses, un  área para cada tipo de vencimiento, (validación, implementación,  verificación). La gráfica se puede descargar.\n",
      "\n",
      "Rango: 7, Similaridad: 19.133527755737305\n",
      "Chunk: o se expira desde el listado.  Este listado cuenta con las opciones: buscador, añadir filtros, descargar listado, paginado,  botón Nueva evaluación que redirige al formulario de creación de evaluaciones, y las  acciones:  •  Datos del estudio: Redirige a la ficha del estudio.  •  Ir a la evaluación: Redirige a la pestaña Evaluación de aspectos legales.  •  Ir a plan de acción: Redirige a la pestaña “Plan de acción”.  •  Expirar estudio: Cambia el estado del estudio de Abierto/Vigente a Expirado\n",
      "\n",
      "Rango: 8, Similaridad: 19.152345657348633\n",
      "Chunk: los trabajadores”, “Ver  puestos de trabajo”, “Exportar el cargo como plantilla” y “Aplicar plantilla”.\n",
      "\n",
      "Rango: 9, Similaridad: 19.17724609375\n",
      "Chunk: Gráfica  Descripción  No conformidades identificadas  que no cumplen vs cumplen  Gráfica circular que indica el cumplimiento de las no conformidades  identificadas.  Medidas por estado  Gráfica de datos circular que determina el número de medidas por  estado de gestión.  Vencimiento de medidas  Gráfica de líneas con vencimiento de fechas de medidas por 6 meses,  un área para cada tipo de vencimiento (aprobación, validación,  implementación, verificación, etcétera).\n",
      "\n",
      "Rango: 10, Similaridad: 19.18061637878418\n",
      "Chunk: ¿QUÉ ES UN PLAN DE EMERGENCIA?  La pestaña evaluación de aspectos legales permite al usuario evaluar los cuestionarios  aplicables a la evaluación. Aparecerán aquellos cuestionarios que el usuario ha seleccionado.\n",
      "\n",
      "Pregunta: ¿Cómo se compara esta plataforma con otras soluciones de gestión de SST?\n",
      "Rango: 1, Similaridad: 16.73524284362793\n",
      "Chunk: evaluación” que redirige al formulario de creación de evaluaciones, y las  acciones:\n",
      "\n",
      "Rango: 2, Similaridad: 17.44556999206543\n",
      "Chunk: ¿QUÉ ES UN PLAN DE EMERGENCIA?  La pestaña evaluación de aspectos legales permite al usuario evaluar los cuestionarios  aplicables a la evaluación. Aparecerán aquellos cuestionarios que el usuario ha seleccionado.\n",
      "\n",
      "Rango: 3, Similaridad: 17.5120792388916\n",
      "Chunk: El usuario puede acceder al módulo de Auditorías desde:  •  La entrada del menú lateral de la plataforma.  •  Desde el cardboard “Auditorías” del panel principal. Se requiere empresa en  contexto.  5  •  Diagnósticos ISO.  •  Metodología 5S.  •  Planificación y ejecución de medidas.  •  Comparativa de estudios.  Además, se visualiza un dashboard que contiene datos estadísticos. Las gráficas se pueden  descargar y muestran la siguiente información:\n",
      "\n",
      "Rango: 4, Similaridad: 17.516565322875977\n",
      "Chunk: CONTENIDO  Sabentis es la nueva plataforma de gestión especializada en el ámbito de Seguridad y Salud  en el Trabajo adaptada a las nuevas tecnologías y a los nuevos modelos de gestión de la  prevención.    El módulo Estructura Organizativa permite la definición y gestión de empresas en la  plataforma, cuenta con la posibilidad de configurar ubicaciones que reflejan mejor la realidad  de las empresas.  2. MODELO DE ESTRUCTURA ORGANIZATIVA: GRAN EMPRESA\n",
      "\n",
      "Rango: 5, Similaridad: 17.814224243164062\n",
      "Chunk: 18  botón “Agregar nuevo centro” que redirige al formulario de creación y la acciones editar y  eliminar.  Estas funcionalidades están disponibles en función de los grupos a los que pertenezca el  usuario y los permisos asignados. Los campos del formulario marcados con * son de carácter  obligatorio y en caso de no completarlos no se permite crear/guardar el registro.   También se puede realizar la carga masiva de centros de trabajo y la carga masiva de la  relación centros de\n",
      "\n",
      "Rango: 6, Similaridad: 17.836240768432617\n",
      "Chunk: •  Solo con empresa en contexto: redirige al listado de todos los lugares de trabajo  disponibles en la empresa.  Este listado cuenta con las siguientes opciones: buscador, filtrar, descargar listado,  paginado, botón “Carga masiva”, el botón “Nuevo” que redirige al formulario de creación y  las acciones:\n",
      "\n",
      "Rango: 7, Similaridad: 17.90440559387207\n",
      "Chunk: PLAN DE ACCIÓN  El usuario accede a la pestaña de Plan de Acción y visualiza el listado con las medidas  asociadas a la enfermedad. El listado cuenta con las opciones: buscador, filtros,  añadir/quitar columnas, actualizar, descargar listado y la acción de ver los datos de la  medida asociada. Cuando no haya medidas asociadas, el usuario se puede dirigir a la  evaluación de riesgos para identificar o reevaluar los riesgos, desde la misma pantalla de  plan de acción.  DOCUMENTACIÓN\n",
      "\n",
      "Rango: 8, Similaridad: 17.998960494995117\n",
      "Chunk: 6  2. SABENTIS: MÓDULO PLANES DE EMERGENCIA  El usuario puede acceder al módulo “Planes de emergencia”, desde:   •  La entrada del menú lateral de la plataforma.  •  Desde el cardboard “Planes de emergencia”.  7  Se visualiza un dashboard que contiene datos estadísticos, las gráficas muestran la siguiente  información:\n",
      "\n",
      "Rango: 9, Similaridad: 18.048002243041992\n",
      "Chunk: 5  •  Establecer y mantener un esquema de organización interna, confeccionando los  equipos de respuesta e intervención frente a las emergencias.  •  Minimizar las pérdidas materiales y ambientales derivadas de las diferentes  situaciones de emergencia que se puedan presentar.  •  Minimizar los riesgos que pueda desencadenar una emergencia, mediante el control  de estos.   •  Restablecer el ritmo normal de trabajo a la mayor brevedad posible.  ¿QUÉ ES UN SIMULACRO?\n",
      "\n",
      "Rango: 10, Similaridad: 18.06534767150879\n",
      "Chunk: 3. HOME ESTRUCTURA ORGANIZATIVA  El usuario puede acceder al módulo Estructura Organizativa (EO), desde las opciones:  •  La entrada del menú lateral.  •  Desde el cardboard “Estructura Organizativa”.\n",
      "\n",
      "Pregunta: ¿Qué día hará mañana?\n",
      "Rango: 1, Similaridad: 23.07687759399414\n",
      "Chunk: Versión  Fecha  Comentarios  Autor  Versión 1.0  28/10/2021  Redacción  Mercedes León Chele  Versión 1.0  28/10/2021  Aprobación  Miguel Ángel Rodríguez  Versión 1.1  07/03/2022  Actualización  Mercedes León Chele  Versión 1.2  15/06/2022  Actualización  Andrea Alonso Almecija  Versión 2.0  13/10/2022  Actualización  Mercedes León Chele  CONTENIDO\n",
      "\n",
      "Rango: 2, Similaridad: 23.565778732299805\n",
      "Chunk: Versión  Fecha  Comentarios  Autor  Preliminar 0.1  20/10/2020  Redacción  Jacobo Jaime  Versión 1.0  14/12/2021  Actualización  Mercedes León  Versión 1.1  19/09/2022  Actualización  Núria Zaragoza Trabal  Versión 2.0  17/10/2022  Actualización  Mercedes León Chele  Versión 2.0  06/02/2023  Actualización  Víctor Andrade\n",
      "\n",
      "Rango: 3, Similaridad: 24.115137100219727\n",
      "Chunk: circular que determina el número de medidas por estado  de gestión. La gráfica se puede descargar.  Vencimiento de  medidas  Gráfica de líneas con vencimiento de fechas de medidas por 6 meses, un  área para cada tipo de vencimiento, (validación, implementación,  verificación). La gráfica se puede descargar.\n",
      "\n",
      "Rango: 4, Similaridad: 24.38880729675293\n",
      "Chunk: DATOS DEL DOCUMENTO  HISTÓRICO DE CAMBIOS  Documento  Manual de uso del módulo IER PYMES.  Descripción  Documento guía del uso del módulo IER, modelo PYMES.  Versión  1.2  Fecha modificación  06/02/2023  Actualizado por  Víctor Andrade Peláez  Aprobado por  Versión  Fecha  Comentarios  Autor  Versión 1.0  15/06/2022  Actualización  Miguel Ángel Moreno  Versión 1.1  28/10/2022  Actualización  Mercedes León  Versión 1.1  06/02/2023  Actualización  Víctor Andrade  CONTENIDO\n",
      "\n",
      "Rango: 5, Similaridad: 24.52381706237793\n",
      "Chunk: Versión  Fecha  Comentarios  Autor  1.0  29/09/2022  Redacción  Núria Zaragoza\n",
      "\n",
      "Rango: 6, Similaridad: 24.638694763183594\n",
      "Chunk: de tener  una evaluación realizada ésta se perderá.  •  Evaluar: Permite acceder al cuestionario de evaluación.\n",
      "\n",
      "Rango: 7, Similaridad: 24.760303497314453\n",
      "Chunk: PESTAÑA RESTRICCIONES\n",
      "\n",
      "Rango: 8, Similaridad: 24.77874755859375\n",
      "Chunk: 61  •  Distribución de trabajadores por género: grafica circular de datos de distribución por  género de los trabajadores de la ubicación libre física: masculino/femenino. Al  colocar el cursor sobre un segmento de la gráfica, se muestra el número de  trabajadores pertenecientes al segmento. Las gráficas se pueden descargar.  •  Distribución de trabajadores por rango de edad: gráfica circular de datos que  muestra la distribución por rango de edad de los trabajadores de la ubicación libre\n",
      "\n",
      "Rango: 9, Similaridad: 24.832494735717773\n",
      "Chunk: •  Documentos de trabajadores: [Nombre del trabajador], Trabajador  •  Documentos de Lugares: [Nombre del centro], [Nombre del lugar], Área de trabajo.  •  Documentos de Procesos: [Nombre del proceso], Ocupación.\n",
      "\n",
      "Rango: 10, Similaridad: 24.887399673461914\n",
      "Chunk: •  Documentación: Redirige a la pestaña Documentación de la enfermedad.  •  Eliminar: Eliminar enfermedad laboral.\n",
      "\n"
     ]
    }
   ],
   "source": [
    "similarities = []\n",
    "for question_index, question in enumerate(questions):\n",
    "    question_embedding = question_embeddings[question_index]\n",
    "    top_n_indices, sims = find_top_n_chunks(question_embedding, chunk_embeddings, n=10)\n",
    "    similarities.append(sims)\n",
    "    print(f\"Pregunta: {question}\")\n",
    "    for rank, idx in enumerate(top_n_indices):\n",
    "        if idx < len(all_chunks):\n",
    "            print(f\"Rango: {rank+1}, Similaridad: {sims[rank]}\")\n",
    "            print(f\"Chunk: {all_chunks[idx]}\\n\")"
   ]
  },
  {
   "cell_type": "markdown",
   "id": "ef455072-e752-4e15-8e96-3fc4a513045a",
   "metadata": {
    "id": "ef455072-e752-4e15-8e96-3fc4a513045a"
   },
   "source": [
    "### 16.Visualización de datos"
   ]
  },
  {
   "cell_type": "markdown",
   "id": "51eed6a8-39df-4320-aafc-c700617d6683",
   "metadata": {
    "id": "51eed6a8-39df-4320-aafc-c700617d6683"
   },
   "source": [
    "Estos gráficos interactivos permiten explorar visualmente la relación entre los embeddings de los chunks y las preguntas, proporcionando una forma intuitiva de analizar los datos."
   ]
  },
  {
   "cell_type": "markdown",
   "id": "8cba7fb2-c753-4dac-a643-2afd696e33c8",
   "metadata": {
    "id": "8cba7fb2-c753-4dac-a643-2afd696e33c8"
   },
   "source": [
    "### Reducción de dimensionalidad con PCA y generación de gráfico 2D"
   ]
  },
  {
   "cell_type": "code",
   "execution_count": 37,
   "id": "ece4d323-4cbb-41d4-a182-0808499e4b7f",
   "metadata": {
    "id": "ece4d323-4cbb-41d4-a182-0808499e4b7f",
    "outputId": "2d423f43-363f-465e-cc97-fa7e814a276f"
   },
   "outputs": [
    {
     "data": {
      "application/vnd.plotly.v1+json": {
       "config": {
        "plotlyServerURL": "https://plot.ly"
       },
       "data": [
        {
         "customdata": [
          [
           "Auditorias",
           "Versión Fecha Comentarios Autor 1.0 29/09/2022 Redacción Núria Zaragoza"
          ],
          [
           "Auditorias",
           "Sabentis es la nueva plataforma de gestión especializada en el ámbito de<br>Seguridad y Salud en el Trabajo adaptada a las nuevas tecnologías y a los nuevos<br>modelos de gestión de la prevención. La plataforma cuenta con distintos tipos de<br>auditorías objetivas, entre las que figuran la evaluación de Estándares<br>Internacionales (ISO) y la Metodología 5S, que responden al conjunto de normas,<br>requisitos y procedimiento que reflejan la imagen del sistema de prevención de<br>riesgos laborales de las"
          ],
          [
           "Auditorias",
           "del sistema de prevención de riesgos laborales de las empresas."
          ],
          [
           "Auditorias",
           "El usuario puede acceder al módulo de Auditorías desde: • La entrada del menú<br>lateral de la plataforma. • Desde el cardboard “Auditorías” del panel principal.<br>Se requiere empresa en contexto. 5 • Diagnósticos ISO. • Metodología 5S. •<br>Planificación y ejecución de medidas. • Comparativa de estudios. Además, se<br>visualiza un dashboard que contiene datos estadísticos. Las gráficas se pueden<br>descargar y muestran la siguiente información:"
          ],
          [
           "Auditorias",
           "Gráfica Descripción No conformidades identificadas que no cumplen vs cumplen<br>Gráfica circular que indica el cumplimiento de las no conformidades<br>identificadas. Medidas por estado Gráfica de datos circular que determina el<br>número de medidas por estado de gestión. Vencimiento de medidas Gráfica de<br>líneas con vencimiento de fechas de medidas por 6 meses, un área para cada tipo<br>de vencimiento (aprobación, validación, implementación, verificación, etcétera)."
          ],
          [
           "Auditorias",
           "El usuario accede al cardboard “Diagnósticos ISO” y visualiza una pantalla con<br>el conjunto de estándares con reconocimiento internacional que tiene el objetivo<br>de ayudar a las empresas a establecer unos niveles de homogeneidad en relación<br>con la gestión, prestación de servicios y desarrollo de productos en la<br>industria. • ISO 45001: Sistemas de gestión de SST. • ISO 14001: Sistemas de<br>gestión del medio ambiente. • ISO 9001: Sistemas de gestión de calidad. • ISO<br>39001: Sistemas de"
          ],
          [
           "Auditorias",
           "Sistemas de gestión de calidad. • ISO 39001: Sistemas de gestión de la<br>seguridad vial. • ISO 37001: Sistemas de gestión antisoborno. • ISO 22301:<br>Sistemas de gestión de continuidad de negocio. • ISO 26000: Guía de<br>responsabilidad social. • ISO 50001: Sistemas de gestión de la energía."
          ],
          [
           "Auditorias",
           "Desde el listado de estudios de las ISO se pueden crear nuevos estudios<br>accediendo desde el botón “Nueva evaluación”. Los campos del formulario marcados<br>con * son de carácter obligatorio y en caso de que no se completen no es posible<br>crear/editar el registro de evaluación. En el formulario se han de seleccionar<br>los cuestionarios que se quieren evaluar. Por defecto aparecen todos marcados<br>pero se puede realizar una selección concreta con la finalidad de hacer estudios<br>parciales o más"
          ],
          [
           "Auditorias",
           "con la finalidad de hacer estudios parciales o más específicos. Solo se podrá<br>crear un estudio nuevo cuando no exista otro en estado vigente o abierto. En ese<br>caso la plataforma mostrará un mensaje indicando que no se puede crear el<br>estudio."
          ],
          [
           "Auditorias",
           "Una vez creado el estudio en la pestaña “Datos de la evaluación de la<br>normativa” se habilita el botón “Eliminar evaluación de la normativa” el cual<br>permite eliminar el estudio desde la ficha de datos. Desde el listado también se<br>puede eliminar el estudio. Adicionalmente, se habilitan las pestañas: Evaluación<br>de aspectos legales, Plan de acción, Gráfica de resultados, Resumen, Generar<br>documentación y Documentos (esta pestaña se habilita al cerrar la evaluación)."
          ],
          [
           "Auditorias",
           "EVALUACIÓN DE ASPECTOS LEGALES:"
          ],
          [
           "Auditorias",
           "La pestaña evaluación de aspectos legales permite al usuario evaluar los<br>cuestionarios aplicables a la evaluación. Aparecerán aquellos cuestionarios que<br>el usuario ha seleccionado previamente en la pestaña “Datos de la evaluación de<br>la normativa”, con la finalidad de hacer estudios parciales o más específicos.<br>Para completar la evaluación de aspectos legales, debajo de cada ítem de<br>estándar se dispone de las opciones de respuesta: Cumple/ No cumple/ No aplica."
          ],
          [
           "Auditorias",
           "Junto a las variables de respuesta se encuentra el vínculo “ver más” que<br>habilita una ventana lateral que contiene información asociada a la cuestión<br>seleccionada. La opción “Añadir archivos” se habilita conforme se va completando<br>la evaluación y permite cargar por pregunta hasta 5 archivos como evidencia."
          ],
          [
           "Auditorias",
           "Esta pantalla cuenta con una barra que muestra el porcentaje de avance de la<br>evaluación de aspectos legales que se actualiza conforme se guardan los datos.<br>Se puede descargar y se permiten guardados parciales lo que significa que se<br>puede salir de la funcionalidad, aunque no se haya finalizado la evaluación, sin<br>perder el avance previamente guardado."
          ],
          [
           "Auditorias",
           "13 Una vez se han evaluado la totalidad de ítems de estándar, en la pantalla se<br>sustituye el botón “Guardar” por el botón “Finalizar evaluación” que permite<br>guardar las respuestas, además de bloquear el cuestionario con las respuestas<br>definidas."
          ],
          [
           "Auditorias",
           "Generalmente, según la configuración establecida, los ítems de la evaluación<br>marcados con la opción “No cumple”, generan No conformidades, las cuales se<br>visualizan en la pestaña “Plan de acción”. Estas se visualizan solo cuando se ha<br>finalizado la evaluación; cuando se realiza 14 guardado parciales no se<br>mostrarán las no conformidades independientemente de que la respuesta haya sido<br>“no cumple”. PLAN DE ACCIÓN"
          ],
          [
           "Auditorias",
           "PLAN DE ACCIÓN En esta pestaña se muestra el listado de las No conformidades<br>resultado de la evaluación de aspectos legales previamente finalizada: los ítems<br>de estándar marcados con la respuesta “No cumple” en la pestaña previa. Este<br>listado cuenta con las opciones de búsqueda, añadir filtros, configurar<br>columnas, paginado, botón Volver y la acción editar que redirige a la ficha de<br>la No conformidad."
          ],
          [
           "Auditorias",
           "En la ficha de No conformidad se muestran dos apartados: • Datos de la no<br>conformidad: Muestra los datos referentes a la No conformidad, el único campo<br>que se puede editar en este apartado es “Cumple” que, por defecto, se muestra<br>marcado como “No cumple”. Este campo editable solo se podrá marcar como “Cumple”<br>cuando se hayan implementado las medidas asociadas a la No conformidad."
          ],
          [
           "Auditorias",
           "• Medidas correctivas: En este apartado se muestran las medidas correctivas<br>añadidas por el usuario o configuradas de manera automática y además permite<br>realizar la gestión de las medidas hasta llegar a estado Cerrada. Los campos del<br>formulario marcados con * son de carácter obligatorio. En caso de no<br>completarlos no se permite añadir la medida. (Ver Manual gestión de medidas).<br>GRÁFICA DE RESULTADOS"
          ],
          [
           "Auditorias",
           "GRÁFICA DE RESULTADOS En la pestaña “Gráficas de resultados” se muestran dos<br>tipos de gráficas. La primera precisa los resultados de porcentaje de<br>cumplimiento por estándar mientras que la segunda referencia el porcentaje de<br>cumplimiento por ciclo. Las gráficas en la parte superior disponen de<br>componentes transversales a nivel de la plataforma que permiten al usuario<br>realizar las siguientes acciones:"
          ],
          [
           "Auditorias",
           "17 • Refrescar: Herramienta que permite actualizar las gráficas. • Descargar<br>imagen: Permite descargar la información visualizada en las gráficas. • Exportar<br>a hoja de cálculo: Permite descargar la información en una hoja de cálculo."
          ],
          [
           "Auditorias",
           "En esta pestaña se muestra una síntesis de la información correspondiente al<br>proceso de evaluación de aspectos legales del estudio. En esta pestaña se puede<br>cerrar la evaluación a través del botón \"Cerrar evaluación\" el cual se habilita<br>únicamente cuando el usuario ha establecido, al menos, una medida correctiva<br>para cada No conformidad. GENERAR DOCUMENTACIÓN"
          ],
          [
           "Auditorias",
           "La pestaña generar documentación se habilita una vez se ha cerrado el estudio<br>en la pestaña resumen. En esta pantalla se puede generar el informe de la<br>evaluación de la normativa en formato PDF además de poder adjuntar otros<br>archivos en caso de ser necesario. El informe de evaluación se puede generar de<br>forma ilimitada. También se puede descargar el informe clicando directamente en<br>el nombre de la autoevaluación (link azul). Este listado cuenta con las opciones<br>de búsqueda, añadir filtros,"
          ],
          [
           "Auditorias",
           "cuenta con las opciones de búsqueda, añadir filtros, configurar columnas,<br>paginado y el botón Guardar."
          ],
          [
           "Auditorias",
           "La pestaña Documentos también se habilita una vez se ha cerrado el estudio en<br>la pestaña resumen y muestra en pantalla el informe de la evaluación."
          ],
          [
           "Auditorias",
           "El usuario accede al cardboard “Metodología 5S” y visualiza el listado con<br>todas las auditorías realizadas con la Metodología 5S. Es una evaluación basada<br>en 5 principios para facilitar las dinámicas de trabajo mejorando aspectos como:<br>el uso de los espacios de trabajo, la organización, la higiene, las normas y las<br>dinámicas de convivencia dentro de las empresas."
          ],
          [
           "Auditorias",
           "Estas evaluaciones pueden estar en estado: • Abierto: Indica que el estudio no<br>ha sido cerrado debido a que no se han evaluado la totalidad de ítems de<br>estándar. • Cuestionario finalizado: Indica que se han respondido la totalidad<br>de ítems de estándar a evaluar, pero el estudio aún no ha sido cerrado. •<br>Vigente: Indica que el estudio se ha cerrado y aún no ha llegado a la fecha de<br>expiración. • Expirado: Se cierra la evaluación o se expira desde el listado.<br>Este listado cuenta con"
          ],
          [
           "Auditorias",
           "o se expira desde el listado. Este listado cuenta con las opciones: buscador,<br>añadir filtros, descargar listado, paginado, botón Nueva evaluación que redirige<br>al formulario de creación de evaluaciones, y las acciones: • Datos del estudio:<br>Redirige a la ficha del estudio. • Ir a la evaluación: Redirige a la pestaña<br>Evaluación de aspectos legales. • Ir a plan de acción: Redirige a la pestaña<br>“Plan de acción”. • Expirar estudio: Cambia el estado del estudio de<br>Abierto/Vigente a Expirado"
          ],
          [
           "Auditorias",
           "Cambia el estado del estudio de Abierto/Vigente a Expirado (Si el estudio se<br>expira, esta acción ya no se muestra). • Eliminar evaluación: Permite eliminar<br>el estudio."
          ],
          [
           "Auditorias",
           "22 Desde el listado de estudios de la Metodología 5S es posible crear nuevos<br>estudios accediendo desde el botón “Nueva evaluación”. Los campos del formulario<br>marcados con * son de carácter obligatorio por lo que si no se complementan no<br>se permite crear/editar el registro de evaluación. En el formulario se han de<br>seleccionar los cuestionarios a evaluar -por defecto aparecen todos marcados-<br>aunque se puede escoger cuáles se quiere evaluar y cuáles no para hacer estudios<br>parciales o más"
          ],
          [
           "Auditorias",
           "evaluar y cuáles no para hacer estudios parciales o más específicos. Solo se<br>podrá crear estudios nuevos cuando no exista otro en estado vigente o abierto.<br>En ese caso la plataforma mostrará un mensaje indicando que no se puede crear el<br>estudio."
          ],
          [
           "Auditorias",
           "Una vez creado el estudio en la pestaña “Datos de la evaluación de la<br>normativa” se habilita el botón “Eliminar evaluación de la normativa” el cual<br>permite eliminar el estudio desde la ficha de datos. Desde el listado también se<br>puede eliminar el estudio. Adicionalmente, se habilitan las pestañas: Evaluación<br>de aspectos legales, Plan de acción, Gráfica de resultados, Resumen, Generar<br>documentación y Documentos. (Esta pestaña se habilita al cerrar la evaluación)."
          ],
          [
           "Auditorias",
           "24 EVALUACIÓN DE ASPECTOS LEGALES La pestaña evaluación de aspectos legales<br>permite al usuario evaluar los cuestionarios aplicables. Aparecerán aquellos que<br>se han seleccionado previamente en la pestaña “Datos de la evaluación de la<br>normativa”. Para completar la evaluación de aspectos legales, debajo de cada<br>ítem de estándar se dispone de un campo que dispone las opciones de respuesta:<br>Cumple/ No cumple/ No aplica."
          ],
          [
           "Auditorias",
           "Junto a las variables de respuesta se encuentra el vínculo “ver más” que<br>habilita una ventana lateral que contiene información asociada al ítem de<br>estándar seleccionado. La opción “Añadir archivos” se habilita conforme se va<br>completando la evaluación y permite cargar, por pregunta, hasta 5 archivos como<br>evidencia."
          ],
          [
           "Auditorias",
           "Esta pantalla cuenta con una barra que muestra el porcentaje de avance de la<br>evaluación de aspectos legales. Se actualiza conforme se guardan los datos y se<br>puede descargar. En esta 26 pantalla se permiten guardados parciales lo que<br>significa que se puede salir de la funcionalidad, aunque no se haya finalizado<br>la evaluación, sin perder el avance previamente guardado."
          ],
          [
           "Auditorias",
           "Una vez se ha evaluado la totalidad de ítems de estándar, en la pantalla se<br>sustituye el botón “Guardar” por el botón “Finalizar evaluación” que permite<br>guardar las respuestas además de bloquear el cuestionario con las respuestas<br>definidas."
          ],
          [
           "Auditorias",
           "Generalmente, según la configuración establecida, los ítems de la evaluación<br>marcados con la opción “No cumple”, generan No conformidades las cuales se<br>visualizan en la pestaña “Plan de acción”. Estas se visualizan solo cuando se ha<br>finalizado la evaluación. Cuando se guardan parciales no se mostrarán las no<br>conformidades independientemente de que la respuesta haya sido “No cumple”. PLAN<br>DE ACCIÓN"
          ],
          [
           "Auditorias",
           "PLAN DE ACCIÓN En esta pestaña se muestra el listado de las No conformidades<br>resultado de la evaluación de aspectos legales finalizada -los ítems de estándar<br>marcados como “No cumple” en la pestaña previa-. Este listado cuenta con las<br>opciones de búsqueda, añadir filtros, configurar columnas, paginado, botón<br>Volver y la acción editar que redirige a la ficha de la No conformidad."
          ],
          [
           "Auditorias",
           "En la ficha de No conformidad se muestran dos apartados: • Datos de la no<br>conformidad: Muestra los datos referentes a la No conformidad. El único campo<br>que se puede editar en este apartado es el campo “Cumple” que por defecto se<br>muestra marcado como “No cumple”. Este campo editable solo se podrá marcar como<br>“Cumple” cuando se hayan implementado las medidas asociadas a la No conformidad."
          ],
          [
           "Auditorias",
           "• Medidas correctivas: Muestra los datos referentes a la No conformidad. El<br>único campo que se puede editar en este apartado es el campo “Cumple” que por<br>defecto se muestra marcado como “No cumple”. Este campo editable solo se podrá<br>marcar como “Cumple” cuando se hayan implementado las medidas asociadas a la No<br>conformidad. GRÁFICA DE RESULTADOS"
          ],
          [
           "Auditorias",
           "En la pestaña “Gráficas de resultados” se muestran dos tipos de gráficas en<br>función del tipo de estudio. La primera precisa los resultados de porcentaje de<br>cumplimiento por estándar mientras que la segunda gráfica referencia el<br>porcentaje de cumplimiento por ciclo. En cada gráfica se pueden realizar las<br>siguientes acciones: • Refrescar: Herramienta que permite actualizar las<br>gráficas. • Descargar imagen: Permite descargar la información visualizada en<br>las gráficas en formato .png. •"
          ],
          [
           "Auditorias",
           "visualizada en las gráficas en formato .png. • Exportar a hoja de cálculo:<br>Permite descargar la información en una hoja de cálculo."
          ],
          [
           "Auditorias",
           "En esta pestaña se muestra una síntesis de la información correspondiente al<br>proceso de evaluación de aspectos legales del estudio. Se puede cerrar la<br>evaluación a través del botón “Cerrar evaluación” el cual se habilita únicamente<br>cuando el usuario ha establecido, al menos, una medida correctiva para cada No<br>conformidad. GENERAR DOCUMENTACIÓN"
          ],
          [
           "Auditorias",
           "GENERAR DOCUMENTACIÓN La pestaña generar documentación se habilita una vez se<br>ha cerrado el estudio en la pestaña resumen. En esta pantalla se puede generar<br>el informe de la evaluación de la normativa en formato PDF además de poder<br>adjuntar otros archivos en caso de ser necesario. El informe de evaluación se<br>puede generar de forma ilimitada."
          ],
          [
           "Auditorias",
           "33 También se puede descargar el informe clicando directamente al nombre de la<br>autoevaluación (link azul). Este listado cuenta con las opciones de búsqueda,<br>añadir filtros, configurar columnas, paginado y el botón Guardar. DOCUMENTACIÓN<br>La pestaña Documentos también se habilita una vez se ha cerrado el estudio en la<br>pestaña resumen y muestra en pantalla el informe de la evaluación. 5.<br>PLANIFICACIÓN Y EJECUCIÓN DE MEDIDAS"
          ],
          [
           "Auditorias",
           "5. PLANIFICACIÓN Y EJECUCIÓN DE MEDIDAS El usuario accede al cardboard<br>“Planificación y ejecución de medidas” y visualiza el listado con la<br>consolidación de las no conformidades que se deben abordar a través de un plan<br>de acción con el objeto de eliminar el incumplimiento de un requisito. Este<br>listado cuenta con las opciones: buscador, añadir filtros, descargar listado,<br>paginado y la acción editar, que permite acceder a la No conformidad. 36 6.<br>COMPARATIVA DE ESTUDIOS:"
          ],
          [
           "Auditorias",
           "36 6. COMPARATIVA DE ESTUDIOS: El usuario accede al cardboard “Comparativa de<br>estudios” y visualiza dos campos de selección. Según la comparativa de estudios<br>que se quiera realizar, se ha de seleccionar un Decreto y los estudios a<br>comparar. Una vez seleccionados se habilitarán los gráficos."
          ],
          [
           "Auditorias",
           "37 Las gráficas en la parte superior disponen de componentes transversales a<br>nivel de la plataforma que permiten al usuario realizar las siguientes acciones:<br>• Refrescar: Herramienta que permite actualizar las gráficas. • Descargar<br>imagen: Permite descargar la información visualizada en las gráficas. • Exportar<br>a hoja de cálculo: Permite descargar la información en una hoja de cálculo."
          ]
         ],
         "hovertemplate": "<b>Manual:</b> %{customdata[0]}<br><b>Texto:</b> %{customdata[1]}<extra></extra>",
         "legendgroup": "Auditorias",
         "marker": {
          "color": "#636efa",
          "symbol": "circle"
         },
         "mode": "markers",
         "name": "Auditorias",
         "orientation": "v",
         "showlegend": true,
         "type": "scatter",
         "x": [
          6.8368278,
          9.169246,
          9.065738,
          -1.2162403,
          5.6342154,
          7.23176,
          8.247391,
          0.20642611,
          -0.6770073,
          -4.0955367,
          8.858117,
          -1.0377953,
          -6.2075067,
          -6.900842,
          -3.9863496,
          2.3426151,
          -5.1861014,
          -4.119463,
          -0.00468994,
          -3.6833763,
          -5.9215765,
          -0.14924605,
          -0.6476179,
          -7.1489563,
          -6.379192,
          3.5160775,
          3.0877485,
          0.5494849,
          -4.4588647,
          -0.008738922,
          -0.4055518,
          -2.2232265,
          -4.039158,
          -5.838334,
          -6.017053,
          -6.2492313,
          2.5235775,
          -5.5786757,
          -5.410726,
          -3.2577798,
          -4.1139846,
          -6.548941,
          -0.472554,
          -5.9401264,
          2.1491072,
          5.0762787,
          -4.085448,
          -5.4560184
         ],
         "xaxis": "x",
         "y": [
          -0.9435243,
          -2.5056322,
          5.825456,
          -0.811356,
          0.16313213,
          -1.7702287,
          1.0679638,
          -0.50490975,
          5.1345935,
          0.6846191,
          3.576908,
          1.292079,
          3.193426,
          4.083869,
          5.190315,
          -1.6890492,
          -0.48004982,
          1.7127864,
          -1.9935706,
          -1.0254674,
          1.4633993,
          -0.82515836,
          -2.9613404,
          2.1546142,
          5.609661,
          1.107812,
          -0.87548167,
          -0.36952212,
          4.2687497,
          0.00491229,
          4.9119997,
          -0.3053938,
          0.08199902,
          3.4922926,
          3.4073622,
          3.5695248,
          -2.0644143,
          0.00002018505,
          2.4909358,
          -0.44139007,
          -0.33939186,
          0.8896819,
          -0.6555753,
          2.6433187,
          -1.1106291,
          0.6145139,
          1.7312449,
          1.0068702
         ],
         "yaxis": "y"
        },
        {
         "customdata": [
          [
           "Ausentismo",
           "DATOS DEL DOCUMENTO CONTENIDO Sabentis es la nueva plataforma de gestión<br>especializada en el ámbito de Seguridad y Salud en el Trabajo adaptada a las<br>nuevas tecnologías y a los nuevos modelos de gestión de la prevención. La<br>plataforma dispone del módulo “Ausentismo” por el cual las empresas pueden<br>registrar accidentes de trabajo, enfermedades profesionales, contingencias<br>comunes, incapacidades, ausencias administrativas y permisos, así como también<br>las investigaciones de estos."
          ],
          [
           "Ausentismo",
           "2. SABENTIS: MÓDULO AUSENTISMO El usuario puede acceder al módulo “Ausentismo”,<br>desde: • La entrada de menú lateral de la pantalla. • El cardboard “Ausentismo”<br>del panel principal. 5 Al clicar ya sea en el menú lateral o desde el cardboard,<br>el usuario es redirigido a la home del módulo, donde visualiza los cardboards: •<br>Accidentes de trabajo • Enfermedades profesionales • Contingencias comunes •<br>Incapacidades • Ausencias administrativas y permisos • Estadísticas"
          ],
          [
           "Ausentismo",
           "Este módulo también incluye un dashboard que contiene datos estadísticos, las<br>gráficas muestran la siguiente información y se pueden descargar en formato PNG<br>y Excel:"
          ],
          [
           "Ausentismo",
           "NOMBRE DEFINICIÓN Frecuencia de accidentalidad Gráfica de líneas. Representa el<br>número de accidentes ocurridos por cada mil personas expuestas. Ausentismo por<br>causa médica Gráfica de líneas. Representa el número de ausencias por causa<br>médica. Incapacidades Gráfica de barras. Representa el número de incapacidades<br>registradas según el tipo de proceso. Gravedad de los accidentes de trabajo<br>Gráfica de barras. Representa el número de accidentes ocurridos según la<br>gravedad de los"
          ],
          [
           "Ausentismo",
           "el número de accidentes ocurridos según la gravedad de los accidentes de<br>trabajo."
          ],
          [
           "Ausentismo",
           "El usuario ingresa al cardboard “Accidentes de trabajo” y visualiza un listado<br>con los accidentes de trabajo que han sucedido en la empresa y añadir de nuevos.<br>El listado cuenta con las opciones de búsqueda, filtrado, actualizar, descargar<br>listado, los botones Nuevo accidente, Carga masiva (para mejor entendimiento ver<br>manual de importadores) y las acciones: • Editar: Redirige a la pantalla datos<br>del accidente. • Documentación: Redirige a la pestaña “Documentación del<br>accidente”. •"
          ],
          [
           "Ausentismo",
           "Redirige a la pestaña “Documentación del accidente”. • Eliminar: Eliminar<br>accidente."
          ],
          [
           "Ausentismo",
           "DATOS DEL ACCIDENTE DE TRABAJO El usuario accede a la pestaña de “Datos del<br>accidente de trabajo” y visualiza un formulario donde ha de definir la<br>información del accidente y describir cómo ha sucedido."
          ],
          [
           "Ausentismo",
           "El usuario accede a la pestaña “Incapacidades” y visualiza el listado de<br>incapacidades y prórrogas que se derivan del accidente. El usuario también puede<br>registrar una nueva incapacidad/prórroga. Se accede a través del botón “Nueva<br>incapacidad/prórroga” y se visualiza el formulario con una serie de campos que<br>debe completar. Los campos marcados con * son campos obligatorios, en caso de no<br>completarlos no se permite crear/editar el registro. El listado cuenta con las<br>opciones de búsqueda,"
          ],
          [
           "Ausentismo",
           "registro. El listado cuenta con las opciones de búsqueda, añadir filtros,<br>añadir/quitar columnas, actualizar y descargar listado."
          ],
          [
           "Ausentismo",
           "INVESTIGACIÓN DEL ACCIDENTE El usuario accede a la pestaña investigación del<br>accidente y visualiza un formulario donde puede rellenar el informe de la<br>investigación o simplemente subir el documento de investigación, en caso de que<br>se haya realizado de forma externa a la plataforma. Además, se pueden añadir<br>testigos del accidente de trabajo, internos o externos. SUCESOS Y CAUSAS"
          ],
          [
           "Ausentismo",
           "SUCESOS Y CAUSAS El usuario accede a la pestaña Causas del accidente y<br>visualiza el listado de las causas que han originado el accidente. Se genera a<br>través del árbol de causas. El listado cuenta con las opciones: buscador,<br>filtros, añadir/quitar columnas y actualizar. 12 El listado cuenta con las<br>acciones editar las causas, añadir la naturaleza de la causa o eliminar la<br>causa. PLAN DE ACCIÓN"
          ],
          [
           "Ausentismo",
           "PLAN DE ACCIÓN El usuario accede a la pestaña de Plan de Acción y visualiza el<br>listado con las medidas asociadas al accidente. El listado cuenta con las<br>opciones: buscador, filtros, añadir/quitar columnas, actualizar y descargar<br>listado. Cuando no hay medidas asociadas, el usuario se 13 puede dirigir a la<br>evaluación de riesgos para identificar o reevaluar los riesgos, desde la misma<br>pantalla de plan de acción. DOCUMENTACIÓN"
          ],
          [
           "Ausentismo",
           "El usuario accede a la pestaña Documentación y visualiza el listado de<br>documentos relacionados al accidente. El listado cuenta con las opciones:<br>buscador, filtros, añadir/quitar columnas, actualizar, descargar listado, subir<br>archivo y generar reporte. Cuando el usuario clica en el botón “Subir archivo”<br>se despliega una ventana lateral donde aparece el formulario de carga de<br>ficheros. Además, al clicar en “Generar reporte” el usuario puede descargar el<br>reporte del accidente de trabajo en"
          ],
          [
           "Ausentismo",
           "puede descargar el reporte del accidente de trabajo en formato PDF o Word. Los<br>campos del formulario marcados con * son de carácter obligatorio y en caso de no<br>completarlos no se permite cargar el fichero. Los archivos cargados en esta<br>pantalla también se mostrarán en el módulo repositorio documental."
          ],
          [
           "Ausentismo",
           "El usuario accede al cardboard “Enfermedades profesionales” y visualiza el<br>listado de enfermedades que se han reportado en la empresa. Además, se pueden<br>añadir nuevas enfermedades. El listado cuenta con las opciones de búsqueda,<br>filtrado, paginado, los botones Nueva enfermedad, Carga masiva (para mejor<br>entendimiento ver manual de importadores), Descargar listado y las acciones: •<br>Editar: Redirige a la ficha de datos de la enfermedad. • Documentación: Redirige<br>a la pestaña Documentación"
          ],
          [
           "Ausentismo",
           "• Documentación: Redirige a la pestaña Documentación de la enfermedad. •<br>Eliminar: Eliminar enfermedad laboral."
          ],
          [
           "Ausentismo",
           "Al acceder a la ficha de la enfermedad profesional se muestran las siguientes<br>pestañas: DATOS DE REGISTRO El usuario accede a la pestaña “Datos de registro” y<br>visualiza los datos de registro de la enfermedad profesional. INCAPACIDADES"
          ],
          [
           "Ausentismo",
           "INCAPACIDADES El usuario accede a la pestaña “Incapacidad” y visualiza el<br>listado de incapacidades y las respectivas prorrogas que se derivan de la<br>enfermedad. El listado cuenta con las opciones: buscador, filtros, añadir/quitar<br>columnas, actualizar, descargar listado, Nueva incapacidad/prórroga y las<br>acciones de editar o eliminar la ficha de datos de la incapacidad. ANTECEDENTES"
          ],
          [
           "Ausentismo",
           "ANTECEDENTES El usuario accede a la pestaña “Antecedentes” y visualiza el<br>listado de antecedentes laborales del trabajador, es decir, qué ocupaciones<br>había estado realizando. El listado cuenta con las opciones: buscador, filtros,<br>añadir/quitar columnas, actualizar, descargar listado, Nuevo antecedente y las<br>acciones de editar o eliminar la ficha de datos de los antecedentes. PLAN DE<br>ACCIÓN"
          ],
          [
           "Ausentismo",
           "PLAN DE ACCIÓN El usuario accede a la pestaña de Plan de Acción y visualiza el<br>listado con las medidas asociadas a la enfermedad. El listado cuenta con las<br>opciones: buscador, filtros, añadir/quitar columnas, actualizar, descargar<br>listado y la acción de ver los datos de la medida asociada. Cuando no haya<br>medidas asociadas, el usuario se puede dirigir a la evaluación de riesgos para<br>identificar o reevaluar los riesgos, desde la misma pantalla de plan de acción.<br>DOCUMENTACIÓN"
          ],
          [
           "Ausentismo",
           "DOCUMENTACIÓN El usuario accede a la pestaña “Documentación” y visualiza el<br>listado de documentos relacionadas a la enfermedad profesional. El listado<br>cuenta con las opciones: buscador, filtros, añadir/quitar columnas, paginado,<br>descargar listado y “Subir archivo” que despliega en una pantalla lateral el<br>formulario de carga de ficheros, y las acciones: editar, descargar y"
          ],
          [
           "Ausentismo",
           "21 eliminar. Los campos del formulario marcados con * son de carácter<br>obligatorio, en caso de no completarlos no se permite cargar el fichero. Los<br>archivos cargados en esta pantalla también se mostrarán en el módulo repositorio<br>documental."
          ],
          [
           "Ausentismo",
           "El usuario accede al cardboard “Contingencias comunes” y visualiza el listado<br>de contingencias comunes (accidentes no laborales y enfermedades comunes)<br>registradas para los trabajadores en la empresa. El listado cuenta con las<br>opciones: buscador, filtros, añadir/quitar columnas, paginado, descargar<br>listado, nueva contingencia, carga masiva (para mejor entendimiento ver manual<br>de importadores), y las acciones: • Editar: Redirige al formulario de la<br>incapacidad. • Documentación: Redirige"
          ],
          [
           "Ausentismo",
           "formulario de la incapacidad. • Documentación: Redirige a la pestaña<br>documentación. • Eliminar: Permite eliminar el registro. Los campos del<br>formulario marcados con * son de carácter obligatorio. En caso de no<br>completarlos no se permite crear/editar el registro de la incapacidad. Una vez<br>creado el registro se habilita la pestaña Documentación."
          ],
          [
           "Ausentismo",
           "Se habilitan tres subpestañas: DATOS DE LA CONTINGENCIA COMÚN El usuario accede<br>a la pestaña “Datos de registro” y visualiza un formulario con la información de<br>la contingencia común, ya sea accidente no laboral o enfermedad común.<br>INCAPACIDADES El usuario accede a la pestaña “Incapacidades” y visualiza un<br>listado con las incapacidades y las respectivas prórrogas que se derivan de la<br>contingencia común."
          ],
          [
           "Ausentismo",
           "El usuario accede a la pestaña Documentación y visualiza el listado de<br>documentos relacionadas a la contingencia común. El listado cuenta con las<br>opciones: buscador, filtros, añadir/quitar columnas, paginado, descargar<br>listado, el botón Subir archivo que despliega en una pantalla lateral el<br>formulario de carga de ficheros, y las acciones: editar, descargar y eliminar.<br>Los campos del formulario marcados con * son de carácter obligatorio. En caso de<br>que no se completen no se permite cargar"
          ],
          [
           "Ausentismo",
           "En caso de que no se completen no se permite cargar el fichero. Los archivos<br>cargados en esta pantalla también se mostrarán en el módulo repositorio<br>documental."
          ],
          [
           "Ausentismo",
           "El usuario accede al cardboard “Incapacidades” y visualiza el listado con las<br>incapacidades que se han producido en la empresa, ya sea por motivo de<br>accidentes de trabajo, accidentes no laborales, enfermedades profesionales y/o<br>enfermedades comunes. El listado cuenta con las opciones: buscador, filtros,<br>añadir/quitar columnas, paginado, descargar listado y Carga masiva (para mejor<br>entendimiento ver manual de importadores). El usuario solo puede visualizar las<br>incapacidades."
          ],
          [
           "Ausentismo",
           "7. AUSENCIAS ADMINISTRATIVAS Y PERMISOS El usuario accede al cardboard<br>“Ausencias administrativas y permisos” y visualiza el listado de ausencias<br>administrativas y permisos registrados para los trabajadores de la empresa. El<br>listado cuenta con las opciones: buscador, filtros, añadir/quitar columnas,<br>actualizar, descargar listado y añadir Nueva ausencia/ permiso. Se pueden<br>realizar las acciones:"
          ],
          [
           "Ausentismo",
           "28 • Editar: Redirige a la ficha de la ausencia administrativa o permiso. •<br>Eliminar: Permite eliminar el registro. Se accede al formulario a través del<br>botón “Nueva ausencia/permiso” y el usuario visualiza una serie de campos que<br>debe completar, los campos del formulario marcados con * son de carácter<br>obligatorio, en caso de no completarlos no se permite crear/editar el registro."
          ],
          [
           "Ausentismo",
           "El usuario accede al cardboard “Estadísticas” y visualiza gráficos que<br>recopilan información del módulo, estas gráficas se pueden descargar en formato<br>PNG o exportar a hoja de cálculo. Además, se puede filtrar la información por<br>fechas de inicio y fechas de fin. En el caso del gráfico de Incapacidades por<br>tipo de incapacidad. 30 Las gráficas que se muestran son: • Frecuencia de<br>accidentalidad 31 • Proporción de accidentes de trabajo mortales • Prevalencia<br>de enfermedad laboral"
          ],
          [
           "Ausentismo",
           "• Prevalencia de enfermedad laboral • Incidencia de enfermedad laboral 32 •<br>Ausentismo por causa médica • Gravedad de los accidentes de trabajo •<br>Incapacidades"
          ]
         ],
         "hovertemplate": "<b>Manual:</b> %{customdata[0]}<br><b>Texto:</b> %{customdata[1]}<extra></extra>",
         "legendgroup": "Ausentismo",
         "marker": {
          "color": "#EF553B",
          "symbol": "circle"
         },
         "mode": "markers",
         "name": "Ausentismo",
         "orientation": "v",
         "showlegend": true,
         "type": "scatter",
         "x": [
          3.93382,
          2.1736584,
          -2.446438,
          9.29347,
          10.746403,
          -3.935584,
          -2.7653475,
          -2.621585,
          -2.70501,
          -5.8311815,
          6.8989887,
          3.3413973,
          0.817185,
          -4.30085,
          -4.178977,
          -5.922392,
          2.6104054,
          7.548616,
          7.0076847,
          4.2441382,
          2.3486145,
          -5.0210795,
          -4.838529,
          -3.02208,
          -6.147287,
          2.8009148,
          -2.8022404,
          -6.193293,
          -4.4782705,
          -2.2270832,
          -6.471871,
          5.18258,
          10.52021
         ],
         "xaxis": "x",
         "y": [
          0.90080374,
          -1.9921609,
          3.8212082,
          -1.245779,
          5.24058,
          -1.5252917,
          1.8485818,
          2.7571886,
          -3.435898,
          -0.48451385,
          -1.6967276,
          -2.240845,
          -4.001374,
          -2.4847488,
          2.2835417,
          -1.1936537,
          2.7128575,
          -0.85264283,
          -2.3318672,
          -3.3439128,
          -3.6093414,
          -3.0599911,
          2.6768093,
          -2.4201932,
          0.049073182,
          1.8875053,
          -4.0893517,
          2.2648404,
          -0.5544941,
          -1.8945854,
          2.2371702,
          -0.9289077,
          0.34789395
         ],
         "yaxis": "y"
        },
        {
         "customdata": [
          [
           "Estructura Organizativa",
           "DATOS DEL DOCUMENTO Documento Manual de uso: Estructura organizativa (GE).<br>Descripción Manual guía de usuario del módulo de Estructura Organizativa.<br>Versión 2.0 Fecha modificación 06/02/2023 Realizado por Mercedes León<br>Actualizado por Mercedes León Aprobado por"
          ],
          [
           "Estructura Organizativa",
           "Versión Fecha Comentarios Autor Versión 1.0 28/10/2021 Redacción Mercedes León<br>Chele Versión 1.0 28/10/2021 Aprobación Miguel Ángel Rodríguez Versión 1.1<br>07/03/2022 Actualización Mercedes León Chele Versión 1.2 15/06/2022<br>Actualización Andrea Alonso Almecija Versión 2.0 13/10/2022 Actualización<br>Mercedes León Chele CONTENIDO"
          ],
          [
           "Estructura Organizativa",
           "CONTENIDO Sabentis es la nueva plataforma de gestión especializada en el ámbito<br>de Seguridad y Salud en el Trabajo adaptada a las nuevas tecnologías y a los<br>nuevos modelos de gestión de la prevención. El módulo Estructura Organizativa<br>permite la definición y gestión de empresas en la plataforma, cuenta con la<br>posibilidad de configurar ubicaciones que reflejan mejor la realidad de las<br>empresas. 2. MODELO DE ESTRUCTURA ORGANIZATIVA: GRAN EMPRESA"
          ],
          [
           "Estructura Organizativa",
           "El módulo estructura organizativa permite la definición y gestión de empresas<br>en la plataforma, cuenta con la posibilidad de configurar ubicaciones que<br>reflejan mejor la realidad de las empresas y herramientas para agilizar la<br>navegación y creación de la estructura. La estructura organizativa permite<br>seleccionar las entidades básicas de las ocupaciones (CIUO) y la concepción de<br>los puestos de trabajo. Los puestos de trabajo son entendidos como el lugar o<br>área ocupada por las personas"
          ],
          [
           "Estructura Organizativa",
           "entendidos como el lugar o área ocupada por las personas dentro de la<br>organización donde se desarrollan actividades, es decir la unión entre una<br>ocupación y ubicación física."
          ],
          [
           "Estructura Organizativa",
           "7 TIPOLOGÍA DE CENTRO DE TRABAJO"
          ],
          [
           "Estructura Organizativa",
           "Las unidades productivas de la organización pueden presentar distintas<br>características, contemplar distintas tipologías de unidades productivas con<br>campos propios que permiten la correcta descripción de estas. Las unidades<br>productivas contempladas son: ▪ Centro de trabajo (CT): utilizado para reflejar<br>las unidades productivas que son lugares edificados. ▪ Obra: permite definir las<br>obras de construcción de distinto tipo y magnitud, el rol de la unidad<br>productiva (empresa principal o"
          ],
          [
           "Estructura Organizativa",
           "el rol de la unidad productiva (empresa principal o contratista, es decir,<br>centro propio o de un tercero) y las fechas de inicio y fin. ▪ Itinerante: hace<br>referencia a aquellas unidades productivas sin un emplazamiento fijo y duración,<br>como pueden ser vehículos o ferias."
          ],
          [
           "Estructura Organizativa",
           "3. HOME ESTRUCTURA ORGANIZATIVA El usuario puede acceder al módulo Estructura<br>Organizativa (EO), desde las opciones: • La entrada del menú lateral. • Desde el<br>cardboard “Estructura Organizativa”."
          ],
          [
           "Estructura Organizativa",
           "Se visualizan diez cardboards que dan entrada a las diferentes funcionalidades<br>del módulo: • Empresas • Centros de trabajo • Ocupaciones • Lugares de trabajo •<br>Puestos de trabajo • Trabajadores • Ubicaciones libres físicas • Ubicaciones<br>libres operativas • Perfiles de empresa • Agentes materiales"
          ],
          [
           "Estructura Organizativa",
           "Además, se visualiza un dashboard que contiene datos estadísticos actualizados<br>automáticamente a la fecha de consulta de la empresa a nivel de estructura<br>organizativa, así como un georreferenciador de los centros de trabajo. Las<br>gráficas muestran la siguiente información:"
          ],
          [
           "Estructura Organizativa",
           "NOMBRE DESCRIPCIÓN Centros de trabajo Contador con el total de centros de<br>trabajo registrados. Al clicar al link “Ver más” redirige al listado de centros<br>de trabajo. Puestos de trabajo Contador con el total de puestos de trabajo<br>registrados. Trabajadores Contador con el total de trabajadores registrados. Al<br>clicar al link “Ver más” redirige al listado de trabajadores. Distribución de<br>trabajadores por género Gráfica circular de datos de distribución de<br>trabajadores por género:"
          ],
          [
           "Estructura Organizativa",
           "de datos de distribución de trabajadores por género: masculino/femenino. Al<br>colocar el cursor sobre un segmento de la gráfica, se muestra el número de<br>trabajadores pertenecientes al segmento. Las gráficas se pueden descargar.<br>Distribución de trabajadores por rango de edad Gráfica circular de datos de<br>distribución de trabajadores por rango de edad (5 rangos definidos). Al colocar<br>el cursor sobre un segmento de la gráfica, se muestra el número de trabajadores<br>pertenecientes al segmento."
          ],
          [
           "Estructura Organizativa",
           "el número de trabajadores pertenecientes al segmento. Las gráficas se pueden<br>descargar. Georreferenciador de la distribución de centros de trabajo Permite<br>ver la ubicación de los centros de trabajo, por medio de un mapa geolocalizador."
          ],
          [
           "Estructura Organizativa",
           "El usuario accede al cardboard Empresas, se presentan los siguientes casos<br>dependiendo de la selección del contexto: • Con empresa en contexto: la<br>plataforma redirige al usuario a la ficha de la empresa."
          ],
          [
           "Estructura Organizativa",
           "11 Las empresas pueden crearse directamente en la plataforma Sabentis o se<br>pueden integrar desde otras plataformas. El listado de empresas muestra por<br>defecto las empresas con estado activo y cuenta con las siguientes opciones:<br>buscador, filtrar, descargar listado, paginado y la acción editar. Desde la<br>ficha de empresa se puede cargar el logotipo de la empresa y otros datos de<br>interés, además, se facilita al usuario a crear o editar los Centros de trabajo<br>y desde éste la estructura"
          ],
          [
           "Estructura Organizativa",
           "o editar los Centros de trabajo y desde éste la estructura inferior (Lugares de<br>trabajo, Ocupaciones, etc). A través de la ficha de empresa se tiene acceso a<br>las pestañas “Centros de Trabajo”, “Trabajadores de la empresa” y “Documentos”."
          ],
          [
           "Estructura Organizativa",
           "PESTAÑA CENTROS DE TRABAJO"
          ],
          [
           "Estructura Organizativa",
           "Desde esta pestaña el usuario visualiza el listado de los centros de trabajo<br>que pertenecen a la empresa; por defecto el listado mostrará los que tengan<br>estado activo. El usuario podrá crear nuevos centros en la empresa a través del<br>botón “Agregar nuevo centro” que redirige al formulario de creación. En el<br>formulario se mostrará por defecto el nombre de la empresa en contexto. Los<br>campos del formulario marcados con * son de carácter obligatorio y en caso de no<br>completarlos no se permite"
          ],
          [
           "Estructura Organizativa",
           "obligatorio y en caso de no completarlos no se permite crear/guardar el<br>registro. Este listado cuenta con las siguientes opciones: buscador, filtrar,<br>descargar listado, paginado y cuenta con las acciones: • Editar: permite acceder<br>a la ficha del centro y editar la información. • Eliminar: permite eliminar los<br>registros creados a excepción del centro que haya sido designado como sede<br>principal. Para poder eliminar un centro de trabajo marcado como sede principal,<br>se debe escoger otro"
          ],
          [
           "Estructura Organizativa",
           "trabajo marcado como sede principal, se debe escoger otro centro de trabajo<br>como sede principal."
          ],
          [
           "Estructura Organizativa",
           "Al editar la información del centro de trabajo se visualiza la ficha de datos<br>del centro junto a las pestañas “Trabajadores del centro”, “Lugares de trabajo”,<br>“Ocupaciones”, “Agentes Materiales”, “Puestos de Trabajo” y “Documentos”. Desde<br>esta ruta se facilita al usuario a crear la estructura inferior del Centro de<br>trabajo -como lugares de trabajo, ocupaciones, puestos y agentes materiales- así<br>como también gestionar las relaciones Centro-Trabajador."
          ],
          [
           "Estructura Organizativa",
           "El usuario al acceder a esta pestaña visualiza el listado de los trabajadores<br>añadidos manualmente o por integración en la empresa. Si la carga de datos de<br>trabajadores se realiza por integración el usuario solo puede visualizar la<br>información mas no editarla. Este listado muestra por defecto los trabajadores<br>con estado activo y cuenta con las siguientes opciones: buscador, filtrar,<br>paginado, el botón “Agregar nuevo trabajador” que redirige al formulario de<br>creación. La opción"
          ],
          [
           "Estructura Organizativa",
           "que redirige al formulario de creación. La opción “Operación”, se habilita una<br>vez se seleccione mínimo un trabajador y permite descargar el listado, así como<br>también enviar correos. Una vez escogida la operación a realizar se debe de<br>“ejecutar la operación” y las acciones: • Editar: redirige a la ficha del<br>trabajador para editar la información. • Enviar correo: permite enviar correos<br>directamente al trabajador. • Eliminar: permite eliminar el registro del<br>trabajador."
          ],
          [
           "Estructura Organizativa",
           "PESTAÑA DOCUMENTOS Desde esta pestaña el usuario visualiza un listado de<br>documentos disponibles a nivel de empresa, estos documentos pueden estar en<br>estado “vigente” o “expirado”. Los documentos cargados en esta pestaña también<br>se visualizarán en el listado del repositorio documental. Además, en los<br>documentos de la estructura organizativa, por defecto se"
          ],
          [
           "Estructura Organizativa",
           "15 añadirán Tags predefinidos (para mejor entendimiento ver manual de<br>repositorio documental). Este listado cuenta con las siguientes opciones:<br>buscador, filtrar, paginado, el botón “Añadir ficheros” que redirige al<br>formulario de cargas de documentos y las acciones descargar, editar y eliminar.<br>El usuario accede al formulario y visualiza una serie de campos a cumplimentar.<br>Los campos marcados con * son de carácter obligatorio y en caso de que no se<br>completen no se permite crear/editar el"
          ],
          [
           "Estructura Organizativa",
           "caso de que no se completen no se permite crear/editar el registro."
          ],
          [
           "Estructura Organizativa",
           "El usuario accede al cardboard Centros de trabajo, se presentan los siguientes<br>casos dependiendo de la selección del contexto: • Con empresa y CT en contexto:<br>redirige directamente a la ficha del centro en contexto. 17 • Solo con empresa<br>en contexto: redirige al listado de todos los CT registrados en la empresa. •<br>Sin empresa en contexto: redirige al listado de CT registrados en la plataforma."
          ],
          [
           "Estructura Organizativa",
           "18 botón “Agregar nuevo centro” que redirige al formulario de creación y la<br>acciones editar y eliminar. Estas funcionalidades están disponibles en función<br>de los grupos a los que pertenezca el usuario y los permisos asignados. Los<br>campos del formulario marcados con * son de carácter obligatorio y en caso de no<br>completarlos no se permite crear/guardar el registro. También se puede realizar<br>la carga masiva de centros de trabajo y la carga masiva de la relación centros<br>de"
          ],
          [
           "Estructura Organizativa",
           "de trabajo y la carga masiva de la relación centros de trabajo-trabajador. Una<br>vez seleccionado el tipo de carga masiva que se va a realizar redirige al<br>usuario a la funcionalidad de importación/exportación donde se puede descargar<br>los ficheros para crear y/o actualizar los registros de centros (para mejor<br>entendimiento ver el manual de importadores)."
          ],
          [
           "Estructura Organizativa",
           "Accediendo desde la ficha del centro de trabajo se visualizan las pestañas<br>“Trabajadores del centro”, “Lugares de trabajo”, “Ocupaciones”, “Agentes<br>materiales”, “Puestos de trabajo” y “Documentos”. Se detallan las acciones que<br>se pueden realizar desde cada una de las pestañas indicadas. PESTAÑA<br>TRABAJADORES DEL CENTRO"
          ],
          [
           "Estructura Organizativa",
           "Desde esta pestaña el usuario puede: • Ver el listado de los trabajadores que<br>están asociados al CT, por defecto se muestran los trabajadores cuyo estado es<br>activo. • Asociar más trabajadores al CT desde el apartado “Asociar nuevo<br>trabajador” situado al final del listado. • Agregar nuevos trabajadores desde la<br>opción “Agregar nuevo trabajador”. Este listado cuenta con las siguientes<br>opciones: buscador, filtrar, paginado, la opción “Operación” -esta se habilita<br>una vez se ha"
          ],
          [
           "Estructura Organizativa",
           "la opción “Operación” -esta se habilita una vez se ha seleccionado como mínimo<br>un trabajador y permite descargar el listado de trabajadores asociados al<br>centro- enviar correos (una vez escogida la operación a realizar se debe clicar<br>al ícono) y las acciones: • Editar: permite editar la ficha de datos del<br>trabajador, así como editar la información relativa a los puestos de trabajo y<br>añadir documentos. • Editar fechas: permite editar las fechas de la relación del<br>trabajador con el centro"
          ],
          [
           "Estructura Organizativa",
           "las fechas de la relación del trabajador con el centro en el apartado “Asociar<br>nuevo trabajador”. • Desasociar: elimina la relación entre el trabajador y el<br>CT. • Ver histórico: permite ver el histórico de relaciones entre el trabajador<br>y el CT. • Enviar correo: opción para enviar correo directamente al trabajador."
          ],
          [
           "Estructura Organizativa",
           "NOTA: Los CT tienen los estados Activo/Inactivo, al dar de baja (inactivar) un<br>centro de trabajo toda su estructura inferior (lugares de trabajo, puestos de<br>trabajo, agentes materiales, al igual que las relaciones existentes entre los<br>trabajadores y ocupaciones, etcétera) dejan de estar visibles al usuario. En el<br>momento que se da de alta (activa) de nuevo al centro de trabajo toda su<br>estructura inferior y relaciones vuelven a activarse."
          ],
          [
           "Estructura Organizativa",
           "El usuario desde esta pestaña puede visualizar el listado de los lugares de<br>trabajo del centro de trabajo y desde el botón “Nuevo” crear nuevos lugares a<br>nivel del centro. Los campos marcados con * son de carácter obligatorio y en<br>caso de no completarlos no se permite crear/guardar el registro. Este listado<br>cuenta con las siguientes opciones: buscador, filtrar, descargar listado,<br>paginado, y las acciones editar y eliminar. PESTAÑA OCUPACIONES"
          ],
          [
           "Estructura Organizativa",
           "PESTAÑA OCUPACIONES El usuario desde esta pestaña puede visualizar el listado<br>de los cargos u ocupaciones del CT y también crear nuevos cargos desde el botón<br>“Agregar nuevo cargo” que redirige al formulario de creación. Los campos<br>marcados con * son de carácter obligatorio y en caso de no completarlos no se<br>permite crear/guardar el registro. Este listado cuenta con las siguientes<br>opciones: buscador, filtrar, descargar listado, paginado, y las acciones editar<br>y eliminar."
          ],
          [
           "Estructura Organizativa",
           "PESTAÑA AGENTES MATERIALES El usuario desde esta pestaña puede visualizar el<br>listado de los agentes materiales del CT y también crear nuevos agentes<br>materiales desde el botón “Nuevo” que redirige al formulario de creación. Los<br>campos marcados con * son de carácter obligatorio y en caso de no completarlos<br>no se permite crear/guardar el registro. Este listado cuenta con las siguientes<br>opciones: buscador, filtrar, descargar listado, paginado, y las acciones editar<br>y eliminar."
          ],
          [
           "Estructura Organizativa",
           "PESTAÑA PUESTOS DE TRABAJO El usuario desde esta pestaña puede visualizar el<br>listado de los puestos de trabajo del CT y agregar un nuevo puesto de trabajo<br>desde el botón “Agregar nuevo puesto” que redirige al"
          ],
          [
           "Estructura Organizativa",
           "25 formulario de creación del puesto de trabajo. Los campos marcados con * son<br>de carácter obligatorio y en caso de no completarlos no se permite crear/guardar<br>el registro. Este listado cuenta con las siguientes opciones: buscador, filtrar,<br>descargar listado, paginado y las acciones editar y eliminar."
          ],
          [
           "Estructura Organizativa",
           "Al acceder a esta pestaña el usuario visualiza un listado de documentos<br>disponibles a nivel del centro, las acciones a realizar en esta pestaña son las<br>mismas indicadas en el apartado pestaña documentos de la empresa. El usuario<br>accede al cardboard Ocupaciones, se presentan los siguientes casos dependiendo<br>de la selección del contexto: • Con empresa y CT en contexto: redirige al<br>listado de los cargos u ocupaciones del centro seleccionado."
          ],
          [
           "Estructura Organizativa",
           "El usuario puede crear nuevos cargos u ocupaciones a nivel del centro<br>manualmente desde el botón “Agregar ocupación” que redirige al formulario de<br>creación, o a través de carga masiva desde el botón “Carga masiva”. Los campos<br>marcados con * son de carácter obligatorio y en caso de no completarlos no se<br>permite crear/guardar el registro. Este listado cuenta con las siguientes<br>opciones: buscador, filtrar, descargar listado, paginado, y las acciones editar<br>y eliminar. En el caso de tener"
          ],
          [
           "Estructura Organizativa",
           "y las acciones editar y eliminar. En el caso de tener centro de trabajo en<br>contexto al agregar un nuevo cargo, este se vincula con el centro de trabajo<br>seleccionado. En función de la configuración de empresa se podrán crear<br>Ocupaciones a nivel de empresa o de centros. Desde la ficha de datos se accede a<br>las pestañas “Actividad” y “Documentos”. En la ficha de datos de la ocupación<br>aparecen los botones “Eliminar el cargo”, “Ver los trabajadores”, “Ver puestos<br>de trabajo”, “Exportar el"
          ],
          [
           "Estructura Organizativa",
           "los trabajadores”, “Ver puestos de trabajo”, “Exportar el cargo como plantilla”<br>y “Aplicar plantilla”."
          ],
          [
           "Estructura Organizativa",
           "PESTAÑA ACTIVIDAD El usuario desde esta pestaña puede visualizar el listado de<br>actividades vinculadas a la ocupación seleccionada. Este listado cuenta con las<br>siguientes opciones: buscador, filtrar, descargar listado, paginado y la acción<br>editar -permite editar y eliminar-. PESTAÑA DOCUMENTOS"
          ],
          [
           "Estructura Organizativa",
           "PESTAÑA DOCUMENTOS Al acceder a esta pestaña el usuario visualiza un listado de<br>documentos disponibles a nivel de ocupaciones. Las acciones a realizar en esta<br>pestaña son las mismas indicadas en el apartado pestaña documentos de la<br>empresa. El usuario accede al cardboard Lugares de trabajo, se presentan los<br>siguientes casos dependiendo de la selección del contexto: • Con empresa y CT en<br>contexto: redirige al listado de los lugares de trabajo del centro de trabajo<br>seleccionado."
          ],
          [
           "Estructura Organizativa",
           "• Solo con empresa en contexto: redirige al listado de todos los lugares de<br>trabajo disponibles en la empresa. Este listado cuenta con las siguientes<br>opciones: buscador, filtrar, descargar listado, paginado, botón “Carga masiva”,<br>el botón “Nuevo” que redirige al formulario de creación y las acciones:"
          ],
          [
           "Estructura Organizativa",
           "33 • Editar: permite acceder a la ficha del lugar de trabajo y editar la<br>información. • Eliminar: permite eliminar los registros creados. Estas<br>funcionalidades están disponibles en función de los grupos a los que pertenezca<br>el usuario y los permisos asignados. Los campos marcados con * son de carácter<br>obligatorio y en caso de no completarlos no se permite crear/guardar el<br>registro. Desde la ficha de datos del lugar de trabajo se accede a las pestañas<br>“Zonas”, “Puestos de trabajo” y"
          ],
          [
           "Estructura Organizativa",
           "se accede a las pestañas “Zonas”, “Puestos de trabajo” y “Documentos”. En la<br>ficha de datos aparecen los botones “Exportar lugar de trabajo como plantilla”,<br>“Aplicar plantilla”, “Eliminar”, “Ver trabajadores”."
          ],
          [
           "Estructura Organizativa",
           "PESTAÑA ZONA El usuario desde esta pestaña puede visualizar el listado de las<br>zonas que corresponden al lugar de trabajo. Este listado muestra por defecto las<br>zonas con estado activo y cuenta con las siguientes opciones: buscador, filtrar,<br>descargar listado, paginado, el botón “Nuevo” que redirige al formulario de<br>creación y las acciones editar y eliminar. 35 Los campos marcados con * son de<br>carácter obligatorio y en caso de no completarlos no se permite crear/guardar el<br>registro."
          ],
          [
           "Estructura Organizativa",
           "PESTAÑA PUESTOS DE TRABAJO El usuario desde esta pestaña puede visualizar el<br>listado de los puestos de trabajo relacionados con el lugar de trabajo<br>seleccionado."
          ],
          [
           "Estructura Organizativa",
           "36 Este listado cuenta con las siguientes opciones: buscador, filtrar,<br>descargar listado, paginado, el botón “Nuevo” que redirige al formulario de<br>creación del puesto de trabajo, y las acciones editar y eliminar. Los campos<br>marcados con * son de carácter obligatorio y en caso de no completarlos no se<br>permite crear/guardar el registro."
          ],
          [
           "Estructura Organizativa",
           "Al acceder a esta pestaña el usuario visualiza un listado de documentos<br>disponibles a nivel de lugares de trabajo, las acciones a realizar en esta<br>pestaña son las mismas indicadas en el apartado pestaña documentos de la<br>empresa. El usuario accede al cardboard Puestos de trabajo, se presentan los<br>siguientes casos dependiendo de la selección del contexto: • Con empresa y CT en<br>contexto: redirige al listado de puestos de trabajo del centro."
          ],
          [
           "Estructura Organizativa",
           "• Solo con empresa en contexto: redirige al listado de todos los puestos de<br>trabajo de toda la empresa. Se puede crear nuevos puestos de trabajo desde el<br>botón “Agregar nuevo puesto” que redirige al formulario de creación. Los puestos<br>de trabajo se crean a nivel de centro, lugares"
          ],
          [
           "Estructura Organizativa",
           "39 de trabajo, superficie, zona o área disponibles. También se puede cargar<br>varios puestos de forma masiva desde el botón “Carga masiva”. Estas<br>funcionalidades están disponibles en función de los grupos a los que pertenezca<br>el usuario y los permisos asignados. Los campos del formulario marcados con *<br>son de carácter obligatorio y en caso de no completarlos no se permite<br>crear/editar el registro. Este listado cuenta con las siguientes opciones:<br>buscador, filtrar, paginado, descargar"
          ],
          [
           "Estructura Organizativa",
           "siguientes opciones: buscador, filtrar, paginado, descargar listado y las<br>acciones: • Editar: permite editar la ficha de datos del puesto de trabajo. Al<br>editar la ficha de datos se visualizan las pestañas “Trabajadores del puesto”,<br>“Restricciones”, “Documentos”. • Eliminar: permite eliminar los registros<br>creados."
          ],
          [
           "Estructura Organizativa",
           "PESTAÑA TRABAJADORES DEL PUESTO El usuario desde esta pestaña puede visualizar<br>el listado de los trabajadores vinculados al puesto de trabajo. Este listado<br>cuenta con las siguientes opciones: buscador, filtrar, paginado, botón “Agregar<br>trabajador” que redirige al formulario de creación y las acciones: • Editar<br>fechas: Permite modificar las fechas de la relación entre el trabajador y el<br>puesto. 41 • Desasociar: Permite desasociar al trabajador del puesto de trabajo."
          ],
          [
           "Estructura Organizativa",
           "PESTAÑA RESTRICCIONES En esta pestaña se define las restricciones del puesto de<br>trabajo, agentes materiales que pueden afectar a la salud de los trabajadores y<br>las sensibilidades especiales tanto del puesto de trabajo como de los agentes<br>materiales relacionados al puesto. SENSIBILIDADES ESPECIALES DEL PUESTO DE<br>TRABAJO"
          ],
          [
           "Estructura Organizativa",
           "SENSIBILIDADES ESPECIALES DEL PUESTO DE TRABAJO El usuario puede seleccionar<br>aquellas sensibilidades especiales del puesto de trabajo para indicar que el<br>puesto de trabajo no es apto para personas con alguna de las siguientes<br>sensibilidades: • Embarazo • Lactancia • Menor de edad • Discapacidad física •<br>Discapacidad sensorial • Discapacidad psicosocial RESTRICCIONES DEL PUESTO DE<br>TRABAJO"
          ],
          [
           "Estructura Organizativa",
           "RESTRICCIONES DEL PUESTO DE TRABAJO Desde este listado se pueden definir las<br>restricciones que tiene el puesto de trabajo. Este listado cuenta con las<br>siguientes opciones: buscador, filtrar, paginado, descargar listado, el botón<br>“Añadir restricción” que abre una ventana lateral con restricciones<br>predefinidas, sus factores, descripción y limitaciones y la acción eliminar que<br>permite eliminar la restricción. SENSIBILIDADES ESPECIALES DE LOS AGENTES<br>MATERIALES RELACIONADOS"
          ],
          [
           "Estructura Organizativa",
           "El listado muestra los condicionantes en los agentes materiales vinculados al<br>puesto, es decir, agentes materiales que no son aptos para personas con alguna<br>sensibilidad. Este apartado es informativo, las sensibilidades especiales de los<br>agentes materiales se definen en el formulario de “Agentes Materiales”. Este<br>listado cuenta con las siguientes opciones: buscador, filtrar, paginado y<br>descargar listado. 43 RESTRICCIONES DE LOS AGENTES MATERIALES"
          ],
          [
           "Estructura Organizativa",
           "43 RESTRICCIONES DE LOS AGENTES MATERIALES En este listado se muestran las<br>restricciones que tienen los agentes materiales relacionados al puesto de<br>trabajo. Este listado cuenta con las siguientes opciones: buscador, filtrar,<br>paginado y descargar listado. Este apartado es informativo, en el formulario<br>Agentes Materiales se pueden definir estas restricciones. PESTAÑA DOCUMENTO"
          ],
          [
           "Estructura Organizativa",
           "PESTAÑA DOCUMENTO Al acceder a esta pestaña el usuario visualiza un listado de<br>documentos disponibles. Las acciones para realizar en esta pestaña son las<br>mismas indicadas en el apartado documentos de la empresa. El usuario accede al<br>cardboard Trabajadores, se presentan los siguientes casos dependiendo de la<br>selección del contexto: • Con empresa en contexto: la plataforma redirige al<br>usuario a la ficha de trabajadores de la empresa."
          ],
          [
           "Estructura Organizativa",
           "• Con empresa y centro en contexto: el usuario visualiza los trabajadores de la<br>empresa y del centro de trabajo seleccionado."
          ],
          [
           "Estructura Organizativa",
           "En función de los grupos a los que pertenezca el usuario y los permisos<br>asignados tendrá la opción de agregar trabajadores manualmente o de forma<br>masiva. Si se realiza por integración, el usuario solo podrá visualizar la<br>información mas no editarla. Por defecto se muestran los trabajadores con estado<br>“Activo”, el listado cuenta con las opciones de búsqueda, filtrado, paginado, el<br>botón “Agregar nuevo trabajador” que redirige al formulario de creación y el<br>botón “Carga masiva” que permite"
          ],
          [
           "Estructura Organizativa",
           "de creación y el botón “Carga masiva” que permite descargar/ cargar una gran<br>cantidad de datos de forma simultánea (Para complementar información de carga<br>masiva por favor revisar el manual de importadores). Además, cuenta con las<br>acciones editar que redirige a la ficha de datos del trabajador, eliminar que<br>permite eliminar el registro y enviar correo. La opción “Operación” se habilita<br>una vez se ha seleccionado como mínimo un trabajador y permite descargar el<br>listado, así como también"
          ],
          [
           "Estructura Organizativa",
           "y permite descargar el listado, así como también enviar correos (una vez<br>escogida la operación a realizar se debe ejecutar la operación). Los campos del<br>formulario marcados con * son de carácter obligatorio y en caso de no<br>completarlos no se permite crear/editar el registro."
          ],
          [
           "Estructura Organizativa",
           "PESTAÑA CENTROS DE TRABAJO En esta pestaña se visualiza el listado de centros a<br>los que el trabajador se encuentra asociado, cabe indicar que un trabajador<br>puede estar asociado a “n centros”. El listado cuenta con las opciones de<br>búsqueda, filtrado, paginado, el botón “Asociar centros de trabajo” que permite<br>asociar al trabajador con un puesto de trabajo, “Historial de centros de"
          ],
          [
           "Estructura Organizativa",
           "49 trabajo” donde visualiza el historial de las relaciones del trabajador con<br>los centros, y las acciones: • Editar fechas: Modificar las fechas de la<br>relación entre el trabajador y el centro. • Desasociar: Elimina la relación del<br>trabajador con el centro. Los campos del formulario marcados con * son de<br>carácter obligatorio y en caso de no completarlos no se permite crear/editar el<br>registro."
          ],
          [
           "Estructura Organizativa",
           "50 Al guardar los datos del formulario relativos a asociar un centro a un<br>trabajador, la nueva relación Trabajador-Centro se mostrará en el listado<br>Centros a los que pertenece el trabajador. Al acceder al “Historial de centros”<br>el usuario es dirigido a la pantalla Historial de CT donde podrá editar las<br>fechas de inicio/relación del trabajador con el centro siempre que la relación<br>se mantenga activa, es decir la fecha término no puede ser igual o mayor a la<br>fecha actual."
          ],
          [
           "Estructura Organizativa",
           "PESTAÑA PUESTO DE TRABAJO"
          ],
          [
           "Estructura Organizativa",
           "El usuario desde esta pestaña puede visualizar el listado de los puestos de<br>trabajo a los que pertenece cada trabajador. Este listado muestra por defecto<br>los puestos de trabajo con estado activo y cuenta con las siguientes opciones:<br>buscador, filtrar, descargar listado, paginado, el botón “Asociar puesto de<br>trabajo” que redirige al formulario de creación y las acciones: • Editar fechas:<br>permite editar las fechas de la relación del trabajador con el puesto de<br>trabajo. • Eliminar:"
          ],
          [
           "Estructura Organizativa",
           "del trabajador con el puesto de trabajo. • Eliminar: permite eliminar el<br>registro. Los campos del formulario marcados con * son de carácter obligatorio y<br>en caso de no completarlos no se permite crear/editar el registro."
          ],
          [
           "Estructura Organizativa",
           "Al acceder a esta pestaña el usuario puede definir Restricciones, visualizar<br>los Certificados de aptitud, Peligros y riesgos, Equipos de protección personal<br>y Contingencias e Incapacidades laborales que aplican al trabajador.<br>RESTRICCIONES"
          ],
          [
           "Estructura Organizativa",
           "RESTRICCIONES Desde la pestaña Restricciones el usuario puede indicar cuáles<br>son las sensibilidades del trabajador, así como añadir las<br>restricciones/limitaciones del trabajador y visualizar las restricciones que<br>provienen del módulo de Vigilancia de la Salud. Además, podrá visualizar el<br>listado de las sensibilidades especiales de los puestos de trabajo y agentes<br>materiales, y las restricciones de puestos de trabajo y agentes materiales.<br>CERTIFICADOS DE APTITUD"
          ],
          [
           "Estructura Organizativa",
           "Los certificados de aptitud son documentos que determinan si el trabajador es<br>apto laboralmente para realizar las actividades inherentes al puesto de trabajo.<br>En esta pestaña, el usuario visualiza un listado de los certificados de aptitud<br>del trabajador. El certificado de aptitud puede estar en estado vigente o<br>expirado. Este listado cuenta con las siguientes opciones: buscador, filtrar,<br>paginado, botón “Subir archivo” que redirige al formulario de carga de ficheros<br>y las acciones editar,"
          ],
          [
           "Estructura Organizativa",
           "al formulario de carga de ficheros y las acciones editar, eliminar y"
          ],
          [
           "Estructura Organizativa",
           "54 descargar el certificado. Los campos del formulario marcados con * son de<br>carácter obligatorio y en caso de no completarlos no se permite crear/editar el<br>registro. En la pestaña Peligros y Riesgos se muestra un listado informativo de<br>los peligros y riesgos a los que se encuentra expuesto el trabajador a través de<br>las ubicaciones que tiene relacionadas. Este listado cuenta con las siguientes<br>opciones: buscador, filtrar, descargar listado y paginado. EQUIPOS DE PROTECCIÓN<br>PERSONAL"
          ],
          [
           "Estructura Organizativa",
           "En la pestaña Equipos de protección personal se muestran dos listados: • La<br>Definición de EPP contiene una tabla con la definición de los Equipos de<br>Protección Personal que le corresponde ser entregados y utilizados al trabajador<br>para minimizar los riesgos a los que se encuentra expuesto de acuerdo con su<br>puesto de trabajo y características personales. El listado es informativo y<br>cuenta con las siguientes opciones: buscador, filtrar, descargar listado y<br>paginado. • El listado de Las"
          ],
          [
           "Estructura Organizativa",
           "descargar listado y paginado. • El listado de Las Entregas de EPP realizadas<br>muestra todas aquellas entregas de EPP que le han sido realizadas al trabajador.<br>Este listado cuenta con las siguientes opciones: buscador, filtrar, descargar<br>listado, paginado y la acción ver que abre una pantalla lateral donde se pueden<br>visualizar de forma informativa los datos relativos a la entrega. El estado de<br>la entrega puede ser vigente, vigente con devolución parcial, devolución total y<br>caducado."
          ],
          [
           "Estructura Organizativa",
           "PESTAÑA CONTINGENCIAS LABORALES"
          ],
          [
           "Estructura Organizativa",
           "Al acceder a esta pestaña el usuario visualiza un listado informativo con todos<br>los registros de contingencias laborales del trabajador, un primer listado con<br>los accidentes de trabajo y otro con enfermedades laborales del trabajador.<br>Ambos listados, cuentan con las siguientes opciones: buscador, filtrar,<br>descargar listado, paginado y la acción ir a la contingencia que redirige a la<br>ficha de datos de la contingencia del accidente de trabajo o de la enfermedad<br>profesional."
          ],
          [
           "Estructura Organizativa",
           "58 PESTAÑA INCAPACIDADES LABORALES"
          ],
          [
           "Estructura Organizativa",
           "En esta pantalla el usuario visualiza un listado con todas las incapacidades<br>del trabajador derivadas de las contingencias profesionales (accidentes de<br>trabajo y enfermedades profesionales). Este listado es informativo y cuenta con<br>las siguientes opciones: buscador, filtrar, descargar listado, paginado y la<br>acción ver, que abre una pantalla lateral de visualización con los datos de la<br>incapacidad o la prórroga. En esta pantalla lateral, el usuario tiene la opción<br>de ir a la ficha de la"
          ],
          [
           "Estructura Organizativa",
           "lateral, el usuario tiene la opción de ir a la ficha de la contingencia, donde<br>podrá editar los datos relativos a la incapacidad."
          ],
          [
           "Estructura Organizativa",
           "Al acceder a esta pestaña el usuario visualiza un listado de documentos a nivel<br>de trabajador. Las acciones que se pueden realizar en esta pestaña son las<br>mismas indicadas en el apartado pestaña documentos de la empresa. 60 10.<br>UBICACIONES LIBRES FÍSICAS El usuario accede al cardboard Ubicaciones libres<br>físicas que contiene los cardboards Zona, Área y Superficie. Las ubicaciones<br>libres físicas pretenden reflejar un espacio físico de la empresa más concreto<br>de los lugares de trabajo."
          ],
          [
           "Estructura Organizativa",
           "En la home se muestra un dashboard que contiene las siguientes gráficas: •<br>Centros de trabajo: contador con el total de centros de trabajo registrados. •<br>Puestos de trabajo: contador con el total de puestos de trabajo registrados. •<br>Trabajadores: contador con el total de trabajadores registrados. Lugares de<br>trabajo Zona Área Superficie"
          ],
          [
           "Estructura Organizativa",
           "61 • Distribución de trabajadores por género: grafica circular de datos de<br>distribución por género de los trabajadores de la ubicación libre física:<br>masculino/femenino. Al colocar el cursor sobre un segmento de la gráfica, se<br>muestra el número de trabajadores pertenecientes al segmento. Las gráficas se<br>pueden descargar. • Distribución de trabajadores por rango de edad: gráfica<br>circular de datos que muestra la distribución por rango de edad de los<br>trabajadores de la ubicación libre"
          ],
          [
           "Estructura Organizativa",
           "rango de edad de los trabajadores de la ubicación libre física distribuida en 5<br>rangos definidos. Al colocar el cursor sobre un segmento de la gráfica, se<br>muestra el número de trabajadores pertenecientes al segmento. Las gráficas se<br>pueden descargar. • Distribución de centros de trabajo: georreferenciador que<br>muestra la ubicación del centro de trabajo por medio de un mapa geolocalizador."
          ],
          [
           "Estructura Organizativa",
           "Al acceder al cardboard Zona el usuario visualiza el listado de las zonas junto<br>a su ubicación superior, los lugares de trabajo. Para acceder a este cardboard<br>se requiere tener un centro en el contexto. Este listado muestra por defecto las<br>zonas con estado activo y cuenta con las siguientes opciones: buscador, filtrar,<br>descargar listado, paginado, botón \"Nueva Zona\" que redirige al formulario de<br>creación y las acciones: • Editar: permite acceder a la ficha de la zona y<br>editar la"
          ],
          [
           "Estructura Organizativa",
           "Editar: permite acceder a la ficha de la zona y editar la información. •<br>Eliminar: permite eliminar el registro de la zona. Eliminar una zona supone la<br>eliminación de todos los puestos de trabajo de los que forma parte. Los campos<br>del formulario marcados con * son de carácter obligatorio y en caso de no<br>completarlos no se permite crear/editar el registro. Al editar la información de<br>la zona se visualiza la ficha de datos junto a las pestañas “Área”, “Puestos de<br>trabajo” y"
          ],
          [
           "Estructura Organizativa",
           "datos junto a las pestañas “Área”, “Puestos de trabajo” y “Documentos”."
          ],
          [
           "Estructura Organizativa",
           "PESTAÑA ÁREA El usuario desde esta pestaña puede visualizar el listado de las<br>áreas vinculadas a las diferentes zonas. Este listado muestra por defecto las<br>áreas con estado activo. Cuenta con las siguientes opciones: buscador, filtrar,<br>descargar listado, paginado y las acciones editar y eliminar. PESTAÑA PUESTOS DE<br>TRABAJO"
          ],
          [
           "Estructura Organizativa",
           "El usuario desde esta pestaña visualiza el listado de los puestos de trabajo<br>que se encuentran en la zona seleccionada. Cuenta con las siguientes opciones:<br>buscador, filtrar, descargar listado, paginado, el botón “Nuevo” que redirige al<br>formulario de creación del puesto de trabajo y las acciones editar y eliminar.<br>Los campos del formulario marcados con * son de carácter obligatorio y en caso<br>de no completarlos no se permite crear/editar el registro. Al editar la<br>información de los"
          ],
          [
           "Estructura Organizativa",
           "crear/editar el registro. Al editar la información de los puestos de trabajo se<br>visualiza la ficha de datos relativa al puesto de trabajo junto a las pestañas<br>“Trabajadores del puesto” y “Documentos”."
          ],
          [
           "Estructura Organizativa",
           "PESTAÑA DOCUMENTOS Al acceder a esta pestaña el usuario visualiza un listado de<br>documentos a nivel de zona. Las acciones que se pueden realizar en esta pestaña<br>son las mismas indicadas en el apartado pestaña documentos de la empresa."
          ],
          [
           "Estructura Organizativa",
           "Al acceder al cardboard Área se muestra un listado con las áreas de las<br>diferentes zonas de trabajo. Para acceder a este cardboard es necesario un<br>centro de trabajo en el contexto. Este listado muestra por defecto las áreas con<br>estado activo y cuenta con las siguientes opciones: buscador, filtrar, descargar<br>listado, paginado, el botón “Nueva Área” que redirige al formulario de creación<br>y las acciones: • Editar: permite acceder a la ficha del área y editar la<br>información. • Eliminar:"
          ],
          [
           "Estructura Organizativa",
           "a la ficha del área y editar la información. • Eliminar: permite eliminar el<br>registro del área. Eliminar un área supone la eliminación de todos los puestos<br>de trabajo de los que forma parte. Los campos del formulario marcados con * son<br>de carácter obligatorio y en caso de no completarlos no se permite crear/editar<br>el registro. Al editar la información del Área se visualiza la ficha del área<br>junto a las pestañas “Superficie”, “Puestos de trabajo” y “Documentos”."
          ],
          [
           "Estructura Organizativa",
           "PESTAÑA SUPERFICIES El usuario desde esta pestaña puede visualizar el listado<br>de las superficies vinculadas al área seleccionada y muestra por defecto las<br>superficies con estado activo. Cuenta con las siguientes opciones: buscador,<br>filtrar, descargar listado, paginado y las acciones editar y eliminar. Al<br>eliminar la superficie se eliminarán también todos los puestos de trabajo de los<br>que forma parte. PESTAÑA PUESTOS DE TRABAJO"
          ],
          [
           "Estructura Organizativa",
           "El usuario desde esta pestaña puede visualizar el listado de los puestos de<br>trabajo junto a la ocupación y el agente material que se encuentran en el área<br>seleccionada. Cuenta con las siguientes opciones: buscador, filtrar, descargar<br>listado, paginado, botón “Nuevo” que redirige al formulario de creación y las<br>acciones editar y eliminar. Los campos del formulario marcados con * son de<br>carácter obligatorio y en caso de no completarlos no se permite crear/editar el<br>registro. Al editar la"
          ],
          [
           "Estructura Organizativa",
           "no se permite crear/editar el registro. Al editar la información de los puestos<br>de trabajo se visualiza la ficha de datos relativa al puesto de trabajo junto a<br>las pestañas “Trabajadores del puesto” y “Documentos”."
          ],
          [
           "Estructura Organizativa",
           "PESTAÑA DOCUMENTOS Al acceder a esta pestaña el usuario visualiza un listado de<br>documentos a nivel de área. Las acciones que se pueden realizar en esta pestaña<br>son las mismas indicadas en el apartado pestaña documentos de la empresa.<br>SUPERFICIE"
          ],
          [
           "Estructura Organizativa",
           "Al acceder al cardboard Superficie se mostrará un listado con las diferentes<br>superficies creadas cuya ubicación superior son las áreas de trabajo. Este<br>listado muestra por defecto las superficies con estado activo y cuenta con las<br>siguientes opciones: buscador, filtrar, descargar listado, paginado, el botón<br>“Nueva Superficie” que redirige al formulario de creación y las acciones: •<br>Editar: permite acceder a la ficha de datos de la superficie y editar la<br>información. • Eliminar: permite"
          ],
          [
           "Estructura Organizativa",
           "superficie y editar la información. • Eliminar: permite eliminar el registro<br>creado. Eliminar la superficie supone la eliminación de todos los puestos de<br>trabajo de los que forma parte. Los campos del formulario marcados con * son de<br>carácter obligatorio y en caso de no completarlos no se permite crear/editar el<br>registro. Al editar la información de la superficie se visualiza la ficha de la<br>superficie junto a las pestañas “Puestos de trabajo” y “Documentos”."
          ],
          [
           "Estructura Organizativa",
           "PESTAÑA PUESTOS DE TRABAJO El usuario desde esta pestaña puede visualizar el<br>listado de los puestos de trabajo que se encuentra en la superficie seleccionada<br>junto a la ocupación y el agente material. Cuenta"
          ],
          [
           "Estructura Organizativa",
           "72 con las siguientes opciones: buscador, filtrar, descargar listado, paginado,<br>el botón “Nuevo” que redirige al formulario de creación del puesto de trabajo y<br>las acciones editar y eliminar. Los campos del formulario marcados con * son de<br>carácter obligatorio y en caso de no completarlos no se permite crear/editar el<br>registro. En la ficha de datos del puesto de trabajo se visualizan las pestañas<br>“Trabajadores del puesto” y “Documentos”. PESTAÑA DOCUMENTOS"
          ],
          [
           "Estructura Organizativa",
           "PESTAÑA DOCUMENTOS Al acceder a esta pestaña el usuario visualiza un listado de<br>documentos a nivel de la superficie. Las acciones que se pueden realizar en esta<br>pestaña son las mismas indicadas en el apartado pestaña documentos de la<br>empresa. 11. UBICACIONES LIBRES OPERATIVAS"
          ],
          [
           "Estructura Organizativa",
           "11. UBICACIONES LIBRES OPERATIVAS El usuario accede al cardboard Ubicaciones<br>libres operativas que contiene los cardboards Actividad, Tarea y Subtarea. Las<br>ubicaciones libres operativas pretenden desglosar las acciones concretas que se<br>realizan en el desempeño de la ocupación."
          ],
          [
           "Estructura Organizativa",
           "La Home contiene las siguientes gráficas: • Centros de trabajo: contador con el<br>total de centros de trabajo registrados. • Puestos de trabajo: contador con el<br>total de puestos de trabajo registrados. • Trabajadores: contador con el total<br>de trabajadores registrados. • Distribución de trabajadores por género: gráfica<br>circular de datos de distribución por genero de los trabajadores de la ubicación<br>libre operativa: masculino/femenino. Al colocar el cursor sobre un segmento de<br>la gráfica,"
          ],
          [
           "Estructura Organizativa",
           "Al colocar el cursor sobre un segmento de la gráfica, se muestra el número de<br>trabajadores pertenecientes al segmento. Las gráficas se pueden descargar. •<br>Distribución de trabajadores por rango de edad: gráfica circular de datos que<br>muestra la distribución por rango de edad de los trabajadores de la ubicación<br>libre operativa distribuida en 5 rangos definidos. Al colocar el cursor sobre un<br>segmento de la gráfica, se muestra el número de trabajadores pertenecientes al<br>segmento. Las"
          ],
          [
           "Estructura Organizativa",
           "el número de trabajadores pertenecientes al segmento. Las gráficas se pueden<br>descargar. • Distribución de centros de trabajo: georreferenciador que muestra<br>la ubicación del centro de trabajo por medio de un mapa geolocalizador."
          ],
          [
           "Estructura Organizativa",
           "Al acceder al cardboard Actividad se muestra un listado con las diferentes<br>actividades registradas en la ubicación superior, las ocupaciones. Para acceder<br>a este cardboard es necesario un centro de trabajo en el contexto. Este listado<br>cuenta con las siguientes opciones: buscador, filtrar, descargar listado,<br>paginado, el botón “Nueva Actividad” que redirige al formulario de creación y<br>las acciones: • Editar: permite acceder a la ficha de datos de la actividad y<br>editar la información. •"
          ],
          [
           "Estructura Organizativa",
           "de datos de la actividad y editar la información. • Eliminar: permite eliminar<br>el registro de la actividad. Los campos del formulario marcados con * son de<br>carácter obligatorio y en caso de no completarlos no se permite crear/editar el<br>registro. Al editar la información de la actividad se visualiza la ficha de<br>datos junto a las pestañas “Tarea” y “Documentos”."
          ],
          [
           "Estructura Organizativa",
           "PESTAÑA TAREA El usuario desde esta pestaña puede visualizar el listado de las<br>tareas vinculadas a la actividad seleccionada. Este listado cuenta con las<br>siguientes opciones: buscador, filtrar, descargar listado, paginado y las<br>acciones editar y eliminar. Al acceder a esta pestaña el usuario visualiza un<br>listado de documentos a nivel de actividad. Las acciones que se pueden realizar<br>en esta pestaña son las mismas indicadas en el apartado pestaña documentos de la<br>empresa."
          ],
          [
           "Estructura Organizativa",
           "Al acceder al cardboard Tarea se muestra un listado con las diferentes tareas<br>para cada ubicación superior, la actividad. Para acceder a este cardboard es<br>necesario un centro de trabajo en el contexto. Este listado cuenta con las<br>siguientes opciones: buscador, filtrar, descargar listado, paginado, el botón<br>“Nueva Tarea” que redirige al formulario de creación y las acciones: • Editar:<br>permite acceder a la ficha de datos de la tarea y editar la información. •<br>Eliminar: permite eliminar"
          ],
          [
           "Estructura Organizativa",
           "y editar la información. • Eliminar: permite eliminar el registro. Los campos<br>del formulario marcados con * son de carácter obligatorio y en caso de no<br>completarlos no se permite crear/editar el registro. Al editar la información de<br>la tarea se visualiza la ficha de datos junto a las pestañas “Subtarea” y<br>“Documentos”."
          ],
          [
           "Estructura Organizativa",
           "PESTAÑA SUBTAREA El usuario desde esta pestaña puede visualizar el listado de<br>las subtareas vinculadas a la tarea seleccionada. Este listado cuenta con las<br>siguientes opciones: buscador, filtrar, descargar listado, paginado y las<br>acciones editar y eliminar. PESTAÑA DOCUMENTOS"
          ],
          [
           "Estructura Organizativa",
           "PESTAÑA DOCUMENTOS Al acceder a esta pestaña el usuario visualiza un listado de<br>documentos a nivel de tareas. Las acciones que se pueden realizar en esta<br>pestaña son las mismas indicadas en el apartado pestaña documentos de la<br>empresa."
          ],
          [
           "Estructura Organizativa",
           "Al acceder al cardboard Subtarea se muestra un listado con las diferentes<br>subtareas registradas para cada tarea. Para acceder a este cardboard es<br>necesario un centro de trabajo en el contexto. Este listado cuenta con las<br>siguientes opciones: buscador, filtrar, descargar listado, paginado, el botón<br>“Nueva Subtarea” que redirige al formulario de creación y las acciones editar y<br>eliminar. Los campos del formulario marcados con * son de carácter obligatorio y<br>en caso de no completarlos no se"
          ],
          [
           "Estructura Organizativa",
           "de carácter obligatorio y en caso de no completarlos no se permite crear/editar<br>el registro. Al editar la información de la subtarea se visualiza la ficha de<br>datos junto a la pestaña “Documentos”."
          ],
          [
           "Estructura Organizativa",
           "PESTAÑA DOCUMENTOS Al acceder a esta pestaña el usuario visualiza un listado de<br>documentos a nivel de subtareas. Las acciones que se pueden realizar en esta<br>pestaña son las mismas indicadas en el apartado pestaña documentos de la<br>empresa."
          ],
          [
           "Estructura Organizativa",
           "El usuario ingresa al cardboard Perfiles de empresa y se muestra una pantalla<br>con el listado de los trabajadores o usuarios registrados en la plataforma. Este<br>listado cuenta con las siguientes opciones: buscador, filtrar, descargar<br>listado, paginado y la acción editar. Desde la ficha de datos se puede cargar el<br>avatar, la firma y otros datos de interés."
          ],
          [
           "Estructura Organizativa",
           "El usuario al ingresar al cardboard Agentes Materiales visualiza el listado de<br>agentes materiales. Con empresa en contexto visualizará los agentes materiales<br>de la empresa, en cambio, con empresa y centro en contexto visualizará los<br>agentes materiales del centro de trabajo seleccionado. Los campos del formulario<br>marcados con * son de carácter obligatorio y en caso de no completarlos no se<br>permite crear/editar el registro. Este listado cuenta con las siguientes<br>opciones: buscador, filtrar,"
          ],
          [
           "Estructura Organizativa",
           "cuenta con las siguientes opciones: buscador, filtrar, descargar listado,<br>paginado, el botón “Carga masiva” que permite realizar carga masiva con<br>diferentes importadores en función del tipo de agente material y el botón<br>“Nuevo” que redirige al formulario de creación y las acciones: • Editar: Permite<br>acceder a la ficha del agente material y editar la información. Al editar la<br>información del agente material se visualiza la ficha de datos junto a la<br>pestaña “Adaptaciones”,"
          ],
          [
           "Estructura Organizativa",
           "la ficha de datos junto a la pestaña “Adaptaciones”, “Restricciones” y<br>“Documentos”. • Eliminar: Permite eliminar el registro. Si se elimina un agente<br>material, también se eliminan todas sus adaptaciones, así como finalizan todas<br>las relaciones de los trabajadores que estén usando el agente material,<br>disponiendo de una nueva relación sin este. En el caso de que existan<br>trabajadores relacionados con las ubicaciones a eliminar, se puede finalizar las<br>relaciones manteniéndolas en el"
          ],
          [
           "Estructura Organizativa",
           "se puede finalizar las relaciones manteniéndolas en el histórico o<br>eliminándolas de forma definitiva."
          ],
          [
           "Estructura Organizativa",
           "Al añadir un nuevo Agente Material, el formulario tiene variaciones dependiendo<br>del tipo de agente material seleccionado, a excepción del tipo de agente<br>“Otros”. Siendo así que al seleccionar: 1. Tipo de AM AGENTE EQUIPO/ MÁQUINA: se<br>añaden los apartados: • Datos técnicos con los campos: • Marca • Modelo • Número<br>de serie • Fecha de fabricación • Fecha de adquisición • Cuestionario técnico<br>con los campos: • ¿Dispone de marcado CE? • ¿Dispone de puesta en conformidad? •"
          ],
          [
           "Estructura Organizativa",
           "de marcado CE? • ¿Dispone de puesta en conformidad? • ¿Dispone de<br>adaptaciones/mejoras? • ¿Es propiedad de una empresa externa?"
          ],
          [
           "Estructura Organizativa",
           "86 • Empresa externa (En función de la respuesta de la pregunta anterior (SÍ))<br>• ¿Requiere de formación específica? • ¿Requiere de mantenimiento? 2. Tipo de AM<br>AGENTE QUÍMICO: se añade el campo: • Nombre agente químico – Número CAS: Muestra<br>el listado de agente químicos. Una vez seleccionado el agente, en el formulario<br>se despliega el apartado Datos de: [Nombre del agente químico seleccionado]<br>donde se muestra la ficha de seguridad del agente."
          ],
          [
           "Estructura Organizativa",
           "3. Tipo de AM AGENTE VEHÍCULO: se añaden los apartados: • Datos técnicos con<br>los campos: • Marca • Modelo • Número de serie • Fecha de fabricación • Fecha de<br>adquisición • Cuestionario técnico con los campos: • ¿Requiere de marcado CE? •<br>¿Dispone de marcado CE? • ¿Dispone de puesta en conformidad? • ¿Es propiedad de<br>una empresa externa? • Empresa externa • ¿Requiere de formación específica? •<br>¿Circula por la vía pública?"
          ],
          [
           "Estructura Organizativa",
           "88 • Matrícula • ¿Requiere de mantenimiento? Al acceder a esta pestaña el<br>usuario visualiza y puede registrar las adaptaciones que se han realizado sobre<br>el agente material. Este listado contiene las opciones de búsqueda, filtrado,<br>paginado, botón “Nuevo” que redirige al formulario de creación de la nueva<br>adaptación y las acciones editar y eliminar. Los campos del formulario marcados<br>con * son de carácter obligatorio y en caso de no completarlos no se permite<br>crear/editar el registro."
          ],
          [
           "Estructura Organizativa",
           "PESTAÑA RESTRICCIONES"
          ],
          [
           "Estructura Organizativa",
           "En esta pestaña el usuario puede definir si el agente material es apto para<br>personas con sensibilidades especiales y además se muestra un listado con las<br>restricciones del agente material que pueden afectar a la salud de los<br>trabajadores. En este listado se especifican las restricciones que tiene el<br>agente material y cuenta con las siguientes opciones: buscador, filtrar,<br>paginado, descargar listado, la acción eliminar y el botón “Añadir restricción”<br>que abre una ventana lateral con"
          ],
          [
           "Estructura Organizativa",
           "“Añadir restricción” que abre una ventana lateral con restricciones<br>predefinidas, sus factores, descripción y limitaciones."
          ],
          [
           "Estructura Organizativa",
           "PESTAÑA DOCUMENTOS Al acceder a esta pestaña el usuario visualiza un listado de<br>documentos disponibles a nivel de Agentes Materiales. Las acciones a realizar en<br>esta pestaña son las mismas indicadas en el apartado pestaña documentos de la<br>empresa."
          ]
         ],
         "hovertemplate": "<b>Manual:</b> %{customdata[0]}<br><b>Texto:</b> %{customdata[1]}<extra></extra>",
         "legendgroup": "Estructura Organizativa",
         "marker": {
          "color": "#00cc96",
          "symbol": "circle"
         },
         "mode": "markers",
         "name": "Estructura Organizativa",
         "orientation": "v",
         "showlegend": true,
         "type": "scatter",
         "x": [
          6.353895,
          6.1395946,
          4.337911,
          4.565416,
          8.085057,
          9.848942,
          7.2081003,
          7.161963,
          -4.214672,
          1.5265825,
          -0.6491078,
          7.6789594,
          2.7007258,
          0.7337394,
          -3.5672963,
          -1.342901,
          -3.026925,
          8.05476,
          -4.5540257,
          -2.9397895,
          3.798302,
          -2.5737853,
          2.088701,
          -4.246802,
          -3.0445268,
          -3.0840423,
          -4.3879743,
          -2.6481917,
          -0.18696262,
          -2.1797836,
          1.9673408,
          -1.8138388,
          -1.311749,
          1.7239946,
          1.4951788,
          -0.88724405,
          -6.6877728,
          -6.5239825,
          -4.3174353,
          -3.6426082,
          -3.1194193,
          -0.27861765,
          0.2329419,
          6.1185393,
          -3.6521447,
          -4.2777925,
          -2.286313,
          -5.5216017,
          -5.1800504,
          -5.862119,
          -6.8073277,
          -4.684108,
          -2.8437703,
          0.4417974,
          -4.1056256,
          -6.907579,
          -4.981006,
          8.622608,
          6.9748373,
          3.833154,
          6.1522355,
          0.8228443,
          -4.2600174,
          0.30574706,
          -2.504338,
          -1.5251977,
          -6.0827975,
          -1.1868142,
          -2.5728552,
          -4.2175493,
          8.672076,
          -5.7736564,
          -4.354477,
          3.6799092,
          4.4763885,
          -4.3066025,
          -4.247772,
          5.520956,
          5.6898284,
          0.81371033,
          8.328913,
          -5.7812166,
          10.250452,
          -0.30822736,
          -4.209908,
          -2.1876676,
          7.260066,
          5.747898,
          1.794422,
          -4.360059,
          -5.286816,
          1.7444446,
          -1.7792305,
          0.072804056,
          -5.1140623,
          -6.6808033,
          -5.8752837,
          -5.563224,
          -2.6937628,
          -2.0835435,
          -4.778646,
          5.8715715,
          -6.4423566,
          -6.0698733,
          1.259404,
          -0.3920913,
          3.6936982,
          -0.85402584,
          1.4506872,
          5.0753484,
          2.115873,
          -4.8098836,
          -6.48127,
          -6.394442,
          -5.0770526,
          -8.016599,
          -4.303121,
          -6.814855,
          0.032170467,
          -7.2952685,
          -6.693926,
          -6.473599,
          -2.2377303,
          -4.7742047,
          -0.27233702,
          4.716058,
          4.5323563,
          8.929335,
          2.609971,
          7.9084816,
          -3.6995225,
          -2.1216974,
          -3.6774697,
          -2.9959574,
          -5.0980463
         ],
         "xaxis": "x",
         "y": [
          -0.169041,
          -0.49974376,
          -0.423361,
          -2.2733932,
          5.2710547,
          0.29508448,
          -0.21527004,
          6.842687,
          1.5857465,
          -1.7467631,
          -0.3996905,
          -3.182987,
          -0.36350286,
          -0.48880988,
          3.361661,
          -3.9406674,
          -0.34073102,
          -0.8362277,
          -2.5285425,
          -1.5723363,
          6.1022186,
          -0.12667406,
          -4.145265,
          2.2196226,
          -3.4515357,
          -3.5388649,
          4.8295975,
          3.0978298,
          -2.623415,
          0.31777132,
          -5.05335,
          -2.9094517,
          -1.193658,
          0.32544345,
          2.5304792,
          -5.88761,
          -0.26066107,
          -0.7059231,
          -1.8635322,
          -0.4378327,
          0.3018306,
          -3.0764868,
          -3.0469177,
          3.29962,
          -4.6563764,
          0.06274811,
          -0.6441284,
          -2.5416987,
          0.07146627,
          0.6585029,
          0.7262009,
          0.994925,
          0.71934605,
          -3.5089343,
          -4.0182047,
          0.9480073,
          -0.8044893,
          -1.8400518,
          0.6563998,
          -2.0278018,
          -2.8438385,
          -4.1792555,
          0.48343474,
          3.4451997,
          -1.5681095,
          -2.1511192,
          2.4510374,
          -3.2846773,
          -0.7765949,
          3.0282235,
          1.2019974,
          -1.8816684,
          1.8168489,
          -0.13504036,
          -2.1455808,
          -3.0806377,
          -0.11437986,
          -2.679566,
          -4.1526847,
          0.98616874,
          4.052614,
          0.19373912,
          4.1517797,
          -4.2034388,
          4.9368057,
          0.6493119,
          -3.9179056,
          -2.2598572,
          -1.1821536,
          -4.42998,
          -2.4054992,
          0.03161351,
          -4.881921,
          -4.778392,
          0.281802,
          0.47576666,
          -1.5579493,
          -0.29560325,
          -4.610295,
          -4.2069473,
          0.786037,
          -3.2250595,
          -1.6514783,
          0.45393023,
          -4.1219254,
          -5.675539,
          -2.4812434,
          2.4311836,
          -2.1979594,
          -3.5010688,
          -0.52601415,
          -2.2662182,
          0.35486594,
          -1.9617416,
          -1.725061,
          1.0853552,
          -4.9667463,
          0.10913368,
          -2.062522,
          1.9412715,
          0.16561091,
          -0.5543842,
          -3.1953592,
          -0.6488609,
          -1.9837208,
          6.5175366,
          -0.72260004,
          1.1284616,
          -0.29059485,
          0.3212143,
          -0.39063573,
          -0.23608084,
          -3.2028627,
          2.9893446,
          0.0887425
         ],
         "yaxis": "y"
        },
        {
         "customdata": [
          [
           "Riesgos",
           "DATOS DEL DOCUMENTO HISTÓRICO DE CAMBIOS Documento Manual de uso del módulo IER<br>PYMES. Descripción Documento guía del uso del módulo IER, modelo PYMES. Versión<br>1.2 Fecha modificación 06/02/2023 Actualizado por Víctor Andrade Peláez Aprobado<br>por Versión Fecha Comentarios Autor Versión 1.0 15/06/2022 Actualización Miguel<br>Ángel Moreno Versión 1.1 28/10/2022 Actualización Mercedes León Versión 1.1<br>06/02/2023 Actualización Víctor Andrade CONTENIDO"
          ],
          [
           "Riesgos",
           "Sabentis es la nueva plataforma de gestión especializada en el ámbito de<br>seguridad y salud en el trabajo, adaptada a las nuevas tecnologías y a los<br>nuevos modelos de gestión de la prevención de riesgos. A través del módulo<br>Identificación y Evaluación de Riesgos IER, se permite a la empresa establecer<br>un procedimiento lógico de valoración de riesgos implícitos en los procesos,<br>además de permitir fijar estrategias de gestión administrativas y/u operativas<br>que permitan controlar, reducir o"
          ],
          [
           "Riesgos",
           "y/u operativas que permitan controlar, reducir o eliminar estos riesgos."
          ],
          [
           "Riesgos",
           "2. IDENTIFICACIÓN Y EVALUACIÓN DE RIESGOS (IER)"
          ],
          [
           "Riesgos",
           "La identificación y evaluación de riesgos es el proceso técnico inicial en<br>materia de seguridad y salud en el trabajo, sobre el que se basa la gestión<br>preventiva de una empresa. Esta actividad tiene por objetivo analizar tanto los<br>elementos que componen el espacio físico, como las actividades que se<br>desarrollan sobre el mismo de modo que se pueda estimar o valorar el daño que<br>pueden producir un conjunto de factores en un tiempo determinado y, finalmente,<br>determinar las medidas de acción"
          ],
          [
           "Riesgos",
           "y, finalmente, determinar las medidas de acción concretas para prevenir la<br>ocurrencia de accidentes de trabajo y/o enfermedades profesionales."
          ],
          [
           "Riesgos",
           "El usuario puede acceder al módulo de identificación y evaluación de riesgos<br>(IER) con empresa seleccionada en contexto, desde: • La entrada de menú lateral<br>de la plataforma. • Desde el cardboard “Identificación y Evaluación de Riesgos”.<br>Al clicar ya sea en el menú lateral o desde el cardboard, el usuario es<br>redirigido a la Home del módulo, donde visualizan los siguientes cardboards:"
          ],
          [
           "Riesgos",
           "El usuario ingresa al cardboard “Evaluaciones” y visualiza un listado de las<br>evaluaciones que se han realizado en la empresa. Estas pueden estar en estado<br>abierta o cerrada. Los campos del formulario marcados con * son de carácter<br>obligatorio. En caso de que no se completen no se permite crear/guardar el<br>registro de evaluación. Este listado cuenta con las opciones: buscador, añadir<br>filtros, descargar listado, paginado, botón “Nueva evaluación” que redirige al<br>formulario de creación de"
          ],
          [
           "Riesgos",
           "evaluación” que redirige al formulario de creación de evaluaciones, y las<br>acciones:"
          ],
          [
           "Riesgos",
           "GRÁFICA DESCRIPCIÓN Riesgos evaluados vs riesgos no evaluados Gráfica de datos<br>circular que muestra el número de riesgos evaluados, frente a los riesgos que no<br>han sido evaluados todavía. La gráfica se puede descargar. Riesgos evaluados por<br>nivel de riesgo inicial Gráfica de datos circular que muestra el número de<br>riesgos por nivel (Trivial, Tolerable, Moderado, Importante e Intolerable). La<br>gráfica se puede descargar. Riesgos evaluados por nivel de riesgo residual<br>Gráfica de"
          ],
          [
           "Riesgos",
           "Riesgos evaluados por nivel de riesgo residual Gráfica de datos circular que<br>muestra el número de riesgos por nivel del riesgo residual, tras la reevaluación<br>(Trivial, Tolerable, Moderado, Importante e Intolerable). La gráfica se puede<br>descargar. Medidas por tipo de medida Gráfica de datos circular que determina el<br>número de medidas por jerarquía de control. La gráfica se puede descargar.<br>Medidas por estado Gráfica de datos circular que determina el número de medidas<br>por estado de"
          ],
          [
           "Riesgos",
           "circular que determina el número de medidas por estado de gestión. La gráfica<br>se puede descargar. Vencimiento de medidas Gráfica de líneas con vencimiento de<br>fechas de medidas por 6 meses, un área para cada tipo de vencimiento,<br>(validación, implementación, verificación). La gráfica se puede descargar."
          ],
          [
           "Riesgos",
           "7 • Datos de la evaluación: Redirige a la ficha de la evaluación. • Ir a la<br>evaluación: Redirige a la pestaña “Evaluación por ubicaciones”. • Ir a medidas<br>de control: Redirige a la pestaña “Medidas preventivas/correctivas”. • Eliminar<br>evaluación: Permite eliminar el registro."
          ],
          [
           "Riesgos",
           "En la pestaña Datos de la evaluación se habilita el botón “Cerrar evaluación”<br>siempre que se haya realizado la evaluación. Una vez creado el registro de la<br>evaluación, se habilitan las pestañas: • Evaluación por ubicaciones • Medidas<br>preventivas/correctivas • Documentos Nota: Cuando se cierra la evaluación solo<br>se puede acceder a visualizar la información, ya no se puede gestionar la<br>información de ésta. EVALUACIONES POR UBICACIONES"
          ],
          [
           "Riesgos",
           "EVALUACIONES POR UBICACIONES Al acceder a esta pestaña el usuario visualiza<br>como subpestañas todas las ubicaciones de la estructura organizativa que<br>seleccionó al crear el registro de evaluación. En el caso que la ubicación<br>seleccionada sea “Empresa” se muestra automáticamente un listado con todos los<br>riesgos predefinidos en la plataforma."
          ],
          [
           "Riesgos",
           "Para el caso en que la ubicación seleccionada sea Centro de trabajo o las demás<br>ubicaciones (Lugares de Trabajo, Ocupaciones, Puestos de Trabajo, Agentes<br>Materiales, Actividades, etc), se muestra el ícono (+). Al clicar a esta opción<br>se despliega una pantalla lateral con el listado de centros o ubicaciones<br>seleccionado."
          ],
          [
           "Riesgos",
           "Una vez seleccionada la ubicación desde el listado, el usuario puede: •<br>Realizar búsquedas, añadir/quitar columnas, aplicar filtros a las columnas del<br>listado siempre que no sean autocalculadas, descargar listado. • Acciones:<br>Identificar y Evaluar. • Cambiar la ubicación a evaluar. 11 • Aplicar filtros<br>por categoría del riesgo: “Accidentes de Trabajo AT.” o “Enfermedades<br>Profesionales EE.PP.” • Aplicar filtro por Estado del riesgo: Identificado o<br>Descartado."
          ],
          [
           "Riesgos",
           "En la columna acciones se puede Identificar y Evaluar el riesgo. Inicialmente<br>los riesgos se muestran en estado “Descartado”. Un riesgo se puede evaluar sin<br>previamente haberlo identificado pero al finalizar la evaluación se mostrará<br>como “Identificado”. Cuando se ha identificado el riesgo, se muestra en Estado<br>“Identificado”, y cuando se ha evaluado se muestra la acción “Medidas” que<br>permite añadir medidas."
          ],
          [
           "Riesgos",
           "Al clicar a la opción “Evaluar”, se despliega una pantalla lateral con el<br>formulario de evaluación del riesgo. Los campos del formulario marcados con *<br>son de carácter obligatorio. En este caso, conforme se completan, se van<br>mostrando los demás campos de la evaluación que determinan el nivel del riesgo.<br>2. Seleccionar un valor en el campo “Consecuencia”. Finalmente se muestra el<br>valor del “Nivel del Riesgo”. Al guardar el formulario estos datos se reflejarán<br>en el listado."
          ],
          [
           "Riesgos",
           "RIESGO RESIDUAL: El apartado de riesgo residual se mostrará en el formulario de<br>evaluación una vez se ha evaluado el riesgo. Da la opción de volver a evaluar un<br>riesgo cuando ya se han implementado las medidas preventivas/correctivas."
          ],
          [
           "Riesgos",
           "Al clicar al botón “Medidas” se redirige a una ventana lateral que muestra un<br>listado de medidas preventivas/correctivas. Desde este listado el usuario podrá:<br>• Añadir medidas manualmente desde el botón “Añadir medidas”. • Añadir medidas<br>predefinidas en la plataforma a través del botón “Añadir desde biblioteca”. •<br>Editar: Lleva al usuario al formulario de la medida en la pestaña Medidas<br>preventivas/correctivas. Los campos del formulario marcados con * son de<br>carácter obligatorio, en"
          ],
          [
           "Riesgos",
           "formulario marcados con * son de carácter obligatorio, en caso de no<br>completarlos no se permite añadir la medida. • Eliminar: Permite eliminar la<br>medida independiente de que se haya añadido manualmente o desde la biblioteca,<br>siempre que no esté en estado “Cerrada”."
          ],
          [
           "Riesgos",
           "Duplicar: Al hacer clic en esta opción, se abre una ventana lateral que muestra<br>la opción de duplicar el riesgo en cuestión. Esta acción permite al usuario<br>valorar el mismo riesgo varias veces para la misma ubicación. Al añadir un<br>duplicado este se añadirá automáticamente al listado dentro del cual el usuario<br>podrá evaluarlo y guardarlo. 20 MEDIDAS PREVENTIVAS Y CORRECTIVAS"
          ],
          [
           "Riesgos",
           "20 MEDIDAS PREVENTIVAS Y CORRECTIVAS El usuario accede a esta pestaña de las<br>siguientes formas: • Clicando al botón “Ir al Formulario Completo” ubicado en el<br>parte inferior del formulario resumen de medidas, el usuario es redirigido al<br>formulario completo de la medida."
          ],
          [
           "Riesgos",
           "• A través del formulario, el usuario podrá añadir documentos relacionados con<br>las medidas preventivas/correctoras que se quieran planificar. Todos los<br>documentos aportados en este apartado se añaden automáticamente al repositorio<br>documental de la empresa. • Accediendo directamente a la pestaña donde el<br>usuario visualiza el listado de medidas establecidas de acuerdo con los<br>resultados de la evaluación de riesgos de las diferentes ubicaciones."
          ],
          [
           "Riesgos",
           "22 Este listado cuenta con las opciones: Buscador, añadir filtros, descargar<br>listado, paginado, botón Volver, además permite filtrar por los estados de la<br>medida."
          ],
          [
           "Riesgos",
           "En este mismo formulario, es posible asociar Contingencias Profesionales<br>(Enfermedades Profesionales y Accidentes de Trabajo) a las diferentes Medidas<br>Preventivas/Correctivas. 1. Previamente se debe verificar que existan registros<br>de contingencias en el módulo de ausentismo. Estos registros aparecerán en la<br>pestaña de Contingencias Asociadas, en el módulo IER, y se podrán añadir a las<br>diferentes Medidas Preventivas/Correctoras existentes. DOCUMENTOS"
          ],
          [
           "Riesgos",
           "El usuario accede a la pestaña Documentos y visualiza el listado de informes<br>generados tales como: documento de la evaluación de riesgos o notificación de<br>riesgos a los trabajadores. Desde esta pantalla el usuario podrá generar n veces<br>el informe en sus diferentes formatos independiente que la evaluación haya sido<br>finalizada. A través del botón Generar informe, el cual redirige a una pantalla<br>donde el usuario, podrá escoger el tipo de informe que desea generar. Todos los<br>documentos"
          ],
          [
           "Riesgos",
           "el tipo de informe que desea generar. Todos los documentos generados en este<br>módulo se añaden automáticamente al repositorio documental de la empresa."
          ],
          [
           "Riesgos",
           "El usuario al acceder al cardboard “Riesgos por ubicación” visualiza el campo<br>“Tipo de ubicación” el cual despliega todas las ubicaciones de la estructura<br>organizativa. Una vez seleccionada el tipo de ubicación se muestra el campo<br>“Ubicación física”, al clicar a (+) se muestran en la pantalla lateral el<br>listado de ubicaciones."
          ],
          [
           "Riesgos",
           "Al seleccionar la ubicación física se listan los riesgos identificados en los<br>diferentes estudios realizados en la ubicación. Esta pantalla es informativa, no<br>se puede realizar ningún tipo de gestión. El usuario solo podrá visualizar los<br>riesgos presentes en la ubicación seleccionada. 28 En el caso de seleccionar la<br>ubicación “Empresa”, no se desplegará ninguna pestaña lateral, sino que se<br>mostrarán automáticamente los riesgos identificados y evaluados para la empresa."
          ],
          [
           "Riesgos",
           "El usuario al acceder al cardboard “Riesgos por trabajador”, visualiza el campo<br>“Trabajador”, el cual lista todos los trabajadores de la empresa. Al seleccionar<br>el trabajador se enlistan los riesgos identificados en las diferentes<br>evaluaciones realizados en las ubicaciones con las que el trabajador tiene<br>relación."
          ],
          [
           "Riesgos",
           "Esta pantalla es informativa, no se puede realizar ningún tipo de gestión. El<br>usuario solo podrá visualizar los riesgos presentes en las ubicaciones con las<br>que el trabajador seleccionado tenga relación."
          ],
          [
           "Riesgos",
           "El concepto de las herencias de los riesgos hace referencia a los riesgos a los<br>que un trabajador está expuesto con motivo de las relaciones que tiene con las<br>distintas ubicaciones de la empresa (ya sean ubicaciones físicas u operativas).<br>Las herencias funcionan de manera distinta dependiendo de si provienen de<br>ubicaciones físicas u operativas. En el primer caso, las herencias siguen una<br>dirección de “arriba a abajo”. Es decir, de los niveles más altos de la<br>estructura organizativa"
          ],
          [
           "Riesgos",
           "de los niveles más altos de la estructura organizativa hasta los niveles más<br>bajos. Por el contrario, en el caso de las ubicaciones operativas, se<br>consideran. Por ejemplo, al trabajador de una empresa le afectan los riesgos<br>evaluados en: Estructura física: • Los riesgos evaluados en la empresa a la que<br>pertenece. • Los riesgos evaluados en el centro al que pertenece. • Los riesgos<br>evaluados en el lugar de trabajo si tiene una relación con un puesto cuya<br>ubicación física sea un"
          ],
          [
           "Riesgos",
           "una relación con un puesto cuya ubicación física sea un lugar de trabajo. • Los<br>riesgos evaluados en el puesto de trabajo al que está relacionado."
          ],
          [
           "Riesgos",
           "31 Estructura operativa: • Los riesgos evaluados en la ocupación del puesto al<br>que está relacionado. • Los riesgos evaluados en las actividades de la ocupación<br>del puesto al que está relacionado. • Los riesgos evaluados en las tareas de la<br>actividad del punto anterior. • Los riesgos evaluados en las subtareas de la<br>tarea del punto anterior."
          ],
          [
           "Riesgos",
           "Las herencias se pueden visualizar en los listados de riesgos de la vista<br>trabajador, en “Riesgos por persona” y en “Riesgos por ubicación”."
          ],
          [
           "Riesgos",
           "El usuario accede al cardboard “Configuración”, desde el cual podrá realizar la<br>configuración de la metodología de evaluación de riesgos que va a utilizar en su<br>empresa. Una vez seleccionada la metodología, esta se aplicará a todas las<br>ubicaciones de la estructura organizativa. El usuario debe cerciorar que la<br>metodología seleccionada es correcta ya que, una vez existan registros de<br>evaluaciones, no se podrá cambiar. Una vez guardada la configuración, se debe<br>tener en consideración el"
          ],
          [
           "Riesgos",
           "la configuración, se debe tener en consideración el comportamiento de los<br>campos en el formulario de “Evaluación”: • Metodología de la evaluación: Permite<br>elegir la metodología que se aplicará en las evaluaciones de los riesgos<br>identificados. • Vigencia de evaluación: La información definida en este campo<br>establecerá automáticamente el periodo de vigencia de las evaluaciones de riesgo<br>a partir de la fecha en la que se registran en la plataforma. • Responsable:<br>Permite elegir el"
          ],
          [
           "Riesgos",
           "en la plataforma. • Responsable: Permite elegir el personal responsable del<br>correcto desarrollo de las evaluaciones de riesgos. • Evidencia de<br>Implementación de Medidas: Si se selecciona la opción “Obligatorias” no se podrá<br>cambiar el estado de una Medida Preventiva/Correctora a Implementada, a no ser<br>que exista, como mínimo, un archivo cargado. En caso de seleccionar la opción<br>“Opcional”, se podrá cambiar el estado de cualquier medida sin archivos<br>asociados a la misma."
          ]
         ],
         "hovertemplate": "<b>Manual:</b> %{customdata[0]}<br><b>Texto:</b> %{customdata[1]}<extra></extra>",
         "legendgroup": "Riesgos",
         "marker": {
          "color": "#ab63fa",
          "symbol": "circle"
         },
         "mode": "markers",
         "name": "Riesgos",
         "orientation": "v",
         "showlegend": true,
         "type": "scatter",
         "x": [
          6.389743,
          9.177078,
          7.215969,
          9.55156,
          10.119227,
          8.682321,
          -2.562255,
          0.09663532,
          1.2333287,
          7.241732,
          7.988016,
          3.7547874,
          -5.0295553,
          1.4924228,
          -5.377713,
          -4.848614,
          -0.4186208,
          -5.0939045,
          -2.4337282,
          1.0153557,
          -1.1037171,
          -3.818552,
          7.9643006,
          -3.3633869,
          -3.221217,
          -2.959931,
          5.784675,
          0.47047415,
          -2.9093292,
          -5.9387383,
          -4.2611623,
          -1.5742021,
          1.2436222,
          7.1420174,
          9.862343,
          9.136182,
          6.3132687,
          3.5787013,
          0.7393744,
          3.533582,
          -1.6471267
         ],
         "xaxis": "x",
         "y": [
          -0.9488879,
          -2.1781702,
          7.3810186,
          5.859409,
          -2.282784,
          6.2807584,
          -0.9691336,
          -3.441327,
          0.16292642,
          -2.178439,
          -2.704358,
          -0.1309375,
          0.74851584,
          -0.80753636,
          1.8064727,
          -1.0824413,
          1.1310416,
          3.3612633,
          1.5750773,
          4.173795,
          -3.2357128,
          1.6609609,
          -0.76017606,
          1.7963598,
          2.0614336,
          3.824644,
          -2.1165798,
          -3.1542318,
          2.5200508,
          0.1865903,
          1.3444589,
          1.310187,
          3.8409882,
          -0.25259763,
          -1.66542,
          4.540637,
          4.0835185,
          5.149594,
          -2.3525672,
          -2.6565108,
          2.825283
         ],
         "yaxis": "y"
        },
        {
         "customdata": [
          [
           "Información",
           "DATOS DEL DOCUMENTO HISTÓRICO DE CAMBIOS CONTENIDO Sabentis es la nueva<br>plataforma de gestión especializada en el ámbito de Seguridad y Salud en el<br>Trabajo adaptada a las nuevas tecnologías y a los nuevos modelos de gestión de<br>la prevención. La plataforma dispone del módulo Información documentada en el<br>cual se almacenarán todos los documentos cargados y generados por la empresa en<br>los diferentes módulos de la plataforma. 2. SABENTIS: INFORMACIÓN DOCUMENTADA"
          ],
          [
           "Información",
           "2. SABENTIS: INFORMACIÓN DOCUMENTADA El usuario puede acceder al módulo<br>“Información Documentada”, desde: • La entrada del menú lateral de la<br>plataforma. • Desde el cardboard “Información documentada” del panel principal.<br>5 Al clicar ya sea en el menú lateral o desde el cardboard, el usuario es<br>redirigido a la home del módulo, donde visualiza los cardboards “Gestión de<br>plantillas de documentos“ y “Repositorio documental de la empresa”. 3.<br>REPOSITORIO DOCUMENTAL DE LA EMPRESA"
          ],
          [
           "Información",
           "El usuario accede al cardboard “Repositorio documental” y visualiza un listado<br>que contiene todos los archivos generados por parte de la empresa en los<br>diferentes módulos de la plataforma, por ejemplo: • Estructura organizativa: Se<br>visualizan todos los archivos añadidos en la pestaña “Documentos” de las<br>diferentes ubicaciones del módulo. • Identificación de peligros y evaluación de<br>riesgos: Se visualiza el Informe de evaluación de riesgos. • Auditorías: Se<br>visualiza el informe de"
          ],
          [
           "Información",
           "de riesgos. • Auditorías: Se visualiza el informe de auditoría. • Planes de<br>emergencia: Se visualiza el informe de planes de emergencia. • Políticas de<br>seguridad y salud en el trabajo. • Equipos de protección personal: Se visualiza<br>el Informe de EPP. • Inspecciones de seguridad: Se visualiza el informe de<br>inspección de los diferentes tipos de inspecciones definidas en la plataforma."
          ],
          [
           "Información",
           "6 • Ausentismo: Se visualizan todos los archivos añadidos en la pestaña<br>“Documentación” de los diferentes componentes del módulo. • Formaciones: Se<br>mostrarán todos archivos que se adjunten al momento de crear el curso."
          ],
          [
           "Información",
           "Independientemente del usuario que lo haya creado en este listado se muestran<br>todos los archivos de la empresa tanto vigente como expirados, el listado cuenta<br>con las opciones: buscador, añadir filtros, paginado y las acciones: •<br>Descargar: Permite descargar el archivo. • Editar: Permite acceder al formulario<br>de cargar archivos para editar y/o completar los datos. • Eliminar: Solo el<br>usuario logado podrá eliminar documentos. En los documentos generados por otro<br>usuario no se muestra"
          ],
          [
           "Información",
           "En los documentos generados por otro usuario no se muestra el ícono eliminar."
          ],
          [
           "Información",
           "En el listado de documentos se muestra la columna “Tags” (palabra clave<br>asignada a un dato almacenado en un repositorio), en la cual se pueden añadir<br>diferentes etiquetas para identificar los documentos. En el caso de los<br>documentos generados en el módulo Estructura organizativa, por defecto, se<br>muestran los siguientes tags: • Documentos de Empresa: Empresa. • Documentos de<br>Centros de trabajo: Centro de trabajo, [Nombre del centro] • Documentos de<br>trabajadores: [Nombre del trabajador],"
          ],
          [
           "Información",
           "• Documentos de trabajadores: [Nombre del trabajador], Trabajador • Documentos<br>de Lugares: [Nombre del centro], [Nombre del lugar], Área de trabajo. •<br>Documentos de Procesos: [Nombre del proceso], Ocupación."
          ],
          [
           "Información",
           "Asimismo para las diferentes funcionalidades se tendrá lo siguiente: • Ficheros<br>cargados en las preguntas de Audit/Inspecciones: El tag mostrado será la<br>pregunta desde donde se cargan los ficheros. • Ficheros que se cargan desde la<br>home principal: El tag mostrado será la pregunta desde donde se cargan los<br>ficheros. • Ficheros que se suben en medidas: El tag mostrado será “Medida de<br>control”."
          ],
          [
           "Información",
           "Los documentos tipo informes (Informe plan de emergencia, informe de<br>inspecciones, etc) generados en la plataforma tendrán predeterminado el Origen<br>como Internos, además no mostrarán información en la columna fecha de vigencia,<br>este campo se podrá completar al acceder a través de la acción Editar. Para el<br>caso en que la empresa no haya completado el plan de prevención, en la opción<br>“Mi panel principal” se enlistarán los ítems del cuestionario donde se podrán<br>añadir documentos. Al clicar a"
          ],
          [
           "Información",
           "donde se podrán añadir documentos. Al clicar a la opción editar se muestra el<br>formulario de carga de documentos."
          ],
          [
           "Información",
           "4. GESTIÓN DE PLANTILLAS DE DOCUMENTOS"
          ],
          [
           "Información",
           "El usuario accede al cardboard “Gestión de plantillas de documentos” y<br>visualiza un listado de plantillas que las empresas tendrán a disposición. Para<br>acceder al cardboard no es necesario tener empresa en contexto. Este listado<br>cuenta con las opciones de búsqueda, añadir filtros, añadir/quitar columnas,<br>paginado, botón de exportación, botón “Añadir plantilla” que redirige al<br>formulario de carga de plantillas, y las acciones: • Editar: Redirige a la ficha<br>donde se puede editar la"
          ],
          [
           "Información",
           "• Editar: Redirige a la ficha donde se puede editar la configuración de la<br>plantilla. • Descargar: Permite descargar la plantilla desde el listado. •<br>Eliminar: Permite eliminar los registros existentes desde el listado de<br>plantillas."
          ],
          [
           "Información",
           "Para añadir una nueva plantilla a la plataforma, el usuario ha de completar la<br>información de la plantilla y configurar la ubicación, para que las empresas<br>puedan acceder a ella. Los campos marcados con * son obligatorios. Una vez<br>completados los datos con la información solicitada el usuario ha de habilitar<br>la plantilla para que se pueda utilizar."
          ]
         ],
         "hovertemplate": "<b>Manual:</b> %{customdata[0]}<br><b>Texto:</b> %{customdata[1]}<extra></extra>",
         "legendgroup": "Información",
         "marker": {
          "color": "#FFA15A",
          "symbol": "circle"
         },
         "mode": "markers",
         "name": "Información",
         "orientation": "v",
         "showlegend": true,
         "type": "scatter",
         "x": [
          4.112752,
          -0.15759917,
          0.40587905,
          4.442431,
          -3.885934,
          -3.1953323,
          -5.8153424,
          -0.53113747,
          7.427804,
          -3.1622188,
          -3.6808941,
          -5.3155065,
          6.930959,
          -3.1541598,
          -7.2592254,
          -7.776142
         ],
         "xaxis": "x",
         "y": [
          -2.2807448,
          -1.0236342,
          -2.402508,
          1.9481801,
          2.3496096,
          -2.090059,
          5.5515018,
          -2.3088448,
          -0.36767414,
          1.6703755,
          -2.3662543,
          0.21639763,
          2.4678664,
          -4.048377,
          2.0562255,
          0.8758553
         ],
         "yaxis": "y"
        },
        {
         "customdata": [
          [
           "Emergencia",
           "Versión Fecha Comentarios Autor Preliminar 0.1 20/10/2020 Redacción Jacobo<br>Jaime Versión 1.0 14/12/2021 Actualización Mercedes León Versión 1.1 19/09/2022<br>Actualización Núria Zaragoza Trabal Versión 2.0 17/10/2022 Actualización<br>Mercedes León Chele Versión 2.0 06/02/2023 Actualización Víctor Andrade"
          ],
          [
           "Emergencia",
           "Sabentis es la nueva plataforma de gestión especializada en el ámbito de<br>Seguridad y Salud en el Trabajo adaptada a las nuevas tecnologías y a los nuevos<br>modelos de gestión de la prevención. La plataforma dispone de un módulo para<br>llevar a cabo la gestión de emergencias de los centros de trabajo,<br>confeccionando un plan de emergencia completo en el que se definen los equipos<br>de emergencias y se evalúan todas las posibles amenazas. Este módulo también<br>incluye la posibilidad de registrar y"
          ],
          [
           "Emergencia",
           "Este módulo también incluye la posibilidad de registrar y evaluar las<br>emergencias reales ocurridas y los simulacros efectuados."
          ],
          [
           "Emergencia",
           "¿QUÉ ES UN PLAN DE EMERGENCIA? La pestaña evaluación de aspectos legales<br>permite al usuario evaluar los cuestionarios aplicables a la evaluación.<br>Aparecerán aquellos cuestionarios que el usuario ha seleccionado."
          ],
          [
           "Emergencia",
           "Un Plan de Emergencia es un documento en el que se recoge la respuesta que debe<br>dar una organización y sus trabajadores ante situaciones de emergencia, así como<br>la confección de los equipos de respuesta e intervención, evaluación de las<br>amenazas potenciales y las medidas de protección que se deben llevar a cabo. El<br>Plan de Emergencias proporciona a los ocupantes de las instalaciones, las<br>herramientas necesarias para planear, organizar, dirigir y controlar un evento<br>súbito que pueda poner"
          ],
          [
           "Emergencia",
           "dirigir y controlar un evento súbito que pueda poner en peligro la estabilidad<br>de la organización desde el punto de vista humano, material o ambiental. Los<br>objetivos del Plan son: • Identificar las condiciones actuales de los recursos<br>existentes, necesarios para la respuesta inicial a una emergencia. • Analizar<br>las amenazas internas y externas, con el fin de determinar la vulnerabilidad<br>para afrontar una emergencia. • Establecer las medidas necesarias destinadas a<br>mejorar las"
          ],
          [
           "Emergencia",
           "Establecer las medidas necesarias destinadas a mejorar las condiciones y<br>reducir el nivel de vulnerabilidad. • Establecer procedimientos de reacción para<br>cada tipo de emergencia de las instalaciones actuales y reacción frente a las<br>principales amenazas identificadas."
          ],
          [
           "Emergencia",
           "5 • Establecer y mantener un esquema de organización interna, confeccionando<br>los equipos de respuesta e intervención frente a las emergencias. • Minimizar<br>las pérdidas materiales y ambientales derivadas de las diferentes situaciones de<br>emergencia que se puedan presentar. • Minimizar los riesgos que pueda<br>desencadenar una emergencia, mediante el control de estos. • Restablecer el<br>ritmo normal de trabajo a la mayor brevedad posible. ¿QUÉ ES UN SIMULACRO?"
          ],
          [
           "Emergencia",
           "Un simulacro es un ensayo o ejercicio de adiestramiento práctico del modo de<br>actuar en caso de emergencia, cuya realización nos permite comprobar de manera<br>real la adecuación de lo previsto en el Plan de emergencia de la organización<br>las necesidades existentes y sirve, en la mayoría de las ocasiones, para<br>identificar y llevar a cabo actividades de mejoras tanto en los procedimientos<br>establecidos como en los medios e instalaciones. Los simulacros de emergencia<br>son ejercicios prácticos que"
          ],
          [
           "Emergencia",
           "Los simulacros de emergencia son ejercicios prácticos que implican la<br>participación de todo el personal y en muchos casos también involucran medios<br>externos como pudieran ser los bomberos, protección civil, policía y personal<br>sanitario. La realización periódica de los simulacros, como mínimo una vez cada<br>año, pretende llevar a cabo la activación del plan de emergencia sin previo<br>aviso y en cualquier momento del día para comprobar el resultado de la<br>participación eficiente de todos los"
          ],
          [
           "Emergencia",
           "el resultado de la participación eficiente de todos los grupos y trabajadores<br>implicados, así como crear unos hábitos de respuesta organizada y operativa a<br>través del adiestramiento práctico. Los objetivos del simulacro son la<br>verificación y comprobación de: • La eficacia de la organización de respuesta<br>ante una emergencia. • La capacitación del personal de la organización. • El<br>entrenamiento de todo el personal en la respuesta frente a una emergencia. • La<br>suficiencia e idoneidad de"
          ],
          [
           "Emergencia",
           "frente a una emergencia. • La suficiencia e idoneidad de los medios y recursos<br>asignados."
          ],
          [
           "Emergencia",
           "6 2. SABENTIS: MÓDULO PLANES DE EMERGENCIA El usuario puede acceder al módulo<br>“Planes de emergencia”, desde: • La entrada del menú lateral de la plataforma. •<br>Desde el cardboard “Planes de emergencia”. 7 Se visualiza un dashboard que<br>contiene datos estadísticos, las gráficas muestran la siguiente información:"
          ],
          [
           "Emergencia",
           "Gráfica Descripción Número de centros con planes de emergencia vigente<br>Contador. Centros de trabajo con un plan de emergencia en estado “Vigente” sobre<br>el total de centros de la empresa. Peligros por nivel de riesgo Gráfica de<br>datos. Gráfica circular de datos de distribución de amenazas evaluadas en los<br>planes de emergencia vigentes por nivel de riesgo obtenido: No evaluado / Bajo /<br>Medio / Alto / Muy alto. Medidas por estado Gráfica de datos. Gráfica circular<br>de datos de"
          ],
          [
           "Emergencia",
           "por estado Gráfica de datos. Gráfica circular de datos de distribución de las<br>medidas correctivas definidas en los planes de emergencia vigentes por estado:<br>Pendiente de planificar / Pendiente de evidencia / Implementada."
          ],
          [
           "Emergencia",
           "El usuario accede al cardboard “Planes de emergencia” y visualiza un listado<br>que contiene todos los planes de emergencia de los centros de trabajo de la<br>empresa en estados Vigente, No vigente y En elaboración. Solo puede existir un<br>plan de emergencia en estado vigente por cada centro de trabajo. • En<br>elaboración: Estado inicial posterior al registro del Plan de emergencia. •<br>Vigente: Estado que indica que el plan ya se encuentra completado y en vigor en<br>el centro de trabajo. • No"
          ],
          [
           "Emergencia",
           "completado y en vigor en el centro de trabajo. • No vigente: Estado al que<br>pasan los planes de emergencia vigentes cuando un nuevo plan pasa a estar<br>vigente sustituyendo al actual."
          ],
          [
           "Emergencia",
           "Este listado cuenta con las opciones: buscador, añadir filtros, descargar<br>listado, paginado, botón Nuevo plan que redirige al formulario de creación del<br>plan de emergencia, y las acciones: • Editar: Permite acceder al registro. •<br>Eliminar: Elimina el registro del plan de emergencia, independientemente de su<br>estado. (Vigente/En elaboración/No vigente). 9 DATOS DEL PLAN DE EMERGENCIA"
          ],
          [
           "Emergencia",
           "El formulario de registro de Planes de emergencia se encuentra dividido en<br>varios apartados. • Apartado Información del plan de emergencias: Este primer<br>apartado del formulario contiene la información común a los planes de<br>emergencia. La información registrada en los campos fechas de inicio y fin de<br>vigencia no modifican el estado el plan de forma automática; el inicio y fin de<br>vigencia es una acción directa del usuario. • Apartado Información del centro de<br>trabajo: Contiene la"
          ],
          [
           "Emergencia",
           "• Apartado Información del centro de trabajo: Contiene la información relativa<br>al centro de trabajo sobre el que se está registrando el plan de emergencia. •<br>Apartado Ocupación: Contiene la información relativa a la ocupación de personas<br>en centro de trabajo sobre el que se está registrando el plan. • Apartado<br>Conectividad del centro de trabajo: Contiene la información relativa a la<br>conectividad de la que dispone el centro de trabajo para poder recibir y emitir<br>comunicaciones con el"
          ],
          [
           "Emergencia",
           "trabajo para poder recibir y emitir comunicaciones con el exterior en caso de<br>emergencia. Los campos del formulario marcados con * son de carácter<br>obligatorio, en caso de no completarlos no se permite crear/guardar el registro<br>del plan de emergencia."
          ],
          [
           "Emergencia",
           "Una vez creado el registro del plan de emergencia se habilitan las pestañas:<br>Datos del Plan, Medios de protección, Turnos y Equipos, Directorio externo,<br>Puntos de reunión, Evaluación de amenazas, Análisis de riesgo, Plan de acción y<br>Generar documentos. MEDIOS DE PROTECCIÓN"
          ],
          [
           "Emergencia",
           "El usuario accede a la pestaña medios de protección y visualiza el listado de<br>los recursos Vigentes/No vigentes de los que disponen los centros de trabajo<br>para responder ante situaciones de emergencia. Este listado cuenta con las<br>opciones: buscador, añadir filtros, descargar listado, paginado, botón Nuevo<br>medio que redirige al formulario de creación de medios de protección, y las<br>acciones: • Editar: redirige a la ficha del registro para editar los datos del<br>medio de protección. •"
          ],
          [
           "Emergencia",
           "registro para editar los datos del medio de protección. • Eliminar: permite<br>eliminar el registro independiente del estado del registro (Vigente/No vigente)."
          ],
          [
           "Emergencia",
           "El formulario de registro de Medios de protección se encuentra dividido en<br>varios apartados. • Apartado Datos generales: Este primer apartado del<br>formulario contiene la información para la identificación de los medios de<br>protección. • Apartado Información de la [categoría]: Este apartado del<br>formulario será variable en función del campo “Categoría” seleccionado<br>previamente (Instalación centralizada, instalación de emergencia, señalización,<br>sistema de detección automática, sistema de"
          ],
          [
           "Emergencia",
           "señalización, sistema de detección automática, sistema de extinción).<br>Adicional, dependiendo del tipo de instalación seleccionada, se habilitarán más<br>campos puesto que los campos que se muestran en este apartado son específicos<br>para cada uno de los tipos de sistema definidos. Por ejemplo, para el tipo de<br>sistema de extinción “Extintor portátil”, se muestran los campos: fabricantes,<br>importador o marca comercial, fecha de fabricación, tipo de extintor, clase de<br>fuego a la que está"
          ],
          [
           "Emergencia",
           "tipo de extintor, clase de fuego a la que está destinado, potencial de<br>extinción, etc. (Ver imagen) • Apartado Mantenimiento: Este apartado del<br>formulario permite introducir la información relativa a las revisiones de los<br>medios de protección. El estado del mantenimiento refiere al periodo definido<br>para las revisiones del medio de protección y pueden ser: o Vigente: cuando la<br>fecha de la próxima revisión es mayor que la fecha de última revisión. o No<br>Vigente: cuando la fecha de la"
          ],
          [
           "Emergencia",
           "de última revisión. o No Vigente: cuando la fecha de la próxima revisión es<br>menor o igual que la fecha de la última revisión."
          ],
          [
           "Emergencia",
           "12 Los campos del formulario marcados con * son de carácter obligatorio, en<br>caso de no completarlos no se permite crear/guardar el registro del recurso."
          ],
          [
           "Emergencia",
           "El usuario accede a la pestaña “Turnos y Equipos” y visualizará un listado con<br>los distintos turnos de trabajo que existen en el centro de trabajo. Además, se<br>pueden definir los equipos de respuesta e intervención para cada uno de los<br>turnos. El listado cuenta con las opciones: buscador, añadir filtros, descargar<br>listado, paginado, botón Añadir turno que redirige al formulario de creación de<br>turnos, y las acciones: • Equipos de respuesta e intervención: Redirige al<br>usuario al segundo paso"
          ],
          [
           "Emergencia",
           "e intervención: Redirige al usuario al segundo paso del asistente en el que<br>podrá visualizar y gestionar los equipos de respuesta e intervención para el<br>turno seleccionado. • Editar: Permite acceder al formulario de registro de los<br>turnos, este se despliega en una ventana lateral. • Eliminar: Borra el registro<br>del turno, así como todos los equipos de respuesta e intervención definidos para<br>dicho turno. Los campos del formulario marcados con * son de carácter<br>obligatorio, en caso de no"
          ],
          [
           "Emergencia",
           "marcados con * son de carácter obligatorio, en caso de no completarlos no se<br>permite crear/guardar el registro del turno."
          ],
          [
           "Emergencia",
           "El usuario accede al segundo paso del asistente “Equipos de respuesta e<br>intervención”, previamente se debe haber definido al menos un turno de trabajo<br>en el primer paso. Esta pantalla mostrará un listado con los equipos de<br>respuesta requeridos ya creados de forma automática (predefinidos de acuerdo con<br>la normativa) por lo que no será posible añadir nuevos equipos ni modificar su<br>nombre, pero sí la descripción de funciones de estos, de forma que el usuario<br>únicamente debe definir los"
          ],
          [
           "Emergencia",
           "estos, de forma que el usuario únicamente debe definir los miembros titulares<br>y/o suplentes que compondrán estos equipos. El listado cuenta con las opciones:<br>buscador, añadir filtros, descargar listado, paginado y la acción: • Editar:<br>Redirige a una ventana lateral desde la cual se puede añadir y/o desasociar los<br>miembros del equipo, además de seleccionar el tipo de miembro (titular o<br>suplente)."
          ],
          [
           "Emergencia",
           "DIRECTORIO EXTERNO El usuario accede a la pestaña “Directorio externo” y<br>visualiza en el listado el directorio de los servicios externos (por ejemplo:<br>entidades de socorro, plan de ayuda mutua o cadena de llamadas) con los que<br>puede contactar en caso de situaciones de emergencias. Este listado cuenta con<br>las opciones: buscador, añadir filtros, descargar listado, paginado, botón<br>Añadir"
          ],
          [
           "Emergencia",
           "16 que redirige al formulario de creación del servicio, botón Volver que<br>redirige al listado de planes de emergencias y las acciones editar y eliminar.<br>Los campos del formulario marcados con * son de carácter obligatorio, en caso de<br>no completarlos no se permite crear/guardar el registro del servicio."
          ],
          [
           "Emergencia",
           "El usuario accede a la pestaña “Puntos de reunión” y visualiza un listado de<br>los puntos de reunión e instalaciones de emergencia del plan, además visualiza<br>en el mapa la distribución de estas. Este listado cuenta con las opciones:<br>buscador, añadir filtros, descargar listado, paginado, botón Añadir que redirige<br>al formulario de creación de la instalación, botón Volver que redirige al<br>listado de planes de emergencias, las acciones editar y eliminar."
          ],
          [
           "Emergencia",
           "El usuario accede a la pestaña “Evaluación de amenazas” y visualiza el listado<br>de amenazas presentes en el centro de trabajo, inicialmente se muestran todas<br>las amenazas en estado “Descartada”. Desde esta pantalla se puede realizar la<br>identificación y evaluación para determinar el nivel del riesgo, así como<br>descartar las amenazas que no apliquen al centro de trabajo. Este listado cuenta<br>con las opciones: buscador, añadir filtros, paginado, botón Volver, las acciones<br>que dependerán del"
          ],
          [
           "Emergencia",
           "paginado, botón Volver, las acciones que dependerán del estado de la amenaza,<br>es decir: 1. Si el estado de la amenaza es “Descartado” se mostrarán las<br>acciones: • Identificar: Que cambia el estado de la amenaza a Identificado. •<br>Evaluar: Permite acceder al cuestionario de evaluación. 2. Si el estado de la<br>amenaza es “Identificado” se mostrarán las acciones: • Descartar: Que cambia el<br>estado de la amenaza a Descartado. En caso de tener una evaluación realizada<br>ésta se perderá. •"
          ],
          [
           "Emergencia",
           "de tener una evaluación realizada ésta se perderá. • Evaluar: Permite acceder<br>al cuestionario de evaluación."
          ],
          [
           "Emergencia",
           "19 Al clicar a la acción Evaluar del listado, el usuario es redirigido al<br>formulario de evaluación de la amenaza en el cual deberá completar los campos<br>obligatorios para poder guardar la evaluación. Este formulario permite realizar<br>guardados parciales en la evaluación, por lo que se muestra en una barra el<br>grado de avance en la evaluación de la amenaza. Solo cuando se ha completado la<br>evaluación se habilita el botón Finalizar el cual permite finalizar la<br>evaluación de la amenaza. Una"
          ],
          [
           "Emergencia",
           "el cual permite finalizar la evaluación de la amenaza. Una vez finalizada, el<br>formulario de evaluación solo se podrá editar los datos del primer apartado. El<br>cuestionario no permitirá editar las respuestas de la evaluación."
          ],
          [
           "Emergencia",
           "En el listado de amenazas se mostrará el botón “Iniciar vigencia” solo cuando<br>exista al menos una amenaza evaluada, o todas las amenazas identificadas hayan<br>sido evaluadas. Se habilitan las pestañas Análisis del riesgo y documentación.<br>Una vez iniciada la vigencia el estado del plan cambia a Vigente, adicional se<br>bloqueará la posibilidad de modificar las amenazas, es decir no se podrá<br>identificar y/o descartar amenazas, las evaluaciones realizadas quedarán no<br>editables."
          ],
          [
           "Emergencia",
           "El usuario accede a la pestaña “Análisis de riesgo” en la que se muestra una<br>tabla resumen de la evaluación de amenazas realizada, mostrando la puntuación<br>obtenida en cada aspecto y vulnerabilidad y el color del rombo asociado, así<br>como el resultado final del diamante y el nivel de riesgo obtenido para cada<br>amenaza. La pantalla no contiene acciones para el usuario, únicamente el botón<br>“Volver” que redirige al listado de planes de emergencia. Esta pestaña se<br>habilita cuando el usuario"
          ],
          [
           "Emergencia",
           "de emergencia. Esta pestaña se habilita cuando el usuario cambia de estado del<br>plan a Vigente."
          ],
          [
           "Emergencia",
           "El usuario accede a la pestaña “Plan de acción” y visualiza el listado de las<br>medidas de control que se deben llevar a cabo en el centro de trabajo para<br>mitigar o reducir el nivel de riesgo de las amenazas evaluadas. El estado de las<br>medidas generadas por el sistema dependerá de la respuesta al momento de<br>realizar la evaluación, siendo así: • Pendiente de planificar: las medidas se<br>generan en este estado si la respuesta es NO. • Pendiente de evidencia: las<br>medidas se generan en este"
          ],
          [
           "Emergencia",
           "• Pendiente de evidencia: las medidas se generan en este estado si la respuesta<br>es SÍ o NO APLICA. Este listado cuenta con las opciones: buscador, añadir<br>filtros, descargar listado, paginado, botón Añadir medida que redirige al<br>formulario de medidas, y las acciones: • Editar: Permite acceder al formulario<br>de la medida y realizar la gestión de esta. (Para mejor entendimiento ver manual<br>del flujo de gestión de medidas). • Eliminar: Permite eliminar una medida. Esta<br>acción sólo está"
          ],
          [
           "Emergencia",
           "Permite eliminar una medida. Esta acción sólo está disponible para las medidas<br>añadidas manualmente por el usuario, no para las propuestas por el sistema."
          ],
          [
           "Emergencia",
           "El usuario accede a la pestaña “Generar documentos” y visualiza el listado de<br>informes generados en formato PDF y Word, así como también se permite añadir<br>documentos. Este listado cuenta con las opciones: buscador, añadir filtros,<br>paginado, botón Generar informe que permite la generación y descarga del informe<br>en los formatos antes mencionados, y la acción eliminar. Se pueden generar n<br>veces el informe. El informe se puede descargar clicando en el nombre del<br>fichero."
          ],
          [
           "Emergencia",
           "El usuario accede al cardboard “Planificación” y visualiza el listado de todas<br>las medidas de control de los planes de emergencia vigentes en cada uno de los<br>centros de trabajo. Desde este listado el usuario solo podrá realizar la gestión<br>de las medidas, mas no podrá añadir ni eliminarlas. Este listado cuenta con las<br>opciones: buscador, añadir filtros, paginado y la acción editar que redirige al<br>usuario al formulario de la medida (Para mejor entendimiento ver manual del<br>flujo de gestión de"
          ],
          [
           "Emergencia",
           "mejor entendimiento ver manual del flujo de gestión de medidas)."
          ],
          [
           "Emergencia",
           "El usuario accede al cardboard “Simulacros y emergencias” y visualiza el<br>listado de simulacros y las situaciones reales de emergencia que se han<br>producido en la empresa en los diferentes estados: • Pendiente de evaluar:<br>Todavía no se ha completado la evaluación situada en la segunda pestaña del<br>registro. • Evaluado: La evaluación se encuentra realizada y las actividades<br>definidas. Este listado cuenta con las opciones: buscador, añadir filtros,<br>paginado, descargar listado, botón Nuevo"
          ],
          [
           "Emergencia",
           "añadir filtros, paginado, descargar listado, botón Nuevo registro que redirige<br>al formulario de creación, las acciones editar y eliminar."
          ],
          [
           "Emergencia",
           "Inicialmente en el formulario no se muestra el campo Amenaza, este se muestra<br>una vez que se haya completado el campo Centro de trabajo. Los campos del<br>formulario marcados con * son de carácter obligatorio. En caso de no<br>completarlos no se permite crear/guardar el registro del simulacro, simulación o<br>emergencia."
          ],
          [
           "Emergencia",
           "Una vez creado el registro se habilita la pestaña “Evaluación”, el usuario al<br>acceder a esta pestaña visualiza una serie de cuestionarios relativos al proceso<br>de comunicación, proceso de evacuación y respuesta de los trabajadores para<br>llevar a cabo la evaluación del simulacro o emergencia. En este formulario se<br>pueden guardar las respuestas de la evaluación y poder editar siempre que no se<br>haya finalizado. Al clicar a finalizar evaluación el cuestionario de la<br>evaluación se muestra como"
          ],
          [
           "Emergencia",
           "el cuestionario de la evaluación se muestra como no editable y se habilitan las<br>pestañas Actividades para la mejora y generar documentos."
          ],
          [
           "Emergencia",
           "El usuario accede a la pestaña Actividades para la mejora y visualiza el<br>listado de actividades para la mejora del proceso con base a la evaluación<br>realizada previamente. Los estados de las actividades son: • Pendiente de<br>realizar: Estado inicial en el que se crean las actividades. • Realizada: Estado<br>final de la actividad una vez se ha realizado."
          ],
          [
           "Emergencia",
           "Este listado cuenta con las opciones: buscador, añadir filtros, paginado,<br>descargar listado, botón Añadir actividad que redirige al formulario de<br>actividades, las acciones editar y eliminar. Los campos del formulario marcados<br>con * son de carácter obligatorio, en caso de no completarlos no se permite<br>crear/guardar el registro del simulacro, simulación o emergencia. Cuando se<br>marca el switch Realizada se habilitan los campos fecha de realización y<br>descripción de la evidencia de"
          ],
          [
           "Emergencia",
           "fecha de realización y descripción de la evidencia de cumplimiento."
          ],
          [
           "Emergencia",
           "GENERAR DOCUMENTOS El usuario accede a esta pestaña y visualiza el listado de<br>informes generados en formato pdf y Word. Este listado cuenta con las opciones:<br>buscador, añadir filtros, paginado, botón Generar informe que permite generar y<br>descargar el informe en los diferentes formatos antes mencionados, y la acción<br>eliminar. El informe se puede generar n veces. El informe se puede descargar<br>clicando en el nombre del fichero."
          ],
          [
           "Emergencia",
           "El usuario accede al cardboard “Gestión de botiquines” y visualiza un listado<br>que contiene el registro de los botiquines existentes en la empresa para poder<br>llevar a cabo su mantenimiento y gestión del contenido. Este listado cuenta con<br>las opciones: buscador, añadir filtros, descargar listado, paginado, botón<br>“Añadir” que redirige al formulario de creación de botiquines, y las acciones: •<br>Editar: Permite acceder al registro. • Eliminar: Elimina el registro del<br>botiquín,"
          ],
          [
           "Emergencia",
           "registro. • Eliminar: Elimina el registro del botiquín, independientemente de<br>su estado. El estado de los botiquines puede ser: • Vigente: El botiquín no<br>contiene ningún producto caducado. • Caducado: El botiquín contiene uno o más<br>productos caducados."
          ],
          [
           "Emergencia",
           "DATOS DEL BOTIQUÍN El usuario clica a “Añadir” y es redirigido al formulario<br>del botiquín donde debe completar los campos requeridos. Los campos que<br>contengan un * son un campo obligatorio y en caso de no completarlos no se<br>pueden crear/editar los registros."
          ],
          [
           "Emergencia",
           "Una vez se ha creado el botiquín, se habilita la pestaña “Contenido”, donde<br>aparece el listado de los productos que contiene el botiquín. Este listado<br>cuenta con las opciones: buscador, añadir filtros, descargar listado, paginado,<br>botón “Añadir producto” que redirige al formulario de creación de los productos,<br>y las acciones: • Editar: Permite acceder al registro del producto del botiquín.<br>• Eliminar: Elimina el producto del botiquín."
          ]
         ],
         "hovertemplate": "<b>Manual:</b> %{customdata[0]}<br><b>Texto:</b> %{customdata[1]}<extra></extra>",
         "legendgroup": "Emergencia",
         "marker": {
          "color": "#19d3f3",
          "symbol": "circle"
         },
         "mode": "markers",
         "name": "Emergencia",
         "orientation": "v",
         "showlegend": true,
         "type": "scatter",
         "x": [
          8.051167,
          7.488928,
          4.4149976,
          -0.53189427,
          8.656017,
          9.270519,
          7.530281,
          7.510583,
          9.101887,
          7.65972,
          9.331196,
          8.688217,
          -2.8916407,
          8.720648,
          6.903638,
          5.5515766,
          7.352777,
          2.5175009,
          5.45067,
          7.6750336,
          2.5765378,
          4.625404,
          -2.4285998,
          -3.3585398,
          4.011705,
          2.6844518,
          7.516256,
          7.7013955,
          -3.1895285,
          -2.9830406,
          -2.8399346,
          -1.1201397,
          -2.0332186,
          -4.634509,
          -4.7660956,
          -4.71976,
          -6.5685477,
          -0.4745028,
          1.5067874,
          2.9720411,
          1.993876,
          0.8438468,
          1.6744301,
          -2.261554,
          2.4063199,
          4.0353513,
          -2.2107003,
          -2.6768358,
          -6.888102,
          1.3439621,
          4.2430224,
          -1.614227,
          -6.221675,
          -3.2349994,
          -1.2412229,
          -2.879465,
          -3.1270235,
          3.232975,
          6.202208,
          -7.2172465,
          -4.3219323,
          1.7807163,
          -7.682168,
          -6.4005127
         ],
         "xaxis": "x",
         "y": [
          -0.843616,
          -2.9584215,
          7.478341,
          1.1909754,
          -0.6665524,
          -1.1050278,
          3.2303207,
          1.9995016,
          -1.3715836,
          -1.0314372,
          -2.3343825,
          5.012133,
          -0.4932126,
          -2.7455602,
          1.597841,
          0.23541532,
          4.4726987,
          -1.6952655,
          -2.8724551,
          -1.1114329,
          1.833849,
          -2.367106,
          -2.390998,
          3.127641,
          -3.3071647,
          -2.302487,
          -1.1667001,
          6.4128666,
          8.3998785,
          -2.2472413,
          -1.7788308,
          2.432522,
          -2.7692945,
          0.1327876,
          -3.2650023,
          1.6046507,
          -0.38341096,
          -3.6382296,
          0.5890353,
          1.5175525,
          -4.066138,
          3.1018443,
          4.140987,
          -1.8861436,
          3.7687097,
          0.49449813,
          -0.5773637,
          3.5462434,
          1.2308167,
          -3.668682,
          5.979236,
          -2.7944546,
          1.6339866,
          1.2018721,
          -2.7959316,
          4.6758304,
          1.2866253,
          -2.1762445,
          6.1269684,
          0.3101521,
          -1.6279569,
          3.9412649,
          2.7911248,
          -0.48116902
         ],
         "yaxis": "y"
        },
        {
         "customdata": [
          [
           "Q1",
           "¿Cómo se diferencia la ubicación física de la operativa?"
          ]
         ],
         "hovertemplate": "<b>%{customdata[0]}:</b><br>%{customdata[1]}<extra></extra>",
         "legendgroup": "Q1",
         "marker": {
          "color": "black",
          "symbol": "diamond"
         },
         "mode": "markers",
         "name": "Q1",
         "orientation": "v",
         "showlegend": true,
         "type": "scatter",
         "x": [
          7.364868
         ],
         "xaxis": "x",
         "y": [
          4.46359
         ],
         "yaxis": "y"
        },
        {
         "customdata": [
          [
           "Q2",
           "¿Qué información se incluye en el informe de la evaluación de riesgos que<br>ofrece la plataforma y cuál es su utilidad para la gestión de riesgos en la<br>empresa?"
          ]
         ],
         "hovertemplate": "<b>%{customdata[0]}:</b><br>%{customdata[1]}<extra></extra>",
         "legendgroup": "Q2",
         "marker": {
          "color": "black",
          "symbol": "diamond"
         },
         "mode": "markers",
         "name": "Q2",
         "orientation": "v",
         "showlegend": true,
         "type": "scatter",
         "x": [
          7.2016964
         ],
         "xaxis": "x",
         "y": [
          3.5046043
         ],
         "yaxis": "y"
        },
        {
         "customdata": [
          [
           "Q3",
           "¿Hay indicadores relativos al cumplimiento de normas?"
          ]
         ],
         "hovertemplate": "<b>%{customdata[0]}:</b><br>%{customdata[1]}<extra></extra>",
         "legendgroup": "Q3",
         "marker": {
          "color": "black",
          "symbol": "diamond"
         },
         "mode": "markers",
         "name": "Q3",
         "orientation": "v",
         "showlegend": true,
         "type": "scatter",
         "x": [
          6.6102304
         ],
         "xaxis": "x",
         "y": [
          5.027304
         ],
         "yaxis": "y"
        },
        {
         "customdata": [
          [
           "Q4",
           "¿Qué papel juega la estructura organizativa en la funcionalidad general de la<br>plataforma y cómo interactúa con otros módulos?"
          ]
         ],
         "hovertemplate": "<b>%{customdata[0]}:</b><br>%{customdata[1]}<extra></extra>",
         "legendgroup": "Q4",
         "marker": {
          "color": "black",
          "symbol": "diamond"
         },
         "mode": "markers",
         "name": "Q4",
         "orientation": "v",
         "showlegend": true,
         "type": "scatter",
         "x": [
          4.3474717
         ],
         "xaxis": "x",
         "y": [
          4.399004
         ],
         "yaxis": "y"
        },
        {
         "customdata": [
          [
           "Q5",
           "¿Qué permite realizar la evaluación de riesgos?"
          ]
         ],
         "hovertemplate": "<b>%{customdata[0]}:</b><br>%{customdata[1]}<extra></extra>",
         "legendgroup": "Q5",
         "marker": {
          "color": "black",
          "symbol": "diamond"
         },
         "mode": "markers",
         "name": "Q5",
         "orientation": "v",
         "showlegend": true,
         "type": "scatter",
         "x": [
          6.686022
         ],
         "xaxis": "x",
         "y": [
          4.0832267
         ],
         "yaxis": "y"
        },
        {
         "customdata": [
          [
           "Q6",
           "¿Qué tipo de documentos se pueden almacenar y compartir en el espacio<br>denominado 'Documentos' y cuál es su importancia dentro del contexto de la<br>gestión empresarial en la plataforma?"
          ]
         ],
         "hovertemplate": "<b>%{customdata[0]}:</b><br>%{customdata[1]}<extra></extra>",
         "legendgroup": "Q6",
         "marker": {
          "color": "black",
          "symbol": "diamond"
         },
         "mode": "markers",
         "name": "Q6",
         "orientation": "v",
         "showlegend": true,
         "type": "scatter",
         "x": [
          3.8468978
         ],
         "xaxis": "x",
         "y": [
          1.8834645
         ],
         "yaxis": "y"
        },
        {
         "customdata": [
          [
           "Q7",
           "¿Se pueden llevar a cabo auditorías internas?"
          ]
         ],
         "hovertemplate": "<b>%{customdata[0]}:</b><br>%{customdata[1]}<extra></extra>",
         "legendgroup": "Q7",
         "marker": {
          "color": "black",
          "symbol": "diamond"
         },
         "mode": "markers",
         "name": "Q7",
         "orientation": "v",
         "showlegend": true,
         "type": "scatter",
         "x": [
          5.2586956
         ],
         "xaxis": "x",
         "y": [
          4.6739874
         ],
         "yaxis": "y"
        },
        {
         "customdata": [
          [
           "Q8",
           "¿Cuál es la tasa de adopción de esta plataforma en el mercado?"
          ]
         ],
         "hovertemplate": "<b>%{customdata[0]}:</b><br>%{customdata[1]}<extra></extra>",
         "legendgroup": "Q8",
         "marker": {
          "color": "black",
          "symbol": "diamond"
         },
         "mode": "markers",
         "name": "Q8",
         "orientation": "v",
         "showlegend": true,
         "type": "scatter",
         "x": [
          6.159299
         ],
         "xaxis": "x",
         "y": [
          3.9151378
         ],
         "yaxis": "y"
        },
        {
         "customdata": [
          [
           "Q9",
           "¿Cómo se compara esta plataforma con otras soluciones de gestión de SST?"
          ]
         ],
         "hovertemplate": "<b>%{customdata[0]}:</b><br>%{customdata[1]}<extra></extra>",
         "legendgroup": "Q9",
         "marker": {
          "color": "black",
          "symbol": "diamond"
         },
         "mode": "markers",
         "name": "Q9",
         "orientation": "v",
         "showlegend": true,
         "type": "scatter",
         "x": [
          3.5143478
         ],
         "xaxis": "x",
         "y": [
          3.4106774
         ],
         "yaxis": "y"
        },
        {
         "customdata": [
          [
           "Q10",
           "¿Qué día hará mañana?"
          ]
         ],
         "hovertemplate": "<b>%{customdata[0]}:</b><br>%{customdata[1]}<extra></extra>",
         "legendgroup": "Q10",
         "marker": {
          "color": "black",
          "symbol": "diamond"
         },
         "mode": "markers",
         "name": "Q10",
         "orientation": "v",
         "showlegend": true,
         "type": "scatter",
         "x": [
          4.9607334
         ],
         "xaxis": "x",
         "y": [
          4.02966
         ],
         "yaxis": "y"
        }
       ],
       "layout": {
        "height": 700,
        "hoverlabel": {
         "bgcolor": "white",
         "font": {
          "family": "Rockwell",
          "size": 12
         }
        },
        "legend": {
         "title": {
          "text": "Label"
         },
         "tracegroupgap": 0
        },
        "margin": {
         "t": 60
        },
        "template": {
         "data": {
          "bar": [
           {
            "error_x": {
             "color": "#2a3f5f"
            },
            "error_y": {
             "color": "#2a3f5f"
            },
            "marker": {
             "line": {
              "color": "#E5ECF6",
              "width": 0.5
             },
             "pattern": {
              "fillmode": "overlay",
              "size": 10,
              "solidity": 0.2
             }
            },
            "type": "bar"
           }
          ],
          "barpolar": [
           {
            "marker": {
             "line": {
              "color": "#E5ECF6",
              "width": 0.5
             },
             "pattern": {
              "fillmode": "overlay",
              "size": 10,
              "solidity": 0.2
             }
            },
            "type": "barpolar"
           }
          ],
          "carpet": [
           {
            "aaxis": {
             "endlinecolor": "#2a3f5f",
             "gridcolor": "white",
             "linecolor": "white",
             "minorgridcolor": "white",
             "startlinecolor": "#2a3f5f"
            },
            "baxis": {
             "endlinecolor": "#2a3f5f",
             "gridcolor": "white",
             "linecolor": "white",
             "minorgridcolor": "white",
             "startlinecolor": "#2a3f5f"
            },
            "type": "carpet"
           }
          ],
          "choropleth": [
           {
            "colorbar": {
             "outlinewidth": 0,
             "ticks": ""
            },
            "type": "choropleth"
           }
          ],
          "contour": [
           {
            "colorbar": {
             "outlinewidth": 0,
             "ticks": ""
            },
            "colorscale": [
             [
              0,
              "#0d0887"
             ],
             [
              0.1111111111111111,
              "#46039f"
             ],
             [
              0.2222222222222222,
              "#7201a8"
             ],
             [
              0.3333333333333333,
              "#9c179e"
             ],
             [
              0.4444444444444444,
              "#bd3786"
             ],
             [
              0.5555555555555556,
              "#d8576b"
             ],
             [
              0.6666666666666666,
              "#ed7953"
             ],
             [
              0.7777777777777778,
              "#fb9f3a"
             ],
             [
              0.8888888888888888,
              "#fdca26"
             ],
             [
              1,
              "#f0f921"
             ]
            ],
            "type": "contour"
           }
          ],
          "contourcarpet": [
           {
            "colorbar": {
             "outlinewidth": 0,
             "ticks": ""
            },
            "type": "contourcarpet"
           }
          ],
          "heatmap": [
           {
            "colorbar": {
             "outlinewidth": 0,
             "ticks": ""
            },
            "colorscale": [
             [
              0,
              "#0d0887"
             ],
             [
              0.1111111111111111,
              "#46039f"
             ],
             [
              0.2222222222222222,
              "#7201a8"
             ],
             [
              0.3333333333333333,
              "#9c179e"
             ],
             [
              0.4444444444444444,
              "#bd3786"
             ],
             [
              0.5555555555555556,
              "#d8576b"
             ],
             [
              0.6666666666666666,
              "#ed7953"
             ],
             [
              0.7777777777777778,
              "#fb9f3a"
             ],
             [
              0.8888888888888888,
              "#fdca26"
             ],
             [
              1,
              "#f0f921"
             ]
            ],
            "type": "heatmap"
           }
          ],
          "heatmapgl": [
           {
            "colorbar": {
             "outlinewidth": 0,
             "ticks": ""
            },
            "colorscale": [
             [
              0,
              "#0d0887"
             ],
             [
              0.1111111111111111,
              "#46039f"
             ],
             [
              0.2222222222222222,
              "#7201a8"
             ],
             [
              0.3333333333333333,
              "#9c179e"
             ],
             [
              0.4444444444444444,
              "#bd3786"
             ],
             [
              0.5555555555555556,
              "#d8576b"
             ],
             [
              0.6666666666666666,
              "#ed7953"
             ],
             [
              0.7777777777777778,
              "#fb9f3a"
             ],
             [
              0.8888888888888888,
              "#fdca26"
             ],
             [
              1,
              "#f0f921"
             ]
            ],
            "type": "heatmapgl"
           }
          ],
          "histogram": [
           {
            "marker": {
             "pattern": {
              "fillmode": "overlay",
              "size": 10,
              "solidity": 0.2
             }
            },
            "type": "histogram"
           }
          ],
          "histogram2d": [
           {
            "colorbar": {
             "outlinewidth": 0,
             "ticks": ""
            },
            "colorscale": [
             [
              0,
              "#0d0887"
             ],
             [
              0.1111111111111111,
              "#46039f"
             ],
             [
              0.2222222222222222,
              "#7201a8"
             ],
             [
              0.3333333333333333,
              "#9c179e"
             ],
             [
              0.4444444444444444,
              "#bd3786"
             ],
             [
              0.5555555555555556,
              "#d8576b"
             ],
             [
              0.6666666666666666,
              "#ed7953"
             ],
             [
              0.7777777777777778,
              "#fb9f3a"
             ],
             [
              0.8888888888888888,
              "#fdca26"
             ],
             [
              1,
              "#f0f921"
             ]
            ],
            "type": "histogram2d"
           }
          ],
          "histogram2dcontour": [
           {
            "colorbar": {
             "outlinewidth": 0,
             "ticks": ""
            },
            "colorscale": [
             [
              0,
              "#0d0887"
             ],
             [
              0.1111111111111111,
              "#46039f"
             ],
             [
              0.2222222222222222,
              "#7201a8"
             ],
             [
              0.3333333333333333,
              "#9c179e"
             ],
             [
              0.4444444444444444,
              "#bd3786"
             ],
             [
              0.5555555555555556,
              "#d8576b"
             ],
             [
              0.6666666666666666,
              "#ed7953"
             ],
             [
              0.7777777777777778,
              "#fb9f3a"
             ],
             [
              0.8888888888888888,
              "#fdca26"
             ],
             [
              1,
              "#f0f921"
             ]
            ],
            "type": "histogram2dcontour"
           }
          ],
          "mesh3d": [
           {
            "colorbar": {
             "outlinewidth": 0,
             "ticks": ""
            },
            "type": "mesh3d"
           }
          ],
          "parcoords": [
           {
            "line": {
             "colorbar": {
              "outlinewidth": 0,
              "ticks": ""
             }
            },
            "type": "parcoords"
           }
          ],
          "pie": [
           {
            "automargin": true,
            "type": "pie"
           }
          ],
          "scatter": [
           {
            "fillpattern": {
             "fillmode": "overlay",
             "size": 10,
             "solidity": 0.2
            },
            "type": "scatter"
           }
          ],
          "scatter3d": [
           {
            "line": {
             "colorbar": {
              "outlinewidth": 0,
              "ticks": ""
             }
            },
            "marker": {
             "colorbar": {
              "outlinewidth": 0,
              "ticks": ""
             }
            },
            "type": "scatter3d"
           }
          ],
          "scattercarpet": [
           {
            "marker": {
             "colorbar": {
              "outlinewidth": 0,
              "ticks": ""
             }
            },
            "type": "scattercarpet"
           }
          ],
          "scattergeo": [
           {
            "marker": {
             "colorbar": {
              "outlinewidth": 0,
              "ticks": ""
             }
            },
            "type": "scattergeo"
           }
          ],
          "scattergl": [
           {
            "marker": {
             "colorbar": {
              "outlinewidth": 0,
              "ticks": ""
             }
            },
            "type": "scattergl"
           }
          ],
          "scattermapbox": [
           {
            "marker": {
             "colorbar": {
              "outlinewidth": 0,
              "ticks": ""
             }
            },
            "type": "scattermapbox"
           }
          ],
          "scatterpolar": [
           {
            "marker": {
             "colorbar": {
              "outlinewidth": 0,
              "ticks": ""
             }
            },
            "type": "scatterpolar"
           }
          ],
          "scatterpolargl": [
           {
            "marker": {
             "colorbar": {
              "outlinewidth": 0,
              "ticks": ""
             }
            },
            "type": "scatterpolargl"
           }
          ],
          "scatterternary": [
           {
            "marker": {
             "colorbar": {
              "outlinewidth": 0,
              "ticks": ""
             }
            },
            "type": "scatterternary"
           }
          ],
          "surface": [
           {
            "colorbar": {
             "outlinewidth": 0,
             "ticks": ""
            },
            "colorscale": [
             [
              0,
              "#0d0887"
             ],
             [
              0.1111111111111111,
              "#46039f"
             ],
             [
              0.2222222222222222,
              "#7201a8"
             ],
             [
              0.3333333333333333,
              "#9c179e"
             ],
             [
              0.4444444444444444,
              "#bd3786"
             ],
             [
              0.5555555555555556,
              "#d8576b"
             ],
             [
              0.6666666666666666,
              "#ed7953"
             ],
             [
              0.7777777777777778,
              "#fb9f3a"
             ],
             [
              0.8888888888888888,
              "#fdca26"
             ],
             [
              1,
              "#f0f921"
             ]
            ],
            "type": "surface"
           }
          ],
          "table": [
           {
            "cells": {
             "fill": {
              "color": "#EBF0F8"
             },
             "line": {
              "color": "white"
             }
            },
            "header": {
             "fill": {
              "color": "#C8D4E3"
             },
             "line": {
              "color": "white"
             }
            },
            "type": "table"
           }
          ]
         },
         "layout": {
          "annotationdefaults": {
           "arrowcolor": "#2a3f5f",
           "arrowhead": 0,
           "arrowwidth": 1
          },
          "autotypenumbers": "strict",
          "coloraxis": {
           "colorbar": {
            "outlinewidth": 0,
            "ticks": ""
           }
          },
          "colorscale": {
           "diverging": [
            [
             0,
             "#8e0152"
            ],
            [
             0.1,
             "#c51b7d"
            ],
            [
             0.2,
             "#de77ae"
            ],
            [
             0.3,
             "#f1b6da"
            ],
            [
             0.4,
             "#fde0ef"
            ],
            [
             0.5,
             "#f7f7f7"
            ],
            [
             0.6,
             "#e6f5d0"
            ],
            [
             0.7,
             "#b8e186"
            ],
            [
             0.8,
             "#7fbc41"
            ],
            [
             0.9,
             "#4d9221"
            ],
            [
             1,
             "#276419"
            ]
           ],
           "sequential": [
            [
             0,
             "#0d0887"
            ],
            [
             0.1111111111111111,
             "#46039f"
            ],
            [
             0.2222222222222222,
             "#7201a8"
            ],
            [
             0.3333333333333333,
             "#9c179e"
            ],
            [
             0.4444444444444444,
             "#bd3786"
            ],
            [
             0.5555555555555556,
             "#d8576b"
            ],
            [
             0.6666666666666666,
             "#ed7953"
            ],
            [
             0.7777777777777778,
             "#fb9f3a"
            ],
            [
             0.8888888888888888,
             "#fdca26"
            ],
            [
             1,
             "#f0f921"
            ]
           ],
           "sequentialminus": [
            [
             0,
             "#0d0887"
            ],
            [
             0.1111111111111111,
             "#46039f"
            ],
            [
             0.2222222222222222,
             "#7201a8"
            ],
            [
             0.3333333333333333,
             "#9c179e"
            ],
            [
             0.4444444444444444,
             "#bd3786"
            ],
            [
             0.5555555555555556,
             "#d8576b"
            ],
            [
             0.6666666666666666,
             "#ed7953"
            ],
            [
             0.7777777777777778,
             "#fb9f3a"
            ],
            [
             0.8888888888888888,
             "#fdca26"
            ],
            [
             1,
             "#f0f921"
            ]
           ]
          },
          "colorway": [
           "#636efa",
           "#EF553B",
           "#00cc96",
           "#ab63fa",
           "#FFA15A",
           "#19d3f3",
           "#FF6692",
           "#B6E880",
           "#FF97FF",
           "#FECB52"
          ],
          "font": {
           "color": "#2a3f5f"
          },
          "geo": {
           "bgcolor": "white",
           "lakecolor": "white",
           "landcolor": "#E5ECF6",
           "showlakes": true,
           "showland": true,
           "subunitcolor": "white"
          },
          "hoverlabel": {
           "align": "left"
          },
          "hovermode": "closest",
          "mapbox": {
           "style": "light"
          },
          "paper_bgcolor": "white",
          "plot_bgcolor": "#E5ECF6",
          "polar": {
           "angularaxis": {
            "gridcolor": "white",
            "linecolor": "white",
            "ticks": ""
           },
           "bgcolor": "#E5ECF6",
           "radialaxis": {
            "gridcolor": "white",
            "linecolor": "white",
            "ticks": ""
           }
          },
          "scene": {
           "xaxis": {
            "backgroundcolor": "#E5ECF6",
            "gridcolor": "white",
            "gridwidth": 2,
            "linecolor": "white",
            "showbackground": true,
            "ticks": "",
            "zerolinecolor": "white"
           },
           "yaxis": {
            "backgroundcolor": "#E5ECF6",
            "gridcolor": "white",
            "gridwidth": 2,
            "linecolor": "white",
            "showbackground": true,
            "ticks": "",
            "zerolinecolor": "white"
           },
           "zaxis": {
            "backgroundcolor": "#E5ECF6",
            "gridcolor": "white",
            "gridwidth": 2,
            "linecolor": "white",
            "showbackground": true,
            "ticks": "",
            "zerolinecolor": "white"
           }
          },
          "shapedefaults": {
           "line": {
            "color": "#2a3f5f"
           }
          },
          "ternary": {
           "aaxis": {
            "gridcolor": "white",
            "linecolor": "white",
            "ticks": ""
           },
           "baxis": {
            "gridcolor": "white",
            "linecolor": "white",
            "ticks": ""
           },
           "bgcolor": "#E5ECF6",
           "caxis": {
            "gridcolor": "white",
            "linecolor": "white",
            "ticks": ""
           }
          },
          "title": {
           "x": 0.05
          },
          "xaxis": {
           "automargin": true,
           "gridcolor": "white",
           "linecolor": "white",
           "ticks": "",
           "title": {
            "standoff": 15
           },
           "zerolinecolor": "white",
           "zerolinewidth": 2
          },
          "yaxis": {
           "automargin": true,
           "gridcolor": "white",
           "linecolor": "white",
           "ticks": "",
           "title": {
            "standoff": 15
           },
           "zerolinecolor": "white",
           "zerolinewidth": 2
          }
         }
        },
        "title": {
         "text": "Reducción de Dimensionalidad con PCA (2D)"
        },
        "width": 1000,
        "xaxis": {
         "anchor": "y",
         "domain": [
          0,
          1
         ],
         "title": {
          "text": "PCA1"
         }
        },
        "yaxis": {
         "anchor": "x",
         "domain": [
          0,
          1
         ],
         "title": {
          "text": "PCA2"
         }
        }
       }
      }
     },
     "metadata": {},
     "output_type": "display_data"
    }
   ],
   "source": [
    "import plotly.express as px\n",
    "import plotly.graph_objects as go\n",
    "import pandas as pd\n",
    "\n",
    "# Función para añadir saltos de línea\n",
    "def add_line_breaks(text, max_line_length=80):\n",
    "    words = text.split()\n",
    "    lines = []\n",
    "    current_line = []\n",
    "    current_length = 0\n",
    "    for word in words:\n",
    "        if current_length + len(word) + 1 > max_line_length:\n",
    "            lines.append(' '.join(current_line))\n",
    "            current_line = [word]\n",
    "            current_length = len(word)\n",
    "        else:\n",
    "            current_line.append(word)\n",
    "            current_length += len(word) + 1\n",
    "    lines.append(' '.join(current_line))\n",
    "    return '<br>'.join(lines)\n",
    "\n",
    "# Preparar los datos para el gráfico 2D PCA\n",
    "pca_df = pd.DataFrame(pca_result, columns=['PCA1', 'PCA2'])\n",
    "pca_df['manual'] = chunk_labels\n",
    "pca_df['type'] = 'chunk'\n",
    "pca_df['text'] = all_chunks  # Añadir el texto del chunk para el hover\n",
    "\n",
    "# Crear etiquetas para las preguntas\n",
    "question_labels = [f\"Q{i+1}\" for i in range(len(questions))]\n",
    "\n",
    "# Agregar las preguntas al dataframe\n",
    "question_pca_df = pd.DataFrame(question_pca_embeddings, columns=['PCA1', 'PCA2'])\n",
    "question_pca_df['manual'] = question_labels\n",
    "question_pca_df['type'] = 'question'\n",
    "question_pca_df['text'] = questions  # Añadir la pregunta para el hover\n",
    "\n",
    "# Combinar ambos dataframes\n",
    "combined_pca_df = pd.concat([pca_df, question_pca_df])\n",
    "\n",
    "# Añadir el texto con saltos de línea al dataframe\n",
    "combined_pca_df['text_with_breaks'] = combined_pca_df['text'].apply(lambda x: add_line_breaks(x))\n",
    "\n",
    "# Crear el gráfico interactivo 2D PCA\n",
    "fig = px.scatter(\n",
    "    combined_pca_df,\n",
    "    x='PCA1',\n",
    "    y='PCA2',\n",
    "    color='manual',\n",
    "    hover_data={'manual': True, 'text_with_breaks': True},\n",
    "    labels={'manual': 'Label', 'text_with_breaks': 'Contenido'}\n",
    ")\n",
    "\n",
    "question_index = 0\n",
    "# Actualizar los puntos de las preguntas para que sean de color negro y ajustar el símbolo\n",
    "for trace in fig.data:\n",
    "    if any(question_label in trace.name for question_label in question_labels):\n",
    "        trace.marker.color = 'black'\n",
    "        trace.marker.symbol = 'diamond'\n",
    "        trace.name = question_labels[question_index]\n",
    "        trace.hovertemplate = (\n",
    "            '<b>%{customdata[0]}:</b><br>'\n",
    "            '%{customdata[1]}<extra></extra>'\n",
    "        )\n",
    "        question_index = question_index + 1\n",
    "    else:\n",
    "        trace.hovertemplate = (\n",
    "            '<b>Manual:</b> %{customdata[0]}<br>'\n",
    "            '<b>Texto:</b> %{customdata[1]}<extra></extra>'\n",
    "        )\n",
    "\n",
    "# Aumentar el tamaño del gráfico y ajustar la caja de hover\n",
    "fig.update_layout(\n",
    "    title='Reducción de Dimensionalidad con PCA (2D)',\n",
    "    xaxis_title='PCA1',\n",
    "    yaxis_title='PCA2',\n",
    "    legend_title='Label',\n",
    "    width=1000,  # Ancho del gráfico\n",
    "    height=700,  # Altura del gráfico\n",
    "    hoverlabel=dict(\n",
    "        bgcolor=\"white\",\n",
    "        font_size=12,  # Ajustar tamaño de la fuente\n",
    "        font_family=\"Rockwell\"\n",
    "    )\n",
    ")\n",
    "\n",
    "fig.show()\n"
   ]
  },
  {
   "cell_type": "markdown",
   "id": "d7045ed2-2885-49a8-b666-f15f1182574f",
   "metadata": {
    "id": "d7045ed2-2885-49a8-b666-f15f1182574f"
   },
   "source": [
    "**Conclusiones de los Gráficos de PCA (2D Y 3D)**"
   ]
  },
  {
   "cell_type": "markdown",
   "id": "4c8a24c4-1f6c-4a35-9661-bb51b02349c9",
   "metadata": {
    "id": "4c8a24c4-1f6c-4a35-9661-bb51b02349c9"
   },
   "source": [
    "El análisis de reducción de dimensionalidad con PCA, tanto en 2D como en 3D, nos lleva a las mismas conclusiones clave:\n",
    "\n",
    "No se observan agrupamientos claros entre las diferentes categorías de documentos, lo que implica que incluso al considerar hasta tres componentes principales, no se logra una separación completa de las categorías. Esto también sugiere que la variabilidad relevante para la clasificación de categorías está distribuida en más dimensiones.\n",
    "\n",
    "Además, las preguntas etiquetadas (Q1 a Q9) están dispersas principalmente en la región central del gráfico, lo que indica que las preguntas y los fragmentos de texto asociados comparten características semánticas similares. La falta de agrupamientos claros entre las categorías y la dispersión de las preguntas indican que, aunque PCA captura una parte significativa de la variabilidad en los datos, no logra una separación clara entre las categorías de documentos.\n",
    "\n",
    "En resumen, los análisis de PCA en 2D y 3D indican que las primeras componentes principales no son suficientes para separar claramente las categorías de docu.mentos"
   ]
  },
  {
   "cell_type": "markdown",
   "id": "7c18f0ce-c5f6-4d1e-9c01-6e284976db0e",
   "metadata": {
    "id": "7c18f0ce-c5f6-4d1e-9c01-6e284976db0e"
   },
   "source": [
    "### Reducción de Dimensionalidad con TSNE (2D)"
   ]
  },
  {
   "cell_type": "code",
   "execution_count": 45,
   "id": "002a3ca9-a1e6-4207-bac7-3d197a0556a5",
   "metadata": {
    "id": "002a3ca9-a1e6-4207-bac7-3d197a0556a5",
    "outputId": "31f59caa-29fb-41e4-a6c9-8e3f8e6f5fc0"
   },
   "outputs": [
    {
     "data": {
      "application/vnd.plotly.v1+json": {
       "config": {
        "plotlyServerURL": "https://plot.ly"
       },
       "data": [
        {
         "customdata": [
          [
           "Auditorias",
           "Versión Fecha Comentarios Autor 1.0 29/09/2022 Redacción Núria Zaragoza"
          ],
          [
           "Auditorias",
           "Sabentis es la nueva plataforma de gestión especializada en el ámbito de<br>Seguridad y Salud en el Trabajo adaptada a las nuevas tecnologías y a los nuevos<br>modelos de gestión de la prevención. La plataforma cuenta con distintos tipos de<br>auditorías objetivas, entre las que figuran la evaluación de Estándares<br>Internacionales (ISO) y la Metodología 5S, que responden al conjunto de normas,<br>requisitos y procedimiento que reflejan la imagen del sistema de prevención de<br>riesgos laborales de las"
          ],
          [
           "Auditorias",
           "del sistema de prevención de riesgos laborales de las empresas."
          ],
          [
           "Auditorias",
           "El usuario puede acceder al módulo de Auditorías desde: • La entrada del menú<br>lateral de la plataforma. • Desde el cardboard “Auditorías” del panel principal.<br>Se requiere empresa en contexto. 5 • Diagnósticos ISO. • Metodología 5S. •<br>Planificación y ejecución de medidas. • Comparativa de estudios. Además, se<br>visualiza un dashboard que contiene datos estadísticos. Las gráficas se pueden<br>descargar y muestran la siguiente información:"
          ],
          [
           "Auditorias",
           "Gráfica Descripción No conformidades identificadas que no cumplen vs cumplen<br>Gráfica circular que indica el cumplimiento de las no conformidades<br>identificadas. Medidas por estado Gráfica de datos circular que determina el<br>número de medidas por estado de gestión. Vencimiento de medidas Gráfica de<br>líneas con vencimiento de fechas de medidas por 6 meses, un área para cada tipo<br>de vencimiento (aprobación, validación, implementación, verificación, etcétera)."
          ],
          [
           "Auditorias",
           "El usuario accede al cardboard “Diagnósticos ISO” y visualiza una pantalla con<br>el conjunto de estándares con reconocimiento internacional que tiene el objetivo<br>de ayudar a las empresas a establecer unos niveles de homogeneidad en relación<br>con la gestión, prestación de servicios y desarrollo de productos en la<br>industria. • ISO 45001: Sistemas de gestión de SST. • ISO 14001: Sistemas de<br>gestión del medio ambiente. • ISO 9001: Sistemas de gestión de calidad. • ISO<br>39001: Sistemas de"
          ],
          [
           "Auditorias",
           "Sistemas de gestión de calidad. • ISO 39001: Sistemas de gestión de la<br>seguridad vial. • ISO 37001: Sistemas de gestión antisoborno. • ISO 22301:<br>Sistemas de gestión de continuidad de negocio. • ISO 26000: Guía de<br>responsabilidad social. • ISO 50001: Sistemas de gestión de la energía."
          ],
          [
           "Auditorias",
           "Desde el listado de estudios de las ISO se pueden crear nuevos estudios<br>accediendo desde el botón “Nueva evaluación”. Los campos del formulario marcados<br>con * son de carácter obligatorio y en caso de que no se completen no es posible<br>crear/editar el registro de evaluación. En el formulario se han de seleccionar<br>los cuestionarios que se quieren evaluar. Por defecto aparecen todos marcados<br>pero se puede realizar una selección concreta con la finalidad de hacer estudios<br>parciales o más"
          ],
          [
           "Auditorias",
           "con la finalidad de hacer estudios parciales o más específicos. Solo se podrá<br>crear un estudio nuevo cuando no exista otro en estado vigente o abierto. En ese<br>caso la plataforma mostrará un mensaje indicando que no se puede crear el<br>estudio."
          ],
          [
           "Auditorias",
           "Una vez creado el estudio en la pestaña “Datos de la evaluación de la<br>normativa” se habilita el botón “Eliminar evaluación de la normativa” el cual<br>permite eliminar el estudio desde la ficha de datos. Desde el listado también se<br>puede eliminar el estudio. Adicionalmente, se habilitan las pestañas: Evaluación<br>de aspectos legales, Plan de acción, Gráfica de resultados, Resumen, Generar<br>documentación y Documentos (esta pestaña se habilita al cerrar la evaluación)."
          ],
          [
           "Auditorias",
           "EVALUACIÓN DE ASPECTOS LEGALES:"
          ],
          [
           "Auditorias",
           "La pestaña evaluación de aspectos legales permite al usuario evaluar los<br>cuestionarios aplicables a la evaluación. Aparecerán aquellos cuestionarios que<br>el usuario ha seleccionado previamente en la pestaña “Datos de la evaluación de<br>la normativa”, con la finalidad de hacer estudios parciales o más específicos.<br>Para completar la evaluación de aspectos legales, debajo de cada ítem de<br>estándar se dispone de las opciones de respuesta: Cumple/ No cumple/ No aplica."
          ],
          [
           "Auditorias",
           "Junto a las variables de respuesta se encuentra el vínculo “ver más” que<br>habilita una ventana lateral que contiene información asociada a la cuestión<br>seleccionada. La opción “Añadir archivos” se habilita conforme se va completando<br>la evaluación y permite cargar por pregunta hasta 5 archivos como evidencia."
          ],
          [
           "Auditorias",
           "Esta pantalla cuenta con una barra que muestra el porcentaje de avance de la<br>evaluación de aspectos legales que se actualiza conforme se guardan los datos.<br>Se puede descargar y se permiten guardados parciales lo que significa que se<br>puede salir de la funcionalidad, aunque no se haya finalizado la evaluación, sin<br>perder el avance previamente guardado."
          ],
          [
           "Auditorias",
           "13 Una vez se han evaluado la totalidad de ítems de estándar, en la pantalla se<br>sustituye el botón “Guardar” por el botón “Finalizar evaluación” que permite<br>guardar las respuestas, además de bloquear el cuestionario con las respuestas<br>definidas."
          ],
          [
           "Auditorias",
           "Generalmente, según la configuración establecida, los ítems de la evaluación<br>marcados con la opción “No cumple”, generan No conformidades, las cuales se<br>visualizan en la pestaña “Plan de acción”. Estas se visualizan solo cuando se ha<br>finalizado la evaluación; cuando se realiza 14 guardado parciales no se<br>mostrarán las no conformidades independientemente de que la respuesta haya sido<br>“no cumple”. PLAN DE ACCIÓN"
          ],
          [
           "Auditorias",
           "PLAN DE ACCIÓN En esta pestaña se muestra el listado de las No conformidades<br>resultado de la evaluación de aspectos legales previamente finalizada: los ítems<br>de estándar marcados con la respuesta “No cumple” en la pestaña previa. Este<br>listado cuenta con las opciones de búsqueda, añadir filtros, configurar<br>columnas, paginado, botón Volver y la acción editar que redirige a la ficha de<br>la No conformidad."
          ],
          [
           "Auditorias",
           "En la ficha de No conformidad se muestran dos apartados: • Datos de la no<br>conformidad: Muestra los datos referentes a la No conformidad, el único campo<br>que se puede editar en este apartado es “Cumple” que, por defecto, se muestra<br>marcado como “No cumple”. Este campo editable solo se podrá marcar como “Cumple”<br>cuando se hayan implementado las medidas asociadas a la No conformidad."
          ],
          [
           "Auditorias",
           "• Medidas correctivas: En este apartado se muestran las medidas correctivas<br>añadidas por el usuario o configuradas de manera automática y además permite<br>realizar la gestión de las medidas hasta llegar a estado Cerrada. Los campos del<br>formulario marcados con * son de carácter obligatorio. En caso de no<br>completarlos no se permite añadir la medida. (Ver Manual gestión de medidas).<br>GRÁFICA DE RESULTADOS"
          ],
          [
           "Auditorias",
           "GRÁFICA DE RESULTADOS En la pestaña “Gráficas de resultados” se muestran dos<br>tipos de gráficas. La primera precisa los resultados de porcentaje de<br>cumplimiento por estándar mientras que la segunda referencia el porcentaje de<br>cumplimiento por ciclo. Las gráficas en la parte superior disponen de<br>componentes transversales a nivel de la plataforma que permiten al usuario<br>realizar las siguientes acciones:"
          ],
          [
           "Auditorias",
           "17 • Refrescar: Herramienta que permite actualizar las gráficas. • Descargar<br>imagen: Permite descargar la información visualizada en las gráficas. • Exportar<br>a hoja de cálculo: Permite descargar la información en una hoja de cálculo."
          ],
          [
           "Auditorias",
           "En esta pestaña se muestra una síntesis de la información correspondiente al<br>proceso de evaluación de aspectos legales del estudio. En esta pestaña se puede<br>cerrar la evaluación a través del botón \"Cerrar evaluación\" el cual se habilita<br>únicamente cuando el usuario ha establecido, al menos, una medida correctiva<br>para cada No conformidad. GENERAR DOCUMENTACIÓN"
          ],
          [
           "Auditorias",
           "La pestaña generar documentación se habilita una vez se ha cerrado el estudio<br>en la pestaña resumen. En esta pantalla se puede generar el informe de la<br>evaluación de la normativa en formato PDF además de poder adjuntar otros<br>archivos en caso de ser necesario. El informe de evaluación se puede generar de<br>forma ilimitada. También se puede descargar el informe clicando directamente en<br>el nombre de la autoevaluación (link azul). Este listado cuenta con las opciones<br>de búsqueda, añadir filtros,"
          ],
          [
           "Auditorias",
           "cuenta con las opciones de búsqueda, añadir filtros, configurar columnas,<br>paginado y el botón Guardar."
          ],
          [
           "Auditorias",
           "La pestaña Documentos también se habilita una vez se ha cerrado el estudio en<br>la pestaña resumen y muestra en pantalla el informe de la evaluación."
          ],
          [
           "Auditorias",
           "El usuario accede al cardboard “Metodología 5S” y visualiza el listado con<br>todas las auditorías realizadas con la Metodología 5S. Es una evaluación basada<br>en 5 principios para facilitar las dinámicas de trabajo mejorando aspectos como:<br>el uso de los espacios de trabajo, la organización, la higiene, las normas y las<br>dinámicas de convivencia dentro de las empresas."
          ],
          [
           "Auditorias",
           "Estas evaluaciones pueden estar en estado: • Abierto: Indica que el estudio no<br>ha sido cerrado debido a que no se han evaluado la totalidad de ítems de<br>estándar. • Cuestionario finalizado: Indica que se han respondido la totalidad<br>de ítems de estándar a evaluar, pero el estudio aún no ha sido cerrado. •<br>Vigente: Indica que el estudio se ha cerrado y aún no ha llegado a la fecha de<br>expiración. • Expirado: Se cierra la evaluación o se expira desde el listado.<br>Este listado cuenta con"
          ],
          [
           "Auditorias",
           "o se expira desde el listado. Este listado cuenta con las opciones: buscador,<br>añadir filtros, descargar listado, paginado, botón Nueva evaluación que redirige<br>al formulario de creación de evaluaciones, y las acciones: • Datos del estudio:<br>Redirige a la ficha del estudio. • Ir a la evaluación: Redirige a la pestaña<br>Evaluación de aspectos legales. • Ir a plan de acción: Redirige a la pestaña<br>“Plan de acción”. • Expirar estudio: Cambia el estado del estudio de<br>Abierto/Vigente a Expirado"
          ],
          [
           "Auditorias",
           "Cambia el estado del estudio de Abierto/Vigente a Expirado (Si el estudio se<br>expira, esta acción ya no se muestra). • Eliminar evaluación: Permite eliminar<br>el estudio."
          ],
          [
           "Auditorias",
           "22 Desde el listado de estudios de la Metodología 5S es posible crear nuevos<br>estudios accediendo desde el botón “Nueva evaluación”. Los campos del formulario<br>marcados con * son de carácter obligatorio por lo que si no se complementan no<br>se permite crear/editar el registro de evaluación. En el formulario se han de<br>seleccionar los cuestionarios a evaluar -por defecto aparecen todos marcados-<br>aunque se puede escoger cuáles se quiere evaluar y cuáles no para hacer estudios<br>parciales o más"
          ],
          [
           "Auditorias",
           "evaluar y cuáles no para hacer estudios parciales o más específicos. Solo se<br>podrá crear estudios nuevos cuando no exista otro en estado vigente o abierto.<br>En ese caso la plataforma mostrará un mensaje indicando que no se puede crear el<br>estudio."
          ],
          [
           "Auditorias",
           "Una vez creado el estudio en la pestaña “Datos de la evaluación de la<br>normativa” se habilita el botón “Eliminar evaluación de la normativa” el cual<br>permite eliminar el estudio desde la ficha de datos. Desde el listado también se<br>puede eliminar el estudio. Adicionalmente, se habilitan las pestañas: Evaluación<br>de aspectos legales, Plan de acción, Gráfica de resultados, Resumen, Generar<br>documentación y Documentos. (Esta pestaña se habilita al cerrar la evaluación)."
          ],
          [
           "Auditorias",
           "24 EVALUACIÓN DE ASPECTOS LEGALES La pestaña evaluación de aspectos legales<br>permite al usuario evaluar los cuestionarios aplicables. Aparecerán aquellos que<br>se han seleccionado previamente en la pestaña “Datos de la evaluación de la<br>normativa”. Para completar la evaluación de aspectos legales, debajo de cada<br>ítem de estándar se dispone de un campo que dispone las opciones de respuesta:<br>Cumple/ No cumple/ No aplica."
          ],
          [
           "Auditorias",
           "Junto a las variables de respuesta se encuentra el vínculo “ver más” que<br>habilita una ventana lateral que contiene información asociada al ítem de<br>estándar seleccionado. La opción “Añadir archivos” se habilita conforme se va<br>completando la evaluación y permite cargar, por pregunta, hasta 5 archivos como<br>evidencia."
          ],
          [
           "Auditorias",
           "Esta pantalla cuenta con una barra que muestra el porcentaje de avance de la<br>evaluación de aspectos legales. Se actualiza conforme se guardan los datos y se<br>puede descargar. En esta 26 pantalla se permiten guardados parciales lo que<br>significa que se puede salir de la funcionalidad, aunque no se haya finalizado<br>la evaluación, sin perder el avance previamente guardado."
          ],
          [
           "Auditorias",
           "Una vez se ha evaluado la totalidad de ítems de estándar, en la pantalla se<br>sustituye el botón “Guardar” por el botón “Finalizar evaluación” que permite<br>guardar las respuestas además de bloquear el cuestionario con las respuestas<br>definidas."
          ],
          [
           "Auditorias",
           "Generalmente, según la configuración establecida, los ítems de la evaluación<br>marcados con la opción “No cumple”, generan No conformidades las cuales se<br>visualizan en la pestaña “Plan de acción”. Estas se visualizan solo cuando se ha<br>finalizado la evaluación. Cuando se guardan parciales no se mostrarán las no<br>conformidades independientemente de que la respuesta haya sido “No cumple”. PLAN<br>DE ACCIÓN"
          ],
          [
           "Auditorias",
           "PLAN DE ACCIÓN En esta pestaña se muestra el listado de las No conformidades<br>resultado de la evaluación de aspectos legales finalizada -los ítems de estándar<br>marcados como “No cumple” en la pestaña previa-. Este listado cuenta con las<br>opciones de búsqueda, añadir filtros, configurar columnas, paginado, botón<br>Volver y la acción editar que redirige a la ficha de la No conformidad."
          ],
          [
           "Auditorias",
           "En la ficha de No conformidad se muestran dos apartados: • Datos de la no<br>conformidad: Muestra los datos referentes a la No conformidad. El único campo<br>que se puede editar en este apartado es el campo “Cumple” que por defecto se<br>muestra marcado como “No cumple”. Este campo editable solo se podrá marcar como<br>“Cumple” cuando se hayan implementado las medidas asociadas a la No conformidad."
          ],
          [
           "Auditorias",
           "• Medidas correctivas: Muestra los datos referentes a la No conformidad. El<br>único campo que se puede editar en este apartado es el campo “Cumple” que por<br>defecto se muestra marcado como “No cumple”. Este campo editable solo se podrá<br>marcar como “Cumple” cuando se hayan implementado las medidas asociadas a la No<br>conformidad. GRÁFICA DE RESULTADOS"
          ],
          [
           "Auditorias",
           "En la pestaña “Gráficas de resultados” se muestran dos tipos de gráficas en<br>función del tipo de estudio. La primera precisa los resultados de porcentaje de<br>cumplimiento por estándar mientras que la segunda gráfica referencia el<br>porcentaje de cumplimiento por ciclo. En cada gráfica se pueden realizar las<br>siguientes acciones: • Refrescar: Herramienta que permite actualizar las<br>gráficas. • Descargar imagen: Permite descargar la información visualizada en<br>las gráficas en formato .png. •"
          ],
          [
           "Auditorias",
           "visualizada en las gráficas en formato .png. • Exportar a hoja de cálculo:<br>Permite descargar la información en una hoja de cálculo."
          ],
          [
           "Auditorias",
           "En esta pestaña se muestra una síntesis de la información correspondiente al<br>proceso de evaluación de aspectos legales del estudio. Se puede cerrar la<br>evaluación a través del botón “Cerrar evaluación” el cual se habilita únicamente<br>cuando el usuario ha establecido, al menos, una medida correctiva para cada No<br>conformidad. GENERAR DOCUMENTACIÓN"
          ],
          [
           "Auditorias",
           "GENERAR DOCUMENTACIÓN La pestaña generar documentación se habilita una vez se<br>ha cerrado el estudio en la pestaña resumen. En esta pantalla se puede generar<br>el informe de la evaluación de la normativa en formato PDF además de poder<br>adjuntar otros archivos en caso de ser necesario. El informe de evaluación se<br>puede generar de forma ilimitada."
          ],
          [
           "Auditorias",
           "33 También se puede descargar el informe clicando directamente al nombre de la<br>autoevaluación (link azul). Este listado cuenta con las opciones de búsqueda,<br>añadir filtros, configurar columnas, paginado y el botón Guardar. DOCUMENTACIÓN<br>La pestaña Documentos también se habilita una vez se ha cerrado el estudio en la<br>pestaña resumen y muestra en pantalla el informe de la evaluación. 5.<br>PLANIFICACIÓN Y EJECUCIÓN DE MEDIDAS"
          ],
          [
           "Auditorias",
           "5. PLANIFICACIÓN Y EJECUCIÓN DE MEDIDAS El usuario accede al cardboard<br>“Planificación y ejecución de medidas” y visualiza el listado con la<br>consolidación de las no conformidades que se deben abordar a través de un plan<br>de acción con el objeto de eliminar el incumplimiento de un requisito. Este<br>listado cuenta con las opciones: buscador, añadir filtros, descargar listado,<br>paginado y la acción editar, que permite acceder a la No conformidad. 36 6.<br>COMPARATIVA DE ESTUDIOS:"
          ],
          [
           "Auditorias",
           "36 6. COMPARATIVA DE ESTUDIOS: El usuario accede al cardboard “Comparativa de<br>estudios” y visualiza dos campos de selección. Según la comparativa de estudios<br>que se quiera realizar, se ha de seleccionar un Decreto y los estudios a<br>comparar. Una vez seleccionados se habilitarán los gráficos."
          ],
          [
           "Auditorias",
           "37 Las gráficas en la parte superior disponen de componentes transversales a<br>nivel de la plataforma que permiten al usuario realizar las siguientes acciones:<br>• Refrescar: Herramienta que permite actualizar las gráficas. • Descargar<br>imagen: Permite descargar la información visualizada en las gráficas. • Exportar<br>a hoja de cálculo: Permite descargar la información en una hoja de cálculo."
          ]
         ],
         "hovertemplate": "<b>Manual:</b> %{customdata[0]}<br><b>Texto:</b> %{customdata[1]}<extra></extra>",
         "legendgroup": "Auditorias",
         "marker": {
          "color": "#636efa",
          "symbol": "circle"
         },
         "mode": "markers",
         "name": "Auditorias",
         "orientation": "v",
         "showlegend": true,
         "type": "scatter",
         "x": [
          9.569998,
          10.555043,
          7.873058,
          0.7595902,
          7.6336727,
          10.158477,
          8.779074,
          0.28258494,
          -2.9274495,
          -1.4041599,
          7.691528,
          -1.9214481,
          -3.695806,
          -4.8589025,
          -9.647445,
          3.4233632,
          -5.0964956,
          -10.593236,
          2.0139594,
          -6.3139715,
          -6.0304804,
          -5.1256886,
          -0.62829745,
          -7.3265467,
          -8.972623,
          5.268236,
          0.8156198,
          -0.5955143,
          -5.0496497,
          0.28817326,
          -2.8911788,
          -1.3367575,
          -4.7304697,
          -3.701706,
          -4.91248,
          -9.544677,
          3.4633563,
          -5.150663,
          -10.59729,
          1.984142,
          -2.8402412,
          -6.431343,
          -5.135188,
          -8.250846,
          4.400069,
          5.402201,
          -5.0199385,
          -5.934286
         ],
         "xaxis": "x",
         "y": [
          -1.2257576,
          1.7589716,
          -2.5546803,
          -4.6997643,
          0.13756076,
          1.609054,
          -0.28678694,
          8.622035,
          8.0003805,
          3.3448946,
          -1.8948762,
          4.623601,
          -7.9038463,
          -8.574987,
          -0.3991099,
          4.1481013,
          -1.3918204,
          1.1624998,
          -7.808296,
          -5.904027,
          -2.4019656,
          6.891276,
          2.1175783,
          -7.1648207,
          -1.341494,
          -3.059225,
          3.3252227,
          4.712082,
          1.9716331,
          8.57284,
          7.942061,
          3.38768,
          -1.825004,
          -7.908855,
          -8.573018,
          -0.5862157,
          4.1753597,
          -1.3653128,
          1.1661936,
          -7.8628993,
          -0.8597447,
          -2.3854585,
          6.8964515,
          -2.5409408,
          2.8890684,
          1.8876164,
          -2.727467,
          -2.8264325
         ],
         "yaxis": "y"
        },
        {
         "customdata": [
          [
           "Ausentismo",
           "DATOS DEL DOCUMENTO CONTENIDO Sabentis es la nueva plataforma de gestión<br>especializada en el ámbito de Seguridad y Salud en el Trabajo adaptada a las<br>nuevas tecnologías y a los nuevos modelos de gestión de la prevención. La<br>plataforma dispone del módulo “Ausentismo” por el cual las empresas pueden<br>registrar accidentes de trabajo, enfermedades profesionales, contingencias<br>comunes, incapacidades, ausencias administrativas y permisos, así como también<br>las investigaciones de estos."
          ],
          [
           "Ausentismo",
           "2. SABENTIS: MÓDULO AUSENTISMO El usuario puede acceder al módulo “Ausentismo”,<br>desde: • La entrada de menú lateral de la pantalla. • El cardboard “Ausentismo”<br>del panel principal. 5 Al clicar ya sea en el menú lateral o desde el cardboard,<br>el usuario es redirigido a la home del módulo, donde visualiza los cardboards: •<br>Accidentes de trabajo • Enfermedades profesionales • Contingencias comunes •<br>Incapacidades • Ausencias administrativas y permisos • Estadísticas"
          ],
          [
           "Ausentismo",
           "Este módulo también incluye un dashboard que contiene datos estadísticos, las<br>gráficas muestran la siguiente información y se pueden descargar en formato PNG<br>y Excel:"
          ],
          [
           "Ausentismo",
           "NOMBRE DEFINICIÓN Frecuencia de accidentalidad Gráfica de líneas. Representa el<br>número de accidentes ocurridos por cada mil personas expuestas. Ausentismo por<br>causa médica Gráfica de líneas. Representa el número de ausencias por causa<br>médica. Incapacidades Gráfica de barras. Representa el número de incapacidades<br>registradas según el tipo de proceso. Gravedad de los accidentes de trabajo<br>Gráfica de barras. Representa el número de accidentes ocurridos según la<br>gravedad de los"
          ],
          [
           "Ausentismo",
           "el número de accidentes ocurridos según la gravedad de los accidentes de<br>trabajo."
          ],
          [
           "Ausentismo",
           "El usuario ingresa al cardboard “Accidentes de trabajo” y visualiza un listado<br>con los accidentes de trabajo que han sucedido en la empresa y añadir de nuevos.<br>El listado cuenta con las opciones de búsqueda, filtrado, actualizar, descargar<br>listado, los botones Nuevo accidente, Carga masiva (para mejor entendimiento ver<br>manual de importadores) y las acciones: • Editar: Redirige a la pantalla datos<br>del accidente. • Documentación: Redirige a la pestaña “Documentación del<br>accidente”. •"
          ],
          [
           "Ausentismo",
           "Redirige a la pestaña “Documentación del accidente”. • Eliminar: Eliminar<br>accidente."
          ],
          [
           "Ausentismo",
           "DATOS DEL ACCIDENTE DE TRABAJO El usuario accede a la pestaña de “Datos del<br>accidente de trabajo” y visualiza un formulario donde ha de definir la<br>información del accidente y describir cómo ha sucedido."
          ],
          [
           "Ausentismo",
           "El usuario accede a la pestaña “Incapacidades” y visualiza el listado de<br>incapacidades y prórrogas que se derivan del accidente. El usuario también puede<br>registrar una nueva incapacidad/prórroga. Se accede a través del botón “Nueva<br>incapacidad/prórroga” y se visualiza el formulario con una serie de campos que<br>debe completar. Los campos marcados con * son campos obligatorios, en caso de no<br>completarlos no se permite crear/editar el registro. El listado cuenta con las<br>opciones de búsqueda,"
          ],
          [
           "Ausentismo",
           "registro. El listado cuenta con las opciones de búsqueda, añadir filtros,<br>añadir/quitar columnas, actualizar y descargar listado."
          ],
          [
           "Ausentismo",
           "INVESTIGACIÓN DEL ACCIDENTE El usuario accede a la pestaña investigación del<br>accidente y visualiza un formulario donde puede rellenar el informe de la<br>investigación o simplemente subir el documento de investigación, en caso de que<br>se haya realizado de forma externa a la plataforma. Además, se pueden añadir<br>testigos del accidente de trabajo, internos o externos. SUCESOS Y CAUSAS"
          ],
          [
           "Ausentismo",
           "SUCESOS Y CAUSAS El usuario accede a la pestaña Causas del accidente y<br>visualiza el listado de las causas que han originado el accidente. Se genera a<br>través del árbol de causas. El listado cuenta con las opciones: buscador,<br>filtros, añadir/quitar columnas y actualizar. 12 El listado cuenta con las<br>acciones editar las causas, añadir la naturaleza de la causa o eliminar la<br>causa. PLAN DE ACCIÓN"
          ],
          [
           "Ausentismo",
           "PLAN DE ACCIÓN El usuario accede a la pestaña de Plan de Acción y visualiza el<br>listado con las medidas asociadas al accidente. El listado cuenta con las<br>opciones: buscador, filtros, añadir/quitar columnas, actualizar y descargar<br>listado. Cuando no hay medidas asociadas, el usuario se 13 puede dirigir a la<br>evaluación de riesgos para identificar o reevaluar los riesgos, desde la misma<br>pantalla de plan de acción. DOCUMENTACIÓN"
          ],
          [
           "Ausentismo",
           "El usuario accede a la pestaña Documentación y visualiza el listado de<br>documentos relacionados al accidente. El listado cuenta con las opciones:<br>buscador, filtros, añadir/quitar columnas, actualizar, descargar listado, subir<br>archivo y generar reporte. Cuando el usuario clica en el botón “Subir archivo”<br>se despliega una ventana lateral donde aparece el formulario de carga de<br>ficheros. Además, al clicar en “Generar reporte” el usuario puede descargar el<br>reporte del accidente de trabajo en"
          ],
          [
           "Ausentismo",
           "puede descargar el reporte del accidente de trabajo en formato PDF o Word. Los<br>campos del formulario marcados con * son de carácter obligatorio y en caso de no<br>completarlos no se permite cargar el fichero. Los archivos cargados en esta<br>pantalla también se mostrarán en el módulo repositorio documental."
          ],
          [
           "Ausentismo",
           "El usuario accede al cardboard “Enfermedades profesionales” y visualiza el<br>listado de enfermedades que se han reportado en la empresa. Además, se pueden<br>añadir nuevas enfermedades. El listado cuenta con las opciones de búsqueda,<br>filtrado, paginado, los botones Nueva enfermedad, Carga masiva (para mejor<br>entendimiento ver manual de importadores), Descargar listado y las acciones: •<br>Editar: Redirige a la ficha de datos de la enfermedad. • Documentación: Redirige<br>a la pestaña Documentación"
          ],
          [
           "Ausentismo",
           "• Documentación: Redirige a la pestaña Documentación de la enfermedad. •<br>Eliminar: Eliminar enfermedad laboral."
          ],
          [
           "Ausentismo",
           "Al acceder a la ficha de la enfermedad profesional se muestran las siguientes<br>pestañas: DATOS DE REGISTRO El usuario accede a la pestaña “Datos de registro” y<br>visualiza los datos de registro de la enfermedad profesional. INCAPACIDADES"
          ],
          [
           "Ausentismo",
           "INCAPACIDADES El usuario accede a la pestaña “Incapacidad” y visualiza el<br>listado de incapacidades y las respectivas prorrogas que se derivan de la<br>enfermedad. El listado cuenta con las opciones: buscador, filtros, añadir/quitar<br>columnas, actualizar, descargar listado, Nueva incapacidad/prórroga y las<br>acciones de editar o eliminar la ficha de datos de la incapacidad. ANTECEDENTES"
          ],
          [
           "Ausentismo",
           "ANTECEDENTES El usuario accede a la pestaña “Antecedentes” y visualiza el<br>listado de antecedentes laborales del trabajador, es decir, qué ocupaciones<br>había estado realizando. El listado cuenta con las opciones: buscador, filtros,<br>añadir/quitar columnas, actualizar, descargar listado, Nuevo antecedente y las<br>acciones de editar o eliminar la ficha de datos de los antecedentes. PLAN DE<br>ACCIÓN"
          ],
          [
           "Ausentismo",
           "PLAN DE ACCIÓN El usuario accede a la pestaña de Plan de Acción y visualiza el<br>listado con las medidas asociadas a la enfermedad. El listado cuenta con las<br>opciones: buscador, filtros, añadir/quitar columnas, actualizar, descargar<br>listado y la acción de ver los datos de la medida asociada. Cuando no haya<br>medidas asociadas, el usuario se puede dirigir a la evaluación de riesgos para<br>identificar o reevaluar los riesgos, desde la misma pantalla de plan de acción.<br>DOCUMENTACIÓN"
          ],
          [
           "Ausentismo",
           "DOCUMENTACIÓN El usuario accede a la pestaña “Documentación” y visualiza el<br>listado de documentos relacionadas a la enfermedad profesional. El listado<br>cuenta con las opciones: buscador, filtros, añadir/quitar columnas, paginado,<br>descargar listado y “Subir archivo” que despliega en una pantalla lateral el<br>formulario de carga de ficheros, y las acciones: editar, descargar y"
          ],
          [
           "Ausentismo",
           "21 eliminar. Los campos del formulario marcados con * son de carácter<br>obligatorio, en caso de no completarlos no se permite cargar el fichero. Los<br>archivos cargados en esta pantalla también se mostrarán en el módulo repositorio<br>documental."
          ],
          [
           "Ausentismo",
           "El usuario accede al cardboard “Contingencias comunes” y visualiza el listado<br>de contingencias comunes (accidentes no laborales y enfermedades comunes)<br>registradas para los trabajadores en la empresa. El listado cuenta con las<br>opciones: buscador, filtros, añadir/quitar columnas, paginado, descargar<br>listado, nueva contingencia, carga masiva (para mejor entendimiento ver manual<br>de importadores), y las acciones: • Editar: Redirige al formulario de la<br>incapacidad. • Documentación: Redirige"
          ],
          [
           "Ausentismo",
           "formulario de la incapacidad. • Documentación: Redirige a la pestaña<br>documentación. • Eliminar: Permite eliminar el registro. Los campos del<br>formulario marcados con * son de carácter obligatorio. En caso de no<br>completarlos no se permite crear/editar el registro de la incapacidad. Una vez<br>creado el registro se habilita la pestaña Documentación."
          ],
          [
           "Ausentismo",
           "Se habilitan tres subpestañas: DATOS DE LA CONTINGENCIA COMÚN El usuario accede<br>a la pestaña “Datos de registro” y visualiza un formulario con la información de<br>la contingencia común, ya sea accidente no laboral o enfermedad común.<br>INCAPACIDADES El usuario accede a la pestaña “Incapacidades” y visualiza un<br>listado con las incapacidades y las respectivas prórrogas que se derivan de la<br>contingencia común."
          ],
          [
           "Ausentismo",
           "El usuario accede a la pestaña Documentación y visualiza el listado de<br>documentos relacionadas a la contingencia común. El listado cuenta con las<br>opciones: buscador, filtros, añadir/quitar columnas, paginado, descargar<br>listado, el botón Subir archivo que despliega en una pantalla lateral el<br>formulario de carga de ficheros, y las acciones: editar, descargar y eliminar.<br>Los campos del formulario marcados con * son de carácter obligatorio. En caso de<br>que no se completen no se permite cargar"
          ],
          [
           "Ausentismo",
           "En caso de que no se completen no se permite cargar el fichero. Los archivos<br>cargados en esta pantalla también se mostrarán en el módulo repositorio<br>documental."
          ],
          [
           "Ausentismo",
           "El usuario accede al cardboard “Incapacidades” y visualiza el listado con las<br>incapacidades que se han producido en la empresa, ya sea por motivo de<br>accidentes de trabajo, accidentes no laborales, enfermedades profesionales y/o<br>enfermedades comunes. El listado cuenta con las opciones: buscador, filtros,<br>añadir/quitar columnas, paginado, descargar listado y Carga masiva (para mejor<br>entendimiento ver manual de importadores). El usuario solo puede visualizar las<br>incapacidades."
          ],
          [
           "Ausentismo",
           "7. AUSENCIAS ADMINISTRATIVAS Y PERMISOS El usuario accede al cardboard<br>“Ausencias administrativas y permisos” y visualiza el listado de ausencias<br>administrativas y permisos registrados para los trabajadores de la empresa. El<br>listado cuenta con las opciones: buscador, filtros, añadir/quitar columnas,<br>actualizar, descargar listado y añadir Nueva ausencia/ permiso. Se pueden<br>realizar las acciones:"
          ],
          [
           "Ausentismo",
           "28 • Editar: Redirige a la ficha de la ausencia administrativa o permiso. •<br>Eliminar: Permite eliminar el registro. Se accede al formulario a través del<br>botón “Nueva ausencia/permiso” y el usuario visualiza una serie de campos que<br>debe completar, los campos del formulario marcados con * son de carácter<br>obligatorio, en caso de no completarlos no se permite crear/editar el registro."
          ],
          [
           "Ausentismo",
           "El usuario accede al cardboard “Estadísticas” y visualiza gráficos que<br>recopilan información del módulo, estas gráficas se pueden descargar en formato<br>PNG o exportar a hoja de cálculo. Además, se puede filtrar la información por<br>fechas de inicio y fechas de fin. En el caso del gráfico de Incapacidades por<br>tipo de incapacidad. 30 Las gráficas que se muestran son: • Frecuencia de<br>accidentalidad 31 • Proporción de accidentes de trabajo mortales • Prevalencia<br>de enfermedad laboral"
          ],
          [
           "Ausentismo",
           "• Prevalencia de enfermedad laboral • Incidencia de enfermedad laboral 32 •<br>Ausentismo por causa médica • Gravedad de los accidentes de trabajo •<br>Incapacidades"
          ]
         ],
         "hovertemplate": "<b>Manual:</b> %{customdata[0]}<br><b>Texto:</b> %{customdata[1]}<extra></extra>",
         "legendgroup": "Ausentismo",
         "marker": {
          "color": "#EF553B",
          "symbol": "circle"
         },
         "mode": "markers",
         "name": "Ausentismo",
         "orientation": "v",
         "showlegend": true,
         "type": "scatter",
         "x": [
          5.2542872,
          3.7662063,
          -5.4163837,
          8.23766,
          11.638092,
          -2.9236467,
          -3.8879764,
          -1.9828725,
          -0.60276705,
          -4.5357933,
          5.557493,
          4.162992,
          3.8112023,
          -4.605043,
          -9.78176,
          -3.8243313,
          -0.72672457,
          5.946171,
          5.496762,
          4.16044,
          3.9764721,
          -1.5331625,
          -9.703433,
          -2.6560285,
          -6.0033,
          1.3853315,
          -3.1749754,
          -9.68832,
          -3.097372,
          -0.34457466,
          -6.459529,
          6.638541,
          6.8510222
         ],
         "xaxis": "x",
         "y": [
          -2.612768,
          0.70024645,
          -8.233745,
          0.94927394,
          0.00054807996,
          0.22708383,
          3.9078052,
          -7.1301336,
          2.1377075,
          -0.7049721,
          5.9375625,
          5.234653,
          2.0777626,
          -6.474992,
          -3.3429558,
          -0.09544228,
          5.368338,
          5.698862,
          5.9255958,
          5.393735,
          2.1796927,
          -0.6477631,
          -3.1996415,
          0.5790873,
          0.17524111,
          6.406852,
          2.4322126,
          -3.285587,
          -2.966635,
          -2.992686,
          0.9534629,
          3.185357,
          3.1389265
         ],
         "yaxis": "y"
        },
        {
         "customdata": [
          [
           "Estructura Organizativa",
           "DATOS DEL DOCUMENTO Documento Manual de uso: Estructura organizativa (GE).<br>Descripción Manual guía de usuario del módulo de Estructura Organizativa.<br>Versión 2.0 Fecha modificación 06/02/2023 Realizado por Mercedes León<br>Actualizado por Mercedes León Aprobado por"
          ],
          [
           "Estructura Organizativa",
           "Versión Fecha Comentarios Autor Versión 1.0 28/10/2021 Redacción Mercedes León<br>Chele Versión 1.0 28/10/2021 Aprobación Miguel Ángel Rodríguez Versión 1.1<br>07/03/2022 Actualización Mercedes León Chele Versión 1.2 15/06/2022<br>Actualización Andrea Alonso Almecija Versión 2.0 13/10/2022 Actualización<br>Mercedes León Chele CONTENIDO"
          ],
          [
           "Estructura Organizativa",
           "CONTENIDO Sabentis es la nueva plataforma de gestión especializada en el ámbito<br>de Seguridad y Salud en el Trabajo adaptada a las nuevas tecnologías y a los<br>nuevos modelos de gestión de la prevención. El módulo Estructura Organizativa<br>permite la definición y gestión de empresas en la plataforma, cuenta con la<br>posibilidad de configurar ubicaciones que reflejan mejor la realidad de las<br>empresas. 2. MODELO DE ESTRUCTURA ORGANIZATIVA: GRAN EMPRESA"
          ],
          [
           "Estructura Organizativa",
           "El módulo estructura organizativa permite la definición y gestión de empresas<br>en la plataforma, cuenta con la posibilidad de configurar ubicaciones que<br>reflejan mejor la realidad de las empresas y herramientas para agilizar la<br>navegación y creación de la estructura. La estructura organizativa permite<br>seleccionar las entidades básicas de las ocupaciones (CIUO) y la concepción de<br>los puestos de trabajo. Los puestos de trabajo son entendidos como el lugar o<br>área ocupada por las personas"
          ],
          [
           "Estructura Organizativa",
           "entendidos como el lugar o área ocupada por las personas dentro de la<br>organización donde se desarrollan actividades, es decir la unión entre una<br>ocupación y ubicación física."
          ],
          [
           "Estructura Organizativa",
           "7 TIPOLOGÍA DE CENTRO DE TRABAJO"
          ],
          [
           "Estructura Organizativa",
           "Las unidades productivas de la organización pueden presentar distintas<br>características, contemplar distintas tipologías de unidades productivas con<br>campos propios que permiten la correcta descripción de estas. Las unidades<br>productivas contempladas son: ▪ Centro de trabajo (CT): utilizado para reflejar<br>las unidades productivas que son lugares edificados. ▪ Obra: permite definir las<br>obras de construcción de distinto tipo y magnitud, el rol de la unidad<br>productiva (empresa principal o"
          ],
          [
           "Estructura Organizativa",
           "el rol de la unidad productiva (empresa principal o contratista, es decir,<br>centro propio o de un tercero) y las fechas de inicio y fin. ▪ Itinerante: hace<br>referencia a aquellas unidades productivas sin un emplazamiento fijo y duración,<br>como pueden ser vehículos o ferias."
          ],
          [
           "Estructura Organizativa",
           "3. HOME ESTRUCTURA ORGANIZATIVA El usuario puede acceder al módulo Estructura<br>Organizativa (EO), desde las opciones: • La entrada del menú lateral. • Desde el<br>cardboard “Estructura Organizativa”."
          ],
          [
           "Estructura Organizativa",
           "Se visualizan diez cardboards que dan entrada a las diferentes funcionalidades<br>del módulo: • Empresas • Centros de trabajo • Ocupaciones • Lugares de trabajo •<br>Puestos de trabajo • Trabajadores • Ubicaciones libres físicas • Ubicaciones<br>libres operativas • Perfiles de empresa • Agentes materiales"
          ],
          [
           "Estructura Organizativa",
           "Además, se visualiza un dashboard que contiene datos estadísticos actualizados<br>automáticamente a la fecha de consulta de la empresa a nivel de estructura<br>organizativa, así como un georreferenciador de los centros de trabajo. Las<br>gráficas muestran la siguiente información:"
          ],
          [
           "Estructura Organizativa",
           "NOMBRE DESCRIPCIÓN Centros de trabajo Contador con el total de centros de<br>trabajo registrados. Al clicar al link “Ver más” redirige al listado de centros<br>de trabajo. Puestos de trabajo Contador con el total de puestos de trabajo<br>registrados. Trabajadores Contador con el total de trabajadores registrados. Al<br>clicar al link “Ver más” redirige al listado de trabajadores. Distribución de<br>trabajadores por género Gráfica circular de datos de distribución de<br>trabajadores por género:"
          ],
          [
           "Estructura Organizativa",
           "de datos de distribución de trabajadores por género: masculino/femenino. Al<br>colocar el cursor sobre un segmento de la gráfica, se muestra el número de<br>trabajadores pertenecientes al segmento. Las gráficas se pueden descargar.<br>Distribución de trabajadores por rango de edad Gráfica circular de datos de<br>distribución de trabajadores por rango de edad (5 rangos definidos). Al colocar<br>el cursor sobre un segmento de la gráfica, se muestra el número de trabajadores<br>pertenecientes al segmento."
          ],
          [
           "Estructura Organizativa",
           "el número de trabajadores pertenecientes al segmento. Las gráficas se pueden<br>descargar. Georreferenciador de la distribución de centros de trabajo Permite<br>ver la ubicación de los centros de trabajo, por medio de un mapa geolocalizador."
          ],
          [
           "Estructura Organizativa",
           "El usuario accede al cardboard Empresas, se presentan los siguientes casos<br>dependiendo de la selección del contexto: • Con empresa en contexto: la<br>plataforma redirige al usuario a la ficha de la empresa."
          ],
          [
           "Estructura Organizativa",
           "11 Las empresas pueden crearse directamente en la plataforma Sabentis o se<br>pueden integrar desde otras plataformas. El listado de empresas muestra por<br>defecto las empresas con estado activo y cuenta con las siguientes opciones:<br>buscador, filtrar, descargar listado, paginado y la acción editar. Desde la<br>ficha de empresa se puede cargar el logotipo de la empresa y otros datos de<br>interés, además, se facilita al usuario a crear o editar los Centros de trabajo<br>y desde éste la estructura"
          ],
          [
           "Estructura Organizativa",
           "o editar los Centros de trabajo y desde éste la estructura inferior (Lugares de<br>trabajo, Ocupaciones, etc). A través de la ficha de empresa se tiene acceso a<br>las pestañas “Centros de Trabajo”, “Trabajadores de la empresa” y “Documentos”."
          ],
          [
           "Estructura Organizativa",
           "PESTAÑA CENTROS DE TRABAJO"
          ],
          [
           "Estructura Organizativa",
           "Desde esta pestaña el usuario visualiza el listado de los centros de trabajo<br>que pertenecen a la empresa; por defecto el listado mostrará los que tengan<br>estado activo. El usuario podrá crear nuevos centros en la empresa a través del<br>botón “Agregar nuevo centro” que redirige al formulario de creación. En el<br>formulario se mostrará por defecto el nombre de la empresa en contexto. Los<br>campos del formulario marcados con * son de carácter obligatorio y en caso de no<br>completarlos no se permite"
          ],
          [
           "Estructura Organizativa",
           "obligatorio y en caso de no completarlos no se permite crear/guardar el<br>registro. Este listado cuenta con las siguientes opciones: buscador, filtrar,<br>descargar listado, paginado y cuenta con las acciones: • Editar: permite acceder<br>a la ficha del centro y editar la información. • Eliminar: permite eliminar los<br>registros creados a excepción del centro que haya sido designado como sede<br>principal. Para poder eliminar un centro de trabajo marcado como sede principal,<br>se debe escoger otro"
          ],
          [
           "Estructura Organizativa",
           "trabajo marcado como sede principal, se debe escoger otro centro de trabajo<br>como sede principal."
          ],
          [
           "Estructura Organizativa",
           "Al editar la información del centro de trabajo se visualiza la ficha de datos<br>del centro junto a las pestañas “Trabajadores del centro”, “Lugares de trabajo”,<br>“Ocupaciones”, “Agentes Materiales”, “Puestos de Trabajo” y “Documentos”. Desde<br>esta ruta se facilita al usuario a crear la estructura inferior del Centro de<br>trabajo -como lugares de trabajo, ocupaciones, puestos y agentes materiales- así<br>como también gestionar las relaciones Centro-Trabajador."
          ],
          [
           "Estructura Organizativa",
           "El usuario al acceder a esta pestaña visualiza el listado de los trabajadores<br>añadidos manualmente o por integración en la empresa. Si la carga de datos de<br>trabajadores se realiza por integración el usuario solo puede visualizar la<br>información mas no editarla. Este listado muestra por defecto los trabajadores<br>con estado activo y cuenta con las siguientes opciones: buscador, filtrar,<br>paginado, el botón “Agregar nuevo trabajador” que redirige al formulario de<br>creación. La opción"
          ],
          [
           "Estructura Organizativa",
           "que redirige al formulario de creación. La opción “Operación”, se habilita una<br>vez se seleccione mínimo un trabajador y permite descargar el listado, así como<br>también enviar correos. Una vez escogida la operación a realizar se debe de<br>“ejecutar la operación” y las acciones: • Editar: redirige a la ficha del<br>trabajador para editar la información. • Enviar correo: permite enviar correos<br>directamente al trabajador. • Eliminar: permite eliminar el registro del<br>trabajador."
          ],
          [
           "Estructura Organizativa",
           "PESTAÑA DOCUMENTOS Desde esta pestaña el usuario visualiza un listado de<br>documentos disponibles a nivel de empresa, estos documentos pueden estar en<br>estado “vigente” o “expirado”. Los documentos cargados en esta pestaña también<br>se visualizarán en el listado del repositorio documental. Además, en los<br>documentos de la estructura organizativa, por defecto se"
          ],
          [
           "Estructura Organizativa",
           "15 añadirán Tags predefinidos (para mejor entendimiento ver manual de<br>repositorio documental). Este listado cuenta con las siguientes opciones:<br>buscador, filtrar, paginado, el botón “Añadir ficheros” que redirige al<br>formulario de cargas de documentos y las acciones descargar, editar y eliminar.<br>El usuario accede al formulario y visualiza una serie de campos a cumplimentar.<br>Los campos marcados con * son de carácter obligatorio y en caso de que no se<br>completen no se permite crear/editar el"
          ],
          [
           "Estructura Organizativa",
           "caso de que no se completen no se permite crear/editar el registro."
          ],
          [
           "Estructura Organizativa",
           "El usuario accede al cardboard Centros de trabajo, se presentan los siguientes<br>casos dependiendo de la selección del contexto: • Con empresa y CT en contexto:<br>redirige directamente a la ficha del centro en contexto. 17 • Solo con empresa<br>en contexto: redirige al listado de todos los CT registrados en la empresa. •<br>Sin empresa en contexto: redirige al listado de CT registrados en la plataforma."
          ],
          [
           "Estructura Organizativa",
           "18 botón “Agregar nuevo centro” que redirige al formulario de creación y la<br>acciones editar y eliminar. Estas funcionalidades están disponibles en función<br>de los grupos a los que pertenezca el usuario y los permisos asignados. Los<br>campos del formulario marcados con * son de carácter obligatorio y en caso de no<br>completarlos no se permite crear/guardar el registro. También se puede realizar<br>la carga masiva de centros de trabajo y la carga masiva de la relación centros<br>de"
          ],
          [
           "Estructura Organizativa",
           "de trabajo y la carga masiva de la relación centros de trabajo-trabajador. Una<br>vez seleccionado el tipo de carga masiva que se va a realizar redirige al<br>usuario a la funcionalidad de importación/exportación donde se puede descargar<br>los ficheros para crear y/o actualizar los registros de centros (para mejor<br>entendimiento ver el manual de importadores)."
          ],
          [
           "Estructura Organizativa",
           "Accediendo desde la ficha del centro de trabajo se visualizan las pestañas<br>“Trabajadores del centro”, “Lugares de trabajo”, “Ocupaciones”, “Agentes<br>materiales”, “Puestos de trabajo” y “Documentos”. Se detallan las acciones que<br>se pueden realizar desde cada una de las pestañas indicadas. PESTAÑA<br>TRABAJADORES DEL CENTRO"
          ],
          [
           "Estructura Organizativa",
           "Desde esta pestaña el usuario puede: • Ver el listado de los trabajadores que<br>están asociados al CT, por defecto se muestran los trabajadores cuyo estado es<br>activo. • Asociar más trabajadores al CT desde el apartado “Asociar nuevo<br>trabajador” situado al final del listado. • Agregar nuevos trabajadores desde la<br>opción “Agregar nuevo trabajador”. Este listado cuenta con las siguientes<br>opciones: buscador, filtrar, paginado, la opción “Operación” -esta se habilita<br>una vez se ha"
          ],
          [
           "Estructura Organizativa",
           "la opción “Operación” -esta se habilita una vez se ha seleccionado como mínimo<br>un trabajador y permite descargar el listado de trabajadores asociados al<br>centro- enviar correos (una vez escogida la operación a realizar se debe clicar<br>al ícono) y las acciones: • Editar: permite editar la ficha de datos del<br>trabajador, así como editar la información relativa a los puestos de trabajo y<br>añadir documentos. • Editar fechas: permite editar las fechas de la relación del<br>trabajador con el centro"
          ],
          [
           "Estructura Organizativa",
           "las fechas de la relación del trabajador con el centro en el apartado “Asociar<br>nuevo trabajador”. • Desasociar: elimina la relación entre el trabajador y el<br>CT. • Ver histórico: permite ver el histórico de relaciones entre el trabajador<br>y el CT. • Enviar correo: opción para enviar correo directamente al trabajador."
          ],
          [
           "Estructura Organizativa",
           "NOTA: Los CT tienen los estados Activo/Inactivo, al dar de baja (inactivar) un<br>centro de trabajo toda su estructura inferior (lugares de trabajo, puestos de<br>trabajo, agentes materiales, al igual que las relaciones existentes entre los<br>trabajadores y ocupaciones, etcétera) dejan de estar visibles al usuario. En el<br>momento que se da de alta (activa) de nuevo al centro de trabajo toda su<br>estructura inferior y relaciones vuelven a activarse."
          ],
          [
           "Estructura Organizativa",
           "El usuario desde esta pestaña puede visualizar el listado de los lugares de<br>trabajo del centro de trabajo y desde el botón “Nuevo” crear nuevos lugares a<br>nivel del centro. Los campos marcados con * son de carácter obligatorio y en<br>caso de no completarlos no se permite crear/guardar el registro. Este listado<br>cuenta con las siguientes opciones: buscador, filtrar, descargar listado,<br>paginado, y las acciones editar y eliminar. PESTAÑA OCUPACIONES"
          ],
          [
           "Estructura Organizativa",
           "PESTAÑA OCUPACIONES El usuario desde esta pestaña puede visualizar el listado<br>de los cargos u ocupaciones del CT y también crear nuevos cargos desde el botón<br>“Agregar nuevo cargo” que redirige al formulario de creación. Los campos<br>marcados con * son de carácter obligatorio y en caso de no completarlos no se<br>permite crear/guardar el registro. Este listado cuenta con las siguientes<br>opciones: buscador, filtrar, descargar listado, paginado, y las acciones editar<br>y eliminar."
          ],
          [
           "Estructura Organizativa",
           "PESTAÑA AGENTES MATERIALES El usuario desde esta pestaña puede visualizar el<br>listado de los agentes materiales del CT y también crear nuevos agentes<br>materiales desde el botón “Nuevo” que redirige al formulario de creación. Los<br>campos marcados con * son de carácter obligatorio y en caso de no completarlos<br>no se permite crear/guardar el registro. Este listado cuenta con las siguientes<br>opciones: buscador, filtrar, descargar listado, paginado, y las acciones editar<br>y eliminar."
          ],
          [
           "Estructura Organizativa",
           "PESTAÑA PUESTOS DE TRABAJO El usuario desde esta pestaña puede visualizar el<br>listado de los puestos de trabajo del CT y agregar un nuevo puesto de trabajo<br>desde el botón “Agregar nuevo puesto” que redirige al"
          ],
          [
           "Estructura Organizativa",
           "25 formulario de creación del puesto de trabajo. Los campos marcados con * son<br>de carácter obligatorio y en caso de no completarlos no se permite crear/guardar<br>el registro. Este listado cuenta con las siguientes opciones: buscador, filtrar,<br>descargar listado, paginado y las acciones editar y eliminar."
          ],
          [
           "Estructura Organizativa",
           "Al acceder a esta pestaña el usuario visualiza un listado de documentos<br>disponibles a nivel del centro, las acciones a realizar en esta pestaña son las<br>mismas indicadas en el apartado pestaña documentos de la empresa. El usuario<br>accede al cardboard Ocupaciones, se presentan los siguientes casos dependiendo<br>de la selección del contexto: • Con empresa y CT en contexto: redirige al<br>listado de los cargos u ocupaciones del centro seleccionado."
          ],
          [
           "Estructura Organizativa",
           "El usuario puede crear nuevos cargos u ocupaciones a nivel del centro<br>manualmente desde el botón “Agregar ocupación” que redirige al formulario de<br>creación, o a través de carga masiva desde el botón “Carga masiva”. Los campos<br>marcados con * son de carácter obligatorio y en caso de no completarlos no se<br>permite crear/guardar el registro. Este listado cuenta con las siguientes<br>opciones: buscador, filtrar, descargar listado, paginado, y las acciones editar<br>y eliminar. En el caso de tener"
          ],
          [
           "Estructura Organizativa",
           "y las acciones editar y eliminar. En el caso de tener centro de trabajo en<br>contexto al agregar un nuevo cargo, este se vincula con el centro de trabajo<br>seleccionado. En función de la configuración de empresa se podrán crear<br>Ocupaciones a nivel de empresa o de centros. Desde la ficha de datos se accede a<br>las pestañas “Actividad” y “Documentos”. En la ficha de datos de la ocupación<br>aparecen los botones “Eliminar el cargo”, “Ver los trabajadores”, “Ver puestos<br>de trabajo”, “Exportar el"
          ],
          [
           "Estructura Organizativa",
           "los trabajadores”, “Ver puestos de trabajo”, “Exportar el cargo como plantilla”<br>y “Aplicar plantilla”."
          ],
          [
           "Estructura Organizativa",
           "PESTAÑA ACTIVIDAD El usuario desde esta pestaña puede visualizar el listado de<br>actividades vinculadas a la ocupación seleccionada. Este listado cuenta con las<br>siguientes opciones: buscador, filtrar, descargar listado, paginado y la acción<br>editar -permite editar y eliminar-. PESTAÑA DOCUMENTOS"
          ],
          [
           "Estructura Organizativa",
           "PESTAÑA DOCUMENTOS Al acceder a esta pestaña el usuario visualiza un listado de<br>documentos disponibles a nivel de ocupaciones. Las acciones a realizar en esta<br>pestaña son las mismas indicadas en el apartado pestaña documentos de la<br>empresa. El usuario accede al cardboard Lugares de trabajo, se presentan los<br>siguientes casos dependiendo de la selección del contexto: • Con empresa y CT en<br>contexto: redirige al listado de los lugares de trabajo del centro de trabajo<br>seleccionado."
          ],
          [
           "Estructura Organizativa",
           "• Solo con empresa en contexto: redirige al listado de todos los lugares de<br>trabajo disponibles en la empresa. Este listado cuenta con las siguientes<br>opciones: buscador, filtrar, descargar listado, paginado, botón “Carga masiva”,<br>el botón “Nuevo” que redirige al formulario de creación y las acciones:"
          ],
          [
           "Estructura Organizativa",
           "33 • Editar: permite acceder a la ficha del lugar de trabajo y editar la<br>información. • Eliminar: permite eliminar los registros creados. Estas<br>funcionalidades están disponibles en función de los grupos a los que pertenezca<br>el usuario y los permisos asignados. Los campos marcados con * son de carácter<br>obligatorio y en caso de no completarlos no se permite crear/guardar el<br>registro. Desde la ficha de datos del lugar de trabajo se accede a las pestañas<br>“Zonas”, “Puestos de trabajo” y"
          ],
          [
           "Estructura Organizativa",
           "se accede a las pestañas “Zonas”, “Puestos de trabajo” y “Documentos”. En la<br>ficha de datos aparecen los botones “Exportar lugar de trabajo como plantilla”,<br>“Aplicar plantilla”, “Eliminar”, “Ver trabajadores”."
          ],
          [
           "Estructura Organizativa",
           "PESTAÑA ZONA El usuario desde esta pestaña puede visualizar el listado de las<br>zonas que corresponden al lugar de trabajo. Este listado muestra por defecto las<br>zonas con estado activo y cuenta con las siguientes opciones: buscador, filtrar,<br>descargar listado, paginado, el botón “Nuevo” que redirige al formulario de<br>creación y las acciones editar y eliminar. 35 Los campos marcados con * son de<br>carácter obligatorio y en caso de no completarlos no se permite crear/guardar el<br>registro."
          ],
          [
           "Estructura Organizativa",
           "PESTAÑA PUESTOS DE TRABAJO El usuario desde esta pestaña puede visualizar el<br>listado de los puestos de trabajo relacionados con el lugar de trabajo<br>seleccionado."
          ],
          [
           "Estructura Organizativa",
           "36 Este listado cuenta con las siguientes opciones: buscador, filtrar,<br>descargar listado, paginado, el botón “Nuevo” que redirige al formulario de<br>creación del puesto de trabajo, y las acciones editar y eliminar. Los campos<br>marcados con * son de carácter obligatorio y en caso de no completarlos no se<br>permite crear/guardar el registro."
          ],
          [
           "Estructura Organizativa",
           "Al acceder a esta pestaña el usuario visualiza un listado de documentos<br>disponibles a nivel de lugares de trabajo, las acciones a realizar en esta<br>pestaña son las mismas indicadas en el apartado pestaña documentos de la<br>empresa. El usuario accede al cardboard Puestos de trabajo, se presentan los<br>siguientes casos dependiendo de la selección del contexto: • Con empresa y CT en<br>contexto: redirige al listado de puestos de trabajo del centro."
          ],
          [
           "Estructura Organizativa",
           "• Solo con empresa en contexto: redirige al listado de todos los puestos de<br>trabajo de toda la empresa. Se puede crear nuevos puestos de trabajo desde el<br>botón “Agregar nuevo puesto” que redirige al formulario de creación. Los puestos<br>de trabajo se crean a nivel de centro, lugares"
          ],
          [
           "Estructura Organizativa",
           "39 de trabajo, superficie, zona o área disponibles. También se puede cargar<br>varios puestos de forma masiva desde el botón “Carga masiva”. Estas<br>funcionalidades están disponibles en función de los grupos a los que pertenezca<br>el usuario y los permisos asignados. Los campos del formulario marcados con *<br>son de carácter obligatorio y en caso de no completarlos no se permite<br>crear/editar el registro. Este listado cuenta con las siguientes opciones:<br>buscador, filtrar, paginado, descargar"
          ],
          [
           "Estructura Organizativa",
           "siguientes opciones: buscador, filtrar, paginado, descargar listado y las<br>acciones: • Editar: permite editar la ficha de datos del puesto de trabajo. Al<br>editar la ficha de datos se visualizan las pestañas “Trabajadores del puesto”,<br>“Restricciones”, “Documentos”. • Eliminar: permite eliminar los registros<br>creados."
          ],
          [
           "Estructura Organizativa",
           "PESTAÑA TRABAJADORES DEL PUESTO El usuario desde esta pestaña puede visualizar<br>el listado de los trabajadores vinculados al puesto de trabajo. Este listado<br>cuenta con las siguientes opciones: buscador, filtrar, paginado, botón “Agregar<br>trabajador” que redirige al formulario de creación y las acciones: • Editar<br>fechas: Permite modificar las fechas de la relación entre el trabajador y el<br>puesto. 41 • Desasociar: Permite desasociar al trabajador del puesto de trabajo."
          ],
          [
           "Estructura Organizativa",
           "PESTAÑA RESTRICCIONES En esta pestaña se define las restricciones del puesto de<br>trabajo, agentes materiales que pueden afectar a la salud de los trabajadores y<br>las sensibilidades especiales tanto del puesto de trabajo como de los agentes<br>materiales relacionados al puesto. SENSIBILIDADES ESPECIALES DEL PUESTO DE<br>TRABAJO"
          ],
          [
           "Estructura Organizativa",
           "SENSIBILIDADES ESPECIALES DEL PUESTO DE TRABAJO El usuario puede seleccionar<br>aquellas sensibilidades especiales del puesto de trabajo para indicar que el<br>puesto de trabajo no es apto para personas con alguna de las siguientes<br>sensibilidades: • Embarazo • Lactancia • Menor de edad • Discapacidad física •<br>Discapacidad sensorial • Discapacidad psicosocial RESTRICCIONES DEL PUESTO DE<br>TRABAJO"
          ],
          [
           "Estructura Organizativa",
           "RESTRICCIONES DEL PUESTO DE TRABAJO Desde este listado se pueden definir las<br>restricciones que tiene el puesto de trabajo. Este listado cuenta con las<br>siguientes opciones: buscador, filtrar, paginado, descargar listado, el botón<br>“Añadir restricción” que abre una ventana lateral con restricciones<br>predefinidas, sus factores, descripción y limitaciones y la acción eliminar que<br>permite eliminar la restricción. SENSIBILIDADES ESPECIALES DE LOS AGENTES<br>MATERIALES RELACIONADOS"
          ],
          [
           "Estructura Organizativa",
           "El listado muestra los condicionantes en los agentes materiales vinculados al<br>puesto, es decir, agentes materiales que no son aptos para personas con alguna<br>sensibilidad. Este apartado es informativo, las sensibilidades especiales de los<br>agentes materiales se definen en el formulario de “Agentes Materiales”. Este<br>listado cuenta con las siguientes opciones: buscador, filtrar, paginado y<br>descargar listado. 43 RESTRICCIONES DE LOS AGENTES MATERIALES"
          ],
          [
           "Estructura Organizativa",
           "43 RESTRICCIONES DE LOS AGENTES MATERIALES En este listado se muestran las<br>restricciones que tienen los agentes materiales relacionados al puesto de<br>trabajo. Este listado cuenta con las siguientes opciones: buscador, filtrar,<br>paginado y descargar listado. Este apartado es informativo, en el formulario<br>Agentes Materiales se pueden definir estas restricciones. PESTAÑA DOCUMENTO"
          ],
          [
           "Estructura Organizativa",
           "PESTAÑA DOCUMENTO Al acceder a esta pestaña el usuario visualiza un listado de<br>documentos disponibles. Las acciones para realizar en esta pestaña son las<br>mismas indicadas en el apartado documentos de la empresa. El usuario accede al<br>cardboard Trabajadores, se presentan los siguientes casos dependiendo de la<br>selección del contexto: • Con empresa en contexto: la plataforma redirige al<br>usuario a la ficha de trabajadores de la empresa."
          ],
          [
           "Estructura Organizativa",
           "• Con empresa y centro en contexto: el usuario visualiza los trabajadores de la<br>empresa y del centro de trabajo seleccionado."
          ],
          [
           "Estructura Organizativa",
           "En función de los grupos a los que pertenezca el usuario y los permisos<br>asignados tendrá la opción de agregar trabajadores manualmente o de forma<br>masiva. Si se realiza por integración, el usuario solo podrá visualizar la<br>información mas no editarla. Por defecto se muestran los trabajadores con estado<br>“Activo”, el listado cuenta con las opciones de búsqueda, filtrado, paginado, el<br>botón “Agregar nuevo trabajador” que redirige al formulario de creación y el<br>botón “Carga masiva” que permite"
          ],
          [
           "Estructura Organizativa",
           "de creación y el botón “Carga masiva” que permite descargar/ cargar una gran<br>cantidad de datos de forma simultánea (Para complementar información de carga<br>masiva por favor revisar el manual de importadores). Además, cuenta con las<br>acciones editar que redirige a la ficha de datos del trabajador, eliminar que<br>permite eliminar el registro y enviar correo. La opción “Operación” se habilita<br>una vez se ha seleccionado como mínimo un trabajador y permite descargar el<br>listado, así como también"
          ],
          [
           "Estructura Organizativa",
           "y permite descargar el listado, así como también enviar correos (una vez<br>escogida la operación a realizar se debe ejecutar la operación). Los campos del<br>formulario marcados con * son de carácter obligatorio y en caso de no<br>completarlos no se permite crear/editar el registro."
          ],
          [
           "Estructura Organizativa",
           "PESTAÑA CENTROS DE TRABAJO En esta pestaña se visualiza el listado de centros a<br>los que el trabajador se encuentra asociado, cabe indicar que un trabajador<br>puede estar asociado a “n centros”. El listado cuenta con las opciones de<br>búsqueda, filtrado, paginado, el botón “Asociar centros de trabajo” que permite<br>asociar al trabajador con un puesto de trabajo, “Historial de centros de"
          ],
          [
           "Estructura Organizativa",
           "49 trabajo” donde visualiza el historial de las relaciones del trabajador con<br>los centros, y las acciones: • Editar fechas: Modificar las fechas de la<br>relación entre el trabajador y el centro. • Desasociar: Elimina la relación del<br>trabajador con el centro. Los campos del formulario marcados con * son de<br>carácter obligatorio y en caso de no completarlos no se permite crear/editar el<br>registro."
          ],
          [
           "Estructura Organizativa",
           "50 Al guardar los datos del formulario relativos a asociar un centro a un<br>trabajador, la nueva relación Trabajador-Centro se mostrará en el listado<br>Centros a los que pertenece el trabajador. Al acceder al “Historial de centros”<br>el usuario es dirigido a la pantalla Historial de CT donde podrá editar las<br>fechas de inicio/relación del trabajador con el centro siempre que la relación<br>se mantenga activa, es decir la fecha término no puede ser igual o mayor a la<br>fecha actual."
          ],
          [
           "Estructura Organizativa",
           "PESTAÑA PUESTO DE TRABAJO"
          ],
          [
           "Estructura Organizativa",
           "El usuario desde esta pestaña puede visualizar el listado de los puestos de<br>trabajo a los que pertenece cada trabajador. Este listado muestra por defecto<br>los puestos de trabajo con estado activo y cuenta con las siguientes opciones:<br>buscador, filtrar, descargar listado, paginado, el botón “Asociar puesto de<br>trabajo” que redirige al formulario de creación y las acciones: • Editar fechas:<br>permite editar las fechas de la relación del trabajador con el puesto de<br>trabajo. • Eliminar:"
          ],
          [
           "Estructura Organizativa",
           "del trabajador con el puesto de trabajo. • Eliminar: permite eliminar el<br>registro. Los campos del formulario marcados con * son de carácter obligatorio y<br>en caso de no completarlos no se permite crear/editar el registro."
          ],
          [
           "Estructura Organizativa",
           "Al acceder a esta pestaña el usuario puede definir Restricciones, visualizar<br>los Certificados de aptitud, Peligros y riesgos, Equipos de protección personal<br>y Contingencias e Incapacidades laborales que aplican al trabajador.<br>RESTRICCIONES"
          ],
          [
           "Estructura Organizativa",
           "RESTRICCIONES Desde la pestaña Restricciones el usuario puede indicar cuáles<br>son las sensibilidades del trabajador, así como añadir las<br>restricciones/limitaciones del trabajador y visualizar las restricciones que<br>provienen del módulo de Vigilancia de la Salud. Además, podrá visualizar el<br>listado de las sensibilidades especiales de los puestos de trabajo y agentes<br>materiales, y las restricciones de puestos de trabajo y agentes materiales.<br>CERTIFICADOS DE APTITUD"
          ],
          [
           "Estructura Organizativa",
           "Los certificados de aptitud son documentos que determinan si el trabajador es<br>apto laboralmente para realizar las actividades inherentes al puesto de trabajo.<br>En esta pestaña, el usuario visualiza un listado de los certificados de aptitud<br>del trabajador. El certificado de aptitud puede estar en estado vigente o<br>expirado. Este listado cuenta con las siguientes opciones: buscador, filtrar,<br>paginado, botón “Subir archivo” que redirige al formulario de carga de ficheros<br>y las acciones editar,"
          ],
          [
           "Estructura Organizativa",
           "al formulario de carga de ficheros y las acciones editar, eliminar y"
          ],
          [
           "Estructura Organizativa",
           "54 descargar el certificado. Los campos del formulario marcados con * son de<br>carácter obligatorio y en caso de no completarlos no se permite crear/editar el<br>registro. En la pestaña Peligros y Riesgos se muestra un listado informativo de<br>los peligros y riesgos a los que se encuentra expuesto el trabajador a través de<br>las ubicaciones que tiene relacionadas. Este listado cuenta con las siguientes<br>opciones: buscador, filtrar, descargar listado y paginado. EQUIPOS DE PROTECCIÓN<br>PERSONAL"
          ],
          [
           "Estructura Organizativa",
           "En la pestaña Equipos de protección personal se muestran dos listados: • La<br>Definición de EPP contiene una tabla con la definición de los Equipos de<br>Protección Personal que le corresponde ser entregados y utilizados al trabajador<br>para minimizar los riesgos a los que se encuentra expuesto de acuerdo con su<br>puesto de trabajo y características personales. El listado es informativo y<br>cuenta con las siguientes opciones: buscador, filtrar, descargar listado y<br>paginado. • El listado de Las"
          ],
          [
           "Estructura Organizativa",
           "descargar listado y paginado. • El listado de Las Entregas de EPP realizadas<br>muestra todas aquellas entregas de EPP que le han sido realizadas al trabajador.<br>Este listado cuenta con las siguientes opciones: buscador, filtrar, descargar<br>listado, paginado y la acción ver que abre una pantalla lateral donde se pueden<br>visualizar de forma informativa los datos relativos a la entrega. El estado de<br>la entrega puede ser vigente, vigente con devolución parcial, devolución total y<br>caducado."
          ],
          [
           "Estructura Organizativa",
           "PESTAÑA CONTINGENCIAS LABORALES"
          ],
          [
           "Estructura Organizativa",
           "Al acceder a esta pestaña el usuario visualiza un listado informativo con todos<br>los registros de contingencias laborales del trabajador, un primer listado con<br>los accidentes de trabajo y otro con enfermedades laborales del trabajador.<br>Ambos listados, cuentan con las siguientes opciones: buscador, filtrar,<br>descargar listado, paginado y la acción ir a la contingencia que redirige a la<br>ficha de datos de la contingencia del accidente de trabajo o de la enfermedad<br>profesional."
          ],
          [
           "Estructura Organizativa",
           "58 PESTAÑA INCAPACIDADES LABORALES"
          ],
          [
           "Estructura Organizativa",
           "En esta pantalla el usuario visualiza un listado con todas las incapacidades<br>del trabajador derivadas de las contingencias profesionales (accidentes de<br>trabajo y enfermedades profesionales). Este listado es informativo y cuenta con<br>las siguientes opciones: buscador, filtrar, descargar listado, paginado y la<br>acción ver, que abre una pantalla lateral de visualización con los datos de la<br>incapacidad o la prórroga. En esta pantalla lateral, el usuario tiene la opción<br>de ir a la ficha de la"
          ],
          [
           "Estructura Organizativa",
           "lateral, el usuario tiene la opción de ir a la ficha de la contingencia, donde<br>podrá editar los datos relativos a la incapacidad."
          ],
          [
           "Estructura Organizativa",
           "Al acceder a esta pestaña el usuario visualiza un listado de documentos a nivel<br>de trabajador. Las acciones que se pueden realizar en esta pestaña son las<br>mismas indicadas en el apartado pestaña documentos de la empresa. 60 10.<br>UBICACIONES LIBRES FÍSICAS El usuario accede al cardboard Ubicaciones libres<br>físicas que contiene los cardboards Zona, Área y Superficie. Las ubicaciones<br>libres físicas pretenden reflejar un espacio físico de la empresa más concreto<br>de los lugares de trabajo."
          ],
          [
           "Estructura Organizativa",
           "En la home se muestra un dashboard que contiene las siguientes gráficas: •<br>Centros de trabajo: contador con el total de centros de trabajo registrados. •<br>Puestos de trabajo: contador con el total de puestos de trabajo registrados. •<br>Trabajadores: contador con el total de trabajadores registrados. Lugares de<br>trabajo Zona Área Superficie"
          ],
          [
           "Estructura Organizativa",
           "61 • Distribución de trabajadores por género: grafica circular de datos de<br>distribución por género de los trabajadores de la ubicación libre física:<br>masculino/femenino. Al colocar el cursor sobre un segmento de la gráfica, se<br>muestra el número de trabajadores pertenecientes al segmento. Las gráficas se<br>pueden descargar. • Distribución de trabajadores por rango de edad: gráfica<br>circular de datos que muestra la distribución por rango de edad de los<br>trabajadores de la ubicación libre"
          ],
          [
           "Estructura Organizativa",
           "rango de edad de los trabajadores de la ubicación libre física distribuida en 5<br>rangos definidos. Al colocar el cursor sobre un segmento de la gráfica, se<br>muestra el número de trabajadores pertenecientes al segmento. Las gráficas se<br>pueden descargar. • Distribución de centros de trabajo: georreferenciador que<br>muestra la ubicación del centro de trabajo por medio de un mapa geolocalizador."
          ],
          [
           "Estructura Organizativa",
           "Al acceder al cardboard Zona el usuario visualiza el listado de las zonas junto<br>a su ubicación superior, los lugares de trabajo. Para acceder a este cardboard<br>se requiere tener un centro en el contexto. Este listado muestra por defecto las<br>zonas con estado activo y cuenta con las siguientes opciones: buscador, filtrar,<br>descargar listado, paginado, botón \"Nueva Zona\" que redirige al formulario de<br>creación y las acciones: • Editar: permite acceder a la ficha de la zona y<br>editar la"
          ],
          [
           "Estructura Organizativa",
           "Editar: permite acceder a la ficha de la zona y editar la información. •<br>Eliminar: permite eliminar el registro de la zona. Eliminar una zona supone la<br>eliminación de todos los puestos de trabajo de los que forma parte. Los campos<br>del formulario marcados con * son de carácter obligatorio y en caso de no<br>completarlos no se permite crear/editar el registro. Al editar la información de<br>la zona se visualiza la ficha de datos junto a las pestañas “Área”, “Puestos de<br>trabajo” y"
          ],
          [
           "Estructura Organizativa",
           "datos junto a las pestañas “Área”, “Puestos de trabajo” y “Documentos”."
          ],
          [
           "Estructura Organizativa",
           "PESTAÑA ÁREA El usuario desde esta pestaña puede visualizar el listado de las<br>áreas vinculadas a las diferentes zonas. Este listado muestra por defecto las<br>áreas con estado activo. Cuenta con las siguientes opciones: buscador, filtrar,<br>descargar listado, paginado y las acciones editar y eliminar. PESTAÑA PUESTOS DE<br>TRABAJO"
          ],
          [
           "Estructura Organizativa",
           "El usuario desde esta pestaña visualiza el listado de los puestos de trabajo<br>que se encuentran en la zona seleccionada. Cuenta con las siguientes opciones:<br>buscador, filtrar, descargar listado, paginado, el botón “Nuevo” que redirige al<br>formulario de creación del puesto de trabajo y las acciones editar y eliminar.<br>Los campos del formulario marcados con * son de carácter obligatorio y en caso<br>de no completarlos no se permite crear/editar el registro. Al editar la<br>información de los"
          ],
          [
           "Estructura Organizativa",
           "crear/editar el registro. Al editar la información de los puestos de trabajo se<br>visualiza la ficha de datos relativa al puesto de trabajo junto a las pestañas<br>“Trabajadores del puesto” y “Documentos”."
          ],
          [
           "Estructura Organizativa",
           "PESTAÑA DOCUMENTOS Al acceder a esta pestaña el usuario visualiza un listado de<br>documentos a nivel de zona. Las acciones que se pueden realizar en esta pestaña<br>son las mismas indicadas en el apartado pestaña documentos de la empresa."
          ],
          [
           "Estructura Organizativa",
           "Al acceder al cardboard Área se muestra un listado con las áreas de las<br>diferentes zonas de trabajo. Para acceder a este cardboard es necesario un<br>centro de trabajo en el contexto. Este listado muestra por defecto las áreas con<br>estado activo y cuenta con las siguientes opciones: buscador, filtrar, descargar<br>listado, paginado, el botón “Nueva Área” que redirige al formulario de creación<br>y las acciones: • Editar: permite acceder a la ficha del área y editar la<br>información. • Eliminar:"
          ],
          [
           "Estructura Organizativa",
           "a la ficha del área y editar la información. • Eliminar: permite eliminar el<br>registro del área. Eliminar un área supone la eliminación de todos los puestos<br>de trabajo de los que forma parte. Los campos del formulario marcados con * son<br>de carácter obligatorio y en caso de no completarlos no se permite crear/editar<br>el registro. Al editar la información del Área se visualiza la ficha del área<br>junto a las pestañas “Superficie”, “Puestos de trabajo” y “Documentos”."
          ],
          [
           "Estructura Organizativa",
           "PESTAÑA SUPERFICIES El usuario desde esta pestaña puede visualizar el listado<br>de las superficies vinculadas al área seleccionada y muestra por defecto las<br>superficies con estado activo. Cuenta con las siguientes opciones: buscador,<br>filtrar, descargar listado, paginado y las acciones editar y eliminar. Al<br>eliminar la superficie se eliminarán también todos los puestos de trabajo de los<br>que forma parte. PESTAÑA PUESTOS DE TRABAJO"
          ],
          [
           "Estructura Organizativa",
           "El usuario desde esta pestaña puede visualizar el listado de los puestos de<br>trabajo junto a la ocupación y el agente material que se encuentran en el área<br>seleccionada. Cuenta con las siguientes opciones: buscador, filtrar, descargar<br>listado, paginado, botón “Nuevo” que redirige al formulario de creación y las<br>acciones editar y eliminar. Los campos del formulario marcados con * son de<br>carácter obligatorio y en caso de no completarlos no se permite crear/editar el<br>registro. Al editar la"
          ],
          [
           "Estructura Organizativa",
           "no se permite crear/editar el registro. Al editar la información de los puestos<br>de trabajo se visualiza la ficha de datos relativa al puesto de trabajo junto a<br>las pestañas “Trabajadores del puesto” y “Documentos”."
          ],
          [
           "Estructura Organizativa",
           "PESTAÑA DOCUMENTOS Al acceder a esta pestaña el usuario visualiza un listado de<br>documentos a nivel de área. Las acciones que se pueden realizar en esta pestaña<br>son las mismas indicadas en el apartado pestaña documentos de la empresa.<br>SUPERFICIE"
          ],
          [
           "Estructura Organizativa",
           "Al acceder al cardboard Superficie se mostrará un listado con las diferentes<br>superficies creadas cuya ubicación superior son las áreas de trabajo. Este<br>listado muestra por defecto las superficies con estado activo y cuenta con las<br>siguientes opciones: buscador, filtrar, descargar listado, paginado, el botón<br>“Nueva Superficie” que redirige al formulario de creación y las acciones: •<br>Editar: permite acceder a la ficha de datos de la superficie y editar la<br>información. • Eliminar: permite"
          ],
          [
           "Estructura Organizativa",
           "superficie y editar la información. • Eliminar: permite eliminar el registro<br>creado. Eliminar la superficie supone la eliminación de todos los puestos de<br>trabajo de los que forma parte. Los campos del formulario marcados con * son de<br>carácter obligatorio y en caso de no completarlos no se permite crear/editar el<br>registro. Al editar la información de la superficie se visualiza la ficha de la<br>superficie junto a las pestañas “Puestos de trabajo” y “Documentos”."
          ],
          [
           "Estructura Organizativa",
           "PESTAÑA PUESTOS DE TRABAJO El usuario desde esta pestaña puede visualizar el<br>listado de los puestos de trabajo que se encuentra en la superficie seleccionada<br>junto a la ocupación y el agente material. Cuenta"
          ],
          [
           "Estructura Organizativa",
           "72 con las siguientes opciones: buscador, filtrar, descargar listado, paginado,<br>el botón “Nuevo” que redirige al formulario de creación del puesto de trabajo y<br>las acciones editar y eliminar. Los campos del formulario marcados con * son de<br>carácter obligatorio y en caso de no completarlos no se permite crear/editar el<br>registro. En la ficha de datos del puesto de trabajo se visualizan las pestañas<br>“Trabajadores del puesto” y “Documentos”. PESTAÑA DOCUMENTOS"
          ],
          [
           "Estructura Organizativa",
           "PESTAÑA DOCUMENTOS Al acceder a esta pestaña el usuario visualiza un listado de<br>documentos a nivel de la superficie. Las acciones que se pueden realizar en esta<br>pestaña son las mismas indicadas en el apartado pestaña documentos de la<br>empresa. 11. UBICACIONES LIBRES OPERATIVAS"
          ],
          [
           "Estructura Organizativa",
           "11. UBICACIONES LIBRES OPERATIVAS El usuario accede al cardboard Ubicaciones<br>libres operativas que contiene los cardboards Actividad, Tarea y Subtarea. Las<br>ubicaciones libres operativas pretenden desglosar las acciones concretas que se<br>realizan en el desempeño de la ocupación."
          ],
          [
           "Estructura Organizativa",
           "La Home contiene las siguientes gráficas: • Centros de trabajo: contador con el<br>total de centros de trabajo registrados. • Puestos de trabajo: contador con el<br>total de puestos de trabajo registrados. • Trabajadores: contador con el total<br>de trabajadores registrados. • Distribución de trabajadores por género: gráfica<br>circular de datos de distribución por genero de los trabajadores de la ubicación<br>libre operativa: masculino/femenino. Al colocar el cursor sobre un segmento de<br>la gráfica,"
          ],
          [
           "Estructura Organizativa",
           "Al colocar el cursor sobre un segmento de la gráfica, se muestra el número de<br>trabajadores pertenecientes al segmento. Las gráficas se pueden descargar. •<br>Distribución de trabajadores por rango de edad: gráfica circular de datos que<br>muestra la distribución por rango de edad de los trabajadores de la ubicación<br>libre operativa distribuida en 5 rangos definidos. Al colocar el cursor sobre un<br>segmento de la gráfica, se muestra el número de trabajadores pertenecientes al<br>segmento. Las"
          ],
          [
           "Estructura Organizativa",
           "el número de trabajadores pertenecientes al segmento. Las gráficas se pueden<br>descargar. • Distribución de centros de trabajo: georreferenciador que muestra<br>la ubicación del centro de trabajo por medio de un mapa geolocalizador."
          ],
          [
           "Estructura Organizativa",
           "Al acceder al cardboard Actividad se muestra un listado con las diferentes<br>actividades registradas en la ubicación superior, las ocupaciones. Para acceder<br>a este cardboard es necesario un centro de trabajo en el contexto. Este listado<br>cuenta con las siguientes opciones: buscador, filtrar, descargar listado,<br>paginado, el botón “Nueva Actividad” que redirige al formulario de creación y<br>las acciones: • Editar: permite acceder a la ficha de datos de la actividad y<br>editar la información. •"
          ],
          [
           "Estructura Organizativa",
           "de datos de la actividad y editar la información. • Eliminar: permite eliminar<br>el registro de la actividad. Los campos del formulario marcados con * son de<br>carácter obligatorio y en caso de no completarlos no se permite crear/editar el<br>registro. Al editar la información de la actividad se visualiza la ficha de<br>datos junto a las pestañas “Tarea” y “Documentos”."
          ],
          [
           "Estructura Organizativa",
           "PESTAÑA TAREA El usuario desde esta pestaña puede visualizar el listado de las<br>tareas vinculadas a la actividad seleccionada. Este listado cuenta con las<br>siguientes opciones: buscador, filtrar, descargar listado, paginado y las<br>acciones editar y eliminar. Al acceder a esta pestaña el usuario visualiza un<br>listado de documentos a nivel de actividad. Las acciones que se pueden realizar<br>en esta pestaña son las mismas indicadas en el apartado pestaña documentos de la<br>empresa."
          ],
          [
           "Estructura Organizativa",
           "Al acceder al cardboard Tarea se muestra un listado con las diferentes tareas<br>para cada ubicación superior, la actividad. Para acceder a este cardboard es<br>necesario un centro de trabajo en el contexto. Este listado cuenta con las<br>siguientes opciones: buscador, filtrar, descargar listado, paginado, el botón<br>“Nueva Tarea” que redirige al formulario de creación y las acciones: • Editar:<br>permite acceder a la ficha de datos de la tarea y editar la información. •<br>Eliminar: permite eliminar"
          ],
          [
           "Estructura Organizativa",
           "y editar la información. • Eliminar: permite eliminar el registro. Los campos<br>del formulario marcados con * son de carácter obligatorio y en caso de no<br>completarlos no se permite crear/editar el registro. Al editar la información de<br>la tarea se visualiza la ficha de datos junto a las pestañas “Subtarea” y<br>“Documentos”."
          ],
          [
           "Estructura Organizativa",
           "PESTAÑA SUBTAREA El usuario desde esta pestaña puede visualizar el listado de<br>las subtareas vinculadas a la tarea seleccionada. Este listado cuenta con las<br>siguientes opciones: buscador, filtrar, descargar listado, paginado y las<br>acciones editar y eliminar. PESTAÑA DOCUMENTOS"
          ],
          [
           "Estructura Organizativa",
           "PESTAÑA DOCUMENTOS Al acceder a esta pestaña el usuario visualiza un listado de<br>documentos a nivel de tareas. Las acciones que se pueden realizar en esta<br>pestaña son las mismas indicadas en el apartado pestaña documentos de la<br>empresa."
          ],
          [
           "Estructura Organizativa",
           "Al acceder al cardboard Subtarea se muestra un listado con las diferentes<br>subtareas registradas para cada tarea. Para acceder a este cardboard es<br>necesario un centro de trabajo en el contexto. Este listado cuenta con las<br>siguientes opciones: buscador, filtrar, descargar listado, paginado, el botón<br>“Nueva Subtarea” que redirige al formulario de creación y las acciones editar y<br>eliminar. Los campos del formulario marcados con * son de carácter obligatorio y<br>en caso de no completarlos no se"
          ],
          [
           "Estructura Organizativa",
           "de carácter obligatorio y en caso de no completarlos no se permite crear/editar<br>el registro. Al editar la información de la subtarea se visualiza la ficha de<br>datos junto a la pestaña “Documentos”."
          ],
          [
           "Estructura Organizativa",
           "PESTAÑA DOCUMENTOS Al acceder a esta pestaña el usuario visualiza un listado de<br>documentos a nivel de subtareas. Las acciones que se pueden realizar en esta<br>pestaña son las mismas indicadas en el apartado pestaña documentos de la<br>empresa."
          ],
          [
           "Estructura Organizativa",
           "El usuario ingresa al cardboard Perfiles de empresa y se muestra una pantalla<br>con el listado de los trabajadores o usuarios registrados en la plataforma. Este<br>listado cuenta con las siguientes opciones: buscador, filtrar, descargar<br>listado, paginado y la acción editar. Desde la ficha de datos se puede cargar el<br>avatar, la firma y otros datos de interés."
          ],
          [
           "Estructura Organizativa",
           "El usuario al ingresar al cardboard Agentes Materiales visualiza el listado de<br>agentes materiales. Con empresa en contexto visualizará los agentes materiales<br>de la empresa, en cambio, con empresa y centro en contexto visualizará los<br>agentes materiales del centro de trabajo seleccionado. Los campos del formulario<br>marcados con * son de carácter obligatorio y en caso de no completarlos no se<br>permite crear/editar el registro. Este listado cuenta con las siguientes<br>opciones: buscador, filtrar,"
          ],
          [
           "Estructura Organizativa",
           "cuenta con las siguientes opciones: buscador, filtrar, descargar listado,<br>paginado, el botón “Carga masiva” que permite realizar carga masiva con<br>diferentes importadores en función del tipo de agente material y el botón<br>“Nuevo” que redirige al formulario de creación y las acciones: • Editar: Permite<br>acceder a la ficha del agente material y editar la información. Al editar la<br>información del agente material se visualiza la ficha de datos junto a la<br>pestaña “Adaptaciones”,"
          ],
          [
           "Estructura Organizativa",
           "la ficha de datos junto a la pestaña “Adaptaciones”, “Restricciones” y<br>“Documentos”. • Eliminar: Permite eliminar el registro. Si se elimina un agente<br>material, también se eliminan todas sus adaptaciones, así como finalizan todas<br>las relaciones de los trabajadores que estén usando el agente material,<br>disponiendo de una nueva relación sin este. En el caso de que existan<br>trabajadores relacionados con las ubicaciones a eliminar, se puede finalizar las<br>relaciones manteniéndolas en el"
          ],
          [
           "Estructura Organizativa",
           "se puede finalizar las relaciones manteniéndolas en el histórico o<br>eliminándolas de forma definitiva."
          ],
          [
           "Estructura Organizativa",
           "Al añadir un nuevo Agente Material, el formulario tiene variaciones dependiendo<br>del tipo de agente material seleccionado, a excepción del tipo de agente<br>“Otros”. Siendo así que al seleccionar: 1. Tipo de AM AGENTE EQUIPO/ MÁQUINA: se<br>añaden los apartados: • Datos técnicos con los campos: • Marca • Modelo • Número<br>de serie • Fecha de fabricación • Fecha de adquisición • Cuestionario técnico<br>con los campos: • ¿Dispone de marcado CE? • ¿Dispone de puesta en conformidad? •"
          ],
          [
           "Estructura Organizativa",
           "de marcado CE? • ¿Dispone de puesta en conformidad? • ¿Dispone de<br>adaptaciones/mejoras? • ¿Es propiedad de una empresa externa?"
          ],
          [
           "Estructura Organizativa",
           "86 • Empresa externa (En función de la respuesta de la pregunta anterior (SÍ))<br>• ¿Requiere de formación específica? • ¿Requiere de mantenimiento? 2. Tipo de AM<br>AGENTE QUÍMICO: se añade el campo: • Nombre agente químico – Número CAS: Muestra<br>el listado de agente químicos. Una vez seleccionado el agente, en el formulario<br>se despliega el apartado Datos de: [Nombre del agente químico seleccionado]<br>donde se muestra la ficha de seguridad del agente."
          ],
          [
           "Estructura Organizativa",
           "3. Tipo de AM AGENTE VEHÍCULO: se añaden los apartados: • Datos técnicos con<br>los campos: • Marca • Modelo • Número de serie • Fecha de fabricación • Fecha de<br>adquisición • Cuestionario técnico con los campos: • ¿Requiere de marcado CE? •<br>¿Dispone de marcado CE? • ¿Dispone de puesta en conformidad? • ¿Es propiedad de<br>una empresa externa? • Empresa externa • ¿Requiere de formación específica? •<br>¿Circula por la vía pública?"
          ],
          [
           "Estructura Organizativa",
           "88 • Matrícula • ¿Requiere de mantenimiento? Al acceder a esta pestaña el<br>usuario visualiza y puede registrar las adaptaciones que se han realizado sobre<br>el agente material. Este listado contiene las opciones de búsqueda, filtrado,<br>paginado, botón “Nuevo” que redirige al formulario de creación de la nueva<br>adaptación y las acciones editar y eliminar. Los campos del formulario marcados<br>con * son de carácter obligatorio y en caso de no completarlos no se permite<br>crear/editar el registro."
          ],
          [
           "Estructura Organizativa",
           "PESTAÑA RESTRICCIONES"
          ],
          [
           "Estructura Organizativa",
           "En esta pestaña el usuario puede definir si el agente material es apto para<br>personas con sensibilidades especiales y además se muestra un listado con las<br>restricciones del agente material que pueden afectar a la salud de los<br>trabajadores. En este listado se especifican las restricciones que tiene el<br>agente material y cuenta con las siguientes opciones: buscador, filtrar,<br>paginado, descargar listado, la acción eliminar y el botón “Añadir restricción”<br>que abre una ventana lateral con"
          ],
          [
           "Estructura Organizativa",
           "“Añadir restricción” que abre una ventana lateral con restricciones<br>predefinidas, sus factores, descripción y limitaciones."
          ],
          [
           "Estructura Organizativa",
           "PESTAÑA DOCUMENTOS Al acceder a esta pestaña el usuario visualiza un listado de<br>documentos disponibles a nivel de Agentes Materiales. Las acciones a realizar en<br>esta pestaña son las mismas indicadas en el apartado pestaña documentos de la<br>empresa."
          ]
         ],
         "hovertemplate": "<b>Manual:</b> %{customdata[0]}<br><b>Texto:</b> %{customdata[1]}<extra></extra>",
         "legendgroup": "Estructura Organizativa",
         "marker": {
          "color": "#00cc96",
          "symbol": "circle"
         },
         "mode": "markers",
         "name": "Estructura Organizativa",
         "orientation": "v",
         "showlegend": true,
         "type": "scatter",
         "x": [
          9.010785,
          9.660199,
          5.1716685,
          6.309342,
          6.787716,
          13.114271,
          6.591996,
          6.78604,
          -5.2676663,
          2.9183712,
          1.0798115,
          7.175949,
          6.8694777,
          3.6928952,
          -1.5100114,
          1.2580504,
          -2.2953966,
          12.775671,
          -3.5901475,
          -1.777817,
          4.222593,
          -2.0800817,
          4.08811,
          -4.008055,
          -0.039332733,
          -0.18459934,
          -8.39258,
          -0.9566583,
          2.6784024,
          -0.9278471,
          1.7430927,
          -0.81711024,
          -2.1817951,
          0.12271709,
          -0.59266746,
          1.361762,
          -7.2113037,
          -7.2119603,
          -1.7161546,
          -7.5253015,
          -1.4551318,
          -1.8416802,
          1.9930439,
          5.1620827,
          0.8601572,
          -1.5574167,
          0.80423254,
          -3.6506069,
          -2.6356642,
          -7.5368447,
          -6.937669,
          -7.243463,
          -1.3743985,
          2.5417056,
          -1.0559709,
          -4.938001,
          -3.4370706,
          7.4020743,
          6.477609,
          6.1487265,
          6.277298,
          2.8098454,
          -1.7421032,
          3.397791,
          -0.70342064,
          1.0867466,
          -7.7107406,
          1.6992517,
          -6.3817544,
          -9.415811,
          12.94602,
          -3.9020977,
          -6.3462367,
          6.3242164,
          4.7564664,
          -1.3373328,
          -11.234038,
          5.135044,
          5.570338,
          -1.2541231,
          10.8317375,
          -2.9362261,
          10.878207,
          1.4876286,
          -3.0244296,
          -2.2299135,
          7.3880873,
          7.1431623,
          3.8610628,
          -0.42256442,
          -3.7056315,
          3.0061917,
          1.2013359,
          0.9140193,
          -6.2917876,
          -6.5722303,
          -3.9054966,
          -6.2929406,
          1.1967411,
          0.7419313,
          -6.4358206,
          7.368349,
          -3.5567217,
          -6.2963414,
          1.9238062,
          2.2040472,
          7.0423446,
          -2.5912395,
          1.0100163,
          6.382112,
          3.8130088,
          -2.5031297,
          -6.889619,
          -6.056701,
          -3.4341435,
          -7.030058,
          0.68491757,
          -6.5314164,
          -3.5605965,
          -7.332573,
          -6.5206084,
          -4.780683,
          -1.0625561,
          -1.6421149,
          1.7786361,
          -0.6018313,
          8.392703,
          8.802267,
          6.586812,
          8.543605,
          -6.561083,
          -4.308343,
          -1.2959023,
          -5.8990493,
          -6.4748683
         ],
         "xaxis": "x",
         "y": [
          -1.3190687,
          -1.2009124,
          -2.234715,
          -4.2877765,
          -5.500775,
          -1.2681304,
          -4.3929176,
          -5.442629,
          -3.3691297,
          -3.3820133,
          -5.0173087,
          0.89409745,
          0.67602646,
          -3.8638337,
          -6.411773,
          -1.8271164,
          -4.2646523,
          -1.3864254,
          2.46562,
          0.298088,
          -6.9824243,
          -4.4563456,
          1.7559949,
          1.2814605,
          0.3979655,
          -0.5380077,
          0.96856856,
          -6.499103,
          -1.3077966,
          -4.2032623,
          2.3081336,
          0.090728834,
          1.3245173,
          4.300233,
          -6.0514655,
          1.9489535,
          0.42844152,
          0.50212467,
          -1.347815,
          1.1221852,
          -5.5588346,
          2.1564422,
          -0.6591239,
          -5.065669,
          1.5736277,
          -5.50781,
          -2.2565897,
          -1.6644552,
          -4.2263374,
          1.7797827,
          -4.704083,
          1.5768025,
          -5.681463,
          -1.3533939,
          1.0044057,
          0.38982967,
          -0.52220154,
          4.326829,
          4.5352616,
          4.315291,
          4.456768,
          2.0502148,
          -5.7019095,
          -5.67897,
          -1.3923197,
          -1.7455884,
          0.60515785,
          -1.4570148,
          1.997269,
          2.5679696,
          -1.3453739,
          0.26032898,
          1.5267588,
          4.7247405,
          4.0317965,
          -0.8634536,
          -1.3495846,
          4.4384704,
          1.1446847,
          6.5213046,
          -2.6274374,
          -3.4998777,
          -2.516858,
          -0.40860376,
          -8.223693,
          -5.8117547,
          6.6632266,
          0.78607273,
          -3.5968924,
          -1.0403095,
          -1.6443326,
          -4.5849314,
          1.7439983,
          -0.3094735,
          -1.1469817,
          -5.0477962,
          0.28041574,
          -0.59719485,
          1.6463572,
          -0.42966187,
          -1.1339074,
          6.8050995,
          0.26087794,
          -0.47695592,
          1.4286088,
          1.971945,
          5.8776536,
          -5.9994197,
          -0.7466719,
          0.9657387,
          -3.6971667,
          -0.702706,
          -0.741664,
          -4.8112497,
          0.49566442,
          -0.8016998,
          1.4507537,
          -5.0342894,
          3.045219,
          -0.7163283,
          -5.0250306,
          -6.5623527,
          0.936538,
          -2.3951614,
          -0.5618379,
          7.0376716,
          3.5754132,
          3.5866408,
          2.37447,
          3.6559863,
          2.1197598,
          -2.4822242,
          -2.3897934,
          -7.1515317,
          -5.0590954
         ],
         "yaxis": "y"
        },
        {
         "customdata": [
          [
           "Riesgos",
           "DATOS DEL DOCUMENTO HISTÓRICO DE CAMBIOS Documento Manual de uso del módulo IER<br>PYMES. Descripción Documento guía del uso del módulo IER, modelo PYMES. Versión<br>1.2 Fecha modificación 06/02/2023 Actualizado por Víctor Andrade Peláez Aprobado<br>por Versión Fecha Comentarios Autor Versión 1.0 15/06/2022 Actualización Miguel<br>Ángel Moreno Versión 1.1 28/10/2022 Actualización Mercedes León Versión 1.1<br>06/02/2023 Actualización Víctor Andrade CONTENIDO"
          ],
          [
           "Riesgos",
           "Sabentis es la nueva plataforma de gestión especializada en el ámbito de<br>seguridad y salud en el trabajo, adaptada a las nuevas tecnologías y a los<br>nuevos modelos de gestión de la prevención de riesgos. A través del módulo<br>Identificación y Evaluación de Riesgos IER, se permite a la empresa establecer<br>un procedimiento lógico de valoración de riesgos implícitos en los procesos,<br>además de permitir fijar estrategias de gestión administrativas y/u operativas<br>que permitan controlar, reducir o"
          ],
          [
           "Riesgos",
           "y/u operativas que permitan controlar, reducir o eliminar estos riesgos."
          ],
          [
           "Riesgos",
           "2. IDENTIFICACIÓN Y EVALUACIÓN DE RIESGOS (IER)"
          ],
          [
           "Riesgos",
           "La identificación y evaluación de riesgos es el proceso técnico inicial en<br>materia de seguridad y salud en el trabajo, sobre el que se basa la gestión<br>preventiva de una empresa. Esta actividad tiene por objetivo analizar tanto los<br>elementos que componen el espacio físico, como las actividades que se<br>desarrollan sobre el mismo de modo que se pueda estimar o valorar el daño que<br>pueden producir un conjunto de factores en un tiempo determinado y, finalmente,<br>determinar las medidas de acción"
          ],
          [
           "Riesgos",
           "y, finalmente, determinar las medidas de acción concretas para prevenir la<br>ocurrencia de accidentes de trabajo y/o enfermedades profesionales."
          ],
          [
           "Riesgos",
           "El usuario puede acceder al módulo de identificación y evaluación de riesgos<br>(IER) con empresa seleccionada en contexto, desde: • La entrada de menú lateral<br>de la plataforma. • Desde el cardboard “Identificación y Evaluación de Riesgos”.<br>Al clicar ya sea en el menú lateral o desde el cardboard, el usuario es<br>redirigido a la Home del módulo, donde visualizan los siguientes cardboards:"
          ],
          [
           "Riesgos",
           "El usuario ingresa al cardboard “Evaluaciones” y visualiza un listado de las<br>evaluaciones que se han realizado en la empresa. Estas pueden estar en estado<br>abierta o cerrada. Los campos del formulario marcados con * son de carácter<br>obligatorio. En caso de que no se completen no se permite crear/guardar el<br>registro de evaluación. Este listado cuenta con las opciones: buscador, añadir<br>filtros, descargar listado, paginado, botón “Nueva evaluación” que redirige al<br>formulario de creación de"
          ],
          [
           "Riesgos",
           "evaluación” que redirige al formulario de creación de evaluaciones, y las<br>acciones:"
          ],
          [
           "Riesgos",
           "GRÁFICA DESCRIPCIÓN Riesgos evaluados vs riesgos no evaluados Gráfica de datos<br>circular que muestra el número de riesgos evaluados, frente a los riesgos que no<br>han sido evaluados todavía. La gráfica se puede descargar. Riesgos evaluados por<br>nivel de riesgo inicial Gráfica de datos circular que muestra el número de<br>riesgos por nivel (Trivial, Tolerable, Moderado, Importante e Intolerable). La<br>gráfica se puede descargar. Riesgos evaluados por nivel de riesgo residual<br>Gráfica de"
          ],
          [
           "Riesgos",
           "Riesgos evaluados por nivel de riesgo residual Gráfica de datos circular que<br>muestra el número de riesgos por nivel del riesgo residual, tras la reevaluación<br>(Trivial, Tolerable, Moderado, Importante e Intolerable). La gráfica se puede<br>descargar. Medidas por tipo de medida Gráfica de datos circular que determina el<br>número de medidas por jerarquía de control. La gráfica se puede descargar.<br>Medidas por estado Gráfica de datos circular que determina el número de medidas<br>por estado de"
          ],
          [
           "Riesgos",
           "circular que determina el número de medidas por estado de gestión. La gráfica<br>se puede descargar. Vencimiento de medidas Gráfica de líneas con vencimiento de<br>fechas de medidas por 6 meses, un área para cada tipo de vencimiento,<br>(validación, implementación, verificación). La gráfica se puede descargar."
          ],
          [
           "Riesgos",
           "7 • Datos de la evaluación: Redirige a la ficha de la evaluación. • Ir a la<br>evaluación: Redirige a la pestaña “Evaluación por ubicaciones”. • Ir a medidas<br>de control: Redirige a la pestaña “Medidas preventivas/correctivas”. • Eliminar<br>evaluación: Permite eliminar el registro."
          ],
          [
           "Riesgos",
           "En la pestaña Datos de la evaluación se habilita el botón “Cerrar evaluación”<br>siempre que se haya realizado la evaluación. Una vez creado el registro de la<br>evaluación, se habilitan las pestañas: • Evaluación por ubicaciones • Medidas<br>preventivas/correctivas • Documentos Nota: Cuando se cierra la evaluación solo<br>se puede acceder a visualizar la información, ya no se puede gestionar la<br>información de ésta. EVALUACIONES POR UBICACIONES"
          ],
          [
           "Riesgos",
           "EVALUACIONES POR UBICACIONES Al acceder a esta pestaña el usuario visualiza<br>como subpestañas todas las ubicaciones de la estructura organizativa que<br>seleccionó al crear el registro de evaluación. En el caso que la ubicación<br>seleccionada sea “Empresa” se muestra automáticamente un listado con todos los<br>riesgos predefinidos en la plataforma."
          ],
          [
           "Riesgos",
           "Para el caso en que la ubicación seleccionada sea Centro de trabajo o las demás<br>ubicaciones (Lugares de Trabajo, Ocupaciones, Puestos de Trabajo, Agentes<br>Materiales, Actividades, etc), se muestra el ícono (+). Al clicar a esta opción<br>se despliega una pantalla lateral con el listado de centros o ubicaciones<br>seleccionado."
          ],
          [
           "Riesgos",
           "Una vez seleccionada la ubicación desde el listado, el usuario puede: •<br>Realizar búsquedas, añadir/quitar columnas, aplicar filtros a las columnas del<br>listado siempre que no sean autocalculadas, descargar listado. • Acciones:<br>Identificar y Evaluar. • Cambiar la ubicación a evaluar. 11 • Aplicar filtros<br>por categoría del riesgo: “Accidentes de Trabajo AT.” o “Enfermedades<br>Profesionales EE.PP.” • Aplicar filtro por Estado del riesgo: Identificado o<br>Descartado."
          ],
          [
           "Riesgos",
           "En la columna acciones se puede Identificar y Evaluar el riesgo. Inicialmente<br>los riesgos se muestran en estado “Descartado”. Un riesgo se puede evaluar sin<br>previamente haberlo identificado pero al finalizar la evaluación se mostrará<br>como “Identificado”. Cuando se ha identificado el riesgo, se muestra en Estado<br>“Identificado”, y cuando se ha evaluado se muestra la acción “Medidas” que<br>permite añadir medidas."
          ],
          [
           "Riesgos",
           "Al clicar a la opción “Evaluar”, se despliega una pantalla lateral con el<br>formulario de evaluación del riesgo. Los campos del formulario marcados con *<br>son de carácter obligatorio. En este caso, conforme se completan, se van<br>mostrando los demás campos de la evaluación que determinan el nivel del riesgo.<br>2. Seleccionar un valor en el campo “Consecuencia”. Finalmente se muestra el<br>valor del “Nivel del Riesgo”. Al guardar el formulario estos datos se reflejarán<br>en el listado."
          ],
          [
           "Riesgos",
           "RIESGO RESIDUAL: El apartado de riesgo residual se mostrará en el formulario de<br>evaluación una vez se ha evaluado el riesgo. Da la opción de volver a evaluar un<br>riesgo cuando ya se han implementado las medidas preventivas/correctivas."
          ],
          [
           "Riesgos",
           "Al clicar al botón “Medidas” se redirige a una ventana lateral que muestra un<br>listado de medidas preventivas/correctivas. Desde este listado el usuario podrá:<br>• Añadir medidas manualmente desde el botón “Añadir medidas”. • Añadir medidas<br>predefinidas en la plataforma a través del botón “Añadir desde biblioteca”. •<br>Editar: Lleva al usuario al formulario de la medida en la pestaña Medidas<br>preventivas/correctivas. Los campos del formulario marcados con * son de<br>carácter obligatorio, en"
          ],
          [
           "Riesgos",
           "formulario marcados con * son de carácter obligatorio, en caso de no<br>completarlos no se permite añadir la medida. • Eliminar: Permite eliminar la<br>medida independiente de que se haya añadido manualmente o desde la biblioteca,<br>siempre que no esté en estado “Cerrada”."
          ],
          [
           "Riesgos",
           "Duplicar: Al hacer clic en esta opción, se abre una ventana lateral que muestra<br>la opción de duplicar el riesgo en cuestión. Esta acción permite al usuario<br>valorar el mismo riesgo varias veces para la misma ubicación. Al añadir un<br>duplicado este se añadirá automáticamente al listado dentro del cual el usuario<br>podrá evaluarlo y guardarlo. 20 MEDIDAS PREVENTIVAS Y CORRECTIVAS"
          ],
          [
           "Riesgos",
           "20 MEDIDAS PREVENTIVAS Y CORRECTIVAS El usuario accede a esta pestaña de las<br>siguientes formas: • Clicando al botón “Ir al Formulario Completo” ubicado en el<br>parte inferior del formulario resumen de medidas, el usuario es redirigido al<br>formulario completo de la medida."
          ],
          [
           "Riesgos",
           "• A través del formulario, el usuario podrá añadir documentos relacionados con<br>las medidas preventivas/correctoras que se quieran planificar. Todos los<br>documentos aportados en este apartado se añaden automáticamente al repositorio<br>documental de la empresa. • Accediendo directamente a la pestaña donde el<br>usuario visualiza el listado de medidas establecidas de acuerdo con los<br>resultados de la evaluación de riesgos de las diferentes ubicaciones."
          ],
          [
           "Riesgos",
           "22 Este listado cuenta con las opciones: Buscador, añadir filtros, descargar<br>listado, paginado, botón Volver, además permite filtrar por los estados de la<br>medida."
          ],
          [
           "Riesgos",
           "En este mismo formulario, es posible asociar Contingencias Profesionales<br>(Enfermedades Profesionales y Accidentes de Trabajo) a las diferentes Medidas<br>Preventivas/Correctivas. 1. Previamente se debe verificar que existan registros<br>de contingencias en el módulo de ausentismo. Estos registros aparecerán en la<br>pestaña de Contingencias Asociadas, en el módulo IER, y se podrán añadir a las<br>diferentes Medidas Preventivas/Correctoras existentes. DOCUMENTOS"
          ],
          [
           "Riesgos",
           "El usuario accede a la pestaña Documentos y visualiza el listado de informes<br>generados tales como: documento de la evaluación de riesgos o notificación de<br>riesgos a los trabajadores. Desde esta pantalla el usuario podrá generar n veces<br>el informe en sus diferentes formatos independiente que la evaluación haya sido<br>finalizada. A través del botón Generar informe, el cual redirige a una pantalla<br>donde el usuario, podrá escoger el tipo de informe que desea generar. Todos los<br>documentos"
          ],
          [
           "Riesgos",
           "el tipo de informe que desea generar. Todos los documentos generados en este<br>módulo se añaden automáticamente al repositorio documental de la empresa."
          ],
          [
           "Riesgos",
           "El usuario al acceder al cardboard “Riesgos por ubicación” visualiza el campo<br>“Tipo de ubicación” el cual despliega todas las ubicaciones de la estructura<br>organizativa. Una vez seleccionada el tipo de ubicación se muestra el campo<br>“Ubicación física”, al clicar a (+) se muestran en la pantalla lateral el<br>listado de ubicaciones."
          ],
          [
           "Riesgos",
           "Al seleccionar la ubicación física se listan los riesgos identificados en los<br>diferentes estudios realizados en la ubicación. Esta pantalla es informativa, no<br>se puede realizar ningún tipo de gestión. El usuario solo podrá visualizar los<br>riesgos presentes en la ubicación seleccionada. 28 En el caso de seleccionar la<br>ubicación “Empresa”, no se desplegará ninguna pestaña lateral, sino que se<br>mostrarán automáticamente los riesgos identificados y evaluados para la empresa."
          ],
          [
           "Riesgos",
           "El usuario al acceder al cardboard “Riesgos por trabajador”, visualiza el campo<br>“Trabajador”, el cual lista todos los trabajadores de la empresa. Al seleccionar<br>el trabajador se enlistan los riesgos identificados en las diferentes<br>evaluaciones realizados en las ubicaciones con las que el trabajador tiene<br>relación."
          ],
          [
           "Riesgos",
           "Esta pantalla es informativa, no se puede realizar ningún tipo de gestión. El<br>usuario solo podrá visualizar los riesgos presentes en las ubicaciones con las<br>que el trabajador seleccionado tenga relación."
          ],
          [
           "Riesgos",
           "El concepto de las herencias de los riesgos hace referencia a los riesgos a los<br>que un trabajador está expuesto con motivo de las relaciones que tiene con las<br>distintas ubicaciones de la empresa (ya sean ubicaciones físicas u operativas).<br>Las herencias funcionan de manera distinta dependiendo de si provienen de<br>ubicaciones físicas u operativas. En el primer caso, las herencias siguen una<br>dirección de “arriba a abajo”. Es decir, de los niveles más altos de la<br>estructura organizativa"
          ],
          [
           "Riesgos",
           "de los niveles más altos de la estructura organizativa hasta los niveles más<br>bajos. Por el contrario, en el caso de las ubicaciones operativas, se<br>consideran. Por ejemplo, al trabajador de una empresa le afectan los riesgos<br>evaluados en: Estructura física: • Los riesgos evaluados en la empresa a la que<br>pertenece. • Los riesgos evaluados en el centro al que pertenece. • Los riesgos<br>evaluados en el lugar de trabajo si tiene una relación con un puesto cuya<br>ubicación física sea un"
          ],
          [
           "Riesgos",
           "una relación con un puesto cuya ubicación física sea un lugar de trabajo. • Los<br>riesgos evaluados en el puesto de trabajo al que está relacionado."
          ],
          [
           "Riesgos",
           "31 Estructura operativa: • Los riesgos evaluados en la ocupación del puesto al<br>que está relacionado. • Los riesgos evaluados en las actividades de la ocupación<br>del puesto al que está relacionado. • Los riesgos evaluados en las tareas de la<br>actividad del punto anterior. • Los riesgos evaluados en las subtareas de la<br>tarea del punto anterior."
          ],
          [
           "Riesgos",
           "Las herencias se pueden visualizar en los listados de riesgos de la vista<br>trabajador, en “Riesgos por persona” y en “Riesgos por ubicación”."
          ],
          [
           "Riesgos",
           "El usuario accede al cardboard “Configuración”, desde el cual podrá realizar la<br>configuración de la metodología de evaluación de riesgos que va a utilizar en su<br>empresa. Una vez seleccionada la metodología, esta se aplicará a todas las<br>ubicaciones de la estructura organizativa. El usuario debe cerciorar que la<br>metodología seleccionada es correcta ya que, una vez existan registros de<br>evaluaciones, no se podrá cambiar. Una vez guardada la configuración, se debe<br>tener en consideración el"
          ],
          [
           "Riesgos",
           "la configuración, se debe tener en consideración el comportamiento de los<br>campos en el formulario de “Evaluación”: • Metodología de la evaluación: Permite<br>elegir la metodología que se aplicará en las evaluaciones de los riesgos<br>identificados. • Vigencia de evaluación: La información definida en este campo<br>establecerá automáticamente el periodo de vigencia de las evaluaciones de riesgo<br>a partir de la fecha en la que se registran en la plataforma. • Responsable:<br>Permite elegir el"
          ],
          [
           "Riesgos",
           "en la plataforma. • Responsable: Permite elegir el personal responsable del<br>correcto desarrollo de las evaluaciones de riesgos. • Evidencia de<br>Implementación de Medidas: Si se selecciona la opción “Obligatorias” no se podrá<br>cambiar el estado de una Medida Preventiva/Correctora a Implementada, a no ser<br>que exista, como mínimo, un archivo cargado. En caso de seleccionar la opción<br>“Opcional”, se podrá cambiar el estado de cualquier medida sin archivos<br>asociados a la misma."
          ]
         ],
         "hovertemplate": "<b>Manual:</b> %{customdata[0]}<br><b>Texto:</b> %{customdata[1]}<extra></extra>",
         "legendgroup": "Riesgos",
         "marker": {
          "color": "#ab63fa",
          "symbol": "circle"
         },
         "mode": "markers",
         "name": "Riesgos",
         "orientation": "v",
         "showlegend": true,
         "type": "scatter",
         "x": [
          9.581368,
          11.07128,
          8.377339,
          11.843137,
          11.3588,
          8.333519,
          0.36869842,
          3.0888495,
          2.4377744,
          8.1534605,
          8.238064,
          7.8084865,
          -5.2675686,
          3.1258392,
          -4.1737537,
          -3.7491596,
          -0.8907149,
          -8.638797,
          -8.44188,
          -2.9787335,
          -5.0318723,
          -5.898194,
          5.1118546,
          -6.6471972,
          -5.181247,
          -9.078148,
          4.0051923,
          3.177927,
          -9.760294,
          -4.006689,
          -4.859153,
          -3.6476028,
          -2.6818244,
          6.267368,
          11.495463,
          8.784532,
          8.348624,
          0.054669216,
          4.36841,
          5.182702,
          -2.5905015
         ],
         "xaxis": "x",
         "y": [
          -1.2177845,
          2.153588,
          -3.78483,
          -0.42280796,
          1.7627853,
          -3.7138398,
          -4.952062,
          0.10254169,
          -2.258516,
          1.6087939,
          1.7339083,
          -0.021537097,
          0.87370336,
          4.1776648,
          -4.9989114,
          -4.4152083,
          4.759973,
          4.385883,
          4.6605115,
          5.3252497,
          4.010012,
          2.4380543,
          2.972403,
          -3.4055705,
          -3.8695035,
          0.70140886,
          5.9137177,
          2.7468483,
          -3.751127,
          -4.9145975,
          -4.0059266,
          -5.4624953,
          6.4599795,
          -4.284953,
          1.6505201,
          4.602723,
          5.5798674,
          -7.758096,
          -0.4190799,
          0.049636185,
          5.1371264
         ],
         "yaxis": "y"
        },
        {
         "customdata": [
          [
           "Información",
           "DATOS DEL DOCUMENTO HISTÓRICO DE CAMBIOS CONTENIDO Sabentis es la nueva<br>plataforma de gestión especializada en el ámbito de Seguridad y Salud en el<br>Trabajo adaptada a las nuevas tecnologías y a los nuevos modelos de gestión de<br>la prevención. La plataforma dispone del módulo Información documentada en el<br>cual se almacenarán todos los documentos cargados y generados por la empresa en<br>los diferentes módulos de la plataforma. 2. SABENTIS: INFORMACIÓN DOCUMENTADA"
          ],
          [
           "Información",
           "2. SABENTIS: INFORMACIÓN DOCUMENTADA El usuario puede acceder al módulo<br>“Información Documentada”, desde: • La entrada del menú lateral de la<br>plataforma. • Desde el cardboard “Información documentada” del panel principal.<br>5 Al clicar ya sea en el menú lateral o desde el cardboard, el usuario es<br>redirigido a la home del módulo, donde visualiza los cardboards “Gestión de<br>plantillas de documentos“ y “Repositorio documental de la empresa”. 3.<br>REPOSITORIO DOCUMENTAL DE LA EMPRESA"
          ],
          [
           "Información",
           "El usuario accede al cardboard “Repositorio documental” y visualiza un listado<br>que contiene todos los archivos generados por parte de la empresa en los<br>diferentes módulos de la plataforma, por ejemplo: • Estructura organizativa: Se<br>visualizan todos los archivos añadidos en la pestaña “Documentos” de las<br>diferentes ubicaciones del módulo. • Identificación de peligros y evaluación de<br>riesgos: Se visualiza el Informe de evaluación de riesgos. • Auditorías: Se<br>visualiza el informe de"
          ],
          [
           "Información",
           "de riesgos. • Auditorías: Se visualiza el informe de auditoría. • Planes de<br>emergencia: Se visualiza el informe de planes de emergencia. • Políticas de<br>seguridad y salud en el trabajo. • Equipos de protección personal: Se visualiza<br>el Informe de EPP. • Inspecciones de seguridad: Se visualiza el informe de<br>inspección de los diferentes tipos de inspecciones definidas en la plataforma."
          ],
          [
           "Información",
           "6 • Ausentismo: Se visualizan todos los archivos añadidos en la pestaña<br>“Documentación” de los diferentes componentes del módulo. • Formaciones: Se<br>mostrarán todos archivos que se adjunten al momento de crear el curso."
          ],
          [
           "Información",
           "Independientemente del usuario que lo haya creado en este listado se muestran<br>todos los archivos de la empresa tanto vigente como expirados, el listado cuenta<br>con las opciones: buscador, añadir filtros, paginado y las acciones: •<br>Descargar: Permite descargar el archivo. • Editar: Permite acceder al formulario<br>de cargar archivos para editar y/o completar los datos. • Eliminar: Solo el<br>usuario logado podrá eliminar documentos. En los documentos generados por otro<br>usuario no se muestra"
          ],
          [
           "Información",
           "En los documentos generados por otro usuario no se muestra el ícono eliminar."
          ],
          [
           "Información",
           "En el listado de documentos se muestra la columna “Tags” (palabra clave<br>asignada a un dato almacenado en un repositorio), en la cual se pueden añadir<br>diferentes etiquetas para identificar los documentos. En el caso de los<br>documentos generados en el módulo Estructura organizativa, por defecto, se<br>muestran los siguientes tags: • Documentos de Empresa: Empresa. • Documentos de<br>Centros de trabajo: Centro de trabajo, [Nombre del centro] • Documentos de<br>trabajadores: [Nombre del trabajador],"
          ],
          [
           "Información",
           "• Documentos de trabajadores: [Nombre del trabajador], Trabajador • Documentos<br>de Lugares: [Nombre del centro], [Nombre del lugar], Área de trabajo. •<br>Documentos de Procesos: [Nombre del proceso], Ocupación."
          ],
          [
           "Información",
           "Asimismo para las diferentes funcionalidades se tendrá lo siguiente: • Ficheros<br>cargados en las preguntas de Audit/Inspecciones: El tag mostrado será la<br>pregunta desde donde se cargan los ficheros. • Ficheros que se cargan desde la<br>home principal: El tag mostrado será la pregunta desde donde se cargan los<br>ficheros. • Ficheros que se suben en medidas: El tag mostrado será “Medida de<br>control”."
          ],
          [
           "Información",
           "Los documentos tipo informes (Informe plan de emergencia, informe de<br>inspecciones, etc) generados en la plataforma tendrán predeterminado el Origen<br>como Internos, además no mostrarán información en la columna fecha de vigencia,<br>este campo se podrá completar al acceder a través de la acción Editar. Para el<br>caso en que la empresa no haya completado el plan de prevención, en la opción<br>“Mi panel principal” se enlistarán los ítems del cuestionario donde se podrán<br>añadir documentos. Al clicar a"
          ],
          [
           "Información",
           "donde se podrán añadir documentos. Al clicar a la opción editar se muestra el<br>formulario de carga de documentos."
          ],
          [
           "Información",
           "4. GESTIÓN DE PLANTILLAS DE DOCUMENTOS"
          ],
          [
           "Información",
           "El usuario accede al cardboard “Gestión de plantillas de documentos” y<br>visualiza un listado de plantillas que las empresas tendrán a disposición. Para<br>acceder al cardboard no es necesario tener empresa en contexto. Este listado<br>cuenta con las opciones de búsqueda, añadir filtros, añadir/quitar columnas,<br>paginado, botón de exportación, botón “Añadir plantilla” que redirige al<br>formulario de carga de plantillas, y las acciones: • Editar: Redirige a la ficha<br>donde se puede editar la"
          ],
          [
           "Información",
           "• Editar: Redirige a la ficha donde se puede editar la configuración de la<br>plantilla. • Descargar: Permite descargar la plantilla desde el listado. •<br>Eliminar: Permite eliminar los registros existentes desde el listado de<br>plantillas."
          ],
          [
           "Información",
           "Para añadir una nueva plantilla a la plataforma, el usuario ha de completar la<br>información de la plantilla y configurar la ubicación, para que las empresas<br>puedan acceder a ella. Los campos marcados con * son obligatorios. Una vez<br>completados los datos con la información solicitada el usuario ha de habilitar<br>la plantilla para que se pueda utilizar."
          ]
         ],
         "hovertemplate": "<b>Manual:</b> %{customdata[0]}<br><b>Texto:</b> %{customdata[1]}<extra></extra>",
         "legendgroup": "Información",
         "marker": {
          "color": "#FFA15A",
          "symbol": "circle"
         },
         "mode": "markers",
         "name": "Información",
         "orientation": "v",
         "showlegend": true,
         "type": "scatter",
         "x": [
          5.1999435,
          1.6755799,
          3.6896477,
          5.08337,
          -5.555441,
          -3.1584048,
          -8.034597,
          1.860753,
          8.34007,
          0.19889338,
          -2.9066327,
          -5.5312796,
          11.799174,
          -0.082179934,
          -5.064901,
          -7.664007
         ],
         "xaxis": "x",
         "y": [
          -2.2708552,
          -3.6175487,
          -0.6492909,
          -1.2217076,
          -3.1573555,
          2.2121189,
          2.9975471,
          0.49710834,
          0.097675756,
          -5.8233285,
          -1.703106,
          -1.6190424,
          -1.6023537,
          -1.1144803,
          0.50037223,
          -3.937745
         ],
         "yaxis": "y"
        },
        {
         "customdata": [
          [
           "Emergencia",
           "Versión Fecha Comentarios Autor Preliminar 0.1 20/10/2020 Redacción Jacobo<br>Jaime Versión 1.0 14/12/2021 Actualización Mercedes León Versión 1.1 19/09/2022<br>Actualización Núria Zaragoza Trabal Versión 2.0 17/10/2022 Actualización<br>Mercedes León Chele Versión 2.0 06/02/2023 Actualización Víctor Andrade"
          ],
          [
           "Emergencia",
           "Sabentis es la nueva plataforma de gestión especializada en el ámbito de<br>Seguridad y Salud en el Trabajo adaptada a las nuevas tecnologías y a los nuevos<br>modelos de gestión de la prevención. La plataforma dispone de un módulo para<br>llevar a cabo la gestión de emergencias de los centros de trabajo,<br>confeccionando un plan de emergencia completo en el que se definen los equipos<br>de emergencias y se evalúan todas las posibles amenazas. Este módulo también<br>incluye la posibilidad de registrar y"
          ],
          [
           "Emergencia",
           "Este módulo también incluye la posibilidad de registrar y evaluar las<br>emergencias reales ocurridas y los simulacros efectuados."
          ],
          [
           "Emergencia",
           "¿QUÉ ES UN PLAN DE EMERGENCIA? La pestaña evaluación de aspectos legales<br>permite al usuario evaluar los cuestionarios aplicables a la evaluación.<br>Aparecerán aquellos cuestionarios que el usuario ha seleccionado."
          ],
          [
           "Emergencia",
           "Un Plan de Emergencia es un documento en el que se recoge la respuesta que debe<br>dar una organización y sus trabajadores ante situaciones de emergencia, así como<br>la confección de los equipos de respuesta e intervención, evaluación de las<br>amenazas potenciales y las medidas de protección que se deben llevar a cabo. El<br>Plan de Emergencias proporciona a los ocupantes de las instalaciones, las<br>herramientas necesarias para planear, organizar, dirigir y controlar un evento<br>súbito que pueda poner"
          ],
          [
           "Emergencia",
           "dirigir y controlar un evento súbito que pueda poner en peligro la estabilidad<br>de la organización desde el punto de vista humano, material o ambiental. Los<br>objetivos del Plan son: • Identificar las condiciones actuales de los recursos<br>existentes, necesarios para la respuesta inicial a una emergencia. • Analizar<br>las amenazas internas y externas, con el fin de determinar la vulnerabilidad<br>para afrontar una emergencia. • Establecer las medidas necesarias destinadas a<br>mejorar las"
          ],
          [
           "Emergencia",
           "Establecer las medidas necesarias destinadas a mejorar las condiciones y<br>reducir el nivel de vulnerabilidad. • Establecer procedimientos de reacción para<br>cada tipo de emergencia de las instalaciones actuales y reacción frente a las<br>principales amenazas identificadas."
          ],
          [
           "Emergencia",
           "5 • Establecer y mantener un esquema de organización interna, confeccionando<br>los equipos de respuesta e intervención frente a las emergencias. • Minimizar<br>las pérdidas materiales y ambientales derivadas de las diferentes situaciones de<br>emergencia que se puedan presentar. • Minimizar los riesgos que pueda<br>desencadenar una emergencia, mediante el control de estos. • Restablecer el<br>ritmo normal de trabajo a la mayor brevedad posible. ¿QUÉ ES UN SIMULACRO?"
          ],
          [
           "Emergencia",
           "Un simulacro es un ensayo o ejercicio de adiestramiento práctico del modo de<br>actuar en caso de emergencia, cuya realización nos permite comprobar de manera<br>real la adecuación de lo previsto en el Plan de emergencia de la organización<br>las necesidades existentes y sirve, en la mayoría de las ocasiones, para<br>identificar y llevar a cabo actividades de mejoras tanto en los procedimientos<br>establecidos como en los medios e instalaciones. Los simulacros de emergencia<br>son ejercicios prácticos que"
          ],
          [
           "Emergencia",
           "Los simulacros de emergencia son ejercicios prácticos que implican la<br>participación de todo el personal y en muchos casos también involucran medios<br>externos como pudieran ser los bomberos, protección civil, policía y personal<br>sanitario. La realización periódica de los simulacros, como mínimo una vez cada<br>año, pretende llevar a cabo la activación del plan de emergencia sin previo<br>aviso y en cualquier momento del día para comprobar el resultado de la<br>participación eficiente de todos los"
          ],
          [
           "Emergencia",
           "el resultado de la participación eficiente de todos los grupos y trabajadores<br>implicados, así como crear unos hábitos de respuesta organizada y operativa a<br>través del adiestramiento práctico. Los objetivos del simulacro son la<br>verificación y comprobación de: • La eficacia de la organización de respuesta<br>ante una emergencia. • La capacitación del personal de la organización. • El<br>entrenamiento de todo el personal en la respuesta frente a una emergencia. • La<br>suficiencia e idoneidad de"
          ],
          [
           "Emergencia",
           "frente a una emergencia. • La suficiencia e idoneidad de los medios y recursos<br>asignados."
          ],
          [
           "Emergencia",
           "6 2. SABENTIS: MÓDULO PLANES DE EMERGENCIA El usuario puede acceder al módulo<br>“Planes de emergencia”, desde: • La entrada del menú lateral de la plataforma. •<br>Desde el cardboard “Planes de emergencia”. 7 Se visualiza un dashboard que<br>contiene datos estadísticos, las gráficas muestran la siguiente información:"
          ],
          [
           "Emergencia",
           "Gráfica Descripción Número de centros con planes de emergencia vigente<br>Contador. Centros de trabajo con un plan de emergencia en estado “Vigente” sobre<br>el total de centros de la empresa. Peligros por nivel de riesgo Gráfica de<br>datos. Gráfica circular de datos de distribución de amenazas evaluadas en los<br>planes de emergencia vigentes por nivel de riesgo obtenido: No evaluado / Bajo /<br>Medio / Alto / Muy alto. Medidas por estado Gráfica de datos. Gráfica circular<br>de datos de"
          ],
          [
           "Emergencia",
           "por estado Gráfica de datos. Gráfica circular de datos de distribución de las<br>medidas correctivas definidas en los planes de emergencia vigentes por estado:<br>Pendiente de planificar / Pendiente de evidencia / Implementada."
          ],
          [
           "Emergencia",
           "El usuario accede al cardboard “Planes de emergencia” y visualiza un listado<br>que contiene todos los planes de emergencia de los centros de trabajo de la<br>empresa en estados Vigente, No vigente y En elaboración. Solo puede existir un<br>plan de emergencia en estado vigente por cada centro de trabajo. • En<br>elaboración: Estado inicial posterior al registro del Plan de emergencia. •<br>Vigente: Estado que indica que el plan ya se encuentra completado y en vigor en<br>el centro de trabajo. • No"
          ],
          [
           "Emergencia",
           "completado y en vigor en el centro de trabajo. • No vigente: Estado al que<br>pasan los planes de emergencia vigentes cuando un nuevo plan pasa a estar<br>vigente sustituyendo al actual."
          ],
          [
           "Emergencia",
           "Este listado cuenta con las opciones: buscador, añadir filtros, descargar<br>listado, paginado, botón Nuevo plan que redirige al formulario de creación del<br>plan de emergencia, y las acciones: • Editar: Permite acceder al registro. •<br>Eliminar: Elimina el registro del plan de emergencia, independientemente de su<br>estado. (Vigente/En elaboración/No vigente). 9 DATOS DEL PLAN DE EMERGENCIA"
          ],
          [
           "Emergencia",
           "El formulario de registro de Planes de emergencia se encuentra dividido en<br>varios apartados. • Apartado Información del plan de emergencias: Este primer<br>apartado del formulario contiene la información común a los planes de<br>emergencia. La información registrada en los campos fechas de inicio y fin de<br>vigencia no modifican el estado el plan de forma automática; el inicio y fin de<br>vigencia es una acción directa del usuario. • Apartado Información del centro de<br>trabajo: Contiene la"
          ],
          [
           "Emergencia",
           "• Apartado Información del centro de trabajo: Contiene la información relativa<br>al centro de trabajo sobre el que se está registrando el plan de emergencia. •<br>Apartado Ocupación: Contiene la información relativa a la ocupación de personas<br>en centro de trabajo sobre el que se está registrando el plan. • Apartado<br>Conectividad del centro de trabajo: Contiene la información relativa a la<br>conectividad de la que dispone el centro de trabajo para poder recibir y emitir<br>comunicaciones con el"
          ],
          [
           "Emergencia",
           "trabajo para poder recibir y emitir comunicaciones con el exterior en caso de<br>emergencia. Los campos del formulario marcados con * son de carácter<br>obligatorio, en caso de no completarlos no se permite crear/guardar el registro<br>del plan de emergencia."
          ],
          [
           "Emergencia",
           "Una vez creado el registro del plan de emergencia se habilitan las pestañas:<br>Datos del Plan, Medios de protección, Turnos y Equipos, Directorio externo,<br>Puntos de reunión, Evaluación de amenazas, Análisis de riesgo, Plan de acción y<br>Generar documentos. MEDIOS DE PROTECCIÓN"
          ],
          [
           "Emergencia",
           "El usuario accede a la pestaña medios de protección y visualiza el listado de<br>los recursos Vigentes/No vigentes de los que disponen los centros de trabajo<br>para responder ante situaciones de emergencia. Este listado cuenta con las<br>opciones: buscador, añadir filtros, descargar listado, paginado, botón Nuevo<br>medio que redirige al formulario de creación de medios de protección, y las<br>acciones: • Editar: redirige a la ficha del registro para editar los datos del<br>medio de protección. •"
          ],
          [
           "Emergencia",
           "registro para editar los datos del medio de protección. • Eliminar: permite<br>eliminar el registro independiente del estado del registro (Vigente/No vigente)."
          ],
          [
           "Emergencia",
           "El formulario de registro de Medios de protección se encuentra dividido en<br>varios apartados. • Apartado Datos generales: Este primer apartado del<br>formulario contiene la información para la identificación de los medios de<br>protección. • Apartado Información de la [categoría]: Este apartado del<br>formulario será variable en función del campo “Categoría” seleccionado<br>previamente (Instalación centralizada, instalación de emergencia, señalización,<br>sistema de detección automática, sistema de"
          ],
          [
           "Emergencia",
           "señalización, sistema de detección automática, sistema de extinción).<br>Adicional, dependiendo del tipo de instalación seleccionada, se habilitarán más<br>campos puesto que los campos que se muestran en este apartado son específicos<br>para cada uno de los tipos de sistema definidos. Por ejemplo, para el tipo de<br>sistema de extinción “Extintor portátil”, se muestran los campos: fabricantes,<br>importador o marca comercial, fecha de fabricación, tipo de extintor, clase de<br>fuego a la que está"
          ],
          [
           "Emergencia",
           "tipo de extintor, clase de fuego a la que está destinado, potencial de<br>extinción, etc. (Ver imagen) • Apartado Mantenimiento: Este apartado del<br>formulario permite introducir la información relativa a las revisiones de los<br>medios de protección. El estado del mantenimiento refiere al periodo definido<br>para las revisiones del medio de protección y pueden ser: o Vigente: cuando la<br>fecha de la próxima revisión es mayor que la fecha de última revisión. o No<br>Vigente: cuando la fecha de la"
          ],
          [
           "Emergencia",
           "de última revisión. o No Vigente: cuando la fecha de la próxima revisión es<br>menor o igual que la fecha de la última revisión."
          ],
          [
           "Emergencia",
           "12 Los campos del formulario marcados con * son de carácter obligatorio, en<br>caso de no completarlos no se permite crear/guardar el registro del recurso."
          ],
          [
           "Emergencia",
           "El usuario accede a la pestaña “Turnos y Equipos” y visualizará un listado con<br>los distintos turnos de trabajo que existen en el centro de trabajo. Además, se<br>pueden definir los equipos de respuesta e intervención para cada uno de los<br>turnos. El listado cuenta con las opciones: buscador, añadir filtros, descargar<br>listado, paginado, botón Añadir turno que redirige al formulario de creación de<br>turnos, y las acciones: • Equipos de respuesta e intervención: Redirige al<br>usuario al segundo paso"
          ],
          [
           "Emergencia",
           "e intervención: Redirige al usuario al segundo paso del asistente en el que<br>podrá visualizar y gestionar los equipos de respuesta e intervención para el<br>turno seleccionado. • Editar: Permite acceder al formulario de registro de los<br>turnos, este se despliega en una ventana lateral. • Eliminar: Borra el registro<br>del turno, así como todos los equipos de respuesta e intervención definidos para<br>dicho turno. Los campos del formulario marcados con * son de carácter<br>obligatorio, en caso de no"
          ],
          [
           "Emergencia",
           "marcados con * son de carácter obligatorio, en caso de no completarlos no se<br>permite crear/guardar el registro del turno."
          ],
          [
           "Emergencia",
           "El usuario accede al segundo paso del asistente “Equipos de respuesta e<br>intervención”, previamente se debe haber definido al menos un turno de trabajo<br>en el primer paso. Esta pantalla mostrará un listado con los equipos de<br>respuesta requeridos ya creados de forma automática (predefinidos de acuerdo con<br>la normativa) por lo que no será posible añadir nuevos equipos ni modificar su<br>nombre, pero sí la descripción de funciones de estos, de forma que el usuario<br>únicamente debe definir los"
          ],
          [
           "Emergencia",
           "estos, de forma que el usuario únicamente debe definir los miembros titulares<br>y/o suplentes que compondrán estos equipos. El listado cuenta con las opciones:<br>buscador, añadir filtros, descargar listado, paginado y la acción: • Editar:<br>Redirige a una ventana lateral desde la cual se puede añadir y/o desasociar los<br>miembros del equipo, además de seleccionar el tipo de miembro (titular o<br>suplente)."
          ],
          [
           "Emergencia",
           "DIRECTORIO EXTERNO El usuario accede a la pestaña “Directorio externo” y<br>visualiza en el listado el directorio de los servicios externos (por ejemplo:<br>entidades de socorro, plan de ayuda mutua o cadena de llamadas) con los que<br>puede contactar en caso de situaciones de emergencias. Este listado cuenta con<br>las opciones: buscador, añadir filtros, descargar listado, paginado, botón<br>Añadir"
          ],
          [
           "Emergencia",
           "16 que redirige al formulario de creación del servicio, botón Volver que<br>redirige al listado de planes de emergencias y las acciones editar y eliminar.<br>Los campos del formulario marcados con * son de carácter obligatorio, en caso de<br>no completarlos no se permite crear/guardar el registro del servicio."
          ],
          [
           "Emergencia",
           "El usuario accede a la pestaña “Puntos de reunión” y visualiza un listado de<br>los puntos de reunión e instalaciones de emergencia del plan, además visualiza<br>en el mapa la distribución de estas. Este listado cuenta con las opciones:<br>buscador, añadir filtros, descargar listado, paginado, botón Añadir que redirige<br>al formulario de creación de la instalación, botón Volver que redirige al<br>listado de planes de emergencias, las acciones editar y eliminar."
          ],
          [
           "Emergencia",
           "El usuario accede a la pestaña “Evaluación de amenazas” y visualiza el listado<br>de amenazas presentes en el centro de trabajo, inicialmente se muestran todas<br>las amenazas en estado “Descartada”. Desde esta pantalla se puede realizar la<br>identificación y evaluación para determinar el nivel del riesgo, así como<br>descartar las amenazas que no apliquen al centro de trabajo. Este listado cuenta<br>con las opciones: buscador, añadir filtros, paginado, botón Volver, las acciones<br>que dependerán del"
          ],
          [
           "Emergencia",
           "paginado, botón Volver, las acciones que dependerán del estado de la amenaza,<br>es decir: 1. Si el estado de la amenaza es “Descartado” se mostrarán las<br>acciones: • Identificar: Que cambia el estado de la amenaza a Identificado. •<br>Evaluar: Permite acceder al cuestionario de evaluación. 2. Si el estado de la<br>amenaza es “Identificado” se mostrarán las acciones: • Descartar: Que cambia el<br>estado de la amenaza a Descartado. En caso de tener una evaluación realizada<br>ésta se perderá. •"
          ],
          [
           "Emergencia",
           "de tener una evaluación realizada ésta se perderá. • Evaluar: Permite acceder<br>al cuestionario de evaluación."
          ],
          [
           "Emergencia",
           "19 Al clicar a la acción Evaluar del listado, el usuario es redirigido al<br>formulario de evaluación de la amenaza en el cual deberá completar los campos<br>obligatorios para poder guardar la evaluación. Este formulario permite realizar<br>guardados parciales en la evaluación, por lo que se muestra en una barra el<br>grado de avance en la evaluación de la amenaza. Solo cuando se ha completado la<br>evaluación se habilita el botón Finalizar el cual permite finalizar la<br>evaluación de la amenaza. Una"
          ],
          [
           "Emergencia",
           "el cual permite finalizar la evaluación de la amenaza. Una vez finalizada, el<br>formulario de evaluación solo se podrá editar los datos del primer apartado. El<br>cuestionario no permitirá editar las respuestas de la evaluación."
          ],
          [
           "Emergencia",
           "En el listado de amenazas se mostrará el botón “Iniciar vigencia” solo cuando<br>exista al menos una amenaza evaluada, o todas las amenazas identificadas hayan<br>sido evaluadas. Se habilitan las pestañas Análisis del riesgo y documentación.<br>Una vez iniciada la vigencia el estado del plan cambia a Vigente, adicional se<br>bloqueará la posibilidad de modificar las amenazas, es decir no se podrá<br>identificar y/o descartar amenazas, las evaluaciones realizadas quedarán no<br>editables."
          ],
          [
           "Emergencia",
           "El usuario accede a la pestaña “Análisis de riesgo” en la que se muestra una<br>tabla resumen de la evaluación de amenazas realizada, mostrando la puntuación<br>obtenida en cada aspecto y vulnerabilidad y el color del rombo asociado, así<br>como el resultado final del diamante y el nivel de riesgo obtenido para cada<br>amenaza. La pantalla no contiene acciones para el usuario, únicamente el botón<br>“Volver” que redirige al listado de planes de emergencia. Esta pestaña se<br>habilita cuando el usuario"
          ],
          [
           "Emergencia",
           "de emergencia. Esta pestaña se habilita cuando el usuario cambia de estado del<br>plan a Vigente."
          ],
          [
           "Emergencia",
           "El usuario accede a la pestaña “Plan de acción” y visualiza el listado de las<br>medidas de control que se deben llevar a cabo en el centro de trabajo para<br>mitigar o reducir el nivel de riesgo de las amenazas evaluadas. El estado de las<br>medidas generadas por el sistema dependerá de la respuesta al momento de<br>realizar la evaluación, siendo así: • Pendiente de planificar: las medidas se<br>generan en este estado si la respuesta es NO. • Pendiente de evidencia: las<br>medidas se generan en este"
          ],
          [
           "Emergencia",
           "• Pendiente de evidencia: las medidas se generan en este estado si la respuesta<br>es SÍ o NO APLICA. Este listado cuenta con las opciones: buscador, añadir<br>filtros, descargar listado, paginado, botón Añadir medida que redirige al<br>formulario de medidas, y las acciones: • Editar: Permite acceder al formulario<br>de la medida y realizar la gestión de esta. (Para mejor entendimiento ver manual<br>del flujo de gestión de medidas). • Eliminar: Permite eliminar una medida. Esta<br>acción sólo está"
          ],
          [
           "Emergencia",
           "Permite eliminar una medida. Esta acción sólo está disponible para las medidas<br>añadidas manualmente por el usuario, no para las propuestas por el sistema."
          ],
          [
           "Emergencia",
           "El usuario accede a la pestaña “Generar documentos” y visualiza el listado de<br>informes generados en formato PDF y Word, así como también se permite añadir<br>documentos. Este listado cuenta con las opciones: buscador, añadir filtros,<br>paginado, botón Generar informe que permite la generación y descarga del informe<br>en los formatos antes mencionados, y la acción eliminar. Se pueden generar n<br>veces el informe. El informe se puede descargar clicando en el nombre del<br>fichero."
          ],
          [
           "Emergencia",
           "El usuario accede al cardboard “Planificación” y visualiza el listado de todas<br>las medidas de control de los planes de emergencia vigentes en cada uno de los<br>centros de trabajo. Desde este listado el usuario solo podrá realizar la gestión<br>de las medidas, mas no podrá añadir ni eliminarlas. Este listado cuenta con las<br>opciones: buscador, añadir filtros, paginado y la acción editar que redirige al<br>usuario al formulario de la medida (Para mejor entendimiento ver manual del<br>flujo de gestión de"
          ],
          [
           "Emergencia",
           "mejor entendimiento ver manual del flujo de gestión de medidas)."
          ],
          [
           "Emergencia",
           "El usuario accede al cardboard “Simulacros y emergencias” y visualiza el<br>listado de simulacros y las situaciones reales de emergencia que se han<br>producido en la empresa en los diferentes estados: • Pendiente de evaluar:<br>Todavía no se ha completado la evaluación situada en la segunda pestaña del<br>registro. • Evaluado: La evaluación se encuentra realizada y las actividades<br>definidas. Este listado cuenta con las opciones: buscador, añadir filtros,<br>paginado, descargar listado, botón Nuevo"
          ],
          [
           "Emergencia",
           "añadir filtros, paginado, descargar listado, botón Nuevo registro que redirige<br>al formulario de creación, las acciones editar y eliminar."
          ],
          [
           "Emergencia",
           "Inicialmente en el formulario no se muestra el campo Amenaza, este se muestra<br>una vez que se haya completado el campo Centro de trabajo. Los campos del<br>formulario marcados con * son de carácter obligatorio. En caso de no<br>completarlos no se permite crear/guardar el registro del simulacro, simulación o<br>emergencia."
          ],
          [
           "Emergencia",
           "Una vez creado el registro se habilita la pestaña “Evaluación”, el usuario al<br>acceder a esta pestaña visualiza una serie de cuestionarios relativos al proceso<br>de comunicación, proceso de evacuación y respuesta de los trabajadores para<br>llevar a cabo la evaluación del simulacro o emergencia. En este formulario se<br>pueden guardar las respuestas de la evaluación y poder editar siempre que no se<br>haya finalizado. Al clicar a finalizar evaluación el cuestionario de la<br>evaluación se muestra como"
          ],
          [
           "Emergencia",
           "el cuestionario de la evaluación se muestra como no editable y se habilitan las<br>pestañas Actividades para la mejora y generar documentos."
          ],
          [
           "Emergencia",
           "El usuario accede a la pestaña Actividades para la mejora y visualiza el<br>listado de actividades para la mejora del proceso con base a la evaluación<br>realizada previamente. Los estados de las actividades son: • Pendiente de<br>realizar: Estado inicial en el que se crean las actividades. • Realizada: Estado<br>final de la actividad una vez se ha realizado."
          ],
          [
           "Emergencia",
           "Este listado cuenta con las opciones: buscador, añadir filtros, paginado,<br>descargar listado, botón Añadir actividad que redirige al formulario de<br>actividades, las acciones editar y eliminar. Los campos del formulario marcados<br>con * son de carácter obligatorio, en caso de no completarlos no se permite<br>crear/guardar el registro del simulacro, simulación o emergencia. Cuando se<br>marca el switch Realizada se habilitan los campos fecha de realización y<br>descripción de la evidencia de"
          ],
          [
           "Emergencia",
           "fecha de realización y descripción de la evidencia de cumplimiento."
          ],
          [
           "Emergencia",
           "GENERAR DOCUMENTOS El usuario accede a esta pestaña y visualiza el listado de<br>informes generados en formato pdf y Word. Este listado cuenta con las opciones:<br>buscador, añadir filtros, paginado, botón Generar informe que permite generar y<br>descargar el informe en los diferentes formatos antes mencionados, y la acción<br>eliminar. El informe se puede generar n veces. El informe se puede descargar<br>clicando en el nombre del fichero."
          ],
          [
           "Emergencia",
           "El usuario accede al cardboard “Gestión de botiquines” y visualiza un listado<br>que contiene el registro de los botiquines existentes en la empresa para poder<br>llevar a cabo su mantenimiento y gestión del contenido. Este listado cuenta con<br>las opciones: buscador, añadir filtros, descargar listado, paginado, botón<br>“Añadir” que redirige al formulario de creación de botiquines, y las acciones: •<br>Editar: Permite acceder al registro. • Eliminar: Elimina el registro del<br>botiquín,"
          ],
          [
           "Emergencia",
           "registro. • Eliminar: Elimina el registro del botiquín, independientemente de<br>su estado. El estado de los botiquines puede ser: • Vigente: El botiquín no<br>contiene ningún producto caducado. • Caducado: El botiquín contiene uno o más<br>productos caducados."
          ],
          [
           "Emergencia",
           "DATOS DEL BOTIQUÍN El usuario clica a “Añadir” y es redirigido al formulario<br>del botiquín donde debe completar los campos requeridos. Los campos que<br>contengan un * son un campo obligatorio y en caso de no completarlos no se<br>pueden crear/editar los registros."
          ],
          [
           "Emergencia",
           "Una vez se ha creado el botiquín, se habilita la pestaña “Contenido”, donde<br>aparece el listado de los productos que contiene el botiquín. Este listado<br>cuenta con las opciones: buscador, añadir filtros, descargar listado, paginado,<br>botón “Añadir producto” que redirige al formulario de creación de los productos,<br>y las acciones: • Editar: Permite acceder al registro del producto del botiquín.<br>• Eliminar: Elimina el producto del botiquín."
          ]
         ],
         "hovertemplate": "<b>Manual:</b> %{customdata[0]}<br><b>Texto:</b> %{customdata[1]}<extra></extra>",
         "legendgroup": "Emergencia",
         "marker": {
          "color": "#19d3f3",
          "symbol": "circle"
         },
         "mode": "markers",
         "name": "Emergencia",
         "orientation": "v",
         "showlegend": true,
         "type": "scatter",
         "x": [
          9.636098,
          11.052936,
          3.7551594,
          -1.9595975,
          10.839563,
          11.402547,
          11.886246,
          5.008929,
          10.664933,
          10.596201,
          11.027756,
          7.7947345,
          0.50124794,
          8.206537,
          7.401086,
          2.2885468,
          6.946446,
          3.9366684,
          5.687085,
          9.072284,
          -6.3882384,
          4.3136325,
          -2.30021,
          -5.0749907,
          8.767406,
          3.9761133,
          8.365598,
          7.034907,
          -8.870874,
          -0.28713968,
          -3.571298,
          -6.9043865,
          -0.02208954,
          -2.5450552,
          -1.7711782,
          -6.98679,
          -2.7848108,
          2.65932,
          0.12683688,
          0.5530648,
          3.224287,
          -2.5284703,
          -1.7213475,
          -10.050644,
          1.7776151,
          2.285702,
          -3.1146083,
          -4.923761,
          -7.7552805,
          3.2703843,
          -0.1287814,
          -0.58243644,
          -11.032956,
          -6.732915,
          0.35188177,
          -8.917906,
          -2.695321,
          4.426878,
          2.9852223,
          -7.6364875,
          -2.4916015,
          -3.693403,
          -7.6273165,
          -4.2241483
         ],
         "xaxis": "x",
         "y": [
          -1.144773,
          2.3491957,
          -5.739061,
          4.6894555,
          3.8837876,
          3.574598,
          3.9975634,
          7.414565,
          3.8317063,
          3.7087982,
          3.010407,
          -3.6137352,
          -4.7841887,
          1.2575595,
          -1.0956688,
          5.8139896,
          -1.1884731,
          3.0470753,
          0.11015545,
          2.1961224,
          4.4838243,
          5.0835266,
          -0.7152138,
          1.8409486,
          1.8114223,
          0.15087728,
          2.3240883,
          -1.2235959,
          1.49101,
          -2.181065,
          2.5202334,
          3.370984,
          -1.938057,
          -2.9931893,
          -2.2370381,
          2.027523,
          -2.9958463,
          -0.33610624,
          5.0380683,
          5.147602,
          1.9752002,
          6.1015186,
          7.080484,
          4.9699216,
          4.1788173,
          5.703748,
          1.4529257,
          2.8861537,
          -2.2679875,
          -0.037698682,
          5.7887816,
          1.1849651,
          -1.3299408,
          2.6190288,
          -3.5736818,
          -1.2966174,
          3.8471587,
          0.6169736,
          7.7505255,
          -2.2228436,
          0.2377267,
          5.475508,
          -0.0583046,
          -0.07774184
         ],
         "yaxis": "y"
        },
        {
         "customdata": [
          [
           "Q1",
           "¿Cómo se diferencia la ubicación física de la operativa?"
          ]
         ],
         "hovertemplate": "<b>%{customdata[0]}:</b><br>%{customdata[1]}<extra></extra>",
         "legendgroup": "Q1",
         "marker": {
          "color": "black",
          "symbol": "diamond"
         },
         "mode": "markers",
         "name": "Q1",
         "orientation": "v",
         "showlegend": true,
         "type": "scatter",
         "x": [
          -4.860896
         ],
         "xaxis": "x",
         "y": [
          -9.240041
         ],
         "yaxis": "y"
        },
        {
         "customdata": [
          [
           "Q2",
           "¿Qué información se incluye en el informe de la evaluación de riesgos que<br>ofrece la plataforma y cuál es su utilidad para la gestión de riesgos en la<br>empresa?"
          ]
         ],
         "hovertemplate": "<b>%{customdata[0]}:</b><br>%{customdata[1]}<extra></extra>",
         "legendgroup": "Q2",
         "marker": {
          "color": "black",
          "symbol": "diamond"
         },
         "mode": "markers",
         "name": "Q2",
         "orientation": "v",
         "showlegend": true,
         "type": "scatter",
         "x": [
          -6.3152795
         ],
         "xaxis": "x",
         "y": [
          -9.007394
         ],
         "yaxis": "y"
        },
        {
         "customdata": [
          [
           "Q3",
           "¿Hay indicadores relativos al cumplimiento de normas?"
          ]
         ],
         "hovertemplate": "<b>%{customdata[0]}:</b><br>%{customdata[1]}<extra></extra>",
         "legendgroup": "Q3",
         "marker": {
          "color": "black",
          "symbol": "diamond"
         },
         "mode": "markers",
         "name": "Q3",
         "orientation": "v",
         "showlegend": true,
         "type": "scatter",
         "x": [
          -7.2432303
         ],
         "xaxis": "x",
         "y": [
          -8.556703
         ],
         "yaxis": "y"
        },
        {
         "customdata": [
          [
           "Q4",
           "¿Qué papel juega la estructura organizativa en la funcionalidad general de la<br>plataforma y cómo interactúa con otros módulos?"
          ]
         ],
         "hovertemplate": "<b>%{customdata[0]}:</b><br>%{customdata[1]}<extra></extra>",
         "legendgroup": "Q4",
         "marker": {
          "color": "black",
          "symbol": "diamond"
         },
         "mode": "markers",
         "name": "Q4",
         "orientation": "v",
         "showlegend": true,
         "type": "scatter",
         "x": [
          -6.0046387
         ],
         "xaxis": "x",
         "y": [
          -9.314909
         ],
         "yaxis": "y"
        },
        {
         "customdata": [
          [
           "Q5",
           "¿Qué permite realizar la evaluación de riesgos?"
          ]
         ],
         "hovertemplate": "<b>%{customdata[0]}:</b><br>%{customdata[1]}<extra></extra>",
         "legendgroup": "Q5",
         "marker": {
          "color": "black",
          "symbol": "diamond"
         },
         "mode": "markers",
         "name": "Q5",
         "orientation": "v",
         "showlegend": true,
         "type": "scatter",
         "x": [
          -6.903386
         ],
         "xaxis": "x",
         "y": [
          -8.612041
         ],
         "yaxis": "y"
        },
        {
         "customdata": [
          [
           "Q6",
           "¿Qué tipo de documentos se pueden almacenar y compartir en el espacio<br>denominado 'Documentos' y cuál es su importancia dentro del contexto de la<br>gestión empresarial en la plataforma?"
          ]
         ],
         "hovertemplate": "<b>%{customdata[0]}:</b><br>%{customdata[1]}<extra></extra>",
         "legendgroup": "Q6",
         "marker": {
          "color": "black",
          "symbol": "diamond"
         },
         "mode": "markers",
         "name": "Q6",
         "orientation": "v",
         "showlegend": true,
         "type": "scatter",
         "x": [
          -6.0659776
         ],
         "xaxis": "x",
         "y": [
          -9.19428
         ],
         "yaxis": "y"
        },
        {
         "customdata": [
          [
           "Q7",
           "¿Se pueden llevar a cabo auditorías internas?"
          ]
         ],
         "hovertemplate": "<b>%{customdata[0]}:</b><br>%{customdata[1]}<extra></extra>",
         "legendgroup": "Q7",
         "marker": {
          "color": "black",
          "symbol": "diamond"
         },
         "mode": "markers",
         "name": "Q7",
         "orientation": "v",
         "showlegend": true,
         "type": "scatter",
         "x": [
          -4.1989565
         ],
         "xaxis": "x",
         "y": [
          -9.29758
         ],
         "yaxis": "y"
        },
        {
         "customdata": [
          [
           "Q8",
           "¿Cuál es la tasa de adopción de esta plataforma en el mercado?"
          ]
         ],
         "hovertemplate": "<b>%{customdata[0]}:</b><br>%{customdata[1]}<extra></extra>",
         "legendgroup": "Q8",
         "marker": {
          "color": "black",
          "symbol": "diamond"
         },
         "mode": "markers",
         "name": "Q8",
         "orientation": "v",
         "showlegend": true,
         "type": "scatter",
         "x": [
          -5.789707
         ],
         "xaxis": "x",
         "y": [
          -9.147691
         ],
         "yaxis": "y"
        },
        {
         "customdata": [
          [
           "Q9",
           "¿Cómo se compara esta plataforma con otras soluciones de gestión de SST?"
          ]
         ],
         "hovertemplate": "<b>%{customdata[0]}:</b><br>%{customdata[1]}<extra></extra>",
         "legendgroup": "Q9",
         "marker": {
          "color": "black",
          "symbol": "diamond"
         },
         "mode": "markers",
         "name": "Q9",
         "orientation": "v",
         "showlegend": true,
         "type": "scatter",
         "x": [
          -5.6777263
         ],
         "xaxis": "x",
         "y": [
          -9.094101
         ],
         "yaxis": "y"
        },
        {
         "customdata": [
          [
           "Q10",
           "¿Qué día hará mañana?"
          ]
         ],
         "hovertemplate": "<b>%{customdata[0]}:</b><br>%{customdata[1]}<extra></extra>",
         "legendgroup": "Q10",
         "marker": {
          "color": "black",
          "symbol": "diamond"
         },
         "mode": "markers",
         "name": "Q10",
         "orientation": "v",
         "showlegend": true,
         "type": "scatter",
         "x": [
          -12.531239
         ],
         "xaxis": "x",
         "y": [
          2.8746092
         ],
         "yaxis": "y"
        }
       ],
       "layout": {
        "height": 700,
        "hoverlabel": {
         "bgcolor": "white",
         "font": {
          "family": "Rockwell",
          "size": 12
         }
        },
        "legend": {
         "title": {
          "text": "Label"
         },
         "tracegroupgap": 0
        },
        "margin": {
         "t": 60
        },
        "template": {
         "data": {
          "bar": [
           {
            "error_x": {
             "color": "#2a3f5f"
            },
            "error_y": {
             "color": "#2a3f5f"
            },
            "marker": {
             "line": {
              "color": "#E5ECF6",
              "width": 0.5
             },
             "pattern": {
              "fillmode": "overlay",
              "size": 10,
              "solidity": 0.2
             }
            },
            "type": "bar"
           }
          ],
          "barpolar": [
           {
            "marker": {
             "line": {
              "color": "#E5ECF6",
              "width": 0.5
             },
             "pattern": {
              "fillmode": "overlay",
              "size": 10,
              "solidity": 0.2
             }
            },
            "type": "barpolar"
           }
          ],
          "carpet": [
           {
            "aaxis": {
             "endlinecolor": "#2a3f5f",
             "gridcolor": "white",
             "linecolor": "white",
             "minorgridcolor": "white",
             "startlinecolor": "#2a3f5f"
            },
            "baxis": {
             "endlinecolor": "#2a3f5f",
             "gridcolor": "white",
             "linecolor": "white",
             "minorgridcolor": "white",
             "startlinecolor": "#2a3f5f"
            },
            "type": "carpet"
           }
          ],
          "choropleth": [
           {
            "colorbar": {
             "outlinewidth": 0,
             "ticks": ""
            },
            "type": "choropleth"
           }
          ],
          "contour": [
           {
            "colorbar": {
             "outlinewidth": 0,
             "ticks": ""
            },
            "colorscale": [
             [
              0,
              "#0d0887"
             ],
             [
              0.1111111111111111,
              "#46039f"
             ],
             [
              0.2222222222222222,
              "#7201a8"
             ],
             [
              0.3333333333333333,
              "#9c179e"
             ],
             [
              0.4444444444444444,
              "#bd3786"
             ],
             [
              0.5555555555555556,
              "#d8576b"
             ],
             [
              0.6666666666666666,
              "#ed7953"
             ],
             [
              0.7777777777777778,
              "#fb9f3a"
             ],
             [
              0.8888888888888888,
              "#fdca26"
             ],
             [
              1,
              "#f0f921"
             ]
            ],
            "type": "contour"
           }
          ],
          "contourcarpet": [
           {
            "colorbar": {
             "outlinewidth": 0,
             "ticks": ""
            },
            "type": "contourcarpet"
           }
          ],
          "heatmap": [
           {
            "colorbar": {
             "outlinewidth": 0,
             "ticks": ""
            },
            "colorscale": [
             [
              0,
              "#0d0887"
             ],
             [
              0.1111111111111111,
              "#46039f"
             ],
             [
              0.2222222222222222,
              "#7201a8"
             ],
             [
              0.3333333333333333,
              "#9c179e"
             ],
             [
              0.4444444444444444,
              "#bd3786"
             ],
             [
              0.5555555555555556,
              "#d8576b"
             ],
             [
              0.6666666666666666,
              "#ed7953"
             ],
             [
              0.7777777777777778,
              "#fb9f3a"
             ],
             [
              0.8888888888888888,
              "#fdca26"
             ],
             [
              1,
              "#f0f921"
             ]
            ],
            "type": "heatmap"
           }
          ],
          "heatmapgl": [
           {
            "colorbar": {
             "outlinewidth": 0,
             "ticks": ""
            },
            "colorscale": [
             [
              0,
              "#0d0887"
             ],
             [
              0.1111111111111111,
              "#46039f"
             ],
             [
              0.2222222222222222,
              "#7201a8"
             ],
             [
              0.3333333333333333,
              "#9c179e"
             ],
             [
              0.4444444444444444,
              "#bd3786"
             ],
             [
              0.5555555555555556,
              "#d8576b"
             ],
             [
              0.6666666666666666,
              "#ed7953"
             ],
             [
              0.7777777777777778,
              "#fb9f3a"
             ],
             [
              0.8888888888888888,
              "#fdca26"
             ],
             [
              1,
              "#f0f921"
             ]
            ],
            "type": "heatmapgl"
           }
          ],
          "histogram": [
           {
            "marker": {
             "pattern": {
              "fillmode": "overlay",
              "size": 10,
              "solidity": 0.2
             }
            },
            "type": "histogram"
           }
          ],
          "histogram2d": [
           {
            "colorbar": {
             "outlinewidth": 0,
             "ticks": ""
            },
            "colorscale": [
             [
              0,
              "#0d0887"
             ],
             [
              0.1111111111111111,
              "#46039f"
             ],
             [
              0.2222222222222222,
              "#7201a8"
             ],
             [
              0.3333333333333333,
              "#9c179e"
             ],
             [
              0.4444444444444444,
              "#bd3786"
             ],
             [
              0.5555555555555556,
              "#d8576b"
             ],
             [
              0.6666666666666666,
              "#ed7953"
             ],
             [
              0.7777777777777778,
              "#fb9f3a"
             ],
             [
              0.8888888888888888,
              "#fdca26"
             ],
             [
              1,
              "#f0f921"
             ]
            ],
            "type": "histogram2d"
           }
          ],
          "histogram2dcontour": [
           {
            "colorbar": {
             "outlinewidth": 0,
             "ticks": ""
            },
            "colorscale": [
             [
              0,
              "#0d0887"
             ],
             [
              0.1111111111111111,
              "#46039f"
             ],
             [
              0.2222222222222222,
              "#7201a8"
             ],
             [
              0.3333333333333333,
              "#9c179e"
             ],
             [
              0.4444444444444444,
              "#bd3786"
             ],
             [
              0.5555555555555556,
              "#d8576b"
             ],
             [
              0.6666666666666666,
              "#ed7953"
             ],
             [
              0.7777777777777778,
              "#fb9f3a"
             ],
             [
              0.8888888888888888,
              "#fdca26"
             ],
             [
              1,
              "#f0f921"
             ]
            ],
            "type": "histogram2dcontour"
           }
          ],
          "mesh3d": [
           {
            "colorbar": {
             "outlinewidth": 0,
             "ticks": ""
            },
            "type": "mesh3d"
           }
          ],
          "parcoords": [
           {
            "line": {
             "colorbar": {
              "outlinewidth": 0,
              "ticks": ""
             }
            },
            "type": "parcoords"
           }
          ],
          "pie": [
           {
            "automargin": true,
            "type": "pie"
           }
          ],
          "scatter": [
           {
            "fillpattern": {
             "fillmode": "overlay",
             "size": 10,
             "solidity": 0.2
            },
            "type": "scatter"
           }
          ],
          "scatter3d": [
           {
            "line": {
             "colorbar": {
              "outlinewidth": 0,
              "ticks": ""
             }
            },
            "marker": {
             "colorbar": {
              "outlinewidth": 0,
              "ticks": ""
             }
            },
            "type": "scatter3d"
           }
          ],
          "scattercarpet": [
           {
            "marker": {
             "colorbar": {
              "outlinewidth": 0,
              "ticks": ""
             }
            },
            "type": "scattercarpet"
           }
          ],
          "scattergeo": [
           {
            "marker": {
             "colorbar": {
              "outlinewidth": 0,
              "ticks": ""
             }
            },
            "type": "scattergeo"
           }
          ],
          "scattergl": [
           {
            "marker": {
             "colorbar": {
              "outlinewidth": 0,
              "ticks": ""
             }
            },
            "type": "scattergl"
           }
          ],
          "scattermapbox": [
           {
            "marker": {
             "colorbar": {
              "outlinewidth": 0,
              "ticks": ""
             }
            },
            "type": "scattermapbox"
           }
          ],
          "scatterpolar": [
           {
            "marker": {
             "colorbar": {
              "outlinewidth": 0,
              "ticks": ""
             }
            },
            "type": "scatterpolar"
           }
          ],
          "scatterpolargl": [
           {
            "marker": {
             "colorbar": {
              "outlinewidth": 0,
              "ticks": ""
             }
            },
            "type": "scatterpolargl"
           }
          ],
          "scatterternary": [
           {
            "marker": {
             "colorbar": {
              "outlinewidth": 0,
              "ticks": ""
             }
            },
            "type": "scatterternary"
           }
          ],
          "surface": [
           {
            "colorbar": {
             "outlinewidth": 0,
             "ticks": ""
            },
            "colorscale": [
             [
              0,
              "#0d0887"
             ],
             [
              0.1111111111111111,
              "#46039f"
             ],
             [
              0.2222222222222222,
              "#7201a8"
             ],
             [
              0.3333333333333333,
              "#9c179e"
             ],
             [
              0.4444444444444444,
              "#bd3786"
             ],
             [
              0.5555555555555556,
              "#d8576b"
             ],
             [
              0.6666666666666666,
              "#ed7953"
             ],
             [
              0.7777777777777778,
              "#fb9f3a"
             ],
             [
              0.8888888888888888,
              "#fdca26"
             ],
             [
              1,
              "#f0f921"
             ]
            ],
            "type": "surface"
           }
          ],
          "table": [
           {
            "cells": {
             "fill": {
              "color": "#EBF0F8"
             },
             "line": {
              "color": "white"
             }
            },
            "header": {
             "fill": {
              "color": "#C8D4E3"
             },
             "line": {
              "color": "white"
             }
            },
            "type": "table"
           }
          ]
         },
         "layout": {
          "annotationdefaults": {
           "arrowcolor": "#2a3f5f",
           "arrowhead": 0,
           "arrowwidth": 1
          },
          "autotypenumbers": "strict",
          "coloraxis": {
           "colorbar": {
            "outlinewidth": 0,
            "ticks": ""
           }
          },
          "colorscale": {
           "diverging": [
            [
             0,
             "#8e0152"
            ],
            [
             0.1,
             "#c51b7d"
            ],
            [
             0.2,
             "#de77ae"
            ],
            [
             0.3,
             "#f1b6da"
            ],
            [
             0.4,
             "#fde0ef"
            ],
            [
             0.5,
             "#f7f7f7"
            ],
            [
             0.6,
             "#e6f5d0"
            ],
            [
             0.7,
             "#b8e186"
            ],
            [
             0.8,
             "#7fbc41"
            ],
            [
             0.9,
             "#4d9221"
            ],
            [
             1,
             "#276419"
            ]
           ],
           "sequential": [
            [
             0,
             "#0d0887"
            ],
            [
             0.1111111111111111,
             "#46039f"
            ],
            [
             0.2222222222222222,
             "#7201a8"
            ],
            [
             0.3333333333333333,
             "#9c179e"
            ],
            [
             0.4444444444444444,
             "#bd3786"
            ],
            [
             0.5555555555555556,
             "#d8576b"
            ],
            [
             0.6666666666666666,
             "#ed7953"
            ],
            [
             0.7777777777777778,
             "#fb9f3a"
            ],
            [
             0.8888888888888888,
             "#fdca26"
            ],
            [
             1,
             "#f0f921"
            ]
           ],
           "sequentialminus": [
            [
             0,
             "#0d0887"
            ],
            [
             0.1111111111111111,
             "#46039f"
            ],
            [
             0.2222222222222222,
             "#7201a8"
            ],
            [
             0.3333333333333333,
             "#9c179e"
            ],
            [
             0.4444444444444444,
             "#bd3786"
            ],
            [
             0.5555555555555556,
             "#d8576b"
            ],
            [
             0.6666666666666666,
             "#ed7953"
            ],
            [
             0.7777777777777778,
             "#fb9f3a"
            ],
            [
             0.8888888888888888,
             "#fdca26"
            ],
            [
             1,
             "#f0f921"
            ]
           ]
          },
          "colorway": [
           "#636efa",
           "#EF553B",
           "#00cc96",
           "#ab63fa",
           "#FFA15A",
           "#19d3f3",
           "#FF6692",
           "#B6E880",
           "#FF97FF",
           "#FECB52"
          ],
          "font": {
           "color": "#2a3f5f"
          },
          "geo": {
           "bgcolor": "white",
           "lakecolor": "white",
           "landcolor": "#E5ECF6",
           "showlakes": true,
           "showland": true,
           "subunitcolor": "white"
          },
          "hoverlabel": {
           "align": "left"
          },
          "hovermode": "closest",
          "mapbox": {
           "style": "light"
          },
          "paper_bgcolor": "white",
          "plot_bgcolor": "#E5ECF6",
          "polar": {
           "angularaxis": {
            "gridcolor": "white",
            "linecolor": "white",
            "ticks": ""
           },
           "bgcolor": "#E5ECF6",
           "radialaxis": {
            "gridcolor": "white",
            "linecolor": "white",
            "ticks": ""
           }
          },
          "scene": {
           "xaxis": {
            "backgroundcolor": "#E5ECF6",
            "gridcolor": "white",
            "gridwidth": 2,
            "linecolor": "white",
            "showbackground": true,
            "ticks": "",
            "zerolinecolor": "white"
           },
           "yaxis": {
            "backgroundcolor": "#E5ECF6",
            "gridcolor": "white",
            "gridwidth": 2,
            "linecolor": "white",
            "showbackground": true,
            "ticks": "",
            "zerolinecolor": "white"
           },
           "zaxis": {
            "backgroundcolor": "#E5ECF6",
            "gridcolor": "white",
            "gridwidth": 2,
            "linecolor": "white",
            "showbackground": true,
            "ticks": "",
            "zerolinecolor": "white"
           }
          },
          "shapedefaults": {
           "line": {
            "color": "#2a3f5f"
           }
          },
          "ternary": {
           "aaxis": {
            "gridcolor": "white",
            "linecolor": "white",
            "ticks": ""
           },
           "baxis": {
            "gridcolor": "white",
            "linecolor": "white",
            "ticks": ""
           },
           "bgcolor": "#E5ECF6",
           "caxis": {
            "gridcolor": "white",
            "linecolor": "white",
            "ticks": ""
           }
          },
          "title": {
           "x": 0.05
          },
          "xaxis": {
           "automargin": true,
           "gridcolor": "white",
           "linecolor": "white",
           "ticks": "",
           "title": {
            "standoff": 15
           },
           "zerolinecolor": "white",
           "zerolinewidth": 2
          },
          "yaxis": {
           "automargin": true,
           "gridcolor": "white",
           "linecolor": "white",
           "ticks": "",
           "title": {
            "standoff": 15
           },
           "zerolinecolor": "white",
           "zerolinewidth": 2
          }
         }
        },
        "title": {
         "text": "Reducción de Dimensionalidad con TSNE (2D)"
        },
        "width": 1000,
        "xaxis": {
         "anchor": "y",
         "domain": [
          0,
          1
         ],
         "title": {
          "text": "TSNE1"
         }
        },
        "yaxis": {
         "anchor": "x",
         "domain": [
          0,
          1
         ],
         "title": {
          "text": "TSNE2"
         }
        }
       }
      }
     },
     "metadata": {},
     "output_type": "display_data"
    }
   ],
   "source": [
    "tsne_df = pd.DataFrame(tsne_result, columns=['TSNE1', 'TSNE2'])\n",
    "tsne_df['manual'] = chunk_labels\n",
    "tsne_df['type'] = 'chunk'\n",
    "tsne_df['text'] = all_chunks  # Añadir el texto del chunk para el hover\n",
    "\n",
    "# Agregar las preguntas al dataframe\n",
    "question_tsne_df = pd.DataFrame(question_tsne_results, columns=['TSNE1', 'TSNE2'])\n",
    "question_tsne_df['manual'] = question_labels\n",
    "question_tsne_df['type'] = 'question'\n",
    "question_tsne_df['text'] = questions  # Añadir la pregunta para el hover\n",
    "\n",
    "# Combinar ambos dataframes\n",
    "combined_tsne_df_2d = pd.concat([tsne_df, question_tsne_df])\n",
    "\n",
    "# Añadir el texto con saltos de línea al dataframe\n",
    "combined_tsne_df_2d['text_with_breaks'] = combined_pca_df['text'].apply(lambda x: add_line_breaks(x))\n",
    "\n",
    "# Gráfico TSNE 2D\n",
    "fig_tsne_2d = px.scatter(\n",
    "    combined_tsne_df_2d,\n",
    "    x='TSNE1',\n",
    "    y='TSNE2',\n",
    "    color='manual',\n",
    "    hover_data={'manual': True, 'text_with_breaks': True},\n",
    "    labels={'manual': 'Label', 'text_with_breaks': 'Contenido'}\n",
    ")\n",
    "\n",
    "question_index = 0\n",
    "for trace in fig_tsne_2d.data:\n",
    "    if any(question_label in trace.name for question_label in question_labels):\n",
    "        trace.marker.color = 'black'\n",
    "        trace.marker.symbol = 'diamond'\n",
    "        trace.name = question_labels[question_index]\n",
    "        trace.hovertemplate = (\n",
    "            '<b>%{customdata[0]}:</b><br>'\n",
    "            '%{customdata[1]}<extra></extra>'\n",
    "        )\n",
    "        question_index = question_index + 1\n",
    "    else:\n",
    "        trace.hovertemplate = (\n",
    "            '<b>Manual:</b> %{customdata[0]}<br>'\n",
    "            '<b>Texto:</b> %{customdata[1]}<extra></extra>'\n",
    "        )\n",
    "fig_tsne_2d.update_layout(\n",
    "    title='Reducción de Dimensionalidad con TSNE (2D)',\n",
    "    xaxis_title='TSNE1',\n",
    "    yaxis_title='TSNE2',\n",
    "    legend_title='Label',\n",
    "    width=1000,\n",
    "    height=700,\n",
    "    hoverlabel=dict(\n",
    "        bgcolor=\"white\",\n",
    "        font_size=12,\n",
    "        font_family=\"Rockwell\"\n",
    "    )\n",
    ")\n",
    "fig_tsne_2d.show()\n"
   ]
  },
  {
   "cell_type": "markdown",
   "id": "006d1aa8-7733-4f91-985e-89a0f45eae30",
   "metadata": {
    "id": "006d1aa8-7733-4f91-985e-89a0f45eae30"
   },
   "source": [
    "**Conclusiones del Gráfico de t-SNE (2D y 3D)**"
   ]
  },
  {
   "cell_type": "markdown",
   "id": "a65e22d8-d7e5-47d1-8113-b244b5b4dd8d",
   "metadata": {
    "id": "a65e22d8-d7e5-47d1-8113-b244b5b4dd8d"
   },
   "source": [
    "En conclusión, tanto el análisis de t-SNE en 2D como en 3D muestra que no se observan agrupamientos claros entre las diferentes categorías de documentos, lo que implica que las primeras componentes t-SNE no son suficientes para separar completamente las categorías. Esto también sugiere que la variabilidad relevante para la clasificación de categorías está distribuida en más dimensiones.\n",
    "\n",
    "Además, las preguntas etiquetadas (Q1 a Q9) están dispersas, lo que indica que las preguntas y los fragmentos de texto asociados comparten características semánticas similares. La falta de agrupamientos claros entre las categorías y la dispersión de las preguntas indican que, aunque t-SNE captura una parte significativa de la variabilidad en los datos, no logra una separación clara entre las categorías de documentos.\n",
    "\n",
    "El análisis de reducción de dimensionalidad con t-SNE proporciona una mejor separación y agrupamiento de los datos en comparación con PCA, revelando estructuras más complejas y naturales en los datos textuales de los manuales de Sabentis. No obstante, la presencia de superposición entre algunas categorías sugiere la necesidad de un análisis más profundo para una clasificación más precisa y útil."
   ]
  }
 ],
 "metadata": {
  "colab": {
   "provenance": []
  },
  "kernelspec": {
   "display_name": "Python 3 (ipykernel)",
   "language": "python",
   "name": "python3"
  },
  "language_info": {
   "codemirror_mode": {
    "name": "ipython",
    "version": 3
   },
   "file_extension": ".py",
   "mimetype": "text/x-python",
   "name": "python",
   "nbconvert_exporter": "python",
   "pygments_lexer": "ipython3",
   "version": "3.9.18"
  },
  "widgets": {
   "application/vnd.jupyter.widget-state+json": {
    "04a089dcd4fb4e7391229807d9ce1611": {
     "model_module": "@jupyter-widgets/base",
     "model_module_version": "1.2.0",
     "model_name": "LayoutModel",
     "state": {
      "_model_module": "@jupyter-widgets/base",
      "_model_module_version": "1.2.0",
      "_model_name": "LayoutModel",
      "_view_count": null,
      "_view_module": "@jupyter-widgets/base",
      "_view_module_version": "1.2.0",
      "_view_name": "LayoutView",
      "align_content": null,
      "align_items": null,
      "align_self": null,
      "border": null,
      "bottom": null,
      "display": null,
      "flex": null,
      "flex_flow": null,
      "grid_area": null,
      "grid_auto_columns": null,
      "grid_auto_flow": null,
      "grid_auto_rows": null,
      "grid_column": null,
      "grid_gap": null,
      "grid_row": null,
      "grid_template_areas": null,
      "grid_template_columns": null,
      "grid_template_rows": null,
      "height": null,
      "justify_content": null,
      "justify_items": null,
      "left": null,
      "margin": null,
      "max_height": null,
      "max_width": null,
      "min_height": null,
      "min_width": null,
      "object_fit": null,
      "object_position": null,
      "order": null,
      "overflow": null,
      "overflow_x": null,
      "overflow_y": null,
      "padding": null,
      "right": null,
      "top": null,
      "visibility": null,
      "width": null
     }
    },
    "0d9139d89de34d5d9fcfd083f5bc19c0": {
     "model_module": "@jupyter-widgets/base",
     "model_module_version": "1.2.0",
     "model_name": "LayoutModel",
     "state": {
      "_model_module": "@jupyter-widgets/base",
      "_model_module_version": "1.2.0",
      "_model_name": "LayoutModel",
      "_view_count": null,
      "_view_module": "@jupyter-widgets/base",
      "_view_module_version": "1.2.0",
      "_view_name": "LayoutView",
      "align_content": null,
      "align_items": null,
      "align_self": null,
      "border": null,
      "bottom": null,
      "display": null,
      "flex": null,
      "flex_flow": null,
      "grid_area": null,
      "grid_auto_columns": null,
      "grid_auto_flow": null,
      "grid_auto_rows": null,
      "grid_column": null,
      "grid_gap": null,
      "grid_row": null,
      "grid_template_areas": null,
      "grid_template_columns": null,
      "grid_template_rows": null,
      "height": null,
      "justify_content": null,
      "justify_items": null,
      "left": null,
      "margin": null,
      "max_height": null,
      "max_width": null,
      "min_height": null,
      "min_width": null,
      "object_fit": null,
      "object_position": null,
      "order": null,
      "overflow": null,
      "overflow_x": null,
      "overflow_y": null,
      "padding": null,
      "right": null,
      "top": null,
      "visibility": null,
      "width": null
     }
    },
    "0ef8f092bbcf405a94621e9ea8ef288a": {
     "model_module": "@jupyter-widgets/controls",
     "model_module_version": "1.5.0",
     "model_name": "HTMLModel",
     "state": {
      "_dom_classes": [],
      "_model_module": "@jupyter-widgets/controls",
      "_model_module_version": "1.5.0",
      "_model_name": "HTMLModel",
      "_view_count": null,
      "_view_module": "@jupyter-widgets/controls",
      "_view_module_version": "1.5.0",
      "_view_name": "HTMLView",
      "description": "",
      "description_tooltip": null,
      "layout": "IPY_MODEL_ac80cf83b5174d809a434190c88bb882",
      "placeholder": "​",
      "style": "IPY_MODEL_1bcaa65b714f4a868b8ed76d4bfb4dde",
      "value": "tokenizer_config.json: 100%"
     }
    },
    "139324862b2d425bb58ed3cb445e8bcc": {
     "model_module": "@jupyter-widgets/controls",
     "model_module_version": "1.5.0",
     "model_name": "HTMLModel",
     "state": {
      "_dom_classes": [],
      "_model_module": "@jupyter-widgets/controls",
      "_model_module_version": "1.5.0",
      "_model_name": "HTMLModel",
      "_view_count": null,
      "_view_module": "@jupyter-widgets/controls",
      "_view_module_version": "1.5.0",
      "_view_name": "HTMLView",
      "description": "",
      "description_tooltip": null,
      "layout": "IPY_MODEL_ea1da833020c400f9901cda3d5cc7182",
      "placeholder": "​",
      "style": "IPY_MODEL_cdb1bfc1d83e4a8ca10d75e25812a5af",
      "value": "config.json: 100%"
     }
    },
    "17865d4af6ce45c8bb088178faa410e5": {
     "model_module": "@jupyter-widgets/controls",
     "model_module_version": "1.5.0",
     "model_name": "DescriptionStyleModel",
     "state": {
      "_model_module": "@jupyter-widgets/controls",
      "_model_module_version": "1.5.0",
      "_model_name": "DescriptionStyleModel",
      "_view_count": null,
      "_view_module": "@jupyter-widgets/base",
      "_view_module_version": "1.2.0",
      "_view_name": "StyleView",
      "description_width": ""
     }
    },
    "1a848f5b8df44a33b2991c64ae42234a": {
     "model_module": "@jupyter-widgets/controls",
     "model_module_version": "1.5.0",
     "model_name": "FloatProgressModel",
     "state": {
      "_dom_classes": [],
      "_model_module": "@jupyter-widgets/controls",
      "_model_module_version": "1.5.0",
      "_model_name": "FloatProgressModel",
      "_view_count": null,
      "_view_module": "@jupyter-widgets/controls",
      "_view_module_version": "1.5.0",
      "_view_name": "ProgressView",
      "bar_style": "success",
      "description": "",
      "description_tooltip": null,
      "layout": "IPY_MODEL_448162a5823446799d1464c7dc64d83e",
      "max": 310,
      "min": 0,
      "orientation": "horizontal",
      "style": "IPY_MODEL_bec32f2bc17c431d80fd5da608f5e063",
      "value": 310
     }
    },
    "1bcaa65b714f4a868b8ed76d4bfb4dde": {
     "model_module": "@jupyter-widgets/controls",
     "model_module_version": "1.5.0",
     "model_name": "DescriptionStyleModel",
     "state": {
      "_model_module": "@jupyter-widgets/controls",
      "_model_module_version": "1.5.0",
      "_model_name": "DescriptionStyleModel",
      "_view_count": null,
      "_view_module": "@jupyter-widgets/base",
      "_view_module_version": "1.2.0",
      "_view_name": "StyleView",
      "description_width": ""
     }
    },
    "1f675161c9bd4fa296682c3d97df606d": {
     "model_module": "@jupyter-widgets/controls",
     "model_module_version": "1.5.0",
     "model_name": "HBoxModel",
     "state": {
      "_dom_classes": [],
      "_model_module": "@jupyter-widgets/controls",
      "_model_module_version": "1.5.0",
      "_model_name": "HBoxModel",
      "_view_count": null,
      "_view_module": "@jupyter-widgets/controls",
      "_view_module_version": "1.5.0",
      "_view_name": "HBoxView",
      "box_style": "",
      "children": [
       "IPY_MODEL_dcb4284d71f84e959df202ba94f95a63",
       "IPY_MODEL_2321eec850794a95834659c113e2e442",
       "IPY_MODEL_e4521c4e0b274a9b9f6f8b41155ed612"
      ],
      "layout": "IPY_MODEL_8895b67c0e8b441aaefe919124e81dc7"
     }
    },
    "1fcf9067bba04700847e53dd575d7d1c": {
     "model_module": "@jupyter-widgets/base",
     "model_module_version": "1.2.0",
     "model_name": "LayoutModel",
     "state": {
      "_model_module": "@jupyter-widgets/base",
      "_model_module_version": "1.2.0",
      "_model_name": "LayoutModel",
      "_view_count": null,
      "_view_module": "@jupyter-widgets/base",
      "_view_module_version": "1.2.0",
      "_view_name": "LayoutView",
      "align_content": null,
      "align_items": null,
      "align_self": null,
      "border": null,
      "bottom": null,
      "display": null,
      "flex": null,
      "flex_flow": null,
      "grid_area": null,
      "grid_auto_columns": null,
      "grid_auto_flow": null,
      "grid_auto_rows": null,
      "grid_column": null,
      "grid_gap": null,
      "grid_row": null,
      "grid_template_areas": null,
      "grid_template_columns": null,
      "grid_template_rows": null,
      "height": null,
      "justify_content": null,
      "justify_items": null,
      "left": null,
      "margin": null,
      "max_height": null,
      "max_width": null,
      "min_height": null,
      "min_width": null,
      "object_fit": null,
      "object_position": null,
      "order": null,
      "overflow": null,
      "overflow_x": null,
      "overflow_y": null,
      "padding": null,
      "right": null,
      "top": null,
      "visibility": null,
      "width": null
     }
    },
    "2321eec850794a95834659c113e2e442": {
     "model_module": "@jupyter-widgets/controls",
     "model_module_version": "1.5.0",
     "model_name": "FloatProgressModel",
     "state": {
      "_dom_classes": [],
      "_model_module": "@jupyter-widgets/controls",
      "_model_module_version": "1.5.0",
      "_model_name": "FloatProgressModel",
      "_view_count": null,
      "_view_module": "@jupyter-widgets/controls",
      "_view_module_version": "1.5.0",
      "_view_name": "ProgressView",
      "bar_style": "success",
      "description": "",
      "description_tooltip": null,
      "layout": "IPY_MODEL_0d9139d89de34d5d9fcfd083f5bc19c0",
      "max": 134,
      "min": 0,
      "orientation": "horizontal",
      "style": "IPY_MODEL_60a88eca8471409c99df33f85d3dc216",
      "value": 134
     }
    },
    "31844ce96f114266a14fdd7bd8687d01": {
     "model_module": "@jupyter-widgets/base",
     "model_module_version": "1.2.0",
     "model_name": "LayoutModel",
     "state": {
      "_model_module": "@jupyter-widgets/base",
      "_model_module_version": "1.2.0",
      "_model_name": "LayoutModel",
      "_view_count": null,
      "_view_module": "@jupyter-widgets/base",
      "_view_module_version": "1.2.0",
      "_view_name": "LayoutView",
      "align_content": null,
      "align_items": null,
      "align_self": null,
      "border": null,
      "bottom": null,
      "display": null,
      "flex": null,
      "flex_flow": null,
      "grid_area": null,
      "grid_auto_columns": null,
      "grid_auto_flow": null,
      "grid_auto_rows": null,
      "grid_column": null,
      "grid_gap": null,
      "grid_row": null,
      "grid_template_areas": null,
      "grid_template_columns": null,
      "grid_template_rows": null,
      "height": null,
      "justify_content": null,
      "justify_items": null,
      "left": null,
      "margin": null,
      "max_height": null,
      "max_width": null,
      "min_height": null,
      "min_width": null,
      "object_fit": null,
      "object_position": null,
      "order": null,
      "overflow": null,
      "overflow_x": null,
      "overflow_y": null,
      "padding": null,
      "right": null,
      "top": null,
      "visibility": null,
      "width": null
     }
    },
    "3646b00cdc6340998c2581accc7869a5": {
     "model_module": "@jupyter-widgets/controls",
     "model_module_version": "1.5.0",
     "model_name": "HBoxModel",
     "state": {
      "_dom_classes": [],
      "_model_module": "@jupyter-widgets/controls",
      "_model_module_version": "1.5.0",
      "_model_name": "HBoxModel",
      "_view_count": null,
      "_view_module": "@jupyter-widgets/controls",
      "_view_module_version": "1.5.0",
      "_view_name": "HBoxView",
      "box_style": "",
      "children": [
       "IPY_MODEL_a685b1f98b524ee59b5a4bf1ef455125",
       "IPY_MODEL_cc6f75730632457f86bd74a7da6bb2f9",
       "IPY_MODEL_d104cb2449d74c29a0fcc01ea55580e0"
      ],
      "layout": "IPY_MODEL_90a21f12c2e146ae9dfc48d3f5f187c7"
     }
    },
    "379becfe23234bcebe3f59e32daea39e": {
     "model_module": "@jupyter-widgets/controls",
     "model_module_version": "1.5.0",
     "model_name": "HBoxModel",
     "state": {
      "_dom_classes": [],
      "_model_module": "@jupyter-widgets/controls",
      "_model_module_version": "1.5.0",
      "_model_name": "HBoxModel",
      "_view_count": null,
      "_view_module": "@jupyter-widgets/controls",
      "_view_module_version": "1.5.0",
      "_view_name": "HBoxView",
      "box_style": "",
      "children": [
       "IPY_MODEL_61697ef134c54631b624f6e73cdd1178",
       "IPY_MODEL_c67386b2f0ae400c80b1a4ebda45ef76",
       "IPY_MODEL_e5b5842133d64984b66703992ed61c56"
      ],
      "layout": "IPY_MODEL_c91c394ee8a84952ac212962ee39d5ec"
     }
    },
    "3896bff6071f481085f6b1859a2b30ae": {
     "model_module": "@jupyter-widgets/base",
     "model_module_version": "1.2.0",
     "model_name": "LayoutModel",
     "state": {
      "_model_module": "@jupyter-widgets/base",
      "_model_module_version": "1.2.0",
      "_model_name": "LayoutModel",
      "_view_count": null,
      "_view_module": "@jupyter-widgets/base",
      "_view_module_version": "1.2.0",
      "_view_name": "LayoutView",
      "align_content": null,
      "align_items": null,
      "align_self": null,
      "border": null,
      "bottom": null,
      "display": null,
      "flex": null,
      "flex_flow": null,
      "grid_area": null,
      "grid_auto_columns": null,
      "grid_auto_flow": null,
      "grid_auto_rows": null,
      "grid_column": null,
      "grid_gap": null,
      "grid_row": null,
      "grid_template_areas": null,
      "grid_template_columns": null,
      "grid_template_rows": null,
      "height": null,
      "justify_content": null,
      "justify_items": null,
      "left": null,
      "margin": null,
      "max_height": null,
      "max_width": null,
      "min_height": null,
      "min_width": null,
      "object_fit": null,
      "object_position": null,
      "order": null,
      "overflow": null,
      "overflow_x": null,
      "overflow_y": null,
      "padding": null,
      "right": null,
      "top": null,
      "visibility": null,
      "width": null
     }
    },
    "3ba79e358d6642d5a0b93a19103971d2": {
     "model_module": "@jupyter-widgets/controls",
     "model_module_version": "1.5.0",
     "model_name": "DescriptionStyleModel",
     "state": {
      "_model_module": "@jupyter-widgets/controls",
      "_model_module_version": "1.5.0",
      "_model_name": "DescriptionStyleModel",
      "_view_count": null,
      "_view_module": "@jupyter-widgets/base",
      "_view_module_version": "1.2.0",
      "_view_name": "StyleView",
      "description_width": ""
     }
    },
    "448162a5823446799d1464c7dc64d83e": {
     "model_module": "@jupyter-widgets/base",
     "model_module_version": "1.2.0",
     "model_name": "LayoutModel",
     "state": {
      "_model_module": "@jupyter-widgets/base",
      "_model_module_version": "1.2.0",
      "_model_name": "LayoutModel",
      "_view_count": null,
      "_view_module": "@jupyter-widgets/base",
      "_view_module_version": "1.2.0",
      "_view_name": "LayoutView",
      "align_content": null,
      "align_items": null,
      "align_self": null,
      "border": null,
      "bottom": null,
      "display": null,
      "flex": null,
      "flex_flow": null,
      "grid_area": null,
      "grid_auto_columns": null,
      "grid_auto_flow": null,
      "grid_auto_rows": null,
      "grid_column": null,
      "grid_gap": null,
      "grid_row": null,
      "grid_template_areas": null,
      "grid_template_columns": null,
      "grid_template_rows": null,
      "height": null,
      "justify_content": null,
      "justify_items": null,
      "left": null,
      "margin": null,
      "max_height": null,
      "max_width": null,
      "min_height": null,
      "min_width": null,
      "object_fit": null,
      "object_position": null,
      "order": null,
      "overflow": null,
      "overflow_x": null,
      "overflow_y": null,
      "padding": null,
      "right": null,
      "top": null,
      "visibility": null,
      "width": null
     }
    },
    "4783f70f23a44c1a900272fd16a826cc": {
     "model_module": "@jupyter-widgets/controls",
     "model_module_version": "1.5.0",
     "model_name": "DescriptionStyleModel",
     "state": {
      "_model_module": "@jupyter-widgets/controls",
      "_model_module_version": "1.5.0",
      "_model_name": "DescriptionStyleModel",
      "_view_count": null,
      "_view_module": "@jupyter-widgets/base",
      "_view_module_version": "1.2.0",
      "_view_name": "StyleView",
      "description_width": ""
     }
    },
    "47d319af939840759c03327a6bb5adf1": {
     "model_module": "@jupyter-widgets/base",
     "model_module_version": "1.2.0",
     "model_name": "LayoutModel",
     "state": {
      "_model_module": "@jupyter-widgets/base",
      "_model_module_version": "1.2.0",
      "_model_name": "LayoutModel",
      "_view_count": null,
      "_view_module": "@jupyter-widgets/base",
      "_view_module_version": "1.2.0",
      "_view_name": "LayoutView",
      "align_content": null,
      "align_items": null,
      "align_self": null,
      "border": null,
      "bottom": null,
      "display": null,
      "flex": null,
      "flex_flow": null,
      "grid_area": null,
      "grid_auto_columns": null,
      "grid_auto_flow": null,
      "grid_auto_rows": null,
      "grid_column": null,
      "grid_gap": null,
      "grid_row": null,
      "grid_template_areas": null,
      "grid_template_columns": null,
      "grid_template_rows": null,
      "height": null,
      "justify_content": null,
      "justify_items": null,
      "left": null,
      "margin": null,
      "max_height": null,
      "max_width": null,
      "min_height": null,
      "min_width": null,
      "object_fit": null,
      "object_position": null,
      "order": null,
      "overflow": null,
      "overflow_x": null,
      "overflow_y": null,
      "padding": null,
      "right": null,
      "top": null,
      "visibility": null,
      "width": null
     }
    },
    "4d7ff51880934eacb5fcba6012ad2d24": {
     "model_module": "@jupyter-widgets/controls",
     "model_module_version": "1.5.0",
     "model_name": "DescriptionStyleModel",
     "state": {
      "_model_module": "@jupyter-widgets/controls",
      "_model_module_version": "1.5.0",
      "_model_name": "DescriptionStyleModel",
      "_view_count": null,
      "_view_module": "@jupyter-widgets/base",
      "_view_module_version": "1.2.0",
      "_view_name": "StyleView",
      "description_width": ""
     }
    },
    "4dba993d54174622876ed5188ed1609d": {
     "model_module": "@jupyter-widgets/controls",
     "model_module_version": "1.5.0",
     "model_name": "HTMLModel",
     "state": {
      "_dom_classes": [],
      "_model_module": "@jupyter-widgets/controls",
      "_model_module_version": "1.5.0",
      "_model_name": "HTMLModel",
      "_view_count": null,
      "_view_module": "@jupyter-widgets/controls",
      "_view_module_version": "1.5.0",
      "_view_name": "HTMLView",
      "description": "",
      "description_tooltip": null,
      "layout": "IPY_MODEL_9d30023a4ec6432abd550ed26333b24d",
      "placeholder": "​",
      "style": "IPY_MODEL_17865d4af6ce45c8bb088178faa410e5",
      "value": "pytorch_model.bin: 100%"
     }
    },
    "506eaa96477941ea8afab3233b5d6b43": {
     "model_module": "@jupyter-widgets/base",
     "model_module_version": "1.2.0",
     "model_name": "LayoutModel",
     "state": {
      "_model_module": "@jupyter-widgets/base",
      "_model_module_version": "1.2.0",
      "_model_name": "LayoutModel",
      "_view_count": null,
      "_view_module": "@jupyter-widgets/base",
      "_view_module_version": "1.2.0",
      "_view_name": "LayoutView",
      "align_content": null,
      "align_items": null,
      "align_self": null,
      "border": null,
      "bottom": null,
      "display": null,
      "flex": null,
      "flex_flow": null,
      "grid_area": null,
      "grid_auto_columns": null,
      "grid_auto_flow": null,
      "grid_auto_rows": null,
      "grid_column": null,
      "grid_gap": null,
      "grid_row": null,
      "grid_template_areas": null,
      "grid_template_columns": null,
      "grid_template_rows": null,
      "height": null,
      "justify_content": null,
      "justify_items": null,
      "left": null,
      "margin": null,
      "max_height": null,
      "max_width": null,
      "min_height": null,
      "min_width": null,
      "object_fit": null,
      "object_position": null,
      "order": null,
      "overflow": null,
      "overflow_x": null,
      "overflow_y": null,
      "padding": null,
      "right": null,
      "top": null,
      "visibility": null,
      "width": null
     }
    },
    "50cb7a570ccd4a85bc49ec9574752782": {
     "model_module": "@jupyter-widgets/controls",
     "model_module_version": "1.5.0",
     "model_name": "DescriptionStyleModel",
     "state": {
      "_model_module": "@jupyter-widgets/controls",
      "_model_module_version": "1.5.0",
      "_model_name": "DescriptionStyleModel",
      "_view_count": null,
      "_view_module": "@jupyter-widgets/base",
      "_view_module_version": "1.2.0",
      "_view_name": "StyleView",
      "description_width": ""
     }
    },
    "549b1e7256ad4aabb7246c4bfb4c9698": {
     "model_module": "@jupyter-widgets/base",
     "model_module_version": "1.2.0",
     "model_name": "LayoutModel",
     "state": {
      "_model_module": "@jupyter-widgets/base",
      "_model_module_version": "1.2.0",
      "_model_name": "LayoutModel",
      "_view_count": null,
      "_view_module": "@jupyter-widgets/base",
      "_view_module_version": "1.2.0",
      "_view_name": "LayoutView",
      "align_content": null,
      "align_items": null,
      "align_self": null,
      "border": null,
      "bottom": null,
      "display": null,
      "flex": null,
      "flex_flow": null,
      "grid_area": null,
      "grid_auto_columns": null,
      "grid_auto_flow": null,
      "grid_auto_rows": null,
      "grid_column": null,
      "grid_gap": null,
      "grid_row": null,
      "grid_template_areas": null,
      "grid_template_columns": null,
      "grid_template_rows": null,
      "height": null,
      "justify_content": null,
      "justify_items": null,
      "left": null,
      "margin": null,
      "max_height": null,
      "max_width": null,
      "min_height": null,
      "min_width": null,
      "object_fit": null,
      "object_position": null,
      "order": null,
      "overflow": null,
      "overflow_x": null,
      "overflow_y": null,
      "padding": null,
      "right": null,
      "top": null,
      "visibility": null,
      "width": null
     }
    },
    "5722effb7fa8485aa87e5dc2b588ebd5": {
     "model_module": "@jupyter-widgets/controls",
     "model_module_version": "1.5.0",
     "model_name": "DescriptionStyleModel",
     "state": {
      "_model_module": "@jupyter-widgets/controls",
      "_model_module_version": "1.5.0",
      "_model_name": "DescriptionStyleModel",
      "_view_count": null,
      "_view_module": "@jupyter-widgets/base",
      "_view_module_version": "1.2.0",
      "_view_name": "StyleView",
      "description_width": ""
     }
    },
    "60a88eca8471409c99df33f85d3dc216": {
     "model_module": "@jupyter-widgets/controls",
     "model_module_version": "1.5.0",
     "model_name": "ProgressStyleModel",
     "state": {
      "_model_module": "@jupyter-widgets/controls",
      "_model_module_version": "1.5.0",
      "_model_name": "ProgressStyleModel",
      "_view_count": null,
      "_view_module": "@jupyter-widgets/base",
      "_view_module_version": "1.2.0",
      "_view_name": "StyleView",
      "bar_color": null,
      "description_width": ""
     }
    },
    "61697ef134c54631b624f6e73cdd1178": {
     "model_module": "@jupyter-widgets/controls",
     "model_module_version": "1.5.0",
     "model_name": "HTMLModel",
     "state": {
      "_dom_classes": [],
      "_model_module": "@jupyter-widgets/controls",
      "_model_module_version": "1.5.0",
      "_model_name": "HTMLModel",
      "_view_count": null,
      "_view_module": "@jupyter-widgets/controls",
      "_view_module_version": "1.5.0",
      "_view_name": "HTMLView",
      "description": "",
      "description_tooltip": null,
      "layout": "IPY_MODEL_7276b732bd9b49dd8acc790221f83ea0",
      "placeholder": "​",
      "style": "IPY_MODEL_5722effb7fa8485aa87e5dc2b588ebd5",
      "value": "vocab.txt: 100%"
     }
    },
    "625c5c32c46f4fcb8078379252018863": {
     "model_module": "@jupyter-widgets/controls",
     "model_module_version": "1.5.0",
     "model_name": "HTMLModel",
     "state": {
      "_dom_classes": [],
      "_model_module": "@jupyter-widgets/controls",
      "_model_module_version": "1.5.0",
      "_model_name": "HTMLModel",
      "_view_count": null,
      "_view_module": "@jupyter-widgets/controls",
      "_view_module_version": "1.5.0",
      "_view_name": "HTMLView",
      "description": "",
      "description_tooltip": null,
      "layout": "IPY_MODEL_fa4685f6b13e4b8f92bec391cfda4258",
      "placeholder": "​",
      "style": "IPY_MODEL_cd60c1fe220e4c99bb08330d5c23ac49",
      "value": " 440M/440M [00:03&lt;00:00, 101MB/s]"
     }
    },
    "65dba7559cd64441afb9839e15121fd3": {
     "model_module": "@jupyter-widgets/controls",
     "model_module_version": "1.5.0",
     "model_name": "ProgressStyleModel",
     "state": {
      "_model_module": "@jupyter-widgets/controls",
      "_model_module_version": "1.5.0",
      "_model_name": "ProgressStyleModel",
      "_view_count": null,
      "_view_module": "@jupyter-widgets/base",
      "_view_module_version": "1.2.0",
      "_view_name": "StyleView",
      "bar_color": null,
      "description_width": ""
     }
    },
    "6c3619a44ca849c5abba3742ab743491": {
     "model_module": "@jupyter-widgets/controls",
     "model_module_version": "1.5.0",
     "model_name": "DescriptionStyleModel",
     "state": {
      "_model_module": "@jupyter-widgets/controls",
      "_model_module_version": "1.5.0",
      "_model_name": "DescriptionStyleModel",
      "_view_count": null,
      "_view_module": "@jupyter-widgets/base",
      "_view_module_version": "1.2.0",
      "_view_name": "StyleView",
      "description_width": ""
     }
    },
    "7276b732bd9b49dd8acc790221f83ea0": {
     "model_module": "@jupyter-widgets/base",
     "model_module_version": "1.2.0",
     "model_name": "LayoutModel",
     "state": {
      "_model_module": "@jupyter-widgets/base",
      "_model_module_version": "1.2.0",
      "_model_name": "LayoutModel",
      "_view_count": null,
      "_view_module": "@jupyter-widgets/base",
      "_view_module_version": "1.2.0",
      "_view_name": "LayoutView",
      "align_content": null,
      "align_items": null,
      "align_self": null,
      "border": null,
      "bottom": null,
      "display": null,
      "flex": null,
      "flex_flow": null,
      "grid_area": null,
      "grid_auto_columns": null,
      "grid_auto_flow": null,
      "grid_auto_rows": null,
      "grid_column": null,
      "grid_gap": null,
      "grid_row": null,
      "grid_template_areas": null,
      "grid_template_columns": null,
      "grid_template_rows": null,
      "height": null,
      "justify_content": null,
      "justify_items": null,
      "left": null,
      "margin": null,
      "max_height": null,
      "max_width": null,
      "min_height": null,
      "min_width": null,
      "object_fit": null,
      "object_position": null,
      "order": null,
      "overflow": null,
      "overflow_x": null,
      "overflow_y": null,
      "padding": null,
      "right": null,
      "top": null,
      "visibility": null,
      "width": null
     }
    },
    "7647fef823fc41768f1c7d8989e5e099": {
     "model_module": "@jupyter-widgets/controls",
     "model_module_version": "1.5.0",
     "model_name": "ProgressStyleModel",
     "state": {
      "_model_module": "@jupyter-widgets/controls",
      "_model_module_version": "1.5.0",
      "_model_name": "ProgressStyleModel",
      "_view_count": null,
      "_view_module": "@jupyter-widgets/base",
      "_view_module_version": "1.2.0",
      "_view_name": "StyleView",
      "bar_color": null,
      "description_width": ""
     }
    },
    "77321766b70a49cba9353eb40cee68e0": {
     "model_module": "@jupyter-widgets/controls",
     "model_module_version": "1.5.0",
     "model_name": "HBoxModel",
     "state": {
      "_dom_classes": [],
      "_model_module": "@jupyter-widgets/controls",
      "_model_module_version": "1.5.0",
      "_model_name": "HBoxModel",
      "_view_count": null,
      "_view_module": "@jupyter-widgets/controls",
      "_view_module_version": "1.5.0",
      "_view_name": "HBoxView",
      "box_style": "",
      "children": [
       "IPY_MODEL_4dba993d54174622876ed5188ed1609d",
       "IPY_MODEL_780f2f25da5542ac85ac33d630d30221",
       "IPY_MODEL_625c5c32c46f4fcb8078379252018863"
      ],
      "layout": "IPY_MODEL_1fcf9067bba04700847e53dd575d7d1c"
     }
    },
    "780f2f25da5542ac85ac33d630d30221": {
     "model_module": "@jupyter-widgets/controls",
     "model_module_version": "1.5.0",
     "model_name": "FloatProgressModel",
     "state": {
      "_dom_classes": [],
      "_model_module": "@jupyter-widgets/controls",
      "_model_module_version": "1.5.0",
      "_model_name": "FloatProgressModel",
      "_view_count": null,
      "_view_module": "@jupyter-widgets/controls",
      "_view_module_version": "1.5.0",
      "_view_name": "ProgressView",
      "bar_style": "success",
      "description": "",
      "description_tooltip": null,
      "layout": "IPY_MODEL_dbc251eaad384c74a6773795118a521c",
      "max": 439621341,
      "min": 0,
      "orientation": "horizontal",
      "style": "IPY_MODEL_7647fef823fc41768f1c7d8989e5e099",
      "value": 439621341
     }
    },
    "7927b6ce477c4e25852f2d2043979384": {
     "model_module": "@jupyter-widgets/controls",
     "model_module_version": "1.5.0",
     "model_name": "ProgressStyleModel",
     "state": {
      "_model_module": "@jupyter-widgets/controls",
      "_model_module_version": "1.5.0",
      "_model_name": "ProgressStyleModel",
      "_view_count": null,
      "_view_module": "@jupyter-widgets/base",
      "_view_module_version": "1.2.0",
      "_view_name": "StyleView",
      "bar_color": null,
      "description_width": ""
     }
    },
    "8895b67c0e8b441aaefe919124e81dc7": {
     "model_module": "@jupyter-widgets/base",
     "model_module_version": "1.2.0",
     "model_name": "LayoutModel",
     "state": {
      "_model_module": "@jupyter-widgets/base",
      "_model_module_version": "1.2.0",
      "_model_name": "LayoutModel",
      "_view_count": null,
      "_view_module": "@jupyter-widgets/base",
      "_view_module_version": "1.2.0",
      "_view_name": "LayoutView",
      "align_content": null,
      "align_items": null,
      "align_self": null,
      "border": null,
      "bottom": null,
      "display": null,
      "flex": null,
      "flex_flow": null,
      "grid_area": null,
      "grid_auto_columns": null,
      "grid_auto_flow": null,
      "grid_auto_rows": null,
      "grid_column": null,
      "grid_gap": null,
      "grid_row": null,
      "grid_template_areas": null,
      "grid_template_columns": null,
      "grid_template_rows": null,
      "height": null,
      "justify_content": null,
      "justify_items": null,
      "left": null,
      "margin": null,
      "max_height": null,
      "max_width": null,
      "min_height": null,
      "min_width": null,
      "object_fit": null,
      "object_position": null,
      "order": null,
      "overflow": null,
      "overflow_x": null,
      "overflow_y": null,
      "padding": null,
      "right": null,
      "top": null,
      "visibility": null,
      "width": null
     }
    },
    "90a21f12c2e146ae9dfc48d3f5f187c7": {
     "model_module": "@jupyter-widgets/base",
     "model_module_version": "1.2.0",
     "model_name": "LayoutModel",
     "state": {
      "_model_module": "@jupyter-widgets/base",
      "_model_module_version": "1.2.0",
      "_model_name": "LayoutModel",
      "_view_count": null,
      "_view_module": "@jupyter-widgets/base",
      "_view_module_version": "1.2.0",
      "_view_name": "LayoutView",
      "align_content": null,
      "align_items": null,
      "align_self": null,
      "border": null,
      "bottom": null,
      "display": null,
      "flex": null,
      "flex_flow": null,
      "grid_area": null,
      "grid_auto_columns": null,
      "grid_auto_flow": null,
      "grid_auto_rows": null,
      "grid_column": null,
      "grid_gap": null,
      "grid_row": null,
      "grid_template_areas": null,
      "grid_template_columns": null,
      "grid_template_rows": null,
      "height": null,
      "justify_content": null,
      "justify_items": null,
      "left": null,
      "margin": null,
      "max_height": null,
      "max_width": null,
      "min_height": null,
      "min_width": null,
      "object_fit": null,
      "object_position": null,
      "order": null,
      "overflow": null,
      "overflow_x": null,
      "overflow_y": null,
      "padding": null,
      "right": null,
      "top": null,
      "visibility": null,
      "width": null
     }
    },
    "90bf03416fa44b34beb82ac8bd665e48": {
     "model_module": "@jupyter-widgets/controls",
     "model_module_version": "1.5.0",
     "model_name": "HTMLModel",
     "state": {
      "_dom_classes": [],
      "_model_module": "@jupyter-widgets/controls",
      "_model_module_version": "1.5.0",
      "_model_name": "HTMLModel",
      "_view_count": null,
      "_view_module": "@jupyter-widgets/controls",
      "_view_module_version": "1.5.0",
      "_view_name": "HTMLView",
      "description": "",
      "description_tooltip": null,
      "layout": "IPY_MODEL_506eaa96477941ea8afab3233b5d6b43",
      "placeholder": "​",
      "style": "IPY_MODEL_4d7ff51880934eacb5fcba6012ad2d24",
      "value": " 650/650 [00:00&lt;00:00, 38.7kB/s]"
     }
    },
    "9d30023a4ec6432abd550ed26333b24d": {
     "model_module": "@jupyter-widgets/base",
     "model_module_version": "1.2.0",
     "model_name": "LayoutModel",
     "state": {
      "_model_module": "@jupyter-widgets/base",
      "_model_module_version": "1.2.0",
      "_model_name": "LayoutModel",
      "_view_count": null,
      "_view_module": "@jupyter-widgets/base",
      "_view_module_version": "1.2.0",
      "_view_name": "LayoutView",
      "align_content": null,
      "align_items": null,
      "align_self": null,
      "border": null,
      "bottom": null,
      "display": null,
      "flex": null,
      "flex_flow": null,
      "grid_area": null,
      "grid_auto_columns": null,
      "grid_auto_flow": null,
      "grid_auto_rows": null,
      "grid_column": null,
      "grid_gap": null,
      "grid_row": null,
      "grid_template_areas": null,
      "grid_template_columns": null,
      "grid_template_rows": null,
      "height": null,
      "justify_content": null,
      "justify_items": null,
      "left": null,
      "margin": null,
      "max_height": null,
      "max_width": null,
      "min_height": null,
      "min_width": null,
      "object_fit": null,
      "object_position": null,
      "order": null,
      "overflow": null,
      "overflow_x": null,
      "overflow_y": null,
      "padding": null,
      "right": null,
      "top": null,
      "visibility": null,
      "width": null
     }
    },
    "9e39b1e51c944d72ba996891058c5027": {
     "model_module": "@jupyter-widgets/base",
     "model_module_version": "1.2.0",
     "model_name": "LayoutModel",
     "state": {
      "_model_module": "@jupyter-widgets/base",
      "_model_module_version": "1.2.0",
      "_model_name": "LayoutModel",
      "_view_count": null,
      "_view_module": "@jupyter-widgets/base",
      "_view_module_version": "1.2.0",
      "_view_name": "LayoutView",
      "align_content": null,
      "align_items": null,
      "align_self": null,
      "border": null,
      "bottom": null,
      "display": null,
      "flex": null,
      "flex_flow": null,
      "grid_area": null,
      "grid_auto_columns": null,
      "grid_auto_flow": null,
      "grid_auto_rows": null,
      "grid_column": null,
      "grid_gap": null,
      "grid_row": null,
      "grid_template_areas": null,
      "grid_template_columns": null,
      "grid_template_rows": null,
      "height": null,
      "justify_content": null,
      "justify_items": null,
      "left": null,
      "margin": null,
      "max_height": null,
      "max_width": null,
      "min_height": null,
      "min_width": null,
      "object_fit": null,
      "object_position": null,
      "order": null,
      "overflow": null,
      "overflow_x": null,
      "overflow_y": null,
      "padding": null,
      "right": null,
      "top": null,
      "visibility": null,
      "width": null
     }
    },
    "a685b1f98b524ee59b5a4bf1ef455125": {
     "model_module": "@jupyter-widgets/controls",
     "model_module_version": "1.5.0",
     "model_name": "HTMLModel",
     "state": {
      "_dom_classes": [],
      "_model_module": "@jupyter-widgets/controls",
      "_model_module_version": "1.5.0",
      "_model_name": "HTMLModel",
      "_view_count": null,
      "_view_module": "@jupyter-widgets/controls",
      "_view_module_version": "1.5.0",
      "_view_name": "HTMLView",
      "description": "",
      "description_tooltip": null,
      "layout": "IPY_MODEL_31844ce96f114266a14fdd7bd8687d01",
      "placeholder": "​",
      "style": "IPY_MODEL_4783f70f23a44c1a900272fd16a826cc",
      "value": "tokenizer.json: 100%"
     }
    },
    "a78ecbbbb1f64237b34c0c71b900921e": {
     "model_module": "@jupyter-widgets/controls",
     "model_module_version": "1.5.0",
     "model_name": "HBoxModel",
     "state": {
      "_dom_classes": [],
      "_model_module": "@jupyter-widgets/controls",
      "_model_module_version": "1.5.0",
      "_model_name": "HBoxModel",
      "_view_count": null,
      "_view_module": "@jupyter-widgets/controls",
      "_view_module_version": "1.5.0",
      "_view_name": "HBoxView",
      "box_style": "",
      "children": [
       "IPY_MODEL_139324862b2d425bb58ed3cb445e8bcc",
       "IPY_MODEL_f9b35b83939a49e1a931c8b627d6a3cc",
       "IPY_MODEL_90bf03416fa44b34beb82ac8bd665e48"
      ],
      "layout": "IPY_MODEL_e17ed2ad6fac414794ccc96e5c68ef37"
     }
    },
    "ac80cf83b5174d809a434190c88bb882": {
     "model_module": "@jupyter-widgets/base",
     "model_module_version": "1.2.0",
     "model_name": "LayoutModel",
     "state": {
      "_model_module": "@jupyter-widgets/base",
      "_model_module_version": "1.2.0",
      "_model_name": "LayoutModel",
      "_view_count": null,
      "_view_module": "@jupyter-widgets/base",
      "_view_module_version": "1.2.0",
      "_view_name": "LayoutView",
      "align_content": null,
      "align_items": null,
      "align_self": null,
      "border": null,
      "bottom": null,
      "display": null,
      "flex": null,
      "flex_flow": null,
      "grid_area": null,
      "grid_auto_columns": null,
      "grid_auto_flow": null,
      "grid_auto_rows": null,
      "grid_column": null,
      "grid_gap": null,
      "grid_row": null,
      "grid_template_areas": null,
      "grid_template_columns": null,
      "grid_template_rows": null,
      "height": null,
      "justify_content": null,
      "justify_items": null,
      "left": null,
      "margin": null,
      "max_height": null,
      "max_width": null,
      "min_height": null,
      "min_width": null,
      "object_fit": null,
      "object_position": null,
      "order": null,
      "overflow": null,
      "overflow_x": null,
      "overflow_y": null,
      "padding": null,
      "right": null,
      "top": null,
      "visibility": null,
      "width": null
     }
    },
    "b56726e8227449508fd32ae65bc86f83": {
     "model_module": "@jupyter-widgets/controls",
     "model_module_version": "1.5.0",
     "model_name": "HBoxModel",
     "state": {
      "_dom_classes": [],
      "_model_module": "@jupyter-widgets/controls",
      "_model_module_version": "1.5.0",
      "_model_name": "HBoxModel",
      "_view_count": null,
      "_view_module": "@jupyter-widgets/controls",
      "_view_module_version": "1.5.0",
      "_view_name": "HBoxView",
      "box_style": "",
      "children": [
       "IPY_MODEL_0ef8f092bbcf405a94621e9ea8ef288a",
       "IPY_MODEL_1a848f5b8df44a33b2991c64ae42234a",
       "IPY_MODEL_d8b3b0a2c4aa4312a79aa50f9f8ca4fb"
      ],
      "layout": "IPY_MODEL_e46d6f85e4b5426494efaf832d3937e5"
     }
    },
    "b76c17b1308246e788d6eabdb47b794f": {
     "model_module": "@jupyter-widgets/controls",
     "model_module_version": "1.5.0",
     "model_name": "ProgressStyleModel",
     "state": {
      "_model_module": "@jupyter-widgets/controls",
      "_model_module_version": "1.5.0",
      "_model_name": "ProgressStyleModel",
      "_view_count": null,
      "_view_module": "@jupyter-widgets/base",
      "_view_module_version": "1.2.0",
      "_view_name": "StyleView",
      "bar_color": null,
      "description_width": ""
     }
    },
    "bec32f2bc17c431d80fd5da608f5e063": {
     "model_module": "@jupyter-widgets/controls",
     "model_module_version": "1.5.0",
     "model_name": "ProgressStyleModel",
     "state": {
      "_model_module": "@jupyter-widgets/controls",
      "_model_module_version": "1.5.0",
      "_model_name": "ProgressStyleModel",
      "_view_count": null,
      "_view_module": "@jupyter-widgets/base",
      "_view_module_version": "1.2.0",
      "_view_name": "StyleView",
      "bar_color": null,
      "description_width": ""
     }
    },
    "c67386b2f0ae400c80b1a4ebda45ef76": {
     "model_module": "@jupyter-widgets/controls",
     "model_module_version": "1.5.0",
     "model_name": "FloatProgressModel",
     "state": {
      "_dom_classes": [],
      "_model_module": "@jupyter-widgets/controls",
      "_model_module_version": "1.5.0",
      "_model_name": "FloatProgressModel",
      "_view_count": null,
      "_view_module": "@jupyter-widgets/controls",
      "_view_module_version": "1.5.0",
      "_view_name": "ProgressView",
      "bar_style": "success",
      "description": "",
      "description_tooltip": null,
      "layout": "IPY_MODEL_549b1e7256ad4aabb7246c4bfb4c9698",
      "max": 247723,
      "min": 0,
      "orientation": "horizontal",
      "style": "IPY_MODEL_b76c17b1308246e788d6eabdb47b794f",
      "value": 247723
     }
    },
    "c91c394ee8a84952ac212962ee39d5ec": {
     "model_module": "@jupyter-widgets/base",
     "model_module_version": "1.2.0",
     "model_name": "LayoutModel",
     "state": {
      "_model_module": "@jupyter-widgets/base",
      "_model_module_version": "1.2.0",
      "_model_name": "LayoutModel",
      "_view_count": null,
      "_view_module": "@jupyter-widgets/base",
      "_view_module_version": "1.2.0",
      "_view_name": "LayoutView",
      "align_content": null,
      "align_items": null,
      "align_self": null,
      "border": null,
      "bottom": null,
      "display": null,
      "flex": null,
      "flex_flow": null,
      "grid_area": null,
      "grid_auto_columns": null,
      "grid_auto_flow": null,
      "grid_auto_rows": null,
      "grid_column": null,
      "grid_gap": null,
      "grid_row": null,
      "grid_template_areas": null,
      "grid_template_columns": null,
      "grid_template_rows": null,
      "height": null,
      "justify_content": null,
      "justify_items": null,
      "left": null,
      "margin": null,
      "max_height": null,
      "max_width": null,
      "min_height": null,
      "min_width": null,
      "object_fit": null,
      "object_position": null,
      "order": null,
      "overflow": null,
      "overflow_x": null,
      "overflow_y": null,
      "padding": null,
      "right": null,
      "top": null,
      "visibility": null,
      "width": null
     }
    },
    "cc6f75730632457f86bd74a7da6bb2f9": {
     "model_module": "@jupyter-widgets/controls",
     "model_module_version": "1.5.0",
     "model_name": "FloatProgressModel",
     "state": {
      "_dom_classes": [],
      "_model_module": "@jupyter-widgets/controls",
      "_model_module_version": "1.5.0",
      "_model_name": "FloatProgressModel",
      "_view_count": null,
      "_view_module": "@jupyter-widgets/controls",
      "_view_module_version": "1.5.0",
      "_view_name": "ProgressView",
      "bar_style": "success",
      "description": "",
      "description_tooltip": null,
      "layout": "IPY_MODEL_3896bff6071f481085f6b1859a2b30ae",
      "max": 486125,
      "min": 0,
      "orientation": "horizontal",
      "style": "IPY_MODEL_7927b6ce477c4e25852f2d2043979384",
      "value": 486125
     }
    },
    "cd60c1fe220e4c99bb08330d5c23ac49": {
     "model_module": "@jupyter-widgets/controls",
     "model_module_version": "1.5.0",
     "model_name": "DescriptionStyleModel",
     "state": {
      "_model_module": "@jupyter-widgets/controls",
      "_model_module_version": "1.5.0",
      "_model_name": "DescriptionStyleModel",
      "_view_count": null,
      "_view_module": "@jupyter-widgets/base",
      "_view_module_version": "1.2.0",
      "_view_name": "StyleView",
      "description_width": ""
     }
    },
    "cdb1bfc1d83e4a8ca10d75e25812a5af": {
     "model_module": "@jupyter-widgets/controls",
     "model_module_version": "1.5.0",
     "model_name": "DescriptionStyleModel",
     "state": {
      "_model_module": "@jupyter-widgets/controls",
      "_model_module_version": "1.5.0",
      "_model_name": "DescriptionStyleModel",
      "_view_count": null,
      "_view_module": "@jupyter-widgets/base",
      "_view_module_version": "1.2.0",
      "_view_name": "StyleView",
      "description_width": ""
     }
    },
    "d104cb2449d74c29a0fcc01ea55580e0": {
     "model_module": "@jupyter-widgets/controls",
     "model_module_version": "1.5.0",
     "model_name": "HTMLModel",
     "state": {
      "_dom_classes": [],
      "_model_module": "@jupyter-widgets/controls",
      "_model_module_version": "1.5.0",
      "_model_name": "HTMLModel",
      "_view_count": null,
      "_view_module": "@jupyter-widgets/controls",
      "_view_module_version": "1.5.0",
      "_view_name": "HTMLView",
      "description": "",
      "description_tooltip": null,
      "layout": "IPY_MODEL_47d319af939840759c03327a6bb5adf1",
      "placeholder": "​",
      "style": "IPY_MODEL_e0b0dbede4b14507b9ffadd1d55936f3",
      "value": " 486k/486k [00:00&lt;00:00, 6.95MB/s]"
     }
    },
    "d376263a11634b71a35dfbe7e7cf3c28": {
     "model_module": "@jupyter-widgets/base",
     "model_module_version": "1.2.0",
     "model_name": "LayoutModel",
     "state": {
      "_model_module": "@jupyter-widgets/base",
      "_model_module_version": "1.2.0",
      "_model_name": "LayoutModel",
      "_view_count": null,
      "_view_module": "@jupyter-widgets/base",
      "_view_module_version": "1.2.0",
      "_view_name": "LayoutView",
      "align_content": null,
      "align_items": null,
      "align_self": null,
      "border": null,
      "bottom": null,
      "display": null,
      "flex": null,
      "flex_flow": null,
      "grid_area": null,
      "grid_auto_columns": null,
      "grid_auto_flow": null,
      "grid_auto_rows": null,
      "grid_column": null,
      "grid_gap": null,
      "grid_row": null,
      "grid_template_areas": null,
      "grid_template_columns": null,
      "grid_template_rows": null,
      "height": null,
      "justify_content": null,
      "justify_items": null,
      "left": null,
      "margin": null,
      "max_height": null,
      "max_width": null,
      "min_height": null,
      "min_width": null,
      "object_fit": null,
      "object_position": null,
      "order": null,
      "overflow": null,
      "overflow_x": null,
      "overflow_y": null,
      "padding": null,
      "right": null,
      "top": null,
      "visibility": null,
      "width": null
     }
    },
    "d8b3b0a2c4aa4312a79aa50f9f8ca4fb": {
     "model_module": "@jupyter-widgets/controls",
     "model_module_version": "1.5.0",
     "model_name": "HTMLModel",
     "state": {
      "_dom_classes": [],
      "_model_module": "@jupyter-widgets/controls",
      "_model_module_version": "1.5.0",
      "_model_name": "HTMLModel",
      "_view_count": null,
      "_view_module": "@jupyter-widgets/controls",
      "_view_module_version": "1.5.0",
      "_view_name": "HTMLView",
      "description": "",
      "description_tooltip": null,
      "layout": "IPY_MODEL_ec83a8b0658848e7bcf4cde7d269315e",
      "placeholder": "​",
      "style": "IPY_MODEL_f66debe769c3439bb58df7e54edaaf17",
      "value": " 310/310 [00:00&lt;00:00, 11.3kB/s]"
     }
    },
    "dbc251eaad384c74a6773795118a521c": {
     "model_module": "@jupyter-widgets/base",
     "model_module_version": "1.2.0",
     "model_name": "LayoutModel",
     "state": {
      "_model_module": "@jupyter-widgets/base",
      "_model_module_version": "1.2.0",
      "_model_name": "LayoutModel",
      "_view_count": null,
      "_view_module": "@jupyter-widgets/base",
      "_view_module_version": "1.2.0",
      "_view_name": "LayoutView",
      "align_content": null,
      "align_items": null,
      "align_self": null,
      "border": null,
      "bottom": null,
      "display": null,
      "flex": null,
      "flex_flow": null,
      "grid_area": null,
      "grid_auto_columns": null,
      "grid_auto_flow": null,
      "grid_auto_rows": null,
      "grid_column": null,
      "grid_gap": null,
      "grid_row": null,
      "grid_template_areas": null,
      "grid_template_columns": null,
      "grid_template_rows": null,
      "height": null,
      "justify_content": null,
      "justify_items": null,
      "left": null,
      "margin": null,
      "max_height": null,
      "max_width": null,
      "min_height": null,
      "min_width": null,
      "object_fit": null,
      "object_position": null,
      "order": null,
      "overflow": null,
      "overflow_x": null,
      "overflow_y": null,
      "padding": null,
      "right": null,
      "top": null,
      "visibility": null,
      "width": null
     }
    },
    "dcb4284d71f84e959df202ba94f95a63": {
     "model_module": "@jupyter-widgets/controls",
     "model_module_version": "1.5.0",
     "model_name": "HTMLModel",
     "state": {
      "_dom_classes": [],
      "_model_module": "@jupyter-widgets/controls",
      "_model_module_version": "1.5.0",
      "_model_name": "HTMLModel",
      "_view_count": null,
      "_view_module": "@jupyter-widgets/controls",
      "_view_module_version": "1.5.0",
      "_view_name": "HTMLView",
      "description": "",
      "description_tooltip": null,
      "layout": "IPY_MODEL_04a089dcd4fb4e7391229807d9ce1611",
      "placeholder": "​",
      "style": "IPY_MODEL_6c3619a44ca849c5abba3742ab743491",
      "value": "special_tokens_map.json: 100%"
     }
    },
    "e0b0dbede4b14507b9ffadd1d55936f3": {
     "model_module": "@jupyter-widgets/controls",
     "model_module_version": "1.5.0",
     "model_name": "DescriptionStyleModel",
     "state": {
      "_model_module": "@jupyter-widgets/controls",
      "_model_module_version": "1.5.0",
      "_model_name": "DescriptionStyleModel",
      "_view_count": null,
      "_view_module": "@jupyter-widgets/base",
      "_view_module_version": "1.2.0",
      "_view_name": "StyleView",
      "description_width": ""
     }
    },
    "e17ed2ad6fac414794ccc96e5c68ef37": {
     "model_module": "@jupyter-widgets/base",
     "model_module_version": "1.2.0",
     "model_name": "LayoutModel",
     "state": {
      "_model_module": "@jupyter-widgets/base",
      "_model_module_version": "1.2.0",
      "_model_name": "LayoutModel",
      "_view_count": null,
      "_view_module": "@jupyter-widgets/base",
      "_view_module_version": "1.2.0",
      "_view_name": "LayoutView",
      "align_content": null,
      "align_items": null,
      "align_self": null,
      "border": null,
      "bottom": null,
      "display": null,
      "flex": null,
      "flex_flow": null,
      "grid_area": null,
      "grid_auto_columns": null,
      "grid_auto_flow": null,
      "grid_auto_rows": null,
      "grid_column": null,
      "grid_gap": null,
      "grid_row": null,
      "grid_template_areas": null,
      "grid_template_columns": null,
      "grid_template_rows": null,
      "height": null,
      "justify_content": null,
      "justify_items": null,
      "left": null,
      "margin": null,
      "max_height": null,
      "max_width": null,
      "min_height": null,
      "min_width": null,
      "object_fit": null,
      "object_position": null,
      "order": null,
      "overflow": null,
      "overflow_x": null,
      "overflow_y": null,
      "padding": null,
      "right": null,
      "top": null,
      "visibility": null,
      "width": null
     }
    },
    "e4521c4e0b274a9b9f6f8b41155ed612": {
     "model_module": "@jupyter-widgets/controls",
     "model_module_version": "1.5.0",
     "model_name": "HTMLModel",
     "state": {
      "_dom_classes": [],
      "_model_module": "@jupyter-widgets/controls",
      "_model_module_version": "1.5.0",
      "_model_name": "HTMLModel",
      "_view_count": null,
      "_view_module": "@jupyter-widgets/controls",
      "_view_module_version": "1.5.0",
      "_view_name": "HTMLView",
      "description": "",
      "description_tooltip": null,
      "layout": "IPY_MODEL_d376263a11634b71a35dfbe7e7cf3c28",
      "placeholder": "​",
      "style": "IPY_MODEL_3ba79e358d6642d5a0b93a19103971d2",
      "value": " 134/134 [00:00&lt;00:00, 6.32kB/s]"
     }
    },
    "e46d6f85e4b5426494efaf832d3937e5": {
     "model_module": "@jupyter-widgets/base",
     "model_module_version": "1.2.0",
     "model_name": "LayoutModel",
     "state": {
      "_model_module": "@jupyter-widgets/base",
      "_model_module_version": "1.2.0",
      "_model_name": "LayoutModel",
      "_view_count": null,
      "_view_module": "@jupyter-widgets/base",
      "_view_module_version": "1.2.0",
      "_view_name": "LayoutView",
      "align_content": null,
      "align_items": null,
      "align_self": null,
      "border": null,
      "bottom": null,
      "display": null,
      "flex": null,
      "flex_flow": null,
      "grid_area": null,
      "grid_auto_columns": null,
      "grid_auto_flow": null,
      "grid_auto_rows": null,
      "grid_column": null,
      "grid_gap": null,
      "grid_row": null,
      "grid_template_areas": null,
      "grid_template_columns": null,
      "grid_template_rows": null,
      "height": null,
      "justify_content": null,
      "justify_items": null,
      "left": null,
      "margin": null,
      "max_height": null,
      "max_width": null,
      "min_height": null,
      "min_width": null,
      "object_fit": null,
      "object_position": null,
      "order": null,
      "overflow": null,
      "overflow_x": null,
      "overflow_y": null,
      "padding": null,
      "right": null,
      "top": null,
      "visibility": null,
      "width": null
     }
    },
    "e5b5842133d64984b66703992ed61c56": {
     "model_module": "@jupyter-widgets/controls",
     "model_module_version": "1.5.0",
     "model_name": "HTMLModel",
     "state": {
      "_dom_classes": [],
      "_model_module": "@jupyter-widgets/controls",
      "_model_module_version": "1.5.0",
      "_model_name": "HTMLModel",
      "_view_count": null,
      "_view_module": "@jupyter-widgets/controls",
      "_view_module_version": "1.5.0",
      "_view_name": "HTMLView",
      "description": "",
      "description_tooltip": null,
      "layout": "IPY_MODEL_f781408eb0744e82a7817d6251809c2b",
      "placeholder": "​",
      "style": "IPY_MODEL_50cb7a570ccd4a85bc49ec9574752782",
      "value": " 248k/248k [00:00&lt;00:00, 1.27MB/s]"
     }
    },
    "ea1da833020c400f9901cda3d5cc7182": {
     "model_module": "@jupyter-widgets/base",
     "model_module_version": "1.2.0",
     "model_name": "LayoutModel",
     "state": {
      "_model_module": "@jupyter-widgets/base",
      "_model_module_version": "1.2.0",
      "_model_name": "LayoutModel",
      "_view_count": null,
      "_view_module": "@jupyter-widgets/base",
      "_view_module_version": "1.2.0",
      "_view_name": "LayoutView",
      "align_content": null,
      "align_items": null,
      "align_self": null,
      "border": null,
      "bottom": null,
      "display": null,
      "flex": null,
      "flex_flow": null,
      "grid_area": null,
      "grid_auto_columns": null,
      "grid_auto_flow": null,
      "grid_auto_rows": null,
      "grid_column": null,
      "grid_gap": null,
      "grid_row": null,
      "grid_template_areas": null,
      "grid_template_columns": null,
      "grid_template_rows": null,
      "height": null,
      "justify_content": null,
      "justify_items": null,
      "left": null,
      "margin": null,
      "max_height": null,
      "max_width": null,
      "min_height": null,
      "min_width": null,
      "object_fit": null,
      "object_position": null,
      "order": null,
      "overflow": null,
      "overflow_x": null,
      "overflow_y": null,
      "padding": null,
      "right": null,
      "top": null,
      "visibility": null,
      "width": null
     }
    },
    "ec83a8b0658848e7bcf4cde7d269315e": {
     "model_module": "@jupyter-widgets/base",
     "model_module_version": "1.2.0",
     "model_name": "LayoutModel",
     "state": {
      "_model_module": "@jupyter-widgets/base",
      "_model_module_version": "1.2.0",
      "_model_name": "LayoutModel",
      "_view_count": null,
      "_view_module": "@jupyter-widgets/base",
      "_view_module_version": "1.2.0",
      "_view_name": "LayoutView",
      "align_content": null,
      "align_items": null,
      "align_self": null,
      "border": null,
      "bottom": null,
      "display": null,
      "flex": null,
      "flex_flow": null,
      "grid_area": null,
      "grid_auto_columns": null,
      "grid_auto_flow": null,
      "grid_auto_rows": null,
      "grid_column": null,
      "grid_gap": null,
      "grid_row": null,
      "grid_template_areas": null,
      "grid_template_columns": null,
      "grid_template_rows": null,
      "height": null,
      "justify_content": null,
      "justify_items": null,
      "left": null,
      "margin": null,
      "max_height": null,
      "max_width": null,
      "min_height": null,
      "min_width": null,
      "object_fit": null,
      "object_position": null,
      "order": null,
      "overflow": null,
      "overflow_x": null,
      "overflow_y": null,
      "padding": null,
      "right": null,
      "top": null,
      "visibility": null,
      "width": null
     }
    },
    "f66debe769c3439bb58df7e54edaaf17": {
     "model_module": "@jupyter-widgets/controls",
     "model_module_version": "1.5.0",
     "model_name": "DescriptionStyleModel",
     "state": {
      "_model_module": "@jupyter-widgets/controls",
      "_model_module_version": "1.5.0",
      "_model_name": "DescriptionStyleModel",
      "_view_count": null,
      "_view_module": "@jupyter-widgets/base",
      "_view_module_version": "1.2.0",
      "_view_name": "StyleView",
      "description_width": ""
     }
    },
    "f781408eb0744e82a7817d6251809c2b": {
     "model_module": "@jupyter-widgets/base",
     "model_module_version": "1.2.0",
     "model_name": "LayoutModel",
     "state": {
      "_model_module": "@jupyter-widgets/base",
      "_model_module_version": "1.2.0",
      "_model_name": "LayoutModel",
      "_view_count": null,
      "_view_module": "@jupyter-widgets/base",
      "_view_module_version": "1.2.0",
      "_view_name": "LayoutView",
      "align_content": null,
      "align_items": null,
      "align_self": null,
      "border": null,
      "bottom": null,
      "display": null,
      "flex": null,
      "flex_flow": null,
      "grid_area": null,
      "grid_auto_columns": null,
      "grid_auto_flow": null,
      "grid_auto_rows": null,
      "grid_column": null,
      "grid_gap": null,
      "grid_row": null,
      "grid_template_areas": null,
      "grid_template_columns": null,
      "grid_template_rows": null,
      "height": null,
      "justify_content": null,
      "justify_items": null,
      "left": null,
      "margin": null,
      "max_height": null,
      "max_width": null,
      "min_height": null,
      "min_width": null,
      "object_fit": null,
      "object_position": null,
      "order": null,
      "overflow": null,
      "overflow_x": null,
      "overflow_y": null,
      "padding": null,
      "right": null,
      "top": null,
      "visibility": null,
      "width": null
     }
    },
    "f9b35b83939a49e1a931c8b627d6a3cc": {
     "model_module": "@jupyter-widgets/controls",
     "model_module_version": "1.5.0",
     "model_name": "FloatProgressModel",
     "state": {
      "_dom_classes": [],
      "_model_module": "@jupyter-widgets/controls",
      "_model_module_version": "1.5.0",
      "_model_name": "FloatProgressModel",
      "_view_count": null,
      "_view_module": "@jupyter-widgets/controls",
      "_view_module_version": "1.5.0",
      "_view_name": "ProgressView",
      "bar_style": "success",
      "description": "",
      "description_tooltip": null,
      "layout": "IPY_MODEL_9e39b1e51c944d72ba996891058c5027",
      "max": 650,
      "min": 0,
      "orientation": "horizontal",
      "style": "IPY_MODEL_65dba7559cd64441afb9839e15121fd3",
      "value": 650
     }
    },
    "fa4685f6b13e4b8f92bec391cfda4258": {
     "model_module": "@jupyter-widgets/base",
     "model_module_version": "1.2.0",
     "model_name": "LayoutModel",
     "state": {
      "_model_module": "@jupyter-widgets/base",
      "_model_module_version": "1.2.0",
      "_model_name": "LayoutModel",
      "_view_count": null,
      "_view_module": "@jupyter-widgets/base",
      "_view_module_version": "1.2.0",
      "_view_name": "LayoutView",
      "align_content": null,
      "align_items": null,
      "align_self": null,
      "border": null,
      "bottom": null,
      "display": null,
      "flex": null,
      "flex_flow": null,
      "grid_area": null,
      "grid_auto_columns": null,
      "grid_auto_flow": null,
      "grid_auto_rows": null,
      "grid_column": null,
      "grid_gap": null,
      "grid_row": null,
      "grid_template_areas": null,
      "grid_template_columns": null,
      "grid_template_rows": null,
      "height": null,
      "justify_content": null,
      "justify_items": null,
      "left": null,
      "margin": null,
      "max_height": null,
      "max_width": null,
      "min_height": null,
      "min_width": null,
      "object_fit": null,
      "object_position": null,
      "order": null,
      "overflow": null,
      "overflow_x": null,
      "overflow_y": null,
      "padding": null,
      "right": null,
      "top": null,
      "visibility": null,
      "width": null
     }
    }
   }
  }
 },
 "nbformat": 4,
 "nbformat_minor": 5
}
